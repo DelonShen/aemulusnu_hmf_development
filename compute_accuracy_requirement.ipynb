{
 "cells": [
  {
   "cell_type": "code",
   "execution_count": 1,
   "id": "b58d15c6",
   "metadata": {},
   "outputs": [],
   "source": [
    "# first we get the measured mass function\n",
    "# then we use central differences to compute $d^2 \\ln N / d \\ln M^2$\n",
    "# from there we plug into mass calibiration formula"
   ]
  },
  {
   "cell_type": "code",
   "execution_count": 2,
   "id": "452c6fc5",
   "metadata": {},
   "outputs": [],
   "source": [
    "from utils import *\n",
    "from massfunction import *\n",
    "\n",
    "import numpy as np\n",
    "from tqdm import tqdm, trange\n",
    "import matplotlib.pyplot as plt\n",
    "import os\n",
    "import emcee\n",
    "import sys\n",
    "import numpy as np\n",
    "import pickle"
   ]
  },
  {
   "cell_type": "code",
   "execution_count": 3,
   "id": "de999278",
   "metadata": {},
   "outputs": [],
   "source": [
    "cosmos_f = open('data/cosmo_params.pkl', 'rb')\n",
    "cosmo_params = pickle.load(cosmos_f) #cosmo_params is a dict\n",
    "cosmos_f.close()"
   ]
  },
  {
   "cell_type": "code",
   "execution_count": 4,
   "id": "ac76e080",
   "metadata": {},
   "outputs": [
    {
     "name": "stdout",
     "output_type": "stream",
     "text": [
      "alist [1.0, 0.953321, 0.866399, 0.787402, 0.715608, 0.65036, 0.620002, 0.591061, 0.563471, 0.537169, 0.512095, 0.488191, 0.403224, 0.366459]\n"
     ]
    }
   ],
   "source": [
    "a_list_fname = '/oak/stanford/orgs/kipac/users/delon/aemulusnu_massfunction/alist.pkl'\n",
    "a_list_f = open(a_list_fname, 'rb')\n",
    "a_list = pickle.load(a_list_f) \n",
    "a_list_f.close()\n",
    "\n",
    "###TEMP\n",
    "# a_list = [a_list[0], a_list[1]]\n",
    "#######\n",
    "print('alist', a_list)"
   ]
  },
  {
   "cell_type": "code",
   "execution_count": 5,
   "id": "8a057632",
   "metadata": {},
   "outputs": [
    {
     "name": "stderr",
     "output_type": "stream",
     "text": [
      "100%|██████████| 150/150 [00:02<00:00, 62.42it/s]\n"
     ]
    }
   ],
   "source": [
    "weird_boxes = ['Box63_1400', 'Box35_1400', 'Box_n50_38_1400', 'Box5_1400']\n",
    "measured_N = {box:{a:{} for a in a_list} for box in cosmo_params if box not in weird_boxes} \n",
    "\n",
    "\n",
    "for box in tqdm(cosmo_params):\n",
    "    if(box in weird_boxes):\n",
    "        continue\n",
    "#     if('n50' in box and eval(box.split('_')[-2])>=42):\n",
    "#         print('skippinig', box)\n",
    "#         continue\n",
    "#     if('n50' in box or eval(box.split('_')[0][3:]) >= 73):\n",
    "#         print('ski', box)\n",
    "    for a in a_list:\n",
    "        plot_data = None\n",
    "        try:\n",
    "            with open(\"/scratch/users/delon/aemulusnu_massfunction/%s_%.2f_NvMemulator_loo_output.pkl\"%(box, a), \"rb\") as f:\n",
    "                plot_data = pickle.load(f)\n",
    "        except:\n",
    "            print('skipiping', box)\n",
    "            continue\n",
    "        model = plot_data['tinker_eval']\n",
    "        true  = plot_data['N']\n",
    "        edges = plot_data['edges']\n",
    "        measured_N[box][a] = [true, edges]"
   ]
  },
  {
   "cell_type": "code",
   "execution_count": 186,
   "id": "a4a2b5a3",
   "metadata": {},
   "outputs": [
    {
     "name": "stdout",
     "output_type": "stream",
     "text": [
      "[1.0, 0.953321, 0.866399, 0.787402, 0.715608, 0.65036, 0.620002, 0.591061, 0.563471, 0.537169, 0.512095, 0.488191, 0.403224, 0.366459]\n"
     ]
    }
   ],
   "source": [
    "print(a_list)"
   ]
  },
  {
   "cell_type": "code",
   "execution_count": 318,
   "id": "d4531f4b",
   "metadata": {},
   "outputs": [
    {
     "name": "stdout",
     "output_type": "stream",
     "text": [
      "0.26999931420037027\n",
      "[12.9 13.  13.1 13.2 13.3 13.4 13.5 13.6 13.7 13.8 13.9 14.  14.1 14.2\n",
      " 14.3 14.4 14.5 14.6 14.7 14.8 14.9 15.  15.1 15.5]\n",
      "[12.9 13.  13.1 13.2 13.3 13.4 13.5 13.6 13.7 13.8 13.9 14.  14.1 14.2\n",
      " 14.3 14.4 14.5 14.6 14.7 14.8 14.9 15.  15.1]\n",
      "[0.23025851 0.23025851 0.23025851 0.23025851 0.23025851 0.23025851\n",
      " 0.23025851 0.23025851 0.23025851 0.23025851 0.23025851 0.23025851\n",
      " 0.23025851 0.23025851 0.23025851 0.23025851 0.23025851 0.23025851\n",
      " 0.23025851 0.23025851 0.23025851 0.23025851]\n",
      "[         nan  -0.42708586  -0.23426354   0.32011439  -0.34910446\n",
      "  -0.17163128  -0.36619219   0.18371166  -0.33861128  -0.57409372\n",
      "  -1.15582842   0.97488416  -0.34215955  -1.12357717  -0.78598841\n",
      "  -0.18614609  -2.04475692   0.07960168  -1.10605775  -0.32885553\n",
      " -10.87685811          nan]\n"
     ]
    },
    {
     "data": {
      "image/png": "[encoded data removed]",
      "text/plain": [
       "<Figure size 432x288 with 1 Axes>"
      ]
     },
     "metadata": {
      "needs_background": "light"
     },
     "output_type": "display_data"
    },
    {
     "data": {
      "image/png": "[encoded data removed]",
      "text/plain": [
       "<Figure size 432x288 with 1 Axes>"
      ]
     },
     "metadata": {
      "needs_background": "light"
     },
     "output_type": "display_data"
    }
   ],
   "source": [
    "curr_box = 'Box_n50_0_1400'\n",
    "curr_a = a_list[3]\n",
    "curr_z = scaleToRedshift(curr_a)\n",
    "print(curr_z)\n",
    "\n",
    "curr_N, curr_edges = measured_N[curr_box][curr_a]\n",
    "\n",
    "print(np.log10(curr_edges))\n",
    "curr_N = curr_N[:-1]\n",
    "curr_edges = curr_edges[:-1]\n",
    "print(np.log10(curr_edges))\n",
    "\n",
    "curr_logedges = np.log(curr_edges)\n",
    "print(np.diff(curr_logedges))\n",
    "curr_log10edges =  np.log10(curr_edges)\n",
    "\n",
    "curr_logN = np.log(curr_N)\n",
    "\n",
    "fig, ax = plt.subplots(nrows=1, ncols=1)\n",
    "plt.xscale('log')\n",
    "plt.yscale('log')\n",
    "ax.step(curr_edges, curr_N+[curr_N[-1]], where='post', linewidth=0.8)\n",
    "\n",
    "fig, ax = plt.subplots(nrows=1, ncols=1)\n",
    "ax.step(curr_log10edges, np.append(curr_logN,[curr_logN[-1]]), where='post', linewidth=0.8)\n",
    "\n",
    "# Convert edges to bin centers\n",
    "bin_centers = (curr_logedges[1:] + curr_logedges[:-1]) / 2\n",
    "\n",
    "# Compute the width of a bin\n",
    "delta_logM = curr_logedges[1] - curr_logedges[0]\n",
    "# print(delta_logM)\n",
    "\n",
    "\n",
    "####TEST\n",
    "# X = np.linspace(0,10,1000)\n",
    "# curr_logN = np.array(list(map(lambda x:np.sin(x), X)))\n",
    "# delta_logM = X[1]-X[0]\n",
    "# ########\n",
    "\n",
    "\n",
    "# Compute first derivative using central differences\n",
    "first_derivative = (curr_logN[2:] - curr_logN[:-2]) / (2 * delta_logM)\n",
    "\n",
    "# Compute second derivative using central differences\n",
    "second_derivative = (curr_logN[2:] - 2 * curr_logN[1:-1] + curr_logN[:-2]) / (delta_logM**2)\n",
    "\n",
    "# The second_derivative array is shorter than the original bins array by 2\n",
    "# If we want them to be the same size, we can add np.nan to both ends\n",
    "second_derivative = np.concatenate([[np.nan], second_derivative, [np.nan]])\n",
    "print(second_derivative)\n",
    "\n",
    "###TEST\n",
    "# plt.show()\n",
    "# plt.plot(X, -curr_logN)\n",
    "# plt.scatter(X, second_derivative, s=1, marker='x', color='red')\n",
    "#######"
   ]
  },
  {
   "cell_type": "code",
   "execution_count": 319,
   "id": "1fdfab8b",
   "metadata": {},
   "outputs": [
    {
     "data": {
      "text/plain": [
       "[<matplotlib.lines.Line2D at 0x7fa88529d340>]"
      ]
     },
     "execution_count": 319,
     "metadata": {},
     "output_type": "execute_result"
    },
    {
     "data": {
      "image/png": "[encoded data removed]",
      "text/plain": [
       "<Figure size 432x288 with 1 Axes>"
      ]
     },
     "metadata": {
      "needs_background": "light"
     },
     "output_type": "display_data"
    }
   ],
   "source": [
    "fig, ax = plt.subplots(nrows=1, ncols=1)\n",
    "ax.step(curr_logedges, np.append(second_derivative,[second_derivative[-1]]), where='post', linewidth=0.8)"
   ]
  },
  {
   "cell_type": "code",
   "execution_count": 291,
   "id": "d73a7fd5",
   "metadata": {},
   "outputs": [
    {
     "name": "stdout",
     "output_type": "stream",
     "text": [
      "{'d': 0.5001480285857915, 'e': 1.1851140200996846, 'f': 2.332368872235302, 'g': 1.2856144862094576}\n"
     ]
    }
   ],
   "source": [
    "with open(\"/oak/stanford/orgs/kipac/users/delon/aemulusnu_massfunction/%s_%.2f_params.pkl\"%(curr_box, curr_a), \"rb\") as f:\n",
    "    MLE_params = pickle.load(f)\n",
    "print(MLE_params)\n",
    "\n",
    "NvM_fname = '/oak/stanford/orgs/kipac/users/delon/aemulusnu_massfunction/'+curr_box+'_NvsM.pkl'\n",
    "NvM_f = open(NvM_fname, 'rb')\n",
    "NvMs = pickle.load(NvM_f) #NvMs is a dictionary of dictionaries\n",
    "NvM_f.close()\n",
    "c_data = NvMs[curr_a]\n",
    "vol = c_data['vol']\n",
    "\n",
    "mass_function = MassFunction(cosmo_params[curr_box])\n",
    "mass_function.compute_dlnsinvdM(curr_a)\n",
    "param_names = ['d','e','f','g']\n",
    "c_params = MLE_params\n",
    "M_numerics = np.logspace(12, 17, 50)\n",
    "\n",
    "tinker_eval = [mass_function.tinker(a, M_c, **c_params,)*vol for M_c in M_numerics]\n",
    "# f_dlogNdlogM =  interp1d(np.log(M_numerics), np.log(tinker_eval), kind='linear', \n",
    "#                         bounds_error=False, fill_value=0.)\n",
    "\n",
    "from scipy.interpolate import UnivariateSpline\n",
    "\n",
    "# Fit spline to data\n",
    "spline = UnivariateSpline(np.log(M_numerics), np.log(tinker_eval), k=3, s=0)\n",
    "\n",
    "# Define second derivative function\n",
    "def fd2logNdlogM22(x):\n",
    "    return spline.derivative(n=1)(x)\n",
    "\n",
    "# Now second_derivative is a function you can call with a value for 'x' to get the second derivative at that point."
   ]
  },
  {
   "cell_type": "code",
   "execution_count": 320,
   "id": "75d75079",
   "metadata": {},
   "outputs": [
    {
     "data": {
      "text/plain": [
       "<matplotlib.legend.Legend at 0x7fa885201d00>"
      ]
     },
     "execution_count": 320,
     "metadata": {},
     "output_type": "execute_result"
    },
    {
     "data": {
      "image/png": "[encoded data removed]",
      "text/plain": [
       "<Figure size 432x288 with 1 Axes>"
      ]
     },
     "metadata": {
      "needs_background": "light"
     },
     "output_type": "display_data"
    }
   ],
   "source": [
    "plt.plot(np.log(M_numerics), np.log(tinker_eval), label='data')\n",
    "plt.scatter(np.log(M_numerics), np.array(list(map(spline, np.log(M_numerics)))), label='spline', s=2)\n",
    "plt.plot(np.log(M_numerics), np.array(list(map(fd2logNdlogM22, np.log(M_numerics)))), label='deriv of mass function')\n",
    "\n",
    "plt.legend(frameon=False)"
   ]
  },
  {
   "cell_type": "code",
   "execution_count": 323,
   "id": "2966663f",
   "metadata": {},
   "outputs": [
    {
     "data": {
      "text/plain": [
       "<matplotlib.legend.Legend at 0x7fa885242a00>"
      ]
     },
     "execution_count": 323,
     "metadata": {},
     "output_type": "execute_result"
    },
    {
     "data": {
      "image/png": "[encoded data removed]",
      "text/plain": [
       "<Figure size 432x288 with 1 Axes>"
      ]
     },
     "metadata": {
      "needs_background": "light"
     },
     "output_type": "display_data"
    },
    {
     "data": {
      "image/png": "[encoded data removed]",
      "text/plain": [
       "<Figure size 432x288 with 1 Axes>"
      ]
     },
     "metadata": {
      "needs_background": "light"
     },
     "output_type": "display_data"
    }
   ],
   "source": [
    "from scipy.ndimage import gaussian_filter1d\n",
    "\n",
    "# Set the standard deviation for Gaussian smoothing\n",
    "sigma = 1\n",
    "\n",
    "# Apply Gaussian smoothing\n",
    "smooth_logN = gaussian_filter1d(curr_logN, sigma)\n",
    "\n",
    "fig, ax = plt.subplots(nrows=1, ncols=1)\n",
    "ax.step(curr_logedges, np.append(smooth_logN, [smooth_logN[-1]]), where='post', linewidth=0.8, label='smooted N vs M')\n",
    "ax.step(curr_logedges, np.append(curr_logN,[curr_logN[-1]]), where='post', linewidth=0.8, label='original N vs M')\n",
    "plt.legend(frameon=False)\n",
    "\n",
    "# Compute first derivative using central differences on the smoothed data\n",
    "smooth_first_derivative = (smooth_logN[2:] - smooth_logN[:-2]) / (2 * delta_logM)\n",
    "\n",
    "# Compute second derivative using central differences on the smoothed data\n",
    "smooth_second_derivative = (smooth_logN[2:] - 2 * smooth_logN[1:-1] + smooth_logN[:-2]) / (delta_logM**2)\n",
    "\n",
    "# The second_derivative array is shorter than the original bins array by 2\n",
    "# If we want them to be the same size, we can add np.nan to both ends\n",
    "smooth_second_derivative = np.concatenate([[np.nan], smooth_second_derivative, [np.nan]])\n",
    "\n",
    "fig, ax = plt.subplots(nrows=1, ncols=1)\n",
    "ax.step(curr_logedges, np.append(smooth_second_derivative, [smooth_second_derivative[-1]]), where='post', linewidth=0.8, label='smooted second deriv')\n",
    "ax.step(curr_logedges, np.append(second_derivative,[second_derivative[-1]]), where='post', linewidth=0.8, label='discretet second deriv')\n",
    "\n",
    "# plt.plot(np.log(M_numerics), np.log(tinker_eval), label='data')\n",
    "# plt.scatter(np.log(M_numerics), np.array(list(map(spline, np.log(M_numerics)))), label='spline', s=2)\n",
    "plt.plot(np.log(M_numerics), np.array(list(map(fd2logNdlogM22, np.log(M_numerics)))), label='deriv of mass function')\n",
    "\n",
    "\n",
    "plt.legend(frameon=False)\n",
    "\n"
   ]
  },
  {
   "cell_type": "code",
   "execution_count": 324,
   "id": "148bcdeb",
   "metadata": {},
   "outputs": [
    {
     "name": "stdout",
     "output_type": "stream",
     "text": [
      "0.2302585092994036 0.2302585092994046\n",
      "8912509381337.46\n",
      "1.0655726787165179e-06 0.001514402508105134\n",
      "4.435599466736805e+50\n",
      "0.2302585092994036 0.2302585092994046\n",
      "11220184543019.63\n",
      "1.3156812762108382e-06 0.0013237590363561912\n",
      "9.741950011480783e+50\n",
      "0.2302585092994036 0.2302585092994046\n",
      "14125375446227.525\n",
      "1.6616988793918186e-06 0.001183615300327899\n",
      "2.1888973014479928e+51\n",
      "0.2302585092994036 0.2302585092994046\n",
      "17782794100389.188\n",
      "2.1249468763280923e-06 0.0010715349002446712\n",
      "4.980491928814874e+51\n",
      "0.2302585092994036 0.2302585092994046\n",
      "22387211385683.324\n",
      "2.6716091435822943e-06 0.0009537425635563269\n",
      "1.1144267604518144e+52\n",
      "0.2302585092994036 0.2302585092994046\n",
      "28183829312644.42\n",
      "3.4216547978015875e-06 0.0008647576966792799\n",
      "2.541060361031372e+52\n",
      "0.2302585092994036 0.2302585092994046\n",
      "35481338923357.37\n",
      "4.422332780541737e-06 0.0007912426042568657\n",
      "5.849729029942796e+52\n",
      "0.2302585092994036 0.2302585092994046\n",
      "44668359215096.04\n",
      "5.827718084137681e-06 0.0007381706580154984\n",
      "1.3739708429567209e+53\n",
      "0.2302585092994036 0.2302585092994046\n",
      "56234132519034.516\n",
      "7.605285673543114e-06 0.000681983355592327\n",
      "3.1988629091946626e+53\n",
      "0.2302585092994036 0.2302585092994046\n",
      "70794578438413.48\n",
      "1.010483769104459e-05 0.0006414865952398427\n",
      "7.592431714941882e+53\n",
      "0.2302585092994036 0.2302585092994046\n",
      "89125093813374.08\n",
      "1.3840830449826992e-05 0.000622042978382736\n",
      "1.8611582250866935e+54\n",
      "0.2302585092994036 0.2302585092994046\n",
      "112201845430195.64\n",
      "2.0156210632401113e-05 0.0006413087000694062\n",
      "4.863090366705709e+54\n",
      "0.2302585092994036 0.2302585092994046\n",
      "141253754462274.4\n",
      "2.787456445993032e-05 0.000627865086167331\n",
      "1.210980009469675e+55\n",
      "0.2302585092994036 0.2302585092994046\n",
      "177827941003890.8\n",
      "3.9254170755642794e-05 0.0006259563520233557\n",
      "3.085777724269672e+55\n",
      "0.2302585092994036 0.2302585092994046\n",
      "223872113856831.9\n",
      "5.867253392005868e-05 0.0006623584608364557\n",
      "8.401550903499997e+55\n",
      "0.2302585092994036 0.2302585092994046\n",
      "281838293126442.5\n",
      "9.142857142857145e-05 0.0007307018005906371\n",
      "2.406280334119589e+56\n",
      "0.2302585092994036 0.2302585092994046\n",
      "354813389233571.5\n",
      "0.00014388489208633096 0.0008140919099798313\n",
      "7.0430459458791724e+56\n",
      "0.2302585092994036 0.2302585092994046\n",
      "446683592150957.75\n",
      "0.00025236593059936916 0.0010108552438136533\n",
      "2.3328398523572147e+57\n",
      "0.2302585092994036 0.2302585092994046\n",
      "562341325190341.75\n",
      "0.000440771349862259 0.0012498894467675547\n",
      "7.842635146155741e+57\n",
      "0.2302585092994036 0.2302585092994046\n",
      "707945784384128.0\n",
      "0.000816326530612245 0.0016387856592707598\n",
      "2.8607300084346896e+58\n",
      "0.2302585092994036 0.2302585092994046\n",
      "891250938133732.2\n",
      "0.0015384615384615387 0.0021864768673271495\n",
      "1.0902463084589625e+59\n",
      "0.2302585092994036 0.2302585092994046\n",
      "1122018454301945.6\n",
      "0.005161290322580646 0.005192978593912263\n",
      "7.612459044684811e+59\n"
     ]
    }
   ],
   "source": [
    "# now lets compute $\\sigma^2_{\\ln N} \n",
    "curr_Mcenters = [np.exp(bin_center) for bin_center in bin_centers]\n",
    "\n",
    "A = 0.7*10**(22)\n",
    "n0 = 6.3\n",
    "zs = 0.5\n",
    "\n",
    "curr_mass_calibration_uncertainty = []\n",
    "\n",
    "\n",
    "SNs = []\n",
    "SVs = []\n",
    "for i in range(len(bin_centers)):\n",
    "    ΔlogM = delta_logM\n",
    "    print(ΔlogM, 0.1 * np.log(10))\n",
    "    NinBin = curr_N[i]\n",
    "    Mcenter = curr_Mcenters[i]\n",
    "    α = fd2logNdlogM22(Mcenter)\n",
    "\n",
    "    print(Mcenter)\n",
    "    SV = (0.4)**2/NinBin \n",
    "    SN = 1/(Mcenter)**2 * (A*Mcenter**(1/2))/NinBin * 6.3/n0 * np.exp(-1/2 * curr_z**2/ zs**2)\n",
    "    print(SV, SN)\n",
    "    SNs += [SN]\n",
    "    SVs += [SV]\n",
    "    mass_calibration_uncertainty_in_bin = (α * ΔlogM)**2 * (SV + SN)\n",
    "    print(mass_calibration_uncertainty_in_bin)\n",
    "    curr_mass_calibration_uncertainty += [0.1*(mass_calibration_uncertainty_in_bin)]"
   ]
  },
  {
   "cell_type": "code",
   "execution_count": 328,
   "id": "374cf3ae",
   "metadata": {},
   "outputs": [],
   "source": [
    "# now lets compute $\\sigma^2_{\\ln N} \n",
    "curr_Mcenters = [np.exp(bin_center) for bin_center in bin_centers]\n",
    "\n",
    "A = 0.7*10**(22)\n",
    "\n",
    "n0 = {'DES Y1': 6.3, 'DES Y5':8.4, 'LSST Y1':10}\n",
    "zs = {'DES Y1': 0.5, 'DES Y5':0.6, 'LSST Y1':0.85}\n",
    "\n",
    "curr_mass_calibration_uncertainty = {'DES Y1': [], 'DES Y5': [], 'LSST Y1': []}\n",
    "\n",
    "\n",
    "SNs = []\n",
    "SVs = []\n",
    "for key in curr_mass_calibration_uncertainty:\n",
    "    for i in range(len(bin_centers)):\n",
    "\n",
    "        ΔlogM = delta_logM\n",
    "#         print(ΔlogM, 0.1 * np.log(10))\n",
    "        NinBin = curr_N[i]\n",
    "        Mcenter = curr_Mcenters[i]\n",
    "        α = fd2logNdlogM22(np.log(Mcenter))\n",
    "\n",
    "#         print(np.log10(Mcenter))\n",
    "#         print(Mcenter)\n",
    "        SV = (0.4)**2/NinBin \n",
    "        SN = 1/(Mcenter)**2 * (A*Mcenter**(1/2))/NinBin * 6.3/n0[key] * np.exp(-1/2 * curr_z**2/ zs[key]**2)\n",
    "#         print(SV, SN)\n",
    "        if(key == 'DES Y1'):\n",
    "            SNs += [SN]\n",
    "            SVs += [SV]\n",
    "        mass_calibration_uncertainty_in_bin = (α * ΔlogM)**2 * (SV + SN)\n",
    "#         print(mass_calibration_uncertainty_in_bin)\n",
    "        curr_mass_calibration_uncertainty[key] += [0.1*(mass_calibration_uncertainty_in_bin)]"
   ]
  },
  {
   "cell_type": "code",
   "execution_count": 329,
   "id": "aee38eec",
   "metadata": {
    "scrolled": true
   },
   "outputs": [
    {
     "data": {
      "text/plain": [
       "<matplotlib.legend.Legend at 0x7fa89668e9a0>"
      ]
     },
     "execution_count": 329,
     "metadata": {},
     "output_type": "execute_result"
    },
    {
     "data": {
      "image/png": "[encoded data removed]",
      "text/plain": [
       "<Figure size 432x288 with 1 Axes>"
      ]
     },
     "metadata": {
      "needs_background": "light"
     },
     "output_type": "display_data"
    }
   ],
   "source": [
    "plt.plot(bin_centers, SVs, 'k--', label='sample var')\n",
    "plt.plot(bin_centers, SNs, label='shape noise')\n",
    "\n",
    "plt.yscale('log')\n",
    "plt.legend(frameon=False)"
   ]
  },
  {
   "cell_type": "code",
   "execution_count": 330,
   "id": "6b965793",
   "metadata": {
    "scrolled": true
   },
   "outputs": [
    {
     "data": {
      "text/plain": [
       "<matplotlib.legend.Legend at 0x7fa89b073880>"
      ]
     },
     "execution_count": 330,
     "metadata": {},
     "output_type": "execute_result"
    },
    {
     "data": {
      "image/png": "[encoded data removed]",
      "text/plain": [
       "<Figure size 432x288 with 1 Axes>"
      ]
     },
     "metadata": {
      "needs_background": "light"
     },
     "output_type": "display_data"
    }
   ],
   "source": [
    "fig, ax = plt.subplots(nrows=1, ncols=1)\n",
    "for key in curr_mass_calibration_uncertainty:\n",
    "    ax.step(curr_log10edges, np.sqrt(np.append(curr_mass_calibration_uncertainty[key], [curr_mass_calibration_uncertainty[key][-1]])), where='post', linewidth=0.8, label=key)\n",
    "plt.yscale('log')\n",
    "plt.legend(frameon=False)"
   ]
  },
  {
   "cell_type": "code",
   "execution_count": 337,
   "id": "b6cbc892",
   "metadata": {},
   "outputs": [],
   "source": [
    "curr_box = 'Box_n50_0_1400'\n",
    "curr_a = a_list[3]\n",
    "\n",
    "def get_accuracy_requirement(curr_box, curr_a):\n",
    "    \n",
    "    \n",
    "    \n",
    "    with open(\"/oak/stanford/orgs/kipac/users/delon/aemulusnu_massfunction/%s_%.2f_params.pkl\"%(curr_box, curr_a), \"rb\") as f:\n",
    "        MLE_params = pickle.load(f)\n",
    "\n",
    "    NvM_fname = '/oak/stanford/orgs/kipac/users/delon/aemulusnu_massfunction/'+curr_box+'_NvsM.pkl'\n",
    "    NvM_f = open(NvM_fname, 'rb')\n",
    "    NvMs = pickle.load(NvM_f) #NvMs is a dictionary of dictionaries\n",
    "    NvM_f.close()\n",
    "    c_data = NvMs[curr_a]\n",
    "    vol = c_data['vol']\n",
    "\n",
    "    mass_function = MassFunction(cosmo_params[curr_box])\n",
    "    with open(\"/oak/stanford/orgs/kipac/users/delon/aemulusnu_massfunction/%s_massfunction.pkl\"%(curr_box), \"rb\") as f:\n",
    "        tmp = pickle.load(f)\n",
    "        mass_function.dlnσinvdMs = tmp[0]\n",
    "        mass_function.Pka = tmp[1]\n",
    "\n",
    "#     mass_function.compute_dlnsinvdM(curr_a)\n",
    "    param_names = ['d','e','f','g']\n",
    "    c_params = MLE_params\n",
    "    M_numerics = np.logspace(12, 17, 50)\n",
    "\n",
    "    tinker_eval = [mass_function.tinker(a, M_c, **c_params,)*vol for M_c in M_numerics]\n",
    "    # f_dlogNdlogM =  interp1d(np.log(M_numerics), np.log(tinker_eval), kind='linear', \n",
    "    #                         bounds_error=False, fill_value=0.)\n",
    "\n",
    "    from scipy.interpolate import UnivariateSpline\n",
    "\n",
    "    # Fit spline to data\n",
    "    spline = UnivariateSpline(np.log(M_numerics), np.log(tinker_eval), k=3, s=0)\n",
    "\n",
    "    # Define second derivative function\n",
    "    def fd2logNdlogM2(x):\n",
    "        return spline.derivative(n=1)(x)\n",
    "\n",
    "    \n",
    "    curr_z = scaleToRedshift(curr_a)\n",
    "\n",
    "    curr_N, curr_edges = measured_N[curr_box][curr_a]\n",
    "\n",
    "    curr_N = curr_N[:-1]\n",
    "    curr_edges = curr_edges[:-1]\n",
    "\n",
    "    curr_logedges = np.log(curr_edges)\n",
    "    curr_logN = np.log(curr_N)\n",
    "\n",
    "    # Convert edges to bin centers\n",
    "    bin_centers = (curr_logedges[1:] + curr_logedges[:-1]) / 2\n",
    "\n",
    "    # Compute the width of a bin\n",
    "    delta_logM = curr_logedges[1] - curr_logedges[0]\n",
    "\n",
    "    # Compute first derivative using central differences\n",
    "    first_derivative = (curr_logN[2:] - curr_logN[:-2]) / (2 * delta_logM)\n",
    "\n",
    "    # Compute second derivative using central differences\n",
    "    second_derivative = (curr_logN[2:] - 2 * curr_logN[1:-1] + curr_logN[:-2]) / (delta_logM**2)\n",
    "\n",
    "    # The second_derivative array is shorter than the original bins array by 2\n",
    "    # If we want them to be the same size, we can add np.nan to both ends\n",
    "    second_derivative = np.concatenate([[np.nan], second_derivative, [np.nan]])\n",
    "\n",
    "    # now lets compute $\\sigma^2_{\\ln N} \n",
    "    curr_Mcenters = [np.exp(bin_center) for bin_center in bin_centers]\n",
    "\n",
    "    A = 0.7e22\n",
    "\n",
    "    n0 = {'DES Y1': 6.3, 'DES Y5':8.4, 'LSST Y1':10}\n",
    "    zs = {'DES Y1': 0.5, 'DES Y5':0.6, 'LSST Y1':0.85}\n",
    "\n",
    "    curr_mass_calibration_uncertainty = {'DES Y1': [], 'DES Y5': [], 'LSST Y1': []}\n",
    "\n",
    "\n",
    "    SNs = []\n",
    "    SVs = []\n",
    "    for key in curr_mass_calibration_uncertainty:\n",
    "        for i in range(len(bin_centers)):\n",
    "            ΔlogM = delta_logM\n",
    "            NinBin = curr_N[i]\n",
    "            Mcenter = curr_Mcenters[i]\n",
    "            α = fd2logNdlogM2(np.log(Mcenter))\n",
    "\n",
    "            SV = (0.4)**2/NinBin \n",
    "            SN = 1/(Mcenter)**2 * (A*Mcenter**(1/2))/NinBin * 6.3/n0[key] * np.exp(-1/2 * curr_z**2/ zs[key]**2)\n",
    "            mass_calibration_uncertainty_in_bin = (α * ΔlogM)**2 * (SV + SN)\n",
    "            curr_mass_calibration_uncertainty[key] += [np.sqrt(0.1*(mass_calibration_uncertainty_in_bin))]\n",
    "    return curr_mass_calibration_uncertainty"
   ]
  },
  {
   "cell_type": "code",
   "execution_count": 338,
   "id": "50fc8547",
   "metadata": {},
   "outputs": [
    {
     "name": "stderr",
     "output_type": "stream",
     "text": [
      "100%|██████████| 150/150 [17:07<00:00,  6.85s/it]\n"
     ]
    }
   ],
   "source": [
    "accuracy_requirements = {'DES Y1':{a:{} for a in a_list}, 'DES Y5':{a:{} for a in a_list}, 'LSST Y1':{a:{} for a in a_list}}\n",
    "\n",
    "\n",
    "# for curr_box in ['Box_n50_0_1400']:\n",
    "for curr_box in tqdm(cosmo_params):\n",
    "    if(curr_box in weird_boxes):\n",
    "        continue\n",
    "    curr_N, curr_edges = measured_N[curr_box][a_list[3]]\n",
    "    curr_accuracy_requirement = get_accuracy_requirement(curr_box, a_list[3])\n",
    "    for key in curr_accuracy_requirement:\n",
    "        for ledge, redge, required_accuracy in zip(np.log10(curr_edges), np.log10(curr_edges[1:]), curr_accuracy_requirement[key]):\n",
    "            ledge = np.round(ledge, decimals=1)\n",
    "            redge = np.round(redge, decimals=1)\n",
    "            if((ledge, redge) not in accuracy_requirements[key][a]):\n",
    "                accuracy_requirements[key][a][(ledge, redge)] = []\n",
    "            if(not np.isnan(required_accuracy)):\n",
    "                accuracy_requirements[key][a][(ledge, redge)] += [required_accuracy]\n"
   ]
  },
  {
   "cell_type": "code",
   "execution_count": 339,
   "id": "fc81b712",
   "metadata": {},
   "outputs": [
    {
     "name": "stdout",
     "output_type": "stream",
     "text": [
      "[0.013488892711057255, 0.009281708442908172, 0.007930709634298178, 0.006119803819812245, 0.005685285520455738, 0.005248695514549775, 0.005001412272360825, 0.004865838516471797, 0.004684719940532184, 0.004612435036131651, 0.0046000159688666725, 0.004622063923121291, 0.004611354140807381, 0.0047330817919803096, 0.00486392505029645, 0.005162494277169961, 0.005488068320858621, 0.0061331520938161495, 0.0068769134860301746, 0.007833838276537372, 0.00935936652571704, 0.01138238538473794, 0.014518748987340006, 0.018472923190800076, 0.021481822917031313, 0.01907896593427441, 0.0204657274105798, 0.020122722315594883, 0.025275096030636466]\n",
      "\n",
      "[0.01194526281720265, 0.008219652978454412, 0.007023382099486603, 0.005419809382949898, 0.0050351928355353405, 0.004648786975912172, 0.00443011912016683, 0.004310514105875815, 0.0041507210791579, 0.004087583974878479, 0.00407785220035491, 0.004099195161801565, 0.004092209498417479, 0.004203833693375944, 0.0043251880742885135, 0.004598222047408233, 0.004899170201480113, 0.005491588570504036, 0.0061822278867320855, 0.007079055395743541, 0.008512839898932626, 0.010434843501333968, 0.01343225297085976, 0.017263142595664385, 0.020285866881222706, 0.018202338162640476, 0.019711460182178443, 0.019543087483402097, 0.02471869704794486]\n",
      "\n",
      "[0.011229890007104464, 0.007727464584678325, 0.006602906217474981, 0.005095423860575872, 0.0047339422772782755, 0.004370804478682054, 0.004165413618859328, 0.0040532314078465335, 0.003903350755466557, 0.0038444958531054403, 0.003836071026123977, 0.003857175063104246, 0.0038520347009999047, 0.003959157240276312, 0.004076368136088466, 0.004337958733496116, 0.004628045679900273, 0.005196943342668095, 0.005864219582195927, 0.006734976495460748, 0.00812894402074375, 0.010007816706519743, 0.012946100646999616, 0.016726027541439776, 0.0197591199088869, 0.017819214991230344, 0.019384141036902905, 0.019293093928198272, 0.024479946807914897]\n",
      "\n"
     ]
    },
    {
     "name": "stderr",
     "output_type": "stream",
     "text": [
      "/tmp/ipykernel_4164/1235821153.py:26: UserWarning: Attempt to set non-positive ylim on a log-scaled axis will be ignored.\n",
      "  ax.set_ylim([0,0.199])\n"
     ]
    },
    {
     "data": {
      "text/plain": [
       "(0.001, 1.0)"
      ]
     },
     "execution_count": 339,
     "metadata": {},
     "output_type": "execute_result"
    },
    {
     "data": {
      "image/png": "[encoded data removed]",
      "text/plain": [
       "<Figure size 864x864 with 1 Axes>"
      ]
     },
     "metadata": {
      "needs_background": "light"
     },
     "output_type": "display_data"
    }
   ],
   "source": [
    "a = a_list[3]\n",
    "fig, ax = plt.subplots(nrows=1, ncols=1, figsize=(12,12))\n",
    "\n",
    "for key in accuracy_requirements:\n",
    "    curr_bin_accuracy_req = []\n",
    "    edges = []\n",
    "    for bins in sorted(accuracy_requirements[key][a]):\n",
    "        if(bins[1]-bins[0] > 0.15): #ignore adaptive bins\n",
    "            continue\n",
    "        if(bins[0] not in edges):\n",
    "            edges+=[(bins[0])]\n",
    "        if(bins[1] not in edges):\n",
    "            edges+=[(bins[1])]\n",
    "        curr_bin_accuracy_req += [np.median(accuracy_requirements[key][a][bins])]\n",
    "    print(curr_bin_accuracy_req)\n",
    "    print()\n",
    "    edge_centers = [1/2*(a+b) for a,b in zip(edges, edges[1:])]\n",
    "\n",
    "    edges = 10**np.array(edges)\n",
    "    edge_centers = 10**np.array(edge_centers)\n",
    "\n",
    "    ax.step(edges, curr_bin_accuracy_req+[curr_bin_accuracy_req[-1]], where='post', label=key,linewidth=0.8)\n",
    "    ax.set_yticks([ -0.1,0, 0.1,])\n",
    "    ax.set_xscale('log')\n",
    "    ax.set_yscale('log')\n",
    "    ax.set_ylim([0,0.199])\n",
    "plt.legend(frameon=False)\n",
    "plt.ylim([1e-3,1e0])"
   ]
  },
  {
   "cell_type": "code",
   "execution_count": null,
   "id": "94f2fcfc",
   "metadata": {},
   "outputs": [],
   "source": []
  },
  {
   "cell_type": "code",
   "execution_count": null,
   "id": "7a14239b",
   "metadata": {},
   "outputs": [],
   "source": []
  }
 ],
 "metadata": {
  "kernelspec": {
   "display_name": "massfunction",
   "language": "python",
   "name": "massfunction"
  },
  "language_info": {
   "codemirror_mode": {
    "name": "ipython",
    "version": 3
   },
   "file_extension": ".py",
   "mimetype": "text/x-python",
   "name": "python",
   "nbconvert_exporter": "python",
   "pygments_lexer": "ipython3",
   "version": "3.9.16"
  }
 },
 "nbformat": 4,
 "nbformat_minor": 5
}
