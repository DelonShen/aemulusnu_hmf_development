{
 "cells": [
  {
   "cell_type": "code",
   "execution_count": 1,
   "id": "275029f0",
   "metadata": {},
   "outputs": [],
   "source": [
    "%load_ext autoreload\n",
    "%autoreload 2"
   ]
  },
  {
   "cell_type": "code",
   "execution_count": 2,
   "id": "368a58a2",
   "metadata": {},
   "outputs": [],
   "source": [
    "import math\n",
    "from scipy.integrate import quad, fixed_quad\n",
    "import matplotlib.pyplot as plt\n",
    "import pickle\n",
    "import numpy as np\n",
    "import functools\n",
    "import sys\n",
    "from tqdm import tqdm, trange\n",
    "from aemulusnu_massfunction.utils import *\n",
    "from aemulusnu_massfunction.emulator import *\n",
    "\n",
    "from classy import Class\n",
    "\n",
    "import math\n",
    "import torch\n",
    "import gpytorch\n",
    "from matplotlib import pyplot as plt\n",
    "\n",
    "import pyccl as ccl\n"
   ]
  },
  {
   "cell_type": "code",
   "execution_count": 3,
   "id": "0f7577c9",
   "metadata": {},
   "outputs": [],
   "source": [
    "\n",
    "cosmos_f = open('../data/cosmo_params.pkl', 'rb')\n",
    "cosmo_params = pickle.load(cosmos_f) #cosmo_params is a dict\n",
    "cosmos_f.close()\n",
    "\n",
    "a_list_fname = '/oak/stanford/orgs/kipac/users/delon/aemulusnu_massfunction/alist.pkl'\n",
    "a_list_f = open(a_list_fname, 'rb')\n",
    "a_list = pickle.load(a_list_f)\n",
    "a_list_f.close()"
   ]
  },
  {
   "cell_type": "code",
   "execution_count": 4,
   "id": "36bdedca",
   "metadata": {},
   "outputs": [
    {
     "name": "stderr",
     "output_type": "stream",
     "text": [
      "100%|██████████| 150/150 [00:00<00:00, 1341.15it/s]"
     ]
    },
    {
     "name": "stdout",
     "output_type": "stream",
     "text": [
      "{'ns': 0.97000003, 'H0': 67.0, 'w0': -1.0, 'ombh2': 0.0223, 'omch2': 0.12, 'nu_mass_ev': 0.07071068, '10^9 As': 2.10100315}\n"
     ]
    },
    {
     "name": "stderr",
     "output_type": "stream",
     "text": [
      "\n"
     ]
    }
   ],
   "source": [
    "weird_boxes = []\n",
    "\n",
    "\n",
    "errors = {a:{} for a in a_list}\n",
    "X = []\n",
    "Y = []\n",
    "z_to_a = {}\n",
    "a_to_z = {}\n",
    "kt = np.logspace(-3, 1, 100) # h/Mpc\n",
    "for box in tqdm(cosmo_params):\n",
    "    if(box in weird_boxes):\n",
    "        continue\n",
    "    curr_cosmo = cosmo_params[box]\n",
    "    if(box == 'Box_n50_0_1400'):\n",
    "        print(curr_cosmo)\n",
    "\n",
    "    curr_cosmo_values = [curr_cosmo[curr_key] for curr_key in key_ordering]\n",
    "\n",
    "    h = curr_cosmo['H0']/100\n",
    "\n",
    "    Ωb =  curr_cosmo['ombh2'] / h**2\n",
    "    Ωc =  curr_cosmo['omch2'] / h**2\n",
    "\n",
    "    cosmo = ccl.Cosmology(Omega_c=Ωc,\n",
    "                          Omega_b=Ωb,\n",
    "                          h=h,\n",
    "                          A_s=curr_cosmo['10^9 As']*10**(-9),\n",
    "                          n_s=curr_cosmo['ns'],\n",
    "                          w0=curr_cosmo['w0'],\n",
    "                          m_nu=[curr_cosmo['nu_mass_ev']/3, curr_cosmo['nu_mass_ev']/3, curr_cosmo['nu_mass_ev']/3])\n",
    "\n",
    "\n",
    "    try:\n",
    "        with open(\"/oak/stanford/orgs/kipac/users/delon/aemulusnu_massfunction/%s_params.pkl\"%(box), \"rb\") as f:\n",
    "            MLE_params = pickle.load(f)\n",
    "            param_values = list(MLE_params.values())\n",
    "            Y+= [param_values]\n",
    "            X+= [curr_cosmo_values]\n",
    "    except:\n",
    "        print(box, z)\n",
    "    for a in a_list:\n",
    "        z = scaleToRedshift(a)\n",
    "        z_to_a[z] = a\n",
    "        a_to_z[a] = z"
   ]
  },
  {
   "cell_type": "code",
   "execution_count": 5,
   "id": "7dc0ffbb",
   "metadata": {},
   "outputs": [
    {
     "name": "stdout",
     "output_type": "stream",
     "text": [
      "(150, 7)\n",
      "(150, 8)\n",
      "scaling input\n",
      "(150, 7)\n",
      "scaling output\n",
      "(150, 8)\n"
     ]
    }
   ],
   "source": [
    "X = np.array(X)\n",
    "Y = np.array(Y)\n",
    "\n",
    "print(X.shape)\n",
    "print(Y.shape)\n",
    "################################\n",
    "print('scaling input')\n",
    "in_scaler = Normalizer()\n",
    "in_scaler.fit(X)\n",
    "X = in_scaler.transform(X)\n",
    "print(X.shape)\n",
    "\n",
    "\n",
    "print('scaling output')\n",
    "out_scaler = Standardizer()\n",
    "out_scaler.fit(Y)\n",
    "Y = out_scaler.transform(Y)\n",
    "print(Y.shape)\n",
    "\n",
    "##REMEMBER TO UNSCALE OUTPUT AND SAVE SCALERS#####\n",
    "\n",
    "X_train = torch.from_numpy(X).float()\n",
    "Y_train = torch.from_numpy(Y).float()\n",
    "n_tasks = len(Y_train[0])"
   ]
  },
  {
   "cell_type": "code",
   "execution_count": 6,
   "id": "69135b59",
   "metadata": {},
   "outputs": [],
   "source": [
    "from aemulusnu_massfunction.emulator import *\n",
    "\n",
    "\n",
    "likelihood = gpytorch.likelihoods.MultitaskGaussianLikelihood(num_tasks=n_tasks,\n",
    "                                                              has_global_noise=False, \n",
    "                                                              has_task_noise=True)\n",
    "model = MultitaskGPModel(X_train, Y_train, likelihood)\n",
    "\n",
    "\n",
    "# \"Loss\" for GPs - the marginal log likelihood\n",
    "mll = gpytorch.mlls.ExactMarginalLogLikelihood(likelihood, model)\n",
    "\n",
    "model.train()\n",
    "likelihood.train()\n",
    "\n",
    "\n",
    "training_iterations = 2000"
   ]
  },
  {
   "cell_type": "code",
   "execution_count": 7,
   "id": "7eb178a9",
   "metadata": {
    "scrolled": true
   },
   "outputs": [
    {
     "name": "stderr",
     "output_type": "stream",
     "text": [
      "Iteration:   0%|          | 1/2000 [00:00<03:37,  9.18it/s, loss=3.45]"
     ]
    },
    {
     "name": "stdout",
     "output_type": "stream",
     "text": [
      "Iter 1/2000 - Loss: 3.4484\n"
     ]
    },
    {
     "name": "stderr",
     "output_type": "stream",
     "text": [
      "Iteration:   0%|          | 5/2000 [00:00<01:16, 25.98it/s, loss=3.17]"
     ]
    },
    {
     "name": "stdout",
     "output_type": "stream",
     "text": [
      "Iter 2/2000 - Loss: 3.4183\n",
      "Iter 3/2000 - Loss: 3.3881\n",
      "Iter 4/2000 - Loss: 3.3579\n",
      "Iter 5/2000 - Loss: 3.3276\n",
      "Iter 6/2000 - Loss: 3.2972\n",
      "Iter 7/2000 - Loss: 3.2667\n",
      "Iter 8/2000 - Loss: 3.2361\n",
      "Iter 9/2000 - Loss: 3.2054\n"
     ]
    },
    {
     "name": "stderr",
     "output_type": "stream",
     "text": [
      "\r",
      "Iteration:   0%|          | 10/2000 [00:00<00:54, 36.41it/s, loss=3.17]"
     ]
    },
    {
     "name": "stdout",
     "output_type": "stream",
     "text": [
      "Iter 10/2000 - Loss: 3.1747\n"
     ]
    },
    {
     "name": "stderr",
     "output_type": "stream",
     "text": [
      "Iteration:   1%|          | 14/2000 [00:00<01:00, 32.58it/s, loss=3.02]"
     ]
    },
    {
     "name": "stdout",
     "output_type": "stream",
     "text": [
      "Iter 11/2000 - Loss: 3.1439\n",
      "Iter 12/2000 - Loss: 3.1130\n",
      "Iter 13/2000 - Loss: 3.0820\n",
      "Iter 14/2000 - Loss: 3.0509\n",
      "Iter 15/2000 - Loss: 3.0198\n"
     ]
    },
    {
     "name": "stderr",
     "output_type": "stream",
     "text": [
      "\r",
      "Iteration:   1%|          | 14/2000 [00:00<01:00, 32.58it/s, loss=2.99]"
     ]
    },
    {
     "name": "stdout",
     "output_type": "stream",
     "text": [
      "Iter 16/2000 - Loss: 2.9886\n"
     ]
    },
    {
     "name": "stderr",
     "output_type": "stream",
     "text": [
      "Iteration:   1%|          | 24/2000 [00:00<00:52, 37.38it/s, loss=2.67]"
     ]
    },
    {
     "name": "stdout",
     "output_type": "stream",
     "text": [
      "Iter 17/2000 - Loss: 2.9573\n",
      "Iter 18/2000 - Loss: 2.9260\n",
      "Iter 19/2000 - Loss: 2.8946\n",
      "Iter 20/2000 - Loss: 2.8632\n",
      "Iter 21/2000 - Loss: 2.8317\n",
      "Iter 22/2000 - Loss: 2.8001\n",
      "Iter 23/2000 - Loss: 2.7686\n",
      "Iter 24/2000 - Loss: 2.7370\n",
      "Iter 25/2000 - Loss: 2.7053\n",
      "Iter 26/2000 - Loss: 2.6737\n"
     ]
    },
    {
     "name": "stderr",
     "output_type": "stream",
     "text": [
      "\r",
      "Iteration:   1%|          | 24/2000 [00:00<00:52, 37.38it/s, loss=2.64]"
     ]
    },
    {
     "name": "stdout",
     "output_type": "stream",
     "text": [
      "Iter 27/2000 - Loss: 2.6420\n"
     ]
    },
    {
     "name": "stderr",
     "output_type": "stream",
     "text": [
      "Iteration:   2%|▏         | 35/2000 [00:00<00:45, 43.59it/s, loss=2.33]"
     ]
    },
    {
     "name": "stdout",
     "output_type": "stream",
     "text": [
      "Iter 28/2000 - Loss: 2.6103\n",
      "Iter 29/2000 - Loss: 2.5787\n",
      "Iter 30/2000 - Loss: 2.5470\n",
      "Iter 31/2000 - Loss: 2.5153\n",
      "Iter 32/2000 - Loss: 2.4836\n",
      "Iter 33/2000 - Loss: 2.4519\n",
      "Iter 34/2000 - Loss: 2.4203\n",
      "Iter 35/2000 - Loss: 2.3887\n",
      "Iter 36/2000 - Loss: 2.3571\n"
     ]
    },
    {
     "name": "stderr",
     "output_type": "stream",
     "text": [
      "\r",
      "Iteration:   2%|▏         | 35/2000 [00:00<00:45, 43.59it/s, loss=2.29]"
     ]
    },
    {
     "name": "stdout",
     "output_type": "stream",
     "text": [
      "Iter 37/2000 - Loss: 2.3255\n",
      "Iter 38/2000 - Loss: 2.2940\n"
     ]
    },
    {
     "name": "stderr",
     "output_type": "stream",
     "text": [
      "Iteration:   2%|▏         | 46/2000 [00:01<01:11, 27.32it/s, loss=1.95]"
     ]
    },
    {
     "name": "stdout",
     "output_type": "stream",
     "text": [
      "Iter 39/2000 - Loss: 2.2625\n",
      "Iter 40/2000 - Loss: 2.2312\n",
      "Iter 41/2000 - Loss: 2.1999\n",
      "Iter 42/2000 - Loss: 2.1686\n",
      "Iter 43/2000 - Loss: 2.1375\n",
      "Iter 44/2000 - Loss: 2.1066\n",
      "Iter 45/2000 - Loss: 2.0757\n",
      "Iter 46/2000 - Loss: 2.0451\n",
      "Iter 47/2000 - Loss: 2.0146\n",
      "Iter 48/2000 - Loss: 1.9843\n"
     ]
    },
    {
     "name": "stderr",
     "output_type": "stream",
     "text": [
      "Iteration:   3%|▎         | 56/2000 [00:01<00:55, 35.05it/s, loss=1.67]"
     ]
    },
    {
     "name": "stdout",
     "output_type": "stream",
     "text": [
      "Iter 49/2000 - Loss: 1.9542\n",
      "Iter 50/2000 - Loss: 1.9244\n",
      "Iter 51/2000 - Loss: 1.8948\n",
      "Iter 52/2000 - Loss: 1.8655\n",
      "Iter 53/2000 - Loss: 1.8365\n",
      "Iter 54/2000 - Loss: 1.8077\n",
      "Iter 55/2000 - Loss: 1.7794\n",
      "Iter 56/2000 - Loss: 1.7513\n",
      "Iter 57/2000 - Loss: 1.7236\n",
      "Iter 58/2000 - Loss: 1.6963\n",
      "Iter 59/2000 - Loss: 1.6694\n"
     ]
    },
    {
     "name": "stderr",
     "output_type": "stream",
     "text": [
      "Iteration:   3%|▎         | 68/2000 [00:02<00:44, 43.24it/s, loss=1.38]"
     ]
    },
    {
     "name": "stdout",
     "output_type": "stream",
     "text": [
      "Iter 60/2000 - Loss: 1.6429\n",
      "Iter 61/2000 - Loss: 1.6169\n",
      "Iter 62/2000 - Loss: 1.5913\n",
      "Iter 63/2000 - Loss: 1.5661\n",
      "Iter 64/2000 - Loss: 1.5415\n",
      "Iter 65/2000 - Loss: 1.5173\n",
      "Iter 66/2000 - Loss: 1.4936\n",
      "Iter 67/2000 - Loss: 1.4705\n",
      "Iter 68/2000 - Loss: 1.4479\n",
      "Iter 69/2000 - Loss: 1.4258\n",
      "Iter 70/2000 - Loss: 1.4043\n"
     ]
    },
    {
     "name": "stderr",
     "output_type": "stream",
     "text": [
      "Iteration:   4%|▎         | 74/2000 [00:02<00:41, 45.93it/s, loss=1.24]"
     ]
    },
    {
     "name": "stdout",
     "output_type": "stream",
     "text": [
      "Iter 71/2000 - Loss: 1.3834\n",
      "Iter 72/2000 - Loss: 1.3630\n",
      "Iter 73/2000 - Loss: 1.3433\n",
      "Iter 74/2000 - Loss: 1.3241\n",
      "Iter 75/2000 - Loss: 1.3056\n",
      "Iter 76/2000 - Loss: 1.2876\n",
      "Iter 77/2000 - Loss: 1.2703\n",
      "Iter 78/2000 - Loss: 1.2535\n",
      "Iter 79/2000 - Loss: 1.2374\n"
     ]
    },
    {
     "name": "stderr",
     "output_type": "stream",
     "text": [
      "Iteration:   4%|▍         | 85/2000 [00:02<00:45, 41.95it/s, loss=1.12]"
     ]
    },
    {
     "name": "stdout",
     "output_type": "stream",
     "text": [
      "Iter 80/2000 - Loss: 1.2218\n",
      "Iter 81/2000 - Loss: 1.2069\n",
      "Iter 82/2000 - Loss: 1.1925\n",
      "Iter 83/2000 - Loss: 1.1787\n",
      "Iter 84/2000 - Loss: 1.1655\n",
      "Iter 85/2000 - Loss: 1.1528\n",
      "Iter 86/2000 - Loss: 1.1407\n",
      "Iter 87/2000 - Loss: 1.1291\n"
     ]
    },
    {
     "name": "stderr",
     "output_type": "stream",
     "text": [
      "Iteration:   5%|▍         | 96/2000 [00:02<00:42, 45.24it/s, loss=1.03]"
     ]
    },
    {
     "name": "stdout",
     "output_type": "stream",
     "text": [
      "Iter 88/2000 - Loss: 1.1180\n",
      "Iter 89/2000 - Loss: 1.1074\n",
      "Iter 90/2000 - Loss: 1.0973\n",
      "Iter 91/2000 - Loss: 1.0877\n",
      "Iter 92/2000 - Loss: 1.0786\n",
      "Iter 93/2000 - Loss: 1.0698\n",
      "Iter 94/2000 - Loss: 1.0615\n",
      "Iter 95/2000 - Loss: 1.0536\n",
      "Iter 96/2000 - Loss: 1.0462\n",
      "Iter 97/2000 - Loss: 1.0390\n",
      "Iter 98/2000 - Loss: 1.0323\n"
     ]
    },
    {
     "name": "stderr",
     "output_type": "stream",
     "text": [
      "Iteration:   5%|▌         | 109/2000 [00:02<00:36, 51.89it/s, loss=0.971]"
     ]
    },
    {
     "name": "stdout",
     "output_type": "stream",
     "text": [
      "Iter 99/2000 - Loss: 1.0259\n",
      "Iter 100/2000 - Loss: 1.0199\n",
      "Iter 101/2000 - Loss: 1.0141\n",
      "Iter 102/2000 - Loss: 1.0087\n",
      "Iter 103/2000 - Loss: 1.0036\n",
      "Iter 104/2000 - Loss: 0.9987\n",
      "Iter 105/2000 - Loss: 0.9941\n",
      "Iter 106/2000 - Loss: 0.9897\n",
      "Iter 107/2000 - Loss: 0.9856\n",
      "Iter 108/2000 - Loss: 0.9816\n",
      "Iter 109/2000 - Loss: 0.9779\n",
      "Iter 110/2000 - Loss: 0.9743\n"
     ]
    },
    {
     "name": "stderr",
     "output_type": "stream",
     "text": [
      "Iteration:   6%|▌         | 121/2000 [00:03<00:35, 52.98it/s, loss=0.944]"
     ]
    },
    {
     "name": "stdout",
     "output_type": "stream",
     "text": [
      "Iter 111/2000 - Loss: 0.9709\n",
      "Iter 112/2000 - Loss: 0.9677\n",
      "Iter 113/2000 - Loss: 0.9646\n",
      "Iter 114/2000 - Loss: 0.9617\n",
      "Iter 115/2000 - Loss: 0.9588\n",
      "Iter 116/2000 - Loss: 0.9561\n",
      "Iter 117/2000 - Loss: 0.9535\n",
      "Iter 118/2000 - Loss: 0.9510\n",
      "Iter 119/2000 - Loss: 0.9486\n",
      "Iter 120/2000 - Loss: 0.9462\n",
      "Iter 121/2000 - Loss: 0.9440\n"
     ]
    },
    {
     "name": "stderr",
     "output_type": "stream",
     "text": [
      "Iteration:   7%|▋         | 133/2000 [00:03<00:33, 54.95it/s, loss=0.919]"
     ]
    },
    {
     "name": "stdout",
     "output_type": "stream",
     "text": [
      "Iter 122/2000 - Loss: 0.9418\n",
      "Iter 123/2000 - Loss: 0.9396\n",
      "Iter 124/2000 - Loss: 0.9375\n",
      "Iter 125/2000 - Loss: 0.9355\n",
      "Iter 126/2000 - Loss: 0.9336\n",
      "Iter 127/2000 - Loss: 0.9317\n",
      "Iter 128/2000 - Loss: 0.9298\n",
      "Iter 129/2000 - Loss: 0.9280\n",
      "Iter 130/2000 - Loss: 0.9262\n",
      "Iter 131/2000 - Loss: 0.9244\n",
      "Iter 132/2000 - Loss: 0.9227\n",
      "Iter 133/2000 - Loss: 0.9211\n"
     ]
    },
    {
     "name": "stderr",
     "output_type": "stream",
     "text": [
      "Iteration:   7%|▋         | 145/2000 [00:03<00:33, 54.98it/s, loss=0.903]"
     ]
    },
    {
     "name": "stdout",
     "output_type": "stream",
     "text": [
      "Iter 134/2000 - Loss: 0.9194\n",
      "Iter 135/2000 - Loss: 0.9178\n",
      "Iter 136/2000 - Loss: 0.9163\n",
      "Iter 137/2000 - Loss: 0.9147\n",
      "Iter 138/2000 - Loss: 0.9132\n",
      "Iter 139/2000 - Loss: 0.9118\n",
      "Iter 140/2000 - Loss: 0.9103\n",
      "Iter 141/2000 - Loss: 0.9089\n",
      "Iter 142/2000 - Loss: 0.9075\n",
      "Iter 143/2000 - Loss: 0.9061\n",
      "Iter 144/2000 - Loss: 0.9048\n",
      "Iter 145/2000 - Loss: 0.9035\n"
     ]
    },
    {
     "name": "stderr",
     "output_type": "stream",
     "text": [
      "Iteration:   8%|▊         | 157/2000 [00:03<00:33, 54.73it/s, loss=0.889]"
     ]
    },
    {
     "name": "stdout",
     "output_type": "stream",
     "text": [
      "Iter 146/2000 - Loss: 0.9022\n",
      "Iter 147/2000 - Loss: 0.9009\n",
      "Iter 148/2000 - Loss: 0.8996\n",
      "Iter 149/2000 - Loss: 0.8984\n",
      "Iter 150/2000 - Loss: 0.8972\n",
      "Iter 151/2000 - Loss: 0.8960\n",
      "Iter 152/2000 - Loss: 0.8948\n",
      "Iter 153/2000 - Loss: 0.8936\n",
      "Iter 154/2000 - Loss: 0.8925\n",
      "Iter 155/2000 - Loss: 0.8914\n",
      "Iter 156/2000 - Loss: 0.8902\n",
      "Iter 157/2000 - Loss: 0.8891\n"
     ]
    },
    {
     "name": "stderr",
     "output_type": "stream",
     "text": [
      "Iteration:   8%|▊         | 157/2000 [00:03<00:33, 54.73it/s, loss=0.885]"
     ]
    },
    {
     "name": "stdout",
     "output_type": "stream",
     "text": [
      "Iter 158/2000 - Loss: 0.8881\n",
      "Iter 159/2000 - Loss: 0.8870\n",
      "Iter 160/2000 - Loss: 0.8859\n",
      "Iter 161/2000 - Loss: 0.8849\n"
     ]
    },
    {
     "name": "stderr",
     "output_type": "stream",
     "text": [
      "Iteration:   8%|▊         | 169/2000 [00:04<00:42, 43.48it/s, loss=0.873]"
     ]
    },
    {
     "name": "stdout",
     "output_type": "stream",
     "text": [
      "Iter 162/2000 - Loss: 0.8839\n",
      "Iter 163/2000 - Loss: 0.8828\n",
      "Iter 164/2000 - Loss: 0.8818\n",
      "Iter 165/2000 - Loss: 0.8808\n",
      "Iter 166/2000 - Loss: 0.8799\n",
      "Iter 167/2000 - Loss: 0.8789\n",
      "Iter 168/2000 - Loss: 0.8779\n",
      "Iter 169/2000 - Loss: 0.8770\n",
      "Iter 170/2000 - Loss: 0.8760\n",
      "Iter 171/2000 - Loss: 0.8751\n",
      "Iter 172/2000 - Loss: 0.8741\n",
      "Iter 173/2000 - Loss: 0.8732\n"
     ]
    },
    {
     "name": "stderr",
     "output_type": "stream",
     "text": [
      "Iteration:   9%|▉         | 181/2000 [00:04<00:37, 48.92it/s, loss=0.863]"
     ]
    },
    {
     "name": "stdout",
     "output_type": "stream",
     "text": [
      "Iter 174/2000 - Loss: 0.8723\n",
      "Iter 175/2000 - Loss: 0.8714\n",
      "Iter 176/2000 - Loss: 0.8705\n",
      "Iter 177/2000 - Loss: 0.8696\n",
      "Iter 178/2000 - Loss: 0.8688\n",
      "Iter 179/2000 - Loss: 0.8679\n",
      "Iter 180/2000 - Loss: 0.8670\n",
      "Iter 181/2000 - Loss: 0.8662\n",
      "Iter 182/2000 - Loss: 0.8653\n",
      "Iter 183/2000 - Loss: 0.8645\n",
      "Iter 184/2000 - Loss: 0.8636\n",
      "Iter 185/2000 - Loss: 0.8628\n"
     ]
    },
    {
     "name": "stderr",
     "output_type": "stream",
     "text": [
      "Iteration:  10%|▉         | 193/2000 [00:04<00:34, 53.11it/s, loss=0.853]"
     ]
    },
    {
     "name": "stdout",
     "output_type": "stream",
     "text": [
      "Iter 186/2000 - Loss: 0.8620\n",
      "Iter 187/2000 - Loss: 0.8611\n",
      "Iter 188/2000 - Loss: 0.8603\n",
      "Iter 189/2000 - Loss: 0.8595\n",
      "Iter 190/2000 - Loss: 0.8587\n",
      "Iter 191/2000 - Loss: 0.8579\n",
      "Iter 192/2000 - Loss: 0.8571\n",
      "Iter 193/2000 - Loss: 0.8563\n",
      "Iter 194/2000 - Loss: 0.8555\n",
      "Iter 195/2000 - Loss: 0.8547\n",
      "Iter 196/2000 - Loss: 0.8540\n"
     ]
    },
    {
     "name": "stderr",
     "output_type": "stream",
     "text": [
      "Iteration:  10%|█         | 205/2000 [00:04<00:32, 54.76it/s, loss=0.844]"
     ]
    },
    {
     "name": "stdout",
     "output_type": "stream",
     "text": [
      "Iter 197/2000 - Loss: 0.8532\n",
      "Iter 198/2000 - Loss: 0.8524\n",
      "Iter 199/2000 - Loss: 0.8517\n",
      "Iter 200/2000 - Loss: 0.8509\n",
      "Iter 201/2000 - Loss: 0.8502\n",
      "Iter 202/2000 - Loss: 0.8494\n",
      "Iter 203/2000 - Loss: 0.8487\n",
      "Iter 204/2000 - Loss: 0.8479\n",
      "Iter 205/2000 - Loss: 0.8472\n",
      "Iter 206/2000 - Loss: 0.8464\n",
      "Iter 207/2000 - Loss: 0.8457\n",
      "Iter 208/2000 - Loss: 0.8450\n"
     ]
    },
    {
     "name": "stderr",
     "output_type": "stream",
     "text": [
      "Iteration:  11%|█         | 217/2000 [00:04<00:31, 55.81it/s, loss=0.837]"
     ]
    },
    {
     "name": "stdout",
     "output_type": "stream",
     "text": [
      "Iter 209/2000 - Loss: 0.8443\n",
      "Iter 210/2000 - Loss: 0.8435\n",
      "Iter 211/2000 - Loss: 0.8428\n",
      "Iter 212/2000 - Loss: 0.8421\n",
      "Iter 213/2000 - Loss: 0.8414\n",
      "Iter 214/2000 - Loss: 0.8407\n",
      "Iter 215/2000 - Loss: 0.8400\n",
      "Iter 216/2000 - Loss: 0.8393\n",
      "Iter 217/2000 - Loss: 0.8386\n",
      "Iter 218/2000 - Loss: 0.8379\n",
      "Iter 219/2000 - Loss: 0.8372\n",
      "Iter 220/2000 - Loss: 0.8366\n"
     ]
    },
    {
     "name": "stderr",
     "output_type": "stream",
     "text": [
      "Iteration:  11%|█▏        | 229/2000 [00:05<00:32, 54.33it/s, loss=0.829]"
     ]
    },
    {
     "name": "stdout",
     "output_type": "stream",
     "text": [
      "Iter 221/2000 - Loss: 0.8359\n",
      "Iter 222/2000 - Loss: 0.8352\n",
      "Iter 223/2000 - Loss: 0.8345\n",
      "Iter 224/2000 - Loss: 0.8339\n",
      "Iter 225/2000 - Loss: 0.8332\n",
      "Iter 226/2000 - Loss: 0.8325\n",
      "Iter 227/2000 - Loss: 0.8319\n",
      "Iter 228/2000 - Loss: 0.8312\n",
      "Iter 229/2000 - Loss: 0.8306\n",
      "Iter 230/2000 - Loss: 0.8299\n",
      "Iter 231/2000 - Loss: 0.8293\n"
     ]
    },
    {
     "name": "stderr",
     "output_type": "stream",
     "text": [
      "Iteration:  12%|█▏        | 235/2000 [00:05<00:31, 55.20it/s, loss=0.825]"
     ]
    },
    {
     "name": "stdout",
     "output_type": "stream",
     "text": [
      "Iter 232/2000 - Loss: 0.8286\n",
      "Iter 233/2000 - Loss: 0.8280\n",
      "Iter 234/2000 - Loss: 0.8273\n",
      "Iter 235/2000 - Loss: 0.8267\n",
      "Iter 236/2000 - Loss: 0.8261\n",
      "Iter 237/2000 - Loss: 0.8254\n"
     ]
    },
    {
     "name": "stderr",
     "output_type": "stream",
     "text": [
      "Iteration:  12%|█▏        | 247/2000 [00:05<00:38, 45.80it/s, loss=0.819]"
     ]
    },
    {
     "name": "stdout",
     "output_type": "stream",
     "text": [
      "Iter 238/2000 - Loss: 0.8248\n",
      "Iter 239/2000 - Loss: 0.8242\n",
      "Iter 240/2000 - Loss: 0.8236\n",
      "Iter 241/2000 - Loss: 0.8229\n",
      "Iter 242/2000 - Loss: 0.8223\n",
      "Iter 243/2000 - Loss: 0.8217\n",
      "Iter 244/2000 - Loss: 0.8211\n",
      "Iter 245/2000 - Loss: 0.8205\n",
      "Iter 246/2000 - Loss: 0.8199\n",
      "Iter 247/2000 - Loss: 0.8193\n",
      "Iter 248/2000 - Loss: 0.8187\n"
     ]
    },
    {
     "name": "stderr",
     "output_type": "stream",
     "text": [
      "Iteration:  13%|█▎        | 259/2000 [00:05<00:34, 50.09it/s, loss=0.812]"
     ]
    },
    {
     "name": "stdout",
     "output_type": "stream",
     "text": [
      "Iter 249/2000 - Loss: 0.8181\n",
      "Iter 250/2000 - Loss: 0.8175\n",
      "Iter 251/2000 - Loss: 0.8169\n",
      "Iter 252/2000 - Loss: 0.8164\n",
      "Iter 253/2000 - Loss: 0.8158\n",
      "Iter 254/2000 - Loss: 0.8152\n",
      "Iter 255/2000 - Loss: 0.8146\n",
      "Iter 256/2000 - Loss: 0.8140\n",
      "Iter 257/2000 - Loss: 0.8135\n",
      "Iter 258/2000 - Loss: 0.8129\n",
      "Iter 259/2000 - Loss: 0.8123\n",
      "Iter 260/2000 - Loss: 0.8118\n"
     ]
    },
    {
     "name": "stderr",
     "output_type": "stream",
     "text": [
      "Iteration:  14%|█▎        | 271/2000 [00:06<00:32, 53.96it/s, loss=0.805]"
     ]
    },
    {
     "name": "stdout",
     "output_type": "stream",
     "text": [
      "Iter 261/2000 - Loss: 0.8112\n",
      "Iter 262/2000 - Loss: 0.8107\n",
      "Iter 263/2000 - Loss: 0.8101\n",
      "Iter 264/2000 - Loss: 0.8096\n",
      "Iter 265/2000 - Loss: 0.8090\n",
      "Iter 266/2000 - Loss: 0.8085\n",
      "Iter 267/2000 - Loss: 0.8079\n",
      "Iter 268/2000 - Loss: 0.8074\n",
      "Iter 269/2000 - Loss: 0.8069\n",
      "Iter 270/2000 - Loss: 0.8063\n",
      "Iter 271/2000 - Loss: 0.8058\n",
      "Iter 272/2000 - Loss: 0.8053\n"
     ]
    },
    {
     "name": "stderr",
     "output_type": "stream",
     "text": [
      "Iteration:  14%|█▍        | 283/2000 [00:06<00:30, 55.64it/s, loss=0.799]"
     ]
    },
    {
     "name": "stdout",
     "output_type": "stream",
     "text": [
      "Iter 273/2000 - Loss: 0.8048\n",
      "Iter 274/2000 - Loss: 0.8042\n",
      "Iter 275/2000 - Loss: 0.8037\n",
      "Iter 276/2000 - Loss: 0.8032\n",
      "Iter 277/2000 - Loss: 0.8027\n",
      "Iter 278/2000 - Loss: 0.8022\n",
      "Iter 279/2000 - Loss: 0.8017\n",
      "Iter 280/2000 - Loss: 0.8012\n",
      "Iter 281/2000 - Loss: 0.8007\n",
      "Iter 282/2000 - Loss: 0.8002\n",
      "Iter 283/2000 - Loss: 0.7997\n",
      "Iter 284/2000 - Loss: 0.7992\n"
     ]
    },
    {
     "name": "stderr",
     "output_type": "stream",
     "text": [
      "Iteration:  15%|█▍        | 295/2000 [00:06<00:29, 57.30it/s, loss=0.793]"
     ]
    },
    {
     "name": "stdout",
     "output_type": "stream",
     "text": [
      "Iter 285/2000 - Loss: 0.7987\n",
      "Iter 286/2000 - Loss: 0.7982\n",
      "Iter 287/2000 - Loss: 0.7977\n",
      "Iter 288/2000 - Loss: 0.7972\n",
      "Iter 289/2000 - Loss: 0.7967\n",
      "Iter 290/2000 - Loss: 0.7963\n",
      "Iter 291/2000 - Loss: 0.7958\n",
      "Iter 292/2000 - Loss: 0.7953\n",
      "Iter 293/2000 - Loss: 0.7948\n",
      "Iter 294/2000 - Loss: 0.7944\n",
      "Iter 295/2000 - Loss: 0.7939\n",
      "Iter 296/2000 - Loss: 0.7934\n"
     ]
    },
    {
     "name": "stderr",
     "output_type": "stream",
     "text": [
      "Iteration:  15%|█▌        | 301/2000 [00:06<00:29, 57.90it/s, loss=0.79] "
     ]
    },
    {
     "name": "stdout",
     "output_type": "stream",
     "text": [
      "Iter 297/2000 - Loss: 0.7930\n",
      "Iter 298/2000 - Loss: 0.7925\n",
      "Iter 299/2000 - Loss: 0.7921\n",
      "Iter 300/2000 - Loss: 0.7916\n",
      "Iter 301/2000 - Loss: 0.7911\n",
      "Iter 302/2000 - Loss: 0.7907\n",
      "Iter 303/2000 - Loss: 0.7902\n"
     ]
    },
    {
     "name": "stderr",
     "output_type": "stream",
     "text": [
      "Iteration:  16%|█▌        | 313/2000 [00:06<00:36, 45.75it/s, loss=0.785]"
     ]
    },
    {
     "name": "stdout",
     "output_type": "stream",
     "text": [
      "Iter 304/2000 - Loss: 0.7898\n",
      "Iter 305/2000 - Loss: 0.7894\n",
      "Iter 306/2000 - Loss: 0.7889\n",
      "Iter 307/2000 - Loss: 0.7885\n",
      "Iter 308/2000 - Loss: 0.7880\n",
      "Iter 309/2000 - Loss: 0.7876\n",
      "Iter 310/2000 - Loss: 0.7872\n",
      "Iter 311/2000 - Loss: 0.7867\n",
      "Iter 312/2000 - Loss: 0.7863\n",
      "Iter 313/2000 - Loss: 0.7859\n",
      "Iter 314/2000 - Loss: 0.7855\n",
      "Iter 315/2000 - Loss: 0.7850\n"
     ]
    },
    {
     "name": "stderr",
     "output_type": "stream",
     "text": [
      "Iteration:  16%|█▋        | 325/2000 [00:07<00:32, 51.33it/s, loss=0.78] "
     ]
    },
    {
     "name": "stdout",
     "output_type": "stream",
     "text": [
      "Iter 316/2000 - Loss: 0.7846\n",
      "Iter 317/2000 - Loss: 0.7842\n",
      "Iter 318/2000 - Loss: 0.7838\n",
      "Iter 319/2000 - Loss: 0.7834\n",
      "Iter 320/2000 - Loss: 0.7829\n",
      "Iter 321/2000 - Loss: 0.7825\n",
      "Iter 322/2000 - Loss: 0.7821\n",
      "Iter 323/2000 - Loss: 0.7817\n",
      "Iter 324/2000 - Loss: 0.7813\n",
      "Iter 325/2000 - Loss: 0.7809\n",
      "Iter 326/2000 - Loss: 0.7805\n",
      "Iter 327/2000 - Loss: 0.7801\n"
     ]
    },
    {
     "name": "stderr",
     "output_type": "stream",
     "text": [
      "Iteration:  17%|█▋        | 337/2000 [00:07<00:30, 54.71it/s, loss=0.775]"
     ]
    },
    {
     "name": "stdout",
     "output_type": "stream",
     "text": [
      "Iter 328/2000 - Loss: 0.7797\n",
      "Iter 329/2000 - Loss: 0.7793\n",
      "Iter 330/2000 - Loss: 0.7789\n",
      "Iter 331/2000 - Loss: 0.7785\n",
      "Iter 332/2000 - Loss: 0.7781\n",
      "Iter 333/2000 - Loss: 0.7777\n",
      "Iter 334/2000 - Loss: 0.7773\n",
      "Iter 335/2000 - Loss: 0.7769\n",
      "Iter 336/2000 - Loss: 0.7766\n",
      "Iter 337/2000 - Loss: 0.7762\n",
      "Iter 338/2000 - Loss: 0.7758\n"
     ]
    },
    {
     "name": "stderr",
     "output_type": "stream",
     "text": [
      "Iteration:  17%|█▋        | 349/2000 [00:07<00:30, 54.95it/s, loss=0.771]"
     ]
    },
    {
     "name": "stdout",
     "output_type": "stream",
     "text": [
      "Iter 339/2000 - Loss: 0.7754\n",
      "Iter 340/2000 - Loss: 0.7750\n",
      "Iter 341/2000 - Loss: 0.7747\n",
      "Iter 342/2000 - Loss: 0.7743\n",
      "Iter 343/2000 - Loss: 0.7739\n",
      "Iter 344/2000 - Loss: 0.7735\n",
      "Iter 345/2000 - Loss: 0.7732\n",
      "Iter 346/2000 - Loss: 0.7728\n",
      "Iter 347/2000 - Loss: 0.7724\n",
      "Iter 348/2000 - Loss: 0.7721\n",
      "Iter 349/2000 - Loss: 0.7717\n",
      "Iter 350/2000 - Loss: 0.7713\n"
     ]
    },
    {
     "name": "stderr",
     "output_type": "stream",
     "text": [
      "Iteration:  18%|█▊        | 361/2000 [00:07<00:28, 56.86it/s, loss=0.767]"
     ]
    },
    {
     "name": "stdout",
     "output_type": "stream",
     "text": [
      "Iter 351/2000 - Loss: 0.7710\n",
      "Iter 352/2000 - Loss: 0.7706\n",
      "Iter 353/2000 - Loss: 0.7703\n",
      "Iter 354/2000 - Loss: 0.7699\n",
      "Iter 355/2000 - Loss: 0.7695\n",
      "Iter 356/2000 - Loss: 0.7692\n",
      "Iter 357/2000 - Loss: 0.7688\n",
      "Iter 358/2000 - Loss: 0.7685\n",
      "Iter 359/2000 - Loss: 0.7682\n",
      "Iter 360/2000 - Loss: 0.7678\n",
      "Iter 361/2000 - Loss: 0.7675\n",
      "Iter 362/2000 - Loss: 0.7671\n"
     ]
    },
    {
     "name": "stderr",
     "output_type": "stream",
     "text": [
      "Iteration:  19%|█▊        | 373/2000 [00:07<00:28, 57.15it/s, loss=0.763]"
     ]
    },
    {
     "name": "stdout",
     "output_type": "stream",
     "text": [
      "Iter 363/2000 - Loss: 0.7668\n",
      "Iter 364/2000 - Loss: 0.7664\n",
      "Iter 365/2000 - Loss: 0.7661\n",
      "Iter 366/2000 - Loss: 0.7658\n",
      "Iter 367/2000 - Loss: 0.7654\n",
      "Iter 368/2000 - Loss: 0.7651\n",
      "Iter 369/2000 - Loss: 0.7648\n",
      "Iter 370/2000 - Loss: 0.7644\n",
      "Iter 371/2000 - Loss: 0.7641\n",
      "Iter 372/2000 - Loss: 0.7638\n",
      "Iter 373/2000 - Loss: 0.7635\n",
      "Iter 374/2000 - Loss: 0.7632\n"
     ]
    },
    {
     "name": "stderr",
     "output_type": "stream",
     "text": [
      "Iteration:  19%|█▉        | 379/2000 [00:08<00:28, 57.42it/s, loss=0.761]"
     ]
    },
    {
     "name": "stdout",
     "output_type": "stream",
     "text": [
      "Iter 375/2000 - Loss: 0.7628\n",
      "Iter 376/2000 - Loss: 0.7625\n",
      "Iter 377/2000 - Loss: 0.7622\n",
      "Iter 378/2000 - Loss: 0.7619\n",
      "Iter 379/2000 - Loss: 0.7616\n",
      "Iter 380/2000 - Loss: 0.7613\n",
      "Iter 381/2000 - Loss: 0.7610\n",
      "Iter 382/2000 - Loss: 0.7606\n"
     ]
    },
    {
     "name": "stderr",
     "output_type": "stream",
     "text": [
      "Iteration:  20%|█▉        | 391/2000 [00:08<00:31, 50.45it/s, loss=0.757]"
     ]
    },
    {
     "name": "stdout",
     "output_type": "stream",
     "text": [
      "Iter 383/2000 - Loss: 0.7603\n",
      "Iter 384/2000 - Loss: 0.7600\n",
      "Iter 385/2000 - Loss: 0.7597\n",
      "Iter 386/2000 - Loss: 0.7594\n",
      "Iter 387/2000 - Loss: 0.7591\n",
      "Iter 388/2000 - Loss: 0.7588\n",
      "Iter 389/2000 - Loss: 0.7585\n",
      "Iter 390/2000 - Loss: 0.7583\n",
      "Iter 391/2000 - Loss: 0.7580\n",
      "Iter 392/2000 - Loss: 0.7577\n",
      "Iter 393/2000 - Loss: 0.7574\n",
      "Iter 394/2000 - Loss: 0.7571\n"
     ]
    },
    {
     "name": "stderr",
     "output_type": "stream",
     "text": [
      "Iteration:  20%|██        | 403/2000 [00:08<00:29, 54.25it/s, loss=0.754]"
     ]
    },
    {
     "name": "stdout",
     "output_type": "stream",
     "text": [
      "Iter 395/2000 - Loss: 0.7568\n",
      "Iter 396/2000 - Loss: 0.7565\n",
      "Iter 397/2000 - Loss: 0.7563\n",
      "Iter 398/2000 - Loss: 0.7560\n",
      "Iter 399/2000 - Loss: 0.7557\n",
      "Iter 400/2000 - Loss: 0.7555\n",
      "Iter 401/2000 - Loss: 0.7552\n",
      "Iter 402/2000 - Loss: 0.7549\n",
      "Iter 403/2000 - Loss: 0.7547\n",
      "Iter 404/2000 - Loss: 0.7544\n",
      "Iter 405/2000 - Loss: 0.7541\n",
      "Iter 406/2000 - Loss: 0.7539\n"
     ]
    },
    {
     "name": "stderr",
     "output_type": "stream",
     "text": [
      "Iteration:  21%|██        | 415/2000 [00:08<00:28, 56.01it/s, loss=0.751]"
     ]
    },
    {
     "name": "stdout",
     "output_type": "stream",
     "text": [
      "Iter 407/2000 - Loss: 0.7536\n",
      "Iter 408/2000 - Loss: 0.7533\n",
      "Iter 409/2000 - Loss: 0.7531\n",
      "Iter 410/2000 - Loss: 0.7528\n",
      "Iter 411/2000 - Loss: 0.7526\n",
      "Iter 412/2000 - Loss: 0.7523\n",
      "Iter 413/2000 - Loss: 0.7521\n",
      "Iter 414/2000 - Loss: 0.7518\n",
      "Iter 415/2000 - Loss: 0.7516\n",
      "Iter 416/2000 - Loss: 0.7514\n",
      "Iter 417/2000 - Loss: 0.7511\n",
      "Iter 418/2000 - Loss: 0.7509\n"
     ]
    },
    {
     "name": "stderr",
     "output_type": "stream",
     "text": [
      "Iteration:  21%|██▏       | 427/2000 [00:08<00:27, 56.98it/s, loss=0.748]"
     ]
    },
    {
     "name": "stdout",
     "output_type": "stream",
     "text": [
      "Iter 419/2000 - Loss: 0.7506\n",
      "Iter 420/2000 - Loss: 0.7504\n",
      "Iter 421/2000 - Loss: 0.7502\n",
      "Iter 422/2000 - Loss: 0.7499\n",
      "Iter 423/2000 - Loss: 0.7497\n",
      "Iter 424/2000 - Loss: 0.7495\n",
      "Iter 425/2000 - Loss: 0.7493\n",
      "Iter 426/2000 - Loss: 0.7491\n",
      "Iter 427/2000 - Loss: 0.7488\n",
      "Iter 428/2000 - Loss: 0.7486\n",
      "Iter 429/2000 - Loss: 0.7484\n",
      "Iter 430/2000 - Loss: 0.7482\n"
     ]
    },
    {
     "name": "stderr",
     "output_type": "stream",
     "text": [
      "Iteration:  22%|██▏       | 439/2000 [00:09<00:26, 57.94it/s, loss=0.746]"
     ]
    },
    {
     "name": "stdout",
     "output_type": "stream",
     "text": [
      "Iter 431/2000 - Loss: 0.7480\n",
      "Iter 432/2000 - Loss: 0.7478\n",
      "Iter 433/2000 - Loss: 0.7476\n",
      "Iter 434/2000 - Loss: 0.7474\n",
      "Iter 435/2000 - Loss: 0.7472\n",
      "Iter 436/2000 - Loss: 0.7470\n",
      "Iter 437/2000 - Loss: 0.7468\n",
      "Iter 438/2000 - Loss: 0.7466\n",
      "Iter 439/2000 - Loss: 0.7464\n",
      "Iter 440/2000 - Loss: 0.7462\n",
      "Iter 441/2000 - Loss: 0.7460\n"
     ]
    },
    {
     "name": "stderr",
     "output_type": "stream",
     "text": [
      "Iteration:  23%|██▎       | 451/2000 [00:09<00:33, 46.06it/s, loss=0.744]"
     ]
    },
    {
     "name": "stdout",
     "output_type": "stream",
     "text": [
      "Iter 442/2000 - Loss: 0.7458\n",
      "Iter 443/2000 - Loss: 0.7456\n",
      "Iter 444/2000 - Loss: 0.7454\n",
      "Iter 445/2000 - Loss: 0.7453\n",
      "Iter 446/2000 - Loss: 0.7451\n",
      "Iter 447/2000 - Loss: 0.7449\n",
      "Iter 448/2000 - Loss: 0.7447\n",
      "Iter 449/2000 - Loss: 0.7446\n",
      "Iter 450/2000 - Loss: 0.7444\n",
      "Iter 451/2000 - Loss: 0.7442\n"
     ]
    },
    {
     "name": "stderr",
     "output_type": "stream",
     "text": [
      "Iteration:  23%|██▎       | 463/2000 [00:09<00:30, 50.81it/s, loss=0.742]"
     ]
    },
    {
     "name": "stdout",
     "output_type": "stream",
     "text": [
      "Iter 452/2000 - Loss: 0.7441\n",
      "Iter 453/2000 - Loss: 0.7439\n",
      "Iter 454/2000 - Loss: 0.7437\n",
      "Iter 455/2000 - Loss: 0.7436\n",
      "Iter 456/2000 - Loss: 0.7434\n",
      "Iter 457/2000 - Loss: 0.7433\n",
      "Iter 458/2000 - Loss: 0.7431\n",
      "Iter 459/2000 - Loss: 0.7429\n",
      "Iter 460/2000 - Loss: 0.7428\n",
      "Iter 461/2000 - Loss: 0.7426\n",
      "Iter 462/2000 - Loss: 0.7425\n",
      "Iter 463/2000 - Loss: 0.7423\n"
     ]
    },
    {
     "name": "stderr",
     "output_type": "stream",
     "text": [
      "Iteration:  24%|██▍       | 475/2000 [00:09<00:28, 53.55it/s, loss=0.741]"
     ]
    },
    {
     "name": "stdout",
     "output_type": "stream",
     "text": [
      "Iter 464/2000 - Loss: 0.7422\n",
      "Iter 465/2000 - Loss: 0.7421\n",
      "Iter 466/2000 - Loss: 0.7419\n",
      "Iter 467/2000 - Loss: 0.7418\n",
      "Iter 468/2000 - Loss: 0.7416\n",
      "Iter 469/2000 - Loss: 0.7415\n",
      "Iter 470/2000 - Loss: 0.7414\n",
      "Iter 471/2000 - Loss: 0.7412\n",
      "Iter 472/2000 - Loss: 0.7411\n",
      "Iter 473/2000 - Loss: 0.7410\n",
      "Iter 474/2000 - Loss: 0.7409\n",
      "Iter 475/2000 - Loss: 0.7407\n"
     ]
    },
    {
     "name": "stderr",
     "output_type": "stream",
     "text": [
      "Iteration:  24%|██▍       | 481/2000 [00:10<00:27, 54.60it/s, loss=0.74] "
     ]
    },
    {
     "name": "stdout",
     "output_type": "stream",
     "text": [
      "Iter 476/2000 - Loss: 0.7406\n",
      "Iter 477/2000 - Loss: 0.7405\n",
      "Iter 478/2000 - Loss: 0.7404\n",
      "Iter 479/2000 - Loss: 0.7403\n",
      "Iter 480/2000 - Loss: 0.7401\n",
      "Iter 481/2000 - Loss: 0.7400\n",
      "Iter 482/2000 - Loss: 0.7399\n",
      "Iter 483/2000 - Loss: 0.7398\n",
      "Iter 484/2000 - Loss: 0.7397\n",
      "Iter 485/2000 - Loss: 0.7396\n"
     ]
    },
    {
     "name": "stderr",
     "output_type": "stream",
     "text": [
      "Iteration:  25%|██▍       | 492/2000 [00:10<00:34, 43.83it/s, loss=0.738]"
     ]
    },
    {
     "name": "stdout",
     "output_type": "stream",
     "text": [
      "Iter 486/2000 - Loss: 0.7395\n",
      "Iter 487/2000 - Loss: 0.7394\n",
      "Iter 488/2000 - Loss: 0.7393\n",
      "Iter 489/2000 - Loss: 0.7392\n",
      "Iter 490/2000 - Loss: 0.7391\n",
      "Iter 491/2000 - Loss: 0.7390\n",
      "Iter 492/2000 - Loss: 0.7389\n",
      "Iter 493/2000 - Loss: 0.7388\n",
      "Iter 494/2000 - Loss: 0.7387\n",
      "Iter 495/2000 - Loss: 0.7386\n"
     ]
    },
    {
     "name": "stderr",
     "output_type": "stream",
     "text": [
      "Iteration:  25%|██▌       | 504/2000 [00:10<00:29, 50.03it/s, loss=0.738]"
     ]
    },
    {
     "name": "stdout",
     "output_type": "stream",
     "text": [
      "Iter 496/2000 - Loss: 0.7385\n",
      "Iter 497/2000 - Loss: 0.7384\n",
      "Iter 498/2000 - Loss: 0.7383\n",
      "Iter 499/2000 - Loss: 0.7382\n",
      "Iter 500/2000 - Loss: 0.7381\n",
      "Iter 501/2000 - Loss: 0.7380\n",
      "Iter 502/2000 - Loss: 0.7380\n",
      "Iter 503/2000 - Loss: 0.7379\n",
      "Iter 504/2000 - Loss: 0.7378\n",
      "Iter 505/2000 - Loss: 0.7377\n",
      "Iter 506/2000 - Loss: 0.7377\n",
      "Iter 507/2000 - Loss: 0.7376\n"
     ]
    },
    {
     "name": "stderr",
     "output_type": "stream",
     "text": [
      "Iteration:  26%|██▌       | 516/2000 [00:10<00:31, 46.93it/s, loss=0.737]"
     ]
    },
    {
     "name": "stdout",
     "output_type": "stream",
     "text": [
      "Iter 508/2000 - Loss: 0.7376\n",
      "Iter 509/2000 - Loss: 0.7374\n",
      "Iter 510/2000 - Loss: 0.7373\n",
      "Iter 511/2000 - Loss: 0.7373\n",
      "Iter 512/2000 - Loss: 0.7372\n",
      "Iter 513/2000 - Loss: 0.7371\n",
      "Iter 514/2000 - Loss: 0.7371\n",
      "Iter 515/2000 - Loss: 0.7370\n",
      "Iter 516/2000 - Loss: 0.7369\n"
     ]
    },
    {
     "name": "stderr",
     "output_type": "stream",
     "text": [
      "Iteration:  26%|██▌       | 522/2000 [00:10<00:29, 49.79it/s, loss=0.736]"
     ]
    },
    {
     "name": "stdout",
     "output_type": "stream",
     "text": [
      "Iter 517/2000 - Loss: 0.7368\n",
      "Iter 518/2000 - Loss: 0.7368\n",
      "Iter 519/2000 - Loss: 0.7367\n",
      "Iter 520/2000 - Loss: 0.7366\n",
      "Iter 521/2000 - Loss: 0.7366\n",
      "Iter 522/2000 - Loss: 0.7365\n",
      "Iter 523/2000 - Loss: 0.7365\n",
      "Iter 524/2000 - Loss: 0.7364\n",
      "Iter 525/2000 - Loss: 0.7363\n"
     ]
    },
    {
     "name": "stderr",
     "output_type": "stream",
     "text": [
      "Iteration:  27%|██▋       | 534/2000 [00:11<00:30, 48.14it/s, loss=0.736]"
     ]
    },
    {
     "name": "stdout",
     "output_type": "stream",
     "text": [
      "Iter 526/2000 - Loss: 0.7363\n",
      "Iter 527/2000 - Loss: 0.7362\n",
      "Iter 528/2000 - Loss: 0.7362\n",
      "Iter 529/2000 - Loss: 0.7361\n",
      "Iter 530/2000 - Loss: 0.7361\n",
      "Iter 531/2000 - Loss: 0.7360\n",
      "Iter 532/2000 - Loss: 0.7359\n",
      "Iter 533/2000 - Loss: 0.7359\n",
      "Iter 534/2000 - Loss: 0.7358\n",
      "Iter 535/2000 - Loss: 0.7358\n",
      "Iter 536/2000 - Loss: 0.7357\n",
      "Iter 537/2000 - Loss: 0.7357\n"
     ]
    },
    {
     "name": "stderr",
     "output_type": "stream",
     "text": [
      "Iteration:  27%|██▋       | 546/2000 [00:11<00:27, 53.15it/s, loss=0.735]"
     ]
    },
    {
     "name": "stdout",
     "output_type": "stream",
     "text": [
      "Iter 538/2000 - Loss: 0.7356\n",
      "Iter 539/2000 - Loss: 0.7356\n",
      "Iter 540/2000 - Loss: 0.7355\n",
      "Iter 541/2000 - Loss: 0.7355\n",
      "Iter 542/2000 - Loss: 0.7354\n",
      "Iter 543/2000 - Loss: 0.7354\n",
      "Iter 544/2000 - Loss: 0.7353\n",
      "Iter 545/2000 - Loss: 0.7353\n",
      "Iter 546/2000 - Loss: 0.7353\n",
      "Iter 547/2000 - Loss: 0.7352\n",
      "Iter 548/2000 - Loss: 0.7352\n",
      "Iter 549/2000 - Loss: 0.7351\n"
     ]
    },
    {
     "name": "stderr",
     "output_type": "stream",
     "text": [
      "Iteration:  28%|██▊       | 558/2000 [00:11<00:26, 54.46it/s, loss=0.735]"
     ]
    },
    {
     "name": "stdout",
     "output_type": "stream",
     "text": [
      "Iter 550/2000 - Loss: 0.7351\n",
      "Iter 551/2000 - Loss: 0.7350\n",
      "Iter 552/2000 - Loss: 0.7350\n",
      "Iter 553/2000 - Loss: 0.7350\n",
      "Iter 554/2000 - Loss: 0.7349\n",
      "Iter 555/2000 - Loss: 0.7349\n",
      "Iter 556/2000 - Loss: 0.7349\n",
      "Iter 557/2000 - Loss: 0.7348\n",
      "Iter 558/2000 - Loss: 0.7348\n",
      "Iter 559/2000 - Loss: 0.7347\n",
      "Iter 560/2000 - Loss: 0.7347\n",
      "Iter 561/2000 - Loss: 0.7347\n"
     ]
    },
    {
     "name": "stderr",
     "output_type": "stream",
     "text": [
      "Iteration:  28%|██▊       | 570/2000 [00:11<00:25, 56.28it/s, loss=0.734]"
     ]
    },
    {
     "name": "stdout",
     "output_type": "stream",
     "text": [
      "Iter 562/2000 - Loss: 0.7346\n",
      "Iter 563/2000 - Loss: 0.7346\n",
      "Iter 564/2000 - Loss: 0.7346\n",
      "Iter 565/2000 - Loss: 0.7345\n",
      "Iter 566/2000 - Loss: 0.7345\n",
      "Iter 567/2000 - Loss: 0.7345\n",
      "Iter 568/2000 - Loss: 0.7344\n",
      "Iter 569/2000 - Loss: 0.7344\n",
      "Iter 570/2000 - Loss: 0.7344\n",
      "Iter 571/2000 - Loss: 0.7343\n",
      "Iter 572/2000 - Loss: 0.7343\n",
      "Iter 573/2000 - Loss: 0.7343\n"
     ]
    },
    {
     "name": "stderr",
     "output_type": "stream",
     "text": [
      "Iteration:  29%|██▉       | 582/2000 [00:11<00:26, 53.97it/s, loss=0.734]"
     ]
    },
    {
     "name": "stdout",
     "output_type": "stream",
     "text": [
      "Iter 574/2000 - Loss: 0.7342\n",
      "Iter 575/2000 - Loss: 0.7342\n",
      "Iter 576/2000 - Loss: 0.7342\n",
      "Iter 577/2000 - Loss: 0.7342\n",
      "Iter 578/2000 - Loss: 0.7341\n",
      "Iter 579/2000 - Loss: 0.7341\n",
      "Iter 580/2000 - Loss: 0.7341\n",
      "Iter 581/2000 - Loss: 0.7340\n",
      "Iter 582/2000 - Loss: 0.7340\n",
      "Iter 583/2000 - Loss: 0.7340\n"
     ]
    },
    {
     "name": "stderr",
     "output_type": "stream",
     "text": [
      "Iteration:  29%|██▉       | 588/2000 [00:12<00:37, 37.67it/s, loss=0.734]"
     ]
    },
    {
     "name": "stdout",
     "output_type": "stream",
     "text": [
      "Iter 584/2000 - Loss: 0.7340\n",
      "Iter 585/2000 - Loss: 0.7339\n",
      "Iter 586/2000 - Loss: 0.7339\n",
      "Iter 587/2000 - Loss: 0.7339\n",
      "Iter 588/2000 - Loss: 0.7339\n",
      "Iter 589/2000 - Loss: 0.7338\n"
     ]
    },
    {
     "name": "stderr",
     "output_type": "stream",
     "text": [
      "Iteration:  30%|██▉       | 593/2000 [00:12<00:39, 35.80it/s, loss=0.734]"
     ]
    },
    {
     "name": "stdout",
     "output_type": "stream",
     "text": [
      "Iter 590/2000 - Loss: 0.7338\n",
      "Iter 591/2000 - Loss: 0.7338\n",
      "Iter 592/2000 - Loss: 0.7338\n",
      "Iter 593/2000 - Loss: 0.7337\n"
     ]
    },
    {
     "name": "stderr",
     "output_type": "stream",
     "text": [
      "Iteration:  30%|██▉       | 598/2000 [00:12<00:56, 24.60it/s, loss=0.734]"
     ]
    },
    {
     "name": "stdout",
     "output_type": "stream",
     "text": [
      "Iter 594/2000 - Loss: 0.7337\n",
      "Iter 595/2000 - Loss: 0.7337\n",
      "Iter 596/2000 - Loss: 0.7337\n",
      "Iter 597/2000 - Loss: 0.7336\n",
      "Iter 598/2000 - Loss: 0.7336\n"
     ]
    },
    {
     "name": "stderr",
     "output_type": "stream",
     "text": [
      "Iteration:  30%|███       | 610/2000 [00:12<00:38, 35.65it/s, loss=0.733]"
     ]
    },
    {
     "name": "stdout",
     "output_type": "stream",
     "text": [
      "Iter 599/2000 - Loss: 0.7336\n",
      "Iter 600/2000 - Loss: 0.7336\n",
      "Iter 601/2000 - Loss: 0.7336\n",
      "Iter 602/2000 - Loss: 0.7335\n",
      "Iter 603/2000 - Loss: 0.7335\n",
      "Iter 604/2000 - Loss: 0.7335\n",
      "Iter 605/2000 - Loss: 0.7335\n",
      "Iter 606/2000 - Loss: 0.7334\n",
      "Iter 607/2000 - Loss: 0.7334\n",
      "Iter 608/2000 - Loss: 0.7334\n",
      "Iter 609/2000 - Loss: 0.7334\n",
      "Iter 610/2000 - Loss: 0.7334\n"
     ]
    },
    {
     "name": "stderr",
     "output_type": "stream",
     "text": [
      "Iteration:  31%|███       | 622/2000 [00:13<00:30, 44.69it/s, loss=0.733]"
     ]
    },
    {
     "name": "stdout",
     "output_type": "stream",
     "text": [
      "Iter 611/2000 - Loss: 0.7333\n",
      "Iter 612/2000 - Loss: 0.7333\n",
      "Iter 613/2000 - Loss: 0.7333\n",
      "Iter 614/2000 - Loss: 0.7333\n",
      "Iter 615/2000 - Loss: 0.7333\n",
      "Iter 616/2000 - Loss: 0.7333\n",
      "Iter 617/2000 - Loss: 0.7332\n",
      "Iter 618/2000 - Loss: 0.7332\n",
      "Iter 619/2000 - Loss: 0.7332\n",
      "Iter 620/2000 - Loss: 0.7332\n",
      "Iter 621/2000 - Loss: 0.7332\n",
      "Iter 622/2000 - Loss: 0.7331\n"
     ]
    },
    {
     "name": "stderr",
     "output_type": "stream",
     "text": [
      "Iteration:  32%|███▏      | 634/2000 [00:13<00:26, 50.73it/s, loss=0.733]"
     ]
    },
    {
     "name": "stdout",
     "output_type": "stream",
     "text": [
      "Iter 623/2000 - Loss: 0.7331\n",
      "Iter 624/2000 - Loss: 0.7331\n",
      "Iter 625/2000 - Loss: 0.7331\n",
      "Iter 626/2000 - Loss: 0.7331\n",
      "Iter 627/2000 - Loss: 0.7331\n",
      "Iter 628/2000 - Loss: 0.7330\n",
      "Iter 629/2000 - Loss: 0.7330\n",
      "Iter 630/2000 - Loss: 0.7330\n",
      "Iter 631/2000 - Loss: 0.7330\n",
      "Iter 632/2000 - Loss: 0.7330\n",
      "Iter 633/2000 - Loss: 0.7330\n",
      "Iter 634/2000 - Loss: 0.7329\n"
     ]
    },
    {
     "name": "stderr",
     "output_type": "stream",
     "text": [
      "Iteration:  32%|███▏      | 646/2000 [00:13<00:24, 54.72it/s, loss=0.733]"
     ]
    },
    {
     "name": "stdout",
     "output_type": "stream",
     "text": [
      "Iter 635/2000 - Loss: 0.7329\n",
      "Iter 636/2000 - Loss: 0.7329\n",
      "Iter 637/2000 - Loss: 0.7329\n",
      "Iter 638/2000 - Loss: 0.7329\n",
      "Iter 639/2000 - Loss: 0.7329\n",
      "Iter 640/2000 - Loss: 0.7328\n",
      "Iter 641/2000 - Loss: 0.7328\n",
      "Iter 642/2000 - Loss: 0.7328\n",
      "Iter 643/2000 - Loss: 0.7328\n",
      "Iter 644/2000 - Loss: 0.7328\n",
      "Iter 645/2000 - Loss: 0.7328\n",
      "Iter 646/2000 - Loss: 0.7328\n"
     ]
    },
    {
     "name": "stderr",
     "output_type": "stream",
     "text": [
      "Iteration:  32%|███▏      | 646/2000 [00:13<00:24, 54.72it/s, loss=0.733]"
     ]
    },
    {
     "name": "stdout",
     "output_type": "stream",
     "text": [
      "Iter 647/2000 - Loss: 0.7327\n",
      "Iter 648/2000 - Loss: 0.7327\n",
      "Iter 649/2000 - Loss: 0.7327\n",
      "Iter 650/2000 - Loss: 0.7327\n"
     ]
    },
    {
     "name": "stderr",
     "output_type": "stream",
     "text": [
      "Iteration:  33%|███▎      | 658/2000 [00:14<00:30, 44.01it/s, loss=0.733]"
     ]
    },
    {
     "name": "stdout",
     "output_type": "stream",
     "text": [
      "Iter 651/2000 - Loss: 0.7327\n",
      "Iter 652/2000 - Loss: 0.7327\n",
      "Iter 653/2000 - Loss: 0.7327\n",
      "Iter 654/2000 - Loss: 0.7327\n",
      "Iter 655/2000 - Loss: 0.7326\n",
      "Iter 656/2000 - Loss: 0.7326\n",
      "Iter 657/2000 - Loss: 0.7326\n",
      "Iter 658/2000 - Loss: 0.7326\n",
      "Iter 659/2000 - Loss: 0.7326\n",
      "Iter 660/2000 - Loss: 0.7326\n"
     ]
    },
    {
     "name": "stderr",
     "output_type": "stream",
     "text": [
      "Iteration:  33%|███▎      | 669/2000 [00:14<00:29, 45.15it/s, loss=0.732]"
     ]
    },
    {
     "name": "stdout",
     "output_type": "stream",
     "text": [
      "Iter 661/2000 - Loss: 0.7326\n",
      "Iter 662/2000 - Loss: 0.7325\n",
      "Iter 663/2000 - Loss: 0.7325\n",
      "Iter 664/2000 - Loss: 0.7325\n",
      "Iter 665/2000 - Loss: 0.7325\n",
      "Iter 666/2000 - Loss: 0.7325\n",
      "Iter 667/2000 - Loss: 0.7325\n",
      "Iter 668/2000 - Loss: 0.7325\n",
      "Iter 669/2000 - Loss: 0.7325\n",
      "Iter 670/2000 - Loss: 0.7324\n",
      "Iter 671/2000 - Loss: 0.7324\n"
     ]
    },
    {
     "name": "stderr",
     "output_type": "stream",
     "text": [
      "Iteration:  34%|███▍      | 681/2000 [00:14<00:25, 50.98it/s, loss=0.732]"
     ]
    },
    {
     "name": "stdout",
     "output_type": "stream",
     "text": [
      "Iter 672/2000 - Loss: 0.7324\n",
      "Iter 673/2000 - Loss: 0.7324\n",
      "Iter 674/2000 - Loss: 0.7324\n",
      "Iter 675/2000 - Loss: 0.7324\n",
      "Iter 676/2000 - Loss: 0.7324\n",
      "Iter 677/2000 - Loss: 0.7324\n",
      "Iter 678/2000 - Loss: 0.7324\n",
      "Iter 679/2000 - Loss: 0.7323\n",
      "Iter 680/2000 - Loss: 0.7323\n",
      "Iter 681/2000 - Loss: 0.7323\n",
      "Iter 682/2000 - Loss: 0.7323\n",
      "Iter 683/2000 - Loss: 0.7323\n"
     ]
    },
    {
     "name": "stderr",
     "output_type": "stream",
     "text": [
      "Iteration:  34%|███▍      | 687/2000 [00:14<00:25, 52.36it/s, loss=0.732]"
     ]
    },
    {
     "name": "stdout",
     "output_type": "stream",
     "text": [
      "Iter 684/2000 - Loss: 0.7323\n",
      "Iter 685/2000 - Loss: 0.7323\n",
      "Iter 686/2000 - Loss: 0.7323\n",
      "Iter 687/2000 - Loss: 0.7323\n",
      "Iter 688/2000 - Loss: 0.7323\n",
      "Iter 689/2000 - Loss: 0.7322\n",
      "Iter 690/2000 - Loss: 0.7322\n",
      "Iter 691/2000 - Loss: 0.7322\n",
      "Iter 692/2000 - Loss: 0.7323\n"
     ]
    },
    {
     "name": "stderr",
     "output_type": "stream",
     "text": [
      "Iteration:  35%|███▌      | 700/2000 [00:14<00:26, 49.98it/s, loss=0.732]"
     ]
    },
    {
     "name": "stdout",
     "output_type": "stream",
     "text": [
      "Iter 693/2000 - Loss: 0.7323\n",
      "Iter 694/2000 - Loss: 0.7322\n",
      "Iter 695/2000 - Loss: 0.7322\n",
      "Iter 696/2000 - Loss: 0.7322\n",
      "Iter 697/2000 - Loss: 0.7322\n",
      "Iter 698/2000 - Loss: 0.7322\n",
      "Iter 699/2000 - Loss: 0.7321\n",
      "Iter 700/2000 - Loss: 0.7321\n",
      "Iter 701/2000 - Loss: 0.7321\n",
      "Iter 702/2000 - Loss: 0.7321\n",
      "Iter 703/2000 - Loss: 0.7321\n",
      "Iter 704/2000 - Loss: 0.7321\n",
      "Iter 705/2000 - Loss: 0.7321\n"
     ]
    },
    {
     "name": "stderr",
     "output_type": "stream",
     "text": [
      "Iteration:  36%|███▌      | 713/2000 [00:15<00:23, 54.42it/s, loss=0.732]"
     ]
    },
    {
     "name": "stdout",
     "output_type": "stream",
     "text": [
      "Iter 706/2000 - Loss: 0.7321\n",
      "Iter 707/2000 - Loss: 0.7320\n",
      "Iter 708/2000 - Loss: 0.7320\n",
      "Iter 709/2000 - Loss: 0.7320\n",
      "Iter 710/2000 - Loss: 0.7320\n",
      "Iter 711/2000 - Loss: 0.7320\n",
      "Iter 712/2000 - Loss: 0.7320\n",
      "Iter 713/2000 - Loss: 0.7320\n",
      "Iter 714/2000 - Loss: 0.7320\n",
      "Iter 715/2000 - Loss: 0.7319\n"
     ]
    },
    {
     "name": "stderr",
     "output_type": "stream",
     "text": [
      "Iteration:  36%|███▋      | 726/2000 [00:15<00:24, 52.73it/s, loss=0.732]"
     ]
    },
    {
     "name": "stdout",
     "output_type": "stream",
     "text": [
      "Iter 716/2000 - Loss: 0.7319\n",
      "Iter 717/2000 - Loss: 0.7319\n",
      "Iter 718/2000 - Loss: 0.7319\n",
      "Iter 719/2000 - Loss: 0.7319\n",
      "Iter 720/2000 - Loss: 0.7319\n",
      "Iter 721/2000 - Loss: 0.7319\n",
      "Iter 722/2000 - Loss: 0.7319\n",
      "Iter 723/2000 - Loss: 0.7318\n",
      "Iter 724/2000 - Loss: 0.7318\n",
      "Iter 725/2000 - Loss: 0.7318\n",
      "Iter 726/2000 - Loss: 0.7318\n",
      "Iter 727/2000 - Loss: 0.7318\n"
     ]
    },
    {
     "name": "stderr",
     "output_type": "stream",
     "text": [
      "Iteration:  37%|███▋      | 732/2000 [00:15<00:27, 46.05it/s, loss=0.732]"
     ]
    },
    {
     "name": "stdout",
     "output_type": "stream",
     "text": [
      "Iter 728/2000 - Loss: 0.7318\n",
      "Iter 729/2000 - Loss: 0.7318\n",
      "Iter 730/2000 - Loss: 0.7317\n",
      "Iter 731/2000 - Loss: 0.7317\n",
      "Iter 732/2000 - Loss: 0.7317\n",
      "Iter 733/2000 - Loss: 0.7317\n",
      "Iter 734/2000 - Loss: 0.7317\n",
      "Iter 735/2000 - Loss: 0.7316\n"
     ]
    },
    {
     "name": "stderr",
     "output_type": "stream",
     "text": [
      "Iteration:  37%|███▋      | 744/2000 [00:15<00:24, 51.39it/s, loss=0.731]"
     ]
    },
    {
     "name": "stdout",
     "output_type": "stream",
     "text": [
      "Iter 736/2000 - Loss: 0.7316\n",
      "Iter 737/2000 - Loss: 0.7316\n",
      "Iter 738/2000 - Loss: 0.7316\n",
      "Iter 739/2000 - Loss: 0.7316\n",
      "Iter 740/2000 - Loss: 0.7315\n",
      "Iter 741/2000 - Loss: 0.7315\n",
      "Iter 742/2000 - Loss: 0.7315\n",
      "Iter 743/2000 - Loss: 0.7315\n",
      "Iter 744/2000 - Loss: 0.7314\n",
      "Iter 745/2000 - Loss: 0.7314\n",
      "Iter 746/2000 - Loss: 0.7314\n",
      "Iter 747/2000 - Loss: 0.7313\n"
     ]
    },
    {
     "name": "stderr",
     "output_type": "stream",
     "text": [
      "Iteration:  38%|███▊      | 756/2000 [00:15<00:23, 53.79it/s, loss=0.731]"
     ]
    },
    {
     "name": "stdout",
     "output_type": "stream",
     "text": [
      "Iter 748/2000 - Loss: 0.7313\n",
      "Iter 749/2000 - Loss: 0.7313\n",
      "Iter 750/2000 - Loss: 0.7312\n",
      "Iter 751/2000 - Loss: 0.7312\n",
      "Iter 752/2000 - Loss: 0.7312\n",
      "Iter 753/2000 - Loss: 0.7311\n",
      "Iter 754/2000 - Loss: 0.7311\n",
      "Iter 755/2000 - Loss: 0.7310\n",
      "Iter 756/2000 - Loss: 0.7310\n",
      "Iter 757/2000 - Loss: 0.7310\n",
      "Iter 758/2000 - Loss: 0.7309\n",
      "Iter 759/2000 - Loss: 0.7309\n"
     ]
    },
    {
     "name": "stderr",
     "output_type": "stream",
     "text": [
      "Iteration:  38%|███▊      | 762/2000 [00:16<00:29, 42.47it/s, loss=0.73] "
     ]
    },
    {
     "name": "stdout",
     "output_type": "stream",
     "text": [
      "Iter 760/2000 - Loss: 0.7308\n",
      "Iter 761/2000 - Loss: 0.7308\n",
      "Iter 762/2000 - Loss: 0.7307\n",
      "Iter 763/2000 - Loss: 0.7306\n",
      "Iter 764/2000 - Loss: 0.7306\n",
      "Iter 765/2000 - Loss: 0.7305\n",
      "Iter 766/2000 - Loss: 0.7305\n",
      "Iter 767/2000 - Loss: 0.7304\n"
     ]
    },
    {
     "name": "stderr",
     "output_type": "stream",
     "text": [
      "Iteration:  39%|███▊      | 774/2000 [00:16<00:25, 48.37it/s, loss=0.73]"
     ]
    },
    {
     "name": "stdout",
     "output_type": "stream",
     "text": [
      "Iter 768/2000 - Loss: 0.7303\n",
      "Iter 769/2000 - Loss: 0.7303\n",
      "Iter 770/2000 - Loss: 0.7302\n",
      "Iter 771/2000 - Loss: 0.7301\n",
      "Iter 772/2000 - Loss: 0.7300\n",
      "Iter 773/2000 - Loss: 0.7300\n",
      "Iter 774/2000 - Loss: 0.7299\n",
      "Iter 775/2000 - Loss: 0.7298\n",
      "Iter 776/2000 - Loss: 0.7297\n",
      "Iter 777/2000 - Loss: 0.7297\n",
      "Iter 778/2000 - Loss: 0.7296\n",
      "Iter 779/2000 - Loss: 0.7295\n"
     ]
    },
    {
     "name": "stderr",
     "output_type": "stream",
     "text": [
      "Iteration:  39%|███▉      | 786/2000 [00:16<00:23, 51.69it/s, loss=0.729]"
     ]
    },
    {
     "name": "stdout",
     "output_type": "stream",
     "text": [
      "Iter 780/2000 - Loss: 0.7294\n",
      "Iter 781/2000 - Loss: 0.7293\n",
      "Iter 782/2000 - Loss: 0.7293\n",
      "Iter 783/2000 - Loss: 0.7292\n",
      "Iter 784/2000 - Loss: 0.7291\n",
      "Iter 785/2000 - Loss: 0.7290\n",
      "Iter 786/2000 - Loss: 0.7289\n",
      "Iter 787/2000 - Loss: 0.7289\n",
      "Iter 788/2000 - Loss: 0.7288\n"
     ]
    },
    {
     "name": "stderr",
     "output_type": "stream",
     "text": [
      "Iteration:  40%|███▉      | 792/2000 [00:16<00:36, 33.44it/s, loss=0.728]"
     ]
    },
    {
     "name": "stdout",
     "output_type": "stream",
     "text": [
      "Iter 789/2000 - Loss: 0.7287\n",
      "Iter 790/2000 - Loss: 0.7286\n",
      "Iter 791/2000 - Loss: 0.7286\n",
      "Iter 792/2000 - Loss: 0.7285\n",
      "Iter 793/2000 - Loss: 0.7284\n",
      "Iter 794/2000 - Loss: 0.7283\n"
     ]
    },
    {
     "name": "stderr",
     "output_type": "stream",
     "text": [
      "Iteration:  40%|███▉      | 798/2000 [00:16<00:31, 38.30it/s, loss=0.728]"
     ]
    },
    {
     "name": "stdout",
     "output_type": "stream",
     "text": [
      "Iter 795/2000 - Loss: 0.7283\n",
      "Iter 796/2000 - Loss: 0.7282\n",
      "Iter 797/2000 - Loss: 0.7281\n",
      "Iter 798/2000 - Loss: 0.7281\n",
      "Iter 799/2000 - Loss: 0.7280\n",
      "Iter 800/2000 - Loss: 0.7279\n"
     ]
    },
    {
     "name": "stderr",
     "output_type": "stream",
     "text": [
      "Iteration:  40%|████      | 810/2000 [00:17<00:36, 33.01it/s, loss=0.727]"
     ]
    },
    {
     "name": "stdout",
     "output_type": "stream",
     "text": [
      "Iter 801/2000 - Loss: 0.7279\n",
      "Iter 802/2000 - Loss: 0.7278\n",
      "Iter 803/2000 - Loss: 0.7277\n",
      "Iter 804/2000 - Loss: 0.7277\n",
      "Iter 805/2000 - Loss: 0.7276\n",
      "Iter 806/2000 - Loss: 0.7276\n",
      "Iter 807/2000 - Loss: 0.7275\n",
      "Iter 808/2000 - Loss: 0.7275\n",
      "Iter 809/2000 - Loss: 0.7274\n",
      "Iter 810/2000 - Loss: 0.7274\n",
      "Iter 811/2000 - Loss: 0.7273\n",
      "Iter 812/2000 - Loss: 0.7273\n"
     ]
    },
    {
     "name": "stderr",
     "output_type": "stream",
     "text": [
      "Iteration:  41%|████      | 822/2000 [00:17<00:27, 42.15it/s, loss=0.727]"
     ]
    },
    {
     "name": "stdout",
     "output_type": "stream",
     "text": [
      "Iter 813/2000 - Loss: 0.7272\n",
      "Iter 814/2000 - Loss: 0.7272\n",
      "Iter 815/2000 - Loss: 0.7271\n",
      "Iter 816/2000 - Loss: 0.7271\n",
      "Iter 817/2000 - Loss: 0.7271\n",
      "Iter 818/2000 - Loss: 0.7270\n",
      "Iter 819/2000 - Loss: 0.7270\n",
      "Iter 820/2000 - Loss: 0.7269\n",
      "Iter 821/2000 - Loss: 0.7269\n",
      "Iter 822/2000 - Loss: 0.7269\n",
      "Iter 823/2000 - Loss: 0.7268\n",
      "Iter 824/2000 - Loss: 0.7268\n"
     ]
    },
    {
     "name": "stderr",
     "output_type": "stream",
     "text": [
      "Iteration:  42%|████▏     | 834/2000 [00:17<00:23, 48.93it/s, loss=0.726]"
     ]
    },
    {
     "name": "stdout",
     "output_type": "stream",
     "text": [
      "Iter 825/2000 - Loss: 0.7268\n",
      "Iter 826/2000 - Loss: 0.7267\n",
      "Iter 827/2000 - Loss: 0.7267\n",
      "Iter 828/2000 - Loss: 0.7267\n",
      "Iter 829/2000 - Loss: 0.7266\n",
      "Iter 830/2000 - Loss: 0.7266\n",
      "Iter 831/2000 - Loss: 0.7266\n",
      "Iter 832/2000 - Loss: 0.7266\n",
      "Iter 833/2000 - Loss: 0.7265\n",
      "Iter 834/2000 - Loss: 0.7265\n",
      "Iter 835/2000 - Loss: 0.7265\n",
      "Iter 836/2000 - Loss: 0.7264\n"
     ]
    },
    {
     "name": "stderr",
     "output_type": "stream",
     "text": [
      "Iteration:  42%|████▏     | 846/2000 [00:17<00:21, 53.72it/s, loss=0.726]"
     ]
    },
    {
     "name": "stdout",
     "output_type": "stream",
     "text": [
      "Iter 837/2000 - Loss: 0.7264\n",
      "Iter 838/2000 - Loss: 0.7264\n",
      "Iter 839/2000 - Loss: 0.7264\n",
      "Iter 840/2000 - Loss: 0.7264\n",
      "Iter 841/2000 - Loss: 0.7263\n",
      "Iter 842/2000 - Loss: 0.7263\n",
      "Iter 843/2000 - Loss: 0.7263\n",
      "Iter 844/2000 - Loss: 0.7263\n",
      "Iter 845/2000 - Loss: 0.7262\n",
      "Iter 846/2000 - Loss: 0.7262\n",
      "Iter 847/2000 - Loss: 0.7262\n"
     ]
    },
    {
     "name": "stderr",
     "output_type": "stream",
     "text": [
      "\r",
      "Iteration:  42%|████▏     | 846/2000 [00:18<00:21, 53.72it/s, loss=0.726]"
     ]
    },
    {
     "name": "stdout",
     "output_type": "stream",
     "text": [
      "Iter 848/2000 - Loss: 0.7262\n"
     ]
    },
    {
     "name": "stderr",
     "output_type": "stream",
     "text": [
      "\r",
      "Iteration:  42%|████▏     | 846/2000 [00:18<00:21, 53.72it/s, loss=0.726]"
     ]
    },
    {
     "name": "stdout",
     "output_type": "stream",
     "text": [
      "Iter 849/2000 - Loss: 0.7262\n"
     ]
    },
    {
     "name": "stderr",
     "output_type": "stream",
     "text": [
      "Iteration:  43%|████▎     | 858/2000 [00:19<01:16, 15.00it/s, loss=0.726]"
     ]
    },
    {
     "name": "stdout",
     "output_type": "stream",
     "text": [
      "Iter 850/2000 - Loss: 0.7261\n",
      "Iter 851/2000 - Loss: 0.7261\n",
      "Iter 852/2000 - Loss: 0.7261\n",
      "Iter 853/2000 - Loss: 0.7261\n",
      "Iter 854/2000 - Loss: 0.7261\n",
      "Iter 855/2000 - Loss: 0.7261\n",
      "Iter 856/2000 - Loss: 0.7260\n",
      "Iter 857/2000 - Loss: 0.7260\n",
      "Iter 858/2000 - Loss: 0.7260\n",
      "Iter 859/2000 - Loss: 0.7260\n",
      "Iter 860/2000 - Loss: 0.7260\n",
      "Iter 861/2000 - Loss: 0.7260\n",
      "Iter 862/2000 - Loss: 0.7259\n"
     ]
    },
    {
     "name": "stderr",
     "output_type": "stream",
     "text": [
      "Iteration:  43%|████▎     | 867/2000 [00:20<01:18, 14.45it/s, loss=0.726]"
     ]
    },
    {
     "name": "stdout",
     "output_type": "stream",
     "text": [
      "Iter 863/2000 - Loss: 0.7259\n",
      "Iter 864/2000 - Loss: 0.7259\n",
      "Iter 865/2000 - Loss: 0.7259\n",
      "Iter 866/2000 - Loss: 0.7259\n",
      "Iter 867/2000 - Loss: 0.7259\n",
      "Iter 868/2000 - Loss: 0.7259\n",
      "Iter 869/2000 - Loss: 0.7258\n",
      "Iter 870/2000 - Loss: 0.7258\n",
      "Iter 871/2000 - Loss: 0.7258\n",
      "Iter 872/2000 - Loss: 0.7258\n"
     ]
    },
    {
     "name": "stderr",
     "output_type": "stream",
     "text": [
      "Iteration:  44%|████▍     | 879/2000 [00:20<00:45, 24.53it/s, loss=0.726]"
     ]
    },
    {
     "name": "stdout",
     "output_type": "stream",
     "text": [
      "Iter 873/2000 - Loss: 0.7258\n",
      "Iter 874/2000 - Loss: 0.7258\n",
      "Iter 875/2000 - Loss: 0.7258\n",
      "Iter 876/2000 - Loss: 0.7257\n",
      "Iter 877/2000 - Loss: 0.7257\n",
      "Iter 878/2000 - Loss: 0.7257\n",
      "Iter 879/2000 - Loss: 0.7257\n",
      "Iter 880/2000 - Loss: 0.7257\n",
      "Iter 881/2000 - Loss: 0.7257\n",
      "Iter 882/2000 - Loss: 0.7257\n",
      "Iter 883/2000 - Loss: 0.7257\n",
      "Iter 884/2000 - Loss: 0.7256\n"
     ]
    },
    {
     "name": "stderr",
     "output_type": "stream",
     "text": [
      "Iteration:  45%|████▍     | 891/2000 [00:20<00:31, 35.24it/s, loss=0.726]"
     ]
    },
    {
     "name": "stdout",
     "output_type": "stream",
     "text": [
      "Iter 885/2000 - Loss: 0.7256\n",
      "Iter 886/2000 - Loss: 0.7256\n",
      "Iter 887/2000 - Loss: 0.7256\n",
      "Iter 888/2000 - Loss: 0.7256\n",
      "Iter 889/2000 - Loss: 0.7256\n",
      "Iter 890/2000 - Loss: 0.7256\n",
      "Iter 891/2000 - Loss: 0.7256\n",
      "Iter 892/2000 - Loss: 0.7256\n",
      "Iter 893/2000 - Loss: 0.7255\n",
      "Iter 894/2000 - Loss: 0.7255\n",
      "Iter 895/2000 - Loss: 0.7255\n",
      "Iter 896/2000 - Loss: 0.7255\n"
     ]
    },
    {
     "name": "stderr",
     "output_type": "stream",
     "text": [
      "Iteration:  45%|████▌     | 903/2000 [00:21<00:27, 39.34it/s, loss=0.725]"
     ]
    },
    {
     "name": "stdout",
     "output_type": "stream",
     "text": [
      "Iter 897/2000 - Loss: 0.7255\n",
      "Iter 898/2000 - Loss: 0.7255\n",
      "Iter 899/2000 - Loss: 0.7255\n",
      "Iter 900/2000 - Loss: 0.7255\n",
      "Iter 901/2000 - Loss: 0.7255\n",
      "Iter 902/2000 - Loss: 0.7254\n",
      "Iter 903/2000 - Loss: 0.7254\n",
      "Iter 904/2000 - Loss: 0.7254\n",
      "Iter 905/2000 - Loss: 0.7254\n"
     ]
    },
    {
     "name": "stderr",
     "output_type": "stream",
     "text": [
      "Iteration:  46%|████▌     | 915/2000 [00:21<00:23, 46.62it/s, loss=0.725]"
     ]
    },
    {
     "name": "stdout",
     "output_type": "stream",
     "text": [
      "Iter 906/2000 - Loss: 0.7254\n",
      "Iter 907/2000 - Loss: 0.7254\n",
      "Iter 908/2000 - Loss: 0.7254\n",
      "Iter 909/2000 - Loss: 0.7254\n",
      "Iter 910/2000 - Loss: 0.7254\n",
      "Iter 911/2000 - Loss: 0.7254\n",
      "Iter 912/2000 - Loss: 0.7254\n",
      "Iter 913/2000 - Loss: 0.7253\n",
      "Iter 914/2000 - Loss: 0.7253\n",
      "Iter 915/2000 - Loss: 0.7253\n",
      "Iter 916/2000 - Loss: 0.7253\n",
      "Iter 917/2000 - Loss: 0.7253\n"
     ]
    },
    {
     "name": "stderr",
     "output_type": "stream",
     "text": [
      "Iteration:  46%|████▋     | 927/2000 [00:21<00:20, 52.05it/s, loss=0.725]"
     ]
    },
    {
     "name": "stdout",
     "output_type": "stream",
     "text": [
      "Iter 918/2000 - Loss: 0.7253\n",
      "Iter 919/2000 - Loss: 0.7253\n",
      "Iter 920/2000 - Loss: 0.7253\n",
      "Iter 921/2000 - Loss: 0.7253\n",
      "Iter 922/2000 - Loss: 0.7253\n",
      "Iter 923/2000 - Loss: 0.7253\n",
      "Iter 924/2000 - Loss: 0.7252\n",
      "Iter 925/2000 - Loss: 0.7252\n",
      "Iter 926/2000 - Loss: 0.7252\n",
      "Iter 927/2000 - Loss: 0.7252\n",
      "Iter 928/2000 - Loss: 0.7252\n",
      "Iter 929/2000 - Loss: 0.7252\n"
     ]
    },
    {
     "name": "stderr",
     "output_type": "stream",
     "text": [
      "Iteration:  47%|████▋     | 939/2000 [00:21<00:19, 54.94it/s, loss=0.725]"
     ]
    },
    {
     "name": "stdout",
     "output_type": "stream",
     "text": [
      "Iter 930/2000 - Loss: 0.7252\n",
      "Iter 931/2000 - Loss: 0.7252\n",
      "Iter 932/2000 - Loss: 0.7252\n",
      "Iter 933/2000 - Loss: 0.7252\n",
      "Iter 934/2000 - Loss: 0.7252\n",
      "Iter 935/2000 - Loss: 0.7252\n",
      "Iter 936/2000 - Loss: 0.7251\n",
      "Iter 937/2000 - Loss: 0.7251\n",
      "Iter 938/2000 - Loss: 0.7251\n",
      "Iter 939/2000 - Loss: 0.7251\n",
      "Iter 940/2000 - Loss: 0.7251\n",
      "Iter 941/2000 - Loss: 0.7251\n"
     ]
    },
    {
     "name": "stderr",
     "output_type": "stream",
     "text": [
      "\r",
      "Iteration:  47%|████▋     | 939/2000 [00:21<00:19, 54.94it/s, loss=0.725]"
     ]
    },
    {
     "name": "stdout",
     "output_type": "stream",
     "text": [
      "Iter 942/2000 - Loss: 0.7251\n",
      "Iter 943/2000 - Loss: 0.7251\n"
     ]
    },
    {
     "name": "stderr",
     "output_type": "stream",
     "text": [
      "\r",
      "Iteration:  47%|████▋     | 939/2000 [00:21<00:19, 54.94it/s, loss=0.725]"
     ]
    },
    {
     "name": "stdout",
     "output_type": "stream",
     "text": [
      "Iter 944/2000 - Loss: 0.7251\n"
     ]
    },
    {
     "name": "stderr",
     "output_type": "stream",
     "text": [
      "Iteration:  48%|████▊     | 950/2000 [00:22<00:49, 21.23it/s, loss=0.725]"
     ]
    },
    {
     "name": "stdout",
     "output_type": "stream",
     "text": [
      "Iter 945/2000 - Loss: 0.7251\n",
      "Iter 946/2000 - Loss: 0.7251\n",
      "Iter 947/2000 - Loss: 0.7251\n",
      "Iter 948/2000 - Loss: 0.7250\n",
      "Iter 949/2000 - Loss: 0.7250\n",
      "Iter 950/2000 - Loss: 0.7250\n",
      "Iter 951/2000 - Loss: 0.7250\n",
      "Iter 952/2000 - Loss: 0.7250\n",
      "Iter 953/2000 - Loss: 0.7250\n"
     ]
    },
    {
     "name": "stderr",
     "output_type": "stream",
     "text": [
      "Iteration:  48%|████▊     | 960/2000 [00:22<00:35, 29.20it/s, loss=0.725]"
     ]
    },
    {
     "name": "stdout",
     "output_type": "stream",
     "text": [
      "Iter 954/2000 - Loss: 0.7250\n",
      "Iter 955/2000 - Loss: 0.7250\n",
      "Iter 956/2000 - Loss: 0.7250\n",
      "Iter 957/2000 - Loss: 0.7250\n",
      "Iter 958/2000 - Loss: 0.7250\n",
      "Iter 959/2000 - Loss: 0.7250\n",
      "Iter 960/2000 - Loss: 0.7250\n",
      "Iter 961/2000 - Loss: 0.7249\n",
      "Iter 962/2000 - Loss: 0.7249\n",
      "Iter 963/2000 - Loss: 0.7249\n"
     ]
    },
    {
     "name": "stderr",
     "output_type": "stream",
     "text": [
      "Iteration:  48%|████▊     | 965/2000 [00:22<00:31, 32.84it/s, loss=0.725]"
     ]
    },
    {
     "name": "stdout",
     "output_type": "stream",
     "text": [
      "Iter 964/2000 - Loss: 0.7249\n",
      "Iter 965/2000 - Loss: 0.7249\n",
      "Iter 966/2000 - Loss: 0.7249\n",
      "Iter 967/2000 - Loss: 0.7249\n",
      "Iter 968/2000 - Loss: 0.7249\n"
     ]
    },
    {
     "name": "stderr",
     "output_type": "stream",
     "text": [
      "Iteration:  49%|████▉     | 976/2000 [00:23<00:34, 29.82it/s, loss=0.725]"
     ]
    },
    {
     "name": "stdout",
     "output_type": "stream",
     "text": [
      "Iter 969/2000 - Loss: 0.7249\n",
      "Iter 970/2000 - Loss: 0.7249\n",
      "Iter 971/2000 - Loss: 0.7249\n",
      "Iter 972/2000 - Loss: 0.7249\n",
      "Iter 973/2000 - Loss: 0.7249\n",
      "Iter 974/2000 - Loss: 0.7248\n",
      "Iter 975/2000 - Loss: 0.7248\n",
      "Iter 976/2000 - Loss: 0.7248\n",
      "Iter 977/2000 - Loss: 0.7248\n",
      "Iter 978/2000 - Loss: 0.7248\n",
      "Iter 979/2000 - Loss: 0.7248\n",
      "Iter 980/2000 - Loss: 0.7248\n"
     ]
    },
    {
     "name": "stderr",
     "output_type": "stream",
     "text": [
      "Iteration:  49%|████▉     | 989/2000 [00:23<00:24, 41.22it/s, loss=0.725]"
     ]
    },
    {
     "name": "stdout",
     "output_type": "stream",
     "text": [
      "Iter 981/2000 - Loss: 0.7248\n",
      "Iter 982/2000 - Loss: 0.7248\n",
      "Iter 983/2000 - Loss: 0.7248\n",
      "Iter 984/2000 - Loss: 0.7248\n",
      "Iter 985/2000 - Loss: 0.7248\n",
      "Iter 986/2000 - Loss: 0.7247\n",
      "Iter 987/2000 - Loss: 0.7247\n",
      "Iter 988/2000 - Loss: 0.7247\n",
      "Iter 989/2000 - Loss: 0.7247\n",
      "Iter 990/2000 - Loss: 0.7247\n",
      "Iter 991/2000 - Loss: 0.7247\n",
      "Iter 992/2000 - Loss: 0.7247\n"
     ]
    },
    {
     "name": "stderr",
     "output_type": "stream",
     "text": [
      "Iteration:  50%|█████     | 1001/2000 [00:23<00:20, 48.51it/s, loss=0.725]"
     ]
    },
    {
     "name": "stdout",
     "output_type": "stream",
     "text": [
      "Iter 993/2000 - Loss: 0.7247\n",
      "Iter 994/2000 - Loss: 0.7247\n",
      "Iter 995/2000 - Loss: 0.7247\n",
      "Iter 996/2000 - Loss: 0.7246\n",
      "Iter 997/2000 - Loss: 0.7246\n",
      "Iter 998/2000 - Loss: 0.7246\n",
      "Iter 999/2000 - Loss: 0.7246\n",
      "Iter 1000/2000 - Loss: 0.7246\n",
      "Iter 1001/2000 - Loss: 0.7246\n",
      "Iter 1002/2000 - Loss: 0.7246\n",
      "Iter 1003/2000 - Loss: 0.7246\n",
      "Iter 1004/2000 - Loss: 0.7246\n"
     ]
    },
    {
     "name": "stderr",
     "output_type": "stream",
     "text": [
      "Iteration:  50%|█████     | 1007/2000 [00:23<00:19, 50.80it/s, loss=0.725]"
     ]
    },
    {
     "name": "stdout",
     "output_type": "stream",
     "text": [
      "Iter 1005/2000 - Loss: 0.7245\n",
      "Iter 1006/2000 - Loss: 0.7245\n",
      "Iter 1007/2000 - Loss: 0.7245\n"
     ]
    },
    {
     "name": "stderr",
     "output_type": "stream",
     "text": [
      "\r",
      "Iteration:  50%|█████     | 1007/2000 [00:24<00:19, 50.80it/s, loss=0.725]"
     ]
    },
    {
     "name": "stdout",
     "output_type": "stream",
     "text": [
      "Iter 1008/2000 - Loss: 0.7245\n"
     ]
    },
    {
     "name": "stderr",
     "output_type": "stream",
     "text": [
      "Iteration:  51%|█████     | 1019/2000 [00:25<00:51, 19.07it/s, loss=0.724]"
     ]
    },
    {
     "name": "stdout",
     "output_type": "stream",
     "text": [
      "Iter 1009/2000 - Loss: 0.7245\n",
      "Iter 1010/2000 - Loss: 0.7245\n",
      "Iter 1011/2000 - Loss: 0.7245\n",
      "Iter 1012/2000 - Loss: 0.7244\n",
      "Iter 1013/2000 - Loss: 0.7244\n",
      "Iter 1014/2000 - Loss: 0.7244\n",
      "Iter 1015/2000 - Loss: 0.7244\n",
      "Iter 1016/2000 - Loss: 0.7244\n",
      "Iter 1017/2000 - Loss: 0.7244\n",
      "Iter 1018/2000 - Loss: 0.7243\n",
      "Iter 1019/2000 - Loss: 0.7243\n",
      "Iter 1020/2000 - Loss: 0.7243\n"
     ]
    },
    {
     "name": "stderr",
     "output_type": "stream",
     "text": [
      "Iteration:  52%|█████▏    | 1032/2000 [00:25<00:32, 29.85it/s, loss=0.724]"
     ]
    },
    {
     "name": "stdout",
     "output_type": "stream",
     "text": [
      "Iter 1021/2000 - Loss: 0.7243\n",
      "Iter 1022/2000 - Loss: 0.7242\n",
      "Iter 1023/2000 - Loss: 0.7242\n",
      "Iter 1024/2000 - Loss: 0.7242\n",
      "Iter 1025/2000 - Loss: 0.7242\n",
      "Iter 1026/2000 - Loss: 0.7241\n",
      "Iter 1027/2000 - Loss: 0.7241\n",
      "Iter 1028/2000 - Loss: 0.7241\n",
      "Iter 1029/2000 - Loss: 0.7240\n",
      "Iter 1030/2000 - Loss: 0.7240\n",
      "Iter 1031/2000 - Loss: 0.7240\n",
      "Iter 1032/2000 - Loss: 0.7240\n"
     ]
    },
    {
     "name": "stderr",
     "output_type": "stream",
     "text": [
      "Iteration:  52%|█████▏    | 1044/2000 [00:25<00:24, 39.52it/s, loss=0.723]"
     ]
    },
    {
     "name": "stdout",
     "output_type": "stream",
     "text": [
      "Iter 1033/2000 - Loss: 0.7239\n",
      "Iter 1034/2000 - Loss: 0.7239\n",
      "Iter 1035/2000 - Loss: 0.7238\n",
      "Iter 1036/2000 - Loss: 0.7238\n",
      "Iter 1037/2000 - Loss: 0.7238\n",
      "Iter 1038/2000 - Loss: 0.7237\n",
      "Iter 1039/2000 - Loss: 0.7237\n",
      "Iter 1040/2000 - Loss: 0.7236\n",
      "Iter 1041/2000 - Loss: 0.7236\n",
      "Iter 1042/2000 - Loss: 0.7235\n",
      "Iter 1043/2000 - Loss: 0.7235\n",
      "Iter 1044/2000 - Loss: 0.7234\n"
     ]
    },
    {
     "name": "stderr",
     "output_type": "stream",
     "text": [
      "Iteration:  53%|█████▎    | 1056/2000 [00:25<00:19, 47.51it/s, loss=0.723]"
     ]
    },
    {
     "name": "stdout",
     "output_type": "stream",
     "text": [
      "Iter 1045/2000 - Loss: 0.7234\n",
      "Iter 1046/2000 - Loss: 0.7233\n",
      "Iter 1047/2000 - Loss: 0.7233\n",
      "Iter 1048/2000 - Loss: 0.7232\n",
      "Iter 1049/2000 - Loss: 0.7232\n",
      "Iter 1050/2000 - Loss: 0.7231\n",
      "Iter 1051/2000 - Loss: 0.7230\n",
      "Iter 1052/2000 - Loss: 0.7230\n",
      "Iter 1053/2000 - Loss: 0.7229\n",
      "Iter 1054/2000 - Loss: 0.7229\n",
      "Iter 1055/2000 - Loss: 0.7228\n",
      "Iter 1056/2000 - Loss: 0.7227\n"
     ]
    },
    {
     "name": "stderr",
     "output_type": "stream",
     "text": [
      "Iteration:  53%|█████▎    | 1068/2000 [00:25<00:17, 52.53it/s, loss=0.722]"
     ]
    },
    {
     "name": "stdout",
     "output_type": "stream",
     "text": [
      "Iter 1057/2000 - Loss: 0.7227\n",
      "Iter 1058/2000 - Loss: 0.7226\n",
      "Iter 1059/2000 - Loss: 0.7225\n",
      "Iter 1060/2000 - Loss: 0.7225\n",
      "Iter 1061/2000 - Loss: 0.7224\n",
      "Iter 1062/2000 - Loss: 0.7223\n",
      "Iter 1063/2000 - Loss: 0.7222\n",
      "Iter 1064/2000 - Loss: 0.7222\n",
      "Iter 1065/2000 - Loss: 0.7221\n",
      "Iter 1066/2000 - Loss: 0.7220\n",
      "Iter 1067/2000 - Loss: 0.7220\n",
      "Iter 1068/2000 - Loss: 0.7219\n"
     ]
    },
    {
     "name": "stderr",
     "output_type": "stream",
     "text": [
      "Iteration:  54%|█████▍    | 1080/2000 [00:26<00:16, 55.18it/s, loss=0.721]"
     ]
    },
    {
     "name": "stdout",
     "output_type": "stream",
     "text": [
      "Iter 1069/2000 - Loss: 0.7218\n",
      "Iter 1070/2000 - Loss: 0.7217\n",
      "Iter 1071/2000 - Loss: 0.7217\n",
      "Iter 1072/2000 - Loss: 0.7216\n",
      "Iter 1073/2000 - Loss: 0.7215\n",
      "Iter 1074/2000 - Loss: 0.7215\n",
      "Iter 1075/2000 - Loss: 0.7214\n",
      "Iter 1076/2000 - Loss: 0.7213\n",
      "Iter 1077/2000 - Loss: 0.7212\n",
      "Iter 1078/2000 - Loss: 0.7212\n",
      "Iter 1079/2000 - Loss: 0.7211\n",
      "Iter 1080/2000 - Loss: 0.7210\n"
     ]
    },
    {
     "name": "stderr",
     "output_type": "stream",
     "text": [
      "Iteration:  54%|█████▍    | 1086/2000 [00:26<00:16, 55.63it/s, loss=0.72] "
     ]
    },
    {
     "name": "stdout",
     "output_type": "stream",
     "text": [
      "Iter 1081/2000 - Loss: 0.7210\n",
      "Iter 1082/2000 - Loss: 0.7209\n",
      "Iter 1083/2000 - Loss: 0.7208\n",
      "Iter 1084/2000 - Loss: 0.7207\n",
      "Iter 1085/2000 - Loss: 0.7207\n",
      "Iter 1086/2000 - Loss: 0.7206\n",
      "Iter 1087/2000 - Loss: 0.7205\n",
      "Iter 1088/2000 - Loss: 0.7205\n",
      "Iter 1089/2000 - Loss: 0.7204\n",
      "Iter 1090/2000 - Loss: 0.7203\n",
      "Iter 1091/2000 - Loss: 0.7203\n"
     ]
    },
    {
     "name": "stderr",
     "output_type": "stream",
     "text": [
      "Iteration:  55%|█████▍    | 1098/2000 [00:26<00:16, 54.52it/s, loss=0.72]"
     ]
    },
    {
     "name": "stdout",
     "output_type": "stream",
     "text": [
      "Iter 1092/2000 - Loss: 0.7202\n",
      "Iter 1093/2000 - Loss: 0.7201\n",
      "Iter 1094/2000 - Loss: 0.7201\n",
      "Iter 1095/2000 - Loss: 0.7200\n",
      "Iter 1096/2000 - Loss: 0.7200\n",
      "Iter 1097/2000 - Loss: 0.7199\n",
      "Iter 1098/2000 - Loss: 0.7198\n",
      "Iter 1099/2000 - Loss: 0.7198\n",
      "Iter 1100/2000 - Loss: 0.7197\n",
      "Iter 1101/2000 - Loss: 0.7197\n",
      "Iter 1102/2000 - Loss: 0.7196\n",
      "Iter 1103/2000 - Loss: 0.7196\n"
     ]
    },
    {
     "name": "stderr",
     "output_type": "stream",
     "text": [
      "Iteration:  56%|█████▌    | 1110/2000 [00:26<00:16, 53.88it/s, loss=0.719]"
     ]
    },
    {
     "name": "stdout",
     "output_type": "stream",
     "text": [
      "Iter 1104/2000 - Loss: 0.7195\n",
      "Iter 1105/2000 - Loss: 0.7194\n",
      "Iter 1106/2000 - Loss: 0.7194\n",
      "Iter 1107/2000 - Loss: 0.7193\n",
      "Iter 1108/2000 - Loss: 0.7193\n",
      "Iter 1109/2000 - Loss: 0.7192\n",
      "Iter 1110/2000 - Loss: 0.7192\n",
      "Iter 1111/2000 - Loss: 0.7192\n",
      "Iter 1112/2000 - Loss: 0.7191\n",
      "Iter 1113/2000 - Loss: 0.7191\n",
      "Iter 1114/2000 - Loss: 0.7190\n"
     ]
    },
    {
     "name": "stderr",
     "output_type": "stream",
     "text": [
      "Iteration:  56%|█████▌    | 1123/2000 [00:26<00:15, 56.58it/s, loss=0.719]"
     ]
    },
    {
     "name": "stdout",
     "output_type": "stream",
     "text": [
      "Iter 1115/2000 - Loss: 0.7190\n",
      "Iter 1116/2000 - Loss: 0.7189\n",
      "Iter 1117/2000 - Loss: 0.7189\n",
      "Iter 1118/2000 - Loss: 0.7189\n",
      "Iter 1119/2000 - Loss: 0.7188\n",
      "Iter 1120/2000 - Loss: 0.7188\n",
      "Iter 1121/2000 - Loss: 0.7187\n",
      "Iter 1122/2000 - Loss: 0.7187\n",
      "Iter 1123/2000 - Loss: 0.7187\n",
      "Iter 1124/2000 - Loss: 0.7186\n",
      "Iter 1125/2000 - Loss: 0.7186\n",
      "Iter 1126/2000 - Loss: 0.7186\n"
     ]
    },
    {
     "name": "stderr",
     "output_type": "stream",
     "text": [
      "Iteration:  57%|█████▋    | 1135/2000 [00:27<00:15, 56.87it/s, loss=0.718]"
     ]
    },
    {
     "name": "stdout",
     "output_type": "stream",
     "text": [
      "Iter 1127/2000 - Loss: 0.7185\n",
      "Iter 1128/2000 - Loss: 0.7185\n",
      "Iter 1129/2000 - Loss: 0.7185\n",
      "Iter 1130/2000 - Loss: 0.7185\n",
      "Iter 1131/2000 - Loss: 0.7184\n",
      "Iter 1132/2000 - Loss: 0.7184\n",
      "Iter 1133/2000 - Loss: 0.7184\n",
      "Iter 1134/2000 - Loss: 0.7183\n",
      "Iter 1135/2000 - Loss: 0.7183\n",
      "Iter 1136/2000 - Loss: 0.7183"
     ]
    },
    {
     "name": "stderr",
     "output_type": "stream",
     "text": [
      "\r",
      "Iteration:  57%|█████▋    | 1135/2000 [00:27<00:15, 56.87it/s, loss=0.718]"
     ]
    },
    {
     "name": "stdout",
     "output_type": "stream",
     "text": [
      "\n",
      "Iter 1137/2000 - Loss: 0.7183\n"
     ]
    },
    {
     "name": "stderr",
     "output_type": "stream",
     "text": [
      "Iteration:  57%|█████▋    | 1141/2000 [00:27<00:25, 33.13it/s, loss=0.718]"
     ]
    },
    {
     "name": "stdout",
     "output_type": "stream",
     "text": [
      "Iter 1138/2000 - Loss: 0.7182\n",
      "Iter 1139/2000 - Loss: 0.7182\n",
      "Iter 1140/2000 - Loss: 0.7182\n",
      "Iter 1141/2000 - Loss: 0.7182\n",
      "Iter 1142/2000 - Loss: 0.7181\n",
      "Iter 1143/2000 - Loss: 0.7181\n",
      "Iter 1144/2000 - Loss: 0.7181\n",
      "Iter 1145/2000 - Loss: 0.7181\n"
     ]
    },
    {
     "name": "stderr",
     "output_type": "stream",
     "text": [
      "Iteration:  57%|█████▋    | 1146/2000 [00:27<00:38, 21.96it/s, loss=0.718]"
     ]
    },
    {
     "name": "stdout",
     "output_type": "stream",
     "text": [
      "Iter 1146/2000 - Loss: 0.7181\n"
     ]
    },
    {
     "name": "stderr",
     "output_type": "stream",
     "text": [
      "Iteration:  58%|█████▊    | 1156/2000 [00:28<00:44, 18.94it/s, loss=0.718]"
     ]
    },
    {
     "name": "stdout",
     "output_type": "stream",
     "text": [
      "Iter 1147/2000 - Loss: 0.7180\n",
      "Iter 1148/2000 - Loss: 0.7180\n",
      "Iter 1149/2000 - Loss: 0.7180\n",
      "Iter 1150/2000 - Loss: 0.7180\n",
      "Iter 1151/2000 - Loss: 0.7180\n",
      "Iter 1152/2000 - Loss: 0.7180\n",
      "Iter 1153/2000 - Loss: 0.7179\n",
      "Iter 1154/2000 - Loss: 0.7179\n",
      "Iter 1155/2000 - Loss: 0.7179\n",
      "Iter 1156/2000 - Loss: 0.7179\n",
      "Iter 1157/2000 - Loss: 0.7179\n",
      "Iter 1158/2000 - Loss: 0.7179\n"
     ]
    },
    {
     "name": "stderr",
     "output_type": "stream",
     "text": [
      "Iteration:  58%|█████▊    | 1162/2000 [00:28<00:34, 24.18it/s, loss=0.718]"
     ]
    },
    {
     "name": "stdout",
     "output_type": "stream",
     "text": [
      "Iter 1159/2000 - Loss: 0.7178\n",
      "Iter 1160/2000 - Loss: 0.7178\n",
      "Iter 1161/2000 - Loss: 0.7178\n",
      "Iter 1162/2000 - Loss: 0.7178\n",
      "Iter 1163/2000 - Loss: 0.7178\n",
      "Iter 1164/2000 - Loss: 0.7178\n",
      "Iter 1165/2000 - Loss: 0.7178\n",
      "Iter 1166/2000 - Loss: 0.7177\n",
      "Iter 1167/2000 - Loss: 0.7177\n"
     ]
    },
    {
     "name": "stderr",
     "output_type": "stream",
     "text": [
      "Iteration:  58%|█████▊    | 1168/2000 [00:29<00:30, 27.23it/s, loss=0.718]"
     ]
    },
    {
     "name": "stdout",
     "output_type": "stream",
     "text": [
      "Iter 1168/2000 - Loss: 0.7177\n",
      "Iter 1169/2000 - Loss: 0.7177\n",
      "Iter 1170/2000 - Loss: 0.7177\n",
      "Iter 1171/2000 - Loss: 0.7177\n",
      "Iter 1172/2000 - Loss: 0.7177\n"
     ]
    },
    {
     "name": "stderr",
     "output_type": "stream",
     "text": [
      "Iteration:  59%|█████▉    | 1177/2000 [00:29<00:35, 23.25it/s, loss=0.718]"
     ]
    },
    {
     "name": "stdout",
     "output_type": "stream",
     "text": [
      "Iter 1173/2000 - Loss: 0.7176\n",
      "Iter 1174/2000 - Loss: 0.7176\n",
      "Iter 1175/2000 - Loss: 0.7176\n",
      "Iter 1176/2000 - Loss: 0.7176\n",
      "Iter 1177/2000 - Loss: 0.7176\n"
     ]
    },
    {
     "name": "stderr",
     "output_type": "stream",
     "text": [
      "Iteration:  59%|█████▉    | 1187/2000 [00:29<00:26, 31.12it/s, loss=0.717]"
     ]
    },
    {
     "name": "stdout",
     "output_type": "stream",
     "text": [
      "Iter 1178/2000 - Loss: 0.7176\n",
      "Iter 1179/2000 - Loss: 0.7176\n",
      "Iter 1180/2000 - Loss: 0.7176\n",
      "Iter 1181/2000 - Loss: 0.7176\n",
      "Iter 1182/2000 - Loss: 0.7175\n",
      "Iter 1183/2000 - Loss: 0.7175\n",
      "Iter 1184/2000 - Loss: 0.7175\n",
      "Iter 1185/2000 - Loss: 0.7175\n",
      "Iter 1186/2000 - Loss: 0.7175\n",
      "Iter 1187/2000 - Loss: 0.7175\n"
     ]
    },
    {
     "name": "stderr",
     "output_type": "stream",
     "text": [
      "Iteration:  59%|█████▉    | 1187/2000 [00:29<00:26, 31.12it/s, loss=0.717]"
     ]
    },
    {
     "name": "stdout",
     "output_type": "stream",
     "text": [
      "Iter 1188/2000 - Loss: 0.7175\n",
      "Iter 1189/2000 - Loss: 0.7175\n"
     ]
    },
    {
     "name": "stderr",
     "output_type": "stream",
     "text": [
      "Iteration:  60%|█████▉    | 1197/2000 [00:29<00:25, 31.56it/s, loss=0.717]"
     ]
    },
    {
     "name": "stdout",
     "output_type": "stream",
     "text": [
      "Iter 1190/2000 - Loss: 0.7175\n",
      "Iter 1191/2000 - Loss: 0.7175\n",
      "Iter 1192/2000 - Loss: 0.7174\n",
      "Iter 1193/2000 - Loss: 0.7174\n",
      "Iter 1194/2000 - Loss: 0.7174\n",
      "Iter 1195/2000 - Loss: 0.7174\n",
      "Iter 1196/2000 - Loss: 0.7174\n",
      "Iter 1197/2000 - Loss: 0.7174\n",
      "Iter 1198/2000 - Loss: 0.7174\n",
      "Iter 1199/2000 - Loss: 0.7174\n",
      "Iter 1200/2000 - Loss: 0.7174\n"
     ]
    },
    {
     "name": "stderr",
     "output_type": "stream",
     "text": [
      "Iteration:  60%|██████    | 1202/2000 [00:30<00:24, 31.92it/s, loss=0.717]"
     ]
    },
    {
     "name": "stdout",
     "output_type": "stream",
     "text": [
      "Iter 1201/2000 - Loss: 0.7174\n",
      "Iter 1202/2000 - Loss: 0.7174\n",
      "Iter 1203/2000 - Loss: 0.7174\n",
      "Iter 1204/2000 - Loss: 0.7173\n",
      "Iter 1205/2000 - Loss: 0.7173\n"
     ]
    },
    {
     "name": "stderr",
     "output_type": "stream",
     "text": [
      "Iteration:  60%|██████    | 1206/2000 [00:30<00:26, 30.42it/s, loss=0.717]"
     ]
    },
    {
     "name": "stdout",
     "output_type": "stream",
     "text": [
      "Iter 1206/2000 - Loss: 0.7173\n",
      "Iter 1207/2000 - Loss: 0.7173\n",
      "Iter 1208/2000 - Loss: 0.7173\n",
      "Iter 1209/2000 - Loss: 0.7173\n",
      "Iter 1210/2000 - Loss: 0.7173\n"
     ]
    },
    {
     "name": "stderr",
     "output_type": "stream",
     "text": [
      "Iteration:  61%|██████    | 1217/2000 [00:30<00:30, 25.30it/s, loss=0.717]"
     ]
    },
    {
     "name": "stdout",
     "output_type": "stream",
     "text": [
      "Iter 1211/2000 - Loss: 0.7173\n",
      "Iter 1212/2000 - Loss: 0.7173\n",
      "Iter 1213/2000 - Loss: 0.7173\n",
      "Iter 1214/2000 - Loss: 0.7173\n",
      "Iter 1215/2000 - Loss: 0.7173\n",
      "Iter 1216/2000 - Loss: 0.7173\n",
      "Iter 1217/2000 - Loss: 0.7172\n",
      "Iter 1218/2000 - Loss: 0.7172\n",
      "Iter 1219/2000 - Loss: 0.7172\n",
      "Iter 1220/2000 - Loss: 0.7172\n",
      "Iter 1221/2000 - Loss: 0.7172\n"
     ]
    },
    {
     "name": "stderr",
     "output_type": "stream",
     "text": [
      "Iteration:  61%|██████▏   | 1229/2000 [00:31<00:21, 35.96it/s, loss=0.717]"
     ]
    },
    {
     "name": "stdout",
     "output_type": "stream",
     "text": [
      "Iter 1222/2000 - Loss: 0.7172\n",
      "Iter 1223/2000 - Loss: 0.7172\n",
      "Iter 1224/2000 - Loss: 0.7172\n",
      "Iter 1225/2000 - Loss: 0.7172\n",
      "Iter 1226/2000 - Loss: 0.7172\n",
      "Iter 1227/2000 - Loss: 0.7172\n",
      "Iter 1228/2000 - Loss: 0.7172\n",
      "Iter 1229/2000 - Loss: 0.7172\n",
      "Iter 1230/2000 - Loss: 0.7172\n",
      "Iter 1231/2000 - Loss: 0.7172\n",
      "Iter 1232/2000 - Loss: 0.7171\n",
      "Iter 1233/2000 - Loss: 0.7171\n"
     ]
    },
    {
     "name": "stderr",
     "output_type": "stream",
     "text": [
      "Iteration:  62%|██████▏   | 1241/2000 [00:31<00:17, 44.63it/s, loss=0.717]"
     ]
    },
    {
     "name": "stdout",
     "output_type": "stream",
     "text": [
      "Iter 1234/2000 - Loss: 0.7171\n",
      "Iter 1235/2000 - Loss: 0.7171\n",
      "Iter 1236/2000 - Loss: 0.7171\n",
      "Iter 1237/2000 - Loss: 0.7171\n",
      "Iter 1238/2000 - Loss: 0.7171\n",
      "Iter 1239/2000 - Loss: 0.7171\n",
      "Iter 1240/2000 - Loss: 0.7171\n",
      "Iter 1241/2000 - Loss: 0.7171\n",
      "Iter 1242/2000 - Loss: 0.7171\n",
      "Iter 1243/2000 - Loss: 0.7171\n",
      "Iter 1244/2000 - Loss: 0.7171\n",
      "Iter 1245/2000 - Loss: 0.7171\n"
     ]
    },
    {
     "name": "stderr",
     "output_type": "stream",
     "text": [
      "Iteration:  63%|██████▎   | 1253/2000 [00:31<00:15, 49.45it/s, loss=0.717]"
     ]
    },
    {
     "name": "stdout",
     "output_type": "stream",
     "text": [
      "Iter 1246/2000 - Loss: 0.7171\n",
      "Iter 1247/2000 - Loss: 0.7171\n",
      "Iter 1248/2000 - Loss: 0.7171\n",
      "Iter 1249/2000 - Loss: 0.7171\n",
      "Iter 1250/2000 - Loss: 0.7170\n",
      "Iter 1251/2000 - Loss: 0.7170\n",
      "Iter 1252/2000 - Loss: 0.7170\n",
      "Iter 1253/2000 - Loss: 0.7170\n",
      "Iter 1254/2000 - Loss: 0.7170\n",
      "Iter 1255/2000 - Loss: 0.7170\n",
      "Iter 1256/2000 - Loss: 0.7170\n",
      "Iter 1257/2000 - Loss: 0.7170\n"
     ]
    },
    {
     "name": "stderr",
     "output_type": "stream",
     "text": [
      "Iteration:  63%|██████▎   | 1259/2000 [00:31<00:14, 50.46it/s, loss=0.717]"
     ]
    },
    {
     "name": "stdout",
     "output_type": "stream",
     "text": [
      "Iter 1258/2000 - Loss: 0.7170\n",
      "Iter 1259/2000 - Loss: 0.7170\n",
      "Iter 1260/2000 - Loss: 0.7170\n",
      "Iter 1261/2000 - Loss: 0.7170\n",
      "Iter 1262/2000 - Loss: 0.7170\n",
      "Iter 1263/2000 - Loss: 0.7170\n",
      "Iter 1264/2000 - Loss: 0.7170\n"
     ]
    },
    {
     "name": "stderr",
     "output_type": "stream",
     "text": [
      "Iteration:  64%|██████▎   | 1270/2000 [00:31<00:18, 39.04it/s, loss=0.717]"
     ]
    },
    {
     "name": "stdout",
     "output_type": "stream",
     "text": [
      "Iter 1265/2000 - Loss: 0.7170\n",
      "Iter 1266/2000 - Loss: 0.7170\n",
      "Iter 1267/2000 - Loss: 0.7170\n",
      "Iter 1268/2000 - Loss: 0.7170\n",
      "Iter 1269/2000 - Loss: 0.7170\n",
      "Iter 1270/2000 - Loss: 0.7169\n",
      "Iter 1271/2000 - Loss: 0.7169\n"
     ]
    },
    {
     "name": "stderr",
     "output_type": "stream",
     "text": [
      "Iteration:  64%|██████▍   | 1280/2000 [00:32<00:17, 41.72it/s, loss=0.717]"
     ]
    },
    {
     "name": "stdout",
     "output_type": "stream",
     "text": [
      "Iter 1272/2000 - Loss: 0.7169\n",
      "Iter 1273/2000 - Loss: 0.7169\n",
      "Iter 1274/2000 - Loss: 0.7169\n",
      "Iter 1275/2000 - Loss: 0.7169\n",
      "Iter 1276/2000 - Loss: 0.7169\n",
      "Iter 1277/2000 - Loss: 0.7169\n",
      "Iter 1278/2000 - Loss: 0.7169\n",
      "Iter 1279/2000 - Loss: 0.7169\n",
      "Iter 1280/2000 - Loss: 0.7169\n",
      "Iter 1281/2000 - Loss: 0.7169\n"
     ]
    },
    {
     "name": "stderr",
     "output_type": "stream",
     "text": [
      "Iteration:  64%|██████▍   | 1290/2000 [00:32<00:16, 43.81it/s, loss=0.717]"
     ]
    },
    {
     "name": "stdout",
     "output_type": "stream",
     "text": [
      "Iter 1282/2000 - Loss: 0.7169\n",
      "Iter 1283/2000 - Loss: 0.7169\n",
      "Iter 1284/2000 - Loss: 0.7169\n",
      "Iter 1285/2000 - Loss: 0.7169\n",
      "Iter 1286/2000 - Loss: 0.7169\n",
      "Iter 1287/2000 - Loss: 0.7169\n",
      "Iter 1288/2000 - Loss: 0.7169\n",
      "Iter 1289/2000 - Loss: 0.7169\n",
      "Iter 1290/2000 - Loss: 0.7169\n",
      "Iter 1291/2000 - Loss: 0.7169\n",
      "Iter 1292/2000 - Loss: 0.7169\n"
     ]
    },
    {
     "name": "stderr",
     "output_type": "stream",
     "text": [
      "Iteration:  65%|██████▍   | 1296/2000 [00:32<00:14, 47.72it/s, loss=0.717]"
     ]
    },
    {
     "name": "stdout",
     "output_type": "stream",
     "text": [
      "Iter 1293/2000 - Loss: 0.7168\n",
      "Iter 1294/2000 - Loss: 0.7168\n",
      "Iter 1295/2000 - Loss: 0.7168\n",
      "Iter 1296/2000 - Loss: 0.7168\n",
      "Iter 1297/2000 - Loss: 0.7168\n",
      "Iter 1298/2000 - Loss: 0.7168\n",
      "Iter 1299/2000 - Loss: 0.7168\n"
     ]
    },
    {
     "name": "stderr",
     "output_type": "stream",
     "text": [
      "Iteration:  65%|██████▌   | 1307/2000 [00:32<00:15, 44.19it/s, loss=0.717]"
     ]
    },
    {
     "name": "stdout",
     "output_type": "stream",
     "text": [
      "Iter 1300/2000 - Loss: 0.7168\n",
      "Iter 1301/2000 - Loss: 0.7168\n",
      "Iter 1302/2000 - Loss: 0.7168\n",
      "Iter 1303/2000 - Loss: 0.7168\n",
      "Iter 1304/2000 - Loss: 0.7168\n",
      "Iter 1305/2000 - Loss: 0.7168\n",
      "Iter 1306/2000 - Loss: 0.7168\n",
      "Iter 1307/2000 - Loss: 0.7168\n",
      "Iter 1308/2000 - Loss: 0.7168\n",
      "Iter 1309/2000 - Loss: 0.7168\n",
      "Iter 1310/2000 - Loss: 0.7168\n",
      "Iter 1311/2000 - Loss: 0.7168\n"
     ]
    },
    {
     "name": "stderr",
     "output_type": "stream",
     "text": [
      "Iteration:  66%|██████▌   | 1319/2000 [00:32<00:13, 50.94it/s, loss=0.717]"
     ]
    },
    {
     "name": "stdout",
     "output_type": "stream",
     "text": [
      "Iter 1312/2000 - Loss: 0.7168\n",
      "Iter 1313/2000 - Loss: 0.7168\n",
      "Iter 1314/2000 - Loss: 0.7168\n",
      "Iter 1315/2000 - Loss: 0.7168\n",
      "Iter 1316/2000 - Loss: 0.7168\n",
      "Iter 1317/2000 - Loss: 0.7168\n",
      "Iter 1318/2000 - Loss: 0.7168\n",
      "Iter 1319/2000 - Loss: 0.7168\n",
      "Iter 1320/2000 - Loss: 0.7167\n",
      "Iter 1321/2000 - Loss: 0.7167\n",
      "Iter 1322/2000 - Loss: 0.7167\n",
      "Iter 1323/2000 - Loss: 0.7167\n"
     ]
    },
    {
     "name": "stderr",
     "output_type": "stream",
     "text": [
      "Iteration:  67%|██████▋   | 1332/2000 [00:33<00:12, 55.19it/s, loss=0.717]"
     ]
    },
    {
     "name": "stdout",
     "output_type": "stream",
     "text": [
      "Iter 1324/2000 - Loss: 0.7167\n",
      "Iter 1325/2000 - Loss: 0.7167\n",
      "Iter 1326/2000 - Loss: 0.7167\n",
      "Iter 1327/2000 - Loss: 0.7167\n",
      "Iter 1328/2000 - Loss: 0.7167\n",
      "Iter 1329/2000 - Loss: 0.7167\n",
      "Iter 1330/2000 - Loss: 0.7167\n",
      "Iter 1331/2000 - Loss: 0.7167\n",
      "Iter 1332/2000 - Loss: 0.7167\n",
      "Iter 1333/2000 - Loss: 0.7167\n",
      "Iter 1334/2000 - Loss: 0.7167\n",
      "Iter 1335/2000 - Loss: 0.7167\n"
     ]
    },
    {
     "name": "stderr",
     "output_type": "stream",
     "text": [
      "Iteration:  67%|██████▋   | 1344/2000 [00:33<00:11, 57.37it/s, loss=0.717]"
     ]
    },
    {
     "name": "stdout",
     "output_type": "stream",
     "text": [
      "Iter 1336/2000 - Loss: 0.7167\n",
      "Iter 1337/2000 - Loss: 0.7167\n",
      "Iter 1338/2000 - Loss: 0.7167\n",
      "Iter 1339/2000 - Loss: 0.7167\n",
      "Iter 1340/2000 - Loss: 0.7167\n",
      "Iter 1341/2000 - Loss: 0.7167\n",
      "Iter 1342/2000 - Loss: 0.7167\n",
      "Iter 1343/2000 - Loss: 0.7167\n",
      "Iter 1344/2000 - Loss: 0.7167\n",
      "Iter 1345/2000 - Loss: 0.7167\n",
      "Iter 1346/2000 - Loss: 0.7167\n",
      "Iter 1347/2000 - Loss: 0.7167\n"
     ]
    },
    {
     "name": "stderr",
     "output_type": "stream",
     "text": [
      "Iteration:  68%|██████▊   | 1350/2000 [00:33<00:11, 56.87it/s, loss=0.717]"
     ]
    },
    {
     "name": "stdout",
     "output_type": "stream",
     "text": [
      "Iter 1348/2000 - Loss: 0.7167\n",
      "Iter 1349/2000 - Loss: 0.7167\n",
      "Iter 1350/2000 - Loss: 0.7166\n",
      "Iter 1351/2000 - Loss: 0.7166\n",
      "Iter 1352/2000 - Loss: 0.7166\n",
      "Iter 1353/2000 - Loss: 0.7166\n",
      "Iter 1354/2000 - Loss: 0.7166\n",
      "Iter 1355/2000 - Loss: 0.7166\n"
     ]
    },
    {
     "name": "stderr",
     "output_type": "stream",
     "text": [
      "Iteration:  68%|██████▊   | 1356/2000 [00:33<00:14, 43.73it/s, loss=0.717]"
     ]
    },
    {
     "name": "stdout",
     "output_type": "stream",
     "text": [
      "Iter 1356/2000 - Loss: 0.7166\n",
      "Iter 1357/2000 - Loss: 0.7166\n",
      "Iter 1358/2000 - Loss: 0.7166\n"
     ]
    },
    {
     "name": "stderr",
     "output_type": "stream",
     "text": [
      "Iteration:  68%|██████▊   | 1361/2000 [00:34<00:27, 23.52it/s, loss=0.717]"
     ]
    },
    {
     "name": "stdout",
     "output_type": "stream",
     "text": [
      "Iter 1359/2000 - Loss: 0.7166\n",
      "Iter 1360/2000 - Loss: 0.7166\n",
      "Iter 1361/2000 - Loss: 0.7166\n",
      "Iter 1362/2000 - Loss: 0.7166\n",
      "Iter 1363/2000 - Loss: 0.7166\n",
      "Iter 1364/2000 - Loss: 0.7166\n",
      "Iter 1365/2000 - Loss: 0.7166\n"
     ]
    },
    {
     "name": "stderr",
     "output_type": "stream",
     "text": [
      "Iteration:  69%|██████▊   | 1373/2000 [00:34<00:18, 33.53it/s, loss=0.717]"
     ]
    },
    {
     "name": "stdout",
     "output_type": "stream",
     "text": [
      "Iter 1366/2000 - Loss: 0.7166\n",
      "Iter 1367/2000 - Loss: 0.7166\n",
      "Iter 1368/2000 - Loss: 0.7166\n",
      "Iter 1369/2000 - Loss: 0.7166\n",
      "Iter 1370/2000 - Loss: 0.7166\n",
      "Iter 1371/2000 - Loss: 0.7166\n",
      "Iter 1372/2000 - Loss: 0.7166\n",
      "Iter 1373/2000 - Loss: 0.7166\n",
      "Iter 1374/2000 - Loss: 0.7166\n",
      "Iter 1375/2000 - Loss: 0.7166\n",
      "Iter 1376/2000 - Loss: 0.7166\n",
      "Iter 1377/2000 - Loss: 0.7166\n"
     ]
    },
    {
     "name": "stderr",
     "output_type": "stream",
     "text": [
      "Iteration:  69%|██████▉   | 1384/2000 [00:34<00:17, 36.04it/s, loss=0.717]"
     ]
    },
    {
     "name": "stdout",
     "output_type": "stream",
     "text": [
      "Iter 1378/2000 - Loss: 0.7166\n",
      "Iter 1379/2000 - Loss: 0.7166\n",
      "Iter 1380/2000 - Loss: 0.7166\n",
      "Iter 1381/2000 - Loss: 0.7166\n",
      "Iter 1382/2000 - Loss: 0.7166\n",
      "Iter 1383/2000 - Loss: 0.7166\n",
      "Iter 1384/2000 - Loss: 0.7165\n",
      "Iter 1385/2000 - Loss: 0.7165\n",
      "Iter 1386/2000 - Loss: 0.7165\n",
      "Iter 1387/2000 - Loss: 0.7165\n",
      "Iter 1388/2000 - Loss: 0.7165\n",
      "Iter 1389/2000 - Loss: 0.7165\n"
     ]
    },
    {
     "name": "stderr",
     "output_type": "stream",
     "text": [
      "Iteration:  70%|██████▉   | 1396/2000 [00:34<00:13, 44.99it/s, loss=0.716]"
     ]
    },
    {
     "name": "stdout",
     "output_type": "stream",
     "text": [
      "Iter 1390/2000 - Loss: 0.7165\n",
      "Iter 1391/2000 - Loss: 0.7165\n",
      "Iter 1392/2000 - Loss: 0.7165\n",
      "Iter 1393/2000 - Loss: 0.7165\n",
      "Iter 1394/2000 - Loss: 0.7165\n",
      "Iter 1395/2000 - Loss: 0.7165\n",
      "Iter 1396/2000 - Loss: 0.7165\n",
      "Iter 1397/2000 - Loss: 0.7165\n",
      "Iter 1398/2000 - Loss: 0.7165\n",
      "Iter 1399/2000 - Loss: 0.7165\n",
      "Iter 1400/2000 - Loss: 0.7165\n",
      "Iter 1401/2000 - Loss: 0.7165\n"
     ]
    },
    {
     "name": "stderr",
     "output_type": "stream",
     "text": [
      "Iteration:  70%|███████   | 1408/2000 [00:35<00:11, 51.43it/s, loss=0.716]"
     ]
    },
    {
     "name": "stdout",
     "output_type": "stream",
     "text": [
      "Iter 1402/2000 - Loss: 0.7165\n",
      "Iter 1403/2000 - Loss: 0.7165\n",
      "Iter 1404/2000 - Loss: 0.7165\n",
      "Iter 1405/2000 - Loss: 0.7165\n",
      "Iter 1406/2000 - Loss: 0.7165\n",
      "Iter 1407/2000 - Loss: 0.7165\n",
      "Iter 1408/2000 - Loss: 0.7165\n",
      "Iter 1409/2000 - Loss: 0.7165\n",
      "Iter 1410/2000 - Loss: 0.7165\n",
      "Iter 1411/2000 - Loss: 0.7165\n"
     ]
    },
    {
     "name": "stderr",
     "output_type": "stream",
     "text": [
      "Iteration:  71%|███████   | 1420/2000 [00:35<00:12, 46.63it/s, loss=0.716]"
     ]
    },
    {
     "name": "stdout",
     "output_type": "stream",
     "text": [
      "Iter 1412/2000 - Loss: 0.7165\n",
      "Iter 1413/2000 - Loss: 0.7165\n",
      "Iter 1414/2000 - Loss: 0.7165\n",
      "Iter 1415/2000 - Loss: 0.7165\n",
      "Iter 1416/2000 - Loss: 0.7165\n",
      "Iter 1417/2000 - Loss: 0.7165\n",
      "Iter 1418/2000 - Loss: 0.7165\n",
      "Iter 1419/2000 - Loss: 0.7165\n",
      "Iter 1420/2000 - Loss: 0.7165\n",
      "Iter 1421/2000 - Loss: 0.7164\n",
      "Iter 1422/2000 - Loss: 0.7164\n",
      "Iter 1423/2000 - Loss: 0.7164\n"
     ]
    },
    {
     "name": "stderr",
     "output_type": "stream",
     "text": [
      "Iteration:  72%|███████▏  | 1432/2000 [00:35<00:10, 52.23it/s, loss=0.716]"
     ]
    },
    {
     "name": "stdout",
     "output_type": "stream",
     "text": [
      "Iter 1424/2000 - Loss: 0.7164\n",
      "Iter 1425/2000 - Loss: 0.7164\n",
      "Iter 1426/2000 - Loss: 0.7164\n",
      "Iter 1427/2000 - Loss: 0.7164\n",
      "Iter 1428/2000 - Loss: 0.7164\n",
      "Iter 1429/2000 - Loss: 0.7164\n",
      "Iter 1430/2000 - Loss: 0.7164\n",
      "Iter 1431/2000 - Loss: 0.7164\n",
      "Iter 1432/2000 - Loss: 0.7164\n",
      "Iter 1433/2000 - Loss: 0.7164\n",
      "Iter 1434/2000 - Loss: 0.7164\n",
      "Iter 1435/2000 - Loss: 0.7164\n"
     ]
    },
    {
     "name": "stderr",
     "output_type": "stream",
     "text": [
      "Iteration:  72%|███████▏  | 1444/2000 [00:35<00:10, 54.83it/s, loss=0.716]"
     ]
    },
    {
     "name": "stdout",
     "output_type": "stream",
     "text": [
      "Iter 1436/2000 - Loss: 0.7164\n",
      "Iter 1437/2000 - Loss: 0.7164\n",
      "Iter 1438/2000 - Loss: 0.7164\n",
      "Iter 1439/2000 - Loss: 0.7164\n",
      "Iter 1440/2000 - Loss: 0.7164\n",
      "Iter 1441/2000 - Loss: 0.7164\n",
      "Iter 1442/2000 - Loss: 0.7164\n",
      "Iter 1443/2000 - Loss: 0.7164\n",
      "Iter 1444/2000 - Loss: 0.7164\n",
      "Iter 1445/2000 - Loss: 0.7164\n",
      "Iter 1446/2000 - Loss: 0.7164\n",
      "Iter 1447/2000 - Loss: 0.7164\n"
     ]
    },
    {
     "name": "stderr",
     "output_type": "stream",
     "text": [
      "Iteration:  73%|███████▎  | 1456/2000 [00:36<00:09, 56.51it/s, loss=0.716]"
     ]
    },
    {
     "name": "stdout",
     "output_type": "stream",
     "text": [
      "Iter 1448/2000 - Loss: 0.7164\n",
      "Iter 1449/2000 - Loss: 0.7164\n",
      "Iter 1450/2000 - Loss: 0.7164\n",
      "Iter 1451/2000 - Loss: 0.7164\n",
      "Iter 1452/2000 - Loss: 0.7164\n",
      "Iter 1453/2000 - Loss: 0.7164\n",
      "Iter 1454/2000 - Loss: 0.7164\n",
      "Iter 1455/2000 - Loss: 0.7164\n",
      "Iter 1456/2000 - Loss: 0.7164\n",
      "Iter 1457/2000 - Loss: 0.7164\n",
      "Iter 1458/2000 - Loss: 0.7164\n",
      "Iter 1459/2000 - Loss: 0.7164\n"
     ]
    },
    {
     "name": "stderr",
     "output_type": "stream",
     "text": [
      "Iteration:  73%|███████▎  | 1468/2000 [00:36<00:09, 55.54it/s, loss=0.716]"
     ]
    },
    {
     "name": "stdout",
     "output_type": "stream",
     "text": [
      "Iter 1460/2000 - Loss: 0.7164\n",
      "Iter 1461/2000 - Loss: 0.7164\n",
      "Iter 1462/2000 - Loss: 0.7163\n",
      "Iter 1463/2000 - Loss: 0.7163\n",
      "Iter 1464/2000 - Loss: 0.7163\n",
      "Iter 1465/2000 - Loss: 0.7163\n",
      "Iter 1466/2000 - Loss: 0.7163\n",
      "Iter 1467/2000 - Loss: 0.7163\n",
      "Iter 1468/2000 - Loss: 0.7163\n",
      "Iter 1469/2000 - Loss: 0.7163\n",
      "Iter 1470/2000 - Loss: 0.7163\n",
      "Iter 1471/2000 - Loss: 0.7163\n"
     ]
    },
    {
     "name": "stderr",
     "output_type": "stream",
     "text": [
      "Iteration:  74%|███████▍  | 1480/2000 [00:36<00:09, 56.38it/s, loss=0.716]"
     ]
    },
    {
     "name": "stdout",
     "output_type": "stream",
     "text": [
      "Iter 1472/2000 - Loss: 0.7163\n",
      "Iter 1473/2000 - Loss: 0.7163\n",
      "Iter 1474/2000 - Loss: 0.7163\n",
      "Iter 1475/2000 - Loss: 0.7163\n",
      "Iter 1476/2000 - Loss: 0.7163\n",
      "Iter 1477/2000 - Loss: 0.7163\n",
      "Iter 1478/2000 - Loss: 0.7163\n",
      "Iter 1479/2000 - Loss: 0.7163\n",
      "Iter 1480/2000 - Loss: 0.7163\n",
      "Iter 1481/2000 - Loss: 0.7163\n",
      "Iter 1482/2000 - Loss: 0.7163\n"
     ]
    },
    {
     "name": "stderr",
     "output_type": "stream",
     "text": [
      "Iteration:  75%|███████▍  | 1492/2000 [00:36<00:09, 53.31it/s, loss=0.716]"
     ]
    },
    {
     "name": "stdout",
     "output_type": "stream",
     "text": [
      "Iter 1483/2000 - Loss: 0.7163\n",
      "Iter 1484/2000 - Loss: 0.7163\n",
      "Iter 1485/2000 - Loss: 0.7163\n",
      "Iter 1486/2000 - Loss: 0.7163\n",
      "Iter 1487/2000 - Loss: 0.7163\n",
      "Iter 1488/2000 - Loss: 0.7163\n",
      "Iter 1489/2000 - Loss: 0.7163\n",
      "Iter 1490/2000 - Loss: 0.7163\n",
      "Iter 1491/2000 - Loss: 0.7163\n",
      "Iter 1492/2000 - Loss: 0.7163\n",
      "Iter 1493/2000 - Loss: 0.7163\n",
      "Iter 1494/2000 - Loss: 0.7163\n"
     ]
    },
    {
     "name": "stderr",
     "output_type": "stream",
     "text": [
      "Iteration:  75%|███████▌  | 1504/2000 [00:36<00:09, 55.09it/s, loss=0.716]"
     ]
    },
    {
     "name": "stdout",
     "output_type": "stream",
     "text": [
      "Iter 1495/2000 - Loss: 0.7163\n",
      "Iter 1496/2000 - Loss: 0.7163\n",
      "Iter 1497/2000 - Loss: 0.7163\n",
      "Iter 1498/2000 - Loss: 0.7163\n",
      "Iter 1499/2000 - Loss: 0.7163\n",
      "Iter 1500/2000 - Loss: 0.7163\n",
      "Iter 1501/2000 - Loss: 0.7163\n",
      "Iter 1502/2000 - Loss: 0.7163\n",
      "Iter 1503/2000 - Loss: 0.7162\n",
      "Iter 1504/2000 - Loss: 0.7162\n",
      "Iter 1505/2000 - Loss: 0.7162\n",
      "Iter 1506/2000 - Loss: 0.7162\n"
     ]
    },
    {
     "name": "stderr",
     "output_type": "stream",
     "text": [
      "Iteration:  76%|███████▌  | 1516/2000 [00:37<00:08, 55.84it/s, loss=0.716]"
     ]
    },
    {
     "name": "stdout",
     "output_type": "stream",
     "text": [
      "Iter 1507/2000 - Loss: 0.7162\n",
      "Iter 1508/2000 - Loss: 0.7162\n",
      "Iter 1509/2000 - Loss: 0.7162\n",
      "Iter 1510/2000 - Loss: 0.7162\n",
      "Iter 1511/2000 - Loss: 0.7162\n",
      "Iter 1512/2000 - Loss: 0.7162\n",
      "Iter 1513/2000 - Loss: 0.7162\n",
      "Iter 1514/2000 - Loss: 0.7162\n",
      "Iter 1515/2000 - Loss: 0.7162\n",
      "Iter 1516/2000 - Loss: 0.7162\n",
      "Iter 1517/2000 - Loss: 0.7162\n",
      "Iter 1518/2000 - Loss: 0.7162\n"
     ]
    },
    {
     "name": "stderr",
     "output_type": "stream",
     "text": [
      "Iteration:  76%|███████▋  | 1528/2000 [00:37<00:08, 57.39it/s, loss=0.716]"
     ]
    },
    {
     "name": "stdout",
     "output_type": "stream",
     "text": [
      "Iter 1519/2000 - Loss: 0.7162\n",
      "Iter 1520/2000 - Loss: 0.7162\n",
      "Iter 1521/2000 - Loss: 0.7162\n",
      "Iter 1522/2000 - Loss: 0.7162\n",
      "Iter 1523/2000 - Loss: 0.7162\n",
      "Iter 1524/2000 - Loss: 0.7162\n",
      "Iter 1525/2000 - Loss: 0.7162\n",
      "Iter 1526/2000 - Loss: 0.7162\n",
      "Iter 1527/2000 - Loss: 0.7162\n",
      "Iter 1528/2000 - Loss: 0.7162\n",
      "Iter 1529/2000 - Loss: 0.7162\n",
      "Iter 1530/2000 - Loss: 0.7162\n"
     ]
    },
    {
     "name": "stderr",
     "output_type": "stream",
     "text": [
      "Iteration:  77%|███████▋  | 1540/2000 [00:37<00:07, 58.03it/s, loss=0.716]"
     ]
    },
    {
     "name": "stdout",
     "output_type": "stream",
     "text": [
      "Iter 1531/2000 - Loss: 0.7162\n",
      "Iter 1532/2000 - Loss: 0.7162\n",
      "Iter 1533/2000 - Loss: 0.7162\n",
      "Iter 1534/2000 - Loss: 0.7162\n",
      "Iter 1535/2000 - Loss: 0.7162\n",
      "Iter 1536/2000 - Loss: 0.7162\n",
      "Iter 1537/2000 - Loss: 0.7162\n",
      "Iter 1538/2000 - Loss: 0.7162\n",
      "Iter 1539/2000 - Loss: 0.7162\n",
      "Iter 1540/2000 - Loss: 0.7162\n",
      "Iter 1541/2000 - Loss: 0.7162\n",
      "Iter 1542/2000 - Loss: 0.7162\n"
     ]
    },
    {
     "name": "stderr",
     "output_type": "stream",
     "text": [
      "Iteration:  77%|███████▋  | 1546/2000 [00:37<00:09, 47.61it/s, loss=0.716]"
     ]
    },
    {
     "name": "stdout",
     "output_type": "stream",
     "text": [
      "Iter 1543/2000 - Loss: 0.7162\n",
      "Iter 1544/2000 - Loss: 0.7162\n",
      "Iter 1545/2000 - Loss: 0.7161\n",
      "Iter 1546/2000 - Loss: 0.7161\n",
      "Iter 1547/2000 - Loss: 0.7161\n",
      "Iter 1548/2000 - Loss: 0.7161\n",
      "Iter 1549/2000 - Loss: 0.7161\n",
      "Iter 1550/2000 - Loss: 0.7161\n"
     ]
    },
    {
     "name": "stderr",
     "output_type": "stream",
     "text": [
      "Iteration:  78%|███████▊  | 1558/2000 [00:37<00:09, 48.97it/s, loss=0.716]"
     ]
    },
    {
     "name": "stdout",
     "output_type": "stream",
     "text": [
      "Iter 1551/2000 - Loss: 0.7161\n",
      "Iter 1552/2000 - Loss: 0.7161\n",
      "Iter 1553/2000 - Loss: 0.7161\n",
      "Iter 1554/2000 - Loss: 0.7161\n",
      "Iter 1555/2000 - Loss: 0.7161\n",
      "Iter 1556/2000 - Loss: 0.7161\n",
      "Iter 1557/2000 - Loss: 0.7161\n",
      "Iter 1558/2000 - Loss: 0.7161\n",
      "Iter 1559/2000 - Loss: 0.7161\n"
     ]
    },
    {
     "name": "stderr",
     "output_type": "stream",
     "text": [
      "Iteration:  78%|███████▊  | 1569/2000 [00:38<00:09, 44.40it/s, loss=0.716]"
     ]
    },
    {
     "name": "stdout",
     "output_type": "stream",
     "text": [
      "Iter 1560/2000 - Loss: 0.7161\n",
      "Iter 1561/2000 - Loss: 0.7161\n",
      "Iter 1562/2000 - Loss: 0.7161\n",
      "Iter 1563/2000 - Loss: 0.7161\n",
      "Iter 1564/2000 - Loss: 0.7161\n",
      "Iter 1565/2000 - Loss: 0.7161\n",
      "Iter 1566/2000 - Loss: 0.7161\n",
      "Iter 1567/2000 - Loss: 0.7161\n",
      "Iter 1568/2000 - Loss: 0.7161\n",
      "Iter 1569/2000 - Loss: 0.7161\n"
     ]
    },
    {
     "name": "stderr",
     "output_type": "stream",
     "text": [
      "Iteration:  79%|███████▉  | 1581/2000 [00:38<00:08, 50.48it/s, loss=0.716]"
     ]
    },
    {
     "name": "stdout",
     "output_type": "stream",
     "text": [
      "Iter 1570/2000 - Loss: 0.7161\n",
      "Iter 1571/2000 - Loss: 0.7161\n",
      "Iter 1572/2000 - Loss: 0.7161\n",
      "Iter 1573/2000 - Loss: 0.7161\n",
      "Iter 1574/2000 - Loss: 0.7161\n",
      "Iter 1575/2000 - Loss: 0.7161\n",
      "Iter 1576/2000 - Loss: 0.7161\n",
      "Iter 1577/2000 - Loss: 0.7161\n",
      "Iter 1578/2000 - Loss: 0.7161\n",
      "Iter 1579/2000 - Loss: 0.7161\n",
      "Iter 1580/2000 - Loss: 0.7161\n",
      "Iter 1581/2000 - Loss: 0.7161\n"
     ]
    },
    {
     "name": "stderr",
     "output_type": "stream",
     "text": [
      "Iteration:  80%|███████▉  | 1593/2000 [00:38<00:07, 54.39it/s, loss=0.716]"
     ]
    },
    {
     "name": "stdout",
     "output_type": "stream",
     "text": [
      "Iter 1582/2000 - Loss: 0.7161\n",
      "Iter 1583/2000 - Loss: 0.7160\n",
      "Iter 1584/2000 - Loss: 0.7160\n",
      "Iter 1585/2000 - Loss: 0.7160\n",
      "Iter 1586/2000 - Loss: 0.7160\n",
      "Iter 1587/2000 - Loss: 0.7160\n",
      "Iter 1588/2000 - Loss: 0.7160\n",
      "Iter 1589/2000 - Loss: 0.7160\n",
      "Iter 1590/2000 - Loss: 0.7160\n",
      "Iter 1591/2000 - Loss: 0.7160\n",
      "Iter 1592/2000 - Loss: 0.7160\n",
      "Iter 1593/2000 - Loss: 0.7160\n"
     ]
    },
    {
     "name": "stderr",
     "output_type": "stream",
     "text": [
      "Iteration:  80%|███████▉  | 1599/2000 [00:38<00:07, 53.45it/s, loss=0.716]"
     ]
    },
    {
     "name": "stdout",
     "output_type": "stream",
     "text": [
      "Iter 1594/2000 - Loss: 0.7160\n",
      "Iter 1595/2000 - Loss: 0.7160\n",
      "Iter 1596/2000 - Loss: 0.7160\n",
      "Iter 1597/2000 - Loss: 0.7160\n",
      "Iter 1598/2000 - Loss: 0.7160\n",
      "Iter 1599/2000 - Loss: 0.7160\n",
      "Iter 1600/2000 - Loss: 0.7160\n",
      "Iter 1601/2000 - Loss: 0.7160\n",
      "Iter 1602/2000 - Loss: 0.7160\n",
      "Iter 1603/2000 - Loss: 0.7160\n"
     ]
    },
    {
     "name": "stderr",
     "output_type": "stream",
     "text": [
      "Iteration:  81%|████████  | 1611/2000 [00:38<00:07, 48.72it/s, loss=0.716]"
     ]
    },
    {
     "name": "stdout",
     "output_type": "stream",
     "text": [
      "Iter 1604/2000 - Loss: 0.7160\n",
      "Iter 1605/2000 - Loss: 0.7160\n",
      "Iter 1606/2000 - Loss: 0.7160\n",
      "Iter 1607/2000 - Loss: 0.7160\n",
      "Iter 1608/2000 - Loss: 0.7160\n",
      "Iter 1609/2000 - Loss: 0.7160\n",
      "Iter 1610/2000 - Loss: 0.7160\n",
      "Iter 1611/2000 - Loss: 0.7160\n",
      "Iter 1612/2000 - Loss: 0.7160\n",
      "Iter 1613/2000 - Loss: 0.7160\n"
     ]
    },
    {
     "name": "stderr",
     "output_type": "stream",
     "text": [
      "Iteration:  81%|████████  | 1617/2000 [00:39<00:09, 40.96it/s, loss=0.716]"
     ]
    },
    {
     "name": "stdout",
     "output_type": "stream",
     "text": [
      "Iter 1614/2000 - Loss: 0.7160\n",
      "Iter 1615/2000 - Loss: 0.7160\n",
      "Iter 1616/2000 - Loss: 0.7160\n",
      "Iter 1617/2000 - Loss: 0.7160\n",
      "Iter 1618/2000 - Loss: 0.7160\n",
      "Iter 1619/2000 - Loss: 0.7159\n"
     ]
    },
    {
     "name": "stderr",
     "output_type": "stream",
     "text": [
      "Iteration:  81%|████████▏ | 1628/2000 [00:39<00:08, 45.79it/s, loss=0.716]"
     ]
    },
    {
     "name": "stdout",
     "output_type": "stream",
     "text": [
      "Iter 1620/2000 - Loss: 0.7159\n",
      "Iter 1621/2000 - Loss: 0.7159\n",
      "Iter 1622/2000 - Loss: 0.7159\n",
      "Iter 1623/2000 - Loss: 0.7159\n",
      "Iter 1624/2000 - Loss: 0.7159\n",
      "Iter 1625/2000 - Loss: 0.7159\n",
      "Iter 1626/2000 - Loss: 0.7159\n",
      "Iter 1627/2000 - Loss: 0.7159\n",
      "Iter 1628/2000 - Loss: 0.7159\n",
      "Iter 1629/2000 - Loss: 0.7159\n",
      "Iter 1630/2000 - Loss: 0.7159\n"
     ]
    },
    {
     "name": "stderr",
     "output_type": "stream",
     "text": [
      "Iteration:  82%|████████▏ | 1640/2000 [00:39<00:07, 50.65it/s, loss=0.716]"
     ]
    },
    {
     "name": "stdout",
     "output_type": "stream",
     "text": [
      "Iter 1631/2000 - Loss: 0.7159\n",
      "Iter 1632/2000 - Loss: 0.7159\n",
      "Iter 1633/2000 - Loss: 0.7159\n",
      "Iter 1634/2000 - Loss: 0.7159\n",
      "Iter 1635/2000 - Loss: 0.7159\n",
      "Iter 1636/2000 - Loss: 0.7159\n",
      "Iter 1637/2000 - Loss: 0.7159\n",
      "Iter 1638/2000 - Loss: 0.7159\n",
      "Iter 1639/2000 - Loss: 0.7159\n",
      "Iter 1640/2000 - Loss: 0.7159\n",
      "Iter 1641/2000 - Loss: 0.7159\n",
      "Iter 1642/2000 - Loss: 0.7159\n"
     ]
    },
    {
     "name": "stderr",
     "output_type": "stream",
     "text": [
      "Iteration:  83%|████████▎ | 1652/2000 [00:39<00:06, 54.84it/s, loss=0.716]"
     ]
    },
    {
     "name": "stdout",
     "output_type": "stream",
     "text": [
      "Iter 1643/2000 - Loss: 0.7159\n",
      "Iter 1644/2000 - Loss: 0.7159\n",
      "Iter 1645/2000 - Loss: 0.7159\n",
      "Iter 1646/2000 - Loss: 0.7159\n",
      "Iter 1647/2000 - Loss: 0.7159\n",
      "Iter 1648/2000 - Loss: 0.7159\n",
      "Iter 1649/2000 - Loss: 0.7159\n",
      "Iter 1650/2000 - Loss: 0.7159\n",
      "Iter 1651/2000 - Loss: 0.7159\n",
      "Iter 1652/2000 - Loss: 0.7159\n",
      "Iter 1653/2000 - Loss: 0.7158\n",
      "Iter 1654/2000 - Loss: 0.7158\n"
     ]
    },
    {
     "name": "stderr",
     "output_type": "stream",
     "text": [
      "Iteration:  83%|████████▎ | 1658/2000 [00:40<00:06, 55.64it/s, loss=0.716]"
     ]
    },
    {
     "name": "stdout",
     "output_type": "stream",
     "text": [
      "Iter 1655/2000 - Loss: 0.7158\n",
      "Iter 1656/2000 - Loss: 0.7158\n",
      "Iter 1657/2000 - Loss: 0.7158\n",
      "Iter 1658/2000 - Loss: 0.7158\n",
      "Iter 1659/2000 - Loss: 0.7158\n",
      "Iter 1660/2000 - Loss: 0.7158\n",
      "Iter 1661/2000 - Loss: 0.7158\n",
      "Iter 1662/2000 - Loss: 0.7158\n",
      "Iter 1663/2000 - Loss: 0.7158\n"
     ]
    },
    {
     "name": "stderr",
     "output_type": "stream",
     "text": [
      "Iteration:  84%|████████▎ | 1670/2000 [00:40<00:06, 51.87it/s, loss=0.716]"
     ]
    },
    {
     "name": "stdout",
     "output_type": "stream",
     "text": [
      "Iter 1664/2000 - Loss: 0.7158\n",
      "Iter 1665/2000 - Loss: 0.7158\n",
      "Iter 1666/2000 - Loss: 0.7158\n",
      "Iter 1667/2000 - Loss: 0.7158\n",
      "Iter 1668/2000 - Loss: 0.7158\n",
      "Iter 1669/2000 - Loss: 0.7158\n",
      "Iter 1670/2000 - Loss: 0.7158\n",
      "Iter 1671/2000 - Loss: 0.7158\n",
      "Iter 1672/2000 - Loss: 0.7158\n",
      "Iter 1673/2000 - Loss: 0.7158\n",
      "Iter 1674/2000 - Loss: 0.7158\n"
     ]
    },
    {
     "name": "stderr",
     "output_type": "stream",
     "text": [
      "Iteration:  84%|████████▍ | 1682/2000 [00:40<00:06, 52.78it/s, loss=0.716]"
     ]
    },
    {
     "name": "stdout",
     "output_type": "stream",
     "text": [
      "Iter 1675/2000 - Loss: 0.7158\n",
      "Iter 1676/2000 - Loss: 0.7158\n",
      "Iter 1677/2000 - Loss: 0.7158\n",
      "Iter 1678/2000 - Loss: 0.7158\n",
      "Iter 1679/2000 - Loss: 0.7158\n",
      "Iter 1680/2000 - Loss: 0.7158\n",
      "Iter 1681/2000 - Loss: 0.7158\n",
      "Iter 1682/2000 - Loss: 0.7158\n",
      "Iter 1683/2000 - Loss: 0.7158\n"
     ]
    },
    {
     "name": "stderr",
     "output_type": "stream",
     "text": [
      "Iteration:  84%|████████▍ | 1688/2000 [00:41<00:14, 22.14it/s, loss=0.716]"
     ]
    },
    {
     "name": "stdout",
     "output_type": "stream",
     "text": [
      "Iter 1684/2000 - Loss: 0.7158\n",
      "Iter 1685/2000 - Loss: 0.7158\n",
      "Iter 1686/2000 - Loss: 0.7158\n",
      "Iter 1687/2000 - Loss: 0.7157\n",
      "Iter 1688/2000 - Loss: 0.7157\n"
     ]
    },
    {
     "name": "stderr",
     "output_type": "stream",
     "text": [
      "Iteration:  85%|████████▌ | 1700/2000 [00:41<00:09, 32.47it/s, loss=0.716]"
     ]
    },
    {
     "name": "stdout",
     "output_type": "stream",
     "text": [
      "Iter 1689/2000 - Loss: 0.7157\n",
      "Iter 1690/2000 - Loss: 0.7157\n",
      "Iter 1691/2000 - Loss: 0.7157\n",
      "Iter 1692/2000 - Loss: 0.7157\n",
      "Iter 1693/2000 - Loss: 0.7157\n",
      "Iter 1694/2000 - Loss: 0.7157\n",
      "Iter 1695/2000 - Loss: 0.7157\n",
      "Iter 1696/2000 - Loss: 0.7157\n",
      "Iter 1697/2000 - Loss: 0.7157\n",
      "Iter 1698/2000 - Loss: 0.7157\n",
      "Iter 1699/2000 - Loss: 0.7157\n",
      "Iter 1700/2000 - Loss: 0.7157\n"
     ]
    },
    {
     "name": "stderr",
     "output_type": "stream",
     "text": [
      "Iteration:  86%|████████▌ | 1712/2000 [00:41<00:06, 41.97it/s, loss=0.716]"
     ]
    },
    {
     "name": "stdout",
     "output_type": "stream",
     "text": [
      "Iter 1701/2000 - Loss: 0.7157\n",
      "Iter 1702/2000 - Loss: 0.7157\n",
      "Iter 1703/2000 - Loss: 0.7157\n",
      "Iter 1704/2000 - Loss: 0.7157\n",
      "Iter 1705/2000 - Loss: 0.7157\n",
      "Iter 1706/2000 - Loss: 0.7157\n",
      "Iter 1707/2000 - Loss: 0.7157\n",
      "Iter 1708/2000 - Loss: 0.7157\n",
      "Iter 1709/2000 - Loss: 0.7157\n",
      "Iter 1710/2000 - Loss: 0.7157\n",
      "Iter 1711/2000 - Loss: 0.7157\n",
      "Iter 1712/2000 - Loss: 0.7157\n"
     ]
    },
    {
     "name": "stderr",
     "output_type": "stream",
     "text": [
      "Iteration:  86%|████████▌ | 1724/2000 [00:41<00:05, 48.76it/s, loss=0.716]"
     ]
    },
    {
     "name": "stdout",
     "output_type": "stream",
     "text": [
      "Iter 1713/2000 - Loss: 0.7157\n",
      "Iter 1714/2000 - Loss: 0.7157\n",
      "Iter 1715/2000 - Loss: 0.7157\n",
      "Iter 1716/2000 - Loss: 0.7157\n",
      "Iter 1717/2000 - Loss: 0.7157\n",
      "Iter 1718/2000 - Loss: 0.7157\n",
      "Iter 1719/2000 - Loss: 0.7156\n",
      "Iter 1720/2000 - Loss: 0.7156\n",
      "Iter 1721/2000 - Loss: 0.7156\n",
      "Iter 1722/2000 - Loss: 0.7156\n",
      "Iter 1723/2000 - Loss: 0.7156\n",
      "Iter 1724/2000 - Loss: 0.7156\n"
     ]
    },
    {
     "name": "stderr",
     "output_type": "stream",
     "text": [
      "Iteration:  86%|████████▋ | 1730/2000 [00:41<00:05, 51.50it/s, loss=0.716]"
     ]
    },
    {
     "name": "stdout",
     "output_type": "stream",
     "text": [
      "Iter 1725/2000 - Loss: 0.7156\n",
      "Iter 1726/2000 - Loss: 0.7156\n",
      "Iter 1727/2000 - Loss: 0.7156\n",
      "Iter 1728/2000 - Loss: 0.7156\n",
      "Iter 1729/2000 - Loss: 0.7156\n",
      "Iter 1730/2000 - Loss: 0.7156\n",
      "Iter 1731/2000 - Loss: 0.7156\n",
      "Iter 1732/2000 - Loss: 0.7156\n"
     ]
    },
    {
     "name": "stderr",
     "output_type": "stream",
     "text": [
      "Iteration:  87%|████████▋ | 1742/2000 [00:42<00:05, 47.84it/s, loss=0.716]"
     ]
    },
    {
     "name": "stdout",
     "output_type": "stream",
     "text": [
      "Iter 1733/2000 - Loss: 0.7156\n",
      "Iter 1734/2000 - Loss: 0.7156\n",
      "Iter 1735/2000 - Loss: 0.7156\n",
      "Iter 1736/2000 - Loss: 0.7156\n",
      "Iter 1737/2000 - Loss: 0.7156\n",
      "Iter 1738/2000 - Loss: 0.7156\n",
      "Iter 1739/2000 - Loss: 0.7156\n",
      "Iter 1740/2000 - Loss: 0.7156\n",
      "Iter 1741/2000 - Loss: 0.7156\n",
      "Iter 1742/2000 - Loss: 0.7156\n",
      "Iter 1743/2000 - Loss: 0.7156\n",
      "Iter 1744/2000 - Loss: 0.7156\n"
     ]
    },
    {
     "name": "stderr",
     "output_type": "stream",
     "text": [
      "Iteration:  88%|████████▊ | 1754/2000 [00:42<00:04, 52.33it/s, loss=0.716]"
     ]
    },
    {
     "name": "stdout",
     "output_type": "stream",
     "text": [
      "Iter 1745/2000 - Loss: 0.7156\n",
      "Iter 1746/2000 - Loss: 0.7156\n",
      "Iter 1747/2000 - Loss: 0.7156\n",
      "Iter 1748/2000 - Loss: 0.7156\n",
      "Iter 1749/2000 - Loss: 0.7156\n",
      "Iter 1750/2000 - Loss: 0.7156\n",
      "Iter 1751/2000 - Loss: 0.7155\n",
      "Iter 1752/2000 - Loss: 0.7155\n",
      "Iter 1753/2000 - Loss: 0.7155\n",
      "Iter 1754/2000 - Loss: 0.7155\n",
      "Iter 1755/2000 - Loss: 0.7155\n",
      "Iter 1756/2000 - Loss: 0.7155\n"
     ]
    },
    {
     "name": "stderr",
     "output_type": "stream",
     "text": [
      "Iteration:  88%|████████▊ | 1766/2000 [00:42<00:04, 53.38it/s, loss=0.715]"
     ]
    },
    {
     "name": "stdout",
     "output_type": "stream",
     "text": [
      "Iter 1757/2000 - Loss: 0.7155\n",
      "Iter 1758/2000 - Loss: 0.7155\n",
      "Iter 1759/2000 - Loss: 0.7155\n",
      "Iter 1760/2000 - Loss: 0.7155\n",
      "Iter 1761/2000 - Loss: 0.7155\n",
      "Iter 1762/2000 - Loss: 0.7155\n",
      "Iter 1763/2000 - Loss: 0.7155\n",
      "Iter 1764/2000 - Loss: 0.7155\n",
      "Iter 1765/2000 - Loss: 0.7155\n",
      "Iter 1766/2000 - Loss: 0.7155\n",
      "Iter 1767/2000 - Loss: 0.7155\n"
     ]
    },
    {
     "name": "stderr",
     "output_type": "stream",
     "text": [
      "Iteration:  89%|████████▊ | 1772/2000 [00:42<00:05, 42.28it/s, loss=0.715]"
     ]
    },
    {
     "name": "stdout",
     "output_type": "stream",
     "text": [
      "Iter 1768/2000 - Loss: 0.7155\n",
      "Iter 1769/2000 - Loss: 0.7155\n",
      "Iter 1770/2000 - Loss: 0.7155\n",
      "Iter 1771/2000 - Loss: 0.7155\n",
      "Iter 1772/2000 - Loss: 0.7155\n",
      "Iter 1773/2000 - Loss: 0.7155\n",
      "Iter 1774/2000 - Loss: 0.7155\n",
      "Iter 1775/2000 - Loss: 0.7155\n",
      "Iter 1776/2000 - Loss: 0.7155\n"
     ]
    },
    {
     "name": "stderr",
     "output_type": "stream",
     "text": [
      "Iteration:  89%|████████▉ | 1784/2000 [00:42<00:04, 44.40it/s, loss=0.715]"
     ]
    },
    {
     "name": "stdout",
     "output_type": "stream",
     "text": [
      "Iter 1777/2000 - Loss: 0.7155\n",
      "Iter 1778/2000 - Loss: 0.7155\n",
      "Iter 1779/2000 - Loss: 0.7155\n",
      "Iter 1780/2000 - Loss: 0.7155\n",
      "Iter 1781/2000 - Loss: 0.7155\n",
      "Iter 1782/2000 - Loss: 0.7154\n",
      "Iter 1783/2000 - Loss: 0.7154\n",
      "Iter 1784/2000 - Loss: 0.7154\n",
      "Iter 1785/2000 - Loss: 0.7154\n"
     ]
    },
    {
     "name": "stderr",
     "output_type": "stream",
     "text": [
      "Iteration:  90%|████████▉ | 1796/2000 [00:43<00:04, 49.14it/s, loss=0.715]"
     ]
    },
    {
     "name": "stdout",
     "output_type": "stream",
     "text": [
      "Iter 1786/2000 - Loss: 0.7154\n",
      "Iter 1787/2000 - Loss: 0.7154\n",
      "Iter 1788/2000 - Loss: 0.7154\n",
      "Iter 1789/2000 - Loss: 0.7154\n",
      "Iter 1790/2000 - Loss: 0.7154\n",
      "Iter 1791/2000 - Loss: 0.7154\n",
      "Iter 1792/2000 - Loss: 0.7154\n",
      "Iter 1793/2000 - Loss: 0.7154\n",
      "Iter 1794/2000 - Loss: 0.7154\n",
      "Iter 1795/2000 - Loss: 0.7154\n",
      "Iter 1796/2000 - Loss: 0.7154\n",
      "Iter 1797/2000 - Loss: 0.7154\n"
     ]
    },
    {
     "name": "stderr",
     "output_type": "stream",
     "text": [
      "Iteration:  90%|█████████ | 1808/2000 [00:43<00:03, 53.12it/s, loss=0.715]"
     ]
    },
    {
     "name": "stdout",
     "output_type": "stream",
     "text": [
      "Iter 1798/2000 - Loss: 0.7154\n",
      "Iter 1799/2000 - Loss: 0.7154\n",
      "Iter 1800/2000 - Loss: 0.7154\n",
      "Iter 1801/2000 - Loss: 0.7154\n",
      "Iter 1802/2000 - Loss: 0.7154\n",
      "Iter 1803/2000 - Loss: 0.7154\n",
      "Iter 1804/2000 - Loss: 0.7154\n",
      "Iter 1805/2000 - Loss: 0.7154\n",
      "Iter 1806/2000 - Loss: 0.7154\n",
      "Iter 1807/2000 - Loss: 0.7154\n",
      "Iter 1808/2000 - Loss: 0.7154\n",
      "Iter 1809/2000 - Loss: 0.7154\n"
     ]
    },
    {
     "name": "stderr",
     "output_type": "stream",
     "text": [
      "Iteration:  91%|█████████ | 1820/2000 [00:43<00:03, 55.17it/s, loss=0.715]"
     ]
    },
    {
     "name": "stdout",
     "output_type": "stream",
     "text": [
      "Iter 1810/2000 - Loss: 0.7154\n",
      "Iter 1811/2000 - Loss: 0.7153\n",
      "Iter 1812/2000 - Loss: 0.7153\n",
      "Iter 1813/2000 - Loss: 0.7153\n",
      "Iter 1814/2000 - Loss: 0.7153\n",
      "Iter 1815/2000 - Loss: 0.7153\n",
      "Iter 1816/2000 - Loss: 0.7153\n",
      "Iter 1817/2000 - Loss: 0.7153\n",
      "Iter 1818/2000 - Loss: 0.7153\n",
      "Iter 1819/2000 - Loss: 0.7153\n",
      "Iter 1820/2000 - Loss: 0.7153\n",
      "Iter 1821/2000 - Loss: 0.7153\n"
     ]
    },
    {
     "name": "stderr",
     "output_type": "stream",
     "text": [
      "Iteration:  92%|█████████▏| 1832/2000 [00:43<00:02, 56.57it/s, loss=0.715]"
     ]
    },
    {
     "name": "stdout",
     "output_type": "stream",
     "text": [
      "Iter 1822/2000 - Loss: 0.7153\n",
      "Iter 1823/2000 - Loss: 0.7153\n",
      "Iter 1824/2000 - Loss: 0.7153\n",
      "Iter 1825/2000 - Loss: 0.7153\n",
      "Iter 1826/2000 - Loss: 0.7153\n",
      "Iter 1827/2000 - Loss: 0.7153\n",
      "Iter 1828/2000 - Loss: 0.7153\n",
      "Iter 1829/2000 - Loss: 0.7153\n",
      "Iter 1830/2000 - Loss: 0.7153\n",
      "Iter 1831/2000 - Loss: 0.7153\n",
      "Iter 1832/2000 - Loss: 0.7153\n",
      "Iter 1833/2000 - Loss: 0.7153\n"
     ]
    },
    {
     "name": "stderr",
     "output_type": "stream",
     "text": [
      "Iteration:  92%|█████████▏| 1844/2000 [00:43<00:02, 54.13it/s, loss=0.715]"
     ]
    },
    {
     "name": "stdout",
     "output_type": "stream",
     "text": [
      "Iter 1834/2000 - Loss: 0.7153\n",
      "Iter 1835/2000 - Loss: 0.7153\n",
      "Iter 1836/2000 - Loss: 0.7153\n",
      "Iter 1837/2000 - Loss: 0.7153\n",
      "Iter 1838/2000 - Loss: 0.7152\n",
      "Iter 1839/2000 - Loss: 0.7152\n",
      "Iter 1840/2000 - Loss: 0.7152\n",
      "Iter 1841/2000 - Loss: 0.7152\n",
      "Iter 1842/2000 - Loss: 0.7152\n",
      "Iter 1843/2000 - Loss: 0.7152\n",
      "Iter 1844/2000 - Loss: 0.7152\n"
     ]
    },
    {
     "name": "stderr",
     "output_type": "stream",
     "text": [
      "Iteration:  92%|█████████▎| 1850/2000 [00:44<00:02, 54.43it/s, loss=0.715]"
     ]
    },
    {
     "name": "stdout",
     "output_type": "stream",
     "text": [
      "Iter 1845/2000 - Loss: 0.7152\n",
      "Iter 1846/2000 - Loss: 0.7152\n",
      "Iter 1847/2000 - Loss: 0.7152\n",
      "Iter 1848/2000 - Loss: 0.7152\n",
      "Iter 1849/2000 - Loss: 0.7152\n",
      "Iter 1850/2000 - Loss: 0.7152\n",
      "Iter 1851/2000 - Loss: 0.7152\n",
      "Iter 1852/2000 - Loss: 0.7152\n",
      "Iter 1853/2000 - Loss: 0.7152\n"
     ]
    },
    {
     "name": "stderr",
     "output_type": "stream",
     "text": [
      "Iteration:  93%|█████████▎| 1862/2000 [00:44<00:02, 49.10it/s, loss=0.715]"
     ]
    },
    {
     "name": "stdout",
     "output_type": "stream",
     "text": [
      "Iter 1854/2000 - Loss: 0.7152\n",
      "Iter 1855/2000 - Loss: 0.7152\n",
      "Iter 1856/2000 - Loss: 0.7152\n",
      "Iter 1857/2000 - Loss: 0.7152\n",
      "Iter 1858/2000 - Loss: 0.7152\n",
      "Iter 1859/2000 - Loss: 0.7152\n",
      "Iter 1860/2000 - Loss: 0.7152\n",
      "Iter 1861/2000 - Loss: 0.7152\n",
      "Iter 1862/2000 - Loss: 0.7152\n",
      "Iter 1863/2000 - Loss: 0.7152\n",
      "Iter 1864/2000 - Loss: 0.7151\n",
      "Iter 1865/2000 - Loss: 0.7151\n"
     ]
    },
    {
     "name": "stderr",
     "output_type": "stream",
     "text": [
      "Iteration:  94%|█████████▎| 1874/2000 [00:44<00:02, 52.04it/s, loss=0.715]"
     ]
    },
    {
     "name": "stdout",
     "output_type": "stream",
     "text": [
      "Iter 1866/2000 - Loss: 0.7151\n",
      "Iter 1867/2000 - Loss: 0.7151\n",
      "Iter 1868/2000 - Loss: 0.7151\n",
      "Iter 1869/2000 - Loss: 0.7151\n",
      "Iter 1870/2000 - Loss: 0.7151\n",
      "Iter 1871/2000 - Loss: 0.7151\n",
      "Iter 1872/2000 - Loss: 0.7151\n",
      "Iter 1873/2000 - Loss: 0.7151\n",
      "Iter 1874/2000 - Loss: 0.7151\n",
      "Iter 1875/2000 - Loss: 0.7151\n"
     ]
    },
    {
     "name": "stderr",
     "output_type": "stream",
     "text": [
      "Iteration:  94%|█████████▍| 1880/2000 [00:44<00:02, 46.11it/s, loss=0.715]"
     ]
    },
    {
     "name": "stdout",
     "output_type": "stream",
     "text": [
      "Iter 1876/2000 - Loss: 0.7151\n",
      "Iter 1877/2000 - Loss: 0.7151\n",
      "Iter 1878/2000 - Loss: 0.7151\n",
      "Iter 1879/2000 - Loss: 0.7151\n",
      "Iter 1880/2000 - Loss: 0.7151\n",
      "Iter 1881/2000 - Loss: 0.7151\n",
      "Iter 1882/2000 - Loss: 0.7151\n"
     ]
    },
    {
     "name": "stderr",
     "output_type": "stream",
     "text": [
      "Iteration:  95%|█████████▍| 1891/2000 [00:45<00:02, 39.22it/s, loss=0.715]"
     ]
    },
    {
     "name": "stdout",
     "output_type": "stream",
     "text": [
      "Iter 1883/2000 - Loss: 0.7151\n",
      "Iter 1884/2000 - Loss: 0.7151\n",
      "Iter 1885/2000 - Loss: 0.7151\n",
      "Iter 1886/2000 - Loss: 0.7151\n",
      "Iter 1887/2000 - Loss: 0.7151\n",
      "Iter 1888/2000 - Loss: 0.7151\n",
      "Iter 1889/2000 - Loss: 0.7150\n",
      "Iter 1890/2000 - Loss: 0.7150\n",
      "Iter 1891/2000 - Loss: 0.7150\n",
      "Iter 1892/2000 - Loss: 0.7150\n",
      "Iter 1893/2000 - Loss: 0.7150\n"
     ]
    },
    {
     "name": "stderr",
     "output_type": "stream",
     "text": [
      "Iteration:  95%|█████████▌| 1903/2000 [00:45<00:02, 47.05it/s, loss=0.715]"
     ]
    },
    {
     "name": "stdout",
     "output_type": "stream",
     "text": [
      "Iter 1894/2000 - Loss: 0.7150\n",
      "Iter 1895/2000 - Loss: 0.7150\n",
      "Iter 1896/2000 - Loss: 0.7150\n",
      "Iter 1897/2000 - Loss: 0.7150\n",
      "Iter 1898/2000 - Loss: 0.7150\n",
      "Iter 1899/2000 - Loss: 0.7150\n",
      "Iter 1900/2000 - Loss: 0.7150\n",
      "Iter 1901/2000 - Loss: 0.7150\n",
      "Iter 1902/2000 - Loss: 0.7150\n",
      "Iter 1903/2000 - Loss: 0.7150\n",
      "Iter 1904/2000 - Loss: 0.7150\n",
      "Iter 1905/2000 - Loss: 0.7150\n"
     ]
    },
    {
     "name": "stderr",
     "output_type": "stream",
     "text": [
      "Iteration:  96%|█████████▌| 1915/2000 [00:45<00:01, 52.41it/s, loss=0.715]"
     ]
    },
    {
     "name": "stdout",
     "output_type": "stream",
     "text": [
      "Iter 1906/2000 - Loss: 0.7150\n",
      "Iter 1907/2000 - Loss: 0.7150\n",
      "Iter 1908/2000 - Loss: 0.7150\n",
      "Iter 1909/2000 - Loss: 0.7150\n",
      "Iter 1910/2000 - Loss: 0.7150\n",
      "Iter 1911/2000 - Loss: 0.7150\n",
      "Iter 1912/2000 - Loss: 0.7150\n",
      "Iter 1913/2000 - Loss: 0.7150\n",
      "Iter 1914/2000 - Loss: 0.7149\n",
      "Iter 1915/2000 - Loss: 0.7149\n",
      "Iter 1916/2000 - Loss: 0.7149\n",
      "Iter 1917/2000 - Loss: 0.7149\n"
     ]
    },
    {
     "name": "stderr",
     "output_type": "stream",
     "text": [
      "Iteration:  96%|█████████▋| 1927/2000 [00:45<00:01, 52.99it/s, loss=0.715]"
     ]
    },
    {
     "name": "stdout",
     "output_type": "stream",
     "text": [
      "Iter 1918/2000 - Loss: 0.7149\n",
      "Iter 1919/2000 - Loss: 0.7149\n",
      "Iter 1920/2000 - Loss: 0.7149\n",
      "Iter 1921/2000 - Loss: 0.7149\n",
      "Iter 1922/2000 - Loss: 0.7149\n",
      "Iter 1923/2000 - Loss: 0.7149\n",
      "Iter 1924/2000 - Loss: 0.7149\n",
      "Iter 1925/2000 - Loss: 0.7149\n",
      "Iter 1926/2000 - Loss: 0.7149\n",
      "Iter 1927/2000 - Loss: 0.7149\n",
      "Iter 1928/2000 - Loss: 0.7149\n",
      "Iter 1929/2000 - Loss: 0.7149\n"
     ]
    },
    {
     "name": "stderr",
     "output_type": "stream",
     "text": [
      "Iteration:  97%|█████████▋| 1933/2000 [00:46<00:01, 50.22it/s, loss=0.715]"
     ]
    },
    {
     "name": "stdout",
     "output_type": "stream",
     "text": [
      "Iter 1930/2000 - Loss: 0.7149\n",
      "Iter 1931/2000 - Loss: 0.7149\n",
      "Iter 1932/2000 - Loss: 0.7149\n",
      "Iter 1933/2000 - Loss: 0.7149\n",
      "Iter 1934/2000 - Loss: 0.7149\n",
      "Iter 1935/2000 - Loss: 0.7149\n",
      "Iter 1936/2000 - Loss: 0.7149\n"
     ]
    },
    {
     "name": "stderr",
     "output_type": "stream",
     "text": [
      "Iteration:  97%|█████████▋| 1939/2000 [00:46<00:01, 38.19it/s, loss=0.715]"
     ]
    },
    {
     "name": "stdout",
     "output_type": "stream",
     "text": [
      "Iter 1937/2000 - Loss: 0.7149\n",
      "Iter 1938/2000 - Loss: 0.7149\n",
      "Iter 1939/2000 - Loss: 0.7148\n",
      "Iter 1940/2000 - Loss: 0.7148\n",
      "Iter 1941/2000 - Loss: 0.7148\n",
      "Iter 1942/2000 - Loss: 0.7148\n",
      "Iter 1943/2000 - Loss: 0.7148\n"
     ]
    },
    {
     "name": "stderr",
     "output_type": "stream",
     "text": [
      "Iteration:  97%|█████████▋| 1944/2000 [00:46<00:01, 35.45it/s, loss=0.715]"
     ]
    },
    {
     "name": "stdout",
     "output_type": "stream",
     "text": [
      "Iter 1944/2000 - Loss: 0.7148\n",
      "Iter 1945/2000 - Loss: 0.7148\n"
     ]
    },
    {
     "name": "stderr",
     "output_type": "stream",
     "text": [
      "Iteration:  98%|█████████▊| 1954/2000 [00:46<00:01, 30.26it/s, loss=0.715]"
     ]
    },
    {
     "name": "stdout",
     "output_type": "stream",
     "text": [
      "Iter 1946/2000 - Loss: 0.7148\n",
      "Iter 1947/2000 - Loss: 0.7148\n",
      "Iter 1948/2000 - Loss: 0.7148\n",
      "Iter 1949/2000 - Loss: 0.7148\n",
      "Iter 1950/2000 - Loss: 0.7148\n",
      "Iter 1951/2000 - Loss: 0.7148\n",
      "Iter 1952/2000 - Loss: 0.7148\n",
      "Iter 1953/2000 - Loss: 0.7148\n",
      "Iter 1954/2000 - Loss: 0.7148\n",
      "Iter 1955/2000 - Loss: 0.7148\n",
      "Iter 1956/2000 - Loss: 0.7148\n",
      "Iter 1957/2000 - Loss: 0.7148\n"
     ]
    },
    {
     "name": "stderr",
     "output_type": "stream",
     "text": [
      "Iteration:  98%|█████████▊| 1966/2000 [00:46<00:00, 39.61it/s, loss=0.715]"
     ]
    },
    {
     "name": "stdout",
     "output_type": "stream",
     "text": [
      "Iter 1958/2000 - Loss: 0.7148\n",
      "Iter 1959/2000 - Loss: 0.7148\n",
      "Iter 1960/2000 - Loss: 0.7148\n",
      "Iter 1961/2000 - Loss: 0.7148\n",
      "Iter 1962/2000 - Loss: 0.7148\n",
      "Iter 1963/2000 - Loss: 0.7148\n",
      "Iter 1964/2000 - Loss: 0.7148\n",
      "Iter 1965/2000 - Loss: 0.7147\n",
      "Iter 1966/2000 - Loss: 0.7147\n",
      "Iter 1967/2000 - Loss: 0.7147\n",
      "Iter 1968/2000 - Loss: 0.7147\n",
      "Iter 1969/2000 - Loss: 0.7147\n"
     ]
    },
    {
     "name": "stderr",
     "output_type": "stream",
     "text": [
      "Iteration:  99%|█████████▉| 1978/2000 [00:47<00:00, 45.39it/s, loss=0.715]"
     ]
    },
    {
     "name": "stdout",
     "output_type": "stream",
     "text": [
      "Iter 1970/2000 - Loss: 0.7147\n",
      "Iter 1971/2000 - Loss: 0.7147\n",
      "Iter 1972/2000 - Loss: 0.7147\n",
      "Iter 1973/2000 - Loss: 0.7147\n",
      "Iter 1974/2000 - Loss: 0.7147\n",
      "Iter 1975/2000 - Loss: 0.7147\n",
      "Iter 1976/2000 - Loss: 0.7147\n",
      "Iter 1977/2000 - Loss: 0.7147\n",
      "Iter 1978/2000 - Loss: 0.7147\n",
      "Iter 1979/2000 - Loss: 0.7147\n",
      "Iter 1980/2000 - Loss: 0.7147\n"
     ]
    },
    {
     "name": "stderr",
     "output_type": "stream",
     "text": [
      "Iteration: 100%|█████████▉| 1990/2000 [00:47<00:00, 51.06it/s, loss=0.715]"
     ]
    },
    {
     "name": "stdout",
     "output_type": "stream",
     "text": [
      "Iter 1981/2000 - Loss: 0.7147\n",
      "Iter 1982/2000 - Loss: 0.7147\n",
      "Iter 1983/2000 - Loss: 0.7147\n",
      "Iter 1984/2000 - Loss: 0.7147\n",
      "Iter 1985/2000 - Loss: 0.7147\n",
      "Iter 1986/2000 - Loss: 0.7147\n",
      "Iter 1987/2000 - Loss: 0.7147\n",
      "Iter 1988/2000 - Loss: 0.7147\n",
      "Iter 1989/2000 - Loss: 0.7147\n",
      "Iter 1990/2000 - Loss: 0.7147\n",
      "Iter 1991/2000 - Loss: 0.7147\n",
      "Iter 1992/2000 - Loss: 0.7147\n"
     ]
    },
    {
     "name": "stderr",
     "output_type": "stream",
     "text": [
      "Iteration: 100%|█████████▉| 1996/2000 [00:47<00:00, 52.75it/s, loss=0.715]"
     ]
    },
    {
     "name": "stdout",
     "output_type": "stream",
     "text": [
      "Iter 1993/2000 - Loss: 0.7146\n",
      "Iter 1994/2000 - Loss: 0.7146\n",
      "Iter 1995/2000 - Loss: 0.7146\n",
      "Iter 1996/2000 - Loss: 0.7146\n",
      "Iter 1997/2000 - Loss: 0.7146\n",
      "Iter 1998/2000 - Loss: 0.7146\n"
     ]
    },
    {
     "name": "stderr",
     "output_type": "stream",
     "text": [
      "Iteration: 100%|██████████| 2000/2000 [00:47<00:00, 41.73it/s, loss=0.715]"
     ]
    },
    {
     "name": "stdout",
     "output_type": "stream",
     "text": [
      "Iter 1999/2000 - Loss: 0.7146\n",
      "Iter 2000/2000 - Loss: 0.7146\n"
     ]
    },
    {
     "name": "stderr",
     "output_type": "stream",
     "text": [
      "\n"
     ]
    }
   ],
   "source": [
    "epochs_iter = tqdm(range(training_iterations), desc=\"Iteration\")\n",
    "\n",
    "\n",
    "# Create the optimizer with the initial learning rate\n",
    "optimizer = torch.optim.AdamW(model.parameters(), lr=0.01, amsgrad=True)  # Includes GaussianLikelihood parameters\n",
    "\n",
    "for i in epochs_iter:\n",
    "    # Training step\n",
    "    model.train()\n",
    "    likelihood.train()\n",
    "\n",
    "    optimizer.zero_grad()\n",
    "    output = model(X_train)\n",
    "    loss = -mll(output, Y_train)\n",
    "    epochs_iter.set_postfix(loss=loss.item())\n",
    "    loss.backward()\n",
    "    optimizer.step()\n",
    "    print('Iter %d/%d - Loss: %.4f' % (i + 1, training_iterations, loss.item()))\n",
    "\n",
    "    # Change learning rate after half of iterations\n",
    "#     if i == 250:\n",
    "#         lr = 0.01\n",
    "#         print('reducing lr to 0.01')\n",
    "#         for param_group in optimizer.param_groups:\n",
    "#             param_group['lr'] = lr\n",
    "\n",
    "#     if i == 150:\n",
    "#         lr = 0.01\n",
    "#         print('reducing lr to 0.01')\n",
    "#         for param_group in optimizer.param_groups:\n",
    "#             param_group['lr'] = lr\n",
    "#-.926"
   ]
  },
  {
   "cell_type": "code",
   "execution_count": 8,
   "id": "aad4f32b",
   "metadata": {},
   "outputs": [
    {
     "data": {
      "text/plain": [
       "OrderedDict([('likelihood.raw_task_noises',\n",
       "              tensor([-3.6014, -2.8892, -4.5443, -4.0750, -7.1692, -4.3410, -1.8527, -3.8282])),\n",
       "             ('likelihood.raw_task_noises_constraint.lower_bound',\n",
       "              tensor(1.0000e-04)),\n",
       "             ('likelihood.raw_task_noises_constraint.upper_bound',\n",
       "              tensor(inf)),\n",
       "             ('mean_module.base_means.0.weights',\n",
       "              tensor([[-1.1301],\n",
       "                      [-0.1525],\n",
       "                      [ 0.3901],\n",
       "                      [ 0.6244],\n",
       "                      [ 0.3884],\n",
       "                      [-2.5805],\n",
       "                      [ 1.1360]])),\n",
       "             ('mean_module.base_means.0.bias', tensor([1.0224])),\n",
       "             ('mean_module.base_means.1.weights',\n",
       "              tensor([[-0.4112],\n",
       "                      [ 0.0301],\n",
       "                      [ 0.8497],\n",
       "                      [ 2.4651],\n",
       "                      [ 0.0379],\n",
       "                      [ 0.0769],\n",
       "                      [ 0.2645]])),\n",
       "             ('mean_module.base_means.1.bias', tensor([-1.4231])),\n",
       "             ('mean_module.base_means.2.weights',\n",
       "              tensor([[ 0.0775],\n",
       "                      [-0.1160],\n",
       "                      [-1.1082],\n",
       "                      [-1.2869],\n",
       "                      [-0.3760],\n",
       "                      [ 1.7210],\n",
       "                      [ 0.1275]])),\n",
       "             ('mean_module.base_means.2.bias', tensor([0.4510])),\n",
       "             ('mean_module.base_means.3.weights',\n",
       "              tensor([[ 0.2510],\n",
       "                      [ 0.4708],\n",
       "                      [-1.4203],\n",
       "                      [ 0.5811],\n",
       "                      [ 0.6441],\n",
       "                      [-0.1578],\n",
       "                      [-1.2184]])),\n",
       "             ('mean_module.base_means.3.bias', tensor([0.2027])),\n",
       "             ('mean_module.base_means.4.weights',\n",
       "              tensor([[ 1.3351],\n",
       "                      [ 0.4314],\n",
       "                      [ 1.5083],\n",
       "                      [ 1.9422],\n",
       "                      [ 0.0433],\n",
       "                      [ 0.2854],\n",
       "                      [-0.8213]])),\n",
       "             ('mean_module.base_means.4.bias', tensor([-2.5517])),\n",
       "             ('mean_module.base_means.5.weights',\n",
       "              tensor([[-0.0627],\n",
       "                      [-0.0578],\n",
       "                      [ 2.9821],\n",
       "                      [-0.2300],\n",
       "                      [-0.3050],\n",
       "                      [-1.6301],\n",
       "                      [ 0.3919]])),\n",
       "             ('mean_module.base_means.5.bias', tensor([-0.6310])),\n",
       "             ('mean_module.base_means.6.weights',\n",
       "              tensor([[-0.0453],\n",
       "                      [ 0.4714],\n",
       "                      [-0.8524],\n",
       "                      [-0.9589],\n",
       "                      [ 0.1052],\n",
       "                      [ 1.1227],\n",
       "                      [-1.6773]])),\n",
       "             ('mean_module.base_means.6.bias', tensor([0.4194])),\n",
       "             ('mean_module.base_means.7.weights',\n",
       "              tensor([[ 0.5011],\n",
       "                      [ 1.0111],\n",
       "                      [-0.9186],\n",
       "                      [-1.7824],\n",
       "                      [ 0.1113],\n",
       "                      [ 1.5157],\n",
       "                      [ 1.4361]])),\n",
       "             ('mean_module.base_means.7.bias', tensor([-0.4418])),\n",
       "             ('covar_module.task_covar_module.covar_factor',\n",
       "              tensor([[ 0.3891],\n",
       "                      [ 0.4747],\n",
       "                      [-1.1044],\n",
       "                      [-0.1697],\n",
       "                      [ 1.0814],\n",
       "                      [-0.3349],\n",
       "                      [-0.1759],\n",
       "                      [-0.1379]])),\n",
       "             ('covar_module.task_covar_module.raw_var',\n",
       "              tensor([-0.6789, -0.3029, -2.5978,  0.6884, -3.5742, -1.0710, -0.0117, -0.0515])),\n",
       "             ('covar_module.task_covar_module.raw_var_constraint.lower_bound',\n",
       "              tensor(0.)),\n",
       "             ('covar_module.task_covar_module.raw_var_constraint.upper_bound',\n",
       "              tensor(inf)),\n",
       "             ('covar_module.data_covar_module.raw_mixture_weights',\n",
       "              tensor([-1.0191, -1.0191, -0.9315])),\n",
       "             ('covar_module.data_covar_module.raw_mixture_means',\n",
       "              tensor([[[-0.4680, -2.1713, -0.7212, -0.7489, -1.2496, -0.9306, -1.5562]],\n",
       "              \n",
       "                      [[-0.4680, -2.1713, -0.7212, -0.7489, -1.2496, -0.9306, -1.5562]],\n",
       "              \n",
       "                      [[-0.5910, -1.4522, -0.7206, -0.7446, -2.2131, -0.9415, -2.0140]]])),\n",
       "             ('covar_module.data_covar_module.raw_mixture_scales',\n",
       "              tensor([[[-0.8622, -1.9377, -2.8342, -0.9315,  0.3008, -1.0755, -0.5716]],\n",
       "              \n",
       "                      [[-0.8622, -1.9377, -2.8342, -0.9315,  0.3008, -1.0755, -0.5716]],\n",
       "              \n",
       "                      [[-2.1268,  0.6346, -2.8559, -0.9353, -2.2326, -1.0780, -1.6636]]])),\n",
       "             ('covar_module.data_covar_module.raw_mixture_scales_constraint.lower_bound',\n",
       "              tensor(0.)),\n",
       "             ('covar_module.data_covar_module.raw_mixture_scales_constraint.upper_bound',\n",
       "              tensor(inf)),\n",
       "             ('covar_module.data_covar_module.raw_mixture_means_constraint.lower_bound',\n",
       "              tensor(0.)),\n",
       "             ('covar_module.data_covar_module.raw_mixture_means_constraint.upper_bound',\n",
       "              tensor(inf)),\n",
       "             ('covar_module.data_covar_module.raw_mixture_weights_constraint.lower_bound',\n",
       "              tensor(0.)),\n",
       "             ('covar_module.data_covar_module.raw_mixture_weights_constraint.upper_bound',\n",
       "              tensor(inf))])"
      ]
     },
     "execution_count": 8,
     "metadata": {},
     "output_type": "execute_result"
    }
   ],
   "source": [
    "model.state_dict()"
   ]
  },
  {
   "cell_type": "code",
   "execution_count": 9,
   "id": "03a08442",
   "metadata": {},
   "outputs": [
    {
     "name": "stdout",
     "output_type": "stream",
     "text": [
      "/home/users/delon/aemulusnu_massfunction/aemulusnu_massfunction/__init__.py\n",
      "/home/users/delon/aemulusnu_massfunction/aemulusnu_massfunction\n"
     ]
    }
   ],
   "source": [
    "import aemulusnu_massfunction\n",
    "print(aemulusnu_massfunction.__file__)\n",
    "\n",
    "import os\n",
    "\n",
    "package_path = os.path.dirname(aemulusnu_massfunction.__file__)\n",
    "print(package_path)"
   ]
  },
  {
   "cell_type": "code",
   "execution_count": 10,
   "id": "69546e88",
   "metadata": {},
   "outputs": [],
   "source": [
    "from aemulusnu_massfunction.massfunction import *\n",
    "\n",
    "with open(package_path + \"/emulator.pkl\", \"wb\") as f:\n",
    "    pickle.dump([model,\n",
    "                in_scaler,\n",
    "                out_scaler,\n",
    "                likelihood,], f)\n",
    "\n"
   ]
  },
  {
   "cell_type": "code",
   "execution_count": 11,
   "id": "d056522d",
   "metadata": {},
   "outputs": [
    {
     "name": "stdout",
     "output_type": "stream",
     "text": [
      "loading emulator from /home/users/delon/aemulusnu_massfunction/aemulusnu_massfunction/emulator.pkl\n"
     ]
    }
   ],
   "source": [
    "Emulator = AemulusNu_HMF_Emulator()"
   ]
  },
  {
   "cell_type": "code",
   "execution_count": 12,
   "id": "3fbe7bc0",
   "metadata": {
    "scrolled": false
   },
   "outputs": [
    {
     "name": "stderr",
     "output_type": "stream",
     "text": [
      "100%|██████████| 4/4 [00:01<00:00,  3.77it/s]\n"
     ]
    },
    {
     "data": {
      "text/plain": [
       "(1.2, 1.3)"
      ]
     },
     "execution_count": 12,
     "metadata": {},
     "output_type": "execute_result"
    },
    {
     "data": {
      "image/png": "[encoded data removed]",
      "text/plain": [
       "<Figure size 720x1080 with 4 Axes>"
      ]
     },
     "metadata": {
      "needs_background": "light"
     },
     "output_type": "display_data"
    }
   ],
   "source": [
    "\n",
    "import matplotlib.pyplot as plt\n",
    "\n",
    "\n",
    "fig, axs = plt.subplots(ncols=1, nrows=4, figsize=(10,15), sharex=True)\n",
    "wjat = ['Box_n50_0_1400', 'Box_n50_14_1400', 'Box_n50_33_1400', 'Box_n50_32_1400']\n",
    "# wjat = [leave_out_box, 'Box98_1400']\n",
    "\n",
    "# for box in [leave_out_box]:#, 'Box_n50_14_1400']:\n",
    "# for box in [leave_out_box, 'Box98_1400', 'Box_n50_0_1400']:#, 'Box_n50_14_1400', 'Box_n50_33_1400', 'Box_n50_32_1400']:\n",
    "for box in tqdm(wjat):\n",
    "    curr_cosmo_vals = tuple(get_cosmo_vals(cosmo_params[box]))\n",
    "    curr_ccl_cosmo = get_ccl_cosmology(curr_cosmo_vals)\n",
    "\n",
    "    param_names = ['d','e','f','g']\n",
    "    ndim = len(param_names)\n",
    "    plt.subplots_adjust(wspace=0, hspace=0)\n",
    "\n",
    "    params = {'d':[], 'e':[], 'f':[], 'g':[]}\n",
    "    paramsEMU = {'d':[], 'e':[], 'f':[], 'g':[]}\n",
    "\n",
    "    for a in a_list:\n",
    "        R = 8 / (cosmo_params[box]['H0'] / 100)\n",
    "        sigma8z = cosmo.sigmaR(R, a=a)\n",
    "        EMU  = (Emulator.predict_params(cosmo_params[box], scaleToRedshift(a))) #, sigma8z))\n",
    "\n",
    "        with open(\"/oak/stanford/orgs/kipac/users/delon/aemulusnu_massfunction/%s_params.pkl\"%(box), \"rb\") as f:\n",
    "            MLE_params = pickle.load(f)\n",
    "            curr_params = list(MLE_params.values())\n",
    "            paired_params = list(zip(curr_params, curr_params[1:]))[::2]\n",
    "\n",
    "            param_at_z = {'d':-1, 'e':-1, 'f':-1, 'g':-1}\n",
    "\n",
    "            for (p0,p1), key in zip(paired_params, param_at_z):\n",
    "                param_at_z[key] = p(p0, p1, a)\n",
    "            MLE_params = param_at_z\n",
    "\n",
    "        for key in MLE_params:\n",
    "            params[key] += [MLE_params[key]]\n",
    "            paramsEMU[key] += [EMU[key]]\n",
    "\n",
    "\n",
    "    for i, param in enumerate(params):\n",
    "        aaaaa = 1\n",
    "        axs[i].scatter(a_list, params[param], alpha=aaaaa, color='blue')\n",
    "#         print(list(zip(a_list,params[param])))\n",
    "#         print()\n",
    "        axs[i].plot(a_list, params[param], alpha=aaaaa, color='blue')\n",
    "\n",
    "        axs[i].scatter(a_list, paramsEMU[param], alpha=aaaaa, color='red')\n",
    "        axs[i].plot(a_list, paramsEMU[param], alpha=aaaaa, color='red')\n",
    "\n",
    "        axs[i].set_ylabel(param)\n",
    "    #     axs[i].set_ylim([0,2])\n",
    "        axs[i].set_xlim([min(a_list), 1])\n",
    "\n",
    "axs[-1].set_xlabel('a')\n",
    "# axs[0].set_ylim([0.25,.45])\n",
    "# axs[1].set_ylim([0.29,.305])\n",
    "# axs[2].set_ylim([1.4,1.8])\n",
    "# axs[3].set_ylim([1.18, 1.2])\n",
    "axs[0].set_ylim([1.7, 3.])\n",
    "axs[1].set_ylim([0.9, 1.1])\n",
    "axs[2].set_ylim([.3,.6])\n",
    "axs[3].set_ylim([1.2,1.3])\n",
    "# axs[0].set_title(box)"
   ]
  },
  {
   "cell_type": "code",
   "execution_count": 13,
   "id": "b6799dcc",
   "metadata": {
    "scrolled": false
   },
   "outputs": [
    {
     "name": "stderr",
     "output_type": "stream",
     "text": [
      "100%|██████████| 15/15 [00:00<00:00, 39996.54it/s]\n",
      "  7%|▋         | 1/15 [00:01<00:14,  1.03s/it]"
     ]
    },
    {
     "name": "stdout",
     "output_type": "stream",
     "text": [
      "[2.176431529399106, 0.9947063284226549, 0.5223997355637658, 1.2280946927125096]\n"
     ]
    },
    {
     "name": "stderr",
     "output_type": "stream",
     "text": [
      "\r",
      " 13%|█▎        | 2/15 [00:01<00:07,  1.66it/s]"
     ]
    },
    {
     "name": "stdout",
     "output_type": "stream",
     "text": [
      "[2.190227106666656, 0.9920465270726675, 0.5156211396973251, 1.2280959592632104]\n",
      "[2.2005296230109606, 0.986518110986079, 0.5031044857752947, 1.2280968566552486]\n"
     ]
    },
    {
     "name": "stderr",
     "output_type": "stream",
     "text": [
      " 27%|██▋       | 4/15 [00:01<00:03,  3.21it/s]"
     ]
    },
    {
     "name": "stdout",
     "output_type": "stream",
     "text": [
      "[2.211171980720938, 0.9820675763910434, 0.49139515483724217, 1.2289712235285868]\n",
      "[2.2482770614623844, 0.9784624758389601, 0.4790715004220306, 1.231343584988881]\n"
     ]
    },
    {
     "name": "stderr",
     "output_type": "stream",
     "text": [
      " 40%|████      | 6/15 [00:02<00:02,  4.39it/s]"
     ]
    },
    {
     "name": "stdout",
     "output_type": "stream",
     "text": [
      "[2.2726128262734786, 0.9749410619320034, 0.4687160116997149, 1.233116788121964]\n",
      "[2.2855221364804215, 0.9731335523200331, 0.4632323803044346, 1.2341178305332958]\n"
     ]
    },
    {
     "name": "stderr",
     "output_type": "stream",
     "text": [
      " 53%|█████▎    | 8/15 [00:02<00:01,  4.78it/s]"
     ]
    },
    {
     "name": "stdout",
     "output_type": "stream",
     "text": [
      "[2.3030270543056606, 0.9716345435254987, 0.45818954495021014, 1.235391047930531]\n",
      "[2.2981953662323304, 0.9699971918746875, 0.4546079273402134, 1.2353949291177413]\n"
     ]
    },
    {
     "name": "stderr",
     "output_type": "stream",
     "text": [
      " 67%|██████▋   | 10/15 [00:02<00:00,  5.02it/s]"
     ]
    },
    {
     "name": "stdout",
     "output_type": "stream",
     "text": [
      "[2.3024563434387693, 0.9680053623176561, 0.45096080991384957, 1.2353959905161211]\n"
     ]
    },
    {
     "name": "stderr",
     "output_type": "stream",
     "text": [
      " 80%|████████  | 12/15 [00:03<00:00,  5.39it/s]"
     ]
    },
    {
     "name": "stdout",
     "output_type": "stream",
     "text": [
      "[2.3252978201077408, 0.9657442920088855, 0.44519057151649805, 1.2353962483944603]\n",
      "[2.328566015615783, 0.9642856469515912, 0.4417436166664215, 1.2353978417595846]\n"
     ]
    },
    {
     "name": "stderr",
     "output_type": "stream",
     "text": [
      "\r",
      " 87%|████████▋ | 13/15 [00:03<00:00,  5.55it/s]"
     ]
    },
    {
     "name": "stdout",
     "output_type": "stream",
     "text": [
      "[2.345129637693377, 0.9581935732533614, 0.4270860045138749, 1.235398661636454]\n"
     ]
    },
    {
     "name": "stderr",
     "output_type": "stream",
     "text": [
      "100%|██████████| 15/15 [00:03<00:00,  4.12it/s]"
     ]
    },
    {
     "name": "stdout",
     "output_type": "stream",
     "text": [
      "[2.3812463962803223, 0.9542637373203032, 0.41742103814323583, 1.2353987371660835]\n",
      "[2.359570419295517, 0.9521370129246526, 0.41326665811430197, 1.2354010962605466]\n"
     ]
    },
    {
     "name": "stderr",
     "output_type": "stream",
     "text": [
      "\n"
     ]
    },
    {
     "data": {
      "image/png": "[encoded data removed]",
      "text/plain": [
       "<Figure size 864x504 with 2 Axes>"
      ]
     },
     "metadata": {
      "needs_background": "light"
     },
     "output_type": "display_data"
    },
    {
     "data": {
      "image/png": "[encoded data removed]",
      "text/plain": [
       "<Figure size 864x504 with 2 Axes>"
      ]
     },
     "metadata": {
      "needs_background": "light"
     },
     "output_type": "display_data"
    },
    {
     "data": {
      "image/png": "[encoded data removed]",
      "text/plain": [
       "<Figure size 864x504 with 2 Axes>"
      ]
     },
     "metadata": {
      "needs_background": "light"
     },
     "output_type": "display_data"
    },
    {
     "data": {
      "image/png": "[encoded data removed]",
      "text/plain": [
       "<Figure size 864x504 with 2 Axes>"
      ]
     },
     "metadata": {
      "needs_background": "light"
     },
     "output_type": "display_data"
    },
    {
     "data": {
      "image/png": "[encoded data removed]",
      "text/plain": [
       "<Figure size 864x504 with 2 Axes>"
      ]
     },
     "metadata": {
      "needs_background": "light"
     },
     "output_type": "display_data"
    },
    {
     "data": {
      "image/png": "[encoded data removed]",
      "text/plain": [
       "<Figure size 864x504 with 2 Axes>"
      ]
     },
     "metadata": {
      "needs_background": "light"
     },
     "output_type": "display_data"
    },
    {
     "data": {
      "image/png": "[encoded data removed]",
      "text/plain": [
       "<Figure size 864x504 with 2 Axes>"
      ]
     },
     "metadata": {
      "needs_background": "light"
     },
     "output_type": "display_data"
    },
    {
     "data": {
      "image/png": "[encoded data removed]",
      "text/plain": [
       "<Figure size 864x504 with 2 Axes>"
      ]
     },
     "metadata": {
      "needs_background": "light"
     },
     "output_type": "display_data"
    },
    {
     "data": {
      "image/png": "[encoded data removed]",
      "text/plain": [
       "<Figure size 864x504 with 2 Axes>"
      ]
     },
     "metadata": {
      "needs_background": "light"
     },
     "output_type": "display_data"
    },
    {
     "data": {
      "image/png": "[encoded data removed]",
      "text/plain": [
       "<Figure size 864x504 with 2 Axes>"
      ]
     },
     "metadata": {
      "needs_background": "light"
     },
     "output_type": "display_data"
    },
    {
     "data": {
      "image/png": "[encoded data removed]",
      "text/plain": [
       "<Figure size 864x504 with 2 Axes>"
      ]
     },
     "metadata": {
      "needs_background": "light"
     },
     "output_type": "display_data"
    },
    {
     "data": {
      "image/png": "[encoded data removed]",
      "text/plain": [
       "<Figure size 864x504 with 2 Axes>"
      ]
     },
     "metadata": {
      "needs_background": "light"
     },
     "output_type": "display_data"
    },
    {
     "data": {
      "image/png": "[encoded data removed]",
      "text/plain": [
       "<Figure size 864x504 with 2 Axes>"
      ]
     },
     "metadata": {
      "needs_background": "light"
     },
     "output_type": "display_data"
    },
    {
     "data": {
      "image/png": "[encoded data removed]",
      "text/plain": [
       "<Figure size 864x504 with 2 Axes>"
      ]
     },
     "metadata": {
      "needs_background": "light"
     },
     "output_type": "display_data"
    },
    {
     "data": {
      "image/png": "[encoded data removed]",
      "text/plain": [
       "<Figure size 864x504 with 2 Axes>"
      ]
     },
     "metadata": {
      "needs_background": "light"
     },
     "output_type": "display_data"
    }
   ],
   "source": [
    "box = 'Box_n50_32_1400'\n",
    "\n",
    "from aemulusnu_massfunction.massfunction import *\n",
    "\n",
    "NvM_fname = '/oak/stanford/orgs/kipac/users/delon/aemulusnu_massfunction/'+box+'_NvsM.pkl'\n",
    "NvM_f = open(NvM_fname, 'rb')\n",
    "NvMs = pickle.load(NvM_f) #NvMs is a dictionary of dictionaries\n",
    "NvM_f.close()\n",
    "\n",
    "N_data = {}\n",
    "M_data = {}\n",
    "aux_data = {}\n",
    "\n",
    "vol = -1 #Mpc^3/h^3\n",
    "Mpart = -1\n",
    "\n",
    "for a in tqdm(a_list):\n",
    "#     if(a != 1): #TEST\n",
    "#         continue\n",
    "    c_data = NvMs[a]\n",
    "\n",
    "    Ms = c_data['M'] #units of h^-1 Msolar\n",
    "    N = c_data['N']\n",
    "    edge_pairs = c_data['edge_pairs']\n",
    "    assert(len(Ms) == len(edge_pairs))\n",
    "    assert(len(Ms) == len(N))\n",
    "\n",
    "    if(vol==-1):\n",
    "        vol = c_data['vol']\n",
    "    assert(vol == c_data['vol'])\n",
    "\n",
    "    if(Mpart==-1):\n",
    "        Mpart = c_data['Mpart']\n",
    "    assert(Mpart == c_data['Mpart'])\n",
    "\n",
    "    N_data[a] = []\n",
    "    M_data[a] = []\n",
    "    aux_data[a] = []\n",
    "    for N_curr, M_curr, edge_pair in zip(N, Ms, edge_pairs):\n",
    "        N_data[a] += [N_curr]\n",
    "        M_data[a] += [M_curr]\n",
    "        aux_data[a] += [{'a':a, 'edge_pair':edge_pair}]\n",
    "M_numerics = np.logspace(np.log10(100*Mpart), 16, 50)\n",
    "\n",
    "jackknife_covs_fname = '/oak/stanford/orgs/kipac/users/delon/aemulusnu_massfunction/'+box+'_jackknife_covs.pkl'\n",
    "jackknife_covs_f = open(jackknife_covs_fname, 'rb')\n",
    "jackknife = pickle.load(jackknife_covs_f)\n",
    "jackknife_covs_f.close()\n",
    "\n",
    "jack_covs = {a:jackknife[a][1] for a in N_data}\n",
    "\n",
    "# Compute the weighted covariance matrix incorporating jackknife and poisson\n",
    "weighted_cov = {a: jack_covs[a] for a in jack_covs}\n",
    "\n",
    "param_names = ['d','e','f','g']\n",
    "\n",
    "\n",
    "true_params = {}\n",
    "\n",
    "ccl_cosmo = get_ccl_cosmology(tuple(get_cosmo_vals(cosmo_params[box])))\n",
    "\n",
    "h = cosmo_params[box]['H0']/100\n",
    "\n",
    "\n",
    "for a in tqdm(a_list):\n",
    "    yerr = np.sqrt(np.diagonal(weighted_cov[a]))\n",
    "    fig1 = plt.figure(figsize =(12, 7))\n",
    "\n",
    "    axs=[fig1.add_axes((0.0,0.4,1,.6)), fig1.add_axes((0.0,0.0,1,.4))]\n",
    "    plt.subplots_adjust(wspace=0, hspace=0)\n",
    "    c_data = NvMs[a]\n",
    "\n",
    "    Ms = M_data[a]\n",
    "    N = N_data[a]\n",
    "    edge_pairs = c_data['edge_pairs']\n",
    "\n",
    "    edges = [edge[0] for edge in edge_pairs]\n",
    "    edges += [edge_pairs[-1][1]]\n",
    "\n",
    "    #shade in 1% and 10% error region\n",
    "    edges = np.array(edges)\n",
    "    \n",
    "    \n",
    "\n",
    "    y1 = 0.1*np.ones_like(N)\n",
    "    y1 = np.append(y1, y1[-1])\n",
    "    y1 = np.append(y1[0], y1)\n",
    "\n",
    "    y2 = -0.1*np.ones_like(N)\n",
    "    y2 = np.append(y2, y2[-1])\n",
    "    y2 = np.append(y2[0], y2)\n",
    "\n",
    "    c_Ms = np.append(Ms, edges[-1])\n",
    "    c_Ms = np.append(edges[0], c_Ms)\n",
    "    axs[1].fill_between(c_Ms, y1, y2, alpha=1, color='0.95',label='<10% Error')\n",
    "\n",
    "    y1 = 0.01*np.ones_like(N)\n",
    "    y1 = np.append(y1, y1[-1])\n",
    "    y1 = np.append(y1[0], y1)\n",
    "\n",
    "    y2 = -0.01*np.ones_like(N)\n",
    "    y2 = np.append(y2, y2[-1])\n",
    "    y2 = np.append(y2[0], y2)\n",
    "\n",
    "    axs[1].fill_between(c_Ms, y1, y2, alpha=1, color='0.85',label='<1% Error')\n",
    "\n",
    "\n",
    "    dM = np.array([edges[1]-edges[0] for edges in edge_pairs])\n",
    "\n",
    "\n",
    "    #Emulator \n",
    "    f_dNdM_MCMC =  lambda M:Emulator(ccl_cosmo, M/h, a)*vol/(h**3 * M * np.log(10)) # h / Msun\n",
    "    tinker_eval_MCMC = np.array([quad(f_dNdM_MCMC, edge[0],  edge[1], epsabs=0, epsrel=1e-5)[0] for edge in edge_pairs])\n",
    "\n",
    "    axs[0].scatter(Ms, tinker_eval_MCMC, marker='x', c='red')\n",
    "    axs[0].bar(x=edges[:-1], height=tinker_eval_MCMC, width=np.diff(edges),\n",
    "               align='edge', fill=False, ec='red', label='Emulator')\n",
    "    with open(\"/oak/stanford/orgs/kipac/users/delon/aemulusnu_massfunction/%s_%.2f_NvMemulator_loo_output.pkl\"%(box, a), \"wb\") as f:\n",
    "        pickle.dump({'Ms':Ms, 'tinker_eval':tinker_eval_MCMC, 'N':N, 'edges':edges}, f)\n",
    "\n",
    "    tmp = np.array([c_tmp*10**(0.01)-c_tmp for c_tmp in Ms])\n",
    "    axs[1].errorbar(Ms + tmp, (tinker_eval_MCMC-N)/N, yerr/N, fmt='x', color='red')\n",
    "\n",
    "    #ML Fit\n",
    "\n",
    "    mass_function = MassFuncAemulusNu_fitting()\n",
    "    \n",
    "    with open(\"/oak/stanford/orgs/kipac/users/delon/aemulusnu_massfunction/%s_%.2f_params.pkl\"%(box, a), \"rb\") as f:\n",
    "        MLE_params = pickle.load(f)\n",
    "        print(list(MLE_params.values()))\n",
    "        mass_function.set_params(list(MLE_params.values()))\n",
    "\n",
    "\n",
    "    f_dNdM_MCMC =  lambda M:mass_function(ccl_cosmo, M/h, a)*vol/(h**3 * M * np.log(10)) # h / Msun\n",
    "    tinker_eval_MCMC = np.array([quad(f_dNdM_MCMC, edge[0],  edge[1], epsabs=0, epsrel=1e-5)[0] for edge in edge_pairs])\n",
    "    axs[0].scatter(Ms, tinker_eval_MCMC, s=50 , marker='x', c='blue')\n",
    "    axs[0].bar(x=edges[:-1], height=tinker_eval_MCMC, width=np.diff(edges), \n",
    "               align='edge', fill=False, ec='blue', label='ML Fit')\n",
    "    axs[1].errorbar(Ms, (tinker_eval_MCMC-N)/N, yerr/N, fmt='x', color='blue')\n",
    "\n",
    "\n",
    "\n",
    "    #Data\n",
    "    axs[0].bar(x=edges[:-1], height=N, width=np.diff(edges),\n",
    "           align='edge', fill=False, ec='black', label='Data')\n",
    "    axs[0].errorbar(Ms, N, yerr, fmt='+', c='black')\n",
    "\n",
    "    axs[0].set_xscale('log')\n",
    "    axs[0].set_yscale('log')\n",
    "    axs[0].legend(frameon=False)\n",
    "    axs[0].set_ylabel('N')\n",
    "\n",
    "    axs[1].set_xscale('log')\n",
    "    # axs[1].set_yscale('lin', linthresh=1e-2)    \n",
    "    axs[1].legend(frameon=False)\n",
    "    axs[1].axhline(0, c='black')\n",
    "    axs[1].set_ylabel('N')\n",
    "    axs[1].set_xlabel(r'Mass $[h^{-1}M_\\odot]$')\n",
    "    axs[1].set_ylabel(r'$\\frac{N_{\\rm emulator}-N_{\\rm data}}{N_{\\rm data}} $')\n",
    "    axs[0].set_title('%s, a=%.2f, z=%.2f'%(box, a, scaleToRedshift(a)))\n",
    "\n",
    "    left = np.ceil(np.log10(200*Mpart) * 10) / 10\n",
    "    axs[0].set_xlim((10**left, np.max(edges)))\n",
    "    axs[1].set_xlim((10**left, np.max(edges)))\n",
    "    axs[1].set_ylim((-.29, .29))\n",
    "    axs[1].set_yticks([-.2, -.1, 0, .1, .2])\n",
    "\n",
    "#     plt.savefig('/oak/stanford/orgs/kipac/users/delon/aemulusnu_massfunction/figures/emulator/%s_emufit_%.2f.pdf'%(box, a), bbox_inches='tight')"
   ]
  },
  {
   "cell_type": "code",
   "execution_count": null,
   "id": "0871a9bb",
   "metadata": {},
   "outputs": [],
   "source": []
  }
 ],
 "metadata": {
  "kernelspec": {
   "display_name": "massfunction",
   "language": "python",
   "name": "massfunction"
  },
  "language_info": {
   "codemirror_mode": {
    "name": "ipython",
    "version": 3
   },
   "file_extension": ".py",
   "mimetype": "text/x-python",
   "name": "python",
   "nbconvert_exporter": "python",
   "pygments_lexer": "ipython3",
   "version": "3.9.16"
  }
 },
 "nbformat": 4,
 "nbformat_minor": 5
}
