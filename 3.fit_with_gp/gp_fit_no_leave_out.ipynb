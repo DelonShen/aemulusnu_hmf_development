{
 "cells": [
  {
   "cell_type": "code",
   "execution_count": 1,
   "id": "275029f0",
   "metadata": {},
   "outputs": [],
   "source": [
    "%load_ext autoreload\n",
    "%autoreload 2"
   ]
  },
  {
   "cell_type": "code",
   "execution_count": 2,
   "id": "368a58a2",
   "metadata": {},
   "outputs": [],
   "source": [
    "import math\n",
    "from scipy.integrate import quad, fixed_quad\n",
    "import matplotlib.pyplot as plt\n",
    "import pickle\n",
    "import numpy as np\n",
    "import functools\n",
    "import sys\n",
    "from tqdm import tqdm, trange\n",
    "from aemulusnu_mf_lib.utils import *\n",
    "from aemulusnu_massfunction.emulator_training import *\n",
    "\n",
    "from classy import Class\n",
    "\n",
    "import math\n",
    "import torch\n",
    "import gpytorch\n",
    "from matplotlib import pyplot as plt\n",
    "\n",
    "import pyccl as ccl\n"
   ]
  },
  {
   "cell_type": "code",
   "execution_count": 3,
   "id": "0f7577c9",
   "metadata": {},
   "outputs": [],
   "source": [
    "\n",
    "cosmos_f = open('../data/cosmo_params.pkl', 'rb')\n",
    "cosmo_params = pickle.load(cosmos_f) #cosmo_params is a dict\n",
    "cosmos_f.close()\n",
    "\n",
    "a_list_fname = '/oak/stanford/orgs/kipac/users/delon/aemulusnu_massfunction/alist.pkl'\n",
    "a_list_f = open(a_list_fname, 'rb')\n",
    "a_list = pickle.load(a_list_f)\n",
    "a_list_f.close()"
   ]
  },
  {
   "cell_type": "code",
   "execution_count": 4,
   "id": "36bdedca",
   "metadata": {},
   "outputs": [
    {
     "name": "stderr",
     "output_type": "stream",
     "text": [
      "100%|██████████| 150/150 [00:00<00:00, 1064.48it/s]"
     ]
    },
    {
     "name": "stdout",
     "output_type": "stream",
     "text": [
      "{'ns': 0.97000003, 'H0': 67.0, 'w0': -1.0, 'ombh2': 0.0223, 'omch2': 0.12, 'nu_mass_ev': 0.07071068, '10^9 As': 2.10100315}\n"
     ]
    },
    {
     "name": "stderr",
     "output_type": "stream",
     "text": [
      "\n"
     ]
    }
   ],
   "source": [
    "weird_boxes = []\n",
    "\n",
    "\n",
    "errors = {a:{} for a in a_list}\n",
    "X = []\n",
    "Y = []\n",
    "z_to_a = {}\n",
    "a_to_z = {}\n",
    "kt = np.logspace(-3, 1, 100) # h/Mpc\n",
    "for box in tqdm(cosmo_params):\n",
    "    if(box in weird_boxes):\n",
    "        continue\n",
    "    curr_cosmo = cosmo_params[box]\n",
    "    if(box == 'Box_n50_0_1400'):\n",
    "        print(curr_cosmo)\n",
    "\n",
    "    curr_cosmo_values = [curr_cosmo[curr_key] for curr_key in key_ordering]\n",
    "\n",
    "    h = curr_cosmo['H0']/100\n",
    "\n",
    "    Ωb =  curr_cosmo['ombh2'] / h**2\n",
    "    Ωc =  curr_cosmo['omch2'] / h**2\n",
    "\n",
    "    cosmo = ccl.Cosmology(Omega_c=Ωc,\n",
    "                          Omega_b=Ωb,\n",
    "                          h=h,\n",
    "                          A_s=curr_cosmo['10^9 As']*10**(-9),\n",
    "                          n_s=curr_cosmo['ns'],\n",
    "                          w0=curr_cosmo['w0'],\n",
    "                          m_nu=[curr_cosmo['nu_mass_ev']/3, curr_cosmo['nu_mass_ev']/3, curr_cosmo['nu_mass_ev']/3])\n",
    "\n",
    "\n",
    "    try:\n",
    "        with open(\"/oak/stanford/orgs/kipac/users/delon/aemulusnu_massfunction/%s_params.pkl\"%(box), \"rb\") as f:\n",
    "            MLE_params = pickle.load(f)\n",
    "            param_values = list(MLE_params.values())\n",
    "            Y+= [param_values]\n",
    "            X+= [curr_cosmo_values]\n",
    "    except:\n",
    "        print(box, z)\n",
    "    for a in a_list:\n",
    "        z = scaleToRedshift(a)\n",
    "        z_to_a[z] = a\n",
    "        a_to_z[a] = z"
   ]
  },
  {
   "cell_type": "code",
   "execution_count": 5,
   "id": "7dc0ffbb",
   "metadata": {},
   "outputs": [
    {
     "name": "stdout",
     "output_type": "stream",
     "text": [
      "(150, 7)\n",
      "(150, 8)\n",
      "scaling input\n",
      "(150, 7)\n",
      "scaling output\n",
      "(150, 8)\n"
     ]
    }
   ],
   "source": [
    "X = np.array(X)\n",
    "Y = np.array(Y)\n",
    "\n",
    "print(X.shape)\n",
    "print(Y.shape)\n",
    "################################\n",
    "print('scaling input')\n",
    "in_scaler = Normalizer()\n",
    "in_scaler.fit(X)\n",
    "X = in_scaler.transform(X)\n",
    "print(X.shape)\n",
    "\n",
    "\n",
    "print('scaling output')\n",
    "out_scaler = Standardizer()\n",
    "out_scaler.fit(Y)\n",
    "Y = out_scaler.transform(Y)\n",
    "print(Y.shape)\n",
    "\n",
    "##REMEMBER TO UNSCALE OUTPUT AND SAVE SCALERS#####\n",
    "\n",
    "X_train = torch.from_numpy(X).float()\n",
    "Y_train = torch.from_numpy(Y).float()\n",
    "n_tasks = len(Y_train[0])"
   ]
  },
  {
   "cell_type": "code",
   "execution_count": 6,
   "id": "69135b59",
   "metadata": {},
   "outputs": [],
   "source": [
    "\n",
    "likelihood = gpytorch.likelihoods.MultitaskGaussianLikelihood(num_tasks=n_tasks,\n",
    "                                                              has_global_noise=False, \n",
    "                                                              has_task_noise=True)\n",
    "model = MultitaskGPModel(X_train, Y_train, likelihood)\n",
    "\n",
    "\n",
    "# \"Loss\" for GPs - the marginal log likelihood\n",
    "mll = gpytorch.mlls.ExactMarginalLogLikelihood(likelihood, model)\n",
    "\n",
    "model.train()\n",
    "likelihood.train()\n",
    "\n",
    "\n",
    "training_iterations = 3000"
   ]
  },
  {
   "cell_type": "code",
   "execution_count": 7,
   "id": "7eb178a9",
   "metadata": {
    "scrolled": true
   },
   "outputs": [
    {
     "name": "stderr",
     "output_type": "stream",
     "text": [
      "Iteration:   0%|          | 4/3000 [00:01<11:33,  4.32it/s, loss=6.72]"
     ]
    },
    {
     "name": "stdout",
     "output_type": "stream",
     "text": [
      "Iter 1/3000 - Loss: 6.8419\n",
      "Iter 2/3000 - Loss: 6.8118\n",
      "Iter 3/3000 - Loss: 6.7816\n",
      "Iter 4/3000 - Loss: 6.7513\n",
      "Iter 5/3000 - Loss: 6.7210\n"
     ]
    },
    {
     "name": "stderr",
     "output_type": "stream",
     "text": [
      "Iteration:   0%|          | 11/3000 [00:01<04:00, 12.43it/s, loss=6.54]"
     ]
    },
    {
     "name": "stdout",
     "output_type": "stream",
     "text": [
      "Iter 6/3000 - Loss: 6.6905\n",
      "Iter 7/3000 - Loss: 6.6599\n",
      "Iter 8/3000 - Loss: 6.6293\n",
      "Iter 9/3000 - Loss: 6.5985\n",
      "Iter 10/3000 - Loss: 6.5676\n",
      "Iter 11/3000 - Loss: 6.5367\n"
     ]
    },
    {
     "name": "stderr",
     "output_type": "stream",
     "text": [
      "Iteration:   0%|          | 14/3000 [00:01<03:23, 14.71it/s, loss=6.38]"
     ]
    },
    {
     "name": "stdout",
     "output_type": "stream",
     "text": [
      "Iter 12/3000 - Loss: 6.5056\n",
      "Iter 13/3000 - Loss: 6.4743\n",
      "Iter 14/3000 - Loss: 6.4430\n",
      "Iter 15/3000 - Loss: 6.4116\n",
      "Iter 16/3000 - Loss: 6.3800\n"
     ]
    },
    {
     "name": "stderr",
     "output_type": "stream",
     "text": [
      "Iteration:   1%|          | 20/3000 [00:01<02:41, 18.48it/s, loss=6.19]"
     ]
    },
    {
     "name": "stdout",
     "output_type": "stream",
     "text": [
      "Iter 17/3000 - Loss: 6.3483\n",
      "Iter 18/3000 - Loss: 6.3165\n",
      "Iter 19/3000 - Loss: 6.2845\n",
      "Iter 20/3000 - Loss: 6.2524\n",
      "Iter 21/3000 - Loss: 6.2202\n"
     ]
    },
    {
     "name": "stderr",
     "output_type": "stream",
     "text": [
      "Iteration:   1%|          | 26/3000 [00:02<02:17, 21.67it/s, loss=6.02]"
     ]
    },
    {
     "name": "stdout",
     "output_type": "stream",
     "text": [
      "Iter 22/3000 - Loss: 6.1878\n",
      "Iter 23/3000 - Loss: 6.1552\n",
      "Iter 24/3000 - Loss: 6.1225\n",
      "Iter 25/3000 - Loss: 6.0897\n",
      "Iter 26/3000 - Loss: 6.0567\n",
      "Iter 27/3000 - Loss: 6.0235\n"
     ]
    },
    {
     "name": "stderr",
     "output_type": "stream",
     "text": [
      "Iteration:   1%|          | 34/3000 [00:02<01:46, 27.91it/s, loss=5.75]"
     ]
    },
    {
     "name": "stdout",
     "output_type": "stream",
     "text": [
      "Iter 28/3000 - Loss: 5.9902\n",
      "Iter 29/3000 - Loss: 5.9566\n",
      "Iter 30/3000 - Loss: 5.9229\n",
      "Iter 31/3000 - Loss: 5.8890\n",
      "Iter 32/3000 - Loss: 5.8549\n",
      "Iter 33/3000 - Loss: 5.8206\n",
      "Iter 34/3000 - Loss: 5.7861\n"
     ]
    },
    {
     "name": "stderr",
     "output_type": "stream",
     "text": [
      "Iteration:   1%|▏         | 40/3000 [00:02<01:49, 27.03it/s, loss=5.57]"
     ]
    },
    {
     "name": "stdout",
     "output_type": "stream",
     "text": [
      "Iter 35/3000 - Loss: 5.7514\n",
      "Iter 36/3000 - Loss: 5.7165\n",
      "Iter 37/3000 - Loss: 5.6813\n",
      "Iter 38/3000 - Loss: 5.6459\n",
      "Iter 39/3000 - Loss: 5.6103\n",
      "Iter 40/3000 - Loss: 5.5744\n"
     ]
    },
    {
     "name": "stderr",
     "output_type": "stream",
     "text": [
      "Iteration:   2%|▏         | 46/3000 [00:02<01:45, 28.08it/s, loss=5.32]"
     ]
    },
    {
     "name": "stdout",
     "output_type": "stream",
     "text": [
      "Iter 41/3000 - Loss: 5.5383\n",
      "Iter 42/3000 - Loss: 5.5019\n",
      "Iter 43/3000 - Loss: 5.4652\n",
      "Iter 44/3000 - Loss: 5.4282\n",
      "Iter 45/3000 - Loss: 5.3910\n",
      "Iter 46/3000 - Loss: 5.3534\n",
      "Iter 47/3000 - Loss: 5.3156\n"
     ]
    },
    {
     "name": "stderr",
     "output_type": "stream",
     "text": [
      "Iteration:   2%|▏         | 52/3000 [00:02<01:57, 25.13it/s, loss=5.08]"
     ]
    },
    {
     "name": "stdout",
     "output_type": "stream",
     "text": [
      "Iter 48/3000 - Loss: 5.2774\n",
      "Iter 49/3000 - Loss: 5.2389\n",
      "Iter 50/3000 - Loss: 5.2000\n",
      "Iter 51/3000 - Loss: 5.1608\n",
      "Iter 52/3000 - Loss: 5.1212\n"
     ]
    },
    {
     "name": "stderr",
     "output_type": "stream",
     "text": [
      "Iteration:   2%|▏         | 56/3000 [00:03<01:50, 26.61it/s, loss=4.83]"
     ]
    },
    {
     "name": "stdout",
     "output_type": "stream",
     "text": [
      "Iter 53/3000 - Loss: 5.0812\n",
      "Iter 54/3000 - Loss: 5.0409\n",
      "Iter 55/3000 - Loss: 5.0002\n",
      "Iter 56/3000 - Loss: 4.9590\n",
      "Iter 57/3000 - Loss: 4.9175\n",
      "Iter 58/3000 - Loss: 4.8755\n"
     ]
    },
    {
     "name": "stderr",
     "output_type": "stream",
     "text": [
      "Iteration:   2%|▏         | 63/3000 [00:03<01:55, 25.42it/s, loss=4.66]"
     ]
    },
    {
     "name": "stdout",
     "output_type": "stream",
     "text": [
      "Iter 59/3000 - Loss: 4.8330\n",
      "Iter 60/3000 - Loss: 4.7901\n",
      "Iter 61/3000 - Loss: 4.7467\n",
      "Iter 62/3000 - Loss: 4.7029\n",
      "Iter 63/3000 - Loss: 4.6586\n"
     ]
    },
    {
     "name": "stderr",
     "output_type": "stream",
     "text": [
      "Iteration:   2%|▏         | 67/3000 [00:03<01:46, 27.42it/s, loss=4.28]"
     ]
    },
    {
     "name": "stdout",
     "output_type": "stream",
     "text": [
      "Iter 64/3000 - Loss: 4.6137\n",
      "Iter 65/3000 - Loss: 4.5684\n",
      "Iter 66/3000 - Loss: 4.5225\n",
      "Iter 67/3000 - Loss: 4.4761\n",
      "Iter 68/3000 - Loss: 4.4291\n",
      "Iter 69/3000 - Loss: 4.3816\n",
      "Iter 70/3000 - Loss: 4.3335\n"
     ]
    },
    {
     "name": "stderr",
     "output_type": "stream",
     "text": [
      "Iteration:   2%|▎         | 75/3000 [00:03<01:37, 30.15it/s, loss=3.98]"
     ]
    },
    {
     "name": "stdout",
     "output_type": "stream",
     "text": [
      "Iter 71/3000 - Loss: 4.2848\n",
      "Iter 72/3000 - Loss: 4.2356\n",
      "Iter 73/3000 - Loss: 4.1858\n",
      "Iter 74/3000 - Loss: 4.1353\n",
      "Iter 75/3000 - Loss: 4.0843\n",
      "Iter 76/3000 - Loss: 4.0327\n",
      "Iter 77/3000 - Loss: 3.9805\n"
     ]
    },
    {
     "name": "stderr",
     "output_type": "stream",
     "text": [
      "Iteration:   3%|▎         | 79/3000 [00:03<01:41, 28.90it/s, loss=3.77]"
     ]
    },
    {
     "name": "stdout",
     "output_type": "stream",
     "text": [
      "Iter 78/3000 - Loss: 3.9277\n",
      "Iter 79/3000 - Loss: 3.8743\n",
      "Iter 80/3000 - Loss: 3.8203\n",
      "Iter 81/3000 - Loss: 3.7657\n"
     ]
    },
    {
     "name": "stderr",
     "output_type": "stream",
     "text": [
      "Iteration:   3%|▎         | 82/3000 [00:04<05:18,  9.17it/s, loss=3.71]"
     ]
    },
    {
     "name": "stdout",
     "output_type": "stream",
     "text": [
      "Iter 82/3000 - Loss: 3.7106\n"
     ]
    },
    {
     "name": "stderr",
     "output_type": "stream",
     "text": [
      "Iteration:   3%|▎         | 85/3000 [00:05<05:38,  8.61it/s, loss=3.54]"
     ]
    },
    {
     "name": "stdout",
     "output_type": "stream",
     "text": [
      "Iter 83/3000 - Loss: 3.6549\n",
      "Iter 84/3000 - Loss: 3.5986\n",
      "Iter 85/3000 - Loss: 3.5418\n"
     ]
    },
    {
     "name": "stderr",
     "output_type": "stream",
     "text": [
      "Iteration:   3%|▎         | 87/3000 [00:05<05:23,  9.00it/s, loss=3.43]"
     ]
    },
    {
     "name": "stdout",
     "output_type": "stream",
     "text": [
      "Iter 86/3000 - Loss: 3.4846\n",
      "Iter 87/3000 - Loss: 3.4268\n"
     ]
    },
    {
     "name": "stderr",
     "output_type": "stream",
     "text": [
      "Iteration:   3%|▎         | 91/3000 [00:05<04:36, 10.51it/s, loss=3.07]"
     ]
    },
    {
     "name": "stdout",
     "output_type": "stream",
     "text": [
      "Iter 88/3000 - Loss: 3.3686\n",
      "Iter 89/3000 - Loss: 3.3100\n",
      "Iter 90/3000 - Loss: 3.2511\n",
      "Iter 91/3000 - Loss: 3.1918\n",
      "Iter 92/3000 - Loss: 3.1322\n",
      "Iter 93/3000 - Loss: 3.0724\n"
     ]
    },
    {
     "name": "stderr",
     "output_type": "stream",
     "text": [
      "Iteration:   3%|▎         | 98/3000 [00:06<02:51, 16.91it/s, loss=2.71]"
     ]
    },
    {
     "name": "stdout",
     "output_type": "stream",
     "text": [
      "Iter 94/3000 - Loss: 3.0125\n",
      "Iter 95/3000 - Loss: 2.9524\n",
      "Iter 96/3000 - Loss: 2.8923\n",
      "Iter 97/3000 - Loss: 2.8323\n",
      "Iter 98/3000 - Loss: 2.7723\n",
      "Iter 99/3000 - Loss: 2.7125\n"
     ]
    },
    {
     "name": "stderr",
     "output_type": "stream",
     "text": [
      "Iteration:   3%|▎         | 101/3000 [00:06<02:35, 18.62it/s, loss=2.48]"
     ]
    },
    {
     "name": "stdout",
     "output_type": "stream",
     "text": [
      "Iter 100/3000 - Loss: 2.6530\n",
      "Iter 101/3000 - Loss: 2.5939\n",
      "Iter 102/3000 - Loss: 2.5352\n",
      "Iter 103/3000 - Loss: 2.4770\n"
     ]
    },
    {
     "name": "stderr",
     "output_type": "stream",
     "text": [
      "Iteration:   4%|▎         | 107/3000 [00:06<02:28, 19.46it/s, loss=2.2] "
     ]
    },
    {
     "name": "stdout",
     "output_type": "stream",
     "text": [
      "Iter 104/3000 - Loss: 2.4195\n",
      "Iter 105/3000 - Loss: 2.3626\n",
      "Iter 106/3000 - Loss: 2.3066\n",
      "Iter 107/3000 - Loss: 2.2515\n",
      "Iter 108/3000 - Loss: 2.1974\n"
     ]
    },
    {
     "name": "stderr",
     "output_type": "stream",
     "text": [
      "Iteration:   4%|▍         | 114/3000 [00:06<02:03, 23.44it/s, loss=1.85]"
     ]
    },
    {
     "name": "stdout",
     "output_type": "stream",
     "text": [
      "Iter 109/3000 - Loss: 2.1444\n",
      "Iter 110/3000 - Loss: 2.0926\n",
      "Iter 111/3000 - Loss: 2.0421\n",
      "Iter 112/3000 - Loss: 1.9929\n",
      "Iter 113/3000 - Loss: 1.9451\n",
      "Iter 114/3000 - Loss: 1.8988\n",
      "Iter 115/3000 - Loss: 1.8541\n"
     ]
    },
    {
     "name": "stderr",
     "output_type": "stream",
     "text": [
      "Iteration:   4%|▍         | 122/3000 [00:06<01:46, 27.07it/s, loss=1.59]"
     ]
    },
    {
     "name": "stdout",
     "output_type": "stream",
     "text": [
      "Iter 116/3000 - Loss: 1.8109\n",
      "Iter 117/3000 - Loss: 1.7694\n",
      "Iter 118/3000 - Loss: 1.7295\n",
      "Iter 119/3000 - Loss: 1.6913\n",
      "Iter 120/3000 - Loss: 1.6548\n",
      "Iter 121/3000 - Loss: 1.6199\n",
      "Iter 122/3000 - Loss: 1.5867\n"
     ]
    },
    {
     "name": "stderr",
     "output_type": "stream",
     "text": [
      "Iteration:   4%|▍         | 126/3000 [00:07<01:44, 27.42it/s, loss=1.44]"
     ]
    },
    {
     "name": "stdout",
     "output_type": "stream",
     "text": [
      "Iter 123/3000 - Loss: 1.5552\n",
      "Iter 124/3000 - Loss: 1.5252\n",
      "Iter 125/3000 - Loss: 1.4968\n",
      "Iter 126/3000 - Loss: 1.4698\n",
      "Iter 127/3000 - Loss: 1.4443\n"
     ]
    },
    {
     "name": "stderr",
     "output_type": "stream",
     "text": [
      "Iteration:   4%|▍         | 133/3000 [00:07<01:41, 28.28it/s, loss=1.28]"
     ]
    },
    {
     "name": "stdout",
     "output_type": "stream",
     "text": [
      "Iter 128/3000 - Loss: 1.4201\n",
      "Iter 129/3000 - Loss: 1.3973\n",
      "Iter 130/3000 - Loss: 1.3757\n",
      "Iter 131/3000 - Loss: 1.3554\n",
      "Iter 132/3000 - Loss: 1.3361\n",
      "Iter 133/3000 - Loss: 1.3180\n",
      "Iter 134/3000 - Loss: 1.3009\n"
     ]
    },
    {
     "name": "stderr",
     "output_type": "stream",
     "text": [
      "Iteration:   5%|▍         | 141/3000 [00:07<01:29, 31.93it/s, loss=1.2] "
     ]
    },
    {
     "name": "stdout",
     "output_type": "stream",
     "text": [
      "Iter 135/3000 - Loss: 1.2847\n",
      "Iter 136/3000 - Loss: 1.2695\n",
      "Iter 137/3000 - Loss: 1.2552\n",
      "Iter 138/3000 - Loss: 1.2417\n",
      "Iter 139/3000 - Loss: 1.2290\n",
      "Iter 140/3000 - Loss: 1.2171\n",
      "Iter 141/3000 - Loss: 1.2059\n",
      "Iter 142/3000 - Loss: 1.1954\n"
     ]
    },
    {
     "name": "stderr",
     "output_type": "stream",
     "text": [
      "Iteration:   5%|▍         | 145/3000 [00:07<01:34, 30.19it/s, loss=1.14]"
     ]
    },
    {
     "name": "stdout",
     "output_type": "stream",
     "text": [
      "Iter 143/3000 - Loss: 1.1856\n",
      "Iter 144/3000 - Loss: 1.1764\n",
      "Iter 145/3000 - Loss: 1.1677\n",
      "Iter 146/3000 - Loss: 1.1596\n",
      "Iter 147/3000 - Loss: 1.1519\n"
     ]
    },
    {
     "name": "stderr",
     "output_type": "stream",
     "text": [
      "Iteration:   5%|▌         | 153/3000 [00:08<01:30, 31.30it/s, loss=1.1] "
     ]
    },
    {
     "name": "stdout",
     "output_type": "stream",
     "text": [
      "Iter 148/3000 - Loss: 1.1447\n",
      "Iter 149/3000 - Loss: 1.1379\n",
      "Iter 150/3000 - Loss: 1.1314\n",
      "Iter 151/3000 - Loss: 1.1253\n",
      "Iter 152/3000 - Loss: 1.1195\n",
      "Iter 153/3000 - Loss: 1.1140\n",
      "Iter 154/3000 - Loss: 1.1087\n",
      "Iter 155/3000 - Loss: 1.1037\n"
     ]
    },
    {
     "name": "stderr",
     "output_type": "stream",
     "text": [
      "Iteration:   5%|▌         | 157/3000 [00:08<01:37, 29.21it/s, loss=1.09]"
     ]
    },
    {
     "name": "stdout",
     "output_type": "stream",
     "text": [
      "Iter 156/3000 - Loss: 1.0989\n",
      "Iter 157/3000 - Loss: 1.0943\n"
     ]
    },
    {
     "name": "stderr",
     "output_type": "stream",
     "text": [
      "Iteration:   5%|▌         | 160/3000 [00:09<05:47,  8.18it/s, loss=1.08]"
     ]
    },
    {
     "name": "stdout",
     "output_type": "stream",
     "text": [
      "Iter 158/3000 - Loss: 1.0900\n",
      "Iter 159/3000 - Loss: 1.0858\n",
      "Iter 160/3000 - Loss: 1.0818\n"
     ]
    },
    {
     "name": "stderr",
     "output_type": "stream",
     "text": [
      "Iteration:   5%|▌         | 163/3000 [00:09<05:03,  9.36it/s, loss=1.06]"
     ]
    },
    {
     "name": "stdout",
     "output_type": "stream",
     "text": [
      "Iter 161/3000 - Loss: 1.0780\n",
      "Iter 162/3000 - Loss: 1.0743\n",
      "Iter 163/3000 - Loss: 1.0708\n",
      "Iter 164/3000 - Loss: 1.0675\n",
      "Iter 165/3000 - Loss: 1.0643\n"
     ]
    },
    {
     "name": "stderr",
     "output_type": "stream",
     "text": [
      "Iteration:   6%|▌         | 170/3000 [00:09<03:19, 14.17it/s, loss=1.05]"
     ]
    },
    {
     "name": "stdout",
     "output_type": "stream",
     "text": [
      "Iter 166/3000 - Loss: 1.0612\n",
      "Iter 167/3000 - Loss: 1.0583\n",
      "Iter 168/3000 - Loss: 1.0554\n",
      "Iter 169/3000 - Loss: 1.0527\n",
      "Iter 170/3000 - Loss: 1.0501\n",
      "Iter 171/3000 - Loss: 1.0476\n"
     ]
    },
    {
     "name": "stderr",
     "output_type": "stream",
     "text": [
      "Iteration:   6%|▌         | 178/3000 [00:09<02:13, 21.16it/s, loss=1.03]"
     ]
    },
    {
     "name": "stdout",
     "output_type": "stream",
     "text": [
      "Iter 172/3000 - Loss: 1.0452\n",
      "Iter 173/3000 - Loss: 1.0429\n",
      "Iter 174/3000 - Loss: 1.0406\n",
      "Iter 175/3000 - Loss: 1.0385\n",
      "Iter 176/3000 - Loss: 1.0364\n",
      "Iter 177/3000 - Loss: 1.0344\n",
      "Iter 178/3000 - Loss: 1.0325\n",
      "Iter 179/3000 - Loss: 1.0307\n"
     ]
    },
    {
     "name": "stderr",
     "output_type": "stream",
     "text": [
      "Iteration:   6%|▌         | 182/3000 [00:10<01:54, 24.65it/s, loss=1.02]"
     ]
    },
    {
     "name": "stdout",
     "output_type": "stream",
     "text": [
      "Iter 180/3000 - Loss: 1.0289\n",
      "Iter 181/3000 - Loss: 1.0271\n",
      "Iter 182/3000 - Loss: 1.0254\n",
      "Iter 183/3000 - Loss: 1.0238\n",
      "Iter 184/3000 - Loss: 1.0223\n",
      "Iter 185/3000 - Loss: 1.0207\n"
     ]
    },
    {
     "name": "stderr",
     "output_type": "stream",
     "text": [
      "Iteration:   6%|▋         | 190/3000 [00:10<01:52, 24.98it/s, loss=1.01]"
     ]
    },
    {
     "name": "stdout",
     "output_type": "stream",
     "text": [
      "Iter 186/3000 - Loss: 1.0192\n",
      "Iter 187/3000 - Loss: 1.0178\n",
      "Iter 188/3000 - Loss: 1.0164\n",
      "Iter 189/3000 - Loss: 1.0150\n",
      "Iter 190/3000 - Loss: 1.0137\n"
     ]
    },
    {
     "name": "stderr",
     "output_type": "stream",
     "text": [
      "Iteration:   6%|▋         | 193/3000 [00:10<02:03, 22.69it/s, loss=1.01]"
     ]
    },
    {
     "name": "stdout",
     "output_type": "stream",
     "text": [
      "Iter 191/3000 - Loss: 1.0124\n",
      "Iter 192/3000 - Loss: 1.0111\n",
      "Iter 193/3000 - Loss: 1.0099\n",
      "Iter 194/3000 - Loss: 1.0087\n",
      "Iter 195/3000 - Loss: 1.0076\n"
     ]
    },
    {
     "name": "stderr",
     "output_type": "stream",
     "text": [
      "Iteration:   7%|▋         | 199/3000 [00:10<02:09, 21.63it/s, loss=1]   "
     ]
    },
    {
     "name": "stdout",
     "output_type": "stream",
     "text": [
      "Iter 196/3000 - Loss: 1.0064\n",
      "Iter 197/3000 - Loss: 1.0053\n",
      "Iter 198/3000 - Loss: 1.0042\n",
      "Iter 199/3000 - Loss: 1.0032\n",
      "Iter 200/3000 - Loss: 1.0021\n"
     ]
    },
    {
     "name": "stderr",
     "output_type": "stream",
     "text": [
      "Iteration:   7%|▋         | 207/3000 [00:11<01:44, 26.83it/s, loss=0.995]"
     ]
    },
    {
     "name": "stdout",
     "output_type": "stream",
     "text": [
      "Iter 201/3000 - Loss: 1.0011\n",
      "Iter 202/3000 - Loss: 1.0001\n",
      "Iter 203/3000 - Loss: 0.9991\n",
      "Iter 204/3000 - Loss: 0.9982\n",
      "Iter 205/3000 - Loss: 0.9973\n",
      "Iter 206/3000 - Loss: 0.9963\n",
      "Iter 207/3000 - Loss: 0.9955\n"
     ]
    },
    {
     "name": "stderr",
     "output_type": "stream",
     "text": [
      "Iteration:   7%|▋         | 213/3000 [00:11<01:42, 27.27it/s, loss=0.99] "
     ]
    },
    {
     "name": "stdout",
     "output_type": "stream",
     "text": [
      "Iter 208/3000 - Loss: 0.9946\n",
      "Iter 209/3000 - Loss: 0.9937\n",
      "Iter 210/3000 - Loss: 0.9929\n",
      "Iter 211/3000 - Loss: 0.9921\n",
      "Iter 212/3000 - Loss: 0.9912\n",
      "Iter 213/3000 - Loss: 0.9904\n"
     ]
    },
    {
     "name": "stderr",
     "output_type": "stream",
     "text": [
      "Iteration:   7%|▋         | 216/3000 [00:11<01:41, 27.46it/s, loss=0.986]"
     ]
    },
    {
     "name": "stdout",
     "output_type": "stream",
     "text": [
      "Iter 214/3000 - Loss: 0.9897\n",
      "Iter 215/3000 - Loss: 0.9889\n",
      "Iter 216/3000 - Loss: 0.9881\n",
      "Iter 217/3000 - Loss: 0.9874\n",
      "Iter 218/3000 - Loss: 0.9867\n",
      "Iter 219/3000 - Loss: 0.9860\n"
     ]
    },
    {
     "name": "stderr",
     "output_type": "stream",
     "text": [
      "Iteration:   7%|▋         | 223/3000 [00:11<01:44, 26.69it/s, loss=0.982]"
     ]
    },
    {
     "name": "stdout",
     "output_type": "stream",
     "text": [
      "Iter 220/3000 - Loss: 0.9852\n",
      "Iter 221/3000 - Loss: 0.9846\n",
      "Iter 222/3000 - Loss: 0.9839\n",
      "Iter 223/3000 - Loss: 0.9832\n",
      "Iter 224/3000 - Loss: 0.9826\n",
      "Iter 225/3000 - Loss: 0.9819\n"
     ]
    },
    {
     "name": "stderr",
     "output_type": "stream",
     "text": [
      "Iteration:   8%|▊         | 230/3000 [00:11<01:39, 27.79it/s, loss=0.978]"
     ]
    },
    {
     "name": "stdout",
     "output_type": "stream",
     "text": [
      "Iter 226/3000 - Loss: 0.9813\n",
      "Iter 227/3000 - Loss: 0.9806\n",
      "Iter 228/3000 - Loss: 0.9800\n",
      "Iter 229/3000 - Loss: 0.9794\n",
      "Iter 230/3000 - Loss: 0.9788\n",
      "Iter 231/3000 - Loss: 0.9782\n"
     ]
    },
    {
     "name": "stderr",
     "output_type": "stream",
     "text": [
      "Iteration:   8%|▊         | 237/3000 [00:12<01:30, 30.43it/s, loss=0.974]"
     ]
    },
    {
     "name": "stdout",
     "output_type": "stream",
     "text": [
      "Iter 232/3000 - Loss: 0.9776\n",
      "Iter 233/3000 - Loss: 0.9770\n",
      "Iter 234/3000 - Loss: 0.9764\n",
      "Iter 235/3000 - Loss: 0.9759\n",
      "Iter 236/3000 - Loss: 0.9753\n",
      "Iter 237/3000 - Loss: 0.9748\n",
      "Iter 238/3000 - Loss: 0.9742\n"
     ]
    },
    {
     "name": "stderr",
     "output_type": "stream",
     "text": [
      "\r",
      "Iteration:   8%|▊         | 237/3000 [00:12<01:30, 30.43it/s, loss=0.974]"
     ]
    },
    {
     "name": "stdout",
     "output_type": "stream",
     "text": [
      "Iter 239/3000 - Loss: 0.9737\n"
     ]
    },
    {
     "name": "stderr",
     "output_type": "stream",
     "text": [
      "Iteration:   8%|▊         | 244/3000 [00:13<04:47,  9.59it/s, loss=0.971]"
     ]
    },
    {
     "name": "stdout",
     "output_type": "stream",
     "text": [
      "Iter 240/3000 - Loss: 0.9731\n",
      "Iter 241/3000 - Loss: 0.9726\n",
      "Iter 242/3000 - Loss: 0.9721\n",
      "Iter 243/3000 - Loss: 0.9716\n",
      "Iter 244/3000 - Loss: 0.9711\n"
     ]
    },
    {
     "name": "stderr",
     "output_type": "stream",
     "text": [
      "Iteration:   8%|▊         | 247/3000 [00:13<04:18, 10.65it/s, loss=0.969]"
     ]
    },
    {
     "name": "stdout",
     "output_type": "stream",
     "text": [
      "Iter 245/3000 - Loss: 0.9706\n",
      "Iter 246/3000 - Loss: 0.9701\n",
      "Iter 247/3000 - Loss: 0.9696\n",
      "Iter 248/3000 - Loss: 0.9691\n",
      "Iter 249/3000 - Loss: 0.9686\n"
     ]
    },
    {
     "name": "stderr",
     "output_type": "stream",
     "text": [
      "Iteration:   8%|▊         | 253/3000 [00:13<03:07, 14.61it/s, loss=0.966]"
     ]
    },
    {
     "name": "stdout",
     "output_type": "stream",
     "text": [
      "Iter 250/3000 - Loss: 0.9681\n",
      "Iter 251/3000 - Loss: 0.9677\n",
      "Iter 252/3000 - Loss: 0.9672\n",
      "Iter 253/3000 - Loss: 0.9667\n"
     ]
    },
    {
     "name": "stderr",
     "output_type": "stream",
     "text": [
      "Iteration:   9%|▊         | 256/3000 [00:14<02:57, 15.42it/s, loss=0.964]"
     ]
    },
    {
     "name": "stdout",
     "output_type": "stream",
     "text": [
      "Iter 254/3000 - Loss: 0.9663\n",
      "Iter 255/3000 - Loss: 0.9658\n",
      "Iter 256/3000 - Loss: 0.9654\n",
      "Iter 257/3000 - Loss: 0.9649\n",
      "Iter 258/3000 - Loss: 0.9645\n",
      "Iter 259/3000 - Loss: 0.9641\n"
     ]
    },
    {
     "name": "stderr",
     "output_type": "stream",
     "text": [
      "Iteration:   9%|▉         | 263/3000 [00:14<02:12, 20.72it/s, loss=0.962]"
     ]
    },
    {
     "name": "stdout",
     "output_type": "stream",
     "text": [
      "Iter 260/3000 - Loss: 0.9636\n",
      "Iter 261/3000 - Loss: 0.9632\n",
      "Iter 262/3000 - Loss: 0.9628\n",
      "Iter 263/3000 - Loss: 0.9623\n",
      "Iter 264/3000 - Loss: 0.9619\n",
      "Iter 265/3000 - Loss: 0.9615\n"
     ]
    },
    {
     "name": "stderr",
     "output_type": "stream",
     "text": [
      "Iteration:   9%|▉         | 270/3000 [00:14<01:49, 24.96it/s, loss=0.959]"
     ]
    },
    {
     "name": "stdout",
     "output_type": "stream",
     "text": [
      "Iter 266/3000 - Loss: 0.9611\n",
      "Iter 267/3000 - Loss: 0.9607\n",
      "Iter 268/3000 - Loss: 0.9603\n",
      "Iter 269/3000 - Loss: 0.9599\n",
      "Iter 270/3000 - Loss: 0.9595\n",
      "Iter 271/3000 - Loss: 0.9591\n"
     ]
    },
    {
     "name": "stderr",
     "output_type": "stream",
     "text": [
      "Iteration:   9%|▉         | 277/3000 [00:14<01:43, 26.38it/s, loss=0.957]"
     ]
    },
    {
     "name": "stdout",
     "output_type": "stream",
     "text": [
      "Iter 272/3000 - Loss: 0.9587\n",
      "Iter 273/3000 - Loss: 0.9583\n",
      "Iter 274/3000 - Loss: 0.9579\n",
      "Iter 275/3000 - Loss: 0.9575\n",
      "Iter 276/3000 - Loss: 0.9571\n",
      "Iter 277/3000 - Loss: 0.9568\n"
     ]
    },
    {
     "name": "stderr",
     "output_type": "stream",
     "text": [
      "Iteration:   9%|▉         | 280/3000 [00:15<01:45, 25.67it/s, loss=0.955]"
     ]
    },
    {
     "name": "stdout",
     "output_type": "stream",
     "text": [
      "Iter 278/3000 - Loss: 0.9564\n",
      "Iter 279/3000 - Loss: 0.9560\n",
      "Iter 280/3000 - Loss: 0.9556\n",
      "Iter 281/3000 - Loss: 0.9552\n",
      "Iter 282/3000 - Loss: 0.9549\n"
     ]
    },
    {
     "name": "stderr",
     "output_type": "stream",
     "text": [
      "Iteration:  10%|▉         | 286/3000 [00:15<01:53, 23.85it/s, loss=0.953]"
     ]
    },
    {
     "name": "stdout",
     "output_type": "stream",
     "text": [
      "Iter 283/3000 - Loss: 0.9545\n",
      "Iter 284/3000 - Loss: 0.9542\n",
      "Iter 285/3000 - Loss: 0.9538\n",
      "Iter 286/3000 - Loss: 0.9534\n",
      "Iter 287/3000 - Loss: 0.9531\n",
      "Iter 288/3000 - Loss: 0.9527\n"
     ]
    },
    {
     "name": "stderr",
     "output_type": "stream",
     "text": [
      "Iteration:  10%|▉         | 293/3000 [00:15<01:39, 27.15it/s, loss=0.95] "
     ]
    },
    {
     "name": "stdout",
     "output_type": "stream",
     "text": [
      "Iter 289/3000 - Loss: 0.9524\n",
      "Iter 290/3000 - Loss: 0.9520\n",
      "Iter 291/3000 - Loss: 0.9517\n",
      "Iter 292/3000 - Loss: 0.9513\n",
      "Iter 293/3000 - Loss: 0.9509\n",
      "Iter 294/3000 - Loss: 0.9506\n"
     ]
    },
    {
     "name": "stderr",
     "output_type": "stream",
     "text": [
      "Iteration:  10%|▉         | 299/3000 [00:15<01:38, 27.31it/s, loss=0.949]"
     ]
    },
    {
     "name": "stdout",
     "output_type": "stream",
     "text": [
      "Iter 295/3000 - Loss: 0.9502\n",
      "Iter 296/3000 - Loss: 0.9499\n",
      "Iter 297/3000 - Loss: 0.9496\n",
      "Iter 298/3000 - Loss: 0.9492\n",
      "Iter 299/3000 - Loss: 0.9489\n",
      "Iter 300/3000 - Loss: 0.9486\n"
     ]
    },
    {
     "name": "stderr",
     "output_type": "stream",
     "text": [
      "Iteration:  10%|█         | 305/3000 [00:15<01:47, 25.00it/s, loss=0.947]"
     ]
    },
    {
     "name": "stdout",
     "output_type": "stream",
     "text": [
      "Iter 301/3000 - Loss: 0.9482\n",
      "Iter 302/3000 - Loss: 0.9479\n",
      "Iter 303/3000 - Loss: 0.9475\n",
      "Iter 304/3000 - Loss: 0.9472\n",
      "Iter 305/3000 - Loss: 0.9469\n"
     ]
    },
    {
     "name": "stderr",
     "output_type": "stream",
     "text": [
      "Iteration:  10%|█         | 309/3000 [00:16<01:37, 27.73it/s, loss=0.946]"
     ]
    },
    {
     "name": "stdout",
     "output_type": "stream",
     "text": [
      "Iter 306/3000 - Loss: 0.9466\n",
      "Iter 307/3000 - Loss: 0.9462\n",
      "Iter 308/3000 - Loss: 0.9459\n",
      "Iter 309/3000 - Loss: 0.9456\n"
     ]
    },
    {
     "name": "stderr",
     "output_type": "stream",
     "text": [
      "Iteration:  10%|█         | 312/3000 [00:17<06:16,  7.13it/s, loss=0.945]"
     ]
    },
    {
     "name": "stdout",
     "output_type": "stream",
     "text": [
      "Iter 310/3000 - Loss: 0.9452\n",
      "Iter 311/3000 - Loss: 0.9449\n",
      "Iter 312/3000 - Loss: 0.9446\n"
     ]
    },
    {
     "name": "stderr",
     "output_type": "stream",
     "text": [
      "\r",
      "Iteration:  10%|█         | 312/3000 [00:17<06:16,  7.13it/s, loss=0.944]"
     ]
    },
    {
     "name": "stdout",
     "output_type": "stream",
     "text": [
      "Iter 313/3000 - Loss: 0.9443\n"
     ]
    },
    {
     "name": "stderr",
     "output_type": "stream",
     "text": [
      "Iteration:  10%|█         | 315/3000 [00:17<06:23,  7.00it/s, loss=0.943]"
     ]
    },
    {
     "name": "stdout",
     "output_type": "stream",
     "text": [
      "Iter 314/3000 - Loss: 0.9439\n",
      "Iter 315/3000 - Loss: 0.9436\n",
      "Iter 316/3000 - Loss: 0.9433\n",
      "Iter 317/3000 - Loss: 0.9430\n"
     ]
    },
    {
     "name": "stderr",
     "output_type": "stream",
     "text": [
      "Iteration:  11%|█         | 320/3000 [00:18<04:35,  9.73it/s, loss=0.941]"
     ]
    },
    {
     "name": "stdout",
     "output_type": "stream",
     "text": [
      "Iter 318/3000 - Loss: 0.9427\n",
      "Iter 319/3000 - Loss: 0.9423\n",
      "Iter 320/3000 - Loss: 0.9420\n",
      "Iter 321/3000 - Loss: 0.9417\n",
      "Iter 322/3000 - Loss: 0.9414\n"
     ]
    },
    {
     "name": "stderr",
     "output_type": "stream",
     "text": [
      "Iteration:  11%|█         | 327/3000 [00:18<02:47, 15.93it/s, loss=0.94] "
     ]
    },
    {
     "name": "stdout",
     "output_type": "stream",
     "text": [
      "Iter 323/3000 - Loss: 0.9411\n",
      "Iter 324/3000 - Loss: 0.9408\n",
      "Iter 325/3000 - Loss: 0.9404\n",
      "Iter 326/3000 - Loss: 0.9401\n",
      "Iter 327/3000 - Loss: 0.9398\n",
      "Iter 328/3000 - Loss: 0.9395\n"
     ]
    },
    {
     "name": "stderr",
     "output_type": "stream",
     "text": [
      "Iteration:  11%|█         | 330/3000 [00:18<02:45, 16.15it/s, loss=0.938]"
     ]
    },
    {
     "name": "stdout",
     "output_type": "stream",
     "text": [
      "Iter 329/3000 - Loss: 0.9392\n",
      "Iter 330/3000 - Loss: 0.9389\n",
      "Iter 331/3000 - Loss: 0.9386\n",
      "Iter 332/3000 - Loss: 0.9383\n"
     ]
    },
    {
     "name": "stderr",
     "output_type": "stream",
     "text": [
      "Iteration:  11%|█         | 336/3000 [00:18<02:17, 19.37it/s, loss=0.936]"
     ]
    },
    {
     "name": "stdout",
     "output_type": "stream",
     "text": [
      "Iter 333/3000 - Loss: 0.9380\n",
      "Iter 334/3000 - Loss: 0.9377\n",
      "Iter 335/3000 - Loss: 0.9374\n",
      "Iter 336/3000 - Loss: 0.9370\n",
      "Iter 337/3000 - Loss: 0.9367\n",
      "Iter 338/3000 - Loss: 0.9364\n"
     ]
    },
    {
     "name": "stderr",
     "output_type": "stream",
     "text": [
      "Iteration:  11%|█▏        | 342/3000 [00:18<02:00, 22.09it/s, loss=0.934]"
     ]
    },
    {
     "name": "stdout",
     "output_type": "stream",
     "text": [
      "Iter 339/3000 - Loss: 0.9361\n",
      "Iter 340/3000 - Loss: 0.9358\n",
      "Iter 341/3000 - Loss: 0.9355\n",
      "Iter 342/3000 - Loss: 0.9352\n",
      "Iter 343/3000 - Loss: 0.9349\n",
      "Iter 344/3000 - Loss: 0.9346\n",
      "Iter 345/3000 - Loss: 0.9343\n"
     ]
    },
    {
     "name": "stderr",
     "output_type": "stream",
     "text": [
      "Iteration:  12%|█▏        | 349/3000 [00:19<01:44, 25.38it/s, loss=0.933]"
     ]
    },
    {
     "name": "stdout",
     "output_type": "stream",
     "text": [
      "Iter 346/3000 - Loss: 0.9340\n",
      "Iter 347/3000 - Loss: 0.9337\n",
      "Iter 348/3000 - Loss: 0.9334\n",
      "Iter 349/3000 - Loss: 0.9331\n",
      "Iter 350/3000 - Loss: 0.9328\n"
     ]
    },
    {
     "name": "stderr",
     "output_type": "stream",
     "text": [
      "Iteration:  12%|█▏        | 352/3000 [00:19<02:15, 19.58it/s, loss=0.932]"
     ]
    },
    {
     "name": "stdout",
     "output_type": "stream",
     "text": [
      "Iter 351/3000 - Loss: 0.9325\n",
      "Iter 352/3000 - Loss: 0.9322\n",
      "Iter 353/3000 - Loss: 0.9319\n"
     ]
    },
    {
     "name": "stderr",
     "output_type": "stream",
     "text": [
      "\r",
      "Iteration:  12%|█▏        | 352/3000 [00:19<02:15, 19.58it/s, loss=0.932]"
     ]
    },
    {
     "name": "stdout",
     "output_type": "stream",
     "text": [
      "Iter 354/3000 - Loss: 0.9316\n"
     ]
    },
    {
     "name": "stderr",
     "output_type": "stream",
     "text": [
      "Iteration:  12%|█▏        | 355/3000 [00:19<03:53, 11.33it/s, loss=0.931]"
     ]
    },
    {
     "name": "stdout",
     "output_type": "stream",
     "text": [
      "Iter 355/3000 - Loss: 0.9313\n",
      "Iter 356/3000 - Loss: 0.9310\n",
      "Iter 357/3000 - Loss: 0.9307\n"
     ]
    },
    {
     "name": "stderr",
     "output_type": "stream",
     "text": [
      "Iteration:  12%|█▏        | 360/3000 [00:21<07:16,  6.05it/s, loss=0.929]"
     ]
    },
    {
     "name": "stdout",
     "output_type": "stream",
     "text": [
      "Iter 358/3000 - Loss: 0.9304\n",
      "Iter 359/3000 - Loss: 0.9301\n",
      "Iter 360/3000 - Loss: 0.9298\n",
      "Iter 361/3000 - Loss: 0.9295\n"
     ]
    },
    {
     "name": "stderr",
     "output_type": "stream",
     "text": [
      "Iteration:  12%|█▏        | 363/3000 [00:21<05:39,  7.77it/s, loss=0.928]"
     ]
    },
    {
     "name": "stdout",
     "output_type": "stream",
     "text": [
      "Iter 362/3000 - Loss: 0.9292\n",
      "Iter 363/3000 - Loss: 0.9289\n",
      "Iter 364/3000 - Loss: 0.9286\n"
     ]
    },
    {
     "name": "stderr",
     "output_type": "stream",
     "text": [
      "Iteration:  12%|█▏        | 368/3000 [00:21<03:57, 11.10it/s, loss=0.926]"
     ]
    },
    {
     "name": "stdout",
     "output_type": "stream",
     "text": [
      "Iter 365/3000 - Loss: 0.9283\n",
      "Iter 366/3000 - Loss: 0.9280\n",
      "Iter 367/3000 - Loss: 0.9277\n",
      "Iter 368/3000 - Loss: 0.9274\n",
      "Iter 369/3000 - Loss: 0.9271\n",
      "Iter 370/3000 - Loss: 0.9268\n"
     ]
    },
    {
     "name": "stderr",
     "output_type": "stream",
     "text": [
      "Iteration:  12%|█▎        | 375/3000 [00:22<02:33, 17.06it/s, loss=0.925]"
     ]
    },
    {
     "name": "stdout",
     "output_type": "stream",
     "text": [
      "Iter 371/3000 - Loss: 0.9265\n",
      "Iter 372/3000 - Loss: 0.9262\n",
      "Iter 373/3000 - Loss: 0.9259\n",
      "Iter 374/3000 - Loss: 0.9256\n",
      "Iter 375/3000 - Loss: 0.9253\n",
      "Iter 376/3000 - Loss: 0.9250\n"
     ]
    },
    {
     "name": "stderr",
     "output_type": "stream",
     "text": [
      "Iteration:  13%|█▎        | 381/3000 [00:22<02:15, 19.40it/s, loss=0.923]"
     ]
    },
    {
     "name": "stdout",
     "output_type": "stream",
     "text": [
      "Iter 377/3000 - Loss: 0.9247\n",
      "Iter 378/3000 - Loss: 0.9244\n",
      "Iter 379/3000 - Loss: 0.9241\n",
      "Iter 380/3000 - Loss: 0.9238\n",
      "Iter 381/3000 - Loss: 0.9235\n"
     ]
    },
    {
     "name": "stderr",
     "output_type": "stream",
     "text": [
      "Iteration:  13%|█▎        | 381/3000 [00:22<02:15, 19.40it/s, loss=0.923]"
     ]
    },
    {
     "name": "stdout",
     "output_type": "stream",
     "text": [
      "Iter 382/3000 - Loss: 0.9232\n",
      "Iter 383/3000 - Loss: 0.9229\n"
     ]
    },
    {
     "name": "stderr",
     "output_type": "stream",
     "text": [
      "Iteration:  13%|█▎        | 386/3000 [00:22<02:54, 14.96it/s, loss=0.922]"
     ]
    },
    {
     "name": "stdout",
     "output_type": "stream",
     "text": [
      "Iter 384/3000 - Loss: 0.9226\n",
      "Iter 385/3000 - Loss: 0.9223\n",
      "Iter 386/3000 - Loss: 0.9220\n"
     ]
    },
    {
     "name": "stderr",
     "output_type": "stream",
     "text": [
      "Iteration:  13%|█▎        | 388/3000 [00:22<03:04, 14.15it/s, loss=0.921]"
     ]
    },
    {
     "name": "stdout",
     "output_type": "stream",
     "text": [
      "Iter 387/3000 - Loss: 0.9217\n",
      "Iter 388/3000 - Loss: 0.9214\n",
      "Iter 389/3000 - Loss: 0.9211\n"
     ]
    },
    {
     "name": "stderr",
     "output_type": "stream",
     "text": [
      "Iteration:  13%|█▎        | 394/3000 [00:23<02:23, 18.18it/s, loss=0.919]"
     ]
    },
    {
     "name": "stdout",
     "output_type": "stream",
     "text": [
      "Iter 390/3000 - Loss: 0.9208\n",
      "Iter 391/3000 - Loss: 0.9205\n",
      "Iter 392/3000 - Loss: 0.9202\n",
      "Iter 393/3000 - Loss: 0.9199\n",
      "Iter 394/3000 - Loss: 0.9196\n",
      "Iter 395/3000 - Loss: 0.9193\n",
      "Iter 396/3000 - Loss: 0.9190\n"
     ]
    },
    {
     "name": "stderr",
     "output_type": "stream",
     "text": [
      "Iteration:  13%|█▎        | 398/3000 [00:23<02:01, 21.45it/s, loss=0.918]"
     ]
    },
    {
     "name": "stdout",
     "output_type": "stream",
     "text": [
      "Iter 397/3000 - Loss: 0.9187\n",
      "Iter 398/3000 - Loss: 0.9184\n"
     ]
    },
    {
     "name": "stderr",
     "output_type": "stream",
     "text": [
      "Iteration:  13%|█▎        | 401/3000 [00:23<02:52, 15.06it/s, loss=0.917]"
     ]
    },
    {
     "name": "stdout",
     "output_type": "stream",
     "text": [
      "Iter 399/3000 - Loss: 0.9181\n",
      "Iter 400/3000 - Loss: 0.9178\n",
      "Iter 401/3000 - Loss: 0.9175\n",
      "Iter 402/3000 - Loss: 0.9172\n"
     ]
    },
    {
     "name": "stderr",
     "output_type": "stream",
     "text": [
      "Iteration:  13%|█▎        | 403/3000 [00:23<03:03, 14.14it/s, loss=0.917]"
     ]
    },
    {
     "name": "stdout",
     "output_type": "stream",
     "text": [
      "Iter 403/3000 - Loss: 0.9169\n",
      "Iter 404/3000 - Loss: 0.9166\n"
     ]
    },
    {
     "name": "stderr",
     "output_type": "stream",
     "text": [
      "Iteration:  14%|█▎        | 407/3000 [00:25<07:24,  5.84it/s, loss=0.916]"
     ]
    },
    {
     "name": "stdout",
     "output_type": "stream",
     "text": [
      "Iter 405/3000 - Loss: 0.9163\n",
      "Iter 406/3000 - Loss: 0.9160\n",
      "Iter 407/3000 - Loss: 0.9157\n"
     ]
    },
    {
     "name": "stderr",
     "output_type": "stream",
     "text": [
      "Iteration:  14%|█▍        | 414/3000 [00:25<03:42, 11.63it/s, loss=0.913]"
     ]
    },
    {
     "name": "stdout",
     "output_type": "stream",
     "text": [
      "Iter 408/3000 - Loss: 0.9154\n",
      "Iter 409/3000 - Loss: 0.9151\n",
      "Iter 410/3000 - Loss: 0.9148\n",
      "Iter 411/3000 - Loss: 0.9145\n",
      "Iter 412/3000 - Loss: 0.9142\n",
      "Iter 413/3000 - Loss: 0.9139\n",
      "Iter 414/3000 - Loss: 0.9136\n"
     ]
    },
    {
     "name": "stderr",
     "output_type": "stream",
     "text": [
      "Iteration:  14%|█▍        | 417/3000 [00:25<03:05, 13.94it/s, loss=0.912]"
     ]
    },
    {
     "name": "stdout",
     "output_type": "stream",
     "text": [
      "Iter 415/3000 - Loss: 0.9133\n",
      "Iter 416/3000 - Loss: 0.9130\n",
      "Iter 417/3000 - Loss: 0.9126\n",
      "Iter 418/3000 - Loss: 0.9123\n",
      "Iter 419/3000 - Loss: 0.9120\n"
     ]
    },
    {
     "name": "stderr",
     "output_type": "stream",
     "text": [
      "Iteration:  14%|█▍        | 423/3000 [00:25<02:33, 16.81it/s, loss=0.91] "
     ]
    },
    {
     "name": "stdout",
     "output_type": "stream",
     "text": [
      "Iter 420/3000 - Loss: 0.9117\n",
      "Iter 421/3000 - Loss: 0.9114\n",
      "Iter 422/3000 - Loss: 0.9111\n",
      "Iter 423/3000 - Loss: 0.9108\n",
      "Iter 424/3000 - Loss: 0.9105\n"
     ]
    },
    {
     "name": "stderr",
     "output_type": "stream",
     "text": [
      "Iteration:  14%|█▍        | 426/3000 [00:26<02:24, 17.85it/s, loss=0.909]"
     ]
    },
    {
     "name": "stdout",
     "output_type": "stream",
     "text": [
      "Iter 425/3000 - Loss: 0.9102\n",
      "Iter 426/3000 - Loss: 0.9099\n",
      "Iter 427/3000 - Loss: 0.9096\n",
      "Iter 428/3000 - Loss: 0.9093\n"
     ]
    },
    {
     "name": "stderr",
     "output_type": "stream",
     "text": [
      "Iteration:  14%|█▍        | 429/3000 [00:26<02:17, 18.73it/s, loss=0.908]"
     ]
    },
    {
     "name": "stdout",
     "output_type": "stream",
     "text": [
      "Iter 429/3000 - Loss: 0.9090\n",
      "Iter 430/3000 - Loss: 0.9087\n",
      "Iter 431/3000 - Loss: 0.9084\n"
     ]
    },
    {
     "name": "stderr",
     "output_type": "stream",
     "text": [
      "Iteration:  14%|█▍        | 434/3000 [00:26<02:46, 15.37it/s, loss=0.907]"
     ]
    },
    {
     "name": "stdout",
     "output_type": "stream",
     "text": [
      "Iter 432/3000 - Loss: 0.9080\n",
      "Iter 433/3000 - Loss: 0.9078\n",
      "Iter 434/3000 - Loss: 0.9074\n",
      "Iter 435/3000 - Loss: 0.9071\n"
     ]
    },
    {
     "name": "stderr",
     "output_type": "stream",
     "text": [
      "Iteration:  15%|█▍        | 438/3000 [00:26<02:13, 19.12it/s, loss=0.906]"
     ]
    },
    {
     "name": "stdout",
     "output_type": "stream",
     "text": [
      "Iter 436/3000 - Loss: 0.9068\n",
      "Iter 437/3000 - Loss: 0.9065\n",
      "Iter 438/3000 - Loss: 0.9062\n",
      "Iter 439/3000 - Loss: 0.9059\n"
     ]
    },
    {
     "name": "stderr",
     "output_type": "stream",
     "text": [
      "Iteration:  15%|█▍        | 445/3000 [00:27<01:56, 22.01it/s, loss=0.904]"
     ]
    },
    {
     "name": "stdout",
     "output_type": "stream",
     "text": [
      "Iter 440/3000 - Loss: 0.9056\n",
      "Iter 441/3000 - Loss: 0.9053\n",
      "Iter 442/3000 - Loss: 0.9050\n",
      "Iter 443/3000 - Loss: 0.9046\n",
      "Iter 444/3000 - Loss: 0.9043\n",
      "Iter 445/3000 - Loss: 0.9040\n",
      "Iter 446/3000 - Loss: 0.9037\n"
     ]
    },
    {
     "name": "stderr",
     "output_type": "stream",
     "text": [
      "Iteration:  15%|█▌        | 451/3000 [00:27<01:42, 24.87it/s, loss=0.901]"
     ]
    },
    {
     "name": "stdout",
     "output_type": "stream",
     "text": [
      "Iter 447/3000 - Loss: 0.9034\n",
      "Iter 448/3000 - Loss: 0.9031\n",
      "Iter 449/3000 - Loss: 0.9028\n",
      "Iter 450/3000 - Loss: 0.9024\n",
      "Iter 451/3000 - Loss: 0.9021\n",
      "Iter 452/3000 - Loss: 0.9018\n",
      "Iter 453/3000 - Loss: 0.9015\n"
     ]
    },
    {
     "name": "stderr",
     "output_type": "stream",
     "text": [
      "Iteration:  15%|█▌        | 459/3000 [00:27<01:23, 30.46it/s, loss=0.899]"
     ]
    },
    {
     "name": "stdout",
     "output_type": "stream",
     "text": [
      "Iter 454/3000 - Loss: 0.9012\n",
      "Iter 455/3000 - Loss: 0.9009\n",
      "Iter 456/3000 - Loss: 0.9006\n",
      "Iter 457/3000 - Loss: 0.9002\n",
      "Iter 458/3000 - Loss: 0.8999\n",
      "Iter 459/3000 - Loss: 0.8996\n",
      "Iter 460/3000 - Loss: 0.8993\n",
      "Iter 461/3000 - Loss: 0.8990\n"
     ]
    },
    {
     "name": "stderr",
     "output_type": "stream",
     "text": [
      "Iteration:  16%|█▌        | 467/3000 [00:27<01:17, 32.80it/s, loss=0.897]"
     ]
    },
    {
     "name": "stdout",
     "output_type": "stream",
     "text": [
      "Iter 462/3000 - Loss: 0.8986\n",
      "Iter 463/3000 - Loss: 0.8983\n",
      "Iter 464/3000 - Loss: 0.8980\n",
      "Iter 465/3000 - Loss: 0.8977\n",
      "Iter 466/3000 - Loss: 0.8974\n",
      "Iter 467/3000 - Loss: 0.8970\n"
     ]
    },
    {
     "name": "stderr",
     "output_type": "stream",
     "text": [
      "Iteration:  16%|█▌        | 467/3000 [00:27<01:17, 32.80it/s, loss=0.896]"
     ]
    },
    {
     "name": "stdout",
     "output_type": "stream",
     "text": [
      "Iter 468/3000 - Loss: 0.8967\n",
      "Iter 469/3000 - Loss: 0.8964\n",
      "Iter 470/3000 - Loss: 0.8961\n"
     ]
    },
    {
     "name": "stderr",
     "output_type": "stream",
     "text": [
      "Iteration:  16%|█▌        | 471/3000 [00:28<02:01, 20.74it/s, loss=0.896]"
     ]
    },
    {
     "name": "stdout",
     "output_type": "stream",
     "text": [
      "Iter 471/3000 - Loss: 0.8958\n"
     ]
    },
    {
     "name": "stderr",
     "output_type": "stream",
     "text": [
      "\r",
      "Iteration:  16%|█▌        | 471/3000 [00:28<02:01, 20.74it/s, loss=0.895]"
     ]
    },
    {
     "name": "stdout",
     "output_type": "stream",
     "text": [
      "Iter 472/3000 - Loss: 0.8954\n"
     ]
    },
    {
     "name": "stderr",
     "output_type": "stream",
     "text": [
      "Iteration:  16%|█▌        | 471/3000 [00:29<02:01, 20.74it/s, loss=0.895]"
     ]
    },
    {
     "name": "stdout",
     "output_type": "stream",
     "text": [
      "Iter 473/3000 - Loss: 0.8951\n"
     ]
    },
    {
     "name": "stderr",
     "output_type": "stream",
     "text": [
      "Iteration:  16%|█▌        | 477/3000 [00:29<05:36,  7.50it/s, loss=0.893]"
     ]
    },
    {
     "name": "stdout",
     "output_type": "stream",
     "text": [
      "Iter 474/3000 - Loss: 0.8948\n",
      "Iter 475/3000 - Loss: 0.8945\n",
      "Iter 476/3000 - Loss: 0.8941\n",
      "Iter 477/3000 - Loss: 0.8938\n",
      "Iter 478/3000 - Loss: 0.8935\n"
     ]
    },
    {
     "name": "stderr",
     "output_type": "stream",
     "text": [
      "\r",
      "Iteration:  16%|█▌        | 477/3000 [00:29<05:36,  7.50it/s, loss=0.893]"
     ]
    },
    {
     "name": "stdout",
     "output_type": "stream",
     "text": [
      "Iter 479/3000 - Loss: 0.8932\n"
     ]
    },
    {
     "name": "stderr",
     "output_type": "stream",
     "text": [
      "Iteration:  16%|█▌        | 480/3000 [00:30<08:32,  4.92it/s, loss=0.893]"
     ]
    },
    {
     "name": "stdout",
     "output_type": "stream",
     "text": [
      "Iter 480/3000 - Loss: 0.8928\n"
     ]
    },
    {
     "name": "stderr",
     "output_type": "stream",
     "text": [
      "Iteration:  16%|█▌        | 482/3000 [00:31<08:51,  4.74it/s, loss=0.892]"
     ]
    },
    {
     "name": "stdout",
     "output_type": "stream",
     "text": [
      "Iter 481/3000 - Loss: 0.8925\n",
      "Iter 482/3000 - Loss: 0.8922\n"
     ]
    },
    {
     "name": "stderr",
     "output_type": "stream",
     "text": [
      "\r",
      "Iteration:  16%|█▌        | 482/3000 [00:31<08:51,  4.74it/s, loss=0.892]"
     ]
    },
    {
     "name": "stdout",
     "output_type": "stream",
     "text": [
      "Iter 483/3000 - Loss: 0.8918\n"
     ]
    },
    {
     "name": "stderr",
     "output_type": "stream",
     "text": [
      "Iteration:  16%|█▌        | 487/3000 [00:33<10:38,  3.94it/s, loss=0.891]"
     ]
    },
    {
     "name": "stdout",
     "output_type": "stream",
     "text": [
      "Iter 484/3000 - Loss: 0.8915\n",
      "Iter 485/3000 - Loss: 0.8912\n",
      "Iter 486/3000 - Loss: 0.8909\n",
      "Iter 487/3000 - Loss: 0.8906\n"
     ]
    },
    {
     "name": "stderr",
     "output_type": "stream",
     "text": [
      "Iteration:  16%|█▋        | 489/3000 [00:33<08:50,  4.73it/s, loss=0.89] "
     ]
    },
    {
     "name": "stdout",
     "output_type": "stream",
     "text": [
      "Iter 488/3000 - Loss: 0.8902\n",
      "Iter 489/3000 - Loss: 0.8899\n",
      "Iter 490/3000 - Loss: 0.8895\n"
     ]
    },
    {
     "name": "stderr",
     "output_type": "stream",
     "text": [
      "Iteration:  16%|█▋        | 494/3000 [00:33<05:19,  7.85it/s, loss=0.888]"
     ]
    },
    {
     "name": "stdout",
     "output_type": "stream",
     "text": [
      "Iter 491/3000 - Loss: 0.8892\n",
      "Iter 492/3000 - Loss: 0.8889\n",
      "Iter 493/3000 - Loss: 0.8886\n",
      "Iter 494/3000 - Loss: 0.8882\n",
      "Iter 495/3000 - Loss: 0.8879\n"
     ]
    },
    {
     "name": "stderr",
     "output_type": "stream",
     "text": [
      "Iteration:  17%|█▋        | 498/3000 [00:33<03:55, 10.62it/s, loss=0.886]"
     ]
    },
    {
     "name": "stdout",
     "output_type": "stream",
     "text": [
      "Iter 496/3000 - Loss: 0.8876\n",
      "Iter 497/3000 - Loss: 0.8872\n",
      "Iter 498/3000 - Loss: 0.8869\n",
      "Iter 499/3000 - Loss: 0.8866\n",
      "Iter 500/3000 - Loss: 0.8862\n"
     ]
    },
    {
     "name": "stderr",
     "output_type": "stream",
     "text": [
      "Iteration:  17%|█▋        | 505/3000 [00:34<02:21, 17.64it/s, loss=0.884]"
     ]
    },
    {
     "name": "stdout",
     "output_type": "stream",
     "text": [
      "Iter 501/3000 - Loss: 0.8859\n",
      "Iter 502/3000 - Loss: 0.8856\n",
      "Iter 503/3000 - Loss: 0.8852\n",
      "Iter 504/3000 - Loss: 0.8849\n",
      "Iter 505/3000 - Loss: 0.8845\n",
      "Iter 506/3000 - Loss: 0.8842\n"
     ]
    },
    {
     "name": "stderr",
     "output_type": "stream",
     "text": [
      "Iteration:  17%|█▋        | 511/3000 [00:34<02:05, 19.90it/s, loss=0.883]"
     ]
    },
    {
     "name": "stdout",
     "output_type": "stream",
     "text": [
      "Iter 507/3000 - Loss: 0.8839\n",
      "Iter 508/3000 - Loss: 0.8835\n",
      "Iter 509/3000 - Loss: 0.8832\n",
      "Iter 510/3000 - Loss: 0.8829\n",
      "Iter 511/3000 - Loss: 0.8825\n"
     ]
    },
    {
     "name": "stderr",
     "output_type": "stream",
     "text": [
      "Iteration:  17%|█▋        | 515/3000 [00:34<01:48, 22.83it/s, loss=0.88] "
     ]
    },
    {
     "name": "stdout",
     "output_type": "stream",
     "text": [
      "Iter 512/3000 - Loss: 0.8822\n",
      "Iter 513/3000 - Loss: 0.8818\n",
      "Iter 514/3000 - Loss: 0.8815\n",
      "Iter 515/3000 - Loss: 0.8811\n",
      "Iter 516/3000 - Loss: 0.8808\n",
      "Iter 517/3000 - Loss: 0.8805\n"
     ]
    },
    {
     "name": "stderr",
     "output_type": "stream",
     "text": [
      "Iteration:  17%|█▋        | 522/3000 [00:34<01:29, 27.82it/s, loss=0.878]"
     ]
    },
    {
     "name": "stdout",
     "output_type": "stream",
     "text": [
      "Iter 518/3000 - Loss: 0.8801\n",
      "Iter 519/3000 - Loss: 0.8798\n",
      "Iter 520/3000 - Loss: 0.8794\n",
      "Iter 521/3000 - Loss: 0.8791\n",
      "Iter 522/3000 - Loss: 0.8788\n",
      "Iter 523/3000 - Loss: 0.8784\n",
      "Iter 524/3000 - Loss: 0.8781\n"
     ]
    },
    {
     "name": "stderr",
     "output_type": "stream",
     "text": [
      "Iteration:  18%|█▊        | 530/3000 [00:34<01:23, 29.41it/s, loss=0.876]"
     ]
    },
    {
     "name": "stdout",
     "output_type": "stream",
     "text": [
      "Iter 525/3000 - Loss: 0.8777\n",
      "Iter 526/3000 - Loss: 0.8774\n",
      "Iter 527/3000 - Loss: 0.8770\n",
      "Iter 528/3000 - Loss: 0.8767\n",
      "Iter 529/3000 - Loss: 0.8763\n",
      "Iter 530/3000 - Loss: 0.8760\n",
      "Iter 531/3000 - Loss: 0.8756\n"
     ]
    },
    {
     "name": "stderr",
     "output_type": "stream",
     "text": [
      "Iteration:  18%|█▊        | 538/3000 [00:35<01:18, 31.54it/s, loss=0.873]"
     ]
    },
    {
     "name": "stdout",
     "output_type": "stream",
     "text": [
      "Iter 532/3000 - Loss: 0.8753\n",
      "Iter 533/3000 - Loss: 0.8749\n",
      "Iter 534/3000 - Loss: 0.8746\n",
      "Iter 535/3000 - Loss: 0.8742\n",
      "Iter 536/3000 - Loss: 0.8739\n",
      "Iter 537/3000 - Loss: 0.8735\n",
      "Iter 538/3000 - Loss: 0.8732\n"
     ]
    },
    {
     "name": "stderr",
     "output_type": "stream",
     "text": [
      "Iteration:  18%|█▊        | 542/3000 [00:35<01:18, 31.13it/s, loss=0.871]"
     ]
    },
    {
     "name": "stdout",
     "output_type": "stream",
     "text": [
      "Iter 539/3000 - Loss: 0.8728\n",
      "Iter 540/3000 - Loss: 0.8725\n",
      "Iter 541/3000 - Loss: 0.8721\n",
      "Iter 542/3000 - Loss: 0.8718\n",
      "Iter 543/3000 - Loss: 0.8714\n"
     ]
    },
    {
     "name": "stderr",
     "output_type": "stream",
     "text": [
      "Iteration:  18%|█▊        | 550/3000 [00:35<01:24, 28.97it/s, loss=0.869]"
     ]
    },
    {
     "name": "stdout",
     "output_type": "stream",
     "text": [
      "Iter 544/3000 - Loss: 0.8711\n",
      "Iter 545/3000 - Loss: 0.8707\n",
      "Iter 546/3000 - Loss: 0.8704\n",
      "Iter 547/3000 - Loss: 0.8700\n",
      "Iter 548/3000 - Loss: 0.8696\n",
      "Iter 549/3000 - Loss: 0.8693\n",
      "Iter 550/3000 - Loss: 0.8689\n"
     ]
    },
    {
     "name": "stderr",
     "output_type": "stream",
     "text": [
      "Iteration:  18%|█▊        | 554/3000 [00:35<01:22, 29.70it/s, loss=0.867]"
     ]
    },
    {
     "name": "stdout",
     "output_type": "stream",
     "text": [
      "Iter 551/3000 - Loss: 0.8686\n",
      "Iter 552/3000 - Loss: 0.8682\n",
      "Iter 553/3000 - Loss: 0.8679\n",
      "Iter 554/3000 - Loss: 0.8675\n",
      "Iter 555/3000 - Loss: 0.8671\n",
      "Iter 556/3000 - Loss: 0.8668\n"
     ]
    },
    {
     "name": "stderr",
     "output_type": "stream",
     "text": [
      "Iteration:  19%|█▊        | 558/3000 [00:36<04:43,  8.60it/s, loss=0.866]"
     ]
    },
    {
     "name": "stdout",
     "output_type": "stream",
     "text": [
      "Iter 557/3000 - Loss: 0.8664\n",
      "Iter 558/3000 - Loss: 0.8661\n"
     ]
    },
    {
     "name": "stderr",
     "output_type": "stream",
     "text": [
      "Iteration:  19%|█▊        | 561/3000 [00:37<04:08,  9.82it/s, loss=0.864]"
     ]
    },
    {
     "name": "stdout",
     "output_type": "stream",
     "text": [
      "Iter 559/3000 - Loss: 0.8657\n",
      "Iter 560/3000 - Loss: 0.8653\n",
      "Iter 561/3000 - Loss: 0.8650\n",
      "Iter 562/3000 - Loss: 0.8646\n",
      "Iter 563/3000 - Loss: 0.8643\n"
     ]
    },
    {
     "name": "stderr",
     "output_type": "stream",
     "text": [
      "Iteration:  19%|█▉        | 567/3000 [00:37<03:04, 13.20it/s, loss=0.862]"
     ]
    },
    {
     "name": "stdout",
     "output_type": "stream",
     "text": [
      "Iter 564/3000 - Loss: 0.8639\n",
      "Iter 565/3000 - Loss: 0.8635\n",
      "Iter 566/3000 - Loss: 0.8632\n",
      "Iter 567/3000 - Loss: 0.8628\n",
      "Iter 568/3000 - Loss: 0.8624\n",
      "Iter 569/3000 - Loss: 0.8621\n",
      "Iter 570/3000 - Loss: 0.8617\n"
     ]
    },
    {
     "name": "stderr",
     "output_type": "stream",
     "text": [
      "Iteration:  19%|█▉        | 574/3000 [00:37<02:26, 16.60it/s, loss=0.86] "
     ]
    },
    {
     "name": "stdout",
     "output_type": "stream",
     "text": [
      "Iter 571/3000 - Loss: 0.8613\n",
      "Iter 572/3000 - Loss: 0.8610\n",
      "Iter 573/3000 - Loss: 0.8606\n",
      "Iter 574/3000 - Loss: 0.8602\n",
      "Iter 575/3000 - Loss: 0.8599\n"
     ]
    },
    {
     "name": "stderr",
     "output_type": "stream",
     "text": [
      "Iteration:  19%|█▉        | 578/3000 [00:37<02:03, 19.55it/s, loss=0.858]"
     ]
    },
    {
     "name": "stdout",
     "output_type": "stream",
     "text": [
      "Iter 576/3000 - Loss: 0.8595\n",
      "Iter 577/3000 - Loss: 0.8591\n",
      "Iter 578/3000 - Loss: 0.8588\n",
      "Iter 579/3000 - Loss: 0.8584\n"
     ]
    },
    {
     "name": "stderr",
     "output_type": "stream",
     "text": [
      "Iteration:  19%|█▉        | 581/3000 [00:38<02:19, 17.30it/s, loss=0.857]"
     ]
    },
    {
     "name": "stdout",
     "output_type": "stream",
     "text": [
      "Iter 580/3000 - Loss: 0.8580\n",
      "Iter 581/3000 - Loss: 0.8576\n",
      "Iter 582/3000 - Loss: 0.8573\n",
      "Iter 583/3000 - Loss: 0.8569\n"
     ]
    },
    {
     "name": "stderr",
     "output_type": "stream",
     "text": [
      "Iteration:  20%|█▉        | 587/3000 [00:38<02:02, 19.75it/s, loss=0.855]"
     ]
    },
    {
     "name": "stdout",
     "output_type": "stream",
     "text": [
      "Iter 584/3000 - Loss: 0.8565\n",
      "Iter 585/3000 - Loss: 0.8562\n",
      "Iter 586/3000 - Loss: 0.8558\n",
      "Iter 587/3000 - Loss: 0.8554\n",
      "Iter 588/3000 - Loss: 0.8550\n"
     ]
    },
    {
     "name": "stderr",
     "output_type": "stream",
     "text": [
      "\r",
      "Iteration:  20%|█▉        | 587/3000 [00:38<02:02, 19.75it/s, loss=0.855]"
     ]
    },
    {
     "name": "stdout",
     "output_type": "stream",
     "text": [
      "Iter 589/3000 - Loss: 0.8547\n"
     ]
    },
    {
     "name": "stderr",
     "output_type": "stream",
     "text": [
      "Iteration:  20%|█▉        | 590/3000 [00:39<04:16,  9.39it/s, loss=0.854]"
     ]
    },
    {
     "name": "stdout",
     "output_type": "stream",
     "text": [
      "Iter 590/3000 - Loss: 0.8543\n",
      "Iter 591/3000 - Loss: 0.8539\n"
     ]
    },
    {
     "name": "stderr",
     "output_type": "stream",
     "text": [
      "Iteration:  20%|█▉        | 592/3000 [00:39<04:43,  8.48it/s, loss=0.853]"
     ]
    },
    {
     "name": "stdout",
     "output_type": "stream",
     "text": [
      "Iter 592/3000 - Loss: 0.8535\n",
      "Iter 593/3000 - Loss: 0.8532\n"
     ]
    },
    {
     "name": "stderr",
     "output_type": "stream",
     "text": [
      "Iteration:  20%|█▉        | 594/3000 [00:40<09:56,  4.04it/s, loss=0.852]"
     ]
    },
    {
     "name": "stdout",
     "output_type": "stream",
     "text": [
      "Iter 594/3000 - Loss: 0.8528\n",
      "Iter 595/3000 - Loss: 0.8524\n"
     ]
    },
    {
     "name": "stderr",
     "output_type": "stream",
     "text": [
      "Iteration:  20%|█▉        | 596/3000 [00:41<09:58,  4.02it/s, loss=0.851]"
     ]
    },
    {
     "name": "stdout",
     "output_type": "stream",
     "text": [
      "Iter 596/3000 - Loss: 0.8520\n",
      "Iter 597/3000 - Loss: 0.8517\n",
      "Iter 598/3000 - Loss: 0.8513\n"
     ]
    },
    {
     "name": "stderr",
     "output_type": "stream",
     "text": [
      "Iteration:  20%|██        | 600/3000 [00:41<07:23,  5.41it/s, loss=0.85] "
     ]
    },
    {
     "name": "stdout",
     "output_type": "stream",
     "text": [
      "Iter 599/3000 - Loss: 0.8509\n",
      "Iter 600/3000 - Loss: 0.8505\n",
      "Iter 601/3000 - Loss: 0.8501\n",
      "Iter 602/3000 - Loss: 0.8498\n"
     ]
    },
    {
     "name": "stderr",
     "output_type": "stream",
     "text": [
      "Iteration:  20%|██        | 606/3000 [00:41<03:47, 10.52it/s, loss=0.847]"
     ]
    },
    {
     "name": "stdout",
     "output_type": "stream",
     "text": [
      "Iter 603/3000 - Loss: 0.8494\n",
      "Iter 604/3000 - Loss: 0.8490\n",
      "Iter 605/3000 - Loss: 0.8486\n",
      "Iter 606/3000 - Loss: 0.8482\n",
      "Iter 607/3000 - Loss: 0.8478\n",
      "Iter 608/3000 - Loss: 0.8475\n"
     ]
    },
    {
     "name": "stderr",
     "output_type": "stream",
     "text": [
      "Iteration:  20%|██        | 613/3000 [00:42<02:21, 16.89it/s, loss=0.845]"
     ]
    },
    {
     "name": "stdout",
     "output_type": "stream",
     "text": [
      "Iter 609/3000 - Loss: 0.8471\n",
      "Iter 610/3000 - Loss: 0.8467\n",
      "Iter 611/3000 - Loss: 0.8463\n",
      "Iter 612/3000 - Loss: 0.8459\n",
      "Iter 613/3000 - Loss: 0.8455\n",
      "Iter 614/3000 - Loss: 0.8452\n"
     ]
    },
    {
     "name": "stderr",
     "output_type": "stream",
     "text": [
      "Iteration:  21%|██        | 616/3000 [00:42<02:06, 18.81it/s, loss=0.844]"
     ]
    },
    {
     "name": "stdout",
     "output_type": "stream",
     "text": [
      "Iter 615/3000 - Loss: 0.8448\n",
      "Iter 616/3000 - Loss: 0.8444\n",
      "Iter 617/3000 - Loss: 0.8440\n"
     ]
    },
    {
     "name": "stderr",
     "output_type": "stream",
     "text": [
      "Iteration:  21%|██        | 622/3000 [00:42<02:08, 18.47it/s, loss=0.842]"
     ]
    },
    {
     "name": "stdout",
     "output_type": "stream",
     "text": [
      "Iter 618/3000 - Loss: 0.8436\n",
      "Iter 619/3000 - Loss: 0.8432\n",
      "Iter 620/3000 - Loss: 0.8428\n",
      "Iter 621/3000 - Loss: 0.8424\n",
      "Iter 622/3000 - Loss: 0.8421\n"
     ]
    },
    {
     "name": "stderr",
     "output_type": "stream",
     "text": [
      "Iteration:  21%|██        | 628/3000 [00:42<01:53, 20.92it/s, loss=0.84] "
     ]
    },
    {
     "name": "stdout",
     "output_type": "stream",
     "text": [
      "Iter 623/3000 - Loss: 0.8417\n",
      "Iter 624/3000 - Loss: 0.8413\n",
      "Iter 625/3000 - Loss: 0.8409\n",
      "Iter 626/3000 - Loss: 0.8405\n",
      "Iter 627/3000 - Loss: 0.8401\n",
      "Iter 628/3000 - Loss: 0.8397\n"
     ]
    },
    {
     "name": "stderr",
     "output_type": "stream",
     "text": [
      "Iteration:  21%|██        | 634/3000 [00:42<01:43, 22.86it/s, loss=0.837]"
     ]
    },
    {
     "name": "stdout",
     "output_type": "stream",
     "text": [
      "Iter 629/3000 - Loss: 0.8393\n",
      "Iter 630/3000 - Loss: 0.8389\n",
      "Iter 631/3000 - Loss: 0.8385\n",
      "Iter 632/3000 - Loss: 0.8381\n",
      "Iter 633/3000 - Loss: 0.8377\n",
      "Iter 634/3000 - Loss: 0.8374\n"
     ]
    },
    {
     "name": "stderr",
     "output_type": "stream",
     "text": [
      "Iteration:  21%|██▏       | 640/3000 [00:43<01:37, 24.08it/s, loss=0.835]"
     ]
    },
    {
     "name": "stdout",
     "output_type": "stream",
     "text": [
      "Iter 635/3000 - Loss: 0.8370\n",
      "Iter 636/3000 - Loss: 0.8366\n",
      "Iter 637/3000 - Loss: 0.8362\n",
      "Iter 638/3000 - Loss: 0.8358\n",
      "Iter 639/3000 - Loss: 0.8354\n",
      "Iter 640/3000 - Loss: 0.8350\n"
     ]
    },
    {
     "name": "stderr",
     "output_type": "stream",
     "text": [
      "Iteration:  21%|██▏       | 643/3000 [00:43<02:05, 18.79it/s, loss=0.833]"
     ]
    },
    {
     "name": "stdout",
     "output_type": "stream",
     "text": [
      "Iter 641/3000 - Loss: 0.8346\n",
      "Iter 642/3000 - Loss: 0.8342\n",
      "Iter 643/3000 - Loss: 0.8338\n",
      "Iter 644/3000 - Loss: 0.8334\n"
     ]
    },
    {
     "name": "stderr",
     "output_type": "stream",
     "text": [
      "\r",
      "Iteration:  21%|██▏       | 643/3000 [00:43<02:05, 18.79it/s, loss=0.833]"
     ]
    },
    {
     "name": "stdout",
     "output_type": "stream",
     "text": [
      "Iter 645/3000 - Loss: 0.8330\n"
     ]
    },
    {
     "name": "stderr",
     "output_type": "stream",
     "text": [
      "Iteration:  22%|██▏       | 646/3000 [00:44<06:45,  5.81it/s, loss=0.833]"
     ]
    },
    {
     "name": "stdout",
     "output_type": "stream",
     "text": [
      "Iter 646/3000 - Loss: 0.8326\n"
     ]
    },
    {
     "name": "stderr",
     "output_type": "stream",
     "text": [
      "Iteration:  22%|██▏       | 648/3000 [00:45<06:37,  5.92it/s, loss=0.831]"
     ]
    },
    {
     "name": "stdout",
     "output_type": "stream",
     "text": [
      "Iter 647/3000 - Loss: 0.8322\n",
      "Iter 648/3000 - Loss: 0.8318\n",
      "Iter 649/3000 - Loss: 0.8314\n",
      "Iter 650/3000 - Loss: 0.8310\n"
     ]
    },
    {
     "name": "stderr",
     "output_type": "stream",
     "text": [
      "Iteration:  22%|██▏       | 653/3000 [00:45<04:43,  8.28it/s, loss=0.83] "
     ]
    },
    {
     "name": "stdout",
     "output_type": "stream",
     "text": [
      "Iter 651/3000 - Loss: 0.8306\n",
      "Iter 652/3000 - Loss: 0.8302\n",
      "Iter 653/3000 - Loss: 0.8298\n"
     ]
    },
    {
     "name": "stderr",
     "output_type": "stream",
     "text": [
      "Iteration:  22%|██▏       | 655/3000 [00:45<04:11,  9.31it/s, loss=0.829]"
     ]
    },
    {
     "name": "stdout",
     "output_type": "stream",
     "text": [
      "Iter 654/3000 - Loss: 0.8294\n",
      "Iter 655/3000 - Loss: 0.8290\n"
     ]
    },
    {
     "name": "stderr",
     "output_type": "stream",
     "text": [
      "\r",
      "Iteration:  22%|██▏       | 655/3000 [00:45<04:11,  9.31it/s, loss=0.829]"
     ]
    },
    {
     "name": "stdout",
     "output_type": "stream",
     "text": [
      "Iter 656/3000 - Loss: 0.8286\n"
     ]
    },
    {
     "name": "stderr",
     "output_type": "stream",
     "text": [
      "Iteration:  22%|██▏       | 660/3000 [00:46<04:05,  9.54it/s, loss=0.827]"
     ]
    },
    {
     "name": "stdout",
     "output_type": "stream",
     "text": [
      "Iter 657/3000 - Loss: 0.8282\n",
      "Iter 658/3000 - Loss: 0.8277\n",
      "Iter 659/3000 - Loss: 0.8273\n",
      "Iter 660/3000 - Loss: 0.8269\n",
      "Iter 661/3000 - Loss: 0.8265\n"
     ]
    },
    {
     "name": "stderr",
     "output_type": "stream",
     "text": [
      "Iteration:  22%|██▏       | 663/3000 [00:46<03:19, 11.74it/s, loss=0.826]"
     ]
    },
    {
     "name": "stdout",
     "output_type": "stream",
     "text": [
      "Iter 662/3000 - Loss: 0.8261\n",
      "Iter 663/3000 - Loss: 0.8257\n"
     ]
    },
    {
     "name": "stderr",
     "output_type": "stream",
     "text": [
      "Iteration:  22%|██▏       | 665/3000 [00:46<04:21,  8.92it/s, loss=0.824]"
     ]
    },
    {
     "name": "stdout",
     "output_type": "stream",
     "text": [
      "Iter 664/3000 - Loss: 0.8253\n",
      "Iter 665/3000 - Loss: 0.8249\n",
      "Iter 666/3000 - Loss: 0.8245\n"
     ]
    },
    {
     "name": "stderr",
     "output_type": "stream",
     "text": [
      "Iteration:  22%|██▏       | 673/3000 [00:46<02:18, 16.77it/s, loss=0.821]"
     ]
    },
    {
     "name": "stdout",
     "output_type": "stream",
     "text": [
      "Iter 667/3000 - Loss: 0.8241\n",
      "Iter 668/3000 - Loss: 0.8237\n",
      "Iter 669/3000 - Loss: 0.8233\n",
      "Iter 670/3000 - Loss: 0.8229\n",
      "Iter 671/3000 - Loss: 0.8224\n",
      "Iter 672/3000 - Loss: 0.8220\n",
      "Iter 673/3000 - Loss: 0.8216\n",
      "Iter 674/3000 - Loss: 0.8212\n"
     ]
    },
    {
     "name": "stderr",
     "output_type": "stream",
     "text": [
      "\r",
      "Iteration:  22%|██▏       | 673/3000 [00:47<02:18, 16.77it/s, loss=0.821]"
     ]
    },
    {
     "name": "stdout",
     "output_type": "stream",
     "text": [
      "Iter 675/3000 - Loss: 0.8208\n"
     ]
    },
    {
     "name": "stderr",
     "output_type": "stream",
     "text": [
      "Iteration:  23%|██▎       | 676/3000 [00:48<05:45,  6.72it/s, loss=0.82] "
     ]
    },
    {
     "name": "stdout",
     "output_type": "stream",
     "text": [
      "Iter 676/3000 - Loss: 0.8204\n"
     ]
    },
    {
     "name": "stderr",
     "output_type": "stream",
     "text": [
      "Iteration:  23%|██▎       | 678/3000 [00:48<06:57,  5.56it/s, loss=0.819]"
     ]
    },
    {
     "name": "stdout",
     "output_type": "stream",
     "text": [
      "Iter 677/3000 - Loss: 0.8200\n",
      "Iter 678/3000 - Loss: 0.8196\n"
     ]
    },
    {
     "name": "stderr",
     "output_type": "stream",
     "text": [
      "Iteration:  23%|██▎       | 682/3000 [00:49<05:26,  7.09it/s, loss=0.818]"
     ]
    },
    {
     "name": "stdout",
     "output_type": "stream",
     "text": [
      "Iter 679/3000 - Loss: 0.8191\n",
      "Iter 680/3000 - Loss: 0.8187\n",
      "Iter 681/3000 - Loss: 0.8183\n",
      "Iter 682/3000 - Loss: 0.8179\n"
     ]
    },
    {
     "name": "stderr",
     "output_type": "stream",
     "text": [
      "Iteration:  23%|██▎       | 684/3000 [00:49<05:00,  7.71it/s, loss=0.817]"
     ]
    },
    {
     "name": "stdout",
     "output_type": "stream",
     "text": [
      "Iter 683/3000 - Loss: 0.8175\n",
      "Iter 684/3000 - Loss: 0.8171\n",
      "Iter 685/3000 - Loss: 0.8167\n"
     ]
    },
    {
     "name": "stderr",
     "output_type": "stream",
     "text": [
      "Iteration:  23%|██▎       | 690/3000 [00:49<02:48, 13.72it/s, loss=0.814]"
     ]
    },
    {
     "name": "stdout",
     "output_type": "stream",
     "text": [
      "Iter 686/3000 - Loss: 0.8163\n",
      "Iter 687/3000 - Loss: 0.8158\n",
      "Iter 688/3000 - Loss: 0.8154\n",
      "Iter 689/3000 - Loss: 0.8150\n",
      "Iter 690/3000 - Loss: 0.8146\n",
      "Iter 691/3000 - Loss: 0.8142\n",
      "Iter 692/3000 - Loss: 0.8138\n"
     ]
    },
    {
     "name": "stderr",
     "output_type": "stream",
     "text": [
      "Iteration:  23%|██▎       | 697/3000 [00:49<01:54, 20.20it/s, loss=0.81] "
     ]
    },
    {
     "name": "stdout",
     "output_type": "stream",
     "text": [
      "Iter 693/3000 - Loss: 0.8133\n",
      "Iter 694/3000 - Loss: 0.8129\n",
      "Iter 695/3000 - Loss: 0.8125\n",
      "Iter 696/3000 - Loss: 0.8121\n",
      "Iter 697/3000 - Loss: 0.8117\n",
      "Iter 698/3000 - Loss: 0.8113\n",
      "Iter 699/3000 - Loss: 0.8108\n",
      "Iter 700/3000 - Loss: 0.8104\n"
     ]
    },
    {
     "name": "stderr",
     "output_type": "stream",
     "text": [
      "Iteration:  24%|██▎       | 705/3000 [00:50<01:29, 25.63it/s, loss=0.807]"
     ]
    },
    {
     "name": "stdout",
     "output_type": "stream",
     "text": [
      "Iter 701/3000 - Loss: 0.8100\n",
      "Iter 702/3000 - Loss: 0.8096\n",
      "Iter 703/3000 - Loss: 0.8092\n",
      "Iter 704/3000 - Loss: 0.8087\n",
      "Iter 705/3000 - Loss: 0.8083\n",
      "Iter 706/3000 - Loss: 0.8079\n",
      "Iter 707/3000 - Loss: 0.8075\n",
      "Iter 708/3000 - Loss: 0.8071\n"
     ]
    },
    {
     "name": "stderr",
     "output_type": "stream",
     "text": [
      "Iteration:  24%|██▍       | 713/3000 [00:50<01:14, 30.74it/s, loss=0.804]"
     ]
    },
    {
     "name": "stdout",
     "output_type": "stream",
     "text": [
      "Iter 709/3000 - Loss: 0.8066\n",
      "Iter 710/3000 - Loss: 0.8062\n",
      "Iter 711/3000 - Loss: 0.8058\n",
      "Iter 712/3000 - Loss: 0.8054\n",
      "Iter 713/3000 - Loss: 0.8049\n",
      "Iter 714/3000 - Loss: 0.8045\n",
      "Iter 715/3000 - Loss: 0.8041\n"
     ]
    },
    {
     "name": "stderr",
     "output_type": "stream",
     "text": [
      "Iteration:  24%|██▍       | 721/3000 [00:50<01:18, 29.04it/s, loss=0.801]"
     ]
    },
    {
     "name": "stdout",
     "output_type": "stream",
     "text": [
      "Iter 716/3000 - Loss: 0.8037\n",
      "Iter 717/3000 - Loss: 0.8032\n",
      "Iter 718/3000 - Loss: 0.8028\n",
      "Iter 719/3000 - Loss: 0.8024\n",
      "Iter 720/3000 - Loss: 0.8020\n",
      "Iter 721/3000 - Loss: 0.8015\n"
     ]
    },
    {
     "name": "stderr",
     "output_type": "stream",
     "text": [
      "Iteration:  24%|██▍       | 725/3000 [00:50<01:14, 30.45it/s, loss=0.799]"
     ]
    },
    {
     "name": "stdout",
     "output_type": "stream",
     "text": [
      "Iter 722/3000 - Loss: 0.8011\n",
      "Iter 723/3000 - Loss: 0.8007\n",
      "Iter 724/3000 - Loss: 0.8003\n",
      "Iter 725/3000 - Loss: 0.7998\n",
      "Iter 726/3000 - Loss: 0.7994\n",
      "Iter 727/3000 - Loss: 0.7990\n",
      "Iter 728/3000 - Loss: 0.7986\n"
     ]
    },
    {
     "name": "stderr",
     "output_type": "stream",
     "text": [
      "Iteration:  24%|██▍       | 733/3000 [00:50<01:09, 32.62it/s, loss=0.795]"
     ]
    },
    {
     "name": "stdout",
     "output_type": "stream",
     "text": [
      "Iter 729/3000 - Loss: 0.7981\n",
      "Iter 730/3000 - Loss: 0.7977\n",
      "Iter 731/3000 - Loss: 0.7973\n",
      "Iter 732/3000 - Loss: 0.7969\n",
      "Iter 733/3000 - Loss: 0.7964\n",
      "Iter 734/3000 - Loss: 0.7960\n",
      "Iter 735/3000 - Loss: 0.7955\n",
      "Iter 736/3000 - Loss: 0.7951\n"
     ]
    },
    {
     "name": "stderr",
     "output_type": "stream",
     "text": [
      "Iteration:  25%|██▍       | 742/3000 [00:51<01:04, 34.87it/s, loss=0.792]"
     ]
    },
    {
     "name": "stdout",
     "output_type": "stream",
     "text": [
      "Iter 737/3000 - Loss: 0.7947\n",
      "Iter 738/3000 - Loss: 0.7943\n",
      "Iter 739/3000 - Loss: 0.7938\n",
      "Iter 740/3000 - Loss: 0.7934\n",
      "Iter 741/3000 - Loss: 0.7930\n",
      "Iter 742/3000 - Loss: 0.7925\n",
      "Iter 743/3000 - Loss: 0.7921\n",
      "Iter 744/3000 - Loss: 0.7916\n"
     ]
    },
    {
     "name": "stderr",
     "output_type": "stream",
     "text": [
      "Iteration:  25%|██▌       | 750/3000 [00:51<01:06, 33.95it/s, loss=0.789]"
     ]
    },
    {
     "name": "stdout",
     "output_type": "stream",
     "text": [
      "Iter 745/3000 - Loss: 0.7912\n",
      "Iter 746/3000 - Loss: 0.7908\n",
      "Iter 747/3000 - Loss: 0.7903\n",
      "Iter 748/3000 - Loss: 0.7899\n",
      "Iter 749/3000 - Loss: 0.7895\n",
      "Iter 750/3000 - Loss: 0.7890\n",
      "Iter 751/3000 - Loss: 0.7886\n"
     ]
    },
    {
     "name": "stderr",
     "output_type": "stream",
     "text": [
      "\r",
      "Iteration:  25%|██▌       | 750/3000 [00:51<01:06, 33.95it/s, loss=0.788]"
     ]
    },
    {
     "name": "stdout",
     "output_type": "stream",
     "text": [
      "Iter 752/3000 - Loss: 0.7882\n"
     ]
    },
    {
     "name": "stderr",
     "output_type": "stream",
     "text": [
      "Iteration:  25%|██▌       | 754/3000 [00:52<04:39,  8.04it/s, loss=0.786]"
     ]
    },
    {
     "name": "stdout",
     "output_type": "stream",
     "text": [
      "Iter 753/3000 - Loss: 0.7877\n",
      "Iter 754/3000 - Loss: 0.7873\n",
      "Iter 755/3000 - Loss: 0.7868\n",
      "Iter 756/3000 - Loss: 0.7864\n",
      "Iter 757/3000 - Loss: 0.7860\n"
     ]
    },
    {
     "name": "stderr",
     "output_type": "stream",
     "text": [
      "Iteration:  25%|██▌       | 761/3000 [00:52<03:02, 12.28it/s, loss=0.782]"
     ]
    },
    {
     "name": "stdout",
     "output_type": "stream",
     "text": [
      "Iter 758/3000 - Loss: 0.7855\n",
      "Iter 759/3000 - Loss: 0.7851\n",
      "Iter 760/3000 - Loss: 0.7846\n",
      "Iter 761/3000 - Loss: 0.7842\n",
      "Iter 762/3000 - Loss: 0.7838\n",
      "Iter 763/3000 - Loss: 0.7833\n",
      "Iter 764/3000 - Loss: 0.7829\n"
     ]
    },
    {
     "name": "stderr",
     "output_type": "stream",
     "text": [
      "Iteration:  26%|██▌       | 765/3000 [00:53<02:23, 15.60it/s, loss=0.781]"
     ]
    },
    {
     "name": "stdout",
     "output_type": "stream",
     "text": [
      "Iter 765/3000 - Loss: 0.7824\n",
      "Iter 766/3000 - Loss: 0.7820\n",
      "Iter 767/3000 - Loss: 0.7815\n",
      "Iter 768/3000 - Loss: 0.7811\n"
     ]
    },
    {
     "name": "stderr",
     "output_type": "stream",
     "text": [
      "Iteration:  26%|██▌       | 773/3000 [00:53<01:56, 19.13it/s, loss=0.778]"
     ]
    },
    {
     "name": "stdout",
     "output_type": "stream",
     "text": [
      "Iter 769/3000 - Loss: 0.7807\n",
      "Iter 770/3000 - Loss: 0.7802\n",
      "Iter 771/3000 - Loss: 0.7798\n",
      "Iter 772/3000 - Loss: 0.7793\n",
      "Iter 773/3000 - Loss: 0.7789\n",
      "Iter 774/3000 - Loss: 0.7785\n",
      "Iter 775/3000 - Loss: 0.7780\n"
     ]
    },
    {
     "name": "stderr",
     "output_type": "stream",
     "text": [
      "Iteration:  26%|██▌       | 780/3000 [00:53<01:49, 20.35it/s, loss=0.775]"
     ]
    },
    {
     "name": "stdout",
     "output_type": "stream",
     "text": [
      "Iter 776/3000 - Loss: 0.7776\n",
      "Iter 777/3000 - Loss: 0.7772\n",
      "Iter 778/3000 - Loss: 0.7767\n",
      "Iter 779/3000 - Loss: 0.7763\n",
      "Iter 780/3000 - Loss: 0.7759\n",
      "Iter 781/3000 - Loss: 0.7754\n",
      "Iter 782/3000 - Loss: 0.7750\n"
     ]
    },
    {
     "name": "stderr",
     "output_type": "stream",
     "text": [
      "Iteration:  26%|██▋       | 788/3000 [00:53<01:24, 26.20it/s, loss=0.772]"
     ]
    },
    {
     "name": "stdout",
     "output_type": "stream",
     "text": [
      "Iter 783/3000 - Loss: 0.7746\n",
      "Iter 784/3000 - Loss: 0.7742\n",
      "Iter 785/3000 - Loss: 0.7737\n",
      "Iter 786/3000 - Loss: 0.7733\n",
      "Iter 787/3000 - Loss: 0.7729\n",
      "Iter 788/3000 - Loss: 0.7725\n",
      "Iter 789/3000 - Loss: 0.7721\n",
      "Iter 790/3000 - Loss: 0.7716\n"
     ]
    },
    {
     "name": "stderr",
     "output_type": "stream",
     "text": [
      "Iteration:  26%|██▋       | 795/3000 [00:54<01:48, 20.41it/s, loss=0.77] "
     ]
    },
    {
     "name": "stdout",
     "output_type": "stream",
     "text": [
      "Iter 791/3000 - Loss: 0.7712\n",
      "Iter 792/3000 - Loss: 0.7708\n",
      "Iter 793/3000 - Loss: 0.7704\n",
      "Iter 794/3000 - Loss: 0.7700\n",
      "Iter 795/3000 - Loss: 0.7696\n"
     ]
    },
    {
     "name": "stderr",
     "output_type": "stream",
     "text": [
      "Iteration:  27%|██▋       | 802/3000 [00:54<01:39, 22.12it/s, loss=0.767]"
     ]
    },
    {
     "name": "stdout",
     "output_type": "stream",
     "text": [
      "Iter 796/3000 - Loss: 0.7692\n",
      "Iter 797/3000 - Loss: 0.7688\n",
      "Iter 798/3000 - Loss: 0.7685\n",
      "Iter 799/3000 - Loss: 0.7681\n",
      "Iter 800/3000 - Loss: 0.7677\n",
      "Iter 801/3000 - Loss: 0.7673\n",
      "Iter 802/3000 - Loss: 0.7670\n"
     ]
    },
    {
     "name": "stderr",
     "output_type": "stream",
     "text": [
      "Iteration:  27%|██▋       | 806/3000 [00:54<01:30, 24.18it/s, loss=0.765]"
     ]
    },
    {
     "name": "stdout",
     "output_type": "stream",
     "text": [
      "Iter 803/3000 - Loss: 0.7666\n",
      "Iter 804/3000 - Loss: 0.7662\n",
      "Iter 805/3000 - Loss: 0.7659\n",
      "Iter 806/3000 - Loss: 0.7655\n",
      "Iter 807/3000 - Loss: 0.7651\n"
     ]
    },
    {
     "name": "stderr",
     "output_type": "stream",
     "text": [
      "Iteration:  27%|██▋       | 809/3000 [00:55<01:43, 21.25it/s, loss=0.764]"
     ]
    },
    {
     "name": "stdout",
     "output_type": "stream",
     "text": [
      "Iter 808/3000 - Loss: 0.7648\n",
      "Iter 809/3000 - Loss: 0.7645\n",
      "Iter 810/3000 - Loss: 0.7641\n"
     ]
    },
    {
     "name": "stderr",
     "output_type": "stream",
     "text": [
      "\r",
      "Iteration:  27%|██▋       | 809/3000 [00:55<01:43, 21.25it/s, loss=0.764]"
     ]
    },
    {
     "name": "stdout",
     "output_type": "stream",
     "text": [
      "Iter 811/3000 - Loss: 0.7638\n"
     ]
    },
    {
     "name": "stderr",
     "output_type": "stream",
     "text": [
      "Iteration:  27%|██▋       | 812/3000 [00:56<05:07,  7.11it/s, loss=0.763]"
     ]
    },
    {
     "name": "stdout",
     "output_type": "stream",
     "text": [
      "Iter 812/3000 - Loss: 0.7635\n",
      "Iter 813/3000 - Loss: 0.7631\n"
     ]
    },
    {
     "name": "stderr",
     "output_type": "stream",
     "text": [
      "Iteration:  27%|██▋       | 816/3000 [00:56<04:31,  8.03it/s, loss=0.761]"
     ]
    },
    {
     "name": "stdout",
     "output_type": "stream",
     "text": [
      "Iter 814/3000 - Loss: 0.7628\n",
      "Iter 815/3000 - Loss: 0.7625\n",
      "Iter 816/3000 - Loss: 0.7622\n",
      "Iter 817/3000 - Loss: 0.7619\n",
      "Iter 818/3000 - Loss: 0.7616\n",
      "Iter 819/3000 - Loss: 0.7613\n"
     ]
    },
    {
     "name": "stderr",
     "output_type": "stream",
     "text": [
      "Iteration:  28%|██▊       | 825/3000 [00:56<02:17, 15.78it/s, loss=0.759]"
     ]
    },
    {
     "name": "stdout",
     "output_type": "stream",
     "text": [
      "Iter 820/3000 - Loss: 0.7610\n",
      "Iter 821/3000 - Loss: 0.7607\n",
      "Iter 822/3000 - Loss: 0.7604\n",
      "Iter 823/3000 - Loss: 0.7601\n",
      "Iter 824/3000 - Loss: 0.7598\n",
      "Iter 825/3000 - Loss: 0.7596\n",
      "Iter 826/3000 - Loss: 0.7593\n",
      "Iter 827/3000 - Loss: 0.7590\n"
     ]
    },
    {
     "name": "stderr",
     "output_type": "stream",
     "text": [
      "Iteration:  28%|██▊       | 834/3000 [00:57<01:29, 24.10it/s, loss=0.757]"
     ]
    },
    {
     "name": "stdout",
     "output_type": "stream",
     "text": [
      "Iter 828/3000 - Loss: 0.7588\n",
      "Iter 829/3000 - Loss: 0.7585\n",
      "Iter 830/3000 - Loss: 0.7583\n",
      "Iter 831/3000 - Loss: 0.7580\n",
      "Iter 832/3000 - Loss: 0.7578\n",
      "Iter 833/3000 - Loss: 0.7575\n",
      "Iter 834/3000 - Loss: 0.7573\n",
      "Iter 835/3000 - Loss: 0.7571\n"
     ]
    },
    {
     "name": "stderr",
     "output_type": "stream",
     "text": [
      "Iteration:  28%|██▊       | 841/3000 [00:57<01:28, 24.36it/s, loss=0.756]"
     ]
    },
    {
     "name": "stdout",
     "output_type": "stream",
     "text": [
      "Iter 836/3000 - Loss: 0.7568\n",
      "Iter 837/3000 - Loss: 0.7566\n",
      "Iter 838/3000 - Loss: 0.7564\n",
      "Iter 839/3000 - Loss: 0.7562\n",
      "Iter 840/3000 - Loss: 0.7559\n",
      "Iter 841/3000 - Loss: 0.7557\n",
      "Iter 842/3000 - Loss: 0.7555\n"
     ]
    },
    {
     "name": "stderr",
     "output_type": "stream",
     "text": [
      "Iteration:  28%|██▊       | 850/3000 [00:57<01:09, 31.00it/s, loss=0.754]"
     ]
    },
    {
     "name": "stdout",
     "output_type": "stream",
     "text": [
      "Iter 843/3000 - Loss: 0.7553\n",
      "Iter 844/3000 - Loss: 0.7551\n",
      "Iter 845/3000 - Loss: 0.7549\n",
      "Iter 846/3000 - Loss: 0.7547\n",
      "Iter 847/3000 - Loss: 0.7545\n",
      "Iter 848/3000 - Loss: 0.7544\n",
      "Iter 849/3000 - Loss: 0.7542\n",
      "Iter 850/3000 - Loss: 0.7540\n",
      "Iter 851/3000 - Loss: 0.7538\n"
     ]
    },
    {
     "name": "stderr",
     "output_type": "stream",
     "text": [
      "Iteration:  28%|██▊       | 854/3000 [00:57<01:06, 32.31it/s, loss=0.753]"
     ]
    },
    {
     "name": "stdout",
     "output_type": "stream",
     "text": [
      "Iter 852/3000 - Loss: 0.7536\n",
      "Iter 853/3000 - Loss: 0.7535\n",
      "Iter 854/3000 - Loss: 0.7533\n",
      "Iter 855/3000 - Loss: 0.7531\n",
      "Iter 856/3000 - Loss: 0.7530\n",
      "Iter 857/3000 - Loss: 0.7528\n"
     ]
    },
    {
     "name": "stderr",
     "output_type": "stream",
     "text": [
      "Iteration:  29%|██▊       | 862/3000 [00:58<01:19, 26.81it/s, loss=0.752]"
     ]
    },
    {
     "name": "stdout",
     "output_type": "stream",
     "text": [
      "Iter 858/3000 - Loss: 0.7527\n",
      "Iter 859/3000 - Loss: 0.7525\n",
      "Iter 860/3000 - Loss: 0.7523\n",
      "Iter 861/3000 - Loss: 0.7522\n",
      "Iter 862/3000 - Loss: 0.7520\n"
     ]
    },
    {
     "name": "stderr",
     "output_type": "stream",
     "text": [
      "Iteration:  29%|██▉       | 865/3000 [00:58<01:41, 21.04it/s, loss=0.752]"
     ]
    },
    {
     "name": "stdout",
     "output_type": "stream",
     "text": [
      "Iter 863/3000 - Loss: 0.7519\n",
      "Iter 864/3000 - Loss: 0.7518\n",
      "Iter 865/3000 - Loss: 0.7516\n"
     ]
    },
    {
     "name": "stderr",
     "output_type": "stream",
     "text": [
      "Iteration:  29%|██▉       | 868/3000 [00:58<01:39, 21.37it/s, loss=0.751]"
     ]
    },
    {
     "name": "stdout",
     "output_type": "stream",
     "text": [
      "Iter 866/3000 - Loss: 0.7515\n",
      "Iter 867/3000 - Loss: 0.7513\n",
      "Iter 868/3000 - Loss: 0.7512\n",
      "Iter 869/3000 - Loss: 0.7511\n",
      "Iter 870/3000 - Loss: 0.7510\n",
      "Iter 871/3000 - Loss: 0.7508\n"
     ]
    },
    {
     "name": "stderr",
     "output_type": "stream",
     "text": [
      "Iteration:  29%|██▉       | 875/3000 [00:58<01:26, 24.58it/s, loss=0.75] "
     ]
    },
    {
     "name": "stdout",
     "output_type": "stream",
     "text": [
      "Iter 872/3000 - Loss: 0.7507\n",
      "Iter 873/3000 - Loss: 0.7506\n",
      "Iter 874/3000 - Loss: 0.7505\n",
      "Iter 875/3000 - Loss: 0.7504\n"
     ]
    },
    {
     "name": "stderr",
     "output_type": "stream",
     "text": [
      "Iteration:  29%|██▉       | 878/3000 [00:59<02:05, 16.88it/s, loss=0.75]"
     ]
    },
    {
     "name": "stdout",
     "output_type": "stream",
     "text": [
      "Iter 876/3000 - Loss: 0.7502\n",
      "Iter 877/3000 - Loss: 0.7501\n",
      "Iter 878/3000 - Loss: 0.7500\n",
      "Iter 879/3000 - Loss: 0.7499\n"
     ]
    },
    {
     "name": "stderr",
     "output_type": "stream",
     "text": [
      "Iteration:  29%|██▉       | 881/3000 [01:00<05:30,  6.41it/s, loss=0.75]"
     ]
    },
    {
     "name": "stdout",
     "output_type": "stream",
     "text": [
      "Iter 880/3000 - Loss: 0.7498\n",
      "Iter 881/3000 - Loss: 0.7497\n"
     ]
    },
    {
     "name": "stderr",
     "output_type": "stream",
     "text": [
      "\r",
      "Iteration:  29%|██▉       | 881/3000 [01:00<05:30,  6.41it/s, loss=0.75]"
     ]
    },
    {
     "name": "stdout",
     "output_type": "stream",
     "text": [
      "Iter 882/3000 - Loss: 0.7496\n"
     ]
    },
    {
     "name": "stderr",
     "output_type": "stream",
     "text": [
      "Iteration:  29%|██▉       | 883/3000 [01:00<06:42,  5.26it/s, loss=0.749]"
     ]
    },
    {
     "name": "stdout",
     "output_type": "stream",
     "text": [
      "Iter 883/3000 - Loss: 0.7495\n"
     ]
    },
    {
     "name": "stderr",
     "output_type": "stream",
     "text": [
      "\r",
      "Iteration:  29%|██▉       | 883/3000 [01:01<06:42,  5.26it/s, loss=0.749]"
     ]
    },
    {
     "name": "stdout",
     "output_type": "stream",
     "text": [
      "Iter 884/3000 - Loss: 0.7494\n"
     ]
    },
    {
     "name": "stderr",
     "output_type": "stream",
     "text": [
      "Iteration:  30%|██▉       | 886/3000 [01:02<08:31,  4.13it/s, loss=0.749]"
     ]
    },
    {
     "name": "stdout",
     "output_type": "stream",
     "text": [
      "Iter 885/3000 - Loss: 0.7493\n",
      "Iter 886/3000 - Loss: 0.7492\n",
      "Iter 887/3000 - Loss: 0.7491\n",
      "Iter 888/3000 - Loss: 0.7490\n"
     ]
    },
    {
     "name": "stderr",
     "output_type": "stream",
     "text": [
      "Iteration:  30%|██▉       | 894/3000 [01:02<03:31,  9.95it/s, loss=0.748]"
     ]
    },
    {
     "name": "stdout",
     "output_type": "stream",
     "text": [
      "Iter 889/3000 - Loss: 0.7489\n",
      "Iter 890/3000 - Loss: 0.7488\n",
      "Iter 891/3000 - Loss: 0.7487\n",
      "Iter 892/3000 - Loss: 0.7486\n",
      "Iter 893/3000 - Loss: 0.7486\n",
      "Iter 894/3000 - Loss: 0.7485\n",
      "Iter 895/3000 - Loss: 0.7484\n",
      "Iter 896/3000 - Loss: 0.7483\n"
     ]
    },
    {
     "name": "stderr",
     "output_type": "stream",
     "text": [
      "Iteration:  30%|███       | 903/3000 [01:02<01:56, 17.99it/s, loss=0.748]"
     ]
    },
    {
     "name": "stdout",
     "output_type": "stream",
     "text": [
      "Iter 897/3000 - Loss: 0.7482\n",
      "Iter 898/3000 - Loss: 0.7482\n",
      "Iter 899/3000 - Loss: 0.7481\n",
      "Iter 900/3000 - Loss: 0.7480\n",
      "Iter 901/3000 - Loss: 0.7479\n",
      "Iter 902/3000 - Loss: 0.7479\n",
      "Iter 903/3000 - Loss: 0.7478\n",
      "Iter 904/3000 - Loss: 0.7477\n"
     ]
    },
    {
     "name": "stderr",
     "output_type": "stream",
     "text": [
      "Iteration:  30%|███       | 912/3000 [01:02<01:21, 25.53it/s, loss=0.747]"
     ]
    },
    {
     "name": "stdout",
     "output_type": "stream",
     "text": [
      "Iter 905/3000 - Loss: 0.7476\n",
      "Iter 906/3000 - Loss: 0.7476\n",
      "Iter 907/3000 - Loss: 0.7475\n",
      "Iter 908/3000 - Loss: 0.7474\n",
      "Iter 909/3000 - Loss: 0.7474\n",
      "Iter 910/3000 - Loss: 0.7473\n",
      "Iter 911/3000 - Loss: 0.7472\n",
      "Iter 912/3000 - Loss: 0.7472\n"
     ]
    },
    {
     "name": "stderr",
     "output_type": "stream",
     "text": [
      "Iteration:  31%|███       | 921/3000 [01:02<01:05, 31.61it/s, loss=0.747]"
     ]
    },
    {
     "name": "stdout",
     "output_type": "stream",
     "text": [
      "Iter 913/3000 - Loss: 0.7471\n",
      "Iter 914/3000 - Loss: 0.7470\n",
      "Iter 915/3000 - Loss: 0.7470\n",
      "Iter 916/3000 - Loss: 0.7469\n",
      "Iter 917/3000 - Loss: 0.7469\n",
      "Iter 918/3000 - Loss: 0.7468\n",
      "Iter 919/3000 - Loss: 0.7467\n",
      "Iter 920/3000 - Loss: 0.7467\n",
      "Iter 921/3000 - Loss: 0.7466\n"
     ]
    },
    {
     "name": "stderr",
     "output_type": "stream",
     "text": [
      "Iteration:  31%|███       | 925/3000 [01:03<01:03, 32.62it/s, loss=0.746]"
     ]
    },
    {
     "name": "stdout",
     "output_type": "stream",
     "text": [
      "Iter 922/3000 - Loss: 0.7466\n",
      "Iter 923/3000 - Loss: 0.7465\n",
      "Iter 924/3000 - Loss: 0.7465\n",
      "Iter 925/3000 - Loss: 0.7464\n",
      "Iter 926/3000 - Loss: 0.7464\n",
      "Iter 927/3000 - Loss: 0.7463\n"
     ]
    },
    {
     "name": "stderr",
     "output_type": "stream",
     "text": [
      "Iteration:  31%|███       | 929/3000 [01:04<03:32,  9.73it/s, loss=0.746]"
     ]
    },
    {
     "name": "stdout",
     "output_type": "stream",
     "text": [
      "Iter 928/3000 - Loss: 0.7463\n",
      "Iter 929/3000 - Loss: 0.7462\n",
      "Iter 930/3000 - Loss: 0.7462\n",
      "Iter 931/3000 - Loss: 0.7461\n",
      "Iter 932/3000 - Loss: 0.7461\n"
     ]
    },
    {
     "name": "stderr",
     "output_type": "stream",
     "text": [
      "Iteration:  31%|███       | 933/3000 [01:04<02:56, 11.70it/s, loss=0.746]"
     ]
    },
    {
     "name": "stdout",
     "output_type": "stream",
     "text": [
      "Iter 933/3000 - Loss: 0.7460\n",
      "Iter 934/3000 - Loss: 0.7460\n",
      "Iter 935/3000 - Loss: 0.7459\n"
     ]
    },
    {
     "name": "stderr",
     "output_type": "stream",
     "text": [
      "Iteration:  31%|███       | 936/3000 [01:04<04:01,  8.55it/s, loss=0.746]"
     ]
    },
    {
     "name": "stdout",
     "output_type": "stream",
     "text": [
      "Iter 936/3000 - Loss: 0.7459\n"
     ]
    },
    {
     "name": "stderr",
     "output_type": "stream",
     "text": [
      "\r",
      "Iteration:  31%|███       | 936/3000 [01:05<04:01,  8.55it/s, loss=0.746]"
     ]
    },
    {
     "name": "stdout",
     "output_type": "stream",
     "text": [
      "Iter 937/3000 - Loss: 0.7458\n"
     ]
    },
    {
     "name": "stderr",
     "output_type": "stream",
     "text": [
      "Iteration:  31%|███▏      | 938/3000 [01:06<07:50,  4.38it/s, loss=0.746]"
     ]
    },
    {
     "name": "stdout",
     "output_type": "stream",
     "text": [
      "Iter 938/3000 - Loss: 0.7458\n"
     ]
    },
    {
     "name": "stderr",
     "output_type": "stream",
     "text": [
      "\r",
      "Iteration:  31%|███▏      | 938/3000 [01:07<07:50,  4.38it/s, loss=0.746]"
     ]
    },
    {
     "name": "stdout",
     "output_type": "stream",
     "text": [
      "Iter 939/3000 - Loss: 0.7458\n"
     ]
    },
    {
     "name": "stderr",
     "output_type": "stream",
     "text": [
      "Iteration:  31%|███▏      | 942/3000 [01:08<10:56,  3.14it/s, loss=0.746]"
     ]
    },
    {
     "name": "stdout",
     "output_type": "stream",
     "text": [
      "Iter 940/3000 - Loss: 0.7457\n",
      "Iter 941/3000 - Loss: 0.7457\n",
      "Iter 942/3000 - Loss: 0.7457\n"
     ]
    },
    {
     "name": "stderr",
     "output_type": "stream",
     "text": [
      "Iteration:  31%|███▏      | 944/3000 [01:08<09:11,  3.73it/s, loss=0.746]"
     ]
    },
    {
     "name": "stdout",
     "output_type": "stream",
     "text": [
      "Iter 943/3000 - Loss: 0.7456\n",
      "Iter 944/3000 - Loss: 0.7455\n"
     ]
    },
    {
     "name": "stderr",
     "output_type": "stream",
     "text": [
      "\r",
      "Iteration:  31%|███▏      | 944/3000 [01:08<09:11,  3.73it/s, loss=0.745]"
     ]
    },
    {
     "name": "stdout",
     "output_type": "stream",
     "text": [
      "Iter 945/3000 - Loss: 0.7455\n"
     ]
    },
    {
     "name": "stderr",
     "output_type": "stream",
     "text": [
      "Iteration:  32%|███▏      | 948/3000 [01:09<07:50,  4.36it/s, loss=0.745]"
     ]
    },
    {
     "name": "stdout",
     "output_type": "stream",
     "text": [
      "Iter 946/3000 - Loss: 0.7455\n",
      "Iter 947/3000 - Loss: 0.7454\n",
      "Iter 948/3000 - Loss: 0.7454\n"
     ]
    },
    {
     "name": "stderr",
     "output_type": "stream",
     "text": [
      "Iteration:  32%|███▏      | 949/3000 [01:10<08:41,  3.93it/s, loss=0.745]"
     ]
    },
    {
     "name": "stdout",
     "output_type": "stream",
     "text": [
      "Iter 949/3000 - Loss: 0.7454\n"
     ]
    },
    {
     "name": "stderr",
     "output_type": "stream",
     "text": [
      "Iteration:  32%|███▏      | 951/3000 [01:10<08:03,  4.24it/s, loss=0.745]"
     ]
    },
    {
     "name": "stdout",
     "output_type": "stream",
     "text": [
      "Iter 950/3000 - Loss: 0.7453\n",
      "Iter 951/3000 - Loss: 0.7453\n",
      "Iter 952/3000 - Loss: 0.7452\n"
     ]
    },
    {
     "name": "stderr",
     "output_type": "stream",
     "text": [
      "Iteration:  32%|███▏      | 953/3000 [01:10<05:48,  5.88it/s, loss=0.745]"
     ]
    },
    {
     "name": "stdout",
     "output_type": "stream",
     "text": [
      "Iter 953/3000 - Loss: 0.7452\n"
     ]
    },
    {
     "name": "stderr",
     "output_type": "stream",
     "text": [
      "Iteration:  32%|███▏      | 955/3000 [01:11<06:01,  5.66it/s, loss=0.745]"
     ]
    },
    {
     "name": "stdout",
     "output_type": "stream",
     "text": [
      "Iter 954/3000 - Loss: 0.7452\n",
      "Iter 955/3000 - Loss: 0.7451\n"
     ]
    },
    {
     "name": "stderr",
     "output_type": "stream",
     "text": [
      "Iteration:  32%|███▏      | 957/3000 [01:11<04:49,  7.07it/s, loss=0.745]"
     ]
    },
    {
     "name": "stdout",
     "output_type": "stream",
     "text": [
      "Iter 956/3000 - Loss: 0.7451\n",
      "Iter 957/3000 - Loss: 0.7451\n",
      "Iter 958/3000 - Loss: 0.7450\n"
     ]
    },
    {
     "name": "stderr",
     "output_type": "stream",
     "text": [
      "Iteration:  32%|███▏      | 962/3000 [01:11<03:06, 10.93it/s, loss=0.745]"
     ]
    },
    {
     "name": "stdout",
     "output_type": "stream",
     "text": [
      "Iter 959/3000 - Loss: 0.7450\n",
      "Iter 960/3000 - Loss: 0.7450\n",
      "Iter 961/3000 - Loss: 0.7449\n",
      "Iter 962/3000 - Loss: 0.7449\n"
     ]
    },
    {
     "name": "stderr",
     "output_type": "stream",
     "text": [
      "Iteration:  32%|███▏      | 964/3000 [01:12<08:23,  4.05it/s, loss=0.745]"
     ]
    },
    {
     "name": "stdout",
     "output_type": "stream",
     "text": [
      "Iter 963/3000 - Loss: 0.7449\n",
      "Iter 964/3000 - Loss: 0.7448\n",
      "Iter 965/3000 - Loss: 0.7448\n",
      "Iter 966/3000 - Loss: 0.7448\n",
      "Iter 967/3000 - Loss: 0.7447\n"
     ]
    },
    {
     "name": "stderr",
     "output_type": "stream",
     "text": [
      "Iteration:  32%|███▏      | 972/3000 [01:13<03:26,  9.80it/s, loss=0.745]"
     ]
    },
    {
     "name": "stdout",
     "output_type": "stream",
     "text": [
      "Iter 968/3000 - Loss: 0.7447\n",
      "Iter 969/3000 - Loss: 0.7447\n",
      "Iter 970/3000 - Loss: 0.7446\n",
      "Iter 971/3000 - Loss: 0.7446\n",
      "Iter 972/3000 - Loss: 0.7446\n",
      "Iter 973/3000 - Loss: 0.7446\n",
      "Iter 974/3000 - Loss: 0.7445\n"
     ]
    },
    {
     "name": "stderr",
     "output_type": "stream",
     "text": [
      "Iteration:  33%|███▎      | 979/3000 [01:13<02:11, 15.32it/s, loss=0.744]"
     ]
    },
    {
     "name": "stdout",
     "output_type": "stream",
     "text": [
      "Iter 975/3000 - Loss: 0.7445\n",
      "Iter 976/3000 - Loss: 0.7445\n",
      "Iter 977/3000 - Loss: 0.7444\n",
      "Iter 978/3000 - Loss: 0.7444\n",
      "Iter 979/3000 - Loss: 0.7444\n",
      "Iter 980/3000 - Loss: 0.7444\n"
     ]
    },
    {
     "name": "stderr",
     "output_type": "stream",
     "text": [
      "Iteration:  33%|███▎      | 985/3000 [01:13<01:43, 19.45it/s, loss=0.744]"
     ]
    },
    {
     "name": "stdout",
     "output_type": "stream",
     "text": [
      "Iter 981/3000 - Loss: 0.7443\n",
      "Iter 982/3000 - Loss: 0.7443\n",
      "Iter 983/3000 - Loss: 0.7443\n",
      "Iter 984/3000 - Loss: 0.7443\n",
      "Iter 985/3000 - Loss: 0.7442\n",
      "Iter 986/3000 - Loss: 0.7442\n",
      "Iter 987/3000 - Loss: 0.7442\n"
     ]
    },
    {
     "name": "stderr",
     "output_type": "stream",
     "text": [
      "Iteration:  33%|███▎      | 992/3000 [01:13<01:21, 24.75it/s, loss=0.744]"
     ]
    },
    {
     "name": "stdout",
     "output_type": "stream",
     "text": [
      "Iter 988/3000 - Loss: 0.7442\n",
      "Iter 989/3000 - Loss: 0.7441\n",
      "Iter 990/3000 - Loss: 0.7441\n",
      "Iter 991/3000 - Loss: 0.7441\n",
      "Iter 992/3000 - Loss: 0.7441\n",
      "Iter 993/3000 - Loss: 0.7440\n",
      "Iter 994/3000 - Loss: 0.7440\n"
     ]
    },
    {
     "name": "stderr",
     "output_type": "stream",
     "text": [
      "Iteration:  33%|███▎      | 1000/3000 [01:13<01:06, 30.02it/s, loss=0.744]"
     ]
    },
    {
     "name": "stdout",
     "output_type": "stream",
     "text": [
      "Iter 995/3000 - Loss: 0.7440\n",
      "Iter 996/3000 - Loss: 0.7440\n",
      "Iter 997/3000 - Loss: 0.7440\n",
      "Iter 998/3000 - Loss: 0.7439\n",
      "Iter 999/3000 - Loss: 0.7439\n",
      "Iter 1000/3000 - Loss: 0.7439\n",
      "Iter 1001/3000 - Loss: 0.7439\n",
      "Iter 1002/3000 - Loss: 0.7439\n"
     ]
    },
    {
     "name": "stderr",
     "output_type": "stream",
     "text": [
      "Iteration:  34%|███▎      | 1008/3000 [01:14<00:59, 33.46it/s, loss=0.744]"
     ]
    },
    {
     "name": "stdout",
     "output_type": "stream",
     "text": [
      "Iter 1003/3000 - Loss: 0.7438\n",
      "Iter 1004/3000 - Loss: 0.7438\n",
      "Iter 1005/3000 - Loss: 0.7438\n",
      "Iter 1006/3000 - Loss: 0.7438\n",
      "Iter 1007/3000 - Loss: 0.7438\n",
      "Iter 1008/3000 - Loss: 0.7438\n",
      "Iter 1009/3000 - Loss: 0.7437\n",
      "Iter 1010/3000 - Loss: 0.7437\n"
     ]
    },
    {
     "name": "stderr",
     "output_type": "stream",
     "text": [
      "Iteration:  34%|███▍      | 1016/3000 [01:14<00:56, 35.34it/s, loss=0.744]"
     ]
    },
    {
     "name": "stdout",
     "output_type": "stream",
     "text": [
      "Iter 1011/3000 - Loss: 0.7437\n",
      "Iter 1012/3000 - Loss: 0.7437\n",
      "Iter 1013/3000 - Loss: 0.7437\n",
      "Iter 1014/3000 - Loss: 0.7436\n",
      "Iter 1015/3000 - Loss: 0.7436\n",
      "Iter 1016/3000 - Loss: 0.7436\n",
      "Iter 1017/3000 - Loss: 0.7436\n",
      "Iter 1018/3000 - Loss: 0.7436\n"
     ]
    },
    {
     "name": "stderr",
     "output_type": "stream",
     "text": [
      "Iteration:  34%|███▍      | 1024/3000 [01:14<01:02, 31.48it/s, loss=0.743]"
     ]
    },
    {
     "name": "stdout",
     "output_type": "stream",
     "text": [
      "Iter 1019/3000 - Loss: 0.7435\n",
      "Iter 1020/3000 - Loss: 0.7435\n",
      "Iter 1021/3000 - Loss: 0.7435\n",
      "Iter 1022/3000 - Loss: 0.7435\n",
      "Iter 1023/3000 - Loss: 0.7435\n",
      "Iter 1024/3000 - Loss: 0.7435\n",
      "Iter 1025/3000 - Loss: 0.7434\n"
     ]
    },
    {
     "name": "stderr",
     "output_type": "stream",
     "text": [
      "Iteration:  34%|███▍      | 1024/3000 [01:14<01:02, 31.48it/s, loss=0.743]"
     ]
    },
    {
     "name": "stdout",
     "output_type": "stream",
     "text": [
      "Iter 1026/3000 - Loss: 0.7434\n",
      "Iter 1027/3000 - Loss: 0.7434\n"
     ]
    },
    {
     "name": "stderr",
     "output_type": "stream",
     "text": [
      "Iteration:  34%|███▍      | 1028/3000 [01:14<01:40, 19.72it/s, loss=0.743]"
     ]
    },
    {
     "name": "stdout",
     "output_type": "stream",
     "text": [
      "Iter 1028/3000 - Loss: 0.7434\n"
     ]
    },
    {
     "name": "stderr",
     "output_type": "stream",
     "text": [
      "Iteration:  34%|███▍      | 1031/3000 [01:15<02:16, 14.37it/s, loss=0.743]"
     ]
    },
    {
     "name": "stdout",
     "output_type": "stream",
     "text": [
      "Iter 1029/3000 - Loss: 0.7434\n",
      "Iter 1030/3000 - Loss: 0.7434\n",
      "Iter 1031/3000 - Loss: 0.7433\n"
     ]
    },
    {
     "name": "stderr",
     "output_type": "stream",
     "text": [
      "Iteration:  34%|███▍      | 1034/3000 [01:16<05:12,  6.30it/s, loss=0.743]"
     ]
    },
    {
     "name": "stdout",
     "output_type": "stream",
     "text": [
      "Iter 1032/3000 - Loss: 0.7433\n",
      "Iter 1033/3000 - Loss: 0.7433\n",
      "Iter 1034/3000 - Loss: 0.7433\n",
      "Iter 1035/3000 - Loss: 0.7433\n",
      "Iter 1036/3000 - Loss: 0.7433\n"
     ]
    },
    {
     "name": "stderr",
     "output_type": "stream",
     "text": [
      "Iteration:  35%|███▍      | 1041/3000 [01:16<03:12, 10.20it/s, loss=0.743]"
     ]
    },
    {
     "name": "stdout",
     "output_type": "stream",
     "text": [
      "Iter 1037/3000 - Loss: 0.7432\n",
      "Iter 1038/3000 - Loss: 0.7432\n",
      "Iter 1039/3000 - Loss: 0.7432\n",
      "Iter 1040/3000 - Loss: 0.7432\n",
      "Iter 1041/3000 - Loss: 0.7432\n"
     ]
    },
    {
     "name": "stderr",
     "output_type": "stream",
     "text": [
      "Iteration:  35%|███▍      | 1048/3000 [01:17<02:05, 15.60it/s, loss=0.743]"
     ]
    },
    {
     "name": "stdout",
     "output_type": "stream",
     "text": [
      "Iter 1042/3000 - Loss: 0.7432\n",
      "Iter 1043/3000 - Loss: 0.7432\n",
      "Iter 1044/3000 - Loss: 0.7431\n",
      "Iter 1045/3000 - Loss: 0.7431\n",
      "Iter 1046/3000 - Loss: 0.7431\n",
      "Iter 1047/3000 - Loss: 0.7431\n",
      "Iter 1048/3000 - Loss: 0.7431\n"
     ]
    },
    {
     "name": "stderr",
     "output_type": "stream",
     "text": [
      "Iteration:  35%|███▌      | 1051/3000 [01:17<02:05, 15.55it/s, loss=0.743]"
     ]
    },
    {
     "name": "stdout",
     "output_type": "stream",
     "text": [
      "Iter 1049/3000 - Loss: 0.7431\n",
      "Iter 1050/3000 - Loss: 0.7431\n",
      "Iter 1051/3000 - Loss: 0.7430\n"
     ]
    },
    {
     "name": "stderr",
     "output_type": "stream",
     "text": [
      "Iteration:  35%|███▌      | 1054/3000 [01:17<02:12, 14.72it/s, loss=0.743]"
     ]
    },
    {
     "name": "stdout",
     "output_type": "stream",
     "text": [
      "Iter 1052/3000 - Loss: 0.7430\n",
      "Iter 1053/3000 - Loss: 0.7430\n",
      "Iter 1054/3000 - Loss: 0.7430\n"
     ]
    },
    {
     "name": "stderr",
     "output_type": "stream",
     "text": [
      "\r",
      "Iteration:  35%|███▌      | 1054/3000 [01:17<02:12, 14.72it/s, loss=0.743]"
     ]
    },
    {
     "name": "stdout",
     "output_type": "stream",
     "text": [
      "Iter 1055/3000 - Loss: 0.7430\n"
     ]
    },
    {
     "name": "stderr",
     "output_type": "stream",
     "text": [
      "Iteration:  35%|███▌      | 1056/3000 [01:17<02:42, 11.95it/s, loss=0.743]"
     ]
    },
    {
     "name": "stdout",
     "output_type": "stream",
     "text": [
      "Iter 1056/3000 - Loss: 0.7430\n",
      "Iter 1057/3000 - Loss: 0.7430\n"
     ]
    },
    {
     "name": "stderr",
     "output_type": "stream",
     "text": [
      "Iteration:  35%|███▌      | 1060/3000 [01:18<02:44, 11.77it/s, loss=0.743]"
     ]
    },
    {
     "name": "stdout",
     "output_type": "stream",
     "text": [
      "Iter 1058/3000 - Loss: 0.7430\n",
      "Iter 1059/3000 - Loss: 0.7429\n",
      "Iter 1060/3000 - Loss: 0.7429\n",
      "Iter 1061/3000 - Loss: 0.7429\n"
     ]
    },
    {
     "name": "stderr",
     "output_type": "stream",
     "text": [
      "Iteration:  36%|███▌      | 1065/3000 [01:18<02:04, 15.48it/s, loss=0.743]"
     ]
    },
    {
     "name": "stdout",
     "output_type": "stream",
     "text": [
      "Iter 1062/3000 - Loss: 0.7429\n",
      "Iter 1063/3000 - Loss: 0.7429\n",
      "Iter 1064/3000 - Loss: 0.7429\n",
      "Iter 1065/3000 - Loss: 0.7429\n",
      "Iter 1066/3000 - Loss: 0.7429\n"
     ]
    },
    {
     "name": "stderr",
     "output_type": "stream",
     "text": [
      "Iteration:  36%|███▌      | 1072/3000 [01:18<01:26, 22.26it/s, loss=0.743]"
     ]
    },
    {
     "name": "stdout",
     "output_type": "stream",
     "text": [
      "Iter 1067/3000 - Loss: 0.7429\n",
      "Iter 1068/3000 - Loss: 0.7428\n",
      "Iter 1069/3000 - Loss: 0.7428\n",
      "Iter 1070/3000 - Loss: 0.7428\n",
      "Iter 1071/3000 - Loss: 0.7428\n",
      "Iter 1072/3000 - Loss: 0.7428\n",
      "Iter 1073/3000 - Loss: 0.7428\n"
     ]
    },
    {
     "name": "stderr",
     "output_type": "stream",
     "text": [
      "Iteration:  36%|███▌      | 1079/3000 [01:18<01:16, 25.12it/s, loss=0.743]"
     ]
    },
    {
     "name": "stdout",
     "output_type": "stream",
     "text": [
      "Iter 1074/3000 - Loss: 0.7428\n",
      "Iter 1075/3000 - Loss: 0.7428\n",
      "Iter 1076/3000 - Loss: 0.7428\n",
      "Iter 1077/3000 - Loss: 0.7427\n",
      "Iter 1078/3000 - Loss: 0.7427\n",
      "Iter 1079/3000 - Loss: 0.7427\n",
      "Iter 1080/3000 - Loss: 0.7427\n"
     ]
    },
    {
     "name": "stderr",
     "output_type": "stream",
     "text": [
      "Iteration:  36%|███▋      | 1088/3000 [01:19<01:02, 30.67it/s, loss=0.743]"
     ]
    },
    {
     "name": "stdout",
     "output_type": "stream",
     "text": [
      "Iter 1081/3000 - Loss: 0.7427\n",
      "Iter 1082/3000 - Loss: 0.7427\n",
      "Iter 1083/3000 - Loss: 0.7427\n",
      "Iter 1084/3000 - Loss: 0.7427\n",
      "Iter 1085/3000 - Loss: 0.7427\n",
      "Iter 1086/3000 - Loss: 0.7427\n",
      "Iter 1087/3000 - Loss: 0.7426\n",
      "Iter 1088/3000 - Loss: 0.7426\n"
     ]
    },
    {
     "name": "stderr",
     "output_type": "stream",
     "text": [
      "Iteration:  36%|███▋      | 1092/3000 [01:19<01:02, 30.37it/s, loss=0.743]"
     ]
    },
    {
     "name": "stdout",
     "output_type": "stream",
     "text": [
      "Iter 1089/3000 - Loss: 0.7426\n",
      "Iter 1090/3000 - Loss: 0.7426\n",
      "Iter 1091/3000 - Loss: 0.7426\n",
      "Iter 1092/3000 - Loss: 0.7426\n",
      "Iter 1093/3000 - Loss: 0.7426\n"
     ]
    },
    {
     "name": "stderr",
     "output_type": "stream",
     "text": [
      "\r",
      "Iteration:  36%|███▋      | 1092/3000 [01:19<01:02, 30.37it/s, loss=0.743]"
     ]
    },
    {
     "name": "stdout",
     "output_type": "stream",
     "text": [
      "Iter 1094/3000 - Loss: 0.7426\n"
     ]
    },
    {
     "name": "stderr",
     "output_type": "stream",
     "text": [
      "Iteration:  37%|███▋      | 1096/3000 [01:20<04:12,  7.55it/s, loss=0.743]"
     ]
    },
    {
     "name": "stdout",
     "output_type": "stream",
     "text": [
      "Iter 1095/3000 - Loss: 0.7426\n",
      "Iter 1096/3000 - Loss: 0.7426\n"
     ]
    },
    {
     "name": "stderr",
     "output_type": "stream",
     "text": [
      "Iteration:  37%|███▋      | 1099/3000 [01:21<04:01,  7.88it/s, loss=0.743]"
     ]
    },
    {
     "name": "stdout",
     "output_type": "stream",
     "text": [
      "Iter 1097/3000 - Loss: 0.7426\n",
      "Iter 1098/3000 - Loss: 0.7425\n",
      "Iter 1099/3000 - Loss: 0.7425\n",
      "Iter 1100/3000 - Loss: 0.7425\n"
     ]
    },
    {
     "name": "stderr",
     "output_type": "stream",
     "text": [
      "Iteration:  37%|███▋      | 1106/3000 [01:21<02:33, 12.34it/s, loss=0.742]"
     ]
    },
    {
     "name": "stdout",
     "output_type": "stream",
     "text": [
      "Iter 1101/3000 - Loss: 0.7425\n",
      "Iter 1102/3000 - Loss: 0.7425\n",
      "Iter 1103/3000 - Loss: 0.7425\n",
      "Iter 1104/3000 - Loss: 0.7425\n",
      "Iter 1105/3000 - Loss: 0.7425\n",
      "Iter 1106/3000 - Loss: 0.7425\n",
      "Iter 1107/3000 - Loss: 0.7425\n"
     ]
    },
    {
     "name": "stderr",
     "output_type": "stream",
     "text": [
      "Iteration:  37%|███▋      | 1112/3000 [01:21<01:53, 16.62it/s, loss=0.742]"
     ]
    },
    {
     "name": "stdout",
     "output_type": "stream",
     "text": [
      "Iter 1108/3000 - Loss: 0.7425\n",
      "Iter 1109/3000 - Loss: 0.7424\n",
      "Iter 1110/3000 - Loss: 0.7424\n",
      "Iter 1111/3000 - Loss: 0.7424\n",
      "Iter 1112/3000 - Loss: 0.7424\n"
     ]
    },
    {
     "name": "stderr",
     "output_type": "stream",
     "text": [
      "Iteration:  37%|███▋      | 1118/3000 [01:21<01:29, 21.14it/s, loss=0.742]"
     ]
    },
    {
     "name": "stdout",
     "output_type": "stream",
     "text": [
      "Iter 1113/3000 - Loss: 0.7424\n",
      "Iter 1114/3000 - Loss: 0.7424\n",
      "Iter 1115/3000 - Loss: 0.7424\n",
      "Iter 1116/3000 - Loss: 0.7424\n",
      "Iter 1117/3000 - Loss: 0.7424\n",
      "Iter 1118/3000 - Loss: 0.7424\n"
     ]
    },
    {
     "name": "stderr",
     "output_type": "stream",
     "text": [
      "Iteration:  37%|███▋      | 1124/3000 [01:21<01:19, 23.68it/s, loss=0.742]"
     ]
    },
    {
     "name": "stdout",
     "output_type": "stream",
     "text": [
      "Iter 1119/3000 - Loss: 0.7424\n",
      "Iter 1120/3000 - Loss: 0.7424\n",
      "Iter 1121/3000 - Loss: 0.7424\n",
      "Iter 1122/3000 - Loss: 0.7423\n",
      "Iter 1123/3000 - Loss: 0.7423\n",
      "Iter 1124/3000 - Loss: 0.7423\n"
     ]
    },
    {
     "name": "stderr",
     "output_type": "stream",
     "text": [
      "Iteration:  38%|███▊      | 1131/3000 [01:22<01:06, 28.25it/s, loss=0.742]"
     ]
    },
    {
     "name": "stdout",
     "output_type": "stream",
     "text": [
      "Iter 1125/3000 - Loss: 0.7423\n",
      "Iter 1126/3000 - Loss: 0.7423\n",
      "Iter 1127/3000 - Loss: 0.7423\n",
      "Iter 1128/3000 - Loss: 0.7423\n",
      "Iter 1129/3000 - Loss: 0.7423\n",
      "Iter 1130/3000 - Loss: 0.7423\n",
      "Iter 1131/3000 - Loss: 0.7423\n",
      "Iter 1132/3000 - Loss: 0.7423\n"
     ]
    },
    {
     "name": "stderr",
     "output_type": "stream",
     "text": [
      "Iteration:  38%|███▊      | 1140/3000 [01:22<00:57, 32.36it/s, loss=0.742]"
     ]
    },
    {
     "name": "stdout",
     "output_type": "stream",
     "text": [
      "Iter 1133/3000 - Loss: 0.7423\n",
      "Iter 1134/3000 - Loss: 0.7423\n",
      "Iter 1135/3000 - Loss: 0.7423\n",
      "Iter 1136/3000 - Loss: 0.7422\n",
      "Iter 1137/3000 - Loss: 0.7422\n",
      "Iter 1138/3000 - Loss: 0.7422\n",
      "Iter 1139/3000 - Loss: 0.7422\n",
      "Iter 1140/3000 - Loss: 0.7422\n"
     ]
    },
    {
     "name": "stderr",
     "output_type": "stream",
     "text": [
      "Iteration:  38%|███▊      | 1144/3000 [01:22<00:55, 33.47it/s, loss=0.742]"
     ]
    },
    {
     "name": "stdout",
     "output_type": "stream",
     "text": [
      "Iter 1141/3000 - Loss: 0.7422\n",
      "Iter 1142/3000 - Loss: 0.7422\n",
      "Iter 1143/3000 - Loss: 0.7422\n",
      "Iter 1144/3000 - Loss: 0.7422\n",
      "Iter 1145/3000 - Loss: 0.7422\n",
      "Iter 1146/3000 - Loss: 0.7422\n",
      "Iter 1147/3000 - Loss: 0.7422\n",
      "Iter 1148/3000 - Loss: 0.7422\n"
     ]
    },
    {
     "name": "stderr",
     "output_type": "stream",
     "text": [
      "Iteration:  38%|███▊      | 1153/3000 [01:22<00:51, 35.93it/s, loss=0.742]"
     ]
    },
    {
     "name": "stdout",
     "output_type": "stream",
     "text": [
      "Iter 1149/3000 - Loss: 0.7422\n",
      "Iter 1150/3000 - Loss: 0.7422\n",
      "Iter 1151/3000 - Loss: 0.7422\n",
      "Iter 1152/3000 - Loss: 0.7421\n",
      "Iter 1153/3000 - Loss: 0.7421\n",
      "Iter 1154/3000 - Loss: 0.7421\n"
     ]
    },
    {
     "name": "stderr",
     "output_type": "stream",
     "text": [
      "Iteration:  39%|███▊      | 1157/3000 [01:23<00:59, 30.96it/s, loss=0.742]"
     ]
    },
    {
     "name": "stdout",
     "output_type": "stream",
     "text": [
      "Iter 1155/3000 - Loss: 0.7421\n",
      "Iter 1156/3000 - Loss: 0.7421\n",
      "Iter 1157/3000 - Loss: 0.7421\n",
      "Iter 1158/3000 - Loss: 0.7421\n",
      "Iter 1159/3000 - Loss: 0.7421\n"
     ]
    },
    {
     "name": "stderr",
     "output_type": "stream",
     "text": [
      "Iteration:  39%|███▉      | 1164/3000 [01:23<01:06, 27.72it/s, loss=0.742]"
     ]
    },
    {
     "name": "stdout",
     "output_type": "stream",
     "text": [
      "Iter 1160/3000 - Loss: 0.7421\n",
      "Iter 1161/3000 - Loss: 0.7421\n",
      "Iter 1162/3000 - Loss: 0.7421\n",
      "Iter 1163/3000 - Loss: 0.7422\n",
      "Iter 1164/3000 - Loss: 0.7422\n",
      "Iter 1165/3000 - Loss: 0.7422\n"
     ]
    },
    {
     "name": "stderr",
     "output_type": "stream",
     "text": [
      "Iteration:  39%|███▉      | 1171/3000 [01:23<01:05, 27.79it/s, loss=0.742]"
     ]
    },
    {
     "name": "stdout",
     "output_type": "stream",
     "text": [
      "Iter 1166/3000 - Loss: 0.7422\n",
      "Iter 1167/3000 - Loss: 0.7421\n",
      "Iter 1168/3000 - Loss: 0.7421\n",
      "Iter 1169/3000 - Loss: 0.7421\n",
      "Iter 1170/3000 - Loss: 0.7421\n",
      "Iter 1171/3000 - Loss: 0.7421\n"
     ]
    },
    {
     "name": "stderr",
     "output_type": "stream",
     "text": [
      "Iteration:  39%|███▉      | 1175/3000 [01:23<01:02, 29.13it/s, loss=0.742]"
     ]
    },
    {
     "name": "stdout",
     "output_type": "stream",
     "text": [
      "Iter 1172/3000 - Loss: 0.7420\n",
      "Iter 1173/3000 - Loss: 0.7421\n",
      "Iter 1174/3000 - Loss: 0.7421\n",
      "Iter 1175/3000 - Loss: 0.7420\n",
      "Iter 1176/3000 - Loss: 0.7420\n"
     ]
    },
    {
     "name": "stderr",
     "output_type": "stream",
     "text": [
      "Iteration:  39%|███▉      | 1178/3000 [01:23<01:13, 24.80it/s, loss=0.742]"
     ]
    },
    {
     "name": "stdout",
     "output_type": "stream",
     "text": [
      "Iter 1177/3000 - Loss: 0.7420\n",
      "Iter 1178/3000 - Loss: 0.7420\n"
     ]
    },
    {
     "name": "stderr",
     "output_type": "stream",
     "text": [
      "Iteration:  39%|███▉      | 1181/3000 [01:25<04:27,  6.80it/s, loss=0.742]"
     ]
    },
    {
     "name": "stdout",
     "output_type": "stream",
     "text": [
      "Iter 1179/3000 - Loss: 0.7420\n",
      "Iter 1180/3000 - Loss: 0.7420\n",
      "Iter 1181/3000 - Loss: 0.7420\n"
     ]
    },
    {
     "name": "stderr",
     "output_type": "stream",
     "text": [
      "Iteration:  39%|███▉      | 1183/3000 [01:25<03:57,  7.65it/s, loss=0.742]"
     ]
    },
    {
     "name": "stdout",
     "output_type": "stream",
     "text": [
      "Iter 1182/3000 - Loss: 0.7420\n",
      "Iter 1183/3000 - Loss: 0.7420\n",
      "Iter 1184/3000 - Loss: 0.7420\n",
      "Iter 1185/3000 - Loss: 0.7420\n"
     ]
    },
    {
     "name": "stderr",
     "output_type": "stream",
     "text": [
      "Iteration:  40%|███▉      | 1189/3000 [01:25<02:36, 11.57it/s, loss=0.742]"
     ]
    },
    {
     "name": "stdout",
     "output_type": "stream",
     "text": [
      "Iter 1186/3000 - Loss: 0.7420\n",
      "Iter 1187/3000 - Loss: 0.7420\n",
      "Iter 1188/3000 - Loss: 0.7420\n",
      "Iter 1189/3000 - Loss: 0.7420\n",
      "Iter 1190/3000 - Loss: 0.7419\n"
     ]
    },
    {
     "name": "stderr",
     "output_type": "stream",
     "text": [
      "Iteration:  40%|███▉      | 1196/3000 [01:25<01:41, 17.86it/s, loss=0.742]"
     ]
    },
    {
     "name": "stdout",
     "output_type": "stream",
     "text": [
      "Iter 1191/3000 - Loss: 0.7419\n",
      "Iter 1192/3000 - Loss: 0.7419\n",
      "Iter 1193/3000 - Loss: 0.7419\n",
      "Iter 1194/3000 - Loss: 0.7419\n",
      "Iter 1195/3000 - Loss: 0.7419\n",
      "Iter 1196/3000 - Loss: 0.7419\n"
     ]
    },
    {
     "name": "stderr",
     "output_type": "stream",
     "text": [
      "\r",
      "Iteration:  40%|███▉      | 1196/3000 [01:25<01:41, 17.86it/s, loss=0.742]"
     ]
    },
    {
     "name": "stdout",
     "output_type": "stream",
     "text": [
      "Iter 1197/3000 - Loss: 0.7419\n",
      "Iter 1198/3000 - Loss: 0.7419\n"
     ]
    },
    {
     "name": "stderr",
     "output_type": "stream",
     "text": [
      "Iteration:  40%|████      | 1202/3000 [01:26<02:06, 14.23it/s, loss=0.742]"
     ]
    },
    {
     "name": "stdout",
     "output_type": "stream",
     "text": [
      "Iter 1199/3000 - Loss: 0.7419\n",
      "Iter 1200/3000 - Loss: 0.7419\n",
      "Iter 1201/3000 - Loss: 0.7419\n",
      "Iter 1202/3000 - Loss: 0.7419\n",
      "Iter 1203/3000 - Loss: 0.7419\n"
     ]
    },
    {
     "name": "stderr",
     "output_type": "stream",
     "text": [
      "\r",
      "Iteration:  40%|████      | 1202/3000 [01:26<02:06, 14.23it/s, loss=0.742]"
     ]
    },
    {
     "name": "stdout",
     "output_type": "stream",
     "text": [
      "Iter 1204/3000 - Loss: 0.7419\n"
     ]
    },
    {
     "name": "stderr",
     "output_type": "stream",
     "text": [
      "Iteration:  40%|████      | 1205/3000 [01:26<02:31, 11.87it/s, loss=0.742]"
     ]
    },
    {
     "name": "stdout",
     "output_type": "stream",
     "text": [
      "Iter 1205/3000 - Loss: 0.7419\n"
     ]
    },
    {
     "name": "stderr",
     "output_type": "stream",
     "text": [
      "Iteration:  40%|████      | 1207/3000 [01:27<03:18,  9.01it/s, loss=0.742]"
     ]
    },
    {
     "name": "stdout",
     "output_type": "stream",
     "text": [
      "Iter 1206/3000 - Loss: 0.7419\n",
      "Iter 1207/3000 - Loss: 0.7419\n"
     ]
    },
    {
     "name": "stderr",
     "output_type": "stream",
     "text": [
      "Iteration:  40%|████      | 1209/3000 [01:27<02:58, 10.02it/s, loss=0.742]"
     ]
    },
    {
     "name": "stdout",
     "output_type": "stream",
     "text": [
      "Iter 1208/3000 - Loss: 0.7419\n",
      "Iter 1209/3000 - Loss: 0.7419\n",
      "Iter 1210/3000 - Loss: 0.7419\n",
      "Iter 1211/3000 - Loss: 0.7418\n",
      "Iter 1212/3000 - Loss: 0.7418\n"
     ]
    },
    {
     "name": "stderr",
     "output_type": "stream",
     "text": [
      "Iteration:  40%|████      | 1213/3000 [01:27<02:18, 12.88it/s, loss=0.742]"
     ]
    },
    {
     "name": "stdout",
     "output_type": "stream",
     "text": [
      "Iter 1213/3000 - Loss: 0.7418\n"
     ]
    },
    {
     "name": "stderr",
     "output_type": "stream",
     "text": [
      "Iteration:  40%|████      | 1215/3000 [01:27<03:38,  8.18it/s, loss=0.742]"
     ]
    },
    {
     "name": "stdout",
     "output_type": "stream",
     "text": [
      "Iter 1214/3000 - Loss: 0.7418\n",
      "Iter 1215/3000 - Loss: 0.7418\n"
     ]
    },
    {
     "name": "stderr",
     "output_type": "stream",
     "text": [
      "Iteration:  41%|████      | 1221/3000 [01:29<04:18,  6.87it/s, loss=0.742]"
     ]
    },
    {
     "name": "stdout",
     "output_type": "stream",
     "text": [
      "Iter 1216/3000 - Loss: 0.7418\n",
      "Iter 1217/3000 - Loss: 0.7418\n",
      "Iter 1218/3000 - Loss: 0.7418\n",
      "Iter 1219/3000 - Loss: 0.7418\n",
      "Iter 1220/3000 - Loss: 0.7418\n",
      "Iter 1221/3000 - Loss: 0.7418\n"
     ]
    },
    {
     "name": "stderr",
     "output_type": "stream",
     "text": [
      "Iteration:  41%|████      | 1229/3000 [01:29<02:13, 13.24it/s, loss=0.742]"
     ]
    },
    {
     "name": "stdout",
     "output_type": "stream",
     "text": [
      "Iter 1222/3000 - Loss: 0.7418\n",
      "Iter 1223/3000 - Loss: 0.7418\n",
      "Iter 1224/3000 - Loss: 0.7418\n",
      "Iter 1225/3000 - Loss: 0.7418\n",
      "Iter 1226/3000 - Loss: 0.7418\n",
      "Iter 1227/3000 - Loss: 0.7418\n",
      "Iter 1228/3000 - Loss: 0.7418\n",
      "Iter 1229/3000 - Loss: 0.7418\n"
     ]
    },
    {
     "name": "stderr",
     "output_type": "stream",
     "text": [
      "Iteration:  41%|████      | 1233/3000 [01:29<01:49, 16.21it/s, loss=0.742]"
     ]
    },
    {
     "name": "stdout",
     "output_type": "stream",
     "text": [
      "Iter 1230/3000 - Loss: 0.7418\n",
      "Iter 1231/3000 - Loss: 0.7418\n",
      "Iter 1232/3000 - Loss: 0.7418\n",
      "Iter 1233/3000 - Loss: 0.7418\n",
      "Iter 1234/3000 - Loss: 0.7418\n"
     ]
    },
    {
     "name": "stderr",
     "output_type": "stream",
     "text": [
      "Iteration:  41%|████▏     | 1239/3000 [01:29<01:32, 19.04it/s, loss=0.742]"
     ]
    },
    {
     "name": "stdout",
     "output_type": "stream",
     "text": [
      "Iter 1235/3000 - Loss: 0.7417\n",
      "Iter 1236/3000 - Loss: 0.7417\n",
      "Iter 1237/3000 - Loss: 0.7417\n",
      "Iter 1238/3000 - Loss: 0.7417\n",
      "Iter 1239/3000 - Loss: 0.7417\n",
      "Iter 1240/3000 - Loss: 0.7417\n",
      "Iter 1241/3000 - Loss: 0.7417\n"
     ]
    },
    {
     "name": "stderr",
     "output_type": "stream",
     "text": [
      "Iteration:  41%|████▏     | 1243/3000 [01:29<01:17, 22.73it/s, loss=0.742]"
     ]
    },
    {
     "name": "stdout",
     "output_type": "stream",
     "text": [
      "Iter 1242/3000 - Loss: 0.7417\n",
      "Iter 1243/3000 - Loss: 0.7417\n"
     ]
    },
    {
     "name": "stderr",
     "output_type": "stream",
     "text": [
      "Iteration:  42%|████▏     | 1246/3000 [01:30<02:12, 13.22it/s, loss=0.742]"
     ]
    },
    {
     "name": "stdout",
     "output_type": "stream",
     "text": [
      "Iter 1244/3000 - Loss: 0.7417\n",
      "Iter 1245/3000 - Loss: 0.7417\n",
      "Iter 1246/3000 - Loss: 0.7417\n",
      "Iter 1247/3000 - Loss: 0.7417\n"
     ]
    },
    {
     "name": "stderr",
     "output_type": "stream",
     "text": [
      "Iteration:  42%|████▏     | 1250/3000 [01:30<01:44, 16.78it/s, loss=0.742]"
     ]
    },
    {
     "name": "stdout",
     "output_type": "stream",
     "text": [
      "Iter 1248/3000 - Loss: 0.7417\n",
      "Iter 1249/3000 - Loss: 0.7417\n",
      "Iter 1250/3000 - Loss: 0.7417\n",
      "Iter 1251/3000 - Loss: 0.7417\n",
      "Iter 1252/3000 - Loss: 0.7417\n"
     ]
    },
    {
     "name": "stderr",
     "output_type": "stream",
     "text": [
      "Iteration:  42%|████▏     | 1253/3000 [01:30<01:55, 15.15it/s, loss=0.742]"
     ]
    },
    {
     "name": "stdout",
     "output_type": "stream",
     "text": [
      "Iter 1253/3000 - Loss: 0.7417\n",
      "Iter 1254/3000 - Loss: 0.7417\n"
     ]
    },
    {
     "name": "stderr",
     "output_type": "stream",
     "text": [
      "\r",
      "Iteration:  42%|████▏     | 1253/3000 [01:31<01:55, 15.15it/s, loss=0.742]"
     ]
    },
    {
     "name": "stdout",
     "output_type": "stream",
     "text": [
      "Iter 1255/3000 - Loss: 0.7417\n"
     ]
    },
    {
     "name": "stderr",
     "output_type": "stream",
     "text": [
      "Iteration:  42%|████▏     | 1256/3000 [01:31<03:56,  7.37it/s, loss=0.742]"
     ]
    },
    {
     "name": "stdout",
     "output_type": "stream",
     "text": [
      "Iter 1256/3000 - Loss: 0.7417\n",
      "Iter 1257/3000 - Loss: 0.7417\n",
      "Iter 1258/3000 - Loss: 0.7417\n"
     ]
    },
    {
     "name": "stderr",
     "output_type": "stream",
     "text": [
      "Iteration:  42%|████▏     | 1259/3000 [01:32<05:30,  5.27it/s, loss=0.742]"
     ]
    },
    {
     "name": "stdout",
     "output_type": "stream",
     "text": [
      "Iter 1259/3000 - Loss: 0.7417\n"
     ]
    },
    {
     "name": "stderr",
     "output_type": "stream",
     "text": [
      "Iteration:  42%|████▏     | 1263/3000 [01:33<04:46,  6.06it/s, loss=0.742]"
     ]
    },
    {
     "name": "stdout",
     "output_type": "stream",
     "text": [
      "Iter 1260/3000 - Loss: 0.7417\n",
      "Iter 1261/3000 - Loss: 0.7416\n",
      "Iter 1262/3000 - Loss: 0.7416\n",
      "Iter 1263/3000 - Loss: 0.7416\n"
     ]
    },
    {
     "name": "stderr",
     "output_type": "stream",
     "text": [
      "Iteration:  42%|████▏     | 1267/3000 [01:33<03:12,  9.01it/s, loss=0.742]"
     ]
    },
    {
     "name": "stdout",
     "output_type": "stream",
     "text": [
      "Iter 1264/3000 - Loss: 0.7416\n",
      "Iter 1265/3000 - Loss: 0.7416\n",
      "Iter 1266/3000 - Loss: 0.7416\n",
      "Iter 1267/3000 - Loss: 0.7416\n",
      "Iter 1268/3000 - Loss: 0.7416\n",
      "Iter 1269/3000 - Loss: 0.7416\n",
      "Iter 1270/3000 - Loss: 0.7416\n",
      "Iter 1271/3000 - Loss: 0.7416\n"
     ]
    },
    {
     "name": "stderr",
     "output_type": "stream",
     "text": [
      "Iteration:  43%|████▎     | 1276/3000 [01:33<01:44, 16.54it/s, loss=0.742]"
     ]
    },
    {
     "name": "stdout",
     "output_type": "stream",
     "text": [
      "Iter 1272/3000 - Loss: 0.7416\n",
      "Iter 1273/3000 - Loss: 0.7416\n",
      "Iter 1274/3000 - Loss: 0.7416\n",
      "Iter 1275/3000 - Loss: 0.7416\n",
      "Iter 1276/3000 - Loss: 0.7416\n",
      "Iter 1277/3000 - Loss: 0.7416\n"
     ]
    },
    {
     "name": "stderr",
     "output_type": "stream",
     "text": [
      "Iteration:  43%|████▎     | 1282/3000 [01:33<01:40, 17.18it/s, loss=0.742]"
     ]
    },
    {
     "name": "stdout",
     "output_type": "stream",
     "text": [
      "Iter 1278/3000 - Loss: 0.7416\n",
      "Iter 1279/3000 - Loss: 0.7416\n",
      "Iter 1280/3000 - Loss: 0.7416\n",
      "Iter 1281/3000 - Loss: 0.7416\n",
      "Iter 1282/3000 - Loss: 0.7416\n",
      "Iter 1283/3000 - Loss: 0.7416\n"
     ]
    },
    {
     "name": "stderr",
     "output_type": "stream",
     "text": [
      "Iteration:  43%|████▎     | 1286/3000 [01:34<01:22, 20.84it/s, loss=0.742]"
     ]
    },
    {
     "name": "stdout",
     "output_type": "stream",
     "text": [
      "Iter 1284/3000 - Loss: 0.7416\n",
      "Iter 1285/3000 - Loss: 0.7416\n",
      "Iter 1286/3000 - Loss: 0.7415\n",
      "Iter 1287/3000 - Loss: 0.7415\n"
     ]
    },
    {
     "name": "stderr",
     "output_type": "stream",
     "text": [
      "Iteration:  43%|████▎     | 1292/3000 [01:34<01:22, 20.75it/s, loss=0.742]"
     ]
    },
    {
     "name": "stdout",
     "output_type": "stream",
     "text": [
      "Iter 1288/3000 - Loss: 0.7415\n",
      "Iter 1289/3000 - Loss: 0.7415\n",
      "Iter 1290/3000 - Loss: 0.7415\n",
      "Iter 1291/3000 - Loss: 0.7415\n",
      "Iter 1292/3000 - Loss: 0.7415\n",
      "Iter 1293/3000 - Loss: 0.7415\n"
     ]
    },
    {
     "name": "stderr",
     "output_type": "stream",
     "text": [
      "Iteration:  43%|████▎     | 1299/3000 [01:34<01:10, 24.24it/s, loss=0.741]"
     ]
    },
    {
     "name": "stdout",
     "output_type": "stream",
     "text": [
      "Iter 1294/3000 - Loss: 0.7415\n",
      "Iter 1295/3000 - Loss: 0.7415\n",
      "Iter 1296/3000 - Loss: 0.7415\n",
      "Iter 1297/3000 - Loss: 0.7415\n",
      "Iter 1298/3000 - Loss: 0.7415\n",
      "Iter 1299/3000 - Loss: 0.7415\n"
     ]
    },
    {
     "name": "stderr",
     "output_type": "stream",
     "text": [
      "Iteration:  44%|████▎     | 1307/3000 [01:34<00:58, 29.02it/s, loss=0.741]"
     ]
    },
    {
     "name": "stdout",
     "output_type": "stream",
     "text": [
      "Iter 1300/3000 - Loss: 0.7415\n",
      "Iter 1301/3000 - Loss: 0.7415\n",
      "Iter 1302/3000 - Loss: 0.7415\n",
      "Iter 1303/3000 - Loss: 0.7415\n",
      "Iter 1304/3000 - Loss: 0.7415\n",
      "Iter 1305/3000 - Loss: 0.7415\n",
      "Iter 1306/3000 - Loss: 0.7415\n",
      "Iter 1307/3000 - Loss: 0.7415\n"
     ]
    },
    {
     "name": "stderr",
     "output_type": "stream",
     "text": [
      "Iteration:  44%|████▎     | 1311/3000 [01:35<01:03, 26.78it/s, loss=0.741]"
     ]
    },
    {
     "name": "stdout",
     "output_type": "stream",
     "text": [
      "Iter 1308/3000 - Loss: 0.7415\n",
      "Iter 1309/3000 - Loss: 0.7414\n",
      "Iter 1310/3000 - Loss: 0.7414\n",
      "Iter 1311/3000 - Loss: 0.7414\n",
      "Iter 1312/3000 - Loss: 0.7414\n",
      "Iter 1313/3000 - Loss: 0.7414\n"
     ]
    },
    {
     "name": "stderr",
     "output_type": "stream",
     "text": [
      "Iteration:  44%|████▍     | 1317/3000 [01:35<01:02, 27.09it/s, loss=0.741]"
     ]
    },
    {
     "name": "stdout",
     "output_type": "stream",
     "text": [
      "Iter 1314/3000 - Loss: 0.7414\n",
      "Iter 1315/3000 - Loss: 0.7414\n",
      "Iter 1316/3000 - Loss: 0.7414\n",
      "Iter 1317/3000 - Loss: 0.7414\n",
      "Iter 1318/3000 - Loss: 0.7414\n",
      "Iter 1319/3000 - Loss: 0.7414\n"
     ]
    },
    {
     "name": "stderr",
     "output_type": "stream",
     "text": [
      "Iteration:  44%|████▍     | 1323/3000 [01:35<00:59, 28.38it/s, loss=0.741]"
     ]
    },
    {
     "name": "stdout",
     "output_type": "stream",
     "text": [
      "Iter 1320/3000 - Loss: 0.7414\n",
      "Iter 1321/3000 - Loss: 0.7414\n",
      "Iter 1322/3000 - Loss: 0.7414\n",
      "Iter 1323/3000 - Loss: 0.7414\n",
      "Iter 1324/3000 - Loss: 0.7414\n",
      "Iter 1325/3000 - Loss: 0.7414\n"
     ]
    },
    {
     "name": "stderr",
     "output_type": "stream",
     "text": [
      "Iteration:  44%|████▍     | 1329/3000 [01:35<01:03, 26.35it/s, loss=0.741]"
     ]
    },
    {
     "name": "stdout",
     "output_type": "stream",
     "text": [
      "Iter 1326/3000 - Loss: 0.7414\n",
      "Iter 1327/3000 - Loss: 0.7414\n",
      "Iter 1328/3000 - Loss: 0.7413\n",
      "Iter 1329/3000 - Loss: 0.7413\n",
      "Iter 1330/3000 - Loss: 0.7413\n"
     ]
    },
    {
     "name": "stderr",
     "output_type": "stream",
     "text": [
      "\r",
      "Iteration:  44%|████▍     | 1329/3000 [01:35<01:03, 26.35it/s, loss=0.741]"
     ]
    },
    {
     "name": "stdout",
     "output_type": "stream",
     "text": [
      "Iter 1331/3000 - Loss: 0.7413\n"
     ]
    },
    {
     "name": "stderr",
     "output_type": "stream",
     "text": [
      "Iteration:  44%|████▍     | 1334/3000 [01:36<03:40,  7.57it/s, loss=0.741]"
     ]
    },
    {
     "name": "stdout",
     "output_type": "stream",
     "text": [
      "Iter 1332/3000 - Loss: 0.7413\n",
      "Iter 1333/3000 - Loss: 0.7413\n",
      "Iter 1334/3000 - Loss: 0.7413\n",
      "Iter 1335/3000 - Loss: 0.7413\n"
     ]
    },
    {
     "name": "stderr",
     "output_type": "stream",
     "text": [
      "Iteration:  45%|████▍     | 1339/3000 [01:37<02:20, 11.86it/s, loss=0.741]"
     ]
    },
    {
     "name": "stdout",
     "output_type": "stream",
     "text": [
      "Iter 1336/3000 - Loss: 0.7413\n",
      "Iter 1337/3000 - Loss: 0.7413\n",
      "Iter 1338/3000 - Loss: 0.7413\n",
      "Iter 1339/3000 - Loss: 0.7413\n",
      "Iter 1340/3000 - Loss: 0.7413\n",
      "Iter 1341/3000 - Loss: 0.7413\n"
     ]
    },
    {
     "name": "stderr",
     "output_type": "stream",
     "text": [
      "Iteration:  45%|████▍     | 1342/3000 [01:37<02:03, 13.46it/s, loss=0.741]"
     ]
    },
    {
     "name": "stdout",
     "output_type": "stream",
     "text": [
      "Iter 1342/3000 - Loss: 0.7413\n",
      "Iter 1343/3000 - Loss: 0.7412\n",
      "Iter 1344/3000 - Loss: 0.7412\n"
     ]
    },
    {
     "name": "stderr",
     "output_type": "stream",
     "text": [
      "Iteration:  45%|████▌     | 1350/3000 [01:37<01:30, 18.32it/s, loss=0.741]"
     ]
    },
    {
     "name": "stdout",
     "output_type": "stream",
     "text": [
      "Iter 1345/3000 - Loss: 0.7412\n",
      "Iter 1346/3000 - Loss: 0.7412\n",
      "Iter 1347/3000 - Loss: 0.7412\n",
      "Iter 1348/3000 - Loss: 0.7412\n",
      "Iter 1349/3000 - Loss: 0.7412\n",
      "Iter 1350/3000 - Loss: 0.7412\n",
      "Iter 1351/3000 - Loss: 0.7412\n",
      "Iter 1352/3000 - Loss: 0.7412\n"
     ]
    },
    {
     "name": "stderr",
     "output_type": "stream",
     "text": [
      "Iteration:  45%|████▌     | 1360/3000 [01:37<00:59, 27.75it/s, loss=0.741]"
     ]
    },
    {
     "name": "stdout",
     "output_type": "stream",
     "text": [
      "Iter 1353/3000 - Loss: 0.7412\n",
      "Iter 1354/3000 - Loss: 0.7411\n",
      "Iter 1355/3000 - Loss: 0.7411\n",
      "Iter 1356/3000 - Loss: 0.7411\n",
      "Iter 1357/3000 - Loss: 0.7411\n",
      "Iter 1358/3000 - Loss: 0.7411\n",
      "Iter 1359/3000 - Loss: 0.7411\n",
      "Iter 1360/3000 - Loss: 0.7411\n",
      "Iter 1361/3000 - Loss: 0.7411\n"
     ]
    },
    {
     "name": "stderr",
     "output_type": "stream",
     "text": [
      "Iteration:  46%|████▌     | 1370/3000 [01:38<00:46, 34.93it/s, loss=0.741]"
     ]
    },
    {
     "name": "stdout",
     "output_type": "stream",
     "text": [
      "Iter 1362/3000 - Loss: 0.7411\n",
      "Iter 1363/3000 - Loss: 0.7410\n",
      "Iter 1364/3000 - Loss: 0.7410\n",
      "Iter 1365/3000 - Loss: 0.7410\n",
      "Iter 1366/3000 - Loss: 0.7410\n",
      "Iter 1367/3000 - Loss: 0.7410\n",
      "Iter 1368/3000 - Loss: 0.7410\n",
      "Iter 1369/3000 - Loss: 0.7410\n",
      "Iter 1370/3000 - Loss: 0.7410\n"
     ]
    },
    {
     "name": "stderr",
     "output_type": "stream",
     "text": [
      "Iteration:  46%|████▌     | 1375/3000 [01:38<00:43, 37.77it/s, loss=0.741]"
     ]
    },
    {
     "name": "stdout",
     "output_type": "stream",
     "text": [
      "Iter 1371/3000 - Loss: 0.7409\n",
      "Iter 1372/3000 - Loss: 0.7409\n",
      "Iter 1373/3000 - Loss: 0.7409\n",
      "Iter 1374/3000 - Loss: 0.7409\n",
      "Iter 1375/3000 - Loss: 0.7409\n",
      "Iter 1376/3000 - Loss: 0.7409\n",
      "Iter 1377/3000 - Loss: 0.7408\n",
      "Iter 1378/3000 - Loss: 0.7408\n",
      "Iter 1379/3000 - Loss: 0.7408\n"
     ]
    },
    {
     "name": "stderr",
     "output_type": "stream",
     "text": [
      "Iteration:  46%|████▌     | 1385/3000 [01:38<00:39, 40.91it/s, loss=0.741]"
     ]
    },
    {
     "name": "stdout",
     "output_type": "stream",
     "text": [
      "Iter 1380/3000 - Loss: 0.7408\n",
      "Iter 1381/3000 - Loss: 0.7408\n",
      "Iter 1382/3000 - Loss: 0.7407\n",
      "Iter 1383/3000 - Loss: 0.7407\n",
      "Iter 1384/3000 - Loss: 0.7407\n",
      "Iter 1385/3000 - Loss: 0.7407\n"
     ]
    },
    {
     "name": "stderr",
     "output_type": "stream",
     "text": [
      "Iteration:  46%|████▌     | 1385/3000 [01:38<00:39, 40.91it/s, loss=0.741]"
     ]
    },
    {
     "name": "stdout",
     "output_type": "stream",
     "text": [
      "Iter 1386/3000 - Loss: 0.7407\n",
      "Iter 1387/3000 - Loss: 0.7406\n",
      "Iter 1388/3000 - Loss: 0.7406\n"
     ]
    },
    {
     "name": "stderr",
     "output_type": "stream",
     "text": [
      "Iteration:  46%|████▋     | 1390/3000 [01:38<01:02, 25.61it/s, loss=0.741]"
     ]
    },
    {
     "name": "stdout",
     "output_type": "stream",
     "text": [
      "Iter 1389/3000 - Loss: 0.7406\n",
      "Iter 1390/3000 - Loss: 0.7406\n"
     ]
    },
    {
     "name": "stderr",
     "output_type": "stream",
     "text": [
      "Iteration:  46%|████▋     | 1390/3000 [01:39<01:02, 25.61it/s, loss=0.74] "
     ]
    },
    {
     "name": "stdout",
     "output_type": "stream",
     "text": [
      "Iter 1391/3000 - Loss: 0.7405\n",
      "Iter 1392/3000 - Loss: 0.7405\n",
      "Iter 1393/3000 - Loss: 0.7405\n"
     ]
    },
    {
     "name": "stderr",
     "output_type": "stream",
     "text": [
      "Iteration:  46%|████▋     | 1394/3000 [01:39<02:07, 12.61it/s, loss=0.74]"
     ]
    },
    {
     "name": "stdout",
     "output_type": "stream",
     "text": [
      "Iter 1394/3000 - Loss: 0.7405\n",
      "Iter 1395/3000 - Loss: 0.7404\n"
     ]
    },
    {
     "name": "stderr",
     "output_type": "stream",
     "text": [
      "Iteration:  47%|████▋     | 1397/3000 [01:39<02:24, 11.09it/s, loss=0.74]"
     ]
    },
    {
     "name": "stdout",
     "output_type": "stream",
     "text": [
      "Iter 1396/3000 - Loss: 0.7404\n",
      "Iter 1397/3000 - Loss: 0.7404\n"
     ]
    },
    {
     "name": "stderr",
     "output_type": "stream",
     "text": [
      "\r",
      "Iteration:  47%|████▋     | 1397/3000 [01:40<02:24, 11.09it/s, loss=0.74]"
     ]
    },
    {
     "name": "stdout",
     "output_type": "stream",
     "text": [
      "Iter 1398/3000 - Loss: 0.7403\n"
     ]
    },
    {
     "name": "stderr",
     "output_type": "stream",
     "text": [
      "Iteration:  47%|████▋     | 1404/3000 [01:41<03:38,  7.31it/s, loss=0.74]"
     ]
    },
    {
     "name": "stdout",
     "output_type": "stream",
     "text": [
      "Iter 1399/3000 - Loss: 0.7403\n",
      "Iter 1400/3000 - Loss: 0.7403\n",
      "Iter 1401/3000 - Loss: 0.7402\n",
      "Iter 1402/3000 - Loss: 0.7402\n",
      "Iter 1403/3000 - Loss: 0.7402\n",
      "Iter 1404/3000 - Loss: 0.7401\n",
      "Iter 1405/3000 - Loss: 0.7401\n",
      "Iter 1406/3000 - Loss: 0.7401\n"
     ]
    },
    {
     "name": "stderr",
     "output_type": "stream",
     "text": [
      "Iteration:  47%|████▋     | 1411/3000 [01:41<02:23, 11.08it/s, loss=0.74]"
     ]
    },
    {
     "name": "stdout",
     "output_type": "stream",
     "text": [
      "Iter 1407/3000 - Loss: 0.7400\n",
      "Iter 1408/3000 - Loss: 0.7400\n",
      "Iter 1409/3000 - Loss: 0.7399\n",
      "Iter 1410/3000 - Loss: 0.7399\n",
      "Iter 1411/3000 - Loss: 0.7398\n",
      "Iter 1412/3000 - Loss: 0.7398"
     ]
    },
    {
     "name": "stderr",
     "output_type": "stream",
     "text": [
      "Iteration:  47%|████▋     | 1411/3000 [01:41<02:23, 11.08it/s, loss=0.74]"
     ]
    },
    {
     "name": "stdout",
     "output_type": "stream",
     "text": [
      "\n",
      "Iter 1413/3000 - Loss: 0.7398\n"
     ]
    },
    {
     "name": "stderr",
     "output_type": "stream",
     "text": [
      "Iteration:  47%|████▋     | 1417/3000 [01:42<02:00, 13.13it/s, loss=0.74]"
     ]
    },
    {
     "name": "stdout",
     "output_type": "stream",
     "text": [
      "Iter 1414/3000 - Loss: 0.7397\n",
      "Iter 1415/3000 - Loss: 0.7397\n",
      "Iter 1416/3000 - Loss: 0.7396\n",
      "Iter 1417/3000 - Loss: 0.7396\n",
      "Iter 1418/3000 - Loss: 0.7395\n"
     ]
    },
    {
     "name": "stderr",
     "output_type": "stream",
     "text": [
      "Iteration:  47%|████▋     | 1420/3000 [01:42<01:45, 15.03it/s, loss=0.739]"
     ]
    },
    {
     "name": "stdout",
     "output_type": "stream",
     "text": [
      "Iter 1419/3000 - Loss: 0.7394\n",
      "Iter 1420/3000 - Loss: 0.7394\n"
     ]
    },
    {
     "name": "stderr",
     "output_type": "stream",
     "text": [
      "Iteration:  47%|████▋     | 1423/3000 [01:42<02:40,  9.81it/s, loss=0.739]"
     ]
    },
    {
     "name": "stdout",
     "output_type": "stream",
     "text": [
      "Iter 1421/3000 - Loss: 0.7393\n",
      "Iter 1422/3000 - Loss: 0.7393\n",
      "Iter 1423/3000 - Loss: 0.7392\n",
      "Iter 1424/3000 - Loss: 0.7392\n"
     ]
    },
    {
     "name": "stderr",
     "output_type": "stream",
     "text": [
      "Iteration:  48%|████▊     | 1427/3000 [01:43<02:16, 11.48it/s, loss=0.739]"
     ]
    },
    {
     "name": "stdout",
     "output_type": "stream",
     "text": [
      "Iter 1425/3000 - Loss: 0.7391\n",
      "Iter 1426/3000 - Loss: 0.7390\n",
      "Iter 1427/3000 - Loss: 0.7390\n",
      "Iter 1428/3000 - Loss: 0.7389\n",
      "Iter 1429/3000 - Loss: 0.7389\n"
     ]
    },
    {
     "name": "stderr",
     "output_type": "stream",
     "text": [
      "Iteration:  48%|████▊     | 1434/3000 [01:43<01:27, 17.80it/s, loss=0.738]"
     ]
    },
    {
     "name": "stdout",
     "output_type": "stream",
     "text": [
      "Iter 1430/3000 - Loss: 0.7388\n",
      "Iter 1431/3000 - Loss: 0.7387\n",
      "Iter 1432/3000 - Loss: 0.7387\n",
      "Iter 1433/3000 - Loss: 0.7386\n",
      "Iter 1434/3000 - Loss: 0.7385\n",
      "Iter 1435/3000 - Loss: 0.7385\n"
     ]
    },
    {
     "name": "stderr",
     "output_type": "stream",
     "text": [
      "Iteration:  48%|████▊     | 1437/3000 [01:43<01:18, 19.94it/s, loss=0.738]"
     ]
    },
    {
     "name": "stdout",
     "output_type": "stream",
     "text": [
      "Iter 1436/3000 - Loss: 0.7384\n",
      "Iter 1437/3000 - Loss: 0.7383\n",
      "Iter 1438/3000 - Loss: 0.7382\n",
      "Iter 1439/3000 - Loss: 0.7382\n"
     ]
    },
    {
     "name": "stderr",
     "output_type": "stream",
     "text": [
      "Iteration:  48%|████▊     | 1440/3000 [01:44<02:44,  9.45it/s, loss=0.738]"
     ]
    },
    {
     "name": "stdout",
     "output_type": "stream",
     "text": [
      "Iter 1440/3000 - Loss: 0.7381\n"
     ]
    },
    {
     "name": "stderr",
     "output_type": "stream",
     "text": [
      "Iteration:  48%|████▊     | 1442/3000 [01:45<06:08,  4.22it/s, loss=0.738]"
     ]
    },
    {
     "name": "stdout",
     "output_type": "stream",
     "text": [
      "Iter 1441/3000 - Loss: 0.7380\n",
      "Iter 1442/3000 - Loss: 0.7379\n"
     ]
    },
    {
     "name": "stderr",
     "output_type": "stream",
     "text": [
      "Iteration:  48%|████▊     | 1444/3000 [01:45<05:12,  4.98it/s, loss=0.738]"
     ]
    },
    {
     "name": "stdout",
     "output_type": "stream",
     "text": [
      "Iter 1443/3000 - Loss: 0.7379\n",
      "Iter 1444/3000 - Loss: 0.7378\n",
      "Iter 1445/3000 - Loss: 0.7377\n"
     ]
    },
    {
     "name": "stderr",
     "output_type": "stream",
     "text": [
      "Iteration:  48%|████▊     | 1448/3000 [01:46<03:44,  6.92it/s, loss=0.737]"
     ]
    },
    {
     "name": "stdout",
     "output_type": "stream",
     "text": [
      "Iter 1446/3000 - Loss: 0.7376\n",
      "Iter 1447/3000 - Loss: 0.7376\n",
      "Iter 1448/3000 - Loss: 0.7375\n"
     ]
    },
    {
     "name": "stderr",
     "output_type": "stream",
     "text": [
      "Iteration:  48%|████▊     | 1453/3000 [01:46<02:18, 11.17it/s, loss=0.737]"
     ]
    },
    {
     "name": "stdout",
     "output_type": "stream",
     "text": [
      "Iter 1449/3000 - Loss: 0.7374\n",
      "Iter 1450/3000 - Loss: 0.7373\n",
      "Iter 1451/3000 - Loss: 0.7373\n",
      "Iter 1452/3000 - Loss: 0.7372\n",
      "Iter 1453/3000 - Loss: 0.7371\n"
     ]
    },
    {
     "name": "stderr",
     "output_type": "stream",
     "text": [
      "Iteration:  49%|████▊     | 1458/3000 [01:46<01:54, 13.52it/s, loss=0.737]"
     ]
    },
    {
     "name": "stdout",
     "output_type": "stream",
     "text": [
      "Iter 1454/3000 - Loss: 0.7370\n",
      "Iter 1455/3000 - Loss: 0.7370\n",
      "Iter 1456/3000 - Loss: 0.7369\n",
      "Iter 1457/3000 - Loss: 0.7368\n",
      "Iter 1458/3000 - Loss: 0.7367\n",
      "Iter 1459/3000 - Loss: 0.7367\n"
     ]
    },
    {
     "name": "stderr",
     "output_type": "stream",
     "text": [
      "Iteration:  49%|████▊     | 1462/3000 [01:46<02:00, 12.81it/s, loss=0.736]"
     ]
    },
    {
     "name": "stdout",
     "output_type": "stream",
     "text": [
      "Iter 1460/3000 - Loss: 0.7366\n",
      "Iter 1461/3000 - Loss: 0.7365\n",
      "Iter 1462/3000 - Loss: 0.7364\n"
     ]
    },
    {
     "name": "stderr",
     "output_type": "stream",
     "text": [
      "Iteration:  49%|████▉     | 1465/3000 [01:47<01:42, 15.01it/s, loss=0.736]"
     ]
    },
    {
     "name": "stdout",
     "output_type": "stream",
     "text": [
      "Iter 1463/3000 - Loss: 0.7364\n",
      "Iter 1464/3000 - Loss: 0.7363\n",
      "Iter 1465/3000 - Loss: 0.7362\n"
     ]
    },
    {
     "name": "stderr",
     "output_type": "stream",
     "text": [
      "Iteration:  49%|████▉     | 1467/3000 [01:47<01:42, 14.94it/s, loss=0.736]"
     ]
    },
    {
     "name": "stdout",
     "output_type": "stream",
     "text": [
      "Iter 1466/3000 - Loss: 0.7361\n",
      "Iter 1467/3000 - Loss: 0.7361\n",
      "Iter 1468/3000 - Loss: 0.7360\n",
      "Iter 1469/3000 - Loss: 0.7359\n"
     ]
    },
    {
     "name": "stderr",
     "output_type": "stream",
     "text": [
      "Iteration:  49%|████▉     | 1473/3000 [01:47<01:24, 18.18it/s, loss=0.736]"
     ]
    },
    {
     "name": "stdout",
     "output_type": "stream",
     "text": [
      "Iter 1470/3000 - Loss: 0.7359\n",
      "Iter 1471/3000 - Loss: 0.7358\n",
      "Iter 1472/3000 - Loss: 0.7357\n",
      "Iter 1473/3000 - Loss: 0.7357\n",
      "Iter 1474/3000 - Loss: 0.7356\n"
     ]
    },
    {
     "name": "stderr",
     "output_type": "stream",
     "text": [
      "Iteration:  49%|████▉     | 1475/3000 [01:47<01:24, 17.98it/s, loss=0.735]"
     ]
    },
    {
     "name": "stdout",
     "output_type": "stream",
     "text": [
      "Iter 1475/3000 - Loss: 0.7355\n",
      "Iter 1476/3000 - Loss: 0.7355\n",
      "Iter 1477/3000 - Loss: 0.7354\n"
     ]
    },
    {
     "name": "stderr",
     "output_type": "stream",
     "text": [
      "Iteration:  49%|████▉     | 1480/3000 [01:48<01:31, 16.62it/s, loss=0.735]"
     ]
    },
    {
     "name": "stdout",
     "output_type": "stream",
     "text": [
      "Iter 1478/3000 - Loss: 0.7353\n",
      "Iter 1479/3000 - Loss: 0.7353\n",
      "Iter 1480/3000 - Loss: 0.7352\n",
      "Iter 1481/3000 - Loss: 0.7352\n",
      "Iter 1482/3000 - Loss: 0.7351\n"
     ]
    },
    {
     "name": "stderr",
     "output_type": "stream",
     "text": [
      "Iteration:  49%|████▉     | 1483/3000 [01:49<04:28,  5.66it/s, loss=0.735]"
     ]
    },
    {
     "name": "stdout",
     "output_type": "stream",
     "text": [
      "Iter 1483/3000 - Loss: 0.7350\n",
      "Iter 1484/3000 - Loss: 0.7350\n"
     ]
    },
    {
     "name": "stderr",
     "output_type": "stream",
     "text": [
      "Iteration:  50%|████▉     | 1487/3000 [01:49<04:10,  6.04it/s, loss=0.735]"
     ]
    },
    {
     "name": "stdout",
     "output_type": "stream",
     "text": [
      "Iter 1485/3000 - Loss: 0.7349\n",
      "Iter 1486/3000 - Loss: 0.7349\n",
      "Iter 1487/3000 - Loss: 0.7348\n"
     ]
    },
    {
     "name": "stderr",
     "output_type": "stream",
     "text": [
      "Iteration:  50%|████▉     | 1489/3000 [01:50<04:19,  5.82it/s, loss=0.735]"
     ]
    },
    {
     "name": "stdout",
     "output_type": "stream",
     "text": [
      "Iter 1488/3000 - Loss: 0.7348\n",
      "Iter 1489/3000 - Loss: 0.7347\n",
      "Iter 1490/3000 - Loss: 0.7347\n"
     ]
    },
    {
     "name": "stderr",
     "output_type": "stream",
     "text": [
      "Iteration:  50%|████▉     | 1494/3000 [01:50<03:30,  7.15it/s, loss=0.734]"
     ]
    },
    {
     "name": "stdout",
     "output_type": "stream",
     "text": [
      "Iter 1491/3000 - Loss: 0.7346\n",
      "Iter 1492/3000 - Loss: 0.7346\n",
      "Iter 1493/3000 - Loss: 0.7345\n",
      "Iter 1494/3000 - Loss: 0.7345\n",
      "Iter 1495/3000 - Loss: 0.7344\n",
      "Iter 1496/3000 - Loss: 0.7344\n"
     ]
    },
    {
     "name": "stderr",
     "output_type": "stream",
     "text": [
      "Iteration:  50%|█████     | 1500/3000 [01:51<02:02, 12.29it/s, loss=0.734]"
     ]
    },
    {
     "name": "stdout",
     "output_type": "stream",
     "text": [
      "Iter 1497/3000 - Loss: 0.7343\n",
      "Iter 1498/3000 - Loss: 0.7343\n",
      "Iter 1499/3000 - Loss: 0.7342\n",
      "Iter 1500/3000 - Loss: 0.7342\n",
      "Iter 1501/3000 - Loss: 0.7341\n",
      "Iter 1502/3000 - Loss: 0.7341\n"
     ]
    },
    {
     "name": "stderr",
     "output_type": "stream",
     "text": [
      "Iteration:  50%|█████     | 1508/3000 [01:51<01:18, 19.11it/s, loss=0.734]"
     ]
    },
    {
     "name": "stdout",
     "output_type": "stream",
     "text": [
      "Iter 1503/3000 - Loss: 0.7340\n",
      "Iter 1504/3000 - Loss: 0.7340\n",
      "Iter 1505/3000 - Loss: 0.7340\n",
      "Iter 1506/3000 - Loss: 0.7339\n",
      "Iter 1507/3000 - Loss: 0.7339\n",
      "Iter 1508/3000 - Loss: 0.7338\n",
      "Iter 1509/3000 - Loss: 0.7338\n"
     ]
    },
    {
     "name": "stderr",
     "output_type": "stream",
     "text": [
      "Iteration:  50%|█████     | 1515/3000 [01:51<01:02, 23.70it/s, loss=0.734]"
     ]
    },
    {
     "name": "stdout",
     "output_type": "stream",
     "text": [
      "Iter 1510/3000 - Loss: 0.7338\n",
      "Iter 1511/3000 - Loss: 0.7337\n",
      "Iter 1512/3000 - Loss: 0.7337\n",
      "Iter 1513/3000 - Loss: 0.7336\n",
      "Iter 1514/3000 - Loss: 0.7336\n",
      "Iter 1515/3000 - Loss: 0.7336\n"
     ]
    },
    {
     "name": "stderr",
     "output_type": "stream",
     "text": [
      "Iteration:  51%|█████     | 1518/3000 [01:51<01:05, 22.65it/s, loss=0.733]"
     ]
    },
    {
     "name": "stdout",
     "output_type": "stream",
     "text": [
      "Iter 1516/3000 - Loss: 0.7335\n",
      "Iter 1517/3000 - Loss: 0.7335\n",
      "Iter 1518/3000 - Loss: 0.7335\n",
      "Iter 1519/3000 - Loss: 0.7334\n",
      "Iter 1520/3000 - Loss: 0.7334\n",
      "Iter 1521/3000 - Loss: 0.7334\n"
     ]
    },
    {
     "name": "stderr",
     "output_type": "stream",
     "text": [
      "Iteration:  51%|█████     | 1525/3000 [01:52<00:57, 25.73it/s, loss=0.733]"
     ]
    },
    {
     "name": "stdout",
     "output_type": "stream",
     "text": [
      "Iter 1522/3000 - Loss: 0.7333\n",
      "Iter 1523/3000 - Loss: 0.7333\n",
      "Iter 1524/3000 - Loss: 0.7333\n",
      "Iter 1525/3000 - Loss: 0.7333\n",
      "Iter 1526/3000 - Loss: 0.7332\n",
      "Iter 1527/3000 - Loss: 0.7332\n"
     ]
    },
    {
     "name": "stderr",
     "output_type": "stream",
     "text": [
      "Iteration:  51%|█████     | 1528/3000 [01:53<03:17,  7.44it/s, loss=0.733]"
     ]
    },
    {
     "name": "stdout",
     "output_type": "stream",
     "text": [
      "Iter 1528/3000 - Loss: 0.7332\n",
      "Iter 1529/3000 - Loss: 0.7331\n",
      "Iter 1530/3000 - Loss: 0.7331\n"
     ]
    },
    {
     "name": "stderr",
     "output_type": "stream",
     "text": [
      "Iteration:  51%|█████     | 1531/3000 [01:53<03:27,  7.07it/s, loss=0.733]"
     ]
    },
    {
     "name": "stdout",
     "output_type": "stream",
     "text": [
      "Iter 1531/3000 - Loss: 0.7331\n",
      "Iter 1532/3000 - Loss: 0.7331\n",
      "Iter 1533/3000 - Loss: 0.7330\n"
     ]
    },
    {
     "name": "stderr",
     "output_type": "stream",
     "text": [
      "Iteration:  51%|█████     | 1537/3000 [01:53<02:19, 10.46it/s, loss=0.733]"
     ]
    },
    {
     "name": "stdout",
     "output_type": "stream",
     "text": [
      "Iter 1534/3000 - Loss: 0.7330\n",
      "Iter 1535/3000 - Loss: 0.7330\n",
      "Iter 1536/3000 - Loss: 0.7329\n",
      "Iter 1537/3000 - Loss: 0.7329\n",
      "Iter 1538/3000 - Loss: 0.7329\n",
      "Iter 1539/3000 - Loss: 0.7329\n"
     ]
    },
    {
     "name": "stderr",
     "output_type": "stream",
     "text": [
      "Iteration:  51%|█████▏    | 1543/3000 [01:54<01:42, 14.27it/s, loss=0.733]"
     ]
    },
    {
     "name": "stdout",
     "output_type": "stream",
     "text": [
      "Iter 1540/3000 - Loss: 0.7329\n",
      "Iter 1541/3000 - Loss: 0.7328\n",
      "Iter 1542/3000 - Loss: 0.7328\n",
      "Iter 1543/3000 - Loss: 0.7328\n"
     ]
    },
    {
     "name": "stderr",
     "output_type": "stream",
     "text": [
      "Iteration:  51%|█████▏    | 1543/3000 [01:54<01:42, 14.27it/s, loss=0.733]"
     ]
    },
    {
     "name": "stdout",
     "output_type": "stream",
     "text": [
      "Iter 1544/3000 - Loss: 0.7328\n",
      "Iter 1545/3000 - Loss: 0.7327\n"
     ]
    },
    {
     "name": "stderr",
     "output_type": "stream",
     "text": [
      "Iteration:  52%|█████▏    | 1546/3000 [01:54<02:18, 10.52it/s, loss=0.733]"
     ]
    },
    {
     "name": "stdout",
     "output_type": "stream",
     "text": [
      "Iter 1546/3000 - Loss: 0.7327\n",
      "Iter 1547/3000 - Loss: 0.7327\n"
     ]
    },
    {
     "name": "stderr",
     "output_type": "stream",
     "text": [
      "Iteration:  52%|█████▏    | 1548/3000 [01:54<02:25,  9.97it/s, loss=0.733]"
     ]
    },
    {
     "name": "stdout",
     "output_type": "stream",
     "text": [
      "Iter 1548/3000 - Loss: 0.7327\n"
     ]
    },
    {
     "name": "stderr",
     "output_type": "stream",
     "text": [
      "Iteration:  52%|█████▏    | 1550/3000 [01:55<02:44,  8.82it/s, loss=0.733]"
     ]
    },
    {
     "name": "stdout",
     "output_type": "stream",
     "text": [
      "Iter 1549/3000 - Loss: 0.7326\n",
      "Iter 1550/3000 - Loss: 0.7326\n",
      "Iter 1551/3000 - Loss: 0.7326\n"
     ]
    },
    {
     "name": "stderr",
     "output_type": "stream",
     "text": [
      "Iteration:  52%|█████▏    | 1554/3000 [01:55<03:15,  7.38it/s, loss=0.733]"
     ]
    },
    {
     "name": "stdout",
     "output_type": "stream",
     "text": [
      "Iter 1552/3000 - Loss: 0.7326\n",
      "Iter 1553/3000 - Loss: 0.7326\n",
      "Iter 1554/3000 - Loss: 0.7325\n",
      "Iter 1555/3000 - Loss: 0.7325\n",
      "Iter 1556/3000 - Loss: 0.7325\n"
     ]
    },
    {
     "name": "stderr",
     "output_type": "stream",
     "text": [
      "Iteration:  52%|█████▏    | 1560/3000 [01:56<01:51, 12.94it/s, loss=0.732]"
     ]
    },
    {
     "name": "stdout",
     "output_type": "stream",
     "text": [
      "Iter 1557/3000 - Loss: 0.7325\n",
      "Iter 1558/3000 - Loss: 0.7325\n",
      "Iter 1559/3000 - Loss: 0.7325\n",
      "Iter 1560/3000 - Loss: 0.7324\n",
      "Iter 1561/3000 - Loss: 0.7324\n"
     ]
    },
    {
     "name": "stderr",
     "output_type": "stream",
     "text": [
      "Iteration:  52%|█████▏    | 1562/3000 [01:56<01:53, 12.63it/s, loss=0.732]"
     ]
    },
    {
     "name": "stdout",
     "output_type": "stream",
     "text": [
      "Iter 1562/3000 - Loss: 0.7324\n"
     ]
    },
    {
     "name": "stderr",
     "output_type": "stream",
     "text": [
      "Iteration:  52%|█████▏    | 1567/3000 [01:57<03:25,  6.99it/s, loss=0.732]"
     ]
    },
    {
     "name": "stdout",
     "output_type": "stream",
     "text": [
      "Iter 1563/3000 - Loss: 0.7324\n",
      "Iter 1564/3000 - Loss: 0.7324\n",
      "Iter 1565/3000 - Loss: 0.7323\n",
      "Iter 1566/3000 - Loss: 0.7323\n",
      "Iter 1567/3000 - Loss: 0.7323\n",
      "Iter 1568/3000 - Loss: 0.7323\n"
     ]
    },
    {
     "name": "stderr",
     "output_type": "stream",
     "text": [
      "Iteration:  52%|█████▏    | 1571/3000 [01:57<02:21, 10.13it/s, loss=0.732]"
     ]
    },
    {
     "name": "stdout",
     "output_type": "stream",
     "text": [
      "Iter 1569/3000 - Loss: 0.7323\n",
      "Iter 1570/3000 - Loss: 0.7323\n",
      "Iter 1571/3000 - Loss: 0.7322\n",
      "Iter 1572/3000 - Loss: 0.7322\n",
      "Iter 1573/3000 - Loss: 0.7322\n"
     ]
    },
    {
     "name": "stderr",
     "output_type": "stream",
     "text": [
      "Iteration:  53%|█████▎    | 1578/3000 [01:57<01:27, 16.27it/s, loss=0.732]"
     ]
    },
    {
     "name": "stdout",
     "output_type": "stream",
     "text": [
      "Iter 1574/3000 - Loss: 0.7322\n",
      "Iter 1575/3000 - Loss: 0.7322\n",
      "Iter 1576/3000 - Loss: 0.7322\n",
      "Iter 1577/3000 - Loss: 0.7321\n",
      "Iter 1578/3000 - Loss: 0.7321\n",
      "Iter 1579/3000 - Loss: 0.7321\n",
      "Iter 1580/3000 - Loss: 0.7321\n",
      "Iter 1581/3000 - Loss: 0.7321\n"
     ]
    },
    {
     "name": "stderr",
     "output_type": "stream",
     "text": [
      "Iteration:  53%|█████▎    | 1586/3000 [01:58<01:01, 22.97it/s, loss=0.732]"
     ]
    },
    {
     "name": "stdout",
     "output_type": "stream",
     "text": [
      "Iter 1582/3000 - Loss: 0.7321\n",
      "Iter 1583/3000 - Loss: 0.7321\n",
      "Iter 1584/3000 - Loss: 0.7320\n",
      "Iter 1585/3000 - Loss: 0.7320\n",
      "Iter 1586/3000 - Loss: 0.7320\n"
     ]
    },
    {
     "name": "stderr",
     "output_type": "stream",
     "text": [
      "Iteration:  53%|█████▎    | 1586/3000 [01:58<01:01, 22.97it/s, loss=0.732]"
     ]
    },
    {
     "name": "stdout",
     "output_type": "stream",
     "text": [
      "Iter 1587/3000 - Loss: 0.7320\n",
      "Iter 1588/3000 - Loss: 0.7320\n",
      "Iter 1589/3000 - Loss: 0.7320\n"
     ]
    },
    {
     "name": "stderr",
     "output_type": "stream",
     "text": [
      "Iteration:  53%|█████▎    | 1594/3000 [01:58<01:09, 20.13it/s, loss=0.732]"
     ]
    },
    {
     "name": "stdout",
     "output_type": "stream",
     "text": [
      "Iter 1590/3000 - Loss: 0.7320\n",
      "Iter 1591/3000 - Loss: 0.7320\n",
      "Iter 1592/3000 - Loss: 0.7319\n",
      "Iter 1593/3000 - Loss: 0.7319\n",
      "Iter 1594/3000 - Loss: 0.7319\n",
      "Iter 1595/3000 - Loss: 0.7319\n",
      "Iter 1596/3000 - Loss: 0.7319\n"
     ]
    },
    {
     "name": "stderr",
     "output_type": "stream",
     "text": [
      "Iteration:  53%|█████▎    | 1597/3000 [01:58<01:09, 20.20it/s, loss=0.732]"
     ]
    },
    {
     "name": "stdout",
     "output_type": "stream",
     "text": [
      "Iter 1597/3000 - Loss: 0.7319\n",
      "Iter 1598/3000 - Loss: 0.7319\n"
     ]
    },
    {
     "name": "stderr",
     "output_type": "stream",
     "text": [
      "Iteration:  53%|█████▎    | 1600/3000 [02:00<03:29,  6.68it/s, loss=0.732]"
     ]
    },
    {
     "name": "stdout",
     "output_type": "stream",
     "text": [
      "Iter 1599/3000 - Loss: 0.7319\n",
      "Iter 1600/3000 - Loss: 0.7318\n",
      "Iter 1601/3000 - Loss: 0.7318\n"
     ]
    },
    {
     "name": "stderr",
     "output_type": "stream",
     "text": [
      "Iteration:  54%|█████▎    | 1608/3000 [02:00<01:54, 12.11it/s, loss=0.732]"
     ]
    },
    {
     "name": "stdout",
     "output_type": "stream",
     "text": [
      "Iter 1602/3000 - Loss: 0.7318\n",
      "Iter 1603/3000 - Loss: 0.7318\n",
      "Iter 1604/3000 - Loss: 0.7318\n",
      "Iter 1605/3000 - Loss: 0.7318\n",
      "Iter 1606/3000 - Loss: 0.7318\n",
      "Iter 1607/3000 - Loss: 0.7318\n",
      "Iter 1608/3000 - Loss: 0.7317\n"
     ]
    },
    {
     "name": "stderr",
     "output_type": "stream",
     "text": [
      "Iteration:  54%|█████▎    | 1608/3000 [02:00<01:54, 12.11it/s, loss=0.732]"
     ]
    },
    {
     "name": "stdout",
     "output_type": "stream",
     "text": [
      "Iter 1609/3000 - Loss: 0.7317\n",
      "Iter 1610/3000 - Loss: 0.7317\n"
     ]
    },
    {
     "name": "stderr",
     "output_type": "stream",
     "text": [
      "Iteration:  54%|█████▎    | 1611/3000 [02:00<02:10, 10.63it/s, loss=0.732]"
     ]
    },
    {
     "name": "stdout",
     "output_type": "stream",
     "text": [
      "Iter 1611/3000 - Loss: 0.7317\n",
      "Iter 1612/3000 - Loss: 0.7317\n",
      "Iter 1613/3000 - Loss: 0.7317\n"
     ]
    },
    {
     "name": "stderr",
     "output_type": "stream",
     "text": [
      "Iteration:  54%|█████▍    | 1617/3000 [02:01<01:44, 13.26it/s, loss=0.732]"
     ]
    },
    {
     "name": "stdout",
     "output_type": "stream",
     "text": [
      "Iter 1614/3000 - Loss: 0.7317\n",
      "Iter 1615/3000 - Loss: 0.7317\n",
      "Iter 1616/3000 - Loss: 0.7317\n",
      "Iter 1617/3000 - Loss: 0.7316\n",
      "Iter 1618/3000 - Loss: 0.7316\n"
     ]
    },
    {
     "name": "stderr",
     "output_type": "stream",
     "text": [
      "Iteration:  54%|█████▍    | 1624/3000 [02:01<01:15, 18.33it/s, loss=0.732]"
     ]
    },
    {
     "name": "stdout",
     "output_type": "stream",
     "text": [
      "Iter 1619/3000 - Loss: 0.7316\n",
      "Iter 1620/3000 - Loss: 0.7316\n",
      "Iter 1621/3000 - Loss: 0.7316\n",
      "Iter 1622/3000 - Loss: 0.7316\n",
      "Iter 1623/3000 - Loss: 0.7316\n",
      "Iter 1624/3000 - Loss: 0.7316\n"
     ]
    },
    {
     "name": "stderr",
     "output_type": "stream",
     "text": [
      "Iteration:  54%|█████▍    | 1624/3000 [02:01<01:15, 18.33it/s, loss=0.732]"
     ]
    },
    {
     "name": "stdout",
     "output_type": "stream",
     "text": [
      "Iter 1625/3000 - Loss: 0.7316\n",
      "Iter 1626/3000 - Loss: 0.7316\n"
     ]
    },
    {
     "name": "stderr",
     "output_type": "stream",
     "text": [
      "Iteration:  54%|█████▍    | 1630/3000 [02:01<01:41, 13.50it/s, loss=0.732]"
     ]
    },
    {
     "name": "stdout",
     "output_type": "stream",
     "text": [
      "Iter 1627/3000 - Loss: 0.7315\n",
      "Iter 1628/3000 - Loss: 0.7315\n",
      "Iter 1629/3000 - Loss: 0.7315\n",
      "Iter 1630/3000 - Loss: 0.7315\n",
      "Iter 1631/3000 - Loss: 0.7315\n"
     ]
    },
    {
     "name": "stderr",
     "output_type": "stream",
     "text": [
      "Iteration:  55%|█████▍    | 1635/3000 [02:02<01:30, 15.05it/s, loss=0.731]"
     ]
    },
    {
     "name": "stdout",
     "output_type": "stream",
     "text": [
      "Iter 1632/3000 - Loss: 0.7315\n",
      "Iter 1633/3000 - Loss: 0.7315\n",
      "Iter 1634/3000 - Loss: 0.7315\n",
      "Iter 1635/3000 - Loss: 0.7315\n"
     ]
    },
    {
     "name": "stderr",
     "output_type": "stream",
     "text": [
      "Iteration:  55%|█████▍    | 1641/3000 [02:02<01:20, 16.85it/s, loss=0.731]"
     ]
    },
    {
     "name": "stdout",
     "output_type": "stream",
     "text": [
      "Iter 1636/3000 - Loss: 0.7315\n",
      "Iter 1637/3000 - Loss: 0.7314\n",
      "Iter 1638/3000 - Loss: 0.7314\n",
      "Iter 1639/3000 - Loss: 0.7314\n",
      "Iter 1640/3000 - Loss: 0.7314\n",
      "Iter 1641/3000 - Loss: 0.7314\n",
      "Iter 1642/3000 - Loss: 0.7314\n",
      "Iter 1643/3000 - Loss: 0.7314\n"
     ]
    },
    {
     "name": "stderr",
     "output_type": "stream",
     "text": [
      "Iteration:  55%|█████▍    | 1645/3000 [02:02<01:06, 20.46it/s, loss=0.731]"
     ]
    },
    {
     "name": "stdout",
     "output_type": "stream",
     "text": [
      "Iter 1644/3000 - Loss: 0.7314\n",
      "Iter 1645/3000 - Loss: 0.7314\n",
      "Iter 1646/3000 - Loss: 0.7314\n",
      "Iter 1647/3000 - Loss: 0.7314\n",
      "Iter 1648/3000 - Loss: 0.7313\n",
      "Iter 1649/3000 - Loss: 0.7313\n"
     ]
    },
    {
     "name": "stderr",
     "output_type": "stream",
     "text": [
      "Iteration:  55%|█████▌    | 1650/3000 [02:02<01:00, 22.24it/s, loss=0.731]"
     ]
    },
    {
     "name": "stdout",
     "output_type": "stream",
     "text": [
      "Iter 1650/3000 - Loss: 0.7313\n",
      "Iter 1651/3000 - Loss: 0.7313\n",
      "Iter 1652/3000 - Loss: 0.7313\n"
     ]
    },
    {
     "name": "stderr",
     "output_type": "stream",
     "text": [
      "Iteration:  55%|█████▌    | 1653/3000 [02:03<02:24,  9.29it/s, loss=0.731]"
     ]
    },
    {
     "name": "stdout",
     "output_type": "stream",
     "text": [
      "Iter 1653/3000 - Loss: 0.7313\n"
     ]
    },
    {
     "name": "stderr",
     "output_type": "stream",
     "text": [
      "\r",
      "Iteration:  55%|█████▌    | 1653/3000 [02:04<02:24,  9.29it/s, loss=0.731]"
     ]
    },
    {
     "name": "stdout",
     "output_type": "stream",
     "text": [
      "Iter 1654/3000 - Loss: 0.7313\n"
     ]
    },
    {
     "name": "stderr",
     "output_type": "stream",
     "text": [
      "Iteration:  55%|█████▌    | 1658/3000 [02:05<03:19,  6.73it/s, loss=0.731]"
     ]
    },
    {
     "name": "stdout",
     "output_type": "stream",
     "text": [
      "Iter 1655/3000 - Loss: 0.7313\n",
      "Iter 1656/3000 - Loss: 0.7313\n",
      "Iter 1657/3000 - Loss: 0.7313\n",
      "Iter 1658/3000 - Loss: 0.7313\n",
      "Iter 1659/3000 - Loss: 0.7312\n",
      "Iter 1660/3000 - Loss: 0.7312\n",
      "Iter 1661/3000 - Loss: 0.7312\n"
     ]
    },
    {
     "name": "stderr",
     "output_type": "stream",
     "text": [
      "Iteration:  56%|█████▌    | 1666/3000 [02:05<01:46, 12.56it/s, loss=0.731]"
     ]
    },
    {
     "name": "stdout",
     "output_type": "stream",
     "text": [
      "Iter 1662/3000 - Loss: 0.7312\n",
      "Iter 1663/3000 - Loss: 0.7312\n",
      "Iter 1664/3000 - Loss: 0.7312\n",
      "Iter 1665/3000 - Loss: 0.7312\n",
      "Iter 1666/3000 - Loss: 0.7312\n",
      "Iter 1667/3000 - Loss: 0.7312\n",
      "Iter 1668/3000 - Loss: 0.7312\n"
     ]
    },
    {
     "name": "stderr",
     "output_type": "stream",
     "text": [
      "Iteration:  56%|█████▌    | 1674/3000 [02:05<01:10, 18.79it/s, loss=0.731]"
     ]
    },
    {
     "name": "stdout",
     "output_type": "stream",
     "text": [
      "Iter 1669/3000 - Loss: 0.7312\n",
      "Iter 1670/3000 - Loss: 0.7312\n",
      "Iter 1671/3000 - Loss: 0.7311\n",
      "Iter 1672/3000 - Loss: 0.7311\n",
      "Iter 1673/3000 - Loss: 0.7311\n",
      "Iter 1674/3000 - Loss: 0.7311\n",
      "Iter 1675/3000 - Loss: 0.7311\n"
     ]
    },
    {
     "name": "stderr",
     "output_type": "stream",
     "text": [
      "Iteration:  56%|█████▌    | 1680/3000 [02:05<00:59, 22.14it/s, loss=0.731]"
     ]
    },
    {
     "name": "stdout",
     "output_type": "stream",
     "text": [
      "Iter 1676/3000 - Loss: 0.7311\n",
      "Iter 1677/3000 - Loss: 0.7311\n",
      "Iter 1678/3000 - Loss: 0.7311\n",
      "Iter 1679/3000 - Loss: 0.7311\n",
      "Iter 1680/3000 - Loss: 0.7311\n",
      "Iter 1681/3000 - Loss: 0.7311\n"
     ]
    },
    {
     "name": "stderr",
     "output_type": "stream",
     "text": [
      "Iteration:  56%|█████▌    | 1686/3000 [02:05<00:59, 22.07it/s, loss=0.731]"
     ]
    },
    {
     "name": "stdout",
     "output_type": "stream",
     "text": [
      "Iter 1682/3000 - Loss: 0.7310\n",
      "Iter 1683/3000 - Loss: 0.7310\n",
      "Iter 1684/3000 - Loss: 0.7310\n",
      "Iter 1685/3000 - Loss: 0.7310\n",
      "Iter 1686/3000 - Loss: 0.7310\n"
     ]
    },
    {
     "name": "stderr",
     "output_type": "stream",
     "text": [
      "Iteration:  56%|█████▋    | 1694/3000 [02:06<00:47, 27.73it/s, loss=0.731]"
     ]
    },
    {
     "name": "stdout",
     "output_type": "stream",
     "text": [
      "Iter 1687/3000 - Loss: 0.7310\n",
      "Iter 1688/3000 - Loss: 0.7310\n",
      "Iter 1689/3000 - Loss: 0.7310\n",
      "Iter 1690/3000 - Loss: 0.7310\n",
      "Iter 1691/3000 - Loss: 0.7310\n",
      "Iter 1692/3000 - Loss: 0.7310\n",
      "Iter 1693/3000 - Loss: 0.7310\n",
      "Iter 1694/3000 - Loss: 0.7309\n"
     ]
    },
    {
     "name": "stderr",
     "output_type": "stream",
     "text": [
      "Iteration:  57%|█████▋    | 1698/3000 [02:06<00:44, 29.13it/s, loss=0.731]"
     ]
    },
    {
     "name": "stdout",
     "output_type": "stream",
     "text": [
      "Iter 1695/3000 - Loss: 0.7309\n",
      "Iter 1696/3000 - Loss: 0.7309\n",
      "Iter 1697/3000 - Loss: 0.7309\n",
      "Iter 1698/3000 - Loss: 0.7309\n",
      "Iter 1699/3000 - Loss: 0.7309\n",
      "Iter 1700/3000 - Loss: 0.7309\n",
      "Iter 1701/3000 - Loss: 0.7309\n"
     ]
    },
    {
     "name": "stderr",
     "output_type": "stream",
     "text": [
      "Iteration:  57%|█████▋    | 1706/3000 [02:06<00:45, 28.62it/s, loss=0.731]"
     ]
    },
    {
     "name": "stdout",
     "output_type": "stream",
     "text": [
      "Iter 1702/3000 - Loss: 0.7309\n",
      "Iter 1703/3000 - Loss: 0.7309\n",
      "Iter 1704/3000 - Loss: 0.7309\n",
      "Iter 1705/3000 - Loss: 0.7308\n",
      "Iter 1706/3000 - Loss: 0.7308\n",
      "Iter 1707/3000 - Loss: 0.7308\n",
      "Iter 1708/3000 - Loss: 0.7308\n"
     ]
    },
    {
     "name": "stderr",
     "output_type": "stream",
     "text": [
      "Iteration:  57%|█████▋    | 1710/3000 [02:06<00:42, 30.28it/s, loss=0.731]"
     ]
    },
    {
     "name": "stdout",
     "output_type": "stream",
     "text": [
      "Iter 1709/3000 - Loss: 0.7308\n",
      "Iter 1710/3000 - Loss: 0.7308\n"
     ]
    },
    {
     "name": "stderr",
     "output_type": "stream",
     "text": [
      "Iteration:  57%|█████▋    | 1714/3000 [02:07<02:19,  9.21it/s, loss=0.731]"
     ]
    },
    {
     "name": "stdout",
     "output_type": "stream",
     "text": [
      "Iter 1711/3000 - Loss: 0.7308\n",
      "Iter 1712/3000 - Loss: 0.7308\n",
      "Iter 1713/3000 - Loss: 0.7308\n",
      "Iter 1714/3000 - Loss: 0.7308\n",
      "Iter 1715/3000 - Loss: 0.7308\n"
     ]
    },
    {
     "name": "stderr",
     "output_type": "stream",
     "text": [
      "Iteration:  57%|█████▋    | 1719/3000 [02:07<01:41, 12.62it/s, loss=0.731]"
     ]
    },
    {
     "name": "stdout",
     "output_type": "stream",
     "text": [
      "Iter 1716/3000 - Loss: 0.7307\n",
      "Iter 1717/3000 - Loss: 0.7307\n",
      "Iter 1718/3000 - Loss: 0.7307\n",
      "Iter 1719/3000 - Loss: 0.7307\n"
     ]
    },
    {
     "name": "stderr",
     "output_type": "stream",
     "text": [
      "Iteration:  57%|█████▋    | 1722/3000 [02:08<01:41, 12.63it/s, loss=0.731]"
     ]
    },
    {
     "name": "stdout",
     "output_type": "stream",
     "text": [
      "Iter 1720/3000 - Loss: 0.7307\n",
      "Iter 1721/3000 - Loss: 0.7307\n",
      "Iter 1722/3000 - Loss: 0.7307\n",
      "Iter 1723/3000 - Loss: 0.7307\n"
     ]
    },
    {
     "name": "stderr",
     "output_type": "stream",
     "text": [
      "Iteration:  58%|█████▊    | 1728/3000 [02:08<01:25, 14.84it/s, loss=0.731]"
     ]
    },
    {
     "name": "stdout",
     "output_type": "stream",
     "text": [
      "Iter 1724/3000 - Loss: 0.7307\n",
      "Iter 1725/3000 - Loss: 0.7307\n",
      "Iter 1726/3000 - Loss: 0.7306\n",
      "Iter 1727/3000 - Loss: 0.7306\n",
      "Iter 1728/3000 - Loss: 0.7306\n"
     ]
    },
    {
     "name": "stderr",
     "output_type": "stream",
     "text": [
      "Iteration:  58%|█████▊    | 1731/3000 [02:08<01:22, 15.46it/s, loss=0.731]"
     ]
    },
    {
     "name": "stdout",
     "output_type": "stream",
     "text": [
      "Iter 1729/3000 - Loss: 0.7306\n",
      "Iter 1730/3000 - Loss: 0.7306\n",
      "Iter 1731/3000 - Loss: 0.7306\n",
      "Iter 1732/3000 - Loss: 0.7306\n",
      "Iter 1733/3000 - Loss: 0.7306\n"
     ]
    },
    {
     "name": "stderr",
     "output_type": "stream",
     "text": [
      "Iteration:  58%|█████▊    | 1739/3000 [02:08<00:57, 22.11it/s, loss=0.73] "
     ]
    },
    {
     "name": "stdout",
     "output_type": "stream",
     "text": [
      "Iter 1734/3000 - Loss: 0.7306\n",
      "Iter 1735/3000 - Loss: 0.7306\n",
      "Iter 1736/3000 - Loss: 0.7305\n",
      "Iter 1737/3000 - Loss: 0.7305\n",
      "Iter 1738/3000 - Loss: 0.7305\n",
      "Iter 1739/3000 - Loss: 0.7305\n",
      "Iter 1740/3000 - Loss: 0.7305\n",
      "Iter 1741/3000 - Loss: 0.7305\n"
     ]
    },
    {
     "name": "stderr",
     "output_type": "stream",
     "text": [
      "Iteration:  58%|█████▊    | 1747/3000 [02:09<00:46, 26.68it/s, loss=0.73]"
     ]
    },
    {
     "name": "stdout",
     "output_type": "stream",
     "text": [
      "Iter 1742/3000 - Loss: 0.7305\n",
      "Iter 1743/3000 - Loss: 0.7305\n",
      "Iter 1744/3000 - Loss: 0.7304\n",
      "Iter 1745/3000 - Loss: 0.7304\n",
      "Iter 1746/3000 - Loss: 0.7304\n",
      "Iter 1747/3000 - Loss: 0.7304\n",
      "Iter 1748/3000 - Loss: 0.7304\n"
     ]
    },
    {
     "name": "stderr",
     "output_type": "stream",
     "text": [
      "Iteration:  58%|█████▊    | 1755/3000 [02:09<00:41, 30.12it/s, loss=0.73]"
     ]
    },
    {
     "name": "stdout",
     "output_type": "stream",
     "text": [
      "Iter 1749/3000 - Loss: 0.7304\n",
      "Iter 1750/3000 - Loss: 0.7304\n",
      "Iter 1751/3000 - Loss: 0.7304\n",
      "Iter 1752/3000 - Loss: 0.7304\n",
      "Iter 1753/3000 - Loss: 0.7303\n",
      "Iter 1754/3000 - Loss: 0.7303\n",
      "Iter 1755/3000 - Loss: 0.7303\n",
      "Iter 1756/3000 - Loss: 0.7303\n"
     ]
    },
    {
     "name": "stderr",
     "output_type": "stream",
     "text": [
      "Iteration:  59%|█████▉    | 1763/3000 [02:09<00:41, 29.84it/s, loss=0.73]"
     ]
    },
    {
     "name": "stdout",
     "output_type": "stream",
     "text": [
      "Iter 1757/3000 - Loss: 0.7303\n",
      "Iter 1758/3000 - Loss: 0.7303\n",
      "Iter 1759/3000 - Loss: 0.7303\n",
      "Iter 1760/3000 - Loss: 0.7303\n",
      "Iter 1761/3000 - Loss: 0.7302\n",
      "Iter 1762/3000 - Loss: 0.7302\n",
      "Iter 1763/3000 - Loss: 0.7302\n"
     ]
    },
    {
     "name": "stderr",
     "output_type": "stream",
     "text": [
      "Iteration:  59%|█████▉    | 1767/3000 [02:09<00:41, 30.02it/s, loss=0.73]"
     ]
    },
    {
     "name": "stdout",
     "output_type": "stream",
     "text": [
      "Iter 1764/3000 - Loss: 0.7302\n",
      "Iter 1765/3000 - Loss: 0.7302\n",
      "Iter 1766/3000 - Loss: 0.7302\n",
      "Iter 1767/3000 - Loss: 0.7302\n",
      "Iter 1768/3000 - Loss: 0.7301\n"
     ]
    },
    {
     "name": "stderr",
     "output_type": "stream",
     "text": [
      "\r",
      "Iteration:  59%|█████▉    | 1767/3000 [02:09<00:41, 30.02it/s, loss=0.73]"
     ]
    },
    {
     "name": "stdout",
     "output_type": "stream",
     "text": [
      "Iter 1769/3000 - Loss: 0.7301\n"
     ]
    },
    {
     "name": "stderr",
     "output_type": "stream",
     "text": [
      "\r",
      "Iteration:  59%|█████▉    | 1767/3000 [02:10<00:41, 30.02it/s, loss=0.73]"
     ]
    },
    {
     "name": "stdout",
     "output_type": "stream",
     "text": [
      "Iter 1770/3000 - Loss: 0.7301\n"
     ]
    },
    {
     "name": "stderr",
     "output_type": "stream",
     "text": [
      "Iteration:  59%|█████▉    | 1771/3000 [02:11<02:44,  7.46it/s, loss=0.73]"
     ]
    },
    {
     "name": "stdout",
     "output_type": "stream",
     "text": [
      "Iter 1771/3000 - Loss: 0.7301\n",
      "Iter 1772/3000 - Loss: 0.7301\n"
     ]
    },
    {
     "name": "stderr",
     "output_type": "stream",
     "text": [
      "Iteration:  59%|█████▉    | 1774/3000 [02:11<02:40,  7.63it/s, loss=0.73]"
     ]
    },
    {
     "name": "stdout",
     "output_type": "stream",
     "text": [
      "Iter 1773/3000 - Loss: 0.7301\n",
      "Iter 1774/3000 - Loss: 0.7301\n"
     ]
    },
    {
     "name": "stderr",
     "output_type": "stream",
     "text": [
      "Iteration:  59%|█████▉    | 1776/3000 [02:11<02:38,  7.74it/s, loss=0.73]"
     ]
    },
    {
     "name": "stdout",
     "output_type": "stream",
     "text": [
      "Iter 1775/3000 - Loss: 0.7300\n",
      "Iter 1776/3000 - Loss: 0.7300\n",
      "Iter 1777/3000 - Loss: 0.7300\n"
     ]
    },
    {
     "name": "stderr",
     "output_type": "stream",
     "text": [
      "Iteration:  59%|█████▉    | 1782/3000 [02:12<01:43, 11.76it/s, loss=0.73]"
     ]
    },
    {
     "name": "stdout",
     "output_type": "stream",
     "text": [
      "Iter 1778/3000 - Loss: 0.7300\n",
      "Iter 1779/3000 - Loss: 0.7300\n",
      "Iter 1780/3000 - Loss: 0.7300\n",
      "Iter 1781/3000 - Loss: 0.7299\n",
      "Iter 1782/3000 - Loss: 0.7299\n",
      "Iter 1783/3000 - Loss: 0.7299\n"
     ]
    },
    {
     "name": "stderr",
     "output_type": "stream",
     "text": [
      "Iteration:  60%|█████▉    | 1790/3000 [02:12<01:06, 18.24it/s, loss=0.73]"
     ]
    },
    {
     "name": "stdout",
     "output_type": "stream",
     "text": [
      "Iter 1784/3000 - Loss: 0.7299\n",
      "Iter 1785/3000 - Loss: 0.7299\n",
      "Iter 1786/3000 - Loss: 0.7299\n",
      "Iter 1787/3000 - Loss: 0.7298\n",
      "Iter 1788/3000 - Loss: 0.7298\n",
      "Iter 1789/3000 - Loss: 0.7298\n",
      "Iter 1790/3000 - Loss: 0.7298\n"
     ]
    },
    {
     "name": "stderr",
     "output_type": "stream",
     "text": [
      "Iteration:  60%|█████▉    | 1790/3000 [02:12<01:06, 18.24it/s, loss=0.73]"
     ]
    },
    {
     "name": "stdout",
     "output_type": "stream",
     "text": [
      "Iter 1791/3000 - Loss: 0.7298\n",
      "Iter 1792/3000 - Loss: 0.7298\n"
     ]
    },
    {
     "name": "stderr",
     "output_type": "stream",
     "text": [
      "Iteration:  60%|█████▉    | 1793/3000 [02:12<01:18, 15.32it/s, loss=0.73]"
     ]
    },
    {
     "name": "stdout",
     "output_type": "stream",
     "text": [
      "Iter 1793/3000 - Loss: 0.7297\n",
      "Iter 1794/3000 - Loss: 0.7297\n",
      "Iter 1795/3000 - Loss: 0.7297\n"
     ]
    },
    {
     "name": "stderr",
     "output_type": "stream",
     "text": [
      "Iteration:  60%|█████▉    | 1796/3000 [02:12<01:22, 14.58it/s, loss=0.73]"
     ]
    },
    {
     "name": "stdout",
     "output_type": "stream",
     "text": [
      "Iter 1796/3000 - Loss: 0.7297\n",
      "Iter 1797/3000 - Loss: 0.7297\n"
     ]
    },
    {
     "name": "stderr",
     "output_type": "stream",
     "text": [
      "Iteration:  60%|█████▉    | 1798/3000 [02:13<01:31, 13.07it/s, loss=0.73]"
     ]
    },
    {
     "name": "stdout",
     "output_type": "stream",
     "text": [
      "Iter 1798/3000 - Loss: 0.7297\n"
     ]
    },
    {
     "name": "stderr",
     "output_type": "stream",
     "text": [
      "Iteration:  60%|██████    | 1800/3000 [02:14<04:04,  4.90it/s, loss=0.73]"
     ]
    },
    {
     "name": "stdout",
     "output_type": "stream",
     "text": [
      "Iter 1799/3000 - Loss: 0.7296\n",
      "Iter 1800/3000 - Loss: 0.7296\n"
     ]
    },
    {
     "name": "stderr",
     "output_type": "stream",
     "text": [
      "Iteration:  60%|██████    | 1804/3000 [02:14<02:44,  7.29it/s, loss=0.73]"
     ]
    },
    {
     "name": "stdout",
     "output_type": "stream",
     "text": [
      "Iter 1801/3000 - Loss: 0.7296\n",
      "Iter 1802/3000 - Loss: 0.7296\n",
      "Iter 1803/3000 - Loss: 0.7296\n",
      "Iter 1804/3000 - Loss: 0.7295\n",
      "Iter 1805/3000 - Loss: 0.7295\n",
      "Iter 1806/3000 - Loss: 0.7295\n"
     ]
    },
    {
     "name": "stderr",
     "output_type": "stream",
     "text": [
      "Iteration:  60%|██████    | 1810/3000 [02:14<01:44, 11.34it/s, loss=0.729]"
     ]
    },
    {
     "name": "stdout",
     "output_type": "stream",
     "text": [
      "Iter 1807/3000 - Loss: 0.7295\n",
      "Iter 1808/3000 - Loss: 0.7295\n",
      "Iter 1809/3000 - Loss: 0.7295\n",
      "Iter 1810/3000 - Loss: 0.7294\n",
      "Iter 1811/3000 - Loss: 0.7294\n",
      "Iter 1812/3000 - Loss: 0.7294\n"
     ]
    },
    {
     "name": "stderr",
     "output_type": "stream",
     "text": [
      "Iteration:  60%|██████    | 1815/3000 [02:15<02:04,  9.52it/s, loss=0.729]"
     ]
    },
    {
     "name": "stdout",
     "output_type": "stream",
     "text": [
      "Iter 1813/3000 - Loss: 0.7294\n",
      "Iter 1814/3000 - Loss: 0.7294\n",
      "Iter 1815/3000 - Loss: 0.7293\n"
     ]
    },
    {
     "name": "stderr",
     "output_type": "stream",
     "text": [
      "Iteration:  61%|██████    | 1817/3000 [02:15<02:06,  9.33it/s, loss=0.729]"
     ]
    },
    {
     "name": "stdout",
     "output_type": "stream",
     "text": [
      "Iter 1816/3000 - Loss: 0.7293\n",
      "Iter 1817/3000 - Loss: 0.7293\n",
      "Iter 1818/3000 - Loss: 0.7293\n"
     ]
    },
    {
     "name": "stderr",
     "output_type": "stream",
     "text": [
      "Iteration:  61%|██████    | 1821/3000 [02:16<01:59,  9.90it/s, loss=0.729]"
     ]
    },
    {
     "name": "stdout",
     "output_type": "stream",
     "text": [
      "Iter 1819/3000 - Loss: 0.7293\n",
      "Iter 1820/3000 - Loss: 0.7293\n",
      "Iter 1821/3000 - Loss: 0.7292\n"
     ]
    },
    {
     "name": "stderr",
     "output_type": "stream",
     "text": [
      "Iteration:  61%|██████    | 1824/3000 [02:16<01:34, 12.45it/s, loss=0.729]"
     ]
    },
    {
     "name": "stdout",
     "output_type": "stream",
     "text": [
      "Iter 1822/3000 - Loss: 0.7292\n",
      "Iter 1823/3000 - Loss: 0.7292\n",
      "Iter 1824/3000 - Loss: 0.7292\n",
      "Iter 1825/3000 - Loss: 0.7292\n",
      "Iter 1826/3000 - Loss: 0.7291\n"
     ]
    },
    {
     "name": "stderr",
     "output_type": "stream",
     "text": [
      "Iteration:  61%|██████    | 1827/3000 [02:17<03:42,  5.28it/s, loss=0.729]"
     ]
    },
    {
     "name": "stdout",
     "output_type": "stream",
     "text": [
      "Iter 1827/3000 - Loss: 0.7291\n",
      "Iter 1828/3000 - Loss: 0.7291\n"
     ]
    },
    {
     "name": "stderr",
     "output_type": "stream",
     "text": [
      "Iteration:  61%|██████    | 1831/3000 [02:18<03:25,  5.68it/s, loss=0.729]"
     ]
    },
    {
     "name": "stdout",
     "output_type": "stream",
     "text": [
      "Iter 1829/3000 - Loss: 0.7291\n",
      "Iter 1830/3000 - Loss: 0.7291\n",
      "Iter 1831/3000 - Loss: 0.7290\n"
     ]
    },
    {
     "name": "stderr",
     "output_type": "stream",
     "text": [
      "Iteration:  61%|██████    | 1833/3000 [02:18<02:49,  6.88it/s, loss=0.729]"
     ]
    },
    {
     "name": "stdout",
     "output_type": "stream",
     "text": [
      "Iter 1832/3000 - Loss: 0.7290\n",
      "Iter 1833/3000 - Loss: 0.7290\n"
     ]
    },
    {
     "name": "stderr",
     "output_type": "stream",
     "text": [
      "\r",
      "Iteration:  61%|██████    | 1833/3000 [02:18<02:49,  6.88it/s, loss=0.729]"
     ]
    },
    {
     "name": "stdout",
     "output_type": "stream",
     "text": [
      "Iter 1834/3000 - Loss: 0.7290\n"
     ]
    },
    {
     "name": "stderr",
     "output_type": "stream",
     "text": [
      "Iteration:  61%|██████▏   | 1838/3000 [02:19<03:12,  6.04it/s, loss=0.729]"
     ]
    },
    {
     "name": "stdout",
     "output_type": "stream",
     "text": [
      "Iter 1835/3000 - Loss: 0.7290\n",
      "Iter 1836/3000 - Loss: 0.7290\n",
      "Iter 1837/3000 - Loss: 0.7289\n",
      "Iter 1838/3000 - Loss: 0.7289\n"
     ]
    },
    {
     "name": "stderr",
     "output_type": "stream",
     "text": [
      "Iteration:  61%|██████▏   | 1840/3000 [02:19<02:42,  7.16it/s, loss=0.729]"
     ]
    },
    {
     "name": "stdout",
     "output_type": "stream",
     "text": [
      "Iter 1839/3000 - Loss: 0.7289\n",
      "Iter 1840/3000 - Loss: 0.7289\n",
      "Iter 1841/3000 - Loss: 0.7289\n"
     ]
    },
    {
     "name": "stderr",
     "output_type": "stream",
     "text": [
      "Iteration:  61%|██████▏   | 1842/3000 [02:19<02:16,  8.47it/s, loss=0.729]"
     ]
    },
    {
     "name": "stdout",
     "output_type": "stream",
     "text": [
      "Iter 1842/3000 - Loss: 0.7288\n",
      "Iter 1843/3000 - Loss: 0.7288\n"
     ]
    },
    {
     "name": "stderr",
     "output_type": "stream",
     "text": [
      "Iteration:  61%|██████▏   | 1844/3000 [02:19<02:48,  6.85it/s, loss=0.729]"
     ]
    },
    {
     "name": "stdout",
     "output_type": "stream",
     "text": [
      "Iter 1844/3000 - Loss: 0.7288\n"
     ]
    },
    {
     "name": "stderr",
     "output_type": "stream",
     "text": [
      "Iteration:  62%|██████▏   | 1846/3000 [02:20<02:57,  6.49it/s, loss=0.729]"
     ]
    },
    {
     "name": "stdout",
     "output_type": "stream",
     "text": [
      "Iter 1845/3000 - Loss: 0.7288\n",
      "Iter 1846/3000 - Loss: 0.7288\n",
      "Iter 1847/3000 - Loss: 0.7288\n",
      "Iter 1848/3000 - Loss: 0.7287\n"
     ]
    },
    {
     "name": "stderr",
     "output_type": "stream",
     "text": [
      "Iteration:  62%|██████▏   | 1849/3000 [02:21<04:20,  4.42it/s, loss=0.729]"
     ]
    },
    {
     "name": "stdout",
     "output_type": "stream",
     "text": [
      "Iter 1849/3000 - Loss: 0.7287\n"
     ]
    },
    {
     "name": "stderr",
     "output_type": "stream",
     "text": [
      "Iteration:  62%|██████▏   | 1852/3000 [02:21<03:32,  5.39it/s, loss=0.729]"
     ]
    },
    {
     "name": "stdout",
     "output_type": "stream",
     "text": [
      "Iter 1850/3000 - Loss: 0.7287\n",
      "Iter 1851/3000 - Loss: 0.7287\n",
      "Iter 1852/3000 - Loss: 0.7287\n"
     ]
    },
    {
     "name": "stderr",
     "output_type": "stream",
     "text": [
      "Iteration:  62%|██████▏   | 1854/3000 [02:21<02:47,  6.83it/s, loss=0.729]"
     ]
    },
    {
     "name": "stdout",
     "output_type": "stream",
     "text": [
      "Iter 1853/3000 - Loss: 0.7286\n",
      "Iter 1854/3000 - Loss: 0.7286\n"
     ]
    },
    {
     "name": "stderr",
     "output_type": "stream",
     "text": [
      "Iteration:  62%|██████▏   | 1858/3000 [02:22<02:24,  7.91it/s, loss=0.729]"
     ]
    },
    {
     "name": "stdout",
     "output_type": "stream",
     "text": [
      "Iter 1855/3000 - Loss: 0.7286\n",
      "Iter 1856/3000 - Loss: 0.7286\n",
      "Iter 1857/3000 - Loss: 0.7286\n",
      "Iter 1858/3000 - Loss: 0.7286\n"
     ]
    },
    {
     "name": "stderr",
     "output_type": "stream",
     "text": [
      "Iteration:  62%|██████▏   | 1865/3000 [02:22<01:14, 15.28it/s, loss=0.728]"
     ]
    },
    {
     "name": "stdout",
     "output_type": "stream",
     "text": [
      "Iter 1859/3000 - Loss: 0.7285\n",
      "Iter 1860/3000 - Loss: 0.7285\n",
      "Iter 1861/3000 - Loss: 0.7285\n",
      "Iter 1862/3000 - Loss: 0.7285\n",
      "Iter 1863/3000 - Loss: 0.7285\n",
      "Iter 1864/3000 - Loss: 0.7285\n",
      "Iter 1865/3000 - Loss: 0.7285\n"
     ]
    },
    {
     "name": "stderr",
     "output_type": "stream",
     "text": [
      "Iteration:  62%|██████▏   | 1872/3000 [02:22<00:51, 21.81it/s, loss=0.728]"
     ]
    },
    {
     "name": "stdout",
     "output_type": "stream",
     "text": [
      "Iter 1866/3000 - Loss: 0.7284\n",
      "Iter 1867/3000 - Loss: 0.7284\n",
      "Iter 1868/3000 - Loss: 0.7284\n",
      "Iter 1869/3000 - Loss: 0.7284\n",
      "Iter 1870/3000 - Loss: 0.7284\n",
      "Iter 1871/3000 - Loss: 0.7284\n",
      "Iter 1872/3000 - Loss: 0.7283\n"
     ]
    },
    {
     "name": "stderr",
     "output_type": "stream",
     "text": [
      "Iteration:  63%|██████▎   | 1879/3000 [02:23<00:43, 25.80it/s, loss=0.728]"
     ]
    },
    {
     "name": "stdout",
     "output_type": "stream",
     "text": [
      "Iter 1873/3000 - Loss: 0.7283\n",
      "Iter 1874/3000 - Loss: 0.7283\n",
      "Iter 1875/3000 - Loss: 0.7283\n",
      "Iter 1876/3000 - Loss: 0.7283\n",
      "Iter 1877/3000 - Loss: 0.7283\n",
      "Iter 1878/3000 - Loss: 0.7283\n",
      "Iter 1879/3000 - Loss: 0.7282\n"
     ]
    },
    {
     "name": "stderr",
     "output_type": "stream",
     "text": [
      "Iteration:  63%|██████▎   | 1883/3000 [02:23<00:40, 27.74it/s, loss=0.728]"
     ]
    },
    {
     "name": "stdout",
     "output_type": "stream",
     "text": [
      "Iter 1880/3000 - Loss: 0.7282\n",
      "Iter 1881/3000 - Loss: 0.7282\n",
      "Iter 1882/3000 - Loss: 0.7282\n",
      "Iter 1883/3000 - Loss: 0.7282\n",
      "Iter 1884/3000 - Loss: 0.7282\n",
      "Iter 1885/3000 - Loss: 0.7282\n"
     ]
    },
    {
     "name": "stderr",
     "output_type": "stream",
     "text": [
      "Iteration:  63%|██████▎   | 1891/3000 [02:23<00:37, 29.64it/s, loss=0.728]"
     ]
    },
    {
     "name": "stdout",
     "output_type": "stream",
     "text": [
      "Iter 1886/3000 - Loss: 0.7281\n",
      "Iter 1887/3000 - Loss: 0.7281\n",
      "Iter 1888/3000 - Loss: 0.7281\n",
      "Iter 1889/3000 - Loss: 0.7281\n",
      "Iter 1890/3000 - Loss: 0.7281\n",
      "Iter 1891/3000 - Loss: 0.7281\n",
      "Iter 1892/3000 - Loss: 0.7281\n",
      "Iter 1893/3000 - Loss: 0.7281\n"
     ]
    },
    {
     "name": "stderr",
     "output_type": "stream",
     "text": [
      "Iteration:  63%|██████▎   | 1899/3000 [02:23<00:35, 30.90it/s, loss=0.728]"
     ]
    },
    {
     "name": "stdout",
     "output_type": "stream",
     "text": [
      "Iter 1894/3000 - Loss: 0.7280\n",
      "Iter 1895/3000 - Loss: 0.7280\n",
      "Iter 1896/3000 - Loss: 0.7280\n",
      "Iter 1897/3000 - Loss: 0.7280\n",
      "Iter 1898/3000 - Loss: 0.7280\n",
      "Iter 1899/3000 - Loss: 0.7280\n",
      "Iter 1900/3000 - Loss: 0.7280\n"
     ]
    },
    {
     "name": "stderr",
     "output_type": "stream",
     "text": [
      "Iteration:  64%|██████▎   | 1907/3000 [02:23<00:34, 31.60it/s, loss=0.728]"
     ]
    },
    {
     "name": "stdout",
     "output_type": "stream",
     "text": [
      "Iter 1901/3000 - Loss: 0.7280\n",
      "Iter 1902/3000 - Loss: 0.7279\n",
      "Iter 1903/3000 - Loss: 0.7279\n",
      "Iter 1904/3000 - Loss: 0.7279\n",
      "Iter 1905/3000 - Loss: 0.7279\n",
      "Iter 1906/3000 - Loss: 0.7279\n",
      "Iter 1907/3000 - Loss: 0.7279\n"
     ]
    },
    {
     "name": "stderr",
     "output_type": "stream",
     "text": [
      "Iteration:  64%|██████▎   | 1912/3000 [02:24<00:32, 33.83it/s, loss=0.728]"
     ]
    },
    {
     "name": "stdout",
     "output_type": "stream",
     "text": [
      "Iter 1908/3000 - Loss: 0.7279\n",
      "Iter 1909/3000 - Loss: 0.7279\n",
      "Iter 1910/3000 - Loss: 0.7279\n",
      "Iter 1911/3000 - Loss: 0.7278\n",
      "Iter 1912/3000 - Loss: 0.7278\n",
      "Iter 1913/3000 - Loss: 0.7278\n",
      "Iter 1914/3000 - Loss: 0.7278\n",
      "Iter 1915/3000 - Loss: 0.7278\n"
     ]
    },
    {
     "name": "stderr",
     "output_type": "stream",
     "text": [
      "Iteration:  64%|██████▍   | 1920/3000 [02:24<00:32, 33.48it/s, loss=0.728]"
     ]
    },
    {
     "name": "stdout",
     "output_type": "stream",
     "text": [
      "Iter 1916/3000 - Loss: 0.7278\n",
      "Iter 1917/3000 - Loss: 0.7278\n",
      "Iter 1918/3000 - Loss: 0.7278\n",
      "Iter 1919/3000 - Loss: 0.7278\n",
      "Iter 1920/3000 - Loss: 0.7278\n",
      "Iter 1921/3000 - Loss: 0.7277\n"
     ]
    },
    {
     "name": "stderr",
     "output_type": "stream",
     "text": [
      "Iteration:  64%|██████▍   | 1924/3000 [02:24<00:38, 28.28it/s, loss=0.728]"
     ]
    },
    {
     "name": "stdout",
     "output_type": "stream",
     "text": [
      "Iter 1922/3000 - Loss: 0.7277\n",
      "Iter 1923/3000 - Loss: 0.7277\n",
      "Iter 1924/3000 - Loss: 0.7277\n"
     ]
    },
    {
     "name": "stderr",
     "output_type": "stream",
     "text": [
      "Iteration:  64%|██████▍   | 1927/3000 [02:25<02:05,  8.57it/s, loss=0.728]"
     ]
    },
    {
     "name": "stdout",
     "output_type": "stream",
     "text": [
      "Iter 1925/3000 - Loss: 0.7277\n",
      "Iter 1926/3000 - Loss: 0.7277\n",
      "Iter 1927/3000 - Loss: 0.7277\n",
      "Iter 1928/3000 - Loss: 0.7277\n"
     ]
    },
    {
     "name": "stderr",
     "output_type": "stream",
     "text": [
      "Iteration:  65%|██████▍   | 1936/3000 [02:25<01:10, 15.01it/s, loss=0.728]"
     ]
    },
    {
     "name": "stdout",
     "output_type": "stream",
     "text": [
      "Iter 1929/3000 - Loss: 0.7277\n",
      "Iter 1930/3000 - Loss: 0.7277\n",
      "Iter 1931/3000 - Loss: 0.7276\n",
      "Iter 1932/3000 - Loss: 0.7276\n",
      "Iter 1933/3000 - Loss: 0.7276\n",
      "Iter 1934/3000 - Loss: 0.7276\n",
      "Iter 1935/3000 - Loss: 0.7276\n",
      "Iter 1936/3000 - Loss: 0.7276\n",
      "Iter 1937/3000 - Loss: 0.7276\n"
     ]
    },
    {
     "name": "stderr",
     "output_type": "stream",
     "text": [
      "Iteration:  65%|██████▍   | 1936/3000 [02:26<01:10, 15.01it/s, loss=0.728]"
     ]
    },
    {
     "name": "stdout",
     "output_type": "stream",
     "text": [
      "Iter 1938/3000 - Loss: 0.7276\n",
      "Iter 1939/3000 - Loss: 0.7276\n"
     ]
    },
    {
     "name": "stderr",
     "output_type": "stream",
     "text": [
      "\r",
      "Iteration:  65%|██████▍   | 1940/3000 [02:26<01:09, 15.15it/s, loss=0.728]"
     ]
    },
    {
     "name": "stdout",
     "output_type": "stream",
     "text": [
      "Iter 1940/3000 - Loss: 0.7276\n"
     ]
    },
    {
     "name": "stderr",
     "output_type": "stream",
     "text": [
      "\r",
      "Iteration:  65%|██████▍   | 1940/3000 [02:26<01:09, 15.15it/s, loss=0.728]"
     ]
    },
    {
     "name": "stdout",
     "output_type": "stream",
     "text": [
      "Iter 1941/3000 - Loss: 0.7276\n"
     ]
    },
    {
     "name": "stderr",
     "output_type": "stream",
     "text": [
      "\r",
      "Iteration:  65%|██████▍   | 1940/3000 [02:27<01:09, 15.15it/s, loss=0.728]"
     ]
    },
    {
     "name": "stdout",
     "output_type": "stream",
     "text": [
      "Iter 1942/3000 - Loss: 0.7276\n"
     ]
    },
    {
     "name": "stderr",
     "output_type": "stream",
     "text": [
      "Iteration:  65%|██████▍   | 1943/3000 [02:27<02:43,  6.45it/s, loss=0.728]"
     ]
    },
    {
     "name": "stdout",
     "output_type": "stream",
     "text": [
      "Iter 1943/3000 - Loss: 0.7275\n"
     ]
    },
    {
     "name": "stderr",
     "output_type": "stream",
     "text": [
      "Iteration:  65%|██████▍   | 1949/3000 [02:28<02:10,  8.04it/s, loss=0.727]"
     ]
    },
    {
     "name": "stdout",
     "output_type": "stream",
     "text": [
      "Iter 1944/3000 - Loss: 0.7275\n",
      "Iter 1945/3000 - Loss: 0.7275\n",
      "Iter 1946/3000 - Loss: 0.7275\n",
      "Iter 1947/3000 - Loss: 0.7275\n",
      "Iter 1948/3000 - Loss: 0.7275\n",
      "Iter 1949/3000 - Loss: 0.7275\n",
      "Iter 1950/3000 - Loss: 0.7275\n",
      "Iter 1951/3000 - Loss: 0.7275\n"
     ]
    },
    {
     "name": "stderr",
     "output_type": "stream",
     "text": [
      "Iteration:  65%|██████▌   | 1956/3000 [02:28<01:21, 12.76it/s, loss=0.727]"
     ]
    },
    {
     "name": "stdout",
     "output_type": "stream",
     "text": [
      "Iter 1952/3000 - Loss: 0.7275\n",
      "Iter 1953/3000 - Loss: 0.7275\n",
      "Iter 1954/3000 - Loss: 0.7275\n",
      "Iter 1955/3000 - Loss: 0.7274\n",
      "Iter 1956/3000 - Loss: 0.7274\n",
      "Iter 1957/3000 - Loss: 0.7274\n"
     ]
    },
    {
     "name": "stderr",
     "output_type": "stream",
     "text": [
      "Iteration:  65%|██████▌   | 1960/3000 [02:28<01:07, 15.52it/s, loss=0.727]"
     ]
    },
    {
     "name": "stdout",
     "output_type": "stream",
     "text": [
      "Iter 1958/3000 - Loss: 0.7274\n",
      "Iter 1959/3000 - Loss: 0.7274\n",
      "Iter 1960/3000 - Loss: 0.7274\n",
      "Iter 1961/3000 - Loss: 0.7274\n"
     ]
    },
    {
     "name": "stderr",
     "output_type": "stream",
     "text": [
      "Iteration:  65%|██████▌   | 1963/3000 [02:29<02:33,  6.77it/s, loss=0.727]"
     ]
    },
    {
     "name": "stdout",
     "output_type": "stream",
     "text": [
      "Iter 1962/3000 - Loss: 0.7274\n",
      "Iter 1963/3000 - Loss: 0.7274\n",
      "Iter 1964/3000 - Loss: 0.7274\n",
      "Iter 1965/3000 - Loss: 0.7274\n",
      "Iter 1966/3000 - Loss: 0.7274\n"
     ]
    },
    {
     "name": "stderr",
     "output_type": "stream",
     "text": [
      "Iteration:  66%|██████▌   | 1967/3000 [02:29<01:56,  8.87it/s, loss=0.727]"
     ]
    },
    {
     "name": "stdout",
     "output_type": "stream",
     "text": [
      "Iter 1967/3000 - Loss: 0.7274\n",
      "Iter 1968/3000 - Loss: 0.7273\n"
     ]
    },
    {
     "name": "stderr",
     "output_type": "stream",
     "text": [
      "Iteration:  66%|██████▌   | 1970/3000 [02:30<01:51,  9.24it/s, loss=0.727]"
     ]
    },
    {
     "name": "stdout",
     "output_type": "stream",
     "text": [
      "Iter 1969/3000 - Loss: 0.7273\n",
      "Iter 1970/3000 - Loss: 0.7273\n"
     ]
    },
    {
     "name": "stderr",
     "output_type": "stream",
     "text": [
      "Iteration:  66%|██████▌   | 1972/3000 [02:30<01:51,  9.21it/s, loss=0.727]"
     ]
    },
    {
     "name": "stdout",
     "output_type": "stream",
     "text": [
      "Iter 1971/3000 - Loss: 0.7273\n",
      "Iter 1972/3000 - Loss: 0.7273\n",
      "Iter 1973/3000 - Loss: 0.7273\n"
     ]
    },
    {
     "name": "stderr",
     "output_type": "stream",
     "text": [
      "Iteration:  66%|██████▌   | 1974/3000 [02:30<01:40, 10.22it/s, loss=0.727]"
     ]
    },
    {
     "name": "stdout",
     "output_type": "stream",
     "text": [
      "Iter 1974/3000 - Loss: 0.7273\n"
     ]
    },
    {
     "name": "stderr",
     "output_type": "stream",
     "text": [
      "Iteration:  66%|██████▌   | 1976/3000 [02:30<02:04,  8.25it/s, loss=0.727]"
     ]
    },
    {
     "name": "stdout",
     "output_type": "stream",
     "text": [
      "Iter 1975/3000 - Loss: 0.7273\n",
      "Iter 1976/3000 - Loss: 0.7273\n",
      "Iter 1977/3000 - Loss: 0.7273\n"
     ]
    },
    {
     "name": "stderr",
     "output_type": "stream",
     "text": [
      "Iteration:  66%|██████▌   | 1980/3000 [02:31<02:10,  7.81it/s, loss=0.727]"
     ]
    },
    {
     "name": "stdout",
     "output_type": "stream",
     "text": [
      "Iter 1978/3000 - Loss: 0.7273\n",
      "Iter 1979/3000 - Loss: 0.7273\n",
      "Iter 1980/3000 - Loss: 0.7273\n"
     ]
    },
    {
     "name": "stderr",
     "output_type": "stream",
     "text": [
      "Iteration:  66%|██████▌   | 1986/3000 [02:31<01:14, 13.68it/s, loss=0.727]"
     ]
    },
    {
     "name": "stdout",
     "output_type": "stream",
     "text": [
      "Iter 1981/3000 - Loss: 0.7273\n",
      "Iter 1982/3000 - Loss: 0.7272\n",
      "Iter 1983/3000 - Loss: 0.7272\n",
      "Iter 1984/3000 - Loss: 0.7272\n",
      "Iter 1985/3000 - Loss: 0.7272\n",
      "Iter 1986/3000 - Loss: 0.7272\n"
     ]
    },
    {
     "name": "stderr",
     "output_type": "stream",
     "text": [
      "Iteration:  66%|██████▋   | 1989/3000 [02:31<01:04, 15.58it/s, loss=0.727]"
     ]
    },
    {
     "name": "stdout",
     "output_type": "stream",
     "text": [
      "Iter 1987/3000 - Loss: 0.7272\n",
      "Iter 1988/3000 - Loss: 0.7272\n",
      "Iter 1989/3000 - Loss: 0.7272\n",
      "Iter 1990/3000 - Loss: 0.7272\n",
      "Iter 1991/3000 - Loss: 0.7272\n",
      "Iter 1992/3000 - Loss: 0.7272\n"
     ]
    },
    {
     "name": "stderr",
     "output_type": "stream",
     "text": [
      "Iteration:  67%|██████▋   | 1997/3000 [02:31<00:43, 23.05it/s, loss=0.727]"
     ]
    },
    {
     "name": "stdout",
     "output_type": "stream",
     "text": [
      "Iter 1993/3000 - Loss: 0.7272\n",
      "Iter 1994/3000 - Loss: 0.7272\n",
      "Iter 1995/3000 - Loss: 0.7272\n",
      "Iter 1996/3000 - Loss: 0.7272\n",
      "Iter 1997/3000 - Loss: 0.7271\n",
      "Iter 1998/3000 - Loss: 0.7271\n",
      "Iter 1999/3000 - Loss: 0.7271\n",
      "Iter 2000/3000 - Loss: 0.7271\n"
     ]
    },
    {
     "name": "stderr",
     "output_type": "stream",
     "text": [
      "Iteration:  67%|██████▋   | 2005/3000 [02:32<00:39, 25.29it/s, loss=0.727]"
     ]
    },
    {
     "name": "stdout",
     "output_type": "stream",
     "text": [
      "Iter 2001/3000 - Loss: 0.7271\n",
      "Iter 2002/3000 - Loss: 0.7271\n",
      "Iter 2003/3000 - Loss: 0.7271\n",
      "Iter 2004/3000 - Loss: 0.7271\n",
      "Iter 2005/3000 - Loss: 0.7271\n"
     ]
    },
    {
     "name": "stderr",
     "output_type": "stream",
     "text": [
      "Iteration:  67%|██████▋   | 2013/3000 [02:32<00:37, 26.66it/s, loss=0.727]"
     ]
    },
    {
     "name": "stdout",
     "output_type": "stream",
     "text": [
      "Iter 2006/3000 - Loss: 0.7271\n",
      "Iter 2007/3000 - Loss: 0.7271\n",
      "Iter 2008/3000 - Loss: 0.7271\n",
      "Iter 2009/3000 - Loss: 0.7271\n",
      "Iter 2010/3000 - Loss: 0.7271\n",
      "Iter 2011/3000 - Loss: 0.7271\n",
      "Iter 2012/3000 - Loss: 0.7271\n",
      "Iter 2013/3000 - Loss: 0.7271\n"
     ]
    },
    {
     "name": "stderr",
     "output_type": "stream",
     "text": [
      "\r",
      "Iteration:  67%|██████▋   | 2013/3000 [02:32<00:37, 26.66it/s, loss=0.727]"
     ]
    },
    {
     "name": "stdout",
     "output_type": "stream",
     "text": [
      "Iter 2014/3000 - Loss: 0.7270\n"
     ]
    },
    {
     "name": "stderr",
     "output_type": "stream",
     "text": [
      "Iteration:  67%|██████▋   | 2013/3000 [02:33<00:37, 26.66it/s, loss=0.727]"
     ]
    },
    {
     "name": "stdout",
     "output_type": "stream",
     "text": [
      "Iter 2015/3000 - Loss: 0.7270\n",
      "Iter 2016/3000 - Loss: 0.7270\n"
     ]
    },
    {
     "name": "stderr",
     "output_type": "stream",
     "text": [
      "Iteration:  67%|██████▋   | 2017/3000 [02:34<02:29,  6.56it/s, loss=0.727]"
     ]
    },
    {
     "name": "stdout",
     "output_type": "stream",
     "text": [
      "Iter 2017/3000 - Loss: 0.7270\n"
     ]
    },
    {
     "name": "stderr",
     "output_type": "stream",
     "text": [
      "Iteration:  67%|██████▋   | 2020/3000 [02:34<02:26,  6.67it/s, loss=0.727]"
     ]
    },
    {
     "name": "stdout",
     "output_type": "stream",
     "text": [
      "Iter 2018/3000 - Loss: 0.7270\n",
      "Iter 2019/3000 - Loss: 0.7270\n",
      "Iter 2020/3000 - Loss: 0.7270\n",
      "Iter 2021/3000 - Loss: 0.7270\n",
      "Iter 2022/3000 - Loss: 0.7270\n",
      "Iter 2023/3000 - Loss: 0.7270\n"
     ]
    },
    {
     "name": "stderr",
     "output_type": "stream",
     "text": [
      "Iteration:  68%|██████▊   | 2025/3000 [02:34<01:41,  9.65it/s, loss=0.727]"
     ]
    },
    {
     "name": "stdout",
     "output_type": "stream",
     "text": [
      "Iter 2024/3000 - Loss: 0.7270\n",
      "Iter 2025/3000 - Loss: 0.7270\n"
     ]
    },
    {
     "name": "stderr",
     "output_type": "stream",
     "text": [
      "Iteration:  68%|██████▊   | 2033/3000 [02:35<01:17, 12.51it/s, loss=0.727]"
     ]
    },
    {
     "name": "stdout",
     "output_type": "stream",
     "text": [
      "Iter 2026/3000 - Loss: 0.7270\n",
      "Iter 2027/3000 - Loss: 0.7270\n",
      "Iter 2028/3000 - Loss: 0.7270\n",
      "Iter 2029/3000 - Loss: 0.7270\n",
      "Iter 2030/3000 - Loss: 0.7270\n",
      "Iter 2031/3000 - Loss: 0.7270\n",
      "Iter 2032/3000 - Loss: 0.7269\n",
      "Iter 2033/3000 - Loss: 0.7269\n"
     ]
    },
    {
     "name": "stderr",
     "output_type": "stream",
     "text": [
      "Iteration:  68%|██████▊   | 2036/3000 [02:35<01:23, 11.57it/s, loss=0.727]"
     ]
    },
    {
     "name": "stdout",
     "output_type": "stream",
     "text": [
      "Iter 2034/3000 - Loss: 0.7269\n",
      "Iter 2035/3000 - Loss: 0.7269\n",
      "Iter 2036/3000 - Loss: 0.7269\n",
      "Iter 2037/3000 - Loss: 0.7269\n"
     ]
    },
    {
     "name": "stderr",
     "output_type": "stream",
     "text": [
      "Iteration:  68%|██████▊   | 2038/3000 [02:35<01:43,  9.27it/s, loss=0.727]"
     ]
    },
    {
     "name": "stdout",
     "output_type": "stream",
     "text": [
      "Iter 2038/3000 - Loss: 0.7269\n"
     ]
    },
    {
     "name": "stderr",
     "output_type": "stream",
     "text": [
      "Iteration:  68%|██████▊   | 2038/3000 [02:36<01:43,  9.27it/s, loss=0.727]"
     ]
    },
    {
     "name": "stdout",
     "output_type": "stream",
     "text": [
      "Iter 2039/3000 - Loss: 0.7269\n"
     ]
    },
    {
     "name": "stderr",
     "output_type": "stream",
     "text": [
      "\r",
      "Iteration:  68%|██████▊   | 2040/3000 [02:36<03:05,  5.18it/s, loss=0.727]"
     ]
    },
    {
     "name": "stdout",
     "output_type": "stream",
     "text": [
      "Iter 2040/3000 - Loss: 0.7269\n"
     ]
    },
    {
     "name": "stderr",
     "output_type": "stream",
     "text": [
      "Iteration:  68%|██████▊   | 2043/3000 [02:37<03:11,  4.99it/s, loss=0.727]"
     ]
    },
    {
     "name": "stdout",
     "output_type": "stream",
     "text": [
      "Iter 2041/3000 - Loss: 0.7269\n",
      "Iter 2042/3000 - Loss: 0.7269\n",
      "Iter 2043/3000 - Loss: 0.7269\n"
     ]
    },
    {
     "name": "stderr",
     "output_type": "stream",
     "text": [
      "Iteration:  68%|██████▊   | 2044/3000 [02:37<03:08,  5.06it/s, loss=0.727]"
     ]
    },
    {
     "name": "stdout",
     "output_type": "stream",
     "text": [
      "Iter 2044/3000 - Loss: 0.7269\n",
      "Iter 2045/3000 - Loss: 0.7269\n"
     ]
    },
    {
     "name": "stderr",
     "output_type": "stream",
     "text": [
      "Iteration:  68%|██████▊   | 2051/3000 [02:38<01:58,  7.98it/s, loss=0.727]"
     ]
    },
    {
     "name": "stdout",
     "output_type": "stream",
     "text": [
      "Iter 2046/3000 - Loss: 0.7269\n",
      "Iter 2047/3000 - Loss: 0.7269\n",
      "Iter 2048/3000 - Loss: 0.7269\n",
      "Iter 2049/3000 - Loss: 0.7269\n",
      "Iter 2050/3000 - Loss: 0.7269\n",
      "Iter 2051/3000 - Loss: 0.7268\n"
     ]
    },
    {
     "name": "stderr",
     "output_type": "stream",
     "text": [
      "Iteration:  69%|██████▊   | 2057/3000 [02:39<01:23, 11.27it/s, loss=0.727]"
     ]
    },
    {
     "name": "stdout",
     "output_type": "stream",
     "text": [
      "Iter 2052/3000 - Loss: 0.7268\n",
      "Iter 2053/3000 - Loss: 0.7268\n",
      "Iter 2054/3000 - Loss: 0.7268\n",
      "Iter 2055/3000 - Loss: 0.7268\n",
      "Iter 2056/3000 - Loss: 0.7268\n",
      "Iter 2057/3000 - Loss: 0.7268\n",
      "Iter 2058/3000 - Loss: 0.7268\n",
      "Iter 2059/3000 - Loss: 0.7268\n"
     ]
    },
    {
     "name": "stderr",
     "output_type": "stream",
     "text": [
      "Iteration:  69%|██████▊   | 2062/3000 [02:39<01:31, 10.30it/s, loss=0.727]"
     ]
    },
    {
     "name": "stdout",
     "output_type": "stream",
     "text": [
      "Iter 2060/3000 - Loss: 0.7268\n",
      "Iter 2061/3000 - Loss: 0.7268\n",
      "Iter 2062/3000 - Loss: 0.7268\n",
      "Iter 2063/3000 - Loss: 0.7268\n",
      "Iter 2064/3000 - Loss: 0.7268\n"
     ]
    },
    {
     "name": "stderr",
     "output_type": "stream",
     "text": [
      "Iteration:  69%|██████▉   | 2070/3000 [02:39<00:52, 17.59it/s, loss=0.727]"
     ]
    },
    {
     "name": "stdout",
     "output_type": "stream",
     "text": [
      "Iter 2065/3000 - Loss: 0.7268\n",
      "Iter 2066/3000 - Loss: 0.7268\n",
      "Iter 2067/3000 - Loss: 0.7268\n",
      "Iter 2068/3000 - Loss: 0.7268\n",
      "Iter 2069/3000 - Loss: 0.7268\n",
      "Iter 2070/3000 - Loss: 0.7268\n",
      "Iter 2071/3000 - Loss: 0.7267\n"
     ]
    },
    {
     "name": "stderr",
     "output_type": "stream",
     "text": [
      "Iteration:  69%|██████▉   | 2078/3000 [02:40<00:37, 24.35it/s, loss=0.727]"
     ]
    },
    {
     "name": "stdout",
     "output_type": "stream",
     "text": [
      "Iter 2072/3000 - Loss: 0.7267\n",
      "Iter 2073/3000 - Loss: 0.7267\n",
      "Iter 2074/3000 - Loss: 0.7267\n",
      "Iter 2075/3000 - Loss: 0.7267\n",
      "Iter 2076/3000 - Loss: 0.7267\n",
      "Iter 2077/3000 - Loss: 0.7267\n",
      "Iter 2078/3000 - Loss: 0.7267\n"
     ]
    },
    {
     "name": "stderr",
     "output_type": "stream",
     "text": [
      "Iteration:  70%|██████▉   | 2086/3000 [02:40<00:31, 29.05it/s, loss=0.727]"
     ]
    },
    {
     "name": "stdout",
     "output_type": "stream",
     "text": [
      "Iter 2079/3000 - Loss: 0.7267\n",
      "Iter 2080/3000 - Loss: 0.7267\n",
      "Iter 2081/3000 - Loss: 0.7267\n",
      "Iter 2082/3000 - Loss: 0.7267\n",
      "Iter 2083/3000 - Loss: 0.7267\n",
      "Iter 2084/3000 - Loss: 0.7267\n",
      "Iter 2085/3000 - Loss: 0.7267\n",
      "Iter 2086/3000 - Loss: 0.7267\n"
     ]
    },
    {
     "name": "stderr",
     "output_type": "stream",
     "text": [
      "Iteration:  70%|██████▉   | 2090/3000 [02:40<00:32, 28.22it/s, loss=0.727]"
     ]
    },
    {
     "name": "stdout",
     "output_type": "stream",
     "text": [
      "Iter 2087/3000 - Loss: 0.7267\n",
      "Iter 2088/3000 - Loss: 0.7267\n",
      "Iter 2089/3000 - Loss: 0.7267\n",
      "Iter 2090/3000 - Loss: 0.7267\n",
      "Iter 2091/3000 - Loss: 0.7267\n",
      "Iter 2092/3000 - Loss: 0.7267\n"
     ]
    },
    {
     "name": "stderr",
     "output_type": "stream",
     "text": [
      "Iteration:  70%|██████▉   | 2094/3000 [02:40<00:30, 29.89it/s, loss=0.727]"
     ]
    },
    {
     "name": "stdout",
     "output_type": "stream",
     "text": [
      "Iter 2093/3000 - Loss: 0.7266\n",
      "Iter 2094/3000 - Loss: 0.7266\n"
     ]
    },
    {
     "name": "stderr",
     "output_type": "stream",
     "text": [
      "\r",
      "Iteration:  70%|██████▉   | 2094/3000 [02:41<00:30, 29.89it/s, loss=0.727]"
     ]
    },
    {
     "name": "stdout",
     "output_type": "stream",
     "text": [
      "Iter 2095/3000 - Loss: 0.7266\n"
     ]
    },
    {
     "name": "stderr",
     "output_type": "stream",
     "text": [
      "Iteration:  70%|███████   | 2102/3000 [02:42<01:38,  9.08it/s, loss=0.727]"
     ]
    },
    {
     "name": "stdout",
     "output_type": "stream",
     "text": [
      "Iter 2096/3000 - Loss: 0.7266\n",
      "Iter 2097/3000 - Loss: 0.7266\n",
      "Iter 2098/3000 - Loss: 0.7266\n",
      "Iter 2099/3000 - Loss: 0.7266\n",
      "Iter 2100/3000 - Loss: 0.7266\n",
      "Iter 2101/3000 - Loss: 0.7266\n",
      "Iter 2102/3000 - Loss: 0.7266\n",
      "Iter 2103/3000 - Loss: 0.7266\n"
     ]
    },
    {
     "name": "stderr",
     "output_type": "stream",
     "text": [
      "Iteration:  70%|███████   | 2105/3000 [02:42<01:21, 10.94it/s, loss=0.727]"
     ]
    },
    {
     "name": "stdout",
     "output_type": "stream",
     "text": [
      "Iter 2104/3000 - Loss: 0.7266\n",
      "Iter 2105/3000 - Loss: 0.7266\n",
      "Iter 2106/3000 - Loss: 0.7266\n"
     ]
    },
    {
     "name": "stderr",
     "output_type": "stream",
     "text": [
      "Iteration:  70%|███████   | 2108/3000 [02:42<01:36,  9.20it/s, loss=0.727]"
     ]
    },
    {
     "name": "stdout",
     "output_type": "stream",
     "text": [
      "Iter 2107/3000 - Loss: 0.7266\n",
      "Iter 2108/3000 - Loss: 0.7266\n",
      "Iter 2109/3000 - Loss: 0.7266\n"
     ]
    },
    {
     "name": "stderr",
     "output_type": "stream",
     "text": [
      "Iteration:  70%|███████   | 2113/3000 [02:43<01:22, 10.74it/s, loss=0.727]"
     ]
    },
    {
     "name": "stdout",
     "output_type": "stream",
     "text": [
      "Iter 2110/3000 - Loss: 0.7266\n",
      "Iter 2111/3000 - Loss: 0.7266\n",
      "Iter 2112/3000 - Loss: 0.7266\n",
      "Iter 2113/3000 - Loss: 0.7266\n"
     ]
    },
    {
     "name": "stderr",
     "output_type": "stream",
     "text": [
      "Iteration:  71%|███████   | 2120/3000 [02:43<00:52, 16.86it/s, loss=0.727]"
     ]
    },
    {
     "name": "stdout",
     "output_type": "stream",
     "text": [
      "Iter 2114/3000 - Loss: 0.7266\n",
      "Iter 2115/3000 - Loss: 0.7266\n",
      "Iter 2116/3000 - Loss: 0.7266\n",
      "Iter 2117/3000 - Loss: 0.7265\n",
      "Iter 2118/3000 - Loss: 0.7265\n",
      "Iter 2119/3000 - Loss: 0.7265\n",
      "Iter 2120/3000 - Loss: 0.7265\n"
     ]
    },
    {
     "name": "stderr",
     "output_type": "stream",
     "text": [
      "Iteration:  71%|███████   | 2127/3000 [02:43<00:39, 21.89it/s, loss=0.727]"
     ]
    },
    {
     "name": "stdout",
     "output_type": "stream",
     "text": [
      "Iter 2121/3000 - Loss: 0.7265\n",
      "Iter 2122/3000 - Loss: 0.7265\n",
      "Iter 2123/3000 - Loss: 0.7265\n",
      "Iter 2124/3000 - Loss: 0.7265\n",
      "Iter 2125/3000 - Loss: 0.7265\n",
      "Iter 2126/3000 - Loss: 0.7265\n",
      "Iter 2127/3000 - Loss: 0.7265\n"
     ]
    },
    {
     "name": "stderr",
     "output_type": "stream",
     "text": [
      "Iteration:  71%|███████   | 2133/3000 [02:43<00:35, 24.49it/s, loss=0.726]"
     ]
    },
    {
     "name": "stdout",
     "output_type": "stream",
     "text": [
      "Iter 2128/3000 - Loss: 0.7265\n",
      "Iter 2129/3000 - Loss: 0.7265\n",
      "Iter 2130/3000 - Loss: 0.7265\n",
      "Iter 2131/3000 - Loss: 0.7265\n",
      "Iter 2132/3000 - Loss: 0.7265\n",
      "Iter 2133/3000 - Loss: 0.7265\n"
     ]
    },
    {
     "name": "stderr",
     "output_type": "stream",
     "text": [
      "Iteration:  71%|███████   | 2136/3000 [02:44<00:42, 20.13it/s, loss=0.726]"
     ]
    },
    {
     "name": "stdout",
     "output_type": "stream",
     "text": [
      "Iter 2134/3000 - Loss: 0.7265\n",
      "Iter 2135/3000 - Loss: 0.7265\n",
      "Iter 2136/3000 - Loss: 0.7265\n",
      "Iter 2137/3000 - Loss: 0.7265\n",
      "Iter 2138/3000 - Loss: 0.7265\n"
     ]
    },
    {
     "name": "stderr",
     "output_type": "stream",
     "text": [
      "Iteration:  71%|███████▏  | 2143/3000 [02:44<00:34, 24.75it/s, loss=0.726]"
     ]
    },
    {
     "name": "stdout",
     "output_type": "stream",
     "text": [
      "Iter 2139/3000 - Loss: 0.7265\n",
      "Iter 2140/3000 - Loss: 0.7265\n",
      "Iter 2141/3000 - Loss: 0.7265\n",
      "Iter 2142/3000 - Loss: 0.7264\n",
      "Iter 2143/3000 - Loss: 0.7264\n",
      "Iter 2144/3000 - Loss: 0.7264\n",
      "Iter 2145/3000 - Loss: 0.7264\n",
      "Iter 2146/3000 - Loss: 0.7264\n"
     ]
    },
    {
     "name": "stderr",
     "output_type": "stream",
     "text": [
      "Iteration:  72%|███████▏  | 2147/3000 [02:44<00:30, 27.65it/s, loss=0.726]"
     ]
    },
    {
     "name": "stdout",
     "output_type": "stream",
     "text": [
      "Iter 2147/3000 - Loss: 0.7264\n",
      "Iter 2148/3000 - Loss: 0.7264\n"
     ]
    },
    {
     "name": "stderr",
     "output_type": "stream",
     "text": [
      "\r",
      "Iteration:  72%|███████▏  | 2147/3000 [02:45<00:30, 27.65it/s, loss=0.726]"
     ]
    },
    {
     "name": "stdout",
     "output_type": "stream",
     "text": [
      "Iter 2149/3000 - Loss: 0.7264\n"
     ]
    },
    {
     "name": "stderr",
     "output_type": "stream",
     "text": [
      "Iteration:  72%|███████▏  | 2150/3000 [02:46<03:29,  4.05it/s, loss=0.726]"
     ]
    },
    {
     "name": "stdout",
     "output_type": "stream",
     "text": [
      "Iter 2150/3000 - Loss: 0.7264\n"
     ]
    },
    {
     "name": "stderr",
     "output_type": "stream",
     "text": [
      "\r",
      "Iteration:  72%|███████▏  | 2150/3000 [02:47<03:29,  4.05it/s, loss=0.726]"
     ]
    },
    {
     "name": "stdout",
     "output_type": "stream",
     "text": [
      "Iter 2151/3000 - Loss: 0.7264\n"
     ]
    },
    {
     "name": "stderr",
     "output_type": "stream",
     "text": [
      "Iteration:  72%|███████▏  | 2157/3000 [02:47<02:21,  5.97it/s, loss=0.726]"
     ]
    },
    {
     "name": "stdout",
     "output_type": "stream",
     "text": [
      "Iter 2152/3000 - Loss: 0.7264\n",
      "Iter 2153/3000 - Loss: 0.7264\n",
      "Iter 2154/3000 - Loss: 0.7264\n",
      "Iter 2155/3000 - Loss: 0.7264\n",
      "Iter 2156/3000 - Loss: 0.7264\n",
      "Iter 2157/3000 - Loss: 0.7264\n"
     ]
    },
    {
     "name": "stderr",
     "output_type": "stream",
     "text": [
      "Iteration:  72%|███████▏  | 2160/3000 [02:47<02:06,  6.67it/s, loss=0.726]"
     ]
    },
    {
     "name": "stdout",
     "output_type": "stream",
     "text": [
      "Iter 2158/3000 - Loss: 0.7264\n",
      "Iter 2159/3000 - Loss: 0.7264\n",
      "Iter 2160/3000 - Loss: 0.7264\n"
     ]
    },
    {
     "name": "stderr",
     "output_type": "stream",
     "text": [
      "Iteration:  72%|███████▏  | 2166/3000 [02:48<01:19, 10.47it/s, loss=0.726]"
     ]
    },
    {
     "name": "stdout",
     "output_type": "stream",
     "text": [
      "Iter 2161/3000 - Loss: 0.7264\n",
      "Iter 2162/3000 - Loss: 0.7264\n",
      "Iter 2163/3000 - Loss: 0.7264\n",
      "Iter 2164/3000 - Loss: 0.7264\n",
      "Iter 2165/3000 - Loss: 0.7264\n",
      "Iter 2166/3000 - Loss: 0.7264\n"
     ]
    },
    {
     "name": "stderr",
     "output_type": "stream",
     "text": [
      "Iteration:  72%|███████▏  | 2169/3000 [02:48<01:05, 12.61it/s, loss=0.726]"
     ]
    },
    {
     "name": "stdout",
     "output_type": "stream",
     "text": [
      "Iter 2167/3000 - Loss: 0.7264\n",
      "Iter 2168/3000 - Loss: 0.7264\n",
      "Iter 2169/3000 - Loss: 0.7263\n",
      "Iter 2170/3000 - Loss: 0.7263\n"
     ]
    },
    {
     "name": "stderr",
     "output_type": "stream",
     "text": [
      "\r",
      "Iteration:  72%|███████▏  | 2169/3000 [02:48<01:05, 12.61it/s, loss=0.726]"
     ]
    },
    {
     "name": "stdout",
     "output_type": "stream",
     "text": [
      "Iter 2171/3000 - Loss: 0.7263\n"
     ]
    },
    {
     "name": "stderr",
     "output_type": "stream",
     "text": [
      "Iteration:  72%|███████▏  | 2172/3000 [02:48<01:29,  9.29it/s, loss=0.726]"
     ]
    },
    {
     "name": "stdout",
     "output_type": "stream",
     "text": [
      "Iter 2172/3000 - Loss: 0.7263\n",
      "Iter 2173/3000 - Loss: 0.7263\n"
     ]
    },
    {
     "name": "stderr",
     "output_type": "stream",
     "text": [
      "Iteration:  72%|███████▏  | 2174/3000 [02:49<01:30,  9.11it/s, loss=0.726]"
     ]
    },
    {
     "name": "stdout",
     "output_type": "stream",
     "text": [
      "Iter 2174/3000 - Loss: 0.7263\n",
      "Iter 2175/3000 - Loss: 0.7263\n"
     ]
    },
    {
     "name": "stderr",
     "output_type": "stream",
     "text": [
      "Iteration:  73%|███████▎  | 2176/3000 [02:50<03:00,  4.55it/s, loss=0.726]"
     ]
    },
    {
     "name": "stdout",
     "output_type": "stream",
     "text": [
      "Iter 2176/3000 - Loss: 0.7263\n"
     ]
    },
    {
     "name": "stderr",
     "output_type": "stream",
     "text": [
      "Iteration:  73%|███████▎  | 2181/3000 [02:50<01:55,  7.08it/s, loss=0.726]"
     ]
    },
    {
     "name": "stdout",
     "output_type": "stream",
     "text": [
      "Iter 2177/3000 - Loss: 0.7263\n",
      "Iter 2178/3000 - Loss: 0.7263\n",
      "Iter 2179/3000 - Loss: 0.7263\n",
      "Iter 2180/3000 - Loss: 0.7263\n",
      "Iter 2181/3000 - Loss: 0.7263\n",
      "Iter 2182/3000 - Loss: 0.7263\n"
     ]
    },
    {
     "name": "stderr",
     "output_type": "stream",
     "text": [
      "Iteration:  73%|███████▎  | 2187/3000 [02:50<01:08, 11.90it/s, loss=0.726]"
     ]
    },
    {
     "name": "stdout",
     "output_type": "stream",
     "text": [
      "Iter 2183/3000 - Loss: 0.7263\n",
      "Iter 2184/3000 - Loss: 0.7263\n",
      "Iter 2185/3000 - Loss: 0.7263\n",
      "Iter 2186/3000 - Loss: 0.7263\n",
      "Iter 2187/3000 - Loss: 0.7263\n",
      "Iter 2188/3000 - Loss: 0.7263\n"
     ]
    },
    {
     "name": "stderr",
     "output_type": "stream",
     "text": [
      "Iteration:  73%|███████▎  | 2193/3000 [02:51<00:47, 17.10it/s, loss=0.726]"
     ]
    },
    {
     "name": "stdout",
     "output_type": "stream",
     "text": [
      "Iter 2189/3000 - Loss: 0.7263\n",
      "Iter 2190/3000 - Loss: 0.7263\n",
      "Iter 2191/3000 - Loss: 0.7263\n",
      "Iter 2192/3000 - Loss: 0.7263\n",
      "Iter 2193/3000 - Loss: 0.7263\n",
      "Iter 2194/3000 - Loss: 0.7263\n"
     ]
    },
    {
     "name": "stderr",
     "output_type": "stream",
     "text": [
      "Iteration:  73%|███████▎  | 2196/3000 [02:51<00:42, 19.12it/s, loss=0.726]"
     ]
    },
    {
     "name": "stdout",
     "output_type": "stream",
     "text": [
      "Iter 2195/3000 - Loss: 0.7263\n",
      "Iter 2196/3000 - Loss: 0.7263\n"
     ]
    },
    {
     "name": "stderr",
     "output_type": "stream",
     "text": [
      "Iteration:  73%|███████▎  | 2199/3000 [02:51<00:57, 13.86it/s, loss=0.726]"
     ]
    },
    {
     "name": "stdout",
     "output_type": "stream",
     "text": [
      "Iter 2197/3000 - Loss: 0.7263\n",
      "Iter 2198/3000 - Loss: 0.7262\n",
      "Iter 2199/3000 - Loss: 0.7262\n",
      "Iter 2200/3000 - Loss: 0.7262\n"
     ]
    },
    {
     "name": "stderr",
     "output_type": "stream",
     "text": [
      "Iteration:  73%|███████▎  | 2202/3000 [02:51<00:53, 14.78it/s, loss=0.726]"
     ]
    },
    {
     "name": "stdout",
     "output_type": "stream",
     "text": [
      "Iter 2201/3000 - Loss: 0.7262\n",
      "Iter 2202/3000 - Loss: 0.7262\n",
      "Iter 2203/3000 - Loss: 0.7262\n"
     ]
    },
    {
     "name": "stderr",
     "output_type": "stream",
     "text": [
      "Iteration:  74%|███████▎  | 2208/3000 [02:52<00:51, 15.45it/s, loss=0.726]"
     ]
    },
    {
     "name": "stdout",
     "output_type": "stream",
     "text": [
      "Iter 2204/3000 - Loss: 0.7262\n",
      "Iter 2205/3000 - Loss: 0.7262\n",
      "Iter 2206/3000 - Loss: 0.7262\n",
      "Iter 2207/3000 - Loss: 0.7262\n",
      "Iter 2208/3000 - Loss: 0.7262\n",
      "Iter 2209/3000 - Loss: 0.7262\n",
      "Iter 2210/3000 - Loss: 0.7262\n",
      "Iter 2211/3000 - Loss: 0.7262\n"
     ]
    },
    {
     "name": "stderr",
     "output_type": "stream",
     "text": [
      "Iteration:  74%|███████▍  | 2216/3000 [02:52<00:33, 23.34it/s, loss=0.726]"
     ]
    },
    {
     "name": "stdout",
     "output_type": "stream",
     "text": [
      "Iter 2212/3000 - Loss: 0.7262\n",
      "Iter 2213/3000 - Loss: 0.7262\n",
      "Iter 2214/3000 - Loss: 0.7262\n",
      "Iter 2215/3000 - Loss: 0.7262\n",
      "Iter 2216/3000 - Loss: 0.7262\n",
      "Iter 2217/3000 - Loss: 0.7262\n",
      "Iter 2218/3000 - Loss: 0.7262\n"
     ]
    },
    {
     "name": "stderr",
     "output_type": "stream",
     "text": [
      "Iteration:  74%|███████▍  | 2223/3000 [02:52<00:29, 26.19it/s, loss=0.726]"
     ]
    },
    {
     "name": "stdout",
     "output_type": "stream",
     "text": [
      "Iter 2219/3000 - Loss: 0.7262\n",
      "Iter 2220/3000 - Loss: 0.7262\n",
      "Iter 2221/3000 - Loss: 0.7262\n",
      "Iter 2222/3000 - Loss: 0.7262\n",
      "Iter 2223/3000 - Loss: 0.7262\n",
      "Iter 2224/3000 - Loss: 0.7262\n",
      "Iter 2225/3000 - Loss: 0.7262\n",
      "Iter 2226/3000 - Loss: 0.7262\n"
     ]
    },
    {
     "name": "stderr",
     "output_type": "stream",
     "text": [
      "Iteration:  74%|███████▍  | 2231/3000 [02:52<00:29, 26.41it/s, loss=0.726]"
     ]
    },
    {
     "name": "stdout",
     "output_type": "stream",
     "text": [
      "Iter 2227/3000 - Loss: 0.7262\n",
      "Iter 2228/3000 - Loss: 0.7262\n",
      "Iter 2229/3000 - Loss: 0.7261\n",
      "Iter 2230/3000 - Loss: 0.7261\n",
      "Iter 2231/3000 - Loss: 0.7261\n",
      "Iter 2232/3000 - Loss: 0.7261\n"
     ]
    },
    {
     "name": "stderr",
     "output_type": "stream",
     "text": [
      "Iteration:  74%|███████▍  | 2235/3000 [02:53<00:27, 27.68it/s, loss=0.726]"
     ]
    },
    {
     "name": "stdout",
     "output_type": "stream",
     "text": [
      "Iter 2233/3000 - Loss: 0.7261\n",
      "Iter 2234/3000 - Loss: 0.7261\n",
      "Iter 2235/3000 - Loss: 0.7261\n",
      "Iter 2236/3000 - Loss: 0.7261\n"
     ]
    },
    {
     "name": "stderr",
     "output_type": "stream",
     "text": [
      "Iteration:  74%|███████▍  | 2235/3000 [02:53<00:27, 27.68it/s, loss=0.726]"
     ]
    },
    {
     "name": "stdout",
     "output_type": "stream",
     "text": [
      "Iter 2237/3000 - Loss: 0.7261\n"
     ]
    },
    {
     "name": "stderr",
     "output_type": "stream",
     "text": [
      "\r",
      "Iteration:  75%|███████▍  | 2238/3000 [02:53<01:16,  9.91it/s, loss=0.726]"
     ]
    },
    {
     "name": "stdout",
     "output_type": "stream",
     "text": [
      "Iter 2238/3000 - Loss: 0.7261\n"
     ]
    },
    {
     "name": "stderr",
     "output_type": "stream",
     "text": [
      "\r",
      "Iteration:  75%|███████▍  | 2238/3000 [02:54<01:16,  9.91it/s, loss=0.726]"
     ]
    },
    {
     "name": "stdout",
     "output_type": "stream",
     "text": [
      "Iter 2239/3000 - Loss: 0.7261\n"
     ]
    },
    {
     "name": "stderr",
     "output_type": "stream",
     "text": [
      "\r",
      "Iteration:  75%|███████▍  | 2238/3000 [02:54<01:16,  9.91it/s, loss=0.726]"
     ]
    },
    {
     "name": "stdout",
     "output_type": "stream",
     "text": [
      "Iter 2240/3000 - Loss: 0.7261\n"
     ]
    },
    {
     "name": "stderr",
     "output_type": "stream",
     "text": [
      "Iteration:  75%|███████▍  | 2243/3000 [02:55<02:29,  5.06it/s, loss=0.726]"
     ]
    },
    {
     "name": "stdout",
     "output_type": "stream",
     "text": [
      "Iter 2241/3000 - Loss: 0.7261\n",
      "Iter 2242/3000 - Loss: 0.7261\n",
      "Iter 2243/3000 - Loss: 0.7261\n",
      "Iter 2244/3000 - Loss: 0.7261\n",
      "Iter 2245/3000 - Loss: 0.7261\n"
     ]
    },
    {
     "name": "stderr",
     "output_type": "stream",
     "text": [
      "Iteration:  75%|███████▍  | 2246/3000 [02:56<02:29,  5.03it/s, loss=0.726]"
     ]
    },
    {
     "name": "stdout",
     "output_type": "stream",
     "text": [
      "Iter 2246/3000 - Loss: 0.7261\n"
     ]
    },
    {
     "name": "stderr",
     "output_type": "stream",
     "text": [
      "\r",
      "Iteration:  75%|███████▍  | 2246/3000 [02:56<02:29,  5.03it/s, loss=0.726]"
     ]
    },
    {
     "name": "stdout",
     "output_type": "stream",
     "text": [
      "Iter 2247/3000 - Loss: 0.7261\n"
     ]
    },
    {
     "name": "stderr",
     "output_type": "stream",
     "text": [
      "Iteration:  75%|███████▍  | 2248/3000 [03:01<08:25,  1.49it/s, loss=0.726]"
     ]
    },
    {
     "name": "stdout",
     "output_type": "stream",
     "text": [
      "Iter 2248/3000 - Loss: 0.7261\n"
     ]
    },
    {
     "name": "stderr",
     "output_type": "stream",
     "text": [
      "Iteration:  75%|███████▌  | 2250/3000 [03:02<08:03,  1.55it/s, loss=0.726]"
     ]
    },
    {
     "name": "stdout",
     "output_type": "stream",
     "text": [
      "Iter 2249/3000 - Loss: 0.7261\n",
      "Iter 2250/3000 - Loss: 0.7261\n",
      "Iter 2251/3000 - Loss: 0.7261\n"
     ]
    },
    {
     "name": "stderr",
     "output_type": "stream",
     "text": [
      "Iteration:  75%|███████▌  | 2252/3000 [03:02<06:32,  1.90it/s, loss=0.726]"
     ]
    },
    {
     "name": "stdout",
     "output_type": "stream",
     "text": [
      "Iter 2252/3000 - Loss: 0.7261\n"
     ]
    },
    {
     "name": "stderr",
     "output_type": "stream",
     "text": [
      "Iteration:  75%|███████▌  | 2254/3000 [03:03<05:00,  2.48it/s, loss=0.726]"
     ]
    },
    {
     "name": "stdout",
     "output_type": "stream",
     "text": [
      "Iter 2253/3000 - Loss: 0.7261\n",
      "Iter 2254/3000 - Loss: 0.7261\n",
      "Iter 2255/3000 - Loss: 0.7261\n"
     ]
    },
    {
     "name": "stderr",
     "output_type": "stream",
     "text": [
      "Iteration:  75%|███████▌  | 2260/3000 [03:03<01:52,  6.57it/s, loss=0.726]"
     ]
    },
    {
     "name": "stdout",
     "output_type": "stream",
     "text": [
      "Iter 2256/3000 - Loss: 0.7261\n",
      "Iter 2257/3000 - Loss: 0.7261\n",
      "Iter 2258/3000 - Loss: 0.7261\n",
      "Iter 2259/3000 - Loss: 0.7261\n",
      "Iter 2260/3000 - Loss: 0.7261\n",
      "Iter 2261/3000 - Loss: 0.7261\n"
     ]
    },
    {
     "name": "stderr",
     "output_type": "stream",
     "text": [
      "Iteration:  76%|███████▌  | 2267/3000 [03:03<00:56, 12.96it/s, loss=0.726]"
     ]
    },
    {
     "name": "stdout",
     "output_type": "stream",
     "text": [
      "Iter 2262/3000 - Loss: 0.7260\n",
      "Iter 2263/3000 - Loss: 0.7260\n",
      "Iter 2264/3000 - Loss: 0.7260\n",
      "Iter 2265/3000 - Loss: 0.7260\n",
      "Iter 2266/3000 - Loss: 0.7260\n",
      "Iter 2267/3000 - Loss: 0.7260\n",
      "Iter 2268/3000 - Loss: 0.7260\n"
     ]
    },
    {
     "name": "stderr",
     "output_type": "stream",
     "text": [
      "Iteration:  76%|███████▌  | 2271/3000 [03:03<00:43, 16.80it/s, loss=0.726]"
     ]
    },
    {
     "name": "stdout",
     "output_type": "stream",
     "text": [
      "Iter 2269/3000 - Loss: 0.7260\n",
      "Iter 2270/3000 - Loss: 0.7260\n",
      "Iter 2271/3000 - Loss: 0.7260\n",
      "Iter 2272/3000 - Loss: 0.7260\n",
      "Iter 2273/3000 - Loss: 0.7260\n",
      "Iter 2274/3000 - Loss: 0.7260\n"
     ]
    },
    {
     "name": "stderr",
     "output_type": "stream",
     "text": [
      "Iteration:  76%|███████▌  | 2278/3000 [03:04<00:50, 14.19it/s, loss=0.726]"
     ]
    },
    {
     "name": "stdout",
     "output_type": "stream",
     "text": [
      "Iter 2275/3000 - Loss: 0.7260\n",
      "Iter 2276/3000 - Loss: 0.7260\n",
      "Iter 2277/3000 - Loss: 0.7260\n",
      "Iter 2278/3000 - Loss: 0.7260\n"
     ]
    },
    {
     "name": "stderr",
     "output_type": "stream",
     "text": [
      "Iteration:  76%|███████▌  | 2281/3000 [03:04<00:44, 16.27it/s, loss=0.726]"
     ]
    },
    {
     "name": "stdout",
     "output_type": "stream",
     "text": [
      "Iter 2279/3000 - Loss: 0.7260\n",
      "Iter 2280/3000 - Loss: 0.7260\n",
      "Iter 2281/3000 - Loss: 0.7260\n",
      "Iter 2282/3000 - Loss: 0.7260\n",
      "Iter 2283/3000 - Loss: 0.7260\n"
     ]
    },
    {
     "name": "stderr",
     "output_type": "stream",
     "text": [
      "Iteration:  76%|███████▌  | 2284/3000 [03:04<00:40, 17.53it/s, loss=0.726]"
     ]
    },
    {
     "name": "stdout",
     "output_type": "stream",
     "text": [
      "Iter 2284/3000 - Loss: 0.7260\n"
     ]
    },
    {
     "name": "stderr",
     "output_type": "stream",
     "text": [
      "Iteration:  76%|███████▋  | 2289/3000 [03:06<01:39,  7.12it/s, loss=0.726]"
     ]
    },
    {
     "name": "stdout",
     "output_type": "stream",
     "text": [
      "Iter 2285/3000 - Loss: 0.7260\n",
      "Iter 2286/3000 - Loss: 0.7260\n",
      "Iter 2287/3000 - Loss: 0.7260\n",
      "Iter 2288/3000 - Loss: 0.7260\n",
      "Iter 2289/3000 - Loss: 0.7260\n"
     ]
    },
    {
     "name": "stderr",
     "output_type": "stream",
     "text": [
      "Iteration:  76%|███████▋  | 2292/3000 [03:06<01:20,  8.79it/s, loss=0.726]"
     ]
    },
    {
     "name": "stdout",
     "output_type": "stream",
     "text": [
      "Iter 2290/3000 - Loss: 0.7260\n",
      "Iter 2291/3000 - Loss: 0.7260\n",
      "Iter 2292/3000 - Loss: 0.7260\n"
     ]
    },
    {
     "name": "stderr",
     "output_type": "stream",
     "text": [
      "Iteration:  76%|███████▋  | 2294/3000 [03:06<01:13,  9.63it/s, loss=0.726]"
     ]
    },
    {
     "name": "stdout",
     "output_type": "stream",
     "text": [
      "Iter 2293/3000 - Loss: 0.7260\n",
      "Iter 2294/3000 - Loss: 0.7260\n",
      "Iter 2295/3000 - Loss: 0.7260\n",
      "Iter 2296/3000 - Loss: 0.7260\n",
      "Iter 2297/3000 - Loss: 0.7259\n"
     ]
    },
    {
     "name": "stderr",
     "output_type": "stream",
     "text": [
      "Iteration:  77%|███████▋  | 2300/3000 [03:06<00:51, 13.47it/s, loss=0.726]"
     ]
    },
    {
     "name": "stdout",
     "output_type": "stream",
     "text": [
      "Iter 2298/3000 - Loss: 0.7259\n",
      "Iter 2299/3000 - Loss: 0.7259\n",
      "Iter 2300/3000 - Loss: 0.7259\n",
      "Iter 2301/3000 - Loss: 0.7259\n",
      "Iter 2302/3000 - Loss: 0.7259\n"
     ]
    },
    {
     "name": "stderr",
     "output_type": "stream",
     "text": [
      "Iteration:  77%|███████▋  | 2307/3000 [03:07<00:34, 20.16it/s, loss=0.726]"
     ]
    },
    {
     "name": "stdout",
     "output_type": "stream",
     "text": [
      "Iter 2303/3000 - Loss: 0.7259\n",
      "Iter 2304/3000 - Loss: 0.7259\n",
      "Iter 2305/3000 - Loss: 0.7259\n",
      "Iter 2306/3000 - Loss: 0.7259\n",
      "Iter 2307/3000 - Loss: 0.7259\n",
      "Iter 2308/3000 - Loss: 0.7259\n",
      "Iter 2309/3000 - Loss: 0.7259\n"
     ]
    },
    {
     "name": "stderr",
     "output_type": "stream",
     "text": [
      "Iteration:  77%|███████▋  | 2315/3000 [03:07<00:25, 26.71it/s, loss=0.726]"
     ]
    },
    {
     "name": "stdout",
     "output_type": "stream",
     "text": [
      "Iter 2310/3000 - Loss: 0.7259\n",
      "Iter 2311/3000 - Loss: 0.7259\n",
      "Iter 2312/3000 - Loss: 0.7259\n",
      "Iter 2313/3000 - Loss: 0.7259\n",
      "Iter 2314/3000 - Loss: 0.7259\n",
      "Iter 2315/3000 - Loss: 0.7259\n",
      "Iter 2316/3000 - Loss: 0.7259\n",
      "Iter 2317/3000 - Loss: 0.7259\n"
     ]
    },
    {
     "name": "stderr",
     "output_type": "stream",
     "text": [
      "Iteration:  77%|███████▋  | 2323/3000 [03:07<00:23, 29.41it/s, loss=0.726]"
     ]
    },
    {
     "name": "stdout",
     "output_type": "stream",
     "text": [
      "Iter 2318/3000 - Loss: 0.7259\n",
      "Iter 2319/3000 - Loss: 0.7259\n",
      "Iter 2320/3000 - Loss: 0.7259\n",
      "Iter 2321/3000 - Loss: 0.7259\n",
      "Iter 2322/3000 - Loss: 0.7259\n",
      "Iter 2323/3000 - Loss: 0.7259\n",
      "Iter 2324/3000 - Loss: 0.7259\n"
     ]
    },
    {
     "name": "stderr",
     "output_type": "stream",
     "text": [
      "Iteration:  78%|███████▊  | 2331/3000 [03:07<00:20, 32.79it/s, loss=0.726]"
     ]
    },
    {
     "name": "stdout",
     "output_type": "stream",
     "text": [
      "Iter 2325/3000 - Loss: 0.7259\n",
      "Iter 2326/3000 - Loss: 0.7259\n",
      "Iter 2327/3000 - Loss: 0.7259\n",
      "Iter 2328/3000 - Loss: 0.7259\n",
      "Iter 2329/3000 - Loss: 0.7259\n",
      "Iter 2330/3000 - Loss: 0.7259\n",
      "Iter 2331/3000 - Loss: 0.7259\n"
     ]
    },
    {
     "name": "stderr",
     "output_type": "stream",
     "text": [
      "Iteration:  78%|███████▊  | 2331/3000 [03:07<00:20, 32.79it/s, loss=0.726]"
     ]
    },
    {
     "name": "stdout",
     "output_type": "stream",
     "text": [
      "Iter 2332/3000 - Loss: 0.7259\n",
      "Iter 2333/3000 - Loss: 0.7259\n"
     ]
    },
    {
     "name": "stderr",
     "output_type": "stream",
     "text": [
      "Iteration:  78%|███████▊  | 2331/3000 [03:08<00:20, 32.79it/s, loss=0.726]"
     ]
    },
    {
     "name": "stdout",
     "output_type": "stream",
     "text": [
      "Iter 2334/3000 - Loss: 0.7259\n"
     ]
    },
    {
     "name": "stderr",
     "output_type": "stream",
     "text": [
      "Iteration:  78%|███████▊  | 2338/3000 [03:08<00:34, 19.05it/s, loss=0.726]"
     ]
    },
    {
     "name": "stdout",
     "output_type": "stream",
     "text": [
      "Iter 2335/3000 - Loss: 0.7258\n",
      "Iter 2336/3000 - Loss: 0.7258\n",
      "Iter 2337/3000 - Loss: 0.7258\n",
      "Iter 2338/3000 - Loss: 0.7258\n"
     ]
    },
    {
     "name": "stderr",
     "output_type": "stream",
     "text": [
      "\r",
      "Iteration:  78%|███████▊  | 2338/3000 [03:08<00:34, 19.05it/s, loss=0.726]"
     ]
    },
    {
     "name": "stdout",
     "output_type": "stream",
     "text": [
      "Iter 2339/3000 - Loss: 0.7258\n"
     ]
    },
    {
     "name": "stderr",
     "output_type": "stream",
     "text": [
      "\r",
      "Iteration:  78%|███████▊  | 2338/3000 [03:15<00:34, 19.05it/s, loss=0.726]"
     ]
    },
    {
     "name": "stdout",
     "output_type": "stream",
     "text": [
      "Iter 2340/3000 - Loss: 0.7258\n"
     ]
    },
    {
     "name": "stderr",
     "output_type": "stream",
     "text": [
      "Iteration:  78%|███████▊  | 2341/3000 [03:22<14:18,  1.30s/it, loss=0.726]"
     ]
    },
    {
     "name": "stdout",
     "output_type": "stream",
     "text": [
      "Iter 2341/3000 - Loss: 0.7258\n"
     ]
    },
    {
     "name": "stderr",
     "output_type": "stream",
     "text": [
      "Iteration:  78%|███████▊  | 2346/3000 [03:28<11:56,  1.10s/it, loss=0.726]"
     ]
    },
    {
     "name": "stdout",
     "output_type": "stream",
     "text": [
      "Iter 2342/3000 - Loss: 0.7258\n",
      "Iter 2343/3000 - Loss: 0.7258\n",
      "Iter 2344/3000 - Loss: 0.7258\n",
      "Iter 2345/3000 - Loss: 0.7258\n",
      "Iter 2346/3000 - Loss: 0.7258\n",
      "Iter 2347/3000 - Loss: 0.7258\n",
      "Iter 2348/3000 - Loss: 0.7258\n"
     ]
    },
    {
     "name": "stderr",
     "output_type": "stream",
     "text": [
      "Iteration:  78%|███████▊  | 2350/3000 [03:28<07:46,  1.39it/s, loss=0.726]"
     ]
    },
    {
     "name": "stdout",
     "output_type": "stream",
     "text": [
      "Iter 2349/3000 - Loss: 0.7258\n",
      "Iter 2350/3000 - Loss: 0.7258\n",
      "Iter 2351/3000 - Loss: 0.7258\n",
      "Iter 2352/3000 - Loss: 0.7258\n"
     ]
    },
    {
     "name": "stderr",
     "output_type": "stream",
     "text": [
      "\r",
      "Iteration:  78%|███████▊  | 2353/3000 [03:28<05:46,  1.87it/s, loss=0.726]"
     ]
    },
    {
     "name": "stdout",
     "output_type": "stream",
     "text": [
      "Iter 2353/3000 - Loss: 0.7258\n"
     ]
    },
    {
     "name": "stderr",
     "output_type": "stream",
     "text": [
      "\r",
      "Iteration:  78%|███████▊  | 2353/3000 [03:29<05:46,  1.87it/s, loss=0.726]"
     ]
    },
    {
     "name": "stdout",
     "output_type": "stream",
     "text": [
      "Iter 2354/3000 - Loss: 0.7258\n"
     ]
    },
    {
     "name": "stderr",
     "output_type": "stream",
     "text": [
      "\r",
      "Iteration:  78%|███████▊  | 2353/3000 [03:29<05:46,  1.87it/s, loss=0.726]"
     ]
    },
    {
     "name": "stdout",
     "output_type": "stream",
     "text": [
      "Iter 2355/3000 - Loss: 0.7258\n"
     ]
    },
    {
     "name": "stderr",
     "output_type": "stream",
     "text": [
      "Iteration:  79%|███████▊  | 2356/3000 [03:30<06:18,  1.70it/s, loss=0.726]"
     ]
    },
    {
     "name": "stdout",
     "output_type": "stream",
     "text": [
      "Iter 2356/3000 - Loss: 0.7258\n",
      "Iter 2357/3000 - Loss: 0.7258\n"
     ]
    },
    {
     "name": "stderr",
     "output_type": "stream",
     "text": [
      "Iteration:  79%|███████▊  | 2358/3000 [03:31<05:23,  1.99it/s, loss=0.726]"
     ]
    },
    {
     "name": "stdout",
     "output_type": "stream",
     "text": [
      "Iter 2358/3000 - Loss: 0.7258\n",
      "Iter 2359/3000 - Loss: 0.7258\n"
     ]
    },
    {
     "name": "stderr",
     "output_type": "stream",
     "text": [
      "Iteration:  79%|███████▊  | 2360/3000 [03:31<04:22,  2.44it/s, loss=0.726]"
     ]
    },
    {
     "name": "stdout",
     "output_type": "stream",
     "text": [
      "Iter 2360/3000 - Loss: 0.7258\n",
      "Iter 2361/3000 - Loss: 0.7258\n",
      "Iter 2362/3000 - Loss: 0.7258\n"
     ]
    },
    {
     "name": "stderr",
     "output_type": "stream",
     "text": [
      "Iteration:  79%|███████▉  | 2363/3000 [03:32<04:11,  2.53it/s, loss=0.726]"
     ]
    },
    {
     "name": "stdout",
     "output_type": "stream",
     "text": [
      "Iter 2363/3000 - Loss: 0.7258\n"
     ]
    },
    {
     "name": "stderr",
     "output_type": "stream",
     "text": [
      "Iteration:  79%|███████▉  | 2364/3000 [03:32<04:06,  2.58it/s, loss=0.726]"
     ]
    },
    {
     "name": "stdout",
     "output_type": "stream",
     "text": [
      "Iter 2364/3000 - Loss: 0.7258\n"
     ]
    },
    {
     "name": "stderr",
     "output_type": "stream",
     "text": [
      "Iteration:  79%|███████▉  | 2365/3000 [03:33<05:06,  2.07it/s, loss=0.726]"
     ]
    },
    {
     "name": "stdout",
     "output_type": "stream",
     "text": [
      "Iter 2365/3000 - Loss: 0.7258\n"
     ]
    },
    {
     "name": "stderr",
     "output_type": "stream",
     "text": [
      "Iteration:  79%|███████▉  | 2366/3000 [03:35<06:25,  1.64it/s, loss=0.726]"
     ]
    },
    {
     "name": "stdout",
     "output_type": "stream",
     "text": [
      "Iter 2366/3000 - Loss: 0.7258\n"
     ]
    },
    {
     "name": "stderr",
     "output_type": "stream",
     "text": [
      "Iteration:  79%|███████▉  | 2367/3000 [03:36<07:21,  1.43it/s, loss=0.726]"
     ]
    },
    {
     "name": "stdout",
     "output_type": "stream",
     "text": [
      "Iter 2367/3000 - Loss: 0.7258\n"
     ]
    },
    {
     "name": "stderr",
     "output_type": "stream",
     "text": [
      "Iteration:  79%|███████▉  | 2368/3000 [03:36<07:50,  1.34it/s, loss=0.726]"
     ]
    },
    {
     "name": "stdout",
     "output_type": "stream",
     "text": [
      "Iter 2368/3000 - Loss: 0.7258\n"
     ]
    },
    {
     "name": "stderr",
     "output_type": "stream",
     "text": [
      "Iteration:  79%|███████▉  | 2369/3000 [03:38<08:51,  1.19it/s, loss=0.726]"
     ]
    },
    {
     "name": "stdout",
     "output_type": "stream",
     "text": [
      "Iter 2369/3000 - Loss: 0.7258\n"
     ]
    },
    {
     "name": "stderr",
     "output_type": "stream",
     "text": [
      "Iteration:  79%|███████▉  | 2370/3000 [03:39<09:56,  1.06it/s, loss=0.726]"
     ]
    },
    {
     "name": "stdout",
     "output_type": "stream",
     "text": [
      "Iter 2370/3000 - Loss: 0.7258\n"
     ]
    },
    {
     "name": "stderr",
     "output_type": "stream",
     "text": [
      "Iteration:  79%|███████▉  | 2371/3000 [03:40<10:42,  1.02s/it, loss=0.726]"
     ]
    },
    {
     "name": "stdout",
     "output_type": "stream",
     "text": [
      "Iter 2371/3000 - Loss: 0.7258\n"
     ]
    },
    {
     "name": "stderr",
     "output_type": "stream",
     "text": [
      "Iteration:  79%|███████▉  | 2372/3000 [03:41<11:10,  1.07s/it, loss=0.726]"
     ]
    },
    {
     "name": "stdout",
     "output_type": "stream",
     "text": [
      "Iter 2372/3000 - Loss: 0.7258\n"
     ]
    },
    {
     "name": "stderr",
     "output_type": "stream",
     "text": [
      "Iteration:  79%|███████▉  | 2373/3000 [03:42<11:35,  1.11s/it, loss=0.726]"
     ]
    },
    {
     "name": "stdout",
     "output_type": "stream",
     "text": [
      "Iter 2373/3000 - Loss: 0.7258\n"
     ]
    },
    {
     "name": "stderr",
     "output_type": "stream",
     "text": [
      "Iteration:  79%|███████▉  | 2374/3000 [03:43<11:17,  1.08s/it, loss=0.726]"
     ]
    },
    {
     "name": "stdout",
     "output_type": "stream",
     "text": [
      "Iter 2374/3000 - Loss: 0.7257\n"
     ]
    },
    {
     "name": "stderr",
     "output_type": "stream",
     "text": [
      "Iteration:  79%|███████▉  | 2375/3000 [03:45<11:42,  1.12s/it, loss=0.726]"
     ]
    },
    {
     "name": "stdout",
     "output_type": "stream",
     "text": [
      "Iter 2375/3000 - Loss: 0.7257\n"
     ]
    },
    {
     "name": "stderr",
     "output_type": "stream",
     "text": [
      "Iteration:  79%|███████▉  | 2376/3000 [03:46<11:35,  1.11s/it, loss=0.726]"
     ]
    },
    {
     "name": "stdout",
     "output_type": "stream",
     "text": [
      "Iter 2376/3000 - Loss: 0.7257\n"
     ]
    },
    {
     "name": "stderr",
     "output_type": "stream",
     "text": [
      "Iteration:  79%|███████▉  | 2377/3000 [03:47<11:52,  1.14s/it, loss=0.726]"
     ]
    },
    {
     "name": "stdout",
     "output_type": "stream",
     "text": [
      "Iter 2377/3000 - Loss: 0.7257\n"
     ]
    },
    {
     "name": "stderr",
     "output_type": "stream",
     "text": [
      "Iteration:  79%|███████▉  | 2378/3000 [03:48<11:39,  1.12s/it, loss=0.726]"
     ]
    },
    {
     "name": "stdout",
     "output_type": "stream",
     "text": [
      "Iter 2378/3000 - Loss: 0.7257\n"
     ]
    },
    {
     "name": "stderr",
     "output_type": "stream",
     "text": [
      "Iteration:  79%|███████▉  | 2379/3000 [03:49<11:39,  1.13s/it, loss=0.726]"
     ]
    },
    {
     "name": "stdout",
     "output_type": "stream",
     "text": [
      "Iter 2379/3000 - Loss: 0.7257\n"
     ]
    },
    {
     "name": "stderr",
     "output_type": "stream",
     "text": [
      "Iteration:  79%|███████▉  | 2380/3000 [03:50<11:04,  1.07s/it, loss=0.726]"
     ]
    },
    {
     "name": "stdout",
     "output_type": "stream",
     "text": [
      "Iter 2380/3000 - Loss: 0.7257\n"
     ]
    },
    {
     "name": "stderr",
     "output_type": "stream",
     "text": [
      "Iteration:  79%|███████▉  | 2381/3000 [03:51<11:25,  1.11s/it, loss=0.726]"
     ]
    },
    {
     "name": "stdout",
     "output_type": "stream",
     "text": [
      "Iter 2381/3000 - Loss: 0.7257\n"
     ]
    },
    {
     "name": "stderr",
     "output_type": "stream",
     "text": [
      "Iteration:  79%|███████▉  | 2382/3000 [03:52<10:12,  1.01it/s, loss=0.726]"
     ]
    },
    {
     "name": "stdout",
     "output_type": "stream",
     "text": [
      "Iter 2382/3000 - Loss: 0.7257\n"
     ]
    },
    {
     "name": "stderr",
     "output_type": "stream",
     "text": [
      "Iteration:  79%|███████▉  | 2383/3000 [03:53<09:27,  1.09it/s, loss=0.726]"
     ]
    },
    {
     "name": "stdout",
     "output_type": "stream",
     "text": [
      "Iter 2383/3000 - Loss: 0.7257\n"
     ]
    },
    {
     "name": "stderr",
     "output_type": "stream",
     "text": [
      "Iteration:  79%|███████▉  | 2384/3000 [03:54<10:15,  1.00it/s, loss=0.726]"
     ]
    },
    {
     "name": "stdout",
     "output_type": "stream",
     "text": [
      "Iter 2384/3000 - Loss: 0.7257\n"
     ]
    },
    {
     "name": "stderr",
     "output_type": "stream",
     "text": [
      "Iteration:  80%|███████▉  | 2385/3000 [03:55<10:46,  1.05s/it, loss=0.726]"
     ]
    },
    {
     "name": "stdout",
     "output_type": "stream",
     "text": [
      "Iter 2385/3000 - Loss: 0.7257\n"
     ]
    },
    {
     "name": "stderr",
     "output_type": "stream",
     "text": [
      "Iteration:  80%|███████▉  | 2386/3000 [03:56<11:12,  1.10s/it, loss=0.726]"
     ]
    },
    {
     "name": "stdout",
     "output_type": "stream",
     "text": [
      "Iter 2386/3000 - Loss: 0.7257\n"
     ]
    },
    {
     "name": "stderr",
     "output_type": "stream",
     "text": [
      "Iteration:  80%|███████▉  | 2387/3000 [03:57<11:04,  1.08s/it, loss=0.726]"
     ]
    },
    {
     "name": "stdout",
     "output_type": "stream",
     "text": [
      "Iter 2387/3000 - Loss: 0.7257\n"
     ]
    },
    {
     "name": "stderr",
     "output_type": "stream",
     "text": [
      "Iteration:  80%|███████▉  | 2388/3000 [03:59<11:13,  1.10s/it, loss=0.726]"
     ]
    },
    {
     "name": "stdout",
     "output_type": "stream",
     "text": [
      "Iter 2388/3000 - Loss: 0.7257\n"
     ]
    },
    {
     "name": "stderr",
     "output_type": "stream",
     "text": [
      "Iteration:  80%|███████▉  | 2389/3000 [04:00<11:28,  1.13s/it, loss=0.726]"
     ]
    },
    {
     "name": "stdout",
     "output_type": "stream",
     "text": [
      "Iter 2389/3000 - Loss: 0.7257\n"
     ]
    },
    {
     "name": "stderr",
     "output_type": "stream",
     "text": [
      "Iteration:  80%|███████▉  | 2390/3000 [04:01<11:45,  1.16s/it, loss=0.726]"
     ]
    },
    {
     "name": "stdout",
     "output_type": "stream",
     "text": [
      "Iter 2390/3000 - Loss: 0.7257\n"
     ]
    },
    {
     "name": "stderr",
     "output_type": "stream",
     "text": [
      "Iteration:  80%|███████▉  | 2391/3000 [04:02<09:52,  1.03it/s, loss=0.726]"
     ]
    },
    {
     "name": "stdout",
     "output_type": "stream",
     "text": [
      "Iter 2391/3000 - Loss: 0.7257\n"
     ]
    },
    {
     "name": "stderr",
     "output_type": "stream",
     "text": [
      "Iteration:  80%|███████▉  | 2392/3000 [04:03<10:04,  1.01it/s, loss=0.726]"
     ]
    },
    {
     "name": "stdout",
     "output_type": "stream",
     "text": [
      "Iter 2392/3000 - Loss: 0.7257\n"
     ]
    },
    {
     "name": "stderr",
     "output_type": "stream",
     "text": [
      "Iteration:  80%|███████▉  | 2393/3000 [04:04<10:24,  1.03s/it, loss=0.726]"
     ]
    },
    {
     "name": "stdout",
     "output_type": "stream",
     "text": [
      "Iter 2393/3000 - Loss: 0.7257\n"
     ]
    },
    {
     "name": "stderr",
     "output_type": "stream",
     "text": [
      "Iteration:  80%|███████▉  | 2394/3000 [04:05<10:44,  1.06s/it, loss=0.726]"
     ]
    },
    {
     "name": "stdout",
     "output_type": "stream",
     "text": [
      "Iter 2394/3000 - Loss: 0.7257\n"
     ]
    },
    {
     "name": "stderr",
     "output_type": "stream",
     "text": [
      "Iteration:  80%|███████▉  | 2395/3000 [04:06<10:51,  1.08s/it, loss=0.726]"
     ]
    },
    {
     "name": "stdout",
     "output_type": "stream",
     "text": [
      "Iter 2395/3000 - Loss: 0.7257\n"
     ]
    },
    {
     "name": "stderr",
     "output_type": "stream",
     "text": [
      "Iteration:  80%|███████▉  | 2396/3000 [04:07<09:53,  1.02it/s, loss=0.726]"
     ]
    },
    {
     "name": "stdout",
     "output_type": "stream",
     "text": [
      "Iter 2396/3000 - Loss: 0.7257\n"
     ]
    },
    {
     "name": "stderr",
     "output_type": "stream",
     "text": [
      "Iteration:  80%|███████▉  | 2397/3000 [04:07<07:43,  1.30it/s, loss=0.726]"
     ]
    },
    {
     "name": "stdout",
     "output_type": "stream",
     "text": [
      "Iter 2397/3000 - Loss: 0.7257\n"
     ]
    },
    {
     "name": "stderr",
     "output_type": "stream",
     "text": [
      "Iteration:  80%|███████▉  | 2398/3000 [04:08<08:18,  1.21it/s, loss=0.726]"
     ]
    },
    {
     "name": "stdout",
     "output_type": "stream",
     "text": [
      "Iter 2398/3000 - Loss: 0.7257\n"
     ]
    },
    {
     "name": "stderr",
     "output_type": "stream",
     "text": [
      "Iteration:  80%|███████▉  | 2399/3000 [04:09<07:59,  1.25it/s, loss=0.726]"
     ]
    },
    {
     "name": "stdout",
     "output_type": "stream",
     "text": [
      "Iter 2399/3000 - Loss: 0.7257\n"
     ]
    },
    {
     "name": "stderr",
     "output_type": "stream",
     "text": [
      "Iteration:  80%|████████  | 2400/3000 [04:10<08:36,  1.16it/s, loss=0.726]"
     ]
    },
    {
     "name": "stdout",
     "output_type": "stream",
     "text": [
      "Iter 2400/3000 - Loss: 0.7257\n"
     ]
    },
    {
     "name": "stderr",
     "output_type": "stream",
     "text": [
      "Iteration:  80%|████████  | 2401/3000 [04:10<07:54,  1.26it/s, loss=0.726]"
     ]
    },
    {
     "name": "stdout",
     "output_type": "stream",
     "text": [
      "Iter 2401/3000 - Loss: 0.7257\n"
     ]
    },
    {
     "name": "stderr",
     "output_type": "stream",
     "text": [
      "Iteration:  80%|████████  | 2402/3000 [04:12<09:09,  1.09it/s, loss=0.726]"
     ]
    },
    {
     "name": "stdout",
     "output_type": "stream",
     "text": [
      "Iter 2402/3000 - Loss: 0.7257\n"
     ]
    },
    {
     "name": "stderr",
     "output_type": "stream",
     "text": [
      "Iteration:  80%|████████  | 2403/3000 [04:13<09:36,  1.04it/s, loss=0.726]"
     ]
    },
    {
     "name": "stdout",
     "output_type": "stream",
     "text": [
      "Iter 2403/3000 - Loss: 0.7257\n"
     ]
    },
    {
     "name": "stderr",
     "output_type": "stream",
     "text": [
      "Iteration:  80%|████████  | 2404/3000 [04:14<09:59,  1.01s/it, loss=0.726]"
     ]
    },
    {
     "name": "stdout",
     "output_type": "stream",
     "text": [
      "Iter 2404/3000 - Loss: 0.7257\n"
     ]
    },
    {
     "name": "stderr",
     "output_type": "stream",
     "text": [
      "Iteration:  80%|████████  | 2405/3000 [04:15<10:00,  1.01s/it, loss=0.726]"
     ]
    },
    {
     "name": "stdout",
     "output_type": "stream",
     "text": [
      "Iter 2405/3000 - Loss: 0.7257\n"
     ]
    },
    {
     "name": "stderr",
     "output_type": "stream",
     "text": [
      "Iteration:  80%|████████  | 2406/3000 [04:15<08:09,  1.21it/s, loss=0.726]"
     ]
    },
    {
     "name": "stdout",
     "output_type": "stream",
     "text": [
      "Iter 2406/3000 - Loss: 0.7257\n"
     ]
    },
    {
     "name": "stderr",
     "output_type": "stream",
     "text": [
      "Iteration:  80%|████████  | 2408/3000 [04:16<05:07,  1.92it/s, loss=0.726]"
     ]
    },
    {
     "name": "stdout",
     "output_type": "stream",
     "text": [
      "Iter 2407/3000 - Loss: 0.7257\n",
      "Iter 2408/3000 - Loss: 0.7257\n"
     ]
    },
    {
     "name": "stderr",
     "output_type": "stream",
     "text": [
      "Iteration:  80%|████████  | 2410/3000 [04:16<03:20,  2.94it/s, loss=0.726]"
     ]
    },
    {
     "name": "stdout",
     "output_type": "stream",
     "text": [
      "Iter 2409/3000 - Loss: 0.7257\n",
      "Iter 2410/3000 - Loss: 0.7257\n"
     ]
    },
    {
     "name": "stderr",
     "output_type": "stream",
     "text": [
      "Iteration:  80%|████████  | 2411/3000 [04:17<04:42,  2.08it/s, loss=0.726]"
     ]
    },
    {
     "name": "stdout",
     "output_type": "stream",
     "text": [
      "Iter 2411/3000 - Loss: 0.7257\n"
     ]
    },
    {
     "name": "stderr",
     "output_type": "stream",
     "text": [
      "Iteration:  80%|████████  | 2412/3000 [04:17<05:03,  1.94it/s, loss=0.726]"
     ]
    },
    {
     "name": "stdout",
     "output_type": "stream",
     "text": [
      "Iter 2412/3000 - Loss: 0.7257\n"
     ]
    },
    {
     "name": "stderr",
     "output_type": "stream",
     "text": [
      "Iteration:  80%|████████  | 2413/3000 [04:18<04:43,  2.07it/s, loss=0.726]"
     ]
    },
    {
     "name": "stdout",
     "output_type": "stream",
     "text": [
      "Iter 2413/3000 - Loss: 0.7257\n"
     ]
    },
    {
     "name": "stderr",
     "output_type": "stream",
     "text": [
      "Iteration:  80%|████████  | 2414/3000 [04:19<06:06,  1.60it/s, loss=0.726]"
     ]
    },
    {
     "name": "stdout",
     "output_type": "stream",
     "text": [
      "Iter 2414/3000 - Loss: 0.7257\n"
     ]
    },
    {
     "name": "stderr",
     "output_type": "stream",
     "text": [
      "Iteration:  80%|████████  | 2415/3000 [04:19<06:18,  1.55it/s, loss=0.726]"
     ]
    },
    {
     "name": "stdout",
     "output_type": "stream",
     "text": [
      "Iter 2415/3000 - Loss: 0.7257\n"
     ]
    },
    {
     "name": "stderr",
     "output_type": "stream",
     "text": [
      "Iteration:  81%|████████  | 2416/3000 [04:20<07:25,  1.31it/s, loss=0.726]"
     ]
    },
    {
     "name": "stdout",
     "output_type": "stream",
     "text": [
      "Iter 2416/3000 - Loss: 0.7256\n"
     ]
    },
    {
     "name": "stderr",
     "output_type": "stream",
     "text": [
      "Iteration:  81%|████████  | 2417/3000 [04:22<08:40,  1.12it/s, loss=0.726]"
     ]
    },
    {
     "name": "stdout",
     "output_type": "stream",
     "text": [
      "Iter 2417/3000 - Loss: 0.7256\n"
     ]
    },
    {
     "name": "stderr",
     "output_type": "stream",
     "text": [
      "Iteration:  81%|████████  | 2418/3000 [04:23<09:22,  1.03it/s, loss=0.726]"
     ]
    },
    {
     "name": "stdout",
     "output_type": "stream",
     "text": [
      "Iter 2418/3000 - Loss: 0.7256\n"
     ]
    },
    {
     "name": "stderr",
     "output_type": "stream",
     "text": [
      "Iteration:  81%|████████  | 2419/3000 [04:24<09:29,  1.02it/s, loss=0.726]"
     ]
    },
    {
     "name": "stdout",
     "output_type": "stream",
     "text": [
      "Iter 2419/3000 - Loss: 0.7256\n"
     ]
    },
    {
     "name": "stderr",
     "output_type": "stream",
     "text": [
      "Iteration:  81%|████████  | 2420/3000 [04:25<09:20,  1.03it/s, loss=0.726]"
     ]
    },
    {
     "name": "stdout",
     "output_type": "stream",
     "text": [
      "Iter 2420/3000 - Loss: 0.7256\n"
     ]
    },
    {
     "name": "stderr",
     "output_type": "stream",
     "text": [
      "Iteration:  81%|████████  | 2421/3000 [04:25<07:27,  1.29it/s, loss=0.726]"
     ]
    },
    {
     "name": "stdout",
     "output_type": "stream",
     "text": [
      "Iter 2421/3000 - Loss: 0.7256\n"
     ]
    },
    {
     "name": "stderr",
     "output_type": "stream",
     "text": [
      "Iteration:  81%|████████  | 2422/3000 [04:25<05:57,  1.62it/s, loss=0.726]"
     ]
    },
    {
     "name": "stdout",
     "output_type": "stream",
     "text": [
      "Iter 2422/3000 - Loss: 0.7256\n"
     ]
    },
    {
     "name": "stderr",
     "output_type": "stream",
     "text": [
      "\r",
      "Iteration:  81%|████████  | 2423/3000 [04:26<05:51,  1.64it/s, loss=0.726]"
     ]
    },
    {
     "name": "stdout",
     "output_type": "stream",
     "text": [
      "Iter 2423/3000 - Loss: 0.7256\n"
     ]
    },
    {
     "name": "stderr",
     "output_type": "stream",
     "text": [
      "Iteration:  81%|████████  | 2424/3000 [04:27<06:23,  1.50it/s, loss=0.726]"
     ]
    },
    {
     "name": "stdout",
     "output_type": "stream",
     "text": [
      "Iter 2424/3000 - Loss: 0.7256\n"
     ]
    },
    {
     "name": "stderr",
     "output_type": "stream",
     "text": [
      "Iteration:  81%|████████  | 2425/3000 [04:28<07:09,  1.34it/s, loss=0.726]"
     ]
    },
    {
     "name": "stdout",
     "output_type": "stream",
     "text": [
      "Iter 2425/3000 - Loss: 0.7256\n"
     ]
    },
    {
     "name": "stderr",
     "output_type": "stream",
     "text": [
      "Iteration:  81%|████████  | 2426/3000 [04:29<08:02,  1.19it/s, loss=0.726]"
     ]
    },
    {
     "name": "stdout",
     "output_type": "stream",
     "text": [
      "Iter 2426/3000 - Loss: 0.7256\n"
     ]
    },
    {
     "name": "stderr",
     "output_type": "stream",
     "text": [
      "Iteration:  81%|████████  | 2427/3000 [04:30<09:03,  1.05it/s, loss=0.726]"
     ]
    },
    {
     "name": "stdout",
     "output_type": "stream",
     "text": [
      "Iter 2427/3000 - Loss: 0.7256\n"
     ]
    },
    {
     "name": "stderr",
     "output_type": "stream",
     "text": [
      "Iteration:  81%|████████  | 2428/3000 [04:31<08:29,  1.12it/s, loss=0.726]"
     ]
    },
    {
     "name": "stdout",
     "output_type": "stream",
     "text": [
      "Iter 2428/3000 - Loss: 0.7256\n"
     ]
    },
    {
     "name": "stderr",
     "output_type": "stream",
     "text": [
      "\r",
      "Iteration:  81%|████████  | 2429/3000 [04:31<06:59,  1.36it/s, loss=0.726]"
     ]
    },
    {
     "name": "stdout",
     "output_type": "stream",
     "text": [
      "Iter 2429/3000 - Loss: 0.7256\n"
     ]
    },
    {
     "name": "stderr",
     "output_type": "stream",
     "text": [
      "Iteration:  81%|████████  | 2430/3000 [04:32<07:04,  1.34it/s, loss=0.726]"
     ]
    },
    {
     "name": "stdout",
     "output_type": "stream",
     "text": [
      "Iter 2430/3000 - Loss: 0.7256\n"
     ]
    },
    {
     "name": "stderr",
     "output_type": "stream",
     "text": [
      "Iteration:  81%|████████  | 2433/3000 [04:32<03:26,  2.75it/s, loss=0.726]"
     ]
    },
    {
     "name": "stdout",
     "output_type": "stream",
     "text": [
      "Iter 2431/3000 - Loss: 0.7256\n",
      "Iter 2432/3000 - Loss: 0.7256\n",
      "Iter 2433/3000 - Loss: 0.7256\n"
     ]
    },
    {
     "name": "stderr",
     "output_type": "stream",
     "text": [
      "Iteration:  81%|████████  | 2434/3000 [04:33<03:20,  2.82it/s, loss=0.726]"
     ]
    },
    {
     "name": "stdout",
     "output_type": "stream",
     "text": [
      "Iter 2434/3000 - Loss: 0.7256\n",
      "Iter 2435/3000 - Loss: 0.7256\n"
     ]
    },
    {
     "name": "stderr",
     "output_type": "stream",
     "text": [
      "Iteration:  81%|████████  | 2436/3000 [04:33<03:34,  2.63it/s, loss=0.726]"
     ]
    },
    {
     "name": "stdout",
     "output_type": "stream",
     "text": [
      "Iter 2436/3000 - Loss: 0.7256\n"
     ]
    },
    {
     "name": "stderr",
     "output_type": "stream",
     "text": [
      "Iteration:  81%|████████  | 2437/3000 [04:34<04:26,  2.12it/s, loss=0.726]"
     ]
    },
    {
     "name": "stdout",
     "output_type": "stream",
     "text": [
      "Iter 2437/3000 - Loss: 0.7256\n"
     ]
    },
    {
     "name": "stderr",
     "output_type": "stream",
     "text": [
      "Iteration:  81%|████████▏ | 2438/3000 [04:35<04:32,  2.06it/s, loss=0.726]"
     ]
    },
    {
     "name": "stdout",
     "output_type": "stream",
     "text": [
      "Iter 2438/3000 - Loss: 0.7256\n"
     ]
    },
    {
     "name": "stderr",
     "output_type": "stream",
     "text": [
      "Iteration:  81%|████████▏ | 2439/3000 [04:35<05:15,  1.78it/s, loss=0.726]"
     ]
    },
    {
     "name": "stdout",
     "output_type": "stream",
     "text": [
      "Iter 2439/3000 - Loss: 0.7256\n"
     ]
    },
    {
     "name": "stderr",
     "output_type": "stream",
     "text": [
      "Iteration:  81%|████████▏ | 2440/3000 [04:37<08:26,  1.11it/s, loss=0.726]"
     ]
    },
    {
     "name": "stdout",
     "output_type": "stream",
     "text": [
      "Iter 2440/3000 - Loss: 0.7256\n"
     ]
    },
    {
     "name": "stderr",
     "output_type": "stream",
     "text": [
      "Iteration:  81%|████████▏ | 2441/3000 [04:39<11:11,  1.20s/it, loss=0.726]"
     ]
    },
    {
     "name": "stdout",
     "output_type": "stream",
     "text": [
      "Iter 2441/3000 - Loss: 0.7256\n"
     ]
    },
    {
     "name": "stderr",
     "output_type": "stream",
     "text": [
      "Iteration:  81%|████████▏ | 2442/3000 [04:41<12:07,  1.30s/it, loss=0.726]"
     ]
    },
    {
     "name": "stdout",
     "output_type": "stream",
     "text": [
      "Iter 2442/3000 - Loss: 0.7256\n"
     ]
    },
    {
     "name": "stderr",
     "output_type": "stream",
     "text": [
      "Iteration:  81%|████████▏ | 2443/3000 [04:42<12:00,  1.29s/it, loss=0.726]"
     ]
    },
    {
     "name": "stdout",
     "output_type": "stream",
     "text": [
      "Iter 2443/3000 - Loss: 0.7256\n"
     ]
    },
    {
     "name": "stderr",
     "output_type": "stream",
     "text": [
      "Iteration:  81%|████████▏ | 2444/3000 [04:44<13:59,  1.51s/it, loss=0.726]"
     ]
    },
    {
     "name": "stdout",
     "output_type": "stream",
     "text": [
      "Iter 2444/3000 - Loss: 0.7256\n"
     ]
    },
    {
     "name": "stderr",
     "output_type": "stream",
     "text": [
      "Iteration:  82%|████████▏ | 2445/3000 [04:46<14:38,  1.58s/it, loss=0.726]"
     ]
    },
    {
     "name": "stdout",
     "output_type": "stream",
     "text": [
      "Iter 2445/3000 - Loss: 0.7256\n"
     ]
    },
    {
     "name": "stderr",
     "output_type": "stream",
     "text": [
      "Iteration:  82%|████████▏ | 2446/3000 [04:48<14:48,  1.60s/it, loss=0.726]"
     ]
    },
    {
     "name": "stdout",
     "output_type": "stream",
     "text": [
      "Iter 2446/3000 - Loss: 0.7256\n"
     ]
    },
    {
     "name": "stderr",
     "output_type": "stream",
     "text": [
      "Iteration:  82%|████████▏ | 2447/3000 [04:49<15:19,  1.66s/it, loss=0.726]"
     ]
    },
    {
     "name": "stdout",
     "output_type": "stream",
     "text": [
      "Iter 2447/3000 - Loss: 0.7256\n"
     ]
    },
    {
     "name": "stderr",
     "output_type": "stream",
     "text": [
      "Iteration:  82%|████████▏ | 2448/3000 [04:51<15:44,  1.71s/it, loss=0.726]"
     ]
    },
    {
     "name": "stdout",
     "output_type": "stream",
     "text": [
      "Iter 2448/3000 - Loss: 0.7256\n"
     ]
    },
    {
     "name": "stderr",
     "output_type": "stream",
     "text": [
      "Iteration:  82%|████████▏ | 2449/3000 [04:53<16:33,  1.80s/it, loss=0.726]"
     ]
    },
    {
     "name": "stdout",
     "output_type": "stream",
     "text": [
      "Iter 2449/3000 - Loss: 0.7256\n"
     ]
    },
    {
     "name": "stderr",
     "output_type": "stream",
     "text": [
      "Iteration:  82%|████████▏ | 2450/3000 [04:55<16:03,  1.75s/it, loss=0.726]"
     ]
    },
    {
     "name": "stdout",
     "output_type": "stream",
     "text": [
      "Iter 2450/3000 - Loss: 0.7256\n"
     ]
    },
    {
     "name": "stderr",
     "output_type": "stream",
     "text": [
      "Iteration:  82%|████████▏ | 2451/3000 [04:57<16:12,  1.77s/it, loss=0.726]"
     ]
    },
    {
     "name": "stdout",
     "output_type": "stream",
     "text": [
      "Iter 2451/3000 - Loss: 0.7256\n"
     ]
    },
    {
     "name": "stderr",
     "output_type": "stream",
     "text": [
      "Iteration:  82%|████████▏ | 2452/3000 [04:59<17:23,  1.90s/it, loss=0.726]"
     ]
    },
    {
     "name": "stdout",
     "output_type": "stream",
     "text": [
      "Iter 2452/3000 - Loss: 0.7256\n"
     ]
    },
    {
     "name": "stderr",
     "output_type": "stream",
     "text": [
      "Iteration:  82%|████████▏ | 2453/3000 [05:01<17:18,  1.90s/it, loss=0.726]"
     ]
    },
    {
     "name": "stdout",
     "output_type": "stream",
     "text": [
      "Iter 2453/3000 - Loss: 0.7256\n"
     ]
    },
    {
     "name": "stderr",
     "output_type": "stream",
     "text": [
      "Iteration:  82%|████████▏ | 2454/3000 [05:02<16:35,  1.82s/it, loss=0.726]"
     ]
    },
    {
     "name": "stdout",
     "output_type": "stream",
     "text": [
      "Iter 2454/3000 - Loss: 0.7256\n"
     ]
    },
    {
     "name": "stderr",
     "output_type": "stream",
     "text": [
      "Iteration:  82%|████████▏ | 2455/3000 [05:04<16:49,  1.85s/it, loss=0.726]"
     ]
    },
    {
     "name": "stdout",
     "output_type": "stream",
     "text": [
      "Iter 2455/3000 - Loss: 0.7256\n"
     ]
    },
    {
     "name": "stderr",
     "output_type": "stream",
     "text": [
      "Iteration:  82%|████████▏ | 2456/3000 [05:06<16:53,  1.86s/it, loss=0.726]"
     ]
    },
    {
     "name": "stdout",
     "output_type": "stream",
     "text": [
      "Iter 2456/3000 - Loss: 0.7256\n"
     ]
    },
    {
     "name": "stderr",
     "output_type": "stream",
     "text": [
      "Iteration:  82%|████████▏ | 2457/3000 [05:08<17:29,  1.93s/it, loss=0.726]"
     ]
    },
    {
     "name": "stdout",
     "output_type": "stream",
     "text": [
      "Iter 2457/3000 - Loss: 0.7256\n"
     ]
    },
    {
     "name": "stderr",
     "output_type": "stream",
     "text": [
      "Iteration:  82%|████████▏ | 2458/3000 [05:10<17:30,  1.94s/it, loss=0.726]"
     ]
    },
    {
     "name": "stdout",
     "output_type": "stream",
     "text": [
      "Iter 2458/3000 - Loss: 0.7256\n"
     ]
    },
    {
     "name": "stderr",
     "output_type": "stream",
     "text": [
      "Iteration:  82%|████████▏ | 2459/3000 [05:12<18:19,  2.03s/it, loss=0.726]"
     ]
    },
    {
     "name": "stdout",
     "output_type": "stream",
     "text": [
      "Iter 2459/3000 - Loss: 0.7256\n"
     ]
    },
    {
     "name": "stderr",
     "output_type": "stream",
     "text": [
      "Iteration:  82%|████████▏ | 2460/3000 [05:14<17:58,  2.00s/it, loss=0.726]"
     ]
    },
    {
     "name": "stdout",
     "output_type": "stream",
     "text": [
      "Iter 2460/3000 - Loss: 0.7256\n"
     ]
    },
    {
     "name": "stderr",
     "output_type": "stream",
     "text": [
      "Iteration:  82%|████████▏ | 2461/3000 [05:16<17:35,  1.96s/it, loss=0.726]"
     ]
    },
    {
     "name": "stdout",
     "output_type": "stream",
     "text": [
      "Iter 2461/3000 - Loss: 0.7256\n"
     ]
    },
    {
     "name": "stderr",
     "output_type": "stream",
     "text": [
      "Iteration:  82%|████████▏ | 2462/3000 [05:18<16:40,  1.86s/it, loss=0.726]"
     ]
    },
    {
     "name": "stdout",
     "output_type": "stream",
     "text": [
      "Iter 2462/3000 - Loss: 0.7255\n"
     ]
    },
    {
     "name": "stderr",
     "output_type": "stream",
     "text": [
      "Iteration:  82%|████████▏ | 2463/3000 [05:20<16:41,  1.87s/it, loss=0.726]"
     ]
    },
    {
     "name": "stdout",
     "output_type": "stream",
     "text": [
      "Iter 2463/3000 - Loss: 0.7255\n"
     ]
    },
    {
     "name": "stderr",
     "output_type": "stream",
     "text": [
      "Iteration:  82%|████████▏ | 2464/3000 [05:22<16:58,  1.90s/it, loss=0.726]"
     ]
    },
    {
     "name": "stdout",
     "output_type": "stream",
     "text": [
      "Iter 2464/3000 - Loss: 0.7255\n"
     ]
    },
    {
     "name": "stderr",
     "output_type": "stream",
     "text": [
      "Iteration:  82%|████████▏ | 2465/3000 [05:24<17:06,  1.92s/it, loss=0.726]"
     ]
    },
    {
     "name": "stdout",
     "output_type": "stream",
     "text": [
      "Iter 2465/3000 - Loss: 0.7255\n"
     ]
    },
    {
     "name": "stderr",
     "output_type": "stream",
     "text": [
      "Iteration:  82%|████████▏ | 2466/3000 [05:26<17:27,  1.96s/it, loss=0.726]"
     ]
    },
    {
     "name": "stdout",
     "output_type": "stream",
     "text": [
      "Iter 2466/3000 - Loss: 0.7255\n"
     ]
    },
    {
     "name": "stderr",
     "output_type": "stream",
     "text": [
      "Iteration:  82%|████████▏ | 2467/3000 [05:28<17:11,  1.93s/it, loss=0.726]"
     ]
    },
    {
     "name": "stdout",
     "output_type": "stream",
     "text": [
      "Iter 2467/3000 - Loss: 0.7255\n"
     ]
    },
    {
     "name": "stderr",
     "output_type": "stream",
     "text": [
      "Iteration:  82%|████████▏ | 2468/3000 [05:29<15:53,  1.79s/it, loss=0.726]"
     ]
    },
    {
     "name": "stdout",
     "output_type": "stream",
     "text": [
      "Iter 2468/3000 - Loss: 0.7255\n"
     ]
    },
    {
     "name": "stderr",
     "output_type": "stream",
     "text": [
      "Iteration:  82%|████████▏ | 2469/3000 [05:31<16:21,  1.85s/it, loss=0.726]"
     ]
    },
    {
     "name": "stdout",
     "output_type": "stream",
     "text": [
      "Iter 2469/3000 - Loss: 0.7255\n"
     ]
    },
    {
     "name": "stderr",
     "output_type": "stream",
     "text": [
      "Iteration:  82%|████████▏ | 2470/3000 [05:33<15:47,  1.79s/it, loss=0.726]"
     ]
    },
    {
     "name": "stdout",
     "output_type": "stream",
     "text": [
      "Iter 2470/3000 - Loss: 0.7255\n"
     ]
    },
    {
     "name": "stderr",
     "output_type": "stream",
     "text": [
      "Iteration:  82%|████████▏ | 2471/3000 [05:34<14:54,  1.69s/it, loss=0.726]"
     ]
    },
    {
     "name": "stdout",
     "output_type": "stream",
     "text": [
      "Iter 2471/3000 - Loss: 0.7255\n"
     ]
    },
    {
     "name": "stderr",
     "output_type": "stream",
     "text": [
      "Iteration:  82%|████████▏ | 2472/3000 [05:36<15:20,  1.74s/it, loss=0.726]"
     ]
    },
    {
     "name": "stdout",
     "output_type": "stream",
     "text": [
      "Iter 2472/3000 - Loss: 0.7255\n"
     ]
    },
    {
     "name": "stderr",
     "output_type": "stream",
     "text": [
      "Iteration:  82%|████████▏ | 2473/3000 [05:38<15:27,  1.76s/it, loss=0.726]"
     ]
    },
    {
     "name": "stdout",
     "output_type": "stream",
     "text": [
      "Iter 2473/3000 - Loss: 0.7255\n"
     ]
    },
    {
     "name": "stderr",
     "output_type": "stream",
     "text": [
      "Iteration:  82%|████████▏ | 2474/3000 [05:40<15:12,  1.74s/it, loss=0.726]"
     ]
    },
    {
     "name": "stdout",
     "output_type": "stream",
     "text": [
      "Iter 2474/3000 - Loss: 0.7255\n"
     ]
    },
    {
     "name": "stderr",
     "output_type": "stream",
     "text": [
      "Iteration:  82%|████████▎ | 2475/3000 [05:40<12:29,  1.43s/it, loss=0.726]"
     ]
    },
    {
     "name": "stdout",
     "output_type": "stream",
     "text": [
      "Iter 2475/3000 - Loss: 0.7255\n"
     ]
    },
    {
     "name": "stderr",
     "output_type": "stream",
     "text": [
      "Iteration:  83%|████████▎ | 2476/3000 [05:42<14:24,  1.65s/it, loss=0.726]"
     ]
    },
    {
     "name": "stdout",
     "output_type": "stream",
     "text": [
      "Iter 2476/3000 - Loss: 0.7255\n"
     ]
    },
    {
     "name": "stderr",
     "output_type": "stream",
     "text": [
      "Iteration:  83%|████████▎ | 2477/3000 [05:43<12:45,  1.46s/it, loss=0.726]"
     ]
    },
    {
     "name": "stdout",
     "output_type": "stream",
     "text": [
      "Iter 2477/3000 - Loss: 0.7255\n"
     ]
    },
    {
     "name": "stderr",
     "output_type": "stream",
     "text": [
      "Iteration:  83%|████████▎ | 2478/3000 [05:45<12:03,  1.39s/it, loss=0.726]"
     ]
    },
    {
     "name": "stdout",
     "output_type": "stream",
     "text": [
      "Iter 2478/3000 - Loss: 0.7255\n"
     ]
    },
    {
     "name": "stderr",
     "output_type": "stream",
     "text": [
      "Iteration:  83%|████████▎ | 2479/3000 [05:45<10:25,  1.20s/it, loss=0.726]"
     ]
    },
    {
     "name": "stdout",
     "output_type": "stream",
     "text": [
      "Iter 2479/3000 - Loss: 0.7255\n"
     ]
    },
    {
     "name": "stderr",
     "output_type": "stream",
     "text": [
      "Iteration:  83%|████████▎ | 2480/3000 [05:46<08:12,  1.06it/s, loss=0.726]"
     ]
    },
    {
     "name": "stdout",
     "output_type": "stream",
     "text": [
      "Iter 2480/3000 - Loss: 0.7255\n"
     ]
    },
    {
     "name": "stderr",
     "output_type": "stream",
     "text": [
      "Iteration:  83%|████████▎ | 2481/3000 [05:46<06:42,  1.29it/s, loss=0.726]"
     ]
    },
    {
     "name": "stdout",
     "output_type": "stream",
     "text": [
      "Iter 2481/3000 - Loss: 0.7255\n"
     ]
    },
    {
     "name": "stderr",
     "output_type": "stream",
     "text": [
      "Iteration:  83%|████████▎ | 2482/3000 [05:46<05:33,  1.56it/s, loss=0.726]"
     ]
    },
    {
     "name": "stdout",
     "output_type": "stream",
     "text": [
      "Iter 2482/3000 - Loss: 0.7255\n"
     ]
    },
    {
     "name": "stderr",
     "output_type": "stream",
     "text": [
      "Iteration:  83%|████████▎ | 2483/3000 [05:47<05:02,  1.71it/s, loss=0.725]"
     ]
    },
    {
     "name": "stdout",
     "output_type": "stream",
     "text": [
      "Iter 2483/3000 - Loss: 0.7255\n",
      "Iter 2484/3000 - Loss: 0.7255\n",
      "Iter 2485/3000 - Loss: 0.7255\n"
     ]
    },
    {
     "name": "stderr",
     "output_type": "stream",
     "text": [
      "Iteration:  83%|████████▎ | 2487/3000 [05:48<02:30,  3.41it/s, loss=0.725]"
     ]
    },
    {
     "name": "stdout",
     "output_type": "stream",
     "text": [
      "Iter 2486/3000 - Loss: 0.7255\n",
      "Iter 2487/3000 - Loss: 0.7255\n",
      "Iter 2488/3000 - Loss: 0.7255\n",
      "Iter 2489/3000 - Loss: 0.7255\n",
      "Iter 2490/3000 - Loss: 0.7255\n",
      "Iter 2491/3000 - Loss: 0.7255\n"
     ]
    },
    {
     "name": "stderr",
     "output_type": "stream",
     "text": [
      "Iteration:  83%|████████▎ | 2495/3000 [05:48<00:49, 10.17it/s, loss=0.725]"
     ]
    },
    {
     "name": "stdout",
     "output_type": "stream",
     "text": [
      "Iter 2492/3000 - Loss: 0.7255\n",
      "Iter 2493/3000 - Loss: 0.7255\n",
      "Iter 2494/3000 - Loss: 0.7255\n",
      "Iter 2495/3000 - Loss: 0.7255\n",
      "Iter 2496/3000 - Loss: 0.7255\n",
      "Iter 2497/3000 - Loss: 0.7255\n",
      "Iter 2498/3000 - Loss: 0.7255\n",
      "Iter 2499/3000 - Loss: 0.7255\n"
     ]
    },
    {
     "name": "stderr",
     "output_type": "stream",
     "text": [
      "Iteration:  84%|████████▎ | 2505/3000 [05:48<00:24, 20.51it/s, loss=0.725]"
     ]
    },
    {
     "name": "stdout",
     "output_type": "stream",
     "text": [
      "Iter 2500/3000 - Loss: 0.7255\n",
      "Iter 2501/3000 - Loss: 0.7255\n",
      "Iter 2502/3000 - Loss: 0.7255\n",
      "Iter 2503/3000 - Loss: 0.7255\n",
      "Iter 2504/3000 - Loss: 0.7255\n",
      "Iter 2505/3000 - Loss: 0.7255\n",
      "Iter 2506/3000 - Loss: 0.7255\n"
     ]
    },
    {
     "name": "stderr",
     "output_type": "stream",
     "text": [
      "Iteration:  84%|████████▍ | 2514/3000 [05:48<00:18, 26.87it/s, loss=0.725]"
     ]
    },
    {
     "name": "stdout",
     "output_type": "stream",
     "text": [
      "Iter 2507/3000 - Loss: 0.7255\n",
      "Iter 2508/3000 - Loss: 0.7255\n",
      "Iter 2509/3000 - Loss: 0.7255\n",
      "Iter 2510/3000 - Loss: 0.7254\n",
      "Iter 2511/3000 - Loss: 0.7254\n",
      "Iter 2512/3000 - Loss: 0.7254\n",
      "Iter 2513/3000 - Loss: 0.7254\n",
      "Iter 2514/3000 - Loss: 0.7254\n"
     ]
    },
    {
     "name": "stderr",
     "output_type": "stream",
     "text": [
      "Iteration:  84%|████████▍ | 2518/3000 [05:49<00:21, 22.72it/s, loss=0.725]"
     ]
    },
    {
     "name": "stdout",
     "output_type": "stream",
     "text": [
      "Iter 2515/3000 - Loss: 0.7254\n",
      "Iter 2516/3000 - Loss: 0.7254\n",
      "Iter 2517/3000 - Loss: 0.7254\n",
      "Iter 2518/3000 - Loss: 0.7254\n",
      "Iter 2519/3000 - Loss: 0.7254\n"
     ]
    },
    {
     "name": "stderr",
     "output_type": "stream",
     "text": [
      "Iteration:  84%|████████▍ | 2521/3000 [05:49<00:20, 23.19it/s, loss=0.725]"
     ]
    },
    {
     "name": "stdout",
     "output_type": "stream",
     "text": [
      "Iter 2520/3000 - Loss: 0.7254\n",
      "Iter 2521/3000 - Loss: 0.7254\n",
      "Iter 2522/3000 - Loss: 0.7254\n",
      "Iter 2523/3000 - Loss: 0.7254\n"
     ]
    },
    {
     "name": "stderr",
     "output_type": "stream",
     "text": [
      "Iteration:  84%|████████▍ | 2527/3000 [05:49<00:24, 19.19it/s, loss=0.725]"
     ]
    },
    {
     "name": "stdout",
     "output_type": "stream",
     "text": [
      "Iter 2524/3000 - Loss: 0.7254\n",
      "Iter 2525/3000 - Loss: 0.7254\n",
      "Iter 2526/3000 - Loss: 0.7254\n",
      "Iter 2527/3000 - Loss: 0.7254\n"
     ]
    },
    {
     "name": "stderr",
     "output_type": "stream",
     "text": [
      "Iteration:  84%|████████▍ | 2535/3000 [05:49<00:17, 26.38it/s, loss=0.725]"
     ]
    },
    {
     "name": "stdout",
     "output_type": "stream",
     "text": [
      "Iter 2528/3000 - Loss: 0.7254\n",
      "Iter 2529/3000 - Loss: 0.7254\n",
      "Iter 2530/3000 - Loss: 0.7254\n",
      "Iter 2531/3000 - Loss: 0.7254\n",
      "Iter 2532/3000 - Loss: 0.7254\n",
      "Iter 2533/3000 - Loss: 0.7254\n",
      "Iter 2534/3000 - Loss: 0.7254\n",
      "Iter 2535/3000 - Loss: 0.7254\n",
      "Iter 2536/3000 - Loss: 0.7254\n",
      "Iter 2537/3000 - Loss: 0.7254\n"
     ]
    },
    {
     "name": "stderr",
     "output_type": "stream",
     "text": [
      "Iteration:  85%|████████▍ | 2545/3000 [05:49<00:13, 34.20it/s, loss=0.725]"
     ]
    },
    {
     "name": "stdout",
     "output_type": "stream",
     "text": [
      "Iter 2538/3000 - Loss: 0.7254\n",
      "Iter 2539/3000 - Loss: 0.7254\n",
      "Iter 2540/3000 - Loss: 0.7254\n",
      "Iter 2541/3000 - Loss: 0.7254\n",
      "Iter 2542/3000 - Loss: 0.7254\n",
      "Iter 2543/3000 - Loss: 0.7254\n",
      "Iter 2544/3000 - Loss: 0.7254\n",
      "Iter 2545/3000 - Loss: 0.7254\n",
      "Iter 2546/3000 - Loss: 0.7254\n"
     ]
    },
    {
     "name": "stderr",
     "output_type": "stream",
     "text": [
      "Iteration:  85%|████████▌ | 2554/3000 [05:50<00:12, 36.40it/s, loss=0.725]"
     ]
    },
    {
     "name": "stdout",
     "output_type": "stream",
     "text": [
      "Iter 2547/3000 - Loss: 0.7254\n",
      "Iter 2548/3000 - Loss: 0.7254\n",
      "Iter 2549/3000 - Loss: 0.7254\n",
      "Iter 2550/3000 - Loss: 0.7254\n",
      "Iter 2551/3000 - Loss: 0.7254\n",
      "Iter 2552/3000 - Loss: 0.7254\n",
      "Iter 2553/3000 - Loss: 0.7254\n",
      "Iter 2554/3000 - Loss: 0.7254\n",
      "Iter 2555/3000 - Loss: 0.7254\n"
     ]
    },
    {
     "name": "stderr",
     "output_type": "stream",
     "text": [
      "Iteration:  85%|████████▌ | 2564/3000 [05:50<00:10, 40.25it/s, loss=0.725]"
     ]
    },
    {
     "name": "stdout",
     "output_type": "stream",
     "text": [
      "Iter 2556/3000 - Loss: 0.7254\n",
      "Iter 2557/3000 - Loss: 0.7254\n",
      "Iter 2558/3000 - Loss: 0.7254\n",
      "Iter 2559/3000 - Loss: 0.7254\n",
      "Iter 2560/3000 - Loss: 0.7254\n",
      "Iter 2561/3000 - Loss: 0.7253\n",
      "Iter 2562/3000 - Loss: 0.7253\n",
      "Iter 2563/3000 - Loss: 0.7253\n",
      "Iter 2564/3000 - Loss: 0.7253\n"
     ]
    },
    {
     "name": "stderr",
     "output_type": "stream",
     "text": [
      "Iteration:  86%|████████▌ | 2569/3000 [05:50<00:10, 41.49it/s, loss=0.725]"
     ]
    },
    {
     "name": "stdout",
     "output_type": "stream",
     "text": [
      "Iter 2565/3000 - Loss: 0.7253\n",
      "Iter 2566/3000 - Loss: 0.7253\n",
      "Iter 2567/3000 - Loss: 0.7253\n",
      "Iter 2568/3000 - Loss: 0.7253\n",
      "Iter 2569/3000 - Loss: 0.7253\n",
      "Iter 2570/3000 - Loss: 0.7253\n",
      "Iter 2571/3000 - Loss: 0.7253\n",
      "Iter 2572/3000 - Loss: 0.7253\n",
      "Iter 2573/3000 - Loss: 0.7253\n"
     ]
    },
    {
     "name": "stderr",
     "output_type": "stream",
     "text": [
      "Iteration:  86%|████████▌ | 2580/3000 [05:50<00:09, 43.03it/s, loss=0.725]"
     ]
    },
    {
     "name": "stdout",
     "output_type": "stream",
     "text": [
      "Iter 2574/3000 - Loss: 0.7253\n",
      "Iter 2575/3000 - Loss: 0.7253\n",
      "Iter 2576/3000 - Loss: 0.7253\n",
      "Iter 2577/3000 - Loss: 0.7253\n",
      "Iter 2578/3000 - Loss: 0.7253\n",
      "Iter 2579/3000 - Loss: 0.7253\n",
      "Iter 2580/3000 - Loss: 0.7253\n",
      "Iter 2581/3000 - Loss: 0.7253\n",
      "Iter 2582/3000 - Loss: 0.7253\n",
      "Iter 2583/3000 - Loss: 0.7253\n"
     ]
    },
    {
     "name": "stderr",
     "output_type": "stream",
     "text": [
      "Iteration:  86%|████████▋ | 2590/3000 [05:51<00:09, 43.63it/s, loss=0.725]"
     ]
    },
    {
     "name": "stdout",
     "output_type": "stream",
     "text": [
      "Iter 2584/3000 - Loss: 0.7253\n",
      "Iter 2585/3000 - Loss: 0.7253\n",
      "Iter 2586/3000 - Loss: 0.7253\n",
      "Iter 2587/3000 - Loss: 0.7253\n",
      "Iter 2588/3000 - Loss: 0.7253\n",
      "Iter 2589/3000 - Loss: 0.7253\n",
      "Iter 2590/3000 - Loss: 0.7253\n",
      "Iter 2591/3000 - Loss: 0.7253\n",
      "Iter 2592/3000 - Loss: 0.7253\n"
     ]
    },
    {
     "name": "stderr",
     "output_type": "stream",
     "text": [
      "\r",
      "Iteration:  86%|████████▋ | 2590/3000 [05:51<00:09, 43.63it/s, loss=0.725]"
     ]
    },
    {
     "name": "stdout",
     "output_type": "stream",
     "text": [
      "Iter 2593/3000 - Loss: 0.7253\n",
      "Iter 2594/3000 - Loss: 0.7253\n"
     ]
    },
    {
     "name": "stderr",
     "output_type": "stream",
     "text": [
      "Iteration:  87%|████████▋ | 2600/3000 [05:51<00:12, 33.30it/s, loss=0.725]"
     ]
    },
    {
     "name": "stdout",
     "output_type": "stream",
     "text": [
      "Iter 2595/3000 - Loss: 0.7253\n",
      "Iter 2596/3000 - Loss: 0.7253\n",
      "Iter 2597/3000 - Loss: 0.7253\n",
      "Iter 2598/3000 - Loss: 0.7253\n",
      "Iter 2599/3000 - Loss: 0.7253\n",
      "Iter 2600/3000 - Loss: 0.7253\n",
      "Iter 2601/3000 - Loss: 0.7253\n",
      "Iter 2602/3000 - Loss: 0.7253\n",
      "Iter 2603/3000 - Loss: 0.7253\n",
      "Iter 2604/3000 - Loss: 0.7253\n"
     ]
    },
    {
     "name": "stderr",
     "output_type": "stream",
     "text": [
      "Iteration:  87%|████████▋ | 2609/3000 [05:51<00:11, 34.05it/s, loss=0.725]"
     ]
    },
    {
     "name": "stdout",
     "output_type": "stream",
     "text": [
      "Iter 2605/3000 - Loss: 0.7253\n",
      "Iter 2606/3000 - Loss: 0.7253\n",
      "Iter 2607/3000 - Loss: 0.7253\n",
      "Iter 2608/3000 - Loss: 0.7253\n",
      "Iter 2609/3000 - Loss: 0.7253\n",
      "Iter 2610/3000 - Loss: 0.7253\n",
      "Iter 2611/3000 - Loss: 0.7253\n"
     ]
    },
    {
     "name": "stderr",
     "output_type": "stream",
     "text": [
      "Iteration:  87%|████████▋ | 2613/3000 [05:51<00:11, 33.58it/s, loss=0.725]"
     ]
    },
    {
     "name": "stdout",
     "output_type": "stream",
     "text": [
      "Iter 2612/3000 - Loss: 0.7253\n",
      "Iter 2613/3000 - Loss: 0.7253\n",
      "Iter 2614/3000 - Loss: 0.7253\n"
     ]
    },
    {
     "name": "stderr",
     "output_type": "stream",
     "text": [
      "Iteration:  87%|████████▋ | 2613/3000 [05:52<00:11, 33.58it/s, loss=0.725]"
     ]
    },
    {
     "name": "stdout",
     "output_type": "stream",
     "text": [
      "Iter 2615/3000 - Loss: 0.7253\n",
      "Iter 2616/3000 - Loss: 0.7253\n"
     ]
    },
    {
     "name": "stderr",
     "output_type": "stream",
     "text": [
      "Iteration:  87%|████████▋ | 2622/3000 [05:52<00:16, 22.78it/s, loss=0.725]"
     ]
    },
    {
     "name": "stdout",
     "output_type": "stream",
     "text": [
      "Iter 2617/3000 - Loss: 0.7252\n",
      "Iter 2618/3000 - Loss: 0.7252\n",
      "Iter 2619/3000 - Loss: 0.7252\n",
      "Iter 2620/3000 - Loss: 0.7252\n",
      "Iter 2621/3000 - Loss: 0.7252\n",
      "Iter 2622/3000 - Loss: 0.7252\n",
      "Iter 2623/3000 - Loss: 0.7252\n",
      "Iter 2624/3000 - Loss: 0.7252\n",
      "Iter 2625/3000 - Loss: 0.7252\n",
      "Iter 2626/3000 - Loss: 0.7252\n"
     ]
    },
    {
     "name": "stderr",
     "output_type": "stream",
     "text": [
      "Iteration:  88%|████████▊ | 2632/3000 [05:52<00:11, 31.31it/s, loss=0.725]"
     ]
    },
    {
     "name": "stdout",
     "output_type": "stream",
     "text": [
      "Iter 2627/3000 - Loss: 0.7252\n",
      "Iter 2628/3000 - Loss: 0.7252\n",
      "Iter 2629/3000 - Loss: 0.7252\n",
      "Iter 2630/3000 - Loss: 0.7252\n",
      "Iter 2631/3000 - Loss: 0.7252\n",
      "Iter 2632/3000 - Loss: 0.7252\n",
      "Iter 2633/3000 - Loss: 0.7252\n",
      "Iter 2634/3000 - Loss: 0.7252\n",
      "Iter 2635/3000 - Loss: 0.7252\n"
     ]
    },
    {
     "name": "stderr",
     "output_type": "stream",
     "text": [
      "Iteration:  88%|████████▊ | 2641/3000 [05:52<00:09, 36.60it/s, loss=0.725]"
     ]
    },
    {
     "name": "stdout",
     "output_type": "stream",
     "text": [
      "Iter 2636/3000 - Loss: 0.7252\n",
      "Iter 2637/3000 - Loss: 0.7252\n",
      "Iter 2638/3000 - Loss: 0.7252\n",
      "Iter 2639/3000 - Loss: 0.7252\n",
      "Iter 2640/3000 - Loss: 0.7252\n",
      "Iter 2641/3000 - Loss: 0.7252\n",
      "Iter 2642/3000 - Loss: 0.7252\n",
      "Iter 2643/3000 - Loss: 0.7252\n",
      "Iter 2644/3000 - Loss: 0.7252\n"
     ]
    },
    {
     "name": "stderr",
     "output_type": "stream",
     "text": [
      "Iteration:  88%|████████▊ | 2651/3000 [05:53<00:09, 36.45it/s, loss=0.725]"
     ]
    },
    {
     "name": "stdout",
     "output_type": "stream",
     "text": [
      "Iter 2645/3000 - Loss: 0.7252\n",
      "Iter 2646/3000 - Loss: 0.7252\n",
      "Iter 2647/3000 - Loss: 0.7252\n",
      "Iter 2648/3000 - Loss: 0.7252\n",
      "Iter 2649/3000 - Loss: 0.7252\n",
      "Iter 2650/3000 - Loss: 0.7252\n",
      "Iter 2651/3000 - Loss: 0.7252\n",
      "Iter 2652/3000 - Loss: 0.7252\n",
      "Iter 2653/3000 - Loss: 0.7252\n"
     ]
    },
    {
     "name": "stderr",
     "output_type": "stream",
     "text": [
      "Iteration:  89%|████████▊ | 2661/3000 [05:53<00:08, 40.12it/s, loss=0.725]"
     ]
    },
    {
     "name": "stdout",
     "output_type": "stream",
     "text": [
      "Iter 2654/3000 - Loss: 0.7252\n",
      "Iter 2655/3000 - Loss: 0.7252\n",
      "Iter 2656/3000 - Loss: 0.7252\n",
      "Iter 2657/3000 - Loss: 0.7252\n",
      "Iter 2658/3000 - Loss: 0.7252\n",
      "Iter 2659/3000 - Loss: 0.7252\n",
      "Iter 2660/3000 - Loss: 0.7252\n",
      "Iter 2661/3000 - Loss: 0.7252\n",
      "Iter 2662/3000 - Loss: 0.7252\n"
     ]
    },
    {
     "name": "stderr",
     "output_type": "stream",
     "text": [
      "Iteration:  89%|████████▉ | 2671/3000 [05:53<00:07, 42.39it/s, loss=0.725]"
     ]
    },
    {
     "name": "stdout",
     "output_type": "stream",
     "text": [
      "Iter 2663/3000 - Loss: 0.7252\n",
      "Iter 2664/3000 - Loss: 0.7252\n",
      "Iter 2665/3000 - Loss: 0.7252\n",
      "Iter 2666/3000 - Loss: 0.7252\n",
      "Iter 2667/3000 - Loss: 0.7252\n",
      "Iter 2668/3000 - Loss: 0.7252\n",
      "Iter 2669/3000 - Loss: 0.7252\n",
      "Iter 2670/3000 - Loss: 0.7252\n",
      "Iter 2671/3000 - Loss: 0.7252\n"
     ]
    },
    {
     "name": "stderr",
     "output_type": "stream",
     "text": [
      "Iteration:  89%|████████▉ | 2671/3000 [05:53<00:07, 42.39it/s, loss=0.725]"
     ]
    },
    {
     "name": "stdout",
     "output_type": "stream",
     "text": [
      "Iter 2672/3000 - Loss: 0.7252\n",
      "Iter 2673/3000 - Loss: 0.7252\n",
      "Iter 2674/3000 - Loss: 0.7252\n"
     ]
    },
    {
     "name": "stderr",
     "output_type": "stream",
     "text": [
      "Iteration:  89%|████████▉ | 2681/3000 [05:54<00:11, 27.71it/s, loss=0.725]"
     ]
    },
    {
     "name": "stdout",
     "output_type": "stream",
     "text": [
      "Iter 2675/3000 - Loss: 0.7252\n",
      "Iter 2676/3000 - Loss: 0.7251\n",
      "Iter 2677/3000 - Loss: 0.7251\n",
      "Iter 2678/3000 - Loss: 0.7251\n",
      "Iter 2679/3000 - Loss: 0.7251\n",
      "Iter 2680/3000 - Loss: 0.7251\n",
      "Iter 2681/3000 - Loss: 0.7251\n",
      "Iter 2682/3000 - Loss: 0.7251\n",
      "Iter 2683/3000 - Loss: 0.7251\n"
     ]
    },
    {
     "name": "stderr",
     "output_type": "stream",
     "text": [
      "Iteration:  90%|████████▉ | 2690/3000 [05:54<00:09, 33.89it/s, loss=0.725]"
     ]
    },
    {
     "name": "stdout",
     "output_type": "stream",
     "text": [
      "Iter 2684/3000 - Loss: 0.7251\n",
      "Iter 2685/3000 - Loss: 0.7251\n",
      "Iter 2686/3000 - Loss: 0.7251\n",
      "Iter 2687/3000 - Loss: 0.7251\n",
      "Iter 2688/3000 - Loss: 0.7251\n",
      "Iter 2689/3000 - Loss: 0.7251\n",
      "Iter 2690/3000 - Loss: 0.7251\n",
      "Iter 2691/3000 - Loss: 0.7251\n",
      "Iter 2692/3000 - Loss: 0.7251\n",
      "Iter 2693/3000 - Loss: 0.7251\n"
     ]
    },
    {
     "name": "stderr",
     "output_type": "stream",
     "text": [
      "Iteration:  90%|█████████ | 2700/3000 [05:54<00:07, 38.61it/s, loss=0.725]"
     ]
    },
    {
     "name": "stdout",
     "output_type": "stream",
     "text": [
      "Iter 2694/3000 - Loss: 0.7251\n",
      "Iter 2695/3000 - Loss: 0.7251\n",
      "Iter 2696/3000 - Loss: 0.7251\n",
      "Iter 2697/3000 - Loss: 0.7251\n",
      "Iter 2698/3000 - Loss: 0.7251\n",
      "Iter 2699/3000 - Loss: 0.7251\n",
      "Iter 2700/3000 - Loss: 0.7251\n",
      "Iter 2701/3000 - Loss: 0.7251\n",
      "Iter 2702/3000 - Loss: 0.7251\n"
     ]
    },
    {
     "name": "stderr",
     "output_type": "stream",
     "text": [
      "Iteration:  90%|█████████ | 2710/3000 [05:54<00:06, 41.81it/s, loss=0.725]"
     ]
    },
    {
     "name": "stdout",
     "output_type": "stream",
     "text": [
      "Iter 2703/3000 - Loss: 0.7251\n",
      "Iter 2704/3000 - Loss: 0.7251\n",
      "Iter 2705/3000 - Loss: 0.7251\n",
      "Iter 2706/3000 - Loss: 0.7251\n",
      "Iter 2707/3000 - Loss: 0.7251\n",
      "Iter 2708/3000 - Loss: 0.7251\n",
      "Iter 2709/3000 - Loss: 0.7251\n",
      "Iter 2710/3000 - Loss: 0.7251\n",
      "Iter 2711/3000 - Loss: 0.7251\n"
     ]
    },
    {
     "name": "stderr",
     "output_type": "stream",
     "text": [
      "Iteration:  91%|█████████ | 2720/3000 [05:54<00:06, 41.81it/s, loss=0.725]"
     ]
    },
    {
     "name": "stdout",
     "output_type": "stream",
     "text": [
      "Iter 2712/3000 - Loss: 0.7251\n",
      "Iter 2713/3000 - Loss: 0.7251\n",
      "Iter 2714/3000 - Loss: 0.7251\n",
      "Iter 2715/3000 - Loss: 0.7251\n",
      "Iter 2716/3000 - Loss: 0.7251\n",
      "Iter 2717/3000 - Loss: 0.7251\n",
      "Iter 2718/3000 - Loss: 0.7251\n",
      "Iter 2719/3000 - Loss: 0.7251\n",
      "Iter 2720/3000 - Loss: 0.7251\n"
     ]
    },
    {
     "name": "stderr",
     "output_type": "stream",
     "text": [
      "Iteration:  91%|█████████ | 2730/3000 [05:55<00:06, 44.57it/s, loss=0.725]"
     ]
    },
    {
     "name": "stdout",
     "output_type": "stream",
     "text": [
      "Iter 2721/3000 - Loss: 0.7251\n",
      "Iter 2722/3000 - Loss: 0.7251\n",
      "Iter 2723/3000 - Loss: 0.7251\n",
      "Iter 2724/3000 - Loss: 0.7251\n",
      "Iter 2725/3000 - Loss: 0.7251\n",
      "Iter 2726/3000 - Loss: 0.7251\n",
      "Iter 2727/3000 - Loss: 0.7251\n",
      "Iter 2728/3000 - Loss: 0.7251\n",
      "Iter 2729/3000 - Loss: 0.7251\n",
      "Iter 2730/3000 - Loss: 0.7251\n"
     ]
    },
    {
     "name": "stderr",
     "output_type": "stream",
     "text": [
      "Iteration:  91%|█████████▏| 2740/3000 [05:55<00:05, 45.12it/s, loss=0.725]"
     ]
    },
    {
     "name": "stdout",
     "output_type": "stream",
     "text": [
      "Iter 2731/3000 - Loss: 0.7251\n",
      "Iter 2732/3000 - Loss: 0.7251\n",
      "Iter 2733/3000 - Loss: 0.7251\n",
      "Iter 2734/3000 - Loss: 0.7251\n",
      "Iter 2735/3000 - Loss: 0.7251\n",
      "Iter 2736/3000 - Loss: 0.7251\n",
      "Iter 2737/3000 - Loss: 0.7251\n",
      "Iter 2738/3000 - Loss: 0.7251\n",
      "Iter 2739/3000 - Loss: 0.7251\n",
      "Iter 2740/3000 - Loss: 0.7251\n"
     ]
    },
    {
     "name": "stderr",
     "output_type": "stream",
     "text": [
      "Iteration:  91%|█████████▏| 2740/3000 [05:55<00:05, 45.12it/s, loss=0.725]"
     ]
    },
    {
     "name": "stdout",
     "output_type": "stream",
     "text": [
      "Iter 2741/3000 - Loss: 0.7251\n",
      "Iter 2742/3000 - Loss: 0.7250\n",
      "Iter 2743/3000 - Loss: 0.7250\n",
      "Iter 2744/3000 - Loss: 0.7250\n"
     ]
    },
    {
     "name": "stderr",
     "output_type": "stream",
     "text": [
      "Iteration:  92%|█████████▏| 2750/3000 [05:55<00:07, 33.05it/s, loss=0.725]"
     ]
    },
    {
     "name": "stdout",
     "output_type": "stream",
     "text": [
      "Iter 2745/3000 - Loss: 0.7250\n",
      "Iter 2746/3000 - Loss: 0.7250\n",
      "Iter 2747/3000 - Loss: 0.7250\n",
      "Iter 2748/3000 - Loss: 0.7250\n",
      "Iter 2749/3000 - Loss: 0.7250\n",
      "Iter 2750/3000 - Loss: 0.7250\n",
      "Iter 2751/3000 - Loss: 0.7250\n",
      "Iter 2752/3000 - Loss: 0.7250\n",
      "Iter 2753/3000 - Loss: 0.7250\n",
      "Iter 2754/3000 - Loss: 0.7250\n"
     ]
    },
    {
     "name": "stderr",
     "output_type": "stream",
     "text": [
      "Iteration:  92%|█████████▏| 2760/3000 [05:56<00:06, 38.72it/s, loss=0.725]"
     ]
    },
    {
     "name": "stdout",
     "output_type": "stream",
     "text": [
      "Iter 2755/3000 - Loss: 0.7250\n",
      "Iter 2756/3000 - Loss: 0.7250\n",
      "Iter 2757/3000 - Loss: 0.7250\n",
      "Iter 2758/3000 - Loss: 0.7250\n",
      "Iter 2759/3000 - Loss: 0.7250\n",
      "Iter 2760/3000 - Loss: 0.7250\n",
      "Iter 2761/3000 - Loss: 0.7250\n",
      "Iter 2762/3000 - Loss: 0.7250\n",
      "Iter 2763/3000 - Loss: 0.7250\n"
     ]
    },
    {
     "name": "stderr",
     "output_type": "stream",
     "text": [
      "Iteration:  92%|█████████▏| 2770/3000 [05:56<00:05, 39.68it/s, loss=0.725]"
     ]
    },
    {
     "name": "stdout",
     "output_type": "stream",
     "text": [
      "Iter 2764/3000 - Loss: 0.7250\n",
      "Iter 2765/3000 - Loss: 0.7250\n",
      "Iter 2766/3000 - Loss: 0.7250\n",
      "Iter 2767/3000 - Loss: 0.7250\n",
      "Iter 2768/3000 - Loss: 0.7250\n",
      "Iter 2769/3000 - Loss: 0.7250\n",
      "Iter 2770/3000 - Loss: 0.7250\n",
      "Iter 2771/3000 - Loss: 0.7250\n",
      "Iter 2772/3000 - Loss: 0.7250\n"
     ]
    },
    {
     "name": "stderr",
     "output_type": "stream",
     "text": [
      "Iteration:  92%|█████████▎| 2775/3000 [05:56<00:06, 35.58it/s, loss=0.725]"
     ]
    },
    {
     "name": "stdout",
     "output_type": "stream",
     "text": [
      "Iter 2773/3000 - Loss: 0.7250\n",
      "Iter 2774/3000 - Loss: 0.7250\n",
      "Iter 2775/3000 - Loss: 0.7250\n",
      "Iter 2776/3000 - Loss: 0.7250\n",
      "Iter 2777/3000 - Loss: 0.7250\n",
      "Iter 2778/3000 - Loss: 0.7250\n"
     ]
    },
    {
     "name": "stderr",
     "output_type": "stream",
     "text": [
      "Iteration:  93%|█████████▎| 2779/3000 [05:56<00:06, 35.23it/s, loss=0.725]"
     ]
    },
    {
     "name": "stdout",
     "output_type": "stream",
     "text": [
      "Iter 2779/3000 - Loss: 0.7250\n",
      "Iter 2780/3000 - Loss: 0.7250\n",
      "Iter 2781/3000 - Loss: 0.7250\n",
      "Iter 2782/3000 - Loss: 0.7250\n"
     ]
    },
    {
     "name": "stderr",
     "output_type": "stream",
     "text": [
      "Iteration:  93%|█████████▎| 2783/3000 [05:56<00:07, 28.51it/s, loss=0.725]"
     ]
    },
    {
     "name": "stdout",
     "output_type": "stream",
     "text": [
      "Iter 2783/3000 - Loss: 0.7250\n"
     ]
    },
    {
     "name": "stderr",
     "output_type": "stream",
     "text": [
      "Iteration:  93%|█████████▎| 2787/3000 [05:57<00:11, 18.97it/s, loss=0.725]"
     ]
    },
    {
     "name": "stdout",
     "output_type": "stream",
     "text": [
      "Iter 2784/3000 - Loss: 0.7250\n",
      "Iter 2785/3000 - Loss: 0.7250\n",
      "Iter 2786/3000 - Loss: 0.7250\n",
      "Iter 2787/3000 - Loss: 0.7250\n",
      "Iter 2788/3000 - Loss: 0.7250\n",
      "Iter 2789/3000 - Loss: 0.7250\n"
     ]
    },
    {
     "name": "stderr",
     "output_type": "stream",
     "text": [
      "Iteration:  93%|█████████▎| 2793/3000 [05:57<00:11, 18.64it/s, loss=0.725]"
     ]
    },
    {
     "name": "stdout",
     "output_type": "stream",
     "text": [
      "Iter 2790/3000 - Loss: 0.7250\n",
      "Iter 2791/3000 - Loss: 0.7250\n",
      "Iter 2792/3000 - Loss: 0.7250\n",
      "Iter 2793/3000 - Loss: 0.7250\n"
     ]
    },
    {
     "name": "stderr",
     "output_type": "stream",
     "text": [
      "Iteration:  93%|█████████▎| 2796/3000 [05:57<00:10, 19.66it/s, loss=0.725]"
     ]
    },
    {
     "name": "stdout",
     "output_type": "stream",
     "text": [
      "Iter 2794/3000 - Loss: 0.7250\n",
      "Iter 2795/3000 - Loss: 0.7250\n",
      "Iter 2796/3000 - Loss: 0.7250\n",
      "Iter 2797/3000 - Loss: 0.7250\n",
      "Iter 2798/3000 - Loss: 0.7250\n",
      "Iter 2799/3000 - Loss: 0.7250\n"
     ]
    },
    {
     "name": "stderr",
     "output_type": "stream",
     "text": [
      "Iteration:  93%|█████████▎| 2803/3000 [05:57<00:08, 22.10it/s, loss=0.725]"
     ]
    },
    {
     "name": "stdout",
     "output_type": "stream",
     "text": [
      "Iter 2800/3000 - Loss: 0.7250\n",
      "Iter 2801/3000 - Loss: 0.7250\n",
      "Iter 2802/3000 - Loss: 0.7250\n",
      "Iter 2803/3000 - Loss: 0.7250\n",
      "Iter 2804/3000 - Loss: 0.7250\n",
      "Iter 2805/3000 - Loss: 0.7250\n",
      "Iter 2806/3000 - Loss: 0.7250\n",
      "Iter 2807/3000 - Loss: 0.7250\n"
     ]
    },
    {
     "name": "stderr",
     "output_type": "stream",
     "text": [
      "Iteration:  94%|█████████▍| 2813/3000 [05:58<00:06, 31.04it/s, loss=0.725]"
     ]
    },
    {
     "name": "stdout",
     "output_type": "stream",
     "text": [
      "Iter 2808/3000 - Loss: 0.7250\n",
      "Iter 2809/3000 - Loss: 0.7250\n",
      "Iter 2810/3000 - Loss: 0.7250\n",
      "Iter 2811/3000 - Loss: 0.7250\n",
      "Iter 2812/3000 - Loss: 0.7250\n",
      "Iter 2813/3000 - Loss: 0.7250\n",
      "Iter 2814/3000 - Loss: 0.7249\n",
      "Iter 2815/3000 - Loss: 0.7249\n",
      "Iter 2816/3000 - Loss: 0.7249\n"
     ]
    },
    {
     "name": "stderr",
     "output_type": "stream",
     "text": [
      "Iteration:  94%|█████████▍| 2823/3000 [05:58<00:04, 37.25it/s, loss=0.725]"
     ]
    },
    {
     "name": "stdout",
     "output_type": "stream",
     "text": [
      "Iter 2817/3000 - Loss: 0.7249\n",
      "Iter 2818/3000 - Loss: 0.7249\n",
      "Iter 2819/3000 - Loss: 0.7249\n",
      "Iter 2820/3000 - Loss: 0.7249\n",
      "Iter 2821/3000 - Loss: 0.7249\n",
      "Iter 2822/3000 - Loss: 0.7249\n",
      "Iter 2823/3000 - Loss: 0.7249\n",
      "Iter 2824/3000 - Loss: 0.7249\n",
      "Iter 2825/3000 - Loss: 0.7249\n",
      "Iter 2826/3000 - Loss: 0.7249\n"
     ]
    },
    {
     "name": "stderr",
     "output_type": "stream",
     "text": [
      "Iteration:  94%|█████████▍| 2833/3000 [05:58<00:04, 38.92it/s, loss=0.725]"
     ]
    },
    {
     "name": "stdout",
     "output_type": "stream",
     "text": [
      "Iter 2827/3000 - Loss: 0.7249\n",
      "Iter 2828/3000 - Loss: 0.7249\n",
      "Iter 2829/3000 - Loss: 0.7249\n",
      "Iter 2830/3000 - Loss: 0.7249\n",
      "Iter 2831/3000 - Loss: 0.7249\n",
      "Iter 2832/3000 - Loss: 0.7249\n",
      "Iter 2833/3000 - Loss: 0.7249\n",
      "Iter 2834/3000 - Loss: 0.7249\n"
     ]
    },
    {
     "name": "stderr",
     "output_type": "stream",
     "text": [
      "Iteration:  95%|█████████▍| 2841/3000 [05:58<00:04, 36.63it/s, loss=0.725]"
     ]
    },
    {
     "name": "stdout",
     "output_type": "stream",
     "text": [
      "Iter 2835/3000 - Loss: 0.7249\n",
      "Iter 2836/3000 - Loss: 0.7249\n",
      "Iter 2837/3000 - Loss: 0.7249\n",
      "Iter 2838/3000 - Loss: 0.7249\n",
      "Iter 2839/3000 - Loss: 0.7249\n",
      "Iter 2840/3000 - Loss: 0.7249\n",
      "Iter 2841/3000 - Loss: 0.7249\n"
     ]
    },
    {
     "name": "stderr",
     "output_type": "stream",
     "text": [
      "Iteration:  95%|█████████▌| 2850/3000 [05:59<00:03, 37.56it/s, loss=0.725]"
     ]
    },
    {
     "name": "stdout",
     "output_type": "stream",
     "text": [
      "Iter 2842/3000 - Loss: 0.7249\n",
      "Iter 2843/3000 - Loss: 0.7249\n",
      "Iter 2844/3000 - Loss: 0.7249\n",
      "Iter 2845/3000 - Loss: 0.7249\n",
      "Iter 2846/3000 - Loss: 0.7249\n",
      "Iter 2847/3000 - Loss: 0.7249\n",
      "Iter 2848/3000 - Loss: 0.7249\n",
      "Iter 2849/3000 - Loss: 0.7249\n",
      "Iter 2850/3000 - Loss: 0.7249\n",
      "Iter 2851/3000 - Loss: 0.7249\n"
     ]
    },
    {
     "name": "stderr",
     "output_type": "stream",
     "text": [
      "\r",
      "Iteration:  95%|█████████▌| 2850/3000 [05:59<00:03, 37.56it/s, loss=0.725]"
     ]
    },
    {
     "name": "stdout",
     "output_type": "stream",
     "text": [
      "Iter 2852/3000 - Loss: 0.7249\n"
     ]
    },
    {
     "name": "stderr",
     "output_type": "stream",
     "text": [
      "Iteration:  95%|█████████▌| 2859/3000 [05:59<00:05, 25.38it/s, loss=0.725]"
     ]
    },
    {
     "name": "stdout",
     "output_type": "stream",
     "text": [
      "Iter 2853/3000 - Loss: 0.7249\n",
      "Iter 2854/3000 - Loss: 0.7249\n",
      "Iter 2855/3000 - Loss: 0.7249\n",
      "Iter 2856/3000 - Loss: 0.7249\n",
      "Iter 2857/3000 - Loss: 0.7249\n",
      "Iter 2858/3000 - Loss: 0.7249\n",
      "Iter 2859/3000 - Loss: 0.7249\n",
      "Iter 2860/3000 - Loss: 0.7249\n"
     ]
    },
    {
     "name": "stderr",
     "output_type": "stream",
     "text": [
      "Iteration:  96%|█████████▌| 2869/3000 [05:59<00:03, 33.39it/s, loss=0.725]"
     ]
    },
    {
     "name": "stdout",
     "output_type": "stream",
     "text": [
      "Iter 2861/3000 - Loss: 0.7249\n",
      "Iter 2862/3000 - Loss: 0.7249\n",
      "Iter 2863/3000 - Loss: 0.7249\n",
      "Iter 2864/3000 - Loss: 0.7249\n",
      "Iter 2865/3000 - Loss: 0.7249\n",
      "Iter 2866/3000 - Loss: 0.7249\n",
      "Iter 2867/3000 - Loss: 0.7249\n",
      "Iter 2868/3000 - Loss: 0.7249\n",
      "Iter 2869/3000 - Loss: 0.7249\n",
      "Iter 2870/3000 - Loss: 0.7249\n"
     ]
    },
    {
     "name": "stderr",
     "output_type": "stream",
     "text": [
      "Iteration:  96%|█████████▌| 2879/3000 [06:00<00:03, 39.55it/s, loss=0.725]"
     ]
    },
    {
     "name": "stdout",
     "output_type": "stream",
     "text": [
      "Iter 2871/3000 - Loss: 0.7249\n",
      "Iter 2872/3000 - Loss: 0.7249\n",
      "Iter 2873/3000 - Loss: 0.7249\n",
      "Iter 2874/3000 - Loss: 0.7249\n",
      "Iter 2875/3000 - Loss: 0.7249\n",
      "Iter 2876/3000 - Loss: 0.7249\n",
      "Iter 2877/3000 - Loss: 0.7249\n",
      "Iter 2878/3000 - Loss: 0.7249\n",
      "Iter 2879/3000 - Loss: 0.7249\n",
      "Iter 2880/3000 - Loss: 0.7249\n"
     ]
    },
    {
     "name": "stderr",
     "output_type": "stream",
     "text": [
      "Iteration:  96%|█████████▋| 2889/3000 [06:00<00:02, 41.56it/s, loss=0.725]"
     ]
    },
    {
     "name": "stdout",
     "output_type": "stream",
     "text": [
      "Iter 2881/3000 - Loss: 0.7249\n",
      "Iter 2882/3000 - Loss: 0.7249\n",
      "Iter 2883/3000 - Loss: 0.7249\n",
      "Iter 2884/3000 - Loss: 0.7249\n",
      "Iter 2885/3000 - Loss: 0.7249\n",
      "Iter 2886/3000 - Loss: 0.7249\n",
      "Iter 2887/3000 - Loss: 0.7249\n",
      "Iter 2888/3000 - Loss: 0.7249\n",
      "Iter 2889/3000 - Loss: 0.7249\n"
     ]
    },
    {
     "name": "stderr",
     "output_type": "stream",
     "text": [
      "Iteration:  97%|█████████▋| 2899/3000 [06:00<00:02, 43.34it/s, loss=0.725]"
     ]
    },
    {
     "name": "stdout",
     "output_type": "stream",
     "text": [
      "Iter 2890/3000 - Loss: 0.7249\n",
      "Iter 2891/3000 - Loss: 0.7249\n",
      "Iter 2892/3000 - Loss: 0.7249\n",
      "Iter 2893/3000 - Loss: 0.7248\n",
      "Iter 2894/3000 - Loss: 0.7248\n",
      "Iter 2895/3000 - Loss: 0.7248\n",
      "Iter 2896/3000 - Loss: 0.7248\n",
      "Iter 2897/3000 - Loss: 0.7248\n",
      "Iter 2898/3000 - Loss: 0.7248\n",
      "Iter 2899/3000 - Loss: 0.7248\n"
     ]
    },
    {
     "name": "stderr",
     "output_type": "stream",
     "text": [
      "Iteration:  97%|█████████▋| 2904/3000 [06:00<00:02, 43.71it/s, loss=0.725]"
     ]
    },
    {
     "name": "stdout",
     "output_type": "stream",
     "text": [
      "Iter 2900/3000 - Loss: 0.7248\n",
      "Iter 2901/3000 - Loss: 0.7248\n",
      "Iter 2902/3000 - Loss: 0.7248\n",
      "Iter 2903/3000 - Loss: 0.7248\n",
      "Iter 2904/3000 - Loss: 0.7248\n",
      "Iter 2905/3000 - Loss: 0.7248\n",
      "Iter 2906/3000 - Loss: 0.7248\n",
      "Iter 2907/3000 - Loss: 0.7248\n",
      "Iter 2908/3000 - Loss: 0.7248\n"
     ]
    },
    {
     "name": "stderr",
     "output_type": "stream",
     "text": [
      "\r",
      "Iteration:  97%|█████████▋| 2909/3000 [06:00<00:02, 43.91it/s, loss=0.725]"
     ]
    },
    {
     "name": "stdout",
     "output_type": "stream",
     "text": [
      "Iter 2909/3000 - Loss: 0.7248\n"
     ]
    },
    {
     "name": "stderr",
     "output_type": "stream",
     "text": [
      "Iteration:  97%|█████████▋| 2914/3000 [06:01<00:03, 22.92it/s, loss=0.725]"
     ]
    },
    {
     "name": "stdout",
     "output_type": "stream",
     "text": [
      "Iter 2910/3000 - Loss: 0.7248\n",
      "Iter 2911/3000 - Loss: 0.7248\n",
      "Iter 2912/3000 - Loss: 0.7248\n",
      "Iter 2913/3000 - Loss: 0.7248\n",
      "Iter 2914/3000 - Loss: 0.7248\n",
      "Iter 2915/3000 - Loss: 0.7248\n",
      "Iter 2916/3000 - Loss: 0.7248\n",
      "Iter 2917/3000 - Loss: 0.7248\n",
      "Iter 2918/3000 - Loss: 0.7248\n"
     ]
    },
    {
     "name": "stderr",
     "output_type": "stream",
     "text": [
      "Iteration:  97%|█████████▋| 2924/3000 [06:01<00:02, 30.59it/s, loss=0.725]"
     ]
    },
    {
     "name": "stdout",
     "output_type": "stream",
     "text": [
      "Iter 2919/3000 - Loss: 0.7248\n",
      "Iter 2920/3000 - Loss: 0.7248\n",
      "Iter 2921/3000 - Loss: 0.7248\n",
      "Iter 2922/3000 - Loss: 0.7248\n",
      "Iter 2923/3000 - Loss: 0.7248\n",
      "Iter 2924/3000 - Loss: 0.7248\n",
      "Iter 2925/3000 - Loss: 0.7248\n",
      "Iter 2926/3000 - Loss: 0.7248\n",
      "Iter 2927/3000 - Loss: 0.7248\n",
      "Iter 2928/3000 - Loss: 0.7248\n"
     ]
    },
    {
     "name": "stderr",
     "output_type": "stream",
     "text": [
      "Iteration:  98%|█████████▊| 2934/3000 [06:01<00:01, 36.27it/s, loss=0.725]"
     ]
    },
    {
     "name": "stdout",
     "output_type": "stream",
     "text": [
      "Iter 2929/3000 - Loss: 0.7248\n",
      "Iter 2930/3000 - Loss: 0.7248\n",
      "Iter 2931/3000 - Loss: 0.7248\n",
      "Iter 2932/3000 - Loss: 0.7248\n",
      "Iter 2933/3000 - Loss: 0.7248\n",
      "Iter 2934/3000 - Loss: 0.7248\n",
      "Iter 2935/3000 - Loss: 0.7248\n"
     ]
    },
    {
     "name": "stderr",
     "output_type": "stream",
     "text": [
      "Iteration:  98%|█████████▊| 2939/3000 [06:01<00:01, 35.20it/s, loss=0.725]"
     ]
    },
    {
     "name": "stdout",
     "output_type": "stream",
     "text": [
      "Iter 2936/3000 - Loss: 0.7248\n",
      "Iter 2937/3000 - Loss: 0.7248\n",
      "Iter 2938/3000 - Loss: 0.7248\n",
      "Iter 2939/3000 - Loss: 0.7248\n",
      "Iter 2940/3000 - Loss: 0.7248\n",
      "Iter 2941/3000 - Loss: 0.7248\n",
      "Iter 2942/3000 - Loss: 0.7248\n"
     ]
    },
    {
     "name": "stderr",
     "output_type": "stream",
     "text": [
      "Iteration:  98%|█████████▊| 2943/3000 [06:02<00:02, 19.72it/s, loss=0.725]"
     ]
    },
    {
     "name": "stdout",
     "output_type": "stream",
     "text": [
      "Iter 2943/3000 - Loss: 0.7248\n",
      "Iter 2944/3000 - Loss: 0.7248\n"
     ]
    },
    {
     "name": "stderr",
     "output_type": "stream",
     "text": [
      "Iteration:  98%|█████████▊| 2947/3000 [06:02<00:03, 15.77it/s, loss=0.725]"
     ]
    },
    {
     "name": "stdout",
     "output_type": "stream",
     "text": [
      "Iter 2945/3000 - Loss: 0.7248\n",
      "Iter 2946/3000 - Loss: 0.7248\n",
      "Iter 2947/3000 - Loss: 0.7248\n"
     ]
    },
    {
     "name": "stderr",
     "output_type": "stream",
     "text": [
      "Iteration:  98%|█████████▊| 2950/3000 [06:02<00:03, 15.06it/s, loss=0.725]"
     ]
    },
    {
     "name": "stdout",
     "output_type": "stream",
     "text": [
      "Iter 2948/3000 - Loss: 0.7248\n",
      "Iter 2949/3000 - Loss: 0.7248\n",
      "Iter 2950/3000 - Loss: 0.7248\n",
      "Iter 2951/3000 - Loss: 0.7248\n"
     ]
    },
    {
     "name": "stderr",
     "output_type": "stream",
     "text": [
      "Iteration:  99%|█████████▊| 2956/3000 [06:03<00:02, 17.75it/s, loss=0.725]"
     ]
    },
    {
     "name": "stdout",
     "output_type": "stream",
     "text": [
      "Iter 2952/3000 - Loss: 0.7248\n",
      "Iter 2953/3000 - Loss: 0.7248\n",
      "Iter 2954/3000 - Loss: 0.7248\n",
      "Iter 2955/3000 - Loss: 0.7248\n",
      "Iter 2956/3000 - Loss: 0.7248\n"
     ]
    },
    {
     "name": "stderr",
     "output_type": "stream",
     "text": [
      "Iteration:  99%|█████████▉| 2963/3000 [06:03<00:01, 23.02it/s, loss=0.725]"
     ]
    },
    {
     "name": "stdout",
     "output_type": "stream",
     "text": [
      "Iter 2957/3000 - Loss: 0.7248\n",
      "Iter 2958/3000 - Loss: 0.7248\n",
      "Iter 2959/3000 - Loss: 0.7248\n",
      "Iter 2960/3000 - Loss: 0.7248\n",
      "Iter 2961/3000 - Loss: 0.7248\n",
      "Iter 2962/3000 - Loss: 0.7248\n",
      "Iter 2963/3000 - Loss: 0.7248\n",
      "Iter 2964/3000 - Loss: 0.7248\n"
     ]
    },
    {
     "name": "stderr",
     "output_type": "stream",
     "text": [
      "Iteration:  99%|█████████▉| 2972/3000 [06:03<00:00, 30.02it/s, loss=0.725]"
     ]
    },
    {
     "name": "stdout",
     "output_type": "stream",
     "text": [
      "Iter 2965/3000 - Loss: 0.7248\n",
      "Iter 2966/3000 - Loss: 0.7248\n",
      "Iter 2967/3000 - Loss: 0.7248\n",
      "Iter 2968/3000 - Loss: 0.7248\n",
      "Iter 2969/3000 - Loss: 0.7248\n",
      "Iter 2970/3000 - Loss: 0.7248\n",
      "Iter 2971/3000 - Loss: 0.7248\n",
      "Iter 2972/3000 - Loss: 0.7248\n"
     ]
    },
    {
     "name": "stderr",
     "output_type": "stream",
     "text": [
      "Iteration:  99%|█████████▉| 2976/3000 [06:03<00:00, 28.36it/s, loss=0.725]"
     ]
    },
    {
     "name": "stdout",
     "output_type": "stream",
     "text": [
      "Iter 2973/3000 - Loss: 0.7248\n",
      "Iter 2974/3000 - Loss: 0.7248\n",
      "Iter 2975/3000 - Loss: 0.7248\n",
      "Iter 2976/3000 - Loss: 0.7248\n",
      "Iter 2977/3000 - Loss: 0.7248\n",
      "Iter 2978/3000 - Loss: 0.7248\n"
     ]
    },
    {
     "name": "stderr",
     "output_type": "stream",
     "text": [
      "Iteration:  99%|█████████▉| 2983/3000 [06:04<00:00, 27.03it/s, loss=0.725]"
     ]
    },
    {
     "name": "stdout",
     "output_type": "stream",
     "text": [
      "Iter 2979/3000 - Loss: 0.7248\n",
      "Iter 2980/3000 - Loss: 0.7248\n",
      "Iter 2981/3000 - Loss: 0.7248\n",
      "Iter 2982/3000 - Loss: 0.7248\n",
      "Iter 2983/3000 - Loss: 0.7247\n"
     ]
    },
    {
     "name": "stderr",
     "output_type": "stream",
     "text": [
      "Iteration: 100%|█████████▉| 2990/3000 [06:04<00:00, 30.29it/s, loss=0.725]"
     ]
    },
    {
     "name": "stdout",
     "output_type": "stream",
     "text": [
      "Iter 2984/3000 - Loss: 0.7247\n",
      "Iter 2985/3000 - Loss: 0.7247\n",
      "Iter 2986/3000 - Loss: 0.7247\n",
      "Iter 2987/3000 - Loss: 0.7247\n",
      "Iter 2988/3000 - Loss: 0.7247\n",
      "Iter 2989/3000 - Loss: 0.7247\n",
      "Iter 2990/3000 - Loss: 0.7247\n"
     ]
    },
    {
     "name": "stderr",
     "output_type": "stream",
     "text": [
      "Iteration: 100%|█████████▉| 2994/3000 [06:04<00:00, 29.91it/s, loss=0.725]"
     ]
    },
    {
     "name": "stdout",
     "output_type": "stream",
     "text": [
      "Iter 2991/3000 - Loss: 0.7247\n",
      "Iter 2992/3000 - Loss: 0.7247\n",
      "Iter 2993/3000 - Loss: 0.7247\n",
      "Iter 2994/3000 - Loss: 0.7247\n",
      "Iter 2995/3000 - Loss: 0.7247\n",
      "Iter 2996/3000 - Loss: 0.7247\n"
     ]
    },
    {
     "name": "stderr",
     "output_type": "stream",
     "text": [
      "Iteration: 100%|██████████| 3000/3000 [06:04<00:00,  8.23it/s, loss=0.725]"
     ]
    },
    {
     "name": "stdout",
     "output_type": "stream",
     "text": [
      "Iter 2997/3000 - Loss: 0.7247\n",
      "Iter 2998/3000 - Loss: 0.7247\n",
      "Iter 2999/3000 - Loss: 0.7247\n",
      "Iter 3000/3000 - Loss: 0.7247\n"
     ]
    },
    {
     "name": "stderr",
     "output_type": "stream",
     "text": [
      "\n"
     ]
    }
   ],
   "source": [
    "epochs_iter = tqdm(range(training_iterations), desc=\"Iteration\")\n",
    "\n",
    "\n",
    "# Create the optimizer with the initial learning rate\n",
    "optimizer = torch.optim.AdamW(model.parameters(), lr=0.01, amsgrad=True)  # Includes GaussianLikelihood parameters\n",
    "\n",
    "for i in epochs_iter:\n",
    "    # Training step\n",
    "    model.train()\n",
    "    likelihood.train()\n",
    "\n",
    "    optimizer.zero_grad()\n",
    "    output = model(X_train)\n",
    "    loss = -mll(output, Y_train)\n",
    "    epochs_iter.set_postfix(loss=loss.item())\n",
    "    loss.backward()\n",
    "    optimizer.step()\n",
    "    print('Iter %d/%d - Loss: %.4f' % (i + 1, training_iterations, loss.item()))\n",
    "\n",
    "    # Change learning rate after half of iterations\n",
    "#     if i == 250:\n",
    "#         lr = 0.01\n",
    "#         print('reducing lr to 0.01')\n",
    "#         for param_group in optimizer.param_groups:\n",
    "#             param_group['lr'] = lr\n",
    "\n",
    "#     if i == 150:\n",
    "#         lr = 0.01\n",
    "#         print('reducing lr to 0.01')\n",
    "#         for param_group in optimizer.param_groups:\n",
    "#             param_group['lr'] = lr\n",
    "#-.926"
   ]
  },
  {
   "cell_type": "code",
   "execution_count": 8,
   "id": "aad4f32b",
   "metadata": {},
   "outputs": [
    {
     "data": {
      "text/plain": [
       "OrderedDict([('likelihood.raw_task_noises',\n",
       "              tensor([-3.5882, -4.8617, -5.2042, -3.6967, -8.6811, -4.5323, -1.9077, -2.7376])),\n",
       "             ('likelihood.raw_task_noises_constraint.lower_bound',\n",
       "              tensor(1.0000e-04)),\n",
       "             ('likelihood.raw_task_noises_constraint.upper_bound',\n",
       "              tensor(inf)),\n",
       "             ('mean_module.base_means.0.weights',\n",
       "              tensor([[-1.3321],\n",
       "                      [-0.1180],\n",
       "                      [ 0.4544],\n",
       "                      [ 0.6647],\n",
       "                      [ 0.5458],\n",
       "                      [-2.4134],\n",
       "                      [ 0.2699]])),\n",
       "             ('mean_module.base_means.0.bias', tensor([1.1052])),\n",
       "             ('mean_module.base_means.1.weights',\n",
       "              tensor([[-0.1115],\n",
       "                      [-0.2726],\n",
       "                      [ 0.3722],\n",
       "                      [ 2.3880],\n",
       "                      [ 0.3681],\n",
       "                      [-0.7136],\n",
       "                      [-0.0499]])),\n",
       "             ('mean_module.base_means.1.bias', tensor([-0.8365])),\n",
       "             ('mean_module.base_means.2.weights',\n",
       "              tensor([[ 0.1961],\n",
       "                      [-0.1519],\n",
       "                      [-1.1664],\n",
       "                      [-1.1897],\n",
       "                      [-0.3159],\n",
       "                      [ 1.5276],\n",
       "                      [ 0.1815]])),\n",
       "             ('mean_module.base_means.2.bias', tensor([0.4742])),\n",
       "             ('mean_module.base_means.3.weights',\n",
       "              tensor([[-0.5361],\n",
       "                      [ 0.1139],\n",
       "                      [-0.7516],\n",
       "                      [-0.0440],\n",
       "                      [-0.4646],\n",
       "                      [ 0.4273],\n",
       "                      [ 1.8610]])),\n",
       "             ('mean_module.base_means.3.bias', tensor([0.0656])),\n",
       "             ('mean_module.base_means.4.weights',\n",
       "              tensor([[ 1.2104],\n",
       "                      [ 0.4665],\n",
       "                      [ 1.5686],\n",
       "                      [ 1.9739],\n",
       "                      [-0.0031],\n",
       "                      [ 0.4115],\n",
       "                      [-0.1794]])),\n",
       "             ('mean_module.base_means.4.bias', tensor([-2.7602])),\n",
       "             ('mean_module.base_means.5.weights',\n",
       "              tensor([[ 0.3217],\n",
       "                      [ 0.0288],\n",
       "                      [ 2.9334],\n",
       "                      [ 0.0313],\n",
       "                      [ 0.0919],\n",
       "                      [-1.9446],\n",
       "                      [-0.7839]])),\n",
       "             ('mean_module.base_means.5.bias', tensor([-0.6565])),\n",
       "             ('mean_module.base_means.6.weights',\n",
       "              tensor([[-0.1719],\n",
       "                      [ 0.4905],\n",
       "                      [-0.8815],\n",
       "                      [-0.9268],\n",
       "                      [ 0.2135],\n",
       "                      [ 0.8357],\n",
       "                      [ 1.5638]])),\n",
       "             ('mean_module.base_means.6.bias', tensor([-0.1210])),\n",
       "             ('mean_module.base_means.7.weights',\n",
       "              tensor([[ 0.9496],\n",
       "                      [ 0.2439],\n",
       "                      [-1.2510],\n",
       "                      [-2.1645],\n",
       "                      [ 0.4103],\n",
       "                      [ 0.9735],\n",
       "                      [ 1.0470]])),\n",
       "             ('mean_module.base_means.7.bias', tensor([0.2497])),\n",
       "             ('covar_module.task_covar_module.covar_factor',\n",
       "              tensor([[-0.2244],\n",
       "                      [-0.2637],\n",
       "                      [ 0.6505],\n",
       "                      [ 0.3222],\n",
       "                      [-0.6155],\n",
       "                      [ 0.1168],\n",
       "                      [ 0.1499],\n",
       "                      [ 0.1236]])),\n",
       "             ('covar_module.task_covar_module.raw_var',\n",
       "              tensor([-1.6263, -1.3927, -3.5929, -1.0865, -4.2217, -2.0132, -1.0356, -1.5961])),\n",
       "             ('covar_module.task_covar_module.raw_var_constraint.lower_bound',\n",
       "              tensor(0.)),\n",
       "             ('covar_module.task_covar_module.raw_var_constraint.upper_bound',\n",
       "              tensor(inf)),\n",
       "             ('covar_module.data_covar_module.raw_mixture_weights',\n",
       "              tensor([-1.9055, -1.9055, -1.9055, -1.9055, -1.9055, -1.9055, -1.9038, -2.0931])),\n",
       "             ('covar_module.data_covar_module.raw_mixture_means',\n",
       "              tensor([[[-1.0840, -1.4484, -0.7348, -0.9550, -1.4455, -0.8520, -1.3697]],\n",
       "              \n",
       "                      [[-1.0840, -1.4484, -0.7348, -0.9550, -1.4455, -0.8520, -1.3697]],\n",
       "              \n",
       "                      [[-1.0840, -1.4484, -0.7348, -0.9550, -1.4455, -0.8520, -1.3697]],\n",
       "              \n",
       "                      [[-1.0840, -1.4484, -0.7348, -0.9550, -1.4455, -0.8520, -1.3697]],\n",
       "              \n",
       "                      [[-1.0840, -1.4484, -0.7348, -0.9550, -1.4455, -0.8520, -1.3697]],\n",
       "              \n",
       "                      [[-1.0840, -1.4484, -0.7348, -0.9550, -1.4455, -0.8520, -1.3697]],\n",
       "              \n",
       "                      [[-1.0839, -1.4435, -0.7348, -0.9616, -1.5422, -0.8522, -1.3699]],\n",
       "              \n",
       "                      [[-1.0866, -1.1265, -0.7345, -0.9390, -1.1398, -0.8469, -1.3665]]])),\n",
       "             ('covar_module.data_covar_module.raw_mixture_scales',\n",
       "              tensor([[[-0.4883, -0.8451, -2.3268, -0.4986, -0.7215, -1.1107, -0.5038]],\n",
       "              \n",
       "                      [[-0.4883, -0.8451, -2.3268, -0.4986, -0.7215, -1.1107, -0.5038]],\n",
       "              \n",
       "                      [[-0.4883, -0.8451, -2.3268, -0.4986, -0.7215, -1.1107, -0.5038]],\n",
       "              \n",
       "                      [[-0.4883, -0.8451, -2.3268, -0.4986, -0.7215, -1.1107, -0.5038]],\n",
       "              \n",
       "                      [[-0.4883, -0.8451, -2.3268, -0.4986, -0.7215, -1.1107, -0.5038]],\n",
       "              \n",
       "                      [[-0.4883, -0.8451, -2.3268, -0.4986, -0.7215, -1.1107, -0.5038]],\n",
       "              \n",
       "                      [[-0.4888, -0.8234, -2.3275, -0.5166, -0.9009, -1.1108, -0.5039]],\n",
       "              \n",
       "                      [[-0.4832,  2.7848, -2.3034, -0.4938,  2.5962, -1.1051, -0.4997]]])),\n",
       "             ('covar_module.data_covar_module.raw_mixture_scales_constraint.lower_bound',\n",
       "              tensor(0.)),\n",
       "             ('covar_module.data_covar_module.raw_mixture_scales_constraint.upper_bound',\n",
       "              tensor(inf)),\n",
       "             ('covar_module.data_covar_module.raw_mixture_means_constraint.lower_bound',\n",
       "              tensor(0.)),\n",
       "             ('covar_module.data_covar_module.raw_mixture_means_constraint.upper_bound',\n",
       "              tensor(inf)),\n",
       "             ('covar_module.data_covar_module.raw_mixture_weights_constraint.lower_bound',\n",
       "              tensor(0.)),\n",
       "             ('covar_module.data_covar_module.raw_mixture_weights_constraint.upper_bound',\n",
       "              tensor(inf))])"
      ]
     },
     "execution_count": 8,
     "metadata": {},
     "output_type": "execute_result"
    }
   ],
   "source": [
    "model.state_dict()"
   ]
  },
  {
   "cell_type": "code",
   "execution_count": 9,
   "id": "03a08442",
   "metadata": {},
   "outputs": [
    {
     "name": "stdout",
     "output_type": "stream",
     "text": [
      "/home/users/delon/aemulusnu_massfunction/aemulusnu_massfunction/__init__.py\n",
      "/home/users/delon/aemulusnu_massfunction/aemulusnu_massfunction\n"
     ]
    }
   ],
   "source": [
    "import aemulusnu_massfunction\n",
    "print(aemulusnu_massfunction.__file__)\n",
    "\n",
    "import os\n",
    "\n",
    "package_path = os.path.dirname(aemulusnu_massfunction.__file__)\n",
    "print(package_path)"
   ]
  },
  {
   "cell_type": "code",
   "execution_count": 10,
   "id": "69546e88",
   "metadata": {},
   "outputs": [],
   "source": [
    "\n",
    "with open(package_path + \"/emulator.pkl\", \"wb\") as f:\n",
    "    pickle.dump([model,\n",
    "                in_scaler,\n",
    "                out_scaler,\n",
    "                likelihood,], f)\n",
    "\n"
   ]
  },
  {
   "cell_type": "code",
   "execution_count": 11,
   "id": "d056522d",
   "metadata": {},
   "outputs": [
    {
     "name": "stdout",
     "output_type": "stream",
     "text": [
      "loading emulator from /home/users/delon/aemulusnu_massfunction/aemulusnu_massfunction/emulator.pkl\n"
     ]
    }
   ],
   "source": [
    "Emulator = AemulusNu_HMF_Emulator()"
   ]
  },
  {
   "cell_type": "code",
   "execution_count": 12,
   "id": "3fbe7bc0",
   "metadata": {
    "scrolled": false
   },
   "outputs": [
    {
     "name": "stderr",
     "output_type": "stream",
     "text": [
      "100%|██████████| 4/4 [00:01<00:00,  2.94it/s]\n"
     ]
    },
    {
     "data": {
      "text/plain": [
       "(1.2, 1.3)"
      ]
     },
     "execution_count": 12,
     "metadata": {},
     "output_type": "execute_result"
    },
    {
     "data": {
      "image/png": "[encoded data removed]",
      "text/plain": [
       "<Figure size 720x1080 with 4 Axes>"
      ]
     },
     "metadata": {
      "needs_background": "light"
     },
     "output_type": "display_data"
    }
   ],
   "source": [
    "\n",
    "import matplotlib.pyplot as plt\n",
    "\n",
    "\n",
    "fig, axs = plt.subplots(ncols=1, nrows=4, figsize=(10,15), sharex=True)\n",
    "wjat = ['Box_n50_0_1400', 'Box_n50_14_1400', 'Box_n50_33_1400', 'Box_n50_32_1400']\n",
    "# wjat = [leave_out_box, 'Box98_1400']\n",
    "\n",
    "# for box in [leave_out_box]:#, 'Box_n50_14_1400']:\n",
    "# for box in [leave_out_box, 'Box98_1400', 'Box_n50_0_1400']:#, 'Box_n50_14_1400', 'Box_n50_33_1400', 'Box_n50_32_1400']:\n",
    "for box in tqdm(wjat):\n",
    "    curr_cosmo_vals = tuple(get_cosmo_vals(cosmo_params[box]))\n",
    "    curr_ccl_cosmo = get_ccl_cosmology(curr_cosmo_vals)\n",
    "\n",
    "    param_names = ['d','e','f','g']\n",
    "    ndim = len(param_names)\n",
    "    plt.subplots_adjust(wspace=0, hspace=0)\n",
    "\n",
    "    params = {'d':[], 'e':[], 'f':[], 'g':[]}\n",
    "    paramsEMU = {'d':[], 'e':[], 'f':[], 'g':[]}\n",
    "\n",
    "    for a in a_list:\n",
    "        R = 8 / (cosmo_params[box]['H0'] / 100)\n",
    "        sigma8z = cosmo.sigmaR(R, a=a)\n",
    "        EMU  = (Emulator.predict_params(cosmo_params[box], scaleToRedshift(a))) #, sigma8z))\n",
    "\n",
    "        with open(\"/oak/stanford/orgs/kipac/users/delon/aemulusnu_massfunction/%s_params.pkl\"%(box), \"rb\") as f:\n",
    "            MLE_params = pickle.load(f)\n",
    "            curr_params = list(MLE_params.values())\n",
    "            paired_params = list(zip(curr_params, curr_params[1:]))[::2]\n",
    "\n",
    "            param_at_z = {'d':-1, 'e':-1, 'f':-1, 'g':-1}\n",
    "\n",
    "            for (p0,p1), key in zip(paired_params, param_at_z):\n",
    "                param_at_z[key] = p(p0, p1, a)\n",
    "            MLE_params = param_at_z\n",
    "\n",
    "        for key in MLE_params:\n",
    "            params[key] += [MLE_params[key]]\n",
    "            paramsEMU[key] += [EMU[key]]\n",
    "\n",
    "\n",
    "    for i, param in enumerate(params):\n",
    "        aaaaa = 1\n",
    "        axs[i].scatter(a_list, params[param], alpha=aaaaa, color='blue')\n",
    "#         print(list(zip(a_list,params[param])))\n",
    "#         print()\n",
    "        axs[i].plot(a_list, params[param], alpha=aaaaa, color='blue')\n",
    "\n",
    "        axs[i].scatter(a_list, paramsEMU[param], alpha=aaaaa, color='red')\n",
    "        axs[i].plot(a_list, paramsEMU[param], alpha=aaaaa, color='red')\n",
    "\n",
    "        axs[i].set_ylabel(param)\n",
    "    #     axs[i].set_ylim([0,2])\n",
    "        axs[i].set_xlim([min(a_list), 1])\n",
    "\n",
    "axs[-1].set_xlabel('a')\n",
    "# axs[0].set_ylim([0.25,.45])\n",
    "# axs[1].set_ylim([0.29,.305])\n",
    "# axs[2].set_ylim([1.4,1.8])\n",
    "# axs[3].set_ylim([1.18, 1.2])\n",
    "axs[0].set_ylim([1.7, 3.])\n",
    "axs[1].set_ylim([0.9, 1.1])\n",
    "axs[2].set_ylim([.3,.6])\n",
    "axs[3].set_ylim([1.2,1.3])\n",
    "# axs[0].set_title(box)"
   ]
  },
  {
   "cell_type": "code",
   "execution_count": 13,
   "id": "b6799dcc",
   "metadata": {
    "scrolled": false
   },
   "outputs": [
    {
     "name": "stderr",
     "output_type": "stream",
     "text": [
      "100%|██████████| 15/15 [00:00<00:00, 36770.64it/s]\n",
      "  7%|▋         | 1/15 [00:00<00:13,  1.02it/s]"
     ]
    },
    {
     "name": "stdout",
     "output_type": "stream",
     "text": [
      "[2.1162097439926297, -0.08028502176548288, 0.987102688450363, 0.024287519747148156, 0.4363584408531615, 0.17126132313423517, 1.2204005168112457, 0.0010557051753642959]\n"
     ]
    },
    {
     "name": "stderr",
     "output_type": "stream",
     "text": [
      " 20%|██        | 3/15 [00:01<00:03,  3.23it/s]"
     ]
    },
    {
     "name": "stdout",
     "output_type": "stream",
     "text": [
      "[2.1162097439926297, -0.08028502176548288, 0.987102688450363, 0.024287519747148156, 0.4363584408531615, 0.17126132313423517, 1.2204005168112457, 0.0010557051753642959]\n",
      "[2.1162097439926297, -0.08028502176548288, 0.987102688450363, 0.024287519747148156, 0.4363584408531615, 0.17126132313423517, 1.2204005168112457, 0.0010557051753642959]\n"
     ]
    },
    {
     "name": "stderr",
     "output_type": "stream",
     "text": [
      " 33%|███▎      | 5/15 [00:01<00:01,  5.30it/s]"
     ]
    },
    {
     "name": "stdout",
     "output_type": "stream",
     "text": [
      "[2.1162097439926297, -0.08028502176548288, 0.987102688450363, 0.024287519747148156, 0.4363584408531615, 0.17126132313423517, 1.2204005168112457, 0.0010557051753642959]\n",
      "[2.1162097439926297, -0.08028502176548288, 0.987102688450363, 0.024287519747148156, 0.4363584408531615, 0.17126132313423517, 1.2204005168112457, 0.0010557051753642959]\n"
     ]
    },
    {
     "name": "stderr",
     "output_type": "stream",
     "text": [
      " 47%|████▋     | 7/15 [00:01<00:01,  7.02it/s]"
     ]
    },
    {
     "name": "stdout",
     "output_type": "stream",
     "text": [
      "[2.1162097439926297, -0.08028502176548288, 0.987102688450363, 0.024287519747148156, 0.4363584408531615, 0.17126132313423517, 1.2204005168112457, 0.0010557051753642959]\n",
      "[2.1162097439926297, -0.08028502176548288, 0.987102688450363, 0.024287519747148156, 0.4363584408531615, 0.17126132313423517, 1.2204005168112457, 0.0010557051753642959]\n"
     ]
    },
    {
     "name": "stderr",
     "output_type": "stream",
     "text": [
      " 60%|██████    | 9/15 [00:01<00:00,  8.32it/s]"
     ]
    },
    {
     "name": "stdout",
     "output_type": "stream",
     "text": [
      "[2.1162097439926297, -0.08028502176548288, 0.987102688450363, 0.024287519747148156, 0.4363584408531615, 0.17126132313423517, 1.2204005168112457, 0.0010557051753642959]\n",
      "[2.1162097439926297, -0.08028502176548288, 0.987102688450363, 0.024287519747148156, 0.4363584408531615, 0.17126132313423517, 1.2204005168112457, 0.0010557051753642959]\n"
     ]
    },
    {
     "name": "stderr",
     "output_type": "stream",
     "text": [
      "\r",
      " 67%|██████▋   | 10/15 [00:02<00:00,  6.74it/s]"
     ]
    },
    {
     "name": "stdout",
     "output_type": "stream",
     "text": [
      "[2.1162097439926297, -0.08028502176548288, 0.987102688450363, 0.024287519747148156, 0.4363584408531615, 0.17126132313423517, 1.2204005168112457, 0.0010557051753642959]\n",
      "[2.1162097439926297, -0.08028502176548288, 0.987102688450363, 0.024287519747148156, 0.4363584408531615, 0.17126132313423517, 1.2204005168112457, 0.0010557051753642959]\n",
      "[2.1162097439926297, -0.08028502176548288, 0.987102688450363, 0.024287519747148156, 0.4363584408531615, 0.17126132313423517, 1.2204005168112457, 0.0010557051753642959]\n"
     ]
    },
    {
     "name": "stderr",
     "output_type": "stream",
     "text": [
      "100%|██████████| 15/15 [00:02<00:00,  6.05it/s]"
     ]
    },
    {
     "name": "stdout",
     "output_type": "stream",
     "text": [
      "[2.1162097439926297, -0.08028502176548288, 0.987102688450363, 0.024287519747148156, 0.4363584408531615, 0.17126132313423517, 1.2204005168112457, 0.0010557051753642959]\n",
      "[2.1162097439926297, -0.08028502176548288, 0.987102688450363, 0.024287519747148156, 0.4363584408531615, 0.17126132313423517, 1.2204005168112457, 0.0010557051753642959]\n",
      "[2.1162097439926297, -0.08028502176548288, 0.987102688450363, 0.024287519747148156, 0.4363584408531615, 0.17126132313423517, 1.2204005168112457, 0.0010557051753642959]\n"
     ]
    },
    {
     "name": "stderr",
     "output_type": "stream",
     "text": [
      "\n"
     ]
    },
    {
     "data": {
      "image/png": "[encoded data removed]",
      "text/plain": [
       "<Figure size 864x504 with 2 Axes>"
      ]
     },
     "metadata": {
      "needs_background": "light"
     },
     "output_type": "display_data"
    },
    {
     "data": {
      "image/png": "[encoded data removed]",
      "text/plain": [
       "<Figure size 864x504 with 2 Axes>"
      ]
     },
     "metadata": {
      "needs_background": "light"
     },
     "output_type": "display_data"
    },
    {
     "data": {
      "image/png": "[encoded data removed]",
      "text/plain": [
       "<Figure size 864x504 with 2 Axes>"
      ]
     },
     "metadata": {
      "needs_background": "light"
     },
     "output_type": "display_data"
    },
    {
     "data": {
      "image/png": "[encoded data removed]",
      "text/plain": [
       "<Figure size 864x504 with 2 Axes>"
      ]
     },
     "metadata": {
      "needs_background": "light"
     },
     "output_type": "display_data"
    },
    {
     "data": {
      "image/png": "[encoded data removed]",
      "text/plain": [
       "<Figure size 864x504 with 2 Axes>"
      ]
     },
     "metadata": {
      "needs_background": "light"
     },
     "output_type": "display_data"
    },
    {
     "data": {
      "image/png": "[encoded data removed]",
      "text/plain": [
       "<Figure size 864x504 with 2 Axes>"
      ]
     },
     "metadata": {
      "needs_background": "light"
     },
     "output_type": "display_data"
    },
    {
     "data": {
      "image/png": "[encoded data removed]",
      "text/plain": [
       "<Figure size 864x504 with 2 Axes>"
      ]
     },
     "metadata": {
      "needs_background": "light"
     },
     "output_type": "display_data"
    },
    {
     "data": {
      "image/png": "[encoded data removed]",
      "text/plain": [
       "<Figure size 864x504 with 2 Axes>"
      ]
     },
     "metadata": {
      "needs_background": "light"
     },
     "output_type": "display_data"
    },
    {
     "data": {
      "image/png": "[encoded data removed]",
      "text/plain": [
       "<Figure size 864x504 with 2 Axes>"
      ]
     },
     "metadata": {
      "needs_background": "light"
     },
     "output_type": "display_data"
    },
    {
     "data": {
      "image/png": "[encoded data removed]",
      "text/plain": [
       "<Figure size 864x504 with 2 Axes>"
      ]
     },
     "metadata": {
      "needs_background": "light"
     },
     "output_type": "display_data"
    },
    {
     "data": {
      "image/png": "[encoded data removed]",
      "text/plain": [
       "<Figure size 864x504 with 2 Axes>"
      ]
     },
     "metadata": {
      "needs_background": "light"
     },
     "output_type": "display_data"
    },
    {
     "data": {
      "image/png": "[encoded data removed]",
      "text/plain": [
       "<Figure size 864x504 with 2 Axes>"
      ]
     },
     "metadata": {
      "needs_background": "light"
     },
     "output_type": "display_data"
    },
    {
     "data": {
      "image/png": "[encoded data removed]",
      "text/plain": [
       "<Figure size 864x504 with 2 Axes>"
      ]
     },
     "metadata": {
      "needs_background": "light"
     },
     "output_type": "display_data"
    },
    {
     "data": {
      "image/png": "[encoded data removed]",
      "text/plain": [
       "<Figure size 864x504 with 2 Axes>"
      ]
     },
     "metadata": {
      "needs_background": "light"
     },
     "output_type": "display_data"
    },
    {
     "data": {
      "image/png": "[encoded data removed]",
      "text/plain": [
       "<Figure size 864x504 with 2 Axes>"
      ]
     },
     "metadata": {
      "needs_background": "light"
     },
     "output_type": "display_data"
    }
   ],
   "source": [
    "box = 'Box_n50_32_1400'\n",
    "\n",
    "# from aemulusnu_massfunction.massfunction import *\n",
    "\n",
    "NvM_fname = '/oak/stanford/orgs/kipac/users/delon/aemulusnu_massfunction/'+box+'_NvsM.pkl'\n",
    "NvM_f = open(NvM_fname, 'rb')\n",
    "NvMs = pickle.load(NvM_f) #NvMs is a dictionary of dictionaries\n",
    "NvM_f.close()\n",
    "\n",
    "N_data = {}\n",
    "M_data = {}\n",
    "aux_data = {}\n",
    "\n",
    "vol = -1 #Mpc^3/h^3\n",
    "Mpart = -1\n",
    "\n",
    "for a in tqdm(a_list):\n",
    "#     if(a != 1): #TEST\n",
    "#         continue\n",
    "    c_data = NvMs[a]\n",
    "\n",
    "    Ms = c_data['M'] #units of h^-1 Msolar\n",
    "    N = c_data['N']\n",
    "    edge_pairs = c_data['edge_pairs']\n",
    "    assert(len(Ms) == len(edge_pairs))\n",
    "    assert(len(Ms) == len(N))\n",
    "\n",
    "    if(vol==-1):\n",
    "        vol = c_data['vol']\n",
    "    assert(vol == c_data['vol'])\n",
    "\n",
    "    if(Mpart==-1):\n",
    "        Mpart = c_data['Mpart']\n",
    "    assert(Mpart == c_data['Mpart'])\n",
    "\n",
    "    N_data[a] = []\n",
    "    M_data[a] = []\n",
    "    aux_data[a] = []\n",
    "    for N_curr, M_curr, edge_pair in zip(N, Ms, edge_pairs):\n",
    "        N_data[a] += [N_curr]\n",
    "        M_data[a] += [M_curr]\n",
    "        aux_data[a] += [{'a':a, 'edge_pair':edge_pair}]\n",
    "M_numerics = np.logspace(np.log10(100*Mpart), 16, 50)\n",
    "\n",
    "jackknife_covs_fname = '/oak/stanford/orgs/kipac/users/delon/aemulusnu_massfunction/'+box+'_jackknife_covs.pkl'\n",
    "jackknife_covs_f = open(jackknife_covs_fname, 'rb')\n",
    "jackknife = pickle.load(jackknife_covs_f)\n",
    "jackknife_covs_f.close()\n",
    "\n",
    "jack_covs = {a:jackknife[a][1] for a in N_data}\n",
    "\n",
    "# Compute the weighted covariance matrix incorporating jackknife and poisson\n",
    "weighted_cov = {a: jack_covs[a] for a in jack_covs}\n",
    "\n",
    "param_names = ['d','e','f','g']\n",
    "\n",
    "\n",
    "true_params = {}\n",
    "\n",
    "ccl_cosmo = get_ccl_cosmology(tuple(get_cosmo_vals(cosmo_params[box])))\n",
    "\n",
    "h = cosmo_params[box]['H0']/100\n",
    "\n",
    "\n",
    "for a in tqdm(a_list):\n",
    "    yerr = np.sqrt(np.diagonal(weighted_cov[a]))\n",
    "    fig1 = plt.figure(figsize =(12, 7))\n",
    "\n",
    "    axs=[fig1.add_axes((0.0,0.4,1,.6)), fig1.add_axes((0.0,0.0,1,.4))]\n",
    "    plt.subplots_adjust(wspace=0, hspace=0)\n",
    "    c_data = NvMs[a]\n",
    "\n",
    "    Ms = M_data[a]\n",
    "    N = N_data[a]\n",
    "    edge_pairs = c_data['edge_pairs']\n",
    "\n",
    "    edges = [edge[0] for edge in edge_pairs]\n",
    "    edges += [edge_pairs[-1][1]]\n",
    "\n",
    "    #shade in 1% and 10% error region\n",
    "    edges = np.array(edges)\n",
    "    \n",
    "    \n",
    "\n",
    "    y1 = 0.1*np.ones_like(N)\n",
    "    y1 = np.append(y1, y1[-1])\n",
    "    y1 = np.append(y1[0], y1)\n",
    "\n",
    "    y2 = -0.1*np.ones_like(N)\n",
    "    y2 = np.append(y2, y2[-1])\n",
    "    y2 = np.append(y2[0], y2)\n",
    "\n",
    "    c_Ms = np.append(Ms, edges[-1])\n",
    "    c_Ms = np.append(edges[0], c_Ms)\n",
    "    axs[1].fill_between(c_Ms, y1, y2, alpha=1, color='0.95',label='<10% Error')\n",
    "\n",
    "    y1 = 0.01*np.ones_like(N)\n",
    "    y1 = np.append(y1, y1[-1])\n",
    "    y1 = np.append(y1[0], y1)\n",
    "\n",
    "    y2 = -0.01*np.ones_like(N)\n",
    "    y2 = np.append(y2, y2[-1])\n",
    "    y2 = np.append(y2[0], y2)\n",
    "\n",
    "    axs[1].fill_between(c_Ms, y1, y2, alpha=1, color='0.85',label='<1% Error')\n",
    "\n",
    "\n",
    "    dM = np.array([edges[1]-edges[0] for edges in edge_pairs])\n",
    "\n",
    "\n",
    "    #Emulator \n",
    "    f_dNdM_MCMC =  lambda M:Emulator(ccl_cosmo, M/h, a)*vol/(h**3 * M * np.log(10)) # h / Msun\n",
    "    tinker_eval_MCMC = np.array([quad(f_dNdM_MCMC, edge[0],  edge[1], epsabs=0, epsrel=1e-5)[0] for edge in edge_pairs])\n",
    "\n",
    "    axs[0].scatter(Ms, tinker_eval_MCMC, marker='x', c='red')\n",
    "    axs[0].bar(x=edges[:-1], height=tinker_eval_MCMC, width=np.diff(edges),\n",
    "               align='edge', fill=False, ec='red', label='Emulator')\n",
    "    with open(\"/oak/stanford/orgs/kipac/users/delon/aemulusnu_massfunction/%s_%.2f_NvMemulator_loo_output.pkl\"%(box, a), \"wb\") as f:\n",
    "        pickle.dump({'Ms':Ms, 'tinker_eval':tinker_eval_MCMC, 'N':N, 'edges':edges}, f)\n",
    "\n",
    "    tmp = np.array([c_tmp*10**(0.01)-c_tmp for c_tmp in Ms])\n",
    "    axs[1].errorbar(Ms + tmp, (tinker_eval_MCMC-N)/N, yerr/N, fmt='x', color='red')\n",
    "\n",
    "    #ML Fit\n",
    "\n",
    "    mass_function = MassFuncAemulusNu_fitting_all_snapshot()\n",
    "    \n",
    "    with open(\"/oak/stanford/orgs/kipac/users/delon/aemulusnu_massfunction/%s_params.pkl\"%(box), \"rb\") as f:\n",
    "        MLE_params = pickle.load(f)\n",
    "        print(list(MLE_params.values()))\n",
    "        mass_function.set_params(list(MLE_params.values()))\n",
    "\n",
    "\n",
    "    f_dNdM_MCMC =  lambda M:mass_function(ccl_cosmo, M/h, a)*vol/(h**3 * M * np.log(10)) # h / Msun\n",
    "    tinker_eval_MCMC = np.array([quad(f_dNdM_MCMC, edge[0],  edge[1], epsabs=0, epsrel=1e-5)[0] for edge in edge_pairs])\n",
    "    axs[0].scatter(Ms, tinker_eval_MCMC, s=50 , marker='x', c='blue')\n",
    "    axs[0].bar(x=edges[:-1], height=tinker_eval_MCMC, width=np.diff(edges), \n",
    "               align='edge', fill=False, ec='blue', label='ML Fit')\n",
    "    axs[1].errorbar(Ms, (tinker_eval_MCMC-N)/N, yerr/N, fmt='x', color='blue')\n",
    "\n",
    "\n",
    "\n",
    "    #Data\n",
    "    axs[0].bar(x=edges[:-1], height=N, width=np.diff(edges),\n",
    "           align='edge', fill=False, ec='black', label='Data')\n",
    "    axs[0].errorbar(Ms, N, yerr, fmt='+', c='black')\n",
    "\n",
    "    axs[0].set_xscale('log')\n",
    "    axs[0].set_yscale('log')\n",
    "    axs[0].legend(frameon=False)\n",
    "    axs[0].set_ylabel('N')\n",
    "\n",
    "    axs[1].set_xscale('log')\n",
    "    # axs[1].set_yscale('lin', linthresh=1e-2)    \n",
    "    axs[1].legend(frameon=False)\n",
    "    axs[1].axhline(0, c='black')\n",
    "    axs[1].set_ylabel('N')\n",
    "    axs[1].set_xlabel(r'Mass $[h^{-1}M_\\odot]$')\n",
    "    axs[1].set_ylabel(r'$\\frac{N_{\\rm emulator}-N_{\\rm data}}{N_{\\rm data}} $')\n",
    "    axs[0].set_title('%s, a=%.2f, z=%.2f'%(box, a, scaleToRedshift(a)))\n",
    "\n",
    "    left = np.ceil(np.log10(200*Mpart) * 10) / 10\n",
    "    axs[0].set_xlim((10**left, np.max(edges)))\n",
    "    axs[1].set_xlim((10**left, np.max(edges)))\n",
    "    axs[1].set_ylim((-.29, .29))\n",
    "    axs[1].set_yticks([-.2, -.1, 0, .1, .2])\n",
    "\n",
    "#     plt.savefig('/oak/stanford/orgs/kipac/users/delon/aemulusnu_massfunction/figures/emulator/%s_emufit_%.2f.pdf'%(box, a), bbox_inches='tight')"
   ]
  },
  {
   "cell_type": "code",
   "execution_count": null,
   "id": "0871a9bb",
   "metadata": {},
   "outputs": [],
   "source": []
  }
 ],
 "metadata": {
  "kernelspec": {
   "display_name": "massfunction",
   "language": "python",
   "name": "massfunction"
  },
  "language_info": {
   "codemirror_mode": {
    "name": "ipython",
    "version": 3
   },
   "file_extension": ".py",
   "mimetype": "text/x-python",
   "name": "python",
   "nbconvert_exporter": "python",
   "pygments_lexer": "ipython3",
   "version": "3.9.16"
  }
 },
 "nbformat": 4,
 "nbformat_minor": 5
}
