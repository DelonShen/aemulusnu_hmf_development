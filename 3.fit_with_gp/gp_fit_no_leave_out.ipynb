{
 "cells": [
  {
   "cell_type": "code",
   "execution_count": 1,
   "id": "275029f0",
   "metadata": {},
   "outputs": [],
   "source": [
    "%load_ext autoreload\n",
    "%autoreload 2"
   ]
  },
  {
   "cell_type": "code",
   "execution_count": 2,
   "id": "368a58a2",
   "metadata": {},
   "outputs": [],
   "source": [
    "import math\n",
    "from scipy.integrate import quad, fixed_quad\n",
    "import matplotlib.pyplot as plt\n",
    "import pickle\n",
    "import numpy as np\n",
    "import functools\n",
    "import sys\n",
    "from tqdm import tqdm, trange\n",
    "from aemulusnu_massfunction.utils import *\n",
    "from aemulusnu_massfunction.emulator import *\n",
    "\n",
    "from classy import Class\n",
    "\n",
    "import math\n",
    "import torch\n",
    "import gpytorch\n",
    "from matplotlib import pyplot as plt\n",
    "\n",
    "import pyccl as ccl\n"
   ]
  },
  {
   "cell_type": "code",
   "execution_count": 3,
   "id": "0f7577c9",
   "metadata": {},
   "outputs": [],
   "source": [
    "\n",
    "cosmos_f = open('../data/cosmo_params.pkl', 'rb')\n",
    "cosmo_params = pickle.load(cosmos_f) #cosmo_params is a dict\n",
    "cosmos_f.close()\n",
    "\n",
    "a_list_fname = '/oak/stanford/orgs/kipac/users/delon/aemulusnu_massfunction/alist.pkl'\n",
    "a_list_f = open(a_list_fname, 'rb')\n",
    "a_list = pickle.load(a_list_f)\n",
    "a_list_f.close()"
   ]
  },
  {
   "cell_type": "code",
   "execution_count": 13,
   "id": "36bdedca",
   "metadata": {},
   "outputs": [
    {
     "name": "stderr",
     "output_type": "stream",
     "text": [
      "100%|██████████| 150/150 [00:00<00:00, 515.80it/s]"
     ]
    },
    {
     "name": "stdout",
     "output_type": "stream",
     "text": [
      "{'ns': 0.97000003, 'H0': 67.0, 'w0': -1.0, 'ombh2': 0.0223, 'omch2': 0.12, 'nu_mass_ev': 0.07071068, '10^9 As': 2.10100315}\n"
     ]
    },
    {
     "name": "stderr",
     "output_type": "stream",
     "text": [
      "\n"
     ]
    }
   ],
   "source": [
    "weird_boxes = []\n",
    "\n",
    "\n",
    "errors = {a:{} for a in a_list}\n",
    "X = []\n",
    "Y = []\n",
    "z_to_a = {}\n",
    "a_to_z = {}\n",
    "kt = np.logspace(-3, 1, 100) # h/Mpc\n",
    "for box in tqdm(cosmo_params):\n",
    "    if(box in weird_boxes):\n",
    "        continue\n",
    "    curr_cosmo = cosmo_params[box]\n",
    "    if(box == 'Box_n50_0_1400'):\n",
    "        print(curr_cosmo)\n",
    "\n",
    "    curr_cosmo_values = [curr_cosmo[curr_key] for curr_key in key_ordering]\n",
    "\n",
    "    h = curr_cosmo['H0']/100\n",
    "\n",
    "    Ωb =  curr_cosmo['ombh2'] / h**2\n",
    "    Ωc =  curr_cosmo['omch2'] / h**2\n",
    "\n",
    "    cosmo = ccl.Cosmology(Omega_c=Ωc,\n",
    "                          Omega_b=Ωb,\n",
    "                          h=h,\n",
    "                          A_s=curr_cosmo['10^9 As']*10**(-9),\n",
    "                          n_s=curr_cosmo['ns'],\n",
    "                          w0=curr_cosmo['w0'],\n",
    "                          m_nu=[curr_cosmo['nu_mass_ev']/3, curr_cosmo['nu_mass_ev']/3, curr_cosmo['nu_mass_ev']/3])\n",
    "\n",
    "\n",
    "    try:\n",
    "        with open(\"/oak/stanford/orgs/kipac/users/delon/aemulusnu_massfunction/%s_params.pkl\"%(box), \"rb\") as f:\n",
    "            MLE_params = pickle.load(f)\n",
    "            param_values = list(MLE_params.values())\n",
    "            Y+= [param_values]\n",
    "            X+= [curr_cosmo_values]\n",
    "    except:\n",
    "        print(box, z)\n",
    "    for a in a_list:\n",
    "        z = scaleToRedshift(a)\n",
    "        z_to_a[z] = a\n",
    "        a_to_z[a] = z"
   ]
  },
  {
   "cell_type": "code",
   "execution_count": 14,
   "id": "7dc0ffbb",
   "metadata": {},
   "outputs": [
    {
     "name": "stdout",
     "output_type": "stream",
     "text": [
      "(150, 7)\n",
      "(150, 8)\n",
      "scaling input\n",
      "(150, 7)\n",
      "scaling output\n",
      "(150, 8)\n"
     ]
    }
   ],
   "source": [
    "X = np.array(X)\n",
    "Y = np.array(Y)\n",
    "\n",
    "print(X.shape)\n",
    "print(Y.shape)\n",
    "################################\n",
    "print('scaling input')\n",
    "in_scaler = Normalizer()\n",
    "in_scaler.fit(X)\n",
    "X = in_scaler.transform(X)\n",
    "print(X.shape)\n",
    "\n",
    "\n",
    "print('scaling output')\n",
    "out_scaler = Standardizer()\n",
    "out_scaler.fit(Y)\n",
    "Y = out_scaler.transform(Y)\n",
    "print(Y.shape)\n",
    "\n",
    "##REMEMBER TO UNSCALE OUTPUT AND SAVE SCALERS#####\n",
    "\n",
    "X_train = torch.from_numpy(X).float()\n",
    "Y_train = torch.from_numpy(Y).float()\n",
    "n_tasks = len(Y_train[0])"
   ]
  },
  {
   "cell_type": "code",
   "execution_count": 15,
   "id": "69135b59",
   "metadata": {},
   "outputs": [],
   "source": [
    "from aemulusnu_massfunction.emulator import *\n",
    "\n",
    "\n",
    "likelihood = gpytorch.likelihoods.MultitaskGaussianLikelihood(num_tasks=n_tasks,\n",
    "                                                              has_global_noise=False, \n",
    "                                                              has_task_noise=True)\n",
    "model = MultitaskGPModel(X_train, Y_train, likelihood)\n",
    "\n",
    "\n",
    "# \"Loss\" for GPs - the marginal log likelihood\n",
    "mll = gpytorch.mlls.ExactMarginalLogLikelihood(likelihood, model)\n",
    "\n",
    "model.train()\n",
    "likelihood.train()\n",
    "\n",
    "\n",
    "training_iterations = 2000"
   ]
  },
  {
   "cell_type": "code",
   "execution_count": 16,
   "id": "7eb178a9",
   "metadata": {
    "scrolled": true
   },
   "outputs": [
    {
     "name": "stderr",
     "output_type": "stream",
     "text": [
      "Iteration:   0%|          | 4/2000 [00:00<01:50, 18.14it/s, loss=3.26]"
     ]
    },
    {
     "name": "stdout",
     "output_type": "stream",
     "text": [
      "Iter 1/2000 - Loss: 3.3463\n",
      "Iter 2/2000 - Loss: 3.3167\n",
      "Iter 3/2000 - Loss: 3.2871\n",
      "Iter 4/2000 - Loss: 3.2574\n"
     ]
    },
    {
     "name": "stderr",
     "output_type": "stream",
     "text": [
      "Iteration:   0%|          | 6/2000 [00:00<01:59, 16.73it/s, loss=3.11]"
     ]
    },
    {
     "name": "stdout",
     "output_type": "stream",
     "text": [
      "Iter 5/2000 - Loss: 3.2276\n",
      "Iter 6/2000 - Loss: 3.1978\n",
      "Iter 7/2000 - Loss: 3.1679\n",
      "Iter 8/2000 - Loss: 3.1380\n"
     ]
    },
    {
     "name": "stderr",
     "output_type": "stream",
     "text": [
      "Iteration:   1%|          | 13/2000 [00:00<01:19, 24.94it/s, loss=2.84]"
     ]
    },
    {
     "name": "stdout",
     "output_type": "stream",
     "text": [
      "Iter 9/2000 - Loss: 3.1080\n",
      "Iter 10/2000 - Loss: 3.0779\n",
      "Iter 11/2000 - Loss: 3.0478\n",
      "Iter 12/2000 - Loss: 3.0176\n",
      "Iter 13/2000 - Loss: 2.9873\n",
      "Iter 14/2000 - Loss: 2.9570\n",
      "Iter 15/2000 - Loss: 2.9267\n",
      "Iter 16/2000 - Loss: 2.8963\n",
      "Iter 17/2000 - Loss: 2.8658\n"
     ]
    },
    {
     "name": "stderr",
     "output_type": "stream",
     "text": [
      "Iteration:   1%|          | 24/2000 [00:00<00:52, 37.70it/s, loss=2.53]"
     ]
    },
    {
     "name": "stdout",
     "output_type": "stream",
     "text": [
      "Iter 18/2000 - Loss: 2.8354\n",
      "Iter 19/2000 - Loss: 2.8049\n",
      "Iter 20/2000 - Loss: 2.7743\n",
      "Iter 21/2000 - Loss: 2.7438\n",
      "Iter 22/2000 - Loss: 2.7133\n",
      "Iter 23/2000 - Loss: 2.6827\n",
      "Iter 24/2000 - Loss: 2.6522\n",
      "Iter 25/2000 - Loss: 2.6218\n",
      "Iter 26/2000 - Loss: 2.5913\n",
      "Iter 27/2000 - Loss: 2.5609\n"
     ]
    },
    {
     "name": "stderr",
     "output_type": "stream",
     "text": [
      "Iteration:   2%|▏         | 35/2000 [00:01<00:48, 40.44it/s, loss=2.32]"
     ]
    },
    {
     "name": "stdout",
     "output_type": "stream",
     "text": [
      "Iter 28/2000 - Loss: 2.5306\n",
      "Iter 29/2000 - Loss: 2.5004\n",
      "Iter 30/2000 - Loss: 2.4703\n",
      "Iter 31/2000 - Loss: 2.4402\n",
      "Iter 32/2000 - Loss: 2.4103\n",
      "Iter 33/2000 - Loss: 2.3805\n",
      "Iter 34/2000 - Loss: 2.3509\n",
      "Iter 35/2000 - Loss: 2.3214\n"
     ]
    },
    {
     "name": "stderr",
     "output_type": "stream",
     "text": [
      "Iteration:   2%|▏         | 40/2000 [00:01<00:58, 33.39it/s, loss=2.12]"
     ]
    },
    {
     "name": "stdout",
     "output_type": "stream",
     "text": [
      "Iter 36/2000 - Loss: 2.2921\n",
      "Iter 37/2000 - Loss: 2.2629\n",
      "Iter 38/2000 - Loss: 2.2339\n",
      "Iter 39/2000 - Loss: 2.2051\n",
      "Iter 40/2000 - Loss: 2.1765\n",
      "Iter 41/2000 - Loss: 2.1481\n",
      "Iter 42/2000 - Loss: 2.1198\n"
     ]
    },
    {
     "name": "stderr",
     "output_type": "stream",
     "text": [
      "Iteration:   2%|▏         | 44/2000 [00:01<01:01, 31.85it/s, loss=2.01]"
     ]
    },
    {
     "name": "stdout",
     "output_type": "stream",
     "text": [
      "Iter 43/2000 - Loss: 2.0918\n",
      "Iter 44/2000 - Loss: 2.0640\n",
      "Iter 45/2000 - Loss: 2.0363\n"
     ]
    },
    {
     "name": "stderr",
     "output_type": "stream",
     "text": [
      "Iteration:   2%|▏         | 48/2000 [00:01<01:26, 22.59it/s, loss=1.93]"
     ]
    },
    {
     "name": "stdout",
     "output_type": "stream",
     "text": [
      "Iter 46/2000 - Loss: 2.0089\n",
      "Iter 47/2000 - Loss: 1.9817\n",
      "Iter 48/2000 - Loss: 1.9547\n",
      "Iter 49/2000 - Loss: 1.9280\n"
     ]
    },
    {
     "name": "stderr",
     "output_type": "stream",
     "text": [
      "\r",
      "Iteration:   2%|▏         | 48/2000 [00:01<01:26, 22.59it/s, loss=1.9] "
     ]
    },
    {
     "name": "stdout",
     "output_type": "stream",
     "text": [
      "Iter 50/2000 - Loss: 1.9015\n"
     ]
    },
    {
     "name": "stderr",
     "output_type": "stream",
     "text": [
      "Iteration:   3%|▎         | 51/2000 [00:02<02:25, 13.37it/s, loss=1.85]"
     ]
    },
    {
     "name": "stdout",
     "output_type": "stream",
     "text": [
      "Iter 51/2000 - Loss: 1.8753\n",
      "Iter 52/2000 - Loss: 1.8493\n"
     ]
    },
    {
     "name": "stderr",
     "output_type": "stream",
     "text": [
      "Iteration:   3%|▎         | 58/2000 [00:02<02:05, 15.44it/s, loss=1.65]"
     ]
    },
    {
     "name": "stdout",
     "output_type": "stream",
     "text": [
      "Iter 53/2000 - Loss: 1.8236\n",
      "Iter 54/2000 - Loss: 1.7983\n",
      "Iter 55/2000 - Loss: 1.7732\n",
      "Iter 56/2000 - Loss: 1.7484\n",
      "Iter 57/2000 - Loss: 1.7240\n",
      "Iter 58/2000 - Loss: 1.7000\n",
      "Iter 59/2000 - Loss: 1.6763\n",
      "Iter 60/2000 - Loss: 1.6529\n"
     ]
    },
    {
     "name": "stderr",
     "output_type": "stream",
     "text": [
      "Iteration:   3%|▎         | 66/2000 [00:02<01:32, 20.84it/s, loss=1.52]"
     ]
    },
    {
     "name": "stdout",
     "output_type": "stream",
     "text": [
      "Iter 61/2000 - Loss: 1.6299\n",
      "Iter 62/2000 - Loss: 1.6073\n",
      "Iter 63/2000 - Loss: 1.5851\n",
      "Iter 64/2000 - Loss: 1.5633\n",
      "Iter 65/2000 - Loss: 1.5418\n",
      "Iter 66/2000 - Loss: 1.5208\n"
     ]
    },
    {
     "name": "stderr",
     "output_type": "stream",
     "text": [
      "Iteration:   4%|▎         | 72/2000 [00:03<01:10, 27.45it/s, loss=1.32]"
     ]
    },
    {
     "name": "stdout",
     "output_type": "stream",
     "text": [
      "Iter 67/2000 - Loss: 1.5002\n",
      "Iter 68/2000 - Loss: 1.4800\n",
      "Iter 69/2000 - Loss: 1.4602\n",
      "Iter 70/2000 - Loss: 1.4408\n",
      "Iter 71/2000 - Loss: 1.4218\n",
      "Iter 72/2000 - Loss: 1.4033\n",
      "Iter 73/2000 - Loss: 1.3852\n",
      "Iter 74/2000 - Loss: 1.3675\n",
      "Iter 75/2000 - Loss: 1.3503\n",
      "Iter 76/2000 - Loss: 1.3336\n",
      "Iter 77/2000 - Loss: 1.3173\n"
     ]
    },
    {
     "name": "stderr",
     "output_type": "stream",
     "text": [
      "Iteration:   4%|▍         | 78/2000 [00:03<00:58, 33.06it/s, loss=1.24]"
     ]
    },
    {
     "name": "stdout",
     "output_type": "stream",
     "text": [
      "Iter 78/2000 - Loss: 1.3014\n",
      "Iter 79/2000 - Loss: 1.2860\n",
      "Iter 80/2000 - Loss: 1.2711\n",
      "Iter 81/2000 - Loss: 1.2567\n",
      "Iter 82/2000 - Loss: 1.2427\n"
     ]
    },
    {
     "name": "stderr",
     "output_type": "stream",
     "text": [
      "Iteration:   4%|▍         | 83/2000 [00:03<01:21, 23.66it/s, loss=1.22]"
     ]
    },
    {
     "name": "stdout",
     "output_type": "stream",
     "text": [
      "Iter 83/2000 - Loss: 1.2292\n"
     ]
    },
    {
     "name": "stderr",
     "output_type": "stream",
     "text": [
      "Iteration:   4%|▍         | 87/2000 [00:03<01:42, 18.58it/s, loss=1.15]"
     ]
    },
    {
     "name": "stdout",
     "output_type": "stream",
     "text": [
      "Iter 84/2000 - Loss: 1.2161\n",
      "Iter 85/2000 - Loss: 1.2036\n",
      "Iter 86/2000 - Loss: 1.1916\n",
      "Iter 87/2000 - Loss: 1.1800\n",
      "Iter 88/2000 - Loss: 1.1689\n",
      "Iter 89/2000 - Loss: 1.1583\n"
     ]
    },
    {
     "name": "stderr",
     "output_type": "stream",
     "text": [
      "Iteration:   5%|▍         | 93/2000 [00:04<01:28, 21.46it/s, loss=1.12]"
     ]
    },
    {
     "name": "stdout",
     "output_type": "stream",
     "text": [
      "Iter 90/2000 - Loss: 1.1482\n",
      "Iter 91/2000 - Loss: 1.1386\n",
      "Iter 92/2000 - Loss: 1.1295\n",
      "Iter 93/2000 - Loss: 1.1208\n"
     ]
    },
    {
     "name": "stderr",
     "output_type": "stream",
     "text": [
      "Iteration:   5%|▍         | 96/2000 [00:04<01:33, 20.42it/s, loss=1.08]"
     ]
    },
    {
     "name": "stdout",
     "output_type": "stream",
     "text": [
      "Iter 94/2000 - Loss: 1.1125\n",
      "Iter 95/2000 - Loss: 1.1047\n",
      "Iter 96/2000 - Loss: 1.0973\n",
      "Iter 97/2000 - Loss: 1.0902\n",
      "Iter 98/2000 - Loss: 1.0836\n"
     ]
    },
    {
     "name": "stderr",
     "output_type": "stream",
     "text": [
      "Iteration:   5%|▌         | 105/2000 [00:04<01:07, 28.28it/s, loss=1.03]"
     ]
    },
    {
     "name": "stdout",
     "output_type": "stream",
     "text": [
      "Iter 99/2000 - Loss: 1.0773\n",
      "Iter 100/2000 - Loss: 1.0713\n",
      "Iter 101/2000 - Loss: 1.0657\n",
      "Iter 102/2000 - Loss: 1.0603\n",
      "Iter 103/2000 - Loss: 1.0552\n",
      "Iter 104/2000 - Loss: 1.0503\n",
      "Iter 105/2000 - Loss: 1.0457\n",
      "Iter 106/2000 - Loss: 1.0413\n",
      "Iter 107/2000 - Loss: 1.0371\n",
      "Iter 108/2000 - Loss: 1.0331\n"
     ]
    },
    {
     "name": "stderr",
     "output_type": "stream",
     "text": [
      "Iteration:   6%|▌         | 115/2000 [00:04<00:52, 35.77it/s, loss=1]   "
     ]
    },
    {
     "name": "stdout",
     "output_type": "stream",
     "text": [
      "Iter 109/2000 - Loss: 1.0292\n",
      "Iter 110/2000 - Loss: 1.0255\n",
      "Iter 111/2000 - Loss: 1.0219\n",
      "Iter 112/2000 - Loss: 1.0184\n",
      "Iter 113/2000 - Loss: 1.0151\n",
      "Iter 114/2000 - Loss: 1.0119\n",
      "Iter 115/2000 - Loss: 1.0087\n",
      "Iter 116/2000 - Loss: 1.0057\n",
      "Iter 117/2000 - Loss: 1.0027\n"
     ]
    },
    {
     "name": "stderr",
     "output_type": "stream",
     "text": [
      "Iteration:   6%|▋         | 125/2000 [00:04<00:48, 38.29it/s, loss=0.975]"
     ]
    },
    {
     "name": "stdout",
     "output_type": "stream",
     "text": [
      "Iter 118/2000 - Loss: 0.9999\n",
      "Iter 119/2000 - Loss: 0.9971\n",
      "Iter 120/2000 - Loss: 0.9944\n",
      "Iter 121/2000 - Loss: 0.9917\n",
      "Iter 122/2000 - Loss: 0.9891\n",
      "Iter 123/2000 - Loss: 0.9866\n",
      "Iter 124/2000 - Loss: 0.9842\n",
      "Iter 125/2000 - Loss: 0.9818\n",
      "Iter 126/2000 - Loss: 0.9795\n",
      "Iter 127/2000 - Loss: 0.9772\n"
     ]
    },
    {
     "name": "stderr",
     "output_type": "stream",
     "text": [
      "Iteration:   7%|▋         | 138/2000 [00:05<00:38, 48.97it/s, loss=0.952]"
     ]
    },
    {
     "name": "stdout",
     "output_type": "stream",
     "text": [
      "Iter 128/2000 - Loss: 0.9750\n",
      "Iter 129/2000 - Loss: 0.9729\n",
      "Iter 130/2000 - Loss: 0.9708\n",
      "Iter 131/2000 - Loss: 0.9687\n",
      "Iter 132/2000 - Loss: 0.9667\n",
      "Iter 133/2000 - Loss: 0.9648\n",
      "Iter 134/2000 - Loss: 0.9629\n",
      "Iter 135/2000 - Loss: 0.9610\n",
      "Iter 136/2000 - Loss: 0.9592\n",
      "Iter 137/2000 - Loss: 0.9574\n",
      "Iter 138/2000 - Loss: 0.9557\n",
      "Iter 139/2000 - Loss: 0.9540\n",
      "Iter 140/2000 - Loss: 0.9524\n"
     ]
    },
    {
     "name": "stderr",
     "output_type": "stream",
     "text": [
      "Iteration:   7%|▋         | 138/2000 [00:05<00:38, 48.97it/s, loss=0.948]"
     ]
    },
    {
     "name": "stdout",
     "output_type": "stream",
     "text": [
      "Iter 141/2000 - Loss: 0.9508\n",
      "Iter 142/2000 - Loss: 0.9492\n",
      "Iter 143/2000 - Loss: 0.9476\n"
     ]
    },
    {
     "name": "stderr",
     "output_type": "stream",
     "text": [
      "Iteration:   7%|▋         | 144/2000 [00:05<00:50, 36.65it/s, loss=0.945]"
     ]
    },
    {
     "name": "stdout",
     "output_type": "stream",
     "text": [
      "Iter 144/2000 - Loss: 0.9461\n",
      "Iter 145/2000 - Loss: 0.9446\n"
     ]
    },
    {
     "name": "stderr",
     "output_type": "stream",
     "text": [
      "Iteration:   7%|▋         | 149/2000 [00:05<01:17, 23.86it/s, loss=0.939]"
     ]
    },
    {
     "name": "stdout",
     "output_type": "stream",
     "text": [
      "Iter 146/2000 - Loss: 0.9432\n",
      "Iter 147/2000 - Loss: 0.9417\n",
      "Iter 148/2000 - Loss: 0.9403\n",
      "Iter 149/2000 - Loss: 0.9389\n"
     ]
    },
    {
     "name": "stderr",
     "output_type": "stream",
     "text": [
      "Iteration:   8%|▊         | 153/2000 [00:06<01:22, 22.36it/s, loss=0.93] "
     ]
    },
    {
     "name": "stdout",
     "output_type": "stream",
     "text": [
      "Iter 150/2000 - Loss: 0.9376\n",
      "Iter 151/2000 - Loss: 0.9363\n",
      "Iter 152/2000 - Loss: 0.9350\n",
      "Iter 153/2000 - Loss: 0.9337\n",
      "Iter 154/2000 - Loss: 0.9324\n",
      "Iter 155/2000 - Loss: 0.9312\n",
      "Iter 156/2000 - Loss: 0.9299\n"
     ]
    },
    {
     "name": "stderr",
     "output_type": "stream",
     "text": [
      "Iteration:   8%|▊         | 158/2000 [00:06<01:10, 26.12it/s, loss=0.923]"
     ]
    },
    {
     "name": "stdout",
     "output_type": "stream",
     "text": [
      "Iter 157/2000 - Loss: 0.9287\n",
      "Iter 158/2000 - Loss: 0.9275\n",
      "Iter 159/2000 - Loss: 0.9264\n",
      "Iter 160/2000 - Loss: 0.9252\n",
      "Iter 161/2000 - Loss: 0.9241\n"
     ]
    },
    {
     "name": "stderr",
     "output_type": "stream",
     "text": [
      "Iteration:   8%|▊         | 169/2000 [00:06<00:55, 32.74it/s, loss=0.913]"
     ]
    },
    {
     "name": "stdout",
     "output_type": "stream",
     "text": [
      "Iter 162/2000 - Loss: 0.9230\n",
      "Iter 163/2000 - Loss: 0.9219\n",
      "Iter 164/2000 - Loss: 0.9208\n",
      "Iter 165/2000 - Loss: 0.9197\n",
      "Iter 166/2000 - Loss: 0.9186\n",
      "Iter 167/2000 - Loss: 0.9176\n",
      "Iter 168/2000 - Loss: 0.9165\n",
      "Iter 169/2000 - Loss: 0.9155\n",
      "Iter 170/2000 - Loss: 0.9145\n",
      "Iter 171/2000 - Loss: 0.9135\n"
     ]
    },
    {
     "name": "stderr",
     "output_type": "stream",
     "text": [
      "Iteration:   9%|▉         | 179/2000 [00:06<00:48, 37.64it/s, loss=0.901]"
     ]
    },
    {
     "name": "stdout",
     "output_type": "stream",
     "text": [
      "Iter 172/2000 - Loss: 0.9125\n",
      "Iter 173/2000 - Loss: 0.9115\n",
      "Iter 174/2000 - Loss: 0.9106\n",
      "Iter 175/2000 - Loss: 0.9096\n",
      "Iter 176/2000 - Loss: 0.9086\n",
      "Iter 177/2000 - Loss: 0.9077\n",
      "Iter 178/2000 - Loss: 0.9068\n",
      "Iter 179/2000 - Loss: 0.9059\n",
      "Iter 180/2000 - Loss: 0.9049\n",
      "Iter 181/2000 - Loss: 0.9040\n",
      "Iter 182/2000 - Loss: 0.9031\n",
      "Iter 183/2000 - Loss: 0.9022\n"
     ]
    },
    {
     "name": "stderr",
     "output_type": "stream",
     "text": [
      "Iteration:  10%|▉         | 193/2000 [00:06<00:37, 48.66it/s, loss=0.891]"
     ]
    },
    {
     "name": "stdout",
     "output_type": "stream",
     "text": [
      "Iter 184/2000 - Loss: 0.9014\n",
      "Iter 185/2000 - Loss: 0.9005\n",
      "Iter 186/2000 - Loss: 0.8996\n",
      "Iter 187/2000 - Loss: 0.8988\n",
      "Iter 188/2000 - Loss: 0.8979\n",
      "Iter 189/2000 - Loss: 0.8971\n",
      "Iter 190/2000 - Loss: 0.8962\n",
      "Iter 191/2000 - Loss: 0.8954\n",
      "Iter 192/2000 - Loss: 0.8946\n",
      "Iter 193/2000 - Loss: 0.8937\n",
      "Iter 194/2000 - Loss: 0.8929\n",
      "Iter 195/2000 - Loss: 0.8921\n"
     ]
    },
    {
     "name": "stderr",
     "output_type": "stream",
     "text": [
      "Iteration:  10%|█         | 205/2000 [00:07<00:37, 48.28it/s, loss=0.884]"
     ]
    },
    {
     "name": "stdout",
     "output_type": "stream",
     "text": [
      "Iter 196/2000 - Loss: 0.8913\n",
      "Iter 197/2000 - Loss: 0.8905\n",
      "Iter 198/2000 - Loss: 0.8897\n",
      "Iter 199/2000 - Loss: 0.8889\n",
      "Iter 200/2000 - Loss: 0.8881\n",
      "Iter 201/2000 - Loss: 0.8874\n",
      "Iter 202/2000 - Loss: 0.8866\n",
      "Iter 203/2000 - Loss: 0.8858\n",
      "Iter 204/2000 - Loss: 0.8850\n",
      "Iter 205/2000 - Loss: 0.8843\n"
     ]
    },
    {
     "name": "stderr",
     "output_type": "stream",
     "text": [
      "Iteration:  11%|█         | 212/2000 [00:07<00:34, 52.16it/s, loss=0.877]"
     ]
    },
    {
     "name": "stdout",
     "output_type": "stream",
     "text": [
      "Iter 206/2000 - Loss: 0.8835\n",
      "Iter 207/2000 - Loss: 0.8827\n",
      "Iter 208/2000 - Loss: 0.8820\n",
      "Iter 209/2000 - Loss: 0.8812\n",
      "Iter 210/2000 - Loss: 0.8805\n",
      "Iter 211/2000 - Loss: 0.8797\n",
      "Iter 212/2000 - Loss: 0.8790\n",
      "Iter 213/2000 - Loss: 0.8783\n",
      "Iter 214/2000 - Loss: 0.8775\n",
      "Iter 215/2000 - Loss: 0.8768\n"
     ]
    },
    {
     "name": "stderr",
     "output_type": "stream",
     "text": [
      "Iteration:  11%|█         | 218/2000 [00:07<00:48, 37.11it/s, loss=0.872]"
     ]
    },
    {
     "name": "stdout",
     "output_type": "stream",
     "text": [
      "Iter 216/2000 - Loss: 0.8761\n",
      "Iter 217/2000 - Loss: 0.8753\n",
      "Iter 218/2000 - Loss: 0.8746\n",
      "Iter 219/2000 - Loss: 0.8739\n",
      "Iter 220/2000 - Loss: 0.8731\n",
      "Iter 221/2000 - Loss: 0.8724\n"
     ]
    },
    {
     "name": "stderr",
     "output_type": "stream",
     "text": [
      "Iteration:  12%|█▏        | 232/2000 [00:07<00:37, 47.36it/s, loss=0.863]"
     ]
    },
    {
     "name": "stdout",
     "output_type": "stream",
     "text": [
      "Iter 222/2000 - Loss: 0.8717\n",
      "Iter 223/2000 - Loss: 0.8710\n",
      "Iter 224/2000 - Loss: 0.8703\n",
      "Iter 225/2000 - Loss: 0.8696\n",
      "Iter 226/2000 - Loss: 0.8688\n",
      "Iter 227/2000 - Loss: 0.8681\n",
      "Iter 228/2000 - Loss: 0.8674\n",
      "Iter 229/2000 - Loss: 0.8667\n",
      "Iter 230/2000 - Loss: 0.8660\n",
      "Iter 231/2000 - Loss: 0.8653\n",
      "Iter 232/2000 - Loss: 0.8646\n",
      "Iter 233/2000 - Loss: 0.8639\n",
      "Iter 234/2000 - Loss: 0.8632\n"
     ]
    },
    {
     "name": "stderr",
     "output_type": "stream",
     "text": [
      "Iteration:  12%|█▏        | 246/2000 [00:08<00:32, 53.73it/s, loss=0.854]"
     ]
    },
    {
     "name": "stdout",
     "output_type": "stream",
     "text": [
      "Iter 235/2000 - Loss: 0.8625\n",
      "Iter 236/2000 - Loss: 0.8618\n",
      "Iter 237/2000 - Loss: 0.8611\n",
      "Iter 238/2000 - Loss: 0.8604\n",
      "Iter 239/2000 - Loss: 0.8597\n",
      "Iter 240/2000 - Loss: 0.8590\n",
      "Iter 241/2000 - Loss: 0.8583\n",
      "Iter 242/2000 - Loss: 0.8576\n",
      "Iter 243/2000 - Loss: 0.8569\n",
      "Iter 244/2000 - Loss: 0.8563\n",
      "Iter 245/2000 - Loss: 0.8556\n",
      "Iter 246/2000 - Loss: 0.8549\n",
      "Iter 247/2000 - Loss: 0.8542\n"
     ]
    },
    {
     "name": "stderr",
     "output_type": "stream",
     "text": [
      "Iteration:  13%|█▎        | 252/2000 [00:08<00:39, 44.78it/s, loss=0.849]"
     ]
    },
    {
     "name": "stdout",
     "output_type": "stream",
     "text": [
      "Iter 248/2000 - Loss: 0.8535\n",
      "Iter 249/2000 - Loss: 0.8528\n",
      "Iter 250/2000 - Loss: 0.8521\n",
      "Iter 251/2000 - Loss: 0.8514\n",
      "Iter 252/2000 - Loss: 0.8507\n",
      "Iter 253/2000 - Loss: 0.8501\n",
      "Iter 254/2000 - Loss: 0.8494\n"
     ]
    },
    {
     "name": "stderr",
     "output_type": "stream",
     "text": [
      "Iteration:  13%|█▎        | 265/2000 [00:08<00:33, 51.50it/s, loss=0.842]"
     ]
    },
    {
     "name": "stdout",
     "output_type": "stream",
     "text": [
      "Iter 255/2000 - Loss: 0.8487\n",
      "Iter 256/2000 - Loss: 0.8480\n",
      "Iter 257/2000 - Loss: 0.8473\n",
      "Iter 258/2000 - Loss: 0.8466\n",
      "Iter 259/2000 - Loss: 0.8460\n",
      "Iter 260/2000 - Loss: 0.8453\n",
      "Iter 261/2000 - Loss: 0.8446\n",
      "Iter 262/2000 - Loss: 0.8439\n",
      "Iter 263/2000 - Loss: 0.8432\n",
      "Iter 264/2000 - Loss: 0.8425\n",
      "Iter 265/2000 - Loss: 0.8419\n"
     ]
    },
    {
     "name": "stderr",
     "output_type": "stream",
     "text": [
      "Iteration:  14%|█▎        | 271/2000 [00:08<00:38, 44.65it/s, loss=0.834]"
     ]
    },
    {
     "name": "stdout",
     "output_type": "stream",
     "text": [
      "Iter 266/2000 - Loss: 0.8412\n",
      "Iter 267/2000 - Loss: 0.8405\n",
      "Iter 268/2000 - Loss: 0.8398\n",
      "Iter 269/2000 - Loss: 0.8391\n",
      "Iter 270/2000 - Loss: 0.8385\n",
      "Iter 271/2000 - Loss: 0.8378\n",
      "Iter 272/2000 - Loss: 0.8371\n",
      "Iter 273/2000 - Loss: 0.8364\n",
      "Iter 274/2000 - Loss: 0.8357\n",
      "Iter 275/2000 - Loss: 0.8351\n",
      "Iter 276/2000 - Loss: 0.8344\n",
      "Iter 277/2000 - Loss: 0.8337\n"
     ]
    },
    {
     "name": "stderr",
     "output_type": "stream",
     "text": [
      "Iteration:  14%|█▍        | 285/2000 [00:08<00:32, 52.42it/s, loss=0.826]"
     ]
    },
    {
     "name": "stdout",
     "output_type": "stream",
     "text": [
      "Iter 278/2000 - Loss: 0.8330\n",
      "Iter 279/2000 - Loss: 0.8324\n",
      "Iter 280/2000 - Loss: 0.8317\n",
      "Iter 281/2000 - Loss: 0.8310\n",
      "Iter 282/2000 - Loss: 0.8303\n",
      "Iter 283/2000 - Loss: 0.8297\n",
      "Iter 284/2000 - Loss: 0.8290\n",
      "Iter 285/2000 - Loss: 0.8283\n",
      "Iter 286/2000 - Loss: 0.8276\n",
      "Iter 287/2000 - Loss: 0.8270\n",
      "Iter 288/2000 - Loss: 0.8263\n"
     ]
    },
    {
     "name": "stderr",
     "output_type": "stream",
     "text": [
      "Iteration:  15%|█▍        | 291/2000 [00:09<00:35, 48.28it/s, loss=0.823]"
     ]
    },
    {
     "name": "stdout",
     "output_type": "stream",
     "text": [
      "Iter 289/2000 - Loss: 0.8256\n",
      "Iter 290/2000 - Loss: 0.8250\n",
      "Iter 291/2000 - Loss: 0.8243\n",
      "Iter 292/2000 - Loss: 0.8236\n",
      "Iter 293/2000 - Loss: 0.8230\n"
     ]
    },
    {
     "name": "stderr",
     "output_type": "stream",
     "text": [
      "Iteration:  15%|█▍        | 297/2000 [00:09<00:46, 36.62it/s, loss=0.817]"
     ]
    },
    {
     "name": "stdout",
     "output_type": "stream",
     "text": [
      "Iter 294/2000 - Loss: 0.8223\n",
      "Iter 295/2000 - Loss: 0.8216\n",
      "Iter 296/2000 - Loss: 0.8210\n",
      "Iter 297/2000 - Loss: 0.8203\n",
      "Iter 298/2000 - Loss: 0.8196\n",
      "Iter 299/2000 - Loss: 0.8190\n",
      "Iter 300/2000 - Loss: 0.8183\n",
      "Iter 301/2000 - Loss: 0.8177\n",
      "Iter 302/2000 - Loss: 0.8170\n"
     ]
    },
    {
     "name": "stderr",
     "output_type": "stream",
     "text": [
      "Iteration:  16%|█▌        | 310/2000 [00:09<00:37, 45.65it/s, loss=0.809]"
     ]
    },
    {
     "name": "stdout",
     "output_type": "stream",
     "text": [
      "Iter 303/2000 - Loss: 0.8163\n",
      "Iter 304/2000 - Loss: 0.8157\n",
      "Iter 305/2000 - Loss: 0.8150\n",
      "Iter 306/2000 - Loss: 0.8144\n",
      "Iter 307/2000 - Loss: 0.8137\n",
      "Iter 308/2000 - Loss: 0.8131\n",
      "Iter 309/2000 - Loss: 0.8124\n",
      "Iter 310/2000 - Loss: 0.8118\n",
      "Iter 311/2000 - Loss: 0.8111\n",
      "Iter 312/2000 - Loss: 0.8105\n",
      "Iter 313/2000 - Loss: 0.8098\n",
      "Iter 314/2000 - Loss: 0.8092\n",
      "Iter 315/2000 - Loss: 0.8086\n"
     ]
    },
    {
     "name": "stderr",
     "output_type": "stream",
     "text": [
      "Iteration:  16%|█▌        | 323/2000 [00:09<00:37, 45.03it/s, loss=0.803]"
     ]
    },
    {
     "name": "stdout",
     "output_type": "stream",
     "text": [
      "Iter 316/2000 - Loss: 0.8079\n",
      "Iter 317/2000 - Loss: 0.8073\n",
      "Iter 318/2000 - Loss: 0.8066\n",
      "Iter 319/2000 - Loss: 0.8060\n",
      "Iter 320/2000 - Loss: 0.8054\n",
      "Iter 321/2000 - Loss: 0.8047\n",
      "Iter 322/2000 - Loss: 0.8041\n",
      "Iter 323/2000 - Loss: 0.8035\n",
      "Iter 324/2000 - Loss: 0.8029\n"
     ]
    },
    {
     "name": "stderr",
     "output_type": "stream",
     "text": [
      "Iteration:  16%|█▋        | 328/2000 [00:09<00:42, 39.45it/s, loss=0.799]"
     ]
    },
    {
     "name": "stdout",
     "output_type": "stream",
     "text": [
      "Iter 325/2000 - Loss: 0.8022\n",
      "Iter 326/2000 - Loss: 0.8016\n",
      "Iter 327/2000 - Loss: 0.8010\n",
      "Iter 328/2000 - Loss: 0.8004\n",
      "Iter 329/2000 - Loss: 0.7997\n",
      "Iter 330/2000 - Loss: 0.7991\n",
      "Iter 331/2000 - Loss: 0.7985\n"
     ]
    },
    {
     "name": "stderr",
     "output_type": "stream",
     "text": [
      "Iteration:  17%|█▋        | 340/2000 [00:10<00:36, 45.25it/s, loss=0.792]"
     ]
    },
    {
     "name": "stdout",
     "output_type": "stream",
     "text": [
      "Iter 332/2000 - Loss: 0.7979\n",
      "Iter 333/2000 - Loss: 0.7973\n",
      "Iter 334/2000 - Loss: 0.7967\n",
      "Iter 335/2000 - Loss: 0.7961\n",
      "Iter 336/2000 - Loss: 0.7955\n",
      "Iter 337/2000 - Loss: 0.7949\n",
      "Iter 338/2000 - Loss: 0.7943\n",
      "Iter 339/2000 - Loss: 0.7937\n",
      "Iter 340/2000 - Loss: 0.7931\n",
      "Iter 341/2000 - Loss: 0.7925\n",
      "Iter 342/2000 - Loss: 0.7919\n"
     ]
    },
    {
     "name": "stderr",
     "output_type": "stream",
     "text": [
      "Iteration:  18%|█▊        | 351/2000 [00:10<00:37, 44.43it/s, loss=0.786]"
     ]
    },
    {
     "name": "stdout",
     "output_type": "stream",
     "text": [
      "Iter 343/2000 - Loss: 0.7913\n",
      "Iter 344/2000 - Loss: 0.7907\n",
      "Iter 345/2000 - Loss: 0.7901\n",
      "Iter 346/2000 - Loss: 0.7896\n",
      "Iter 347/2000 - Loss: 0.7890\n",
      "Iter 348/2000 - Loss: 0.7884\n",
      "Iter 349/2000 - Loss: 0.7878\n",
      "Iter 350/2000 - Loss: 0.7872\n",
      "Iter 351/2000 - Loss: 0.7867\n"
     ]
    },
    {
     "name": "stderr",
     "output_type": "stream",
     "text": [
      "Iteration:  18%|█▊        | 357/2000 [00:10<00:34, 47.18it/s, loss=0.781]"
     ]
    },
    {
     "name": "stdout",
     "output_type": "stream",
     "text": [
      "Iter 352/2000 - Loss: 0.7861\n",
      "Iter 353/2000 - Loss: 0.7855\n",
      "Iter 354/2000 - Loss: 0.7850\n",
      "Iter 355/2000 - Loss: 0.7844\n",
      "Iter 356/2000 - Loss: 0.7839\n",
      "Iter 357/2000 - Loss: 0.7833\n",
      "Iter 358/2000 - Loss: 0.7828\n",
      "Iter 359/2000 - Loss: 0.7822\n",
      "Iter 360/2000 - Loss: 0.7817\n",
      "Iter 361/2000 - Loss: 0.7811\n",
      "Iter 362/2000 - Loss: 0.7806\n"
     ]
    },
    {
     "name": "stderr",
     "output_type": "stream",
     "text": [
      "Iteration:  18%|█▊        | 369/2000 [00:10<00:33, 49.16it/s, loss=0.775]"
     ]
    },
    {
     "name": "stdout",
     "output_type": "stream",
     "text": [
      "Iter 363/2000 - Loss: 0.7800\n",
      "Iter 364/2000 - Loss: 0.7795\n",
      "Iter 365/2000 - Loss: 0.7790\n",
      "Iter 366/2000 - Loss: 0.7784\n",
      "Iter 367/2000 - Loss: 0.7779\n",
      "Iter 368/2000 - Loss: 0.7774\n",
      "Iter 369/2000 - Loss: 0.7768\n",
      "Iter 370/2000 - Loss: 0.7763\n",
      "Iter 371/2000 - Loss: 0.7758\n",
      "Iter 372/2000 - Loss: 0.7753\n"
     ]
    },
    {
     "name": "stderr",
     "output_type": "stream",
     "text": [
      "Iteration:  19%|█▉        | 381/2000 [00:10<00:30, 52.44it/s, loss=0.769]"
     ]
    },
    {
     "name": "stdout",
     "output_type": "stream",
     "text": [
      "Iter 373/2000 - Loss: 0.7748\n",
      "Iter 374/2000 - Loss: 0.7743\n",
      "Iter 375/2000 - Loss: 0.7738\n",
      "Iter 376/2000 - Loss: 0.7732\n",
      "Iter 377/2000 - Loss: 0.7727\n",
      "Iter 378/2000 - Loss: 0.7722\n",
      "Iter 379/2000 - Loss: 0.7717\n",
      "Iter 380/2000 - Loss: 0.7713\n",
      "Iter 381/2000 - Loss: 0.7708\n",
      "Iter 382/2000 - Loss: 0.7703\n",
      "Iter 383/2000 - Loss: 0.7698\n",
      "Iter 384/2000 - Loss: 0.7693\n"
     ]
    },
    {
     "name": "stderr",
     "output_type": "stream",
     "text": [
      "Iteration:  20%|█▉        | 394/2000 [00:11<00:34, 46.68it/s, loss=0.765]"
     ]
    },
    {
     "name": "stdout",
     "output_type": "stream",
     "text": [
      "Iter 385/2000 - Loss: 0.7688\n",
      "Iter 386/2000 - Loss: 0.7683\n",
      "Iter 387/2000 - Loss: 0.7679\n",
      "Iter 388/2000 - Loss: 0.7674\n",
      "Iter 389/2000 - Loss: 0.7669\n",
      "Iter 390/2000 - Loss: 0.7665\n",
      "Iter 391/2000 - Loss: 0.7660\n",
      "Iter 392/2000 - Loss: 0.7655\n",
      "Iter 393/2000 - Loss: 0.7651\n",
      "Iter 394/2000 - Loss: 0.7646\n"
     ]
    },
    {
     "name": "stderr",
     "output_type": "stream",
     "text": [
      "Iteration:  20%|█▉        | 394/2000 [00:11<00:34, 46.68it/s, loss=0.763]"
     ]
    },
    {
     "name": "stdout",
     "output_type": "stream",
     "text": [
      "Iter 395/2000 - Loss: 0.7642\n",
      "Iter 396/2000 - Loss: 0.7637\n",
      "Iter 397/2000 - Loss: 0.7633\n",
      "Iter 398/2000 - Loss: 0.7628\n"
     ]
    },
    {
     "name": "stderr",
     "output_type": "stream",
     "text": [
      "Iteration:  20%|██        | 406/2000 [00:11<00:43, 36.30it/s, loss=0.758]"
     ]
    },
    {
     "name": "stdout",
     "output_type": "stream",
     "text": [
      "Iter 399/2000 - Loss: 0.7624\n",
      "Iter 400/2000 - Loss: 0.7620\n",
      "Iter 401/2000 - Loss: 0.7615\n",
      "Iter 402/2000 - Loss: 0.7611\n",
      "Iter 403/2000 - Loss: 0.7607\n",
      "Iter 404/2000 - Loss: 0.7602\n",
      "Iter 405/2000 - Loss: 0.7598\n",
      "Iter 406/2000 - Loss: 0.7594\n",
      "Iter 407/2000 - Loss: 0.7590\n",
      "Iter 408/2000 - Loss: 0.7586\n"
     ]
    },
    {
     "name": "stderr",
     "output_type": "stream",
     "text": [
      "Iteration:  21%|██        | 413/2000 [00:11<00:37, 41.89it/s, loss=0.755]"
     ]
    },
    {
     "name": "stdout",
     "output_type": "stream",
     "text": [
      "Iter 409/2000 - Loss: 0.7582\n",
      "Iter 410/2000 - Loss: 0.7578\n",
      "Iter 411/2000 - Loss: 0.7574\n",
      "Iter 412/2000 - Loss: 0.7570\n",
      "Iter 413/2000 - Loss: 0.7566\n",
      "Iter 414/2000 - Loss: 0.7562\n",
      "Iter 415/2000 - Loss: 0.7558\n",
      "Iter 416/2000 - Loss: 0.7554\n",
      "Iter 417/2000 - Loss: 0.7550\n"
     ]
    },
    {
     "name": "stderr",
     "output_type": "stream",
     "text": [
      "Iteration:  21%|██▏       | 426/2000 [00:12<00:34, 45.29it/s, loss=0.75] "
     ]
    },
    {
     "name": "stdout",
     "output_type": "stream",
     "text": [
      "Iter 418/2000 - Loss: 0.7546\n",
      "Iter 419/2000 - Loss: 0.7542\n",
      "Iter 420/2000 - Loss: 0.7539\n",
      "Iter 421/2000 - Loss: 0.7535\n",
      "Iter 422/2000 - Loss: 0.7531\n",
      "Iter 423/2000 - Loss: 0.7527\n",
      "Iter 424/2000 - Loss: 0.7524\n",
      "Iter 425/2000 - Loss: 0.7520\n",
      "Iter 426/2000 - Loss: 0.7517\n",
      "Iter 427/2000 - Loss: 0.7513\n",
      "Iter 428/2000 - Loss: 0.7510\n",
      "Iter 429/2000 - Loss: 0.7506\n",
      "Iter 430/2000 - Loss: 0.7503\n"
     ]
    },
    {
     "name": "stderr",
     "output_type": "stream",
     "text": [
      "Iteration:  22%|██▏       | 439/2000 [00:12<00:30, 51.51it/s, loss=0.747]"
     ]
    },
    {
     "name": "stdout",
     "output_type": "stream",
     "text": [
      "Iter 431/2000 - Loss: 0.7499\n",
      "Iter 432/2000 - Loss: 0.7496\n",
      "Iter 433/2000 - Loss: 0.7492\n",
      "Iter 434/2000 - Loss: 0.7489\n",
      "Iter 435/2000 - Loss: 0.7486\n",
      "Iter 436/2000 - Loss: 0.7483\n",
      "Iter 437/2000 - Loss: 0.7479\n",
      "Iter 438/2000 - Loss: 0.7476\n",
      "Iter 439/2000 - Loss: 0.7473\n",
      "Iter 440/2000 - Loss: 0.7470\n",
      "Iter 441/2000 - Loss: 0.7467\n"
     ]
    },
    {
     "name": "stderr",
     "output_type": "stream",
     "text": [
      "Iteration:  23%|██▎       | 451/2000 [00:12<00:31, 49.09it/s, loss=0.743]"
     ]
    },
    {
     "name": "stdout",
     "output_type": "stream",
     "text": [
      "Iter 442/2000 - Loss: 0.7463\n",
      "Iter 443/2000 - Loss: 0.7460\n",
      "Iter 444/2000 - Loss: 0.7457\n",
      "Iter 445/2000 - Loss: 0.7454\n",
      "Iter 446/2000 - Loss: 0.7451\n",
      "Iter 447/2000 - Loss: 0.7448\n",
      "Iter 448/2000 - Loss: 0.7446\n",
      "Iter 449/2000 - Loss: 0.7443\n",
      "Iter 450/2000 - Loss: 0.7440\n",
      "Iter 451/2000 - Loss: 0.7437\n",
      "Iter 452/2000 - Loss: 0.7434\n"
     ]
    },
    {
     "name": "stderr",
     "output_type": "stream",
     "text": [
      "Iteration:  23%|██▎       | 464/2000 [00:12<00:28, 53.68it/s, loss=0.74] "
     ]
    },
    {
     "name": "stdout",
     "output_type": "stream",
     "text": [
      "Iter 453/2000 - Loss: 0.7431\n",
      "Iter 454/2000 - Loss: 0.7429\n",
      "Iter 455/2000 - Loss: 0.7426\n",
      "Iter 456/2000 - Loss: 0.7423\n",
      "Iter 457/2000 - Loss: 0.7421\n",
      "Iter 458/2000 - Loss: 0.7418\n",
      "Iter 459/2000 - Loss: 0.7415\n",
      "Iter 460/2000 - Loss: 0.7413\n",
      "Iter 461/2000 - Loss: 0.7410\n",
      "Iter 462/2000 - Loss: 0.7408\n",
      "Iter 463/2000 - Loss: 0.7405\n",
      "Iter 464/2000 - Loss: 0.7403\n"
     ]
    },
    {
     "name": "stderr",
     "output_type": "stream",
     "text": [
      "Iteration:  24%|██▎       | 471/2000 [00:13<00:27, 55.98it/s, loss=0.737]"
     ]
    },
    {
     "name": "stdout",
     "output_type": "stream",
     "text": [
      "Iter 465/2000 - Loss: 0.7400\n",
      "Iter 466/2000 - Loss: 0.7398\n",
      "Iter 467/2000 - Loss: 0.7396\n",
      "Iter 468/2000 - Loss: 0.7393\n",
      "Iter 469/2000 - Loss: 0.7391\n",
      "Iter 470/2000 - Loss: 0.7389\n",
      "Iter 471/2000 - Loss: 0.7386\n",
      "Iter 472/2000 - Loss: 0.7384\n",
      "Iter 473/2000 - Loss: 0.7382\n",
      "Iter 474/2000 - Loss: 0.7380\n",
      "Iter 475/2000 - Loss: 0.7378\n",
      "Iter 476/2000 - Loss: 0.7375\n",
      "Iter 477/2000 - Loss: 0.7373\n"
     ]
    },
    {
     "name": "stderr",
     "output_type": "stream",
     "text": [
      "Iteration:  24%|██▍       | 484/2000 [00:13<00:30, 49.59it/s, loss=0.735]"
     ]
    },
    {
     "name": "stdout",
     "output_type": "stream",
     "text": [
      "Iter 478/2000 - Loss: 0.7371\n",
      "Iter 479/2000 - Loss: 0.7369\n",
      "Iter 480/2000 - Loss: 0.7367\n",
      "Iter 481/2000 - Loss: 0.7365\n",
      "Iter 482/2000 - Loss: 0.7363\n",
      "Iter 483/2000 - Loss: 0.7361\n",
      "Iter 484/2000 - Loss: 0.7359\n",
      "Iter 485/2000 - Loss: 0.7357\n",
      "Iter 486/2000 - Loss: 0.7356\n",
      "Iter 487/2000 - Loss: 0.7354\n",
      "Iter 488/2000 - Loss: 0.7352\n",
      "Iter 489/2000 - Loss: 0.7350\n"
     ]
    },
    {
     "name": "stderr",
     "output_type": "stream",
     "text": [
      "Iteration:  25%|██▍       | 498/2000 [00:13<00:27, 55.37it/s, loss=0.733]"
     ]
    },
    {
     "name": "stdout",
     "output_type": "stream",
     "text": [
      "Iter 490/2000 - Loss: 0.7348\n",
      "Iter 491/2000 - Loss: 0.7346\n",
      "Iter 492/2000 - Loss: 0.7345\n",
      "Iter 493/2000 - Loss: 0.7343\n",
      "Iter 494/2000 - Loss: 0.7341\n",
      "Iter 495/2000 - Loss: 0.7340\n",
      "Iter 496/2000 - Loss: 0.7338\n",
      "Iter 497/2000 - Loss: 0.7336\n",
      "Iter 498/2000 - Loss: 0.7335\n",
      "Iter 499/2000 - Loss: 0.7333\n",
      "Iter 500/2000 - Loss: 0.7332\n"
     ]
    },
    {
     "name": "stderr",
     "output_type": "stream",
     "text": [
      "Iteration:  26%|██▌       | 511/2000 [00:13<00:26, 55.30it/s, loss=0.732]"
     ]
    },
    {
     "name": "stdout",
     "output_type": "stream",
     "text": [
      "Iter 501/2000 - Loss: 0.7330\n",
      "Iter 502/2000 - Loss: 0.7328\n",
      "Iter 503/2000 - Loss: 0.7327\n",
      "Iter 504/2000 - Loss: 0.7325\n",
      "Iter 505/2000 - Loss: 0.7324\n",
      "Iter 506/2000 - Loss: 0.7323\n",
      "Iter 507/2000 - Loss: 0.7321\n",
      "Iter 508/2000 - Loss: 0.7320\n",
      "Iter 509/2000 - Loss: 0.7318\n",
      "Iter 510/2000 - Loss: 0.7317\n",
      "Iter 511/2000 - Loss: 0.7316\n"
     ]
    },
    {
     "name": "stderr",
     "output_type": "stream",
     "text": [
      "Iteration:  26%|██▌       | 523/2000 [00:13<00:29, 49.38it/s, loss=0.73] "
     ]
    },
    {
     "name": "stdout",
     "output_type": "stream",
     "text": [
      "Iter 512/2000 - Loss: 0.7314\n",
      "Iter 513/2000 - Loss: 0.7313\n",
      "Iter 514/2000 - Loss: 0.7312\n",
      "Iter 515/2000 - Loss: 0.7310\n",
      "Iter 516/2000 - Loss: 0.7309\n",
      "Iter 517/2000 - Loss: 0.7308\n",
      "Iter 518/2000 - Loss: 0.7307\n",
      "Iter 519/2000 - Loss: 0.7306\n",
      "Iter 520/2000 - Loss: 0.7304\n",
      "Iter 521/2000 - Loss: 0.7303\n",
      "Iter 522/2000 - Loss: 0.7302\n",
      "Iter 523/2000 - Loss: 0.7301\n"
     ]
    },
    {
     "name": "stderr",
     "output_type": "stream",
     "text": [
      "Iteration:  26%|██▋       | 529/2000 [00:14<00:28, 51.52it/s, loss=0.729]"
     ]
    },
    {
     "name": "stdout",
     "output_type": "stream",
     "text": [
      "Iter 524/2000 - Loss: 0.7300\n",
      "Iter 525/2000 - Loss: 0.7299\n",
      "Iter 526/2000 - Loss: 0.7298\n",
      "Iter 527/2000 - Loss: 0.7296\n",
      "Iter 528/2000 - Loss: 0.7295\n",
      "Iter 529/2000 - Loss: 0.7294\n",
      "Iter 530/2000 - Loss: 0.7293\n",
      "Iter 531/2000 - Loss: 0.7292\n"
     ]
    },
    {
     "name": "stderr",
     "output_type": "stream",
     "text": [
      "Iteration:  27%|██▋       | 542/2000 [00:14<00:29, 48.81it/s, loss=0.728]"
     ]
    },
    {
     "name": "stdout",
     "output_type": "stream",
     "text": [
      "Iter 532/2000 - Loss: 0.7291\n",
      "Iter 533/2000 - Loss: 0.7290\n",
      "Iter 534/2000 - Loss: 0.7289\n",
      "Iter 535/2000 - Loss: 0.7288\n",
      "Iter 536/2000 - Loss: 0.7287\n",
      "Iter 537/2000 - Loss: 0.7287\n",
      "Iter 538/2000 - Loss: 0.7286\n",
      "Iter 539/2000 - Loss: 0.7285\n",
      "Iter 540/2000 - Loss: 0.7284\n",
      "Iter 541/2000 - Loss: 0.7283\n",
      "Iter 542/2000 - Loss: 0.7282\n",
      "Iter 543/2000 - Loss: 0.7281\n",
      "Iter 544/2000 - Loss: 0.7280\n"
     ]
    },
    {
     "name": "stderr",
     "output_type": "stream",
     "text": [
      "Iteration:  28%|██▊       | 555/2000 [00:14<00:26, 53.77it/s, loss=0.727]"
     ]
    },
    {
     "name": "stdout",
     "output_type": "stream",
     "text": [
      "Iter 545/2000 - Loss: 0.7280\n",
      "Iter 546/2000 - Loss: 0.7279\n",
      "Iter 547/2000 - Loss: 0.7278\n",
      "Iter 548/2000 - Loss: 0.7277\n",
      "Iter 549/2000 - Loss: 0.7276\n",
      "Iter 550/2000 - Loss: 0.7276\n",
      "Iter 551/2000 - Loss: 0.7275\n",
      "Iter 552/2000 - Loss: 0.7274\n",
      "Iter 553/2000 - Loss: 0.7274\n",
      "Iter 554/2000 - Loss: 0.7273\n",
      "Iter 555/2000 - Loss: 0.7272\n",
      "Iter 556/2000 - Loss: 0.7272\n",
      "Iter 557/2000 - Loss: 0.7271\n"
     ]
    },
    {
     "name": "stderr",
     "output_type": "stream",
     "text": [
      "Iteration:  28%|██▊       | 561/2000 [00:14<00:30, 46.48it/s, loss=0.726]"
     ]
    },
    {
     "name": "stdout",
     "output_type": "stream",
     "text": [
      "Iter 558/2000 - Loss: 0.7270\n",
      "Iter 559/2000 - Loss: 0.7269\n",
      "Iter 560/2000 - Loss: 0.7269\n",
      "Iter 561/2000 - Loss: 0.7268\n",
      "Iter 562/2000 - Loss: 0.7267\n",
      "Iter 563/2000 - Loss: 0.7267\n",
      "Iter 564/2000 - Loss: 0.7266\n",
      "Iter 565/2000 - Loss: 0.7265\n"
     ]
    },
    {
     "name": "stderr",
     "output_type": "stream",
     "text": [
      "Iteration:  29%|██▊       | 574/2000 [00:15<00:27, 51.98it/s, loss=0.726]"
     ]
    },
    {
     "name": "stdout",
     "output_type": "stream",
     "text": [
      "Iter 566/2000 - Loss: 0.7265\n",
      "Iter 567/2000 - Loss: 0.7264\n",
      "Iter 568/2000 - Loss: 0.7264\n",
      "Iter 569/2000 - Loss: 0.7263\n",
      "Iter 570/2000 - Loss: 0.7262\n",
      "Iter 571/2000 - Loss: 0.7262\n",
      "Iter 572/2000 - Loss: 0.7261\n",
      "Iter 573/2000 - Loss: 0.7261\n",
      "Iter 574/2000 - Loss: 0.7260\n",
      "Iter 575/2000 - Loss: 0.7260\n",
      "Iter 576/2000 - Loss: 0.7259\n",
      "Iter 577/2000 - Loss: 0.7259\n"
     ]
    },
    {
     "name": "stderr",
     "output_type": "stream",
     "text": [
      "Iteration:  29%|██▉       | 580/2000 [00:15<00:31, 44.85it/s, loss=0.725]"
     ]
    },
    {
     "name": "stdout",
     "output_type": "stream",
     "text": [
      "Iter 578/2000 - Loss: 0.7258\n",
      "Iter 579/2000 - Loss: 0.7258\n",
      "Iter 580/2000 - Loss: 0.7257\n",
      "Iter 581/2000 - Loss: 0.7257\n",
      "Iter 582/2000 - Loss: 0.7256\n",
      "Iter 583/2000 - Loss: 0.7256\n",
      "Iter 584/2000 - Loss: 0.7255\n",
      "Iter 585/2000 - Loss: 0.7255\n"
     ]
    },
    {
     "name": "stderr",
     "output_type": "stream",
     "text": [
      "Iteration:  30%|██▉       | 593/2000 [00:15<00:30, 46.66it/s, loss=0.725]"
     ]
    },
    {
     "name": "stdout",
     "output_type": "stream",
     "text": [
      "Iter 586/2000 - Loss: 0.7254\n",
      "Iter 587/2000 - Loss: 0.7254\n",
      "Iter 588/2000 - Loss: 0.7253\n",
      "Iter 589/2000 - Loss: 0.7253\n",
      "Iter 590/2000 - Loss: 0.7252\n",
      "Iter 591/2000 - Loss: 0.7252\n",
      "Iter 592/2000 - Loss: 0.7252\n",
      "Iter 593/2000 - Loss: 0.7251\n",
      "Iter 594/2000 - Loss: 0.7251\n",
      "Iter 595/2000 - Loss: 0.7250\n"
     ]
    },
    {
     "name": "stderr",
     "output_type": "stream",
     "text": [
      "Iteration:  30%|███       | 605/2000 [00:15<00:31, 44.53it/s, loss=0.725]"
     ]
    },
    {
     "name": "stdout",
     "output_type": "stream",
     "text": [
      "Iter 596/2000 - Loss: 0.7250\n",
      "Iter 597/2000 - Loss: 0.7250\n",
      "Iter 598/2000 - Loss: 0.7249\n",
      "Iter 599/2000 - Loss: 0.7249\n",
      "Iter 600/2000 - Loss: 0.7248\n",
      "Iter 601/2000 - Loss: 0.7248\n",
      "Iter 602/2000 - Loss: 0.7248\n",
      "Iter 603/2000 - Loss: 0.7247\n",
      "Iter 604/2000 - Loss: 0.7247\n",
      "Iter 605/2000 - Loss: 0.7247\n"
     ]
    },
    {
     "name": "stderr",
     "output_type": "stream",
     "text": [
      "Iteration:  31%|███       | 611/2000 [00:15<00:29, 47.85it/s, loss=0.724]"
     ]
    },
    {
     "name": "stdout",
     "output_type": "stream",
     "text": [
      "Iter 606/2000 - Loss: 0.7246\n",
      "Iter 607/2000 - Loss: 0.7246\n",
      "Iter 608/2000 - Loss: 0.7246\n",
      "Iter 609/2000 - Loss: 0.7245\n",
      "Iter 610/2000 - Loss: 0.7245\n",
      "Iter 611/2000 - Loss: 0.7245\n",
      "Iter 612/2000 - Loss: 0.7244\n",
      "Iter 613/2000 - Loss: 0.7244\n",
      "Iter 614/2000 - Loss: 0.7244\n",
      "Iter 615/2000 - Loss: 0.7243\n",
      "Iter 616/2000 - Loss: 0.7243\n"
     ]
    },
    {
     "name": "stderr",
     "output_type": "stream",
     "text": [
      "Iteration:  31%|███       | 622/2000 [00:16<00:29, 46.73it/s, loss=0.724]"
     ]
    },
    {
     "name": "stdout",
     "output_type": "stream",
     "text": [
      "Iter 617/2000 - Loss: 0.7243\n",
      "Iter 618/2000 - Loss: 0.7242\n",
      "Iter 619/2000 - Loss: 0.7242\n",
      "Iter 620/2000 - Loss: 0.7242\n",
      "Iter 621/2000 - Loss: 0.7241\n",
      "Iter 622/2000 - Loss: 0.7241\n",
      "Iter 623/2000 - Loss: 0.7241\n"
     ]
    },
    {
     "name": "stderr",
     "output_type": "stream",
     "text": [
      "Iteration:  31%|███▏      | 627/2000 [00:16<00:33, 41.48it/s, loss=0.724]"
     ]
    },
    {
     "name": "stdout",
     "output_type": "stream",
     "text": [
      "Iter 624/2000 - Loss: 0.7241\n",
      "Iter 625/2000 - Loss: 0.7240\n",
      "Iter 626/2000 - Loss: 0.7240\n",
      "Iter 627/2000 - Loss: 0.7240\n",
      "Iter 628/2000 - Loss: 0.7239\n",
      "Iter 629/2000 - Loss: 0.7239\n",
      "Iter 630/2000 - Loss: 0.7239\n"
     ]
    },
    {
     "name": "stderr",
     "output_type": "stream",
     "text": [
      "Iteration:  32%|███▏      | 638/2000 [00:16<00:36, 37.32it/s, loss=0.724]"
     ]
    },
    {
     "name": "stdout",
     "output_type": "stream",
     "text": [
      "Iter 631/2000 - Loss: 0.7239\n",
      "Iter 632/2000 - Loss: 0.7238\n",
      "Iter 633/2000 - Loss: 0.7238\n",
      "Iter 634/2000 - Loss: 0.7238\n",
      "Iter 635/2000 - Loss: 0.7238\n",
      "Iter 636/2000 - Loss: 0.7237\n",
      "Iter 637/2000 - Loss: 0.7237\n",
      "Iter 638/2000 - Loss: 0.7237\n"
     ]
    },
    {
     "name": "stderr",
     "output_type": "stream",
     "text": [
      "Iteration:  32%|███▏      | 643/2000 [00:16<00:45, 29.79it/s, loss=0.724]"
     ]
    },
    {
     "name": "stdout",
     "output_type": "stream",
     "text": [
      "Iter 639/2000 - Loss: 0.7237\n",
      "Iter 640/2000 - Loss: 0.7236\n",
      "Iter 641/2000 - Loss: 0.7236\n",
      "Iter 642/2000 - Loss: 0.7236\n",
      "Iter 643/2000 - Loss: 0.7236\n"
     ]
    },
    {
     "name": "stderr",
     "output_type": "stream",
     "text": [
      "Iteration:  33%|███▎      | 656/2000 [00:17<00:32, 41.29it/s, loss=0.723]"
     ]
    },
    {
     "name": "stdout",
     "output_type": "stream",
     "text": [
      "Iter 644/2000 - Loss: 0.7236\n",
      "Iter 645/2000 - Loss: 0.7235\n",
      "Iter 646/2000 - Loss: 0.7235\n",
      "Iter 647/2000 - Loss: 0.7235\n",
      "Iter 648/2000 - Loss: 0.7235\n",
      "Iter 649/2000 - Loss: 0.7234\n",
      "Iter 650/2000 - Loss: 0.7234\n",
      "Iter 651/2000 - Loss: 0.7234\n",
      "Iter 652/2000 - Loss: 0.7234\n",
      "Iter 653/2000 - Loss: 0.7234\n",
      "Iter 654/2000 - Loss: 0.7233\n",
      "Iter 655/2000 - Loss: 0.7233\n",
      "Iter 656/2000 - Loss: 0.7233\n"
     ]
    },
    {
     "name": "stderr",
     "output_type": "stream",
     "text": [
      "Iteration:  33%|███▎      | 661/2000 [00:17<00:31, 41.97it/s, loss=0.723]"
     ]
    },
    {
     "name": "stdout",
     "output_type": "stream",
     "text": [
      "Iter 657/2000 - Loss: 0.7233\n",
      "Iter 658/2000 - Loss: 0.7233\n",
      "Iter 659/2000 - Loss: 0.7232\n",
      "Iter 660/2000 - Loss: 0.7232\n",
      "Iter 661/2000 - Loss: 0.7232\n",
      "Iter 662/2000 - Loss: 0.7232\n",
      "Iter 663/2000 - Loss: 0.7232\n",
      "Iter 664/2000 - Loss: 0.7231\n",
      "Iter 665/2000 - Loss: 0.7231\n",
      "Iter 666/2000 - Loss: 0.7231\n",
      "Iter 667/2000 - Loss: 0.7231\n"
     ]
    },
    {
     "name": "stderr",
     "output_type": "stream",
     "text": [
      "Iteration:  34%|███▎      | 674/2000 [00:17<00:28, 45.86it/s, loss=0.723]"
     ]
    },
    {
     "name": "stdout",
     "output_type": "stream",
     "text": [
      "Iter 668/2000 - Loss: 0.7231\n",
      "Iter 669/2000 - Loss: 0.7231\n",
      "Iter 670/2000 - Loss: 0.7230\n",
      "Iter 671/2000 - Loss: 0.7230\n",
      "Iter 672/2000 - Loss: 0.7230\n",
      "Iter 673/2000 - Loss: 0.7230\n",
      "Iter 674/2000 - Loss: 0.7230\n",
      "Iter 675/2000 - Loss: 0.7230\n",
      "Iter 676/2000 - Loss: 0.7229\n",
      "Iter 677/2000 - Loss: 0.7229\n"
     ]
    },
    {
     "name": "stderr",
     "output_type": "stream",
     "text": [
      "Iteration:  34%|███▍      | 686/2000 [00:17<00:26, 49.84it/s, loss=0.723]"
     ]
    },
    {
     "name": "stdout",
     "output_type": "stream",
     "text": [
      "Iter 678/2000 - Loss: 0.7229\n",
      "Iter 679/2000 - Loss: 0.7229\n",
      "Iter 680/2000 - Loss: 0.7229\n",
      "Iter 681/2000 - Loss: 0.7229\n",
      "Iter 682/2000 - Loss: 0.7228\n",
      "Iter 683/2000 - Loss: 0.7228\n",
      "Iter 684/2000 - Loss: 0.7228\n",
      "Iter 685/2000 - Loss: 0.7228\n",
      "Iter 686/2000 - Loss: 0.7228\n",
      "Iter 687/2000 - Loss: 0.7228\n",
      "Iter 688/2000 - Loss: 0.7228\n",
      "Iter 689/2000 - Loss: 0.7227\n"
     ]
    },
    {
     "name": "stderr",
     "output_type": "stream",
     "text": [
      "Iteration:  35%|███▍      | 698/2000 [00:17<00:26, 49.80it/s, loss=0.723]"
     ]
    },
    {
     "name": "stdout",
     "output_type": "stream",
     "text": [
      "Iter 690/2000 - Loss: 0.7227\n",
      "Iter 691/2000 - Loss: 0.7227\n",
      "Iter 692/2000 - Loss: 0.7227\n",
      "Iter 693/2000 - Loss: 0.7227\n",
      "Iter 694/2000 - Loss: 0.7227\n",
      "Iter 695/2000 - Loss: 0.7227\n",
      "Iter 696/2000 - Loss: 0.7226\n",
      "Iter 697/2000 - Loss: 0.7226\n",
      "Iter 698/2000 - Loss: 0.7226\n",
      "Iter 699/2000 - Loss: 0.7226\n"
     ]
    },
    {
     "name": "stderr",
     "output_type": "stream",
     "text": [
      "Iteration:  35%|███▌      | 704/2000 [00:18<00:28, 45.75it/s, loss=0.722]"
     ]
    },
    {
     "name": "stdout",
     "output_type": "stream",
     "text": [
      "Iter 700/2000 - Loss: 0.7226\n",
      "Iter 701/2000 - Loss: 0.7226\n",
      "Iter 702/2000 - Loss: 0.7226\n",
      "Iter 703/2000 - Loss: 0.7225\n",
      "Iter 704/2000 - Loss: 0.7225\n",
      "Iter 705/2000 - Loss: 0.7225\n",
      "Iter 706/2000 - Loss: 0.7225\n",
      "Iter 707/2000 - Loss: 0.7225\n",
      "Iter 708/2000 - Loss: 0.7225\n",
      "Iter 709/2000 - Loss: 0.7225\n"
     ]
    },
    {
     "name": "stderr",
     "output_type": "stream",
     "text": [
      "Iteration:  36%|███▌      | 716/2000 [00:18<00:26, 48.77it/s, loss=0.722]"
     ]
    },
    {
     "name": "stdout",
     "output_type": "stream",
     "text": [
      "Iter 710/2000 - Loss: 0.7225\n",
      "Iter 711/2000 - Loss: 0.7224\n",
      "Iter 712/2000 - Loss: 0.7224\n",
      "Iter 713/2000 - Loss: 0.7224\n",
      "Iter 714/2000 - Loss: 0.7224\n",
      "Iter 715/2000 - Loss: 0.7224\n",
      "Iter 716/2000 - Loss: 0.7224\n",
      "Iter 717/2000 - Loss: 0.7224\n"
     ]
    },
    {
     "name": "stderr",
     "output_type": "stream",
     "text": [
      "Iteration:  36%|███▌      | 721/2000 [00:18<00:37, 34.32it/s, loss=0.722]"
     ]
    },
    {
     "name": "stdout",
     "output_type": "stream",
     "text": [
      "Iter 718/2000 - Loss: 0.7224\n",
      "Iter 719/2000 - Loss: 0.7224\n",
      "Iter 720/2000 - Loss: 0.7223\n",
      "Iter 721/2000 - Loss: 0.7223\n",
      "Iter 722/2000 - Loss: 0.7223\n",
      "Iter 723/2000 - Loss: 0.7223\n",
      "Iter 724/2000 - Loss: 0.7223\n"
     ]
    },
    {
     "name": "stderr",
     "output_type": "stream",
     "text": [
      "Iteration:  37%|███▋      | 733/2000 [00:18<00:30, 42.11it/s, loss=0.722]"
     ]
    },
    {
     "name": "stdout",
     "output_type": "stream",
     "text": [
      "Iter 725/2000 - Loss: 0.7223\n",
      "Iter 726/2000 - Loss: 0.7223\n",
      "Iter 727/2000 - Loss: 0.7223\n",
      "Iter 728/2000 - Loss: 0.7223\n",
      "Iter 729/2000 - Loss: 0.7222\n",
      "Iter 730/2000 - Loss: 0.7222\n",
      "Iter 731/2000 - Loss: 0.7222\n",
      "Iter 732/2000 - Loss: 0.7222\n",
      "Iter 733/2000 - Loss: 0.7222\n",
      "Iter 734/2000 - Loss: 0.7222\n",
      "Iter 735/2000 - Loss: 0.7222\n"
     ]
    },
    {
     "name": "stderr",
     "output_type": "stream",
     "text": [
      "Iteration:  37%|███▋      | 744/2000 [00:19<00:30, 41.84it/s, loss=0.722]"
     ]
    },
    {
     "name": "stdout",
     "output_type": "stream",
     "text": [
      "Iter 736/2000 - Loss: 0.7222\n",
      "Iter 737/2000 - Loss: 0.7222\n",
      "Iter 738/2000 - Loss: 0.7222\n",
      "Iter 739/2000 - Loss: 0.7221\n",
      "Iter 740/2000 - Loss: 0.7221\n",
      "Iter 741/2000 - Loss: 0.7221\n",
      "Iter 742/2000 - Loss: 0.7221\n",
      "Iter 743/2000 - Loss: 0.7221\n",
      "Iter 744/2000 - Loss: 0.7221\n"
     ]
    },
    {
     "name": "stderr",
     "output_type": "stream",
     "text": [
      "Iteration:  38%|███▊      | 754/2000 [00:19<00:28, 43.60it/s, loss=0.722]"
     ]
    },
    {
     "name": "stdout",
     "output_type": "stream",
     "text": [
      "Iter 745/2000 - Loss: 0.7221\n",
      "Iter 746/2000 - Loss: 0.7221\n",
      "Iter 747/2000 - Loss: 0.7221\n",
      "Iter 748/2000 - Loss: 0.7221\n",
      "Iter 749/2000 - Loss: 0.7220\n",
      "Iter 750/2000 - Loss: 0.7220\n",
      "Iter 751/2000 - Loss: 0.7220\n",
      "Iter 752/2000 - Loss: 0.7220\n",
      "Iter 753/2000 - Loss: 0.7220\n",
      "Iter 754/2000 - Loss: 0.7220\n"
     ]
    },
    {
     "name": "stderr",
     "output_type": "stream",
     "text": [
      "Iteration:  38%|███▊      | 759/2000 [00:19<00:29, 41.43it/s, loss=0.722]"
     ]
    },
    {
     "name": "stdout",
     "output_type": "stream",
     "text": [
      "Iter 755/2000 - Loss: 0.7220\n",
      "Iter 756/2000 - Loss: 0.7220\n",
      "Iter 757/2000 - Loss: 0.7220\n",
      "Iter 758/2000 - Loss: 0.7220\n",
      "Iter 759/2000 - Loss: 0.7220\n",
      "Iter 760/2000 - Loss: 0.7219\n",
      "Iter 761/2000 - Loss: 0.7219\n",
      "Iter 762/2000 - Loss: 0.7219\n",
      "Iter 763/2000 - Loss: 0.7219\n",
      "Iter 764/2000 - Loss: 0.7219\n"
     ]
    },
    {
     "name": "stderr",
     "output_type": "stream",
     "text": [
      "Iteration:  39%|███▊      | 773/2000 [00:19<00:24, 50.68it/s, loss=0.722]"
     ]
    },
    {
     "name": "stdout",
     "output_type": "stream",
     "text": [
      "Iter 765/2000 - Loss: 0.7219\n",
      "Iter 766/2000 - Loss: 0.7219\n",
      "Iter 767/2000 - Loss: 0.7219\n",
      "Iter 768/2000 - Loss: 0.7219\n",
      "Iter 769/2000 - Loss: 0.7219\n",
      "Iter 770/2000 - Loss: 0.7219\n",
      "Iter 771/2000 - Loss: 0.7219\n",
      "Iter 772/2000 - Loss: 0.7218\n",
      "Iter 773/2000 - Loss: 0.7218\n",
      "Iter 774/2000 - Loss: 0.7218\n",
      "Iter 775/2000 - Loss: 0.7218\n",
      "Iter 776/2000 - Loss: 0.7218\n",
      "Iter 777/2000 - Loss: 0.7218\n"
     ]
    },
    {
     "name": "stderr",
     "output_type": "stream",
     "text": [
      "Iteration:  39%|███▉      | 787/2000 [00:19<00:21, 56.10it/s, loss=0.722]"
     ]
    },
    {
     "name": "stdout",
     "output_type": "stream",
     "text": [
      "Iter 778/2000 - Loss: 0.7218\n",
      "Iter 779/2000 - Loss: 0.7218\n",
      "Iter 780/2000 - Loss: 0.7218\n",
      "Iter 781/2000 - Loss: 0.7218\n",
      "Iter 782/2000 - Loss: 0.7218\n",
      "Iter 783/2000 - Loss: 0.7218\n",
      "Iter 784/2000 - Loss: 0.7218\n",
      "Iter 785/2000 - Loss: 0.7217\n",
      "Iter 786/2000 - Loss: 0.7217\n",
      "Iter 787/2000 - Loss: 0.7217\n",
      "Iter 788/2000 - Loss: 0.7217\n",
      "Iter 789/2000 - Loss: 0.7217\n",
      "Iter 790/2000 - Loss: 0.7217\n"
     ]
    },
    {
     "name": "stderr",
     "output_type": "stream",
     "text": [
      "Iteration:  40%|███▉      | 794/2000 [00:20<00:20, 57.62it/s, loss=0.722]"
     ]
    },
    {
     "name": "stdout",
     "output_type": "stream",
     "text": [
      "Iter 791/2000 - Loss: 0.7217\n",
      "Iter 792/2000 - Loss: 0.7217\n",
      "Iter 793/2000 - Loss: 0.7217\n",
      "Iter 794/2000 - Loss: 0.7217\n",
      "Iter 795/2000 - Loss: 0.7217\n",
      "Iter 796/2000 - Loss: 0.7218\n",
      "Iter 797/2000 - Loss: 0.7218\n",
      "Iter 798/2000 - Loss: 0.7217\n",
      "Iter 799/2000 - Loss: 0.7216\n"
     ]
    },
    {
     "name": "stderr",
     "output_type": "stream",
     "text": [
      "Iteration:  40%|████      | 807/2000 [00:20<00:24, 47.81it/s, loss=0.722]"
     ]
    },
    {
     "name": "stdout",
     "output_type": "stream",
     "text": [
      "Iter 800/2000 - Loss: 0.7217\n",
      "Iter 801/2000 - Loss: 0.7217\n",
      "Iter 802/2000 - Loss: 0.7216\n",
      "Iter 803/2000 - Loss: 0.7216\n",
      "Iter 804/2000 - Loss: 0.7217\n",
      "Iter 805/2000 - Loss: 0.7216\n",
      "Iter 806/2000 - Loss: 0.7216\n",
      "Iter 807/2000 - Loss: 0.7216\n",
      "Iter 808/2000 - Loss: 0.7216\n",
      "Iter 809/2000 - Loss: 0.7216\n",
      "Iter 810/2000 - Loss: 0.7216\n",
      "Iter 811/2000 - Loss: 0.7216\n",
      "Iter 812/2000 - Loss: 0.7216\n"
     ]
    },
    {
     "name": "stderr",
     "output_type": "stream",
     "text": [
      "Iteration:  41%|████      | 820/2000 [00:20<00:22, 53.49it/s, loss=0.721]"
     ]
    },
    {
     "name": "stdout",
     "output_type": "stream",
     "text": [
      "Iter 813/2000 - Loss: 0.7216\n",
      "Iter 814/2000 - Loss: 0.7216\n",
      "Iter 815/2000 - Loss: 0.7215\n",
      "Iter 816/2000 - Loss: 0.7215\n",
      "Iter 817/2000 - Loss: 0.7215\n",
      "Iter 818/2000 - Loss: 0.7215\n",
      "Iter 819/2000 - Loss: 0.7215\n",
      "Iter 820/2000 - Loss: 0.7215\n",
      "Iter 821/2000 - Loss: 0.7215\n",
      "Iter 822/2000 - Loss: 0.7215\n",
      "Iter 823/2000 - Loss: 0.7215\n",
      "Iter 824/2000 - Loss: 0.7215\n",
      "Iter 825/2000 - Loss: 0.7214\n"
     ]
    },
    {
     "name": "stderr",
     "output_type": "stream",
     "text": [
      "Iteration:  42%|████▏     | 834/2000 [00:20<00:20, 57.18it/s, loss=0.721]"
     ]
    },
    {
     "name": "stdout",
     "output_type": "stream",
     "text": [
      "Iter 826/2000 - Loss: 0.7214\n",
      "Iter 827/2000 - Loss: 0.7214\n",
      "Iter 828/2000 - Loss: 0.7214\n",
      "Iter 829/2000 - Loss: 0.7214\n",
      "Iter 830/2000 - Loss: 0.7214\n",
      "Iter 831/2000 - Loss: 0.7214\n",
      "Iter 832/2000 - Loss: 0.7214\n",
      "Iter 833/2000 - Loss: 0.7214\n",
      "Iter 834/2000 - Loss: 0.7214\n",
      "Iter 835/2000 - Loss: 0.7213\n",
      "Iter 836/2000 - Loss: 0.7213\n",
      "Iter 837/2000 - Loss: 0.7213\n",
      "Iter 838/2000 - Loss: 0.7213\n"
     ]
    },
    {
     "name": "stderr",
     "output_type": "stream",
     "text": [
      "Iteration:  42%|████▏     | 848/2000 [00:20<00:19, 59.26it/s, loss=0.721]"
     ]
    },
    {
     "name": "stdout",
     "output_type": "stream",
     "text": [
      "Iter 839/2000 - Loss: 0.7213\n",
      "Iter 840/2000 - Loss: 0.7213\n",
      "Iter 841/2000 - Loss: 0.7213\n",
      "Iter 842/2000 - Loss: 0.7212\n",
      "Iter 843/2000 - Loss: 0.7212\n",
      "Iter 844/2000 - Loss: 0.7212\n",
      "Iter 845/2000 - Loss: 0.7212\n",
      "Iter 846/2000 - Loss: 0.7212\n",
      "Iter 847/2000 - Loss: 0.7212\n",
      "Iter 848/2000 - Loss: 0.7211\n",
      "Iter 849/2000 - Loss: 0.7211\n",
      "Iter 850/2000 - Loss: 0.7211\n",
      "Iter 851/2000 - Loss: 0.7211\n"
     ]
    },
    {
     "name": "stderr",
     "output_type": "stream",
     "text": [
      "Iteration:  43%|████▎     | 861/2000 [00:21<00:20, 54.42it/s, loss=0.721]"
     ]
    },
    {
     "name": "stdout",
     "output_type": "stream",
     "text": [
      "Iter 852/2000 - Loss: 0.7211\n",
      "Iter 853/2000 - Loss: 0.7210\n",
      "Iter 854/2000 - Loss: 0.7210\n",
      "Iter 855/2000 - Loss: 0.7210\n",
      "Iter 856/2000 - Loss: 0.7209\n",
      "Iter 857/2000 - Loss: 0.7209\n",
      "Iter 858/2000 - Loss: 0.7209\n",
      "Iter 859/2000 - Loss: 0.7209\n",
      "Iter 860/2000 - Loss: 0.7208\n",
      "Iter 861/2000 - Loss: 0.7208\n",
      "Iter 862/2000 - Loss: 0.7207\n",
      "Iter 863/2000 - Loss: 0.7207\n"
     ]
    },
    {
     "name": "stderr",
     "output_type": "stream",
     "text": [
      "Iteration:  44%|████▍     | 875/2000 [00:21<00:19, 57.70it/s, loss=0.72] "
     ]
    },
    {
     "name": "stdout",
     "output_type": "stream",
     "text": [
      "Iter 864/2000 - Loss: 0.7207\n",
      "Iter 865/2000 - Loss: 0.7206\n",
      "Iter 866/2000 - Loss: 0.7206\n",
      "Iter 867/2000 - Loss: 0.7205\n",
      "Iter 868/2000 - Loss: 0.7205\n",
      "Iter 869/2000 - Loss: 0.7204\n",
      "Iter 870/2000 - Loss: 0.7204\n",
      "Iter 871/2000 - Loss: 0.7203\n",
      "Iter 872/2000 - Loss: 0.7203\n",
      "Iter 873/2000 - Loss: 0.7202\n",
      "Iter 874/2000 - Loss: 0.7202\n",
      "Iter 875/2000 - Loss: 0.7201\n",
      "Iter 876/2000 - Loss: 0.7201\n"
     ]
    },
    {
     "name": "stderr",
     "output_type": "stream",
     "text": [
      "Iteration:  44%|████▍     | 887/2000 [00:21<00:21, 52.26it/s, loss=0.719]"
     ]
    },
    {
     "name": "stdout",
     "output_type": "stream",
     "text": [
      "Iter 877/2000 - Loss: 0.7200\n",
      "Iter 878/2000 - Loss: 0.7199\n",
      "Iter 879/2000 - Loss: 0.7199\n",
      "Iter 880/2000 - Loss: 0.7198\n",
      "Iter 881/2000 - Loss: 0.7197\n",
      "Iter 882/2000 - Loss: 0.7197\n",
      "Iter 883/2000 - Loss: 0.7196\n",
      "Iter 884/2000 - Loss: 0.7195\n",
      "Iter 885/2000 - Loss: 0.7195\n",
      "Iter 886/2000 - Loss: 0.7194\n",
      "Iter 887/2000 - Loss: 0.7193\n",
      "Iter 888/2000 - Loss: 0.7193\n"
     ]
    },
    {
     "name": "stderr",
     "output_type": "stream",
     "text": [
      "Iteration:  45%|████▍     | 893/2000 [00:21<00:20, 53.94it/s, loss=0.719]"
     ]
    },
    {
     "name": "stdout",
     "output_type": "stream",
     "text": [
      "Iter 889/2000 - Loss: 0.7192\n",
      "Iter 890/2000 - Loss: 0.7191\n",
      "Iter 891/2000 - Loss: 0.7191\n",
      "Iter 892/2000 - Loss: 0.7190\n",
      "Iter 893/2000 - Loss: 0.7189\n",
      "Iter 894/2000 - Loss: 0.7189\n",
      "Iter 895/2000 - Loss: 0.7188\n",
      "Iter 896/2000 - Loss: 0.7187\n"
     ]
    },
    {
     "name": "stderr",
     "output_type": "stream",
     "text": [
      "Iteration:  45%|████▌     | 905/2000 [00:22<00:21, 49.96it/s, loss=0.718]"
     ]
    },
    {
     "name": "stdout",
     "output_type": "stream",
     "text": [
      "Iter 897/2000 - Loss: 0.7187\n",
      "Iter 898/2000 - Loss: 0.7186\n",
      "Iter 899/2000 - Loss: 0.7185\n",
      "Iter 900/2000 - Loss: 0.7185\n",
      "Iter 901/2000 - Loss: 0.7184\n",
      "Iter 902/2000 - Loss: 0.7184\n",
      "Iter 903/2000 - Loss: 0.7183\n",
      "Iter 904/2000 - Loss: 0.7182\n",
      "Iter 905/2000 - Loss: 0.7182\n",
      "Iter 906/2000 - Loss: 0.7181\n",
      "Iter 907/2000 - Loss: 0.7181\n"
     ]
    },
    {
     "name": "stderr",
     "output_type": "stream",
     "text": [
      "Iteration:  46%|████▌     | 911/2000 [00:22<00:33, 32.25it/s, loss=0.718]"
     ]
    },
    {
     "name": "stdout",
     "output_type": "stream",
     "text": [
      "Iter 908/2000 - Loss: 0.7180\n",
      "Iter 909/2000 - Loss: 0.7180\n",
      "Iter 910/2000 - Loss: 0.7179\n",
      "Iter 911/2000 - Loss: 0.7179\n",
      "Iter 912/2000 - Loss: 0.7178\n",
      "Iter 913/2000 - Loss: 0.7178\n",
      "Iter 914/2000 - Loss: 0.7177\n",
      "Iter 915/2000 - Loss: 0.7177\n",
      "Iter 916/2000 - Loss: 0.7176\n",
      "Iter 917/2000 - Loss: 0.7176"
     ]
    },
    {
     "name": "stderr",
     "output_type": "stream",
     "text": [
      "Iteration:  46%|████▋     | 925/2000 [00:22<00:24, 43.31it/s, loss=0.717]"
     ]
    },
    {
     "name": "stdout",
     "output_type": "stream",
     "text": [
      "\n",
      "Iter 918/2000 - Loss: 0.7175\n",
      "Iter 919/2000 - Loss: 0.7175\n",
      "Iter 920/2000 - Loss: 0.7174\n",
      "Iter 921/2000 - Loss: 0.7174\n",
      "Iter 922/2000 - Loss: 0.7174\n",
      "Iter 923/2000 - Loss: 0.7173\n",
      "Iter 924/2000 - Loss: 0.7173\n",
      "Iter 925/2000 - Loss: 0.7173\n",
      "Iter 926/2000 - Loss: 0.7172\n",
      "Iter 927/2000 - Loss: 0.7172\n",
      "Iter 928/2000 - Loss: 0.7172\n",
      "Iter 929/2000 - Loss: 0.7171\n"
     ]
    },
    {
     "name": "stderr",
     "output_type": "stream",
     "text": [
      "Iteration:  47%|████▋     | 939/2000 [00:22<00:20, 50.98it/s, loss=0.717]"
     ]
    },
    {
     "name": "stdout",
     "output_type": "stream",
     "text": [
      "Iter 930/2000 - Loss: 0.7171\n",
      "Iter 931/2000 - Loss: 0.7171\n",
      "Iter 932/2000 - Loss: 0.7170\n",
      "Iter 933/2000 - Loss: 0.7170\n",
      "Iter 934/2000 - Loss: 0.7170\n",
      "Iter 935/2000 - Loss: 0.7170\n",
      "Iter 936/2000 - Loss: 0.7169\n",
      "Iter 937/2000 - Loss: 0.7169\n",
      "Iter 938/2000 - Loss: 0.7169\n",
      "Iter 939/2000 - Loss: 0.7169\n",
      "Iter 940/2000 - Loss: 0.7168\n",
      "Iter 941/2000 - Loss: 0.7168\n",
      "Iter 942/2000 - Loss: 0.7168\n"
     ]
    },
    {
     "name": "stderr",
     "output_type": "stream",
     "text": [
      "Iteration:  48%|████▊     | 953/2000 [00:23<00:18, 55.66it/s, loss=0.717]"
     ]
    },
    {
     "name": "stdout",
     "output_type": "stream",
     "text": [
      "Iter 943/2000 - Loss: 0.7168\n",
      "Iter 944/2000 - Loss: 0.7167\n",
      "Iter 945/2000 - Loss: 0.7167\n",
      "Iter 946/2000 - Loss: 0.7167\n",
      "Iter 947/2000 - Loss: 0.7167\n",
      "Iter 948/2000 - Loss: 0.7167\n",
      "Iter 949/2000 - Loss: 0.7166\n",
      "Iter 950/2000 - Loss: 0.7166\n",
      "Iter 951/2000 - Loss: 0.7166\n",
      "Iter 952/2000 - Loss: 0.7166\n",
      "Iter 953/2000 - Loss: 0.7166\n",
      "Iter 954/2000 - Loss: 0.7165\n",
      "Iter 955/2000 - Loss: 0.7165\n"
     ]
    },
    {
     "name": "stderr",
     "output_type": "stream",
     "text": [
      "Iteration:  48%|████▊     | 965/2000 [00:23<00:18, 55.07it/s, loss=0.716]"
     ]
    },
    {
     "name": "stdout",
     "output_type": "stream",
     "text": [
      "Iter 956/2000 - Loss: 0.7165\n",
      "Iter 957/2000 - Loss: 0.7165\n",
      "Iter 958/2000 - Loss: 0.7165\n",
      "Iter 959/2000 - Loss: 0.7165\n",
      "Iter 960/2000 - Loss: 0.7164\n",
      "Iter 961/2000 - Loss: 0.7164\n",
      "Iter 962/2000 - Loss: 0.7164\n",
      "Iter 963/2000 - Loss: 0.7164\n",
      "Iter 964/2000 - Loss: 0.7164\n",
      "Iter 965/2000 - Loss: 0.7164\n",
      "Iter 966/2000 - Loss: 0.7163\n"
     ]
    },
    {
     "name": "stderr",
     "output_type": "stream",
     "text": [
      "Iteration:  49%|████▉     | 979/2000 [00:23<00:17, 57.89it/s, loss=0.716]"
     ]
    },
    {
     "name": "stdout",
     "output_type": "stream",
     "text": [
      "Iter 967/2000 - Loss: 0.7163\n",
      "Iter 968/2000 - Loss: 0.7163\n",
      "Iter 969/2000 - Loss: 0.7163\n",
      "Iter 970/2000 - Loss: 0.7163\n",
      "Iter 971/2000 - Loss: 0.7163\n",
      "Iter 972/2000 - Loss: 0.7163\n",
      "Iter 973/2000 - Loss: 0.7163\n",
      "Iter 974/2000 - Loss: 0.7162\n",
      "Iter 975/2000 - Loss: 0.7162\n",
      "Iter 976/2000 - Loss: 0.7162\n",
      "Iter 977/2000 - Loss: 0.7162\n",
      "Iter 978/2000 - Loss: 0.7162\n",
      "Iter 979/2000 - Loss: 0.7162\n"
     ]
    },
    {
     "name": "stderr",
     "output_type": "stream",
     "text": [
      "Iteration:  49%|████▉     | 986/2000 [00:23<00:17, 58.65it/s, loss=0.716]"
     ]
    },
    {
     "name": "stdout",
     "output_type": "stream",
     "text": [
      "Iter 980/2000 - Loss: 0.7162\n",
      "Iter 981/2000 - Loss: 0.7162\n",
      "Iter 982/2000 - Loss: 0.7161\n",
      "Iter 983/2000 - Loss: 0.7161\n",
      "Iter 984/2000 - Loss: 0.7161\n",
      "Iter 985/2000 - Loss: 0.7161\n",
      "Iter 986/2000 - Loss: 0.7161\n",
      "Iter 987/2000 - Loss: 0.7161\n",
      "Iter 988/2000 - Loss: 0.7161\n",
      "Iter 989/2000 - Loss: 0.7161\n",
      "Iter 990/2000 - Loss: 0.7161\n",
      "Iter 991/2000 - Loss: 0.7161\n",
      "Iter 992/2000 - Loss: 0.7160\n"
     ]
    },
    {
     "name": "stderr",
     "output_type": "stream",
     "text": [
      "Iteration:  50%|████▉     | 999/2000 [00:24<00:20, 48.98it/s, loss=0.716]"
     ]
    },
    {
     "name": "stdout",
     "output_type": "stream",
     "text": [
      "Iter 993/2000 - Loss: 0.7160\n",
      "Iter 994/2000 - Loss: 0.7160\n",
      "Iter 995/2000 - Loss: 0.7160\n",
      "Iter 996/2000 - Loss: 0.7160\n",
      "Iter 997/2000 - Loss: 0.7160\n",
      "Iter 998/2000 - Loss: 0.7160\n",
      "Iter 999/2000 - Loss: 0.7160\n",
      "Iter 1000/2000 - Loss: 0.7160\n",
      "Iter 1001/2000 - Loss: 0.7160\n",
      "Iter 1002/2000 - Loss: 0.7159\n",
      "Iter 1003/2000 - Loss: 0.7159\n"
     ]
    },
    {
     "name": "stderr",
     "output_type": "stream",
     "text": [
      "Iteration:  51%|█████     | 1012/2000 [00:24<00:19, 49.96it/s, loss=0.716]"
     ]
    },
    {
     "name": "stdout",
     "output_type": "stream",
     "text": [
      "Iter 1004/2000 - Loss: 0.7159\n",
      "Iter 1005/2000 - Loss: 0.7159\n",
      "Iter 1006/2000 - Loss: 0.7159\n",
      "Iter 1007/2000 - Loss: 0.7159\n",
      "Iter 1008/2000 - Loss: 0.7159\n",
      "Iter 1009/2000 - Loss: 0.7159\n",
      "Iter 1010/2000 - Loss: 0.7159\n",
      "Iter 1011/2000 - Loss: 0.7159\n",
      "Iter 1012/2000 - Loss: 0.7159\n",
      "Iter 1013/2000 - Loss: 0.7159\n"
     ]
    },
    {
     "name": "stderr",
     "output_type": "stream",
     "text": [
      "Iteration:  51%|█████     | 1024/2000 [00:24<00:18, 52.73it/s, loss=0.716]"
     ]
    },
    {
     "name": "stdout",
     "output_type": "stream",
     "text": [
      "Iter 1014/2000 - Loss: 0.7159\n",
      "Iter 1015/2000 - Loss: 0.7158\n",
      "Iter 1016/2000 - Loss: 0.7158\n",
      "Iter 1017/2000 - Loss: 0.7158\n",
      "Iter 1018/2000 - Loss: 0.7158\n",
      "Iter 1019/2000 - Loss: 0.7158\n",
      "Iter 1020/2000 - Loss: 0.7158\n",
      "Iter 1021/2000 - Loss: 0.7158\n",
      "Iter 1022/2000 - Loss: 0.7158\n",
      "Iter 1023/2000 - Loss: 0.7158\n",
      "Iter 1024/2000 - Loss: 0.7158\n",
      "Iter 1025/2000 - Loss: 0.7158\n"
     ]
    },
    {
     "name": "stderr",
     "output_type": "stream",
     "text": [
      "Iteration:  52%|█████▏    | 1038/2000 [00:24<00:16, 57.07it/s, loss=0.716]"
     ]
    },
    {
     "name": "stdout",
     "output_type": "stream",
     "text": [
      "Iter 1026/2000 - Loss: 0.7158\n",
      "Iter 1027/2000 - Loss: 0.7158\n",
      "Iter 1028/2000 - Loss: 0.7157\n",
      "Iter 1029/2000 - Loss: 0.7157\n",
      "Iter 1030/2000 - Loss: 0.7157\n",
      "Iter 1031/2000 - Loss: 0.7157\n",
      "Iter 1032/2000 - Loss: 0.7157\n",
      "Iter 1033/2000 - Loss: 0.7157\n",
      "Iter 1034/2000 - Loss: 0.7157\n",
      "Iter 1035/2000 - Loss: 0.7157\n",
      "Iter 1036/2000 - Loss: 0.7157\n",
      "Iter 1037/2000 - Loss: 0.7157\n",
      "Iter 1038/2000 - Loss: 0.7157\n"
     ]
    },
    {
     "name": "stderr",
     "output_type": "stream",
     "text": [
      "Iteration:  52%|█████▏    | 1044/2000 [00:24<00:19, 47.87it/s, loss=0.716]"
     ]
    },
    {
     "name": "stdout",
     "output_type": "stream",
     "text": [
      "Iter 1039/2000 - Loss: 0.7157\n",
      "Iter 1040/2000 - Loss: 0.7157\n",
      "Iter 1041/2000 - Loss: 0.7157\n",
      "Iter 1042/2000 - Loss: 0.7157\n",
      "Iter 1043/2000 - Loss: 0.7157\n",
      "Iter 1044/2000 - Loss: 0.7156\n",
      "Iter 1045/2000 - Loss: 0.7156\n",
      "Iter 1046/2000 - Loss: 0.7156\n",
      "Iter 1047/2000 - Loss: 0.7156\n",
      "Iter 1048/2000 - Loss: 0.7156\n",
      "Iter 1049/2000 - Loss: 0.7156\n"
     ]
    },
    {
     "name": "stderr",
     "output_type": "stream",
     "text": [
      "Iteration:  53%|█████▎    | 1056/2000 [00:25<00:18, 50.23it/s, loss=0.716]"
     ]
    },
    {
     "name": "stdout",
     "output_type": "stream",
     "text": [
      "Iter 1050/2000 - Loss: 0.7156\n",
      "Iter 1051/2000 - Loss: 0.7156\n",
      "Iter 1052/2000 - Loss: 0.7156\n",
      "Iter 1053/2000 - Loss: 0.7156\n",
      "Iter 1054/2000 - Loss: 0.7156\n",
      "Iter 1055/2000 - Loss: 0.7156\n",
      "Iter 1056/2000 - Loss: 0.7156\n",
      "Iter 1057/2000 - Loss: 0.7156\n",
      "Iter 1058/2000 - Loss: 0.7156\n",
      "Iter 1059/2000 - Loss: 0.7156\n"
     ]
    },
    {
     "name": "stderr",
     "output_type": "stream",
     "text": [
      "Iteration:  53%|█████▎    | 1062/2000 [00:25<00:23, 39.58it/s, loss=0.716]"
     ]
    },
    {
     "name": "stdout",
     "output_type": "stream",
     "text": [
      "Iter 1060/2000 - Loss: 0.7156\n",
      "Iter 1061/2000 - Loss: 0.7156\n",
      "Iter 1062/2000 - Loss: 0.7155\n",
      "Iter 1063/2000 - Loss: 0.7155\n",
      "Iter 1064/2000 - Loss: 0.7155\n",
      "Iter 1065/2000 - Loss: 0.7155\n"
     ]
    },
    {
     "name": "stderr",
     "output_type": "stream",
     "text": [
      "Iteration:  54%|█████▎    | 1074/2000 [00:25<00:20, 45.61it/s, loss=0.715]"
     ]
    },
    {
     "name": "stdout",
     "output_type": "stream",
     "text": [
      "Iter 1066/2000 - Loss: 0.7155\n",
      "Iter 1067/2000 - Loss: 0.7155\n",
      "Iter 1068/2000 - Loss: 0.7155\n",
      "Iter 1069/2000 - Loss: 0.7155\n",
      "Iter 1070/2000 - Loss: 0.7155\n",
      "Iter 1071/2000 - Loss: 0.7155\n",
      "Iter 1072/2000 - Loss: 0.7155\n",
      "Iter 1073/2000 - Loss: 0.7155\n",
      "Iter 1074/2000 - Loss: 0.7155\n",
      "Iter 1075/2000 - Loss: 0.7155\n",
      "Iter 1076/2000 - Loss: 0.7155\n",
      "Iter 1077/2000 - Loss: 0.7155\n"
     ]
    },
    {
     "name": "stderr",
     "output_type": "stream",
     "text": [
      "Iteration:  54%|█████▍    | 1084/2000 [00:25<00:20, 44.72it/s, loss=0.715]"
     ]
    },
    {
     "name": "stdout",
     "output_type": "stream",
     "text": [
      "Iter 1078/2000 - Loss: 0.7155\n",
      "Iter 1079/2000 - Loss: 0.7155\n",
      "Iter 1080/2000 - Loss: 0.7155\n",
      "Iter 1081/2000 - Loss: 0.7155\n",
      "Iter 1082/2000 - Loss: 0.7154\n",
      "Iter 1083/2000 - Loss: 0.7154\n",
      "Iter 1084/2000 - Loss: 0.7154\n",
      "Iter 1085/2000 - Loss: 0.7154\n",
      "Iter 1086/2000 - Loss: 0.7154\n"
     ]
    },
    {
     "name": "stderr",
     "output_type": "stream",
     "text": [
      "Iteration:  55%|█████▍    | 1097/2000 [00:26<00:17, 50.87it/s, loss=0.715]"
     ]
    },
    {
     "name": "stdout",
     "output_type": "stream",
     "text": [
      "Iter 1087/2000 - Loss: 0.7154\n",
      "Iter 1088/2000 - Loss: 0.7154\n",
      "Iter 1089/2000 - Loss: 0.7154\n",
      "Iter 1090/2000 - Loss: 0.7154\n",
      "Iter 1091/2000 - Loss: 0.7154\n",
      "Iter 1092/2000 - Loss: 0.7154\n",
      "Iter 1093/2000 - Loss: 0.7154\n",
      "Iter 1094/2000 - Loss: 0.7154\n",
      "Iter 1095/2000 - Loss: 0.7154\n",
      "Iter 1096/2000 - Loss: 0.7154\n",
      "Iter 1097/2000 - Loss: 0.7154\n",
      "Iter 1098/2000 - Loss: 0.7154\n",
      "Iter 1099/2000 - Loss: 0.7154\n"
     ]
    },
    {
     "name": "stderr",
     "output_type": "stream",
     "text": [
      "Iteration:  56%|█████▌    | 1111/2000 [00:26<00:15, 56.39it/s, loss=0.715]"
     ]
    },
    {
     "name": "stdout",
     "output_type": "stream",
     "text": [
      "Iter 1100/2000 - Loss: 0.7154\n",
      "Iter 1101/2000 - Loss: 0.7154\n",
      "Iter 1102/2000 - Loss: 0.7154\n",
      "Iter 1103/2000 - Loss: 0.7154\n",
      "Iter 1104/2000 - Loss: 0.7153\n",
      "Iter 1105/2000 - Loss: 0.7153\n",
      "Iter 1106/2000 - Loss: 0.7153\n",
      "Iter 1107/2000 - Loss: 0.7153\n",
      "Iter 1108/2000 - Loss: 0.7153\n",
      "Iter 1109/2000 - Loss: 0.7153\n",
      "Iter 1110/2000 - Loss: 0.7153\n",
      "Iter 1111/2000 - Loss: 0.7153\n",
      "Iter 1112/2000 - Loss: 0.7153\n"
     ]
    },
    {
     "name": "stderr",
     "output_type": "stream",
     "text": [
      "Iteration:  56%|█████▌    | 1117/2000 [00:26<00:18, 47.12it/s, loss=0.715]"
     ]
    },
    {
     "name": "stdout",
     "output_type": "stream",
     "text": [
      "Iter 1113/2000 - Loss: 0.7153\n",
      "Iter 1114/2000 - Loss: 0.7153\n",
      "Iter 1115/2000 - Loss: 0.7153\n",
      "Iter 1116/2000 - Loss: 0.7153\n",
      "Iter 1117/2000 - Loss: 0.7153\n",
      "Iter 1118/2000 - Loss: 0.7153\n"
     ]
    },
    {
     "name": "stderr",
     "output_type": "stream",
     "text": [
      "Iteration:  56%|█████▌    | 1122/2000 [00:26<00:27, 32.42it/s, loss=0.715]"
     ]
    },
    {
     "name": "stdout",
     "output_type": "stream",
     "text": [
      "Iter 1119/2000 - Loss: 0.7153\n",
      "Iter 1120/2000 - Loss: 0.7153\n",
      "Iter 1121/2000 - Loss: 0.7153\n",
      "Iter 1122/2000 - Loss: 0.7153\n",
      "Iter 1123/2000 - Loss: 0.7153\n"
     ]
    },
    {
     "name": "stderr",
     "output_type": "stream",
     "text": [
      "Iteration:  56%|█████▌    | 1122/2000 [00:26<00:27, 32.42it/s, loss=0.715]"
     ]
    },
    {
     "name": "stdout",
     "output_type": "stream",
     "text": [
      "Iter 1124/2000 - Loss: 0.7153\n",
      "Iter 1125/2000 - Loss: 0.7153\n",
      "Iter 1126/2000 - Loss: 0.7153\n"
     ]
    },
    {
     "name": "stderr",
     "output_type": "stream",
     "text": [
      "Iteration:  57%|█████▋    | 1131/2000 [00:27<00:31, 27.39it/s, loss=0.715]"
     ]
    },
    {
     "name": "stdout",
     "output_type": "stream",
     "text": [
      "Iter 1127/2000 - Loss: 0.7153\n",
      "Iter 1128/2000 - Loss: 0.7153\n",
      "Iter 1129/2000 - Loss: 0.7152\n",
      "Iter 1130/2000 - Loss: 0.7152\n",
      "Iter 1131/2000 - Loss: 0.7152\n",
      "Iter 1132/2000 - Loss: 0.7152\n"
     ]
    },
    {
     "name": "stderr",
     "output_type": "stream",
     "text": [
      "Iteration:  57%|█████▋    | 1139/2000 [00:27<00:27, 30.83it/s, loss=0.715]"
     ]
    },
    {
     "name": "stdout",
     "output_type": "stream",
     "text": [
      "Iter 1133/2000 - Loss: 0.7152\n",
      "Iter 1134/2000 - Loss: 0.7152\n",
      "Iter 1135/2000 - Loss: 0.7152\n",
      "Iter 1136/2000 - Loss: 0.7152\n",
      "Iter 1137/2000 - Loss: 0.7152\n",
      "Iter 1138/2000 - Loss: 0.7152\n",
      "Iter 1139/2000 - Loss: 0.7152\n",
      "Iter 1140/2000 - Loss: 0.7152\n",
      "Iter 1141/2000 - Loss: 0.7152\n"
     ]
    },
    {
     "name": "stderr",
     "output_type": "stream",
     "text": [
      "Iteration:  57%|█████▊    | 1150/2000 [00:27<00:21, 39.89it/s, loss=0.715]"
     ]
    },
    {
     "name": "stdout",
     "output_type": "stream",
     "text": [
      "Iter 1142/2000 - Loss: 0.7152\n",
      "Iter 1143/2000 - Loss: 0.7152\n",
      "Iter 1144/2000 - Loss: 0.7152\n",
      "Iter 1145/2000 - Loss: 0.7152\n",
      "Iter 1146/2000 - Loss: 0.7152\n",
      "Iter 1147/2000 - Loss: 0.7152\n",
      "Iter 1148/2000 - Loss: 0.7152\n",
      "Iter 1149/2000 - Loss: 0.7152\n",
      "Iter 1150/2000 - Loss: 0.7152\n",
      "Iter 1151/2000 - Loss: 0.7152\n",
      "Iter 1152/2000 - Loss: 0.7152\n"
     ]
    },
    {
     "name": "stderr",
     "output_type": "stream",
     "text": [
      "Iteration:  58%|█████▊    | 1155/2000 [00:27<00:23, 36.56it/s, loss=0.715]"
     ]
    },
    {
     "name": "stdout",
     "output_type": "stream",
     "text": [
      "Iter 1153/2000 - Loss: 0.7152\n",
      "Iter 1154/2000 - Loss: 0.7152\n",
      "Iter 1155/2000 - Loss: 0.7152\n",
      "Iter 1156/2000 - Loss: 0.7152\n",
      "Iter 1157/2000 - Loss: 0.7151\n"
     ]
    },
    {
     "name": "stderr",
     "output_type": "stream",
     "text": [
      "Iteration:  58%|█████▊    | 1159/2000 [00:28<00:33, 25.28it/s, loss=0.715]"
     ]
    },
    {
     "name": "stdout",
     "output_type": "stream",
     "text": [
      "Iter 1158/2000 - Loss: 0.7151\n",
      "Iter 1159/2000 - Loss: 0.7151\n"
     ]
    },
    {
     "name": "stderr",
     "output_type": "stream",
     "text": [
      "\r",
      "Iteration:  58%|█████▊    | 1159/2000 [00:28<00:33, 25.28it/s, loss=0.715]"
     ]
    },
    {
     "name": "stdout",
     "output_type": "stream",
     "text": [
      "Iter 1160/2000 - Loss: 0.7151\n"
     ]
    },
    {
     "name": "stderr",
     "output_type": "stream",
     "text": [
      "Iteration:  58%|█████▊    | 1166/2000 [00:28<00:54, 15.42it/s, loss=0.715]"
     ]
    },
    {
     "name": "stdout",
     "output_type": "stream",
     "text": [
      "Iter 1161/2000 - Loss: 0.7151\n",
      "Iter 1162/2000 - Loss: 0.7151\n",
      "Iter 1163/2000 - Loss: 0.7151\n",
      "Iter 1164/2000 - Loss: 0.7151\n",
      "Iter 1165/2000 - Loss: 0.7151\n",
      "Iter 1166/2000 - Loss: 0.7151\n"
     ]
    },
    {
     "name": "stderr",
     "output_type": "stream",
     "text": [
      "Iteration:  59%|█████▉    | 1177/2000 [00:28<00:31, 26.04it/s, loss=0.715]"
     ]
    },
    {
     "name": "stdout",
     "output_type": "stream",
     "text": [
      "Iter 1167/2000 - Loss: 0.7151\n",
      "Iter 1168/2000 - Loss: 0.7151\n",
      "Iter 1169/2000 - Loss: 0.7151\n",
      "Iter 1170/2000 - Loss: 0.7151\n",
      "Iter 1171/2000 - Loss: 0.7151\n",
      "Iter 1172/2000 - Loss: 0.7151\n",
      "Iter 1173/2000 - Loss: 0.7151\n",
      "Iter 1174/2000 - Loss: 0.7151\n",
      "Iter 1175/2000 - Loss: 0.7151\n",
      "Iter 1176/2000 - Loss: 0.7151\n",
      "Iter 1177/2000 - Loss: 0.7151\n"
     ]
    },
    {
     "name": "stderr",
     "output_type": "stream",
     "text": [
      "Iteration:  59%|█████▉    | 1183/2000 [00:29<00:25, 31.52it/s, loss=0.715]"
     ]
    },
    {
     "name": "stdout",
     "output_type": "stream",
     "text": [
      "Iter 1178/2000 - Loss: 0.7151\n",
      "Iter 1179/2000 - Loss: 0.7151\n",
      "Iter 1180/2000 - Loss: 0.7151\n",
      "Iter 1181/2000 - Loss: 0.7151\n",
      "Iter 1182/2000 - Loss: 0.7151\n",
      "Iter 1183/2000 - Loss: 0.7151\n",
      "Iter 1184/2000 - Loss: 0.7151\n",
      "Iter 1185/2000 - Loss: 0.7150\n",
      "Iter 1186/2000 - Loss: 0.7150\n",
      "Iter 1187/2000 - Loss: 0.7150\n",
      "Iter 1188/2000 - Loss: 0.7150\n"
     ]
    },
    {
     "name": "stderr",
     "output_type": "stream",
     "text": [
      "Iteration:  60%|█████▉    | 1194/2000 [00:29<00:21, 37.49it/s, loss=0.715]"
     ]
    },
    {
     "name": "stdout",
     "output_type": "stream",
     "text": [
      "Iter 1189/2000 - Loss: 0.7150\n",
      "Iter 1190/2000 - Loss: 0.7150\n",
      "Iter 1191/2000 - Loss: 0.7150\n",
      "Iter 1192/2000 - Loss: 0.7150\n",
      "Iter 1193/2000 - Loss: 0.7150\n",
      "Iter 1194/2000 - Loss: 0.7150\n",
      "Iter 1195/2000 - Loss: 0.7150\n",
      "Iter 1196/2000 - Loss: 0.7150\n",
      "Iter 1197/2000 - Loss: 0.7150\n",
      "Iter 1198/2000 - Loss: 0.7150\n"
     ]
    },
    {
     "name": "stderr",
     "output_type": "stream",
     "text": [
      "Iteration:  60%|██████    | 1205/2000 [00:29<00:19, 40.44it/s, loss=0.715]"
     ]
    },
    {
     "name": "stdout",
     "output_type": "stream",
     "text": [
      "Iter 1199/2000 - Loss: 0.7150\n",
      "Iter 1200/2000 - Loss: 0.7150\n",
      "Iter 1201/2000 - Loss: 0.7150\n",
      "Iter 1202/2000 - Loss: 0.7150\n",
      "Iter 1203/2000 - Loss: 0.7150\n",
      "Iter 1204/2000 - Loss: 0.7150\n",
      "Iter 1205/2000 - Loss: 0.7150\n",
      "Iter 1206/2000 - Loss: 0.7150\n",
      "Iter 1207/2000 - Loss: 0.7150\n",
      "Iter 1208/2000 - Loss: 0.7150\n"
     ]
    },
    {
     "name": "stderr",
     "output_type": "stream",
     "text": [
      "Iteration:  61%|██████    | 1217/2000 [00:29<00:16, 46.27it/s, loss=0.715]"
     ]
    },
    {
     "name": "stdout",
     "output_type": "stream",
     "text": [
      "Iter 1209/2000 - Loss: 0.7150\n",
      "Iter 1210/2000 - Loss: 0.7150\n",
      "Iter 1211/2000 - Loss: 0.7149\n",
      "Iter 1212/2000 - Loss: 0.7149\n",
      "Iter 1213/2000 - Loss: 0.7149\n",
      "Iter 1214/2000 - Loss: 0.7149\n",
      "Iter 1215/2000 - Loss: 0.7149\n",
      "Iter 1216/2000 - Loss: 0.7149\n",
      "Iter 1217/2000 - Loss: 0.7149\n",
      "Iter 1218/2000 - Loss: 0.7149\n",
      "Iter 1219/2000 - Loss: 0.7149\n"
     ]
    },
    {
     "name": "stderr",
     "output_type": "stream",
     "text": [
      "Iteration:  61%|██████▏   | 1229/2000 [00:30<00:15, 49.24it/s, loss=0.715]"
     ]
    },
    {
     "name": "stdout",
     "output_type": "stream",
     "text": [
      "Iter 1220/2000 - Loss: 0.7149\n",
      "Iter 1221/2000 - Loss: 0.7149\n",
      "Iter 1222/2000 - Loss: 0.7149\n",
      "Iter 1223/2000 - Loss: 0.7149\n",
      "Iter 1224/2000 - Loss: 0.7149\n",
      "Iter 1225/2000 - Loss: 0.7149\n",
      "Iter 1226/2000 - Loss: 0.7149\n",
      "Iter 1227/2000 - Loss: 0.7149\n",
      "Iter 1228/2000 - Loss: 0.7149\n",
      "Iter 1229/2000 - Loss: 0.7149\n",
      "Iter 1230/2000 - Loss: 0.7148\n"
     ]
    },
    {
     "name": "stderr",
     "output_type": "stream",
     "text": [
      "Iteration:  62%|██████▏   | 1241/2000 [00:30<00:14, 52.44it/s, loss=0.715]"
     ]
    },
    {
     "name": "stdout",
     "output_type": "stream",
     "text": [
      "Iter 1231/2000 - Loss: 0.7148\n",
      "Iter 1232/2000 - Loss: 0.7148\n",
      "Iter 1233/2000 - Loss: 0.7148\n",
      "Iter 1234/2000 - Loss: 0.7148\n",
      "Iter 1235/2000 - Loss: 0.7148\n",
      "Iter 1236/2000 - Loss: 0.7148\n",
      "Iter 1237/2000 - Loss: 0.7148\n",
      "Iter 1238/2000 - Loss: 0.7148\n",
      "Iter 1239/2000 - Loss: 0.7148\n",
      "Iter 1240/2000 - Loss: 0.7148\n",
      "Iter 1241/2000 - Loss: 0.7148\n",
      "Iter 1242/2000 - Loss: 0.7147\n"
     ]
    },
    {
     "name": "stderr",
     "output_type": "stream",
     "text": [
      "Iteration:  63%|██████▎   | 1253/2000 [00:30<00:14, 52.17it/s, loss=0.715]"
     ]
    },
    {
     "name": "stdout",
     "output_type": "stream",
     "text": [
      "Iter 1243/2000 - Loss: 0.7147\n",
      "Iter 1244/2000 - Loss: 0.7147\n",
      "Iter 1245/2000 - Loss: 0.7147\n",
      "Iter 1246/2000 - Loss: 0.7147\n",
      "Iter 1247/2000 - Loss: 0.7147\n",
      "Iter 1248/2000 - Loss: 0.7147\n",
      "Iter 1249/2000 - Loss: 0.7147\n",
      "Iter 1250/2000 - Loss: 0.7147\n",
      "Iter 1251/2000 - Loss: 0.7147\n",
      "Iter 1252/2000 - Loss: 0.7146\n",
      "Iter 1253/2000 - Loss: 0.7146\n"
     ]
    },
    {
     "name": "stderr",
     "output_type": "stream",
     "text": [
      "Iteration:  63%|██████▎   | 1259/2000 [00:30<00:14, 52.30it/s, loss=0.714]"
     ]
    },
    {
     "name": "stdout",
     "output_type": "stream",
     "text": [
      "Iter 1254/2000 - Loss: 0.7146\n",
      "Iter 1255/2000 - Loss: 0.7146\n",
      "Iter 1256/2000 - Loss: 0.7146\n",
      "Iter 1257/2000 - Loss: 0.7146\n",
      "Iter 1258/2000 - Loss: 0.7146\n",
      "Iter 1259/2000 - Loss: 0.7145\n",
      "Iter 1260/2000 - Loss: 0.7145\n",
      "Iter 1261/2000 - Loss: 0.7145\n",
      "Iter 1262/2000 - Loss: 0.7145\n",
      "Iter 1263/2000 - Loss: 0.7145\n",
      "Iter 1264/2000 - Loss: 0.7145\n"
     ]
    },
    {
     "name": "stderr",
     "output_type": "stream",
     "text": [
      "Iteration:  64%|██████▎   | 1271/2000 [00:30<00:13, 52.35it/s, loss=0.714]"
     ]
    },
    {
     "name": "stdout",
     "output_type": "stream",
     "text": [
      "Iter 1265/2000 - Loss: 0.7145\n",
      "Iter 1266/2000 - Loss: 0.7144\n",
      "Iter 1267/2000 - Loss: 0.7144\n",
      "Iter 1268/2000 - Loss: 0.7144\n",
      "Iter 1269/2000 - Loss: 0.7144\n",
      "Iter 1270/2000 - Loss: 0.7144\n",
      "Iter 1271/2000 - Loss: 0.7143\n",
      "Iter 1272/2000 - Loss: 0.7143\n",
      "Iter 1273/2000 - Loss: 0.7143\n",
      "Iter 1274/2000 - Loss: 0.7143\n",
      "Iter 1275/2000 - Loss: 0.7143\n"
     ]
    },
    {
     "name": "stderr",
     "output_type": "stream",
     "text": [
      "Iteration:  64%|██████▍   | 1283/2000 [00:31<00:13, 51.34it/s, loss=0.714]"
     ]
    },
    {
     "name": "stdout",
     "output_type": "stream",
     "text": [
      "Iter 1276/2000 - Loss: 0.7142\n",
      "Iter 1277/2000 - Loss: 0.7142\n",
      "Iter 1278/2000 - Loss: 0.7142\n",
      "Iter 1279/2000 - Loss: 0.7142\n",
      "Iter 1280/2000 - Loss: 0.7142\n",
      "Iter 1281/2000 - Loss: 0.7141\n",
      "Iter 1282/2000 - Loss: 0.7141\n",
      "Iter 1283/2000 - Loss: 0.7141\n",
      "Iter 1284/2000 - Loss: 0.7141\n",
      "Iter 1285/2000 - Loss: 0.7140\n",
      "Iter 1286/2000 - Loss: 0.7140\n"
     ]
    },
    {
     "name": "stderr",
     "output_type": "stream",
     "text": [
      "Iteration:  65%|██████▍   | 1295/2000 [00:31<00:13, 52.18it/s, loss=0.714]"
     ]
    },
    {
     "name": "stdout",
     "output_type": "stream",
     "text": [
      "Iter 1287/2000 - Loss: 0.7140\n",
      "Iter 1288/2000 - Loss: 0.7140\n",
      "Iter 1289/2000 - Loss: 0.7139\n",
      "Iter 1290/2000 - Loss: 0.7139\n",
      "Iter 1291/2000 - Loss: 0.7139\n",
      "Iter 1292/2000 - Loss: 0.7138\n",
      "Iter 1293/2000 - Loss: 0.7138\n",
      "Iter 1294/2000 - Loss: 0.7138\n",
      "Iter 1295/2000 - Loss: 0.7138\n",
      "Iter 1296/2000 - Loss: 0.7137\n",
      "Iter 1297/2000 - Loss: 0.7137\n"
     ]
    },
    {
     "name": "stderr",
     "output_type": "stream",
     "text": [
      "Iteration:  65%|██████▌   | 1307/2000 [00:31<00:13, 51.47it/s, loss=0.713]"
     ]
    },
    {
     "name": "stdout",
     "output_type": "stream",
     "text": [
      "Iter 1298/2000 - Loss: 0.7137\n",
      "Iter 1299/2000 - Loss: 0.7137\n",
      "Iter 1300/2000 - Loss: 0.7136\n",
      "Iter 1301/2000 - Loss: 0.7136\n",
      "Iter 1302/2000 - Loss: 0.7136\n",
      "Iter 1303/2000 - Loss: 0.7135\n",
      "Iter 1304/2000 - Loss: 0.7135\n",
      "Iter 1305/2000 - Loss: 0.7135\n",
      "Iter 1306/2000 - Loss: 0.7134\n",
      "Iter 1307/2000 - Loss: 0.7134\n",
      "Iter 1308/2000 - Loss: 0.7134\n"
     ]
    },
    {
     "name": "stderr",
     "output_type": "stream",
     "text": [
      "Iteration:  66%|██████▌   | 1319/2000 [00:31<00:12, 52.45it/s, loss=0.713]"
     ]
    },
    {
     "name": "stdout",
     "output_type": "stream",
     "text": [
      "Iter 1309/2000 - Loss: 0.7134\n",
      "Iter 1310/2000 - Loss: 0.7133\n",
      "Iter 1311/2000 - Loss: 0.7133\n",
      "Iter 1312/2000 - Loss: 0.7133\n",
      "Iter 1313/2000 - Loss: 0.7132\n",
      "Iter 1314/2000 - Loss: 0.7132\n",
      "Iter 1315/2000 - Loss: 0.7132\n",
      "Iter 1316/2000 - Loss: 0.7131\n",
      "Iter 1317/2000 - Loss: 0.7131\n",
      "Iter 1318/2000 - Loss: 0.7131\n",
      "Iter 1319/2000 - Loss: 0.7131\n"
     ]
    },
    {
     "name": "stderr",
     "output_type": "stream",
     "text": [
      "Iteration:  66%|██████▋   | 1325/2000 [00:31<00:12, 52.77it/s, loss=0.713]"
     ]
    },
    {
     "name": "stdout",
     "output_type": "stream",
     "text": [
      "Iter 1320/2000 - Loss: 0.7130\n",
      "Iter 1321/2000 - Loss: 0.7130\n",
      "Iter 1322/2000 - Loss: 0.7130\n",
      "Iter 1323/2000 - Loss: 0.7129\n",
      "Iter 1324/2000 - Loss: 0.7129\n",
      "Iter 1325/2000 - Loss: 0.7129\n",
      "Iter 1326/2000 - Loss: 0.7128\n",
      "Iter 1327/2000 - Loss: 0.7128\n",
      "Iter 1328/2000 - Loss: 0.7128\n",
      "Iter 1329/2000 - Loss: 0.7128\n",
      "Iter 1330/2000 - Loss: 0.7127\n"
     ]
    },
    {
     "name": "stderr",
     "output_type": "stream",
     "text": [
      "Iteration:  67%|██████▋   | 1337/2000 [00:32<00:12, 52.38it/s, loss=0.712]"
     ]
    },
    {
     "name": "stdout",
     "output_type": "stream",
     "text": [
      "Iter 1331/2000 - Loss: 0.7127\n",
      "Iter 1332/2000 - Loss: 0.7127\n",
      "Iter 1333/2000 - Loss: 0.7126\n",
      "Iter 1334/2000 - Loss: 0.7126\n",
      "Iter 1335/2000 - Loss: 0.7126\n",
      "Iter 1336/2000 - Loss: 0.7126\n",
      "Iter 1337/2000 - Loss: 0.7125\n",
      "Iter 1338/2000 - Loss: 0.7125\n",
      "Iter 1339/2000 - Loss: 0.7125\n",
      "Iter 1340/2000 - Loss: 0.7124\n",
      "Iter 1341/2000 - Loss: 0.7124\n"
     ]
    },
    {
     "name": "stderr",
     "output_type": "stream",
     "text": [
      "Iteration:  67%|██████▋   | 1349/2000 [00:32<00:12, 52.75it/s, loss=0.712]"
     ]
    },
    {
     "name": "stdout",
     "output_type": "stream",
     "text": [
      "Iter 1342/2000 - Loss: 0.7124\n",
      "Iter 1343/2000 - Loss: 0.7124\n",
      "Iter 1344/2000 - Loss: 0.7123\n",
      "Iter 1345/2000 - Loss: 0.7123\n",
      "Iter 1346/2000 - Loss: 0.7123\n",
      "Iter 1347/2000 - Loss: 0.7123\n",
      "Iter 1348/2000 - Loss: 0.7122\n",
      "Iter 1349/2000 - Loss: 0.7122\n"
     ]
    },
    {
     "name": "stderr",
     "output_type": "stream",
     "text": [
      "Iteration:  67%|██████▋   | 1349/2000 [00:32<00:12, 52.75it/s, loss=0.712]"
     ]
    },
    {
     "name": "stdout",
     "output_type": "stream",
     "text": [
      "Iter 1350/2000 - Loss: 0.7122\n",
      "Iter 1351/2000 - Loss: 0.7122\n",
      "Iter 1352/2000 - Loss: 0.7121\n",
      "Iter 1353/2000 - Loss: 0.7121\n"
     ]
    },
    {
     "name": "stderr",
     "output_type": "stream",
     "text": [
      "Iteration:  68%|██████▊   | 1361/2000 [00:32<00:16, 38.60it/s, loss=0.712]"
     ]
    },
    {
     "name": "stdout",
     "output_type": "stream",
     "text": [
      "Iter 1354/2000 - Loss: 0.7121\n",
      "Iter 1355/2000 - Loss: 0.7121\n",
      "Iter 1356/2000 - Loss: 0.7120\n",
      "Iter 1357/2000 - Loss: 0.7120\n",
      "Iter 1358/2000 - Loss: 0.7120\n",
      "Iter 1359/2000 - Loss: 0.7120\n",
      "Iter 1360/2000 - Loss: 0.7119\n",
      "Iter 1361/2000 - Loss: 0.7119\n",
      "Iter 1362/2000 - Loss: 0.7119\n",
      "Iter 1363/2000 - Loss: 0.7119\n",
      "Iter 1364/2000 - Loss: 0.7119\n"
     ]
    },
    {
     "name": "stderr",
     "output_type": "stream",
     "text": [
      "Iteration:  69%|██████▊   | 1373/2000 [00:33<00:14, 44.42it/s, loss=0.712]"
     ]
    },
    {
     "name": "stdout",
     "output_type": "stream",
     "text": [
      "Iter 1365/2000 - Loss: 0.7118\n",
      "Iter 1366/2000 - Loss: 0.7118\n",
      "Iter 1367/2000 - Loss: 0.7118\n",
      "Iter 1368/2000 - Loss: 0.7118\n",
      "Iter 1369/2000 - Loss: 0.7117\n",
      "Iter 1370/2000 - Loss: 0.7117\n",
      "Iter 1371/2000 - Loss: 0.7117\n",
      "Iter 1372/2000 - Loss: 0.7117\n",
      "Iter 1373/2000 - Loss: 0.7117\n",
      "Iter 1374/2000 - Loss: 0.7116\n",
      "Iter 1375/2000 - Loss: 0.7116\n"
     ]
    },
    {
     "name": "stderr",
     "output_type": "stream",
     "text": [
      "Iteration:  69%|██████▉   | 1383/2000 [00:33<00:13, 46.38it/s, loss=0.711]"
     ]
    },
    {
     "name": "stdout",
     "output_type": "stream",
     "text": [
      "Iter 1376/2000 - Loss: 0.7116\n",
      "Iter 1377/2000 - Loss: 0.7116\n",
      "Iter 1378/2000 - Loss: 0.7116\n",
      "Iter 1379/2000 - Loss: 0.7115\n",
      "Iter 1380/2000 - Loss: 0.7115\n",
      "Iter 1381/2000 - Loss: 0.7115\n",
      "Iter 1382/2000 - Loss: 0.7115\n",
      "Iter 1383/2000 - Loss: 0.7115\n",
      "Iter 1384/2000 - Loss: 0.7114\n",
      "Iter 1385/2000 - Loss: 0.7114\n",
      "Iter 1386/2000 - Loss: 0.7114\n"
     ]
    },
    {
     "name": "stderr",
     "output_type": "stream",
     "text": [
      "Iteration:  70%|██████▉   | 1395/2000 [00:33<00:12, 49.50it/s, loss=0.711]"
     ]
    },
    {
     "name": "stdout",
     "output_type": "stream",
     "text": [
      "Iter 1387/2000 - Loss: 0.7114\n",
      "Iter 1388/2000 - Loss: 0.7114\n",
      "Iter 1389/2000 - Loss: 0.7114\n",
      "Iter 1390/2000 - Loss: 0.7113\n",
      "Iter 1391/2000 - Loss: 0.7113\n",
      "Iter 1392/2000 - Loss: 0.7113\n",
      "Iter 1393/2000 - Loss: 0.7113\n",
      "Iter 1394/2000 - Loss: 0.7113\n",
      "Iter 1395/2000 - Loss: 0.7113\n",
      "Iter 1396/2000 - Loss: 0.7112\n"
     ]
    },
    {
     "name": "stderr",
     "output_type": "stream",
     "text": [
      "Iteration:  70%|███████   | 1401/2000 [00:33<00:14, 41.52it/s, loss=0.711]"
     ]
    },
    {
     "name": "stdout",
     "output_type": "stream",
     "text": [
      "Iter 1397/2000 - Loss: 0.7112\n",
      "Iter 1398/2000 - Loss: 0.7112\n",
      "Iter 1399/2000 - Loss: 0.7112\n",
      "Iter 1400/2000 - Loss: 0.7112\n",
      "Iter 1401/2000 - Loss: 0.7112\n",
      "Iter 1402/2000 - Loss: 0.7111\n"
     ]
    },
    {
     "name": "stderr",
     "output_type": "stream",
     "text": [
      "Iteration:  71%|███████   | 1412/2000 [00:33<00:13, 44.03it/s, loss=0.711]"
     ]
    },
    {
     "name": "stdout",
     "output_type": "stream",
     "text": [
      "Iter 1403/2000 - Loss: 0.7111\n",
      "Iter 1404/2000 - Loss: 0.7111\n",
      "Iter 1405/2000 - Loss: 0.7111\n",
      "Iter 1406/2000 - Loss: 0.7111\n",
      "Iter 1407/2000 - Loss: 0.7111\n",
      "Iter 1408/2000 - Loss: 0.7110\n",
      "Iter 1409/2000 - Loss: 0.7110\n",
      "Iter 1410/2000 - Loss: 0.7110\n",
      "Iter 1411/2000 - Loss: 0.7110\n",
      "Iter 1412/2000 - Loss: 0.7110\n",
      "Iter 1413/2000 - Loss: 0.7110\n"
     ]
    },
    {
     "name": "stderr",
     "output_type": "stream",
     "text": [
      "Iteration:  71%|███████   | 1422/2000 [00:34<00:12, 44.54it/s, loss=0.711]"
     ]
    },
    {
     "name": "stdout",
     "output_type": "stream",
     "text": [
      "Iter 1414/2000 - Loss: 0.7110\n",
      "Iter 1415/2000 - Loss: 0.7109\n",
      "Iter 1416/2000 - Loss: 0.7109\n",
      "Iter 1417/2000 - Loss: 0.7109\n",
      "Iter 1418/2000 - Loss: 0.7109\n",
      "Iter 1419/2000 - Loss: 0.7109\n",
      "Iter 1420/2000 - Loss: 0.7109\n",
      "Iter 1421/2000 - Loss: 0.7109\n",
      "Iter 1422/2000 - Loss: 0.7108\n",
      "Iter 1423/2000 - Loss: 0.7108\n"
     ]
    },
    {
     "name": "stderr",
     "output_type": "stream",
     "text": [
      "Iteration:  72%|███████▏  | 1434/2000 [00:34<00:11, 47.73it/s, loss=0.711]"
     ]
    },
    {
     "name": "stdout",
     "output_type": "stream",
     "text": [
      "Iter 1424/2000 - Loss: 0.7108\n",
      "Iter 1425/2000 - Loss: 0.7108\n",
      "Iter 1426/2000 - Loss: 0.7108\n",
      "Iter 1427/2000 - Loss: 0.7108\n",
      "Iter 1428/2000 - Loss: 0.7108\n",
      "Iter 1429/2000 - Loss: 0.7108\n",
      "Iter 1430/2000 - Loss: 0.7107\n",
      "Iter 1431/2000 - Loss: 0.7107\n",
      "Iter 1432/2000 - Loss: 0.7107\n",
      "Iter 1433/2000 - Loss: 0.7107\n",
      "Iter 1434/2000 - Loss: 0.7107\n"
     ]
    },
    {
     "name": "stderr",
     "output_type": "stream",
     "text": [
      "Iteration:  72%|███████▏  | 1440/2000 [00:34<00:11, 49.14it/s, loss=0.711]"
     ]
    },
    {
     "name": "stdout",
     "output_type": "stream",
     "text": [
      "Iter 1435/2000 - Loss: 0.7107\n",
      "Iter 1436/2000 - Loss: 0.7107\n",
      "Iter 1437/2000 - Loss: 0.7107\n",
      "Iter 1438/2000 - Loss: 0.7106\n",
      "Iter 1439/2000 - Loss: 0.7106\n",
      "Iter 1440/2000 - Loss: 0.7106\n",
      "Iter 1441/2000 - Loss: 0.7106\n",
      "Iter 1442/2000 - Loss: 0.7106\n",
      "Iter 1443/2000 - Loss: 0.7106\n",
      "Iter 1444/2000 - Loss: 0.7106\n",
      "Iter 1445/2000 - Loss: 0.7106\n"
     ]
    },
    {
     "name": "stderr",
     "output_type": "stream",
     "text": [
      "Iteration:  73%|███████▎  | 1452/2000 [00:34<00:10, 51.75it/s, loss=0.71] "
     ]
    },
    {
     "name": "stdout",
     "output_type": "stream",
     "text": [
      "Iter 1446/2000 - Loss: 0.7105\n",
      "Iter 1447/2000 - Loss: 0.7105\n",
      "Iter 1448/2000 - Loss: 0.7105\n",
      "Iter 1449/2000 - Loss: 0.7105\n",
      "Iter 1450/2000 - Loss: 0.7105\n",
      "Iter 1451/2000 - Loss: 0.7105\n",
      "Iter 1452/2000 - Loss: 0.7105\n",
      "Iter 1453/2000 - Loss: 0.7105\n",
      "Iter 1454/2000 - Loss: 0.7105\n",
      "Iter 1455/2000 - Loss: 0.7104\n",
      "Iter 1456/2000 - Loss: 0.7104\n"
     ]
    },
    {
     "name": "stderr",
     "output_type": "stream",
     "text": [
      "Iteration:  73%|███████▎  | 1464/2000 [00:34<00:10, 52.26it/s, loss=0.71]"
     ]
    },
    {
     "name": "stdout",
     "output_type": "stream",
     "text": [
      "Iter 1457/2000 - Loss: 0.7104\n",
      "Iter 1458/2000 - Loss: 0.7104\n",
      "Iter 1459/2000 - Loss: 0.7104\n",
      "Iter 1460/2000 - Loss: 0.7104\n",
      "Iter 1461/2000 - Loss: 0.7104\n",
      "Iter 1462/2000 - Loss: 0.7104\n",
      "Iter 1463/2000 - Loss: 0.7104\n",
      "Iter 1464/2000 - Loss: 0.7103\n",
      "Iter 1465/2000 - Loss: 0.7103\n",
      "Iter 1466/2000 - Loss: 0.7103\n",
      "Iter 1467/2000 - Loss: 0.7103\n"
     ]
    },
    {
     "name": "stderr",
     "output_type": "stream",
     "text": [
      "Iteration:  74%|███████▎  | 1470/2000 [00:35<00:10, 51.96it/s, loss=0.71]"
     ]
    },
    {
     "name": "stdout",
     "output_type": "stream",
     "text": [
      "Iter 1468/2000 - Loss: 0.7103\n",
      "Iter 1469/2000 - Loss: 0.7103\n",
      "Iter 1470/2000 - Loss: 0.7103\n",
      "Iter 1471/2000 - Loss: 0.7103\n",
      "Iter 1472/2000 - Loss: 0.7103\n",
      "Iter 1473/2000 - Loss: 0.7103\n"
     ]
    },
    {
     "name": "stderr",
     "output_type": "stream",
     "text": [
      "Iteration:  74%|███████▍  | 1476/2000 [00:35<00:13, 38.92it/s, loss=0.71]"
     ]
    },
    {
     "name": "stdout",
     "output_type": "stream",
     "text": [
      "Iter 1474/2000 - Loss: 0.7102\n",
      "Iter 1475/2000 - Loss: 0.7102\n",
      "Iter 1476/2000 - Loss: 0.7102\n",
      "Iter 1477/2000 - Loss: 0.7102\n",
      "Iter 1478/2000 - Loss: 0.7102\n",
      "Iter 1479/2000 - Loss: 0.7102\n",
      "Iter 1480/2000 - Loss: 0.7102\n"
     ]
    },
    {
     "name": "stderr",
     "output_type": "stream",
     "text": [
      "Iteration:  74%|███████▍  | 1487/2000 [00:35<00:12, 40.27it/s, loss=0.71]"
     ]
    },
    {
     "name": "stdout",
     "output_type": "stream",
     "text": [
      "Iter 1481/2000 - Loss: 0.7102\n",
      "Iter 1482/2000 - Loss: 0.7102\n",
      "Iter 1483/2000 - Loss: 0.7102\n",
      "Iter 1484/2000 - Loss: 0.7101\n",
      "Iter 1485/2000 - Loss: 0.7101\n",
      "Iter 1486/2000 - Loss: 0.7101\n",
      "Iter 1487/2000 - Loss: 0.7101\n"
     ]
    },
    {
     "name": "stderr",
     "output_type": "stream",
     "text": [
      "Iteration:  75%|███████▍  | 1498/2000 [00:35<00:13, 38.32it/s, loss=0.71]"
     ]
    },
    {
     "name": "stdout",
     "output_type": "stream",
     "text": [
      "Iter 1488/2000 - Loss: 0.7101\n",
      "Iter 1489/2000 - Loss: 0.7101\n",
      "Iter 1490/2000 - Loss: 0.7101\n",
      "Iter 1491/2000 - Loss: 0.7101\n",
      "Iter 1492/2000 - Loss: 0.7101\n",
      "Iter 1493/2000 - Loss: 0.7101\n",
      "Iter 1494/2000 - Loss: 0.7100\n",
      "Iter 1495/2000 - Loss: 0.7100\n",
      "Iter 1496/2000 - Loss: 0.7100\n",
      "Iter 1497/2000 - Loss: 0.7100\n",
      "Iter 1498/2000 - Loss: 0.7100\n"
     ]
    },
    {
     "name": "stderr",
     "output_type": "stream",
     "text": [
      "Iteration:  75%|███████▌  | 1504/2000 [00:36<00:11, 41.41it/s, loss=0.71]"
     ]
    },
    {
     "name": "stdout",
     "output_type": "stream",
     "text": [
      "Iter 1499/2000 - Loss: 0.7100\n",
      "Iter 1500/2000 - Loss: 0.7100\n",
      "Iter 1501/2000 - Loss: 0.7100\n",
      "Iter 1502/2000 - Loss: 0.7100\n",
      "Iter 1503/2000 - Loss: 0.7100\n",
      "Iter 1504/2000 - Loss: 0.7099\n",
      "Iter 1505/2000 - Loss: 0.7099\n",
      "Iter 1506/2000 - Loss: 0.7099\n",
      "Iter 1507/2000 - Loss: 0.7099\n",
      "Iter 1508/2000 - Loss: 0.7099\n"
     ]
    },
    {
     "name": "stderr",
     "output_type": "stream",
     "text": [
      "Iteration:  76%|███████▌  | 1515/2000 [00:36<00:10, 45.67it/s, loss=0.71]"
     ]
    },
    {
     "name": "stdout",
     "output_type": "stream",
     "text": [
      "Iter 1509/2000 - Loss: 0.7099\n",
      "Iter 1510/2000 - Loss: 0.7099\n",
      "Iter 1511/2000 - Loss: 0.7099\n",
      "Iter 1512/2000 - Loss: 0.7099\n",
      "Iter 1513/2000 - Loss: 0.7099\n",
      "Iter 1514/2000 - Loss: 0.7099\n",
      "Iter 1515/2000 - Loss: 0.7098\n",
      "Iter 1516/2000 - Loss: 0.7098\n",
      "Iter 1517/2000 - Loss: 0.7098\n",
      "Iter 1518/2000 - Loss: 0.7098\n",
      "Iter 1519/2000 - Loss: 0.7098\n"
     ]
    },
    {
     "name": "stderr",
     "output_type": "stream",
     "text": [
      "Iteration:  76%|███████▋  | 1527/2000 [00:36<00:09, 50.01it/s, loss=0.71]"
     ]
    },
    {
     "name": "stdout",
     "output_type": "stream",
     "text": [
      "Iter 1520/2000 - Loss: 0.7098\n",
      "Iter 1521/2000 - Loss: 0.7098\n",
      "Iter 1522/2000 - Loss: 0.7098\n",
      "Iter 1523/2000 - Loss: 0.7098\n",
      "Iter 1524/2000 - Loss: 0.7098\n",
      "Iter 1525/2000 - Loss: 0.7098\n",
      "Iter 1526/2000 - Loss: 0.7097\n",
      "Iter 1527/2000 - Loss: 0.7097\n",
      "Iter 1528/2000 - Loss: 0.7097\n",
      "Iter 1529/2000 - Loss: 0.7097\n",
      "Iter 1530/2000 - Loss: 0.7097\n"
     ]
    },
    {
     "name": "stderr",
     "output_type": "stream",
     "text": [
      "Iteration:  77%|███████▋  | 1539/2000 [00:36<00:09, 51.19it/s, loss=0.71]"
     ]
    },
    {
     "name": "stdout",
     "output_type": "stream",
     "text": [
      "Iter 1531/2000 - Loss: 0.7097\n",
      "Iter 1532/2000 - Loss: 0.7097\n",
      "Iter 1533/2000 - Loss: 0.7097\n",
      "Iter 1534/2000 - Loss: 0.7097\n",
      "Iter 1535/2000 - Loss: 0.7097\n",
      "Iter 1536/2000 - Loss: 0.7096\n",
      "Iter 1537/2000 - Loss: 0.7096\n",
      "Iter 1538/2000 - Loss: 0.7096\n",
      "Iter 1539/2000 - Loss: 0.7096\n",
      "Iter 1540/2000 - Loss: 0.7096\n",
      "Iter 1541/2000 - Loss: 0.7096\n"
     ]
    },
    {
     "name": "stderr",
     "output_type": "stream",
     "text": [
      "Iteration:  78%|███████▊  | 1551/2000 [00:36<00:08, 51.98it/s, loss=0.709]"
     ]
    },
    {
     "name": "stdout",
     "output_type": "stream",
     "text": [
      "Iter 1542/2000 - Loss: 0.7096\n",
      "Iter 1543/2000 - Loss: 0.7096\n",
      "Iter 1544/2000 - Loss: 0.7096\n",
      "Iter 1545/2000 - Loss: 0.7096\n",
      "Iter 1546/2000 - Loss: 0.7095\n",
      "Iter 1547/2000 - Loss: 0.7095\n",
      "Iter 1548/2000 - Loss: 0.7095\n",
      "Iter 1549/2000 - Loss: 0.7095\n",
      "Iter 1550/2000 - Loss: 0.7095\n",
      "Iter 1551/2000 - Loss: 0.7095\n",
      "Iter 1552/2000 - Loss: 0.7095\n"
     ]
    },
    {
     "name": "stderr",
     "output_type": "stream",
     "text": [
      "Iteration:  78%|███████▊  | 1563/2000 [00:37<00:08, 52.62it/s, loss=0.709]"
     ]
    },
    {
     "name": "stdout",
     "output_type": "stream",
     "text": [
      "Iter 1553/2000 - Loss: 0.7095\n",
      "Iter 1554/2000 - Loss: 0.7095\n",
      "Iter 1555/2000 - Loss: 0.7095\n",
      "Iter 1556/2000 - Loss: 0.7094\n",
      "Iter 1557/2000 - Loss: 0.7094\n",
      "Iter 1558/2000 - Loss: 0.7094\n",
      "Iter 1559/2000 - Loss: 0.7094\n",
      "Iter 1560/2000 - Loss: 0.7094\n",
      "Iter 1561/2000 - Loss: 0.7094\n",
      "Iter 1562/2000 - Loss: 0.7094\n",
      "Iter 1563/2000 - Loss: 0.7094\n"
     ]
    },
    {
     "name": "stderr",
     "output_type": "stream",
     "text": [
      "Iteration:  79%|███████▊  | 1574/2000 [00:37<00:08, 48.61it/s, loss=0.709]"
     ]
    },
    {
     "name": "stdout",
     "output_type": "stream",
     "text": [
      "Iter 1564/2000 - Loss: 0.7094\n",
      "Iter 1565/2000 - Loss: 0.7094\n",
      "Iter 1566/2000 - Loss: 0.7093\n",
      "Iter 1567/2000 - Loss: 0.7093\n",
      "Iter 1568/2000 - Loss: 0.7093\n",
      "Iter 1569/2000 - Loss: 0.7093\n",
      "Iter 1570/2000 - Loss: 0.7093\n",
      "Iter 1571/2000 - Loss: 0.7093\n",
      "Iter 1572/2000 - Loss: 0.7093\n",
      "Iter 1573/2000 - Loss: 0.7093\n",
      "Iter 1574/2000 - Loss: 0.7093\n"
     ]
    },
    {
     "name": "stderr",
     "output_type": "stream",
     "text": [
      "Iteration:  79%|███████▉  | 1580/2000 [00:37<00:08, 49.55it/s, loss=0.709]"
     ]
    },
    {
     "name": "stdout",
     "output_type": "stream",
     "text": [
      "Iter 1575/2000 - Loss: 0.7092\n",
      "Iter 1576/2000 - Loss: 0.7092\n",
      "Iter 1577/2000 - Loss: 0.7092\n",
      "Iter 1578/2000 - Loss: 0.7092\n",
      "Iter 1579/2000 - Loss: 0.7092\n",
      "Iter 1580/2000 - Loss: 0.7092\n",
      "Iter 1581/2000 - Loss: 0.7092\n",
      "Iter 1582/2000 - Loss: 0.7092\n",
      "Iter 1583/2000 - Loss: 0.7092\n",
      "Iter 1584/2000 - Loss: 0.7091\n",
      "Iter 1585/2000 - Loss: 0.7091\n"
     ]
    },
    {
     "name": "stderr",
     "output_type": "stream",
     "text": [
      "Iteration:  80%|███████▉  | 1592/2000 [00:37<00:07, 51.12it/s, loss=0.709]"
     ]
    },
    {
     "name": "stdout",
     "output_type": "stream",
     "text": [
      "Iter 1586/2000 - Loss: 0.7091\n",
      "Iter 1587/2000 - Loss: 0.7091\n",
      "Iter 1588/2000 - Loss: 0.7091\n",
      "Iter 1589/2000 - Loss: 0.7091\n",
      "Iter 1590/2000 - Loss: 0.7091\n",
      "Iter 1591/2000 - Loss: 0.7091\n",
      "Iter 1592/2000 - Loss: 0.7091\n",
      "Iter 1593/2000 - Loss: 0.7090\n"
     ]
    },
    {
     "name": "stderr",
     "output_type": "stream",
     "text": [
      "Iteration:  80%|███████▉  | 1598/2000 [00:37<00:09, 40.64it/s, loss=0.709]"
     ]
    },
    {
     "name": "stdout",
     "output_type": "stream",
     "text": [
      "Iter 1594/2000 - Loss: 0.7090\n",
      "Iter 1595/2000 - Loss: 0.7090\n",
      "Iter 1596/2000 - Loss: 0.7090\n",
      "Iter 1597/2000 - Loss: 0.7090\n",
      "Iter 1598/2000 - Loss: 0.7090\n",
      "Iter 1599/2000 - Loss: 0.7090\n",
      "Iter 1600/2000 - Loss: 0.7090\n",
      "Iter 1601/2000 - Loss: 0.7089\n",
      "Iter 1602/2000 - Loss: 0.7089\n"
     ]
    },
    {
     "name": "stderr",
     "output_type": "stream",
     "text": [
      "Iteration:  80%|████████  | 1610/2000 [00:38<00:08, 46.27it/s, loss=0.709]"
     ]
    },
    {
     "name": "stdout",
     "output_type": "stream",
     "text": [
      "Iter 1603/2000 - Loss: 0.7089\n",
      "Iter 1604/2000 - Loss: 0.7089\n",
      "Iter 1605/2000 - Loss: 0.7089\n",
      "Iter 1606/2000 - Loss: 0.7089\n",
      "Iter 1607/2000 - Loss: 0.7089\n",
      "Iter 1608/2000 - Loss: 0.7089\n",
      "Iter 1609/2000 - Loss: 0.7088\n",
      "Iter 1610/2000 - Loss: 0.7088\n",
      "Iter 1611/2000 - Loss: 0.7088\n",
      "Iter 1612/2000 - Loss: 0.7088\n",
      "Iter 1613/2000 - Loss: 0.7088\n"
     ]
    },
    {
     "name": "stderr",
     "output_type": "stream",
     "text": [
      "Iteration:  81%|████████  | 1622/2000 [00:38<00:07, 48.63it/s, loss=0.709]"
     ]
    },
    {
     "name": "stdout",
     "output_type": "stream",
     "text": [
      "Iter 1614/2000 - Loss: 0.7088\n",
      "Iter 1615/2000 - Loss: 0.7088\n",
      "Iter 1616/2000 - Loss: 0.7088\n",
      "Iter 1617/2000 - Loss: 0.7087\n",
      "Iter 1618/2000 - Loss: 0.7087\n",
      "Iter 1619/2000 - Loss: 0.7087\n",
      "Iter 1620/2000 - Loss: 0.7087\n",
      "Iter 1621/2000 - Loss: 0.7087\n",
      "Iter 1622/2000 - Loss: 0.7087\n",
      "Iter 1623/2000 - Loss: 0.7087\n",
      "Iter 1624/2000 - Loss: 0.7087\n"
     ]
    },
    {
     "name": "stderr",
     "output_type": "stream",
     "text": [
      "Iteration:  81%|████████▏ | 1628/2000 [00:38<00:07, 49.65it/s, loss=0.709]"
     ]
    },
    {
     "name": "stdout",
     "output_type": "stream",
     "text": [
      "Iter 1625/2000 - Loss: 0.7086\n",
      "Iter 1626/2000 - Loss: 0.7086\n",
      "Iter 1627/2000 - Loss: 0.7086\n",
      "Iter 1628/2000 - Loss: 0.7086\n",
      "Iter 1629/2000 - Loss: 0.7086\n",
      "Iter 1630/2000 - Loss: 0.7086\n",
      "Iter 1631/2000 - Loss: 0.7086\n",
      "Iter 1632/2000 - Loss: 0.7086\n",
      "Iter 1633/2000 - Loss: 0.7085\n"
     ]
    },
    {
     "name": "stderr",
     "output_type": "stream",
     "text": [
      "Iteration:  82%|████████▏ | 1639/2000 [00:38<00:08, 40.12it/s, loss=0.708]"
     ]
    },
    {
     "name": "stdout",
     "output_type": "stream",
     "text": [
      "Iter 1634/2000 - Loss: 0.7085\n",
      "Iter 1635/2000 - Loss: 0.7085\n",
      "Iter 1636/2000 - Loss: 0.7085\n",
      "Iter 1637/2000 - Loss: 0.7085\n",
      "Iter 1638/2000 - Loss: 0.7085\n",
      "Iter 1639/2000 - Loss: 0.7085\n",
      "Iter 1640/2000 - Loss: 0.7084\n",
      "Iter 1641/2000 - Loss: 0.7084\n"
     ]
    },
    {
     "name": "stderr",
     "output_type": "stream",
     "text": [
      "Iteration:  82%|████████▏ | 1645/2000 [00:38<00:08, 42.94it/s, loss=0.708]"
     ]
    },
    {
     "name": "stdout",
     "output_type": "stream",
     "text": [
      "Iter 1642/2000 - Loss: 0.7084\n",
      "Iter 1643/2000 - Loss: 0.7084\n",
      "Iter 1644/2000 - Loss: 0.7084\n",
      "Iter 1645/2000 - Loss: 0.7084\n",
      "Iter 1646/2000 - Loss: 0.7084\n"
     ]
    },
    {
     "name": "stderr",
     "output_type": "stream",
     "text": [
      "Iteration:  83%|████████▎ | 1655/2000 [00:39<00:09, 38.13it/s, loss=0.708]"
     ]
    },
    {
     "name": "stdout",
     "output_type": "stream",
     "text": [
      "Iter 1647/2000 - Loss: 0.7084\n",
      "Iter 1648/2000 - Loss: 0.7083\n",
      "Iter 1649/2000 - Loss: 0.7083\n",
      "Iter 1650/2000 - Loss: 0.7083\n",
      "Iter 1651/2000 - Loss: 0.7083\n",
      "Iter 1652/2000 - Loss: 0.7083\n",
      "Iter 1653/2000 - Loss: 0.7083\n",
      "Iter 1654/2000 - Loss: 0.7083\n",
      "Iter 1655/2000 - Loss: 0.7083\n",
      "Iter 1656/2000 - Loss: 0.7082\n"
     ]
    },
    {
     "name": "stderr",
     "output_type": "stream",
     "text": [
      "Iteration:  83%|████████▎ | 1660/2000 [00:39<00:09, 37.35it/s, loss=0.708]"
     ]
    },
    {
     "name": "stdout",
     "output_type": "stream",
     "text": [
      "Iter 1657/2000 - Loss: 0.7082\n",
      "Iter 1658/2000 - Loss: 0.7082\n",
      "Iter 1659/2000 - Loss: 0.7082\n",
      "Iter 1660/2000 - Loss: 0.7082\n",
      "Iter 1661/2000 - Loss: 0.7082\n",
      "Iter 1662/2000 - Loss: 0.7082\n",
      "Iter 1663/2000 - Loss: 0.7082\n"
     ]
    },
    {
     "name": "stderr",
     "output_type": "stream",
     "text": [
      "Iteration:  83%|████████▎ | 1664/2000 [00:39<00:09, 35.01it/s, loss=0.708]"
     ]
    },
    {
     "name": "stdout",
     "output_type": "stream",
     "text": [
      "Iter 1664/2000 - Loss: 0.7081\n",
      "Iter 1665/2000 - Loss: 0.7081\n"
     ]
    },
    {
     "name": "stderr",
     "output_type": "stream",
     "text": [
      "Iteration:  84%|████████▎ | 1671/2000 [00:39<00:13, 24.89it/s, loss=0.708]"
     ]
    },
    {
     "name": "stdout",
     "output_type": "stream",
     "text": [
      "Iter 1666/2000 - Loss: 0.7081\n",
      "Iter 1667/2000 - Loss: 0.7081\n",
      "Iter 1668/2000 - Loss: 0.7081\n",
      "Iter 1669/2000 - Loss: 0.7081\n",
      "Iter 1670/2000 - Loss: 0.7081\n",
      "Iter 1671/2000 - Loss: 0.7081\n"
     ]
    },
    {
     "name": "stderr",
     "output_type": "stream",
     "text": [
      "Iteration:  84%|████████▍ | 1680/2000 [00:40<00:10, 31.92it/s, loss=0.708]"
     ]
    },
    {
     "name": "stdout",
     "output_type": "stream",
     "text": [
      "Iter 1672/2000 - Loss: 0.7080\n",
      "Iter 1673/2000 - Loss: 0.7080\n",
      "Iter 1674/2000 - Loss: 0.7080\n",
      "Iter 1675/2000 - Loss: 0.7080\n",
      "Iter 1676/2000 - Loss: 0.7080\n",
      "Iter 1677/2000 - Loss: 0.7080\n",
      "Iter 1678/2000 - Loss: 0.7080\n",
      "Iter 1679/2000 - Loss: 0.7080\n",
      "Iter 1680/2000 - Loss: 0.7080\n",
      "Iter 1681/2000 - Loss: 0.7079\n"
     ]
    },
    {
     "name": "stderr",
     "output_type": "stream",
     "text": [
      "Iteration:  85%|████████▍ | 1692/2000 [00:40<00:07, 41.67it/s, loss=0.708]"
     ]
    },
    {
     "name": "stdout",
     "output_type": "stream",
     "text": [
      "Iter 1682/2000 - Loss: 0.7079\n",
      "Iter 1683/2000 - Loss: 0.7079\n",
      "Iter 1684/2000 - Loss: 0.7079\n",
      "Iter 1685/2000 - Loss: 0.7079\n",
      "Iter 1686/2000 - Loss: 0.7079\n",
      "Iter 1687/2000 - Loss: 0.7079\n",
      "Iter 1688/2000 - Loss: 0.7079\n",
      "Iter 1689/2000 - Loss: 0.7079\n",
      "Iter 1690/2000 - Loss: 0.7078\n",
      "Iter 1691/2000 - Loss: 0.7078\n",
      "Iter 1692/2000 - Loss: 0.7078\n"
     ]
    },
    {
     "name": "stderr",
     "output_type": "stream",
     "text": [
      "Iteration:  85%|████████▍ | 1698/2000 [00:40<00:06, 44.75it/s, loss=0.708]"
     ]
    },
    {
     "name": "stdout",
     "output_type": "stream",
     "text": [
      "Iter 1693/2000 - Loss: 0.7078\n",
      "Iter 1694/2000 - Loss: 0.7078\n",
      "Iter 1695/2000 - Loss: 0.7078\n",
      "Iter 1696/2000 - Loss: 0.7078\n",
      "Iter 1697/2000 - Loss: 0.7078\n",
      "Iter 1698/2000 - Loss: 0.7078\n",
      "Iter 1699/2000 - Loss: 0.7077\n",
      "Iter 1700/2000 - Loss: 0.7077\n",
      "Iter 1701/2000 - Loss: 0.7077\n",
      "Iter 1702/2000 - Loss: 0.7077\n",
      "Iter 1703/2000 - Loss: 0.7077\n"
     ]
    },
    {
     "name": "stderr",
     "output_type": "stream",
     "text": [
      "Iteration:  85%|████████▌ | 1709/2000 [00:40<00:06, 47.63it/s, loss=0.708]"
     ]
    },
    {
     "name": "stdout",
     "output_type": "stream",
     "text": [
      "Iter 1704/2000 - Loss: 0.7077\n",
      "Iter 1705/2000 - Loss: 0.7077\n",
      "Iter 1706/2000 - Loss: 0.7077\n",
      "Iter 1707/2000 - Loss: 0.7077\n",
      "Iter 1708/2000 - Loss: 0.7077\n",
      "Iter 1709/2000 - Loss: 0.7076\n",
      "Iter 1710/2000 - Loss: 0.7076\n",
      "Iter 1711/2000 - Loss: 0.7076\n",
      "Iter 1712/2000 - Loss: 0.7076\n",
      "Iter 1713/2000 - Loss: 0.7076\n",
      "Iter 1714/2000 - Loss: 0.7076\n"
     ]
    },
    {
     "name": "stderr",
     "output_type": "stream",
     "text": [
      "Iteration:  86%|████████▌ | 1721/2000 [00:41<00:05, 50.27it/s, loss=0.707]"
     ]
    },
    {
     "name": "stdout",
     "output_type": "stream",
     "text": [
      "Iter 1715/2000 - Loss: 0.7076\n",
      "Iter 1716/2000 - Loss: 0.7076\n",
      "Iter 1717/2000 - Loss: 0.7076\n",
      "Iter 1718/2000 - Loss: 0.7076\n",
      "Iter 1719/2000 - Loss: 0.7075\n",
      "Iter 1720/2000 - Loss: 0.7075\n",
      "Iter 1721/2000 - Loss: 0.7075\n",
      "Iter 1722/2000 - Loss: 0.7075\n",
      "Iter 1723/2000 - Loss: 0.7075\n",
      "Iter 1724/2000 - Loss: 0.7075\n",
      "Iter 1725/2000 - Loss: 0.7075\n"
     ]
    },
    {
     "name": "stderr",
     "output_type": "stream",
     "text": [
      "Iteration:  87%|████████▋ | 1733/2000 [00:41<00:05, 44.54it/s, loss=0.707]"
     ]
    },
    {
     "name": "stdout",
     "output_type": "stream",
     "text": [
      "Iter 1726/2000 - Loss: 0.7075\n",
      "Iter 1727/2000 - Loss: 0.7075\n",
      "Iter 1728/2000 - Loss: 0.7075\n",
      "Iter 1729/2000 - Loss: 0.7074\n",
      "Iter 1730/2000 - Loss: 0.7074\n",
      "Iter 1731/2000 - Loss: 0.7074\n",
      "Iter 1732/2000 - Loss: 0.7074\n",
      "Iter 1733/2000 - Loss: 0.7074\n"
     ]
    },
    {
     "name": "stderr",
     "output_type": "stream",
     "text": [
      "Iteration:  87%|████████▋ | 1738/2000 [00:41<00:07, 37.31it/s, loss=0.707]"
     ]
    },
    {
     "name": "stdout",
     "output_type": "stream",
     "text": [
      "Iter 1734/2000 - Loss: 0.7074\n",
      "Iter 1735/2000 - Loss: 0.7074\n",
      "Iter 1736/2000 - Loss: 0.7074\n",
      "Iter 1737/2000 - Loss: 0.7074\n",
      "Iter 1738/2000 - Loss: 0.7074\n",
      "Iter 1739/2000 - Loss: 0.7074\n"
     ]
    },
    {
     "name": "stderr",
     "output_type": "stream",
     "text": [
      "Iteration:  87%|████████▋ | 1743/2000 [00:41<00:07, 34.02it/s, loss=0.707]"
     ]
    },
    {
     "name": "stdout",
     "output_type": "stream",
     "text": [
      "Iter 1740/2000 - Loss: 0.7073\n",
      "Iter 1741/2000 - Loss: 0.7073\n",
      "Iter 1742/2000 - Loss: 0.7073\n",
      "Iter 1743/2000 - Loss: 0.7073\n",
      "Iter 1744/2000 - Loss: 0.7073\n",
      "Iter 1745/2000 - Loss: 0.7073\n"
     ]
    },
    {
     "name": "stderr",
     "output_type": "stream",
     "text": [
      "Iteration:  87%|████████▋ | 1747/2000 [00:41<00:07, 35.23it/s, loss=0.707]"
     ]
    },
    {
     "name": "stdout",
     "output_type": "stream",
     "text": [
      "Iter 1746/2000 - Loss: 0.7073\n",
      "Iter 1747/2000 - Loss: 0.7073\n",
      "Iter 1748/2000 - Loss: 0.7073\n"
     ]
    },
    {
     "name": "stderr",
     "output_type": "stream",
     "text": [
      "Iteration:  88%|████████▊ | 1751/2000 [00:42<00:09, 25.07it/s, loss=0.707]"
     ]
    },
    {
     "name": "stdout",
     "output_type": "stream",
     "text": [
      "Iter 1749/2000 - Loss: 0.7073\n",
      "Iter 1750/2000 - Loss: 0.7073\n",
      "Iter 1751/2000 - Loss: 0.7073\n",
      "Iter 1752/2000 - Loss: 0.7072\n",
      "Iter 1753/2000 - Loss: 0.7072\n"
     ]
    },
    {
     "name": "stderr",
     "output_type": "stream",
     "text": [
      "Iteration:  88%|████████▊ | 1755/2000 [00:42<00:11, 22.00it/s, loss=0.707]"
     ]
    },
    {
     "name": "stdout",
     "output_type": "stream",
     "text": [
      "Iter 1754/2000 - Loss: 0.7072\n",
      "Iter 1755/2000 - Loss: 0.7072\n",
      "Iter 1756/2000 - Loss: 0.7072\n"
     ]
    },
    {
     "name": "stderr",
     "output_type": "stream",
     "text": [
      "Iteration:  88%|████████▊ | 1758/2000 [00:42<00:18, 13.30it/s, loss=0.707]"
     ]
    },
    {
     "name": "stdout",
     "output_type": "stream",
     "text": [
      "Iter 1757/2000 - Loss: 0.7072\n",
      "Iter 1758/2000 - Loss: 0.7072\n",
      "Iter 1759/2000 - Loss: 0.7072\n"
     ]
    },
    {
     "name": "stderr",
     "output_type": "stream",
     "text": [
      "Iteration:  88%|████████▊ | 1760/2000 [00:43<00:25,  9.58it/s, loss=0.707]"
     ]
    },
    {
     "name": "stdout",
     "output_type": "stream",
     "text": [
      "Iter 1760/2000 - Loss: 0.7072\n",
      "Iter 1761/2000 - Loss: 0.7072\n"
     ]
    },
    {
     "name": "stderr",
     "output_type": "stream",
     "text": [
      "Iteration:  88%|████████▊ | 1766/2000 [00:43<00:17, 13.06it/s, loss=0.707]"
     ]
    },
    {
     "name": "stdout",
     "output_type": "stream",
     "text": [
      "Iter 1762/2000 - Loss: 0.7072\n",
      "Iter 1763/2000 - Loss: 0.7072\n",
      "Iter 1764/2000 - Loss: 0.7072\n",
      "Iter 1765/2000 - Loss: 0.7071\n",
      "Iter 1766/2000 - Loss: 0.7071\n",
      "Iter 1767/2000 - Loss: 0.7071\n"
     ]
    },
    {
     "name": "stderr",
     "output_type": "stream",
     "text": [
      "\r",
      "Iteration:  88%|████████▊ | 1766/2000 [00:43<00:17, 13.06it/s, loss=0.707]"
     ]
    },
    {
     "name": "stdout",
     "output_type": "stream",
     "text": [
      "Iter 1768/2000 - Loss: 0.7071\n"
     ]
    },
    {
     "name": "stderr",
     "output_type": "stream",
     "text": [
      "Iteration:  89%|████████▊ | 1771/2000 [00:44<00:20, 10.92it/s, loss=0.707]"
     ]
    },
    {
     "name": "stdout",
     "output_type": "stream",
     "text": [
      "Iter 1769/2000 - Loss: 0.7071\n",
      "Iter 1770/2000 - Loss: 0.7071\n",
      "Iter 1771/2000 - Loss: 0.7071\n"
     ]
    },
    {
     "name": "stderr",
     "output_type": "stream",
     "text": [
      "Iteration:  89%|████████▊ | 1773/2000 [00:44<00:21, 10.75it/s, loss=0.707]"
     ]
    },
    {
     "name": "stdout",
     "output_type": "stream",
     "text": [
      "Iter 1772/2000 - Loss: 0.7071\n",
      "Iter 1773/2000 - Loss: 0.7071\n"
     ]
    },
    {
     "name": "stderr",
     "output_type": "stream",
     "text": [
      "Iteration:  89%|████████▉ | 1782/2000 [00:44<00:10, 19.94it/s, loss=0.707]"
     ]
    },
    {
     "name": "stdout",
     "output_type": "stream",
     "text": [
      "Iter 1774/2000 - Loss: 0.7071\n",
      "Iter 1775/2000 - Loss: 0.7071\n",
      "Iter 1776/2000 - Loss: 0.7071\n",
      "Iter 1777/2000 - Loss: 0.7071\n",
      "Iter 1778/2000 - Loss: 0.7070\n",
      "Iter 1779/2000 - Loss: 0.7070\n",
      "Iter 1780/2000 - Loss: 0.7070\n",
      "Iter 1781/2000 - Loss: 0.7070\n",
      "Iter 1782/2000 - Loss: 0.7070\n",
      "Iter 1783/2000 - Loss: 0.7070\n",
      "Iter 1784/2000 - Loss: 0.7070\n",
      "Iter 1785/2000 - Loss: 0.7070\n",
      "Iter 1786/2000 - Loss: 0.7070\n"
     ]
    },
    {
     "name": "stderr",
     "output_type": "stream",
     "text": [
      "Iteration:  90%|████████▉ | 1796/2000 [00:44<00:05, 35.86it/s, loss=0.707]"
     ]
    },
    {
     "name": "stdout",
     "output_type": "stream",
     "text": [
      "Iter 1787/2000 - Loss: 0.7070\n",
      "Iter 1788/2000 - Loss: 0.7070\n",
      "Iter 1789/2000 - Loss: 0.7070\n",
      "Iter 1790/2000 - Loss: 0.7070\n",
      "Iter 1791/2000 - Loss: 0.7070\n",
      "Iter 1792/2000 - Loss: 0.7069\n",
      "Iter 1793/2000 - Loss: 0.7069\n",
      "Iter 1794/2000 - Loss: 0.7069\n",
      "Iter 1795/2000 - Loss: 0.7069\n",
      "Iter 1796/2000 - Loss: 0.7069\n",
      "Iter 1797/2000 - Loss: 0.7069\n",
      "Iter 1798/2000 - Loss: 0.7069\n",
      "Iter 1799/2000 - Loss: 0.7069\n"
     ]
    },
    {
     "name": "stderr",
     "output_type": "stream",
     "text": [
      "Iteration:  90%|█████████ | 1810/2000 [00:45<00:04, 47.13it/s, loss=0.707]"
     ]
    },
    {
     "name": "stdout",
     "output_type": "stream",
     "text": [
      "Iter 1800/2000 - Loss: 0.7069\n",
      "Iter 1801/2000 - Loss: 0.7069\n",
      "Iter 1802/2000 - Loss: 0.7069\n",
      "Iter 1803/2000 - Loss: 0.7069\n",
      "Iter 1804/2000 - Loss: 0.7069\n",
      "Iter 1805/2000 - Loss: 0.7069\n",
      "Iter 1806/2000 - Loss: 0.7069\n",
      "Iter 1807/2000 - Loss: 0.7068\n",
      "Iter 1808/2000 - Loss: 0.7068\n",
      "Iter 1809/2000 - Loss: 0.7068\n",
      "Iter 1810/2000 - Loss: 0.7068\n",
      "Iter 1811/2000 - Loss: 0.7068\n",
      "Iter 1812/2000 - Loss: 0.7068\n"
     ]
    },
    {
     "name": "stderr",
     "output_type": "stream",
     "text": [
      "Iteration:  91%|█████████ | 1823/2000 [00:45<00:03, 52.78it/s, loss=0.707]"
     ]
    },
    {
     "name": "stdout",
     "output_type": "stream",
     "text": [
      "Iter 1813/2000 - Loss: 0.7068\n",
      "Iter 1814/2000 - Loss: 0.7068\n",
      "Iter 1815/2000 - Loss: 0.7068\n",
      "Iter 1816/2000 - Loss: 0.7068\n",
      "Iter 1817/2000 - Loss: 0.7068\n",
      "Iter 1818/2000 - Loss: 0.7068\n",
      "Iter 1819/2000 - Loss: 0.7068\n",
      "Iter 1820/2000 - Loss: 0.7068\n",
      "Iter 1821/2000 - Loss: 0.7068\n",
      "Iter 1822/2000 - Loss: 0.7067\n",
      "Iter 1823/2000 - Loss: 0.7067\n",
      "Iter 1824/2000 - Loss: 0.7067\n",
      "Iter 1825/2000 - Loss: 0.7067\n"
     ]
    },
    {
     "name": "stderr",
     "output_type": "stream",
     "text": [
      "Iteration:  92%|█████████▏| 1837/2000 [00:45<00:02, 57.26it/s, loss=0.707]"
     ]
    },
    {
     "name": "stdout",
     "output_type": "stream",
     "text": [
      "Iter 1826/2000 - Loss: 0.7067\n",
      "Iter 1827/2000 - Loss: 0.7067\n",
      "Iter 1828/2000 - Loss: 0.7067\n",
      "Iter 1829/2000 - Loss: 0.7067\n",
      "Iter 1830/2000 - Loss: 0.7067\n",
      "Iter 1831/2000 - Loss: 0.7067\n",
      "Iter 1832/2000 - Loss: 0.7067\n",
      "Iter 1833/2000 - Loss: 0.7067\n",
      "Iter 1834/2000 - Loss: 0.7067\n",
      "Iter 1835/2000 - Loss: 0.7067\n",
      "Iter 1836/2000 - Loss: 0.7067\n",
      "Iter 1837/2000 - Loss: 0.7067\n",
      "Iter 1838/2000 - Loss: 0.7066\n"
     ]
    },
    {
     "name": "stderr",
     "output_type": "stream",
     "text": [
      "Iteration:  92%|█████████▏| 1849/2000 [00:45<00:02, 56.91it/s, loss=0.707]"
     ]
    },
    {
     "name": "stdout",
     "output_type": "stream",
     "text": [
      "Iter 1839/2000 - Loss: 0.7066\n",
      "Iter 1840/2000 - Loss: 0.7066\n",
      "Iter 1841/2000 - Loss: 0.7066\n",
      "Iter 1842/2000 - Loss: 0.7066\n",
      "Iter 1843/2000 - Loss: 0.7066\n",
      "Iter 1844/2000 - Loss: 0.7066\n",
      "Iter 1845/2000 - Loss: 0.7066\n",
      "Iter 1846/2000 - Loss: 0.7066\n",
      "Iter 1847/2000 - Loss: 0.7066\n",
      "Iter 1848/2000 - Loss: 0.7066\n",
      "Iter 1849/2000 - Loss: 0.7066\n",
      "Iter 1850/2000 - Loss: 0.7066\n"
     ]
    },
    {
     "name": "stderr",
     "output_type": "stream",
     "text": [
      "Iteration:  93%|█████████▎| 1863/2000 [00:45<00:02, 59.50it/s, loss=0.707]"
     ]
    },
    {
     "name": "stdout",
     "output_type": "stream",
     "text": [
      "Iter 1851/2000 - Loss: 0.7066\n",
      "Iter 1852/2000 - Loss: 0.7066\n",
      "Iter 1853/2000 - Loss: 0.7066\n",
      "Iter 1854/2000 - Loss: 0.7066\n",
      "Iter 1855/2000 - Loss: 0.7066\n",
      "Iter 1856/2000 - Loss: 0.7065\n",
      "Iter 1857/2000 - Loss: 0.7065\n",
      "Iter 1858/2000 - Loss: 0.7065\n",
      "Iter 1859/2000 - Loss: 0.7065\n",
      "Iter 1860/2000 - Loss: 0.7065\n",
      "Iter 1861/2000 - Loss: 0.7065\n",
      "Iter 1862/2000 - Loss: 0.7065\n",
      "Iter 1863/2000 - Loss: 0.7065\n"
     ]
    },
    {
     "name": "stderr",
     "output_type": "stream",
     "text": [
      "Iteration:  94%|█████████▎| 1870/2000 [00:46<00:02, 60.02it/s, loss=0.706]"
     ]
    },
    {
     "name": "stdout",
     "output_type": "stream",
     "text": [
      "Iter 1864/2000 - Loss: 0.7065\n",
      "Iter 1865/2000 - Loss: 0.7065\n",
      "Iter 1866/2000 - Loss: 0.7065\n",
      "Iter 1867/2000 - Loss: 0.7065\n",
      "Iter 1868/2000 - Loss: 0.7065\n",
      "Iter 1869/2000 - Loss: 0.7065\n",
      "Iter 1870/2000 - Loss: 0.7065\n",
      "Iter 1871/2000 - Loss: 0.7065\n",
      "Iter 1872/2000 - Loss: 0.7065\n",
      "Iter 1873/2000 - Loss: 0.7065\n",
      "Iter 1874/2000 - Loss: 0.7064\n",
      "Iter 1875/2000 - Loss: 0.7064\n",
      "Iter 1876/2000 - Loss: 0.7064\n"
     ]
    },
    {
     "name": "stderr",
     "output_type": "stream",
     "text": [
      "Iteration:  94%|█████████▍| 1884/2000 [00:46<00:01, 61.06it/s, loss=0.706]"
     ]
    },
    {
     "name": "stdout",
     "output_type": "stream",
     "text": [
      "Iter 1877/2000 - Loss: 0.7064\n",
      "Iter 1878/2000 - Loss: 0.7064\n",
      "Iter 1879/2000 - Loss: 0.7064\n",
      "Iter 1880/2000 - Loss: 0.7064\n",
      "Iter 1881/2000 - Loss: 0.7064\n",
      "Iter 1882/2000 - Loss: 0.7064\n",
      "Iter 1883/2000 - Loss: 0.7064\n",
      "Iter 1884/2000 - Loss: 0.7064\n",
      "Iter 1885/2000 - Loss: 0.7064\n",
      "Iter 1886/2000 - Loss: 0.7064\n",
      "Iter 1887/2000 - Loss: 0.7064\n",
      "Iter 1888/2000 - Loss: 0.7064\n",
      "Iter 1889/2000 - Loss: 0.7064\n"
     ]
    },
    {
     "name": "stderr",
     "output_type": "stream",
     "text": [
      "Iteration:  95%|█████████▍| 1898/2000 [00:46<00:01, 52.72it/s, loss=0.706]"
     ]
    },
    {
     "name": "stdout",
     "output_type": "stream",
     "text": [
      "Iter 1890/2000 - Loss: 0.7064\n",
      "Iter 1891/2000 - Loss: 0.7064\n",
      "Iter 1892/2000 - Loss: 0.7064\n",
      "Iter 1893/2000 - Loss: 0.7063\n",
      "Iter 1894/2000 - Loss: 0.7063\n",
      "Iter 1895/2000 - Loss: 0.7063\n",
      "Iter 1896/2000 - Loss: 0.7063\n",
      "Iter 1897/2000 - Loss: 0.7063\n",
      "Iter 1898/2000 - Loss: 0.7063\n"
     ]
    },
    {
     "name": "stderr",
     "output_type": "stream",
     "text": [
      "Iteration:  95%|█████████▌| 1904/2000 [00:46<00:01, 51.83it/s, loss=0.706]"
     ]
    },
    {
     "name": "stdout",
     "output_type": "stream",
     "text": [
      "Iter 1899/2000 - Loss: 0.7063\n",
      "Iter 1900/2000 - Loss: 0.7063\n",
      "Iter 1901/2000 - Loss: 0.7063\n",
      "Iter 1902/2000 - Loss: 0.7063\n",
      "Iter 1903/2000 - Loss: 0.7063\n",
      "Iter 1904/2000 - Loss: 0.7063\n",
      "Iter 1905/2000 - Loss: 0.7063\n",
      "Iter 1906/2000 - Loss: 0.7063\n",
      "Iter 1907/2000 - Loss: 0.7063\n",
      "Iter 1908/2000 - Loss: 0.7063\n",
      "Iter 1909/2000 - Loss: 0.7063\n",
      "Iter 1910/2000 - Loss: 0.7063\n"
     ]
    },
    {
     "name": "stderr",
     "output_type": "stream",
     "text": [
      "Iteration:  96%|█████████▌| 1917/2000 [00:47<00:01, 52.28it/s, loss=0.706]"
     ]
    },
    {
     "name": "stdout",
     "output_type": "stream",
     "text": [
      "Iter 1911/2000 - Loss: 0.7063\n",
      "Iter 1912/2000 - Loss: 0.7063\n",
      "Iter 1913/2000 - Loss: 0.7062\n",
      "Iter 1914/2000 - Loss: 0.7062\n",
      "Iter 1915/2000 - Loss: 0.7062\n",
      "Iter 1916/2000 - Loss: 0.7062\n",
      "Iter 1917/2000 - Loss: 0.7062\n",
      "Iter 1918/2000 - Loss: 0.7062\n",
      "Iter 1919/2000 - Loss: 0.7062\n",
      "Iter 1920/2000 - Loss: 0.7062\n",
      "Iter 1921/2000 - Loss: 0.7062\n"
     ]
    },
    {
     "name": "stderr",
     "output_type": "stream",
     "text": [
      "Iteration:  96%|█████████▌| 1923/2000 [00:47<00:01, 49.90it/s, loss=0.706]"
     ]
    },
    {
     "name": "stdout",
     "output_type": "stream",
     "text": [
      "Iter 1922/2000 - Loss: 0.7062\n",
      "Iter 1923/2000 - Loss: 0.7062\n",
      "Iter 1924/2000 - Loss: 0.7062\n"
     ]
    },
    {
     "name": "stderr",
     "output_type": "stream",
     "text": [
      "\r",
      "Iteration:  96%|█████████▌| 1923/2000 [00:47<00:01, 49.90it/s, loss=0.706]"
     ]
    },
    {
     "name": "stdout",
     "output_type": "stream",
     "text": [
      "Iter 1925/2000 - Loss: 0.7062\n"
     ]
    },
    {
     "name": "stderr",
     "output_type": "stream",
     "text": [
      "Iteration:  97%|█████████▋| 1934/2000 [00:48<00:04, 14.59it/s, loss=0.706]"
     ]
    },
    {
     "name": "stdout",
     "output_type": "stream",
     "text": [
      "Iter 1926/2000 - Loss: 0.7062\n",
      "Iter 1927/2000 - Loss: 0.7062\n",
      "Iter 1928/2000 - Loss: 0.7062\n",
      "Iter 1929/2000 - Loss: 0.7062\n",
      "Iter 1930/2000 - Loss: 0.7062\n",
      "Iter 1931/2000 - Loss: 0.7062\n",
      "Iter 1932/2000 - Loss: 0.7062\n",
      "Iter 1933/2000 - Loss: 0.7062\n",
      "Iter 1934/2000 - Loss: 0.7061\n"
     ]
    },
    {
     "name": "stderr",
     "output_type": "stream",
     "text": [
      "Iteration:  97%|█████████▋| 1944/2000 [00:48<00:02, 21.63it/s, loss=0.706]"
     ]
    },
    {
     "name": "stdout",
     "output_type": "stream",
     "text": [
      "Iter 1935/2000 - Loss: 0.7061\n",
      "Iter 1936/2000 - Loss: 0.7061\n",
      "Iter 1937/2000 - Loss: 0.7061\n",
      "Iter 1938/2000 - Loss: 0.7061\n",
      "Iter 1939/2000 - Loss: 0.7061\n",
      "Iter 1940/2000 - Loss: 0.7061\n",
      "Iter 1941/2000 - Loss: 0.7061\n",
      "Iter 1942/2000 - Loss: 0.7061\n",
      "Iter 1943/2000 - Loss: 0.7061\n",
      "Iter 1944/2000 - Loss: 0.7061\n"
     ]
    },
    {
     "name": "stderr",
     "output_type": "stream",
     "text": [
      "Iteration:  97%|█████████▋| 1949/2000 [00:49<00:02, 22.63it/s, loss=0.706]"
     ]
    },
    {
     "name": "stdout",
     "output_type": "stream",
     "text": [
      "Iter 1945/2000 - Loss: 0.7061\n",
      "Iter 1946/2000 - Loss: 0.7061\n",
      "Iter 1947/2000 - Loss: 0.7061\n",
      "Iter 1948/2000 - Loss: 0.7061\n",
      "Iter 1949/2000 - Loss: 0.7061\n",
      "Iter 1950/2000 - Loss: 0.7061\n"
     ]
    },
    {
     "name": "stderr",
     "output_type": "stream",
     "text": [
      "Iteration:  98%|█████████▊| 1961/2000 [00:49<00:01, 32.74it/s, loss=0.706]"
     ]
    },
    {
     "name": "stdout",
     "output_type": "stream",
     "text": [
      "Iter 1951/2000 - Loss: 0.7061\n",
      "Iter 1952/2000 - Loss: 0.7061\n",
      "Iter 1953/2000 - Loss: 0.7061\n",
      "Iter 1954/2000 - Loss: 0.7061\n",
      "Iter 1955/2000 - Loss: 0.7061\n",
      "Iter 1956/2000 - Loss: 0.7060\n",
      "Iter 1957/2000 - Loss: 0.7060\n",
      "Iter 1958/2000 - Loss: 0.7060\n",
      "Iter 1959/2000 - Loss: 0.7060\n",
      "Iter 1960/2000 - Loss: 0.7060\n",
      "Iter 1961/2000 - Loss: 0.7060\n"
     ]
    },
    {
     "name": "stderr",
     "output_type": "stream",
     "text": [
      "Iteration:  98%|█████████▊| 1967/2000 [00:49<00:00, 37.50it/s, loss=0.706]"
     ]
    },
    {
     "name": "stdout",
     "output_type": "stream",
     "text": [
      "Iter 1962/2000 - Loss: 0.7060\n",
      "Iter 1963/2000 - Loss: 0.7060\n",
      "Iter 1964/2000 - Loss: 0.7060\n",
      "Iter 1965/2000 - Loss: 0.7060\n",
      "Iter 1966/2000 - Loss: 0.7060\n",
      "Iter 1967/2000 - Loss: 0.7060\n",
      "Iter 1968/2000 - Loss: 0.7060\n",
      "Iter 1969/2000 - Loss: 0.7060\n",
      "Iter 1970/2000 - Loss: 0.7060\n",
      "Iter 1971/2000 - Loss: 0.7060\n",
      "Iter 1972/2000 - Loss: 0.7060\n"
     ]
    },
    {
     "name": "stderr",
     "output_type": "stream",
     "text": [
      "Iteration:  99%|█████████▉| 1979/2000 [00:49<00:00, 41.29it/s, loss=0.706]"
     ]
    },
    {
     "name": "stdout",
     "output_type": "stream",
     "text": [
      "Iter 1973/2000 - Loss: 0.7060\n",
      "Iter 1974/2000 - Loss: 0.7060\n",
      "Iter 1975/2000 - Loss: 0.7060\n",
      "Iter 1976/2000 - Loss: 0.7060\n",
      "Iter 1977/2000 - Loss: 0.7060\n",
      "Iter 1978/2000 - Loss: 0.7060\n",
      "Iter 1979/2000 - Loss: 0.7059\n",
      "Iter 1980/2000 - Loss: 0.7059\n"
     ]
    },
    {
     "name": "stderr",
     "output_type": "stream",
     "text": [
      "Iteration:  99%|█████████▉| 1988/2000 [00:50<00:00, 33.08it/s, loss=0.706]"
     ]
    },
    {
     "name": "stdout",
     "output_type": "stream",
     "text": [
      "Iter 1981/2000 - Loss: 0.7059\n",
      "Iter 1982/2000 - Loss: 0.7059\n",
      "Iter 1983/2000 - Loss: 0.7059\n",
      "Iter 1984/2000 - Loss: 0.7059\n",
      "Iter 1985/2000 - Loss: 0.7059\n",
      "Iter 1986/2000 - Loss: 0.7059\n",
      "Iter 1987/2000 - Loss: 0.7059\n",
      "Iter 1988/2000 - Loss: 0.7059\n"
     ]
    },
    {
     "name": "stderr",
     "output_type": "stream",
     "text": [
      "Iteration: 100%|█████████▉| 1992/2000 [00:50<00:00, 30.08it/s, loss=0.706]"
     ]
    },
    {
     "name": "stdout",
     "output_type": "stream",
     "text": [
      "Iter 1989/2000 - Loss: 0.7059\n",
      "Iter 1990/2000 - Loss: 0.7059\n",
      "Iter 1991/2000 - Loss: 0.7059\n",
      "Iter 1992/2000 - Loss: 0.7059\n",
      "Iter 1993/2000 - Loss: 0.7059\n",
      "Iter 1994/2000 - Loss: 0.7059\n",
      "Iter 1995/2000 - Loss: 0.7059\n",
      "Iter 1996/2000 - Loss: 0.7059\n"
     ]
    },
    {
     "name": "stderr",
     "output_type": "stream",
     "text": [
      "Iteration: 100%|██████████| 2000/2000 [00:50<00:00, 39.70it/s, loss=0.706]"
     ]
    },
    {
     "name": "stdout",
     "output_type": "stream",
     "text": [
      "Iter 1997/2000 - Loss: 0.7059\n",
      "Iter 1998/2000 - Loss: 0.7059\n",
      "Iter 1999/2000 - Loss: 0.7059\n",
      "Iter 2000/2000 - Loss: 0.7059\n"
     ]
    },
    {
     "name": "stderr",
     "output_type": "stream",
     "text": [
      "\n"
     ]
    }
   ],
   "source": [
    "epochs_iter = tqdm(range(training_iterations), desc=\"Iteration\")\n",
    "\n",
    "\n",
    "# Create the optimizer with the initial learning rate\n",
    "optimizer = torch.optim.AdamW(model.parameters(), lr=0.01, amsgrad=True)  # Includes GaussianLikelihood parameters\n",
    "\n",
    "for i in epochs_iter:\n",
    "    # Training step\n",
    "    model.train()\n",
    "    likelihood.train()\n",
    "\n",
    "    optimizer.zero_grad()\n",
    "    output = model(X_train)\n",
    "    loss = -mll(output, Y_train)\n",
    "    epochs_iter.set_postfix(loss=loss.item())\n",
    "    loss.backward()\n",
    "    optimizer.step()\n",
    "    print('Iter %d/%d - Loss: %.4f' % (i + 1, training_iterations, loss.item()))\n",
    "\n",
    "    # Change learning rate after half of iterations\n",
    "#     if i == 250:\n",
    "#         lr = 0.01\n",
    "#         print('reducing lr to 0.01')\n",
    "#         for param_group in optimizer.param_groups:\n",
    "#             param_group['lr'] = lr\n",
    "\n",
    "#     if i == 150:\n",
    "#         lr = 0.01\n",
    "#         print('reducing lr to 0.01')\n",
    "#         for param_group in optimizer.param_groups:\n",
    "#             param_group['lr'] = lr\n",
    "#-.926"
   ]
  },
  {
   "cell_type": "code",
   "execution_count": 17,
   "id": "aad4f32b",
   "metadata": {},
   "outputs": [
    {
     "data": {
      "text/plain": [
       "OrderedDict([('likelihood.raw_task_noises',\n",
       "              tensor([-3.5194, -3.4917, -4.5716, -3.4405, -6.8068, -3.8767, -1.9240, -4.5236])),\n",
       "             ('likelihood.raw_task_noises_constraint.lower_bound',\n",
       "              tensor(1.0000e-04)),\n",
       "             ('likelihood.raw_task_noises_constraint.upper_bound',\n",
       "              tensor(inf)),\n",
       "             ('mean_module.base_means.0.weights',\n",
       "              tensor([[-1.1890],\n",
       "                      [-0.2505],\n",
       "                      [ 0.4633],\n",
       "                      [ 0.6803],\n",
       "                      [ 0.3522],\n",
       "                      [-2.4707],\n",
       "                      [ 1.2423]])),\n",
       "             ('mean_module.base_means.0.bias', tensor([0.9724])),\n",
       "             ('mean_module.base_means.1.weights',\n",
       "              tensor([[-0.4782],\n",
       "                      [-0.2404],\n",
       "                      [ 0.9947],\n",
       "                      [ 2.6539],\n",
       "                      [ 0.3054],\n",
       "                      [-0.4855],\n",
       "                      [-0.5665]])),\n",
       "             ('mean_module.base_means.1.bias', tensor([-1.1069])),\n",
       "             ('mean_module.base_means.2.weights',\n",
       "              tensor([[ 0.2733],\n",
       "                      [-0.0779],\n",
       "                      [-1.2448],\n",
       "                      [-1.3424],\n",
       "                      [-0.3084],\n",
       "                      [ 1.6381],\n",
       "                      [ 0.0507]])),\n",
       "             ('mean_module.base_means.2.bias', tensor([0.4529])),\n",
       "             ('mean_module.base_means.3.weights',\n",
       "              tensor([[ 0.0899],\n",
       "                      [-0.3738],\n",
       "                      [-1.7958],\n",
       "                      [-0.0809],\n",
       "                      [-0.8102],\n",
       "                      [ 0.1498],\n",
       "                      [-0.6359]])),\n",
       "             ('mean_module.base_means.3.bias', tensor([1.4325])),\n",
       "             ('mean_module.base_means.4.weights',\n",
       "              tensor([[ 1.1605],\n",
       "                      [ 0.3567],\n",
       "                      [ 1.6295],\n",
       "                      [ 1.9717],\n",
       "                      [ 0.0116],\n",
       "                      [ 0.3765],\n",
       "                      [-0.7226]])),\n",
       "             ('mean_module.base_means.4.bias', tensor([-2.5437])),\n",
       "             ('mean_module.base_means.5.weights',\n",
       "              tensor([[-0.1371],\n",
       "                      [ 0.1204],\n",
       "                      [ 3.1138],\n",
       "                      [ 0.2980],\n",
       "                      [ 0.0808],\n",
       "                      [-2.0237],\n",
       "                      [-0.0523]])),\n",
       "             ('mean_module.base_means.5.bias', tensor([-0.8365])),\n",
       "             ('mean_module.base_means.6.weights',\n",
       "              tensor([[ 0.0055],\n",
       "                      [ 0.3708],\n",
       "                      [-0.8517],\n",
       "                      [-0.8963],\n",
       "                      [ 0.0596],\n",
       "                      [ 1.2779],\n",
       "                      [-1.6129]])),\n",
       "             ('mean_module.base_means.6.bias', tensor([0.3236])),\n",
       "             ('mean_module.base_means.7.weights',\n",
       "              tensor([[ 0.1338],\n",
       "                      [ 0.1109],\n",
       "                      [-1.5163],\n",
       "                      [-1.1423],\n",
       "                      [-0.0164],\n",
       "                      [ 1.4218],\n",
       "                      [-0.0560]])),\n",
       "             ('mean_module.base_means.7.bias', tensor([0.3332])),\n",
       "             ('covar_module.task_covar_module.covar_factor',\n",
       "              tensor([[-0.3383],\n",
       "                      [-0.4488],\n",
       "                      [ 0.9983],\n",
       "                      [ 0.4741],\n",
       "                      [-0.9927],\n",
       "                      [ 0.2857],\n",
       "                      [ 0.1886],\n",
       "                      [ 0.2793]])),\n",
       "             ('covar_module.task_covar_module.raw_var',\n",
       "              tensor([-0.8876, -0.9591, -2.6696,  0.3279, -4.1045, -1.6149, -0.1912,  0.4604])),\n",
       "             ('covar_module.task_covar_module.raw_var_constraint.lower_bound',\n",
       "              tensor(0.)),\n",
       "             ('covar_module.task_covar_module.raw_var_constraint.upper_bound',\n",
       "              tensor(inf)),\n",
       "             ('covar_module.data_covar_module.raw_mixture_weights',\n",
       "              tensor([-1.0619, -1.0619, -0.7737])),\n",
       "             ('covar_module.data_covar_module.raw_mixture_means',\n",
       "              tensor([[[-1.1335, -1.5707, -0.6979, -1.0779, -1.3042, -0.8493, -1.7084]],\n",
       "              \n",
       "                      [[-1.1335, -1.5707, -0.6979, -1.0779, -1.3042, -0.8493, -1.7084]],\n",
       "              \n",
       "                      [[-1.1339, -2.7997, -0.6968, -1.0652, -2.4235, -0.8642, -2.6285]]])),\n",
       "             ('covar_module.data_covar_module.raw_mixture_scales',\n",
       "              tensor([[[-0.3837,  0.1827, -2.9498, -0.5868,  0.2198, -1.8370, -0.4828]],\n",
       "              \n",
       "                      [[-0.3837,  0.1827, -2.9498, -0.5868,  0.2198, -1.8370, -0.4828]],\n",
       "              \n",
       "                      [[-0.4116, -2.8638, -3.0057, -0.6228, -2.4308, -1.8364, -2.5266]]])),\n",
       "             ('covar_module.data_covar_module.raw_mixture_scales_constraint.lower_bound',\n",
       "              tensor(0.)),\n",
       "             ('covar_module.data_covar_module.raw_mixture_scales_constraint.upper_bound',\n",
       "              tensor(inf)),\n",
       "             ('covar_module.data_covar_module.raw_mixture_means_constraint.lower_bound',\n",
       "              tensor(0.)),\n",
       "             ('covar_module.data_covar_module.raw_mixture_means_constraint.upper_bound',\n",
       "              tensor(inf)),\n",
       "             ('covar_module.data_covar_module.raw_mixture_weights_constraint.lower_bound',\n",
       "              tensor(0.)),\n",
       "             ('covar_module.data_covar_module.raw_mixture_weights_constraint.upper_bound',\n",
       "              tensor(inf))])"
      ]
     },
     "execution_count": 17,
     "metadata": {},
     "output_type": "execute_result"
    }
   ],
   "source": [
    "model.state_dict()"
   ]
  },
  {
   "cell_type": "code",
   "execution_count": 18,
   "id": "03a08442",
   "metadata": {},
   "outputs": [
    {
     "name": "stdout",
     "output_type": "stream",
     "text": [
      "/home/users/delon/aemulusnu_massfunction/aemulusnu_massfunction/__init__.py\n",
      "/home/users/delon/aemulusnu_massfunction/aemulusnu_massfunction\n"
     ]
    }
   ],
   "source": [
    "import aemulusnu_massfunction\n",
    "print(aemulusnu_massfunction.__file__)\n",
    "\n",
    "import os\n",
    "\n",
    "package_path = os.path.dirname(aemulusnu_massfunction.__file__)\n",
    "print(package_path)"
   ]
  },
  {
   "cell_type": "code",
   "execution_count": 19,
   "id": "69546e88",
   "metadata": {},
   "outputs": [],
   "source": [
    "from aemulusnu_massfunction.massfunction import *\n",
    "\n",
    "with open(package_path + \"/emulator.pkl\", \"wb\") as f:\n",
    "    pickle.dump([model,\n",
    "                in_scaler,\n",
    "                out_scaler,\n",
    "                likelihood,], f)\n",
    "\n"
   ]
  },
  {
   "cell_type": "code",
   "execution_count": 20,
   "id": "d056522d",
   "metadata": {},
   "outputs": [
    {
     "name": "stdout",
     "output_type": "stream",
     "text": [
      "loading emulator from /home/users/delon/aemulusnu_massfunction/aemulusnu_massfunction/emulator.pkl\n"
     ]
    }
   ],
   "source": [
    "Emulator = AemulusNu_HMF_Emulator()"
   ]
  },
  {
   "cell_type": "code",
   "execution_count": 22,
   "id": "3fbe7bc0",
   "metadata": {
    "scrolled": false
   },
   "outputs": [
    {
     "name": "stderr",
     "output_type": "stream",
     "text": [
      "100%|██████████| 4/4 [00:00<00:00, 49.31it/s]\n"
     ]
    },
    {
     "data": {
      "text/plain": [
       "(1.2, 1.3)"
      ]
     },
     "execution_count": 22,
     "metadata": {},
     "output_type": "execute_result"
    },
    {
     "data": {
      "image/png": "[encoded data removed]",
      "text/plain": [
       "<Figure size 720x1080 with 4 Axes>"
      ]
     },
     "metadata": {
      "needs_background": "light"
     },
     "output_type": "display_data"
    }
   ],
   "source": [
    "\n",
    "import matplotlib.pyplot as plt\n",
    "\n",
    "\n",
    "fig, axs = plt.subplots(ncols=1, nrows=4, figsize=(10,15), sharex=True)\n",
    "wjat = ['Box_n50_0_1400', 'Box_n50_14_1400', 'Box_n50_33_1400', 'Box_n50_32_1400']\n",
    "# wjat = [leave_out_box, 'Box98_1400']\n",
    "\n",
    "# for box in [leave_out_box]:#, 'Box_n50_14_1400']:\n",
    "# for box in [leave_out_box, 'Box98_1400', 'Box_n50_0_1400']:#, 'Box_n50_14_1400', 'Box_n50_33_1400', 'Box_n50_32_1400']:\n",
    "for box in tqdm(wjat):\n",
    "    curr_cosmo_vals = tuple(get_cosmo_vals(cosmo_params[box]))\n",
    "    curr_ccl_cosmo = get_ccl_cosmology(curr_cosmo_vals)\n",
    "\n",
    "    param_names = ['d','e','f','g']\n",
    "    ndim = len(param_names)\n",
    "    plt.subplots_adjust(wspace=0, hspace=0)\n",
    "\n",
    "    params = {'d':[], 'e':[], 'f':[], 'g':[]}\n",
    "    paramsEMU = {'d':[], 'e':[], 'f':[], 'g':[]}\n",
    "\n",
    "    for a in a_list:\n",
    "        R = 8 / (cosmo_params[box]['H0'] / 100)\n",
    "        sigma8z = cosmo.sigmaR(R, a=a)\n",
    "        EMU  = (Emulator.predict_params(cosmo_params[box], scaleToRedshift(a))) #, sigma8z))\n",
    "\n",
    "        with open(\"/oak/stanford/orgs/kipac/users/delon/aemulusnu_massfunction/%s_params.pkl\"%(box), \"rb\") as f:\n",
    "            MLE_params = pickle.load(f)\n",
    "            curr_params = list(MLE_params.values())\n",
    "            paired_params = list(zip(curr_params, curr_params[1:]))[::2]\n",
    "\n",
    "            param_at_z = {'d':-1, 'e':-1, 'f':-1, 'g':-1}\n",
    "\n",
    "            for (p0,p1), key in zip(paired_params, param_at_z):\n",
    "                param_at_z[key] = p(p0, p1, a)\n",
    "            MLE_params = param_at_z\n",
    "\n",
    "        for key in MLE_params:\n",
    "            params[key] += [MLE_params[key]]\n",
    "            paramsEMU[key] += [EMU[key]]\n",
    "\n",
    "\n",
    "    for i, param in enumerate(params):\n",
    "        aaaaa = 1\n",
    "        axs[i].scatter(a_list, params[param], alpha=aaaaa, color='blue')\n",
    "#         print(list(zip(a_list,params[param])))\n",
    "#         print()\n",
    "        axs[i].plot(a_list, params[param], alpha=aaaaa, color='blue')\n",
    "\n",
    "        axs[i].scatter(a_list, paramsEMU[param], alpha=aaaaa, color='red')\n",
    "        axs[i].plot(a_list, paramsEMU[param], alpha=aaaaa, color='red')\n",
    "\n",
    "        axs[i].set_ylabel(param)\n",
    "    #     axs[i].set_ylim([0,2])\n",
    "        axs[i].set_xlim([min(a_list), 1])\n",
    "\n",
    "axs[-1].set_xlabel('a')\n",
    "# axs[0].set_ylim([0.25,.45])\n",
    "# axs[1].set_ylim([0.29,.305])\n",
    "# axs[2].set_ylim([1.4,1.8])\n",
    "# axs[3].set_ylim([1.18, 1.2])\n",
    "axs[0].set_ylim([1.7, 3.])\n",
    "axs[1].set_ylim([0.9, 1.1])\n",
    "axs[2].set_ylim([.3,.6])\n",
    "axs[3].set_ylim([1.2,1.3])\n",
    "# axs[0].set_title(box)"
   ]
  },
  {
   "cell_type": "code",
   "execution_count": 31,
   "id": "b6799dcc",
   "metadata": {},
   "outputs": [
    {
     "name": "stderr",
     "output_type": "stream",
     "text": [
      "100%|██████████| 15/15 [00:00<00:00, 6904.58it/s]\n",
      " 13%|█▎        | 2/15 [00:01<00:06,  2.03it/s]"
     ]
    },
    {
     "name": "stdout",
     "output_type": "stream",
     "text": [
      "[2.176431529399106, 0.9947063284226549, 0.5223997355637658, 1.2280946927125096]\n",
      "[2.190227106666656, 0.9920465270726675, 0.5156211396973251, 1.2280959592632104]\n"
     ]
    },
    {
     "name": "stderr",
     "output_type": "stream",
     "text": [
      " 27%|██▋       | 4/15 [00:01<00:02,  4.06it/s]"
     ]
    },
    {
     "name": "stdout",
     "output_type": "stream",
     "text": [
      "[2.2005296230109606, 0.986518110986079, 0.5031044857752947, 1.2280968566552486]\n",
      "[2.211171980720938, 0.9820675763910434, 0.49139515483724217, 1.2289712235285868]\n"
     ]
    },
    {
     "name": "stderr",
     "output_type": "stream",
     "text": [
      " 40%|████      | 6/15 [00:01<00:01,  5.55it/s]"
     ]
    },
    {
     "name": "stdout",
     "output_type": "stream",
     "text": [
      "[2.2482770614623844, 0.9784624758389601, 0.4790715004220306, 1.231343584988881]\n",
      "[2.2726128262734786, 0.9749410619320034, 0.4687160116997149, 1.233116788121964]\n"
     ]
    },
    {
     "name": "stderr",
     "output_type": "stream",
     "text": [
      " 53%|█████▎    | 8/15 [00:02<00:01,  4.16it/s]"
     ]
    },
    {
     "name": "stdout",
     "output_type": "stream",
     "text": [
      "[2.2855221364804215, 0.9731335523200331, 0.4632323803044346, 1.2341178305332958]\n",
      "[2.3030270543056606, 0.9716345435254987, 0.45818954495021014, 1.235391047930531]\n"
     ]
    },
    {
     "name": "stderr",
     "output_type": "stream",
     "text": [
      " 67%|██████▋   | 10/15 [00:02<00:00,  5.78it/s]"
     ]
    },
    {
     "name": "stdout",
     "output_type": "stream",
     "text": [
      "[2.2981953662323304, 0.9699971918746875, 0.4546079273402134, 1.2353949291177413]\n",
      "[2.3024563434387693, 0.9680053623176561, 0.45096080991384957, 1.2353959905161211]\n"
     ]
    },
    {
     "name": "stderr",
     "output_type": "stream",
     "text": [
      " 80%|████████  | 12/15 [00:02<00:00,  7.22it/s]"
     ]
    },
    {
     "name": "stdout",
     "output_type": "stream",
     "text": [
      "[2.3252978201077408, 0.9657442920088855, 0.44519057151649805, 1.2353962483944603]\n",
      "[2.328566015615783, 0.9642856469515912, 0.4417436166664215, 1.2353978417595846]\n"
     ]
    },
    {
     "name": "stderr",
     "output_type": "stream",
     "text": [
      "\r",
      " 93%|█████████▎| 14/15 [00:02<00:00,  8.18it/s]"
     ]
    },
    {
     "name": "stdout",
     "output_type": "stream",
     "text": [
      "[2.345129637693377, 0.9581935732533614, 0.4270860045138749, 1.235398661636454]\n",
      "[2.3812463962803223, 0.9542637373203032, 0.41742103814323583, 1.2353987371660835]\n",
      "[2.359570419295517, 0.9521370129246526, 0.41326665811430197, 1.2354010962605466]\n"
     ]
    },
    {
     "name": "stderr",
     "output_type": "stream",
     "text": [
      "100%|██████████| 15/15 [00:03<00:00,  4.94it/s]\n"
     ]
    },
    {
     "data": {
      "image/png": "[encoded data removed]",
      "text/plain": [
       "<Figure size 864x504 with 2 Axes>"
      ]
     },
     "metadata": {
      "needs_background": "light"
     },
     "output_type": "display_data"
    },
    {
     "data": {
      "image/png": "[encoded data removed]",
      "text/plain": [
       "<Figure size 864x504 with 2 Axes>"
      ]
     },
     "metadata": {
      "needs_background": "light"
     },
     "output_type": "display_data"
    },
    {
     "data": {
      "image/png": "[encoded data removed]",
      "text/plain": [
       "<Figure size 864x504 with 2 Axes>"
      ]
     },
     "metadata": {
      "needs_background": "light"
     },
     "output_type": "display_data"
    },
    {
     "data": {
      "image/png": "[encoded data removed]",
      "text/plain": [
       "<Figure size 864x504 with 2 Axes>"
      ]
     },
     "metadata": {
      "needs_background": "light"
     },
     "output_type": "display_data"
    },
    {
     "data": {
      "image/png": "[encoded data removed]",
      "text/plain": [
       "<Figure size 864x504 with 2 Axes>"
      ]
     },
     "metadata": {
      "needs_background": "light"
     },
     "output_type": "display_data"
    },
    {
     "data": {
      "image/png": "[encoded data removed]",
      "text/plain": [
       "<Figure size 864x504 with 2 Axes>"
      ]
     },
     "metadata": {
      "needs_background": "light"
     },
     "output_type": "display_data"
    },
    {
     "data": {
      "image/png": "[encoded data removed]",
      "text/plain": [
       "<Figure size 864x504 with 2 Axes>"
      ]
     },
     "metadata": {
      "needs_background": "light"
     },
     "output_type": "display_data"
    },
    {
     "data": {
      "image/png": "[encoded data removed]",
      "text/plain": [
       "<Figure size 864x504 with 2 Axes>"
      ]
     },
     "metadata": {
      "needs_background": "light"
     },
     "output_type": "display_data"
    },
    {
     "data": {
      "image/png": "[encoded data removed]",
      "text/plain": [
       "<Figure size 864x504 with 2 Axes>"
      ]
     },
     "metadata": {
      "needs_background": "light"
     },
     "output_type": "display_data"
    },
    {
     "data": {
      "image/png": "[encoded data removed]",
      "text/plain": [
       "<Figure size 864x504 with 2 Axes>"
      ]
     },
     "metadata": {
      "needs_background": "light"
     },
     "output_type": "display_data"
    },
    {
     "data": {
      "image/png": "[encoded data removed]",
      "text/plain": [
       "<Figure size 864x504 with 2 Axes>"
      ]
     },
     "metadata": {
      "needs_background": "light"
     },
     "output_type": "display_data"
    },
    {
     "data": {
      "image/png": "[encoded data removed]",
      "text/plain": [
       "<Figure size 864x504 with 2 Axes>"
      ]
     },
     "metadata": {
      "needs_background": "light"
     },
     "output_type": "display_data"
    },
    {
     "data": {
      "image/png": "[encoded data removed]",
      "text/plain": [
       "<Figure size 864x504 with 2 Axes>"
      ]
     },
     "metadata": {
      "needs_background": "light"
     },
     "output_type": "display_data"
    },
    {
     "data": {
      "image/png": "[encoded data removed]",
      "text/plain": [
       "<Figure size 864x504 with 2 Axes>"
      ]
     },
     "metadata": {
      "needs_background": "light"
     },
     "output_type": "display_data"
    },
    {
     "data": {
      "image/png": "[encoded data removed]",
      "text/plain": [
       "<Figure size 864x504 with 2 Axes>"
      ]
     },
     "metadata": {
      "needs_background": "light"
     },
     "output_type": "display_data"
    }
   ],
   "source": [
    "box = 'Box_n50_32_1400'\n",
    "\n",
    "from aemulusnu_massfunction.massfunction import *\n",
    "\n",
    "NvM_fname = '/oak/stanford/orgs/kipac/users/delon/aemulusnu_massfunction/'+box+'_NvsM.pkl'\n",
    "NvM_f = open(NvM_fname, 'rb')\n",
    "NvMs = pickle.load(NvM_f) #NvMs is a dictionary of dictionaries\n",
    "NvM_f.close()\n",
    "\n",
    "N_data = {}\n",
    "M_data = {}\n",
    "aux_data = {}\n",
    "\n",
    "vol = -1 #Mpc^3/h^3\n",
    "Mpart = -1\n",
    "\n",
    "for a in tqdm(a_list):\n",
    "#     if(a != 1): #TEST\n",
    "#         continue\n",
    "    c_data = NvMs[a]\n",
    "\n",
    "    Ms = c_data['M'] #units of h^-1 Msolar\n",
    "    N = c_data['N']\n",
    "    edge_pairs = c_data['edge_pairs']\n",
    "    assert(len(Ms) == len(edge_pairs))\n",
    "    assert(len(Ms) == len(N))\n",
    "\n",
    "    if(vol==-1):\n",
    "        vol = c_data['vol']\n",
    "    assert(vol == c_data['vol'])\n",
    "\n",
    "    if(Mpart==-1):\n",
    "        Mpart = c_data['Mpart']\n",
    "    assert(Mpart == c_data['Mpart'])\n",
    "\n",
    "    N_data[a] = []\n",
    "    M_data[a] = []\n",
    "    aux_data[a] = []\n",
    "    for N_curr, M_curr, edge_pair in zip(N, Ms, edge_pairs):\n",
    "        N_data[a] += [N_curr]\n",
    "        M_data[a] += [M_curr]\n",
    "        aux_data[a] += [{'a':a, 'edge_pair':edge_pair}]\n",
    "M_numerics = np.logspace(np.log10(100*Mpart), 16, 50)\n",
    "\n",
    "jackknife_covs_fname = '/oak/stanford/orgs/kipac/users/delon/aemulusnu_massfunction/'+box+'_jackknife_covs.pkl'\n",
    "jackknife_covs_f = open(jackknife_covs_fname, 'rb')\n",
    "jackknife = pickle.load(jackknife_covs_f)\n",
    "jackknife_covs_f.close()\n",
    "\n",
    "jack_covs = {a:jackknife[a][1] for a in N_data}\n",
    "\n",
    "# Compute the weighted covariance matrix incorporating jackknife and poisson\n",
    "weighted_cov = {a: jack_covs[a] for a in jack_covs}\n",
    "\n",
    "param_names = ['d','e','f','g']\n",
    "\n",
    "\n",
    "true_params = {}\n",
    "\n",
    "ccl_cosmo = get_ccl_cosmology(tuple(get_cosmo_vals(cosmo_params[box])))\n",
    "\n",
    "h = cosmo_params[box]['H0']/100\n",
    "\n",
    "\n",
    "for a in tqdm(a_list):\n",
    "    yerr = np.sqrt(np.diagonal(weighted_cov[a]))\n",
    "    fig1 = plt.figure(figsize =(12, 7))\n",
    "\n",
    "    axs=[fig1.add_axes((0.0,0.4,1,.6)), fig1.add_axes((0.0,0.0,1,.4))]\n",
    "    plt.subplots_adjust(wspace=0, hspace=0)\n",
    "    c_data = NvMs[a]\n",
    "\n",
    "    Ms = M_data[a]\n",
    "    N = N_data[a]\n",
    "    edge_pairs = c_data['edge_pairs']\n",
    "\n",
    "    edges = [edge[0] for edge in edge_pairs]\n",
    "    edges += [edge_pairs[-1][1]]\n",
    "\n",
    "    #shade in 1% and 10% error region\n",
    "    edges = np.array(edges)\n",
    "    \n",
    "    \n",
    "\n",
    "    y1 = 0.1*np.ones_like(N)\n",
    "    y1 = np.append(y1, y1[-1])\n",
    "    y1 = np.append(y1[0], y1)\n",
    "\n",
    "    y2 = -0.1*np.ones_like(N)\n",
    "    y2 = np.append(y2, y2[-1])\n",
    "    y2 = np.append(y2[0], y2)\n",
    "\n",
    "    c_Ms = np.append(Ms, edges[-1])\n",
    "    c_Ms = np.append(edges[0], c_Ms)\n",
    "    axs[1].fill_between(c_Ms, y1, y2, alpha=1, color='0.95',label='<10% Error')\n",
    "\n",
    "    y1 = 0.01*np.ones_like(N)\n",
    "    y1 = np.append(y1, y1[-1])\n",
    "    y1 = np.append(y1[0], y1)\n",
    "\n",
    "    y2 = -0.01*np.ones_like(N)\n",
    "    y2 = np.append(y2, y2[-1])\n",
    "    y2 = np.append(y2[0], y2)\n",
    "\n",
    "    axs[1].fill_between(c_Ms, y1, y2, alpha=1, color='0.85',label='<1% Error')\n",
    "\n",
    "\n",
    "    dM = np.array([edges[1]-edges[0] for edges in edge_pairs])\n",
    "\n",
    "\n",
    "    #Emulator \n",
    "    f_dNdM_MCMC =  lambda M:Emulator(ccl_cosmo, M/h, a)*vol/(h**3 * M * np.log(10)) # h / Msun\n",
    "    tinker_eval_MCMC = np.array([quad(f_dNdM_MCMC, edge[0],  edge[1], epsabs=0, epsrel=1e-5)[0] for edge in edge_pairs])\n",
    "\n",
    "    axs[0].scatter(Ms, tinker_eval_MCMC, marker='x', c='red')\n",
    "    axs[0].bar(x=edges[:-1], height=tinker_eval_MCMC, width=np.diff(edges),\n",
    "               align='edge', fill=False, ec='red', label='Emulator')\n",
    "    with open(\"/oak/stanford/orgs/kipac/users/delon/aemulusnu_massfunction/%s_%.2f_NvMemulator_loo_output.pkl\"%(box, a), \"wb\") as f:\n",
    "        pickle.dump({'Ms':Ms, 'tinker_eval':tinker_eval_MCMC, 'N':N, 'edges':edges}, f)\n",
    "\n",
    "    tmp = np.array([c_tmp*10**(0.01)-c_tmp for c_tmp in Ms])\n",
    "    axs[1].errorbar(Ms + tmp, (tinker_eval_MCMC-N)/N, yerr/N, fmt='x', color='red')\n",
    "\n",
    "    #ML Fit\n",
    "\n",
    "    mass_function = MassFuncAemulusNu_fitting()\n",
    "    \n",
    "    with open(\"/oak/stanford/orgs/kipac/users/delon/aemulusnu_massfunction/%s_%.2f_params.pkl\"%(box, a), \"rb\") as f:\n",
    "        MLE_params = pickle.load(f)\n",
    "        print(list(MLE_params.values()))\n",
    "        mass_function.set_params(list(MLE_params.values()))\n",
    "\n",
    "\n",
    "    f_dNdM_MCMC =  lambda M:mass_function(ccl_cosmo, M/h, a)*vol/(h**3 * M * np.log(10)) # h / Msun\n",
    "    tinker_eval_MCMC = np.array([quad(f_dNdM_MCMC, edge[0],  edge[1], epsabs=0, epsrel=1e-5)[0] for edge in edge_pairs])\n",
    "    axs[0].scatter(Ms, tinker_eval_MCMC, s=50 , marker='x', c='blue')\n",
    "    axs[0].bar(x=edges[:-1], height=tinker_eval_MCMC, width=np.diff(edges), \n",
    "               align='edge', fill=False, ec='blue', label='ML Fit')\n",
    "    axs[1].errorbar(Ms, (tinker_eval_MCMC-N)/N, yerr/N, fmt='x', color='blue')\n",
    "\n",
    "\n",
    "\n",
    "    #Data\n",
    "    axs[0].bar(x=edges[:-1], height=N, width=np.diff(edges),\n",
    "           align='edge', fill=False, ec='black', label='Data')\n",
    "    axs[0].errorbar(Ms, N, yerr, fmt='+', c='black')\n",
    "\n",
    "    axs[0].set_xscale('log')\n",
    "    axs[0].set_yscale('log')\n",
    "    axs[0].legend(frameon=False)\n",
    "    axs[0].set_ylabel('N')\n",
    "\n",
    "    axs[1].set_xscale('log')\n",
    "    # axs[1].set_yscale('lin', linthresh=1e-2)    \n",
    "    axs[1].legend(frameon=False)\n",
    "    axs[1].axhline(0, c='black')\n",
    "    axs[1].set_ylabel('N')\n",
    "    axs[1].set_xlabel(r'Mass $[h^{-1}M_\\odot]$')\n",
    "    axs[1].set_ylabel(r'$\\frac{N_{\\rm emulator}-N_{\\rm data}}{N_{\\rm data}} $')\n",
    "    axs[0].set_title('%s, a=%.2f, z=%.2f'%(box, a, scaleToRedshift(a)))\n",
    "\n",
    "    left = np.ceil(np.log10(200*Mpart) * 10) / 10\n",
    "    axs[0].set_xlim((10**left, np.max(edges)))\n",
    "    axs[1].set_xlim((10**left, np.max(edges)))\n",
    "    axs[1].set_ylim((-.29, .29))\n",
    "    axs[1].set_yticks([-.2, -.1, 0, .1, .2])\n",
    "\n",
    "#     plt.savefig('/oak/stanford/orgs/kipac/users/delon/aemulusnu_massfunction/figures/emulator/%s_emufit_%.2f.pdf'%(box, a), bbox_inches='tight')"
   ]
  },
  {
   "cell_type": "code",
   "execution_count": null,
   "id": "0871a9bb",
   "metadata": {},
   "outputs": [],
   "source": []
  }
 ],
 "metadata": {
  "kernelspec": {
   "display_name": "massfunction",
   "language": "python",
   "name": "massfunction"
  },
  "language_info": {
   "codemirror_mode": {
    "name": "ipython",
    "version": 3
   },
   "file_extension": ".py",
   "mimetype": "text/x-python",
   "name": "python",
   "nbconvert_exporter": "python",
   "pygments_lexer": "ipython3",
   "version": "3.9.16"
  }
 },
 "nbformat": 4,
 "nbformat_minor": 5
}
