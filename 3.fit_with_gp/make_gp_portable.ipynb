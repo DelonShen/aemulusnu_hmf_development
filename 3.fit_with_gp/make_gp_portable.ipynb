{
 "cells": [
  {
   "cell_type": "markdown",
   "id": "baaf2a3a",
   "metadata": {},
   "source": [
    "`gpytorch` and `pytorch` has ways to make their models portable. I am not very satisfied with it becuase they still require you have `pytorch` installed. So in the library I'll write a tiny gp library that only evaluates with saved weights. "
   ]
  },
  {
   "cell_type": "code",
   "execution_count": 1,
   "id": "564fb9b6",
   "metadata": {},
   "outputs": [],
   "source": [
    "gp_parameters_fname = {}\n",
    "gp_parameters = {}"
   ]
  },
  {
   "cell_type": "code",
   "execution_count": 2,
   "id": "095431f9",
   "metadata": {},
   "outputs": [
    {
     "name": "stdout",
     "output_type": "stream",
     "text": [
      "/home/users/delon/aemulusnu_massfunction/aemulusnu_massfunction/__init__.py\n",
      "/home/users/delon/aemulusnu_massfunction/aemulusnu_massfunction\n"
     ]
    }
   ],
   "source": [
    "import aemulusnu_massfunction\n",
    "print(aemulusnu_massfunction.__file__)\n",
    "\n",
    "import os\n",
    "\n",
    "package_path = os.path.dirname(aemulusnu_massfunction.__file__)\n",
    "print(package_path)"
   ]
  },
  {
   "cell_type": "code",
   "execution_count": 3,
   "id": "f5264106",
   "metadata": {},
   "outputs": [],
   "source": [
    "import pickle"
   ]
  },
  {
   "cell_type": "code",
   "execution_count": 4,
   "id": "9e51ff57",
   "metadata": {},
   "outputs": [],
   "source": [
    "\n",
    "cosmos_f = open('../data/cosmo_params.pkl', 'rb')\n",
    "cosmo_params = pickle.load(cosmos_f) #cosmo_params is a dict\n",
    "cosmos_f.close()\n",
    "\n",
    "a_list_fname = '/oak/stanford/orgs/kipac/users/delon/aemulusnu_massfunction/alist.pkl'\n",
    "a_list_f = open(a_list_fname, 'rb')\n",
    "a_list = pickle.load(a_list_f)\n",
    "a_list_f.close()"
   ]
  },
  {
   "cell_type": "code",
   "execution_count": 5,
   "id": "b58b594b",
   "metadata": {},
   "outputs": [],
   "source": [
    "from tqdm import tqdm"
   ]
  },
  {
   "cell_type": "code",
   "execution_count": 6,
   "id": "b755fb88",
   "metadata": {},
   "outputs": [],
   "source": [
    "key_ordering = ['10^9 As', 'ns', 'H0', 'w0', 'ombh2', 'omch2', 'nu_mass_ev']"
   ]
  },
  {
   "cell_type": "code",
   "execution_count": 7,
   "id": "cb07da3b",
   "metadata": {},
   "outputs": [],
   "source": [
    "from aemulusnu_hmf.utils import *\n"
   ]
  },
  {
   "cell_type": "code",
   "execution_count": 8,
   "id": "1b5a9934",
   "metadata": {},
   "outputs": [
    {
     "name": "stderr",
     "output_type": "stream",
     "text": [
      "100%|██████████| 150/150 [00:00<00:00, 2230.75it/s]"
     ]
    },
    {
     "name": "stdout",
     "output_type": "stream",
     "text": [
      "{'ns': 0.97000003, 'H0': 67.0, 'w0': -1.0, 'ombh2': 0.0223, 'omch2': 0.12, 'nu_mass_ev': 0.07071068, '10^9 As': 2.10100315}\n"
     ]
    },
    {
     "name": "stderr",
     "output_type": "stream",
     "text": [
      "\n"
     ]
    }
   ],
   "source": [
    "weird_boxes = []\n",
    "\n",
    "\n",
    "errors = {a:{} for a in a_list}\n",
    "X = []\n",
    "Y = []\n",
    "z_to_a = {}\n",
    "a_to_z = {}\n",
    "kt = np.logspace(-3, 1, 100) # h/Mpc\n",
    "for box in tqdm(cosmo_params):\n",
    "    if(box in weird_boxes):\n",
    "        continue\n",
    "    curr_cosmo = cosmo_params[box]\n",
    "    if(box == 'Box_n50_0_1400'):\n",
    "        print(curr_cosmo)\n",
    "\n",
    "    curr_cosmo_values = [curr_cosmo[curr_key] for curr_key in key_ordering]\n",
    "\n",
    "    h = curr_cosmo['H0']/100\n",
    "\n",
    "    Ωb =  curr_cosmo['ombh2'] / h**2\n",
    "    Ωc =  curr_cosmo['omch2'] / h**2\n",
    "\n",
    "\n",
    "\n",
    "    try:\n",
    "        with open(\"/oak/stanford/orgs/kipac/users/delon/aemulusnu_massfunction/%s_params.pkl\"%(box), \"rb\") as f:\n",
    "            MLE_params = pickle.load(f)\n",
    "            param_values = list(MLE_params.values())\n",
    "            Y+= [param_values]\n",
    "            X+= [curr_cosmo_values]\n",
    "    except:\n",
    "        print(box, z)\n",
    "    for a in a_list:\n",
    "        z = scaleToRedshift(a)\n",
    "        z_to_a[z] = a\n",
    "        a_to_z[a] = z"
   ]
  },
  {
   "cell_type": "code",
   "execution_count": 9,
   "id": "043f4716",
   "metadata": {},
   "outputs": [],
   "source": [
    "import pickle\n",
    "with open(package_path + \"/emulator.pkl\", \"rb\") as f:\n",
    "    model, in_scaler, out_scaler, likelihood = pickle.load(f)"
   ]
  },
  {
   "cell_type": "code",
   "execution_count": 10,
   "id": "a6ee6515",
   "metadata": {},
   "outputs": [],
   "source": [
    "X = np.array(X)\n",
    "Y = np.array(Y)"
   ]
  },
  {
   "cell_type": "code",
   "execution_count": 11,
   "id": "259f1872",
   "metadata": {},
   "outputs": [],
   "source": [
    "transX = in_scaler.transform(X)\n",
    "transY = out_scaler.transform(Y)"
   ]
  },
  {
   "cell_type": "code",
   "execution_count": 12,
   "id": "3b45cdf7",
   "metadata": {},
   "outputs": [
    {
     "data": {
      "text/plain": [
       "{'training': True,\n",
       " '_parameters': OrderedDict([('weights',\n",
       "               Parameter containing:\n",
       "               tensor([[-0.2005],\n",
       "                       [-0.0838],\n",
       "                       [ 0.0316],\n",
       "                       [ 0.0549],\n",
       "                       [ 0.0687],\n",
       "                       [-0.3498],\n",
       "                       [ 0.0295]], requires_grad=True)),\n",
       "              ('bias',\n",
       "               Parameter containing:\n",
       "               tensor([2.3503], requires_grad=True))]),\n",
       " '_buffers': OrderedDict(),\n",
       " '_non_persistent_buffers_set': set(),\n",
       " '_backward_pre_hooks': OrderedDict(),\n",
       " '_backward_hooks': OrderedDict(),\n",
       " '_is_full_backward_hook': None,\n",
       " '_forward_hooks': OrderedDict(),\n",
       " '_forward_hooks_with_kwargs': OrderedDict(),\n",
       " '_forward_pre_hooks': OrderedDict(),\n",
       " '_forward_pre_hooks_with_kwargs': OrderedDict(),\n",
       " '_state_dict_hooks': OrderedDict(),\n",
       " '_state_dict_pre_hooks': OrderedDict(),\n",
       " '_load_state_dict_pre_hooks': OrderedDict([(2,\n",
       "               <torch.nn.modules.module._WrappedHook at 0x7fe27bf29a90>)]),\n",
       " '_load_state_dict_post_hooks': OrderedDict(),\n",
       " '_modules': OrderedDict(),\n",
       " '_added_loss_terms': OrderedDict(),\n",
       " '_priors': OrderedDict(),\n",
       " '_constraints': OrderedDict(),\n",
       " '_strict_init': True,\n",
       " '_load_strict_shapes': True}"
      ]
     },
     "execution_count": 12,
     "metadata": {},
     "output_type": "execute_result"
    }
   ],
   "source": [
    "model.mean_module.base_means[0].__dict__"
   ]
  },
  {
   "cell_type": "code",
   "execution_count": 13,
   "id": "cd32f3a0",
   "metadata": {},
   "outputs": [],
   "source": [
    "import aemulusnu_hmf\n",
    "from aemulusnu_hmf.gaussian_process import *\n"
   ]
  },
  {
   "cell_type": "code",
   "execution_count": 14,
   "id": "80bdd7a2",
   "metadata": {},
   "outputs": [
    {
     "name": "stdout",
     "output_type": "stream",
     "text": [
      "/home/users/delon/aemulusnu_hmf_lib/aemulusnu_hmf\n"
     ]
    }
   ],
   "source": [
    "hmf_lib_package_path = os.path.dirname(aemulusnu_hmf.__file__)\n",
    "print(hmf_lib_package_path)"
   ]
  },
  {
   "cell_type": "code",
   "execution_count": 15,
   "id": "2a5863f5",
   "metadata": {},
   "outputs": [],
   "source": [
    "import numpy as np"
   ]
  },
  {
   "cell_type": "code",
   "execution_count": 16,
   "id": "43eb9506",
   "metadata": {},
   "outputs": [
    {
     "data": {
      "text/plain": [
       "ModuleList(\n",
       "  (0-7): 8 x LinearMean()\n",
       ")"
      ]
     },
     "execution_count": 16,
     "metadata": {},
     "output_type": "execute_result"
    }
   ],
   "source": [
    "model.mean_module.base_means"
   ]
  },
  {
   "cell_type": "code",
   "execution_count": 17,
   "id": "008bd370",
   "metadata": {},
   "outputs": [
    {
     "data": {
      "text/plain": [
       "array([[-0.20054933],\n",
       "       [-0.0838212 ],\n",
       "       [ 0.03163494],\n",
       "       [ 0.0549029 ],\n",
       "       [ 0.06872709],\n",
       "       [-0.34980562],\n",
       "       [ 0.02951493]], dtype=float32)"
      ]
     },
     "execution_count": 17,
     "metadata": {},
     "output_type": "execute_result"
    }
   ],
   "source": [
    "model.mean_module.base_means[0].weights.detach().numpy()"
   ]
  },
  {
   "cell_type": "code",
   "execution_count": 18,
   "id": "e0c9d25e",
   "metadata": {},
   "outputs": [
    {
     "data": {
      "text/plain": [
       "array([ 1.11197940e+00,  9.30572150e-01,  5.21808281e+01, -1.55389726e+00,\n",
       "        1.73423700e-02,  8.05167200e-02,  1.01726600e-02])"
      ]
     },
     "execution_count": 18,
     "metadata": {},
     "output_type": "execute_result"
    }
   ],
   "source": [
    "in_scaler.__dict__['min_val']"
   ]
  },
  {
   "cell_type": "code",
   "execution_count": 19,
   "id": "eb35f7d5",
   "metadata": {},
   "outputs": [],
   "source": [
    "#save rawX, trainX trainY, inscaler params\n",
    "local_fname = hmf_lib_package_path+'/data/train_x.txt'\n",
    "np.savetxt(local_fname, transX)\n",
    "\n",
    "local_fname = hmf_lib_package_path+'/data/raw_x.txt'\n",
    "np.savetxt(local_fname, X)\n",
    "\n",
    "\n",
    "local_fname = hmf_lib_package_path+'/data/train_y.txt'\n",
    "np.savetxt(local_fname, Y)\n",
    "\n",
    "\n",
    "\n",
    "local_fname = hmf_lib_package_path+'/data/in_normalizer_min_vals.txt'\n",
    "np.savetxt(local_fname, in_scaler.__dict__['min_val'])\n",
    "\n",
    "\n",
    "local_fname = hmf_lib_package_path+'/data/in_normalizer_max_vals.txt'\n",
    "np.savetxt(local_fname, in_scaler.__dict__['max_val'])\n"
   ]
  },
  {
   "cell_type": "code",
   "execution_count": 20,
   "id": "a37616f0",
   "metadata": {},
   "outputs": [],
   "source": [
    "n_means = len(model.mean_module.base_means)\n",
    "gp_parameters_fname['mean_module'] = {}\n",
    "gp_parameters_fname['mean_module']['base_means'] = [{} for i in range(n_means)] \n",
    "for i in range(n_means):\n",
    "    gp_parameters_fname['mean_module']['base_means'][i]['weights'] = 'data/mean_module.base_means.%d.weights.txt'%i\n",
    "    local_fname = hmf_lib_package_path+'/'+gp_parameters_fname['mean_module']['base_means'][i]['weights']\n",
    "    np.savetxt(local_fname, \n",
    "              model.mean_module.base_means[i].weights.detach().numpy())\n",
    "    gp_parameters_fname['mean_module']['base_means'][i]['bias'] = 'data/mean_module.base_means.%d.bias.txt'%i\n",
    "    local_fname = hmf_lib_package_path+'/'+gp_parameters_fname['mean_module']['base_means'][i]['bias']\n",
    "    np.savetxt(local_fname, \n",
    "              model.mean_module.base_means[i].bias.detach().numpy())"
   ]
  },
  {
   "cell_type": "code",
   "execution_count": 21,
   "id": "11178b5e",
   "metadata": {},
   "outputs": [],
   "source": [
    "from pkg_resources import resource_filename\n"
   ]
  },
  {
   "cell_type": "code",
   "execution_count": 22,
   "id": "c5336fe8",
   "metadata": {},
   "outputs": [],
   "source": [
    "base_means = []\n",
    "for i in range(n_means):\n",
    "    curr_weights = np.loadtxt(resource_filename('aemulusnu_hmf', gp_parameters_fname['mean_module']['base_means'][i]['weights']))\n",
    "    curr_bias    = np.loadtxt(resource_filename('aemulusnu_hmf', gp_parameters_fname['mean_module']['base_means'][i]['bias']))\n",
    "    base_means += [LinearMean(curr_weights,\n",
    "                              curr_bias)]"
   ]
  },
  {
   "cell_type": "code",
   "execution_count": 23,
   "id": "6080f919",
   "metadata": {},
   "outputs": [
    {
     "data": {
      "text/plain": [
       "[<aemulusnu_hmf.gaussian_process.LinearMean at 0x7fe278e17bb0>,\n",
       " <aemulusnu_hmf.gaussian_process.LinearMean at 0x7fe3bc545970>,\n",
       " <aemulusnu_hmf.gaussian_process.LinearMean at 0x7fe278e172b0>,\n",
       " <aemulusnu_hmf.gaussian_process.LinearMean at 0x7fe278e17220>,\n",
       " <aemulusnu_hmf.gaussian_process.LinearMean at 0x7fe278e17fd0>,\n",
       " <aemulusnu_hmf.gaussian_process.LinearMean at 0x7fe278e17ac0>,\n",
       " <aemulusnu_hmf.gaussian_process.LinearMean at 0x7fe278e17100>,\n",
       " <aemulusnu_hmf.gaussian_process.LinearMean at 0x7fe278e17d30>]"
      ]
     },
     "execution_count": 23,
     "metadata": {},
     "output_type": "execute_result"
    }
   ],
   "source": [
    "base_means"
   ]
  },
  {
   "cell_type": "code",
   "execution_count": 24,
   "id": "622ce3c2",
   "metadata": {},
   "outputs": [],
   "source": [
    "mean_module = MultitaskMean(base_means)"
   ]
  },
  {
   "cell_type": "code",
   "execution_count": 25,
   "id": "3f860279",
   "metadata": {},
   "outputs": [
    {
     "data": {
      "text/plain": [
       "(150, 8)"
      ]
     },
     "execution_count": 25,
     "metadata": {},
     "output_type": "execute_result"
    }
   ],
   "source": [
    "mean_module(transX).shape"
   ]
  },
  {
   "cell_type": "code",
   "execution_count": 26,
   "id": "472eb6d5",
   "metadata": {
    "scrolled": true
   },
   "outputs": [
    {
     "data": {
      "text/plain": [
       "OrderedDict([('likelihood.raw_noise', tensor([inf])),\n",
       "             ('likelihood.raw_noise_constraint.lower_bound', tensor(-inf)),\n",
       "             ('likelihood.raw_noise_constraint.upper_bound',\n",
       "              tensor(1.0000e-08)),\n",
       "             ('mean_module.base_means.0.weights',\n",
       "              tensor([[-0.2005],\n",
       "                      [-0.0838],\n",
       "                      [ 0.0316],\n",
       "                      [ 0.0549],\n",
       "                      [ 0.0687],\n",
       "                      [-0.3498],\n",
       "                      [ 0.0295]])),\n",
       "             ('mean_module.base_means.0.bias', tensor([2.3503])),\n",
       "             ('mean_module.base_means.1.weights',\n",
       "              tensor([[-0.0323],\n",
       "                      [ 0.0252],\n",
       "                      [-0.0070],\n",
       "                      [ 0.1526],\n",
       "                      [ 0.0469],\n",
       "                      [ 0.0129],\n",
       "                      [-0.0088]])),\n",
       "             ('mean_module.base_means.1.bias', tensor([-0.0974])),\n",
       "             ('mean_module.base_means.2.weights',\n",
       "              tensor([[ 0.0003],\n",
       "                      [ 0.0050],\n",
       "                      [-0.0381],\n",
       "                      [-0.0476],\n",
       "                      [-0.0464],\n",
       "                      [ 0.1069],\n",
       "                      [-0.0073]])),\n",
       "             ('mean_module.base_means.2.bias', tensor([1.0680])),\n",
       "             ('mean_module.base_means.3.weights',\n",
       "              tensor([[-0.0108],\n",
       "                      [-0.0137],\n",
       "                      [-0.0473],\n",
       "                      [ 0.0062],\n",
       "                      [ 0.0192],\n",
       "                      [-0.0068],\n",
       "                      [ 0.0023]])),\n",
       "             ('mean_module.base_means.3.bias', tensor([-0.0489])),\n",
       "             ('mean_module.base_means.4.weights',\n",
       "              tensor([[ 0.0402],\n",
       "                      [ 0.0068],\n",
       "                      [ 0.0246],\n",
       "                      [ 0.0385],\n",
       "                      [ 0.0065],\n",
       "                      [ 0.0201],\n",
       "                      [-0.0061]])),\n",
       "             ('mean_module.base_means.4.bias', tensor([0.3502])),\n",
       "             ('mean_module.base_means.5.weights',\n",
       "              tensor([[-0.0014],\n",
       "                      [ 0.0035],\n",
       "                      [ 0.0814],\n",
       "                      [-0.0029],\n",
       "                      [-0.0074],\n",
       "                      [-0.0482],\n",
       "                      [-0.0003]])),\n",
       "             ('mean_module.base_means.5.bias', tensor([0.1776])),\n",
       "             ('mean_module.base_means.6.weights',\n",
       "              tensor([[-0.0119],\n",
       "                      [-0.0044],\n",
       "                      [-0.0115],\n",
       "                      [-0.0124],\n",
       "                      [ 0.0016],\n",
       "                      [ 0.0062],\n",
       "                      [ 0.0035]])),\n",
       "             ('mean_module.base_means.6.bias', tensor([1.2461])),\n",
       "             ('mean_module.base_means.7.weights',\n",
       "              tensor([[ 0.0075],\n",
       "                      [ 0.0058],\n",
       "                      [-0.0234],\n",
       "                      [-0.0519],\n",
       "                      [ 0.0035],\n",
       "                      [ 0.0304],\n",
       "                      [-0.0027]])),\n",
       "             ('mean_module.base_means.7.bias', tensor([0.0403])),\n",
       "             ('covar_module.task_covar_module.covar_factor',\n",
       "              tensor([[-0.1449],\n",
       "                      [-0.2246],\n",
       "                      [ 0.6345],\n",
       "                      [ 0.0739],\n",
       "                      [-0.2077],\n",
       "                      [ 0.0440],\n",
       "                      [ 0.0585],\n",
       "                      [ 0.0784]])),\n",
       "             ('covar_module.task_covar_module.raw_var',\n",
       "              tensor([-0.0220, -1.3610, -3.0844, -2.3088, -5.1338, -4.1874, -3.6147, -4.2555])),\n",
       "             ('covar_module.task_covar_module.raw_var_constraint.lower_bound',\n",
       "              tensor(0.)),\n",
       "             ('covar_module.task_covar_module.raw_var_constraint.upper_bound',\n",
       "              tensor(inf)),\n",
       "             ('covar_module.data_covar_module.kernels.0.raw_outputscale',\n",
       "              tensor(-3.3725)),\n",
       "             ('covar_module.data_covar_module.kernels.0.base_kernel.raw_lengthscale',\n",
       "              tensor([[2.1891, 2.4358, 2.0946, 1.8976, 3.4319, 1.8566, 2.7364]])),\n",
       "             ('covar_module.data_covar_module.kernels.0.base_kernel.raw_lengthscale_constraint.lower_bound',\n",
       "              tensor(0.)),\n",
       "             ('covar_module.data_covar_module.kernels.0.base_kernel.raw_lengthscale_constraint.upper_bound',\n",
       "              tensor(inf)),\n",
       "             ('covar_module.data_covar_module.kernels.0.raw_outputscale_constraint.lower_bound',\n",
       "              tensor(0.)),\n",
       "             ('covar_module.data_covar_module.kernels.0.raw_outputscale_constraint.upper_bound',\n",
       "              tensor(inf)),\n",
       "             ('covar_module.data_covar_module.kernels.1.raw_constant',\n",
       "              tensor([-2.4130])),\n",
       "             ('covar_module.data_covar_module.kernels.1.raw_constant_constraint.lower_bound',\n",
       "              tensor(0.)),\n",
       "             ('covar_module.data_covar_module.kernels.1.raw_constant_constraint.upper_bound',\n",
       "              tensor(inf))])"
      ]
     },
     "execution_count": 26,
     "metadata": {},
     "output_type": "execute_result"
    }
   ],
   "source": [
    "model.state_dict()"
   ]
  },
  {
   "cell_type": "code",
   "execution_count": 27,
   "id": "ee16d003",
   "metadata": {},
   "outputs": [
    {
     "data": {
      "text/plain": [
       "array([[2.2953115, 2.5196962, 2.2107248, 2.0373337, 3.4636915, 2.0017018,\n",
       "        2.7992213]], dtype=float32)"
      ]
     },
     "execution_count": 27,
     "metadata": {},
     "output_type": "execute_result"
    }
   ],
   "source": [
    "model.covar_module.data_covar_module.kernels[0].base_kernel.lengthscale.detach().numpy()"
   ]
  },
  {
   "cell_type": "code",
   "execution_count": 28,
   "id": "637dff14",
   "metadata": {},
   "outputs": [],
   "source": [
    "gp_parameters_fname['covar_module'] = {}\n",
    "gp_parameters_fname['covar_module']['data_covar_module'] = {}\n",
    "gp_parameters_fname['covar_module']['data_covar_module']['matern'] = {}\n",
    "\n",
    "gp_parameters_fname['covar_module']['data_covar_module']['matern']['nu'] = 'data/covar_module.data_covar_module.matern.nu.txt'\n",
    "local_fname = hmf_lib_package_path+'/'+gp_parameters_fname['covar_module']['data_covar_module']['matern']['nu']\n",
    "np.savetxt(local_fname, \n",
    "           [model.covar_module.data_covar_module.kernels[0].base_kernel.nu])\n",
    "\n",
    "\n",
    "gp_parameters_fname['covar_module']['data_covar_module']['matern']['lengthscale'] = 'data/covar_module.data_covar_module.matern.lengthscale.txt'\n",
    "local_fname = hmf_lib_package_path+'/'+gp_parameters_fname['covar_module']['data_covar_module']['matern']['lengthscale']\n",
    "np.savetxt(local_fname, \n",
    "           model.covar_module.data_covar_module.kernels[0].base_kernel.lengthscale.detach().numpy())"
   ]
  },
  {
   "cell_type": "code",
   "execution_count": 29,
   "id": "d8610e20",
   "metadata": {},
   "outputs": [
    {
     "data": {
      "text/plain": [
       "MaternKernel(\n",
       "  (raw_lengthscale_constraint): Positive()\n",
       ")"
      ]
     },
     "execution_count": 29,
     "metadata": {},
     "output_type": "execute_result"
    }
   ],
   "source": [
    "model.covar_module.data_covar_module.kernels[0].base_kernel"
   ]
  },
  {
   "cell_type": "code",
   "execution_count": 30,
   "id": "981749a1",
   "metadata": {},
   "outputs": [
    {
     "data": {
      "text/plain": [
       "(150, 150)"
      ]
     },
     "execution_count": 30,
     "metadata": {},
     "output_type": "execute_result"
    }
   ],
   "source": [
    "nu = np.loadtxt(resource_filename('aemulusnu_hmf', gp_parameters_fname['covar_module']['data_covar_module']['matern']['nu']))\n",
    "lengthscale = np.loadtxt(resource_filename('aemulusnu_hmf', gp_parameters_fname['covar_module']['data_covar_module']['matern']['lengthscale']))\n",
    "MaternKernel(nu, lengthscale)(transX, transX).shape"
   ]
  },
  {
   "cell_type": "code",
   "execution_count": 31,
   "id": "946ce8ab",
   "metadata": {},
   "outputs": [
    {
     "data": {
      "text/plain": [
       "0.03372954577207565"
      ]
     },
     "execution_count": 31,
     "metadata": {},
     "output_type": "execute_result"
    }
   ],
   "source": [
    "model.covar_module.data_covar_module.kernels[0].outputscale.item()"
   ]
  },
  {
   "cell_type": "code",
   "execution_count": 32,
   "id": "a24cf3e3",
   "metadata": {},
   "outputs": [],
   "source": [
    "gp_parameters_fname['covar_module']['data_covar_module']['scale'] = 'data/covar_module.data_covar_module.scale.txt'\n",
    "local_fname = hmf_lib_package_path+'/'+gp_parameters_fname['covar_module']['data_covar_module']['scale']\n",
    "np.savetxt(local_fname, \n",
    "           [model.covar_module.data_covar_module.kernels[0].outputscale.item()])"
   ]
  },
  {
   "cell_type": "code",
   "execution_count": 33,
   "id": "72e10474",
   "metadata": {},
   "outputs": [
    {
     "data": {
      "text/plain": [
       "<aemulusnu_hmf.gaussian_process.ScaleKernel at 0x7fe278db2280>"
      ]
     },
     "execution_count": 33,
     "metadata": {},
     "output_type": "execute_result"
    }
   ],
   "source": [
    "scale = np.loadtxt(resource_filename('aemulusnu_hmf', gp_parameters_fname['covar_module']['data_covar_module']['scale']))\n",
    "ScaleKernel(MaternKernel(nu, lengthscale), scale)"
   ]
  },
  {
   "cell_type": "code",
   "execution_count": 34,
   "id": "5f15185c",
   "metadata": {},
   "outputs": [],
   "source": [
    "gp_parameters_fname['covar_module']['data_covar_module']['constant'] = 'data/covar_module.data_covar_module.constant.txt'\n",
    "local_fname = hmf_lib_package_path+'/'+gp_parameters_fname['covar_module']['data_covar_module']['constant']\n",
    "np.savetxt(local_fname, \n",
    "           [model.covar_module.data_covar_module.kernels[1].constant.item()])"
   ]
  },
  {
   "cell_type": "code",
   "execution_count": 35,
   "id": "e2fe3fb7",
   "metadata": {},
   "outputs": [
    {
     "data": {
      "text/plain": [
       "(150, 150)"
      ]
     },
     "execution_count": 35,
     "metadata": {},
     "output_type": "execute_result"
    }
   ],
   "source": [
    "constant = np.loadtxt(resource_filename('aemulusnu_hmf', gp_parameters_fname['covar_module']['data_covar_module']['constant']))\n",
    "ConstantKernel(constant)(transX, transX).shape"
   ]
  },
  {
   "cell_type": "code",
   "execution_count": 36,
   "id": "8f759ed2",
   "metadata": {},
   "outputs": [
    {
     "data": {
      "text/plain": [
       "<aemulusnu_hmf.gaussian_process.AdditiveKernel at 0x7fe278db2e20>"
      ]
     },
     "execution_count": 36,
     "metadata": {},
     "output_type": "execute_result"
    }
   ],
   "source": [
    "AdditiveKernel(ScaleKernel(MaternKernel(nu, lengthscale), scale), ConstantKernel(constant))"
   ]
  },
  {
   "cell_type": "code",
   "execution_count": 37,
   "id": "c50905b5",
   "metadata": {},
   "outputs": [
    {
     "data": {
      "text/plain": [
       "array([0.68222463, 0.22824858, 0.0447395 , 0.09474372, 0.00587697,\n",
       "       0.01507122, 0.02656781, 0.01408685], dtype=float32)"
      ]
     },
     "execution_count": 37,
     "metadata": {},
     "output_type": "execute_result"
    }
   ],
   "source": [
    "model.covar_module.task_covar_module.var.detach().numpy()"
   ]
  },
  {
   "cell_type": "code",
   "execution_count": 38,
   "id": "61b15814",
   "metadata": {},
   "outputs": [],
   "source": [
    "gp_parameters_fname['covar_module']['task_covar_module'] = {}"
   ]
  },
  {
   "cell_type": "code",
   "execution_count": 39,
   "id": "f91d357c",
   "metadata": {},
   "outputs": [],
   "source": [
    "gp_parameters_fname['covar_module']['task_covar_module']['covar_factor'] = 'data/covar_module.task_covar_module.covar_factor.txt'\n",
    "local_fname = hmf_lib_package_path+'/'+gp_parameters_fname['covar_module']['task_covar_module']['covar_factor'] \n",
    "np.savetxt(local_fname, \n",
    "           model.covar_module.task_covar_module.covar_factor.detach().numpy())"
   ]
  },
  {
   "cell_type": "code",
   "execution_count": 40,
   "id": "c8241ddd",
   "metadata": {},
   "outputs": [],
   "source": [
    "gp_parameters_fname['covar_module']['task_covar_module']['var'] = 'data/covar_module.task_covar_module.var.txt'\n",
    "local_fname = hmf_lib_package_path+'/'+gp_parameters_fname['covar_module']['task_covar_module']['var'] \n",
    "np.savetxt(local_fname, \n",
    "           model.covar_module.task_covar_module.var.detach().numpy())"
   ]
  },
  {
   "cell_type": "code",
   "execution_count": 41,
   "id": "29ab4f1a",
   "metadata": {},
   "outputs": [
    {
     "data": {
      "text/plain": [
       "<aemulusnu_hmf.gaussian_process.IndexKernel at 0x7fe278db50a0>"
      ]
     },
     "execution_count": 41,
     "metadata": {},
     "output_type": "execute_result"
    }
   ],
   "source": [
    "covar_factor = np.loadtxt(resource_filename('aemulusnu_hmf', gp_parameters_fname['covar_module']['task_covar_module']['covar_factor']))\n",
    "var = np.loadtxt(resource_filename('aemulusnu_hmf', gp_parameters_fname['covar_module']['task_covar_module']['var']))\n",
    "IndexKernel(covar_factor, var)"
   ]
  },
  {
   "cell_type": "code",
   "execution_count": 42,
   "id": "84107279",
   "metadata": {},
   "outputs": [],
   "source": [
    "covar_module = MultitaskKernel(task_covar_module = IndexKernel(covar_factor, var),\n",
    "                data_covar_module = AdditiveKernel(ScaleKernel(MaternKernel(nu, lengthscale), scale), ConstantKernel(constant)))"
   ]
  },
  {
   "cell_type": "code",
   "execution_count": 43,
   "id": "081f0b28",
   "metadata": {},
   "outputs": [
    {
     "data": {
      "text/plain": [
       "(1200, 1200)"
      ]
     },
     "execution_count": 43,
     "metadata": {},
     "output_type": "execute_result"
    }
   ],
   "source": [
    "covar_module(transX, transX).shape"
   ]
  },
  {
   "cell_type": "code",
   "execution_count": 44,
   "id": "45f09ae4",
   "metadata": {},
   "outputs": [],
   "source": [
    "import scipy"
   ]
  },
  {
   "cell_type": "code",
   "execution_count": 45,
   "id": "92143e64",
   "metadata": {},
   "outputs": [],
   "source": [
    "train_x = transX\n",
    "test_x = transX\n",
    "train_y = transY\n",
    "KXSX = covar_module(test_x, train_x)\n",
    "KXSXS = covar_module(test_x, test_x)\n",
    "KXXS = covar_module(train_x, test_x)\n",
    "KXX = covar_module(train_x, train_x)"
   ]
  },
  {
   "cell_type": "code",
   "execution_count": 46,
   "id": "8ce7cac4",
   "metadata": {},
   "outputs": [],
   "source": [
    "L = np.linalg.cholesky(KXX)\n",
    "\n",
    "_y = train_y - mean_module(train_x)\n",
    "_y = _y.flatten()\n",
    "\n",
    "alpha = scipy.linalg.solve_triangular(L.T, scipy.linalg.solve_triangular(L, _y, lower=True))\n",
    "\n",
    "my_predictive_mean = np.reshape(np.einsum('ij,j->i', KXSX, alpha), (len(test_x), len(train_y[0])))+ mean_module(test_x)"
   ]
  },
  {
   "cell_type": "code",
   "execution_count": 47,
   "id": "bfc15020",
   "metadata": {},
   "outputs": [
    {
     "data": {
      "text/plain": [
       "array([[ 2.00484397,  0.01516664,  1.10048519, ...,  0.17710185,\n",
       "         1.24197726,  0.06490117],\n",
       "       [ 2.01523049, -0.05461264,  1.13079773, ...,  0.23289802,\n",
       "         1.22912063,  0.03383619],\n",
       "       [ 2.1398625 ,  0.01624387,  0.99733895, ...,  0.20665823,\n",
       "         1.22758707,  0.05386155],\n",
       "       ...,\n",
       "       [ 2.00951695,  0.03799582,  1.04211064, ...,  0.19116918,\n",
       "         1.22295621,  0.03435663],\n",
       "       [ 2.07722698, -0.06035875,  1.11525458, ...,  0.21065105,\n",
       "         1.24119778,  0.02658227],\n",
       "       [ 1.96833471,  0.01042105,  1.08300666, ...,  0.21059359,\n",
       "         1.21321417,  0.05628117]])"
      ]
     },
     "execution_count": 47,
     "metadata": {},
     "output_type": "execute_result"
    }
   ],
   "source": [
    "out_scaler.inverse_transform(my_predictive_mean)"
   ]
  },
  {
   "cell_type": "code",
   "execution_count": 48,
   "id": "73b2b04e",
   "metadata": {},
   "outputs": [
    {
     "data": {
      "text/plain": [
       "array([[ 2.00484397,  0.01516664,  1.10048519, ...,  0.17710185,\n",
       "         1.24197726,  0.06490117],\n",
       "       [ 2.01523049, -0.05461264,  1.13079773, ...,  0.23289802,\n",
       "         1.22912063,  0.03383619],\n",
       "       [ 2.1398625 ,  0.01624387,  0.99733895, ...,  0.20665823,\n",
       "         1.22758707,  0.05386155],\n",
       "       ...,\n",
       "       [ 2.00951695,  0.03799582,  1.04211064, ...,  0.19116918,\n",
       "         1.22295621,  0.03435663],\n",
       "       [ 2.07722698, -0.06035875,  1.11525458, ...,  0.21065105,\n",
       "         1.24119778,  0.02658227],\n",
       "       [ 1.96833471,  0.01042105,  1.08300666, ...,  0.21059359,\n",
       "         1.21321417,  0.05628117]])"
      ]
     },
     "execution_count": 48,
     "metadata": {},
     "output_type": "execute_result"
    }
   ],
   "source": [
    "my_predictive_mean"
   ]
  },
  {
   "cell_type": "code",
   "execution_count": 49,
   "id": "2734a6e2",
   "metadata": {},
   "outputs": [
    {
     "data": {
      "text/plain": [
       "True"
      ]
     },
     "execution_count": 49,
     "metadata": {},
     "output_type": "execute_result"
    }
   ],
   "source": [
    "np.allclose(my_predictive_mean, Y, atol=0, rtol=1e-11)"
   ]
  },
  {
   "cell_type": "code",
   "execution_count": 50,
   "id": "8b099af1",
   "metadata": {},
   "outputs": [
    {
     "data": {
      "text/plain": [
       "{'mean_module': {'base_means': [{'weights': 'data/mean_module.base_means.0.weights.txt',\n",
       "    'bias': 'data/mean_module.base_means.0.bias.txt'},\n",
       "   {'weights': 'data/mean_module.base_means.1.weights.txt',\n",
       "    'bias': 'data/mean_module.base_means.1.bias.txt'},\n",
       "   {'weights': 'data/mean_module.base_means.2.weights.txt',\n",
       "    'bias': 'data/mean_module.base_means.2.bias.txt'},\n",
       "   {'weights': 'data/mean_module.base_means.3.weights.txt',\n",
       "    'bias': 'data/mean_module.base_means.3.bias.txt'},\n",
       "   {'weights': 'data/mean_module.base_means.4.weights.txt',\n",
       "    'bias': 'data/mean_module.base_means.4.bias.txt'},\n",
       "   {'weights': 'data/mean_module.base_means.5.weights.txt',\n",
       "    'bias': 'data/mean_module.base_means.5.bias.txt'},\n",
       "   {'weights': 'data/mean_module.base_means.6.weights.txt',\n",
       "    'bias': 'data/mean_module.base_means.6.bias.txt'},\n",
       "   {'weights': 'data/mean_module.base_means.7.weights.txt',\n",
       "    'bias': 'data/mean_module.base_means.7.bias.txt'}]},\n",
       " 'covar_module': {'data_covar_module': {'matern': {'nu': 'data/covar_module.data_covar_module.matern.nu.txt',\n",
       "    'lengthscale': 'data/covar_module.data_covar_module.matern.lengthscale.txt'},\n",
       "   'scale': 'data/covar_module.data_covar_module.scale.txt',\n",
       "   'constant': 'data/covar_module.data_covar_module.constant.txt'},\n",
       "  'task_covar_module': {'covar_factor': 'data/covar_module.task_covar_module.covar_factor.txt',\n",
       "   'var': 'data/covar_module.task_covar_module.var.txt'}}}"
      ]
     },
     "execution_count": 50,
     "metadata": {},
     "output_type": "execute_result"
    }
   ],
   "source": [
    "gp_parameters_fname"
   ]
  },
  {
   "cell_type": "code",
   "execution_count": null,
   "id": "71f375d9",
   "metadata": {},
   "outputs": [],
   "source": []
  }
 ],
 "metadata": {
  "kernelspec": {
   "display_name": "massfunction",
   "language": "python",
   "name": "massfunction"
  },
  "language_info": {
   "codemirror_mode": {
    "name": "ipython",
    "version": 3
   },
   "file_extension": ".py",
   "mimetype": "text/x-python",
   "name": "python",
   "nbconvert_exporter": "python",
   "pygments_lexer": "ipython3",
   "version": "3.9.16"
  }
 },
 "nbformat": 4,
 "nbformat_minor": 5
}
