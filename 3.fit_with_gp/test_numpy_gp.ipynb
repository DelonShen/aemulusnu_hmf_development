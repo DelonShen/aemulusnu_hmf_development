{
 "cells": [
  {
   "cell_type": "code",
   "execution_count": 1,
   "id": "8ee2f9b5",
   "metadata": {},
   "outputs": [],
   "source": [
    "import math\n",
    "import torch\n",
    "import gpytorch\n",
    "from matplotlib import pyplot as plt\n",
    "\n",
    "%matplotlib inline\n",
    "%load_ext autoreload\n",
    "%autoreload 2"
   ]
  },
  {
   "cell_type": "code",
   "execution_count": 2,
   "id": "4790dc65",
   "metadata": {},
   "outputs": [],
   "source": [
    "import numpy as np"
   ]
  },
  {
   "cell_type": "code",
   "execution_count": 12,
   "id": "f5d82826",
   "metadata": {},
   "outputs": [],
   "source": [
    "train_x = np.linspace(0, 1, 100)\n",
    "train_y = np.sin(train_x * (2 * np.pi)) + np.random.randn(train_x.size) * np.sqrt(0.04)\n",
    "\n",
    "tensor_train_x = torch.tensor(train_x)\n",
    "tensor_train_y = torch.tensor(train_y)"
   ]
  },
  {
   "cell_type": "code",
   "execution_count": 13,
   "id": "a3658503",
   "metadata": {},
   "outputs": [],
   "source": [
    "class ExactGPModel(gpytorch.models.ExactGP):\n",
    "    def __init__(self, train_x, train_y, likelihood):\n",
    "        super(ExactGPModel, self).__init__(train_x, train_y, likelihood)\n",
    "        self.mean_module = gpytorch.means.ConstantMean()\n",
    "        self.covar_module = gpytorch.kernels.ScaleKernel(gpytorch.kernels.RBFKernel())\n",
    "\n",
    "    def forward(self, x):\n",
    "        mean_x = self.mean_module(x)\n",
    "        covar_x = self.covar_module(x)\n",
    "        return gpytorch.distributions.MultivariateNormal(mean_x, covar_x)"
   ]
  },
  {
   "cell_type": "code",
   "execution_count": 14,
   "id": "143cfcda",
   "metadata": {},
   "outputs": [],
   "source": [
    "\n",
    "# initialize likelihood and model\n",
    "likelihood = gpytorch.likelihoods.GaussianLikelihood()\n",
    "model = ExactGPModel(tensor_train_x, tensor_train_y, likelihood)"
   ]
  },
  {
   "cell_type": "code",
   "execution_count": 16,
   "id": "0a82d71f",
   "metadata": {},
   "outputs": [
    {
     "name": "stdout",
     "output_type": "stream",
     "text": [
      "Iter 1/50 - Loss: 0.942   lengthscale: 0.693   noise: 0.693\n",
      "Iter 2/50 - Loss: 0.911   lengthscale: 0.644   noise: 0.644\n",
      "Iter 3/50 - Loss: 0.877   lengthscale: 0.598   noise: 0.598\n",
      "Iter 4/50 - Loss: 0.840   lengthscale: 0.555   noise: 0.554\n",
      "Iter 5/50 - Loss: 0.797   lengthscale: 0.514   noise: 0.513\n",
      "Iter 6/50 - Loss: 0.750   lengthscale: 0.476   noise: 0.474\n",
      "Iter 7/50 - Loss: 0.699   lengthscale: 0.439   noise: 0.437\n",
      "Iter 8/50 - Loss: 0.646   lengthscale: 0.405   noise: 0.402\n",
      "Iter 9/50 - Loss: 0.596   lengthscale: 0.372   noise: 0.369\n",
      "Iter 10/50 - Loss: 0.551   lengthscale: 0.342   noise: 0.339\n",
      "Iter 11/50 - Loss: 0.509   lengthscale: 0.315   noise: 0.310\n",
      "Iter 12/50 - Loss: 0.472   lengthscale: 0.292   noise: 0.284\n",
      "Iter 13/50 - Loss: 0.436   lengthscale: 0.272   noise: 0.259\n",
      "Iter 14/50 - Loss: 0.402   lengthscale: 0.255   noise: 0.236\n",
      "Iter 15/50 - Loss: 0.369   lengthscale: 0.242   noise: 0.215\n",
      "Iter 16/50 - Loss: 0.336   lengthscale: 0.232   noise: 0.196\n",
      "Iter 17/50 - Loss: 0.303   lengthscale: 0.224   noise: 0.179\n",
      "Iter 18/50 - Loss: 0.271   lengthscale: 0.218   noise: 0.162\n",
      "Iter 19/50 - Loss: 0.239   lengthscale: 0.214   noise: 0.148\n",
      "Iter 20/50 - Loss: 0.208   lengthscale: 0.212   noise: 0.134\n",
      "Iter 21/50 - Loss: 0.178   lengthscale: 0.211   noise: 0.122\n",
      "Iter 22/50 - Loss: 0.148   lengthscale: 0.212   noise: 0.111\n",
      "Iter 23/50 - Loss: 0.120   lengthscale: 0.215   noise: 0.101\n",
      "Iter 24/50 - Loss: 0.093   lengthscale: 0.218   noise: 0.092\n",
      "Iter 25/50 - Loss: 0.068   lengthscale: 0.223   noise: 0.083\n",
      "Iter 26/50 - Loss: 0.045   lengthscale: 0.229   noise: 0.076\n",
      "Iter 27/50 - Loss: 0.025   lengthscale: 0.235   noise: 0.070\n",
      "Iter 28/50 - Loss: 0.007   lengthscale: 0.243   noise: 0.064\n",
      "Iter 29/50 - Loss: -0.008   lengthscale: 0.251   noise: 0.058\n",
      "Iter 30/50 - Loss: -0.020   lengthscale: 0.259   noise: 0.054\n",
      "Iter 31/50 - Loss: -0.029   lengthscale: 0.268   noise: 0.050\n",
      "Iter 32/50 - Loss: -0.035   lengthscale: 0.277   noise: 0.046\n",
      "Iter 33/50 - Loss: -0.037   lengthscale: 0.285   noise: 0.043\n",
      "Iter 34/50 - Loss: -0.037   lengthscale: 0.293   noise: 0.040\n",
      "Iter 35/50 - Loss: -0.035   lengthscale: 0.299   noise: 0.038\n",
      "Iter 36/50 - Loss: -0.032   lengthscale: 0.304   noise: 0.036\n",
      "Iter 37/50 - Loss: -0.028   lengthscale: 0.308   noise: 0.034\n",
      "Iter 38/50 - Loss: -0.024   lengthscale: 0.309   noise: 0.033\n",
      "Iter 39/50 - Loss: -0.020   lengthscale: 0.309   noise: 0.032\n",
      "Iter 40/50 - Loss: -0.018   lengthscale: 0.307   noise: 0.031\n",
      "Iter 41/50 - Loss: -0.016   lengthscale: 0.304   noise: 0.031\n",
      "Iter 42/50 - Loss: -0.016   lengthscale: 0.299   noise: 0.031\n",
      "Iter 43/50 - Loss: -0.016   lengthscale: 0.295   noise: 0.031\n",
      "Iter 44/50 - Loss: -0.018   lengthscale: 0.290   noise: 0.031\n",
      "Iter 45/50 - Loss: -0.019   lengthscale: 0.285   noise: 0.031\n",
      "Iter 46/50 - Loss: -0.022   lengthscale: 0.281   noise: 0.032\n",
      "Iter 47/50 - Loss: -0.024   lengthscale: 0.278   noise: 0.032\n",
      "Iter 48/50 - Loss: -0.026   lengthscale: 0.275   noise: 0.033\n",
      "Iter 49/50 - Loss: -0.029   lengthscale: 0.273   noise: 0.034\n",
      "Iter 50/50 - Loss: -0.031   lengthscale: 0.272   noise: 0.035\n"
     ]
    }
   ],
   "source": [
    "training_iter = 50\n",
    "\n",
    "\n",
    "# Find optimal model hyperparameters\n",
    "model.train()\n",
    "likelihood.train()\n",
    "\n",
    "# Use the adam optimizer\n",
    "optimizer = torch.optim.Adam(model.parameters(), lr=0.1)  # Includes GaussianLikelihood parameters\n",
    "\n",
    "# \"Loss\" for GPs - the marginal log likelihood\n",
    "mll = gpytorch.mlls.ExactMarginalLogLikelihood(likelihood, model)\n",
    "\n",
    "for i in range(training_iter):\n",
    "    # Zero gradients from previous iteration\n",
    "    optimizer.zero_grad()\n",
    "    # Output from model\n",
    "    output = model(tensor_train_x)\n",
    "    # Calc loss and backprop gradients\n",
    "    loss = -mll(output, tensor_train_y)\n",
    "    loss.backward()\n",
    "    print('Iter %d/%d - Loss: %.3f   lengthscale: %.3f   noise: %.3f' % (\n",
    "        i + 1, training_iter, loss.item(),\n",
    "        model.covar_module.base_kernel.lengthscale.item(),\n",
    "        model.likelihood.noise.item()\n",
    "    ))\n",
    "    optimizer.step()"
   ]
  },
  {
   "cell_type": "code",
   "execution_count": 27,
   "id": "8804437c",
   "metadata": {},
   "outputs": [
    {
     "name": "stderr",
     "output_type": "stream",
     "text": [
      "/oak/stanford/orgs/kipac/users/delon/miniconda3/envs/massfunction/lib/python3.9/site-packages/linear_operator/utils/cholesky.py:40: NumericalWarning: A not p.d., added jitter of 1.0e-08 to the diagonal\n",
      "  warnings.warn(\n"
     ]
    }
   ],
   "source": [
    "test_x = np.linspace(0, 1, 51)\n",
    "tensor_test_x = torch.tensor(test_x)\n",
    "\n",
    "model.eval()\n",
    "likelihood.eval()\n",
    "\n",
    "\n",
    "f_preds = model(tensor_test_x)\n",
    "y_preds = likelihood(model(tensor_test_x))\n",
    "\n",
    "f_mean = f_preds.mean\n",
    "f_var = f_preds.variance\n",
    "f_covar = f_preds.covariance_matrix\n",
    "f_samples = f_preds.sample(sample_shape=torch.Size((1000,)))"
   ]
  },
  {
   "cell_type": "code",
   "execution_count": 30,
   "id": "684a3c57",
   "metadata": {},
   "outputs": [
    {
     "data": {
      "image/png": "[encoded data removed]",
      "text/plain": [
       "<Figure size 288x216 with 1 Axes>"
      ]
     },
     "metadata": {
      "needs_background": "light"
     },
     "output_type": "display_data"
    }
   ],
   "source": [
    "# Initialize plot\n",
    "f, ax = plt.subplots(1, 1, figsize=(4, 3))\n",
    "with torch.no_grad():\n",
    "    # Get upper and lower confidence bounds\n",
    "    lower, upper = f_preds.confidence_region()\n",
    "    # Plot training data as black stars\n",
    "    ax.plot(train_x, train_y, 'k*')\n",
    "    # Plot predictive means as blue line\n",
    "    ax.plot(test_x, f_preds.mean.numpy(), 'b')\n",
    "    # Shade between the lower and upper confidence bounds\n",
    "    ax.fill_between(test_x, lower.numpy(), upper.numpy(), alpha=0.5)\n",
    "    ax.set_ylim([-3, 3])\n",
    "    ax.legend(['Observed Data', 'Mean', 'Confidence'])\n"
   ]
  },
  {
   "cell_type": "code",
   "execution_count": 32,
   "id": "e1a565da",
   "metadata": {},
   "outputs": [
    {
     "data": {
      "text/plain": [
       "OrderedDict([('likelihood.noise_covar.raw_noise', tensor([-3.3159])),\n",
       "             ('likelihood.noise_covar.raw_noise_constraint.lower_bound',\n",
       "              tensor(1.0000e-04)),\n",
       "             ('likelihood.noise_covar.raw_noise_constraint.upper_bound',\n",
       "              tensor(inf)),\n",
       "             ('mean_module.raw_constant', tensor(-0.1168)),\n",
       "             ('covar_module.raw_outputscale', tensor(0.8166)),\n",
       "             ('covar_module.base_kernel.raw_lengthscale', tensor([[-1.1638]])),\n",
       "             ('covar_module.base_kernel.raw_lengthscale_constraint.lower_bound',\n",
       "              tensor(0.)),\n",
       "             ('covar_module.base_kernel.raw_lengthscale_constraint.upper_bound',\n",
       "              tensor(inf)),\n",
       "             ('covar_module.raw_outputscale_constraint.lower_bound',\n",
       "              tensor(0.)),\n",
       "             ('covar_module.raw_outputscale_constraint.upper_bound',\n",
       "              tensor(inf))])"
      ]
     },
     "execution_count": 32,
     "metadata": {},
     "output_type": "execute_result"
    }
   ],
   "source": [
    "model.state_dict()"
   ]
  },
  {
   "cell_type": "code",
   "execution_count": 34,
   "id": "fed793df",
   "metadata": {},
   "outputs": [
    {
     "data": {
      "text/plain": [
       "tensor([-1])"
      ]
     },
     "execution_count": 34,
     "metadata": {},
     "output_type": "execute_result"
    }
   ],
   "source": [
    "torch.tensor(-1).unsqueeze(-1)"
   ]
  },
  {
   "cell_type": "code",
   "execution_count": 78,
   "id": "9c4e6f54",
   "metadata": {},
   "outputs": [
    {
     "data": {
      "text/plain": [
       "array([[ -4,  -5],\n",
       "       [ -8, -10],\n",
       "       [-12, -15]])"
      ]
     },
     "execution_count": 78,
     "metadata": {},
     "output_type": "execute_result"
    }
   ],
   "source": [
    "np.einsum('x,y-> xy', [1,2,3], -np.array([4,5]))"
   ]
  },
  {
   "cell_type": "code",
   "execution_count": 80,
   "id": "f0c24c6b",
   "metadata": {},
   "outputs": [
    {
     "data": {
      "text/plain": [
       "array([[-3, -4],\n",
       "       [-2, -3],\n",
       "       [-1, -2]])"
      ]
     },
     "execution_count": 80,
     "metadata": {},
     "output_type": "execute_result"
    }
   ],
   "source": [
    "np.subtract.outer([1,2,3], [4,5])\n"
   ]
  },
  {
   "cell_type": "code",
   "execution_count": 131,
   "id": "c292fcd9",
   "metadata": {},
   "outputs": [
    {
     "data": {
      "text/plain": [
       "2.0"
      ]
     },
     "execution_count": 131,
     "metadata": {},
     "output_type": "execute_result"
    }
   ],
   "source": [
    "np.mean([1,2,3])"
   ]
  },
  {
   "cell_type": "code",
   "execution_count": 139,
   "id": "cb23d585",
   "metadata": {},
   "outputs": [],
   "source": [
    "class numpy_ConstantMean():\n",
    "    def __init__(self, raw_constant):\n",
    "        self.constant = raw_constant\n",
    "    def __call__(self, input):\n",
    "        return self.constant * np.ones_like(input)\n",
    "        \n",
    "class numpy_ScaleKernel():\n",
    "    def __init__(self, base_kernel, scale):\n",
    "        self.base_kernel = base_kernel\n",
    "        self.scale = scale\n",
    "    \n",
    "    def __call__(self, x1, x2):\n",
    "        return self.base_kernel(x1, x2)*self.scale\n",
    "\n",
    "class numpy_RBFKernel():\n",
    "    def __init__(self, lengthscale):\n",
    "        self.lengthscale = lengthscale\n",
    "        \n",
    "    def __call__(self, x1, x2):\n",
    "        x1 = x1 - np.mean(x1)\n",
    "        x2 = x2 - np.mean(x2)\n",
    "        x1_ = x1 / self.lengthscale\n",
    "        x2_ = x2 / self.lengthscale\n",
    "        X = np.subtract.outer(x1_,x2_)\n",
    "        return np.exp(-np.square(X)/(2))"
   ]
  },
  {
   "cell_type": "code",
   "execution_count": 140,
   "id": "4f77d2e2",
   "metadata": {},
   "outputs": [
    {
     "data": {
      "text/plain": [
       "tensor([-0.1168, -0.1168, -0.1168, -0.1168, -0.1168, -0.1168, -0.1168, -0.1168,\n",
       "        -0.1168, -0.1168, -0.1168, -0.1168, -0.1168, -0.1168, -0.1168, -0.1168,\n",
       "        -0.1168, -0.1168, -0.1168, -0.1168, -0.1168, -0.1168, -0.1168, -0.1168,\n",
       "        -0.1168, -0.1168, -0.1168, -0.1168, -0.1168, -0.1168, -0.1168, -0.1168,\n",
       "        -0.1168, -0.1168, -0.1168, -0.1168, -0.1168, -0.1168, -0.1168, -0.1168,\n",
       "        -0.1168, -0.1168, -0.1168, -0.1168, -0.1168, -0.1168, -0.1168, -0.1168,\n",
       "        -0.1168, -0.1168, -0.1168, -0.1168, -0.1168, -0.1168, -0.1168, -0.1168,\n",
       "        -0.1168, -0.1168, -0.1168, -0.1168, -0.1168, -0.1168, -0.1168, -0.1168,\n",
       "        -0.1168, -0.1168, -0.1168, -0.1168, -0.1168, -0.1168, -0.1168, -0.1168,\n",
       "        -0.1168, -0.1168, -0.1168, -0.1168, -0.1168, -0.1168, -0.1168, -0.1168,\n",
       "        -0.1168, -0.1168, -0.1168, -0.1168, -0.1168, -0.1168, -0.1168, -0.1168,\n",
       "        -0.1168, -0.1168, -0.1168, -0.1168, -0.1168, -0.1168, -0.1168, -0.1168,\n",
       "        -0.1168, -0.1168, -0.1168, -0.1168], grad_fn=<ExpandBackward0>)"
      ]
     },
     "execution_count": 140,
     "metadata": {},
     "output_type": "execute_result"
    }
   ],
   "source": [
    "model.mean_module(tensor_train_x)"
   ]
  },
  {
   "cell_type": "code",
   "execution_count": 141,
   "id": "4f772ae9",
   "metadata": {},
   "outputs": [
    {
     "name": "stdout",
     "output_type": "stream",
     "text": [
      "[-0.11676148 -0.11676148 -0.11676148 -0.11676148 -0.11676148 -0.11676148\n",
      " -0.11676148 -0.11676148 -0.11676148 -0.11676148 -0.11676148 -0.11676148\n",
      " -0.11676148 -0.11676148 -0.11676148 -0.11676148 -0.11676148 -0.11676148\n",
      " -0.11676148 -0.11676148 -0.11676148 -0.11676148 -0.11676148 -0.11676148\n",
      " -0.11676148 -0.11676148 -0.11676148 -0.11676148 -0.11676148 -0.11676148\n",
      " -0.11676148 -0.11676148 -0.11676148 -0.11676148 -0.11676148 -0.11676148\n",
      " -0.11676148 -0.11676148 -0.11676148 -0.11676148 -0.11676148 -0.11676148\n",
      " -0.11676148 -0.11676148 -0.11676148 -0.11676148 -0.11676148 -0.11676148\n",
      " -0.11676148 -0.11676148 -0.11676148 -0.11676148 -0.11676148 -0.11676148\n",
      " -0.11676148 -0.11676148 -0.11676148 -0.11676148 -0.11676148 -0.11676148\n",
      " -0.11676148 -0.11676148 -0.11676148 -0.11676148 -0.11676148 -0.11676148\n",
      " -0.11676148 -0.11676148 -0.11676148 -0.11676148 -0.11676148 -0.11676148\n",
      " -0.11676148 -0.11676148 -0.11676148 -0.11676148 -0.11676148 -0.11676148\n",
      " -0.11676148 -0.11676148 -0.11676148 -0.11676148 -0.11676148 -0.11676148\n",
      " -0.11676148 -0.11676148 -0.11676148 -0.11676148 -0.11676148 -0.11676148\n",
      " -0.11676148 -0.11676148 -0.11676148 -0.11676148 -0.11676148 -0.11676148\n",
      " -0.11676148 -0.11676148 -0.11676148 -0.11676148]\n"
     ]
    },
    {
     "data": {
      "text/plain": [
       "True"
      ]
     },
     "execution_count": 141,
     "metadata": {},
     "output_type": "execute_result"
    }
   ],
   "source": [
    "tmp_mean_module = numpy_ConstantMean(model.state_dict()['mean_module.raw_constant'].numpy())\n",
    "print(tmp_mean_module(train_x))\n",
    "\n",
    "np.allclose(model.mean_module(tensor_train_x).detach().numpy(), \n",
    "            tmp_mean_module(train_x) )"
   ]
  },
  {
   "cell_type": "code",
   "execution_count": 142,
   "id": "c201e3d3",
   "metadata": {},
   "outputs": [
    {
     "data": {
      "text/plain": [
       "tensor([[1.1826, 1.1794, 1.1699,  ..., 0.0023, 0.0018, 0.0014],\n",
       "        [1.1818, 1.1818, 1.1755,  ..., 0.0026, 0.0020, 0.0016],\n",
       "        [1.1793, 1.1826, 1.1795,  ..., 0.0030, 0.0023, 0.0018],\n",
       "        ...,\n",
       "        [0.0018, 0.0023, 0.0030,  ..., 1.1795, 1.1826, 1.1793],\n",
       "        [0.0016, 0.0020, 0.0026,  ..., 1.1755, 1.1818, 1.1818],\n",
       "        [0.0014, 0.0018, 0.0023,  ..., 1.1699, 1.1794, 1.1826]],\n",
       "       dtype=torch.float64, grad_fn=<MulBackward0>)"
      ]
     },
     "execution_count": 142,
     "metadata": {},
     "output_type": "execute_result"
    }
   ],
   "source": [
    "model.covar_module(tensor_train_x, tensor_test_x).to_dense()"
   ]
  },
  {
   "cell_type": "code",
   "execution_count": 143,
   "id": "6f80b1e0",
   "metadata": {},
   "outputs": [
    {
     "name": "stdout",
     "output_type": "stream",
     "text": [
      "[[[[0.81661707 0.81649651 0.81613492 ... 0.5811342  0.57287041\n",
      "    0.56455739]]\n",
      "\n",
      "  [[0.81658632 0.81658753 0.81634765 ... 0.58528733 0.57705054\n",
      "    0.56876169]]\n",
      "\n",
      "  [[0.81649406 0.81661706 0.81649893 ... 0.58942575 0.5812174\n",
      "    0.57295414]]\n",
      "\n",
      "  ...\n",
      "\n",
      "  [[0.57295414 0.5812174  0.58942575 ... 0.81649893 0.81661706\n",
      "    0.81649406]]\n",
      "\n",
      "  [[0.56876169 0.57705054 0.58528733 ... 0.81634765 0.81658753\n",
      "    0.81658632]]\n",
      "\n",
      "  [[0.56455739 0.57287041 0.5811342  ... 0.81613492 0.81649651\n",
      "    0.81661707]]]]\n"
     ]
    },
    {
     "data": {
      "text/plain": [
       "False"
      ]
     },
     "execution_count": 143,
     "metadata": {},
     "output_type": "execute_result"
    }
   ],
   "source": [
    "tmp_base_kernel = numpy_RBFKernel(model.state_dict()['covar_module.base_kernel.raw_lengthscale'].numpy())\n",
    "tmp_covar_module = numpy_ScaleKernel(tmp_base_kernel, \n",
    "                                     model.state_dict()['covar_module.raw_outputscale'].numpy())\n",
    "\n",
    "\n",
    "print(tmp_covar_module(train_x, test_x))\n",
    "\n",
    "\n",
    "\n",
    "np.allclose(model.covar_module(tensor_train_x, tensor_test_x).to_dense().detach(),\n",
    "            tmp_covar_module(train_x, test_x) )"
   ]
  },
  {
   "cell_type": "code",
   "execution_count": 144,
   "id": "91e767d5",
   "metadata": {},
   "outputs": [
    {
     "data": {
      "text/plain": [
       "tensor([[1.0000, 0.9973, 0.9892,  ..., 0.0020, 0.0015, 0.0011],\n",
       "        [0.9993, 0.9993, 0.9940,  ..., 0.0022, 0.0017, 0.0013],\n",
       "        [0.9972, 1.0000, 0.9974,  ..., 0.0025, 0.0020, 0.0015],\n",
       "        ...,\n",
       "        [0.0015, 0.0020, 0.0025,  ..., 0.9974, 1.0000, 0.9972],\n",
       "        [0.0013, 0.0017, 0.0022,  ..., 0.9940, 0.9993, 0.9993],\n",
       "        [0.0011, 0.0015, 0.0020,  ..., 0.9892, 0.9973, 1.0000]],\n",
       "       dtype=torch.float64, grad_fn=<RBFCovarianceBackward>)"
      ]
     },
     "execution_count": 144,
     "metadata": {},
     "output_type": "execute_result"
    }
   ],
   "source": [
    "model.covar_module.base_kernel(tensor_train_x, tensor_test_x).to_dense()"
   ]
  },
  {
   "cell_type": "code",
   "execution_count": 145,
   "id": "e6890445",
   "metadata": {},
   "outputs": [
    {
     "data": {
      "text/plain": [
       "array([[[[1.        , 0.99985236, 0.99940957, ..., 0.71163611,\n",
       "          0.70151657, 0.69133675]],\n",
       "\n",
       "        [[0.99996234, 0.99996383, 0.99967007, ..., 0.71672189,\n",
       "          0.70663541, 0.69648518]],\n",
       "\n",
       "        [[0.99984936, 0.99999998, 0.99985533, ..., 0.72178965,\n",
       "          0.711738  , 0.7016191 ]],\n",
       "\n",
       "        ...,\n",
       "\n",
       "        [[0.7016191 , 0.711738  , 0.72178965, ..., 0.99985533,\n",
       "          0.99999998, 0.99984936]],\n",
       "\n",
       "        [[0.69648518, 0.70663541, 0.71672189, ..., 0.99967007,\n",
       "          0.99996383, 0.99996234]],\n",
       "\n",
       "        [[0.69133675, 0.70151657, 0.71163611, ..., 0.99940957,\n",
       "          0.99985236, 1.        ]]]])"
      ]
     },
     "execution_count": 145,
     "metadata": {},
     "output_type": "execute_result"
    }
   ],
   "source": [
    "tmp_base_kernel(train_x, test_x)"
   ]
  },
  {
   "cell_type": "code",
   "execution_count": null,
   "id": "e1012a18",
   "metadata": {},
   "outputs": [],
   "source": []
  }
 ],
 "metadata": {
  "kernelspec": {
   "display_name": "massfunction",
   "language": "python",
   "name": "massfunction"
  },
  "language_info": {
   "codemirror_mode": {
    "name": "ipython",
    "version": 3
   },
   "file_extension": ".py",
   "mimetype": "text/x-python",
   "name": "python",
   "nbconvert_exporter": "python",
   "pygments_lexer": "ipython3",
   "version": "3.9.16"
  }
 },
 "nbformat": 4,
 "nbformat_minor": 5
}
