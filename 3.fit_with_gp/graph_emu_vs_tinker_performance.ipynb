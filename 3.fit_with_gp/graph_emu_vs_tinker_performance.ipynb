{
 "cells": [
  {
   "cell_type": "code",
   "execution_count": 1,
   "id": "e43fbf12",
   "metadata": {},
   "outputs": [],
   "source": [
    "from aemulusnu_hmf_lib.utils import *\n",
    "from aemulusnu_hmf_lib.massfunction import *\n",
    "\n",
    "import numpy as np\n",
    "from tqdm import tqdm, trange\n",
    "import matplotlib.pyplot as plt\n",
    "import os\n",
    "import emcee\n",
    "import sys\n",
    "import numpy as np\n",
    "import pickle"
   ]
  },
  {
   "cell_type": "code",
   "execution_count": 2,
   "id": "d4e09f2a",
   "metadata": {},
   "outputs": [],
   "source": [
    "cosmos_f = open('../data/cosmo_params.pkl', 'rb')\n",
    "cosmo_params = pickle.load(cosmos_f) #cosmo_params is a dict\n",
    "cosmos_f.close()"
   ]
  },
  {
   "cell_type": "code",
   "execution_count": 3,
   "id": "d058da71",
   "metadata": {},
   "outputs": [
    {
     "name": "stdout",
     "output_type": "stream",
     "text": [
      "alist [1.0, 0.953321, 0.866399, 0.787402, 0.715608, 0.65036, 0.620002, 0.591061, 0.563471, 0.537169, 0.512095, 0.488191, 0.403224, 0.366459, 0.302679]\n"
     ]
    }
   ],
   "source": [
    "a_list_fname = '/oak/stanford/orgs/kipac/users/delon/aemulusnu_massfunction/alist.pkl'\n",
    "a_list_f = open(a_list_fname, 'rb')\n",
    "a_list = pickle.load(a_list_f) \n",
    "a_list_f.close()\n",
    "\n",
    "# ###TEMP\n",
    "# a_list = [a_list[0], a_list[1]]\n",
    "# #######\n",
    "\n",
    "\n",
    "print('alist', a_list)"
   ]
  },
  {
   "cell_type": "code",
   "execution_count": 4,
   "id": "e309f4b6",
   "metadata": {},
   "outputs": [
    {
     "name": "stderr",
     "output_type": "stream",
     "text": [
      "100%|██████████| 150/150 [00:01<00:00, 99.88it/s] \n"
     ]
    }
   ],
   "source": [
    "\n",
    "weird_boxes = []\n",
    "errors_emulator = {a:{} for a in a_list}\n",
    "\n",
    "shots_emulator = {a:{} for a in a_list}\n",
    "\n",
    "\n",
    "for box in tqdm(cosmo_params):\n",
    "    if(box in weird_boxes):\n",
    "        continue\n",
    "    if('n50' not in box):\n",
    "        continue \n",
    "    jackknife_covs_fname = '/oak/stanford/orgs/kipac/users/delon/aemulusnu_massfunction/'+box+'_jackknife_covs.pkl'\n",
    "    jackknife_covs_f = open(jackknife_covs_fname, 'rb')\n",
    "    jackknife = pickle.load(jackknife_covs_f)\n",
    "    jackknife_covs_f.close()\n",
    "\n",
    "#     if('n50' in box and eval(box.split('_')[-2])>=45):\n",
    "#         print('skippinig', box)\n",
    "#         continue\n",
    "#     if('n50' in box or eval(box.split('_')[0][3:]) >= 75):\n",
    "#         print('ski', box)\n",
    "    for a in a_list:\n",
    "        plot_data = None\n",
    "        try:\n",
    "            with open(\"/oak/stanford/orgs/kipac/users/delon/aemulusnu_massfunction/%s_%.2f_NvMemulator_loo_output.pkl\"%(box, a), \"rb\") as f:\n",
    "                plot_data = pickle.load(f)\n",
    "        except:\n",
    "            print('skipiping', box)\n",
    "            continue\n",
    "        model = plot_data['tinker_eval']\n",
    "        true  = plot_data['N']\n",
    "        edges = plot_data['edges']\n",
    "        edgeslog10 = np.log10(edges)\n",
    "        assert(len(true) == len(model))\n",
    "        assert(len(true) == len(edges)-1)\n",
    "        jack_error = jackknife[a][1]\n",
    "\n",
    "        for ledge, redge, model_in_bin, true_in_bin, jk_err in zip(edgeslog10, edgeslog10[1:], model, true, np.diag(jack_error)):\n",
    "            ledge = np.round(ledge, decimals=1)\n",
    "            redge = np.round(redge, decimals=1)\n",
    "            if((ledge, redge) not in errors_emulator[a]):\n",
    "                errors_emulator[a][(ledge, redge)] = []\n",
    "                shots_emulator[a][(ledge, redge)] = [] \n",
    "\n",
    "            errors_emulator[a][(ledge, redge)] += [np.abs(model_in_bin-true_in_bin)/true_in_bin]\n",
    "            shots_emulator[a][(ledge, redge)] += [np.sqrt(jk_err) / true_in_bin]"
   ]
  },
  {
   "cell_type": "code",
   "execution_count": 5,
   "id": "d7d6644b",
   "metadata": {},
   "outputs": [
    {
     "name": "stderr",
     "output_type": "stream",
     "text": [
      "100%|██████████| 150/150 [00:01<00:00, 104.84it/s]\n"
     ]
    }
   ],
   "source": [
    "\n",
    "weird_boxes = []\n",
    "errors_tinker = {a:{} for a in a_list}\n",
    "\n",
    "shots_tinker = {a:{} for a in a_list}\n",
    "\n",
    "\n",
    "for box in tqdm(cosmo_params):\n",
    "    if(box in weird_boxes):\n",
    "        continue\n",
    "    if('n50' not in box):\n",
    "        continue \n",
    "    jackknife_covs_fname = '/oak/stanford/orgs/kipac/users/delon/aemulusnu_massfunction/'+box+'_jackknife_covs.pkl'\n",
    "    jackknife_covs_f = open(jackknife_covs_fname, 'rb')\n",
    "    jackknife = pickle.load(jackknife_covs_f)\n",
    "    jackknife_covs_f.close()\n",
    "\n",
    "#     if('n50' in box and eval(box.split('_')[-2])>=45):\n",
    "#         print('skippinig', box)\n",
    "#         continue\n",
    "#     if('n50' in box or eval(box.split('_')[0][3:]) >= 75):\n",
    "#         print('ski', box)\n",
    "    for a in a_list:\n",
    "        plot_data = None\n",
    "        try:\n",
    "            with open(\"/oak/stanford/orgs/kipac/users/delon/aemulusnu_massfunction/%s_%.2f_NvMtinker08costanzi13_loo_output.pkl\"%(box, a), \"rb\") as f:\n",
    "                plot_data = pickle.load(f)\n",
    "        except:\n",
    "            print('skipiping', box)\n",
    "            continue\n",
    "        model = plot_data['tinker_eval']\n",
    "        true  = plot_data['N']\n",
    "        edges = plot_data['edges']\n",
    "        edgeslog10 = np.log10(edges)\n",
    "        assert(len(true) == len(model))\n",
    "        assert(len(true) == len(edges)-1)\n",
    "        jack_error = jackknife[a][1]\n",
    "\n",
    "        for ledge, redge, model_in_bin, true_in_bin, jk_err in zip(edgeslog10, edgeslog10[1:], model, true, np.diag(jack_error)):\n",
    "            ledge = np.round(ledge, decimals=1)\n",
    "            redge = np.round(redge, decimals=1)\n",
    "            if((ledge, redge) not in errors_tinker[a]):\n",
    "                errors_tinker[a][(ledge, redge)] = []\n",
    "                shots_tinker[a][(ledge, redge)] = [] \n",
    "\n",
    "            errors_tinker[a][(ledge, redge)] += [np.abs(model_in_bin-true_in_bin)/true_in_bin]\n",
    "            shots_tinker[a][(ledge, redge)] += [np.sqrt(jk_err) / true_in_bin]"
   ]
  },
  {
   "cell_type": "code",
   "execution_count": 62,
   "id": "0d9ce4a0",
   "metadata": {},
   "outputs": [
    {
     "data": {
      "text/plain": [
       "''"
      ]
     },
     "execution_count": 62,
     "metadata": {},
     "output_type": "execute_result"
    }
   ],
   "source": [
    "plt.rcParams['text.latex.preamble'] "
   ]
  },
  {
   "cell_type": "code",
   "execution_count": 63,
   "id": "eee3f178",
   "metadata": {},
   "outputs": [],
   "source": [
    "plt.show()\n",
    "plt.rcParams['text.usetex'] = True\n",
    "plt.rcParams['font.family'] = 'serif'\n",
    "\n",
    "plt.rcParams['font.size'] = 11\n",
    "plt.rcParams['text.latex.preamble'] =r'\\usepackage{listings}'\n",
    "# import seaborn as sns"
   ]
  },
  {
   "cell_type": "code",
   "execution_count": 106,
   "id": "1b5cf85a",
   "metadata": {},
   "outputs": [],
   "source": [
    "import matplotlib.patheffects as pe"
   ]
  },
  {
   "cell_type": "code",
   "execution_count": 135,
   "id": "ac19df97",
   "metadata": {},
   "outputs": [
    {
     "data": {
      "image/png": "[encoded data removed]",
      "text/plain": [
       "<Figure size 432x576 with 15 Axes>"
      ]
     },
     "metadata": {
      "needs_background": "light"
     },
     "output_type": "display_data"
    }
   ],
   "source": [
    "n_a = len(a_list)\n",
    "fig, axs = plt.subplots(nrows=n_a, ncols=1, figsize=(6,8), sharex=True)\n",
    "fig.text(0.06, 0.5, r'$$\\left|\\frac{\\hat N-N_{\\rm true}}{N_{\\rm true}} \\right|$$'+'\\n\\n', \n",
    "         ha='center', \n",
    "         va='center', \n",
    "         rotation='vertical',\n",
    "        fontsize=11)\n",
    "\n",
    "\n",
    "# big_ax.set_ylabel()\n",
    "\n",
    "\n",
    "import matplotlib as mpl\n",
    "import matplotlib.colors as mcolors\n",
    "rainbow = mpl.colormaps['rainbow'].resampled(n_a)\n",
    "rainbow_list = [mcolors.rgb2hex(rainbow(i)) for i in range(rainbow.N)]\n",
    "# rainbow_list = ['r' for _ in rainbow_list]\n",
    "plt.subplots_adjust(wspace=0, hspace=0)\n",
    "mn = 1e20\n",
    "mx = -1\n",
    "\n",
    "# axs[0].set_title(r'Comparison of \\textbf{Emulator} vs. \\textbf{Tinker+08} Residuals (Tier 2)' + '\\n')\n",
    "axs[0].set_title(r'Residuals of the Halo Mass Function \\textbf{Emulator} (Tier 2)' + '\\n')\n",
    "\n",
    "axs[0].tick_params(top=True, labeltop=True)\n",
    "axs[-1].set_xlabel(r'Mass $[h^{-1}M_\\odot]$')\n",
    "\n",
    "for i, ax in enumerate(axs):\n",
    "    for errors,ccolor in zip([errors_tinker, errors_emulator], ['0.78', rainbow_list[i] ]):\n",
    "        a = a_list[i]\n",
    "\n",
    "\n",
    "        edges = []\n",
    "        y = []\n",
    "        shot_noise = []\n",
    "        yerr = []\n",
    "        for bins in sorted(errors[a]):\n",
    "            if(bins[1]-bins[0] > 0.15): #ignore adaptive bins\n",
    "                continue\n",
    "            if(len(errors[a][bins])<=3): \n",
    "                continue\n",
    "            if(bins[0]< mn):\n",
    "                mn = bins[0]\n",
    "            if(bins[1] > mx):\n",
    "                mx = bins[1]\n",
    "            if(bins[0] not in edges):\n",
    "                edges+=[(bins[0])]\n",
    "            if(bins[1] not in edges):\n",
    "                edges+=[(bins[1])]\n",
    "            y += [np.mean(errors[a][bins])]\n",
    "            shot_noise += [np.median(shots_emulator[a][bins])]\n",
    "            yerr += [np.std(errors[a][bins])]\n",
    "\n",
    "\n",
    "        edge_centers = [1/2*(a+b) for a,b in zip(edges, edges[1:])]\n",
    "        edges = 10**np.array(edges)\n",
    "        edge_centers = 10**np.array(edge_centers)\n",
    "\n",
    "        if(ccolor == '0.78'):\n",
    "            ax.errorbar(x=edge_centers, y=y, yerr = yerr, marker='+', color='%.2f'%(eval(ccolor)-0.3), ls='none')\n",
    "\n",
    "        else:\n",
    "            \n",
    "            ax.step(edges, y+[y[-1]], where='post', linewidth=1, c=ccolor)\n",
    "            ax.errorbar(x=edge_centers, y=y, yerr = yerr, marker='+', color=ccolor, ls='none')\n",
    "            ax.step(edges, shot_noise+[shot_noise[-1]], 'k--', where='post', linewidth=1)\n",
    "            \n",
    "        tmp_data = {\n",
    "            'x': [],\n",
    "            'y1': [],\n",
    "            'y2': []}\n",
    "        bin_idx = 0\n",
    "        for l,r in zip(edges, edges[1:]):\n",
    "            tmp_data['x'] += [l,r]\n",
    "            tmp_data['y1'] += [y[bin_idx]+yerr[bin_idx], y[bin_idx]+yerr[bin_idx]]\n",
    "            tmp_data['y2'] += [y[bin_idx]-yerr[bin_idx], y[bin_idx]-yerr[bin_idx]]\n",
    "            bin_idx+=1\n",
    "\n",
    "        ax.fill_between(**tmp_data,  alpha=.5, color=ccolor)\n",
    "\n",
    "    #     ax.axvline(1e13, ls=(0,(5,20)),lw=0.3, color='k')\n",
    "        ax.axvline(1e14, ls=(0,(5,20)),lw=0.3, color='k')\n",
    "        ax.axvline(1e15, ls=(0,(5,20)),lw=0.3, color='k')\n",
    "\n",
    "        ax.axhline(0.1, ls='-',lw=0.3, color='lightgrey')\n",
    "    #     ax.axhline(-0.0, ls='-',lw=1, color='grey')\n",
    "\n",
    "        ax.axhline(-0.1, ls='-',lw=0.3, color='lightgrey')\n",
    "\n",
    "        ax.set_yticks([ -0.1,0, 0.1,])\n",
    "        ax.text(.01, .9,\n",
    "            s=r'$z=%.2f$'%(scaleToRedshift(a)),\n",
    "            transform=ax.transAxes,\n",
    "            horizontalalignment='left',\n",
    "            verticalalignment='top',\n",
    "                c='black',\n",
    "           fontsize=11)\n",
    "\n",
    "        ax.set_xscale('log')\n",
    "        ax.set_ylim([0,0.199])\n",
    "    #     ax.set_ylabel(r'$\\frac{N_{\\rm Fit}-N_{\\rm data}}{N_{\\rm data}} $')\n",
    "\n",
    "for ax in axs:\n",
    "    ax.set_xlim(10**mn, 10**mx)\n",
    "\n",
    "    \n",
    "    offset = 0.1\n",
    "axs[-2].text(.62, .5 - offset,\n",
    "        s=r'{Tinker+08} ---',\n",
    "        transform=axs[-2].transAxes,\n",
    "        horizontalalignment='left',\n",
    "        verticalalignment='top',\n",
    "            c='black',\n",
    "       fontsize=8)\n",
    "axs[-2].text(.995, .5 - offset,\n",
    "        s=r'\\ttfamily\\lstinline{Dashed Light Grey}',\n",
    "        transform=axs[-2].transAxes,\n",
    "        horizontalalignment='right',\n",
    "        verticalalignment='top',\n",
    "            c='0.48',\n",
    "       fontsize=8)\n",
    "\n",
    "\n",
    "axs[-2].text(.62, .5 + offset,\n",
    "        s=r'{Emulator LOO} ---',\n",
    "        transform=axs[-2].transAxes,\n",
    "        horizontalalignment='left',\n",
    "        verticalalignment='bottom',\n",
    "            c='black',\n",
    "       fontsize=8)\n",
    "\n",
    "primary = 'Solid Colored'\n",
    "rainbow = mpl.colormaps['rainbow'].resampled(len(primary))\n",
    "rainbow_list = [mcolors.rgb2hex(rainbow(i)) for i in range(rainbow.N)]\n",
    "\n",
    "for i in range(len(primary)):\n",
    "    tmp = (list(primary[i:]))\n",
    "    for j in range(1, len(tmp)):\n",
    "        tmp[j] = ' '\n",
    "    tmp += ['.']\n",
    "    tmp = ''.join(tmp)\n",
    "    axs[-2].text(.995, .5 + offset,\n",
    "        s=r'\\ttfamily\\lstinline{%s}'%(tmp),\n",
    "        transform=axs[-2].transAxes,\n",
    "        horizontalalignment='right',\n",
    "        verticalalignment='bottom',\n",
    "            c=rainbow_list[i],\n",
    "       fontsize=8)\n",
    "axs[-1].text(.995, .5 - offset,\n",
    "        s=r'\\texttt{Dashed Black Line} is Median Jackknifed Error',\n",
    "        transform=ax.transAxes,\n",
    "        horizontalalignment='right',\n",
    "        verticalalignment='top',\n",
    "            c='black',\n",
    "       fontsize=8)\n",
    "\n",
    "# plt.savefig('emu_vs_tinker_comparison.pdf', bbox_inches='tight')\n",
    "plt.savefig('emu_performance_tier2.pdf', bbox_inches='tight')\n"
   ]
  },
  {
   "cell_type": "code",
   "execution_count": 127,
   "id": "7c027943",
   "metadata": {},
   "outputs": [
    {
     "data": {
      "text/plain": [
       "array([<Axes: title={'center': 'Comparison of \\\\textbf{Emulator} vs. \\\\textbf{Tinker+08} Residuals (Tier 2)\\n'}>,\n",
       "       <Axes: >, <Axes: >, <Axes: >, <Axes: >, <Axes: >, <Axes: >,\n",
       "       <Axes: >, <Axes: >, <Axes: >, <Axes: >, <Axes: >, <Axes: >,\n",
       "       <Axes: >, <Axes: xlabel='Mass $[h^{-1}M_\\\\odot]$'>], dtype=object)"
      ]
     },
     "execution_count": 127,
     "metadata": {},
     "output_type": "execute_result"
    }
   ],
   "source": [
    "axs"
   ]
  },
  {
   "cell_type": "code",
   "execution_count": null,
   "id": "8d1c1abf",
   "metadata": {},
   "outputs": [],
   "source": []
  }
 ],
 "metadata": {
  "kernelspec": {
   "display_name": "massfunction",
   "language": "python",
   "name": "massfunction"
  },
  "language_info": {
   "codemirror_mode": {
    "name": "ipython",
    "version": 3
   },
   "file_extension": ".py",
   "mimetype": "text/x-python",
   "name": "python",
   "nbconvert_exporter": "python",
   "pygments_lexer": "ipython3",
   "version": "3.9.16"
  }
 },
 "nbformat": 4,
 "nbformat_minor": 5
}
