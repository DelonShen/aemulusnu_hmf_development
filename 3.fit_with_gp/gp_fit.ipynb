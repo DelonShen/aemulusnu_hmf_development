{
 "cells": [
  {
   "cell_type": "code",
   "execution_count": 1,
   "id": "d7ef5d3b",
   "metadata": {},
   "outputs": [],
   "source": [
    "import math\n",
    "from scipy.integrate import quad, fixed_quad\n",
    "import matplotlib.pyplot as plt\n",
    "import pickle\n",
    "import numpy as np\n",
    "import functools\n",
    "import sys\n",
    "from tqdm import tqdm, trange\n",
    "from aemulusnu_massfunction.utils import *\n",
    "from aemulusnu_massfunction.emulator import *\n",
    "\n",
    "from classy import Class\n",
    "\n",
    "import math\n",
    "import torch\n",
    "import gpytorch\n",
    "from matplotlib import pyplot as plt\n"
   ]
  },
  {
   "cell_type": "code",
   "execution_count": 2,
   "id": "e9320cb0",
   "metadata": {},
   "outputs": [
    {
     "name": "stdout",
     "output_type": "stream",
     "text": [
      "Leaving out Box0_1400\n",
      "alist [1.0, 0.953321, 0.866399, 0.787402, 0.715608, 0.65036, 0.620002, 0.591061, 0.563471, 0.537169, 0.512095, 0.488191, 0.403224, 0.366459]\n"
     ]
    },
    {
     "name": "stderr",
     "output_type": "stream",
     "text": [
      " 67%|██████▋   | 101/150 [01:05<00:32,  1.53it/s]"
     ]
    },
    {
     "name": "stdout",
     "output_type": "stream",
     "text": [
      "{'ns': 0.97000003, 'H0': 67.0, 'w0': -1.0, 'ombh2': 0.0223, 'omch2': 0.12, 'nu_mass_ev': 0.07071068, '10^9 As': 2.10100315}\n"
     ]
    },
    {
     "name": "stderr",
     "output_type": "stream",
     "text": [
      "100%|██████████| 150/150 [01:36<00:00,  1.56it/s]\n"
     ]
    }
   ],
   "source": [
    "leave_out_box = 'Box0_1400'\n",
    "print('Leaving out', leave_out_box)\n",
    "\n",
    "cosmos_f = open('../data/cosmo_params.pkl', 'rb')\n",
    "cosmo_params = pickle.load(cosmos_f) #cosmo_params is a dict\n",
    "cosmos_f.close()\n",
    "\n",
    "a_list_fname = '/oak/stanford/orgs/kipac/users/delon/aemulusnu_massfunction/alist.pkl'\n",
    "a_list_f = open(a_list_fname, 'rb')\n",
    "a_list = pickle.load(a_list_f) \n",
    "a_list_f.close()\n",
    "\n",
    "###TMP\n",
    "# a_list = [a_list[0], a_list[1]]\n",
    "##TMP\n",
    "\n",
    "\n",
    "print('alist', a_list)\n",
    "\n",
    "weird_boxes = ['Box63_1400', 'Box35_1400', 'Box_n50_38_1400', 'Box5_1400']\n",
    "\n",
    "\n",
    "errors = {a:{} for a in a_list}\n",
    "X = []\n",
    "Y = []\n",
    "Xlo = []\n",
    "Ylo = []\n",
    "z_to_a = {}\n",
    "a_to_z = {}\n",
    "kt = np.logspace(-3, 1, 100) # h/Mpc\n",
    "for box in tqdm(cosmo_params):\n",
    "    if(box in weird_boxes):\n",
    "        continue\n",
    "    curr_cosmo = cosmo_params[box]\n",
    "    if(box == 'Box_n50_0_1400'):\n",
    "        print(curr_cosmo)\n",
    "\n",
    "    curr_cosmo_values = [curr_cosmo[curr_key] for curr_key in key_ordering]\n",
    "\n",
    "    h = curr_cosmo['H0']/100\n",
    "\n",
    "    cosmo_dict = {\n",
    "        'h': h,\n",
    "        'Omega_b': curr_cosmo['ombh2'] / h**2,\n",
    "        'Omega_cdm': curr_cosmo['omch2'] / h**2,\n",
    "        'N_ur': 0.00641,\n",
    "        'N_ncdm': 1,\n",
    "        'output': 'mPk mTk',\n",
    "        'z_pk': '0.0,99',\n",
    "        'P_k_max_h/Mpc': 20.,\n",
    "        'm_ncdm': curr_cosmo['nu_mass_ev']/3,\n",
    "        'deg_ncdm': 3,\n",
    "        'T_cmb': 2.7255,\n",
    "        'A_s': curr_cosmo['10^9 As'] * 10**-9,\n",
    "        'n_s': curr_cosmo['ns'],\n",
    "        'Omega_Lambda': 0.0,\n",
    "        'w0_fld': curr_cosmo['w0'],\n",
    "        'wa_fld': 0.0,\n",
    "        'cs2_fld': 1.0,\n",
    "        'fluid_equation_of_state': \"CLP\"\n",
    "    }\n",
    "\n",
    "    pkclass = Class()\n",
    "    pkclass.set(cosmo_dict)\n",
    "    pkclass.compute()\n",
    "\n",
    "#     mass_function = MassFunction(curr_cosmo)\n",
    "\n",
    "    for a in a_list:\n",
    "        z = scaleToRedshift(a)\n",
    "        z_to_a[z] = a\n",
    "        a_to_z[a] = z\n",
    "        pk_m_lin = np.array(\n",
    "            [\n",
    "                pkclass.pk_lin(ki, np.array([z]))*h**3 #units of Mpc^3/h^3\n",
    "                for ki in kt * h # 1 / Mpc\n",
    "            ]\n",
    "        )\n",
    "        sigma8 = pkclass.sigma(8, z, h_units=True)\n",
    "\n",
    "#         m8 = mass_function.R_to_M(8, redshiftToScale(z)) #8 h^-1 Mpc as mass\n",
    "#         sigma8_other = np.exp(mass_function.f_logsigma_logM(z, np.log(m8)))[0][0] #sigma8 at current redshift\n",
    "#         print(sigma8, sigma8_other)\n",
    "#         assert(np.abs((sigma8 - sigma8_other)/sigma8) < 1e-3)\n",
    "\n",
    "        if(leave_out_box == box):\n",
    "            Xlo += [curr_cosmo_values + [a, sigma8]]\n",
    "        else:\n",
    "            X+= [curr_cosmo_values + [a, sigma8]]\n",
    "        with open(\"/oak/stanford/orgs/kipac/users/delon/aemulusnu_massfunction/%s_%.2f_params.pkl\"%(box, a), \"rb\") as f:\n",
    "            MLE_params = pickle.load(f)\n",
    "            param_values = list(MLE_params.values())\n",
    "            if(leave_out_box == box):\n",
    "                Ylo += [param_values]\n",
    "            else:\n",
    "                Y+= [param_values]"
   ]
  },
  {
   "cell_type": "code",
   "execution_count": 3,
   "id": "588c62eb",
   "metadata": {},
   "outputs": [
    {
     "name": "stdout",
     "output_type": "stream",
     "text": [
      "[[ 1.47405133e+00  1.00945830e+00  5.97295990e+01 -1.35573566e+00\n",
      "   1.74071000e-02  1.33119850e-01  3.65472100e-02  1.00000000e+00\n",
      "   7.80353728e-01]\n",
      " [ 1.47405133e+00  1.00945830e+00  5.97295990e+01 -1.35573566e+00\n",
      "   1.74071000e-02  1.33119850e-01  3.65472100e-02  9.53321000e-01\n",
      "   7.56670762e-01]\n",
      " [ 1.47405133e+00  1.00945830e+00  5.97295990e+01 -1.35573566e+00\n",
      "   1.74071000e-02  1.33119850e-01  3.65472100e-02  8.66399000e-01\n",
      "   7.07697045e-01]\n",
      " [ 1.47405133e+00  1.00945830e+00  5.97295990e+01 -1.35573566e+00\n",
      "   1.74071000e-02  1.33119850e-01  3.65472100e-02  7.87402000e-01\n",
      "   6.57663458e-01]\n",
      " [ 1.47405133e+00  1.00945830e+00  5.97295990e+01 -1.35573566e+00\n",
      "   1.74071000e-02  1.33119850e-01  3.65472100e-02  7.15608000e-01\n",
      "   6.07833684e-01]\n",
      " [ 1.47405133e+00  1.00945830e+00  5.97295990e+01 -1.35573566e+00\n",
      "   1.74071000e-02  1.33119850e-01  3.65472100e-02  6.50360000e-01\n",
      "   5.59294918e-01]\n",
      " [ 1.47405133e+00  1.00945830e+00  5.97295990e+01 -1.35573566e+00\n",
      "   1.74071000e-02  1.33119850e-01  3.65472100e-02  6.20002000e-01\n",
      "   5.35776982e-01]\n",
      " [ 1.47405133e+00  1.00945830e+00  5.97295990e+01 -1.35573566e+00\n",
      "   1.74071000e-02  1.33119850e-01  3.65472100e-02  5.91061000e-01\n",
      "   5.12866128e-01]\n",
      " [ 1.47405133e+00  1.00945830e+00  5.97295990e+01 -1.35573566e+00\n",
      "   1.74071000e-02  1.33119850e-01  3.65472100e-02  5.63471000e-01\n",
      "   4.90620971e-01]\n",
      " [ 1.47405133e+00  1.00945830e+00  5.97295990e+01 -1.35573566e+00\n",
      "   1.74071000e-02  1.33119850e-01  3.65472100e-02  5.37169000e-01\n",
      "   4.69083831e-01]\n",
      " [ 1.47405133e+00  1.00945830e+00  5.97295990e+01 -1.35573566e+00\n",
      "   1.74071000e-02  1.33119850e-01  3.65472100e-02  5.12095000e-01\n",
      "   4.48283895e-01]\n",
      " [ 1.47405133e+00  1.00945830e+00  5.97295990e+01 -1.35573566e+00\n",
      "   1.74071000e-02  1.33119850e-01  3.65472100e-02  4.88191000e-01\n",
      "   4.28237394e-01]\n",
      " [ 1.47405133e+00  1.00945830e+00  5.97295990e+01 -1.35573566e+00\n",
      "   1.74071000e-02  1.33119850e-01  3.65472100e-02  4.03224000e-01\n",
      "   3.55621622e-01]\n",
      " [ 1.47405133e+00  1.00945830e+00  5.97295990e+01 -1.35573566e+00\n",
      "   1.74071000e-02  1.33119850e-01  3.65472100e-02  3.66459000e-01\n",
      "   3.23709942e-01]]\n",
      "[[0.52366994 1.09547607 2.3437498  1.3182055 ]\n",
      " [0.51329853 1.03197775 2.34324292 1.32596896]\n",
      " [0.49536002 0.96778188 2.34496639 1.33360737]\n",
      " [0.47943061 0.91214449 2.3458574  1.33241795]\n",
      " [0.46773914 0.88586078 2.34519597 1.32794044]\n",
      " [0.45838548 0.90110362 2.34064134 1.3194975 ]\n",
      " [0.4541689  0.91489244 2.33646691 1.31238792]\n",
      " [0.44769485 0.91555842 2.33411037 1.30682602]\n",
      " [0.44467243 0.92901114 2.33001957 1.30313287]\n",
      " [0.4402289  0.93393289 2.32786741 1.29892697]\n",
      " [0.4361129  0.94271701 2.32501985 1.29431988]\n",
      " [0.43085981 0.94523602 2.3238371  1.28936231]\n",
      " [0.41121006 0.94171852 2.32516932 1.27244211]\n",
      " [0.41044486 0.93881177 2.32614773 1.276885  ]]\n",
      "(2030, 9)\n",
      "(2030, 4)\n",
      "scaling input\n",
      "(2030, 9)\n",
      "scaling output\n",
      "(2030, 4)\n"
     ]
    }
   ],
   "source": [
    "X = np.array(X)\n",
    "Y = np.array(Y)\n",
    "Xlo = np.array(Xlo)\n",
    "Ylo = np.array(Ylo)\n",
    "print(Xlo)\n",
    "print(Ylo)\n",
    "\n",
    "print(X.shape)\n",
    "print(Y.shape)\n",
    "################################\n",
    "print('scaling input')\n",
    "in_scaler = Normalizer()\n",
    "in_scaler.fit(X)\n",
    "X = in_scaler.transform(X)\n",
    "Xlo = in_scaler.transform(Xlo)\n",
    "print(X.shape)\n",
    "\n",
    "\n",
    "print('scaling output')\n",
    "out_scaler = Standardizer()\n",
    "out_scaler.fit(Y)\n",
    "Y = out_scaler.transform(Y)\n",
    "print(Y.shape)"
   ]
  },
  {
   "cell_type": "code",
   "execution_count": 4,
   "id": "f912cb30",
   "metadata": {},
   "outputs": [],
   "source": [
    "X_train = torch.from_numpy(X).float()\n",
    "Y_train = torch.from_numpy(Y).float()\n",
    "n_tasks = len(Y_train[0])\n",
    "\n",
    "\n",
    "likelihood = gpytorch.likelihoods.MultitaskGaussianLikelihood(num_tasks=n_tasks)\n",
    "model = MultitaskGPModel(X_train, Y_train, likelihood)\n",
    "\n",
    "\n",
    "# \"Loss\" for GPs - the marginal log likelihood\n",
    "mll = gpytorch.mlls.ExactMarginalLogLikelihood(likelihood, model)\n",
    "optimizer = torch.optim.AdamW(model.parameters(), lr=0.1, amsgrad=True)  # Includes GaussianLikelihood parameters"
   ]
  },
  {
   "cell_type": "code",
   "execution_count": 5,
   "id": "88b0ef61",
   "metadata": {},
   "outputs": [
    {
     "name": "stderr",
     "output_type": "stream",
     "text": [
      "\r",
      "Iteration:   0%|          | 0/300 [00:00<?, ?it/s]"
     ]
    }
   ],
   "source": [
    "model.train()\n",
    "likelihood.train()\n",
    "# Set initial learning rate\n",
    "lr = 0.1\n",
    "\n",
    "# Create the optimizer with the initial learning rate\n",
    "optimizer = torch.optim.AdamW(model.parameters(), lr=0.1, amsgrad=True)  # Includes GaussianLikelihood parameters\n",
    "best_model = None\n",
    "best_loss = float('inf')\n",
    "\n",
    "training_iterations = 300\n",
    "epochs_iter = tqdm(range(training_iterations), desc=\"Iteration\")"
   ]
  },
  {
   "cell_type": "code",
   "execution_count": 6,
   "id": "6a014769",
   "metadata": {},
   "outputs": [
    {
     "name": "stderr",
     "output_type": "stream",
     "text": [
      "\n",
      "Iteration:   0%|          | 0/300 [00:00<?, ?it/s]\u001b[A\n",
      "\n",
      "Iteration:   0%|          | 0/300 [00:00<?, ?it/s, loss=2.89]\u001b[A\n",
      "Iteration:   0%|          | 1/300 [00:01<08:58,  1.80s/it, loss=2.89]\u001b[A"
     ]
    },
    {
     "name": "stdout",
     "output_type": "stream",
     "text": [
      "Iter 1/300 - Loss: 2.8885\n"
     ]
    },
    {
     "name": "stderr",
     "output_type": "stream",
     "text": [
      "\n",
      "Iteration:   0%|          | 1/300 [00:02<08:58,  1.80s/it, loss=2.55]\u001b[A\n",
      "Iteration:   1%|          | 2/300 [00:03<09:57,  2.00s/it, loss=2.55]\u001b[A"
     ]
    },
    {
     "name": "stdout",
     "output_type": "stream",
     "text": [
      "Iter 2/300 - Loss: 2.5515\n"
     ]
    },
    {
     "name": "stderr",
     "output_type": "stream",
     "text": [
      "\n",
      "Iteration:   1%|          | 2/300 [00:04<09:57,  2.00s/it, loss=2.24]\u001b[A\n",
      "Iteration:   1%|          | 3/300 [00:05<09:47,  1.98s/it, loss=2.24]\u001b[A"
     ]
    },
    {
     "name": "stdout",
     "output_type": "stream",
     "text": [
      "Iter 3/300 - Loss: 2.2442\n"
     ]
    },
    {
     "name": "stderr",
     "output_type": "stream",
     "text": [
      "\n",
      "Iteration:   1%|          | 3/300 [00:06<09:47,  1.98s/it, loss=1.97]\u001b[A\n",
      "Iteration:   1%|▏         | 4/300 [00:07<09:29,  1.93s/it, loss=1.97]\u001b[A"
     ]
    },
    {
     "name": "stdout",
     "output_type": "stream",
     "text": [
      "Iter 4/300 - Loss: 1.9693\n"
     ]
    },
    {
     "name": "stderr",
     "output_type": "stream",
     "text": [
      "\n",
      "Iteration:   1%|▏         | 4/300 [00:08<09:29,  1.93s/it, loss=1.73]\u001b[A\n",
      "Iteration:   2%|▏         | 5/300 [00:09<09:18,  1.89s/it, loss=1.73]\u001b[A"
     ]
    },
    {
     "name": "stdout",
     "output_type": "stream",
     "text": [
      "Iter 5/300 - Loss: 1.7265\n"
     ]
    },
    {
     "name": "stderr",
     "output_type": "stream",
     "text": [
      "\n",
      "Iteration:   2%|▏         | 5/300 [00:10<09:18,  1.89s/it, loss=1.51]\u001b[A\n",
      "Iteration:   2%|▏         | 6/300 [00:11<09:06,  1.86s/it, loss=1.51]\u001b[A"
     ]
    },
    {
     "name": "stdout",
     "output_type": "stream",
     "text": [
      "Iter 6/300 - Loss: 1.5145\n"
     ]
    },
    {
     "name": "stderr",
     "output_type": "stream",
     "text": [
      "\n",
      "Iteration:   2%|▏         | 6/300 [00:12<09:06,  1.86s/it, loss=1.33]\u001b[A\n",
      "Iteration:   2%|▏         | 7/300 [00:13<09:07,  1.87s/it, loss=1.33]\u001b[A"
     ]
    },
    {
     "name": "stdout",
     "output_type": "stream",
     "text": [
      "Iter 7/300 - Loss: 1.3336\n"
     ]
    },
    {
     "name": "stderr",
     "output_type": "stream",
     "text": [
      "\n",
      "Iteration:   2%|▏         | 7/300 [00:14<09:07,  1.87s/it, loss=1.19]\u001b[A\n",
      "Iteration:   3%|▎         | 8/300 [00:14<08:51,  1.82s/it, loss=1.19]\u001b[A"
     ]
    },
    {
     "name": "stdout",
     "output_type": "stream",
     "text": [
      "Iter 8/300 - Loss: 1.1863\n"
     ]
    },
    {
     "name": "stderr",
     "output_type": "stream",
     "text": [
      "\n",
      "Iteration:   3%|▎         | 8/300 [00:15<08:51,  1.82s/it, loss=1.08]\u001b[A\n",
      "Iteration:   3%|▎         | 9/300 [00:16<08:56,  1.84s/it, loss=1.08]\u001b[A"
     ]
    },
    {
     "name": "stdout",
     "output_type": "stream",
     "text": [
      "Iter 9/300 - Loss: 1.0761\n"
     ]
    },
    {
     "name": "stderr",
     "output_type": "stream",
     "text": [
      "\n",
      "Iteration:   3%|▎         | 9/300 [00:17<08:56,  1.84s/it, loss=1]   \u001b[A\n",
      "Iteration:   3%|▎         | 10/300 [00:18<08:43,  1.81s/it, loss=1]\u001b[A"
     ]
    },
    {
     "name": "stdout",
     "output_type": "stream",
     "text": [
      "Iter 10/300 - Loss: 1.0034\n"
     ]
    },
    {
     "name": "stderr",
     "output_type": "stream",
     "text": [
      "\n",
      "Iteration:   3%|▎         | 10/300 [00:19<08:43,  1.81s/it, loss=0.961]\u001b[A\n",
      "Iteration:   4%|▎         | 11/300 [00:20<08:42,  1.81s/it, loss=0.961]\u001b[A"
     ]
    },
    {
     "name": "stdout",
     "output_type": "stream",
     "text": [
      "Iter 11/300 - Loss: 0.9609\n"
     ]
    },
    {
     "name": "stderr",
     "output_type": "stream",
     "text": [
      "\n",
      "Iteration:   4%|▎         | 11/300 [00:21<08:42,  1.81s/it, loss=0.936]\u001b[A\n",
      "Iteration:   4%|▍         | 12/300 [00:22<08:52,  1.85s/it, loss=0.936]\u001b[A"
     ]
    },
    {
     "name": "stdout",
     "output_type": "stream",
     "text": [
      "Iter 12/300 - Loss: 0.9362\n"
     ]
    },
    {
     "name": "stderr",
     "output_type": "stream",
     "text": [
      "\n",
      "Iteration:   4%|▍         | 12/300 [00:23<08:52,  1.85s/it, loss=0.918]\u001b[A\n",
      "Iteration:   4%|▍         | 13/300 [00:24<08:44,  1.83s/it, loss=0.918]\u001b[A"
     ]
    },
    {
     "name": "stdout",
     "output_type": "stream",
     "text": [
      "Iter 13/300 - Loss: 0.9179\n"
     ]
    },
    {
     "name": "stderr",
     "output_type": "stream",
     "text": [
      "\n",
      "Iteration:   4%|▍         | 13/300 [00:25<08:44,  1.83s/it, loss=0.898]\u001b[A\n",
      "Iteration:   5%|▍         | 14/300 [00:26<08:58,  1.88s/it, loss=0.898]\u001b[A"
     ]
    },
    {
     "name": "stdout",
     "output_type": "stream",
     "text": [
      "Iter 14/300 - Loss: 0.8977\n"
     ]
    },
    {
     "name": "stderr",
     "output_type": "stream",
     "text": [
      "\n",
      "Iteration:   5%|▍         | 14/300 [00:27<08:58,  1.88s/it, loss=0.871]\u001b[A\n",
      "Iteration:   5%|▌         | 15/300 [00:27<08:49,  1.86s/it, loss=0.871]\u001b[A"
     ]
    },
    {
     "name": "stdout",
     "output_type": "stream",
     "text": [
      "Iter 15/300 - Loss: 0.8705\n"
     ]
    },
    {
     "name": "stderr",
     "output_type": "stream",
     "text": [
      "\n",
      "Iteration:   5%|▌         | 15/300 [00:28<08:49,  1.86s/it, loss=0.834]\u001b[A\n",
      "Iteration:   5%|▌         | 16/300 [00:29<08:38,  1.83s/it, loss=0.834]\u001b[A"
     ]
    },
    {
     "name": "stdout",
     "output_type": "stream",
     "text": [
      "Iter 16/300 - Loss: 0.8336\n"
     ]
    },
    {
     "name": "stderr",
     "output_type": "stream",
     "text": [
      "\n",
      "Iteration:   5%|▌         | 16/300 [00:31<08:38,  1.83s/it, loss=0.786]\u001b[A\n",
      "Iteration:   6%|▌         | 17/300 [00:32<09:45,  2.07s/it, loss=0.786]\u001b[A"
     ]
    },
    {
     "name": "stdout",
     "output_type": "stream",
     "text": [
      "Iter 17/300 - Loss: 0.7858\n"
     ]
    },
    {
     "name": "stderr",
     "output_type": "stream",
     "text": [
      "\n",
      "Iteration:   6%|▌         | 17/300 [00:33<09:45,  2.07s/it, loss=0.728]\u001b[A\n",
      "Iteration:   6%|▌         | 18/300 [00:34<09:19,  1.98s/it, loss=0.728]\u001b[A"
     ]
    },
    {
     "name": "stdout",
     "output_type": "stream",
     "text": [
      "Iter 18/300 - Loss: 0.7275\n"
     ]
    },
    {
     "name": "stderr",
     "output_type": "stream",
     "text": [
      "\n",
      "Iteration:   6%|▌         | 18/300 [00:34<09:19,  1.98s/it, loss=0.662]\u001b[A\n",
      "Iteration:   6%|▋         | 19/300 [00:35<08:55,  1.91s/it, loss=0.662]\u001b[A"
     ]
    },
    {
     "name": "stdout",
     "output_type": "stream",
     "text": [
      "Iter 19/300 - Loss: 0.6616\n"
     ]
    },
    {
     "name": "stderr",
     "output_type": "stream",
     "text": [
      "\n",
      "Iteration:   6%|▋         | 19/300 [00:36<08:55,  1.91s/it, loss=0.593]\u001b[A\n",
      "Iteration:   7%|▋         | 20/300 [00:37<08:38,  1.85s/it, loss=0.593]\u001b[A"
     ]
    },
    {
     "name": "stdout",
     "output_type": "stream",
     "text": [
      "Iter 20/300 - Loss: 0.5925\n"
     ]
    },
    {
     "name": "stderr",
     "output_type": "stream",
     "text": [
      "\n",
      "Iteration:   7%|▋         | 20/300 [00:38<08:38,  1.85s/it, loss=0.525]\u001b[A\n",
      "Iteration:   7%|▋         | 21/300 [00:39<08:30,  1.83s/it, loss=0.525]\u001b[A"
     ]
    },
    {
     "name": "stdout",
     "output_type": "stream",
     "text": [
      "Iter 21/300 - Loss: 0.5253\n"
     ]
    },
    {
     "name": "stderr",
     "output_type": "stream",
     "text": [
      "\n",
      "Iteration:   7%|▋         | 21/300 [00:40<08:30,  1.83s/it, loss=0.464]\u001b[A\n",
      "Iteration:   7%|▋         | 22/300 [00:41<08:22,  1.81s/it, loss=0.464]\u001b[A"
     ]
    },
    {
     "name": "stdout",
     "output_type": "stream",
     "text": [
      "Iter 22/300 - Loss: 0.4637\n"
     ]
    },
    {
     "name": "stderr",
     "output_type": "stream",
     "text": [
      "\n",
      "Iteration:   7%|▋         | 22/300 [00:41<08:22,  1.81s/it, loss=0.409]\u001b[A\n",
      "Iteration:   8%|▊         | 23/300 [00:42<08:13,  1.78s/it, loss=0.409]\u001b[A"
     ]
    },
    {
     "name": "stdout",
     "output_type": "stream",
     "text": [
      "Iter 23/300 - Loss: 0.4091\n"
     ]
    },
    {
     "name": "stderr",
     "output_type": "stream",
     "text": [
      "\n",
      "Iteration:   8%|▊         | 23/300 [00:43<08:13,  1.78s/it, loss=0.361]\u001b[A\n",
      "Iteration:   8%|▊         | 24/300 [00:44<08:06,  1.76s/it, loss=0.361]\u001b[A"
     ]
    },
    {
     "name": "stdout",
     "output_type": "stream",
     "text": [
      "Iter 24/300 - Loss: 0.3615\n"
     ]
    },
    {
     "name": "stderr",
     "output_type": "stream",
     "text": [
      "\n",
      "Iteration:   8%|▊         | 24/300 [00:45<08:06,  1.76s/it, loss=0.32] \u001b[A\n",
      "Iteration:   8%|▊         | 25/300 [00:46<08:05,  1.76s/it, loss=0.32]\u001b[A"
     ]
    },
    {
     "name": "stdout",
     "output_type": "stream",
     "text": [
      "Iter 25/300 - Loss: 0.3196\n"
     ]
    },
    {
     "name": "stderr",
     "output_type": "stream",
     "text": [
      "\n",
      "Iteration:   8%|▊         | 25/300 [00:47<08:05,  1.76s/it, loss=0.282]\u001b[A\n",
      "Iteration:   9%|▊         | 26/300 [00:48<08:04,  1.77s/it, loss=0.282]\u001b[A"
     ]
    },
    {
     "name": "stdout",
     "output_type": "stream",
     "text": [
      "Iter 26/300 - Loss: 0.2815\n"
     ]
    },
    {
     "name": "stderr",
     "output_type": "stream",
     "text": [
      "\n",
      "Iteration:   9%|▊         | 26/300 [00:48<08:04,  1.77s/it, loss=0.245]\u001b[A\n",
      "Iteration:   9%|▉         | 27/300 [00:49<08:02,  1.77s/it, loss=0.245]\u001b[A"
     ]
    },
    {
     "name": "stdout",
     "output_type": "stream",
     "text": [
      "Iter 27/300 - Loss: 0.2450\n"
     ]
    },
    {
     "name": "stderr",
     "output_type": "stream",
     "text": [
      "\n",
      "Iteration:   9%|▉         | 27/300 [00:50<08:02,  1.77s/it, loss=0.208]\u001b[A\n",
      "Iteration:   9%|▉         | 28/300 [00:51<08:26,  1.86s/it, loss=0.208]\u001b[A"
     ]
    },
    {
     "name": "stdout",
     "output_type": "stream",
     "text": [
      "Iter 28/300 - Loss: 0.2082\n"
     ]
    },
    {
     "name": "stderr",
     "output_type": "stream",
     "text": [
      "\n",
      "Iteration:   9%|▉         | 28/300 [00:52<08:26,  1.86s/it, loss=0.17] \u001b[A\n",
      "Iteration:  10%|▉         | 29/300 [00:53<08:17,  1.83s/it, loss=0.17]\u001b[A"
     ]
    },
    {
     "name": "stdout",
     "output_type": "stream",
     "text": [
      "Iter 29/300 - Loss: 0.1700\n"
     ]
    },
    {
     "name": "stderr",
     "output_type": "stream",
     "text": [
      "\n",
      "Iteration:  10%|▉         | 29/300 [00:54<08:17,  1.83s/it, loss=0.13]\u001b[A\n",
      "Iteration:  10%|█         | 30/300 [00:55<08:08,  1.81s/it, loss=0.13]\u001b[A"
     ]
    },
    {
     "name": "stdout",
     "output_type": "stream",
     "text": [
      "Iter 30/300 - Loss: 0.1299\n"
     ]
    },
    {
     "name": "stderr",
     "output_type": "stream",
     "text": [
      "\n",
      "Iteration:  10%|█         | 30/300 [00:56<08:08,  1.81s/it, loss=0.0879]\u001b[A\n",
      "Iteration:  10%|█         | 31/300 [00:57<08:00,  1.79s/it, loss=0.0879]\u001b[A"
     ]
    },
    {
     "name": "stdout",
     "output_type": "stream",
     "text": [
      "Iter 31/300 - Loss: 0.0879\n"
     ]
    },
    {
     "name": "stderr",
     "output_type": "stream",
     "text": [
      "\n",
      "Iteration:  10%|█         | 31/300 [00:58<08:00,  1.79s/it, loss=0.0443]\u001b[A\n",
      "Iteration:  11%|█         | 32/300 [00:58<07:54,  1.77s/it, loss=0.0443]\u001b[A"
     ]
    },
    {
     "name": "stdout",
     "output_type": "stream",
     "text": [
      "Iter 32/300 - Loss: 0.0443\n"
     ]
    },
    {
     "name": "stderr",
     "output_type": "stream",
     "text": [
      "\n",
      "Iteration:  11%|█         | 32/300 [00:59<07:54,  1.77s/it, loss=-.000108]\u001b[A\n",
      "Iteration:  11%|█         | 33/300 [01:00<07:52,  1.77s/it, loss=-.000108]\u001b[A"
     ]
    },
    {
     "name": "stdout",
     "output_type": "stream",
     "text": [
      "Iter 33/300 - Loss: -0.0001\n"
     ]
    },
    {
     "name": "stderr",
     "output_type": "stream",
     "text": [
      "\n",
      "Iteration:  11%|█         | 33/300 [01:01<07:52,  1.77s/it, loss=-.0445]  \u001b[A\n",
      "Iteration:  11%|█▏        | 34/300 [01:02<07:47,  1.76s/it, loss=-.0445]\u001b[A"
     ]
    },
    {
     "name": "stdout",
     "output_type": "stream",
     "text": [
      "Iter 34/300 - Loss: -0.0445\n"
     ]
    },
    {
     "name": "stderr",
     "output_type": "stream",
     "text": [
      "\n",
      "Iteration:  11%|█▏        | 34/300 [01:03<07:47,  1.76s/it, loss=-.088] \u001b[A\n",
      "Iteration:  12%|█▏        | 35/300 [01:04<07:48,  1.77s/it, loss=-.088]\u001b[A"
     ]
    },
    {
     "name": "stdout",
     "output_type": "stream",
     "text": [
      "Iter 35/300 - Loss: -0.0880\n"
     ]
    },
    {
     "name": "stderr",
     "output_type": "stream",
     "text": [
      "\n",
      "Iteration:  12%|█▏        | 35/300 [01:05<07:48,  1.77s/it, loss=-.13] \u001b[A\n",
      "Iteration:  12%|█▏        | 36/300 [01:05<07:44,  1.76s/it, loss=-.13]\u001b[A"
     ]
    },
    {
     "name": "stdout",
     "output_type": "stream",
     "text": [
      "Iter 36/300 - Loss: -0.1297\n"
     ]
    },
    {
     "name": "stderr",
     "output_type": "stream",
     "text": [
      "\n",
      "Iteration:  12%|█▏        | 36/300 [01:06<07:44,  1.76s/it, loss=-.169]\u001b[A\n",
      "Iteration:  12%|█▏        | 37/300 [01:07<07:40,  1.75s/it, loss=-.169]\u001b[A"
     ]
    },
    {
     "name": "stdout",
     "output_type": "stream",
     "text": [
      "Iter 37/300 - Loss: -0.1687\n"
     ]
    },
    {
     "name": "stderr",
     "output_type": "stream",
     "text": [
      "\n",
      "Iteration:  12%|█▏        | 37/300 [01:08<07:40,  1.75s/it, loss=-.204]\u001b[A\n",
      "Iteration:  13%|█▎        | 38/300 [01:09<07:37,  1.75s/it, loss=-.204]\u001b[A"
     ]
    },
    {
     "name": "stdout",
     "output_type": "stream",
     "text": [
      "Iter 38/300 - Loss: -0.2043\n"
     ]
    },
    {
     "name": "stderr",
     "output_type": "stream",
     "text": [
      "\n",
      "Iteration:  13%|█▎        | 38/300 [01:10<07:37,  1.75s/it, loss=-.237]\u001b[A\n",
      "Iteration:  13%|█▎        | 39/300 [01:11<07:35,  1.74s/it, loss=-.237]\u001b[A"
     ]
    },
    {
     "name": "stdout",
     "output_type": "stream",
     "text": [
      "Iter 39/300 - Loss: -0.2368\n"
     ]
    },
    {
     "name": "stderr",
     "output_type": "stream",
     "text": [
      "\n",
      "Iteration:  13%|█▎        | 39/300 [01:12<07:35,  1.74s/it, loss=-.267]\u001b[A\n",
      "Iteration:  13%|█▎        | 40/300 [01:12<07:34,  1.75s/it, loss=-.267]\u001b[A"
     ]
    },
    {
     "name": "stdout",
     "output_type": "stream",
     "text": [
      "Iter 40/300 - Loss: -0.2667\n"
     ]
    },
    {
     "name": "stderr",
     "output_type": "stream",
     "text": [
      "\n",
      "Iteration:  13%|█▎        | 40/300 [01:13<07:34,  1.75s/it, loss=-.294]\u001b[A\n",
      "Iteration:  14%|█▎        | 41/300 [01:14<07:33,  1.75s/it, loss=-.294]\u001b[A"
     ]
    },
    {
     "name": "stdout",
     "output_type": "stream",
     "text": [
      "Iter 41/300 - Loss: -0.2939\n"
     ]
    },
    {
     "name": "stderr",
     "output_type": "stream",
     "text": [
      "\n",
      "Iteration:  14%|█▎        | 41/300 [01:15<07:33,  1.75s/it, loss=-.32] \u001b[A\n",
      "Iteration:  14%|█▍        | 42/300 [01:16<07:37,  1.77s/it, loss=-.32]\u001b[A"
     ]
    },
    {
     "name": "stdout",
     "output_type": "stream",
     "text": [
      "Iter 42/300 - Loss: -0.3204\n"
     ]
    },
    {
     "name": "stderr",
     "output_type": "stream",
     "text": [
      "\n",
      "Iteration:  14%|█▍        | 42/300 [01:17<07:37,  1.77s/it, loss=-.347]\u001b[A\n",
      "Iteration:  14%|█▍        | 43/300 [01:18<08:03,  1.88s/it, loss=-.347]\u001b[A"
     ]
    },
    {
     "name": "stdout",
     "output_type": "stream",
     "text": [
      "Iter 43/300 - Loss: -0.3467\n"
     ]
    },
    {
     "name": "stderr",
     "output_type": "stream",
     "text": [
      "\n",
      "Iteration:  14%|█▍        | 43/300 [01:19<08:03,  1.88s/it, loss=-.373]\u001b[A\n",
      "Iteration:  15%|█▍        | 44/300 [01:20<07:51,  1.84s/it, loss=-.373]\u001b[A"
     ]
    },
    {
     "name": "stdout",
     "output_type": "stream",
     "text": [
      "Iter 44/300 - Loss: -0.3727\n"
     ]
    },
    {
     "name": "stderr",
     "output_type": "stream",
     "text": [
      "\n",
      "Iteration:  15%|█▍        | 44/300 [01:22<07:51,  1.84s/it, loss=-.399]\u001b[A\n",
      "Iteration:  15%|█▌        | 45/300 [01:23<09:53,  2.33s/it, loss=-.399]\u001b[A"
     ]
    },
    {
     "name": "stdout",
     "output_type": "stream",
     "text": [
      "Iter 45/300 - Loss: -0.3991\n"
     ]
    },
    {
     "name": "stderr",
     "output_type": "stream",
     "text": [
      "\n",
      "Iteration:  15%|█▌        | 45/300 [01:24<09:53,  2.33s/it, loss=-.425]\u001b[A\n",
      "Iteration:  15%|█▌        | 46/300 [01:25<09:06,  2.15s/it, loss=-.425]\u001b[A"
     ]
    },
    {
     "name": "stdout",
     "output_type": "stream",
     "text": [
      "Iter 46/300 - Loss: -0.4249\n"
     ]
    },
    {
     "name": "stderr",
     "output_type": "stream",
     "text": [
      "\n",
      "Iteration:  15%|█▌        | 46/300 [01:26<09:06,  2.15s/it, loss=-.449]\u001b[A\n",
      "Iteration:  16%|█▌        | 47/300 [01:27<08:33,  2.03s/it, loss=-.449]\u001b[A"
     ]
    },
    {
     "name": "stdout",
     "output_type": "stream",
     "text": [
      "Iter 47/300 - Loss: -0.4491\n"
     ]
    },
    {
     "name": "stderr",
     "output_type": "stream",
     "text": [
      "\n",
      "Iteration:  16%|█▌        | 47/300 [01:28<08:33,  2.03s/it, loss=-.472]\u001b[A\n",
      "Iteration:  16%|█▌        | 48/300 [01:29<08:09,  1.94s/it, loss=-.472]\u001b[A"
     ]
    },
    {
     "name": "stdout",
     "output_type": "stream",
     "text": [
      "Iter 48/300 - Loss: -0.4719\n"
     ]
    },
    {
     "name": "stderr",
     "output_type": "stream",
     "text": [
      "\n",
      "Iteration:  16%|█▌        | 48/300 [01:29<08:09,  1.94s/it, loss=-.493]\u001b[A\n",
      "Iteration:  16%|█▋        | 49/300 [01:30<07:52,  1.88s/it, loss=-.493]\u001b[A"
     ]
    },
    {
     "name": "stdout",
     "output_type": "stream",
     "text": [
      "Iter 49/300 - Loss: -0.4926\n"
     ]
    },
    {
     "name": "stderr",
     "output_type": "stream",
     "text": [
      "\n",
      "Iteration:  16%|█▋        | 49/300 [01:31<07:52,  1.88s/it, loss=-.511]\u001b[A\n",
      "Iteration:  17%|█▋        | 50/300 [01:32<07:39,  1.84s/it, loss=-.511]\u001b[A"
     ]
    },
    {
     "name": "stdout",
     "output_type": "stream",
     "text": [
      "Iter 50/300 - Loss: -0.5115\n"
     ]
    },
    {
     "name": "stderr",
     "output_type": "stream",
     "text": [
      "\n",
      "Iteration:  17%|█▋        | 50/300 [01:33<07:39,  1.84s/it, loss=-.528]\u001b[A\n",
      "Iteration:  17%|█▋        | 51/300 [01:34<07:31,  1.81s/it, loss=-.528]\u001b[A"
     ]
    },
    {
     "name": "stdout",
     "output_type": "stream",
     "text": [
      "Iter 51/300 - Loss: -0.5285\n"
     ]
    },
    {
     "name": "stderr",
     "output_type": "stream",
     "text": [
      "\n",
      "Iteration:  17%|█▋        | 51/300 [01:35<07:31,  1.81s/it, loss=-.544]\u001b[A\n",
      "Iteration:  17%|█▋        | 52/300 [01:36<07:25,  1.79s/it, loss=-.544]\u001b[A"
     ]
    },
    {
     "name": "stdout",
     "output_type": "stream",
     "text": [
      "Iter 52/300 - Loss: -0.5440\n"
     ]
    },
    {
     "name": "stderr",
     "output_type": "stream",
     "text": [
      "\n",
      "Iteration:  17%|█▋        | 52/300 [01:36<07:25,  1.79s/it, loss=-.558]\u001b[A\n",
      "Iteration:  18%|█▊        | 53/300 [01:37<07:20,  1.78s/it, loss=-.558]\u001b[A"
     ]
    },
    {
     "name": "stdout",
     "output_type": "stream",
     "text": [
      "Iter 53/300 - Loss: -0.5583\n"
     ]
    },
    {
     "name": "stderr",
     "output_type": "stream",
     "text": [
      "\n",
      "Iteration:  18%|█▊        | 53/300 [01:38<07:20,  1.78s/it, loss=-.572]\u001b[A\n",
      "Iteration:  18%|█▊        | 54/300 [01:39<07:16,  1.78s/it, loss=-.572]\u001b[A"
     ]
    },
    {
     "name": "stdout",
     "output_type": "stream",
     "text": [
      "Iter 54/300 - Loss: -0.5720\n"
     ]
    },
    {
     "name": "stderr",
     "output_type": "stream",
     "text": [
      "\n",
      "Iteration:  18%|█▊        | 54/300 [01:40<07:16,  1.78s/it, loss=-.585]\u001b[A\n",
      "Iteration:  18%|█▊        | 55/300 [01:41<07:14,  1.77s/it, loss=-.585]\u001b[A"
     ]
    },
    {
     "name": "stdout",
     "output_type": "stream",
     "text": [
      "Iter 55/300 - Loss: -0.5851\n"
     ]
    },
    {
     "name": "stderr",
     "output_type": "stream",
     "text": [
      "\n",
      "Iteration:  18%|█▊        | 55/300 [01:42<07:14,  1.77s/it, loss=-.598]\u001b[A\n",
      "Iteration:  19%|█▊        | 56/300 [01:43<07:10,  1.76s/it, loss=-.598]\u001b[A"
     ]
    },
    {
     "name": "stdout",
     "output_type": "stream",
     "text": [
      "Iter 56/300 - Loss: -0.5980\n"
     ]
    },
    {
     "name": "stderr",
     "output_type": "stream",
     "text": [
      "\n",
      "Iteration:  19%|█▊        | 56/300 [01:43<07:10,  1.76s/it, loss=-.611]\u001b[A\n",
      "Iteration:  19%|█▉        | 57/300 [01:44<07:06,  1.76s/it, loss=-.611]\u001b[A"
     ]
    },
    {
     "name": "stdout",
     "output_type": "stream",
     "text": [
      "Iter 57/300 - Loss: -0.6106\n"
     ]
    },
    {
     "name": "stderr",
     "output_type": "stream",
     "text": [
      "\n",
      "Iteration:  19%|█▉        | 57/300 [01:45<07:06,  1.76s/it, loss=-.623]\u001b[A\n",
      "Iteration:  19%|█▉        | 58/300 [01:46<07:05,  1.76s/it, loss=-.623]\u001b[A"
     ]
    },
    {
     "name": "stdout",
     "output_type": "stream",
     "text": [
      "Iter 58/300 - Loss: -0.6227\n"
     ]
    },
    {
     "name": "stderr",
     "output_type": "stream",
     "text": [
      "\n",
      "Iteration:  19%|█▉        | 58/300 [01:47<07:05,  1.76s/it, loss=-.634]\u001b[A\n",
      "Iteration:  20%|█▉        | 59/300 [01:48<07:03,  1.76s/it, loss=-.634]\u001b[A"
     ]
    },
    {
     "name": "stdout",
     "output_type": "stream",
     "text": [
      "Iter 59/300 - Loss: -0.6341\n"
     ]
    },
    {
     "name": "stderr",
     "output_type": "stream",
     "text": [
      "\n",
      "Iteration:  20%|█▉        | 59/300 [01:49<07:03,  1.76s/it, loss=-.645]\u001b[A\n",
      "Iteration:  20%|██        | 60/300 [01:50<07:01,  1.76s/it, loss=-.645]\u001b[A"
     ]
    },
    {
     "name": "stdout",
     "output_type": "stream",
     "text": [
      "Iter 60/300 - Loss: -0.6448\n"
     ]
    },
    {
     "name": "stderr",
     "output_type": "stream",
     "text": [
      "\n",
      "Iteration:  20%|██        | 60/300 [01:51<07:01,  1.76s/it, loss=-.655]\u001b[A\n",
      "Iteration:  20%|██        | 61/300 [01:51<07:11,  1.81s/it, loss=-.655]\u001b[A"
     ]
    },
    {
     "name": "stdout",
     "output_type": "stream",
     "text": [
      "Iter 61/300 - Loss: -0.6546\n"
     ]
    },
    {
     "name": "stderr",
     "output_type": "stream",
     "text": [
      "\n",
      "Iteration:  20%|██        | 61/300 [01:52<07:11,  1.81s/it, loss=-.664]\u001b[A\n",
      "Iteration:  21%|██        | 62/300 [01:53<07:06,  1.79s/it, loss=-.664]\u001b[A"
     ]
    },
    {
     "name": "stdout",
     "output_type": "stream",
     "text": [
      "Iter 62/300 - Loss: -0.6636\n"
     ]
    },
    {
     "name": "stderr",
     "output_type": "stream",
     "text": [
      "\n",
      "Iteration:  21%|██        | 62/300 [01:54<07:06,  1.79s/it, loss=-.672]\u001b[A\n",
      "Iteration:  21%|██        | 63/300 [01:55<07:01,  1.78s/it, loss=-.672]\u001b[A"
     ]
    },
    {
     "name": "stdout",
     "output_type": "stream",
     "text": [
      "Iter 63/300 - Loss: -0.6721\n"
     ]
    },
    {
     "name": "stderr",
     "output_type": "stream",
     "text": [
      "\n",
      "Iteration:  21%|██        | 63/300 [01:56<07:01,  1.78s/it, loss=-.68] \u001b[A\n",
      "Iteration:  21%|██▏       | 64/300 [01:57<07:00,  1.78s/it, loss=-.68]\u001b[A"
     ]
    },
    {
     "name": "stdout",
     "output_type": "stream",
     "text": [
      "Iter 64/300 - Loss: -0.6801\n"
     ]
    },
    {
     "name": "stderr",
     "output_type": "stream",
     "text": [
      "\n",
      "Iteration:  21%|██▏       | 64/300 [01:58<07:00,  1.78s/it, loss=-.688]\u001b[A\n",
      "Iteration:  22%|██▏       | 65/300 [01:59<06:57,  1.78s/it, loss=-.688]\u001b[A"
     ]
    },
    {
     "name": "stdout",
     "output_type": "stream",
     "text": [
      "Iter 65/300 - Loss: -0.6877\n"
     ]
    },
    {
     "name": "stderr",
     "output_type": "stream",
     "text": [
      "\n",
      "Iteration:  22%|██▏       | 65/300 [01:59<06:57,  1.78s/it, loss=-.695]\u001b[A\n",
      "Iteration:  22%|██▏       | 66/300 [02:00<07:04,  1.82s/it, loss=-.695]\u001b[A"
     ]
    },
    {
     "name": "stdout",
     "output_type": "stream",
     "text": [
      "Iter 66/300 - Loss: -0.6949\n"
     ]
    },
    {
     "name": "stderr",
     "output_type": "stream",
     "text": [
      "\n",
      "Iteration:  22%|██▏       | 66/300 [02:01<07:04,  1.82s/it, loss=-.701]\u001b[A\n",
      "Iteration:  22%|██▏       | 67/300 [02:02<06:58,  1.80s/it, loss=-.701]\u001b[A"
     ]
    },
    {
     "name": "stdout",
     "output_type": "stream",
     "text": [
      "Iter 67/300 - Loss: -0.7011\n"
     ]
    },
    {
     "name": "stderr",
     "output_type": "stream",
     "text": [
      "\n",
      "Iteration:  22%|██▏       | 67/300 [02:03<06:58,  1.80s/it, loss=-.706]\u001b[A\n",
      "Iteration:  23%|██▎       | 68/300 [02:04<06:54,  1.79s/it, loss=-.706]\u001b[A"
     ]
    },
    {
     "name": "stdout",
     "output_type": "stream",
     "text": [
      "Iter 68/300 - Loss: -0.7063\n"
     ]
    },
    {
     "name": "stderr",
     "output_type": "stream",
     "text": [
      "\n",
      "Iteration:  23%|██▎       | 68/300 [02:05<06:54,  1.79s/it, loss=-.71] \u001b[A\n",
      "Iteration:  23%|██▎       | 69/300 [02:06<06:52,  1.79s/it, loss=-.71]\u001b[A"
     ]
    },
    {
     "name": "stdout",
     "output_type": "stream",
     "text": [
      "Iter 69/300 - Loss: -0.7104\n"
     ]
    },
    {
     "name": "stderr",
     "output_type": "stream",
     "text": [
      "\n",
      "Iteration:  23%|██▎       | 69/300 [02:07<06:52,  1.79s/it, loss=-.714]\u001b[A\n",
      "Iteration:  23%|██▎       | 70/300 [02:08<06:48,  1.78s/it, loss=-.714]\u001b[A"
     ]
    },
    {
     "name": "stdout",
     "output_type": "stream",
     "text": [
      "Iter 70/300 - Loss: -0.7138\n"
     ]
    },
    {
     "name": "stderr",
     "output_type": "stream",
     "text": [
      "\n",
      "Iteration:  23%|██▎       | 70/300 [02:08<06:48,  1.78s/it, loss=-.717]\u001b[A\n",
      "Iteration:  24%|██▎       | 71/300 [02:09<06:46,  1.78s/it, loss=-.717]\u001b[A"
     ]
    },
    {
     "name": "stdout",
     "output_type": "stream",
     "text": [
      "Iter 71/300 - Loss: -0.7167\n"
     ]
    },
    {
     "name": "stderr",
     "output_type": "stream",
     "text": [
      "\n",
      "Iteration:  24%|██▎       | 71/300 [02:10<06:46,  1.78s/it, loss=-.72] \u001b[A\n",
      "Iteration:  24%|██▍       | 72/300 [02:11<06:44,  1.77s/it, loss=-.72]\u001b[A"
     ]
    },
    {
     "name": "stdout",
     "output_type": "stream",
     "text": [
      "Iter 72/300 - Loss: -0.7195\n"
     ]
    },
    {
     "name": "stderr",
     "output_type": "stream",
     "text": [
      "\n",
      "Iteration:  24%|██▍       | 72/300 [02:12<06:44,  1.77s/it, loss=-.722]\u001b[A\n",
      "Iteration:  24%|██▍       | 73/300 [02:13<06:43,  1.78s/it, loss=-.722]\u001b[A"
     ]
    },
    {
     "name": "stdout",
     "output_type": "stream",
     "text": [
      "Iter 73/300 - Loss: -0.7223\n"
     ]
    },
    {
     "name": "stderr",
     "output_type": "stream",
     "text": [
      "\n",
      "Iteration:  24%|██▍       | 73/300 [02:14<06:43,  1.78s/it, loss=-.725]\u001b[A\n",
      "Iteration:  25%|██▍       | 74/300 [02:15<06:42,  1.78s/it, loss=-.725]\u001b[A"
     ]
    },
    {
     "name": "stdout",
     "output_type": "stream",
     "text": [
      "Iter 74/300 - Loss: -0.7249\n"
     ]
    },
    {
     "name": "stderr",
     "output_type": "stream",
     "text": [
      "\n",
      "Iteration:  25%|██▍       | 74/300 [02:16<06:42,  1.78s/it, loss=-.727]\u001b[A\n",
      "Iteration:  25%|██▌       | 75/300 [02:16<06:38,  1.77s/it, loss=-.727]\u001b[A"
     ]
    },
    {
     "name": "stdout",
     "output_type": "stream",
     "text": [
      "Iter 75/300 - Loss: -0.7272\n"
     ]
    },
    {
     "name": "stderr",
     "output_type": "stream",
     "text": [
      "\n",
      "Iteration:  25%|██▌       | 75/300 [02:17<06:38,  1.77s/it, loss=-.729]\u001b[A\n",
      "Iteration:  25%|██▌       | 76/300 [02:18<06:35,  1.77s/it, loss=-.729]\u001b[A"
     ]
    },
    {
     "name": "stdout",
     "output_type": "stream",
     "text": [
      "Iter 76/300 - Loss: -0.7292\n"
     ]
    },
    {
     "name": "stderr",
     "output_type": "stream",
     "text": [
      "\n",
      "Iteration:  25%|██▌       | 76/300 [02:19<06:35,  1.77s/it, loss=-.731]\u001b[A\n",
      "Iteration:  26%|██▌       | 77/300 [02:20<06:32,  1.76s/it, loss=-.731]\u001b[A"
     ]
    },
    {
     "name": "stdout",
     "output_type": "stream",
     "text": [
      "Iter 77/300 - Loss: -0.7306\n"
     ]
    },
    {
     "name": "stderr",
     "output_type": "stream",
     "text": [
      "\n",
      "Iteration:  26%|██▌       | 77/300 [02:21<06:32,  1.76s/it, loss=-.731]\u001b[A\n",
      "Iteration:  26%|██▌       | 78/300 [02:22<06:47,  1.83s/it, loss=-.731]\u001b[A"
     ]
    },
    {
     "name": "stdout",
     "output_type": "stream",
     "text": [
      "Iter 78/300 - Loss: -0.7314\n"
     ]
    },
    {
     "name": "stderr",
     "output_type": "stream",
     "text": [
      "\n",
      "Iteration:  26%|██▌       | 78/300 [02:23<06:47,  1.83s/it, loss=-.733]\u001b[A\n",
      "Iteration:  26%|██▋       | 79/300 [02:24<06:39,  1.81s/it, loss=-.733]\u001b[A"
     ]
    },
    {
     "name": "stdout",
     "output_type": "stream",
     "text": [
      "Iter 79/300 - Loss: -0.7332\n"
     ]
    },
    {
     "name": "stderr",
     "output_type": "stream",
     "text": [
      "\n",
      "Iteration:  26%|██▋       | 79/300 [02:25<06:39,  1.81s/it, loss=-.734]\u001b[A\n",
      "Iteration:  27%|██▋       | 80/300 [02:26<06:47,  1.85s/it, loss=-.734]\u001b[A"
     ]
    },
    {
     "name": "stdout",
     "output_type": "stream",
     "text": [
      "Iter 80/300 - Loss: -0.7338\n"
     ]
    },
    {
     "name": "stderr",
     "output_type": "stream",
     "text": [
      "\n",
      "Iteration:  27%|██▋       | 80/300 [02:26<06:47,  1.85s/it, loss=-.736]\u001b[A\n",
      "Iteration:  27%|██▋       | 81/300 [02:27<06:39,  1.82s/it, loss=-.736]\u001b[A"
     ]
    },
    {
     "name": "stdout",
     "output_type": "stream",
     "text": [
      "Iter 81/300 - Loss: -0.7361\n"
     ]
    },
    {
     "name": "stderr",
     "output_type": "stream",
     "text": [
      "\n",
      "Iteration:  27%|██▋       | 81/300 [02:28<06:39,  1.82s/it, loss=-.739]\u001b[A\n",
      "Iteration:  27%|██▋       | 82/300 [02:29<06:33,  1.81s/it, loss=-.739]\u001b[A"
     ]
    },
    {
     "name": "stdout",
     "output_type": "stream",
     "text": [
      "Iter 82/300 - Loss: -0.7391\n"
     ]
    },
    {
     "name": "stderr",
     "output_type": "stream",
     "text": [
      "\n",
      "Iteration:  27%|██▋       | 82/300 [02:30<06:33,  1.81s/it, loss=-.739]\u001b[A\n",
      "Iteration:  28%|██▊       | 83/300 [02:31<06:28,  1.79s/it, loss=-.739]\u001b[A"
     ]
    },
    {
     "name": "stdout",
     "output_type": "stream",
     "text": [
      "Iter 83/300 - Loss: -0.7392\n"
     ]
    },
    {
     "name": "stderr",
     "output_type": "stream",
     "text": [
      "\n",
      "Iteration:  28%|██▊       | 83/300 [02:32<06:28,  1.79s/it, loss=-.742]\u001b[A\n",
      "Iteration:  28%|██▊       | 84/300 [02:33<06:23,  1.77s/it, loss=-.742]\u001b[A"
     ]
    },
    {
     "name": "stdout",
     "output_type": "stream",
     "text": [
      "Iter 84/300 - Loss: -0.7416\n"
     ]
    },
    {
     "name": "stderr",
     "output_type": "stream",
     "text": [
      "\n",
      "Iteration:  28%|██▊       | 84/300 [02:34<06:23,  1.77s/it, loss=-.742]\u001b[A\n",
      "Iteration:  28%|██▊       | 85/300 [02:34<06:20,  1.77s/it, loss=-.742]\u001b[A"
     ]
    },
    {
     "name": "stdout",
     "output_type": "stream",
     "text": [
      "Iter 85/300 - Loss: -0.7418\n"
     ]
    },
    {
     "name": "stderr",
     "output_type": "stream",
     "text": [
      "\n",
      "Iteration:  28%|██▊       | 85/300 [02:35<06:20,  1.77s/it, loss=-.744]\u001b[A\n",
      "Iteration:  29%|██▊       | 86/300 [02:36<06:17,  1.76s/it, loss=-.744]\u001b[A"
     ]
    },
    {
     "name": "stdout",
     "output_type": "stream",
     "text": [
      "Iter 86/300 - Loss: -0.7436\n"
     ]
    },
    {
     "name": "stderr",
     "output_type": "stream",
     "text": [
      "\n",
      "Iteration:  29%|██▊       | 86/300 [02:37<06:17,  1.76s/it, loss=-.744]\u001b[A\n",
      "Iteration:  29%|██▉       | 87/300 [02:38<06:14,  1.76s/it, loss=-.744]\u001b[A"
     ]
    },
    {
     "name": "stdout",
     "output_type": "stream",
     "text": [
      "Iter 87/300 - Loss: -0.7438\n"
     ]
    },
    {
     "name": "stderr",
     "output_type": "stream",
     "text": [
      "\n",
      "Iteration:  29%|██▉       | 87/300 [02:39<06:14,  1.76s/it, loss=-.746]\u001b[A\n",
      "Iteration:  29%|██▉       | 88/300 [02:40<06:11,  1.75s/it, loss=-.746]\u001b[A"
     ]
    },
    {
     "name": "stdout",
     "output_type": "stream",
     "text": [
      "Iter 88/300 - Loss: -0.7457\n"
     ]
    },
    {
     "name": "stderr",
     "output_type": "stream",
     "text": [
      "\n",
      "Iteration:  29%|██▉       | 88/300 [02:40<06:11,  1.75s/it, loss=-.746]\u001b[A\n",
      "Iteration:  30%|██▉       | 89/300 [02:41<06:09,  1.75s/it, loss=-.746]\u001b[A"
     ]
    },
    {
     "name": "stdout",
     "output_type": "stream",
     "text": [
      "Iter 89/300 - Loss: -0.7458\n"
     ]
    },
    {
     "name": "stderr",
     "output_type": "stream",
     "text": [
      "\n",
      "Iteration:  30%|██▉       | 89/300 [02:42<06:09,  1.75s/it, loss=-.747]\u001b[A\n",
      "Iteration:  30%|███       | 90/300 [02:43<06:07,  1.75s/it, loss=-.747]\u001b[A"
     ]
    },
    {
     "name": "stdout",
     "output_type": "stream",
     "text": [
      "Iter 90/300 - Loss: -0.7474\n"
     ]
    },
    {
     "name": "stderr",
     "output_type": "stream",
     "text": [
      "\n",
      "Iteration:  30%|███       | 90/300 [02:44<06:07,  1.75s/it, loss=-.748]\u001b[A\n",
      "Iteration:  30%|███       | 91/300 [02:45<06:05,  1.75s/it, loss=-.748]\u001b[A"
     ]
    },
    {
     "name": "stdout",
     "output_type": "stream",
     "text": [
      "Iter 91/300 - Loss: -0.7477\n"
     ]
    },
    {
     "name": "stderr",
     "output_type": "stream",
     "text": [
      "\n",
      "Iteration:  30%|███       | 91/300 [02:46<06:05,  1.75s/it, loss=-.749]\u001b[A\n",
      "Iteration:  31%|███       | 92/300 [02:47<06:04,  1.75s/it, loss=-.749]\u001b[A"
     ]
    },
    {
     "name": "stdout",
     "output_type": "stream",
     "text": [
      "Iter 92/300 - Loss: -0.7488\n"
     ]
    },
    {
     "name": "stderr",
     "output_type": "stream",
     "text": [
      "\n",
      "Iteration:  31%|███       | 92/300 [02:47<06:04,  1.75s/it, loss=-.749]\u001b[A\n",
      "Iteration:  31%|███       | 93/300 [02:48<06:02,  1.75s/it, loss=-.749]\u001b[A"
     ]
    },
    {
     "name": "stdout",
     "output_type": "stream",
     "text": [
      "Iter 93/300 - Loss: -0.7493\n"
     ]
    },
    {
     "name": "stderr",
     "output_type": "stream",
     "text": [
      "\n",
      "Iteration:  31%|███       | 93/300 [02:49<06:02,  1.75s/it, loss=-.75] \u001b[A\n",
      "Iteration:  31%|███▏      | 94/300 [02:50<06:00,  1.75s/it, loss=-.75]\u001b[A"
     ]
    },
    {
     "name": "stdout",
     "output_type": "stream",
     "text": [
      "Iter 94/300 - Loss: -0.7502\n"
     ]
    },
    {
     "name": "stderr",
     "output_type": "stream",
     "text": [
      "\n",
      "Iteration:  31%|███▏      | 94/300 [02:51<06:00,  1.75s/it, loss=-.751]\u001b[A\n",
      "Iteration:  32%|███▏      | 95/300 [02:52<06:09,  1.80s/it, loss=-.751]\u001b[A"
     ]
    },
    {
     "name": "stdout",
     "output_type": "stream",
     "text": [
      "Iter 95/300 - Loss: -0.7508\n"
     ]
    },
    {
     "name": "stderr",
     "output_type": "stream",
     "text": [
      "\n",
      "Iteration:  32%|███▏      | 95/300 [02:53<06:09,  1.80s/it, loss=-.751]\u001b[A\n",
      "Iteration:  32%|███▏      | 96/300 [02:54<06:11,  1.82s/it, loss=-.751]\u001b[A"
     ]
    },
    {
     "name": "stdout",
     "output_type": "stream",
     "text": [
      "Iter 96/300 - Loss: -0.7515\n"
     ]
    },
    {
     "name": "stderr",
     "output_type": "stream",
     "text": [
      "\n",
      "Iteration:  32%|███▏      | 96/300 [02:55<06:11,  1.82s/it, loss=-.752]\u001b[A\n",
      "Iteration:  32%|███▏      | 97/300 [02:56<06:05,  1.80s/it, loss=-.752]\u001b[A"
     ]
    },
    {
     "name": "stdout",
     "output_type": "stream",
     "text": [
      "Iter 97/300 - Loss: -0.7520\n"
     ]
    },
    {
     "name": "stderr",
     "output_type": "stream",
     "text": [
      "\n",
      "Iteration:  32%|███▏      | 97/300 [02:57<06:05,  1.80s/it, loss=-.753]\u001b[A\n",
      "Iteration:  33%|███▎      | 98/300 [02:57<06:00,  1.79s/it, loss=-.753]\u001b[A"
     ]
    },
    {
     "name": "stdout",
     "output_type": "stream",
     "text": [
      "Iter 98/300 - Loss: -0.7525\n"
     ]
    },
    {
     "name": "stderr",
     "output_type": "stream",
     "text": [
      "\n",
      "Iteration:  33%|███▎      | 98/300 [02:58<06:00,  1.79s/it, loss=-.753]\u001b[A\n",
      "Iteration:  33%|███▎      | 99/300 [02:59<06:00,  1.79s/it, loss=-.753]\u001b[A"
     ]
    },
    {
     "name": "stdout",
     "output_type": "stream",
     "text": [
      "Iter 99/300 - Loss: -0.7530\n"
     ]
    },
    {
     "name": "stderr",
     "output_type": "stream",
     "text": [
      "\n",
      "Iteration:  33%|███▎      | 99/300 [03:00<06:00,  1.79s/it, loss=-.753]\u001b[A\n",
      "Iteration:  33%|███▎      | 100/300 [03:01<05:58,  1.79s/it, loss=-.753]\u001b[A"
     ]
    },
    {
     "name": "stdout",
     "output_type": "stream",
     "text": [
      "Iter 100/300 - Loss: -0.7533\n"
     ]
    },
    {
     "name": "stderr",
     "output_type": "stream",
     "text": [
      "\n",
      "Iteration:  33%|███▎      | 100/300 [03:02<05:58,  1.79s/it, loss=-.754]\u001b[A\n",
      "Iteration:  34%|███▎      | 101/300 [03:03<05:58,  1.80s/it, loss=-.754]\u001b[A"
     ]
    },
    {
     "name": "stdout",
     "output_type": "stream",
     "text": [
      "Iter 101/300 - Loss: -0.7539\n"
     ]
    },
    {
     "name": "stderr",
     "output_type": "stream",
     "text": [
      "\n",
      "Iteration:  34%|███▎      | 101/300 [03:04<05:58,  1.80s/it, loss=-.754]\u001b[A\n",
      "Iteration:  34%|███▍      | 102/300 [03:05<05:54,  1.79s/it, loss=-.754]\u001b[A"
     ]
    },
    {
     "name": "stdout",
     "output_type": "stream",
     "text": [
      "Iter 102/300 - Loss: -0.7542\n"
     ]
    },
    {
     "name": "stderr",
     "output_type": "stream",
     "text": [
      "\n",
      "Iteration:  34%|███▍      | 102/300 [03:05<05:54,  1.79s/it, loss=-.755]\u001b[A\n",
      "Iteration:  34%|███▍      | 103/300 [03:06<05:50,  1.78s/it, loss=-.755]\u001b[A"
     ]
    },
    {
     "name": "stdout",
     "output_type": "stream",
     "text": [
      "Iter 103/300 - Loss: -0.7548\n"
     ]
    },
    {
     "name": "stderr",
     "output_type": "stream",
     "text": [
      "\n",
      "Iteration:  34%|███▍      | 103/300 [03:07<05:50,  1.78s/it, loss=-.755]\u001b[A\n",
      "Iteration:  35%|███▍      | 104/300 [03:08<05:47,  1.77s/it, loss=-.755]\u001b[A"
     ]
    },
    {
     "name": "stdout",
     "output_type": "stream",
     "text": [
      "Iter 104/300 - Loss: -0.7551\n"
     ]
    },
    {
     "name": "stderr",
     "output_type": "stream",
     "text": [
      "\n",
      "Iteration:  35%|███▍      | 104/300 [03:09<05:47,  1.77s/it, loss=-.756]\u001b[A\n",
      "Iteration:  35%|███▌      | 105/300 [03:10<05:45,  1.77s/it, loss=-.756]\u001b[A"
     ]
    },
    {
     "name": "stdout",
     "output_type": "stream",
     "text": [
      "Iter 105/300 - Loss: -0.7556\n"
     ]
    },
    {
     "name": "stderr",
     "output_type": "stream",
     "text": [
      "\n",
      "Iteration:  35%|███▌      | 105/300 [03:11<05:45,  1.77s/it, loss=-.756]\u001b[A\n",
      "Iteration:  35%|███▌      | 106/300 [03:12<05:42,  1.77s/it, loss=-.756]\u001b[A"
     ]
    },
    {
     "name": "stdout",
     "output_type": "stream",
     "text": [
      "Iter 106/300 - Loss: -0.7559\n"
     ]
    },
    {
     "name": "stderr",
     "output_type": "stream",
     "text": [
      "\n",
      "Iteration:  35%|███▌      | 106/300 [03:13<05:42,  1.77s/it, loss=-.756]\u001b[A\n",
      "Iteration:  36%|███▌      | 107/300 [03:13<05:40,  1.77s/it, loss=-.756]\u001b[A"
     ]
    },
    {
     "name": "stdout",
     "output_type": "stream",
     "text": [
      "Iter 107/300 - Loss: -0.7564\n"
     ]
    },
    {
     "name": "stderr",
     "output_type": "stream",
     "text": [
      "\n",
      "Iteration:  36%|███▌      | 107/300 [03:14<05:40,  1.77s/it, loss=-.757]\u001b[A\n",
      "Iteration:  36%|███▌      | 108/300 [03:15<05:38,  1.77s/it, loss=-.757]\u001b[A"
     ]
    },
    {
     "name": "stdout",
     "output_type": "stream",
     "text": [
      "Iter 108/300 - Loss: -0.7567\n"
     ]
    },
    {
     "name": "stderr",
     "output_type": "stream",
     "text": [
      "\n",
      "Iteration:  36%|███▌      | 108/300 [03:16<05:38,  1.77s/it, loss=-.757]\u001b[A\n",
      "Iteration:  36%|███▋      | 109/300 [03:17<05:36,  1.76s/it, loss=-.757]\u001b[A"
     ]
    },
    {
     "name": "stdout",
     "output_type": "stream",
     "text": [
      "Iter 109/300 - Loss: -0.7571\n"
     ]
    },
    {
     "name": "stderr",
     "output_type": "stream",
     "text": [
      "\n",
      "Iteration:  36%|███▋      | 109/300 [03:18<05:36,  1.76s/it, loss=-.757]\u001b[A\n",
      "Iteration:  37%|███▋      | 110/300 [03:19<05:35,  1.76s/it, loss=-.757]\u001b[A"
     ]
    },
    {
     "name": "stdout",
     "output_type": "stream",
     "text": [
      "Iter 110/300 - Loss: -0.7575\n"
     ]
    },
    {
     "name": "stderr",
     "output_type": "stream",
     "text": [
      "\n",
      "Iteration:  37%|███▋      | 110/300 [03:20<05:35,  1.76s/it, loss=-.758]\u001b[A\n",
      "Iteration:  37%|███▋      | 111/300 [03:20<05:32,  1.76s/it, loss=-.758]\u001b[A"
     ]
    },
    {
     "name": "stdout",
     "output_type": "stream",
     "text": [
      "Iter 111/300 - Loss: -0.7579\n"
     ]
    },
    {
     "name": "stderr",
     "output_type": "stream",
     "text": [
      "\n",
      "Iteration:  37%|███▋      | 111/300 [03:22<05:32,  1.76s/it, loss=-.758]\u001b[A\n",
      "Iteration:  37%|███▋      | 112/300 [03:23<06:00,  1.92s/it, loss=-.758]\u001b[A"
     ]
    },
    {
     "name": "stdout",
     "output_type": "stream",
     "text": [
      "Iter 112/300 - Loss: -0.7582\n"
     ]
    },
    {
     "name": "stderr",
     "output_type": "stream",
     "text": [
      "\n",
      "Iteration:  37%|███▋      | 112/300 [03:24<06:00,  1.92s/it, loss=-.759]\u001b[A\n",
      "Iteration:  38%|███▊      | 113/300 [03:24<05:49,  1.87s/it, loss=-.759]\u001b[A"
     ]
    },
    {
     "name": "stdout",
     "output_type": "stream",
     "text": [
      "Iter 113/300 - Loss: -0.7586\n"
     ]
    },
    {
     "name": "stderr",
     "output_type": "stream",
     "text": [
      "\n",
      "Iteration:  38%|███▊      | 113/300 [03:25<05:49,  1.87s/it, loss=-.759]\u001b[A\n",
      "Iteration:  38%|███▊      | 114/300 [03:26<05:41,  1.83s/it, loss=-.759]\u001b[A"
     ]
    },
    {
     "name": "stdout",
     "output_type": "stream",
     "text": [
      "Iter 114/300 - Loss: -0.7589\n"
     ]
    },
    {
     "name": "stderr",
     "output_type": "stream",
     "text": [
      "\n",
      "Iteration:  38%|███▊      | 114/300 [03:27<05:41,  1.83s/it, loss=-.759]\u001b[A\n",
      "Iteration:  38%|███▊      | 115/300 [03:28<05:34,  1.81s/it, loss=-.759]\u001b[A"
     ]
    },
    {
     "name": "stdout",
     "output_type": "stream",
     "text": [
      "Iter 115/300 - Loss: -0.7593\n"
     ]
    },
    {
     "name": "stderr",
     "output_type": "stream",
     "text": [
      "\n",
      "Iteration:  38%|███▊      | 115/300 [03:29<05:34,  1.81s/it, loss=-.76] \u001b[A\n",
      "Iteration:  39%|███▊      | 116/300 [03:30<05:30,  1.79s/it, loss=-.76]\u001b[A"
     ]
    },
    {
     "name": "stdout",
     "output_type": "stream",
     "text": [
      "Iter 116/300 - Loss: -0.7596\n"
     ]
    },
    {
     "name": "stderr",
     "output_type": "stream",
     "text": [
      "\n",
      "Iteration:  39%|███▊      | 116/300 [03:31<05:30,  1.79s/it, loss=-.76]\u001b[A\n",
      "Iteration:  39%|███▉      | 117/300 [03:31<05:25,  1.78s/it, loss=-.76]\u001b[A"
     ]
    },
    {
     "name": "stdout",
     "output_type": "stream",
     "text": [
      "Iter 117/300 - Loss: -0.7600\n"
     ]
    },
    {
     "name": "stderr",
     "output_type": "stream",
     "text": [
      "\n",
      "Iteration:  39%|███▉      | 117/300 [03:32<05:25,  1.78s/it, loss=-.76]\u001b[A\n",
      "Iteration:  39%|███▉      | 118/300 [03:33<05:21,  1.77s/it, loss=-.76]\u001b[A"
     ]
    },
    {
     "name": "stdout",
     "output_type": "stream",
     "text": [
      "Iter 118/300 - Loss: -0.7603\n"
     ]
    },
    {
     "name": "stderr",
     "output_type": "stream",
     "text": [
      "\n",
      "Iteration:  39%|███▉      | 118/300 [03:34<05:21,  1.77s/it, loss=-.761]\u001b[A\n",
      "Iteration:  40%|███▉      | 119/300 [03:35<05:19,  1.77s/it, loss=-.761]\u001b[A"
     ]
    },
    {
     "name": "stdout",
     "output_type": "stream",
     "text": [
      "Iter 119/300 - Loss: -0.7607\n"
     ]
    },
    {
     "name": "stderr",
     "output_type": "stream",
     "text": [
      "\n",
      "Iteration:  40%|███▉      | 119/300 [03:36<05:19,  1.77s/it, loss=-.761]\u001b[A\n",
      "Iteration:  40%|████      | 120/300 [03:37<05:16,  1.76s/it, loss=-.761]\u001b[A"
     ]
    },
    {
     "name": "stdout",
     "output_type": "stream",
     "text": [
      "Iter 120/300 - Loss: -0.7610\n"
     ]
    },
    {
     "name": "stderr",
     "output_type": "stream",
     "text": [
      "\n",
      "Iteration:  40%|████      | 120/300 [03:38<05:16,  1.76s/it, loss=-.761]\u001b[A\n",
      "Iteration:  40%|████      | 121/300 [03:38<05:14,  1.76s/it, loss=-.761]\u001b[A"
     ]
    },
    {
     "name": "stdout",
     "output_type": "stream",
     "text": [
      "Iter 121/300 - Loss: -0.7614\n"
     ]
    },
    {
     "name": "stderr",
     "output_type": "stream",
     "text": [
      "\n",
      "Iteration:  40%|████      | 121/300 [03:39<05:14,  1.76s/it, loss=-.762]\u001b[A\n",
      "Iteration:  41%|████      | 122/300 [03:40<05:12,  1.76s/it, loss=-.762]\u001b[A"
     ]
    },
    {
     "name": "stdout",
     "output_type": "stream",
     "text": [
      "Iter 122/300 - Loss: -0.7617\n"
     ]
    },
    {
     "name": "stderr",
     "output_type": "stream",
     "text": [
      "\n",
      "Iteration:  41%|████      | 122/300 [03:41<05:12,  1.76s/it, loss=-.762]\u001b[A\n",
      "Iteration:  41%|████      | 123/300 [03:42<05:10,  1.75s/it, loss=-.762]\u001b[A"
     ]
    },
    {
     "name": "stdout",
     "output_type": "stream",
     "text": [
      "Iter 123/300 - Loss: -0.7620\n"
     ]
    },
    {
     "name": "stderr",
     "output_type": "stream",
     "text": [
      "\n",
      "Iteration:  41%|████      | 123/300 [03:43<05:10,  1.75s/it, loss=-.762]\u001b[A\n",
      "Iteration:  41%|████▏     | 124/300 [03:44<05:08,  1.75s/it, loss=-.762]\u001b[A"
     ]
    },
    {
     "name": "stdout",
     "output_type": "stream",
     "text": [
      "Iter 124/300 - Loss: -0.7623\n"
     ]
    },
    {
     "name": "stderr",
     "output_type": "stream",
     "text": [
      "\n",
      "Iteration:  41%|████▏     | 124/300 [03:45<05:08,  1.75s/it, loss=-.763]\u001b[A\n",
      "Iteration:  42%|████▏     | 125/300 [03:45<05:07,  1.75s/it, loss=-.763]\u001b[A"
     ]
    },
    {
     "name": "stdout",
     "output_type": "stream",
     "text": [
      "Iter 125/300 - Loss: -0.7627\n"
     ]
    },
    {
     "name": "stderr",
     "output_type": "stream",
     "text": [
      "\n",
      "Iteration:  42%|████▏     | 125/300 [03:46<05:07,  1.75s/it, loss=-.763]\u001b[A\n",
      "Iteration:  42%|████▏     | 126/300 [03:47<05:05,  1.76s/it, loss=-.763]\u001b[A"
     ]
    },
    {
     "name": "stdout",
     "output_type": "stream",
     "text": [
      "Iter 126/300 - Loss: -0.7630\n"
     ]
    },
    {
     "name": "stderr",
     "output_type": "stream",
     "text": [
      "\n",
      "Iteration:  42%|████▏     | 126/300 [03:48<05:05,  1.76s/it, loss=-.763]\u001b[A\n",
      "Iteration:  42%|████▏     | 127/300 [03:49<05:03,  1.75s/it, loss=-.763]\u001b[A"
     ]
    },
    {
     "name": "stdout",
     "output_type": "stream",
     "text": [
      "Iter 127/300 - Loss: -0.7633\n"
     ]
    },
    {
     "name": "stderr",
     "output_type": "stream",
     "text": [
      "\n",
      "Iteration:  42%|████▏     | 127/300 [03:50<05:03,  1.75s/it, loss=-.764]\u001b[A\n",
      "Iteration:  43%|████▎     | 128/300 [03:51<05:03,  1.76s/it, loss=-.764]\u001b[A"
     ]
    },
    {
     "name": "stdout",
     "output_type": "stream",
     "text": [
      "Iter 128/300 - Loss: -0.7636\n"
     ]
    },
    {
     "name": "stderr",
     "output_type": "stream",
     "text": [
      "\n",
      "Iteration:  43%|████▎     | 128/300 [03:52<05:03,  1.76s/it, loss=-.764]\u001b[A\n",
      "Iteration:  43%|████▎     | 129/300 [03:53<05:01,  1.77s/it, loss=-.764]\u001b[A"
     ]
    },
    {
     "name": "stdout",
     "output_type": "stream",
     "text": [
      "Iter 129/300 - Loss: -0.7639\n"
     ]
    },
    {
     "name": "stderr",
     "output_type": "stream",
     "text": [
      "\n",
      "Iteration:  43%|████▎     | 129/300 [03:53<05:01,  1.77s/it, loss=-.764]\u001b[A\n",
      "Iteration:  43%|████▎     | 130/300 [03:54<04:59,  1.76s/it, loss=-.764]\u001b[A"
     ]
    },
    {
     "name": "stdout",
     "output_type": "stream",
     "text": [
      "Iter 130/300 - Loss: -0.7642\n"
     ]
    },
    {
     "name": "stderr",
     "output_type": "stream",
     "text": [
      "\n",
      "Iteration:  43%|████▎     | 130/300 [03:55<04:59,  1.76s/it, loss=-.765]\u001b[A\n",
      "Iteration:  44%|████▎     | 131/300 [03:56<04:57,  1.76s/it, loss=-.765]\u001b[A"
     ]
    },
    {
     "name": "stdout",
     "output_type": "stream",
     "text": [
      "Iter 131/300 - Loss: -0.7645\n"
     ]
    },
    {
     "name": "stderr",
     "output_type": "stream",
     "text": [
      "\n",
      "Iteration:  44%|████▎     | 131/300 [03:57<04:57,  1.76s/it, loss=-.765]\u001b[A\n",
      "Iteration:  44%|████▍     | 132/300 [03:58<04:54,  1.75s/it, loss=-.765]\u001b[A"
     ]
    },
    {
     "name": "stdout",
     "output_type": "stream",
     "text": [
      "Iter 132/300 - Loss: -0.7648\n"
     ]
    },
    {
     "name": "stderr",
     "output_type": "stream",
     "text": [
      "\n",
      "Iteration:  44%|████▍     | 132/300 [03:59<04:54,  1.75s/it, loss=-.765]\u001b[A\n",
      "Iteration:  44%|████▍     | 133/300 [04:00<04:52,  1.75s/it, loss=-.765]\u001b[A"
     ]
    },
    {
     "name": "stdout",
     "output_type": "stream",
     "text": [
      "Iter 133/300 - Loss: -0.7651\n"
     ]
    },
    {
     "name": "stderr",
     "output_type": "stream",
     "text": [
      "\n",
      "Iteration:  44%|████▍     | 133/300 [04:00<04:52,  1.75s/it, loss=-.765]\u001b[A\n",
      "Iteration:  45%|████▍     | 134/300 [04:01<04:50,  1.75s/it, loss=-.765]\u001b[A"
     ]
    },
    {
     "name": "stdout",
     "output_type": "stream",
     "text": [
      "Iter 134/300 - Loss: -0.7654\n"
     ]
    },
    {
     "name": "stderr",
     "output_type": "stream",
     "text": [
      "\n",
      "Iteration:  45%|████▍     | 134/300 [04:02<04:50,  1.75s/it, loss=-.766]\u001b[A\n",
      "Iteration:  45%|████▌     | 135/300 [04:03<04:48,  1.75s/it, loss=-.766]\u001b[A"
     ]
    },
    {
     "name": "stdout",
     "output_type": "stream",
     "text": [
      "Iter 135/300 - Loss: -0.7657\n"
     ]
    },
    {
     "name": "stderr",
     "output_type": "stream",
     "text": [
      "\n",
      "Iteration:  45%|████▌     | 135/300 [04:04<04:48,  1.75s/it, loss=-.766]\u001b[A\n",
      "Iteration:  45%|████▌     | 136/300 [04:05<04:46,  1.75s/it, loss=-.766]\u001b[A"
     ]
    },
    {
     "name": "stdout",
     "output_type": "stream",
     "text": [
      "Iter 136/300 - Loss: -0.7660\n"
     ]
    },
    {
     "name": "stderr",
     "output_type": "stream",
     "text": [
      "\n",
      "Iteration:  45%|████▌     | 136/300 [04:06<04:46,  1.75s/it, loss=-.766]\u001b[A\n",
      "Iteration:  46%|████▌     | 137/300 [04:06<04:44,  1.74s/it, loss=-.766]\u001b[A"
     ]
    },
    {
     "name": "stdout",
     "output_type": "stream",
     "text": [
      "Iter 137/300 - Loss: -0.7663\n"
     ]
    },
    {
     "name": "stderr",
     "output_type": "stream",
     "text": [
      "\n",
      "Iteration:  46%|████▌     | 137/300 [04:07<04:44,  1.74s/it, loss=-.767]\u001b[A\n",
      "Iteration:  46%|████▌     | 138/300 [04:08<04:42,  1.74s/it, loss=-.767]\u001b[A"
     ]
    },
    {
     "name": "stdout",
     "output_type": "stream",
     "text": [
      "Iter 138/300 - Loss: -0.7667\n"
     ]
    },
    {
     "name": "stderr",
     "output_type": "stream",
     "text": [
      "\n",
      "Iteration:  46%|████▌     | 138/300 [04:09<04:42,  1.74s/it, loss=-.767]\u001b[A\n",
      "Iteration:  46%|████▋     | 139/300 [04:10<04:47,  1.79s/it, loss=-.767]\u001b[A"
     ]
    },
    {
     "name": "stdout",
     "output_type": "stream",
     "text": [
      "Iter 139/300 - Loss: -0.7670\n"
     ]
    },
    {
     "name": "stderr",
     "output_type": "stream",
     "text": [
      "\n",
      "Iteration:  46%|████▋     | 139/300 [04:11<04:47,  1.79s/it, loss=-.767]\u001b[A\n",
      "Iteration:  47%|████▋     | 140/300 [04:12<04:43,  1.77s/it, loss=-.767]\u001b[A"
     ]
    },
    {
     "name": "stdout",
     "output_type": "stream",
     "text": [
      "Iter 140/300 - Loss: -0.7674\n"
     ]
    },
    {
     "name": "stderr",
     "output_type": "stream",
     "text": [
      "\n",
      "Iteration:  47%|████▋     | 140/300 [04:13<04:43,  1.77s/it, loss=-.768]\u001b[A\n",
      "Iteration:  47%|████▋     | 141/300 [04:14<04:41,  1.77s/it, loss=-.768]\u001b[A"
     ]
    },
    {
     "name": "stdout",
     "output_type": "stream",
     "text": [
      "Iter 141/300 - Loss: -0.7678\n"
     ]
    },
    {
     "name": "stderr",
     "output_type": "stream",
     "text": [
      "\n",
      "Iteration:  47%|████▋     | 141/300 [04:15<04:41,  1.77s/it, loss=-.768]\u001b[A\n",
      "Iteration:  47%|████▋     | 142/300 [04:15<04:38,  1.76s/it, loss=-.768]\u001b[A"
     ]
    },
    {
     "name": "stdout",
     "output_type": "stream",
     "text": [
      "Iter 142/300 - Loss: -0.7683\n"
     ]
    },
    {
     "name": "stderr",
     "output_type": "stream",
     "text": [
      "\n",
      "Iteration:  47%|████▋     | 142/300 [04:16<04:38,  1.76s/it, loss=-.769]\u001b[A\n",
      "Iteration:  48%|████▊     | 143/300 [04:17<04:36,  1.76s/it, loss=-.769]\u001b[A"
     ]
    },
    {
     "name": "stdout",
     "output_type": "stream",
     "text": [
      "Iter 143/300 - Loss: -0.7689\n"
     ]
    },
    {
     "name": "stderr",
     "output_type": "stream",
     "text": [
      "\n",
      "Iteration:  48%|████▊     | 143/300 [04:18<04:36,  1.76s/it, loss=-.77] \u001b[A\n",
      "Iteration:  48%|████▊     | 144/300 [04:19<04:33,  1.76s/it, loss=-.77]\u001b[A"
     ]
    },
    {
     "name": "stdout",
     "output_type": "stream",
     "text": [
      "Iter 144/300 - Loss: -0.7695\n"
     ]
    },
    {
     "name": "stderr",
     "output_type": "stream",
     "text": [
      "\n",
      "Iteration:  48%|████▊     | 144/300 [04:20<04:33,  1.76s/it, loss=-.77]\u001b[A\n",
      "Iteration:  48%|████▊     | 145/300 [04:21<04:38,  1.80s/it, loss=-.77]\u001b[A"
     ]
    },
    {
     "name": "stdout",
     "output_type": "stream",
     "text": [
      "Iter 145/300 - Loss: -0.7703\n"
     ]
    },
    {
     "name": "stderr",
     "output_type": "stream",
     "text": [
      "\n",
      "Iteration:  48%|████▊     | 145/300 [04:22<04:38,  1.80s/it, loss=-.771]\u001b[A\n",
      "Iteration:  49%|████▊     | 146/300 [04:22<04:34,  1.78s/it, loss=-.771]\u001b[A"
     ]
    },
    {
     "name": "stdout",
     "output_type": "stream",
     "text": [
      "Iter 146/300 - Loss: -0.7712\n"
     ]
    },
    {
     "name": "stderr",
     "output_type": "stream",
     "text": [
      "\n",
      "Iteration:  49%|████▊     | 146/300 [04:23<04:34,  1.78s/it, loss=-.772]\u001b[A\n",
      "Iteration:  49%|████▉     | 147/300 [04:24<04:35,  1.80s/it, loss=-.772]\u001b[A"
     ]
    },
    {
     "name": "stdout",
     "output_type": "stream",
     "text": [
      "Iter 147/300 - Loss: -0.7722\n"
     ]
    },
    {
     "name": "stderr",
     "output_type": "stream",
     "text": [
      "\n",
      "Iteration:  49%|████▉     | 147/300 [04:25<04:35,  1.80s/it, loss=-.773]\u001b[A\n",
      "Iteration:  49%|████▉     | 148/300 [04:26<04:30,  1.78s/it, loss=-.773]\u001b[A"
     ]
    },
    {
     "name": "stdout",
     "output_type": "stream",
     "text": [
      "Iter 148/300 - Loss: -0.7734\n"
     ]
    },
    {
     "name": "stderr",
     "output_type": "stream",
     "text": [
      "\n",
      "Iteration:  49%|████▉     | 148/300 [04:27<04:30,  1.78s/it, loss=-.775]\u001b[A\n",
      "Iteration:  50%|████▉     | 149/300 [04:28<04:28,  1.78s/it, loss=-.775]\u001b[A"
     ]
    },
    {
     "name": "stdout",
     "output_type": "stream",
     "text": [
      "Iter 149/300 - Loss: -0.7747\n"
     ]
    },
    {
     "name": "stderr",
     "output_type": "stream",
     "text": [
      "\n",
      "Iteration:  50%|████▉     | 149/300 [04:29<04:28,  1.78s/it, loss=-.776]\u001b[A\n",
      "Iteration:  50%|█████     | 150/300 [04:30<04:25,  1.77s/it, loss=-.776]\u001b[A"
     ]
    },
    {
     "name": "stdout",
     "output_type": "stream",
     "text": [
      "Iter 150/300 - Loss: -0.7757\n"
     ]
    },
    {
     "name": "stderr",
     "output_type": "stream",
     "text": [
      "\n",
      "Iteration:  50%|█████     | 150/300 [04:31<04:25,  1.77s/it, loss=-.777]\u001b[A\n",
      "Iteration:  50%|█████     | 151/300 [04:31<04:23,  1.77s/it, loss=-.777]\u001b[A"
     ]
    },
    {
     "name": "stdout",
     "output_type": "stream",
     "text": [
      "Iter 151/300 - Loss: -0.7768\n"
     ]
    },
    {
     "name": "stderr",
     "output_type": "stream",
     "text": [
      "\n",
      "Iteration:  50%|█████     | 151/300 [04:32<04:23,  1.77s/it, loss=-.779]\u001b[A\n",
      "Iteration:  51%|█████     | 152/300 [04:33<04:20,  1.76s/it, loss=-.779]\u001b[A"
     ]
    },
    {
     "name": "stdout",
     "output_type": "stream",
     "text": [
      "Iter 152/300 - Loss: -0.7793\n"
     ]
    },
    {
     "name": "stderr",
     "output_type": "stream",
     "text": [
      "\n",
      "Iteration:  51%|█████     | 152/300 [04:34<04:20,  1.76s/it, loss=-.78] \u001b[A\n",
      "Iteration:  51%|█████     | 153/300 [04:35<04:18,  1.76s/it, loss=-.78]\u001b[A"
     ]
    },
    {
     "name": "stdout",
     "output_type": "stream",
     "text": [
      "Iter 153/300 - Loss: -0.7798\n"
     ]
    },
    {
     "name": "stderr",
     "output_type": "stream",
     "text": [
      "\n",
      "Iteration:  51%|█████     | 153/300 [04:36<04:18,  1.76s/it, loss=-.781]\u001b[A\n",
      "Iteration:  51%|█████▏    | 154/300 [04:37<04:16,  1.76s/it, loss=-.781]\u001b[A"
     ]
    },
    {
     "name": "stdout",
     "output_type": "stream",
     "text": [
      "Iter 154/300 - Loss: -0.7808\n"
     ]
    },
    {
     "name": "stderr",
     "output_type": "stream",
     "text": [
      "\n",
      "Iteration:  51%|█████▏    | 154/300 [04:38<04:16,  1.76s/it, loss=-.781]\u001b[A\n",
      "Iteration:  52%|█████▏    | 155/300 [04:39<04:27,  1.84s/it, loss=-.781]\u001b[A"
     ]
    },
    {
     "name": "stdout",
     "output_type": "stream",
     "text": [
      "Iter 155/300 - Loss: -0.7814\n"
     ]
    },
    {
     "name": "stderr",
     "output_type": "stream",
     "text": [
      "\n",
      "Iteration:  52%|█████▏    | 155/300 [04:40<04:27,  1.84s/it, loss=-.781]\u001b[A\n",
      "Iteration:  52%|█████▏    | 156/300 [04:41<04:27,  1.86s/it, loss=-.781]\u001b[A"
     ]
    },
    {
     "name": "stdout",
     "output_type": "stream",
     "text": [
      "Iter 156/300 - Loss: -0.7815\n"
     ]
    },
    {
     "name": "stderr",
     "output_type": "stream",
     "text": [
      "\n",
      "Iteration:  52%|█████▏    | 156/300 [04:41<04:27,  1.86s/it, loss=-.781]\u001b[A\n",
      "Iteration:  52%|█████▏    | 157/300 [04:42<04:20,  1.83s/it, loss=-.781]\u001b[A"
     ]
    },
    {
     "name": "stdout",
     "output_type": "stream",
     "text": [
      "Iter 157/300 - Loss: -0.7813\n"
     ]
    },
    {
     "name": "stderr",
     "output_type": "stream",
     "text": [
      "\n",
      "Iteration:  52%|█████▏    | 157/300 [04:43<04:20,  1.83s/it, loss=-.782]\u001b[A\n",
      "Iteration:  53%|█████▎    | 158/300 [04:44<04:17,  1.81s/it, loss=-.782]\u001b[A"
     ]
    },
    {
     "name": "stdout",
     "output_type": "stream",
     "text": [
      "Iter 158/300 - Loss: -0.7815\n"
     ]
    },
    {
     "name": "stderr",
     "output_type": "stream",
     "text": [
      "\n",
      "Iteration:  53%|█████▎    | 158/300 [04:45<04:17,  1.81s/it, loss=-.782]\u001b[A\n",
      "Iteration:  53%|█████▎    | 159/300 [04:46<04:13,  1.80s/it, loss=-.782]\u001b[A"
     ]
    },
    {
     "name": "stdout",
     "output_type": "stream",
     "text": [
      "Iter 159/300 - Loss: -0.7821\n"
     ]
    },
    {
     "name": "stderr",
     "output_type": "stream",
     "text": [
      "\n",
      "Iteration:  53%|█████▎    | 159/300 [04:47<04:13,  1.80s/it, loss=-.783]\u001b[A\n",
      "Iteration:  53%|█████▎    | 160/300 [04:48<04:09,  1.78s/it, loss=-.783]\u001b[A"
     ]
    },
    {
     "name": "stdout",
     "output_type": "stream",
     "text": [
      "Iter 160/300 - Loss: -0.7828\n"
     ]
    },
    {
     "name": "stderr",
     "output_type": "stream",
     "text": [
      "\n",
      "Iteration:  53%|█████▎    | 160/300 [04:48<04:09,  1.78s/it, loss=-.783]\u001b[A\n",
      "Iteration:  54%|█████▎    | 161/300 [04:49<04:06,  1.77s/it, loss=-.783]\u001b[A"
     ]
    },
    {
     "name": "stdout",
     "output_type": "stream",
     "text": [
      "Iter 161/300 - Loss: -0.7832\n"
     ]
    },
    {
     "name": "stderr",
     "output_type": "stream",
     "text": [
      "\n",
      "Iteration:  54%|█████▎    | 161/300 [04:50<04:06,  1.77s/it, loss=-.783]\u001b[A\n",
      "Iteration:  54%|█████▍    | 162/300 [04:51<04:05,  1.78s/it, loss=-.783]\u001b[A"
     ]
    },
    {
     "name": "stdout",
     "output_type": "stream",
     "text": [
      "Iter 162/300 - Loss: -0.7834\n"
     ]
    },
    {
     "name": "stderr",
     "output_type": "stream",
     "text": [
      "\n",
      "Iteration:  54%|█████▍    | 162/300 [04:52<04:05,  1.78s/it, loss=-.784]\u001b[A\n",
      "Iteration:  54%|█████▍    | 163/300 [04:53<04:12,  1.84s/it, loss=-.784]\u001b[A"
     ]
    },
    {
     "name": "stdout",
     "output_type": "stream",
     "text": [
      "Iter 163/300 - Loss: -0.7835\n"
     ]
    },
    {
     "name": "stderr",
     "output_type": "stream",
     "text": [
      "\n",
      "Iteration:  54%|█████▍    | 163/300 [04:54<04:12,  1.84s/it, loss=-.784]\u001b[A\n",
      "Iteration:  55%|█████▍    | 164/300 [04:55<04:07,  1.82s/it, loss=-.784]\u001b[A"
     ]
    },
    {
     "name": "stdout",
     "output_type": "stream",
     "text": [
      "Iter 164/300 - Loss: -0.7838\n"
     ]
    },
    {
     "name": "stderr",
     "output_type": "stream",
     "text": [
      "\n",
      "Iteration:  55%|█████▍    | 164/300 [04:56<04:07,  1.82s/it, loss=-.784]\u001b[A\n",
      "Iteration:  55%|█████▌    | 165/300 [04:57<04:02,  1.80s/it, loss=-.784]\u001b[A"
     ]
    },
    {
     "name": "stdout",
     "output_type": "stream",
     "text": [
      "Iter 165/300 - Loss: -0.7843\n"
     ]
    },
    {
     "name": "stderr",
     "output_type": "stream",
     "text": [
      "\n",
      "Iteration:  55%|█████▌    | 165/300 [04:58<04:02,  1.80s/it, loss=-.785]\u001b[A\n",
      "Iteration:  55%|█████▌    | 166/300 [04:58<03:58,  1.78s/it, loss=-.785]\u001b[A"
     ]
    },
    {
     "name": "stdout",
     "output_type": "stream",
     "text": [
      "Iter 166/300 - Loss: -0.7848\n"
     ]
    },
    {
     "name": "stderr",
     "output_type": "stream",
     "text": [
      "\n",
      "Iteration:  55%|█████▌    | 166/300 [04:59<03:58,  1.78s/it, loss=-.785]\u001b[A\n",
      "Iteration:  56%|█████▌    | 167/300 [05:00<03:56,  1.78s/it, loss=-.785]\u001b[A"
     ]
    },
    {
     "name": "stdout",
     "output_type": "stream",
     "text": [
      "Iter 167/300 - Loss: -0.7852\n"
     ]
    },
    {
     "name": "stderr",
     "output_type": "stream",
     "text": [
      "\n",
      "Iteration:  56%|█████▌    | 167/300 [05:01<03:56,  1.78s/it, loss=-.785]\u001b[A\n",
      "Iteration:  56%|█████▌    | 168/300 [05:02<03:53,  1.77s/it, loss=-.785]\u001b[A"
     ]
    },
    {
     "name": "stdout",
     "output_type": "stream",
     "text": [
      "Iter 168/300 - Loss: -0.7855\n"
     ]
    },
    {
     "name": "stderr",
     "output_type": "stream",
     "text": [
      "\n",
      "Iteration:  56%|█████▌    | 168/300 [05:03<03:53,  1.77s/it, loss=-.786]\u001b[A\n",
      "Iteration:  56%|█████▋    | 169/300 [05:04<03:51,  1.76s/it, loss=-.786]\u001b[A"
     ]
    },
    {
     "name": "stdout",
     "output_type": "stream",
     "text": [
      "Iter 169/300 - Loss: -0.7857\n"
     ]
    },
    {
     "name": "stderr",
     "output_type": "stream",
     "text": [
      "\n",
      "Iteration:  56%|█████▋    | 169/300 [05:05<03:51,  1.76s/it, loss=-.786]\u001b[A\n",
      "Iteration:  57%|█████▋    | 170/300 [05:05<03:49,  1.76s/it, loss=-.786]\u001b[A"
     ]
    },
    {
     "name": "stdout",
     "output_type": "stream",
     "text": [
      "Iter 170/300 - Loss: -0.7861\n"
     ]
    },
    {
     "name": "stderr",
     "output_type": "stream",
     "text": [
      "\n",
      "Iteration:  57%|█████▋    | 170/300 [05:06<03:49,  1.76s/it, loss=-.786]\u001b[A\n",
      "Iteration:  57%|█████▋    | 171/300 [05:07<03:48,  1.77s/it, loss=-.786]\u001b[A"
     ]
    },
    {
     "name": "stdout",
     "output_type": "stream",
     "text": [
      "Iter 171/300 - Loss: -0.7865\n"
     ]
    },
    {
     "name": "stderr",
     "output_type": "stream",
     "text": [
      "\n",
      "Iteration:  57%|█████▋    | 171/300 [05:08<03:48,  1.77s/it, loss=-.787]\u001b[A\n",
      "Iteration:  57%|█████▋    | 172/300 [05:09<03:46,  1.77s/it, loss=-.787]\u001b[A"
     ]
    },
    {
     "name": "stdout",
     "output_type": "stream",
     "text": [
      "Iter 172/300 - Loss: -0.7869\n"
     ]
    },
    {
     "name": "stderr",
     "output_type": "stream",
     "text": [
      "\n",
      "Iteration:  57%|█████▋    | 172/300 [05:10<03:46,  1.77s/it, loss=-.787]\u001b[A\n",
      "Iteration:  58%|█████▊    | 173/300 [05:11<03:43,  1.76s/it, loss=-.787]\u001b[A"
     ]
    },
    {
     "name": "stdout",
     "output_type": "stream",
     "text": [
      "Iter 173/300 - Loss: -0.7872\n"
     ]
    },
    {
     "name": "stderr",
     "output_type": "stream",
     "text": [
      "\n",
      "Iteration:  58%|█████▊    | 173/300 [05:12<03:43,  1.76s/it, loss=-.788]\u001b[A\n",
      "Iteration:  58%|█████▊    | 174/300 [05:12<03:42,  1.77s/it, loss=-.788]\u001b[A"
     ]
    },
    {
     "name": "stdout",
     "output_type": "stream",
     "text": [
      "Iter 174/300 - Loss: -0.7875\n"
     ]
    },
    {
     "name": "stderr",
     "output_type": "stream",
     "text": [
      "\n",
      "Iteration:  58%|█████▊    | 174/300 [05:13<03:42,  1.77s/it, loss=-.788]\u001b[A\n",
      "Iteration:  58%|█████▊    | 175/300 [05:14<03:41,  1.77s/it, loss=-.788]\u001b[A"
     ]
    },
    {
     "name": "stdout",
     "output_type": "stream",
     "text": [
      "Iter 175/300 - Loss: -0.7878\n"
     ]
    },
    {
     "name": "stderr",
     "output_type": "stream",
     "text": [
      "\n",
      "Iteration:  58%|█████▊    | 175/300 [05:15<03:41,  1.77s/it, loss=-.788]\u001b[A\n",
      "Iteration:  59%|█████▊    | 176/300 [05:16<03:39,  1.77s/it, loss=-.788]\u001b[A"
     ]
    },
    {
     "name": "stdout",
     "output_type": "stream",
     "text": [
      "Iter 176/300 - Loss: -0.7881\n"
     ]
    },
    {
     "name": "stderr",
     "output_type": "stream",
     "text": [
      "\n",
      "Iteration:  59%|█████▊    | 176/300 [05:17<03:39,  1.77s/it, loss=-.788]\u001b[A\n",
      "Iteration:  59%|█████▉    | 177/300 [05:18<03:36,  1.76s/it, loss=-.788]\u001b[A"
     ]
    },
    {
     "name": "stdout",
     "output_type": "stream",
     "text": [
      "Iter 177/300 - Loss: -0.7885\n"
     ]
    },
    {
     "name": "stderr",
     "output_type": "stream",
     "text": [
      "\n",
      "Iteration:  59%|█████▉    | 177/300 [05:19<03:36,  1.76s/it, loss=-.789]\u001b[A\n",
      "Iteration:  59%|█████▉    | 178/300 [05:20<03:34,  1.76s/it, loss=-.789]\u001b[A"
     ]
    },
    {
     "name": "stdout",
     "output_type": "stream",
     "text": [
      "Iter 178/300 - Loss: -0.7888\n"
     ]
    },
    {
     "name": "stderr",
     "output_type": "stream",
     "text": [
      "\n",
      "Iteration:  59%|█████▉    | 178/300 [05:20<03:34,  1.76s/it, loss=-.789]\u001b[A\n",
      "Iteration:  60%|█████▉    | 179/300 [05:21<03:37,  1.80s/it, loss=-.789]\u001b[A"
     ]
    },
    {
     "name": "stdout",
     "output_type": "stream",
     "text": [
      "Iter 179/300 - Loss: -0.7891\n"
     ]
    },
    {
     "name": "stderr",
     "output_type": "stream",
     "text": [
      "\n",
      "Iteration:  60%|█████▉    | 179/300 [05:22<03:37,  1.80s/it, loss=-.789]\u001b[A\n",
      "Iteration:  60%|██████    | 180/300 [05:23<03:33,  1.78s/it, loss=-.789]\u001b[A"
     ]
    },
    {
     "name": "stdout",
     "output_type": "stream",
     "text": [
      "Iter 180/300 - Loss: -0.7894\n"
     ]
    },
    {
     "name": "stderr",
     "output_type": "stream",
     "text": [
      "\n",
      "Iteration:  60%|██████    | 180/300 [05:24<03:33,  1.78s/it, loss=-.79] \u001b[A\n",
      "Iteration:  60%|██████    | 181/300 [05:25<03:30,  1.77s/it, loss=-.79]\u001b[A"
     ]
    },
    {
     "name": "stdout",
     "output_type": "stream",
     "text": [
      "Iter 181/300 - Loss: -0.7897\n"
     ]
    },
    {
     "name": "stderr",
     "output_type": "stream",
     "text": [
      "\n",
      "Iteration:  60%|██████    | 181/300 [05:26<03:30,  1.77s/it, loss=-.79]\u001b[A\n",
      "Iteration:  61%|██████    | 182/300 [05:27<03:28,  1.76s/it, loss=-.79]\u001b[A"
     ]
    },
    {
     "name": "stdout",
     "output_type": "stream",
     "text": [
      "Iter 182/300 - Loss: -0.7900\n"
     ]
    },
    {
     "name": "stderr",
     "output_type": "stream",
     "text": [
      "\n",
      "Iteration:  61%|██████    | 182/300 [05:28<03:28,  1.76s/it, loss=-.79]\u001b[A\n",
      "Iteration:  61%|██████    | 183/300 [05:28<03:26,  1.76s/it, loss=-.79]\u001b[A"
     ]
    },
    {
     "name": "stdout",
     "output_type": "stream",
     "text": [
      "Iter 183/300 - Loss: -0.7903\n"
     ]
    },
    {
     "name": "stderr",
     "output_type": "stream",
     "text": [
      "\n",
      "Iteration:  61%|██████    | 183/300 [05:29<03:26,  1.76s/it, loss=-.791]\u001b[A\n",
      "Iteration:  61%|██████▏   | 184/300 [05:30<03:24,  1.76s/it, loss=-.791]\u001b[A"
     ]
    },
    {
     "name": "stdout",
     "output_type": "stream",
     "text": [
      "Iter 184/300 - Loss: -0.7906\n"
     ]
    },
    {
     "name": "stderr",
     "output_type": "stream",
     "text": [
      "\n",
      "Iteration:  61%|██████▏   | 184/300 [05:31<03:24,  1.76s/it, loss=-.791]\u001b[A\n",
      "Iteration:  62%|██████▏   | 185/300 [05:32<03:22,  1.76s/it, loss=-.791]\u001b[A"
     ]
    },
    {
     "name": "stdout",
     "output_type": "stream",
     "text": [
      "Iter 185/300 - Loss: -0.7909\n"
     ]
    },
    {
     "name": "stderr",
     "output_type": "stream",
     "text": [
      "\n",
      "Iteration:  62%|██████▏   | 185/300 [05:33<03:22,  1.76s/it, loss=-.791]\u001b[A\n",
      "Iteration:  62%|██████▏   | 186/300 [05:34<03:20,  1.76s/it, loss=-.791]\u001b[A"
     ]
    },
    {
     "name": "stdout",
     "output_type": "stream",
     "text": [
      "Iter 186/300 - Loss: -0.7912\n"
     ]
    },
    {
     "name": "stderr",
     "output_type": "stream",
     "text": [
      "\n",
      "Iteration:  62%|██████▏   | 186/300 [05:35<03:20,  1.76s/it, loss=-.791]\u001b[A\n",
      "Iteration:  62%|██████▏   | 187/300 [05:35<03:18,  1.76s/it, loss=-.791]\u001b[A"
     ]
    },
    {
     "name": "stdout",
     "output_type": "stream",
     "text": [
      "Iter 187/300 - Loss: -0.7914\n"
     ]
    },
    {
     "name": "stderr",
     "output_type": "stream",
     "text": [
      "\n",
      "Iteration:  62%|██████▏   | 187/300 [05:36<03:18,  1.76s/it, loss=-.792]\u001b[A\n",
      "Iteration:  63%|██████▎   | 188/300 [05:37<03:17,  1.76s/it, loss=-.792]\u001b[A"
     ]
    },
    {
     "name": "stdout",
     "output_type": "stream",
     "text": [
      "Iter 188/300 - Loss: -0.7917\n"
     ]
    },
    {
     "name": "stderr",
     "output_type": "stream",
     "text": [
      "\n",
      "Iteration:  63%|██████▎   | 188/300 [05:38<03:17,  1.76s/it, loss=-.792]\u001b[A\n",
      "Iteration:  63%|██████▎   | 189/300 [05:39<03:15,  1.76s/it, loss=-.792]\u001b[A"
     ]
    },
    {
     "name": "stdout",
     "output_type": "stream",
     "text": [
      "Iter 189/300 - Loss: -0.7920\n"
     ]
    },
    {
     "name": "stderr",
     "output_type": "stream",
     "text": [
      "\n",
      "Iteration:  63%|██████▎   | 189/300 [05:40<03:15,  1.76s/it, loss=-.792]\u001b[A\n",
      "Iteration:  63%|██████▎   | 190/300 [05:41<03:14,  1.76s/it, loss=-.792]\u001b[A"
     ]
    },
    {
     "name": "stdout",
     "output_type": "stream",
     "text": [
      "Iter 190/300 - Loss: -0.7922\n"
     ]
    },
    {
     "name": "stderr",
     "output_type": "stream",
     "text": [
      "\n",
      "Iteration:  63%|██████▎   | 190/300 [05:42<03:14,  1.76s/it, loss=-.792]\u001b[A\n",
      "Iteration:  64%|██████▎   | 191/300 [05:43<03:12,  1.77s/it, loss=-.792]\u001b[A"
     ]
    },
    {
     "name": "stdout",
     "output_type": "stream",
     "text": [
      "Iter 191/300 - Loss: -0.7925\n"
     ]
    },
    {
     "name": "stderr",
     "output_type": "stream",
     "text": [
      "\n",
      "Iteration:  64%|██████▎   | 191/300 [05:43<03:12,  1.77s/it, loss=-.793]\u001b[A\n",
      "Iteration:  64%|██████▍   | 192/300 [05:44<03:10,  1.76s/it, loss=-.793]\u001b[A"
     ]
    },
    {
     "name": "stdout",
     "output_type": "stream",
     "text": [
      "Iter 192/300 - Loss: -0.7927\n"
     ]
    },
    {
     "name": "stderr",
     "output_type": "stream",
     "text": [
      "\n",
      "Iteration:  64%|██████▍   | 192/300 [05:45<03:10,  1.76s/it, loss=-.793]\u001b[A\n",
      "Iteration:  64%|██████▍   | 193/300 [05:46<03:08,  1.76s/it, loss=-.793]\u001b[A"
     ]
    },
    {
     "name": "stdout",
     "output_type": "stream",
     "text": [
      "Iter 193/300 - Loss: -0.7930\n"
     ]
    },
    {
     "name": "stderr",
     "output_type": "stream",
     "text": [
      "\n",
      "Iteration:  64%|██████▍   | 193/300 [05:47<03:08,  1.76s/it, loss=-.793]\u001b[A\n",
      "Iteration:  65%|██████▍   | 194/300 [05:48<03:06,  1.76s/it, loss=-.793]\u001b[A"
     ]
    },
    {
     "name": "stdout",
     "output_type": "stream",
     "text": [
      "Iter 194/300 - Loss: -0.7932\n"
     ]
    },
    {
     "name": "stderr",
     "output_type": "stream",
     "text": [
      "\n",
      "Iteration:  65%|██████▍   | 194/300 [05:49<03:06,  1.76s/it, loss=-.793]\u001b[A\n",
      "Iteration:  65%|██████▌   | 195/300 [05:50<03:05,  1.76s/it, loss=-.793]\u001b[A"
     ]
    },
    {
     "name": "stdout",
     "output_type": "stream",
     "text": [
      "Iter 195/300 - Loss: -0.7934\n"
     ]
    },
    {
     "name": "stderr",
     "output_type": "stream",
     "text": [
      "\n",
      "Iteration:  65%|██████▌   | 195/300 [05:51<03:05,  1.76s/it, loss=-.794]\u001b[A\n",
      "Iteration:  65%|██████▌   | 196/300 [05:52<03:10,  1.83s/it, loss=-.794]\u001b[A"
     ]
    },
    {
     "name": "stdout",
     "output_type": "stream",
     "text": [
      "Iter 196/300 - Loss: -0.7937\n"
     ]
    },
    {
     "name": "stderr",
     "output_type": "stream",
     "text": [
      "\n",
      "Iteration:  65%|██████▌   | 196/300 [05:53<03:10,  1.83s/it, loss=-.794]\u001b[A\n",
      "Iteration:  66%|██████▌   | 197/300 [05:53<03:09,  1.84s/it, loss=-.794]\u001b[A"
     ]
    },
    {
     "name": "stdout",
     "output_type": "stream",
     "text": [
      "Iter 197/300 - Loss: -0.7939\n"
     ]
    },
    {
     "name": "stderr",
     "output_type": "stream",
     "text": [
      "\n",
      "Iteration:  66%|██████▌   | 197/300 [05:54<03:09,  1.84s/it, loss=-.794]\u001b[A\n",
      "Iteration:  66%|██████▌   | 198/300 [05:55<03:05,  1.82s/it, loss=-.794]\u001b[A"
     ]
    },
    {
     "name": "stdout",
     "output_type": "stream",
     "text": [
      "Iter 198/300 - Loss: -0.7941\n"
     ]
    },
    {
     "name": "stderr",
     "output_type": "stream",
     "text": [
      "\n",
      "Iteration:  66%|██████▌   | 198/300 [05:56<03:05,  1.82s/it, loss=-.794]\u001b[A\n",
      "Iteration:  66%|██████▋   | 199/300 [05:57<03:01,  1.79s/it, loss=-.794]\u001b[A"
     ]
    },
    {
     "name": "stdout",
     "output_type": "stream",
     "text": [
      "Iter 199/300 - Loss: -0.7943\n"
     ]
    },
    {
     "name": "stderr",
     "output_type": "stream",
     "text": [
      "\n",
      "Iteration:  66%|██████▋   | 199/300 [05:58<03:01,  1.79s/it, loss=-.795]\u001b[A\n",
      "Iteration:  67%|██████▋   | 200/300 [05:59<02:57,  1.78s/it, loss=-.795]\u001b[A"
     ]
    },
    {
     "name": "stdout",
     "output_type": "stream",
     "text": [
      "Iter 200/300 - Loss: -0.7946\n"
     ]
    },
    {
     "name": "stderr",
     "output_type": "stream",
     "text": [
      "\n",
      "Iteration:  67%|██████▋   | 200/300 [06:00<02:57,  1.78s/it, loss=-.795]\u001b[A\n",
      "Iteration:  67%|██████▋   | 201/300 [06:01<03:03,  1.85s/it, loss=-.795]\u001b[A"
     ]
    },
    {
     "name": "stdout",
     "output_type": "stream",
     "text": [
      "Iter 201/300 - Loss: -0.7948\n"
     ]
    },
    {
     "name": "stderr",
     "output_type": "stream",
     "text": [
      "\n",
      "Iteration:  67%|██████▋   | 201/300 [06:02<03:03,  1.85s/it, loss=-.795]\u001b[A\n",
      "Iteration:  67%|██████▋   | 202/300 [06:02<02:58,  1.82s/it, loss=-.795]\u001b[A"
     ]
    },
    {
     "name": "stdout",
     "output_type": "stream",
     "text": [
      "Iter 202/300 - Loss: -0.7950\n"
     ]
    },
    {
     "name": "stderr",
     "output_type": "stream",
     "text": [
      "\n",
      "Iteration:  67%|██████▋   | 202/300 [06:03<02:58,  1.82s/it, loss=-.795]\u001b[A\n",
      "Iteration:  68%|██████▊   | 203/300 [06:04<02:54,  1.80s/it, loss=-.795]\u001b[A"
     ]
    },
    {
     "name": "stdout",
     "output_type": "stream",
     "text": [
      "Iter 203/300 - Loss: -0.7952\n"
     ]
    },
    {
     "name": "stderr",
     "output_type": "stream",
     "text": [
      "\n",
      "Iteration:  68%|██████▊   | 203/300 [06:05<02:54,  1.80s/it, loss=-.795]\u001b[A\n",
      "Iteration:  68%|██████▊   | 204/300 [06:06<02:51,  1.79s/it, loss=-.795]\u001b[A"
     ]
    },
    {
     "name": "stdout",
     "output_type": "stream",
     "text": [
      "Iter 204/300 - Loss: -0.7954\n"
     ]
    },
    {
     "name": "stderr",
     "output_type": "stream",
     "text": [
      "\n",
      "Iteration:  68%|██████▊   | 204/300 [06:07<02:51,  1.79s/it, loss=-.796]\u001b[A\n",
      "Iteration:  68%|██████▊   | 205/300 [06:08<02:51,  1.80s/it, loss=-.796]\u001b[A"
     ]
    },
    {
     "name": "stdout",
     "output_type": "stream",
     "text": [
      "Iter 205/300 - Loss: -0.7956\n"
     ]
    },
    {
     "name": "stderr",
     "output_type": "stream",
     "text": [
      "\n",
      "Iteration:  68%|██████▊   | 205/300 [06:09<02:51,  1.80s/it, loss=-.796]\u001b[A\n",
      "Iteration:  69%|██████▊   | 206/300 [06:10<02:50,  1.81s/it, loss=-.796]\u001b[A"
     ]
    },
    {
     "name": "stdout",
     "output_type": "stream",
     "text": [
      "Iter 206/300 - Loss: -0.7958\n"
     ]
    },
    {
     "name": "stderr",
     "output_type": "stream",
     "text": [
      "\n",
      "Iteration:  69%|██████▊   | 206/300 [06:11<02:50,  1.81s/it, loss=-.796]\u001b[A\n",
      "Iteration:  69%|██████▉   | 207/300 [06:12<02:55,  1.89s/it, loss=-.796]\u001b[A"
     ]
    },
    {
     "name": "stdout",
     "output_type": "stream",
     "text": [
      "Iter 207/300 - Loss: -0.7959\n"
     ]
    },
    {
     "name": "stderr",
     "output_type": "stream",
     "text": [
      "\n",
      "Iteration:  69%|██████▉   | 207/300 [06:13<02:55,  1.89s/it, loss=-.796]\u001b[A\n",
      "Iteration:  69%|██████▉   | 208/300 [06:13<02:50,  1.86s/it, loss=-.796]\u001b[A"
     ]
    },
    {
     "name": "stdout",
     "output_type": "stream",
     "text": [
      "Iter 208/300 - Loss: -0.7961\n"
     ]
    },
    {
     "name": "stderr",
     "output_type": "stream",
     "text": [
      "\n",
      "Iteration:  69%|██████▉   | 208/300 [06:14<02:50,  1.86s/it, loss=-.796]\u001b[A\n",
      "Iteration:  70%|██████▉   | 209/300 [06:15<02:45,  1.82s/it, loss=-.796]\u001b[A"
     ]
    },
    {
     "name": "stdout",
     "output_type": "stream",
     "text": [
      "Iter 209/300 - Loss: -0.7963\n"
     ]
    },
    {
     "name": "stderr",
     "output_type": "stream",
     "text": [
      "\n",
      "Iteration:  70%|██████▉   | 209/300 [06:16<02:45,  1.82s/it, loss=-.796]\u001b[A\n",
      "Iteration:  70%|███████   | 210/300 [06:17<02:41,  1.80s/it, loss=-.796]\u001b[A"
     ]
    },
    {
     "name": "stdout",
     "output_type": "stream",
     "text": [
      "Iter 210/300 - Loss: -0.7965\n"
     ]
    },
    {
     "name": "stderr",
     "output_type": "stream",
     "text": [
      "\n",
      "Iteration:  70%|███████   | 210/300 [06:18<02:41,  1.80s/it, loss=-.797]\u001b[A\n",
      "Iteration:  70%|███████   | 211/300 [06:19<02:38,  1.78s/it, loss=-.797]\u001b[A"
     ]
    },
    {
     "name": "stdout",
     "output_type": "stream",
     "text": [
      "Iter 211/300 - Loss: -0.7967\n"
     ]
    },
    {
     "name": "stderr",
     "output_type": "stream",
     "text": [
      "\n",
      "Iteration:  70%|███████   | 211/300 [06:20<02:38,  1.78s/it, loss=-.797]\u001b[A\n",
      "Iteration:  71%|███████   | 212/300 [06:20<02:36,  1.78s/it, loss=-.797]\u001b[A"
     ]
    },
    {
     "name": "stdout",
     "output_type": "stream",
     "text": [
      "Iter 212/300 - Loss: -0.7968\n"
     ]
    },
    {
     "name": "stderr",
     "output_type": "stream",
     "text": [
      "\n",
      "Iteration:  71%|███████   | 212/300 [06:21<02:36,  1.78s/it, loss=-.797]\u001b[A\n",
      "Iteration:  71%|███████   | 213/300 [06:22<02:36,  1.79s/it, loss=-.797]\u001b[A"
     ]
    },
    {
     "name": "stdout",
     "output_type": "stream",
     "text": [
      "Iter 213/300 - Loss: -0.7970\n"
     ]
    },
    {
     "name": "stderr",
     "output_type": "stream",
     "text": [
      "\n",
      "Iteration:  71%|███████   | 213/300 [06:23<02:36,  1.79s/it, loss=-.797]\u001b[A\n",
      "Iteration:  71%|███████▏  | 214/300 [06:24<02:32,  1.78s/it, loss=-.797]\u001b[A"
     ]
    },
    {
     "name": "stdout",
     "output_type": "stream",
     "text": [
      "Iter 214/300 - Loss: -0.7972\n"
     ]
    },
    {
     "name": "stderr",
     "output_type": "stream",
     "text": [
      "\n",
      "Iteration:  71%|███████▏  | 214/300 [06:25<02:32,  1.78s/it, loss=-.797]\u001b[A\n",
      "Iteration:  72%|███████▏  | 215/300 [06:26<02:30,  1.77s/it, loss=-.797]\u001b[A"
     ]
    },
    {
     "name": "stdout",
     "output_type": "stream",
     "text": [
      "Iter 215/300 - Loss: -0.7973\n"
     ]
    },
    {
     "name": "stderr",
     "output_type": "stream",
     "text": [
      "\n",
      "Iteration:  72%|███████▏  | 215/300 [06:27<02:30,  1.77s/it, loss=-.797]\u001b[A\n",
      "Iteration:  72%|███████▏  | 216/300 [06:28<02:28,  1.76s/it, loss=-.797]\u001b[A"
     ]
    },
    {
     "name": "stdout",
     "output_type": "stream",
     "text": [
      "Iter 216/300 - Loss: -0.7975\n"
     ]
    },
    {
     "name": "stderr",
     "output_type": "stream",
     "text": [
      "\n",
      "Iteration:  72%|███████▏  | 216/300 [06:28<02:28,  1.76s/it, loss=-.798]\u001b[A\n",
      "Iteration:  72%|███████▏  | 217/300 [06:29<02:25,  1.76s/it, loss=-.798]\u001b[A"
     ]
    },
    {
     "name": "stdout",
     "output_type": "stream",
     "text": [
      "Iter 217/300 - Loss: -0.7976\n"
     ]
    },
    {
     "name": "stderr",
     "output_type": "stream",
     "text": [
      "\n",
      "Iteration:  72%|███████▏  | 217/300 [06:30<02:25,  1.76s/it, loss=-.798]\u001b[A\n",
      "Iteration:  73%|███████▎  | 218/300 [06:31<02:24,  1.76s/it, loss=-.798]\u001b[A"
     ]
    },
    {
     "name": "stdout",
     "output_type": "stream",
     "text": [
      "Iter 218/300 - Loss: -0.7978\n"
     ]
    },
    {
     "name": "stderr",
     "output_type": "stream",
     "text": [
      "\n",
      "Iteration:  73%|███████▎  | 218/300 [06:32<02:24,  1.76s/it, loss=-.798]\u001b[A\n",
      "Iteration:  73%|███████▎  | 219/300 [06:33<02:22,  1.76s/it, loss=-.798]\u001b[A"
     ]
    },
    {
     "name": "stdout",
     "output_type": "stream",
     "text": [
      "Iter 219/300 - Loss: -0.7979\n"
     ]
    },
    {
     "name": "stderr",
     "output_type": "stream",
     "text": [
      "\n",
      "Iteration:  73%|███████▎  | 219/300 [06:34<02:22,  1.76s/it, loss=-.798]\u001b[A\n",
      "Iteration:  73%|███████▎  | 220/300 [06:35<02:20,  1.76s/it, loss=-.798]\u001b[A"
     ]
    },
    {
     "name": "stdout",
     "output_type": "stream",
     "text": [
      "Iter 220/300 - Loss: -0.7981\n"
     ]
    },
    {
     "name": "stderr",
     "output_type": "stream",
     "text": [
      "\n",
      "Iteration:  73%|███████▎  | 220/300 [06:35<02:20,  1.76s/it, loss=-.798]\u001b[A\n",
      "Iteration:  74%|███████▎  | 221/300 [06:36<02:18,  1.76s/it, loss=-.798]\u001b[A"
     ]
    },
    {
     "name": "stdout",
     "output_type": "stream",
     "text": [
      "Iter 221/300 - Loss: -0.7982\n"
     ]
    },
    {
     "name": "stderr",
     "output_type": "stream",
     "text": [
      "\n",
      "Iteration:  74%|███████▎  | 221/300 [06:37<02:18,  1.76s/it, loss=-.798]\u001b[A\n",
      "Iteration:  74%|███████▍  | 222/300 [06:38<02:16,  1.75s/it, loss=-.798]\u001b[A"
     ]
    },
    {
     "name": "stdout",
     "output_type": "stream",
     "text": [
      "Iter 222/300 - Loss: -0.7984\n"
     ]
    },
    {
     "name": "stderr",
     "output_type": "stream",
     "text": [
      "\n",
      "Iteration:  74%|███████▍  | 222/300 [06:39<02:16,  1.75s/it, loss=-.799]\u001b[A\n",
      "Iteration:  74%|███████▍  | 223/300 [06:40<02:14,  1.75s/it, loss=-.799]\u001b[A"
     ]
    },
    {
     "name": "stdout",
     "output_type": "stream",
     "text": [
      "Iter 223/300 - Loss: -0.7985\n"
     ]
    },
    {
     "name": "stderr",
     "output_type": "stream",
     "text": [
      "\n",
      "Iteration:  74%|███████▍  | 223/300 [06:41<02:14,  1.75s/it, loss=-.799]\u001b[A\n",
      "Iteration:  75%|███████▍  | 224/300 [06:42<02:12,  1.75s/it, loss=-.799]\u001b[A"
     ]
    },
    {
     "name": "stdout",
     "output_type": "stream",
     "text": [
      "Iter 224/300 - Loss: -0.7986\n"
     ]
    },
    {
     "name": "stderr",
     "output_type": "stream",
     "text": [
      "\n",
      "Iteration:  75%|███████▍  | 224/300 [06:42<02:12,  1.75s/it, loss=-.799]\u001b[A\n",
      "Iteration:  75%|███████▌  | 225/300 [06:43<02:11,  1.76s/it, loss=-.799]\u001b[A"
     ]
    },
    {
     "name": "stdout",
     "output_type": "stream",
     "text": [
      "Iter 225/300 - Loss: -0.7988\n"
     ]
    },
    {
     "name": "stderr",
     "output_type": "stream",
     "text": [
      "\n",
      "Iteration:  75%|███████▌  | 225/300 [06:44<02:11,  1.76s/it, loss=-.799]\u001b[A\n",
      "Iteration:  75%|███████▌  | 226/300 [06:45<02:09,  1.75s/it, loss=-.799]\u001b[A"
     ]
    },
    {
     "name": "stdout",
     "output_type": "stream",
     "text": [
      "Iter 226/300 - Loss: -0.7989\n"
     ]
    },
    {
     "name": "stderr",
     "output_type": "stream",
     "text": [
      "\n",
      "Iteration:  75%|███████▌  | 226/300 [06:46<02:09,  1.75s/it, loss=-.799]\u001b[A\n",
      "Iteration:  76%|███████▌  | 227/300 [06:47<02:07,  1.75s/it, loss=-.799]\u001b[A"
     ]
    },
    {
     "name": "stdout",
     "output_type": "stream",
     "text": [
      "Iter 227/300 - Loss: -0.7990\n"
     ]
    },
    {
     "name": "stderr",
     "output_type": "stream",
     "text": [
      "\n",
      "Iteration:  76%|███████▌  | 227/300 [06:48<02:07,  1.75s/it, loss=-.799]\u001b[A\n",
      "Iteration:  76%|███████▌  | 228/300 [06:49<02:05,  1.75s/it, loss=-.799]\u001b[A"
     ]
    },
    {
     "name": "stdout",
     "output_type": "stream",
     "text": [
      "Iter 228/300 - Loss: -0.7992\n"
     ]
    },
    {
     "name": "stderr",
     "output_type": "stream",
     "text": [
      "\n",
      "Iteration:  76%|███████▌  | 228/300 [06:49<02:05,  1.75s/it, loss=-.799]\u001b[A\n",
      "Iteration:  76%|███████▋  | 229/300 [06:50<02:04,  1.75s/it, loss=-.799]\u001b[A"
     ]
    },
    {
     "name": "stdout",
     "output_type": "stream",
     "text": [
      "Iter 229/300 - Loss: -0.7993\n"
     ]
    },
    {
     "name": "stderr",
     "output_type": "stream",
     "text": [
      "\n",
      "Iteration:  76%|███████▋  | 229/300 [06:51<02:04,  1.75s/it, loss=-.799]\u001b[A\n",
      "Iteration:  77%|███████▋  | 230/300 [06:52<02:07,  1.82s/it, loss=-.799]\u001b[A"
     ]
    },
    {
     "name": "stdout",
     "output_type": "stream",
     "text": [
      "Iter 230/300 - Loss: -0.7994\n"
     ]
    },
    {
     "name": "stderr",
     "output_type": "stream",
     "text": [
      "\n",
      "Iteration:  77%|███████▋  | 230/300 [06:53<02:07,  1.82s/it, loss=-.8]  \u001b[A\n",
      "Iteration:  77%|███████▋  | 231/300 [06:54<02:04,  1.80s/it, loss=-.8]\u001b[A"
     ]
    },
    {
     "name": "stdout",
     "output_type": "stream",
     "text": [
      "Iter 231/300 - Loss: -0.7996\n"
     ]
    },
    {
     "name": "stderr",
     "output_type": "stream",
     "text": [
      "\n",
      "Iteration:  77%|███████▋  | 231/300 [06:55<02:04,  1.80s/it, loss=-.8]\u001b[A\n",
      "Iteration:  77%|███████▋  | 232/300 [06:56<02:01,  1.78s/it, loss=-.8]\u001b[A"
     ]
    },
    {
     "name": "stdout",
     "output_type": "stream",
     "text": [
      "Iter 232/300 - Loss: -0.7997\n"
     ]
    },
    {
     "name": "stderr",
     "output_type": "stream",
     "text": [
      "\n",
      "Iteration:  77%|███████▋  | 232/300 [06:57<02:01,  1.78s/it, loss=-.8]\u001b[A\n",
      "Iteration:  78%|███████▊  | 233/300 [06:58<01:58,  1.77s/it, loss=-.8]\u001b[A"
     ]
    },
    {
     "name": "stdout",
     "output_type": "stream",
     "text": [
      "Iter 233/300 - Loss: -0.7998\n"
     ]
    },
    {
     "name": "stderr",
     "output_type": "stream",
     "text": [
      "\n",
      "Iteration:  78%|███████▊  | 233/300 [06:58<01:58,  1.77s/it, loss=-.8]\u001b[A\n",
      "Iteration:  78%|███████▊  | 234/300 [06:59<01:57,  1.78s/it, loss=-.8]\u001b[A"
     ]
    },
    {
     "name": "stdout",
     "output_type": "stream",
     "text": [
      "Iter 234/300 - Loss: -0.7999\n"
     ]
    },
    {
     "name": "stderr",
     "output_type": "stream",
     "text": [
      "\n",
      "Iteration:  78%|███████▊  | 234/300 [07:00<01:57,  1.78s/it, loss=-.8]\u001b[A\n",
      "Iteration:  78%|███████▊  | 235/300 [07:01<01:56,  1.79s/it, loss=-.8]\u001b[A"
     ]
    },
    {
     "name": "stdout",
     "output_type": "stream",
     "text": [
      "Iter 235/300 - Loss: -0.8000\n"
     ]
    },
    {
     "name": "stderr",
     "output_type": "stream",
     "text": [
      "\n",
      "Iteration:  78%|███████▊  | 235/300 [07:02<01:56,  1.79s/it, loss=-.8]\u001b[A\n",
      "Iteration:  79%|███████▊  | 236/300 [07:03<01:54,  1.78s/it, loss=-.8]\u001b[A"
     ]
    },
    {
     "name": "stdout",
     "output_type": "stream",
     "text": [
      "Iter 236/300 - Loss: -0.8002\n"
     ]
    },
    {
     "name": "stderr",
     "output_type": "stream",
     "text": [
      "\n",
      "Iteration:  79%|███████▊  | 236/300 [07:04<01:54,  1.78s/it, loss=-.8]\u001b[A\n",
      "Iteration:  79%|███████▉  | 237/300 [07:05<01:52,  1.79s/it, loss=-.8]\u001b[A"
     ]
    },
    {
     "name": "stdout",
     "output_type": "stream",
     "text": [
      "Iter 237/300 - Loss: -0.8003\n"
     ]
    },
    {
     "name": "stderr",
     "output_type": "stream",
     "text": [
      "\n",
      "Iteration:  79%|███████▉  | 237/300 [07:06<01:52,  1.79s/it, loss=-.8]\u001b[A\n",
      "Iteration:  79%|███████▉  | 238/300 [07:06<01:50,  1.78s/it, loss=-.8]\u001b[A"
     ]
    },
    {
     "name": "stdout",
     "output_type": "stream",
     "text": [
      "Iter 238/300 - Loss: -0.8004\n"
     ]
    },
    {
     "name": "stderr",
     "output_type": "stream",
     "text": [
      "\n",
      "Iteration:  79%|███████▉  | 238/300 [07:07<01:50,  1.78s/it, loss=-.8]\u001b[A\n",
      "Iteration:  80%|███████▉  | 239/300 [07:08<01:48,  1.77s/it, loss=-.8]\u001b[A"
     ]
    },
    {
     "name": "stdout",
     "output_type": "stream",
     "text": [
      "Iter 239/300 - Loss: -0.8005\n"
     ]
    },
    {
     "name": "stderr",
     "output_type": "stream",
     "text": [
      "\n",
      "Iteration:  80%|███████▉  | 239/300 [07:09<01:48,  1.77s/it, loss=-.801]\u001b[A\n",
      "Iteration:  80%|████████  | 240/300 [07:10<01:46,  1.77s/it, loss=-.801]\u001b[A"
     ]
    },
    {
     "name": "stdout",
     "output_type": "stream",
     "text": [
      "Iter 240/300 - Loss: -0.8006\n"
     ]
    },
    {
     "name": "stderr",
     "output_type": "stream",
     "text": [
      "\n",
      "Iteration:  80%|████████  | 240/300 [07:11<01:46,  1.77s/it, loss=-.801]\u001b[A\n",
      "Iteration:  80%|████████  | 241/300 [07:12<01:44,  1.77s/it, loss=-.801]\u001b[A"
     ]
    },
    {
     "name": "stdout",
     "output_type": "stream",
     "text": [
      "Iter 241/300 - Loss: -0.8007\n"
     ]
    },
    {
     "name": "stderr",
     "output_type": "stream",
     "text": [
      "\n",
      "Iteration:  80%|████████  | 241/300 [07:13<01:44,  1.77s/it, loss=-.801]\u001b[A\n",
      "Iteration:  81%|████████  | 242/300 [07:14<01:42,  1.77s/it, loss=-.801]\u001b[A"
     ]
    },
    {
     "name": "stdout",
     "output_type": "stream",
     "text": [
      "Iter 242/300 - Loss: -0.8008\n"
     ]
    },
    {
     "name": "stderr",
     "output_type": "stream",
     "text": [
      "\n",
      "Iteration:  81%|████████  | 242/300 [07:14<01:42,  1.77s/it, loss=-.801]\u001b[A\n",
      "Iteration:  81%|████████  | 243/300 [07:15<01:40,  1.76s/it, loss=-.801]\u001b[A"
     ]
    },
    {
     "name": "stdout",
     "output_type": "stream",
     "text": [
      "Iter 243/300 - Loss: -0.8009\n"
     ]
    },
    {
     "name": "stderr",
     "output_type": "stream",
     "text": [
      "\n",
      "Iteration:  81%|████████  | 243/300 [07:16<01:40,  1.76s/it, loss=-.801]\u001b[A\n",
      "Iteration:  81%|████████▏ | 244/300 [07:17<01:38,  1.77s/it, loss=-.801]\u001b[A"
     ]
    },
    {
     "name": "stdout",
     "output_type": "stream",
     "text": [
      "Iter 244/300 - Loss: -0.8010\n"
     ]
    },
    {
     "name": "stderr",
     "output_type": "stream",
     "text": [
      "\n",
      "Iteration:  81%|████████▏ | 244/300 [07:18<01:38,  1.77s/it, loss=-.801]\u001b[A\n",
      "Iteration:  82%|████████▏ | 245/300 [07:19<01:37,  1.76s/it, loss=-.801]\u001b[A"
     ]
    },
    {
     "name": "stdout",
     "output_type": "stream",
     "text": [
      "Iter 245/300 - Loss: -0.8011\n"
     ]
    },
    {
     "name": "stderr",
     "output_type": "stream",
     "text": [
      "\n",
      "Iteration:  82%|████████▏ | 245/300 [07:20<01:37,  1.76s/it, loss=-.801]\u001b[A\n",
      "Iteration:  82%|████████▏ | 246/300 [07:21<01:38,  1.82s/it, loss=-.801]\u001b[A"
     ]
    },
    {
     "name": "stdout",
     "output_type": "stream",
     "text": [
      "Iter 246/300 - Loss: -0.8012\n"
     ]
    },
    {
     "name": "stderr",
     "output_type": "stream",
     "text": [
      "\n",
      "Iteration:  82%|████████▏ | 246/300 [07:22<01:38,  1.82s/it, loss=-.801]\u001b[A\n",
      "Iteration:  82%|████████▏ | 247/300 [07:23<01:37,  1.85s/it, loss=-.801]\u001b[A"
     ]
    },
    {
     "name": "stdout",
     "output_type": "stream",
     "text": [
      "Iter 247/300 - Loss: -0.8013\n"
     ]
    },
    {
     "name": "stderr",
     "output_type": "stream",
     "text": [
      "\n",
      "Iteration:  82%|████████▏ | 247/300 [07:24<01:37,  1.85s/it, loss=-.801]\u001b[A\n",
      "Iteration:  83%|████████▎ | 248/300 [07:25<01:35,  1.84s/it, loss=-.801]\u001b[A"
     ]
    },
    {
     "name": "stdout",
     "output_type": "stream",
     "text": [
      "Iter 248/300 - Loss: -0.8014\n"
     ]
    },
    {
     "name": "stderr",
     "output_type": "stream",
     "text": [
      "\n",
      "Iteration:  83%|████████▎ | 248/300 [07:25<01:35,  1.84s/it, loss=-.802]\u001b[A\n",
      "Iteration:  83%|████████▎ | 249/300 [07:26<01:32,  1.82s/it, loss=-.802]\u001b[A"
     ]
    },
    {
     "name": "stdout",
     "output_type": "stream",
     "text": [
      "Iter 249/300 - Loss: -0.8015\n"
     ]
    },
    {
     "name": "stderr",
     "output_type": "stream",
     "text": [
      "\n",
      "Iteration:  83%|████████▎ | 249/300 [07:27<01:32,  1.82s/it, loss=-.802]\u001b[A\n",
      "Iteration:  83%|████████▎ | 250/300 [07:28<01:29,  1.80s/it, loss=-.802]\u001b[A"
     ]
    },
    {
     "name": "stdout",
     "output_type": "stream",
     "text": [
      "Iter 250/300 - Loss: -0.8016\n"
     ]
    },
    {
     "name": "stderr",
     "output_type": "stream",
     "text": [
      "\n",
      "Iteration:  83%|████████▎ | 250/300 [07:29<01:29,  1.80s/it, loss=-.802]\u001b[A\n",
      "Iteration:  84%|████████▎ | 251/300 [07:30<01:27,  1.79s/it, loss=-.802]\u001b[A"
     ]
    },
    {
     "name": "stdout",
     "output_type": "stream",
     "text": [
      "Iter 251/300 - Loss: -0.8017\n"
     ]
    },
    {
     "name": "stderr",
     "output_type": "stream",
     "text": [
      "\n",
      "Iteration:  84%|████████▎ | 251/300 [07:31<01:27,  1.79s/it, loss=-.802]\u001b[A\n",
      "Iteration:  84%|████████▍ | 252/300 [07:32<01:25,  1.78s/it, loss=-.802]\u001b[A"
     ]
    },
    {
     "name": "stdout",
     "output_type": "stream",
     "text": [
      "Iter 252/300 - Loss: -0.8018\n"
     ]
    },
    {
     "name": "stderr",
     "output_type": "stream",
     "text": [
      "\n",
      "Iteration:  84%|████████▍ | 252/300 [07:32<01:25,  1.78s/it, loss=-.802]\u001b[A\n",
      "Iteration:  84%|████████▍ | 253/300 [07:33<01:23,  1.77s/it, loss=-.802]\u001b[A"
     ]
    },
    {
     "name": "stdout",
     "output_type": "stream",
     "text": [
      "Iter 253/300 - Loss: -0.8019\n"
     ]
    },
    {
     "name": "stderr",
     "output_type": "stream",
     "text": [
      "\n",
      "Iteration:  84%|████████▍ | 253/300 [07:34<01:23,  1.77s/it, loss=-.802]\u001b[A\n",
      "Iteration:  85%|████████▍ | 254/300 [07:35<01:21,  1.77s/it, loss=-.802]\u001b[A"
     ]
    },
    {
     "name": "stdout",
     "output_type": "stream",
     "text": [
      "Iter 254/300 - Loss: -0.8020\n"
     ]
    },
    {
     "name": "stderr",
     "output_type": "stream",
     "text": [
      "\n",
      "Iteration:  85%|████████▍ | 254/300 [07:36<01:21,  1.77s/it, loss=-.802]\u001b[A\n",
      "Iteration:  85%|████████▌ | 255/300 [07:37<01:20,  1.80s/it, loss=-.802]\u001b[A"
     ]
    },
    {
     "name": "stdout",
     "output_type": "stream",
     "text": [
      "Iter 255/300 - Loss: -0.8021\n"
     ]
    },
    {
     "name": "stderr",
     "output_type": "stream",
     "text": [
      "\n",
      "Iteration:  85%|████████▌ | 255/300 [07:38<01:20,  1.80s/it, loss=-.802]\u001b[A\n",
      "Iteration:  85%|████████▌ | 256/300 [07:39<01:18,  1.78s/it, loss=-.802]\u001b[A"
     ]
    },
    {
     "name": "stdout",
     "output_type": "stream",
     "text": [
      "Iter 256/300 - Loss: -0.8022\n"
     ]
    },
    {
     "name": "stderr",
     "output_type": "stream",
     "text": [
      "\n",
      "Iteration:  85%|████████▌ | 256/300 [07:40<01:18,  1.78s/it, loss=-.802]\u001b[A\n",
      "Iteration:  86%|████████▌ | 257/300 [07:41<01:17,  1.80s/it, loss=-.802]\u001b[A"
     ]
    },
    {
     "name": "stdout",
     "output_type": "stream",
     "text": [
      "Iter 257/300 - Loss: -0.8023\n"
     ]
    },
    {
     "name": "stderr",
     "output_type": "stream",
     "text": [
      "\n",
      "Iteration:  86%|████████▌ | 257/300 [07:41<01:17,  1.80s/it, loss=-.802]\u001b[A\n",
      "Iteration:  86%|████████▌ | 258/300 [07:42<01:16,  1.82s/it, loss=-.802]\u001b[A"
     ]
    },
    {
     "name": "stdout",
     "output_type": "stream",
     "text": [
      "Iter 258/300 - Loss: -0.8024\n"
     ]
    },
    {
     "name": "stderr",
     "output_type": "stream",
     "text": [
      "\n",
      "Iteration:  86%|████████▌ | 258/300 [07:43<01:16,  1.82s/it, loss=-.802]\u001b[A\n",
      "Iteration:  86%|████████▋ | 259/300 [07:44<01:13,  1.80s/it, loss=-.802]\u001b[A"
     ]
    },
    {
     "name": "stdout",
     "output_type": "stream",
     "text": [
      "Iter 259/300 - Loss: -0.8025\n"
     ]
    },
    {
     "name": "stderr",
     "output_type": "stream",
     "text": [
      "\n",
      "Iteration:  86%|████████▋ | 259/300 [07:45<01:13,  1.80s/it, loss=-.803]\u001b[A\n",
      "Iteration:  87%|████████▋ | 260/300 [07:46<01:11,  1.79s/it, loss=-.803]\u001b[A"
     ]
    },
    {
     "name": "stdout",
     "output_type": "stream",
     "text": [
      "Iter 260/300 - Loss: -0.8025\n"
     ]
    },
    {
     "name": "stderr",
     "output_type": "stream",
     "text": [
      "\n",
      "Iteration:  87%|████████▋ | 260/300 [07:47<01:11,  1.79s/it, loss=-.803]\u001b[A\n",
      "Iteration:  87%|████████▋ | 261/300 [07:48<01:09,  1.78s/it, loss=-.803]\u001b[A"
     ]
    },
    {
     "name": "stdout",
     "output_type": "stream",
     "text": [
      "Iter 261/300 - Loss: -0.8026\n"
     ]
    },
    {
     "name": "stderr",
     "output_type": "stream",
     "text": [
      "\n",
      "Iteration:  87%|████████▋ | 261/300 [07:49<01:09,  1.78s/it, loss=-.803]\u001b[A\n",
      "Iteration:  87%|████████▋ | 262/300 [07:49<01:07,  1.78s/it, loss=-.803]\u001b[A"
     ]
    },
    {
     "name": "stdout",
     "output_type": "stream",
     "text": [
      "Iter 262/300 - Loss: -0.8027\n"
     ]
    },
    {
     "name": "stderr",
     "output_type": "stream",
     "text": [
      "\n",
      "Iteration:  87%|████████▋ | 262/300 [07:50<01:07,  1.78s/it, loss=-.803]\u001b[A\n",
      "Iteration:  88%|████████▊ | 263/300 [07:51<01:06,  1.79s/it, loss=-.803]\u001b[A"
     ]
    },
    {
     "name": "stdout",
     "output_type": "stream",
     "text": [
      "Iter 263/300 - Loss: -0.8028\n"
     ]
    },
    {
     "name": "stderr",
     "output_type": "stream",
     "text": [
      "\n",
      "Iteration:  88%|████████▊ | 263/300 [07:52<01:06,  1.79s/it, loss=-.803]\u001b[A\n",
      "Iteration:  88%|████████▊ | 264/300 [07:53<01:04,  1.78s/it, loss=-.803]\u001b[A"
     ]
    },
    {
     "name": "stdout",
     "output_type": "stream",
     "text": [
      "Iter 264/300 - Loss: -0.8029\n"
     ]
    },
    {
     "name": "stderr",
     "output_type": "stream",
     "text": [
      "\n",
      "Iteration:  88%|████████▊ | 264/300 [07:55<01:04,  1.78s/it, loss=-.803]\u001b[A\n",
      "Iteration:  88%|████████▊ | 265/300 [07:56<01:12,  2.06s/it, loss=-.803]\u001b[A"
     ]
    },
    {
     "name": "stdout",
     "output_type": "stream",
     "text": [
      "Iter 265/300 - Loss: -0.8030\n"
     ]
    },
    {
     "name": "stderr",
     "output_type": "stream",
     "text": [
      "\n",
      "Iteration:  88%|████████▊ | 265/300 [07:57<01:12,  2.06s/it, loss=-.803]\u001b[A\n",
      "Iteration:  89%|████████▊ | 266/300 [07:57<01:06,  1.97s/it, loss=-.803]\u001b[A"
     ]
    },
    {
     "name": "stdout",
     "output_type": "stream",
     "text": [
      "Iter 266/300 - Loss: -0.8030\n"
     ]
    },
    {
     "name": "stderr",
     "output_type": "stream",
     "text": [
      "\n",
      "Iteration:  89%|████████▊ | 266/300 [07:58<01:06,  1.97s/it, loss=-.803]\u001b[A\n",
      "Iteration:  89%|████████▉ | 267/300 [07:59<01:03,  1.92s/it, loss=-.803]\u001b[A"
     ]
    },
    {
     "name": "stdout",
     "output_type": "stream",
     "text": [
      "Iter 267/300 - Loss: -0.8031\n"
     ]
    },
    {
     "name": "stderr",
     "output_type": "stream",
     "text": [
      "\n",
      "Iteration:  89%|████████▉ | 267/300 [08:01<01:03,  1.92s/it, loss=-.803]\u001b[A\n",
      "Iteration:  89%|████████▉ | 268/300 [08:01<01:03,  1.97s/it, loss=-.803]\u001b[A"
     ]
    },
    {
     "name": "stdout",
     "output_type": "stream",
     "text": [
      "Iter 268/300 - Loss: -0.8032\n"
     ]
    },
    {
     "name": "stderr",
     "output_type": "stream",
     "text": [
      "\n",
      "Iteration:  89%|████████▉ | 268/300 [08:03<01:03,  1.97s/it, loss=-.803]\u001b[A\n",
      "Iteration:  90%|████████▉ | 269/300 [08:03<01:02,  2.01s/it, loss=-.803]\u001b[A"
     ]
    },
    {
     "name": "stdout",
     "output_type": "stream",
     "text": [
      "Iter 269/300 - Loss: -0.8033\n"
     ]
    },
    {
     "name": "stderr",
     "output_type": "stream",
     "text": [
      "\n",
      "Iteration:  90%|████████▉ | 269/300 [08:04<01:02,  2.01s/it, loss=-.803]\u001b[A\n",
      "Iteration:  90%|█████████ | 270/300 [08:05<00:57,  1.93s/it, loss=-.803]\u001b[A"
     ]
    },
    {
     "name": "stdout",
     "output_type": "stream",
     "text": [
      "Iter 270/300 - Loss: -0.8034\n"
     ]
    },
    {
     "name": "stderr",
     "output_type": "stream",
     "text": [
      "\n",
      "Iteration:  90%|█████████ | 270/300 [08:06<00:57,  1.93s/it, loss=-.803]\u001b[A\n",
      "Iteration:  90%|█████████ | 271/300 [08:07<00:54,  1.89s/it, loss=-.803]\u001b[A"
     ]
    },
    {
     "name": "stdout",
     "output_type": "stream",
     "text": [
      "Iter 271/300 - Loss: -0.8035\n"
     ]
    },
    {
     "name": "stderr",
     "output_type": "stream",
     "text": [
      "\n",
      "Iteration:  90%|█████████ | 271/300 [08:09<00:54,  1.89s/it, loss=-.804]\u001b[A\n",
      "Iteration:  91%|█████████ | 272/300 [08:10<01:00,  2.15s/it, loss=-.804]\u001b[A"
     ]
    },
    {
     "name": "stdout",
     "output_type": "stream",
     "text": [
      "Iter 272/300 - Loss: -0.8035\n"
     ]
    },
    {
     "name": "stderr",
     "output_type": "stream",
     "text": [
      "\n",
      "Iteration:  91%|█████████ | 272/300 [08:11<01:00,  2.15s/it, loss=-.804]\u001b[A\n",
      "Iteration:  91%|█████████ | 273/300 [08:12<00:59,  2.20s/it, loss=-.804]\u001b[A"
     ]
    },
    {
     "name": "stdout",
     "output_type": "stream",
     "text": [
      "Iter 273/300 - Loss: -0.8036\n"
     ]
    },
    {
     "name": "stderr",
     "output_type": "stream",
     "text": [
      "\n",
      "Iteration:  91%|█████████ | 273/300 [08:13<00:59,  2.20s/it, loss=-.804]\u001b[A\n",
      "Iteration:  91%|█████████▏| 274/300 [08:14<00:53,  2.07s/it, loss=-.804]\u001b[A"
     ]
    },
    {
     "name": "stdout",
     "output_type": "stream",
     "text": [
      "Iter 274/300 - Loss: -0.8037\n"
     ]
    },
    {
     "name": "stderr",
     "output_type": "stream",
     "text": [
      "\n",
      "Iteration:  91%|█████████▏| 274/300 [08:15<00:53,  2.07s/it, loss=-.804]\u001b[A\n",
      "Iteration:  92%|█████████▏| 275/300 [08:16<00:49,  1.98s/it, loss=-.804]\u001b[A"
     ]
    },
    {
     "name": "stdout",
     "output_type": "stream",
     "text": [
      "Iter 275/300 - Loss: -0.8038\n"
     ]
    },
    {
     "name": "stderr",
     "output_type": "stream",
     "text": [
      "\n",
      "Iteration:  92%|█████████▏| 275/300 [08:17<00:49,  1.98s/it, loss=-.804]\u001b[A\n",
      "Iteration:  92%|█████████▏| 276/300 [08:17<00:45,  1.91s/it, loss=-.804]\u001b[A"
     ]
    },
    {
     "name": "stdout",
     "output_type": "stream",
     "text": [
      "Iter 276/300 - Loss: -0.8038\n"
     ]
    },
    {
     "name": "stderr",
     "output_type": "stream",
     "text": [
      "\n",
      "Iteration:  92%|█████████▏| 276/300 [08:18<00:45,  1.91s/it, loss=-.804]\u001b[A\n",
      "Iteration:  92%|█████████▏| 277/300 [08:19<00:42,  1.86s/it, loss=-.804]\u001b[A"
     ]
    },
    {
     "name": "stdout",
     "output_type": "stream",
     "text": [
      "Iter 277/300 - Loss: -0.8039\n"
     ]
    },
    {
     "name": "stderr",
     "output_type": "stream",
     "text": [
      "\n",
      "Iteration:  92%|█████████▏| 277/300 [08:20<00:42,  1.86s/it, loss=-.804]\u001b[A\n",
      "Iteration:  93%|█████████▎| 278/300 [08:21<00:41,  1.88s/it, loss=-.804]\u001b[A"
     ]
    },
    {
     "name": "stdout",
     "output_type": "stream",
     "text": [
      "Iter 278/300 - Loss: -0.8040\n"
     ]
    },
    {
     "name": "stderr",
     "output_type": "stream",
     "text": [
      "\n",
      "Iteration:  93%|█████████▎| 278/300 [08:22<00:41,  1.88s/it, loss=-.804]\u001b[A\n",
      "Iteration:  93%|█████████▎| 279/300 [08:23<00:38,  1.84s/it, loss=-.804]\u001b[A"
     ]
    },
    {
     "name": "stdout",
     "output_type": "stream",
     "text": [
      "Iter 279/300 - Loss: -0.8041\n"
     ]
    },
    {
     "name": "stderr",
     "output_type": "stream",
     "text": [
      "\n",
      "Iteration:  93%|█████████▎| 279/300 [08:24<00:38,  1.84s/it, loss=-.804]\u001b[A\n",
      "Iteration:  93%|█████████▎| 280/300 [08:25<00:36,  1.81s/it, loss=-.804]\u001b[A"
     ]
    },
    {
     "name": "stdout",
     "output_type": "stream",
     "text": [
      "Iter 280/300 - Loss: -0.8041\n"
     ]
    },
    {
     "name": "stderr",
     "output_type": "stream",
     "text": [
      "\n",
      "Iteration:  93%|█████████▎| 280/300 [08:25<00:36,  1.81s/it, loss=-.804]\u001b[A\n",
      "Iteration:  94%|█████████▎| 281/300 [08:26<00:34,  1.80s/it, loss=-.804]\u001b[A"
     ]
    },
    {
     "name": "stdout",
     "output_type": "stream",
     "text": [
      "Iter 281/300 - Loss: -0.8042\n"
     ]
    },
    {
     "name": "stderr",
     "output_type": "stream",
     "text": [
      "\n",
      "Iteration:  94%|█████████▎| 281/300 [08:27<00:34,  1.80s/it, loss=-.804]\u001b[A\n",
      "Iteration:  94%|█████████▍| 282/300 [08:28<00:32,  1.81s/it, loss=-.804]\u001b[A"
     ]
    },
    {
     "name": "stdout",
     "output_type": "stream",
     "text": [
      "Iter 282/300 - Loss: -0.8043\n"
     ]
    },
    {
     "name": "stderr",
     "output_type": "stream",
     "text": [
      "\n",
      "Iteration:  94%|█████████▍| 282/300 [08:29<00:32,  1.81s/it, loss=-.804]\u001b[A\n",
      "Iteration:  94%|█████████▍| 283/300 [08:30<00:30,  1.80s/it, loss=-.804]\u001b[A"
     ]
    },
    {
     "name": "stdout",
     "output_type": "stream",
     "text": [
      "Iter 283/300 - Loss: -0.8044\n"
     ]
    },
    {
     "name": "stderr",
     "output_type": "stream",
     "text": [
      "\n",
      "Iteration:  94%|█████████▍| 283/300 [08:31<00:30,  1.80s/it, loss=-.804]\u001b[A\n",
      "Iteration:  95%|█████████▍| 284/300 [08:32<00:28,  1.80s/it, loss=-.804]\u001b[A"
     ]
    },
    {
     "name": "stdout",
     "output_type": "stream",
     "text": [
      "Iter 284/300 - Loss: -0.8044\n"
     ]
    },
    {
     "name": "stderr",
     "output_type": "stream",
     "text": [
      "\n",
      "Iteration:  95%|█████████▍| 284/300 [08:33<00:28,  1.80s/it, loss=-.805]\u001b[A\n",
      "Iteration:  95%|█████████▌| 285/300 [08:33<00:26,  1.79s/it, loss=-.805]\u001b[A"
     ]
    },
    {
     "name": "stdout",
     "output_type": "stream",
     "text": [
      "Iter 285/300 - Loss: -0.8045\n"
     ]
    },
    {
     "name": "stderr",
     "output_type": "stream",
     "text": [
      "\n",
      "Iteration:  95%|█████████▌| 285/300 [08:34<00:26,  1.79s/it, loss=-.805]\u001b[A\n",
      "Iteration:  95%|█████████▌| 286/300 [08:35<00:24,  1.78s/it, loss=-.805]\u001b[A"
     ]
    },
    {
     "name": "stdout",
     "output_type": "stream",
     "text": [
      "Iter 286/300 - Loss: -0.8046\n"
     ]
    },
    {
     "name": "stderr",
     "output_type": "stream",
     "text": [
      "\n",
      "Iteration:  95%|█████████▌| 286/300 [08:36<00:24,  1.78s/it, loss=-.805]\u001b[A\n",
      "Iteration:  96%|█████████▌| 287/300 [08:37<00:22,  1.77s/it, loss=-.805]\u001b[A"
     ]
    },
    {
     "name": "stdout",
     "output_type": "stream",
     "text": [
      "Iter 287/300 - Loss: -0.8047\n"
     ]
    },
    {
     "name": "stderr",
     "output_type": "stream",
     "text": [
      "\n",
      "Iteration:  96%|█████████▌| 287/300 [08:38<00:22,  1.77s/it, loss=-.805]\u001b[A\n",
      "Iteration:  96%|█████████▌| 288/300 [08:39<00:21,  1.76s/it, loss=-.805]\u001b[A"
     ]
    },
    {
     "name": "stdout",
     "output_type": "stream",
     "text": [
      "Iter 288/300 - Loss: -0.8047\n"
     ]
    },
    {
     "name": "stderr",
     "output_type": "stream",
     "text": [
      "\n",
      "Iteration:  96%|█████████▌| 288/300 [08:40<00:21,  1.76s/it, loss=-.805]\u001b[A\n",
      "Iteration:  96%|█████████▋| 289/300 [08:41<00:19,  1.77s/it, loss=-.805]\u001b[A"
     ]
    },
    {
     "name": "stdout",
     "output_type": "stream",
     "text": [
      "Iter 289/300 - Loss: -0.8048\n"
     ]
    },
    {
     "name": "stderr",
     "output_type": "stream",
     "text": [
      "\n",
      "Iteration:  96%|█████████▋| 289/300 [08:41<00:19,  1.77s/it, loss=-.805]\u001b[A\n",
      "Iteration:  97%|█████████▋| 290/300 [08:42<00:17,  1.78s/it, loss=-.805]\u001b[A"
     ]
    },
    {
     "name": "stdout",
     "output_type": "stream",
     "text": [
      "Iter 290/300 - Loss: -0.8049\n"
     ]
    },
    {
     "name": "stderr",
     "output_type": "stream",
     "text": [
      "\n",
      "Iteration:  97%|█████████▋| 290/300 [08:43<00:17,  1.78s/it, loss=-.805]\u001b[A\n",
      "Iteration:  97%|█████████▋| 291/300 [08:44<00:16,  1.79s/it, loss=-.805]\u001b[A"
     ]
    },
    {
     "name": "stdout",
     "output_type": "stream",
     "text": [
      "Iter 291/300 - Loss: -0.8050\n"
     ]
    },
    {
     "name": "stderr",
     "output_type": "stream",
     "text": [
      "\n",
      "Iteration:  97%|█████████▋| 291/300 [08:45<00:16,  1.79s/it, loss=-.805]\u001b[A\n",
      "Iteration:  97%|█████████▋| 292/300 [08:46<00:14,  1.79s/it, loss=-.805]\u001b[A"
     ]
    },
    {
     "name": "stdout",
     "output_type": "stream",
     "text": [
      "Iter 292/300 - Loss: -0.8050\n"
     ]
    },
    {
     "name": "stderr",
     "output_type": "stream",
     "text": [
      "\n",
      "Iteration:  97%|█████████▋| 292/300 [08:47<00:14,  1.79s/it, loss=-.805]\u001b[A\n",
      "Iteration:  98%|█████████▊| 293/300 [08:48<00:12,  1.77s/it, loss=-.805]\u001b[A"
     ]
    },
    {
     "name": "stdout",
     "output_type": "stream",
     "text": [
      "Iter 293/300 - Loss: -0.8051\n"
     ]
    },
    {
     "name": "stderr",
     "output_type": "stream",
     "text": [
      "\n",
      "Iteration:  98%|█████████▊| 293/300 [08:49<00:12,  1.77s/it, loss=-.805]\u001b[A\n",
      "Iteration:  98%|█████████▊| 294/300 [08:49<00:10,  1.77s/it, loss=-.805]\u001b[A"
     ]
    },
    {
     "name": "stdout",
     "output_type": "stream",
     "text": [
      "Iter 294/300 - Loss: -0.8052\n"
     ]
    },
    {
     "name": "stderr",
     "output_type": "stream",
     "text": [
      "\n",
      "Iteration:  98%|█████████▊| 294/300 [08:50<00:10,  1.77s/it, loss=-.805]\u001b[A\n",
      "Iteration:  98%|█████████▊| 295/300 [08:52<00:09,  1.88s/it, loss=-.805]\u001b[A"
     ]
    },
    {
     "name": "stdout",
     "output_type": "stream",
     "text": [
      "Iter 295/300 - Loss: -0.8052\n"
     ]
    },
    {
     "name": "stderr",
     "output_type": "stream",
     "text": [
      "\n",
      "Iteration:  98%|█████████▊| 295/300 [08:52<00:09,  1.88s/it, loss=-.805]\u001b[A\n",
      "Iteration:  99%|█████████▊| 296/300 [08:53<00:07,  1.84s/it, loss=-.805]\u001b[A"
     ]
    },
    {
     "name": "stdout",
     "output_type": "stream",
     "text": [
      "Iter 296/300 - Loss: -0.8053\n"
     ]
    },
    {
     "name": "stderr",
     "output_type": "stream",
     "text": [
      "\n",
      "Iteration:  99%|█████████▊| 296/300 [08:54<00:07,  1.84s/it, loss=-.805]\u001b[A\n",
      "Iteration:  99%|█████████▉| 297/300 [08:55<00:05,  1.82s/it, loss=-.805]\u001b[A"
     ]
    },
    {
     "name": "stdout",
     "output_type": "stream",
     "text": [
      "Iter 297/300 - Loss: -0.8054\n"
     ]
    },
    {
     "name": "stderr",
     "output_type": "stream",
     "text": [
      "\n",
      "Iteration:  99%|█████████▉| 297/300 [08:56<00:05,  1.82s/it, loss=-.805]\u001b[A\n",
      "Iteration:  99%|█████████▉| 298/300 [08:57<00:03,  1.80s/it, loss=-.805]\u001b[A"
     ]
    },
    {
     "name": "stdout",
     "output_type": "stream",
     "text": [
      "Iter 298/300 - Loss: -0.8055\n"
     ]
    },
    {
     "name": "stderr",
     "output_type": "stream",
     "text": [
      "\n",
      "Iteration:  99%|█████████▉| 298/300 [08:58<00:03,  1.80s/it, loss=-.806]\u001b[A\n",
      "Iteration: 100%|█████████▉| 299/300 [08:59<00:01,  1.80s/it, loss=-.806]\u001b[A"
     ]
    },
    {
     "name": "stdout",
     "output_type": "stream",
     "text": [
      "Iter 299/300 - Loss: -0.8055\n"
     ]
    },
    {
     "name": "stderr",
     "output_type": "stream",
     "text": [
      "\n",
      "Iteration: 100%|█████████▉| 299/300 [09:00<00:01,  1.80s/it, loss=-.806]\u001b[A\n",
      "Iteration: 100%|██████████| 300/300 [09:00<00:00,  1.80s/it, loss=-.806]\u001b[A"
     ]
    },
    {
     "name": "stdout",
     "output_type": "stream",
     "text": [
      "Iter 300/300 - Loss: -0.8056\n"
     ]
    },
    {
     "name": "stderr",
     "output_type": "stream",
     "text": [
      "\n"
     ]
    }
   ],
   "source": [
    "epochs_iter = tqdm(range(training_iterations), desc=\"Iteration\")\n",
    "\n",
    "for i in epochs_iter:\n",
    "    # Training step\n",
    "    model.train()\n",
    "    likelihood.train()\n",
    "\n",
    "    optimizer.zero_grad()\n",
    "    output = model(X_train)\n",
    "    loss = -mll(output, Y_train)\n",
    "    epochs_iter.set_postfix(loss=loss.item())\n",
    "    loss.backward()\n",
    "    optimizer.step()\n",
    "    print('Iter %d/%d - Loss: %.4f' % (i + 1, training_iterations, loss.item()))\n",
    "\n",
    "    # Change learning rate after half of iterations\n",
    "    if i == training_iterations//2:\n",
    "        lr = 0.01\n",
    "        for param_group in optimizer.param_groups:\n",
    "            param_group['lr'] = lr"
   ]
  },
  {
   "cell_type": "code",
   "execution_count": 7,
   "id": "106adf24",
   "metadata": {},
   "outputs": [],
   "source": [
    "from aemulusnu_massfunction.massfunction import *\n",
    "\n",
    "with open(\"/oak/stanford/orgs/kipac/users/delon/aemulusnu_massfunction/GP_lo%s.pkl\"%(leave_out_box), \"wb\") as f:\n",
    "    pickle.dump([model,\n",
    "                in_scaler,\n",
    "                out_scaler,\n",
    "                likelihood,], f)\n",
    "\n",
    "\n",
    "\n",
    "\n",
    "\n",
    "\n",
    "Emulator = AemulusNu_HMF_Emulator(emulator_loc = \"/oak/stanford/orgs/kipac/users/delon/aemulusnu_massfunction/GP_lo%s.pkl\"%(leave_out_box))"
   ]
  },
  {
   "cell_type": "code",
   "execution_count": 8,
   "id": "953fb2f9",
   "metadata": {},
   "outputs": [
    {
     "name": "stderr",
     "output_type": "stream",
     "text": [
      "100%|██████████| 14/14 [00:00<00:00, 42275.20it/s]\n"
     ]
    }
   ],
   "source": [
    "box =leave_out_box\n",
    "from aemulusnu_massfunction.massfunction import *\n",
    "\n",
    "NvM_fname = '/oak/stanford/orgs/kipac/users/delon/aemulusnu_massfunction/'+box+'_NvsM.pkl'\n",
    "NvM_f = open(NvM_fname, 'rb')\n",
    "NvMs = pickle.load(NvM_f) #NvMs is a dictionary of dictionaries\n",
    "NvM_f.close()\n",
    "\n",
    "N_data = {}\n",
    "M_data = {}\n",
    "aux_data = {}\n",
    "from scipy.interpolate import interp1d, UnivariateSpline, InterpolatedUnivariateSpline\n",
    "\n",
    "vol = -1 #Mpc^3/h^3\n",
    "Mpart = -1\n",
    "\n",
    "for a in tqdm(a_list):\n",
    "#     if(a != 1): #TEST\n",
    "#         continue\n",
    "    c_data = NvMs[a]\n",
    "\n",
    "    Ms = c_data['M'] #units of h^-1 Msolar\n",
    "    N = c_data['N']\n",
    "    edge_pairs = c_data['edge_pairs']\n",
    "    assert(len(Ms) == len(edge_pairs))\n",
    "    assert(len(Ms) == len(N))\n",
    "\n",
    "    if(vol==-1):\n",
    "        vol = c_data['vol']\n",
    "    assert(vol == c_data['vol'])\n",
    "\n",
    "    if(Mpart==-1):\n",
    "        Mpart = c_data['Mpart']\n",
    "    assert(Mpart == c_data['Mpart'])\n",
    "\n",
    "    N_data[a] = []\n",
    "    M_data[a] = []\n",
    "    aux_data[a] = []\n",
    "    for N_curr, M_curr, edge_pair in zip(N, Ms, edge_pairs):\n",
    "        N_data[a] += [N_curr]\n",
    "        M_data[a] += [M_curr]\n",
    "        aux_data[a] += [{'a':a, 'edge_pair':edge_pair}]"
   ]
  },
  {
   "cell_type": "code",
   "execution_count": 9,
   "id": "feb7a781",
   "metadata": {},
   "outputs": [],
   "source": [
    "M_numerics = np.logspace(np.log10(100*Mpart), 17, 50)\n",
    "\n",
    "jackknife_covs_fname = '/oak/stanford/orgs/kipac/users/delon/aemulusnu_massfunction/'+box+'_jackknife_covs.pkl'\n",
    "jackknife_covs_f = open(jackknife_covs_fname, 'rb')\n",
    "jackknife = pickle.load(jackknife_covs_f)\n",
    "jackknife_covs_f.close()\n",
    "\n",
    "jack_covs = {a:jackknife[a][1] for a in N_data}\n",
    "\n",
    "# Compute the weighted covariance matrix incorporating jackknife and poisson\n",
    "weighted_cov = {a: jack_covs[a] for a in jack_covs}\n",
    "\n",
    "param_names = ['d','e','f','g']\n",
    "\n",
    "\n",
    "true_params = {}\n",
    "for c_X, c_Y, a in zip(Xlo, Ylo, a_list):\n",
    "    true_params[a] = c_Y"
   ]
  },
  {
   "cell_type": "code",
   "execution_count": 10,
   "id": "4a2cab7d",
   "metadata": {},
   "outputs": [
    {
     "name": "stdout",
     "output_type": "stream",
     "text": [
      "Setting dictionary\n",
      "Computing sigma spline\n",
      "Initializing CLASS\n",
      "Computing Sigma from CLASS\n"
     ]
    },
    {
     "name": "stderr",
     "output_type": "stream",
     "text": [
      "100%|██████████| 100/100 [00:01<00:00, 51.33it/s]\n"
     ]
    },
    {
     "name": "stdout",
     "output_type": "stream",
     "text": [
      "Spline Made\n",
      "{'d': 0.5224220879953957, 'e': 1.0433619982327245, 'f': 2.340718498041674, 'g': 1.31601301587239}\n",
      "[0.52366994 1.09547607 2.3437498  1.3182055 ]\n"
     ]
    }
   ],
   "source": [
    "print(Emulator.predict_params(cosmo_params[leave_out_box], scaleToRedshift(1.0)))\n",
    "print(true_params[1.0])"
   ]
  },
  {
   "cell_type": "code",
   "execution_count": 11,
   "id": "aeb0bed7",
   "metadata": {},
   "outputs": [
    {
     "data": {
      "text/plain": [
       "array([0.43346427, 0.51837394, 0.68303941, 0.41289957, 0.72732097,\n",
       "       0.47352854, 0.00095261, 0.        , 0.16461492])"
      ]
     },
     "execution_count": 11,
     "metadata": {},
     "output_type": "execute_result"
    }
   ],
   "source": [
    "X[-1]"
   ]
  },
  {
   "cell_type": "code",
   "execution_count": 12,
   "id": "c109c319",
   "metadata": {},
   "outputs": [
    {
     "name": "stdout",
     "output_type": "stream",
     "text": [
      "Setting dictionary\n",
      "Computing sigma spline\n",
      "Initializing CLASS\n",
      "Computing Sigma from CLASS\n"
     ]
    },
    {
     "name": "stderr",
     "output_type": "stream",
     "text": [
      "100%|██████████| 100/100 [00:01<00:00, 51.40it/s]\n"
     ]
    },
    {
     "name": "stdout",
     "output_type": "stream",
     "text": [
      "Spline Made\n",
      "{'d': 0.5417111131707707, 'e': 1.191662970487285, 'f': 2.3445120012664176, 'g': 1.284425740130606}\n"
     ]
    }
   ],
   "source": [
    "print(Emulator.predict_params(cosmo_params['Box_n50_0_1400'], scaleToRedshift(1.0)))"
   ]
  },
  {
   "cell_type": "code",
   "execution_count": 13,
   "id": "dc98be31",
   "metadata": {},
   "outputs": [
    {
     "name": "stderr",
     "output_type": "stream",
     "text": [
      "100%|██████████| 14/14 [00:28<00:00,  2.02s/it]\n"
     ]
    },
    {
     "data": {
      "image/png": "[encoded data removed]",
      "text/plain": [
       "<Figure size 864x504 with 2 Axes>"
      ]
     },
     "metadata": {
      "needs_background": "light"
     },
     "output_type": "display_data"
    },
    {
     "data": {
      "image/png": "[encoded data removed]",
      "text/plain": [
       "<Figure size 864x504 with 2 Axes>"
      ]
     },
     "metadata": {
      "needs_background": "light"
     },
     "output_type": "display_data"
    },
    {
     "data": {
      "image/png": "[encoded data removed]",
      "text/plain": [
       "<Figure size 864x504 with 2 Axes>"
      ]
     },
     "metadata": {
      "needs_background": "light"
     },
     "output_type": "display_data"
    },
    {
     "data": {
      "image/png": "[encoded data removed]",
      "text/plain": [
       "<Figure size 864x504 with 2 Axes>"
      ]
     },
     "metadata": {
      "needs_background": "light"
     },
     "output_type": "display_data"
    },
    {
     "data": {
      "image/png": "[encoded data removed]",
      "text/plain": [
       "<Figure size 864x504 with 2 Axes>"
      ]
     },
     "metadata": {
      "needs_background": "light"
     },
     "output_type": "display_data"
    },
    {
     "data": {
      "image/png": "[encoded data removed]",
      "text/plain": [
       "<Figure size 864x504 with 2 Axes>"
      ]
     },
     "metadata": {
      "needs_background": "light"
     },
     "output_type": "display_data"
    },
    {
     "data": {
      "image/png": "[encoded data removed]",
      "text/plain": [
       "<Figure size 864x504 with 2 Axes>"
      ]
     },
     "metadata": {
      "needs_background": "light"
     },
     "output_type": "display_data"
    },
    {
     "data": {
      "image/png": "[encoded data removed]",
      "text/plain": [
       "<Figure size 864x504 with 2 Axes>"
      ]
     },
     "metadata": {
      "needs_background": "light"
     },
     "output_type": "display_data"
    },
    {
     "data": {
      "image/png": "[encoded data removed]",
      "text/plain": [
       "<Figure size 864x504 with 2 Axes>"
      ]
     },
     "metadata": {
      "needs_background": "light"
     },
     "output_type": "display_data"
    },
    {
     "data": {
      "image/png": "[encoded data removed]",
      "text/plain": [
       "<Figure size 864x504 with 2 Axes>"
      ]
     },
     "metadata": {
      "needs_background": "light"
     },
     "output_type": "display_data"
    },
    {
     "data": {
      "image/png": "[encoded data removed]",
      "text/plain": [
       "<Figure size 864x504 with 2 Axes>"
      ]
     },
     "metadata": {
      "needs_background": "light"
     },
     "output_type": "display_data"
    },
    {
     "data": {
      "image/png": "[encoded data removed]",
      "text/plain": [
       "<Figure size 864x504 with 2 Axes>"
      ]
     },
     "metadata": {
      "needs_background": "light"
     },
     "output_type": "display_data"
    },
    {
     "data": {
      "image/png": "[encoded data removed]",
      "text/plain": [
       "<Figure size 864x504 with 2 Axes>"
      ]
     },
     "metadata": {
      "needs_background": "light"
     },
     "output_type": "display_data"
    },
    {
     "data": {
      "image/png": "[encoded data removed]",
      "text/plain": [
       "<Figure size 864x504 with 2 Axes>"
      ]
     },
     "metadata": {
      "needs_background": "light"
     },
     "output_type": "display_data"
    }
   ],
   "source": [
    "for a in tqdm(a_list):\n",
    "    fig1 = plt.figure(figsize =(12, 7))\n",
    "\n",
    "    axs=[fig1.add_axes((0.0,0.4,1,.6)), fig1.add_axes((0.0,0.0,1,.4))]\n",
    "    plt.subplots_adjust(wspace=0, hspace=0)\n",
    "    c_data = NvMs[a]\n",
    "\n",
    "    Ms = M_data[a]\n",
    "    N = N_data[a]\n",
    "    edge_pairs = c_data['edge_pairs']\n",
    "\n",
    "    edges = [edge[0] for edge in edge_pairs]\n",
    "    edges += [edge_pairs[-1][1]]\n",
    "\n",
    "    #shade in 1% and 10% error region\n",
    "    edges = np.array(edges)\n",
    "\n",
    "    y1 = 0.1*np.ones_like(N)\n",
    "    y1 = np.append(y1, y1[-1])\n",
    "    y1 = np.append(y1[0], y1)\n",
    "\n",
    "    y2 = -0.1*np.ones_like(N)\n",
    "    y2 = np.append(y2, y2[-1])\n",
    "    y2 = np.append(y2[0], y2)\n",
    "\n",
    "    c_Ms = np.append(Ms, edges[-1])\n",
    "    c_Ms = np.append(edges[0], c_Ms)\n",
    "    axs[1].fill_between(c_Ms, y1, y2, alpha=1, color='0.95',label='<10% Error')\n",
    "\n",
    "    y1 = 0.01*np.ones_like(N)\n",
    "    y1 = np.append(y1, y1[-1])\n",
    "    y1 = np.append(y1[0], y1)\n",
    "\n",
    "    y2 = -0.01*np.ones_like(N)\n",
    "    y2 = np.append(y2, y2[-1])\n",
    "    y2 = np.append(y2[0], y2)\n",
    "\n",
    "    axs[1].fill_between(c_Ms, y1, y2, alpha=1, color='0.85',label='<1% Error')\n",
    "\n",
    "\n",
    "    dM = np.array([edges[1]-edges[0] for edges in edge_pairs])\n",
    "\n",
    "\n",
    "    #Emulator \n",
    "    tinker_eval_MCMC = [Emulator.predict_dndM(cosmo_params[leave_out_box], scaleToRedshift(a), M_c)*vol for M_c in M_numerics]\n",
    "    f_dNdM_MCMC =  interp1d(M_numerics, tinker_eval_MCMC, kind='linear',\n",
    "                            bounds_error=False, fill_value=0.)\n",
    "    tinker_eval_MCMC = np.array([quad(f_dNdM_MCMC, edge[0],  edge[1], epsabs=0, epsrel=1e-5)[0] for edge in edge_pairs])\n",
    "\n",
    "    axs[0].scatter(Ms, tinker_eval_MCMC, marker='x', c='red')\n",
    "    axs[0].bar(x=edges[:-1], height=tinker_eval_MCMC, width=np.diff(edges), \n",
    "               align='edge', fill=False, ec='red', label='Emulator')\n",
    "    axs[1].scatter(Ms, (tinker_eval_MCMC-N)/N, marker='x', color='red')\n",
    "#     axs[1].scatter(Ms, (tinker_eval_MCMC-N)/N, marker='x', color='red')\n",
    "    with open(\"/oak/stanford/orgs/kipac/users/delon/aemulusnu_massfunction/%s_%.2f_NvMemulator_loo_output.pkl\"%(box, a), \"wb\") as f:\n",
    "        pickle.dump({'Ms':Ms, 'tinker_eval':tinker_eval_MCMC, 'N':N, 'edges':edges}, f)\n",
    "\n",
    "    #ML Fit\n",
    "\n",
    "    c_params = dict(zip(param_names, true_params[a]))\n",
    "    tinker_eval_MCMC = [Emulator.get_massfunction(cosmo_params[leave_out_box]).dndM(a, M_c, **c_params,)*vol for M_c in M_numerics]\n",
    "    f_dNdM_MCMC =  interp1d(M_numerics, tinker_eval_MCMC, kind='linear', \n",
    "                            bounds_error=False, fill_value=0.)\n",
    "    tinker_eval_MCMC = np.array([quad(f_dNdM_MCMC, edge[0],  edge[1], epsabs=0, epsrel=1e-5)[0] for edge in edge_pairs])\n",
    "    axs[0].scatter(Ms, tinker_eval_MCMC, s=50 , marker='x', c='blue')\n",
    "    axs[0].bar(x=edges[:-1], height=tinker_eval_MCMC, width=np.diff(edges), \n",
    "               align='edge', fill=False, ec='blue', label='ML Fit')\n",
    "    axs[1].scatter(Ms, (tinker_eval_MCMC-N)/N, marker='x', color='blue')\n",
    "\n",
    "    #Data\n",
    "    axs[0].bar(x=edges[:-1], height=N, width=np.diff(edges),\n",
    "           align='edge', fill=False, ec='black', label='Data')\n",
    "\n",
    "    axs[0].set_xscale('log')\n",
    "    axs[0].set_yscale('log')\n",
    "    axs[0].legend(frameon=False)\n",
    "    axs[0].set_ylabel('N')\n",
    "\n",
    "    \n",
    "    \n",
    "    axs[1].set_xscale('log')\n",
    "    # axs[1].set_yscale('lin', linthresh=1e-2)    \n",
    "    axs[1].legend(frameon=False)\n",
    "    axs[1].axhline(0, c='black')\n",
    "    axs[1].set_ylabel('N')\n",
    "    axs[1].set_xlabel(r'Mass $[h^{-1}M_\\odot]$')\n",
    "    axs[1].set_ylabel(r'$\\frac{N_{\\rm emulator}-N_{\\rm data}}{N_{\\rm data}} $')\n",
    "    axs[0].set_title('%s, a=%.2f, z=%.2f'%(box, a, scaleToRedshift(a)))\n",
    "\n",
    "    left = np.ceil(np.log10(200*Mpart) * 10) / 10\n",
    "    axs[0].set_xlim((10**left, np.max(edges)))\n",
    "    axs[1].set_xlim((10**left, np.max(edges)))\n",
    "    axs[1].set_ylim((-.29, .29))\n",
    "    axs[1].set_yticks([-.2, -.1, 0, .1, .2])\n",
    "\n",
    "    plt.savefig('/oak/stanford/orgs/kipac/users/delon/aemulusnu_massfunction/figures/emulator/%s_emufit_%.2f.pdf'%(box, a), bbox_inches='tight')\n",
    "with open(\"/oak/stanford/orgs/kipac/users/delon/aemulusnu_massfunction/%s_emu_loo_predicted_params.pkl\"%(leave_out_box), \"wb\") as f:\n",
    "    pickle.dump(Emulator.predict_params(cosmo_params[leave_out_box], scaleToRedshift(a)), f)"
   ]
  },
  {
   "cell_type": "code",
   "execution_count": null,
   "id": "368a58a2",
   "metadata": {},
   "outputs": [],
   "source": []
  }
 ],
 "metadata": {
  "kernelspec": {
   "display_name": "massfunction",
   "language": "python",
   "name": "massfunction"
  },
  "language_info": {
   "codemirror_mode": {
    "name": "ipython",
    "version": 3
   },
   "file_extension": ".py",
   "mimetype": "text/x-python",
   "name": "python",
   "nbconvert_exporter": "python",
   "pygments_lexer": "ipython3",
   "version": "3.9.16"
  }
 },
 "nbformat": 4,
 "nbformat_minor": 5
}
