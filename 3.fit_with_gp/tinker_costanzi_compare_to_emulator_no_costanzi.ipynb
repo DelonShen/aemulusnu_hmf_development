{
 "cells": [
  {
   "cell_type": "code",
   "execution_count": 1,
   "id": "b147df25",
   "metadata": {},
   "outputs": [],
   "source": [
    "import pickle\n",
    "from aemulusnu_massfunction.emulator_training import *\n",
    "from aemulusnu_massfunction.massfunction_fitting_tinker import Tinker08Costanzi13\n",
    "from aemulusnu_hmf import massfunction as hmf\n",
    "# from aemulusnu_massfunction.fisher_utils import MassFuncTinker08Costanzi13"
   ]
  },
  {
   "cell_type": "code",
   "execution_count": 2,
   "id": "d613b760",
   "metadata": {},
   "outputs": [],
   "source": [
    "tinker08_hmf = Tinker08()"
   ]
  },
  {
   "cell_type": "code",
   "execution_count": 3,
   "id": "6b702f5c",
   "metadata": {},
   "outputs": [],
   "source": [
    "from scipy.integrate import quad"
   ]
  },
  {
   "cell_type": "code",
   "execution_count": 4,
   "id": "d9e1bf7d",
   "metadata": {},
   "outputs": [],
   "source": [
    "from tqdm import tqdm, trange\n",
    "a_list_fname = '/oak/stanford/orgs/kipac/users/delon/aemulusnu_massfunction/alist.pkl'\n",
    "a_list_f = open(a_list_fname, 'rb')\n",
    "a_list = pickle.load(a_list_f)\n",
    "a_list_f.close()\n",
    "\n",
    "cosmos_f = open('../data/cosmo_params.pkl', 'rb')\n",
    "cosmo_params = pickle.load(cosmos_f) #cosmo_params is a dict\n",
    "cosmos_f.close()\n"
   ]
  },
  {
   "cell_type": "code",
   "execution_count": 5,
   "id": "98928073",
   "metadata": {
    "scrolled": false
   },
   "outputs": [
    {
     "name": "stderr",
     "output_type": "stream",
     "text": [
      "100%|██████████| 150/150 [14:43<00:00,  5.89s/it]\n"
     ]
    }
   ],
   "source": [
    "for box in tqdm(cosmo_params):\n",
    "    if('n50' not in box):\n",
    "        continue\n",
    "    NvM_fname = '/oak/stanford/orgs/kipac/users/delon/aemulusnu_massfunction/'+box+'_NvsM.pkl'\n",
    "    NvM_f = open(NvM_fname, 'rb')\n",
    "    NvMs = pickle.load(NvM_f) #NvMs is a dictionary of dictionaries\n",
    "    NvM_f.close()\n",
    "\n",
    "\n",
    "    N_data = {}\n",
    "    M_data = {}\n",
    "    aux_data = {}\n",
    "\n",
    "    vol = -1 #Mpc^3/h^3\n",
    "    Mpart = -1\n",
    "\n",
    "    for a in (a_list):\n",
    "        if(a not in NvMs):\n",
    "            continue\n",
    "        c_data = NvMs[a]\n",
    "\n",
    "        Ms = c_data['M'] #units of h^-1 Msolar\n",
    "        N = c_data['N']\n",
    "        edge_pairs = c_data['edge_pairs']\n",
    "        assert(len(Ms) == len(edge_pairs))\n",
    "        assert(len(Ms) == len(N))\n",
    "\n",
    "        if(vol==-1):\n",
    "            vol = c_data['vol']\n",
    "        assert(vol == c_data['vol'])\n",
    "\n",
    "        if(Mpart==-1):\n",
    "            Mpart = c_data['Mpart']\n",
    "        assert(Mpart == c_data['Mpart'])\n",
    "\n",
    "        N_data[a] = []\n",
    "        M_data[a] = []\n",
    "        aux_data[a] = []\n",
    "        for N_curr, M_curr, edge_pair in zip(N, Ms, edge_pairs):\n",
    "            N_data[a] += [N_curr]\n",
    "            M_data[a] += [M_curr]\n",
    "            aux_data[a] += [{'a':a, 'edge_pair':edge_pair}]\n",
    "\n",
    "    M_numerics = np.logspace(np.log10(100*Mpart), 16, 50)\n",
    "\n",
    "    jackknife_covs_fname = '/oak/stanford/orgs/kipac/users/delon/aemulusnu_massfunction/'+box+'_jackknife_covs.pkl'\n",
    "    jackknife_covs_f = open(jackknife_covs_fname, 'rb')\n",
    "    jackknife = pickle.load(jackknife_covs_f)\n",
    "    jackknife_covs_f.close()\n",
    "\n",
    "    jack_covs = {a:jackknife[a][1] for a in N_data}\n",
    "\n",
    "    # Compute the weighted covariance matrix incorporating jackknife and poisson\n",
    "    weighted_cov = {a: jack_covs[a] for a in jack_covs}\n",
    "\n",
    "    param_names = ['d','e','f','g']\n",
    "\n",
    "    h = cosmo_params[box]['H0']/100\n",
    "\n",
    "    cosmology = hmf.cosmology(cosmo_params[box])\n",
    "    for a in (N_data):\n",
    "        yerr = np.sqrt(np.diagonal(weighted_cov[a]))\n",
    "        c_data = NvMs[a]\n",
    "\n",
    "        Ms = M_data[a]\n",
    "        N = N_data[a]\n",
    "        edge_pairs = c_data['edge_pairs']\n",
    "\n",
    "        edges = [edge[0] for edge in edge_pairs]\n",
    "        edges += [edge_pairs[-1][1]]\n",
    "\n",
    "        #shade in 1% and 10% error region\n",
    "        edges = np.array(edges)\n",
    "\n",
    "\n",
    "\n",
    "        y1 = 0.1*np.ones_like(N)\n",
    "        y1 = np.append(y1, y1[-1])\n",
    "        y1 = np.append(y1[0], y1)\n",
    "\n",
    "        y2 = -0.1*np.ones_like(N)\n",
    "        y2 = np.append(y2, y2[-1])\n",
    "        y2 = np.append(y2[0], y2)\n",
    "\n",
    "        c_Ms = np.append(Ms, edges[-1])\n",
    "        c_Ms = np.append(edges[0], c_Ms)\n",
    "\n",
    "        y1 = 0.01*np.ones_like(N)\n",
    "        y1 = np.append(y1, y1[-1])\n",
    "        y1 = np.append(y1[0], y1)\n",
    "\n",
    "        y2 = -0.01*np.ones_like(N)\n",
    "        y2 = np.append(y2, y2[-1])\n",
    "        y2 = np.append(y2[0], y2)\n",
    "\n",
    "\n",
    "\n",
    "        dM = np.array([edges[1]-edges[0] for edges in edge_pairs])\n",
    "        #tinker08 + costanzi13\n",
    "\n",
    "        mass_function = tinker08_hmf\n",
    "\n",
    "        f_dNdM_MCMC =  lambda M:mass_function(cosmology, M, a)*vol # h / Msun\n",
    "        tinker_eval_MCMC = np.array([quad(f_dNdM_MCMC, edge[0],  edge[1], epsabs=0, epsrel=1e-3)[0] for edge in edge_pairs])\n",
    "        with open(\"/oak/stanford/orgs/kipac/users/delon/aemulusnu_massfunction/%s_%.2f_NvMtinker08costanzi13_loo_output_debug.pkl\"%(box, a), \"wb\") as f:\n",
    "            pickle.dump({'Ms':Ms, 'tinker_eval':tinker_eval_MCMC, 'N':N, 'edges':edges}, f)\n"
   ]
  }
 ],
 "metadata": {
  "kernelspec": {
   "display_name": "massfunction",
   "language": "python",
   "name": "massfunction"
  },
  "language_info": {
   "codemirror_mode": {
    "name": "ipython",
    "version": 3
   },
   "file_extension": ".py",
   "mimetype": "text/x-python",
   "name": "python",
   "nbconvert_exporter": "python",
   "pygments_lexer": "ipython3",
   "version": "3.9.16"
  }
 },
 "nbformat": 4,
 "nbformat_minor": 5
}
