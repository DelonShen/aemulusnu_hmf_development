{
 "cells": [
  {
   "cell_type": "code",
   "execution_count": 1,
   "id": "3e691284",
   "metadata": {},
   "outputs": [
    {
     "name": "stdout",
     "output_type": "stream",
     "text": [
      "alist [1.0, 0.953321, 0.866399, 0.787402, 0.715608, 0.65036, 0.620002, 0.591061, 0.563471, 0.537169, 0.512095, 0.488191, 0.403224, 0.366459]\n"
     ]
    },
    {
     "name": "stderr",
     "output_type": "stream",
     "text": [
      "\r",
      "  0%|          | 0/13 [00:00<?, ?it/s]"
     ]
    },
    {
     "name": "stdout",
     "output_type": "stream",
     "text": [
      "python -u fit_individ_iter.py Box_n50_0_1400 0.953321 Box_n50_0_1400 1.000000\n",
      "Submitted batch job 22016277\n"
     ]
    },
    {
     "name": "stderr",
     "output_type": "stream",
     "text": [
      "\r",
      "  8%|▊         | 1/13 [01:39<19:54, 99.50s/it]"
     ]
    },
    {
     "name": "stdout",
     "output_type": "stream",
     "text": [
      "python -u fit_individ_iter.py Box_n50_0_1400 0.866399 Box_n50_0_1400 0.953321\n",
      "Submitted batch job 22016335\n"
     ]
    },
    {
     "name": "stderr",
     "output_type": "stream",
     "text": [
      "\r",
      " 15%|█▌        | 2/13 [02:16<11:30, 62.78s/it]"
     ]
    },
    {
     "name": "stdout",
     "output_type": "stream",
     "text": [
      "python -u fit_individ_iter.py Box_n50_0_1400 0.787402 Box_n50_0_1400 0.866399\n",
      "Submitted batch job 22016433\n"
     ]
    },
    {
     "name": "stderr",
     "output_type": "stream",
     "text": [
      "\r",
      " 23%|██▎       | 3/13 [02:20<06:00, 36.09s/it]"
     ]
    },
    {
     "name": "stdout",
     "output_type": "stream",
     "text": [
      "python -u fit_individ_iter.py Box_n50_0_1400 0.715608 Box_n50_0_1400 0.787402\n",
      "Submitted batch job 22016440\n"
     ]
    },
    {
     "name": "stderr",
     "output_type": "stream",
     "text": [
      "\r",
      " 31%|███       | 4/13 [02:25<03:33, 23.69s/it]"
     ]
    },
    {
     "name": "stdout",
     "output_type": "stream",
     "text": [
      "python -u fit_individ_iter.py Box_n50_0_1400 0.650360 Box_n50_0_1400 0.715608\n",
      "Submitted batch job 22016447\n"
     ]
    },
    {
     "name": "stderr",
     "output_type": "stream",
     "text": [
      "\r",
      " 38%|███▊      | 5/13 [02:31<02:16, 17.12s/it]"
     ]
    },
    {
     "name": "stdout",
     "output_type": "stream",
     "text": [
      "python -u fit_individ_iter.py Box_n50_0_1400 0.620002 Box_n50_0_1400 0.650360\n",
      "Submitted batch job 22016448\n"
     ]
    },
    {
     "name": "stderr",
     "output_type": "stream",
     "text": [
      "\r",
      " 46%|████▌     | 6/13 [02:37<01:34, 13.54s/it]"
     ]
    },
    {
     "name": "stdout",
     "output_type": "stream",
     "text": [
      "python -u fit_individ_iter.py Box_n50_0_1400 0.591061 Box_n50_0_1400 0.620002\n",
      "Submitted batch job 22016450\n"
     ]
    },
    {
     "name": "stderr",
     "output_type": "stream",
     "text": [
      "\r",
      " 54%|█████▍    | 7/13 [03:16<02:11, 21.94s/it]"
     ]
    },
    {
     "name": "stdout",
     "output_type": "stream",
     "text": [
      "python -u fit_individ_iter.py Box_n50_0_1400 0.563471 Box_n50_0_1400 0.591061\n",
      "Submitted batch job 22016514\n"
     ]
    },
    {
     "name": "stderr",
     "output_type": "stream",
     "text": [
      "\r",
      " 62%|██████▏   | 8/13 [03:24<01:27, 17.42s/it]"
     ]
    },
    {
     "name": "stdout",
     "output_type": "stream",
     "text": [
      "python -u fit_individ_iter.py Box_n50_0_1400 0.537169 Box_n50_0_1400 0.563471\n",
      "Submitted batch job 22016549\n"
     ]
    },
    {
     "name": "stderr",
     "output_type": "stream",
     "text": [
      "\r",
      " 69%|██████▉   | 9/13 [03:45<01:13, 18.48s/it]"
     ]
    },
    {
     "name": "stdout",
     "output_type": "stream",
     "text": [
      "python -u fit_individ_iter.py Box_n50_0_1400 0.512095 Box_n50_0_1400 0.537169\n",
      "Submitted batch job 22016597\n"
     ]
    },
    {
     "name": "stderr",
     "output_type": "stream",
     "text": [
      "\r",
      " 77%|███████▋  | 10/13 [03:55<00:47, 15.99s/it]"
     ]
    },
    {
     "name": "stdout",
     "output_type": "stream",
     "text": [
      "python -u fit_individ_iter.py Box_n50_0_1400 0.488191 Box_n50_0_1400 0.512095\n",
      "Submitted batch job 22016612\n"
     ]
    },
    {
     "name": "stderr",
     "output_type": "stream",
     "text": [
      "\r",
      " 85%|████████▍ | 11/13 [04:06<00:28, 14.34s/it]"
     ]
    },
    {
     "name": "stdout",
     "output_type": "stream",
     "text": [
      "python -u fit_individ_iter.py Box_n50_0_1400 0.403224 Box_n50_0_1400 0.488191\n",
      "Submitted batch job 22016618\n"
     ]
    },
    {
     "name": "stderr",
     "output_type": "stream",
     "text": [
      "\r",
      " 92%|█████████▏| 12/13 [04:17<00:13, 13.49s/it]"
     ]
    },
    {
     "name": "stdout",
     "output_type": "stream",
     "text": [
      "python -u fit_individ_iter.py Box_n50_0_1400 0.366459 Box_n50_0_1400 0.403224\n",
      "Submitted batch job 22016661\n"
     ]
    },
    {
     "name": "stderr",
     "output_type": "stream",
     "text": [
      "100%|██████████| 13/13 [04:25<00:00, 20.40s/it]\n"
     ]
    }
   ],
   "source": [
    "import sys\n",
    "\n",
    "box = 'Box_n50_0_1400'\n",
    "# print('Curr: %-10s, Prev: %-10s'%(box, box_prev))\n",
    "import numpy as np\n",
    "from tqdm import tqdm, trange\n",
    "import os\n",
    "import numpy as np\n",
    "import pickle\n",
    "\n",
    "\n",
    "a_list_fname = '/oak/stanford/orgs/kipac/users/delon/aemulusnu_massfunction/alist.pkl'\n",
    "a_list_f = open(a_list_fname, 'rb')\n",
    "a_list = pickle.load(a_list_f) \n",
    "a_list_f.close()\n",
    "print('alist', a_list)\n",
    "\n",
    "import subprocess\n",
    "from datetime import date\n",
    "\n",
    "        \n",
    "        \n",
    "# Submit each command as a Slurm job with the dynamically generated log paths    \n",
    "for i in trange(1, len(a_list)):\n",
    "    line = 'python -u fit_individ_iter.py %s %f %s %f'%(box, a_list[i], box, a_list[i-1])\n",
    "    print(line)\n",
    "    # Define the job parameters\n",
    "    job_name = 'fit_%s_a%.2f'%(box, a_list[i])\n",
    "\n",
    "    # Get the current date\n",
    "    current_date = date.today().strftime('%Y-%m-%d')\n",
    "\n",
    "    # Construct the output and error log paths\n",
    "    output_log = f'logs/{current_date}-{job_name}.out'\n",
    "    error_log = f'logs/{current_date}-{job_name}.err'\n",
    "    sbatch_command = f'sbatch --job-name={job_name} --output={output_log} --error={error_log} --time=60:00 -p kipac --nodes=1 --mem=32768 --cpus-per-task=1 --wrap=\"{line}\"'\n",
    "\n",
    "    \n",
    "    subprocess.run(sbatch_command, shell=True)\n",
    "\n",
    "    # Wait for the current job to finish\n",
    "    while True:\n",
    "        squeue_output = subprocess.check_output(['squeue', '-u', 'delon', '-n', job_name, '-h']).decode().strip()\n",
    "        if not squeue_output:\n",
    "            break"
   ]
  },
  {
   "cell_type": "code",
   "execution_count": null,
   "id": "8d6ce2c4",
   "metadata": {},
   "outputs": [],
   "source": []
  }
 ],
 "metadata": {
  "kernelspec": {
   "display_name": "massfunction",
   "language": "python",
   "name": "massfunction"
  },
  "language_info": {
   "codemirror_mode": {
    "name": "ipython",
    "version": 3
   },
   "file_extension": ".py",
   "mimetype": "text/x-python",
   "name": "python",
   "nbconvert_exporter": "python",
   "pygments_lexer": "ipython3",
   "version": "3.9.16"
  }
 },
 "nbformat": 4,
 "nbformat_minor": 5
}
