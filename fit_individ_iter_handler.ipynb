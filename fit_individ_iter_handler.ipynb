{
 "cells": [
  {
   "cell_type": "code",
   "execution_count": 1,
   "id": "caeb72c1",
   "metadata": {},
   "outputs": [],
   "source": [
    "box = 'Box_n50_0_1400'"
   ]
  },
  {
   "cell_type": "code",
   "execution_count": 2,
   "id": "def33b56",
   "metadata": {},
   "outputs": [],
   "source": [
    "from utils import *\n",
    "from massfunction import *\n",
    "\n",
    "import numpy as np\n",
    "from tqdm import tqdm, trange\n",
    "import matplotlib.pyplot as plt\n",
    "import os\n",
    "import emcee\n",
    "import sys\n",
    "import numpy as np\n",
    "import pickle"
   ]
  },
  {
   "cell_type": "code",
   "execution_count": 3,
   "id": "8c5531ab",
   "metadata": {},
   "outputs": [],
   "source": [
    "cosmos_f = open('data/cosmo_params.pkl', 'rb')\n",
    "cosmo_params = pickle.load(cosmos_f) #cosmo_params is a dict\n",
    "cosmos_f.close()"
   ]
  },
  {
   "cell_type": "code",
   "execution_count": 4,
   "id": "953332ae",
   "metadata": {},
   "outputs": [],
   "source": [
    "cosmo = cosmo_params[box]\n",
    "mass_function = MassFunction(cosmo)"
   ]
  },
  {
   "cell_type": "code",
   "execution_count": 5,
   "id": "652e1834",
   "metadata": {},
   "outputs": [],
   "source": [
    "h = cosmo['H0']/100\n",
    "\n",
    "NvM_fname = '/oak/stanford/orgs/kipac/users/delon/aemulusnu_massfunction/'+box+'_NvsM.pkl'\n",
    "NvM_f = open(NvM_fname, 'rb')\n",
    "NvMs = pickle.load(NvM_f) #NvMs is a dictionary of dictionaries\n",
    "NvM_f.close()"
   ]
  },
  {
   "cell_type": "code",
   "execution_count": 8,
   "id": "43d8f561",
   "metadata": {},
   "outputs": [
    {
     "name": "stdout",
     "output_type": "stream",
     "text": [
      "[1.0, 0.953321, 0.866399, 0.787402, 0.715608, 0.65036, 0.620002, 0.591061, 0.563471, 0.537169, 0.512095, 0.488191, 0.403224, 0.366459, 0.302679, 0.25]\n"
     ]
    }
   ],
   "source": [
    "a_list = list(reversed(NvMs.keys()))\n",
    "print(a_list)"
   ]
  },
  {
   "cell_type": "code",
   "execution_count": 16,
   "id": "e63b3c24",
   "metadata": {},
   "outputs": [
    {
     "name": "stdout",
     "output_type": "stream",
     "text": [
      "python -u fit_individ_iter.py Box_n50_0_1400 0.953321 Box_n50_0_1400 1.000000\n",
      "python -u fit_individ_iter.py Box_n50_0_1400 0.866399 Box_n50_0_1400 0.953321\n",
      "python -u fit_individ_iter.py Box_n50_0_1400 0.787402 Box_n50_0_1400 0.866399\n",
      "python -u fit_individ_iter.py Box_n50_0_1400 0.715608 Box_n50_0_1400 0.787402\n",
      "python -u fit_individ_iter.py Box_n50_0_1400 0.650360 Box_n50_0_1400 0.715608\n",
      "python -u fit_individ_iter.py Box_n50_0_1400 0.620002 Box_n50_0_1400 0.650360\n",
      "python -u fit_individ_iter.py Box_n50_0_1400 0.591061 Box_n50_0_1400 0.620002\n",
      "python -u fit_individ_iter.py Box_n50_0_1400 0.563471 Box_n50_0_1400 0.591061\n",
      "python -u fit_individ_iter.py Box_n50_0_1400 0.537169 Box_n50_0_1400 0.563471\n",
      "python -u fit_individ_iter.py Box_n50_0_1400 0.512095 Box_n50_0_1400 0.537169\n",
      "python -u fit_individ_iter.py Box_n50_0_1400 0.488191 Box_n50_0_1400 0.512095\n",
      "python -u fit_individ_iter.py Box_n50_0_1400 0.403224 Box_n50_0_1400 0.488191\n",
      "python -u fit_individ_iter.py Box_n50_0_1400 0.366459 Box_n50_0_1400 0.403224\n",
      "python -u fit_individ_iter.py Box_n50_0_1400 0.302679 Box_n50_0_1400 0.366459\n",
      "python -u fit_individ_iter.py Box_n50_0_1400 0.250000 Box_n50_0_1400 0.302679\n"
     ]
    }
   ],
   "source": [
    "\n",
    "for i in range(1, len(a_list)):\n",
    "    line = 'python -u fit_individ_iter.py %s %f %s %f'%(box, a_list[i], box, a_list[i-1])\n",
    "    print(line)\n"
   ]
  },
  {
   "cell_type": "code",
   "execution_count": 19,
   "id": "10d96739",
   "metadata": {},
   "outputs": [],
   "source": [
    "import subprocess\n",
    "from datetime import date\n",
    "\n"
   ]
  },
  {
   "cell_type": "code",
   "execution_count": 24,
   "id": "0c221d4b",
   "metadata": {},
   "outputs": [
    {
     "name": "stderr",
     "output_type": "stream",
     "text": [
      "\r",
      "  0%|          | 0/15 [00:00<?, ?it/s]"
     ]
    },
    {
     "name": "stdout",
     "output_type": "stream",
     "text": [
      "Submitted batch job 21393626\n"
     ]
    },
    {
     "name": "stderr",
     "output_type": "stream",
     "text": [
      "\r",
      "  7%|▋         | 1/15 [00:16<03:57, 16.99s/it]"
     ]
    },
    {
     "name": "stdout",
     "output_type": "stream",
     "text": [
      "Submitted batch job 21393639\n"
     ]
    },
    {
     "name": "stderr",
     "output_type": "stream",
     "text": [
      "\r",
      " 13%|█▎        | 2/15 [00:31<03:19, 15.35s/it]"
     ]
    },
    {
     "name": "stdout",
     "output_type": "stream",
     "text": [
      "Submitted batch job 21393648\n"
     ]
    },
    {
     "name": "stderr",
     "output_type": "stream",
     "text": [
      "\r",
      " 20%|██        | 3/15 [00:39<02:24, 12.04s/it]"
     ]
    },
    {
     "name": "stdout",
     "output_type": "stream",
     "text": [
      "Submitted batch job 21393651\n"
     ]
    },
    {
     "name": "stderr",
     "output_type": "stream",
     "text": [
      "\r",
      " 27%|██▋       | 4/15 [00:49<02:04, 11.33s/it]"
     ]
    },
    {
     "name": "stdout",
     "output_type": "stream",
     "text": [
      "Submitted batch job 21393653\n"
     ]
    },
    {
     "name": "stderr",
     "output_type": "stream",
     "text": [
      " 27%|██▋       | 4/15 [00:52<02:23, 13.00s/it]\n"
     ]
    },
    {
     "ename": "KeyboardInterrupt",
     "evalue": "",
     "output_type": "error",
     "traceback": [
      "\u001b[0;31m---------------------------------------------------------------------------\u001b[0m",
      "\u001b[0;31mKeyboardInterrupt\u001b[0m                         Traceback (most recent call last)",
      "\u001b[0;32m/tmp/ipykernel_18776/3024060814.py\u001b[0m in \u001b[0;36m<module>\u001b[0;34m\u001b[0m\n\u001b[1;32m     18\u001b[0m     \u001b[0;31m# Wait for the current job to finish\u001b[0m\u001b[0;34m\u001b[0m\u001b[0;34m\u001b[0m\u001b[0m\n\u001b[1;32m     19\u001b[0m     \u001b[0;32mwhile\u001b[0m \u001b[0;32mTrue\u001b[0m\u001b[0;34m:\u001b[0m\u001b[0;34m\u001b[0m\u001b[0;34m\u001b[0m\u001b[0m\n\u001b[0;32m---> 20\u001b[0;31m         \u001b[0msqueue_output\u001b[0m \u001b[0;34m=\u001b[0m \u001b[0msubprocess\u001b[0m\u001b[0;34m.\u001b[0m\u001b[0mcheck_output\u001b[0m\u001b[0;34m(\u001b[0m\u001b[0;34m[\u001b[0m\u001b[0;34m'squeue'\u001b[0m\u001b[0;34m,\u001b[0m \u001b[0;34m'-u'\u001b[0m\u001b[0;34m,\u001b[0m \u001b[0;34m'delon'\u001b[0m\u001b[0;34m,\u001b[0m \u001b[0;34m'-n'\u001b[0m\u001b[0;34m,\u001b[0m \u001b[0mjob_name\u001b[0m\u001b[0;34m,\u001b[0m \u001b[0;34m'-h'\u001b[0m\u001b[0;34m]\u001b[0m\u001b[0;34m)\u001b[0m\u001b[0;34m.\u001b[0m\u001b[0mdecode\u001b[0m\u001b[0;34m(\u001b[0m\u001b[0;34m)\u001b[0m\u001b[0;34m.\u001b[0m\u001b[0mstrip\u001b[0m\u001b[0;34m(\u001b[0m\u001b[0;34m)\u001b[0m\u001b[0;34m\u001b[0m\u001b[0;34m\u001b[0m\u001b[0m\n\u001b[0m\u001b[1;32m     21\u001b[0m         \u001b[0;32mif\u001b[0m \u001b[0;32mnot\u001b[0m \u001b[0msqueue_output\u001b[0m\u001b[0;34m:\u001b[0m\u001b[0;34m\u001b[0m\u001b[0;34m\u001b[0m\u001b[0m\n\u001b[1;32m     22\u001b[0m             \u001b[0;32mbreak\u001b[0m\u001b[0;34m\u001b[0m\u001b[0;34m\u001b[0m\u001b[0m\n",
      "\u001b[0;32m/oak/stanford/orgs/kipac/users/delon/miniconda3/envs/massfunction/lib/python3.9/subprocess.py\u001b[0m in \u001b[0;36mcheck_output\u001b[0;34m(timeout, *popenargs, **kwargs)\u001b[0m\n\u001b[1;32m    422\u001b[0m         \u001b[0mkwargs\u001b[0m\u001b[0;34m[\u001b[0m\u001b[0;34m'input'\u001b[0m\u001b[0;34m]\u001b[0m \u001b[0;34m=\u001b[0m \u001b[0mempty\u001b[0m\u001b[0;34m\u001b[0m\u001b[0;34m\u001b[0m\u001b[0m\n\u001b[1;32m    423\u001b[0m \u001b[0;34m\u001b[0m\u001b[0m\n\u001b[0;32m--> 424\u001b[0;31m     return run(*popenargs, stdout=PIPE, timeout=timeout, check=True,\n\u001b[0m\u001b[1;32m    425\u001b[0m                **kwargs).stdout\n\u001b[1;32m    426\u001b[0m \u001b[0;34m\u001b[0m\u001b[0m\n",
      "\u001b[0;32m/oak/stanford/orgs/kipac/users/delon/miniconda3/envs/massfunction/lib/python3.9/subprocess.py\u001b[0m in \u001b[0;36mrun\u001b[0;34m(input, capture_output, timeout, check, *popenargs, **kwargs)\u001b[0m\n\u001b[1;32m    505\u001b[0m     \u001b[0;32mwith\u001b[0m \u001b[0mPopen\u001b[0m\u001b[0;34m(\u001b[0m\u001b[0;34m*\u001b[0m\u001b[0mpopenargs\u001b[0m\u001b[0;34m,\u001b[0m \u001b[0;34m**\u001b[0m\u001b[0mkwargs\u001b[0m\u001b[0;34m)\u001b[0m \u001b[0;32mas\u001b[0m \u001b[0mprocess\u001b[0m\u001b[0;34m:\u001b[0m\u001b[0;34m\u001b[0m\u001b[0;34m\u001b[0m\u001b[0m\n\u001b[1;32m    506\u001b[0m         \u001b[0;32mtry\u001b[0m\u001b[0;34m:\u001b[0m\u001b[0;34m\u001b[0m\u001b[0;34m\u001b[0m\u001b[0m\n\u001b[0;32m--> 507\u001b[0;31m             \u001b[0mstdout\u001b[0m\u001b[0;34m,\u001b[0m \u001b[0mstderr\u001b[0m \u001b[0;34m=\u001b[0m \u001b[0mprocess\u001b[0m\u001b[0;34m.\u001b[0m\u001b[0mcommunicate\u001b[0m\u001b[0;34m(\u001b[0m\u001b[0minput\u001b[0m\u001b[0;34m,\u001b[0m \u001b[0mtimeout\u001b[0m\u001b[0;34m=\u001b[0m\u001b[0mtimeout\u001b[0m\u001b[0;34m)\u001b[0m\u001b[0;34m\u001b[0m\u001b[0;34m\u001b[0m\u001b[0m\n\u001b[0m\u001b[1;32m    508\u001b[0m         \u001b[0;32mexcept\u001b[0m \u001b[0mTimeoutExpired\u001b[0m \u001b[0;32mas\u001b[0m \u001b[0mexc\u001b[0m\u001b[0;34m:\u001b[0m\u001b[0;34m\u001b[0m\u001b[0;34m\u001b[0m\u001b[0m\n\u001b[1;32m    509\u001b[0m             \u001b[0mprocess\u001b[0m\u001b[0;34m.\u001b[0m\u001b[0mkill\u001b[0m\u001b[0;34m(\u001b[0m\u001b[0;34m)\u001b[0m\u001b[0;34m\u001b[0m\u001b[0;34m\u001b[0m\u001b[0m\n",
      "\u001b[0;32m/oak/stanford/orgs/kipac/users/delon/miniconda3/envs/massfunction/lib/python3.9/subprocess.py\u001b[0m in \u001b[0;36mcommunicate\u001b[0;34m(self, input, timeout)\u001b[0m\n\u001b[1;32m   1119\u001b[0m                 \u001b[0mself\u001b[0m\u001b[0;34m.\u001b[0m\u001b[0m_stdin_write\u001b[0m\u001b[0;34m(\u001b[0m\u001b[0minput\u001b[0m\u001b[0;34m)\u001b[0m\u001b[0;34m\u001b[0m\u001b[0;34m\u001b[0m\u001b[0m\n\u001b[1;32m   1120\u001b[0m             \u001b[0;32melif\u001b[0m \u001b[0mself\u001b[0m\u001b[0;34m.\u001b[0m\u001b[0mstdout\u001b[0m\u001b[0;34m:\u001b[0m\u001b[0;34m\u001b[0m\u001b[0;34m\u001b[0m\u001b[0m\n\u001b[0;32m-> 1121\u001b[0;31m                 \u001b[0mstdout\u001b[0m \u001b[0;34m=\u001b[0m \u001b[0mself\u001b[0m\u001b[0;34m.\u001b[0m\u001b[0mstdout\u001b[0m\u001b[0;34m.\u001b[0m\u001b[0mread\u001b[0m\u001b[0;34m(\u001b[0m\u001b[0;34m)\u001b[0m\u001b[0;34m\u001b[0m\u001b[0;34m\u001b[0m\u001b[0m\n\u001b[0m\u001b[1;32m   1122\u001b[0m                 \u001b[0mself\u001b[0m\u001b[0;34m.\u001b[0m\u001b[0mstdout\u001b[0m\u001b[0;34m.\u001b[0m\u001b[0mclose\u001b[0m\u001b[0;34m(\u001b[0m\u001b[0;34m)\u001b[0m\u001b[0;34m\u001b[0m\u001b[0;34m\u001b[0m\u001b[0m\n\u001b[1;32m   1123\u001b[0m             \u001b[0;32melif\u001b[0m \u001b[0mself\u001b[0m\u001b[0;34m.\u001b[0m\u001b[0mstderr\u001b[0m\u001b[0;34m:\u001b[0m\u001b[0;34m\u001b[0m\u001b[0;34m\u001b[0m\u001b[0m\n",
      "\u001b[0;31mKeyboardInterrupt\u001b[0m: "
     ]
    }
   ],
   "source": [
    "# Submit each command as a Slurm job with the dynamically generated log paths    \n",
    "for i in trange(1, len(a_list)):\n",
    "    line = 'python -u fit_individ_iter.py %s %f %s %f'%(box, a_list[i], box, a_list[i-1])\n",
    "    # Define the job parameters\n",
    "    job_name = 'fit_%s_a%.2f'%(box, a_list[i])\n",
    "\n",
    "    # Get the current date\n",
    "    current_date = date.today().strftime('%Y-%m-%d')\n",
    "\n",
    "    # Construct the output and error log paths\n",
    "    output_log = f'logs/{current_date}-{job_name}.out'\n",
    "    error_log = f'logs/{current_date}-{job_name}.err'\n",
    "    sbatch_command = f'sbatch --job-name={job_name} --output={output_log} --error={error_log} --time=5:00 -p kipac --nodes=1 --mem=32768 --cpus-per-task=1 --wrap=\"{line}\"'\n",
    "\n",
    "    \n",
    "    subprocess.run(sbatch_command, shell=True)\n",
    "\n",
    "    # Wait for the current job to finish\n",
    "    while True:\n",
    "        squeue_output = subprocess.check_output(['squeue', '-u', 'delon', '-n', job_name, '-h']).decode().strip()\n",
    "        if not squeue_output:\n",
    "            break"
   ]
  },
  {
   "cell_type": "code",
   "execution_count": null,
   "id": "3e691284",
   "metadata": {},
   "outputs": [],
   "source": []
  }
 ],
 "metadata": {
  "kernelspec": {
   "display_name": "massfunction",
   "language": "python",
   "name": "massfunction"
  },
  "language_info": {
   "codemirror_mode": {
    "name": "ipython",
    "version": 3
   },
   "file_extension": ".py",
   "mimetype": "text/x-python",
   "name": "python",
   "nbconvert_exporter": "python",
   "pygments_lexer": "ipython3",
   "version": "3.9.16"
  }
 },
 "nbformat": 4,
 "nbformat_minor": 5
}
