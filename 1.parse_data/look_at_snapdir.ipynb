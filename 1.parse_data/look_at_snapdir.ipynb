{
 "cells": [
  {
   "cell_type": "code",
   "execution_count": 23,
   "id": "18840918",
   "metadata": {},
   "outputs": [
    {
     "name": "stdout",
     "output_type": "stream",
     "text": [
      "Keys: <KeysViewHDF5 ['Header', 'PartType1', 'PartType2']>\n",
      "<KeysViewHDF5 ['Coordinates', 'ParticleIDs', 'Velocities']>\n",
      "[2401123300 2397200493 2397207493 2395248895]\n",
      "[[589.40204 790.55743 718.66284]\n",
      " [590.4407  791.53625 720.4788 ]\n",
      " [588.7374  790.6962  720.88446]]\n",
      "<KeysViewHDF5 ['Coordinates', 'ParticleIDs', 'Velocities']>\n",
      "3664274620\n"
     ]
    }
   ],
   "source": [
    "import h5py\n",
    "filename = \"/home/users/delon/aemulus_nu/Box0_1400/output/snapdir_000/snapshot_000.hdf5.100x_downsample\"\n",
    "\n",
    "with h5py.File(filename, \"r\") as f:\n",
    "    # Print all root level object names (aka keys) \n",
    "    # these can be group or dataset names \n",
    "    print(\"Keys: %s\" % f.keys())\n",
    "    # get first object name/key; may or may NOT be a group\n",
    "    a_group_key = list(f.keys())[1]\n",
    "    print(f['PartType1'].keys())\n",
    "    print(f['PartType1']['ParticleIDs'][()][-5:-1])\n",
    "    print(f['PartType1']['Coordinates'][()][:3])\n",
    "    print(f['PartType2'].keys())\n",
    "    print(f['PartType2']['ParticleIDs'][()][0])"
   ]
  },
  {
   "cell_type": "code",
   "execution_count": null,
   "id": "8d244dd9",
   "metadata": {},
   "outputs": [],
   "source": []
  }
 ],
 "metadata": {
  "kernelspec": {
   "display_name": "massfunction",
   "language": "python",
   "name": "massfunction"
  },
  "language_info": {
   "codemirror_mode": {
    "name": "ipython",
    "version": 3
   },
   "file_extension": ".py",
   "mimetype": "text/x-python",
   "name": "python",
   "nbconvert_exporter": "python",
   "pygments_lexer": "ipython3",
   "version": "3.9.16"
  }
 },
 "nbformat": 4,
 "nbformat_minor": 5
}
