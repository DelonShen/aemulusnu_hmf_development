{
 "cells": [
  {
   "cell_type": "code",
   "execution_count": 13,
   "id": "01af04c5",
   "metadata": {},
   "outputs": [
    {
     "name": "stderr",
     "output_type": "stream",
     "text": [
      "Box_n50_49_1400: 100%|██████████| 150/150 [07:28<00:00,  2.99s/it]\n"
     ]
    }
   ],
   "source": [
    "import sys\n",
    "\n",
    "from utils import *\n",
    "from massfunction import *\n",
    "\n",
    "import numpy as np\n",
    "from tqdm import tqdm, trange\n",
    "import matplotlib.pyplot as plt\n",
    "import os\n",
    "import emcee\n",
    "import sys\n",
    "import numpy as np\n",
    "import pickle\n",
    "\n",
    "cosmos_f = open('data/cosmo_params.pkl', 'rb')\n",
    "cosmo_params = pickle.load(cosmos_f) #cosmo_params is a dict\n",
    "cosmos_f.close()\n",
    "\n",
    "box = 'Box_n50_0_1400'\n",
    "cosmo = cosmo_params[box]\n",
    "mass_function = MassFunction(cosmo)\n",
    "\n",
    "h = cosmo['H0']/100\n",
    "\n",
    "NvM_fname = '/oak/stanford/orgs/kipac/users/delon/aemulusnu_massfunction/'+box+'_NvsM.pkl'\n",
    "NvM_f = open(NvM_fname, 'rb')\n",
    "NvMs = pickle.load(NvM_f) #NvMs is a dictionary of dictionaries\n",
    "NvM_f.close()\n",
    "\n",
    "a_list = list(reversed(NvMs.keys()))\n",
    "c_alist = a_list\n",
    "pb = tqdm(cosmo_params)\n",
    "for box in pb:\n",
    "    if(box=='Box63_1400' or box=='Box_n50_38_1400'):\n",
    "        continue\n",
    "    pb.set_description(box)\n",
    "\n",
    "    cosmo = cosmo_params[box]\n",
    "    mass_function = MassFunction(cosmo)\n",
    "\n",
    "    h = cosmo['H0']/100\n",
    "\n",
    "    NvM_fname = '/oak/stanford/orgs/kipac/users/delon/aemulusnu_massfunction/'+box+'_NvsM.pkl'\n",
    "    NvM_f = open(NvM_fname, 'rb')\n",
    "    NvMs = pickle.load(NvM_f) #NvMs is a dictionary of dictionaries\n",
    "    NvM_f.close()\n",
    "\n",
    "    a_list = list(reversed(NvMs.keys()))\n",
    "    del NvMs\n",
    "    if(len(c_alist)==0):\n",
    "        c_alist = a_list\n",
    "    if(c_alist != a_list):\n",
    "        print(a_list)\n",
    "        print(c_alist)\n",
    "        print(box)\n",
    "    assert(c_alist == a_list)"
   ]
  },
  {
   "cell_type": "code",
   "execution_count": 14,
   "id": "d9de7f01",
   "metadata": {},
   "outputs": [],
   "source": [
    "with open(\"/oak/stanford/orgs/kipac/users/delon/aemulusnu_massfunction/alist.pkl\", \"wb\") as f:\n",
    "    pickle.dump(c_alist, f)\n"
   ]
  },
  {
   "cell_type": "code",
   "execution_count": null,
   "id": "21ca8493",
   "metadata": {},
   "outputs": [],
   "source": []
  },
  {
   "cell_type": "code",
   "execution_count": null,
   "id": "6c764abd",
   "metadata": {},
   "outputs": [],
   "source": []
  }
 ],
 "metadata": {
  "kernelspec": {
   "display_name": "massfunction",
   "language": "python",
   "name": "massfunction"
  },
  "language_info": {
   "codemirror_mode": {
    "name": "ipython",
    "version": 3
   },
   "file_extension": ".py",
   "mimetype": "text/x-python",
   "name": "python",
   "nbconvert_exporter": "python",
   "pygments_lexer": "ipython3",
   "version": "3.9.16"
  }
 },
 "nbformat": 4,
 "nbformat_minor": 5
}
