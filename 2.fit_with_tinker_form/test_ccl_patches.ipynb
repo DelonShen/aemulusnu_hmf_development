{
 "cells": [
  {
   "cell_type": "code",
   "execution_count": 1,
   "id": "48f142a1",
   "metadata": {},
   "outputs": [],
   "source": [
    "from aemulusnu_massfunction.massfunction_fitting_tinker import *\n",
    "from aemulusnu_mf_lib.utils import *\n"
   ]
  },
  {
   "cell_type": "code",
   "execution_count": 2,
   "id": "0a8598e6",
   "metadata": {},
   "outputs": [],
   "source": [
    "fiducial_cosmology = {'10^9 As':2.1,\n",
    "                      'ns': 0.9649,\n",
    "                      'H0': 67.36,\n",
    "                      'w0': -1,\n",
    "                      'ombh2': 0.02237,\n",
    "                      'omch2': 0.12,\n",
    "                      'nu_mass_ev': 0.06,}\n",
    "\n",
    "key_ordering = ['10^9 As', 'ns', 'H0', 'w0', 'ombh2', 'omch2', 'nu_mass_ev']\n",
    "def get_cosmo_vals(cosmology):\n",
    "    return [cosmology[curr_key] for curr_key in key_ordering]\n",
    "def get_cosmo_dict(cosmo_vals):\n",
    "    return dict(zip(key_ordering, cosmo_vals))\n",
    "\n",
    "def get_ccl_cosmology(cosmo_vals):\n",
    "    cosmology = get_cosmo_dict(cosmo_vals)\n",
    "\n",
    "    h = cosmology['H0']/100\n",
    "    Ωb =  cosmology['ombh2'] / h**2\n",
    "    Ωc =  cosmology['omch2'] / h**2\n",
    "\n",
    "    cosmo = ccl.Cosmology(Omega_c=Ωc,\n",
    "                          Omega_b=Ωb,\n",
    "                          h=h,\n",
    "                          A_s=cosmology['10^9 As']*10**(-9),\n",
    "                          n_s=cosmology['ns'],\n",
    "                          w0=cosmology['w0'],\n",
    "                          m_nu=[cosmology['nu_mass_ev']/3, cosmology['nu_mass_ev']/3, cosmology['nu_mass_ev']/3])\n",
    "\n",
    "    return cosmo"
   ]
  },
  {
   "cell_type": "code",
   "execution_count": 3,
   "id": "eacb2196",
   "metadata": {},
   "outputs": [],
   "source": [
    "import numpy as np\n",
    "from scipy.interpolate import interp1d\n",
    "\n",
    "from pyccl.halos import MassFunc, get_delta_c\n",
    "\n",
    "\n",
    "class CUSTOM_MassFuncTinker10(MassFunc):\n",
    "    \"\"\"Implements the mass function of `Tinker et al. 2010\n",
    "    <https://arxiv.org/abs/1001.3162>`_. This parametrization accepts S.O.\n",
    "    masses with :math:`200 < \\\\Delta < 3200`, defined with respect to the\n",
    "    matter density. This can be automatically translated to S.O. masses\n",
    "    defined with respect to the critical density.\n",
    "\n",
    "    Args:\n",
    "        mass_def (:class:`~pyccl.halos.massdef.MassDef` or :obj:`str`):\n",
    "            a mass definition object, or a name string.\n",
    "        mass_def_strict (:obj:`bool`): if ``False``, consistency of the mass\n",
    "            definition will be ignored.\n",
    "        norm_all_z (:obj:`bool`): if ``True``, the mass function will be\n",
    "            normalised to yield the total matter density when integrated\n",
    "            over mass at all redshifts (as opposed to :math:`z=0` only).\n",
    "    \"\"\"\n",
    "    __repr_attrs__ = __eq_attrs__ = (\"mass_def\", \"mass_def_strict\",\n",
    "                                     \"norm_all_z\",)\n",
    "    name = 'custom Tinker10'\n",
    "    mirror_cosmos = {}\n",
    "    \n",
    "    def __init__(self, *,\n",
    "                 mass_def=\"200m\",\n",
    "                 mass_def_strict=True,\n",
    "                 norm_all_z=False):\n",
    "        self.norm_all_z = norm_all_z\n",
    "        super().__init__(mass_def=mass_def, mass_def_strict=mass_def_strict)\n",
    "\n",
    "    def _get_logM_sigM(self, cosmo, M, a, *, return_dlns=False):\n",
    "        \"\"\"Compute ``logM``, ``sigM``, and (optionally) ``dlns_dlogM``.\n",
    "            Using Costanzi et al. 2013 (JCAP12(2013)012) perscription\n",
    "            to evaluate HMF in nuCDM cosmology, we replace P_m with P_cb\n",
    "            \"\"\"\n",
    "        print('custom sigm')\n",
    "        self.mirror_cosmos[cosmo].compute_sigma()  # initialize sigma(M) splines if needed\n",
    "        logM = np.log10(M)\n",
    "        # sigma(M)\n",
    "        status = 0\n",
    "        sigM, status = lib.sigM_vec(self.mirror_cosmos[cosmo].cosmo, a, logM, len(logM), status)\n",
    "        check(status, cosmo=self.mirror_cosmos[cosmo])\n",
    "        if not return_dlns:\n",
    "            return logM, sigM\n",
    "\n",
    "        # dlogsigma(M)/dlog10(M)\n",
    "        dlns_dlogM, status = lib.dlnsigM_dlogM_vec(self.mirror_cosmos[cosmo].cosmo, a, logM,\n",
    "                                                   len(logM), status)\n",
    "        check(status, cosmo=self.mirror_cosmos[cosmo])\n",
    "        return logM, sigM, dlns_dlogM\n",
    "        \n",
    "    def __call__(self, cosmo, M, a):\n",
    "        \"\"\" Returns the mass function for input parameters. \n",
    "            Using Costanzi et al. 2013 (JCAP12(2013)012) perscription\n",
    "            to evaluate HMF in nuCDM cosmology\n",
    "\n",
    "        Args:\n",
    "            cosmo (:class:`~pyccl.cosmology.Cosmology`): A Cosmology object.\n",
    "            M (:obj:`float` or `array`): halo mass.\n",
    "            a (:obj:`float`): scale factor.\n",
    "\n",
    "        Returns:\n",
    "            (:obj:`float` or `array`): mass function \\\n",
    "                :math:`dn/d\\\\log_{10}M` in units of Mpc^-3 (comoving).\n",
    "        \"\"\"\n",
    "        if(cosmo not in self.mirror_cosmos):\n",
    "            self.mirror_cosmos[cosmo] = ccl.Cosmology(Omega_c=cosmo['Omega_c'],\n",
    "                                                 Omega_b=cosmo['Omega_b'],\n",
    "                                                 h=cosmo['h'],\n",
    "                                                 A_s=cosmo['A_s'],\n",
    "                                                 n_s=cosmo['n_s'],\n",
    "                                                 w0=cosmo['w0'],\n",
    "                                                 m_nu=cosmo['m_nu'])\n",
    "            funcType = type(self.mirror_cosmos[cosmo]._compute_linear_power)\n",
    "\n",
    "            self.mirror_cosmos[cosmo]._compute_linear_power = MethodType(custom_compute_linear_power, self.mirror_cosmos[cosmo])\n",
    "            \n",
    "        M_use = np.atleast_1d(M)\n",
    "        logM, sigM, dlns_dlogM = self._get_logM_sigM( \n",
    "            cosmo, M_use, a, return_dlns=True)\n",
    "        print('custom rho')\n",
    "\n",
    "        rho = (const.RHO_CRITICAL\n",
    "               * (cosmo['Omega_c'] + cosmo['Omega_b'])\n",
    "               * cosmo['h']**2)\n",
    "\n",
    "        f = self._get_fsigma(cosmo, sigM, a, 2.302585092994046 * logM)\n",
    "        mf = f * rho * dlns_dlogM / M_use\n",
    "        if np.ndim(M) == 0:\n",
    "            return mf[0]\n",
    "        return mf\n",
    "    \n",
    " \n",
    "    def _check_mass_def_strict(self, mass_def):\n",
    "        return mass_def.Delta == \"fof\"\n",
    "\n",
    "    def _setup(self):\n",
    "        delta = np.array(\n",
    "            [200., 300., 400., 600., 800., 1200., 1600., 2400., 3200.])\n",
    "        alpha = np.array(\n",
    "            [0.368, 0.363, 0.385, 0.389, 0.393, 0.365, 0.379, 0.355, 0.327])\n",
    "        beta = np.array(\n",
    "            [0.589, 0.585, 0.544, 0.543, 0.564, 0.623, 0.637, 0.673, 0.702])\n",
    "        gamma = np.array(\n",
    "            [0.864, 0.922, 0.987, 1.09, 1.20, 1.34, 1.50, 1.68, 1.81])\n",
    "        phi = np.array(\n",
    "            [-0.729, -0.789, -0.910, -1.05, -1.20, -1.26, -1.45, -1.50, -1.49])\n",
    "        eta = np.array(\n",
    "            [-0.243, -0.261, -0.261, -0.273,\n",
    "             -0.278, -0.301, -0.301, -0.319, -0.336])\n",
    "\n",
    "        ldelta = np.log10(delta)\n",
    "        self.pA0 = interp1d(ldelta, alpha)\n",
    "        self.pa0 = interp1d(ldelta, eta)\n",
    "        self.pb0 = interp1d(ldelta, beta)\n",
    "        self.pc0 = interp1d(ldelta, gamma)\n",
    "        self.pd0 = interp1d(ldelta, phi)\n",
    "        if self.norm_all_z:\n",
    "            p = np.array(\n",
    "                [-0.158, -0.195, -0.213, -0.254, -0.281,\n",
    "                 -0.349, -0.367, -0.435, -0.504])\n",
    "            q = np.array(\n",
    "                [0.0128, 0.0128, 0.0143, 0.0154, 0.0172,\n",
    "                 0.0174, 0.0199, 0.0203, 0.0205])\n",
    "            self.pp0 = interp1d(ldelta, p)\n",
    "            self.pq0 = interp1d(ldelta, q)\n",
    "\n",
    "    def _get_fsigma(self, cosmo, sigM, a, lnM):\n",
    "        ld = np.log10(self.mass_def._get_Delta_m(cosmo, a))\n",
    "        nu = get_delta_c(cosmo, a, 'EdS_approx') / sigM\n",
    "        # redshift evolution only up to z=3\n",
    "        a = np.clip(a, 0.25, 1)\n",
    "        pa = self.pa0(ld) * a**(-0.27)\n",
    "        pb = self.pb0(ld) * a**(-0.20)\n",
    "        pc = self.pc0(ld) * a**0.01\n",
    "        pd = self.pd0(ld) * a**0.08\n",
    "        pA0 = self.pA0(ld)\n",
    "        if self.norm_all_z:\n",
    "            z = 1/a - 1\n",
    "            pp = self.pp0(ld)\n",
    "            pq = self.pq0(ld)\n",
    "            pA0 *= np.exp(z * (pp + pq * z))\n",
    "        return nu * pA0 * (1 + (pb * nu)**(-2 * pd)) * (\n",
    "            nu**(2 * pa) * np.exp(-0.5 * pc * nu**2))"
   ]
  },
  {
   "cell_type": "code",
   "execution_count": 4,
   "id": "abc397c5",
   "metadata": {},
   "outputs": [],
   "source": [
    "fiducial_cosmo_vals = get_cosmo_vals(fiducial_cosmology)\n",
    "fiducial_ccl_cosmo = get_ccl_cosmology(tuple(fiducial_cosmo_vals))\n",
    "\n"
   ]
  },
  {
   "cell_type": "code",
   "execution_count": 5,
   "id": "40c05f3d",
   "metadata": {},
   "outputs": [],
   "source": [
    "import numpy as np\n",
    "from matplotlib import pyplot as plt\n",
    "import pyccl as ccl\n",
    "import logging"
   ]
  },
  {
   "cell_type": "code",
   "execution_count": 6,
   "id": "18c3b846",
   "metadata": {},
   "outputs": [],
   "source": [
    "# Cosmology\n",
    "cosmo = fiducial_ccl_cosmo\n",
    "h = cosmo['h']\n",
    "# Array of masses\n",
    "M = 10**np.linspace(11, 16, 150)\n",
    "\n",
    "# Array of redshifts\n",
    "z_arr = np.linspace(0.,1.,16)"
   ]
  },
  {
   "cell_type": "code",
   "execution_count": 7,
   "id": "db913016",
   "metadata": {},
   "outputs": [],
   "source": [
    "hmfs = []\n",
    "# Tinker 2010 mass function\n",
    "hmfs.append(ccl.halos.MassFuncTinker10(mass_def='200m'))\n",
    "hmfs.append(CUSTOM_MassFuncTinker10(mass_def='200m'))"
   ]
  },
  {
   "cell_type": "code",
   "execution_count": 8,
   "id": "ad8cb7aa",
   "metadata": {},
   "outputs": [
    {
     "name": "stdout",
     "output_type": "stream",
     "text": [
      "custom sigm\n",
      "custom rho\n"
     ]
    },
    {
     "data": {
      "image/png": "[encoded data removed]",
      "text/plain": [
       "<Figure size 432x288 with 1 Axes>"
      ]
     },
     "metadata": {
      "needs_background": "light"
     },
     "output_type": "display_data"
    }
   ],
   "source": [
    "plt.figure()\n",
    "\n",
    "\n",
    "\n",
    "nm = hmfs[0](cosmo, M, 1/(1+0.8))\n",
    "plt.plot(M, nm/(h**3 * M * np.log(10)),label='none')\n",
    "\n",
    "\n",
    "nm_Costanzi13 = hmfs[1](cosmo, M, 1/(1+0.8))\n",
    "plt.plot(M, nm_Costanzi13/(h**3 * M * np.log(10)), label='with Costanzi+13')\n",
    "\n",
    "\n",
    "\n",
    "plt.xscale('log')\n",
    "plt.yscale('log')\n",
    "plt.ylim(1e-36, 1e-12)\n",
    "plt.xlim(1e11, 1e16)\n",
    "plt.ylabel('$dn/dM\\ [h^4/ Mpc^3 M_\\odot]$')\n",
    "plt.legend(frameon=False)\n",
    "plt.show()"
   ]
  },
  {
   "cell_type": "code",
   "execution_count": 9,
   "id": "95a46c2c",
   "metadata": {},
   "outputs": [
    {
     "data": {
      "image/png": "[encoded data removed]",
      "text/plain": [
       "<Figure size 432x288 with 1 Axes>"
      ]
     },
     "metadata": {
      "needs_background": "light"
     },
     "output_type": "display_data"
    }
   ],
   "source": [
    "plt.plot(M, (nm-nm_Costanzi13)/nm)\n",
    "plt.xscale('log')"
   ]
  },
  {
   "cell_type": "code",
   "execution_count": 10,
   "id": "e5123c1d",
   "metadata": {},
   "outputs": [
    {
     "name": "stdout",
     "output_type": "stream",
     "text": [
      "1\n",
      "CPU times: user 37 µs, sys: 6 µs, total: 43 µs\n",
      "Wall time: 37 µs\n"
     ]
    }
   ],
   "source": [
    "%%time \n",
    "print(1)"
   ]
  },
  {
   "cell_type": "code",
   "execution_count": 11,
   "id": "bcf645ab",
   "metadata": {},
   "outputs": [],
   "source": [
    "class oldMassFuncAemulusNu_fitting_all_snapshot(MassFunc):\n",
    "    \"\"\"\n",
    "    \"\"\"\n",
    "    name = 'AemulusNu'\n",
    "\n",
    "    def __init__(self, *,\n",
    "                 mass_def=\"200m\",\n",
    "                 mass_def_strict=True):\n",
    "        super().__init__(mass_def=mass_def, mass_def_strict=mass_def_strict)\n",
    "\n",
    "    def _check_mass_def_strict(self, mass_def):\n",
    "        return mass_def.Delta == \"200m\"\n",
    "\n",
    "    def _setup(self):\n",
    "        self.params = {'d0':-1, 'd1':-1,\n",
    "                       'e0':-1, 'e1':-1,\n",
    "                       'f0':-1, 'f1':-1,\n",
    "                       'g0':-1, 'g1':-1}\n",
    "\n",
    "    def set_params(self, params):\n",
    "        self.params = dict(zip(self.params.keys(), params))\n",
    "        self.paired_params = list(zip(params, params[1:]))[::2]\n",
    "\n",
    "    def _get_fsigma(self, cosmo, sigM, a, lnM):\n",
    "        scale_params = dict(zip(['d','e','f','g'],[p(p0, p1, a) for p0, p1 in self.paired_params]))\n",
    "        return f_G(a, np.exp(lnM), sigM, **scale_params)\n"
   ]
  },
  {
   "cell_type": "code",
   "execution_count": 12,
   "id": "188ddcc3",
   "metadata": {},
   "outputs": [],
   "source": [
    "mf_new = MassFuncAemulusNu_fitting_all_snapshot()\n",
    "mf_old = oldMassFuncAemulusNu_fitting_all_snapshot()"
   ]
  },
  {
   "cell_type": "code",
   "execution_count": null,
   "id": "d4e47e83",
   "metadata": {},
   "outputs": [],
   "source": []
  },
  {
   "cell_type": "code",
   "execution_count": 23,
   "id": "9c9105a5",
   "metadata": {},
   "outputs": [
    {
     "name": "stdout",
     "output_type": "stream",
     "text": [
      "CPU times: user 1.06 s, sys: 17.1 ms, total: 1.08 s\n",
      "Wall time: 1.05 s\n"
     ]
    }
   ],
   "source": [
    "%%time\n",
    "for i in range(10000):\n",
    "    params = (np.random.random(8)+1)/10+1\n",
    "    mf_new.set_params(params)\n",
    "    mf_new(cosmo, M, 1/(1+0.8))\n",
    "    \n"
   ]
  },
  {
   "cell_type": "code",
   "execution_count": 24,
   "id": "b436032c",
   "metadata": {},
   "outputs": [
    {
     "name": "stdout",
     "output_type": "stream",
     "text": [
      "CPU times: user 1.03 s, sys: 22.9 ms, total: 1.05 s\n",
      "Wall time: 1.02 s\n"
     ]
    }
   ],
   "source": [
    "%%time\n",
    "for i in range(10000):\n",
    "    params = (np.random.random(8)+1)/10+1\n",
    "    mf_old.set_params(params)\n",
    "    mf_old(cosmo, M, 1/(1+0.8))\n",
    "    \n",
    "#1s 1s 1s"
   ]
  },
  {
   "cell_type": "code",
   "execution_count": 15,
   "id": "b0a69c0f",
   "metadata": {},
   "outputs": [
    {
     "name": "stdout",
     "output_type": "stream",
     "text": [
      "         43 function calls in 0.000 seconds\n",
      "\n",
      "   Ordered by: standard name\n",
      "\n",
      "   ncalls  tottime  percall  cumtime  percall filename:lineno(function)\n",
      "        1    0.000    0.000    0.000    0.000 2371847337.py:24(_get_fsigma)\n",
      "        1    0.000    0.000    0.000    0.000 2371847337.py:25(<listcomp>)\n",
      "        1    0.000    0.000    0.000    0.000 <string>:1(<module>)\n",
      "        1    0.000    0.000    0.000    0.000 ccllib.py:1390(sigM_vec)\n",
      "        1    0.000    0.000    0.000    0.000 ccllib.py:1399(dlnsigM_dlogM_vec)\n",
      "        2    0.000    0.000    0.000    0.000 cosmology.py:495(__getitem__)\n",
      "        1    0.000    0.000    0.000    0.000 cosmology.py:642(compute_sigma)\n",
      "        1    0.000    0.000    0.000    0.000 cosmology.py:710(has_sigma)\n",
      "        2    0.000    0.000    0.000    0.000 cosmology_params.py:10(__getattribute__)\n",
      "        2    0.000    0.000    0.000    0.000 fromnumeric.py:1976(_shape_dispatcher)\n",
      "        2    0.000    0.000    0.000    0.000 fromnumeric.py:1980(shape)\n",
      "        1    0.000    0.000    0.000    0.000 fromnumeric.py:3172(_ndim_dispatcher)\n",
      "        1    0.000    0.000    0.000    0.000 fromnumeric.py:3176(ndim)\n",
      "        1    0.000    0.000    0.000    0.000 halo_model_base.py:112(_get_logM_sigM)\n",
      "        1    0.000    0.000    0.000    0.000 halo_model_base.py:180(__call__)\n",
      "        1    0.000    0.000    0.000    0.000 massfunction.py:10(f_G)\n",
      "        4    0.000    0.000    0.000    0.000 massfunction.py:17(p)\n",
      "        1    0.000    0.000    0.000    0.000 massfunction.py:4(B)\n",
      "        3    0.000    0.000    0.000    0.000 parameters_base.py:63(__getattribute__)\n",
      "        2    0.000    0.000    0.000    0.000 pyutils.py:66(check)\n",
      "        1    0.000    0.000    0.000    0.000 shape_base.py:19(_atleast_1d_dispatcher)\n",
      "        1    0.000    0.000    0.000    0.000 shape_base.py:23(atleast_1d)\n",
      "        1    0.000    0.000    0.000    0.000 {built-in method builtins.exec}\n",
      "        2    0.000    0.000    0.000    0.000 {built-in method builtins.getattr}\n",
      "        3    0.000    0.000    0.000    0.000 {built-in method builtins.len}\n",
      "        1    0.000    0.000    0.000    0.000 {built-in method numpy.asanyarray}\n",
      "        1    0.000    0.000    0.000    0.000 {built-in method pyccl._ccllib.dlnsigM_dlogM_vec}\n",
      "        1    0.000    0.000    0.000    0.000 {built-in method pyccl._ccllib.sigM_vec}\n",
      "        1    0.000    0.000    0.000    0.000 {method 'append' of 'list' objects}\n",
      "        1    0.000    0.000    0.000    0.000 {method 'disable' of '_lsprof.Profiler' objects}\n",
      "\n",
      "\n"
     ]
    }
   ],
   "source": [
    "import cProfile\n",
    "cProfile.run('mf_old(cosmo, M, 1/(1+0.8))')"
   ]
  },
  {
   "cell_type": "code",
   "execution_count": 16,
   "id": "0d787d95",
   "metadata": {
    "scrolled": false
   },
   "outputs": [
    {
     "name": "stdout",
     "output_type": "stream",
     "text": [
      "         50 function calls in 0.000 seconds\n",
      "\n",
      "   Ordered by: standard name\n",
      "\n",
      "   ncalls  tottime  percall  cumtime  percall filename:lineno(function)\n",
      "        1    0.000    0.000    0.000    0.000 <string>:1(<module>)\n",
      "        1    0.000    0.000    0.000    0.000 ccllib.py:1390(sigM_vec)\n",
      "        1    0.000    0.000    0.000    0.000 ccllib.py:1399(dlnsigM_dlogM_vec)\n",
      "        6    0.000    0.000    0.000    0.000 cosmology.py:495(__getitem__)\n",
      "        1    0.000    0.000    0.000    0.000 cosmology.py:642(compute_sigma)\n",
      "        1    0.000    0.000    0.000    0.000 cosmology.py:710(has_sigma)\n",
      "        3    0.000    0.000    0.000    0.000 cosmology_params.py:10(__getattribute__)\n",
      "        2    0.000    0.000    0.000    0.000 fromnumeric.py:1976(_shape_dispatcher)\n",
      "        2    0.000    0.000    0.000    0.000 fromnumeric.py:1980(shape)\n",
      "        1    0.000    0.000    0.000    0.000 fromnumeric.py:3172(_ndim_dispatcher)\n",
      "        1    0.000    0.000    0.000    0.000 fromnumeric.py:3176(ndim)\n",
      "        1    0.000    0.000    0.000    0.000 massfunction.py:10(f_G)\n",
      "        4    0.000    0.000    0.000    0.000 massfunction.py:17(p)\n",
      "        1    0.000    0.000    0.000    0.000 massfunction.py:4(B)\n",
      "        1    0.000    0.000    0.000    0.000 massfunction_fitting_tinker.py:122(_get_fsigma)\n",
      "        1    0.000    0.000    0.000    0.000 massfunction_fitting_tinker.py:123(<listcomp>)\n",
      "        1    0.000    0.000    0.000    0.000 massfunction_fitting_tinker.py:49(_get_logM_sigM)\n",
      "        1    0.000    0.000    0.000    0.000 massfunction_fitting_tinker.py:86(__call__)\n",
      "        4    0.000    0.000    0.000    0.000 parameters_base.py:63(__getattribute__)\n",
      "        2    0.000    0.000    0.000    0.000 pyutils.py:66(check)\n",
      "        1    0.000    0.000    0.000    0.000 shape_base.py:19(_atleast_1d_dispatcher)\n",
      "        1    0.000    0.000    0.000    0.000 shape_base.py:23(atleast_1d)\n",
      "        1    0.000    0.000    0.000    0.000 {built-in method builtins.exec}\n",
      "        3    0.000    0.000    0.000    0.000 {built-in method builtins.getattr}\n",
      "        3    0.000    0.000    0.000    0.000 {built-in method builtins.len}\n",
      "        1    0.000    0.000    0.000    0.000 {built-in method numpy.asanyarray}\n",
      "        1    0.000    0.000    0.000    0.000 {built-in method pyccl._ccllib.dlnsigM_dlogM_vec}\n",
      "        1    0.000    0.000    0.000    0.000 {built-in method pyccl._ccllib.sigM_vec}\n",
      "        1    0.000    0.000    0.000    0.000 {method 'append' of 'list' objects}\n",
      "        1    0.000    0.000    0.000    0.000 {method 'disable' of '_lsprof.Profiler' objects}\n",
      "\n",
      "\n"
     ]
    }
   ],
   "source": [
    "import cProfile\n",
    "cProfile.run('mf_new(cosmo, M, 1/(1+0.8))')"
   ]
  },
  {
   "cell_type": "code",
   "execution_count": 17,
   "id": "59994429",
   "metadata": {},
   "outputs": [],
   "source": [
    "from pyccl._core.caching import _to_hashable, hash_\n"
   ]
  },
  {
   "cell_type": "code",
   "execution_count": 18,
   "id": "428dded2",
   "metadata": {},
   "outputs": [],
   "source": [
    "tup = _to_hashable(cosmo[\"extra_parameters\"])"
   ]
  },
  {
   "cell_type": "code",
   "execution_count": null,
   "id": "1288c6ac",
   "metadata": {},
   "outputs": [],
   "source": [
    "#          1823 function calls (1469 primitive calls) in 0.001 seconds\n",
    "\n",
    "#    Ordered by: standard name\n",
    "\n",
    "#    ncalls  tottime  percall  cumtime  percall filename:lineno(function)\n",
    "#         1    0.000    0.000    0.001    0.001 <string>:1(<module>)\n",
    "#    366/18    0.000    0.000    0.000    0.000 caching.py:12(_to_hashable)\n",
    "#        18    0.000    0.000    0.000    0.000 caching.py:29(<dictcomp>)\n",
    "#         6    0.000    0.000    0.000    0.000 caching.py:37(<listcomp>)\n",
    "#         6    0.000    0.000    0.000    0.000 caching.py:49(hash_)\n",
    "#         1    0.000    0.000    0.000    0.000 ccllib.py:1390(sigM_vec)\n",
    "#         1    0.000    0.000    0.000    0.000 ccllib.py:1399(dlnsigM_dlogM_vec)\n",
    "#         3    0.000    0.000    0.000    0.000 cosmology.py:495(__getitem__)\n",
    "#         1    0.000    0.000    0.000    0.000 cosmology.py:642(compute_sigma)\n",
    "#         1    0.000    0.000    0.000    0.000 cosmology.py:710(has_sigma)\n",
    "#         3    0.000    0.000    0.000    0.000 cosmology_params.py:10(__getattribute__)\n",
    "#         2    0.000    0.000    0.000    0.000 fromnumeric.py:1976(_shape_dispatcher)\n",
    "#         2    0.000    0.000    0.000    0.000 fromnumeric.py:1980(shape)\n",
    "#         6    0.000    0.000    0.000    0.000 fromnumeric.py:2416(_all_dispatcher)\n",
    "#         6    0.000    0.000    0.000    0.000 fromnumeric.py:2421(all)\n",
    "#         1    0.000    0.000    0.000    0.000 fromnumeric.py:3172(_ndim_dispatcher)\n",
    "#         1    0.000    0.000    0.000    0.000 fromnumeric.py:3176(ndim)\n",
    "#         6    0.000    0.000    0.000    0.000 fromnumeric.py:71(_wrapreduction)\n",
    "#         6    0.000    0.000    0.000    0.000 fromnumeric.py:72(<dictcomp>)\n",
    "#       252    0.000    0.000    0.000    0.000 inspect.py:2552(default)\n",
    "#        12    0.000    0.000    0.000    0.000 inspect.py:2865(parameters)\n",
    "#         1    0.000    0.000    0.000    0.000 massfunction.py:10(f_G)\n",
    "#         4    0.000    0.000    0.000    0.000 massfunction.py:17(p)\n",
    "#         1    0.000    0.000    0.000    0.000 massfunction.py:4(B)\n",
    "#         1    0.000    0.000    0.000    0.000 massfunction_fitting_tinker.py:114(_get_fsigma)\n",
    "#         1    0.000    0.000    0.000    0.000 massfunction_fitting_tinker.py:115(<listcomp>)\n",
    "#         1    0.000    0.000    0.001    0.001 massfunction_fitting_tinker.py:49(_get_logM_sigM)\n",
    "#         1    0.000    0.000    0.001    0.001 massfunction_fitting_tinker.py:69(__call__)\n",
    "#         4    0.000    0.000    0.000    0.000 parameters_base.py:63(__getattribute__)\n",
    "#         2    0.000    0.000    0.000    0.000 pyutils.py:66(check)\n",
    "#         6    0.000    0.000    0.001    0.000 repr_.py:103(build_string_Cosmology)\n",
    "#       126    0.000    0.000    0.000    0.000 repr_.py:133(test_eq)\n",
    "#        12    0.000    0.000    0.001    0.000 repr_.py:140(printdict)\n",
    "#        12    0.000    0.000    0.000    0.000 repr_.py:144(<dictcomp>)\n",
    "#        12    0.000    0.000    0.000    0.000 repr_.py:145(<dictcomp>)\n",
    "#        48    0.000    0.000    0.000    0.000 repr_.py:150(<genexpr>)\n",
    "#         6    0.000    0.000    0.000    0.000 repr_.py:157(printextras)\n",
    "#         6    0.000    0.000    0.000    0.000 repr_.py:168(metadata)\n",
    "#         6    0.000    0.000    0.001    0.000 schema.py:280(__hash__)\n",
    "#         1    0.000    0.000    0.000    0.000 shape_base.py:19(_atleast_1d_dispatcher)\n",
    "#         1    0.000    0.000    0.000    0.000 shape_base.py:23(atleast_1d)\n",
    "#         1    0.000    0.000    0.001    0.001 {built-in method builtins.exec}\n",
    "#         9    0.000    0.000    0.000    0.000 {built-in method builtins.getattr}\n",
    "#       108    0.000    0.000    0.000    0.000 {built-in method builtins.hasattr}\n",
    "#        12    0.000    0.000    0.000    0.000 {built-in method builtins.hash}\n",
    "#         6    0.000    0.000    0.000    0.000 {built-in method builtins.hex}\n",
    "#       432    0.000    0.000    0.000    0.000 {built-in method builtins.isinstance}\n",
    "#        45    0.000    0.000    0.000    0.000 {built-in method builtins.len}\n",
    "#         6    0.000    0.000    0.000    0.000 {built-in method builtins.max}\n",
    "#      12/6    0.000    0.000    0.001    0.000 {built-in method builtins.repr}\n",
    "#        18    0.000    0.000    0.000    0.000 {built-in method builtins.sorted}\n",
    "#         1    0.000    0.000    0.000    0.000 {built-in method numpy.asanyarray}\n",
    "#         1    0.000    0.000    0.000    0.000 {built-in method pyccl._ccllib.dlnsigM_dlogM_vec}\n",
    "#         1    0.000    0.000    0.000    0.000 {built-in method pyccl._ccllib.sigM_vec}\n",
    "#         1    0.000    0.000    0.000    0.000 {method 'append' of 'list' objects}\n",
    "#         1    0.000    0.000    0.000    0.000 {method 'disable' of '_lsprof.Profiler' objects}\n",
    "#       126    0.000    0.000    0.000    0.000 {method 'get' of 'dict' objects}\n",
    "#        60    0.000    0.000    0.000    0.000 {method 'items' of 'dict' objects}\n",
    "#        12    0.000    0.000    0.000    0.000 {method 'items' of 'mappingproxy' objects}\n",
    "#        12    0.000    0.000    0.000    0.000 {method 'pop' of 'dict' objects}\n",
    "#         6    0.000    0.000    0.000    0.000 {method 'reduce' of 'numpy.ufunc' objects}"
   ]
  }
 ],
 "metadata": {
  "kernelspec": {
   "display_name": "massfunction",
   "language": "python",
   "name": "massfunction"
  },
  "language_info": {
   "codemirror_mode": {
    "name": "ipython",
    "version": 3
   },
   "file_extension": ".py",
   "mimetype": "text/x-python",
   "name": "python",
   "nbconvert_exporter": "python",
   "pygments_lexer": "ipython3",
   "version": "3.9.16"
  }
 },
 "nbformat": 4,
 "nbformat_minor": 5
}
