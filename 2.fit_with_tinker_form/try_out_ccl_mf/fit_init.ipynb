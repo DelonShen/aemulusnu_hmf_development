{
 "cells": [
  {
   "cell_type": "code",
   "execution_count": 1,
   "id": "a17632f3",
   "metadata": {},
   "outputs": [],
   "source": [
    "%load_ext autoreload\n",
    "%autoreload 2"
   ]
  },
  {
   "cell_type": "code",
   "execution_count": 2,
   "id": "106e0bb2",
   "metadata": {},
   "outputs": [],
   "source": [
    "box = 'Box_n50_0_1400'\n",
    "param_names = ['d','e','f','g']\n",
    "ndim = len(param_names)"
   ]
  },
  {
   "cell_type": "code",
   "execution_count": 3,
   "id": "be3a0805",
   "metadata": {},
   "outputs": [],
   "source": [
    "from aemulusnu_massfunction.utils import *\n",
    "from aemulusnu_massfunction.massfunction import *\n",
    "\n",
    "import numpy as np\n",
    "from tqdm import tqdm, trange\n",
    "import matplotlib.pyplot as plt\n",
    "import os\n",
    "import emcee\n",
    "import sys\n",
    "import numpy as np\n",
    "import pickle"
   ]
  },
  {
   "cell_type": "code",
   "execution_count": 4,
   "id": "770b825b",
   "metadata": {},
   "outputs": [],
   "source": [
    "cosmos_f = open('../../data/cosmo_params.pkl', 'rb')\n",
    "cosmo_params = pickle.load(cosmos_f) #cosmo_params is a dict\n",
    "cosmos_f.close()"
   ]
  },
  {
   "cell_type": "code",
   "execution_count": 5,
   "id": "5637a802",
   "metadata": {},
   "outputs": [],
   "source": [
    "import pyccl as ccl\n",
    "\n",
    "cosmo = cosmo_params[box]\n",
    "\n",
    "\n",
    "h = cosmo['H0']/100\n",
    "Ωb =  cosmo['ombh2'] / h**2\n",
    "Ωc =  cosmo['omch2'] / h**2\n",
    "\n",
    "ccl_cosmo = ccl.Cosmology(Omega_c=Ωc,\n",
    "                      Omega_b=Ωb,\n",
    "                      h=h,\n",
    "                      A_s=cosmo['10^9 As']*10**(-9),\n",
    "                      n_s=cosmo['ns'],\n",
    "                      w0=cosmo['w0'],\n",
    "                      m_nu=[cosmo['nu_mass_ev']/3, cosmo['nu_mass_ev']/3, cosmo['nu_mass_ev']/3])\n",
    "\n"
   ]
  },
  {
   "cell_type": "code",
   "execution_count": 6,
   "id": "7a34f6ec",
   "metadata": {},
   "outputs": [],
   "source": [
    "h = cosmo['H0']/100\n",
    "\n",
    "NvM_fname = '/oak/stanford/orgs/kipac/users/delon/aemulusnu_massfunction/'+box+'_NvsM.pkl'\n",
    "NvM_f = open(NvM_fname, 'rb')\n",
    "NvMs = pickle.load(NvM_f) #NvMs is a dictionary of dictionaries\n",
    "NvM_f.close()"
   ]
  },
  {
   "cell_type": "code",
   "execution_count": 7,
   "id": "6bfaefa4",
   "metadata": {},
   "outputs": [],
   "source": [
    "a_fit = 1.0"
   ]
  },
  {
   "cell_type": "code",
   "execution_count": 8,
   "id": "348f5523",
   "metadata": {},
   "outputs": [
    {
     "name": "stderr",
     "output_type": "stream",
     "text": [
      "100%|██████████| 1/1 [00:00<00:00, 6384.02it/s]\n"
     ]
    }
   ],
   "source": [
    "N_data = {}\n",
    "M_data = {}\n",
    "aux_data = {}\n",
    "from scipy.interpolate import interp1d, UnivariateSpline, InterpolatedUnivariateSpline\n",
    "\n",
    "\n",
    "vol = -1 #Mpc^3/h^3\n",
    "Mpart = -1\n",
    "\n",
    "for a in tqdm([a_fit]):\n",
    "    c_data = NvMs[a]\n",
    "    \n",
    "    Ms = c_data['M'] #units of h^-1 Msolar\n",
    "    N = c_data['N']\n",
    "    edge_pairs = c_data['edge_pairs']\n",
    "    assert(len(Ms) == len(edge_pairs))\n",
    "    assert(len(Ms) == len(N))\n",
    "    \n",
    "\n",
    "    if(vol==-1):\n",
    "        vol = c_data['vol']\n",
    "    assert(vol == c_data['vol'])\n",
    "\n",
    "    if(Mpart==-1):\n",
    "        Mpart = c_data['Mpart']\n",
    "    assert(Mpart == c_data['Mpart'])\n",
    "\n",
    "    N_data[a] = []\n",
    "    M_data[a] = []\n",
    "    aux_data[a] = []\n",
    "    for N_curr, M_curr, edge_pair in zip(N, Ms, edge_pairs):\n",
    "        N_data[a] += [N_curr]\n",
    "        M_data[a] += [M_curr]\n",
    "        aux_data[a] += [{'a':a, 'edge_pair':edge_pair}]\n"
   ]
  },
  {
   "cell_type": "code",
   "execution_count": 9,
   "id": "267099bb",
   "metadata": {},
   "outputs": [],
   "source": [
    "a_list = list(NvMs.keys())\n",
    "\n",
    "from scipy.stats import poisson\n",
    "\n",
    "\n",
    "M_numerics = np.logspace(np.log10(100*Mpart), 16, 50)\n",
    "\n",
    "jackknife_covs_fname = '/oak/stanford/orgs/kipac/users/delon/aemulusnu_massfunction/'+box+'_jackknife_covs.pkl'\n",
    "jackknife_covs_f = open(jackknife_covs_fname, 'rb')\n",
    "jackknife = pickle.load(jackknife_covs_f)\n",
    "jackknife_covs_f.close()"
   ]
  },
  {
   "cell_type": "code",
   "execution_count": 10,
   "id": "afb0bba1",
   "metadata": {},
   "outputs": [],
   "source": [
    "jack_covs = {a:jackknife[a][1] for a in N_data}\n",
    "\n",
    "weighted_cov = {a: jack_covs[a] for a in jack_covs}\n",
    "\n",
    "# Inverse of the weighted covariance matrix\n",
    "inv_weighted_cov = {a:np.linalg.inv(weighted_cov[a]) for a in weighted_cov}  \n",
    "# inv_weighted_cov = {a:np.diag([1 for _ in range(len(weighted_cov[a]))]) for a in weighted_cov}  \n",
    "\n",
    "scale_cov = {a:np.log(np.linalg.det(weighted_cov[a])) for a in weighted_cov}"
   ]
  },
  {
   "cell_type": "code",
   "execution_count": 11,
   "id": "457bde87",
   "metadata": {},
   "outputs": [],
   "source": [
    "def uniform_log_prior(param_values):\n",
    "    #uniform prior\n",
    "    for param in param_values:\n",
    "        if(param < 0 or param > 10):\n",
    "            return -np.inf\n",
    "    return 0"
   ]
  },
  {
   "cell_type": "code",
   "execution_count": 12,
   "id": "fa8070a5",
   "metadata": {},
   "outputs": [
    {
     "name": "stdout",
     "output_type": "stream",
     "text": [
      "25\n",
      "25\n"
     ]
    }
   ],
   "source": [
    "print(len(jack_covs[1.0]))\n",
    "print(len(N_data[1.0]))"
   ]
  },
  {
   "cell_type": "code",
   "execution_count": 13,
   "id": "e2eb1541",
   "metadata": {},
   "outputs": [
    {
     "data": {
      "text/plain": [
       "<matplotlib.image.AxesImage at 0x7f6fb7c99160>"
      ]
     },
     "execution_count": 13,
     "metadata": {},
     "output_type": "execute_result"
    },
    {
     "data": {
      "image/png": "[encoded data removed]",
      "text/plain": [
       "<Figure size 432x288 with 1 Axes>"
      ]
     },
     "metadata": {
      "needs_background": "light"
     },
     "output_type": "display_data"
    }
   ],
   "source": [
    "plt.imshow(np.log(np.abs(weighted_cov[a])))"
   ]
  },
  {
   "cell_type": "code",
   "execution_count": 14,
   "id": "a6d3451c",
   "metadata": {},
   "outputs": [
    {
     "data": {
      "text/plain": [
       "array([5.95617244e-07, 4.38396084e-07, 3.22444843e-07, 2.36967779e-07,\n",
       "       1.73988911e-07, 1.27614782e-07, 9.34904324e-08, 6.83997917e-08,\n",
       "       4.99682189e-08, 3.64419513e-08, 2.65268894e-08, 1.92685593e-08,\n",
       "       1.39629121e-08, 1.00911010e-08, 7.27107317e-09, 5.22152211e-09,\n",
       "       3.73555294e-09, 2.66117109e-09, 1.88680533e-09, 1.33065570e-09,\n",
       "       9.32842696e-10, 6.49593339e-10, 4.48961056e-10, 3.07687544e-10,\n",
       "       2.08880066e-10, 1.40301807e-10, 9.31189883e-11, 6.09788965e-11,\n",
       "       3.93335058e-11, 2.49442337e-11, 1.55196314e-11, 9.45047033e-12,\n",
       "       5.61701085e-12, 3.24861990e-12, 1.82187553e-12, 9.86839252e-13,\n",
       "       5.13962521e-13, 2.56068621e-13, 1.21337822e-13, 5.43217468e-14,\n",
       "       2.28037608e-14, 8.89910658e-15, 3.19673732e-15, 1.04514984e-15,\n",
       "       3.06998430e-16, 7.98220090e-17, 1.80599598e-17, 3.48626670e-18,\n",
       "       5.61278998e-19, 7.34102898e-20])"
      ]
     },
     "execution_count": 14,
     "metadata": {},
     "output_type": "execute_result"
    }
   ],
   "source": [
    "mass_function = MassFuncAemulusNu_fitting()\n",
    "mass_function.set_params([0.5, 1.12, 2.3, 1.3])\n",
    "mass_function(ccl_cosmo, M_numerics/h, a_fit)*vol/(h**4 * M_numerics * np.log(10))\n",
    "# tinker_eval = [mass_function(a, M_c, **params)*vol for M_c in M_numerics]\n"
   ]
  },
  {
   "cell_type": "code",
   "execution_count": 37,
   "id": "539b67f5",
   "metadata": {},
   "outputs": [],
   "source": [
    "def log_prob(param_values):   \n",
    "    \"\"\"\n",
    "    Calculates the probability of the given tinker parameters \n",
    "    \n",
    "    Args:\n",
    "        param_values (np.ndarray): Input array of shape (number of params).\n",
    "        \n",
    "    Returns:\n",
    "        float: Resulting log probability\n",
    "    \"\"\"\n",
    "\n",
    "    if(uniform_log_prior(param_values) == -np.inf):\n",
    "        return -np.inf\n",
    "\n",
    "    params = dict(zip(param_names, param_values))\n",
    "\n",
    "    tinker_fs = {}\n",
    "    \n",
    "    \n",
    "    mass_function.set_params(param_values)\n",
    "    tinker_eval = mass_function(ccl_cosmo, M_numerics/h, a_fit)*vol/(h**4 * M_numerics * np.log(10))\n",
    "    f_dNdM = interp1d(M_numerics, tinker_eval, kind='linear', bounds_error=False, fill_value=0.)\n",
    "    tinker_fs[a_fit] = f_dNdM\n",
    "        \n",
    "    model_vals = {}\n",
    "    model_vals[a_fit] = np.array([quad(tinker_fs[a], edge_pair[0], edge_pair[1], epsabs=0, epsrel=1e-5)[0]\n",
    "        for edge_pair in NvMs[a_fit]['edge_pairs']\n",
    "    ])\n",
    "\n",
    "    \n",
    "    residuals = {a: model_vals[a]-N_data[a] for a in model_vals}\n",
    "    log_probs = [ -0.5 * (len(inv_weighted_cov)* np.log(2*np.pi) + \n",
    "                          np.dot(np.dot(residuals[a].T, inv_weighted_cov[a]), residuals[a]) + \n",
    "                          scale_cov[a]) \n",
    "                 for a in model_vals]\n",
    "    if not np.isfinite(np.sum(log_probs)): \n",
    "        return -np.inf\n",
    "    return np.sum(log_probs)\n"
   ]
  },
  {
   "cell_type": "code",
   "execution_count": 38,
   "id": "fd388f81",
   "metadata": {},
   "outputs": [],
   "source": [
    "def log_likelihood(param_values):\n",
    "    lp = uniform_log_prior(param_values)\n",
    "    if not np.isfinite(lp):\n",
    "        return -np.inf\n",
    "    return lp + log_prob(param_values)"
   ]
  },
  {
   "cell_type": "code",
   "execution_count": 76,
   "id": "16676cdd",
   "metadata": {},
   "outputs": [],
   "source": [
    "#from previous fit\n",
    "guess_dict = {'d': 0.2633266055647983, 'e': 0.09563694414960046, 'f': 2.0, 'g': 1.2800760776227262}\n",
    "guess = list(guess_dict.values())\n"
   ]
  },
  {
   "cell_type": "code",
   "execution_count": 77,
   "id": "f03659ea",
   "metadata": {},
   "outputs": [
    {
     "data": {
      "text/plain": [
       "13114.525772354076"
      ]
     },
     "execution_count": 77,
     "metadata": {},
     "output_type": "execute_result"
    }
   ],
   "source": [
    "-log_likelihood(guess)"
   ]
  },
  {
   "cell_type": "code",
   "execution_count": 79,
   "id": "59060dd0",
   "metadata": {
    "scrolled": true
   },
   "outputs": [
    {
     "name": "stdout",
     "output_type": "stream",
     "text": [
      "Starting ML Fit\n",
      "Box_n50_0_1400\n",
      "       message: Optimization terminated successfully.\n",
      "       success: True\n",
      "        status: 0\n",
      "           fun: 11078.116722956853\n",
      "             x: [ 1.000e-01  9.242e-10  1.214e+00  1.147e+00]\n",
      "           nit: 3232\n",
      "          nfev: 5258\n",
      " final_simplex: (array([[ 1.000e-01,  9.242e-10,  1.214e+00,  1.147e+00],\n",
      "                       [ 1.000e-01,  9.243e-10,  1.214e+00,  1.147e+00],\n",
      "                       ...,\n",
      "                       [ 1.000e-01,  9.242e-10,  1.214e+00,  1.147e+00],\n",
      "                       [ 1.000e-01,  9.242e-10,  1.214e+00,  1.147e+00]]), array([ 1.108e+04,  1.108e+04,  1.108e+04,  1.108e+04,\n",
      "                        1.108e+04]))\n",
      "   param_names: ['d', 'e', 'f', 'g']\n",
      "[1.00000000e-01 9.24209865e-10 1.21431590e+00 1.14658399e+00]\n"
     ]
    }
   ],
   "source": [
    "print('Starting ML Fit')\n",
    "#Start by sampling with a maximum likelihood approach\n",
    "from scipy import optimize as optimize\n",
    "nll = lambda *args: -log_likelihood(*args)\n",
    "bounds = [(0.1, 0.4), (0, 0.3), (1, 3), (1, 1.5)]\n",
    "result = optimize.minimize(nll, guess, method=\"Nelder-Mead\", \n",
    "                           bounds = bounds,\n",
    "                           options={\n",
    "                               'maxiter': len(guess)*10000})\n",
    "result['param_names'] = param_names\n",
    "print(box)\n",
    "print(result)\n",
    "print(result['x'])"
   ]
  },
  {
   "cell_type": "code",
   "execution_count": 80,
   "id": "5262a4a1",
   "metadata": {
    "scrolled": true
   },
   "outputs": [
    {
     "name": "stdout",
     "output_type": "stream",
     "text": [
      "{'d': 0.1, 'e': 9.242098652997177e-10, 'f': 1.2143158968490089, 'g': 1.1465839867724301}\n"
     ]
    }
   ],
   "source": [
    "MLE_params = dict(zip(param_names, result['x']))\n",
    "print(MLE_params)"
   ]
  },
  {
   "cell_type": "code",
   "execution_count": 81,
   "id": "f7a1686c",
   "metadata": {},
   "outputs": [
    {
     "data": {
      "text/plain": [
       "[<matplotlib.axis.YTick at 0x7f6eedcadc70>,\n",
       " <matplotlib.axis.YTick at 0x7f6eedcad610>,\n",
       " <matplotlib.axis.YTick at 0x7f6eedca56d0>,\n",
       " <matplotlib.axis.YTick at 0x7f6eee6a9a60>,\n",
       " <matplotlib.axis.YTick at 0x7f6eee68a670>]"
      ]
     },
     "execution_count": 81,
     "metadata": {},
     "output_type": "execute_result"
    },
    {
     "data": {
      "image/png": "[encoded data removed]",
      "text/plain": [
       "<Figure size 864x504 with 2 Axes>"
      ]
     },
     "metadata": {
      "needs_background": "light"
     },
     "output_type": "display_data"
    }
   ],
   "source": [
    "yerr_dict = {a:np.sqrt(np.diagonal(weighted_cov[a])) for a in weighted_cov} \n",
    "c_params = MLE_params\n",
    "a = a_fit\n",
    "\n",
    "fig1 = plt.figure(figsize =(12, 7))\n",
    "\n",
    "axs=[fig1.add_axes((0.0,0.4,1,.6)), fig1.add_axes((0.0,0.0,1,.4))]\n",
    "plt.subplots_adjust(wspace=0, hspace=0)\n",
    "c_data = NvMs[a]\n",
    "\n",
    "Ms = M_data[a]\n",
    "N = N_data[a]\n",
    "edge_pairs = c_data['edge_pairs']\n",
    "\n",
    "edges = [edge[0] for edge in edge_pairs]\n",
    "edges += [edge_pairs[-1][1]]\n",
    "\n",
    "yerr = yerr_dict[a]\n",
    "dM = np.array([edges[1]-edges[0] for edges in edge_pairs])\n",
    "\n",
    "\n",
    "tinker_evaled = mass_function(ccl_cosmo, M_numerics/h, a_fit)*vol/(h**4 * M_numerics * np.log(10))\n",
    "\n",
    "f_dNdM =  interp1d(M_numerics, tinker_evaled, kind='linear', bounds_error=False, fill_value=0.)\n",
    "\n",
    "tinker_eval_MCMC = np.array([quad(f_dNdM, edge[0],  edge[1], epsabs=0, epsrel=1e-5)[0] for edge in edge_pairs])\n",
    "\n",
    "\n",
    "\n",
    "axs[0].errorbar(Ms, N, yerr, fmt='+', c='black')\n",
    "axs[0].scatter(Ms, tinker_eval_MCMC, s=50 , marker='x', c='blue')\n",
    "\n",
    "edges = np.array(edges)\n",
    "axs[0].bar(x=edges[:-1], height=N, width=np.diff(edges),\n",
    "           align='edge', fill=False, ec='black', label='Data')\n",
    "axs[0].bar(x=edges[:-1], height=tinker_eval_MCMC, width=np.diff(edges), align='edge', fill=False, ec='blue', label='Tinker')\n",
    "axs[1].errorbar(Ms, (tinker_eval_MCMC-N)/N, yerr/N, fmt='x', color='blue')\n",
    "\n",
    "y1 = 0.1*np.ones_like(N)\n",
    "y1 = np.append(y1, y1[-1])\n",
    "y1 = np.append(y1[0], y1)\n",
    "\n",
    "y2 = -0.1*np.ones_like(N)\n",
    "y2 = np.append(y2, y2[-1])\n",
    "y2 = np.append(y2[0], y2)\n",
    "\n",
    "c_Ms = np.append(Ms, edges[-1])\n",
    "c_Ms = np.append(edges[0], c_Ms)\n",
    "axs[1].fill_between(c_Ms, y1, y2, alpha=1, color='0.95',label='<10% Error')\n",
    "\n",
    "y1 = 0.01*np.ones_like(N)\n",
    "y1 = np.append(y1, y1[-1])\n",
    "y1 = np.append(y1[0], y1)\n",
    "\n",
    "y2 = -0.01*np.ones_like(N)\n",
    "y2 = np.append(y2, y2[-1])\n",
    "y2 = np.append(y2[0], y2)\n",
    "\n",
    "axs[1].fill_between(c_Ms, y1, y2, alpha=1, color='0.85',label='<1% Error')\n",
    "\n",
    "\n",
    "axs[0].set_xscale('log')\n",
    "axs[0].set_yscale('log')\n",
    "axs[0].legend(frameon=False)\n",
    "axs[0].set_ylabel('N')\n",
    "\n",
    "axs[1].set_xscale('log')\n",
    "# axs[1].set_yscale('lin', linthresh=1e-2)    \n",
    "axs[1].legend(frameon=False)\n",
    "axs[1].axhline(0, c='black')\n",
    "axs[1].set_ylabel('N')\n",
    "axs[1].set_xlabel(r'Mass $[h^{-1}M_\\odot]$')\n",
    "axs[1].set_ylabel(r'$\\frac{N_{\\rm Tinker}-N_{\\rm data}}{N_{\\rm data}} $')\n",
    "axs[0].set_title('%s, a=%.2f, z=%.2f'%(box, a, scaleToRedshift(a)))\n",
    "axs[0].set_ylim(10, 2e5)\n",
    "left = np.ceil(np.log10(200*Mpart) * 10) / 10\n",
    "axs[0].set_xlim((10**left, np.max(edges)))\n",
    "axs[1].set_xlim((10**left, np.max(edges)))\n",
    "axs[1].set_ylim((-.29, .29))\n",
    "axs[1].set_yticks([-.2, -.1, 0, .1, .2])\n",
    "# plt.savefig('/oak/stanford/orgs/kipac/users/delon/aemulusnu_massfunction/figures/%s_fit_%.2f.pdf'%(box, a), bbox_inches='tight')"
   ]
  },
  {
   "cell_type": "code",
   "execution_count": 26,
   "id": "890bf9e5",
   "metadata": {},
   "outputs": [],
   "source": [
    "# with open(\"/oak/stanford/orgs/kipac/users/delon/aemulusnu_massfunction/%s_%.2f_params.pkl\"%(box, a_fit), \"wb\") as f:\n",
    "#     pickle.dump(MLE_params, f)"
   ]
  },
  {
   "cell_type": "code",
   "execution_count": 27,
   "id": "87cde68f",
   "metadata": {},
   "outputs": [],
   "source": [
    "# with open(\"/oak/stanford/orgs/kipac/users/delon/aemulusnu_massfunction/%s_%.2f_NvMfit_output.pkl\"%(box, a_fit), \"wb\") as f:\n",
    "#     pickle.dump({'Ms':Ms, 'tinker_eval':tinker_eval_MCMC, 'N':N, 'edges':edges}, f)"
   ]
  },
  {
   "cell_type": "code",
   "execution_count": null,
   "id": "9aaa4ac9",
   "metadata": {},
   "outputs": [],
   "source": []
  }
 ],
 "metadata": {
  "kernelspec": {
   "display_name": "massfunction",
   "language": "python",
   "name": "massfunction"
  },
  "language_info": {
   "codemirror_mode": {
    "name": "ipython",
    "version": 3
   },
   "file_extension": ".py",
   "mimetype": "text/x-python",
   "name": "python",
   "nbconvert_exporter": "python",
   "pygments_lexer": "ipython3",
   "version": "3.9.16"
  }
 },
 "nbformat": 4,
 "nbformat_minor": 5
}
