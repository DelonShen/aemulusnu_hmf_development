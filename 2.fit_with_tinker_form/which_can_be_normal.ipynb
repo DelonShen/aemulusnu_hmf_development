{
 "cells": [
  {
   "cell_type": "code",
   "execution_count": 1,
   "id": "36578a67",
   "metadata": {},
   "outputs": [],
   "source": [
    "from aemulusnu_massfunction.utils import *\n",
    "from aemulusnu_massfunction.massfunction import *\n",
    "\n",
    "import numpy as np\n",
    "from tqdm import tqdm, trange\n",
    "import matplotlib.pyplot as plt\n",
    "import os\n",
    "import emcee\n",
    "import sys\n",
    "import numpy as np\n",
    "import pickle"
   ]
  },
  {
   "cell_type": "code",
   "execution_count": 2,
   "id": "3a9460e9",
   "metadata": {},
   "outputs": [],
   "source": [
    "cosmos_f = open('../data/cosmo_params.pkl', 'rb')\n",
    "cosmo_params = pickle.load(cosmos_f) #cosmo_params is a dict\n",
    "cosmos_f.close()"
   ]
  },
  {
   "cell_type": "code",
   "execution_count": 10,
   "id": "97a0d116",
   "metadata": {},
   "outputs": [
    {
     "name": "stdout",
     "output_type": "stream",
     "text": [
      "Box0_1400 0.037\n",
      "Box3_1400 0.025\n",
      "Box5_1400 0.028\n",
      "Box6_1400 0.011\n",
      "Box7_1400 0.016\n",
      "Box9_1400 0.021\n",
      "Box10_1400 0.013\n",
      "Box18_1400 0.050\n",
      "Box20_1400 0.048\n",
      "Box24_1400 0.015\n",
      "Box25_1400 0.046\n",
      "Box28_1400 0.016\n",
      "Box29_1400 0.034\n",
      "Box38_1400 0.012\n",
      "Box41_1400 0.036\n",
      "Box43_1400 0.024\n",
      "Box48_1400 0.054\n",
      "Box53_1400 0.033\n",
      "Box55_1400 0.020\n",
      "Box56_1400 0.022\n",
      "Box57_1400 0.012\n",
      "Box62_1400 0.030\n",
      "Box63_1400 0.019\n",
      "Box64_1400 0.055\n",
      "Box65_1400 0.037\n",
      "Box66_1400 0.031\n",
      "Box67_1400 0.010\n",
      "Box72_1400 0.039\n",
      "Box73_1400 0.010\n",
      "Box75_1400 0.014\n",
      "Box76_1400 0.031\n",
      "Box77_1400 0.027\n",
      "Box80_1400 0.021\n",
      "Box83_1400 0.058\n",
      "Box84_1400 0.025\n",
      "Box87_1400 0.013\n",
      "Box88_1400 0.017\n",
      "Box89_1400 0.040\n",
      "Box90_1400 0.023\n",
      "Box91_1400 0.015\n",
      "Box92_1400 0.026\n",
      "Box93_1400 0.017\n",
      "Box94_1400 0.047\n",
      "Box95_1400 0.012\n",
      "Box96_1400 0.019\n",
      "Box98_1400 0.023\n",
      "Box_n50_1_1400 0.038\n",
      "Box_n50_4_1400 0.034\n",
      "Box_n50_5_1400 0.046\n",
      "Box_n50_6_1400 0.021\n",
      "Box_n50_11_1400 0.017\n",
      "Box_n50_12_1400 0.055\n",
      "Box_n50_13_1400 0.036\n",
      "Box_n50_16_1400 0.011\n",
      "Box_n50_18_1400 0.030\n",
      "Box_n50_19_1400 0.014\n",
      "Box_n50_21_1400 0.059\n",
      "Box_n50_24_1400 0.027\n",
      "Box_n50_26_1400 0.018\n",
      "Box_n50_28_1400 0.049\n",
      "Box_n50_29_1400 0.022\n",
      "Box_n50_33_1400 0.032\n",
      "Box_n50_34_1400 0.014\n",
      "Box_n50_35_1400 0.012\n",
      "Box_n50_36_1400 0.016\n",
      "Box_n50_37_1400 0.024\n",
      "Box_n50_42_1400 0.043\n",
      "Box_n50_43_1400 0.028\n",
      "Box_n50_44_1400 0.013\n",
      "Box_n50_49_1400 0.011\n"
     ]
    }
   ],
   "source": [
    "import pyccl as ccl\n",
    "\n",
    "for box in cosmo_params:\n",
    "    cosmo = cosmo_params[box]\n",
    "    h = cosmo['H0']/100\n",
    "    Ωb =  cosmo['ombh2'] / h**2\n",
    "    Ωc =  cosmo['omch2'] / h**2\n",
    "#     print(cosmo['nu_mass_ev'])\n",
    "    try:\n",
    "        ccl_cosmo = ccl.Cosmology(Omega_c=Ωc,\n",
    "                              Omega_b=Ωb,\n",
    "                              h=h,\n",
    "                              A_s=cosmo['10^9 As']*10**(-9),\n",
    "                              n_s=cosmo['ns'],\n",
    "                              w0=cosmo['w0'],\n",
    "                              m_nu=cosmo['nu_mass_ev'])\n",
    "    except:\n",
    "        print(box, '%.3f'%(cosmo['nu_mass_ev']))"
   ]
  },
  {
   "cell_type": "code",
   "execution_count": null,
   "id": "ae8ae449",
   "metadata": {},
   "outputs": [],
   "source": []
  }
 ],
 "metadata": {
  "kernelspec": {
   "display_name": "massfunction",
   "language": "python",
   "name": "massfunction"
  },
  "language_info": {
   "codemirror_mode": {
    "name": "ipython",
    "version": 3
   },
   "file_extension": ".py",
   "mimetype": "text/x-python",
   "name": "python",
   "nbconvert_exporter": "python",
   "pygments_lexer": "ipython3",
   "version": "3.9.16"
  }
 },
 "nbformat": 4,
 "nbformat_minor": 5
}
