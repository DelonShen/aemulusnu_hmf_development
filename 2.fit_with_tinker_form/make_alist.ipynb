{
 "cells": [
  {
   "cell_type": "code",
   "execution_count": 8,
   "id": "6320b321",
   "metadata": {},
   "outputs": [
    {
     "name": "stdout",
     "output_type": "stream",
     "text": [
      "[1.0, 0.953321, 0.866399, 0.787402, 0.715608, 0.65036, 0.620002, 0.591061, 0.563471, 0.537169, 0.512095, 0.488191, 0.403224, 0.366459, 0.302679]\n"
     ]
    }
   ],
   "source": [
    "import pickle\n",
    "\n",
    "box = 'Box_n50_0_1400'\n",
    "\n",
    "NvM_fname = '/oak/stanford/orgs/kipac/users/delon/aemulusnu_massfunction/'+box+'_NvsM.pkl'\n",
    "NvM_f = open(NvM_fname, 'rb')\n",
    "NvMs = pickle.load(NvM_f) #NvMs is a dictionary of dictionaries\n",
    "NvM_f.close()\n",
    "\n",
    "a_list = list(NvMs.keys())\n",
    "a_list = a_list[::-1]\n",
    "print(a_list)\n"
   ]
  },
  {
   "cell_type": "code",
   "execution_count": 9,
   "id": "8b127dc6",
   "metadata": {},
   "outputs": [
    {
     "data": {
      "text/plain": [
       "[0.0,\n",
       " 0.04896461947234987,\n",
       " 0.15420262488760939,\n",
       " 0.26999931420037027,\n",
       " 0.3974131088528914,\n",
       " 0.5376099391106464,\n",
       " 0.6128980229096033,\n",
       " 0.691872750866662,\n",
       " 0.7747142266416549,\n",
       " 0.8616115226306804,\n",
       " 0.9527626709887815,\n",
       " 1.0483786059144884,\n",
       " 1.4800111104497748,\n",
       " 1.7288182306888356,\n",
       " 2.3038301302700224]"
      ]
     },
     "execution_count": 9,
     "metadata": {},
     "output_type": "execute_result"
    }
   ],
   "source": [
    "from aemulusnu_massfunction.utils import *\n",
    "\n",
    "list(map(scaleToRedshift,a_list))"
   ]
  },
  {
   "cell_type": "code",
   "execution_count": 10,
   "id": "83b3577c",
   "metadata": {},
   "outputs": [],
   "source": [
    "a_list_fname = '/oak/stanford/orgs/kipac/users/delon/aemulusnu_massfunction/alist.pkl'\n",
    "a_list_f = open(a_list_fname, 'wb')\n",
    "pickle.dump(a_list, a_list_f) \n",
    "a_list_f.close()"
   ]
  },
  {
   "cell_type": "code",
   "execution_count": 11,
   "id": "52a4d70f",
   "metadata": {},
   "outputs": [
    {
     "name": "stdout",
     "output_type": "stream",
     "text": [
      "[1.0, 0.953321, 0.866399, 0.787402, 0.715608, 0.65036, 0.620002, 0.591061, 0.563471, 0.537169, 0.512095, 0.488191, 0.403224, 0.366459, 0.302679]\n"
     ]
    }
   ],
   "source": [
    "print(a_list)"
   ]
  },
  {
   "cell_type": "code",
   "execution_count": null,
   "id": "0e9e3cac",
   "metadata": {},
   "outputs": [],
   "source": []
  }
 ],
 "metadata": {
  "kernelspec": {
   "display_name": "massfunction",
   "language": "python",
   "name": "massfunction"
  },
  "language_info": {
   "codemirror_mode": {
    "name": "ipython",
    "version": 3
   },
   "file_extension": ".py",
   "mimetype": "text/x-python",
   "name": "python",
   "nbconvert_exporter": "python",
   "pygments_lexer": "ipython3",
   "version": "3.9.16"
  }
 },
 "nbformat": 4,
 "nbformat_minor": 5
}
