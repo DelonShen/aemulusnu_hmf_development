{
 "cells": [
  {
   "cell_type": "code",
   "execution_count": 1,
   "id": "be214a77",
   "metadata": {},
   "outputs": [],
   "source": [
    "box = 'Box_n50_0_1400'\n",
    "# box = 'Box69_1400'\n",
    "param_names = ['d', 'e', 'f', 'g']\n",
    "ndim = len(param_names)"
   ]
  },
  {
   "cell_type": "code",
   "execution_count": 2,
   "id": "5e447fb2",
   "metadata": {},
   "outputs": [],
   "source": [
    "from aemulusnu_massfunction.massfunction_fitting_tinker import *\n",
    "from aemulusnu_hmf.utils import *\n",
    "\n",
    "import numpy as np\n",
    "from tqdm import tqdm, trange\n",
    "import matplotlib.pyplot as plt\n",
    "import os\n",
    "import emcee\n",
    "import sys\n",
    "import numpy as np\n",
    "import pickle"
   ]
  },
  {
   "cell_type": "code",
   "execution_count": 3,
   "id": "ec418d52",
   "metadata": {},
   "outputs": [],
   "source": [
    "cosmos_f = open('../data/cosmo_params.pkl', 'rb')\n",
    "cosmo_params = pickle.load(cosmos_f) #cosmo_params is a dict\n",
    "cosmos_f.close()"
   ]
  },
  {
   "cell_type": "code",
   "execution_count": 4,
   "id": "4eeeb326",
   "metadata": {},
   "outputs": [],
   "source": [
    "\n",
    "cosmo = cosmo_params[box]\n",
    "\n"
   ]
  },
  {
   "cell_type": "code",
   "execution_count": 5,
   "id": "de664d95",
   "metadata": {},
   "outputs": [],
   "source": [
    "import aemulusnu_hmf.massfunction as hmf\n"
   ]
  },
  {
   "cell_type": "code",
   "execution_count": 6,
   "id": "74fd4b70",
   "metadata": {},
   "outputs": [],
   "source": [
    "cosmology = hmf.cosmology(cosmo)"
   ]
  },
  {
   "cell_type": "code",
   "execution_count": 7,
   "id": "4df23c25",
   "metadata": {},
   "outputs": [],
   "source": [
    "h = cosmo['H0']/100\n",
    "\n",
    "NvM_fname = '/oak/stanford/orgs/kipac/users/delon/aemulusnu_massfunction/'+box+'_NvsM.pkl'\n",
    "NvM_f = open(NvM_fname, 'rb')\n",
    "NvMs = pickle.load(NvM_f) #NvMs is a dictionary of dictionaries\n",
    "NvM_f.close()"
   ]
  },
  {
   "cell_type": "code",
   "execution_count": 8,
   "id": "9919a022",
   "metadata": {},
   "outputs": [],
   "source": [
    "N_data = {}\n",
    "M_data = {}\n",
    "aux_data = {}\n",
    "\n",
    "\n",
    "vol = -1 #Mpc^3/h^3\n",
    "Mpart = -1\n",
    "\n",
    "for a in [1.0]:\n",
    "    c_data = NvMs[a]\n",
    "    \n",
    "    Ms = c_data['M'] #units of h^-1 Msolar\n",
    "    N = c_data['N']\n",
    "    edge_pairs = c_data['edge_pairs']\n",
    "    assert(len(Ms) == len(edge_pairs))\n",
    "    assert(len(Ms) == len(N))\n",
    "    \n",
    "\n",
    "    if(vol==-1):\n",
    "        vol = c_data['vol']\n",
    "    assert(vol == c_data['vol'])\n",
    "\n",
    "    if(Mpart==-1):\n",
    "        Mpart = c_data['Mpart']\n",
    "    assert(Mpart == c_data['Mpart'])\n",
    "\n",
    "    N_data[a] = []\n",
    "    M_data[a] = []\n",
    "    aux_data[a] = []\n",
    "    for N_curr, M_curr, edge_pair in zip(N, Ms, edge_pairs):\n",
    "        N_data[a] += [N_curr]\n",
    "        M_data[a] += [M_curr]\n",
    "        aux_data[a] += [{'a':a, 'edge_pair':edge_pair}]"
   ]
  },
  {
   "cell_type": "code",
   "execution_count": 9,
   "id": "4d1bd5c9",
   "metadata": {},
   "outputs": [
    {
     "name": "stdout",
     "output_type": "stream",
     "text": [
      "[1.0]\n",
      "dict_keys([0.302679, 0.366459, 0.403224, 0.488191, 0.512095, 0.537169, 0.563471, 0.591061, 0.620002, 0.65036, 0.715608, 0.787402, 0.866399, 0.953321, 1.0])\n"
     ]
    }
   ],
   "source": [
    "a_list = [1.0]\n",
    "print(a_list)\n",
    "from scipy.stats import poisson\n",
    "\n",
    "\n",
    "M_numerics = np.logspace(np.log10(100*Mpart), 16, 50)\n",
    "\n",
    "jackknife_covs_fname = '/oak/stanford/orgs/kipac/users/delon/aemulusnu_massfunction/'+box+'_jackknife_covs.pkl'\n",
    "jackknife_covs_f = open(jackknife_covs_fname, 'rb')\n",
    "jackknife = pickle.load(jackknife_covs_f)\n",
    "jackknife_covs_f.close()\n",
    "\n",
    "print(jackknife.keys())"
   ]
  },
  {
   "cell_type": "code",
   "execution_count": 10,
   "id": "a980a5c5",
   "metadata": {},
   "outputs": [],
   "source": [
    "jack_covs = {a:jackknife[a][1] for a in N_data}\n",
    "\n",
    "# Inverse of the weighted covariance matrix\n",
    "inv_weighted_cov = {a:np.linalg.inv(jack_covs[a]) for a in jack_covs}  \n",
    "\n",
    "scale_cov = {a:np.log(np.linalg.det(jack_covs[a])) for a in jack_covs}"
   ]
  },
  {
   "cell_type": "code",
   "execution_count": 11,
   "id": "f5d7fe1b",
   "metadata": {},
   "outputs": [
    {
     "data": {
      "text/plain": [
       "array([3.97014183e-07, 2.92098059e-07, 2.14775644e-07, 1.57808500e-07,\n",
       "       1.15855149e-07, 8.49738293e-08, 6.22557337e-08, 4.55544307e-08,\n",
       "       3.32862097e-08, 2.42827313e-08, 1.76822624e-08, 1.28493853e-08,\n",
       "       9.31571917e-09, 6.73615272e-09, 4.85652908e-09, 3.48978599e-09,\n",
       "       2.49834025e-09, 1.78108353e-09, 1.26378383e-09, 8.92002187e-10,\n",
       "       6.25866816e-10, 4.36219052e-10, 3.01772009e-10, 2.07016944e-10,\n",
       "       1.40681438e-10, 9.45947149e-11, 6.28532543e-11, 4.12077743e-11,\n",
       "       2.66133231e-11, 1.68994700e-11, 1.05288607e-11, 6.42073429e-12,\n",
       "       3.82214921e-12, 2.21421451e-12, 1.24398004e-12, 6.75117294e-13,\n",
       "       3.52351748e-13, 1.75954170e-13, 8.35871729e-14, 3.75265889e-14,\n",
       "       1.58030006e-14, 6.18900943e-15, 2.23219309e-15, 7.33170056e-16,\n",
       "       2.16502329e-16, 5.66375782e-17, 1.29055212e-17, 2.51194750e-18,\n",
       "       4.08370833e-19, 5.40318194e-20])"
      ]
     },
     "execution_count": 11,
     "metadata": {},
     "output_type": "execute_result"
    }
   ],
   "source": [
    "mass_function = MassFuncAemulusNu_fitting_single_snapshot()\n",
    "mass_function.set_params([0.5, \n",
    "                          1.12,\n",
    "                          2.3, \n",
    "                          1.3])\n",
    "mass_function(cosmology, M_numerics, 1.0)*vol"
   ]
  },
  {
   "cell_type": "code",
   "execution_count": 12,
   "id": "c06c7328",
   "metadata": {},
   "outputs": [
    {
     "name": "stdout",
     "output_type": "stream",
     "text": [
      "         69 function calls in 0.000 seconds\n",
      "\n",
      "   Ordered by: standard name\n",
      "\n",
      "   ncalls  tottime  percall  cumtime  percall filename:lineno(function)\n",
      "        1    0.000    0.000    0.000    0.000 <string>:1(<module>)\n",
      "        1    0.000    0.000    0.000    0.000 _base.py:1513(issparse)\n",
      "        2    0.000    0.000    0.000    0.000 _fitpack2.py:360(__call__)\n",
      "        2    0.000    0.000    0.000    0.000 _fitpack_impl.py:302(splev)\n",
      "        1    0.000    0.000    0.000    0.000 _interpolate.py:686(_call_linear_np)\n",
      "        1    0.000    0.000    0.000    0.000 _interpolate.py:759(_evaluate)\n",
      "        1    0.000    0.000    0.000    0.000 _interpolate.py:774(_check_bounds)\n",
      "        2    0.000    0.000    0.000    0.000 _methods.py:55(_any)\n",
      "        1    0.000    0.000    0.000    0.000 _polyint.py:59(__call__)\n",
      "        1    0.000    0.000    0.000    0.000 _polyint.py:90(_prepare_x)\n",
      "        1    0.000    0.000    0.000    0.000 _polyint.py:96(_finish_y)\n",
      "        1    0.000    0.000    0.000    0.000 _util.py:275(_asarray_validated)\n",
      "        1    0.000    0.000    0.000    0.000 core.py:6485(isMaskedArray)\n",
      "        1    0.000    0.000    0.000    0.000 function_base.py:1457(_interp_dispatcher)\n",
      "        1    0.000    0.000    0.000    0.000 function_base.py:1461(interp)\n",
      "        1    0.000    0.000    0.000    0.000 massfunction.py:109(f_sigma_cb)\n",
      "        1    0.000    0.000    0.000    0.000 massfunction.py:127(sigma_cb)\n",
      "        1    0.000    0.000    0.000    0.000 massfunction.py:139(f_dln_sigma_cb_dM)\n",
      "        1    0.000    0.000    0.000    0.000 massfunction.py:153(<lambda>)\n",
      "        1    0.000    0.000    0.000    0.000 massfunction.py:157(dln_sigma_cb_dM)\n",
      "        1    0.000    0.000    0.000    0.000 massfunction.py:238(B)\n",
      "        1    0.000    0.000    0.000    0.000 massfunction.py:244(f_G)\n",
      "        1    0.000    0.000    0.000    0.000 massfunction_fitting_tinker.py:78(__call__)\n",
      "        2    0.000    0.000    0.000    0.000 numerictypes.py:283(issubclass_)\n",
      "        1    0.000    0.000    0.000    0.000 numerictypes.py:357(issubdtype)\n",
      "        2    0.000    0.000    0.000    0.000 shape_base.py:19(_atleast_1d_dispatcher)\n",
      "        2    0.000    0.000    0.000    0.000 shape_base.py:23(atleast_1d)\n",
      "        1    0.000    0.000    0.000    0.000 type_check.py:205(_is_type_dispatcher)\n",
      "        1    0.000    0.000    0.000    0.000 type_check.py:302(iscomplexobj)\n",
      "        1    0.000    0.000    0.000    0.000 utils.py:3(scaleToRedshift)\n",
      "        1    0.000    0.000    0.000    0.000 {built-in method builtins.exec}\n",
      "        2    0.000    0.000    0.000    0.000 {built-in method builtins.isinstance}\n",
      "        4    0.000    0.000    0.000    0.000 {built-in method builtins.issubclass}\n",
      "        3    0.000    0.000    0.000    0.000 {built-in method builtins.len}\n",
      "        2    0.000    0.000    0.000    0.000 {built-in method numpy.asanyarray}\n",
      "        7    0.000    0.000    0.000    0.000 {built-in method numpy.asarray}\n",
      "        1    0.000    0.000    0.000    0.000 {built-in method numpy.core._multiarray_umath.interp}\n",
      "        2    0.000    0.000    0.000    0.000 {method 'any' of 'numpy.ndarray' objects}\n",
      "        2    0.000    0.000    0.000    0.000 {method 'append' of 'list' objects}\n",
      "        1    0.000    0.000    0.000    0.000 {method 'disable' of '_lsprof.Profiler' objects}\n",
      "        3    0.000    0.000    0.000    0.000 {method 'ravel' of 'numpy.ndarray' objects}\n",
      "        2    0.000    0.000    0.000    0.000 {method 'reduce' of 'numpy.ufunc' objects}\n",
      "        3    0.000    0.000    0.000    0.000 {method 'reshape' of 'numpy.ndarray' objects}\n",
      "\n",
      "\n"
     ]
    }
   ],
   "source": [
    "import cProfile\n",
    "cProfile.run('mass_function(cosmology, M_numerics, 1.0)*vol')\n",
    "#replacing sigma computation with spline makes things faster without losing accuracy"
   ]
  },
  {
   "cell_type": "code",
   "execution_count": 13,
   "id": "5d1015e5",
   "metadata": {},
   "outputs": [],
   "source": [
    "def uniform_log_prior(param_values):\n",
    "    #uniform priorb\n",
    "#     for p in param_values:\n",
    "#         if(p < 0 or p>2):\n",
    "#             return -np.inf\n",
    "    \n",
    "    return 0"
   ]
  },
  {
   "cell_type": "code",
   "execution_count": 14,
   "id": "3b487554",
   "metadata": {},
   "outputs": [
    {
     "name": "stdout",
     "output_type": "stream",
     "text": [
      "[0.0]\n"
     ]
    }
   ],
   "source": [
    "print(list(map(scaleToRedshift,a_list)))"
   ]
  },
  {
   "cell_type": "code",
   "execution_count": 15,
   "id": "2db250c5",
   "metadata": {},
   "outputs": [],
   "source": [
    "from scipy.integrate import quad\n",
    "\n",
    "def log_likelihood(param_values):   \n",
    "    \"\"\"\n",
    "    Calculates the likelihood of the given tinker parameters \n",
    "    \n",
    "    Args:\n",
    "        param_values (np.ndarray): Input array of shape (number of params).\n",
    "        \n",
    "    Returns:\n",
    "        float: Resulting log probability\n",
    "    \"\"\"\n",
    "\n",
    "    if(uniform_log_prior(param_values) == -np.inf):\n",
    "        return -np.inf\n",
    "\n",
    "    params = dict(zip(param_names, param_values))\n",
    "\n",
    "    tinker_fs = {}\n",
    "    model_vals = {}\n",
    "\n",
    "    \n",
    "    mass_function.set_params(param_values)\n",
    "    \n",
    "    for a_fit in [1.0]:\n",
    "        f_tinker_eval = lambda M:mass_function(cosmology, M, a_fit)*vol\n",
    "        tinker_fs[a_fit] = f_tinker_eval\n",
    "        model_vals[a_fit] = np.array([quad(tinker_fs[a_fit], edge_pair[0], edge_pair[1], epsabs=0, epsrel=1e-3)[0]\n",
    "            for edge_pair in NvMs[a_fit]['edge_pairs']\n",
    "        ])\n",
    "\n",
    "    \n",
    "    residuals = {a: model_vals[a]-N_data[a] for a in model_vals}\n",
    "    log_probs = [ -0.5 * (len(inv_weighted_cov[a])* np.log(2*np.pi) + \n",
    "                          np.dot(np.dot(residuals[a].T, inv_weighted_cov[a]), residuals[a]) + \n",
    "                          scale_cov[a]) \n",
    "                 for a in model_vals]\n",
    "    if not np.isfinite(np.sum(log_probs)): \n",
    "        return -np.inf\n",
    "    return np.sum(log_probs)\n",
    "\n",
    "\n",
    "def log_prob(param_values):\n",
    "    lp = uniform_log_prior(param_values)\n",
    "    if not np.isfinite(lp):\n",
    "        return -np.inf\n",
    "    return lp + log_likelihood(param_values)"
   ]
  },
  {
   "cell_type": "code",
   "execution_count": 16,
   "id": "7bd36f31",
   "metadata": {},
   "outputs": [
    {
     "name": "stdout",
     "output_type": "stream",
     "text": [
      "{'d': 1.97, 'e': 1.0, 'f': 0.51, 'g': 1.23}\n"
     ]
    },
    {
     "data": {
      "text/plain": [
       "184.2779884305443"
      ]
     },
     "execution_count": 16,
     "metadata": {},
     "output_type": "execute_result"
    }
   ],
   "source": [
    "guess = [1.97,\n",
    "         1.00,\n",
    "         0.51,\n",
    "         1.23,] #from tinker08 appendix table 4\n",
    "\n",
    "# guess = [1.9852183986769152, 0.107803008005348, \n",
    "#          1.1301133461561566, -0.07169880255827801, \n",
    "#          0.41336508057001076, 0.21872460602301808, \n",
    "#          1.2334987347174953, 0.08506640185137851]\n",
    "\n",
    "# guess = [1.6159666464399522, -0.2845188854930755, \n",
    "#          1.7976254788767771, 0.09979082486084988, \n",
    "#          0.28816561356624715, 0.18956384246467667, \n",
    "#          1.1898843974329867, -0.002153205819300958]\n",
    "####TMP for Box69_1400\n",
    "# guess = [2.078553279599441, -0.3415250335524408, 1.009603913314438, -0.022943724520918404, 0.4702351557691141, 0.17454589058929626, 1.2110915306991286, -0.09171018016215982]\n",
    "# guess = [ 2.08017823,  0.08961757,  0.96235066,  0.0078051,   0.48458743,  0.16021722,\n",
    "#   1.19197921, -0.01570342]\n",
    "\n",
    "guess_dict = dict(zip(param_names, guess))\n",
    "print(guess_dict)\n",
    "-log_likelihood(list(guess_dict.values()))"
   ]
  },
  {
   "cell_type": "code",
   "execution_count": 17,
   "id": "1ca40c68",
   "metadata": {},
   "outputs": [],
   "source": [
    "from scipy import optimize as optimize"
   ]
  },
  {
   "cell_type": "code",
   "execution_count": 18,
   "id": "df696673",
   "metadata": {},
   "outputs": [
    {
     "data": {
      "text/plain": [
       "1.4280499999999998"
      ]
     },
     "execution_count": 18,
     "metadata": {},
     "output_type": "execute_result"
    }
   ],
   "source": [
    "#g should roughly be delta_c^2 / 2\n",
    "1.69**2 / 2"
   ]
  },
  {
   "cell_type": "code",
   "execution_count": 19,
   "id": "b015ae53",
   "metadata": {
    "scrolled": false
   },
   "outputs": [
    {
     "name": "stdout",
     "output_type": "stream",
     "text": [
      "Starting ML Fit\n",
      "Box_n50_0_1400\n",
      "       message: Optimization terminated successfully.\n",
      "       success: True\n",
      "        status: 0\n",
      "           fun: 156.41381941834553\n",
      "             x: [ 1.970e+00  1.068e+00  5.077e-01  1.237e+00]\n",
      "           nit: 64\n",
      "          nfev: 117\n",
      " final_simplex: (array([[ 1.970e+00,  1.068e+00,  5.077e-01,  1.237e+00],\n",
      "                       [ 1.970e+00,  1.068e+00,  5.077e-01,  1.237e+00],\n",
      "                       ...,\n",
      "                       [ 1.970e+00,  1.068e+00,  5.077e-01,  1.237e+00],\n",
      "                       [ 1.970e+00,  1.068e+00,  5.077e-01,  1.237e+00]]), array([ 1.564e+02,  1.564e+02,  1.564e+02,  1.564e+02,\n",
      "                        1.564e+02]))\n",
      "   param_names: ['d', 'e', 'f', 'g']\n",
      "[1.97       1.06786039 0.50771619 1.23652486]\n"
     ]
    }
   ],
   "source": [
    "print('Starting ML Fit')\n",
    "#Start by sampling with a maximum likelihood approach\n",
    "from scipy import optimize as optimize\n",
    "neg_log_posterior = lambda *args: -log_prob(*args)\n",
    "result = optimize.minimize(neg_log_posterior, guess, \n",
    "                           method='Nelder-Mead', bounds = [(1.97,1.97), (0, 2), (0,2), (0,2)],\n",
    "                           options={'maxiter': len(guess)*10000})\n",
    "result['param_names'] = param_names\n",
    "print(box)\n",
    "print(result)\n",
    "print(result['x'])"
   ]
  },
  {
   "cell_type": "code",
   "execution_count": 20,
   "id": "99a4f1d4",
   "metadata": {},
   "outputs": [
    {
     "data": {
      "text/plain": [
       "154.6156587465647"
      ]
     },
     "execution_count": 20,
     "metadata": {},
     "output_type": "execute_result"
    }
   ],
   "source": [
    "#0.3+\n",
    "154.6156587465647"
   ]
  },
  {
   "cell_type": "code",
   "execution_count": 21,
   "id": "588a82c9",
   "metadata": {},
   "outputs": [
    {
     "data": {
      "text/plain": [
       "154.988333171339"
      ]
     },
     "execution_count": 21,
     "metadata": {},
     "output_type": "execute_result"
    }
   ],
   "source": [
    "#1.5+ 0.15+\n",
    "#[1.5        1.65775334 0.40365897 1.17295052]\n",
    "154.988333171339"
   ]
  },
  {
   "cell_type": "code",
   "execution_count": 22,
   "id": "64f956ae",
   "metadata": {},
   "outputs": [
    {
     "data": {
      "text/plain": [
       "154.80065563005604"
      ]
     },
     "execution_count": 22,
     "metadata": {},
     "output_type": "execute_result"
    }
   ],
   "source": [
    "#1.4+ 0.15+\n",
    "154.80065563005604"
   ]
  },
  {
   "cell_type": "code",
   "execution_count": 23,
   "id": "b183de17",
   "metadata": {},
   "outputs": [
    {
     "data": {
      "text/plain": [
       "154.53504696786092"
      ]
     },
     "execution_count": 23,
     "metadata": {},
     "output_type": "execute_result"
    }
   ],
   "source": [
    "#1.2+ 0.15+\n",
    "#[1.20000006 4.62837639 0.24584795 1.1366578 ]\n",
    "154.53504696786092"
   ]
  },
  {
   "cell_type": "code",
   "execution_count": 24,
   "id": "be50d1c5",
   "metadata": {},
   "outputs": [
    {
     "data": {
      "text/plain": [
       "154.4724486323575"
      ]
     },
     "execution_count": 24,
     "metadata": {},
     "output_type": "execute_result"
    }
   ],
   "source": [
    "#0.15+\n",
    "154.4724486323575"
   ]
  },
  {
   "cell_type": "code",
   "execution_count": 25,
   "id": "cd26fa92",
   "metadata": {},
   "outputs": [
    {
     "data": {
      "text/plain": [
       "154.46552792409366"
      ]
     },
     "execution_count": 25,
     "metadata": {},
     "output_type": "execute_result"
    }
   ],
   "source": [
    "#all free\n",
    "# e ~ 20\n",
    "154.46552792409366"
   ]
  },
  {
   "cell_type": "code",
   "execution_count": 26,
   "id": "c23eef3a",
   "metadata": {},
   "outputs": [
    {
     "data": {
      "text/plain": [
       "156.40184352417202"
      ]
     },
     "execution_count": 26,
     "metadata": {},
     "output_type": "execute_result"
    }
   ],
   "source": [
    "#1.97+ \n",
    "#[1.97       1.06689354 0.50862483 1.23449049]\n",
    "156.40184352417202"
   ]
  },
  {
   "cell_type": "code",
   "execution_count": 27,
   "id": "fc9f0c88",
   "metadata": {},
   "outputs": [
    {
     "data": {
      "text/plain": [
       "156.52826933088727"
      ]
     },
     "execution_count": 27,
     "metadata": {},
     "output_type": "execute_result"
    }
   ],
   "source": [
    "#2+\n",
    "#[2.         1.05383489 0.51302481 1.23888694]\n",
    "156.52826933088727"
   ]
  },
  {
   "cell_type": "code",
   "execution_count": 28,
   "id": "dac8c3f8",
   "metadata": {
    "scrolled": true
   },
   "outputs": [
    {
     "name": "stdout",
     "output_type": "stream",
     "text": [
      "[1.97, 1.0678603881172768, 0.5077161939019723, 1.2365248555762356]\n"
     ]
    }
   ],
   "source": [
    "print(list(result['x']))"
   ]
  },
  {
   "cell_type": "code",
   "execution_count": 29,
   "id": "ca090e86",
   "metadata": {
    "scrolled": true
   },
   "outputs": [
    {
     "name": "stdout",
     "output_type": "stream",
     "text": [
      "{'d': 1.97, 'e': 1.0678603881172768, 'f': 0.5077161939019723, 'g': 1.2365248555762356}\n"
     ]
    }
   ],
   "source": [
    "MLE_params = dict(zip(param_names, result['x']))\n",
    "print(MLE_params)"
   ]
  },
  {
   "cell_type": "code",
   "execution_count": 30,
   "id": "dec46f5d",
   "metadata": {
    "scrolled": false
   },
   "outputs": [
    {
     "data": {
      "image/png": "[encoded data removed]",
      "text/plain": [
       "<Figure size 864x504 with 2 Axes>"
      ]
     },
     "metadata": {
      "needs_background": "light"
     },
     "output_type": "display_data"
    }
   ],
   "source": [
    "yerr_dict = {a:np.sqrt(np.diagonal(jack_covs[a])) for a in jack_covs} \n",
    "for a in [1.0]:\n",
    "    c_params = MLE_params\n",
    "\n",
    "    fig1 = plt.figure(figsize =(12, 7))\n",
    "\n",
    "    axs=[fig1.add_axes((0.0,0.4,1,.6)), fig1.add_axes((0.0,0.0,1,.4))]\n",
    "    plt.subplots_adjust(wspace=0, hspace=0)\n",
    "    c_data = NvMs[a]\n",
    "\n",
    "    Ms = M_data[a]\n",
    "    N = N_data[a]\n",
    "    edge_pairs = c_data['edge_pairs']\n",
    "\n",
    "    edges = [edge[0] for edge in edge_pairs]\n",
    "    edges += [edge_pairs[-1][1]]\n",
    "\n",
    "    yerr = yerr_dict[a]\n",
    "\n",
    "    mass_function.set_params(result['x'])\n",
    "    \n",
    "    f_dNdM =  lambda M:mass_function(cosmology, M, a)*vol\n",
    "\n",
    "    fit_eval = np.array([quad(f_dNdM, edge[0],  edge[1], epsabs=0, epsrel=1e-3)[0] for edge in edge_pairs])\n",
    "\n",
    "#     with open(\"/oak/stanford/orgs/kipac/users/delon/aemulusnu_massfunction/%s_%.2f_NvMfit_output.pkl\"%(box, a), \"wb\") as f:\n",
    "#         pickle.dump({'Ms':Ms, 'tinker_eval':fit_eval, 'N':N, 'edges':edges}, f)\n",
    "\n",
    "    axs[0].errorbar(Ms, N, yerr, fmt='+', c='black')\n",
    "    axs[0].scatter(Ms, fit_eval, s=50 , marker='x', c='blue')\n",
    "\n",
    "    edges = np.array(edges)\n",
    "    axs[0].bar(x=edges[:-1], height=N, width=np.diff(edges),\n",
    "               align='edge', fill=False, ec='black', label='Data')\n",
    "    axs[0].bar(x=edges[:-1], height=fit_eval, width=np.diff(edges), align='edge', fill=False, ec='blue', label='Tinker')\n",
    "    axs[1].errorbar(Ms, (fit_eval-N)/N, yerr/N, fmt='x', color='blue')\n",
    "\n",
    "    y1 = 0.1*np.ones_like(N)\n",
    "    y1 = np.append(y1, y1[-1])\n",
    "    y1 = np.append(y1[0], y1)\n",
    "\n",
    "    y2 = -0.1*np.ones_like(N)\n",
    "    y2 = np.append(y2, y2[-1])\n",
    "    y2 = np.append(y2[0], y2)\n",
    "\n",
    "    c_Ms = np.append(Ms, edges[-1])\n",
    "    c_Ms = np.append(edges[0], c_Ms)\n",
    "    axs[1].fill_between(c_Ms, y1, y2, alpha=1, color='0.95',label='<10% Error')\n",
    "\n",
    "    y1 = 0.01*np.ones_like(N)\n",
    "    y1 = np.append(y1, y1[-1])\n",
    "    y1 = np.append(y1[0], y1)\n",
    "\n",
    "    y2 = -0.01*np.ones_like(N)\n",
    "    y2 = np.append(y2, y2[-1])\n",
    "    y2 = np.append(y2[0], y2)\n",
    "\n",
    "    axs[1].fill_between(c_Ms, y1, y2, alpha=1, color='0.85',label='<1% Error')\n",
    "\n",
    "\n",
    "    axs[0].set_xscale('log')\n",
    "    axs[0].set_yscale('log')\n",
    "    axs[0].legend(frameon=False)\n",
    "    axs[0].set_ylabel('N')\n",
    "\n",
    "    axs[1].set_xscale('log')\n",
    "    # axs[1].set_yscale('lin', linthresh=1e-2)    \n",
    "    axs[1].legend(frameon=False)\n",
    "    axs[1].axhline(0, c='black')\n",
    "    axs[1].set_ylabel('N')\n",
    "    axs[1].set_xlabel(r'Mass $[h^{-1}M_\\odot]$')\n",
    "    axs[1].set_ylabel(r'$\\frac{N_{\\rm Tinker}-N_{\\rm data}}{N_{\\rm data}} $')\n",
    "    axs[0].set_title('%s, a=%.2f, z=%.2f'%(box, a, scaleToRedshift(a)))\n",
    "    axs[0].set_ylim(10, 2e5)\n",
    "    left = np.ceil(np.log10(200*Mpart) * 10) / 10\n",
    "    axs[0].set_xlim((10**left, np.max(edges)))\n",
    "    axs[1].set_xlim((10**left, np.max(edges)))\n",
    "    axs[1].set_ylim((-.29, .29))\n",
    "    axs[1].set_yticks([-.2, -.1, 0, .1, .2])\n",
    "#     plt.savefig('/oak/stanford/orgs/kipac/users/delon/aemulusnu_massfunction/figures/%s_fit_%.2f.pdf'%(box, a), bbox_inches='tight')"
   ]
  },
  {
   "cell_type": "code",
   "execution_count": 31,
   "id": "dfed1197",
   "metadata": {},
   "outputs": [
    {
     "data": {
      "text/plain": [
       "array([1.97      , 1.06786039, 0.50771619, 1.23652486])"
      ]
     },
     "execution_count": 31,
     "metadata": {},
     "output_type": "execute_result"
    }
   ],
   "source": [
    "result['x']"
   ]
  },
  {
   "cell_type": "code",
   "execution_count": 32,
   "id": "5f706566",
   "metadata": {},
   "outputs": [],
   "source": [
    "with open('/oak/stanford/orgs/kipac/users/delon/aemulusnu_massfunction/params_fit_single_redshift_of_central_box.pkl', 'wb') as f:\n",
    "    pickle.dump(result['x'], f)"
   ]
  },
  {
   "cell_type": "code",
   "execution_count": null,
   "id": "8bd25e47",
   "metadata": {},
   "outputs": [],
   "source": []
  }
 ],
 "metadata": {
  "kernelspec": {
   "display_name": "massfunction",
   "language": "python",
   "name": "massfunction"
  },
  "language_info": {
   "codemirror_mode": {
    "name": "ipython",
    "version": 3
   },
   "file_extension": ".py",
   "mimetype": "text/x-python",
   "name": "python",
   "nbconvert_exporter": "python",
   "pygments_lexer": "ipython3",
   "version": "3.9.16"
  }
 },
 "nbformat": 4,
 "nbformat_minor": 5
}
