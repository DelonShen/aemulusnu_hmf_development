{
 "cells": [
  {
   "cell_type": "code",
   "execution_count": 1,
   "id": "a17632f3",
   "metadata": {},
   "outputs": [],
   "source": [
    "%load_ext autoreload\n",
    "%autoreload 2"
   ]
  },
  {
   "cell_type": "code",
   "execution_count": 2,
   "id": "106e0bb2",
   "metadata": {},
   "outputs": [],
   "source": [
    "box = 'Box_n50_0_1400'\n",
    "param_names = ['d','e','f','g']\n",
    "ndim = len(param_names)"
   ]
  },
  {
   "cell_type": "code",
   "execution_count": 3,
   "id": "be3a0805",
   "metadata": {},
   "outputs": [],
   "source": [
    "from aemulusnu_massfunction.utils import *\n",
    "from aemulusnu_massfunction.massfunction import *\n",
    "\n",
    "import numpy as np\n",
    "from tqdm import tqdm, trange\n",
    "import matplotlib.pyplot as plt\n",
    "import os\n",
    "import emcee\n",
    "import sys\n",
    "import numpy as np\n",
    "import pickle"
   ]
  },
  {
   "cell_type": "code",
   "execution_count": 4,
   "id": "770b825b",
   "metadata": {},
   "outputs": [],
   "source": [
    "cosmos_f = open('../data/cosmo_params.pkl', 'rb')\n",
    "cosmo_params = pickle.load(cosmos_f) #cosmo_params is a dict\n",
    "cosmos_f.close()"
   ]
  },
  {
   "cell_type": "code",
   "execution_count": 5,
   "id": "5637a802",
   "metadata": {},
   "outputs": [],
   "source": [
    "import pyccl as ccl\n",
    "\n",
    "cosmo = cosmo_params[box]\n",
    "\n",
    "\n",
    "h = cosmo['H0']/100\n",
    "Ωb =  cosmo['ombh2'] / h**2\n",
    "Ωc =  cosmo['omch2'] / h**2\n",
    "\n",
    "ccl_cosmo = ccl.Cosmology(Omega_c=Ωc,\n",
    "                      Omega_b=Ωb,\n",
    "                      h=h,\n",
    "                      A_s=cosmo['10^9 As']*10**(-9),\n",
    "                      n_s=cosmo['ns'],\n",
    "                      w0=cosmo['w0'],\n",
    "                      m_nu=[cosmo['nu_mass_ev']/3, cosmo['nu_mass_ev']/3, cosmo['nu_mass_ev']/3])\n",
    "\n"
   ]
  },
  {
   "cell_type": "code",
   "execution_count": 6,
   "id": "7a34f6ec",
   "metadata": {},
   "outputs": [],
   "source": [
    "h = cosmo['H0']/100\n",
    "\n",
    "NvM_fname = '/oak/stanford/orgs/kipac/users/delon/aemulusnu_massfunction/'+box+'_NvsM.pkl'\n",
    "NvM_f = open(NvM_fname, 'rb')\n",
    "NvMs = pickle.load(NvM_f) #NvMs is a dictionary of dictionaries\n",
    "NvM_f.close()"
   ]
  },
  {
   "cell_type": "code",
   "execution_count": 7,
   "id": "6bfaefa4",
   "metadata": {},
   "outputs": [],
   "source": [
    "a_fit = 1.0"
   ]
  },
  {
   "cell_type": "code",
   "execution_count": 8,
   "id": "348f5523",
   "metadata": {},
   "outputs": [
    {
     "name": "stderr",
     "output_type": "stream",
     "text": [
      "100%|██████████| 1/1 [00:00<00:00, 10106.76it/s]\n"
     ]
    }
   ],
   "source": [
    "N_data = {}\n",
    "M_data = {}\n",
    "aux_data = {}\n",
    "from scipy.interpolate import interp1d, UnivariateSpline, InterpolatedUnivariateSpline\n",
    "\n",
    "\n",
    "vol = -1 #Mpc^3/h^3\n",
    "Mpart = -1\n",
    "\n",
    "for a in tqdm([a_fit]):\n",
    "    c_data = NvMs[a]\n",
    "    \n",
    "    Ms = c_data['M'] #units of h^-1 Msolar\n",
    "    N = c_data['N']\n",
    "    edge_pairs = c_data['edge_pairs']\n",
    "    assert(len(Ms) == len(edge_pairs))\n",
    "    assert(len(Ms) == len(N))\n",
    "    \n",
    "\n",
    "    if(vol==-1):\n",
    "        vol = c_data['vol']\n",
    "    assert(vol == c_data['vol'])\n",
    "\n",
    "    if(Mpart==-1):\n",
    "        Mpart = c_data['Mpart']\n",
    "    assert(Mpart == c_data['Mpart'])\n",
    "\n",
    "    N_data[a] = []\n",
    "    M_data[a] = []\n",
    "    aux_data[a] = []\n",
    "    for N_curr, M_curr, edge_pair in zip(N, Ms, edge_pairs):\n",
    "        N_data[a] += [N_curr]\n",
    "        M_data[a] += [M_curr]\n",
    "        aux_data[a] += [{'a':a, 'edge_pair':edge_pair}]\n"
   ]
  },
  {
   "cell_type": "code",
   "execution_count": 9,
   "id": "267099bb",
   "metadata": {},
   "outputs": [
    {
     "name": "stdout",
     "output_type": "stream",
     "text": [
      "[0.302679, 0.366459, 0.403224, 0.488191, 0.512095, 0.537169, 0.563471, 0.591061, 0.620002, 0.65036, 0.715608, 0.787402, 0.866399, 0.953321, 1.0]\n"
     ]
    }
   ],
   "source": [
    "a_list = list(NvMs.keys())\n",
    "print(a_list)\n",
    "from scipy.stats import poisson\n",
    "\n",
    "\n",
    "M_numerics = np.logspace(np.log10(100*Mpart), 16, 50)\n",
    "\n",
    "jackknife_covs_fname = '/oak/stanford/orgs/kipac/users/delon/aemulusnu_massfunction/'+box+'_jackknife_covs.pkl'\n",
    "jackknife_covs_f = open(jackknife_covs_fname, 'rb')\n",
    "jackknife = pickle.load(jackknife_covs_f)\n",
    "jackknife_covs_f.close()"
   ]
  },
  {
   "cell_type": "code",
   "execution_count": 10,
   "id": "afb0bba1",
   "metadata": {},
   "outputs": [],
   "source": [
    "jack_covs = {a:jackknife[a][1] for a in N_data}\n",
    "\n",
    "weighted_cov = {a: jack_covs[a] for a in jack_covs}\n",
    "\n",
    "# Inverse of the weighted covariance matrix\n",
    "inv_weighted_cov = {a:np.linalg.inv(weighted_cov[a]) for a in weighted_cov}  \n",
    "# inv_weighted_cov = {a:np.diag([1 for _ in range(len(weighted_cov[a]))]) for a in weighted_cov}  \n",
    "\n",
    "scale_cov = {a:np.log(np.linalg.det(weighted_cov[a])) for a in weighted_cov}"
   ]
  },
  {
   "cell_type": "code",
   "execution_count": 11,
   "id": "457bde87",
   "metadata": {},
   "outputs": [],
   "source": [
    "def uniform_log_prior(param_values):\n",
    "    #uniform prior\n",
    "    for param in param_values:\n",
    "        if(param < 0 or param > 10):\n",
    "            return -np.inf\n",
    "    return 0"
   ]
  },
  {
   "cell_type": "code",
   "execution_count": 12,
   "id": "fa8070a5",
   "metadata": {},
   "outputs": [
    {
     "name": "stdout",
     "output_type": "stream",
     "text": [
      "25\n",
      "25\n"
     ]
    }
   ],
   "source": [
    "print(len(jack_covs[1.0]))\n",
    "print(len(N_data[1.0]))"
   ]
  },
  {
   "cell_type": "code",
   "execution_count": 13,
   "id": "e2eb1541",
   "metadata": {},
   "outputs": [
    {
     "data": {
      "text/plain": [
       "<matplotlib.image.AxesImage at 0x7f64e559b580>"
      ]
     },
     "execution_count": 13,
     "metadata": {},
     "output_type": "execute_result"
    },
    {
     "data": {
      "image/png": "[encoded data removed]",
      "text/plain": [
       "<Figure size 432x288 with 1 Axes>"
      ]
     },
     "metadata": {
      "needs_background": "light"
     },
     "output_type": "display_data"
    }
   ],
   "source": [
    "plt.imshow(np.log(np.abs(weighted_cov[a])))"
   ]
  },
  {
   "cell_type": "code",
   "execution_count": 14,
   "id": "a6d3451c",
   "metadata": {},
   "outputs": [
    {
     "data": {
      "text/plain": [
       "array([3.99063554e-07, 2.93725376e-07, 2.16038045e-07, 1.58768412e-07,\n",
       "       1.16572570e-07, 8.55019042e-08, 6.26385897e-08, 4.58278604e-08,\n",
       "       3.34787066e-08, 2.44161074e-08, 1.77730159e-08, 1.29099347e-08,\n",
       "       9.35515113e-09, 6.76103768e-09, 4.87161903e-09, 3.49841982e-09,\n",
       "       2.50282047e-09, 1.78298463e-09, 1.26415957e-09, 8.91539316e-10,\n",
       "       6.25004606e-10, 4.35227537e-10, 3.00803907e-10, 2.06150655e-10,\n",
       "       1.39949644e-10, 9.40022105e-11, 6.23897222e-11, 4.08558606e-11,\n",
       "       2.63534489e-11, 1.67126366e-11, 1.03981530e-11, 6.33181512e-12,\n",
       "       3.76339727e-12, 2.17657533e-12, 1.22065661e-12, 6.61182299e-13,\n",
       "       3.44354889e-13, 1.71565976e-13, 8.12963407e-14, 3.63955704e-14,\n",
       "       1.52785197e-14, 5.96240141e-15, 2.14181400e-15, 7.00250390e-16,\n",
       "       2.05688948e-16, 5.34807460e-17, 1.21001730e-17, 2.33579869e-18,\n",
       "       3.76056928e-19, 4.91848942e-20])"
      ]
     },
     "execution_count": 14,
     "metadata": {},
     "output_type": "execute_result"
    }
   ],
   "source": [
    "mass_function = MassFuncAemulusNu_fitting()\n",
    "mass_function.set_params([0.5, 1.12, 2.3, 1.3])\n",
    "mass_function(ccl_cosmo, M_numerics/h, a_fit)*vol/(h**3 * M_numerics * np.log(10))\n",
    "# tinker_eval = [mass_function(a, M_c, **params)*vol for M_c in M_numerics]\n"
   ]
  },
  {
   "cell_type": "code",
   "execution_count": 15,
   "id": "539b67f5",
   "metadata": {},
   "outputs": [],
   "source": [
    "def log_prob(param_values):   \n",
    "    \"\"\"\n",
    "    Calculates the probability of the given tinker parameters \n",
    "    \n",
    "    Args:\n",
    "        param_values (np.ndarray): Input array of shape (number of params).\n",
    "        \n",
    "    Returns:\n",
    "        float: Resulting log probability\n",
    "    \"\"\"\n",
    "\n",
    "    if(uniform_log_prior(param_values) == -np.inf):\n",
    "        return -np.inf\n",
    "\n",
    "    params = dict(zip(param_names, param_values))\n",
    "\n",
    "    tinker_fs = {}\n",
    "    \n",
    "    \n",
    "    mass_function.set_params(param_values)\n",
    "    tinker_eval = mass_function(ccl_cosmo, M_numerics/h, a_fit)*vol/(h**3 * M_numerics * np.log(10))\n",
    "    f_tinker_eval = lambda M:mass_function(ccl_cosmo, M/h, a_fit)*vol/(h**3 * M * np.log(10))\n",
    "    f_dNdM = interp1d(M_numerics, tinker_eval, kind='linear', bounds_error=False, fill_value=0.)\n",
    "    tinker_fs[a_fit] = f_tinker_eval\n",
    "        \n",
    "    model_vals = {}\n",
    "    model_vals[a_fit] = np.array([quad(tinker_fs[a_fit], edge_pair[0], edge_pair[1], epsabs=0, epsrel=5e-3)[0]\n",
    "        for edge_pair in NvMs[a_fit]['edge_pairs']\n",
    "    ])\n",
    "\n",
    "    \n",
    "    residuals = {a: model_vals[a]-N_data[a] for a in model_vals}\n",
    "    log_probs = [ -0.5 * (len(inv_weighted_cov)* np.log(2*np.pi) + \n",
    "                          np.dot(np.dot(residuals[a].T, inv_weighted_cov[a]), residuals[a]) + \n",
    "                          scale_cov[a]) \n",
    "                 for a in model_vals]\n",
    "    if not np.isfinite(np.sum(log_probs)): \n",
    "        return -np.inf\n",
    "    return np.sum(log_probs)\n",
    "\n",
    "\n",
    "def log_likelihood(param_values):\n",
    "    lp = uniform_log_prior(param_values)\n",
    "    if not np.isfinite(lp):\n",
    "        return -np.inf\n",
    "    return lp + log_prob(param_values)\n",
    "\n",
    "#from hand tuning \n",
    "# guess = [.4, .3, 1.67, 1.15]\n",
    "# guess_dict = dict(zip(['d','e','f','g'], guess))\n",
    "# guess_dict = {'d': 0.43084272096351905, 'e': 0.29999999999999993, 'f': 1.6657584546355093, 'g': 1.195116265286432}"
   ]
  },
  {
   "cell_type": "code",
   "execution_count": 52,
   "id": "a032fa2c",
   "metadata": {},
   "outputs": [],
   "source": [
    "guess = [1.97,1,0.51,1.228] #from tinker08 appendix table 4\n",
    "guess_dict = dict(zip(['d','e','f','g'], guess))"
   ]
  },
  {
   "cell_type": "code",
   "execution_count": 53,
   "id": "e068a246",
   "metadata": {},
   "outputs": [
    {
     "name": "stdout",
     "output_type": "stream",
     "text": [
      "{'d': 1.97, 'e': 1, 'f': 0.51, 'g': 1.228}\n"
     ]
    }
   ],
   "source": [
    "print(guess_dict)"
   ]
  },
  {
   "cell_type": "code",
   "execution_count": 54,
   "id": "f03659ea",
   "metadata": {},
   "outputs": [
    {
     "data": {
      "text/plain": [
       "156.24399808491174"
      ]
     },
     "execution_count": 54,
     "metadata": {},
     "output_type": "execute_result"
    }
   ],
   "source": [
    "-log_likelihood(guess_dict.values())"
   ]
  },
  {
   "cell_type": "code",
   "execution_count": 55,
   "id": "27e95e15",
   "metadata": {},
   "outputs": [],
   "source": [
    "from scipy import optimize as optimize\n"
   ]
  },
  {
   "cell_type": "code",
   "execution_count": 79,
   "id": "59060dd0",
   "metadata": {
    "scrolled": true
   },
   "outputs": [
    {
     "name": "stdout",
     "output_type": "stream",
     "text": [
      "Starting ML Fit\n",
      "Box_n50_0_1400\n",
      "       message: Optimization terminated successfully.\n",
      "       success: True\n",
      "        status: 0\n",
      "           fun: 134.86599503190462\n",
      "             x: [ 2.114e+00  1.000e+00  5.254e-01  1.240e+00]\n",
      "           nit: 90\n",
      "          nfev: 155\n",
      " final_simplex: (array([[ 2.114e+00,  1.000e+00,  5.254e-01,  1.240e+00],\n",
      "                       [ 2.114e+00,  1.000e+00,  5.254e-01,  1.240e+00],\n",
      "                       ...,\n",
      "                       [ 2.114e+00,  1.000e+00,  5.254e-01,  1.240e+00],\n",
      "                       [ 2.114e+00,  1.000e+00,  5.254e-01,  1.240e+00]]), array([ 1.349e+02,  1.349e+02,  1.349e+02,  1.349e+02,\n",
      "                        1.349e+02]))\n",
      "   param_names: ['d', 'e', 'f', 'g']\n",
      "[2.11383152 1.         0.52542576 1.23987508]\n"
     ]
    }
   ],
   "source": [
    "print('Starting ML Fit')\n",
    "#Start by sampling with a maximum likelihood approach\n",
    "from scipy import optimize as optimize\n",
    "nll = lambda *args: -log_likelihood(*args)\n",
    "bounds = [(0, 5), (1, 1), (0, 1), (0, 5)]\n",
    "result = optimize.minimize(nll, guess, method='Nelder-Mead',\n",
    "                           bounds = bounds,\n",
    "                           options={\n",
    "                               'maxiter': len(guess)*10000})\n",
    "result['param_names'] = param_names\n",
    "print(box)\n",
    "print(result)\n",
    "print(result['x'])"
   ]
  },
  {
   "cell_type": "code",
   "execution_count": 80,
   "id": "abe50340",
   "metadata": {},
   "outputs": [],
   "source": [
    "# import cProfile\n",
    "# cProfile.run(\"optimize.minimize(nll, guess, method='Nelder-Mead', bounds = bounds, options={'maxiter': len(guess)*10000})\")\n"
   ]
  },
  {
   "cell_type": "code",
   "execution_count": 81,
   "id": "5262a4a1",
   "metadata": {
    "scrolled": true
   },
   "outputs": [
    {
     "name": "stdout",
     "output_type": "stream",
     "text": [
      "{'d': 2.113831517351286, 'e': 1.0, 'f': 0.5254257615819378, 'g': 1.2398750786312092}\n"
     ]
    }
   ],
   "source": [
    "MLE_params = dict(zip(param_names, result['x']))\n",
    "print(MLE_params)\n",
    "# MLE_params = {'d': 1.97, 'e': 1.0, 'f': 0.51, 'g': 1.228}"
   ]
  },
  {
   "cell_type": "code",
   "execution_count": 82,
   "id": "c0a56f4b",
   "metadata": {},
   "outputs": [
    {
     "data": {
      "text/plain": [
       "array([2.11383152, 1.        , 0.52542576, 1.23987508])"
      ]
     },
     "execution_count": 82,
     "metadata": {},
     "output_type": "execute_result"
    }
   ],
   "source": [
    "result['x']"
   ]
  },
  {
   "cell_type": "code",
   "execution_count": 83,
   "id": "f7a1686c",
   "metadata": {},
   "outputs": [
    {
     "data": {
      "image/png": "[encoded data removed]",
      "text/plain": [
       "<Figure size 864x504 with 2 Axes>"
      ]
     },
     "metadata": {
      "needs_background": "light"
     },
     "output_type": "display_data"
    }
   ],
   "source": [
    "yerr_dict = {a:np.sqrt(np.diagonal(weighted_cov[a])) for a in weighted_cov} \n",
    "c_params = MLE_params\n",
    "a = a_fit\n",
    "\n",
    "fig1 = plt.figure(figsize =(12, 7))\n",
    "\n",
    "axs=[fig1.add_axes((0.0,0.4,1,.6)), fig1.add_axes((0.0,0.0,1,.4))]\n",
    "plt.subplots_adjust(wspace=0, hspace=0)\n",
    "c_data = NvMs[a]\n",
    "\n",
    "Ms = M_data[a]\n",
    "N = N_data[a]\n",
    "edge_pairs = c_data['edge_pairs']\n",
    "\n",
    "edges = [edge[0] for edge in edge_pairs]\n",
    "edges += [edge_pairs[-1][1]]\n",
    "\n",
    "yerr = yerr_dict[a]\n",
    "dM = np.array([edges[1]-edges[0] for edges in edge_pairs])\n",
    "\n",
    "mass_function.set_params( result['x'])\n",
    "# mass_function.set_params( [1.97,1,0.51,1.228])\n",
    "\n",
    "tinker_evaled = mass_function(ccl_cosmo, M_numerics/h, a_fit)*vol/(h**3 * M_numerics * np.log(10))\n",
    "\n",
    "f_dNdM =  interp1d(M_numerics, tinker_evaled, kind='linear', bounds_error=False, fill_value=0.)\n",
    "\n",
    "\n",
    "f_dNdM =  lambda M:mass_function(ccl_cosmo, M/h, a_fit)*vol/(h**3 * M * np.log(10))\n",
    "\n",
    "tinker_eval_MCMC = np.array([quad(f_dNdM, edge[0],  edge[1], epsabs=0, epsrel=1e-5)[0] for edge in edge_pairs])\n",
    "\n",
    "\n",
    "\n",
    "axs[0].errorbar(Ms, N, yerr, fmt='+', c='black')\n",
    "axs[0].scatter(Ms, tinker_eval_MCMC, s=50 , marker='x', c='blue')\n",
    "\n",
    "edges = np.array(edges)\n",
    "axs[0].bar(x=edges[:-1], height=N, width=np.diff(edges),\n",
    "           align='edge', fill=False, ec='black', label='Data')\n",
    "axs[0].bar(x=edges[:-1], height=tinker_eval_MCMC, width=np.diff(edges), align='edge', fill=False, ec='blue', label='Tinker')\n",
    "axs[1].errorbar(Ms, (tinker_eval_MCMC-N)/N, yerr/N, fmt='x', color='blue')\n",
    "\n",
    "y1 = 0.1*np.ones_like(N)\n",
    "y1 = np.append(y1, y1[-1])\n",
    "y1 = np.append(y1[0], y1)\n",
    "\n",
    "y2 = -0.1*np.ones_like(N)\n",
    "y2 = np.append(y2, y2[-1])\n",
    "y2 = np.append(y2[0], y2)\n",
    "\n",
    "c_Ms = np.append(Ms, edges[-1])\n",
    "c_Ms = np.append(edges[0], c_Ms)\n",
    "axs[1].fill_between(c_Ms, y1, y2, alpha=1, color='0.95',label='<10% Error')\n",
    "\n",
    "y1 = 0.01*np.ones_like(N)\n",
    "y1 = np.append(y1, y1[-1])\n",
    "y1 = np.append(y1[0], y1)\n",
    "\n",
    "y2 = -0.01*np.ones_like(N)\n",
    "y2 = np.append(y2, y2[-1])\n",
    "y2 = np.append(y2[0], y2)\n",
    "\n",
    "axs[1].fill_between(c_Ms, y1, y2, alpha=1, color='0.85',label='<1% Error')\n",
    "\n",
    "\n",
    "axs[0].set_xscale('log')\n",
    "axs[0].set_yscale('log')\n",
    "axs[0].legend(frameon=False)\n",
    "axs[0].set_ylabel('N')\n",
    "\n",
    "axs[1].set_xscale('log')\n",
    "# axs[1].set_yscale('lin', linthresh=1e-2)    \n",
    "axs[1].legend(frameon=False)\n",
    "axs[1].axhline(0, c='black')\n",
    "axs[1].set_ylabel('N')\n",
    "axs[1].set_xlabel(r'Mass $[h^{-1}M_\\odot]$')\n",
    "axs[1].set_ylabel(r'$\\frac{N_{\\rm Tinker}-N_{\\rm data}}{N_{\\rm data}} $')\n",
    "axs[0].set_title('%s, a=%.2f, z=%.2f'%(box, a, scaleToRedshift(a)))\n",
    "axs[0].set_ylim(10, 2e5)\n",
    "left = np.ceil(np.log10(200*Mpart) * 10) / 10\n",
    "axs[0].set_xlim((10**left, np.max(edges)))\n",
    "axs[1].set_xlim((10**left, np.max(edges)))\n",
    "axs[1].set_ylim((-.29, .29))\n",
    "axs[1].set_yticks([-.2, -.1, 0, .1, .2])\n",
    "plt.savefig('/oak/stanford/orgs/kipac/users/delon/aemulusnu_massfunction/figures/%s_fit_%.2f.pdf'%(box, a), bbox_inches='tight')"
   ]
  },
  {
   "cell_type": "code",
   "execution_count": 84,
   "id": "b95ca863",
   "metadata": {
    "scrolled": true
   },
   "outputs": [
    {
     "name": "stdout",
     "output_type": "stream",
     "text": [
      "{'d': 2.113831517351286, 'e': 1.0, 'f': 0.5254257615819378, 'g': 1.2398750786312092}\n"
     ]
    }
   ],
   "source": [
    "print(MLE_params)"
   ]
  },
  {
   "cell_type": "code",
   "execution_count": 85,
   "id": "890bf9e5",
   "metadata": {},
   "outputs": [],
   "source": [
    "with open(\"/oak/stanford/orgs/kipac/users/delon/aemulusnu_massfunction/%s_%.2f_params.pkl\"%(box, a_fit), \"wb\") as f:\n",
    "    pickle.dump(MLE_params, f)"
   ]
  },
  {
   "cell_type": "code",
   "execution_count": 86,
   "id": "87cde68f",
   "metadata": {},
   "outputs": [],
   "source": [
    "with open(\"/oak/stanford/orgs/kipac/users/delon/aemulusnu_massfunction/%s_%.2f_NvMfit_output.pkl\"%(box, a_fit), \"wb\") as f:\n",
    "    pickle.dump({'Ms':Ms, 'tinker_eval':tinker_eval_MCMC, 'N':N, 'edges':edges}, f)"
   ]
  },
  {
   "cell_type": "code",
   "execution_count": null,
   "id": "13b373bc",
   "metadata": {},
   "outputs": [],
   "source": []
  },
  {
   "cell_type": "code",
   "execution_count": 87,
   "id": "9aaa4ac9",
   "metadata": {
    "scrolled": true
   },
   "outputs": [
    {
     "data": {
      "text/plain": [
       "(50,)"
      ]
     },
     "execution_count": 87,
     "metadata": {},
     "output_type": "execute_result"
    }
   ],
   "source": [
    "mass_function(ccl_cosmo, M_numerics/h, a_fit).shape"
   ]
  },
  {
   "cell_type": "code",
   "execution_count": 88,
   "id": "0f0ceb03",
   "metadata": {},
   "outputs": [
    {
     "data": {
      "text/plain": [
       "(50,)"
      ]
     },
     "execution_count": 88,
     "metadata": {},
     "output_type": "execute_result"
    }
   ],
   "source": [
    "M_numerics.shape"
   ]
  },
  {
   "cell_type": "code",
   "execution_count": 89,
   "id": "64088415",
   "metadata": {},
   "outputs": [
    {
     "data": {
      "text/plain": [
       "<pyccl.cosmology.Cosmology>\n",
       "\tA_s     = 2.1010031500000003e-09\n",
       "\tNeff    = 3.044\n",
       "\tOmega_b = 0.04967698819336154\n",
       "\tOmega_c = 0.2673201158387168\n",
       "\th       = 0.67\n",
       "\tm_nu    = (0.023570226666666666, 0.023570226666666666, 0.023570226666666666)\n",
       "\tn_s     = 0.97000003\n",
       "\textra_parameters =\n",
       "\tHASH_ACCURACY_PARAMS = 0xa66187a98f4381e8"
      ]
     },
     "execution_count": 89,
     "metadata": {},
     "output_type": "execute_result"
    }
   ],
   "source": [
    "ccl_cosmo"
   ]
  },
  {
   "cell_type": "code",
   "execution_count": 90,
   "id": "182f937b",
   "metadata": {},
   "outputs": [
    {
     "data": {
      "text/plain": [
       "0.07071068"
      ]
     },
     "execution_count": 90,
     "metadata": {},
     "output_type": "execute_result"
    }
   ],
   "source": [
    "sum(ccl_cosmo['m_nu'])"
   ]
  },
  {
   "cell_type": "code",
   "execution_count": null,
   "id": "a0b6dd78",
   "metadata": {},
   "outputs": [],
   "source": []
  },
  {
   "cell_type": "code",
   "execution_count": null,
   "id": "620cc4da",
   "metadata": {},
   "outputs": [],
   "source": []
  }
 ],
 "metadata": {
  "kernelspec": {
   "display_name": "massfunction",
   "language": "python",
   "name": "massfunction"
  },
  "language_info": {
   "codemirror_mode": {
    "name": "ipython",
    "version": 3
   },
   "file_extension": ".py",
   "mimetype": "text/x-python",
   "name": "python",
   "nbconvert_exporter": "python",
   "pygments_lexer": "ipython3",
   "version": "3.9.16"
  }
 },
 "nbformat": 4,
 "nbformat_minor": 5
}
