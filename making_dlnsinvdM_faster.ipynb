{
 "cells": [
  {
   "cell_type": "code",
   "execution_count": 1,
   "id": "0b7e7bf2",
   "metadata": {},
   "outputs": [],
   "source": [
    "#Plank 2018\n",
    "cosmology = {'10^9 As':2.09681,\n",
    "            'ns': 0.9652,\n",
    "            'H0': 67.37,\n",
    "            'w0': -1,\n",
    "            'ombh2': 0.02233,\n",
    "            'omch2': 0.1198,\n",
    "            'nu_mass_ev': 0.07071068,\n",
    "            'sigma8': 0.8101,\n",
    "            }"
   ]
  },
  {
   "cell_type": "code",
   "execution_count": 2,
   "id": "bec6455b",
   "metadata": {},
   "outputs": [],
   "source": [
    "h = cosmology['H0']/100"
   ]
  },
  {
   "cell_type": "code",
   "execution_count": 3,
   "id": "c22cc8bf",
   "metadata": {},
   "outputs": [],
   "source": [
    "import numpy as np"
   ]
  },
  {
   "cell_type": "code",
   "execution_count": 15,
   "id": "c60a861f",
   "metadata": {},
   "outputs": [],
   "source": [
    "ρcrit0 = 2.77533742639e+11 #h^2 Msol / Mpc^3\n",
    "\n",
    "\n",
    "def M_to_R(M, a):\n",
    "    return (M / (4/3 * np.pi * rhom_a(a))) ** (1/3) # h^-1 Mpc  \n",
    "\n",
    "\n",
    "def rhom_a(a):\n",
    "    ombh2 = cosmology['ombh2']\n",
    "    omch2 = cosmology['omch2']\n",
    "    H0 = cosmology['H0'] #[km s^-1 Mpc-1]\n",
    "    h = H0/100 \n",
    "\n",
    "    Ωm = ombh2/h**2 + omch2/h**2\n",
    "\n",
    "    ΩDE = 1 - Ωm\n",
    "    wDE = cosmology['w0'] #'wa' is zero for us\n",
    "\n",
    "    return Ωm*ρcrit0#*(Ωm*a**(-3) + ΩDE*a**(-3*(1+wDE))) * a**3 # h^2 Msol/Mpc^3\n"
   ]
  },
  {
   "cell_type": "code",
   "execution_count": 16,
   "id": "ac862123",
   "metadata": {},
   "outputs": [],
   "source": [
    "a=1.0\n",
    "M_numerics = np.logspace(11,17,100) \n",
    "R = M_to_R(M_numerics, a) #h^-1 Mpc\n"
   ]
  },
  {
   "cell_type": "code",
   "execution_count": 22,
   "id": "c76256bb",
   "metadata": {},
   "outputs": [],
   "source": [
    "h = cosmology['H0']/100\n",
    "cosmo_dict = {\n",
    "    'h': h,\n",
    "    'Omega_b': cosmology['ombh2'] / h**2,\n",
    "    'Omega_cdm': cosmology['omch2'] / h**2,\n",
    "    'N_ur': 0.00641,\n",
    "    'N_ncdm': 1,\n",
    "    'output': 'mPk mTk',\n",
    "    'z_pk': '0.0,99',\n",
    "    'P_k_max_h/Mpc': 20.,\n",
    "    'm_ncdm': cosmology['nu_mass_ev']/3,\n",
    "    'deg_ncdm': 3,\n",
    "    'T_cmb': 2.7255,\n",
    "    'A_s': cosmology['10^9 As'] * 10**-9,\n",
    "    'n_s': cosmology['ns'],\n",
    "    'Omega_Lambda': 0.0,\n",
    "    'w0_fld': cosmology['w0'],\n",
    "    'wa_fld': 0.0,\n",
    "    'cs2_fld': 1.0,\n",
    "    'fluid_equation_of_state': \"CLP\"\n",
    "}\n"
   ]
  },
  {
   "cell_type": "code",
   "execution_count": 23,
   "id": "95bb12de",
   "metadata": {},
   "outputs": [],
   "source": [
    "from classy import Class"
   ]
  },
  {
   "cell_type": "code",
   "execution_count": 24,
   "id": "009ff905",
   "metadata": {},
   "outputs": [],
   "source": [
    "pkclass = Class()\n",
    "pkclass.set(cosmo_dict)\n",
    "pkclass.compute()"
   ]
  },
  {
   "cell_type": "code",
   "execution_count": 26,
   "id": "48d2955a",
   "metadata": {},
   "outputs": [],
   "source": [
    "z = 1/a - 1\n",
    "kt = np.logspace(-3, 1, 100)\n",
    "pk_m_lin = np.array(\n",
    "    [\n",
    "        pkclass.pk_lin(ki, np.array([z]))*h**3 #units of Mpc^3/h^3\n",
    "        for ki in kt * h # 1 / Mpc\n",
    "    ]\n",
    ")\n"
   ]
  },
  {
   "cell_type": "code",
   "execution_count": 30,
   "id": "0b484f37",
   "metadata": {},
   "outputs": [],
   "source": [
    "sigma = [pkclass.sigma(R_curr, z) for R_curr in R]\n",
    "sigma2s = np.square(sigma)"
   ]
  },
  {
   "cell_type": "code",
   "execution_count": 31,
   "id": "03a75434",
   "metadata": {},
   "outputs": [],
   "source": [
    "logsigma = np.log(sigma)\n",
    "logM = np.log(M_numerics)"
   ]
  },
  {
   "cell_type": "code",
   "execution_count": 34,
   "id": "c0181815",
   "metadata": {},
   "outputs": [],
   "source": [
    "from scipy.interpolate import UnivariateSpline"
   ]
  },
  {
   "cell_type": "code",
   "execution_count": 73,
   "id": "55c2d824",
   "metadata": {},
   "outputs": [],
   "source": [
    "flogsigma_logm = UnivariateSpline(logM, logsigma, s=0)"
   ]
  },
  {
   "cell_type": "code",
   "execution_count": 84,
   "id": "aa4552cc",
   "metadata": {},
   "outputs": [
    {
     "data": {
      "text/plain": [
       "<matplotlib.collections.PathCollection at 0x7fd774386670>"
      ]
     },
     "execution_count": 84,
     "metadata": {},
     "output_type": "execute_result"
    },
    {
     "data": {
      "image/png": "[encoded data removed]",
      "text/plain": [
       "<Figure size 432x288 with 1 Axes>"
      ]
     },
     "metadata": {
      "needs_background": "light"
     },
     "output_type": "display_data"
    }
   ],
   "source": [
    "x = np.linspace(0,2*np.pi,100)\n",
    "ftmp = interp1d(x, np.sin(x))\n",
    "plt.plot(x, ftmp(x))\n",
    "plt.scatter(x, np.sin(x),s = 3)"
   ]
  },
  {
   "cell_type": "code",
   "execution_count": 75,
   "id": "e88fc437",
   "metadata": {},
   "outputs": [
    {
     "data": {
      "text/plain": [
       "<matplotlib.collections.PathCollection at 0x7fd76dadde50>"
      ]
     },
     "execution_count": 75,
     "metadata": {},
     "output_type": "execute_result"
    },
    {
     "data": {
      "image/png": "[encoded data removed]",
      "text/plain": [
       "<Figure size 432x288 with 1 Axes>"
      ]
     },
     "metadata": {
      "needs_background": "light"
     },
     "output_type": "display_data"
    }
   ],
   "source": [
    "import matplotlib.pyplot as plt\n",
    "\n",
    "plt.plot(M_numerics, flogsigma_logm(logM))\n",
    "plt.scatter(M_numerics, logsigma)"
   ]
  },
  {
   "cell_type": "code",
   "execution_count": 76,
   "id": "fd83dbee",
   "metadata": {},
   "outputs": [],
   "source": [
    "# Get the first derivative of the spline\n",
    "fdlogsigma_dlogm = flogsigma_logm.derivative()\n",
    "fdlogsigmainv_dm = lambda m: -1/m * fdlogsigma_dlogm(np.log(m)) "
   ]
  },
  {
   "cell_type": "code",
   "execution_count": 77,
   "id": "3178b790",
   "metadata": {},
   "outputs": [],
   "source": [
    "from scipy.interpolate import interp1d\n",
    "#given k in units of h/Mpc gives Pk in units of Mpc^3/h^3 \n",
    "Pk = interp1d(kt, pk_m_lin, kind='linear', bounds_error=False, fill_value=0.)"
   ]
  },
  {
   "cell_type": "code",
   "execution_count": 78,
   "id": "727a95b3",
   "metadata": {},
   "outputs": [],
   "source": [
    "def dRdM(M, a):\n",
    "    return 1/(6**(2/3)*np.pi**(1/3)*M**(2/3)*rhom_a(a)**(1/3))"
   ]
  },
  {
   "cell_type": "code",
   "execution_count": 79,
   "id": "5b0caf0c",
   "metadata": {},
   "outputs": [],
   "source": [
    "from utils import *\n",
    "ds2dR = dsigma2dR(Pk, R)\n",
    "dRdMs = dRdM(M_numerics, a)\n",
    "ds2dM = ds2dR * dRdMs\n",
    "\n",
    "dlnsinvds2 = -1/(2*sigma2s)\n",
    "dlnsinvdM = ds2dM*dlnsinvds2\n",
    "\n",
    "f_dlnsinvdM_log = interp1d(np.log10(M_numerics), dlnsinvdM, kind='linear')\n",
    "f_dlnsinvdM_orig = lambda x: f_dlnsinvdM_log(np.log10(x))"
   ]
  },
  {
   "cell_type": "code",
   "execution_count": 80,
   "id": "4b480c02",
   "metadata": {},
   "outputs": [
    {
     "data": {
      "text/plain": [
       "<matplotlib.legend.Legend at 0x7fd76dfd7340>"
      ]
     },
     "execution_count": 80,
     "metadata": {},
     "output_type": "execute_result"
    },
    {
     "data": {
      "image/png": "[encoded data removed]",
      "text/plain": [
       "<Figure size 432x288 with 1 Axes>"
      ]
     },
     "metadata": {
      "needs_background": "light"
     },
     "output_type": "display_data"
    }
   ],
   "source": [
    "plt.scatter(M_numerics, fdlogsigmainv_dm(M_numerics), label='new')\n",
    "\n",
    "plt.scatter(M_numerics, f_dlnsinvdM_orig(M_numerics), label='orig')\n",
    "\n",
    "plt.xscale('log')\n",
    "plt.yscale('log')\n",
    "plt.legend(frameon=False)"
   ]
  },
  {
   "cell_type": "code",
   "execution_count": 81,
   "id": "81b9a1e5",
   "metadata": {},
   "outputs": [
    {
     "data": {
      "image/png": "[encoded data removed]",
      "text/plain": [
       "<Figure size 432x288 with 1 Axes>"
      ]
     },
     "metadata": {
      "needs_background": "light"
     },
     "output_type": "display_data"
    },
    {
     "data": {
      "image/png": "[encoded data removed]",
      "text/plain": [
       "<Figure size 432x288 with 1 Axes>"
      ]
     },
     "metadata": {
      "needs_background": "light"
     },
     "output_type": "display_data"
    }
   ],
   "source": [
    "import matplotlib.pyplot as plt\n",
    "import numpy as np\n",
    "\n",
    "# Assuming fdlogsigmainv_dm and f_dlnsinvdM_orig are your functions\n",
    "new_values = fdlogsigmainv_dm(M_numerics)\n",
    "orig_values = f_dlnsinvdM_orig(M_numerics)\n",
    "\n",
    "# Calculate the percent difference\n",
    "percent_difference = 100 * (new_values - orig_values) / orig_values\n",
    "\n",
    "# Plot the histogram\n",
    "plt.hist(percent_difference, bins=20, edgecolor='black') # You can adjust the number of bins as needed\n",
    "plt.xlabel('Percent Difference')\n",
    "plt.ylabel('Frequency')\n",
    "plt.title('Histogram of Percent Differences')\n",
    "plt.show()\n",
    "\n",
    "# Your original scatter plot\n",
    "plt.scatter(M_numerics, new_values, label='new')\n",
    "plt.scatter(M_numerics, orig_values, label='orig')\n",
    "plt.xscale('log')\n",
    "plt.yscale('log')\n",
    "plt.legend(frameon=False)\n",
    "plt.show()\n"
   ]
  },
  {
   "cell_type": "code",
   "execution_count": null,
   "id": "4cdbe994",
   "metadata": {},
   "outputs": [],
   "source": [
    "#I think theyd both work?"
   ]
  }
 ],
 "metadata": {
  "kernelspec": {
   "display_name": "massfunction",
   "language": "python",
   "name": "massfunction"
  },
  "language_info": {
   "codemirror_mode": {
    "name": "ipython",
    "version": 3
   },
   "file_extension": ".py",
   "mimetype": "text/x-python",
   "name": "python",
   "nbconvert_exporter": "python",
   "pygments_lexer": "ipython3",
   "version": "3.9.16"
  }
 },
 "nbformat": 4,
 "nbformat_minor": 5
}
