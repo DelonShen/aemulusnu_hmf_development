{
 "cells": [
  {
   "cell_type": "code",
   "execution_count": 1,
   "id": "106e0bb2",
   "metadata": {},
   "outputs": [],
   "source": [
    "box = 'Box5_1400'\n",
    "param_names = ['d','e','f','g']\n",
    "ndim = len(param_names)"
   ]
  },
  {
   "cell_type": "code",
   "execution_count": 2,
   "id": "be3a0805",
   "metadata": {},
   "outputs": [],
   "source": [
    "from utils import *\n",
    "from massfunction import *\n",
    "\n",
    "import numpy as np\n",
    "from tqdm import tqdm, trange\n",
    "import matplotlib.pyplot as plt\n",
    "import os\n",
    "import emcee\n",
    "import sys\n",
    "import numpy as np\n",
    "import pickle"
   ]
  },
  {
   "cell_type": "code",
   "execution_count": 3,
   "id": "770b825b",
   "metadata": {},
   "outputs": [],
   "source": [
    "cosmos_f = open('data/cosmo_params.pkl', 'rb')\n",
    "cosmo_params = pickle.load(cosmos_f) #cosmo_params is a dict\n",
    "cosmos_f.close()"
   ]
  },
  {
   "cell_type": "code",
   "execution_count": 4,
   "id": "5637a802",
   "metadata": {},
   "outputs": [],
   "source": [
    "cosmo = cosmo_params[box]\n",
    "mass_function = MassFunction(cosmo)"
   ]
  },
  {
   "cell_type": "code",
   "execution_count": 5,
   "id": "7a34f6ec",
   "metadata": {},
   "outputs": [],
   "source": [
    "h = cosmo['H0']/100\n",
    "\n",
    "NvM_fname = '/oak/stanford/orgs/kipac/users/delon/aemulusnu_massfunction/'+box+'_NvsM.pkl'\n",
    "NvM_f = open(NvM_fname, 'rb')\n",
    "NvMs = pickle.load(NvM_f) #NvMs is a dictionary of dictionaries\n",
    "NvM_f.close()"
   ]
  },
  {
   "cell_type": "code",
   "execution_count": 6,
   "id": "6bfaefa4",
   "metadata": {},
   "outputs": [],
   "source": [
    "a_fit = 1.0"
   ]
  },
  {
   "cell_type": "code",
   "execution_count": 7,
   "id": "348f5523",
   "metadata": {},
   "outputs": [
    {
     "name": "stderr",
     "output_type": "stream",
     "text": [
      "  0%|          | 0/1 [00:00<?, ?it/s]/home/users/delon/aemulusnu_massfunction/utils.py:36: IntegrationWarning: The maximum number of subdivisions (50) has been achieved.\n",
      "  If increasing the limit yields no improvement it is advised to analyze \n",
      "  the integrand in order to determine the difficulties.  If the position of a \n",
      "  local difficulty can be determined (singularity, discontinuity) one will \n",
      "  probably gain from splitting up the interval and calling the integrator \n",
      "  on the subranges.  Perhaps a special-purpose integrator should be used.\n",
      "  res, err = quad(dσ2dk, 0, np.inf)\n",
      "/home/users/delon/aemulusnu_massfunction/utils.py:60: IntegrationWarning: The maximum number of subdivisions (50) has been achieved.\n",
      "  If increasing the limit yields no improvement it is advised to analyze \n",
      "  the integrand in order to determine the difficulties.  If the position of a \n",
      "  local difficulty can be determined (singularity, discontinuity) one will \n",
      "  probably gain from splitting up the interval and calling the integrator \n",
      "  on the subranges.  Perhaps a special-purpose integrator should be used.\n",
      "  res, err = quad(dσ2dRdk, 0, np.inf)\n",
      "100%|██████████| 1/1 [00:04<00:00,  4.87s/it]\n"
     ]
    }
   ],
   "source": [
    "N_data = {}\n",
    "M_data = {}\n",
    "aux_data = {}\n",
    "from scipy.interpolate import interp1d, UnivariateSpline, InterpolatedUnivariateSpline\n",
    "\n",
    "\n",
    "vol = -1 #Mpc^3/h^3\n",
    "Mpart = -1\n",
    "\n",
    "for a in tqdm([a_fit]):\n",
    "    c_data = NvMs[a]\n",
    "    \n",
    "    Ms = c_data['M'] #units of h^-1 Msolar\n",
    "    N = c_data['N']\n",
    "    edge_pairs = c_data['edge_pairs']\n",
    "    assert(len(Ms) == len(edge_pairs))\n",
    "    assert(len(Ms) == len(N))\n",
    "    \n",
    "\n",
    "    if(vol==-1):\n",
    "        vol = c_data['vol']\n",
    "    assert(vol == c_data['vol'])\n",
    "\n",
    "    if(Mpart==-1):\n",
    "        Mpart = c_data['Mpart']\n",
    "    assert(Mpart == c_data['Mpart'])\n",
    "\n",
    "    N_data[a] = []\n",
    "    M_data[a] = []\n",
    "    aux_data[a] = []\n",
    "    for N_curr, M_curr, edge_pair in zip(N, Ms, edge_pairs):\n",
    "        N_data[a] += [N_curr]\n",
    "        M_data[a] += [M_curr]\n",
    "        aux_data[a] += [{'a':a, 'edge_pair':edge_pair}]\n",
    "    \n",
    "    mass_function.compute_dlnsinvdM(a)"
   ]
  },
  {
   "cell_type": "code",
   "execution_count": 8,
   "id": "267099bb",
   "metadata": {},
   "outputs": [],
   "source": [
    "a_list = list(NvMs.keys())\n",
    "\n",
    "from scipy.stats import poisson\n",
    "\n",
    "\n",
    "M_numerics = np.logspace(np.log10(100*Mpart), 17, 50)\n",
    "\n",
    "jackknife_covs_fname = '/oak/stanford/orgs/kipac/users/delon/aemulusnu_massfunction/'+box+'_jackknife_covs.pkl'\n",
    "jackknife_covs_f = open(jackknife_covs_fname, 'rb')\n",
    "jackknife = pickle.load(jackknife_covs_f)\n",
    "jackknife_covs_f.close()"
   ]
  },
  {
   "cell_type": "code",
   "execution_count": 9,
   "id": "afb0bba1",
   "metadata": {},
   "outputs": [],
   "source": [
    "jack_covs = {a:jackknife[a][1] for a in N_data}\n",
    "\n",
    "# Compute the weighted covariance matrix incorporating jackknife and poisson\n",
    "poisson_err = {a:np.sqrt(N_data[a]) for a in N_data}\n",
    "\n",
    "weighted_cov = {a: jack_covs[a] for a in jack_covs}\n",
    "\n",
    "# Inverse of the weighted covariance matrix\n",
    "inv_weighted_cov = {a:np.linalg.inv(weighted_cov[a]) for a in weighted_cov}  \n",
    "# inv_weighted_cov = {a:np.diag([1 for _ in range(len(weighted_cov[a]))]) for a in weighted_cov}  \n",
    "\n",
    "scale_cov = {a:np.log(np.linalg.det(weighted_cov[a])) for a in weighted_cov}"
   ]
  },
  {
   "cell_type": "code",
   "execution_count": 10,
   "id": "457bde87",
   "metadata": {},
   "outputs": [],
   "source": [
    "def uniform_log_prior(param_values):\n",
    "    #uniform prior\n",
    "    for param in param_values:\n",
    "        if(param < 0 or param > 10):\n",
    "            return -np.inf\n",
    "    return 0"
   ]
  },
  {
   "cell_type": "code",
   "execution_count": null,
   "id": "fa8070a5",
   "metadata": {},
   "outputs": [],
   "source": []
  },
  {
   "cell_type": "code",
   "execution_count": 11,
   "id": "e2eb1541",
   "metadata": {},
   "outputs": [
    {
     "data": {
      "text/plain": [
       "<matplotlib.image.AxesImage at 0x7f4b613397c0>"
      ]
     },
     "execution_count": 11,
     "metadata": {},
     "output_type": "execute_result"
    },
    {
     "data": {
      "image/png": "[encoded data removed]",
      "text/plain": [
       "<Figure size 432x288 with 1 Axes>"
      ]
     },
     "metadata": {
      "needs_background": "light"
     },
     "output_type": "display_data"
    }
   ],
   "source": [
    "plt.imshow(np.log(weighted_cov[a]))"
   ]
  },
  {
   "cell_type": "code",
   "execution_count": 12,
   "id": "edee98d3",
   "metadata": {},
   "outputs": [
    {
     "name": "stderr",
     "output_type": "stream",
     "text": [
      "/tmp/ipykernel_14360/4174462246.py:1: RuntimeWarning: invalid value encountered in log\n",
      "  plt.imshow(np.log(inv_weighted_cov[a]))\n"
     ]
    },
    {
     "data": {
      "text/plain": [
       "<matplotlib.image.AxesImage at 0x7f4b5007bfd0>"
      ]
     },
     "execution_count": 12,
     "metadata": {},
     "output_type": "execute_result"
    },
    {
     "data": {
      "image/png": "[encoded data removed]",
      "text/plain": [
       "<Figure size 432x288 with 1 Axes>"
      ]
     },
     "metadata": {
      "needs_background": "light"
     },
     "output_type": "display_data"
    }
   ],
   "source": [
    "plt.imshow(np.log(inv_weighted_cov[a]))"
   ]
  },
  {
   "cell_type": "code",
   "execution_count": 13,
   "id": "43c88c31",
   "metadata": {
    "scrolled": false
   },
   "outputs": [
    {
     "name": "stdout",
     "output_type": "stream",
     "text": [
      "(22,)\n",
      "asdf 146525.32718771152\n",
      "-73290.26127817812\n",
      "[0.]\n"
     ]
    },
    {
     "ename": "NameError",
     "evalue": "name 'result' is not defined",
     "output_type": "error",
     "traceback": [
      "\u001b[0;31m---------------------------------------------------------------------------\u001b[0m",
      "\u001b[0;31mNameError\u001b[0m                                 Traceback (most recent call last)",
      "\u001b[0;32m/tmp/ipykernel_14360/9216536.py\u001b[0m in \u001b[0;36m<module>\u001b[0;34m\u001b[0m\n\u001b[1;32m     34\u001b[0m \u001b[0mASDF\u001b[0m \u001b[0;34m=\u001b[0m \u001b[0mnp\u001b[0m\u001b[0;34m.\u001b[0m\u001b[0msum\u001b[0m\u001b[0;34m(\u001b[0m\u001b[0mlog_probs\u001b[0m\u001b[0;34m)\u001b[0m\u001b[0;34m\u001b[0m\u001b[0;34m\u001b[0m\u001b[0m\n\u001b[1;32m     35\u001b[0m \u001b[0;34m\u001b[0m\u001b[0m\n\u001b[0;32m---> 36\u001b[0;31m \u001b[0mparams\u001b[0m \u001b[0;34m=\u001b[0m \u001b[0mdict\u001b[0m\u001b[0;34m(\u001b[0m\u001b[0mzip\u001b[0m\u001b[0;34m(\u001b[0m\u001b[0mparam_names\u001b[0m\u001b[0;34m,\u001b[0m \u001b[0mresult\u001b[0m\u001b[0;34m[\u001b[0m\u001b[0;34m'x'\u001b[0m\u001b[0;34m]\u001b[0m\u001b[0;34m)\u001b[0m\u001b[0;34m)\u001b[0m\u001b[0;34m\u001b[0m\u001b[0;34m\u001b[0m\u001b[0m\n\u001b[0m\u001b[1;32m     37\u001b[0m \u001b[0;34m\u001b[0m\u001b[0m\n\u001b[1;32m     38\u001b[0m \u001b[0mtinker_fs\u001b[0m \u001b[0;34m=\u001b[0m \u001b[0;34m{\u001b[0m\u001b[0;34m}\u001b[0m\u001b[0;34m\u001b[0m\u001b[0;34m\u001b[0m\u001b[0m\n",
      "\u001b[0;31mNameError\u001b[0m: name 'result' is not defined"
     ]
    },
    {
     "data": {
      "image/png": "[encoded data removed]",
      "text/plain": [
       "<Figure size 432x288 with 1 Axes>"
      ]
     },
     "metadata": {
      "needs_background": "light"
     },
     "output_type": "display_data"
    }
   ],
   "source": [
    "tmp_params = {'d': 0.43, 'e': 1.1152988509826565, 'f': 2.4674894021012355, 'g': 1.3297850427931441}\n",
    "\n",
    "params = tmp_params\n",
    "\n",
    "tinker_fs = {}\n",
    "\n",
    "for a in N_data:\n",
    "    tinker_eval = [mass_function.tinker(a, M_c, **params)*vol for M_c in M_numerics]\n",
    "    f_dndlogM = interp1d(M_numerics, tinker_eval, kind='linear', bounds_error=False, fill_value=0.)\n",
    "    tinker_fs[a] = f_dndlogM\n",
    "\n",
    "model_vals = {}\n",
    "for a in N_data:\n",
    "    if(scaleToRedshift(a) >=2):\n",
    "        continue\n",
    "    model_vals[a] = np.array([quad(tinker_fs[a], edge_pair[0], edge_pair[1], epsabs=1e-1)[0]\n",
    "        for edge_pair in NvMs[a]['edge_pairs']\n",
    "    ])\n",
    "\n",
    "\n",
    "residuals = {a: model_vals[a]-N_data[a] for a in model_vals}\n",
    "print(residuals[a].shape)\n",
    "print('asdf', np.dot(np.dot(residuals[a].T, inv_weighted_cov[a]), residuals[a]))\n",
    "ASDF = []\n",
    "for i in range(len(residuals[a])):\n",
    "    for j in range(len(residuals[a])):\n",
    "#         print(residuals[a][i], residuals[a][j])\n",
    "        ASDF += [residuals[a][i] * residuals[a][j] * inv_weighted_cov[a][i][j]]\n",
    "plt.plot(ASDF)\n",
    "log_probs = [ -0.5 * (np.dot(np.dot(residuals[a].T, inv_weighted_cov[a]), residuals[a]) + scale_cov[a]) \n",
    "             for a in model_vals]\n",
    "print(np.sum(log_probs))\n",
    "print(np.exp(log_probs))\n",
    "ASDF = np.sum(log_probs)\n",
    "\n",
    "params = dict(zip(param_names, result['x']))\n",
    "\n",
    "tinker_fs = {}\n",
    "\n",
    "for a in N_data:\n",
    "    tinker_eval = [mass_function.tinker(a, M_c, **params)*vol for M_c in M_numerics]\n",
    "    f_dndlogM = interp1d(M_numerics, tinker_eval, kind='linear', bounds_error=False, fill_value=0.)\n",
    "    tinker_fs[a] = f_dndlogM\n",
    "\n",
    "model_vals = {}\n",
    "for a in N_data:\n",
    "    if(scaleToRedshift(a) >=2):\n",
    "        continue\n",
    "    model_vals[a] = np.array([quad(tinker_fs[a], edge_pair[0], edge_pair[1], epsabs=1e-1)[0]\n",
    "        for edge_pair in NvMs[a]['edge_pairs']\n",
    "    ])\n",
    "\n",
    "\n",
    "residuals = {a: model_vals[a]-N_data[a] for a in model_vals}\n",
    "\n",
    "ASDF2 = []\n",
    "for i in range(len(residuals[a])):\n",
    "    for j in range(len(residuals[a])):\n",
    "#         print(residuals[a][i], residuals[a][j])\n",
    "        ASDF2 += [residuals[a][i] * residuals[a][j] * inv_weighted_cov[a][i][j]]\n",
    "plt.plot(ASDF2, alpha=0.55)\n",
    "\n",
    "print('asdf', np.dot(np.dot(residuals[a].T, inv_weighted_cov[a]), residuals[a]))\n",
    "log_probs = [ -0.5 * (np.dot(np.dot(residuals[a].T, inv_weighted_cov[a]), residuals[a]) ) \n",
    "             for a in model_vals]\n",
    "print(np.sum(log_probs))\n",
    "print(np.exp(log_probs))\n",
    "\n",
    "# plt.xscale('log')\n",
    "print(len(residuals[a]))\n",
    "plt.yscale('symlog', linscale=1e-20)\n",
    "plt.legend()\n",
    "plt.xlim(-1,56)\n",
    "# plt.axvline(0)\n",
    "# plt.axvline(23)\n",
    "# plt.axvline(46)\n",
    "print((ASDF)> np.sum(log_probs))"
   ]
  },
  {
   "cell_type": "code",
   "execution_count": 14,
   "id": "7347482f",
   "metadata": {},
   "outputs": [],
   "source": [
    "def is_positive_definite(matrix):\n",
    "    # Check if the matrix is square\n",
    "    if matrix.shape[0] != matrix.shape[1]:\n",
    "        return False\n",
    "    \n",
    "    # Check if the matrix is symmetric\n",
    "    if not np.allclose(matrix, matrix.T):\n",
    "        return False\n",
    "\n",
    "    # Check if all eigenvalues are positive\n",
    "    eigenvalues, _ = np.linalg.eig(matrix)\n",
    "    if np.all(eigenvalues > 0):\n",
    "        return True\n",
    "    else:\n",
    "        return False"
   ]
  },
  {
   "cell_type": "code",
   "execution_count": 15,
   "id": "f0de92d8",
   "metadata": {},
   "outputs": [
    {
     "data": {
      "text/plain": [
       "True"
      ]
     },
     "execution_count": 15,
     "metadata": {},
     "output_type": "execute_result"
    }
   ],
   "source": [
    "is_positive_definite(inv_weighted_cov[a])"
   ]
  },
  {
   "cell_type": "code",
   "execution_count": 16,
   "id": "a741f575",
   "metadata": {},
   "outputs": [
    {
     "data": {
      "text/plain": [
       "True"
      ]
     },
     "execution_count": 16,
     "metadata": {},
     "output_type": "execute_result"
    }
   ],
   "source": [
    "is_positive_definite(weighted_cov[a])"
   ]
  },
  {
   "cell_type": "code",
   "execution_count": 17,
   "id": "539b67f5",
   "metadata": {},
   "outputs": [],
   "source": [
    "def log_prob(param_values):   \n",
    "    \"\"\"\n",
    "    Calculates the probability of the given tinker parameters \n",
    "    \n",
    "    Args:\n",
    "        param_values (np.ndarray): Input array of shape (number of params).\n",
    "        \n",
    "    Returns:\n",
    "        float: Resulting log probability\n",
    "    \"\"\"\n",
    "\n",
    "    if(uniform_log_prior(param_values) == -np.inf):\n",
    "        return -np.inf\n",
    "\n",
    "    params = dict(zip(param_names, param_values))\n",
    "\n",
    "    tinker_fs = {}\n",
    "    \n",
    "    for a in N_data:\n",
    "        tinker_eval = [mass_function.tinker(a, M_c, **params)*vol for M_c in M_numerics]\n",
    "        f_dndlogM = interp1d(M_numerics, tinker_eval, kind='linear', bounds_error=False, fill_value=0.)\n",
    "        tinker_fs[a] = f_dndlogM\n",
    "        \n",
    "    model_vals = {}\n",
    "    for a in N_data:\n",
    "        if(scaleToRedshift(a) >=2):\n",
    "            continue\n",
    "        model_vals[a] = np.array([quad(tinker_fs[a], edge_pair[0], edge_pair[1], epsabs=1e-1)[0]\n",
    "            for edge_pair in NvMs[a]['edge_pairs']\n",
    "        ])\n",
    "    \n",
    "    \n",
    "    residuals = {a: model_vals[a]-N_data[a] for a in model_vals}\n",
    "    log_probs = [ -0.5 * (np.dot(np.dot(residuals[a].T, inv_weighted_cov[a]), residuals[a]) + scale_cov[a]) \n",
    "                 for a in model_vals]\n",
    "    if not np.isfinite(np.sum(log_probs)): \n",
    "        return -np.inf\n",
    "    return np.sum(log_probs)\n"
   ]
  },
  {
   "cell_type": "code",
   "execution_count": 18,
   "id": "fd388f81",
   "metadata": {},
   "outputs": [],
   "source": [
    "def log_likelihood(param_values):\n",
    "    lp = uniform_log_prior(param_values)\n",
    "    if not np.isfinite(lp):\n",
    "        return -np.inf\n",
    "    return lp + log_prob(param_values)"
   ]
  },
  {
   "cell_type": "code",
   "execution_count": 19,
   "id": "16676cdd",
   "metadata": {},
   "outputs": [],
   "source": [
    "guess = np.random.uniform(low=0, high=5, size=(len(param_names)))"
   ]
  },
  {
   "cell_type": "code",
   "execution_count": 23,
   "id": "59060dd0",
   "metadata": {
    "scrolled": true
   },
   "outputs": [
    {
     "name": "stdout",
     "output_type": "stream",
     "text": [
      "Starting ML Fit\n",
      "Box5_1400\n",
      "       message: Optimization terminated successfully.\n",
      "       success: True\n",
      "        status: 0\n",
      "           fun: 35034.77245014451\n",
      "             x: [ 2.024e+00  1.642e+00  2.986e-01  1.441e+00]\n",
      "           nit: 179\n",
      "          nfev: 304\n",
      " final_simplex: (array([[ 2.024e+00,  1.642e+00,  2.986e-01,  1.441e+00],\n",
      "                       [ 2.024e+00,  1.642e+00,  2.986e-01,  1.441e+00],\n",
      "                       ...,\n",
      "                       [ 2.024e+00,  1.642e+00,  2.986e-01,  1.441e+00],\n",
      "                       [ 2.024e+00,  1.642e+00,  2.986e-01,  1.441e+00]]), array([ 3.503e+04,  3.503e+04,  3.503e+04,  3.503e+04,\n",
      "                        3.503e+04]))\n",
      "   param_names: ['d', 'e', 'f', 'g']\n",
      "[2.02444629 1.64217447 0.29861527 1.44091678]\n"
     ]
    }
   ],
   "source": [
    "print('Starting ML Fit')\n",
    "#Start by sampling with a maximum likelihood approach\n",
    "from scipy import optimize as optimize\n",
    "nll = lambda *args: -log_likelihood(*args)\n",
    "result = optimize.minimize(nll, guess, method=\"Nelder-Mead\", \n",
    "                           bounds = [(0,10) for _ in range(ndim)],\n",
    "                           options={\n",
    "                               'maxiter': len(guess)*10000})\n",
    "result['param_names'] = param_names\n",
    "print(box)\n",
    "print(result)\n",
    "print(result['x'])"
   ]
  },
  {
   "cell_type": "code",
   "execution_count": 24,
   "id": "5262a4a1",
   "metadata": {},
   "outputs": [
    {
     "name": "stdout",
     "output_type": "stream",
     "text": [
      "{'d': 2.0244462886278765, 'e': 1.6421744701682843, 'f': 0.29861527181325165, 'g': 1.4409167845064725}\n"
     ]
    }
   ],
   "source": [
    "MLE_params = dict(zip(param_names, result['x']))\n",
    "print(MLE_params)"
   ]
  },
  {
   "cell_type": "code",
   "execution_count": 25,
   "id": "f7a1686c",
   "metadata": {},
   "outputs": [
    {
     "data": {
      "text/plain": [
       "[<matplotlib.axis.YTick at 0x7f4b50047e80>,\n",
       " <matplotlib.axis.YTick at 0x7f4b50032580>,\n",
       " <matplotlib.axis.YTick at 0x7f4b5000b970>]"
      ]
     },
     "execution_count": 25,
     "metadata": {},
     "output_type": "execute_result"
    },
    {
     "data": {
      "image/png": "[encoded data removed]",
      "text/plain": [
       "<Figure size 864x504 with 2 Axes>"
      ]
     },
     "metadata": {
      "needs_background": "light"
     },
     "output_type": "display_data"
    }
   ],
   "source": [
    "yerr_dict = {a:np.sqrt(np.diagonal(weighted_cov[a])) for a in weighted_cov} \n",
    "c_params = MLE_params\n",
    "a = a_fit\n",
    "\n",
    "fig1 = plt.figure(figsize =(12, 7))\n",
    "\n",
    "axs=[fig1.add_axes((0.0,0.4,1,.6)), fig1.add_axes((0.0,0.0,1,.4))]\n",
    "plt.subplots_adjust(wspace=0, hspace=0)\n",
    "Pk = mass_function.Pka[a]\n",
    "c_data = NvMs[a]\n",
    "\n",
    "Ms = M_data[a]\n",
    "N = N_data[a]\n",
    "edge_pairs = c_data['edge_pairs']\n",
    "\n",
    "edges = [edge[0] for edge in edge_pairs]\n",
    "edges += [edge_pairs[-1][1]]\n",
    "\n",
    "yerr = yerr_dict[a]\n",
    "dM = np.array([edges[1]-edges[0] for edges in edge_pairs])\n",
    "\n",
    "\n",
    "tinker_eval_MCMC = [mass_function.tinker(a, M_c, **c_params)*vol for M_c in M_numerics]\n",
    "f_dndM_MCMC =  interp1d(M_numerics, tinker_eval_MCMC, kind='linear', bounds_error=False, fill_value=0.)\n",
    "\n",
    "tinker_eval_MCMC = np.array([quad(f_dndM_MCMC, edge[0],  edge[1])[0] for edge in edge_pairs])\n",
    "\n",
    "\n",
    "\n",
    "axs[0].errorbar(Ms, N, yerr, fmt='+', c='black')\n",
    "axs[0].scatter(Ms, tinker_eval_MCMC, s=50 , marker='x', c='blue')\n",
    "\n",
    "edges = np.array(edges)\n",
    "axs[0].bar(x=edges[:-1], height=N, width=np.diff(edges),\n",
    "           align='edge', fill=False, ec='black', label='Data')\n",
    "axs[0].bar(x=edges[:-1], height=tinker_eval_MCMC, width=np.diff(edges), align='edge', fill=False, ec='blue', label='Tinker')\n",
    "axs[1].errorbar(Ms, (tinker_eval_MCMC-N)/N, yerr/N, fmt='x', color='blue')\n",
    "\n",
    "y1 = 0.1*np.ones_like(N)\n",
    "y1 = np.append(y1, y1[-1])\n",
    "y1 = np.append(y1[0], y1)\n",
    "\n",
    "y2 = -0.1*np.ones_like(N)\n",
    "y2 = np.append(y2, y2[-1])\n",
    "y2 = np.append(y2[0], y2)\n",
    "\n",
    "c_Ms = np.append(Ms, edges[-1])\n",
    "c_Ms = np.append(edges[0], c_Ms)\n",
    "axs[1].fill_between(c_Ms, y1, y2, alpha=1, color='0.95',label='<10% Error')\n",
    "\n",
    "y1 = 0.01*np.ones_like(N)\n",
    "y1 = np.append(y1, y1[-1])\n",
    "y1 = np.append(y1[0], y1)\n",
    "\n",
    "y2 = -0.01*np.ones_like(N)\n",
    "y2 = np.append(y2, y2[-1])\n",
    "y2 = np.append(y2[0], y2)\n",
    "\n",
    "axs[1].fill_between(c_Ms, y1, y2, alpha=1, color='0.85',label='<1% Error')\n",
    "\n",
    "\n",
    "axs[0].set_xscale('log')\n",
    "axs[0].set_yscale('log')\n",
    "axs[0].legend(frameon=False)\n",
    "axs[0].set_ylabel('N')\n",
    "\n",
    "axs[1].set_xscale('log')\n",
    "# axs[1].set_yscale('lin', linthresh=1e-2)    \n",
    "axs[1].legend(frameon=False)\n",
    "axs[1].axhline(0, c='black')\n",
    "axs[1].set_ylabel('N')\n",
    "axs[1].set_xlabel(r'Mass $[h^{-1}M_\\odot]$')\n",
    "axs[1].set_ylabel(r'$\\frac{N_{\\rm Tinker}-N_{\\rm data}}{N_{\\rm data}} $')\n",
    "axs[0].set_title('%s, a=%.2f, z=%.2f'%(box, a, scaleToRedshift(a)))\n",
    "axs[0].set_ylim(20, 2e5)\n",
    "axs[0].set_xlim((1e13, np.max(edges)))\n",
    "axs[1].set_xlim((1e13, np.max(edges)))\n",
    "axs[1].set_ylim((-.19, .19))\n",
    "axs[1].set_yticks([-.1, 0, .1])\n",
    "# plt.savefig('/oak/stanford/orgs/kipac/users/delon/aemulusnu_massfunction/figures/%s_fit_%.2f.pdf'%(box, a), bbox_inches='tight')"
   ]
  },
  {
   "cell_type": "code",
   "execution_count": null,
   "id": "77f4fe8f",
   "metadata": {
    "scrolled": true
   },
   "outputs": [],
   "source": [
    "print(log_likelihood([0.43, 1.1152988509826565, 2.4674894021012355,  1.3297850427931441])) #ffrom n50_0\n",
    "print(log_likelihood(result['x']))"
   ]
  },
  {
   "cell_type": "code",
   "execution_count": null,
   "id": "50025675",
   "metadata": {},
   "outputs": [],
   "source": [
    "nwalkers = 64\n",
    "ndim = len(param_names)\n",
    "\n",
    "initialpos = np.array([result['x'] for _ in range(nwalkers)]) + 1e-2 * np.random.normal(size=(nwalkers, ndim))\n",
    "\n",
    "\n",
    "from multiprocessing import Pool\n",
    "\n",
    "sampler = emcee.EnsembleSampler(\n",
    "    nwalkers = nwalkers,\n",
    "    ndim = ndim,\n",
    "    log_prob_fn = log_likelihood,\n",
    "    pool=Pool()\n",
    ")\n",
    "\n",
    "sampler.run_mcmc(initialpos, 1000, progress=True);"
   ]
  },
  {
   "cell_type": "code",
   "execution_count": null,
   "id": "137365dc",
   "metadata": {},
   "outputs": [],
   "source": [
    "labels = param_names\n",
    "\n",
    "import corner\n",
    "samples = sampler.chain[:, 500:, :].reshape((-1, ndim))\n",
    "final_param_vals = np.percentile(samples,  50,axis=0)\n",
    "params_final = dict(zip(param_names, final_param_vals))\n",
    "fig = corner.corner(samples, labels=labels, quantiles=[0.16, 0.5, 0.84],show_titles=True,)\n",
    "\n",
    "# plt.savefig('/oak/stanford/orgs/kipac/users/delon/aemulusnu_massfunction/figures/%s_MCMC_corner.pdf'%(box), bbox_inches='tight')"
   ]
  },
  {
   "cell_type": "code",
   "execution_count": null,
   "id": "9cac80ef",
   "metadata": {},
   "outputs": [],
   "source": [
    "labels = param_names\n",
    "\n",
    "fig, axes = plt.subplots(ndim, figsize=(10, 30), sharex=True)\n",
    "samples = sampler.get_chain()\n",
    "print(np.shape(samples))\n",
    "for i in range(ndim):\n",
    "    ax = axes[i]\n",
    "    ax.plot(samples[:, :, i], \"k\", alpha=0.1)\n",
    "    ax.set_xlim(0, len(samples))\n",
    "    ax.set_ylabel(labels[i])\n",
    "    ax.yaxis.set_label_coords(-0.1, 0.5)\n",
    "    ax.axhline(result['x'][i], color='red')\n",
    "    ax.axhline(final_param_vals[i], color='blue')\n",
    "axes[-1].set_xlabel(\"step number\");\n",
    "\n",
    "# plt.savefig('/oak/stanford/orgs/kipac/users/delon/aemulusnu_massfunction/figures/%s_MCMC_convergence.pdf'%(box), bbox_inches='tight')"
   ]
  },
  {
   "cell_type": "code",
   "execution_count": 89,
   "id": "1c44113b",
   "metadata": {},
   "outputs": [
    {
     "data": {
      "text/plain": [
       "[<matplotlib.axis.YTick at 0x7f80b412ff70>,\n",
       " <matplotlib.axis.YTick at 0x7f80b412fd90>,\n",
       " <matplotlib.axis.YTick at 0x7f80b41a2e50>]"
      ]
     },
     "execution_count": 89,
     "metadata": {},
     "output_type": "execute_result"
    },
    {
     "data": {
      "image/png": "[encoded data removed]",
      "text/plain": [
       "<Figure size 864x504 with 2 Axes>"
      ]
     },
     "metadata": {
      "needs_background": "light"
     },
     "output_type": "display_data"
    }
   ],
   "source": [
    "yerr_dict = {a:np.sqrt(np.diagonal(weighted_cov[a])) for a in weighted_cov} \n",
    "c_params = {'d': 0.43, 'e': 1.1152988509826565, 'f': 2.4674894021012355, 'g': 1.3297850427931441}\n",
    "a = a_fit\n",
    "\n",
    "fig1 = plt.figure(figsize =(12, 7))\n",
    "\n",
    "axs=[fig1.add_axes((0.0,0.4,1,.6)), fig1.add_axes((0.0,0.0,1,.4))]\n",
    "plt.subplots_adjust(wspace=0, hspace=0)\n",
    "Pk = mass_function.Pka[a]\n",
    "c_data = NvMs[a]\n",
    "\n",
    "Ms = M_data[a]\n",
    "N = N_data[a]\n",
    "edge_pairs = c_data['edge_pairs']\n",
    "\n",
    "edges = [edge[0] for edge in edge_pairs]\n",
    "edges += [edge_pairs[-1][1]]\n",
    "\n",
    "yerr = yerr_dict[a]\n",
    "dM = np.array([edges[1]-edges[0] for edges in edge_pairs])\n",
    "\n",
    "\n",
    "tinker_eval_MCMC = [mass_function.tinker(a, M_c, **c_params)*vol for M_c in M_numerics]\n",
    "#             print(tinker_eval_MCMC)\n",
    "\n",
    "#             f_dndM_MCMC_LOG = interp1d(np.log10(M_numerics), tinker_eval_MCMC, kind='linear', bounds_error=False, fill_value=0.)\n",
    "#             f_dndM_MCMC = lambda x:f_dndM_MCMC_LOG(np.log10(x))\n",
    "f_dndM_MCMC =  interp1d(M_numerics, tinker_eval_MCMC, kind='linear', bounds_error=False, fill_value=0.)\n",
    "\n",
    "tinker_eval_MCMC = np.array([quad(f_dndM_MCMC, edge[0],  edge[1])[0] for edge in edge_pairs])\n",
    "\n",
    "\n",
    "\n",
    "axs[0].errorbar(Ms, N, yerr, fmt='+', c='black')\n",
    "axs[0].scatter(Ms, tinker_eval_MCMC, s=50 , marker='x', c='blue')\n",
    "\n",
    "edges = np.array(edges)\n",
    "axs[0].bar(x=edges[:-1], height=N, width=np.diff(edges),\n",
    "           align='edge', fill=False, ec='black', label='Data')\n",
    "axs[0].bar(x=edges[:-1], height=tinker_eval_MCMC, width=np.diff(edges), align='edge', fill=False, ec='blue', label='Tinker')\n",
    "axs[1].errorbar(Ms, (tinker_eval_MCMC-N)/N, yerr/N, fmt='x', color='blue')\n",
    "\n",
    "y1 = 0.1*np.ones_like(N)\n",
    "y1 = np.append(y1, y1[-1])\n",
    "y1 = np.append(y1[0], y1)\n",
    "\n",
    "y2 = -0.1*np.ones_like(N)\n",
    "y2 = np.append(y2, y2[-1])\n",
    "y2 = np.append(y2[0], y2)\n",
    "\n",
    "c_Ms = np.append(Ms, edges[-1])\n",
    "c_Ms = np.append(edges[0], c_Ms)\n",
    "axs[1].fill_between(c_Ms, y1, y2, alpha=1, color='0.95',label='<10% Error')\n",
    "\n",
    "y1 = 0.01*np.ones_like(N)\n",
    "y1 = np.append(y1, y1[-1])\n",
    "y1 = np.append(y1[0], y1)\n",
    "\n",
    "y2 = -0.01*np.ones_like(N)\n",
    "y2 = np.append(y2, y2[-1])\n",
    "y2 = np.append(y2[0], y2)\n",
    "\n",
    "axs[1].fill_between(c_Ms, y1, y2, alpha=1, color='0.85',label='<1% Error')\n",
    "\n",
    "\n",
    "axs[0].set_xscale('log')\n",
    "axs[0].set_yscale('log')\n",
    "axs[0].legend(frameon=False)\n",
    "axs[0].set_ylabel('N')\n",
    "\n",
    "axs[1].set_xscale('log')\n",
    "# axs[1].set_yscale('symlog', linthresh=1e-2)    \n",
    "axs[1].legend(frameon=False)\n",
    "axs[1].axhline(0, c='black')\n",
    "axs[1].set_ylabel('N')\n",
    "axs[1].set_xlabel(r'Mass $[h^{-1}M_\\odot]$')\n",
    "axs[1].set_ylabel(r'$\\frac{N_{\\rm Tinker}-N_{\\rm data}}{N_{\\rm data}} $')\n",
    "axs[0].set_title('%s, a=%.2f, z=%.2f'%(box, a, scaleToRedshift(a)))\n",
    "\n",
    "axs[0].set_xlim((1e13, np.max(edges)))\n",
    "axs[1].set_xlim((1e13, np.max(edges)))\n",
    "axs[1].set_ylim((-.19, .19))\n",
    "axs[1].set_yticks([-.1, 0, .1])\n",
    "# plt.savefig('/oak/stanford/orgs/kipac/users/delon/aemulusnu_massfunction/figures/%s_fit_%.2f.pdf'%(box, a), bbox_inches='tight')"
   ]
  },
  {
   "cell_type": "code",
   "execution_count": null,
   "id": "1e47fc35",
   "metadata": {},
   "outputs": [],
   "source": [
    "with open(\"/oak/stanford/orgs/kipac/users/delon/aemulusnu_massfunction/%s_%.2f_MCMC_sampler.pkl\"%(box, a_fit), \"wb\") as f:\n",
    "    pickle.dump(sampler, f)"
   ]
  },
  {
   "cell_type": "code",
   "execution_count": null,
   "id": "ce58e735",
   "metadata": {},
   "outputs": [],
   "source": [
    "with open(\"/oak/stanford/orgs/kipac/users/delon/aemulusnu_massfunction/%s_%.2f_params.pkl\"%(box, a_fit), \"wb\") as f:\n",
    "    pickle.dump(params_final, f)"
   ]
  },
  {
   "cell_type": "code",
   "execution_count": null,
   "id": "72100004",
   "metadata": {},
   "outputs": [],
   "source": [
    "params_final.values()"
   ]
  },
  {
   "cell_type": "code",
   "execution_count": null,
   "id": "65641d28",
   "metadata": {},
   "outputs": [],
   "source": []
  }
 ],
 "metadata": {
  "kernelspec": {
   "display_name": "massfunction",
   "language": "python",
   "name": "massfunction"
  },
  "language_info": {
   "codemirror_mode": {
    "name": "ipython",
    "version": 3
   },
   "file_extension": ".py",
   "mimetype": "text/x-python",
   "name": "python",
   "nbconvert_exporter": "python",
   "pygments_lexer": "ipython3",
   "version": "3.9.16"
  }
 },
 "nbformat": 4,
 "nbformat_minor": 5
}
