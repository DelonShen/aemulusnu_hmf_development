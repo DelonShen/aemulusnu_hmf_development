{
 "cells": [
  {
   "cell_type": "code",
   "execution_count": null,
   "id": "6803eda5",
   "metadata": {},
   "outputs": [],
   "source": []
  },
  {
   "cell_type": "code",
   "execution_count": 1,
   "id": "ebc1522c",
   "metadata": {},
   "outputs": [],
   "source": [
    "import numpy as np\n",
    "from scipy.stats import binned_statistic\n",
    "from tqdm import tqdm, trange\n",
    "import seaborn\n",
    "import matplotlib.pyplot as plt\n",
    "import os\n",
    "import sys\n",
    "\n",
    "\n",
    "# box = sys.argv[1]\n",
    "box = 'Box_n50_0_1400'\n",
    "curr_run_fname = '/oak/stanford/orgs/kipac/aemulus/aemulus_nu/%s/'%(box)\n",
    "rockstar_dir = curr_run_fname+'output/rockstar/'\n",
    "\n",
    "f = open(rockstar_dir+'savelist.txt', 'r')\n",
    "savelist = f.read().split()\n",
    "f.close()\n",
    "\n",
    "N_snapshots = len(savelist)\n",
    "\n",
    "i=0\n",
    "\n",
    "import pickle\n",
    "\n",
    "NvMs = {}"
   ]
  },
  {
   "cell_type": "code",
   "execution_count": 2,
   "id": "40e58497",
   "metadata": {},
   "outputs": [],
   "source": [
    "NvM_fname = '/oak/stanford/orgs/kipac/users/delon/aemulusnu_massfunction/'+box+'_NvsM.pkl'\n",
    "NvM_f = open(NvM_fname, 'rb')\n",
    "NvMs = pickle.load(NvM_f)\n",
    "NvM_f.close()\n"
   ]
  },
  {
   "cell_type": "code",
   "execution_count": 3,
   "id": "f4e0041b",
   "metadata": {},
   "outputs": [
    {
     "name": "stdout",
     "output_type": "stream",
     "text": [
      "0.25 0 15\n",
      "2974588 15\n",
      "2974588 2974588\n"
     ]
    },
    {
     "name": "stderr",
     "output_type": "stream",
     "text": [
      "100%|██████████| 512/512 [00:01<00:00, 392.27it/s]\n"
     ]
    },
    {
     "name": "stdout",
     "output_type": "stream",
     "text": [
      "0.302679 0 15\n",
      "5155478 15\n",
      "5155478 5155478\n"
     ]
    },
    {
     "name": "stderr",
     "output_type": "stream",
     "text": [
      "100%|██████████| 512/512 [00:02<00:00, 220.82it/s]\n"
     ]
    },
    {
     "name": "stdout",
     "output_type": "stream",
     "text": [
      "0.366459 0 15\n",
      "7272025 15\n",
      "7272025 7272025\n"
     ]
    },
    {
     "name": "stderr",
     "output_type": "stream",
     "text": [
      "100%|██████████| 512/512 [00:03<00:00, 147.31it/s]\n"
     ]
    },
    {
     "name": "stdout",
     "output_type": "stream",
     "text": [
      "0.403224 0 15\n",
      "8161926 15\n",
      "8161926 8161926\n"
     ]
    },
    {
     "name": "stderr",
     "output_type": "stream",
     "text": [
      "100%|██████████| 512/512 [00:03<00:00, 128.43it/s]\n"
     ]
    },
    {
     "name": "stdout",
     "output_type": "stream",
     "text": [
      "0.488191 0 15\n",
      "9484544 15\n",
      "9484544 9484544\n"
     ]
    },
    {
     "name": "stderr",
     "output_type": "stream",
     "text": [
      "100%|██████████| 512/512 [00:04<00:00, 109.93it/s]\n"
     ]
    },
    {
     "name": "stdout",
     "output_type": "stream",
     "text": [
      "0.512095 0 15\n",
      "9717372 15\n",
      "9717372 9717372\n"
     ]
    },
    {
     "name": "stderr",
     "output_type": "stream",
     "text": [
      "100%|██████████| 512/512 [00:04<00:00, 103.71it/s]\n"
     ]
    },
    {
     "name": "stdout",
     "output_type": "stream",
     "text": [
      "0.537169 0 15\n",
      "9914355 15\n",
      "9914355 9914355\n"
     ]
    },
    {
     "name": "stderr",
     "output_type": "stream",
     "text": [
      "100%|██████████| 512/512 [00:05<00:00, 99.65it/s] \n"
     ]
    },
    {
     "name": "stdout",
     "output_type": "stream",
     "text": [
      "0.563471 0 15\n",
      "10075550 15\n",
      "10075550 10075550\n"
     ]
    },
    {
     "name": "stderr",
     "output_type": "stream",
     "text": [
      "100%|██████████| 512/512 [00:05<00:00, 98.69it/s] \n"
     ]
    },
    {
     "name": "stdout",
     "output_type": "stream",
     "text": [
      "0.591061 0 15\n",
      "10204562 15\n",
      "10204562 10204562\n"
     ]
    },
    {
     "name": "stderr",
     "output_type": "stream",
     "text": [
      "100%|██████████| 512/512 [00:05<00:00, 100.88it/s]\n"
     ]
    },
    {
     "name": "stdout",
     "output_type": "stream",
     "text": [
      "0.620002 0 15\n",
      "10304264 15\n",
      "10304264 10304264\n"
     ]
    },
    {
     "name": "stderr",
     "output_type": "stream",
     "text": [
      "100%|██████████| 512/512 [00:05<00:00, 99.74it/s] \n"
     ]
    },
    {
     "name": "stdout",
     "output_type": "stream",
     "text": [
      "0.65036 0 15\n",
      "10379150 15\n",
      "10379150 10379150\n"
     ]
    },
    {
     "name": "stderr",
     "output_type": "stream",
     "text": [
      "100%|██████████| 512/512 [00:05<00:00, 98.38it/s]\n"
     ]
    },
    {
     "name": "stdout",
     "output_type": "stream",
     "text": [
      "0.715608 0 15\n",
      "10455490 15\n",
      "10455490 10455490\n"
     ]
    },
    {
     "name": "stderr",
     "output_type": "stream",
     "text": [
      "100%|██████████| 512/512 [00:05<00:00, 96.51it/s]\n"
     ]
    },
    {
     "name": "stdout",
     "output_type": "stream",
     "text": [
      "0.787402 0 15\n",
      "10460508 15\n",
      "10460508 10460508\n"
     ]
    },
    {
     "name": "stderr",
     "output_type": "stream",
     "text": [
      "100%|██████████| 512/512 [00:05<00:00, 95.84it/s]\n"
     ]
    },
    {
     "name": "stdout",
     "output_type": "stream",
     "text": [
      "0.866399 0 15\n",
      "10407850 15\n",
      "10407850 10407850\n"
     ]
    },
    {
     "name": "stderr",
     "output_type": "stream",
     "text": [
      "100%|██████████| 512/512 [00:05<00:00, 94.40it/s]\n"
     ]
    },
    {
     "name": "stdout",
     "output_type": "stream",
     "text": [
      "0.953321 0 15\n",
      "10321598 15\n",
      "10321598 10321598\n"
     ]
    },
    {
     "name": "stderr",
     "output_type": "stream",
     "text": [
      "100%|██████████| 512/512 [00:05<00:00, 91.56it/s]\n"
     ]
    },
    {
     "name": "stdout",
     "output_type": "stream",
     "text": [
      "1.0 0 15\n",
      "10264571 15\n",
      "10264571 10264571\n"
     ]
    },
    {
     "name": "stderr",
     "output_type": "stream",
     "text": [
      "100%|██████████| 512/512 [00:05<00:00, 96.50it/s]\n"
     ]
    }
   ],
   "source": [
    "jackknife = {}\n",
    "\n",
    "f_pos = open('/oak/stanford/orgs/kipac/users/delon/aemulusnu_massfunction/'+box+'_pos', 'r')\n",
    "\n",
    "\n",
    "for a in NvMs:\n",
    "    snapshot_pos  = f_pos.readline().strip().split(',')\n",
    "    snapshot_pos  = [np.array(pos.split(), dtype=np.float32) for pos in snapshot_pos if pos != '']\n",
    "    snapshot_pos  = np.array(snapshot_pos)\n",
    "\n",
    "    bin_cnters = NvMs[a]['M']\n",
    "    N = NvMs[a]['N']\n",
    "    vol = NvMs[a]['vol']\n",
    "    Mpart = NvMs[a]['Mpart']\n",
    "    edge_pairs = NvMs[a]['edge_pairs']\n",
    "    bin_idx = NvMs[a]['bin_idx']\n",
    "    print(a, np.min(bin_idx), np.max(bin_idx))\n",
    "    print(len(bin_idx), len(N))\n",
    "    #redefine the edges that we'll jackknife on \n",
    "    edges = [edge[0] for edge in edge_pairs]\n",
    "    edges += [edge_pairs[-1][1]]    \n",
    "\n",
    "    #now lets get to spatial jackknife\n",
    "    N_DIVS = 8 #each axis is diided into N_DIVS parts so in total the box\n",
    "               #is divided into N_DIVS**3 boxes\n",
    "\n",
    "    #compute the size of each smaller cube\n",
    "    ϵ = vol*10**(-6)\n",
    "    cube_vol = (vol+ε) / N_DIVS**3 #need ϵ to properly handle halos directly on boundary \n",
    "    cube_size = np.cbrt(cube_vol)\n",
    "\n",
    "    #compute the indices of the smaller cube that each point belongs to\n",
    "    cube_indices = (snapshot_pos / cube_size).astype(int)\n",
    "\n",
    "    #cube_indices has assignment of halo to 3d position of a voxel\n",
    "    #ravel_multi_index indexes the voxels in 3D with a single integer\n",
    "    cube_assignment = np.ravel_multi_index(cube_indices.T, (N_DIVS, N_DIVS, N_DIVS), order='F')\n",
    "    \n",
    "    bin_counts = []\n",
    "    \n",
    "    print(len(cube_assignment), len(bin_idx))\n",
    "    for i in trange(N_DIVS**3):\n",
    "        current_cube = np.where(cube_assignment == i)\n",
    "        curr_N = np.zeros_like(N)\n",
    "        for halo in bin_idx[current_cube]:\n",
    "            #halo=1 corresponds to first bin \n",
    "            if(halo==0): #not in any bin \n",
    "                continue\n",
    "            curr_N[halo-1] += 1\n",
    "        #get the number count of halos in the mass bins in this subcube\n",
    "        bin_counts += [curr_N]\n",
    "    bin_counts = np.array(bin_counts)\n",
    "    mean_counts = np.mean(bin_counts, axis=0)\n",
    "    dev_counts = bin_counts - mean_counts\n",
    "#     print('aaaa')\n",
    "#     print(np.shape(bin_counts))\n",
    "#     print(np.shape(dev_counts))\n",
    "#     print(np.shape(mean_counts))\n",
    "#     print('aaaa')\n",
    "\n",
    "    cov_counts = np.zeros((len(mean_counts), len(mean_counts)))    \n",
    "\n",
    "    for i in range(N_DIVS**3):\n",
    "        # Remove the i-th sub-cube from the sample and calculate the jackknife estimate\n",
    "        leave_out_idx = np.where(np.arange(N_DIVS**3) != i)\n",
    "        jackknife_counts = np.mean(bin_counts[leave_out_idx], axis=0)\n",
    "        dev_jackknife = jackknife_counts - mean_counts\n",
    "#         print(np.shape(dev_jackknife))\n",
    "#         print(np.shape(dev_counts[i]))\n",
    "\n",
    "        cov_counts += np.outer(dev_counts[i], dev_jackknife)\n",
    "\n",
    "    jackknife_covariance = (N_DIVS**3 - 1)/N_DIVS**3 * cov_counts\n",
    "\n",
    "\n",
    "#     print(len(N), jackknife_covariance.shape)\n",
    "    jackknife[a] = [bin_counts, jackknife_covariance]\n",
    "f_pos.close()\n"
   ]
  },
  {
   "cell_type": "code",
   "execution_count": 4,
   "id": "2595e066",
   "metadata": {},
   "outputs": [],
   "source": [
    "jackknife_covs_fname = '/oak/stanford/orgs/kipac/users/delon/aemulusnu_massfunction/'+curr_run_fname.split('/')[-2]+'_jackknife_covs.pkl'\n",
    "jackknife_covs_f = open(jackknife_covs_fname, 'wb')\n",
    "pickle.dump(jackknife, jackknife_covs_f)\n",
    "jackknife_covs_f.close()"
   ]
  },
  {
   "cell_type": "code",
   "execution_count": null,
   "id": "251e591e",
   "metadata": {},
   "outputs": [],
   "source": []
  }
 ],
 "metadata": {
  "kernelspec": {
   "display_name": "massfunction",
   "language": "python",
   "name": "massfunction"
  },
  "language_info": {
   "codemirror_mode": {
    "name": "ipython",
    "version": 3
   },
   "file_extension": ".py",
   "mimetype": "text/x-python",
   "name": "python",
   "nbconvert_exporter": "python",
   "pygments_lexer": "ipython3",
   "version": "3.9.16"
  }
 },
 "nbformat": 4,
 "nbformat_minor": 5
}
