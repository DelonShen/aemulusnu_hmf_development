{
 "cells": [
  {
   "cell_type": "code",
   "execution_count": 1,
   "id": "bec063d1",
   "metadata": {},
   "outputs": [],
   "source": [
    "import math\n",
    "from scipy.integrate import quad, fixed_quad\n",
    "import matplotlib.pyplot as plt\n",
    "import pickle \n",
    "import numpy as np\n",
    "import functools\n",
    "import sys \n",
    "from tqdm import tqdm, trange\n",
    "from utils import *\n",
    "from classy import Class\n",
    "\n",
    "import math\n",
    "import torch\n",
    "import gpytorch\n",
    "from matplotlib import pyplot as plt"
   ]
  },
  {
   "cell_type": "code",
   "execution_count": 14,
   "id": "6f8e0307",
   "metadata": {},
   "outputs": [
    {
     "data": {
      "text/plain": [
       "dict_keys(['As', 'ns', 'H0', 'w0', 'ombh2', 'omch2', 'nu_mass_ev', 'sigma'])"
      ]
     },
     "execution_count": 14,
     "metadata": {},
     "output_type": "execute_result"
    }
   ],
   "source": [
    "cosmo_params['Box0_1400'].keys()"
   ]
  },
  {
   "cell_type": "code",
   "execution_count": 18,
   "id": "ac71b111",
   "metadata": {},
   "outputs": [
    {
     "data": {
      "text/plain": [
       "{'As': 2.10100315,\n",
       " 'ns': 0.97000003,\n",
       " 'H0': 67.0,\n",
       " 'w0': -1.0,\n",
       " 'ombh2': 0.0223,\n",
       " 'omch2': 0.12,\n",
       " 'nu_mass_ev': 0.07071068,\n",
       " 'sigma': 0.81001457}"
      ]
     },
     "execution_count": 18,
     "metadata": {},
     "output_type": "execute_result"
    }
   ],
   "source": [
    "cosmo_params['Box_n50_0_1400']"
   ]
  },
  {
   "cell_type": "code",
   "execution_count": 2,
   "id": "a14611f8",
   "metadata": {},
   "outputs": [],
   "source": [
    "cosmos_f = open('data/cosmo_params.pkl', 'rb')\n",
    "cosmo_params = pickle.load(cosmos_f) #cosmo_params is a dict\n",
    "cosmos_f.close()\n",
    "\n",
    "a_list_fname = '/oak/stanford/orgs/kipac/users/delon/aemulusnu_massfunction/alist.pkl'\n",
    "a_list_f = open(a_list_fname, 'rb')\n",
    "a_list = pickle.load(a_list_f) \n",
    "a_list_f.close()"
   ]
  },
  {
   "cell_type": "code",
   "execution_count": 3,
   "id": "325ccecd",
   "metadata": {},
   "outputs": [],
   "source": [
    "weird_boxes = ['Box63_1400', 'Box35_1400', 'Box_n50_38_1400', 'Box5_1400']"
   ]
  },
  {
   "cell_type": "code",
   "execution_count": 4,
   "id": "9961fd45",
   "metadata": {},
   "outputs": [
    {
     "name": "stderr",
     "output_type": "stream",
     "text": [
      "100%|██████████| 150/150 [03:15<00:00,  1.30s/it]\n"
     ]
    }
   ],
   "source": [
    "errors = {a:{} for a in a_list}\n",
    "X = []\n",
    "Y = []\n",
    "z_to_a = {}\n",
    "a_to_z = {}\n",
    "kt = np.logspace(-3, 1, 100) # h/Mpc\n",
    "for box in tqdm(cosmo_params):\n",
    "    if(box in weird_boxes):\n",
    "        continue\n",
    "    curr_cosmo = cosmo_params[box]\n",
    "    curr_cosmo_values = list(curr_cosmo.values())\n",
    "    \n",
    "    h = curr_cosmo['H0']/100\n",
    "\n",
    "    cosmo_dict = {\n",
    "        'h': h,\n",
    "        'Omega_b': curr_cosmo['ombh2'] / h**2,\n",
    "        'Omega_cdm': curr_cosmo['omch2'] / h**2,\n",
    "        'N_ur': 0.00641,\n",
    "        'N_ncdm': 1,\n",
    "        'output': 'mPk mTk',\n",
    "        'z_pk': '0.0,99',\n",
    "        'P_k_max_h/Mpc': 20.,\n",
    "        'm_ncdm': curr_cosmo['nu_mass_ev']/3,\n",
    "        'deg_ncdm': 3,\n",
    "        'T_cmb': 2.7255,\n",
    "        'A_s': curr_cosmo['As'] * 10**-9,\n",
    "        'n_s': curr_cosmo['ns'],\n",
    "        'Omega_Lambda': 0.0,\n",
    "        'w0_fld': curr_cosmo['w0'],\n",
    "        'wa_fld': 0.0,\n",
    "        'cs2_fld': 1.0,\n",
    "        'fluid_equation_of_state': \"CLP\"\n",
    "    }\n",
    "\n",
    "    pkclass = Class()\n",
    "    pkclass.set(cosmo_dict)\n",
    "    pkclass.compute()\n",
    "\n",
    "    for a in a_list:\n",
    "        z = scaleToRedshift(a)\n",
    "        z_to_a[z] = a\n",
    "        a_to_z[a] = z\n",
    "        pk_m_lin = np.array(\n",
    "            [\n",
    "                pkclass.pk_lin(ki, np.array([z]))*h**3 #units of Mpc^3/h^3\n",
    "                for ki in kt * h # 1 / Mpc\n",
    "            ]\n",
    "        )\n",
    "        sigma8 = pkclass.sigma(8, z, h_units=True)\n",
    "        X+= [curr_cosmo_values + [a, sigma8]]\n",
    "        with open(\"/oak/stanford/orgs/kipac/users/delon/aemulusnu_massfunction/%s_%.2f_params.pkl\"%(box, a), \"rb\") as f:\n",
    "            MLE_params = pickle.load(f)\n",
    "            param_values = list(MLE_params.values())\n",
    "            Y+= [param_values]\n",
    "X = np.array(X)\n",
    "Y = np.array(Y)"
   ]
  },
  {
   "cell_type": "code",
   "execution_count": 6,
   "id": "b02705e0",
   "metadata": {},
   "outputs": [
    {
     "name": "stdout",
     "output_type": "stream",
     "text": [
      "scaling input\n",
      "(2044, 10)\n",
      "scaling output\n",
      "(2044, 4)\n"
     ]
    }
   ],
   "source": [
    "print('scaling input')\n",
    "in_scaler = Normalizer()\n",
    "in_scaler.fit(X)\n",
    "X = in_scaler.transform(X)\n",
    "print(X.shape)\n",
    "\n",
    "\n",
    "print('scaling output')\n",
    "out_scaler = Standardizer()\n",
    "out_scaler.fit(Y)\n",
    "Y = out_scaler.transform(Y)\n",
    "print(Y.shape)"
   ]
  },
  {
   "cell_type": "code",
   "execution_count": 7,
   "id": "624682d2",
   "metadata": {},
   "outputs": [],
   "source": [
    "X_train = torch.from_numpy(X).float()\n",
    "Y_train = torch.from_numpy(Y).float()\n",
    "n_tasks = len(Y_train[0])\n",
    "\n",
    "class MultitaskGPModel(gpytorch.models.ExactGP):\n",
    "    def __init__(self, train_x, train_y, likelihood):\n",
    "        super(MultitaskGPModel, self).__init__(train_x, train_y, likelihood)\n",
    "        self.mean_module = gpytorch.means.MultitaskMean(\n",
    "            gpytorch.means.LinearMean(input_size=X_train.shape[1]), num_tasks=n_tasks\n",
    "        )\n",
    "        self.covar_module = gpytorch.kernels.MultitaskKernel(\n",
    "             gpytorch.kernels.SpectralMixtureKernel(num_mixtures=3, \n",
    "                                                    ard_num_dims=X_train.shape[1]),\n",
    "            num_tasks=n_tasks, rank=1\n",
    "        )\n",
    "    def forward(self, x):\n",
    "        mean_x = self.mean_module(x)\n",
    "        covar_x = self.covar_module(x)\n",
    "        return gpytorch.distributions.MultitaskMultivariateNormal(mean_x, covar_x)"
   ]
  },
  {
   "cell_type": "code",
   "execution_count": 8,
   "id": "5e922494",
   "metadata": {},
   "outputs": [],
   "source": [
    "likelihood = gpytorch.likelihoods.MultitaskGaussianLikelihood(num_tasks=n_tasks)\n",
    "model = MultitaskGPModel(X_train, Y_train, likelihood)\n",
    "\n",
    "\n",
    "# \"Loss\" for GPs - the marginal log likelihood\n",
    "mll = gpytorch.mlls.ExactMarginalLogLikelihood(likelihood, model)\n",
    "optimizer = torch.optim.AdamW(model.parameters(), lr=0.1, amsgrad=True)  # Includes GaussianLikelihood parameters"
   ]
  },
  {
   "cell_type": "code",
   "execution_count": 9,
   "id": "8b40e8a6",
   "metadata": {},
   "outputs": [
    {
     "name": "stderr",
     "output_type": "stream",
     "text": [
      "\r",
      "Iteration:   0%|          | 0/300 [00:00<?, ?it/s]"
     ]
    }
   ],
   "source": [
    "from copy import deepcopy\n",
    "model.train()\n",
    "likelihood.train()\n",
    "# Set initial learning rate\n",
    "lr = 0.1\n",
    "\n",
    "# Create the optimizer with the initial learning rate\n",
    "optimizer = torch.optim.AdamW(model.parameters(), lr=0.1, amsgrad=True)  # Includes GaussianLikelihood parameters\n",
    "\n",
    "training_iterations = 300\n",
    "epochs_iter = tqdm(range(training_iterations), desc=\"Iteration\")"
   ]
  },
  {
   "cell_type": "code",
   "execution_count": 10,
   "id": "1d959605",
   "metadata": {},
   "outputs": [
    {
     "name": "stderr",
     "output_type": "stream",
     "text": [
      "Iteration: 100%|██████████| 300/300 [14:19<00:00,  2.86s/it, loss=-.806] \n"
     ]
    }
   ],
   "source": [
    "for i in epochs_iter:\n",
    "    model.train()\n",
    "    likelihood.train()\n",
    "\n",
    "    optimizer.zero_grad()\n",
    "    output = model(X_train)\n",
    "    loss = -mll(output, Y_train)\n",
    "    epochs_iter.set_postfix(loss=loss.item())\n",
    "    loss.backward()\n",
    "    optimizer.step()\n",
    "\n",
    "    # Change learning rate after half of iterations\n",
    "    if i == training_iterations//2:\n",
    "        lr = 0.01\n",
    "        for param_group in optimizer.param_groups:\n",
    "            param_group['lr'] = lr\n"
   ]
  },
  {
   "cell_type": "code",
   "execution_count": 17,
   "id": "8ca1cc74",
   "metadata": {},
   "outputs": [],
   "source": [
    "model.eval()\n",
    "likelihood.eval()\n",
    "\n",
    "with open(\"GP_emulator.pkl\", \"wb\") as f:\n",
    "    pickle.dump([model,\n",
    "                in_scaler,\n",
    "                out_scaler,\n",
    "                likelihood], f)"
   ]
  },
  {
   "cell_type": "code",
   "execution_count": null,
   "id": "d7ef5d3b",
   "metadata": {},
   "outputs": [],
   "source": []
  }
 ],
 "metadata": {
  "kernelspec": {
   "display_name": "massfunction",
   "language": "python",
   "name": "massfunction"
  },
  "language_info": {
   "codemirror_mode": {
    "name": "ipython",
    "version": 3
   },
   "file_extension": ".py",
   "mimetype": "text/x-python",
   "name": "python",
   "nbconvert_exporter": "python",
   "pygments_lexer": "ipython3",
   "version": "3.9.16"
  }
 },
 "nbformat": 4,
 "nbformat_minor": 5
}
