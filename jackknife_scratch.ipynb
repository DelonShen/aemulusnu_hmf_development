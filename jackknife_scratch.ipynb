{
 "cells": [
  {
   "cell_type": "code",
   "execution_count": null,
   "id": "b9cce9c9",
   "metadata": {},
   "outputs": [],
   "source": [
    "import numpy as np\n",
    "from scipy.stats import binned_statistic\n",
    "from tqdm import tqdm, trange\n",
    "import seaborn\n",
    "import matplotlib.pyplot as plt\n",
    "import os\n",
    "import sys\n",
    "\n",
    "\n",
    "# box = sys.argv[1]\n",
    "box = 'Box_n50_0_1400'\n",
    "curr_run_fname = '/oak/stanford/orgs/kipac/aemulus/aemulus_nu/%s/'%(box)\n",
    "rockstar_dir = curr_run_fname+'output/rockstar/'\n",
    "\n",
    "f = open(rockstar_dir+'savelist.txt', 'r')\n",
    "savelist = f.read().split()\n",
    "f.close()\n",
    "\n",
    "N_snapshots = len(savelist)\n",
    "\n",
    "\n",
    "import pickle"
   ]
  },
  {
   "cell_type": "code",
   "execution_count": null,
   "id": "b460a523",
   "metadata": {},
   "outputs": [],
   "source": [
    "NvM_fname = '/oak/stanford/orgs/kipac/users/delon/aemulusnu_massfunction/'+curr_run_fname.split('/')[-2]+'_NvsM.pkl'\n",
    "NvM_f = open(NvM_fname, 'rb')\n",
    "NvMs = pickle.load(NvM_f)\n",
    "NvM_f.close()\n"
   ]
  },
  {
   "cell_type": "code",
   "execution_count": null,
   "id": "16f90329",
   "metadata": {},
   "outputs": [],
   "source": [
    "Ns = {a: NvMs[a]['N'] for a in NvMs}\n",
    "bin_idxs = {a: NvMs[a]['bin_idx'] for a in NvMs}\n"
   ]
  },
  {
   "cell_type": "code",
   "execution_count": null,
   "id": "c3b34b43",
   "metadata": {},
   "outputs": [],
   "source": [
    "import random"
   ]
  },
  {
   "cell_type": "code",
   "execution_count": null,
   "id": "7044f63d",
   "metadata": {},
   "outputs": [],
   "source": [
    "tot_n_bins = sum([len(Ns[a]) for a in Ns])"
   ]
  },
  {
   "cell_type": "code",
   "execution_count": null,
   "id": "ae27b7be",
   "metadata": {},
   "outputs": [],
   "source": [
    "displacement = {}\n",
    "for a in Ns:\n",
    "    curr_idx = sum([len(Ns[ap]) for ap in displacement])\n",
    "    displacement[a] = curr_idx"
   ]
  },
  {
   "cell_type": "code",
   "execution_count": null,
   "id": "7dc6a532",
   "metadata": {},
   "outputs": [],
   "source": [
    "total_data = [N_bin for N_bin in Ns[a] for a in Ns]\n",
    "total_data = np.array(total_data)\n",
    "\n",
    "total_bin_idx = [bin_idx+displacement[a]-1 for bin_idx in bin_idxs[a] for a in bin_idxs if bin_idx != 0]\n",
    "total_bin_idx = np.array(total_bin_idx)\n",
    "\n",
    "shuffled = total_bin_idx\n",
    "\n",
    "np.random.shuffle(shuffled)\n",
    "N_SUBS = 2**14\n",
    "subsamples = []\n",
    "sample_size = len(shuffled) // N_SUBS  # Number of points in each subsample\n",
    "\n",
    "for i in trange(N_SUBS):\n",
    "    start_idx = i * sample_size\n",
    "    end_idx = start_idx + sample_size\n",
    "    if i == N_SUBS - 1:\n",
    "        end_idx = len(shuffled)  # For the last subsample, adjust end index to include remaining points\n",
    "    subsample = shuffled[start_idx:end_idx]\n",
    "    subsamples.append(subsample)"
   ]
  },
  {
   "cell_type": "code",
   "execution_count": null,
   "id": "a48f856d",
   "metadata": {
    "scrolled": true
   },
   "outputs": [],
   "source": [
    "print(len(total_bin_idx))\n",
    "print(sum(total_data))"
   ]
  },
  {
   "cell_type": "code",
   "execution_count": null,
   "id": "b3e3640e",
   "metadata": {},
   "outputs": [],
   "source": [
    "import numpy as np\n",
    "from multiprocessing import Pool\n",
    "from tqdm import tqdm\n",
    "\n",
    "# Define a function for calculating jackknife estimator for a subsample\n",
    "def calc_jackknife_estimator(subsample):\n",
    "    c_data = np.zeros_like(total_data)\n",
    "    for curr_bin in subsample:\n",
    "        c_data[curr_bin] += 1\n",
    "    jack_subsample = np.outer(total_data-c_data, total_data-c_data)\n",
    "    return jack_subsample\n",
    "\n",
    "jackcov = np.zeros((tot_n_bins, tot_n_bins)) # Initialize jackknife estimator\n",
    "\n",
    "# Define a function for parallel processing using multiprocessing\n",
    "def process_subsample(subsample):\n",
    "    return calc_jackknife_estimator(subsample)\n",
    "\n",
    "# Create a Pool of worker processes for multiprocessing\n",
    "with Pool() as pool:\n",
    "    # Map the function to each subsample in parallel and accumulate the results\n",
    "    results = list(tqdm(pool.imap_unordered(process_subsample, subsamples), total=len(subsamples)))\n",
    "    jackcov = np.sum(results, axis=0)\n"
   ]
  },
  {
   "cell_type": "code",
   "execution_count": null,
   "id": "748c7d9b",
   "metadata": {},
   "outputs": [],
   "source": [
    "# Step 4: Jackknife Estimator\n",
    "jackcov /= N_SUBS # Average outer products\n",
    "\n",
    "# Step 5: Bias Correction\n",
    "jackcov_bias = np.outer(total_data, total_data) # Calculate outer product of original histogram counts\n",
    "bias = (N_SUBS-1)/N_SUBS * (jackcov - jackcov_bias) # Calculate bias\n",
    "\n",
    "# Step 6: Unbiased Estimator\n",
    "jackcov_unbiased = jackcov - bias # Subtract bias from jackknife estimator\n",
    "\n",
    "print(\"Unbiased Estimator of Covariance Matrix between Mass Histogram Bins:\")\n",
    "print(jackcov_unbiased.shape)\n",
    "\n",
    "\n",
    "jackknife_covs_fname = '/oak/stanford/orgs/kipac/users/delon/aemulusnu_massfunction/'+curr_run_fname.split('/')[-2]+'_jackknife_covs.pkl'\n",
    "jackknife_covs_f = open(jackknife_covs_fname, 'wb')\n",
    "pickle.dump(jackcov, jackknife_covs_f)\n",
    "jackknife_covs_f.close()"
   ]
  },
  {
   "cell_type": "code",
   "execution_count": null,
   "id": "772937c8",
   "metadata": {},
   "outputs": [],
   "source": [
    "np.diagonal(jackcov)"
   ]
  },
  {
   "cell_type": "code",
   "execution_count": null,
   "id": "d467fdb2",
   "metadata": {},
   "outputs": [],
   "source": [
    "# jackknife_covs_fname = '/oak/stanford/orgs/kipac/users/delon/aemulusnu_massfunction/'+curr_run_fname.split('/')[-2]+'_jackknife_covs.pkl'\n",
    "# jackknife_covs_f = open(jackknife_covs_fname, 'wb')\n",
    "# pickle.dump(jackknife, jackknife_covs_f)\n",
    "# jackknife_covs_f.close()"
   ]
  },
  {
   "cell_type": "code",
   "execution_count": null,
   "id": "98ae7c85",
   "metadata": {},
   "outputs": [],
   "source": []
  }
 ],
 "metadata": {
  "kernelspec": {
   "display_name": "massfunction",
   "language": "python",
   "name": "massfunction"
  },
  "language_info": {
   "codemirror_mode": {
    "name": "ipython",
    "version": 3
   },
   "file_extension": ".py",
   "mimetype": "text/x-python",
   "name": "python",
   "nbconvert_exporter": "python",
   "pygments_lexer": "ipython3",
   "version": "3.9.16"
  }
 },
 "nbformat": 4,
 "nbformat_minor": 5
}
