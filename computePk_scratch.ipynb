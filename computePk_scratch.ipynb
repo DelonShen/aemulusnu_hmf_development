{
 "cells": [
  {
   "cell_type": "code",
   "execution_count": 1,
   "id": "1c30e538",
   "metadata": {},
   "outputs": [],
   "source": [
    "base_dir = '/home/users/delon/aemulus_nu/'"
   ]
  },
  {
   "cell_type": "code",
   "execution_count": 2,
   "id": "430ce078",
   "metadata": {},
   "outputs": [
    {
     "name": "stdout",
     "output_type": "stream",
     "text": [
      "['As', 'ns', 'H0', 'w0', 'ombh2', 'omch2', 'nu_mass_ev', 'sigma']\n",
      "['As', 'ns', 'H0', 'w0', 'ombh2', 'omch2', 'nu_mass_ev', 'sigma']\n"
     ]
    }
   ],
   "source": [
    "import numpy as np\n",
    "cosmos = {}\n",
    "\n",
    "tier1_fname = base_dir+'tier1_cosmos.txt'\n",
    "f = open(tier1_fname, 'r')\n",
    "columns = [col[:-1] for col in f.readline().strip().split()[1:]]\n",
    "print(columns)\n",
    "i = 0\n",
    "for line in f:\n",
    "    box_name = 'Box%d_1400'%(i)\n",
    "    assert(len(line.split()) == len(columns))\n",
    "    cosmos[box_name] = dict(zip(columns, np.array(line.split(), dtype=np.float64)))\n",
    "    i+=1\n",
    "f.close()\n",
    "\n",
    "\n",
    "tier2_fname = base_dir+'tier2_cosmos.txt'\n",
    "f = open(tier2_fname, 'r')\n",
    "columns = [col[:-1] for col in f.readline().strip().split()[1:]]\n",
    "print(columns)\n",
    "i = 0\n",
    "for line in f:\n",
    "    box_name = 'Box_n50_%d_1400'%(i)\n",
    "    assert(len(line.split()) == len(columns))\n",
    "    cosmos[box_name] = dict(zip(columns, np.array(line.split(), dtype=np.float64)))\n",
    "    i+=1\n",
    "f.close()"
   ]
  },
  {
   "cell_type": "code",
   "execution_count": 3,
   "id": "0ca4fbb8",
   "metadata": {},
   "outputs": [],
   "source": [
    "from utils import *\n",
    "import numpy as np"
   ]
  },
  {
   "cell_type": "code",
   "execution_count": null,
   "id": "529ec07f",
   "metadata": {},
   "outputs": [
    {
     "name": "stderr",
     "output_type": "stream",
     "text": [
      "Box0_1400:   0%|          | 0/150 [00:00<?, ?it/s]/home/users/delon/aemulusnu_massfunction/utils.py:65: IntegrationWarning: The maximum number of subdivisions (50) has been achieved.\n",
      "  If increasing the limit yields no improvement it is advised to analyze \n",
      "  the integrand in order to determine the difficulties.  If the position of a \n",
      "  local difficulty can be determined (singularity, discontinuity) one will \n",
      "  probably gain from splitting up the interval and calling the integrator \n",
      "  on the subranges.  Perhaps a special-purpose integrator should be used.\n",
      "  res, err = quad(dσ2dk, 0, 20 / R)\n",
      "Box_n50_42_1400:  95%|█████████▌| 143/150 [03:52<00:10,  1.49s/it]"
     ]
    }
   ],
   "source": [
    "from tqdm import tqdm, trange\n",
    "from classy import Class\n",
    "import pickle\n",
    "\n",
    "pbar = tqdm(cosmos)\n",
    "\n",
    "for key in pbar:\n",
    "    if('63' in key):\n",
    "        continue\n",
    "#     if(key != 'Box_n50_0_1400' and key != 'Box0_1400'):\n",
    "#         continue\n",
    "    pbar.set_description(key)\n",
    "\n",
    "    cosmo = cosmos[key]\n",
    "    h = cosmo['H0']/100\n",
    "    cosmo_dict = {\n",
    "        'h': h,\n",
    "        'Omega_b': cosmo['ombh2'] / h**2,\n",
    "        'Omega_cdm': cosmo['omch2'] / h**2,\n",
    "        'N_ur': 0.00641,\n",
    "        'N_ncdm': 1,\n",
    "        'output': 'mPk mTk',\n",
    "        'z_pk': '0.0,99',\n",
    "        'P_k_max_h/Mpc': 20.,\n",
    "        'm_ncdm': cosmo['nu_mass_ev']/3,\n",
    "        'deg_ncdm': 3,\n",
    "        'T_cmb': 2.7255,\n",
    "        'A_s': cosmo['As'] * 10**-9,\n",
    "        'n_s': cosmo['ns'],\n",
    "        'Omega_Lambda': 0.0,\n",
    "        'w0_fld': cosmo['w0'],\n",
    "        'wa_fld': 0.0,\n",
    "        'cs2_fld': 1.0,\n",
    "        'fluid_equation_of_state': \"CLP\"\n",
    "    }\n",
    "    pkclass = Class()\n",
    "    pkclass.set(cosmo_dict)\n",
    "    pkclass.compute()\n",
    "    \n",
    "    curr_run_fname = '/oak/stanford/orgs/kipac/aemulus/aemulus_nu/%s/'%(key)\n",
    "    rockstar_dir = curr_run_fname+'output/rockstar/'\n",
    "\n",
    "    f = open(rockstar_dir+'savelist.txt', 'r')\n",
    "    savelist = f.read().split()\n",
    "    f.close()\n",
    "\n",
    "    N_snapshots = len(savelist)\n",
    "    a = []\n",
    "    for i in range(N_snapshots):\n",
    "        f = open(rockstar_dir+'out_%d.list'%(i), 'r')\n",
    "\n",
    "        for line in f:\n",
    "            if('#a' in line):\n",
    "                a+= [eval(line.split()[2])]\n",
    "                break\n",
    "\n",
    "\n",
    "    zs = [scaleToRedshift(a_curr) for a_curr in a]\n",
    "\n",
    "    Pkz = {}\n",
    "    for z in  zs:\n",
    "        kt = np.logspace(-5, 1, 100) #units of 1 / Mpc\n",
    "\n",
    "        pk_m_lin = np.array(\n",
    "            [\n",
    "                pkclass.pk_lin(ki, np.array([z])) #units of Mpc^3\n",
    "                for ki in kt \n",
    "            ]\n",
    "        )\n",
    "        from scipy.interpolate import interp1d\n",
    "        #given k in units of h/Mpc gives Pk in units of Mpc^3/h^3 \n",
    "        Pk = interp1d(kt/h, pk_m_lin*h**3, kind='linear', bounds_error=False, fill_value=0.)\n",
    "\n",
    "        Pkz[z] = Pk    \n",
    "        class_sigma8 = pkclass.sigma(8, z, h_units=True)\n",
    "        my_sigma8 = np.sqrt(sigma2(Pk, 8))\n",
    "        assert(np.abs(class_sigma8-my_sigma8)<0.01*class_sigma8)\n",
    "#         plt.plot(kt, Pk(kt))\n",
    "#         plt.xscale('log')\n",
    "#         plt.yscale('log')\n",
    "#         plt.show()\n",
    "    \n",
    "    Pk_fname = '/oak/stanford/orgs/kipac/users/delon/aemulusnu_massfunction/'+key+'_Pk.pkl'\n",
    "    Pk_f = open(Pk_fname, 'wb')\n",
    "    pickle.dump(Pkz, Pk_f)\n",
    "    Pk_f.close()\n"
   ]
  },
  {
   "cell_type": "code",
   "execution_count": null,
   "id": "d3e464b8",
   "metadata": {},
   "outputs": [],
   "source": [
    "pkclass.sigma(8, z, h_units=True)"
   ]
  },
  {
   "cell_type": "code",
   "execution_count": null,
   "id": "1cf22e0c",
   "metadata": {},
   "outputs": [],
   "source": [
    "np.sqrt(sigma2(Pk, 8))"
   ]
  },
  {
   "cell_type": "code",
   "execution_count": null,
   "id": "5de41b64",
   "metadata": {},
   "outputs": [],
   "source": [
    "plt.plot(kt, Pk(kt))\n",
    "plt.xscale('log')\n",
    "plt.yscale('log')"
   ]
  },
  {
   "cell_type": "code",
   "execution_count": null,
   "id": "14f4ca2c",
   "metadata": {},
   "outputs": [],
   "source": []
  }
 ],
 "metadata": {
  "kernelspec": {
   "display_name": "massfunction",
   "language": "python",
   "name": "massfunction"
  },
  "language_info": {
   "codemirror_mode": {
    "name": "ipython",
    "version": 3
   },
   "file_extension": ".py",
   "mimetype": "text/x-python",
   "name": "python",
   "nbconvert_exporter": "python",
   "pygments_lexer": "ipython3",
   "version": "3.9.16"
  }
 },
 "nbformat": 4,
 "nbformat_minor": 5
}
