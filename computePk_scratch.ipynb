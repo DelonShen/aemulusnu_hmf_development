{
 "cells": [
  {
   "cell_type": "code",
   "execution_count": 1,
   "id": "1c30e538",
   "metadata": {},
   "outputs": [],
   "source": [
    "base_dir = '/home/users/delon/aemulus_nu/'"
   ]
  },
  {
   "cell_type": "code",
   "execution_count": 3,
   "id": "430ce078",
   "metadata": {},
   "outputs": [
    {
     "name": "stdout",
     "output_type": "stream",
     "text": [
      "['As', 'ns', 'H0', 'w0', 'ombh2', 'omch2', 'nu_mass_ev', 'sigma']\n",
      "['As', 'ns', 'H0', 'w0', 'ombh2', 'omch2', 'nu_mass_ev', 'sigma']\n"
     ]
    }
   ],
   "source": [
    "import numpy as np\n",
    "cosmos = {}\n",
    "\n",
    "tier1_fname = base_dir+'tier1_cosmos.txt'\n",
    "f = open(tier1_fname, 'r')\n",
    "columns = [col[:-1] for col in f.readline().strip().split()[1:]]\n",
    "print(columns)\n",
    "i = 0\n",
    "for line in f:\n",
    "    box_name = 'Box%d_1400'%(i)\n",
    "    assert(len(line.split()) == len(columns))\n",
    "    cosmos[box_name] = dict(zip(columns, np.array(line.split(), dtype=np.float64)))\n",
    "    i+=1\n",
    "f.close()\n",
    "\n",
    "\n",
    "tier2_fname = base_dir+'tier2_cosmos.txt'\n",
    "f = open(tier2_fname, 'r')\n",
    "columns = [col[:-1] for col in f.readline().strip().split()[1:]]\n",
    "print(columns)\n",
    "i = 0\n",
    "for line in f:\n",
    "    box_name = 'Box_n50_%d_1400'%(i)\n",
    "    assert(len(line.split()) == len(columns))\n",
    "    cosmos[box_name] = dict(zip(columns, np.array(line.split(), dtype=np.float64)))\n",
    "    i+=1\n",
    "f.close()"
   ]
  },
  {
   "cell_type": "code",
   "execution_count": 4,
   "id": "0ca4fbb8",
   "metadata": {},
   "outputs": [],
   "source": [
    "from utils import *\n",
    "import numpy as np"
   ]
  },
  {
   "cell_type": "code",
   "execution_count": 111,
   "id": "529ec07f",
   "metadata": {},
   "outputs": [
    {
     "name": "stderr",
     "output_type": "stream",
     "text": [
      "Box_n50_49_1400: 100%|██████████| 150/150 [12:15<00:00,  4.91s/it]\n"
     ]
    }
   ],
   "source": [
    "from tqdm import tqdm, trange\n",
    "from classy import Class\n",
    "import pickle\n",
    "\n",
    "pbar = tqdm(cosmos)\n",
    "\n",
    "for key in pbar:\n",
    "    if('63' in key):\n",
    "        continue\n",
    "    pbar.set_description(key)\n",
    "\n",
    "    cosmo = cosmos[key]\n",
    "    h = cosmo['H0']/100\n",
    "    cosmo_dict = {\n",
    "        'h': h,\n",
    "        'Omega_b': cosmo['ombh2'] / h**2,\n",
    "        'Omega_cdm': cosmo['omch2'] / h**2,\n",
    "        'N_ur': 0.00641,\n",
    "        'N_ncdm': 1,\n",
    "        'output': 'mPk mTk',\n",
    "        'z_pk': '0.0,99',\n",
    "        'P_k_max_h/Mpc': 20.,\n",
    "        'm_ncdm': cosmo['nu_mass_ev']/3,\n",
    "        'deg_ncdm': 3,\n",
    "        'T_cmb': 2.7255,\n",
    "        'A_s': cosmo['As'],\n",
    "        'n_s': cosmo['ns'],\n",
    "        'Omega_Lambda': 0.0,\n",
    "        'w0_fld': cosmo['w0'],\n",
    "        'wa_fld': 0.0,\n",
    "        'cs2_fld': 1.0,\n",
    "        'fluid_equation_of_state': \"CLP\"\n",
    "    }\n",
    "    pkclass = Class()\n",
    "    pkclass.set(cosmo_dict)\n",
    "    pkclass.compute()\n",
    "    \n",
    "    curr_run_fname = '/oak/stanford/orgs/kipac/aemulus/aemulus_nu/%s/'%(key)\n",
    "    rockstar_dir = curr_run_fname+'output/rockstar/'\n",
    "\n",
    "    f = open(rockstar_dir+'savelist.txt', 'r')\n",
    "    savelist = f.read().split()\n",
    "    f.close()\n",
    "\n",
    "    N_snapshots = len(savelist)\n",
    "    a = []\n",
    "    for i in range(N_snapshots):\n",
    "        f = open(rockstar_dir+'out_%d.list'%(i), 'r')\n",
    "\n",
    "        for line in f:\n",
    "            if('#a' in line):\n",
    "                a+= [eval(line.split()[2])]\n",
    "                break\n",
    "\n",
    "\n",
    "    zs = [scaleToRedshift(a_curr) for a_curr in a]\n",
    "\n",
    "    Pkz = {}\n",
    "    Pka = {}\n",
    "    for z in  zs:\n",
    "        kt = np.logspace(-5, 1, 100)\n",
    "\n",
    "        pk_m_lin = np.array(\n",
    "            [\n",
    "                pkclass.pk_lin(ki, np.array([z])) * h ** 3\n",
    "                for ki in kt * h\n",
    "            ]\n",
    "        )\n",
    "\n",
    "        from scipy.interpolate import interp1d\n",
    "        Pk = interp1d(kt, pk_m_lin, kind='linear', bounds_error=False, fill_value=0.)\n",
    "\n",
    "        Pkz[z] = Pk    \n",
    "    \n",
    "    Pk_fname = '/oak/stanford/orgs/kipac/users/delon/aemulusnu_massfunction/'+key+'_Pk.pkl'\n",
    "    Pk_f = open(Pk_fname, 'wb')\n",
    "    pickle.dump(Pkz, Pk_f)\n",
    "    Pk_f.close()"
   ]
  },
  {
   "cell_type": "code",
   "execution_count": 10,
   "id": "0337b754",
   "metadata": {},
   "outputs": [],
   "source": [
    "import numpy as np\n",
    "from scipy.stats import binned_statistic\n",
    "\n",
    "edges = np.logspace(np.log10(.9e11), np.log10(2e17), 30, 10.)\n",
    "M = np.array([np.sqrt(edges[i]*edges[i+1]) for i in range(len(edges)-1)])\n",
    "R = []"
   ]
  },
  {
   "cell_type": "code",
   "execution_count": 11,
   "id": "4de471fe",
   "metadata": {},
   "outputs": [
    {
     "name": "stdout",
     "output_type": "stream",
     "text": [
      "[1.15789687e+11 1.91656971e+11 3.17233733e+11 5.25090429e+11\n",
      " 8.69138210e+11 1.43861169e+12 2.38121344e+12 3.94142318e+12\n",
      " 6.52390769e+12 1.07984780e+13 1.78738163e+13 2.95850311e+13\n",
      " 4.89696241e+13 8.10553176e+13 1.34164079e+14 2.22070563e+14\n",
      " 3.67574804e+14 6.08415788e+14 1.00705970e+15 1.66690158e+15\n",
      " 2.75908257e+15 4.56687830e+15 7.55917117e+15 1.25120629e+16\n",
      " 2.07101699e+16 3.42798097e+16 5.67404980e+16 9.39177943e+16\n",
      " 1.55454259e+17]\n"
     ]
    }
   ],
   "source": [
    "print(M)"
   ]
  },
  {
   "cell_type": "code",
   "execution_count": null,
   "id": "ab9200fe",
   "metadata": {},
   "outputs": [],
   "source": []
  }
 ],
 "metadata": {
  "kernelspec": {
   "display_name": "massfunction",
   "language": "python",
   "name": "massfunction"
  },
  "language_info": {
   "codemirror_mode": {
    "name": "ipython",
    "version": 3
   },
   "file_extension": ".py",
   "mimetype": "text/x-python",
   "name": "python",
   "nbconvert_exporter": "python",
   "pygments_lexer": "ipython3",
   "version": "3.9.16"
  }
 },
 "nbformat": 4,
 "nbformat_minor": 5
}
