{
 "cells": [
  {
   "cell_type": "code",
   "execution_count": 1,
   "id": "62912dee",
   "metadata": {},
   "outputs": [],
   "source": [
    "import math\n",
    "from scipy.integrate import quad, fixed_quad\n",
    "import matplotlib.pyplot as plt\n",
    "import pickle \n",
    "import numpy as np\n",
    "import functools\n",
    "import sys \n",
    "ρcrit0 = 2.77533742639e+11 #h^2 Msol / Mpc^3\n",
    "cosmo_params = pickle.load(open('data/cosmo_params.pkl', 'rb'))"
   ]
  },
  {
   "cell_type": "code",
   "execution_count": 2,
   "id": "532aa2ce",
   "metadata": {},
   "outputs": [],
   "source": [
    "import torch\n",
    "import gpytorch\n"
   ]
  },
  {
   "cell_type": "code",
   "execution_count": 3,
   "id": "23af9bf7",
   "metadata": {},
   "outputs": [],
   "source": [
    "def log_likelihood(param_values):\n",
    "    lp = log_prior(param_values)\n",
    "    if not np.isfinite(lp):\n",
    "        return -np.inf\n",
    "    return lp + log_prob(param_values)"
   ]
  },
  {
   "cell_type": "code",
   "execution_count": 4,
   "id": "17f9eaba",
   "metadata": {},
   "outputs": [],
   "source": [
    "param_names = [ 'd1','e0' ,'e1','f0', 'g0','g1']\n",
    "\n",
    "FIXED = {\n",
    "         'f1':0.12,\n",
    "         'd0':2.4,\n",
    "        }"
   ]
  },
  {
   "cell_type": "code",
   "execution_count": 49,
   "id": "210a4e1a",
   "metadata": {},
   "outputs": [
    {
     "name": "stdout",
     "output_type": "stream",
     "text": [
      "Skipping Box12_1400\n",
      "Skipping Box15_1400\n",
      "Skipping Box21_1400\n",
      "Skipping Box22_1400\n",
      "Skipping Box35_1400\n",
      "Skipping Box36_1400\n",
      "Skipping Box47_1400\n",
      "Skipping Box49_1400\n",
      "Skipping Box52_1400\n",
      "Skipping Box54_1400\n",
      "Skipping Box63_1400\n",
      "Skipping Box70_1400\n",
      "Skipping Box82_1400\n",
      "Skipping Box85_1400\n",
      "Skipping Box95_1400\n"
     ]
    }
   ],
   "source": [
    "from os.path import exists\n",
    "params = {}\n",
    "\n",
    "\n",
    "ndim = len(param_names)\n",
    "for box in cosmo_params:\n",
    "    if('Box5_1400' in box): #something weird going on\n",
    "        continue\n",
    "    #check if there is a fit for this box by checking if the corresponding figure exsits\n",
    "    fig_fname = '/oak/stanford/orgs/kipac/users/delon/aemulusnu_massfunction/figures/%s_fit_%.2f.pdf'%(box, 1.0)\n",
    "    if(not exists(fig_fname)):\n",
    "        print('Skipping %s'%(box))\n",
    "        continue\n",
    "    sampler = None\n",
    "    with open(\"/oak/stanford/orgs/kipac/users/delon/aemulusnu_massfunction/%s_MCMC_sampler.pkl\"%(box), \"rb\") as f:\n",
    "        sampler = pickle.load(f)\n",
    "    samples = sampler.chain[:, 4000:, :].reshape((-1, ndim))\n",
    "    final_param_vals = np.percentile(samples,  50,axis=0)\n",
    "    params[box] = dict(zip(param_names, final_param_vals))"
   ]
  },
  {
   "cell_type": "code",
   "execution_count": 50,
   "id": "527d56c9",
   "metadata": {},
   "outputs": [],
   "source": [
    "def train_test_split(length, split=0.7):\n",
    "    indices = np.random.permutation(length)\n",
    "    split_len = int(length*split)\n",
    "    return indices[:split_len], indices[split_len:]"
   ]
  },
  {
   "cell_type": "code",
   "execution_count": 51,
   "id": "f45af4b6",
   "metadata": {},
   "outputs": [],
   "source": [
    "X, Y = [], []\n",
    "for box in params:\n",
    "    X += [list(cosmo_params[box].values())]\n",
    "    Y += [list(params[box].values())]\n",
    "X = np.array(X)\n",
    "Y = np.array(Y)\n",
    "\n",
    "training_idx, testing_idx = train_test_split(len(X), split=0.95)\n",
    "X_train, X_test = X[training_idx], X[testing_idx]\n",
    "Y_train, Y_test = Y[training_idx], Y[testing_idx]\n",
    "\n",
    "box_train = np.array(list(params.keys()))[training_idx]\n",
    "box_test = np.array(list(params.keys()))[testing_idx]\n",
    "\n",
    "\n",
    "X_train, X_test = torch.from_numpy(X_train).float(), torch.from_numpy(X_test).float()\n",
    "Y_train, Y_test = torch.from_numpy(Y_train).float(), torch.from_numpy(Y_test).float()\n",
    "\n",
    "n_tasks = len(Y_train[0])"
   ]
  },
  {
   "cell_type": "code",
   "execution_count": 52,
   "id": "819e1e53",
   "metadata": {},
   "outputs": [],
   "source": [
    "from gpytorch.means import ConstantMean, LinearMean\n",
    "from gpytorch.kernels import MaternKernel, ScaleKernel\n",
    "from gpytorch.variational import VariationalStrategy, CholeskyVariationalDistribution, \\\n",
    "    LMCVariationalStrategy\n",
    "from gpytorch.distributions import MultivariateNormal\n",
    "from gpytorch.models.deep_gps import DeepGPLayer, DeepGP\n",
    "from gpytorch.mlls import DeepApproximateMLL, VariationalELBO\n",
    "from gpytorch.likelihoods import MultitaskGaussianLikelihood"
   ]
  },
  {
   "cell_type": "code",
   "execution_count": 53,
   "id": "af3e9bd8",
   "metadata": {},
   "outputs": [],
   "source": [
    "class DGPHiddenLayer(DeepGPLayer):\n",
    "    def __init__(self, input_dims, output_dims, num_inducing=128, linear_mean=True):\n",
    "        inducing_points = torch.randn(output_dims, num_inducing, input_dims)\n",
    "        batch_shape = torch.Size([output_dims])\n",
    "\n",
    "        variational_distribution = CholeskyVariationalDistribution(\n",
    "            num_inducing_points=num_inducing,\n",
    "            batch_shape=batch_shape\n",
    "        )\n",
    "        variational_strategy = VariationalStrategy(\n",
    "            self,\n",
    "            inducing_points,\n",
    "            variational_distribution,\n",
    "            learn_inducing_locations=True\n",
    "        )\n",
    "\n",
    "        super().__init__(variational_strategy, input_dims, output_dims)\n",
    "        self.mean_module = ConstantMean() if linear_mean else LinearMean(input_dims)\n",
    "        self.covar_module = ScaleKernel(\n",
    "            MaternKernel(nu=2.5, batch_shape=batch_shape, ard_num_dims=input_dims),\n",
    "            batch_shape=batch_shape, ard_num_dims=None\n",
    "        )\n",
    "\n",
    "    def forward(self, x):\n",
    "        mean_x = self.mean_module(x)\n",
    "        covar_x = self.covar_module(x)\n",
    "        return MultivariateNormal(mean_x, covar_x)"
   ]
  },
  {
   "cell_type": "code",
   "execution_count": 57,
   "id": "dafc295a",
   "metadata": {},
   "outputs": [],
   "source": [
    "num_tasks = Y_train.size(-1)\n",
    "num_hidden_dgp_dims = 8\n",
    "\n",
    "\n",
    "class MultitaskDeepGP(DeepGP):\n",
    "    def __init__(self, train_x_shape):\n",
    "        hidden_layer = DGPHiddenLayer(\n",
    "            input_dims=train_x_shape[-1],\n",
    "            output_dims=num_hidden_dgp_dims,\n",
    "            linear_mean=True\n",
    "        )\n",
    "        last_layer = DGPHiddenLayer(\n",
    "            input_dims=hidden_layer.output_dims,\n",
    "            output_dims=num_tasks,\n",
    "            linear_mean=False\n",
    "        )\n",
    "        \n",
    "        super().__init__()\n",
    "        \n",
    "        self.hidden_layer = hidden_layer\n",
    "        self.last_layer = last_layer\n",
    "        \n",
    "        # We're going to use a Multitask likelihood instead of the standard GaussianLikelihood\n",
    "        self.likelihood = MultitaskGaussianLikelihood(num_tasks=num_tasks)\n",
    "    \n",
    "    def forward(self, inputs):\n",
    "        hidden_rep1 = self.hidden_layer(inputs)\n",
    "        output = self.last_layer(hidden_rep1)\n",
    "        return output\n",
    "    \n",
    "    def predict(self, test_x):\n",
    "        with torch.no_grad():\n",
    "\n",
    "            # The output of the model is a multitask MVN, where both the data points\n",
    "            # and the tasks are jointly distributed\n",
    "            # To compute the marginal predictive NLL of each data point,\n",
    "            # we will call `to_data_independent_dist`,\n",
    "            # which removes the data cross-covariance terms from the distribution.\n",
    "            preds = model.likelihood(model(test_x)).to_data_independent_dist()\n",
    "            \n",
    "        return preds.mean.mean(0), preds.variance.mean(0)\n",
    "\n",
    "\n",
    "model = MultitaskDeepGP(X_train.shape)"
   ]
  },
  {
   "cell_type": "code",
   "execution_count": 58,
   "id": "386c5996",
   "metadata": {},
   "outputs": [
    {
     "name": "stdout",
     "output_type": "stream",
     "text": [
      "torch.Size([127, 8]) torch.Size([7, 8])\n"
     ]
    }
   ],
   "source": [
    "print(X_train.shape, X_test.shape)"
   ]
  },
  {
   "cell_type": "code",
   "execution_count": 59,
   "id": "27bb3e63",
   "metadata": {},
   "outputs": [
    {
     "name": "stderr",
     "output_type": "stream",
     "text": [
      "Epoch: 100%|██████████| 300/300 [00:22<00:00, 13.33it/s, loss=-4.73]\n"
     ]
    }
   ],
   "source": [
    "from tqdm import tqdm\n",
    "model.train()\n",
    "optimizer = torch.optim.Adam(model.parameters(), lr=0.1)\n",
    "mll = DeepApproximateMLL(VariationalELBO(model.likelihood, model, num_data=Y_train.size(0)))\n",
    "\n",
    "num_epochs = 300\n",
    "epochs_iter = tqdm(range(num_epochs), desc=\"Epoch\")\n",
    "for i in epochs_iter:\n",
    "    optimizer.zero_grad()\n",
    "    output = model(X_train)\n",
    "    loss = -mll(output, Y_train)\n",
    "    epochs_iter.set_postfix(loss=loss.item())\n",
    "    loss.backward()\n",
    "    optimizer.step()"
   ]
  },
  {
   "cell_type": "code",
   "execution_count": 60,
   "id": "d05015e2",
   "metadata": {},
   "outputs": [],
   "source": [
    "from utils import *\n",
    "from massfunction import *"
   ]
  },
  {
   "cell_type": "code",
   "execution_count": 83,
   "id": "43f38978",
   "metadata": {},
   "outputs": [],
   "source": [
    "import random\n",
    "\n",
    "box =random.choice(box_test)\n",
    "mass_function = MassFunction(cosmo_params[box])"
   ]
  },
  {
   "cell_type": "code",
   "execution_count": 84,
   "id": "50ab5952",
   "metadata": {},
   "outputs": [
    {
     "data": {
      "text/plain": [
       "torch.Size([7, 8])"
      ]
     },
     "execution_count": 84,
     "metadata": {},
     "output_type": "execute_result"
    }
   ],
   "source": [
    "X_test.shape"
   ]
  },
  {
   "cell_type": "code",
   "execution_count": 90,
   "id": "bea131fa",
   "metadata": {},
   "outputs": [
    {
     "name": "stdout",
     "output_type": "stream",
     "text": [
      "torch.Size([7, 6]) torch.Size([10000, 7, 6])\n"
     ]
    }
   ],
   "source": [
    "# Set into eval mode\n",
    "model.eval()\n",
    "\n",
    "with torch.no_grad(), gpytorch.settings.fast_pred_var():\n",
    "    predictions = model.likelihood(model(X_test))\n",
    "    \n",
    "    samples = predictions.sample(torch.Size([10000])).mean(dim=1)\n",
    "\n",
    "    mean = predictions.mean.mean(dim=0)\n",
    "    \n",
    "print(mean.shape, samples.shape)\n",
    "mean = dict(zip(box_test, mean))\n",
    "samples = dict(zip(box_test, np.transpose(samples, axes=[1,0,2])))"
   ]
  },
  {
   "cell_type": "code",
   "execution_count": 91,
   "id": "a24da0df",
   "metadata": {},
   "outputs": [
    {
     "name": "stderr",
     "output_type": "stream",
     "text": [
      "100%|██████████| 16/16 [00:00<00:00, 10766.70it/s]\n"
     ]
    }
   ],
   "source": [
    "NvM_fname = '/oak/stanford/orgs/kipac/users/delon/aemulusnu_massfunction/'+box+'_NvsM.pkl'\n",
    "NvM_f = open(NvM_fname, 'rb')\n",
    "NvMs = pickle.load(NvM_f) #NvMs is a dictionary of dictionaries\n",
    "NvM_f.close()\n",
    "\n",
    "N_data = {}\n",
    "M_data = {}\n",
    "aux_data = {}\n",
    "from scipy.interpolate import interp1d, UnivariateSpline, InterpolatedUnivariateSpline\n",
    "\n",
    "vol = -1 #Mpc^3/h^3\n",
    "Mpart = -1\n",
    "\n",
    "for a in tqdm(NvMs.keys()):\n",
    "    if(a != 1): #TEST\n",
    "        continue\n",
    "        \n",
    "    c_data = NvMs[a]\n",
    "    \n",
    "    Ms = c_data['M'] #units of h^-1 Msolar\n",
    "    N = c_data['N']\n",
    "    edge_pairs = c_data['edge_pairs']\n",
    "    assert(len(Ms) == len(edge_pairs))\n",
    "    assert(len(Ms) == len(N))\n",
    "    \n",
    "\n",
    "    if(vol==-1):\n",
    "        vol = c_data['vol']\n",
    "    assert(vol == c_data['vol'])\n",
    "\n",
    "    if(Mpart==-1):\n",
    "        Mpart = c_data['Mpart']\n",
    "    assert(Mpart == c_data['Mpart'])\n",
    "\n",
    "    N_data[a] = []\n",
    "    M_data[a] = []\n",
    "    aux_data[a] = []\n",
    "    for N_curr, M_curr, edge_pair in zip(N, Ms, edge_pairs):\n",
    "        N_data[a] += [N_curr]\n",
    "        M_data[a] += [M_curr]\n",
    "        aux_data[a] += [{'a':a, 'edge_pair':edge_pair}]\n",
    "    \n",
    "    mass_function.compute_dlnsinvdM(a)"
   ]
  },
  {
   "cell_type": "code",
   "execution_count": 92,
   "id": "a5cf56d4",
   "metadata": {},
   "outputs": [],
   "source": [
    "M_numerics = np.logspace(np.log10(100*Mpart), 17, 50)\n",
    "\n",
    "jackknife_covs_fname = '/oak/stanford/orgs/kipac/users/delon/aemulusnu_massfunction/'+box+'_jackknife_covs.pkl'\n",
    "jackknife_covs_f = open(jackknife_covs_fname, 'rb')\n",
    "jackknife = pickle.load(jackknife_covs_f)\n",
    "jackknife_covs_f.close()\n",
    "\n",
    "jack_covs = {a:jackknife[a][1] for a in N_data}\n",
    "\n",
    "# Compute the weighted covariance matrix incorporating jackknife and poisson\n",
    "weighted_cov = {a: jack_covs[a] for a in jack_covs}"
   ]
  },
  {
   "cell_type": "code",
   "execution_count": 93,
   "id": "8985d377",
   "metadata": {},
   "outputs": [],
   "source": [
    "a_list = list(NvMs.keys())"
   ]
  },
  {
   "cell_type": "code",
   "execution_count": 94,
   "id": "d97b23ae",
   "metadata": {},
   "outputs": [
    {
     "name": "stderr",
     "output_type": "stream",
     "text": [
      "100%|██████████| 10000/10000 [00:30<00:00, 329.89it/s]\n",
      "/tmp/ipykernel_7981/2461789383.py:106: UserWarning: All values for SymLogScale are below linthresh, making it effectively linear. You likely should lower the value of linthresh. \n",
      "  axs[1].axhline(0, c='black')\n"
     ]
    },
    {
     "data": {
      "image/png": "[encoded data removed]",
      "text/plain": [
       "<Figure size 864x504 with 2 Axes>"
      ]
     },
     "metadata": {
      "needs_background": "light"
     },
     "output_type": "display_data"
    }
   ],
   "source": [
    "from multiprocessing import Pool\n",
    "\n",
    "def estimate_uncertainty(param_combo):\n",
    "    c_params = dict(zip(param_names, param_combo)) | FIXED\n",
    "    tinker_eval_MCMC = [mass_function.tinker(a, M_c, c_params,)*vol for M_c in M_numerics]\n",
    "    f_dndM_MCMC =  interp1d(M_numerics, tinker_eval_MCMC, kind='linear', \n",
    "                            bounds_error=False, fill_value=0.)\n",
    "    tinker_eval_MCMC = np.array([quad(f_dndM_MCMC, edge[0],  edge[1], epsabs=1e-1)[0] for edge in edge_pairs])\n",
    "    return tinker_eval_MCMC\n",
    "\n",
    "for a in reversed(N_data):\n",
    "    if(a != 1):\n",
    "        continue\n",
    "    fig1 = plt.figure(figsize =(12, 7))\n",
    "\n",
    "    axs=[fig1.add_axes((0.2,0.4,.75,.6)), fig1.add_axes((0.2,0.0,.75,.4))]\n",
    "    plt.subplots_adjust(wspace=0, hspace=0)\n",
    "    Pk = mass_function.Pka[a]\n",
    "    c_data = NvMs[a]\n",
    "\n",
    "    Ms = M_data[a]\n",
    "    N = N_data[a]\n",
    "    edge_pairs = c_data['edge_pairs']\n",
    "\n",
    "    edges = [edge[0] for edge in edge_pairs]\n",
    "    edges += [edge_pairs[-1][1]]\n",
    "\n",
    "    #shade in 1% and 10% error region\n",
    "    edges = np.array(edges)\n",
    "\n",
    "    y1 = 0.1*np.ones_like(N)\n",
    "    y1 = np.append(y1, y1[-1])\n",
    "    y1 = np.append(y1[0], y1)\n",
    "\n",
    "    y2 = -0.1*np.ones_like(N)\n",
    "    y2 = np.append(y2, y2[-1])\n",
    "    y2 = np.append(y2[0], y2)\n",
    "\n",
    "    c_Ms = np.append(Ms, edges[-1])\n",
    "    c_Ms = np.append(edges[0], c_Ms)\n",
    "    axs[1].fill_between(c_Ms, y1, y2, alpha=1, color='0.95',label='<10% Error')\n",
    "\n",
    "    y1 = 0.01*np.ones_like(N)\n",
    "    y1 = np.append(y1, y1[-1])\n",
    "    y1 = np.append(y1[0], y1)\n",
    "\n",
    "    y2 = -0.01*np.ones_like(N)\n",
    "    y2 = np.append(y2, y2[-1])\n",
    "    y2 = np.append(y2[0], y2)\n",
    "\n",
    "    axs[1].fill_between(c_Ms, y1, y2, alpha=1, color='0.85',label='<1% Error')\n",
    "\n",
    "\n",
    "    dM = np.array([edges[1]-edges[0] for edges in edge_pairs])\n",
    "\n",
    "    \n",
    "\n",
    "    #get uncertainty in emulator prediction\n",
    "    pool = Pool()\n",
    "    uncertainty_estimate = list(tqdm(pool.imap(estimate_uncertainty, samples[box]), \n",
    "                                     total=len(samples[box])))    \n",
    "    emulator_uncertainty = np.std(uncertainty_estimate, axis=0)\n",
    "\n",
    "\n",
    "    #Emulator \n",
    "    c_params = dict(zip(param_names, mean[box])) | FIXED\n",
    "    tinker_eval_MCMC = [mass_function.tinker(a, M_c, c_params,)*vol for M_c in M_numerics]\n",
    "    f_dndM_MCMC =  interp1d(M_numerics, tinker_eval_MCMC, kind='linear', \n",
    "                            bounds_error=False, fill_value=0.)\n",
    "    tinker_eval_MCMC = np.array([quad(f_dndM_MCMC, edge[0],  edge[1], epsabs=1e-1)[0] for edge in edge_pairs])\n",
    "    \n",
    "    axs[0].errorbar(Ms, tinker_eval_MCMC, emulator_uncertainty, fmt='x', c='red')\n",
    "    axs[0].bar(x=edges[:-1], height=tinker_eval_MCMC, width=np.diff(edges), \n",
    "               align='edge', fill=False, ec='red', label='Emulator')\n",
    "    axs[1].errorbar(Ms, (tinker_eval_MCMC-N)/N, emulator_uncertainty/N, fmt='x', color='red')\n",
    "\n",
    "    #ML Fit\n",
    "    params = None\n",
    "    if(box in box_test):\n",
    "        params = Y_test[np.where(box_test==box)][0]\n",
    "    elif(box in box_train):\n",
    "        params = Y_train[np.where(box_train==box)][0]\n",
    "\n",
    "    c_params = dict(zip(param_names, params)) | FIXED\n",
    "    tinker_eval_MCMC = [mass_function.tinker(a, M_c, c_params,)*vol for M_c in M_numerics]\n",
    "    f_dndM_MCMC =  interp1d(M_numerics, tinker_eval_MCMC, kind='linear', \n",
    "                            bounds_error=False, fill_value=0.)\n",
    "    tinker_eval_MCMC = np.array([quad(f_dndM_MCMC, edge[0],  edge[1], epsabs=1e-1)[0] for edge in edge_pairs])\n",
    "    axs[0].scatter(Ms, tinker_eval_MCMC, s=50 , marker='x', c='blue')\n",
    "    axs[0].bar(x=edges[:-1], height=tinker_eval_MCMC, width=np.diff(edges), \n",
    "               align='edge', fill=False, ec='blue', label='ML Fit')\n",
    "    axs[1].scatter(Ms, (tinker_eval_MCMC-N)/N, marker='x', color='blue')\n",
    "\n",
    "    #Data\n",
    "    axs[0].bar(x=edges[:-1], height=N, width=np.diff(edges),\n",
    "           align='edge', fill=False, ec='black', label='Data')\n",
    "\n",
    "    axs[0].set_xscale('log')\n",
    "    axs[0].set_yscale('log')\n",
    "    axs[0].legend(frameon=False)\n",
    "    axs[0].set_ylabel('N')\n",
    "\n",
    "    axs[1].set_xscale('log')\n",
    "    axs[1].set_yscale('symlog', linthresh=1e-2)    \n",
    "    axs[1].legend(frameon=False)\n",
    "    axs[1].axhline(0, c='black')\n",
    "    axs[1].set_ylabel('N')\n",
    "    axs[1].set_xlabel(r'Mass $[h^{-1}M_\\odot]$')\n",
    "    axs[1].set_ylabel(r'$\\frac{N_{\\rm Tinker}-N_{\\rm data}}{N_{\\rm data}} $')\n",
    "    axs[0].set_title('%s, a=%.2f, z=%.2f'%(box, a, scaleToRedshift(a)))\n",
    "    i+=1\n",
    "\n",
    "    axs[0].set_xlim((200*Mpart, np.max(edges)))\n",
    "    axs[1].set_xlim((200*Mpart, np.max(edges)))\n",
    "    axs[1].set_ylim((-1e1, 1e1))\n",
    "    plt.savefig('/oak/stanford/orgs/kipac/users/delon/aemulusnu_massfunction/figures/%s_deepgpemu_fit_%.2f.pdf'%(box, a), bbox_inches='tight')"
   ]
  },
  {
   "cell_type": "code",
   "execution_count": null,
   "id": "5b925cb2",
   "metadata": {},
   "outputs": [],
   "source": []
  }
 ],
 "metadata": {
  "kernelspec": {
   "display_name": "massfunction",
   "language": "python",
   "name": "massfunction"
  },
  "language_info": {
   "codemirror_mode": {
    "name": "ipython",
    "version": 3
   },
   "file_extension": ".py",
   "mimetype": "text/x-python",
   "name": "python",
   "nbconvert_exporter": "python",
   "pygments_lexer": "ipython3",
   "version": "3.9.16"
  }
 },
 "nbformat": 4,
 "nbformat_minor": 5
}
