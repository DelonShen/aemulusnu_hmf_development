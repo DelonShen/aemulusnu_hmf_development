{
 "cells": [
  {
   "cell_type": "code",
   "execution_count": 1,
   "id": "97fb5d30",
   "metadata": {},
   "outputs": [],
   "source": [
    "import math\n",
    "from scipy.integrate import quad, fixed_quad\n",
    "import matplotlib.pyplot as plt\n",
    "import pickle \n",
    "import numpy as np\n",
    "import functools\n",
    "import sys \n",
    "from tqdm import tqdm, trange\n",
    "from classy import Class\n",
    "\n",
    "\n",
    "\n",
    "from utils import *\n",
    "from massfunction import *\n",
    "\n",
    "\n",
    "import math\n",
    "import torch\n",
    "import gpytorch\n",
    "from matplotlib import pyplot as pl\n",
    "from emulator import *"
   ]
  },
  {
   "cell_type": "code",
   "execution_count": null,
   "id": "de4cc581",
   "metadata": {},
   "outputs": [],
   "source": []
  },
  {
   "cell_type": "code",
   "execution_count": 2,
   "id": "70b7cec3",
   "metadata": {},
   "outputs": [],
   "source": [
    "emulator = AemulusNu_HMF_Emulator()"
   ]
  },
  {
   "cell_type": "code",
   "execution_count": 3,
   "id": "7d0985b1",
   "metadata": {},
   "outputs": [],
   "source": [
    "#Plank 2018\n",
    "cosmology = {'10^9 As':2.09681,\n",
    "            'ns': 0.9652,\n",
    "            'H0': 67.37,\n",
    "            'w0': -1,\n",
    "            'ombh2': 0.02233,\n",
    "            'omch2': 0.1198,\n",
    "            'nu_mass_ev': 0.07071068,\n",
    "            'sigma8': 0.8101,\n",
    "            }"
   ]
  },
  {
   "cell_type": "code",
   "execution_count": 4,
   "id": "a0309366",
   "metadata": {},
   "outputs": [
    {
     "name": "stderr",
     "output_type": "stream",
     "text": [
      "  0%|          | 0/100 [00:00<?, ?it/s]/home/users/delon/aemulusnu_massfunction/utils.py:43: IntegrationWarning: The occurrence of roundoff error is detected, which prevents \n",
      "  the requested tolerance from being achieved.  The error may be \n",
      "  underestimated.\n",
      "  res, err = quad(lambda k: dσ2dk(k, R, pk), 0, 20/R, limit=1000)\n",
      "/home/users/delon/aemulusnu_massfunction/utils.py:59: IntegrationWarning: The occurrence of roundoff error is detected, which prevents \n",
      "  the requested tolerance from being achieved.  The error may be \n",
      "  underestimated.\n",
      "  res, err = quad(lambda k: dσ2dRdk(k, R, pk), 0, 20/R, limit=1000)\n",
      "100%|██████████| 100/100 [00:20<00:00,  4.89it/s]\n"
     ]
    }
   ],
   "source": [
    "M = 10**np.linspace(13, 17, 100)\n",
    "dndM = []\n",
    "for m in tqdm(M):\n",
    "    dndM += [emulator.predict(cosmology,0, m)]"
   ]
  },
  {
   "cell_type": "code",
   "execution_count": null,
   "id": "2c8fb0fc",
   "metadata": {},
   "outputs": [],
   "source": [
    "for i in range(1):\n",
    "    dndM = np.vectorize()"
   ]
  },
  {
   "cell_type": "code",
   "execution_count": 5,
   "id": "8d3981aa",
   "metadata": {},
   "outputs": [
    {
     "data": {
      "text/plain": [
       "(1e-61, 1e-16)"
      ]
     },
     "execution_count": 5,
     "metadata": {},
     "output_type": "execute_result"
    },
    {
     "data": {
      "image/png": "[encoded data removed]",
      "text/plain": [
       "<Figure size 432x288 with 1 Axes>"
      ]
     },
     "metadata": {
      "needs_background": "light"
     },
     "output_type": "display_data"
    }
   ],
   "source": [
    "plt.plot(M, dndM)\n",
    "plt.xscale('log')\n",
    "plt.yscale('log')\n",
    "plt.ylim(1e-61, 1e-16)"
   ]
  }
 ],
 "metadata": {
  "kernelspec": {
   "display_name": "massfunction",
   "language": "python",
   "name": "massfunction"
  },
  "language_info": {
   "codemirror_mode": {
    "name": "ipython",
    "version": 3
   },
   "file_extension": ".py",
   "mimetype": "text/x-python",
   "name": "python",
   "nbconvert_exporter": "python",
   "pygments_lexer": "ipython3",
   "version": "3.9.16"
  }
 },
 "nbformat": 4,
 "nbformat_minor": 5
}
