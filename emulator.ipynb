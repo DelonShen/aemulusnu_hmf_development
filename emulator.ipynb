{
 "cells": [
  {
   "cell_type": "code",
   "execution_count": 82,
   "id": "97fb5d30",
   "metadata": {},
   "outputs": [],
   "source": [
    "import math\n",
    "from scipy.integrate import quad, fixed_quad\n",
    "import matplotlib.pyplot as plt\n",
    "import pickle \n",
    "import numpy as np\n",
    "import functools\n",
    "import sys \n",
    "from tqdm import tqdm, trange\n",
    "from classy import Class\n",
    "\n",
    "\n",
    "\n",
    "from utils import *\n",
    "from massfunction import *\n",
    "\n",
    "\n",
    "import math\n",
    "import torch\n",
    "import gpytorch\n",
    "from matplotlib import pyplot as pl"
   ]
  },
  {
   "cell_type": "code",
   "execution_count": 83,
   "id": "de4cc581",
   "metadata": {},
   "outputs": [],
   "source": [
    "class MultitaskGPModel(gpytorch.models.ExactGP):\n",
    "    def __init__(self, train_x, train_y, likelihood):\n",
    "        super(MultitaskGPModel, self).__init__(train_x, train_y, likelihood)\n",
    "        self.mean_module = gpytorch.means.MultitaskMean(\n",
    "            gpytorch.means.LinearMean(input_size=X_train.shape[1]), num_tasks=n_tasks\n",
    "        )\n",
    "        self.covar_module = gpytorch.kernels.MultitaskKernel(\n",
    "             gpytorch.kernels.SpectralMixtureKernel(num_mixtures=3, \n",
    "                                                    ard_num_dims=X_train.shape[1]),\n",
    "            num_tasks=n_tasks, rank=1\n",
    "        )\n",
    "    def forward(self, x):\n",
    "        mean_x = self.mean_module(x)\n",
    "        covar_x = self.covar_module(x)\n",
    "        return gpytorch.distributions.MultitaskMultivariateNormal(mean_x, covar_x)\n",
    "    \n",
    "class AemulusNu_HMF_Emulator:\n",
    "    \"\"\"\n",
    "    Halo Mass Function Emulator,\n",
    "    built from Aemulus-ν suite of simulations\n",
    "    \"\"\"\n",
    "    \n",
    "    def __init__(self):\n",
    "        #TODO eventaully replace with local emuatlor\n",
    "        self.MassFunctions = {}\n",
    "#         with open(\"GP_emulator.pkl\", \"rb\") as f:\n",
    "        with open('/scratch/users/delon/aemulusnu_massfunction/GP_loBox0_1400.pkl', 'rb') as f:\n",
    "            self.model, self.in_scaler, self.out_scaler, self.likelihood = pickle.load(f)\n",
    "            self.model.eval()\n",
    "            self.likelihood.eval()\n",
    "\n",
    "    def predict(self, cosmology, z, m):\n",
    "        \"\"\"\n",
    "        Parameters:\n",
    "            - cosmology (dict): A dictioniary containing the cosmological parameters\n",
    "                - 10^9 As: As * 10^9\n",
    "                - ns: Spectral index\n",
    "                - H0: Hubble parameter in [km/s/Mpc]\n",
    "                - w0: Dark Energy Equation fo State\n",
    "                - ombh2: Ω_b h^2\n",
    "                - omch2: Ω_m h^2\n",
    "                - nu_mass_ev: Neutrino mass sum in [eV]\n",
    "                - sigma8: σ8 \n",
    "            - z (float): Redshift to evaluate dn/dM at\n",
    "            - m (float): Mass [M_solar / h] to evaluate dn/dM at\n",
    "        Returns:\n",
    "            - dn/dm (m,z): Halo Mass Function evaluated at mass 'm' \n",
    "                           during redshift 'z' for given cosmology\n",
    "                           [h^4 Mpc^-3 Msolar^(-1)]\n",
    "        \"\"\"    \n",
    "        \n",
    "        a = redshiftToScale(z)\n",
    "        \n",
    "        cosmology['As'] = cosmology['10^9 As'] #account for poor naming convention in MassFunction\n",
    "        \n",
    "        key_ordering = ['10^9 As', 'ns', 'H0', 'w0', 'ombh2', 'omch2', 'nu_mass_ev', 'sigma8']\n",
    "        curr_cosmo_values = [cosmology[curr_key] for curr_key in key_ordering]\n",
    "\n",
    "        if(tuple(curr_cosmo_values) not in self.MassFunctions):\n",
    "            self.MassFunctions[tuple(curr_cosmo_values)] = MassFunction(cosmology)\n",
    "        \n",
    "        mass_function = self.MassFunctions[tuple(curr_cosmo_values)]\n",
    "        mass_function.compute_dlnsinvdM(a)\n",
    "        \n",
    "        \n",
    "        sigma8 = mass_function.pkclass.sigma(8, z, h_units=True) #sigma8 at current redshift\n",
    "        \n",
    "        \n",
    "        X = self.in_scaler.transform(np.array([curr_cosmo_values + [a, sigma8]]))\n",
    "        with torch.no_grad(), gpytorch.settings.fast_pred_var():\n",
    "            predictions = self.likelihood(self.model(torch.from_numpy(X).float()))\n",
    "            mean = self.out_scaler.inverse_transform(predictions.mean.numpy())\n",
    "        tinker_params = dict(zip(['d','e','f','g'], mean[0]))\n",
    "        return mass_function.tinker(a, m, **tinker_params)"
   ]
  },
  {
   "cell_type": "code",
   "execution_count": 84,
   "id": "70b7cec3",
   "metadata": {},
   "outputs": [],
   "source": [
    "emulator = AemulusNu_HMF_Emulator()"
   ]
  },
  {
   "cell_type": "code",
   "execution_count": 85,
   "id": "7d0985b1",
   "metadata": {},
   "outputs": [],
   "source": [
    "#Plank 2018\n",
    "cosmology = {'10^9 As':2.09681,\n",
    "            'ns': 0.9652,\n",
    "            'H0': 67.37,\n",
    "            'w0': -1,\n",
    "            'ombh2': 0.02233,\n",
    "            'omch2': 0.1198,\n",
    "            'nu_mass_ev': 0.07071068,\n",
    "            'sigma8': 0.8101,\n",
    "            }"
   ]
  },
  {
   "cell_type": "code",
   "execution_count": 86,
   "id": "59080937",
   "metadata": {},
   "outputs": [
    {
     "data": {
      "text/plain": [
       "4.84866370754696e-19"
      ]
     },
     "execution_count": 86,
     "metadata": {},
     "output_type": "execute_result"
    }
   ],
   "source": [
    "emulator.predict(cosmology, 0, 1e14)"
   ]
  },
  {
   "cell_type": "code",
   "execution_count": 90,
   "id": "a0309366",
   "metadata": {},
   "outputs": [
    {
     "name": "stderr",
     "output_type": "stream",
     "text": [
      "100%|██████████| 100/100 [01:11<00:00,  1.40it/s]\n"
     ]
    }
   ],
   "source": [
    "M = 10**np.linspace(13, 17, 100)\n",
    "dndM = []\n",
    "for m in tqdm(M):\n",
    "    dndM += [emulator.predict(cosmology,0, m)]"
   ]
  },
  {
   "cell_type": "code",
   "execution_count": 91,
   "id": "8d3981aa",
   "metadata": {},
   "outputs": [
    {
     "data": {
      "text/plain": [
       "(1e-61, 1e-16)"
      ]
     },
     "execution_count": 91,
     "metadata": {},
     "output_type": "execute_result"
    },
    {
     "data": {
      "image/png": "[encoded data removed]",
      "text/plain": [
       "<Figure size 432x288 with 1 Axes>"
      ]
     },
     "metadata": {
      "needs_background": "light"
     },
     "output_type": "display_data"
    }
   ],
   "source": [
    "plt.plot(M, dndM)\n",
    "plt.xscale('log')\n",
    "plt.yscale('log')\n",
    "plt.ylim(1e-61, 1e-16)"
   ]
  },
  {
   "cell_type": "code",
   "execution_count": 92,
   "id": "f677292f",
   "metadata": {},
   "outputs": [
    {
     "name": "stdout",
     "output_type": "stream",
     "text": [
      "1\n"
     ]
    }
   ],
   "source": [
    "print(1)"
   ]
  }
 ],
 "metadata": {
  "kernelspec": {
   "display_name": "massfunction",
   "language": "python",
   "name": "massfunction"
  },
  "language_info": {
   "codemirror_mode": {
    "name": "ipython",
    "version": 3
   },
   "file_extension": ".py",
   "mimetype": "text/x-python",
   "name": "python",
   "nbconvert_exporter": "python",
   "pygments_lexer": "ipython3",
   "version": "3.9.16"
  }
 },
 "nbformat": 4,
 "nbformat_minor": 5
}
