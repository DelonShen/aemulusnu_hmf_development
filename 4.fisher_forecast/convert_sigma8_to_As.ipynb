{
 "cells": [
  {
   "cell_type": "code",
   "execution_count": 1,
   "id": "09ed7689",
   "metadata": {},
   "outputs": [],
   "source": [
    "import sys \n",
    "\n",
    "import pyccl as ccl"
   ]
  },
  {
   "cell_type": "code",
   "execution_count": 2,
   "id": "a2d04dd6",
   "metadata": {},
   "outputs": [],
   "source": [
    "fiducial_h = 0.6736\n",
    "\n",
    "#(Same as above but put in DES Y3 OmegaM and Sigma8)\n",
    "Ωmh2 =  0.339*fiducial_h**2 # Y3 3x2pt\n",
    "Ωνh2 = 0.06/(93.14)\n",
    "#From the BBN seciton of DES Y3 paper\n",
    "Ωbh2 = 2.195/100\n",
    "Ωch2 = Ωmh2-Ωbh2-Ωνh2\n",
    "fiducial_cosmology = {'10^9 As': -1 , \n",
    "                      'ns': 0.9649,\n",
    "                      'H0': 67.36,\n",
    "                      'w0': -1,\n",
    "                      'ombh2': Ωbh2,\n",
    "                      'omch2': Ωch2,\n",
    "                      'nu_mass_ev': 0.06,}"
   ]
  },
  {
   "cell_type": "code",
   "execution_count": 3,
   "id": "d54b5bda",
   "metadata": {},
   "outputs": [
    {
     "data": {
      "text/plain": [
       "0.8402187282371845"
      ]
     },
     "execution_count": 3,
     "metadata": {},
     "output_type": "execute_result"
    }
   ],
   "source": [
    "cosmo = ccl.Cosmology(Omega_c=0.27, Omega_b=0.045, h=0.67, A_s=2.1e-9, n_s=0.96)\n",
    "cosmo.sigma8()"
   ]
  },
  {
   "cell_type": "code",
   "execution_count": 4,
   "id": "04cfa977",
   "metadata": {},
   "outputs": [],
   "source": [
    "target_sigma8 = 0.733\n",
    "\n",
    "\n",
    "curr_val = 2.1\n",
    "A_s = curr_val * 1e-9\n",
    "cosmo = ccl.Cosmology(Omega_c=0.339, Omega_b=0.045, h=0.67, sigma8=0.733, n_s=0.96)"
   ]
  },
  {
   "cell_type": "code",
   "execution_count": 5,
   "id": "4d31787f",
   "metadata": {},
   "outputs": [
    {
     "data": {
      "text/plain": [
       "0.049301692328524445"
      ]
     },
     "execution_count": 5,
     "metadata": {},
     "output_type": "execute_result"
    }
   ],
   "source": [
    "0.02237/0.6736**2"
   ]
  },
  {
   "cell_type": "code",
   "execution_count": 6,
   "id": "b4a34897",
   "metadata": {},
   "outputs": [
    {
     "name": "stdout",
     "output_type": "stream",
     "text": [
      "Current value: 2.500000, Current sigma8: 0.939801\n",
      "Current value: 1.250000, Current sigma8: 0.664540\n",
      "Current value: 1.875000, Current sigma8: 0.813892\n",
      "Current value: 1.562500, Current sigma8: 0.742978\n",
      "Current value: 1.406250, Current sigma8: 0.704851\n",
      "Current value: 1.484375, Current sigma8: 0.724166\n",
      "Current value: 1.523438, Current sigma8: 0.733632\n",
      "Current value: 1.503906, Current sigma8: 0.728914\n",
      "Current value: 1.513672, Current sigma8: 0.731277\n",
      "Current value: 1.518555, Current sigma8: 0.732456\n",
      "Current value: 1.520996, Current sigma8: 0.733044\n",
      "Current value: 1.519775, Current sigma8: 0.732750\n",
      "Current value: 1.520386, Current sigma8: 0.732897\n",
      "Current value: 1.520691, Current sigma8: 0.732971\n",
      "Current value: 1.520844, Current sigma8: 0.733007\n",
      "Current value: 1.520767, Current sigma8: 0.732989\n",
      "Current value: 1.520805, Current sigma8: 0.732998\n",
      "Current value: 1.520824, Current sigma8: 0.733003\n",
      "Current value: 1.520815, Current sigma8: 0.733001\n",
      "Current value: 1.520810, Current sigma8: 0.732999\n",
      "Current value: 1.520813, Current sigma8: 0.733000\n",
      "Current value: 1.520814, Current sigma8: 0.733000\n",
      "Current value: 1.520813, Current sigma8: 0.733000\n",
      "\n",
      "Final result:\n",
      "curr_val: 1.520813\n",
      "sigma8: 0.733000\n",
      "target_sigma8: 0.733000\n",
      "Difference: 0.000000026\n"
     ]
    }
   ],
   "source": [
    "def calculate_sigma8(curr_val):\n",
    "    A_s = curr_val * 1e-9\n",
    "    cosmo = ccl.Cosmology(Omega_c=fiducial_cosmology['omch2']/fiducial_h**2, \n",
    "                          Omega_b=fiducial_cosmology['ombh2']/fiducial_h**2, \n",
    "                          h=fiducial_h, A_s=A_s, n_s=0.9649, m_nu=0.06)\n",
    "    return cosmo.sigma8()\n",
    "\n",
    "\n",
    "\n",
    "target_sigma8 = 0.733 #DES Y3 3x2pt\n",
    "lower_bound = 0\n",
    "upper_bound = 5\n",
    "tolerance = 1e-6\n",
    "\n",
    "\n",
    "while(upper_bound - lower_bound > tolerance):\n",
    "    curr_val = (lower_bound + upper_bound) / 2\n",
    "    current_sigma8 = calculate_sigma8(curr_val)\n",
    "    \n",
    "    if current_sigma8 < target_sigma8:\n",
    "        lower_bound = curr_val\n",
    "    else:\n",
    "        upper_bound = curr_val\n",
    "\n",
    "    print(\"Current value: %.6f, Current sigma8: %.6f\" % (curr_val, current_sigma8))\n",
    "\n",
    "final_curr_val = (lower_bound + upper_bound) / 2\n",
    "final_sigma8 = calculate_sigma8(final_curr_val)\n",
    "\n",
    "print(\"\\nFinal result:\")\n",
    "print(\"curr_val: %.6f\" % final_curr_val)\n",
    "print(\"sigma8: %.6f\" % final_sigma8)\n",
    "print(\"target_sigma8: %.6f\" % target_sigma8)\n",
    "print(\"Difference: %.9f\" % abs(final_sigma8 - target_sigma8))"
   ]
  },
  {
   "cell_type": "code",
   "execution_count": 7,
   "id": "f8ca5bcd",
   "metadata": {},
   "outputs": [
    {
     "data": {
      "text/plain": [
       "[<matplotlib.lines.Line2D at 0x7f5fd7299d00>]"
      ]
     },
     "execution_count": 7,
     "metadata": {},
     "output_type": "execute_result"
    },
    {
     "data": {
      "image/png": "[encoded data removed]",
      "text/plain": [
       "<Figure size 432x288 with 1 Axes>"
      ]
     },
     "metadata": {
      "needs_background": "light"
     },
     "output_type": "display_data"
    }
   ],
   "source": [
    "import numpy as np\n",
    "import matplotlib.pyplot as plt\n",
    "As_s = np.linspace(1,5, 100)\n",
    "sigma8_s = list(map(calculate_sigma8, As_s))\n",
    "plt.plot(As_s, sigma8_s)"
   ]
  },
  {
   "cell_type": "code",
   "execution_count": null,
   "id": "8934f068",
   "metadata": {},
   "outputs": [],
   "source": []
  }
 ],
 "metadata": {
  "kernelspec": {
   "display_name": "massfunction",
   "language": "python",
   "name": "massfunction"
  },
  "language_info": {
   "codemirror_mode": {
    "name": "ipython",
    "version": 3
   },
   "file_extension": ".py",
   "mimetype": "text/x-python",
   "name": "python",
   "nbconvert_exporter": "python",
   "pygments_lexer": "ipython3",
   "version": "3.9.16"
  }
 },
 "nbformat": 4,
 "nbformat_minor": 5
}
