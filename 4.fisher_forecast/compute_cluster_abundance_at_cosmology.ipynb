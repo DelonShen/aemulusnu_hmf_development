{
 "cells": [
  {
   "cell_type": "code",
   "execution_count": 1,
   "id": "4e3dbc86",
   "metadata": {},
   "outputs": [
    {
     "name": "stdout",
     "output_type": "stream",
     "text": [
      "fiducial: \n",
      "{'10^9 As': 2.09681, 'ns': 0.9652, 'H0': 67.37, 'w0': -1, 'ombh2': 0.02233, 'omch2': 0.1198, 'nu_mass_ev': 0.07}\n",
      "pos step\n",
      "{'10^9 As': 2.09681, 'ns': 0.9652, 'H0': 67.37, 'w0': -0.9, 'ombh2': 0.02233, 'omch2': 0.1198, 'nu_mass_ev': 0.07}\n"
     ]
    },
    {
     "name": "stderr",
     "output_type": "stream",
     "text": [
      "100%|██████████| 4/4 [05:18<00:00, 79.60s/it]\n"
     ]
    }
   ],
   "source": [
    "from aemulusnu_massfunction.emulator import *\n",
    "from aemulusnu_massfunction.fisher_utils import *\n",
    "import pickle\n",
    "import sys\n",
    "\n",
    "parameter_changed = 'w0'\n",
    "parameter_log10_rel_step_size = -1\n",
    "\n",
    "z_bin_edges = [0.2, 0.4, 0.6, 0.8, 1.0]\n",
    "richness_bin_edges = [20., 30., 45., 60., 300.]\n",
    "\n",
    "print('fiducial: ')\n",
    "print(fiducial_cosmology)\n",
    "\n",
    "cosmology = fiducial_cosmology.copy()\n",
    "cosmology[parameter_changed] += np.abs(cosmology[parameter_changed]) * 10**parameter_log10_rel_step_size\n",
    "\n",
    "print('pos step')\n",
    "print(cosmology)\n",
    "\n",
    "cluster_abundance_pos = N_in_z_bins_and_richness_bins(cosmology, richness_bin_edges, z_bin_edges)\n",
    "\n",
    "\n",
    "\n",
    "with open('/oak/stanford/orgs/kipac/users/delon/aemulusnu_massfunction/cluster_abundance_fisher_%s_%f'%(parameter_changed, parameter_log10_rel_step_size), 'wb') as file:\n",
    "    pickle.dump(cluster_abundance_pos, file)\n",
    "\n",
    "\n",
    "\n"
   ]
  },
  {
   "cell_type": "code",
   "execution_count": null,
   "id": "53b6d65d",
   "metadata": {},
   "outputs": [],
   "source": []
  }
 ],
 "metadata": {
  "kernelspec": {
   "display_name": "massfunction",
   "language": "python",
   "name": "massfunction"
  },
  "language_info": {
   "codemirror_mode": {
    "name": "ipython",
    "version": 3
   },
   "file_extension": ".py",
   "mimetype": "text/x-python",
   "name": "python",
   "nbconvert_exporter": "python",
   "pygments_lexer": "ipython3",
   "version": "3.9.16"
  }
 },
 "nbformat": 4,
 "nbformat_minor": 5
}
