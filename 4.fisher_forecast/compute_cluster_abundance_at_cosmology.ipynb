{
 "cells": [
  {
   "cell_type": "code",
   "execution_count": 1,
   "id": "4e3dbc86",
   "metadata": {},
   "outputs": [
    {
     "name": "stdout",
     "output_type": "stream",
     "text": [
      "fiducial: \n",
      "{'10^9 As': 2.09681, 'ns': 0.9652, 'H0': 67.37, 'w0': -1, 'ombh2': 0.02233, 'omch2': 0.1198, 'nu_mass_ev': 0.07, 'sigma8': 0.8101}\n",
      "pos step\n",
      "{'10^9 As': 2.09681, 'ns': 0.9652, 'H0': 67.37, 'w0': -0.9, 'ombh2': 0.02233, 'omch2': 0.1198, 'nu_mass_ev': 0.07, 'sigma8': 0.8101}\n"
     ]
    },
    {
     "name": "stderr",
     "output_type": "stream",
     "text": [
      "\r",
      "  0%|          | 0/4 [00:00<?, ?it/s]"
     ]
    },
    {
     "name": "stdout",
     "output_type": "stream",
     "text": [
      "Creating dndM interpolation\n"
     ]
    },
    {
     "name": "stderr",
     "output_type": "stream",
     "text": [
      "\n",
      "  0%|          | 0/25 [00:00<?, ?it/s]\u001b[A\n",
      "  4%|▍         | 1/25 [00:07<02:55,  7.32s/it]\u001b[A\n",
      "  8%|▊         | 2/25 [00:11<02:06,  5.50s/it]\u001b[A\n",
      " 12%|█▏        | 3/25 [00:15<01:47,  4.87s/it]\u001b[A\n",
      " 16%|█▌        | 4/25 [00:19<01:35,  4.53s/it]\u001b[A\n",
      " 20%|██        | 5/25 [00:23<01:27,  4.38s/it]\u001b[A\n",
      " 24%|██▍       | 6/25 [00:27<01:21,  4.30s/it]\u001b[A\n",
      " 28%|██▊       | 7/25 [00:32<01:16,  4.24s/it]\u001b[A\n",
      " 32%|███▏      | 8/25 [00:36<01:11,  4.19s/it]\u001b[A\n",
      " 36%|███▌      | 9/25 [00:40<01:06,  4.16s/it]\u001b[A\n",
      " 40%|████      | 10/25 [00:44<01:02,  4.14s/it]\u001b[A\n",
      " 44%|████▍     | 11/25 [00:48<00:58,  4.15s/it]\u001b[A\n",
      " 48%|████▊     | 12/25 [00:52<00:53,  4.14s/it]\u001b[A\n",
      " 52%|█████▏    | 13/25 [00:56<00:49,  4.13s/it]\u001b[A\n",
      " 56%|█████▌    | 14/25 [01:00<00:45,  4.16s/it]\u001b[A\n",
      " 60%|██████    | 15/25 [01:05<00:41,  4.17s/it]\u001b[A\n",
      " 64%|██████▍   | 16/25 [01:09<00:37,  4.15s/it]\u001b[A\n",
      " 68%|██████▊   | 17/25 [01:13<00:33,  4.14s/it]\u001b[A\n",
      " 72%|███████▏  | 18/25 [01:17<00:28,  4.13s/it]\u001b[A\n",
      " 76%|███████▌  | 19/25 [01:21<00:24,  4.13s/it]\u001b[A\n",
      " 80%|████████  | 20/25 [01:25<00:20,  4.15s/it]\u001b[A\n",
      " 84%|████████▍ | 21/25 [01:29<00:16,  4.13s/it]\u001b[A\n",
      " 88%|████████▊ | 22/25 [01:33<00:12,  4.12s/it]\u001b[A\n",
      " 92%|█████████▏| 23/25 [01:38<00:08,  4.14s/it]\u001b[A\n",
      " 96%|█████████▌| 24/25 [01:42<00:04,  4.16s/it]\u001b[A\n",
      "100%|██████████| 25/25 [01:46<00:00,  4.26s/it]\u001b[A\n",
      "100%|██████████| 4/4 [03:06<00:00, 46.50s/it] \n"
     ]
    }
   ],
   "source": [
    "from emulator import *\n",
    "from fisher_utils import *\n",
    "import pickle\n",
    "import sys\n",
    "\n",
    "parameter_changed = 'w0'\n",
    "parameter_log10_rel_step_size = -1\n",
    "\n",
    "z_bin_edges = [0.2, 0.4, 0.6, 0.8, 1.0]\n",
    "richness_bin_edges = [20., 30., 45., 60., 300.]\n",
    "\n",
    "print('fiducial: ')\n",
    "print(fiducial_cosmology)\n",
    "\n",
    "cosmology = fiducial_cosmology.copy()\n",
    "cosmology[parameter_changed] += np.abs(cosmology[parameter_changed]) * 10**parameter_log10_rel_step_size\n",
    "\n",
    "print('pos step')\n",
    "print(cosmology)\n",
    "\n",
    "cluster_abundance_pos = N_in_z_bins_and_richness_bins(cosmology, richness_bin_edges, z_bin_edges)\n",
    "\n",
    "\n",
    "\n",
    "with open('/oak/stanford/orgs/kipac/users/delon/aemulusnu_massfunction/cluster_abundance_fisher_%s_%f'%(parameter_changed, parameter_log10_rel_step_size), 'wb') as file:\n",
    "    pickle.dump(cluster_abundance_pos, file)\n",
    "\n",
    "\n",
    "\n"
   ]
  },
  {
   "cell_type": "code",
   "execution_count": null,
   "id": "53b6d65d",
   "metadata": {},
   "outputs": [],
   "source": []
  }
 ],
 "metadata": {
  "kernelspec": {
   "display_name": "massfunction",
   "language": "python",
   "name": "massfunction"
  },
  "language_info": {
   "codemirror_mode": {
    "name": "ipython",
    "version": 3
   },
   "file_extension": ".py",
   "mimetype": "text/x-python",
   "name": "python",
   "nbconvert_exporter": "python",
   "pygments_lexer": "ipython3",
   "version": "3.9.16"
  }
 },
 "nbformat": 4,
 "nbformat_minor": 5
}
