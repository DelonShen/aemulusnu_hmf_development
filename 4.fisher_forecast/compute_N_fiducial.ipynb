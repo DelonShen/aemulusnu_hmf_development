{
 "cells": [
  {
   "cell_type": "code",
   "execution_count": null,
   "id": "627e1a1f",
   "metadata": {},
   "outputs": [],
   "source": [
    "from aemulusnu_massfunction.emulator import *\n",
    "from aemulusnu_massfunction.fisher_utils import *"
   ]
  },
  {
   "cell_type": "code",
   "execution_count": null,
   "id": "54075cc9",
   "metadata": {},
   "outputs": [],
   "source": [
    "z_bin_edges = [0.2, 0.4, 0.6, 0.8, 1.0]\n",
    "richness_bin_edges = [20., 30., 45., 60., 300.]"
   ]
  },
  {
   "cell_type": "code",
   "execution_count": null,
   "id": "724900f0",
   "metadata": {},
   "outputs": [],
   "source": [
    "N_fiducial = N_in_z_bins_and_richness_bins(fiducial_cosmology, richness_bin_edges, z_bin_edges)"
   ]
  },
  {
   "cell_type": "code",
   "execution_count": null,
   "id": "966a3f33",
   "metadata": {},
   "outputs": [],
   "source": []
  }
 ],
 "metadata": {
  "kernelspec": {
   "display_name": "massfunction",
   "language": "python",
   "name": "massfunction"
  },
  "language_info": {
   "codemirror_mode": {
    "name": "ipython",
    "version": 3
   },
   "file_extension": ".py",
   "mimetype": "text/x-python",
   "name": "python",
   "nbconvert_exporter": "python",
   "pygments_lexer": "ipython3",
   "version": "3.9.16"
  }
 },
 "nbformat": 4,
 "nbformat_minor": 5
}
