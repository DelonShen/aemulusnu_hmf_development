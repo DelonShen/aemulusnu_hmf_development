{
 "cells": [
  {
   "cell_type": "code",
   "execution_count": 1,
   "id": "5a5d4ecc",
   "metadata": {},
   "outputs": [
    {
     "name": "stdout",
     "output_type": "stream",
     "text": [
      "loading emulator from /home/users/delon/aemulusnu_massfunction/aemulusnu_massfunction/emulator.pkl\n",
      "DES Y3\n",
      "{'10^9 As': 1.520813, 'ns': 0.9649, 'H0': 67.36, 'w0': -1, 'ombh2': 0.021949999999999997, 'omch2': 0.13122263790038222, 'nu_mass_ev': 0.06}\n"
     ]
    }
   ],
   "source": [
    "import pickle\n",
    "from aemulusnu_massfunction.emulator_training import *\n",
    "from aemulusnu_massfunction.fisher_utils import *\n",
    "\n",
    "fiducial_h = 0.6736\n",
    "nu_mass_ev = 0.06\n",
    "# #(Plank 2018 table 2. TT,TE,EE+lowE+lensing  + neutrino mass put in by hand)\n",
    "# fiducial_cosmology = {'10^9 As':2.1,\n",
    "#                       'ns': 0.9649,\n",
    "#                       'H0': 67.36,\n",
    "#                       'w0': -1,\n",
    "#                       'ombh2': 0.02237,\n",
    "#                       'omch2': 0.12,\n",
    "#                       'nu_mass_ev': nu_mass_ev,}\n",
    "\n",
    "\n",
    "\n",
    "#(Same as above but put in DES Y3 OmegaM and Sigma8)\n",
    "print('DES Y3')\n",
    "Ωmh2 =  0.339*fiducial_h**2 # Y3 3x2pt\n",
    "Ωνh2 = nu_mass_ev/(93.14) #see astro-ph/0603494\n",
    "#From the BBN seciton of DES Y3 paper\n",
    "Ωbh2 = 2.195/100\n",
    "Ωch2 = Ωmh2-Ωbh2-Ωνh2\n",
    "fiducial_cosmology = {'10^9 As': 1.520813,  #from σ8 for DES Y3 3x2 and convert_sigma8_to_As.ipynb\n",
    "                      'ns': 0.9649,\n",
    "                      'H0': 67.36,\n",
    "                      'w0': -1,\n",
    "                      'ombh2': Ωbh2,\n",
    "                      'omch2': Ωch2,\n",
    "                      'nu_mass_ev': nu_mass_ev,}\n",
    "\n",
    "fiducial_cosmo_vals = get_cosmo_vals(fiducial_cosmology)\n",
    "fiducial_ccl_cosmo = get_ccl_cosmology(tuple(fiducial_cosmo_vals))\n",
    "\n",
    "\n",
    "\n",
    "\n",
    "\n",
    "\n",
    "\n",
    "z_bin_edges = [0.2, 0.4, 0.6, 0.8, 1.0]\n",
    "richness_bin_edges = [20., 30., 45., 60., 300.]\n",
    "\n",
    "\n",
    "\n",
    "print(fiducial_cosmology)\n",
    "\n",
    "\n",
    "oup_cov_fname = 'tinker08_fiducial_cluster_abundance_covariance_'\n",
    "\n",
    "for key in fiducial_cosmology:\n",
    "    ckey = key\n",
    "    if key == '10^9 As':\n",
    "        ckey = '1e9As'\n",
    "    oup_cov_fname += '%s_%f_'%(ckey, fiducial_cosmology[key])\n",
    "\n",
    "oup_cov_fname = list(oup_cov_fname)\n",
    "\n",
    "for i,char in enumerate(oup_cov_fname):\n",
    "    if(char == '.'):\n",
    "        oup_cov_fname[i] = 'p'\n",
    "\n",
    "oup_cov_fname = oup_cov_fname[:-1]\n",
    "\n",
    "oup_cov_fname = ''.join(oup_cov_fname)\n",
    "oup_cov_fname += '.pkl'\n",
    "\n",
    "with open(oup_cov_fname, 'rb') as file:\n",
    "        cluster_count_cov = pickle.load(file)\n"
   ]
  },
  {
   "cell_type": "code",
   "execution_count": 2,
   "id": "0ccd2a8e",
   "metadata": {},
   "outputs": [],
   "source": [
    "z_bin_edges = [0.2, 0.4, 0.6, 0.8, 1.0]\n",
    "richness_bin_edges = [20., 30., 45., 60., 300.]\n",
    "\n",
    "n_z = len(z_bin_edges) - 1\n",
    "n_r = len(richness_bin_edges) - 1\n",
    "cov_matrix_2d = np.zeros((n_z * n_r, n_z * n_r))\n",
    "\n",
    "for i in range(n_z):\n",
    "    for j in range(n_z):\n",
    "        for a in range(n_r):\n",
    "            for b in range(n_r):\n",
    "                row_index = i * n_r + a\n",
    "                col_index = j * n_r + b\n",
    "                cov_matrix_2d[row_index, col_index] = cluster_count_cov[i, j, a, b]\n"
   ]
  },
  {
   "cell_type": "code",
   "execution_count": 3,
   "id": "9394dd76",
   "metadata": {},
   "outputs": [],
   "source": [
    "cov_inv = np.linalg.inv(cov_matrix_2d)"
   ]
  },
  {
   "cell_type": "code",
   "execution_count": 4,
   "id": "e4bb8feb",
   "metadata": {},
   "outputs": [],
   "source": [
    "labels = {\n",
    "    '10^9 As': r'10^9A_s',\n",
    "    'ns': r'n_s',\n",
    "    'H0': r'H_0',\n",
    "    'w0': r'w_0',\n",
    "    'ombh2': r'\\Omega_b h^2',\n",
    "    'omch2': r'\\Omega_c h^2',\n",
    "    'nu_mass_ev': r'\\sum m_\\nu',\n",
    "}"
   ]
  },
  {
   "cell_type": "code",
   "execution_count": 5,
   "id": "5680fe7d",
   "metadata": {},
   "outputs": [],
   "source": [
    "plt.rcParams['text.usetex'] = True\n",
    "plt.rcParams['font.size'] = 32\n",
    "plt.rcParams['font.family'] = 'serif'\n"
   ]
  },
  {
   "cell_type": "code",
   "execution_count": 6,
   "id": "63d2d943",
   "metadata": {},
   "outputs": [
    {
     "name": "stdout",
     "output_type": "stream",
     "text": [
      "['10^9 As', 'ns', 'H0', 'w0', 'ombh2', 'omch2', 'nu_mass_ev']\n"
     ]
    }
   ],
   "source": [
    "varied = list(labels.keys())\n",
    "print(varied)"
   ]
  },
  {
   "cell_type": "code",
   "execution_count": 7,
   "id": "4366ccb8",
   "metadata": {},
   "outputs": [
    {
     "name": "stderr",
     "output_type": "stream",
     "text": [
      "100%|██████████| 7/7 [00:00<00:00, 112.68it/s]\n"
     ]
    }
   ],
   "source": [
    "import os\n",
    "\n",
    "dμdθ_step_size = {}\n",
    "parameter_ranges = {}  # To store the ranges for which files exist\n",
    "\n",
    "for parameter_changed in tqdm(varied):\n",
    "    dμdθ_step_size[parameter_changed] = {}\n",
    "    parameter_ranges[parameter_changed] = {'min': None, 'max': None}\n",
    "    for log10_rel_step_size in np.arange(-5, 0, .02):\n",
    "        fname_base = '/oak/stanford/orgs/kipac/users/delon/aemulusnu_massfunction/cluster_abundance_tinker_fisher_%s_%.4f_nu_mass_ev_%.4f'%(parameter_changed, log10_rel_step_size, fiducial_cosmology['nu_mass_ev'])\n",
    "\n",
    "\n",
    "        # Check if both files exist\n",
    "        if os.path.exists(fname_base) and os.path.exists(fname_base + '_neg'):\n",
    "            with open(fname_base, 'rb') as file:\n",
    "                cluster_abundance_pos = pickle.load(file)\n",
    "            with open(fname_base + '_neg', 'rb') as file:\n",
    "                cluster_abundance_neg = pickle.load(file)\n",
    "\n",
    "            h = np.abs(fiducial_cosmology[parameter_changed]) * 10**log10_rel_step_size\n",
    "            tmp_theory_deriv = (cluster_abundance_pos - cluster_abundance_neg) / (2 * h)\n",
    "            flattened_theory_deriv = np.zeros((n_z * n_r))\n",
    "            for i in range(n_z):\n",
    "                for a in range(n_r):\n",
    "                    flattened_theory_deriv[i * n_r + a] = tmp_theory_deriv[i, a]\n",
    "            dμdθ_step_size[parameter_changed][np.round(log10_rel_step_size,3)] = flattened_theory_deriv\n",
    "\n",
    "            # Update the ranges\n",
    "            if parameter_ranges[parameter_changed]['min'] is None or log10_rel_step_size < parameter_ranges[parameter_changed]['min']:\n",
    "                parameter_ranges[parameter_changed]['min'] = log10_rel_step_size\n",
    "            if parameter_ranges[parameter_changed]['max'] is None or log10_rel_step_size > parameter_ranges[parameter_changed]['max']:\n",
    "                parameter_ranges[parameter_changed]['max'] = log10_rel_step_size\n",
    "\n"
   ]
  },
  {
   "cell_type": "code",
   "execution_count": 8,
   "id": "adb72750",
   "metadata": {
    "scrolled": true
   },
   "outputs": [
    {
     "name": "stdout",
     "output_type": "stream",
     "text": [
      "For parameter 10^9 As, files exist in the range -3.5 to -1.1.\n",
      "For parameter ns, files exist in the range -5.0 to -3.0.\n",
      "For parameter H0, files exist in the range -3.5 to -1.1.\n",
      "For parameter w0, files exist in the range -3.5 to -1.1.\n",
      "For parameter ombh2, files exist in the range -3.5 to -1.1.\n",
      "For parameter omch2, files exist in the range -3.5 to -1.1.\n",
      "For parameter nu_mass_ev, files exist in the range -3.5 to -1.1.\n"
     ]
    }
   ],
   "source": [
    "log10_rel_step_sizes = {}\n",
    "\n",
    "for parameter, ranges in parameter_ranges.items():\n",
    "#     print(parameter_ranges)\n",
    "    min_range = round(ranges['min'], 3)\n",
    "    max_range = round(ranges['max'], 3)\n",
    "    print(f\"For parameter {parameter}, files exist in the range {min_range} to {max_range}.\")\n",
    "    log10_rel_step_sizes[parameter] = np.arange(min_range, max_range, .3)\n",
    "    if(parameter == 'ns'):\n",
    "        log10_rel_step_sizes[parameter] = np.arange(min_range, max_range, .2)\n"
   ]
  },
  {
   "cell_type": "code",
   "execution_count": 9,
   "id": "8bc0107b",
   "metadata": {},
   "outputs": [],
   "source": [
    "# log10_rel_step_sizes['nu_mass_ev'] = np.arange(-2.0, -0.3, .025)\n",
    "# log10_rel_step_sizes['ombh2'] = np.arange(-3.5, -1, .025)"
   ]
  },
  {
   "cell_type": "code",
   "execution_count": 10,
   "id": "13546d74",
   "metadata": {},
   "outputs": [],
   "source": [
    "plt.show()\n",
    "plt.rcParams['text.usetex'] = True\n",
    "plt.rcParams['font.size'] = 32\n",
    "plt.rcParams['font.family'] = 'serif'\n"
   ]
  },
  {
   "cell_type": "code",
   "execution_count": 11,
   "id": "8068dc3a",
   "metadata": {},
   "outputs": [
    {
     "name": "stdout",
     "output_type": "stream",
     "text": [
      "{'10^9 As': -2.6, 'ns': -4, 'H0': -2.3, 'w0': -2.3, 'ombh2': -2.6, 'omch2': -2.3, 'nu_mass_ev': -2.3}\n"
     ]
    }
   ],
   "source": [
    "print(fiducial_log10_rel_step_size)"
   ]
  },
  {
   "cell_type": "code",
   "execution_count": null,
   "id": "cd6a3f5d",
   "metadata": {},
   "outputs": [],
   "source": []
  },
  {
   "cell_type": "code",
   "execution_count": 12,
   "id": "0fd178ee",
   "metadata": {},
   "outputs": [
    {
     "data": {
      "image/png": "[encoded data removed]",
      "text/plain": [
       "<Figure size 864x1008 with 7 Axes>"
      ]
     },
     "metadata": {
      "needs_background": "light"
     },
     "output_type": "display_data"
    }
   ],
   "source": [
    "# import matplotlib.pyplot as plt\n",
    "import matplotlib.cm as cm\n",
    "from scipy.linalg import cho_solve, cho_factor\n",
    "plt.rcParams['text.usetex'] = True\n",
    "plt.rcParams['font.size'] = 32\n",
    "plt.rcParams['font.family'] = 'serif'\n",
    "\n",
    "# Determine the number of subplots\n",
    "n_parameters = len(varied)\n",
    "\n",
    "# Create a figure and an array of subplots with 1 column\n",
    "fig, axs = plt.subplots(n_parameters, 1, figsize=(12, 2 * n_parameters))#, sharex=True)\n",
    "\n",
    "# Create a colormap\n",
    "colormap = cm.rainbow\n",
    "\n",
    "# Iterate over the parameters and the corresponding axes\n",
    "for idx, (parameter_changed, ax) in enumerate(zip(varied, axs)):\n",
    "    Fii_inv = []\n",
    "    fiducial_value = None\n",
    "    fiducial_step_size = fiducial_log10_rel_step_size[parameter_changed]\n",
    "    \n",
    "    for log10_rel_step_size in log10_rel_step_sizes[parameter_changed]:\n",
    "        fisher_matrix = np.zeros((n_parameters, n_parameters))\n",
    "        log10_rel_step_size = np.round(log10_rel_step_size, 3)\n",
    "        for i, θi in enumerate(varied):\n",
    "            for j, θj in enumerate(varied):\n",
    "                dμl_θi = dμdθ_step_size[θi][fiducial_log10_rel_step_size[θi]]\n",
    "                dμm_θj = dμdθ_step_size[θj][fiducial_log10_rel_step_size[θj]]\n",
    "                if(θi == parameter_changed): \n",
    "#                     print(θi, log10_rel_step_size)\n",
    "                    dμl_θi = dμdθ_step_size[θi][log10_rel_step_size]\n",
    "                if(θj == parameter_changed): \n",
    "                    dμm_θj = dμdθ_step_size[θj][log10_rel_step_size]\n",
    "                fisher_matrix[i,j] = np.einsum('l,lm,m', dμl_θi, cov_inv, dμm_θj)\n",
    "\n",
    "        inv_diagonal_element = fisher_matrix[idx][idx]**(-1)\n",
    "\n",
    "        Fii_inv += [inv_diagonal_element]\n",
    "        if np.abs(log10_rel_step_size - fiducial_step_size) < 1e-5:\n",
    "            fiducial_value = inv_diagonal_element\n",
    "    if(fiducial_value == None):\n",
    "        print(parameter_changed)\n",
    "        continue\n",
    "            \n",
    "            \n",
    "            \n",
    "            \n",
    "    # Get a color from the colormap based on the index\n",
    "    color = colormap((float(idx)+1) / n_parameters)\n",
    "\n",
    "    X = 10**(log10_rel_step_sizes[parameter_changed])\n",
    "    X /= 10**fiducial_step_size\n",
    "    \n",
    "    ax.plot(X, ((Fii_inv)), color=color)\n",
    "    ax.scatter(X, ((Fii_inv)), color=color)\n",
    "\n",
    "    ax.scatter(1, fiducial_value, color=color, marker='x')\n",
    "    ax.axhline(fiducial_value, color=color, linestyle='--')\n",
    "    \n",
    "    fill_x = np.array([10**(-10), 10**10])\n",
    "    fill_y1 = [0.9 * (fiducial_value), 0.9 * (fiducial_value)]\n",
    "    fill_y2 = [1.1 * (fiducial_value), 1.1 * (fiducial_value)]\n",
    "    ax.fill_between(fill_x, fill_y1, fill_y2,  color=color, alpha=0.1)\n",
    "\n",
    "    fill_y1 = [0.99 * (fiducial_value), 0.99 * (fiducial_value)]\n",
    "    fill_y2 = [1.01 * (fiducial_value), 1.01 * (fiducial_value)]\n",
    "    ax.fill_between(fill_x, fill_y1, fill_y2,  color=color, alpha=0.2)\n",
    "\n",
    "    ax.set_xscale('log')\n",
    "#     ax.set_xlim(.01,1.99)\n",
    "    ax.set_xlim(10**(-.9), 10**(.9))\n",
    "    ax.set_xticks([10**(-.5), 10**0, 10**(.5)])\n",
    "    ax.set_xticklabels([r'-1/2',r'0',r'1/2' ])\n",
    "\n",
    "    ax.set_ylim([0.88 * (fiducial_value), 1.12 * (fiducial_value)])\n",
    "\n",
    "    l = labels[parameter_changed]\n",
    "    ax.set_yticks([])\n",
    "    ax.set_ylabel(r'$%s$' % (l))\n",
    "#     ax.axvline(10**-2)\n",
    "axs[0].set_title(r'(Unmarginalized) ${[F_{\\theta\\theta}]^{-1}}$')\n",
    "\n",
    "s = r'Bands indicates ±10\\% and ±1\\% variation from ${[F_{\\theta\\theta}]^{-1}}$ at fiducial step size'\n",
    "axs[0].text(.99, .90,\n",
    "        s=s,\n",
    "        transform=axs[0].transAxes,\n",
    "        horizontalalignment='right',\n",
    "        verticalalignment='top',\n",
    "       fontsize=16)\n",
    "\n",
    "axs[-1].set_xlabel(r'$\\log_{10}$(Step Size / Fiducial Step Size)')\n",
    "plt.subplots_adjust(wspace=0, hspace=0)\n",
    "# plt.savefig('unmarginalized_convergencee.pdf')"
   ]
  },
  {
   "cell_type": "code",
   "execution_count": 13,
   "id": "3bcbad49",
   "metadata": {},
   "outputs": [
    {
     "name": "stdout",
     "output_type": "stream",
     "text": [
      "{'10^9 As': -2.6, 'ns': -4, 'H0': -2.3, 'w0': -2.3, 'ombh2': -2.6, 'omch2': -2.3, 'nu_mass_ev': -2.3}\n"
     ]
    }
   ],
   "source": [
    "print(fiducial_log10_rel_step_size)"
   ]
  },
  {
   "cell_type": "code",
   "execution_count": 14,
   "id": "1f97041b",
   "metadata": {},
   "outputs": [],
   "source": [
    "fiducial_log10_rel_step_size['nu_mass_ev'] = -2.3"
   ]
  },
  {
   "cell_type": "code",
   "execution_count": 15,
   "id": "580ef41a",
   "metadata": {
    "scrolled": false
   },
   "outputs": [
    {
     "data": {
      "image/png": "[encoded data removed]",
      "text/plain": [
       "<Figure size 864x1008 with 7 Axes>"
      ]
     },
     "metadata": {
      "needs_background": "light"
     },
     "output_type": "display_data"
    }
   ],
   "source": [
    "# import matplotlib.pyplot as plt\n",
    "import matplotlib.cm as cm\n",
    "from scipy.linalg import cho_solve, cho_factor\n",
    "plt.rcParams['text.usetex'] = True\n",
    "plt.rcParams['font.size'] = 32\n",
    "plt.rcParams['font.family'] = 'serif'\n",
    "\n",
    "# Determine the number of subplots\n",
    "n_parameters = len(varied)\n",
    "\n",
    "# Create a figure and an array of subplots with 1 column\n",
    "fig, axs = plt.subplots(n_parameters, 1, figsize=(12, 2 * n_parameters))#, sharex=True)\n",
    "\n",
    "# Create a colormap\n",
    "colormap = cm.rainbow\n",
    "\n",
    "\n",
    "# adding planck prior 1807.06209 table 2\n",
    "# TODO, full posterior?\n",
    "Planck_σ = {\n",
    "    '10^9 As': 0.029,\n",
    "    'ns': 0.0038,\n",
    "    'H0': 0.42,\n",
    "    'w0': np.inf, #unconstrained by main analysis\n",
    "    'ombh2':0.00014,\n",
    "    'omch2':0.00091,\n",
    "    'nu_mass_ev': np.inf, #unconstrained by main analysis\n",
    "}\n",
    "\n",
    "\n",
    "# Iterate over the parameters and the corresponding axes\n",
    "for idx, (parameter_changed, ax) in enumerate(zip(varied, axs)):\n",
    "    Fii_inv = []\n",
    "    fiducial_value = None\n",
    "    fiducial_step_size = fiducial_log10_rel_step_size[parameter_changed]\n",
    "    \n",
    "    for log10_rel_step_size in log10_rel_step_sizes[parameter_changed]:\n",
    "        fisher_matrix = np.zeros((n_parameters, n_parameters))\n",
    "        log10_rel_step_size = np.round(log10_rel_step_size, 3)\n",
    "        for i, θi in enumerate(varied):\n",
    "            for j, θj in enumerate(varied):\n",
    "                dμl_θi = dμdθ_step_size[θi][fiducial_log10_rel_step_size[θi]]\n",
    "                dμm_θj = dμdθ_step_size[θj][fiducial_log10_rel_step_size[θj]]\n",
    "                if(θi == parameter_changed): \n",
    "#                     print(θi, log10_rel_step_size)\n",
    "                    dμl_θi = dμdθ_step_size[θi][log10_rel_step_size]\n",
    "                if(θj == parameter_changed): \n",
    "#                     print(θj, log10_rel_step_size)\n",
    "                    dμm_θj = dμdθ_step_size[θj][log10_rel_step_size]\n",
    "                fisher_matrix[i,j] = np.einsum('l,lm,m', dμl_θi, cov_inv, dμm_θj)\n",
    "            fisher_matrix[i,i] += 1/Planck_σ[θi]**2\n",
    "        # Compute the Cholesky decomposition\n",
    "        cholesky_factor = cho_factor(fisher_matrix)\n",
    "\n",
    "        # Solve for the inverse of the diagonal element\n",
    "        e_i = np.zeros_like(fisher_matrix[idx])\n",
    "        e_i[idx] = 1\n",
    "        inv_diagonal_element = cho_solve(cholesky_factor, e_i)[idx]\n",
    "\n",
    "        Fii_inv += [inv_diagonal_element]\n",
    "        if np.abs(log10_rel_step_size - fiducial_step_size) < 1.1e-1:\n",
    "            fiducial_value = inv_diagonal_element\n",
    "\n",
    "            \n",
    "            \n",
    "            \n",
    "            \n",
    "    # Get a color from the colormap based on the index\n",
    "    color = colormap(float(idx) / n_parameters)\n",
    "\n",
    "    X = 10**(log10_rel_step_sizes[parameter_changed])\n",
    "    X /= 10**fiducial_step_size\n",
    "    \n",
    "    ax.plot(X, ((Fii_inv)), color=color)\n",
    "#     ax.scatter(X, ((Fii_inv)), color=color)\n",
    "\n",
    "    ax.scatter(1, fiducial_value, color=color, marker='x')\n",
    "    ax.axhline(fiducial_value, color=color, linestyle='--')\n",
    "    \n",
    "    fill_x = np.array([10**(-10), 10**10])\n",
    "    fill_y1 = [0.9 * (fiducial_value), 0.9 * (fiducial_value)]\n",
    "    fill_y2 = [1.1 * (fiducial_value), 1.1 * (fiducial_value)]\n",
    "    ax.fill_between(fill_x, fill_y1, fill_y2,  color=color, alpha=0.1)\n",
    "\n",
    "    fill_y1 = [0.99 * (fiducial_value), 0.99 * (fiducial_value)]\n",
    "    fill_y2 = [1.01 * (fiducial_value), 1.01 * (fiducial_value)]\n",
    "    ax.fill_between(fill_x, fill_y1, fill_y2,  color=color, alpha=0.2)\n",
    "\n",
    "    ax.set_xscale('log')\n",
    "#     ax.set_xlim(.01,1.99)\n",
    "    ax.set_xlim(10**(-.9), 10**(.9))\n",
    "    ax.set_xticks([10**(-.5), 10**0, 10**(.5)])\n",
    "    ax.set_xticklabels([r'-1/2',r'0',r'1/2' ])\n",
    "\n",
    "    ax.set_ylim([0.88 * (fiducial_value), 1.12 * (fiducial_value)])\n",
    "\n",
    "    l = labels[parameter_changed]\n",
    "    ax.set_yticks([])\n",
    "    ax.set_ylabel(r'$%s$' % (l))\n",
    "#     ax.axvline(10**-2)\n",
    "axs[0].set_title(r'(Marginalized) ${[F^{-1}]_{\\theta\\theta}}$')\n",
    "\n",
    "s = r'Bands indicates ±10\\% and ±1\\% variation from ${[F^{-1}]_{\\theta\\theta}}$ at fiducial step size'\n",
    "axs[0].text(.99, .90,\n",
    "        s=s,\n",
    "        transform=axs[0].transAxes,\n",
    "        horizontalalignment='right',\n",
    "        verticalalignment='top',\n",
    "       fontsize=16)\n",
    "\n",
    "axs[-1].set_xlabel(r'$\\log_{10}$(Step Size / Fiducial Step Size)')\n",
    "plt.subplots_adjust(wspace=0, hspace=0)\n",
    "# plt.savefig('marginalized_convergencee_with_PLANCK.pdf', bbox_inches='tight')"
   ]
  },
  {
   "cell_type": "code",
   "execution_count": 16,
   "id": "99f962d8",
   "metadata": {},
   "outputs": [
    {
     "data": {
      "text/plain": [
       "{'10^9 As': -2.6,\n",
       " 'ns': -4,\n",
       " 'H0': -2.3,\n",
       " 'w0': -2.3,\n",
       " 'ombh2': -2.6,\n",
       " 'omch2': -2.3,\n",
       " 'nu_mass_ev': -2.3}"
      ]
     },
     "execution_count": 16,
     "metadata": {},
     "output_type": "execute_result"
    }
   ],
   "source": [
    "fiducial_log10_rel_step_size"
   ]
  }
 ],
 "metadata": {
  "kernelspec": {
   "display_name": "massfunction",
   "language": "python",
   "name": "massfunction"
  },
  "language_info": {
   "codemirror_mode": {
    "name": "ipython",
    "version": 3
   },
   "file_extension": ".py",
   "mimetype": "text/x-python",
   "name": "python",
   "nbconvert_exporter": "python",
   "pygments_lexer": "ipython3",
   "version": "3.9.16"
  }
 },
 "nbformat": 4,
 "nbformat_minor": 5
}
