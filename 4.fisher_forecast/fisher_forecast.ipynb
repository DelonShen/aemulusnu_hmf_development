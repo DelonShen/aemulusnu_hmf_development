{
 "cells": [
  {
   "cell_type": "code",
   "execution_count": 1,
   "id": "423ee629",
   "metadata": {},
   "outputs": [
    {
     "name": "stdout",
     "output_type": "stream",
     "text": [
      "loading emulator from /home/users/delon/aemulusnu_massfunction/aemulusnu_massfunction/emulator.pkl\n"
     ]
    }
   ],
   "source": [
    "import pickle\n",
    "from aemulusnu_massfunction.emulator import *\n",
    "from aemulusnu_massfunction.fisher_utils import *\n",
    "\n",
    "oup_cov_fname = '/oak/stanford/orgs/kipac/users/delon/aemulusnu_massfunction/fiducial_cluster_abundance_covariance_nu_mass_%.4f.pkl'%(fiducial_cosmology['nu_mass_ev'])\n",
    "\n",
    "with open(oup_cov_fname, 'rb') as file:\n",
    "        cluster_count_cov = pickle.load(file)\n"
   ]
  },
  {
   "cell_type": "code",
   "execution_count": 2,
   "id": "f0fdfee0",
   "metadata": {},
   "outputs": [],
   "source": [
    "z_bin_edges = [0.2, 0.4, 0.6, 0.8, 1.0]\n",
    "richness_bin_edges = [20., 30., 45., 60., 300.]\n",
    "\n",
    "n_z = len(z_bin_edges) - 1\n",
    "n_r = len(richness_bin_edges) - 1\n",
    "cov_matrix_2d = np.zeros((n_z * n_r, n_z * n_r))\n",
    "\n",
    "for i in range(n_z):\n",
    "    for j in range(n_z):\n",
    "        for a in range(n_r):\n",
    "            for b in range(n_r):\n",
    "                row_index = i * n_r + a\n",
    "                col_index = j * n_r + b\n",
    "                cov_matrix_2d[row_index, col_index] = cluster_count_cov[i, j, a, b]\n",
    "\n",
    "                \n",
    "                \n",
    "from scipy.linalg import cho_factor, cho_solve\n",
    "cholesky_factor = cho_factor(cov_matrix_2d)\n",
    "cov_inv = cho_solve(cholesky_factor, np.eye(n_z * n_r))                \n"
   ]
  },
  {
   "cell_type": "code",
   "execution_count": 3,
   "id": "850ac7d3",
   "metadata": {},
   "outputs": [],
   "source": [
    "# varied = ['10^9 As', 'omch2', 'nu_mass_ev']\n",
    "varied = list(fiducial_cosmology.keys())"
   ]
  },
  {
   "cell_type": "code",
   "execution_count": 4,
   "id": "ef0c459d",
   "metadata": {},
   "outputs": [
    {
     "name": "stdout",
     "output_type": "stream",
     "text": [
      "{'10^9 As': -2.6, 'ns': -4, 'H0': -2.3, 'w0': -2.3, 'ombh2': -2.6, 'omch2': -2.3, 'nu_mass_ev': -2.3}\n"
     ]
    }
   ],
   "source": [
    "print(fiducial_log10_rel_step_size)"
   ]
  },
  {
   "cell_type": "code",
   "execution_count": 5,
   "id": "5b7a21a2",
   "metadata": {},
   "outputs": [
    {
     "name": "stdout",
     "output_type": "stream",
     "text": [
      "python -u compute_cluster_abundance_at_cosmology.py \"10^9 As\" -2.6\n",
      "python -u compute_cluster_abundance_at_cosmology.py \"ns\" -4.0\n",
      "python -u compute_cluster_abundance_at_cosmology.py \"H0\" -2.3\n",
      "python -u compute_cluster_abundance_at_cosmology.py \"w0\" -2.3\n",
      "python -u compute_cluster_abundance_at_cosmology.py \"ombh2\" -2.6\n",
      "python -u compute_cluster_abundance_at_cosmology.py \"omch2\" -2.3\n",
      "python -u compute_cluster_abundance_at_cosmology.py \"nu_mass_ev\" -2.3\n"
     ]
    }
   ],
   "source": [
    "for parameter_changed in varied:\n",
    "#     print(parameter_changed)\n",
    "    print('python -u compute_cluster_abundance_at_cosmology.py \"%s\" %.1f'%(parameter_changed, fiducial_log10_rel_step_size[parameter_changed]))\n"
   ]
  },
  {
   "cell_type": "code",
   "execution_count": 6,
   "id": "297013eb",
   "metadata": {},
   "outputs": [],
   "source": [
    "dμdθ = {}\n",
    "dμdθ_unflat = {}\n",
    "\n",
    "for parameter_changed in varied:\n",
    "    cluster_abundance_pos = None\n",
    "    cluster_abundance_neg = None\n",
    "    log10_rel_step_size = fiducial_log10_rel_step_size[parameter_changed]\n",
    "    fname_base = '/oak/stanford/orgs/kipac/users/delon/aemulusnu_massfunction/cluster_abundance_fisher_%s_%.4f_nu_mass_ev_%.4f'%(parameter_changed, log10_rel_step_size, fiducial_cosmology['nu_mass_ev'])\n",
    "\n",
    "    \n",
    "    with open(fname_base, 'rb') as file:\n",
    "        cluster_abundance_pos = pickle.load(file)\n",
    "    with open(fname_base+'_neg', 'rb') as file:\n",
    "        cluster_abundance_neg = pickle.load(file)\n",
    "    h = np.abs(fiducial_cosmology[parameter_changed]) * 10**log10_rel_step_size\n",
    "    tmp_theory_deriv = (cluster_abundance_pos - cluster_abundance_neg) / (2 * h)\n",
    "    flattened_theory_deriv = np.zeros((n_z * n_r))\n",
    "    for i in range(n_z):\n",
    "        for a in range(n_r):\n",
    "            flattened_theory_deriv[i * n_r + a] = tmp_theory_deriv[i, a]\n",
    "    dμdθ[parameter_changed] = flattened_theory_deriv\n",
    "    dμdθ_unflat[parameter_changed] = tmp_theory_deriv\n"
   ]
  },
  {
   "cell_type": "code",
   "execution_count": 7,
   "id": "f9f88796",
   "metadata": {},
   "outputs": [],
   "source": [
    "# N_fiducial = N_in_z_bins_and_richness_bins(fiducial_cosmology, richness_bin_edges, z_bin_edges)\n",
    "# flattened_N_fid = np.zeros((n_z * n_r))\n",
    "\n",
    "# for i in range(n_z):\n",
    "#         for a in range(n_r):\n",
    "#             flattened_N_fid[i * n_r + a] = N_fiducial[i, a]"
   ]
  },
  {
   "cell_type": "code",
   "execution_count": 8,
   "id": "9840fbd7",
   "metadata": {},
   "outputs": [],
   "source": [
    "labels = {\n",
    "    '10^9 As': r'$10^9A_s$',\n",
    "    'ns': r'$n_s$',\n",
    "    'H0': r'$H_0$',\n",
    "    'w0': r'$w_0$',\n",
    "    'ombh2': r'$\\Omega_b h^2$',\n",
    "    'omch2': r'$\\Omega_c h^2$',\n",
    "    'nu_mass_ev': r'$\\sum m_\\nu$',\n",
    "    'sigma8' : r'$\\sigma_8$'\n",
    "}"
   ]
  },
  {
   "cell_type": "code",
   "execution_count": 9,
   "id": "bfd495b0",
   "metadata": {
    "scrolled": true
   },
   "outputs": [
    {
     "name": "stdout",
     "output_type": "stream",
     "text": [
      "0 10^9 As\n",
      "1 ns\n",
      "2 H0\n",
      "3 w0\n",
      "4 ombh2\n",
      "5 omch2\n",
      "6 nu_mass_ev\n"
     ]
    }
   ],
   "source": [
    "n_parameters = len(varied)\n",
    "\n",
    "fisher_matrix = np.zeros((n_parameters, n_parameters))\n",
    "\n",
    "# # adding planck prior 1807.06209 table 2\n",
    "# Planck_σ = {\n",
    "#     '10^9 As': 0.029,\n",
    "#     'ns': 0.0038,\n",
    "#     'H0': 0.42,\n",
    "#     'w0': np.inf, #unconstrained by main analysis\n",
    "#     'ombh2':0.00014,\n",
    "#     'omch2':0.00091,\n",
    "#     'nu_mass_ev': np.inf, #unconstrained by main analysis\n",
    "# }\n",
    "\n",
    "# adding planck prior mnu 1807.06209 table 5\n",
    "Planck_σ = {\n",
    "    '10^9 As': 0.03,\n",
    "    'ns': 0.0043,\n",
    "    'H0': 1.2,\n",
    "    'w0': np.inf, #unconstrained by main analysis\n",
    "    'ombh2':0.00015,\n",
    "    'omch2':0.0013,\n",
    "    'nu_mass_ev': np.inf, #assume nothing\n",
    "}\n",
    "\n",
    "\n",
    "nu_mass_ev_idx = -1\n",
    "for i, θi in enumerate(varied):\n",
    "    print(i, θi)\n",
    "    if(θi == 'nu_mass_ev'):\n",
    "        nu_mass_ev_idx = i\n",
    "    for j, θj in enumerate(varied):\n",
    "        dμl_θi = dμdθ[θi]\n",
    "        dμm_θj = dμdθ[θj]\n",
    "        fisher_matrix[i,j] = np.einsum('l,lm,m', dμl_θi, cov_inv, dμm_θj)\n",
    "    fisher_matrix[i,i] += 1/Planck_σ[θi]**2"
   ]
  },
  {
   "cell_type": "code",
   "execution_count": 10,
   "id": "c6fa1da6",
   "metadata": {},
   "outputs": [
    {
     "name": "stdout",
     "output_type": "stream",
     "text": [
      "{'10^9 As': 2.1, 'ns': 0.9649, 'H0': 67.36, 'w0': -1, 'ombh2': 0.02237, 'omch2': 0.12, 'nu_mass_ev': 0.06}\n"
     ]
    }
   ],
   "source": [
    "print(fiducial_cosmology)"
   ]
  },
  {
   "cell_type": "code",
   "execution_count": null,
   "id": "226ac935",
   "metadata": {},
   "outputs": [],
   "source": []
  },
  {
   "cell_type": "code",
   "execution_count": null,
   "id": "d4dbbfe2",
   "metadata": {},
   "outputs": [],
   "source": []
  },
  {
   "cell_type": "code",
   "execution_count": 11,
   "id": "9ba4a124",
   "metadata": {},
   "outputs": [],
   "source": [
    "maximized = ['w0']\n",
    "# maximized = ['10^9 As', 'ns', 'H0', 'w0', 'ombh2', 'omch2']\n",
    "\n",
    "maximized_idxs = [list(varied).index(c) for c in maximized]\n",
    "\n",
    "for idx in reversed(sorted(maximized_idxs)):\n",
    "    fisher_matrix = np.delete(fisher_matrix, idx, axis=0)  \n",
    "    fisher_matrix = np.delete(fisher_matrix, idx, axis=1) \n",
    "\n",
    "    if(nu_mass_ev_idx >= idx):\n",
    "        nu_mass_ev_idx -= 1"
   ]
  },
  {
   "cell_type": "code",
   "execution_count": null,
   "id": "5d68e61a",
   "metadata": {},
   "outputs": [],
   "source": []
  },
  {
   "cell_type": "code",
   "execution_count": null,
   "id": "c0d518d8",
   "metadata": {},
   "outputs": [],
   "source": []
  },
  {
   "cell_type": "code",
   "execution_count": 62,
   "id": "ba392a1a",
   "metadata": {},
   "outputs": [
    {
     "name": "stderr",
     "output_type": "stream",
     "text": [
      "/tmp/ipykernel_23696/3987580144.py:6: RuntimeWarning: invalid value encountered in log10\n",
      "  plt.imshow(np.log10(fisher_matrix), cmap='rainbow')\n"
     ]
    },
    {
     "data": {
      "text/plain": [
       "Text(0.5, 1.0, '$\\\\log_{10}$Fisher Matrix')"
      ]
     },
     "execution_count": 62,
     "metadata": {},
     "output_type": "execute_result"
    },
    {
     "data": {
      "image/png": "[encoded data removed]",
      "text/plain": [
       "<Figure size 432x288 with 2 Axes>"
      ]
     },
     "metadata": {
      "needs_background": "light"
     },
     "output_type": "display_data"
    }
   ],
   "source": [
    "import matplotlib.pyplot as plt\n",
    "plt.rcParams['text.usetex'] = True\n",
    "plt.rcParams['font.size'] = 32\n",
    "plt.rcParams['font.family'] = 'serif'\n",
    "plt.rcParams['text.latex.preamble'] = r'\\usepackage{amsmath}'\n",
    "plt.imshow(np.log10(fisher_matrix), cmap='rainbow')\n",
    "plt.colorbar()\n",
    "plt.xticks([])\n",
    "plt.yticks([])\n",
    "plt.title(r'$\\log_{10}$Fisher Matrix')\n"
   ]
  },
  {
   "cell_type": "code",
   "execution_count": 13,
   "id": "eba5c03e",
   "metadata": {},
   "outputs": [],
   "source": [
    "from scipy.linalg import cho_solve, cho_factor\n",
    "\n",
    "# Compute the Cholesky decomposition\n",
    "cholesky_factor = cho_factor(fisher_matrix)\n",
    "\n",
    "# Solve for the inverse of the diagonal element\n",
    "e_i = np.zeros_like(fisher_matrix[nu_mass_ev_idx])\n",
    "e_i[nu_mass_ev_idx] = 1\n",
    "\n",
    "inv_diagonal_element = cho_solve(cholesky_factor, e_i)[nu_mass_ev_idx]"
   ]
  },
  {
   "cell_type": "code",
   "execution_count": 14,
   "id": "de15d3fd",
   "metadata": {},
   "outputs": [
    {
     "data": {
      "text/plain": [
       "0.004436336190185567"
      ]
     },
     "execution_count": 14,
     "metadata": {},
     "output_type": "execute_result"
    }
   ],
   "source": [
    "inv_diagonal_element"
   ]
  },
  {
   "cell_type": "code",
   "execution_count": 15,
   "id": "ecd42d65",
   "metadata": {},
   "outputs": [
    {
     "data": {
      "text/plain": [
       "0.06660582699873459"
      ]
     },
     "execution_count": 15,
     "metadata": {},
     "output_type": "execute_result"
    }
   ],
   "source": [
    "inv_fisher_matrix = np.linalg.inv(fisher_matrix)\n",
    "\n",
    "\n",
    "np.sqrt(inv_fisher_matrix[nu_mass_ev_idx][nu_mass_ev_idx])"
   ]
  },
  {
   "cell_type": "code",
   "execution_count": 16,
   "id": "114f6e9d",
   "metadata": {},
   "outputs": [
    {
     "name": "stdout",
     "output_type": "stream",
     "text": [
      " parameter\t   σ(marginalized)/fid val\t σ(unmarginalized)/fid val\n",
      "----------------------------------------------------------------------------\n",
      "   10^9 As\t                   1.4e-02\t                   1.5e-03\n",
      "        ns\t                   4.2e-03\t                   1.8e-03\n",
      "        H0\t                   6.8e-03\t                   3.9e-03\n",
      "     ombh2\t                   6.7e-03\t                   4.1e-03\n",
      "     omch2\t                   1.0e-02\t                   9.1e-04\n",
      "nu_mass_ev\t                   1.1e+00\t                   7.6e-02\n"
     ]
    }
   ],
   "source": [
    "print('%10s\\t %25s\\t %25s'%('parameter', 'σ(marginalized)/fid val', 'σ(unmarginalized)/fid val'))\n",
    "print('----------------------------------------------------------------------------')\n",
    "i=0\n",
    "for θi in (varied):\n",
    "    if(θi in maximized):\n",
    "        continue\n",
    "    print('%10s\\t %25.1e\\t %25.1e'%(θi, np.abs(np.sqrt(inv_fisher_matrix[i,i])/fiducial_cosmology[θi]), np.abs(np.sqrt(fisher_matrix[i,i])**(-1)/fiducial_cosmology[θi])))\n",
    "    i += 1"
   ]
  },
  {
   "cell_type": "code",
   "execution_count": null,
   "id": "a5a5e7b8",
   "metadata": {},
   "outputs": [],
   "source": []
  },
  {
   "cell_type": "code",
   "execution_count": 17,
   "id": "01e62855",
   "metadata": {
    "scrolled": true
   },
   "outputs": [
    {
     "name": "stdout",
     "output_type": "stream",
     "text": [
      " parameter\t fid val +/- σ(marginalized)\n",
      "----------------------------------------------------------------------------\n",
      "   10^9 As\t  2.1000 +/- 0.02990\n",
      "        ns\t  0.9649 +/- 0.00404\n",
      "        H0\t 67.3600 +/- 0.45748\n",
      "     ombh2\t  0.0224 +/- 0.00015\n",
      "     omch2\t  0.1200 +/- 0.00124\n",
      "nu_mass_ev\t  0.0600 +/- 0.06661\n"
     ]
    }
   ],
   "source": [
    "print('%10s\\t %25s'%('parameter', 'fid val +/- σ(marginalized)'))\n",
    "print('----------------------------------------------------------------------------')\n",
    "i=0\n",
    "for θi in (varied):\n",
    "    if(θi in maximized):\n",
    "        continue\n",
    "    print('%10s\\t %7.4f +/- %.5f'%(θi, (fiducial_cosmology[θi]),np.sqrt(inv_fisher_matrix[i,i])))\n",
    "    i += 1"
   ]
  },
  {
   "cell_type": "code",
   "execution_count": 20,
   "id": "41cad820",
   "metadata": {},
   "outputs": [],
   "source": [
    "tinker_cov = None\n",
    "with open('tinker_forecast/tinker_fisher.pkl', 'rb') as file:\n",
    "    tinker_cov = pickle.load(file)\n"
   ]
  },
  {
   "cell_type": "code",
   "execution_count": 141,
   "id": "3dc9a2e7",
   "metadata": {},
   "outputs": [],
   "source": [
    "plt.show()\n",
    "plt.rcParams['text.usetex'] = True\n",
    "plt.rcParams['font.family'] = 'serif'\n",
    "plt.rcParams['font.size'] = 5\n"
   ]
  },
  {
   "cell_type": "code",
   "execution_count": 177,
   "id": "aeb228ad",
   "metadata": {},
   "outputs": [
    {
     "name": "stdout",
     "output_type": "stream",
     "text": [
      "a\n",
      "c\n",
      "b\n",
      "a\n",
      "c\n",
      "b\n"
     ]
    },
    {
     "data": {
      "image/png": "[encoded data removed]",
      "text/plain": [
       "<Figure size 432x432 with 36 Axes>"
      ]
     },
     "metadata": {
      "needs_background": "light"
     },
     "output_type": "display_data"
    }
   ],
   "source": [
    "##### lrot=25\n",
    "#https://arxiv.org/pdf/0906.4123.pdf\n",
    "def ellipse_params(curr_cov):\n",
    "    \"\"\"Implements (2-4) of Coe's paper\"\"\"\n",
    "\n",
    "    a2 = [[(curr_cov[a][a] + curr_cov[b][b])/2 \n",
    "          + np.sqrt((curr_cov[a][a]-curr_cov[b][b])**2/4 + curr_cov[a][b]**2) \n",
    "           for b in range(len(curr_cov[0]))]\n",
    "          for a in range(len(curr_cov))]\n",
    "    b2 = [[(curr_cov[a][a] + curr_cov[b][b])/2 \n",
    "          - np.sqrt((curr_cov[a][a]-curr_cov[b][b])**2/4 + curr_cov[a][b]**2) \n",
    "           for b in range(len(curr_cov[0]))]\n",
    "          for a in range(len(curr_cov))]\n",
    "    th = [[1/2*np.arctan(2*curr_cov[a][b]/(curr_cov[a][a] - curr_cov[b][b]))*180/np.pi \n",
    "           if a != b else -100\n",
    "           for b in range(len(curr_cov[0]))]\n",
    "          for a in range(len(curr_cov))]\n",
    "    \n",
    "    #fixes mixed up width and heights. \n",
    "    #a2[i][j] shouldn't equal a2[j][i] (the scales would be all wrong)\n",
    "    #but should equal b2[j][i] since the width becomes the height\n",
    "    #and vice versa. \n",
    "    for i in range(len(curr_cov)):\n",
    "        for j in range(len(curr_cov)):\n",
    "            if(curr_cov[i][i] < curr_cov[j][j]):\n",
    "                a2[i][j], b2[i][j] = b2[i][j], a2[i][j]\n",
    "    return(a2, b2, th)\n",
    "\n",
    "from matplotlib.patches import Ellipse\n",
    "\n",
    "fig, ax = plt.subplots(6,6, figsize=(6,6), sharex = 'col', sharey='row',)\n",
    "import matplotlib.cm as cm\n",
    "vlower, vupper = [None]*6, [None]*6\n",
    "for cov_idx, (cov,color) in enumerate(zip([tinker_cov,inv_fisher_matrix ], ['0.8', 'black'])):\n",
    "\n",
    "    # Get a color from the colormap based on the index\n",
    "#     color = 'black'\n",
    "\n",
    "    a2, b2, th = ellipse_params(cov)\n",
    "    #     print(nu_mass, cov[1,1])\n",
    "\n",
    "    fid = [fiducial_cosmology['10^9 As'], \n",
    "           fiducial_cosmology['ns'],\n",
    "           fiducial_cosmology['H0'],\n",
    "           fiducial_cosmology['ombh2'],\n",
    "           fiducial_cosmology['omch2'],\n",
    "           fiducial_cosmology['nu_mass_ev']]\n",
    "    #Table 1. of Coe\n",
    "    alpha_1 = 1.52\n",
    "    alpha_2 = 2.48\n",
    "    alpha = np.array([alpha_1, alpha_2])\n",
    "    labels = [r'$10^9A_s$', \n",
    "              r'$\\Sigma m_\\nu$',]\n",
    "    labels = [r'$10^9A_s$',\n",
    "              r'$n_s$',\n",
    "              r'$H_0\\ \\left[\\frac{\\rm km} {{\\rm s}\\ {\\rm Mpc}} \\right]$',\n",
    "              r'$\\Omega_b h^2$',\n",
    "              r'$\\Omega_c h^2$',\n",
    "              r'$\\sum m_\\nu$ [eV]',]\n",
    "    #make cool elipses\n",
    "    for i in range(len(cov)):\n",
    "        for j in range(i):\n",
    "            wdth = np.sqrt(a2[j][i])*alpha*2\n",
    "            hght = np.sqrt(b2[j][i])*alpha*2\n",
    "\n",
    "            facecolor ='none'\n",
    "            if(color == '0.8'):\n",
    "                facecolor= '0.9'\n",
    "            sigma_1_ellipse = Ellipse(xy = (fid[j], fid[i]), \n",
    "                                        width= wdth[0],\n",
    "                                        height= hght[0],\n",
    "                                        angle=th[j][i], ls='-', \n",
    "                                        edgecolor=color, \n",
    "                                      lw=1, alpha=1,\n",
    "                                        facecolor=facecolor)\n",
    "            ax[i][j].add_artist(sigma_1_ellipse)\n",
    "\n",
    "            sigma_2_ellipse = Ellipse(xy = (fid[j], fid[i]), \n",
    "                                        width= wdth[1],\n",
    "                                        height= hght[1],\n",
    "                                        angle=th[j][i], ls='--', \n",
    "                                        edgecolor=color, lw=1, alpha=1,\n",
    "                                        facecolor=facecolor)\n",
    "            ax[i][j].add_artist(sigma_2_ellipse)  \n",
    "            if(cov_idx == 0):\n",
    "                ax[i][j].set_xlim([fid[j]-1.3*wdth[0], fid[j]+1.3*wdth[0]])\n",
    "                ax[i][j].set_ylim([fid[i]-1.3*hght[0], fid[i]+1.3*hght[0]])\n",
    "\n",
    "            ax[j][i].axis('off')\n",
    "            space = 2\n",
    "            if(j==0):\n",
    "                ax[i][j].set_ylabel(labels[i], fontsize=14)\n",
    "                if(i == 2):\n",
    "                    print('a')\n",
    "                    ax[i][j].set_ylabel(r'$H_0$', fontsize=14)\n",
    "                if(i == 5):\n",
    "                    print('c')\n",
    "                    ax[i][j].set_ylabel(r'$\\sum m_\\nu$', fontsize=14)\n",
    "                ax[i][i].get_yaxis().set_label_coords(-0.5,0.5)\n",
    "\n",
    "            if(i==len(cov)-1):\n",
    "                ax[i][j].set_xlabel(labels[j], fontsize=14)\n",
    "                if( j == 2):\n",
    "                    print('b')\n",
    "                    ax[i][j].set_xlabel(r'$H_0$', fontsize=14)\n",
    "                    \n",
    "                ax[i][j].get_xaxis().set_label_coords(0.5,-0.5)\n",
    "                ax[i][j].tick_params(axis='x', labelrotation=lrot)\n",
    "    def gauss(mean, sig, x):\n",
    "        return 1/np.sqrt(2*np.pi*sig**2)*np.exp(-(x-mean)**2/(2*sig**2)) \n",
    "    tmp0, tmp1 = ax[0][0].get_ylim()\n",
    "    ax[0][0].set_ylim(0, tmp1)\n",
    "    \n",
    "\n",
    "    #plot gaussians\n",
    "    for i in range(len(cov)):\n",
    "\n",
    "        sig = np.sqrt(cov[i][i])\n",
    "        x = np.linspace(fid[i]-sig*5, fid[i] + sig*5, 10000)\n",
    "        # we want to scale so that guassian fit in frame \n",
    "        # from what I understand the main thing we want to quantitatively \n",
    "        # preserve is the \"spread\" in x while the \n",
    "        # amplitude of the gaussian we can rescale \n",
    "        \n",
    "        \n",
    "        y = gauss(fid[i], sig,x)\n",
    "        if(vlower[i] == None):\n",
    "            vupper[i] = [np.max(y),-1]\n",
    "            vlower[i] = [0,-1]\n",
    "            vlower[i][1], vupper[i][1] = ax[i][i].get_ylim()\n",
    "        lower = vlower[i]\n",
    "        upper = vupper[i]\n",
    "        \n",
    "        scale = (upper[1]-lower[1]) * (np.max(y)/upper[0])\n",
    "        \n",
    "        y = lower[1] + .95*scale * y/np.max(y)\n",
    "#         ax[i][i].axvline(fid[i]-sig, ls='--', color=color)\n",
    "#         ax[i][i].axvline(fid[i]+sig, ls='--', color=color)\n",
    "        ax[i][i].plot(x, y, '-', color=color)\n",
    "    \n",
    "ax[5][5].set_xlabel(r'$\\sum m_\\nu$', fontsize=14)\n",
    "ax[5][5].get_xaxis().set_label_coords(0.5,-0.5)\n",
    "\n",
    "for i in range(len(cov)):\n",
    "    sig_tinker = np.sqrt(tinker_cov[i][i])\n",
    "    sig_aemulus = np.sqrt(inv_fisher_matrix[i][i])\n",
    "\n",
    "    ax[i][i].plot(x, y, '-', color=color)\n",
    "    c_txt = r'\\underline{%s}'%labels[i] + '\\n'+ r'%.3f $\\pm\\ \\begin{matrix} %.3f \\\\ %.3f \\end{matrix}$'%(fid[i], sig_aemulus, sig_tinker)\n",
    "    if(i==3):\n",
    "        #omb h2\n",
    "        c_txt = r'\\underline{%s}'%labels[i] + '\\n'+ r'%.4f $\\pm\\ \\begin{matrix} %.4f \\\\ %.4f \\end{matrix}$'%( fid[i], sig_aemulus, sig_tinker)\n",
    "    if(i in [0,2,5]):\n",
    "        c_txt = r'\\underline{%s}'%labels[i] + '\\n'+ r'%.2f $\\pm\\ \\begin{matrix} %.2f \\\\ %.2f \\end{matrix}$'%(fid[i], sig_aemulus, sig_tinker)\n",
    "    \n",
    "    ax[i][i].text(0.5, 1.1,\n",
    "            s=c_txt,\n",
    "            transform=ax[i][i].transAxes,\n",
    "            horizontalalignment='center',\n",
    "            verticalalignment='bottom')\n",
    "    ax[i][i].set_yticks([])\n",
    "ax[-1][-1].tick_params(axis='x', labelrotation=lrot)\n",
    "    \n",
    "    \n",
    "for i in range(len(cov)):\n",
    "    for j in range(len(cov)):\n",
    "        ax[i][j].set_box_aspect(1)\n",
    "\n",
    "meta_txt = r'\\underline{Cosmological Parameter}' + '\\n'+ r'Fiducial Value $\\pm\\ \\begin{matrix}  \\textrm{\\texttt{Aemulus} $\\nu$ (Black)} \\\\ \\textrm{\\texttt{Tinker08} (Grey)}  \\end{matrix}$'  \n",
    "fig.text(0.7, .85,\n",
    "            s=meta_txt,\n",
    "            horizontalalignment='center',\n",
    "            verticalalignment='center',\n",
    "         fontsize=8,\n",
    "        bbox=dict(facecolor='none', edgecolor='k', pad=10.0))\n",
    "# leg = plt.legend(title=meta_txt, loc='upper left')\n",
    "# leg.get_frame().set_edgecolor('k')\n",
    "# leg.get_frame().set_facecolor('none')\n",
    "# leg._legend_box.align = \"right\"\n",
    "\n",
    "plt.savefig('Planck 2018+HMF.pdf', bbox_inches='tight')"
   ]
  },
  {
   "cell_type": "code",
   "execution_count": 19,
   "id": "55d8661a",
   "metadata": {},
   "outputs": [],
   "source": [
    "#1906.10359 found when combiniging CMB S4+BAO+SZ \n",
    "#\\sigma(sum m_\\nu)= 20-30 meV = .02-.03 ev$"
   ]
  }
 ],
 "metadata": {
  "kernelspec": {
   "display_name": "massfunction",
   "language": "python",
   "name": "massfunction"
  },
  "language_info": {
   "codemirror_mode": {
    "name": "ipython",
    "version": 3
   },
   "file_extension": ".py",
   "mimetype": "text/x-python",
   "name": "python",
   "nbconvert_exporter": "python",
   "pygments_lexer": "ipython3",
   "version": "3.9.16"
  }
 },
 "nbformat": 4,
 "nbformat_minor": 5
}
