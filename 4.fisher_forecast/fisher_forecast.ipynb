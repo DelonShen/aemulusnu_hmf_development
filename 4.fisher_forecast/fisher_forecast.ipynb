{
 "cells": [
  {
   "cell_type": "code",
   "execution_count": 1,
   "id": "423ee629",
   "metadata": {},
   "outputs": [],
   "source": [
    "import pickle\n",
    "from aemulusnu_massfunction.emulator import *\n",
    "from aemulusnu_massfunction.fisher_utils import *\n",
    "\n",
    "with open('cluster_abundance_fiducial_covariance.pkl', 'rb') as file:\n",
    "    cluster_count_cov = pickle.load(file)"
   ]
  },
  {
   "cell_type": "code",
   "execution_count": 2,
   "id": "5118313a",
   "metadata": {},
   "outputs": [],
   "source": [
    "# import pickle\n",
    "# from emulator import *\n",
    "# from fisher_utils import *\n",
    "\n",
    "# with open('cluster_abundance_fiducial_covariance_shot_noise_only.pkl', 'rb') as file:\n",
    "#     cluster_count_cov = pickle.load(file)"
   ]
  },
  {
   "cell_type": "code",
   "execution_count": 3,
   "id": "f0fdfee0",
   "metadata": {},
   "outputs": [],
   "source": [
    "z_bin_edges = [0.2, 0.4, 0.6, 0.8, 1.0]\n",
    "richness_bin_edges = [20., 30., 45., 60., 300.]\n",
    "\n",
    "n_z = len(z_bin_edges) - 1\n",
    "n_r = len(richness_bin_edges) - 1\n",
    "cov_matrix_2d = np.zeros((n_z * n_r, n_z * n_r))\n",
    "\n",
    "for i in range(n_z):\n",
    "    for j in range(n_z):\n",
    "        for a in range(n_r):\n",
    "            for b in range(n_r):\n",
    "                row_index = i * n_r + a\n",
    "                col_index = j * n_r + b\n",
    "                cov_matrix_2d[row_index, col_index] = cluster_count_cov[i, j, a, b]\n",
    "\n",
    "                \n",
    "                \n",
    "from scipy.linalg import cho_factor, cho_solve\n",
    "cholesky_factor = cho_factor(cov_matrix_2d)\n",
    "cov_inv = cho_solve(cholesky_factor, np.eye(n_z * n_r))                \n"
   ]
  },
  {
   "cell_type": "code",
   "execution_count": null,
   "id": "850ac7d3",
   "metadata": {},
   "outputs": [],
   "source": []
  },
  {
   "cell_type": "code",
   "execution_count": 4,
   "id": "297013eb",
   "metadata": {},
   "outputs": [],
   "source": [
    "dμdθ = {}\n",
    "dμdθ_unflat = {}\n",
    "\n",
    "for parameter_changed in fiducial_log10_rel_step_size:\n",
    "    cluster_abundance_pos = None\n",
    "    cluster_abundance_neg = None\n",
    "    log10_rel_step_size = fiducial_log10_rel_step_size[parameter_changed]\n",
    "    fname_base = '/oak/stanford/orgs/kipac/users/delon/aemulusnu_massfunction/cluster_abundance_fisher_%s_%.4f'%(parameter_changed, log10_rel_step_size)\n",
    "    with open(fname_base, 'rb') as file:\n",
    "        cluster_abundance_pos = pickle.load(file)\n",
    "    with open(fname_base+'_neg', 'rb') as file:\n",
    "        cluster_abundance_neg = pickle.load(file)\n",
    "    h = np.abs(fiducial_cosmology[parameter_changed]) * 10**log10_rel_step_size\n",
    "    tmp_theory_deriv = (cluster_abundance_pos - cluster_abundance_neg) / (2 * h)\n",
    "    flattened_theory_deriv = np.zeros((n_z * n_r))\n",
    "    for i in range(n_z):\n",
    "        for a in range(n_r):\n",
    "            flattened_theory_deriv[i * n_r + a] = tmp_theory_deriv[i, a]\n",
    "    dμdθ[parameter_changed] = flattened_theory_deriv\n",
    "    dμdθ_unflat[parameter_changed] = tmp_theory_deriv\n"
   ]
  },
  {
   "cell_type": "code",
   "execution_count": 5,
   "id": "f9f88796",
   "metadata": {},
   "outputs": [],
   "source": [
    "# N_fiducial = N_in_z_bins_and_richness_bins(fiducial_cosmology, richness_bin_edges, z_bin_edges)\n",
    "# flattened_N_fid = np.zeros((n_z * n_r))\n",
    "\n",
    "# for i in range(n_z):\n",
    "#         for a in range(n_r):\n",
    "#             flattened_N_fid[i * n_r + a] = N_fiducial[i, a]"
   ]
  },
  {
   "cell_type": "code",
   "execution_count": 6,
   "id": "9840fbd7",
   "metadata": {},
   "outputs": [],
   "source": [
    "labels = {\n",
    "    '10^9 As': r'$10^9A_s$',\n",
    "    'ns': r'$n_s$',\n",
    "    'H0': r'$H_0$',\n",
    "    'w0': r'$w_0$',\n",
    "    'ombh2': r'$\\Omega_b h^2$',\n",
    "    'omch2': r'$\\Omega_c h^2$',\n",
    "    'nu_mass_ev': r'$\\sum m_\\nu$',\n",
    "    'sigma8' : r'$\\sigma_8$'\n",
    "}"
   ]
  },
  {
   "cell_type": "code",
   "execution_count": 7,
   "id": "9285cc60",
   "metadata": {},
   "outputs": [],
   "source": [
    "# param = 'nu_mass_ev'\n",
    "# tmp_dlnN_dlnθ = dμdθ_unflat[param] * fiducial_cosmology[param] / N_fiducial\n",
    "# tmp_dlnN_dlnθ = np.reshape(tmp_dlnN_dlnθ, (4,4))\n",
    "# import matplotlib.pyplot as plt\n",
    "# plt.rcParams['text.usetex'] = True\n",
    "# plt.rcParams['font.size'] = 32\n",
    "# plt.rcParams['font.family'] = 'serif'\n",
    "\n",
    "# plt.figure(figsize=(8,8))\n",
    "# plt.imshow((tmp_dlnN_dlnθ), cmap='rainbow')\n",
    "# plt.colorbar()\n",
    "# plt.xticks([])\n",
    "# plt.yticks([])\n",
    "# plt.title(r'$d \\ln \\mathcal N^i_{\\lambda_\\alpha} / d \\ln $%s'%(labels[param]))"
   ]
  },
  {
   "cell_type": "code",
   "execution_count": 8,
   "id": "ef6e9afb",
   "metadata": {},
   "outputs": [],
   "source": [
    "# import matplotlib.pyplot as plt\n",
    "# import numpy as np\n",
    "\n",
    "# params = list(dμdθ.keys())\n",
    "# print(len(params))\n",
    "# n_rows = 2 # Adjust based on the number of keys\n",
    "# n_cols = 4 # Adjust based on the number of keys\n",
    "\n",
    "# fig, axs = plt.subplots(n_rows, n_cols, figsize=(32,16), sharex=True, sharey=True)\n",
    "# cbar_ax = fig.add_axes([0.91, 0.15, 0.02, 0.7]) # Adjust to place the colorbar properly\n",
    "\n",
    "\n",
    "# # Define labels for redshift and richness bins\n",
    "# redshift_labels = ['0.2-0.4', '0.4-0.6', '0.6-0.8', '0.8-1.0']\n",
    "# richness_labels = ['20-30', '30-45', '45-60', r'60-$\\infty$']\n",
    "\n",
    "# # Loop over the parameters and plot the images\n",
    "# for i, param in enumerate(params):\n",
    "#     row = i // n_cols\n",
    "#     col = i % n_cols\n",
    "#     ax = axs[row, col]\n",
    "\n",
    "#     tmp_dlnN_dlnθ = dμdθ[param] * fiducial_cosmology[param] / flattened_N_fid\n",
    "#     tmp_dlnN_dlnθ = np.reshape(tmp_dlnN_dlnθ, (4, 4))\n",
    "\n",
    "#     im = ax.imshow(tmp_dlnN_dlnθ, cmap='rainbow')\n",
    "#     ax.set_title(r'$d \\ln \\mathcal N^i_{\\lambda_\\alpha} / d \\ln $ %s' % (labels[param]))\n",
    "#     ax.set_xticks(range(4))\n",
    "#     ax.set_xticklabels(richness_labels)\n",
    "#     ax.set_yticks(range(4))\n",
    "#     ax.set_yticklabels(redshift_labels)\n",
    "#     if(row==1):\n",
    "#         ax.set_xlabel('Richness Bin')\n",
    "#     if(col==0):\n",
    "#         ax.set_ylabel('Redshift Bin')\n",
    "    \n",
    "# # Common colorbar\n",
    "# fig.colorbar(im, cax=cbar_ax)\n",
    "# plt.savefig('dlnN_dlntheory.pdf')"
   ]
  },
  {
   "cell_type": "code",
   "execution_count": 9,
   "id": "bfd495b0",
   "metadata": {
    "scrolled": true
   },
   "outputs": [
    {
     "name": "stdout",
     "output_type": "stream",
     "text": [
      "0 10^9 As\n",
      "1 ns\n",
      "2 H0\n",
      "3 w0\n",
      "4 ombh2\n",
      "5 omch2\n",
      "6 nu_mass_ev\n"
     ]
    }
   ],
   "source": [
    "n_parameters = len(fiducial_cosmology.keys())\n",
    "\n",
    "fisher_matrix = np.zeros((n_parameters, n_parameters))\n",
    "\n",
    "nu_mass_ev_idx = -1\n",
    "for i, θi in enumerate(fiducial_cosmology.keys()):\n",
    "    print(i, θi)\n",
    "    if(θi == 'nu_mass_ev'):\n",
    "        nu_mass_ev_idx = i\n",
    "    for j, θj in enumerate(fiducial_cosmology.keys()):\n",
    "        dμl_θi = dμdθ[θi]\n",
    "        dμm_θj = dμdθ[θj]\n",
    "        fisher_matrix[i,j] = np.einsum('l,lm,m', dμl_θi, cov_inv, dμm_θj)"
   ]
  },
  {
   "cell_type": "code",
   "execution_count": 10,
   "id": "9ba4a124",
   "metadata": {},
   "outputs": [],
   "source": [
    "maximized = ['nu_mass_ev', 'ombh2', 'w0','H0','ns']\n",
    "maximized_idxs = [list(fiducial_cosmology.keys()).index(c) for c in maximized]"
   ]
  },
  {
   "cell_type": "code",
   "execution_count": null,
   "id": "5d68e61a",
   "metadata": {},
   "outputs": [],
   "source": []
  },
  {
   "cell_type": "code",
   "execution_count": 11,
   "id": "c0d518d8",
   "metadata": {},
   "outputs": [],
   "source": [
    "for idx in reversed(sorted(maximized_idxs)):\n",
    "    fisher_matrix = np.delete(fisher_matrix, idx, axis=0)  \n",
    "    fisher_matrix = np.delete(fisher_matrix, idx, axis=1) \n",
    "\n",
    "    if(nu_mass_ev_idx >= idx):\n",
    "        nu_mass_ev_idx -= 1"
   ]
  },
  {
   "cell_type": "code",
   "execution_count": 12,
   "id": "ba392a1a",
   "metadata": {},
   "outputs": [
    {
     "data": {
      "text/plain": [
       "Text(0.5, 1.0, '$\\\\log_{10}$Fisher Matrix')"
      ]
     },
     "execution_count": 12,
     "metadata": {},
     "output_type": "execute_result"
    },
    {
     "data": {
      "image/png": "[encoded data removed]",
      "text/plain": [
       "<Figure size 432x288 with 2 Axes>"
      ]
     },
     "metadata": {
      "needs_background": "light"
     },
     "output_type": "display_data"
    }
   ],
   "source": [
    "import matplotlib.pyplot as plt\n",
    "plt.rcParams['text.usetex'] = True\n",
    "plt.rcParams['font.size'] = 32\n",
    "plt.rcParams['font.family'] = 'serif'\n",
    "\n",
    "plt.imshow(np.log10(fisher_matrix), cmap='rainbow')\n",
    "plt.colorbar()\n",
    "plt.xticks([])\n",
    "plt.yticks([])\n",
    "plt.title(r'$\\log_{10}$Fisher Matrix')\n"
   ]
  },
  {
   "cell_type": "code",
   "execution_count": 13,
   "id": "eba5c03e",
   "metadata": {},
   "outputs": [],
   "source": [
    "from scipy.linalg import cho_solve, cho_factor\n",
    "\n",
    "# Compute the Cholesky decomposition\n",
    "cholesky_factor = cho_factor(fisher_matrix)\n",
    "\n",
    "# Solve for the inverse of the diagonal element\n",
    "e_i = np.zeros_like(fisher_matrix[nu_mass_ev_idx])\n",
    "e_i[nu_mass_ev_idx] = 1\n",
    "\n",
    "inv_diagonal_element = cho_solve(cholesky_factor, e_i)[nu_mass_ev_idx]"
   ]
  },
  {
   "cell_type": "code",
   "execution_count": 14,
   "id": "de15d3fd",
   "metadata": {},
   "outputs": [
    {
     "data": {
      "text/plain": [
       "1.8555693501609742e-06"
      ]
     },
     "execution_count": 14,
     "metadata": {},
     "output_type": "execute_result"
    }
   ],
   "source": [
    "inv_diagonal_element"
   ]
  },
  {
   "cell_type": "code",
   "execution_count": 15,
   "id": "ecd42d65",
   "metadata": {},
   "outputs": [
    {
     "data": {
      "text/plain": [
       "0.0013621928461715258"
      ]
     },
     "execution_count": 15,
     "metadata": {},
     "output_type": "execute_result"
    }
   ],
   "source": [
    "inv_fisher_matrix = np.linalg.inv(fisher_matrix)\n",
    "\n",
    "\n",
    "np.sqrt(inv_fisher_matrix[nu_mass_ev_idx][nu_mass_ev_idx])"
   ]
  },
  {
   "cell_type": "code",
   "execution_count": 16,
   "id": "114f6e9d",
   "metadata": {},
   "outputs": [
    {
     "name": "stdout",
     "output_type": "stream",
     "text": [
      " parameter\t   σ(marginalized)/fid val\t σ(unmarginalized)/fid val\n",
      "----------------------------------------------------------------------------\n",
      "   10^9 As\t                   1.8e-02\t                   1.4e-03\n",
      "     omch2\t                   1.1e-02\t                   8.7e-04\n"
     ]
    }
   ],
   "source": [
    "print('%10s\\t %25s\\t %25s'%('parameter', 'σ(marginalized)/fid val', 'σ(unmarginalized)/fid val'))\n",
    "print('----------------------------------------------------------------------------')\n",
    "i=0\n",
    "for θi in (fiducial_cosmology.keys()):\n",
    "    if(θi in maximized):\n",
    "        continue\n",
    "    print('%10s\\t %25.1e\\t %25.1e'%(θi, np.abs(np.sqrt(inv_fisher_matrix[i,i])/fiducial_cosmology[θi]), np.abs(np.sqrt(fisher_matrix[i,i])**(-1)/fiducial_cosmology[θi])))\n",
    "    i += 1"
   ]
  },
  {
   "cell_type": "code",
   "execution_count": 17,
   "id": "01e62855",
   "metadata": {},
   "outputs": [
    {
     "name": "stdout",
     "output_type": "stream",
     "text": [
      " parameter\t fid val +/- σ(marginalized)\n",
      "----------------------------------------------------------------------------\n",
      "   10^9 As\t 2.10 +/- 0.039\n",
      "     omch2\t 0.12 +/- 0.001\n"
     ]
    }
   ],
   "source": [
    "print('%10s\\t %25s'%('parameter', 'fid val +/- σ(marginalized)'))\n",
    "print('----------------------------------------------------------------------------')\n",
    "i=0\n",
    "for θi in (fiducial_cosmology.keys()):\n",
    "    if(θi in maximized):\n",
    "        continue\n",
    "    print('%10s\\t %4.2f +/- %.3f'%(θi, (fiducial_cosmology[θi]),np.sqrt(inv_fisher_matrix[i,i])))\n",
    "    i += 1"
   ]
  },
  {
   "cell_type": "code",
   "execution_count": 18,
   "id": "dc526a83",
   "metadata": {},
   "outputs": [
    {
     "data": {
      "text/plain": [
       "Text(0.5, 1.0, 'Theory Covariance from (Fisher Matrix)$^{-1}$')"
      ]
     },
     "execution_count": 18,
     "metadata": {},
     "output_type": "execute_result"
    },
    {
     "data": {
      "image/png": "[encoded data removed]",
      "text/plain": [
       "<Figure size 1080x1080 with 2 Axes>"
      ]
     },
     "metadata": {
      "needs_background": "light"
     },
     "output_type": "display_data"
    }
   ],
   "source": [
    "import matplotlib.pyplot as plt\n",
    "plt.rcParams['text.usetex'] = True\n",
    "plt.rcParams['font.size'] = 32\n",
    "plt.rcParams['font.family'] = 'serif'\n",
    "plt.figure(figsize=(15,15))\n",
    "\n",
    "tmp_theory_cov =(inv_fisher_matrix)\n",
    "\n",
    "# Compute the diagonal of the covariance matrix\n",
    "diagonal = np.sqrt(np.diag(tmp_theory_cov))\n",
    "\n",
    "# Calculate the correlation coefficient matrix\n",
    "correlation_matrix = tmp_theory_cov / np.outer(diagonal, diagonal)\n",
    "\n",
    "# Annotate cells with values\n",
    "for i in range(correlation_matrix.shape[0]):\n",
    "    for j in range(correlation_matrix.shape[1]):\n",
    "        plt.text(j, i, f'{correlation_matrix[i, j]:.2f}', ha='center', va='center', color='white')\n",
    "\n",
    "plt.imshow(correlation_matrix, cmap='seismic', vmin=-1, vmax=1)\n",
    "plt.colorbar(label=r'Correlation Coeff. $\\rho$')\n",
    "\n",
    "tick_positions = np.arange(len(fiducial_cosmology) - len(maximized))\n",
    "tick_labels = [labels[key] for key in fiducial_cosmology.keys() if key not in maximized]\n",
    "\n",
    "plt.xticks(tick_positions, tick_labels, rotation='vertical')\n",
    "plt.yticks(tick_positions, tick_labels)\n",
    "\n",
    "plt.title(r'Theory Covariance from (Fisher Matrix)$^{-1}$')\n",
    "# plt.savefig('fisher_forecasted_theory_cov.pdf')\n",
    "\n",
    "\n"
   ]
  },
  {
   "cell_type": "code",
   "execution_count": null,
   "id": "700109f7",
   "metadata": {},
   "outputs": [],
   "source": [
    "import seaborn as sns \n",
    "\n",
    "\n",
    "def corr2(cov1, cov2, label, label2):\n",
    "    cmap='seismic'\n",
    "    corr_nhat = np.copy(cov1)\n",
    "    corr_nhat2 = np.copy(cov2)\n",
    "\n",
    "    sze = len(correlation_matrix)\n",
    "    mask = np.array([[0 for _ in range(sze)] for _ in range(sze)])\n",
    "    for i in range(sze-1):\n",
    "        for j in range(sze-1-i):\n",
    "            corr_nhat[i][sze-j-1] = corr_nhat2[i][sze-j-1]\n",
    "            mask[i][sze-j-1] = 1\n",
    "    plt.figure(figsize=(15,15))\n",
    "    print(np.shape(corr_nhat))\n",
    "    print(np.shape(mask))\n",
    "\n",
    "    ax = sns.heatmap(corr_nhat,  cmap=cmap, cbar=True, vmin=-1, vmax=1, square=True,\n",
    "                    cbar_kws={ 'ticks':[],\n",
    "                              \"orientation\": \"horizontal\", 'pad':-0.17, 'shrink':0.3})\n",
    "\n",
    "    sns.heatmap(corr_nhat, mask=mask, cmap=cmap, cbar=True, ax=ax, vmin=-1, vmax=1,square=True,\n",
    "           cbar_kws={'label': r\"$\\rho$\",\"orientation\": \"horizontal\", 'pad':0.1,  'shrink':0.3})\n",
    "\n",
    "\n",
    "    tick_positions = np.arange(len(fiducial_cosmology) - len(maximized))+0.5\n",
    "    tick_labels = [labels[key] for key in fiducial_cosmology.keys() if key not in maximized]\n",
    "\n",
    "    ax.set_xticks(tick_positions, tick_labels, rotation='vertical')\n",
    "    ax.set_yticks(tick_positions, tick_labels)\n",
    "\n",
    "    for i in range(correlation_matrix.shape[0]):\n",
    "        for j in range( correlation_matrix.shape[1]):\n",
    "            ax.text(j+0.5, i+0.5, f'{corr_nhat[i, j]:.2f}', ha='center', va='center', color='white')\n",
    "\n",
    "\n",
    "    plt.title(r'Correlations for {%s} (Bottom Left) and {%s} (Top Right)'%(label, label2))\n",
    "    # if(common_norm):\n",
    "    #     plt.title(r'Correlations for {%s} (Top Left) and {%s} (Bottom Right)'%(label, label2)+'\\n'+'But correlation coefficient normalized to variance of %s'%(label))\n",
    "\n",
    "    return ax\n"
   ]
  },
  {
   "cell_type": "code",
   "execution_count": null,
   "id": "5d4b7735",
   "metadata": {
    "scrolled": false
   },
   "outputs": [],
   "source": [
    "label = r'Aemulus-$\\nu$'\n",
    "label2 = 'Sheth-Tormen'\n",
    "corr2(correlation_matrix, st_correlation_matrix, label, label2)"
   ]
  },
  {
   "cell_type": "code",
   "execution_count": null,
   "id": "ce4ca62a",
   "metadata": {},
   "outputs": [],
   "source": [
    "no_mnu_corr = None\n",
    "with open('../4.5.fisher_forecast_no_mnu/fisher_cov.pkl', 'rb') as f:\n",
    "    no_mnu_corr = pickle.load(f)"
   ]
  },
  {
   "cell_type": "code",
   "execution_count": null,
   "id": "e9e92a6b",
   "metadata": {},
   "outputs": [],
   "source": [
    "label = r'Aemulus-$\\nu$'\n",
    "label2 = r'No $\\sum m_\\nu$'\n",
    "corr2(correlation_matrix, no_mnu_corr, label, label2)"
   ]
  },
  {
   "cell_type": "code",
   "execution_count": null,
   "id": "a39ea8f2",
   "metadata": {},
   "outputs": [],
   "source": []
  }
 ],
 "metadata": {
  "kernelspec": {
   "display_name": "massfunction",
   "language": "python",
   "name": "massfunction"
  },
  "language_info": {
   "codemirror_mode": {
    "name": "ipython",
    "version": 3
   },
   "file_extension": ".py",
   "mimetype": "text/x-python",
   "name": "python",
   "nbconvert_exporter": "python",
   "pygments_lexer": "ipython3",
   "version": "3.9.16"
  }
 },
 "nbformat": 4,
 "nbformat_minor": 5
}
