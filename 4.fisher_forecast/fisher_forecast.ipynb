{
 "cells": [
  {
   "cell_type": "code",
   "execution_count": 1,
   "id": "423ee629",
   "metadata": {},
   "outputs": [],
   "source": [
    "import pickle\n",
    "from aemulusnu_massfunction.emulator_training import *\n",
    "from aemulusnu_massfunction.fisher_utils import *\n",
    "\n",
    "fiducial_h = 0.6736\n",
    "\n",
    "\n",
    "#(Plank 2018 table 2. TT,TE,EE+lowE+lensing  + neutrino mass put in by hand)\n",
    "fiducial_cosmology = {'10^9 As':2.1,\n",
    "                      'ns': 0.9649,\n",
    "                      'H0': 67.36,\n",
    "                      'w0': -1,\n",
    "                      'ombh2': 0.02237,\n",
    "                      'omch2': 0.12,\n",
    "                      'nu_mass_ev': 0.06,}\n",
    "\n",
    "\n",
    "\n",
    "#(Same as above but put in DES Y3 OmegaM and Sigma8)\n",
    "# Ωmh2 =  0.339*fiducial_h**2 # Y3 3x2pt\n",
    "# Ωνh2 = 0.06/(93.14) #see astro-ph/0603494\n",
    "# #From the BBN seciton of DES Y3 paper\n",
    "# Ωbh2 = 2.195/100\n",
    "# Ωch2 = Ωmh2-Ωbh2-Ωνh2\n",
    "# fiducial_cosmology = {'10^9 As': 1.520813,  #from σ8 for DES Y3 3x2 and convert_sigma8_to_As.ipynb\n",
    "#                       'ns': 0.9649,\n",
    "#                       'H0': 67.36,\n",
    "#                       'w0': -1,\n",
    "#                       'ombh2': Ωbh2,\n",
    "#                       'omch2': Ωch2,\n",
    "#                       'nu_mass_ev': 0.06,}\n",
    "\n",
    "\n",
    "oup_cov_fname = 'fiducial_cluster_abundance_covariance_'\n",
    "\n",
    "for key in fiducial_cosmology:\n",
    "    ckey = key\n",
    "    if key == '10^9 As':\n",
    "        ckey = '1e9As'\n",
    "    oup_cov_fname += '%s_%f_'%(ckey, fiducial_cosmology[key])\n",
    "\n",
    "oup_cov_fname = list(oup_cov_fname)\n",
    "\n",
    "for i,char in enumerate(oup_cov_fname):\n",
    "    if(char == '.'):\n",
    "        oup_cov_fname[i] = 'p'\n",
    "\n",
    "oup_cov_fname = oup_cov_fname[:-1]\n",
    "\n",
    "oup_cov_fname = ''.join(oup_cov_fname)\n",
    "oup_cov_fname += '.pkl'\n",
    "\n",
    "with open(oup_cov_fname, 'rb') as file:\n",
    "        cluster_count_cov = pickle.load(file)\n"
   ]
  },
  {
   "cell_type": "code",
   "execution_count": 2,
   "id": "f0fdfee0",
   "metadata": {},
   "outputs": [],
   "source": [
    "z_bin_edges = [0.2, 0.4, 0.6, 0.8, 1.0]\n",
    "richness_bin_edges = [20., 30., 45., 60., 300.]\n",
    "\n",
    "n_z = len(z_bin_edges) - 1\n",
    "n_r = len(richness_bin_edges) - 1\n",
    "cov_matrix_2d = np.zeros((n_z * n_r, n_z * n_r))\n",
    "\n",
    "for i in range(n_z):\n",
    "    for j in range(n_z):\n",
    "        for a in range(n_r):\n",
    "            for b in range(n_r):\n",
    "                row_index = i * n_r + a\n",
    "                col_index = j * n_r + b\n",
    "                cov_matrix_2d[row_index, col_index] = cluster_count_cov[i, j, a, b]\n",
    "\n",
    "                \n",
    "                \n",
    "from scipy.linalg import cho_factor, cho_solve\n",
    "cholesky_factor = cho_factor(cov_matrix_2d)\n",
    "cov_inv = cho_solve(cholesky_factor, np.eye(n_z * n_r))                \n",
    "cov_inv = np.linalg.inv(cov_matrix_2d)"
   ]
  },
  {
   "cell_type": "code",
   "execution_count": 3,
   "id": "850ac7d3",
   "metadata": {},
   "outputs": [],
   "source": [
    "# varied = list(fiducial_cosmology.keys())\n",
    "varied = ['10^9 As', 'ns', 'H0', 'ombh2', 'omch2', 'nu_mass_ev']\n"
   ]
  },
  {
   "cell_type": "code",
   "execution_count": 4,
   "id": "297013eb",
   "metadata": {},
   "outputs": [],
   "source": [
    "dμdθ = {}\n",
    "dμdθ_unflat = {}\n",
    "\n",
    "for parameter_changed in varied:\n",
    "    cluster_abundance_pos = None\n",
    "    cluster_abundance_neg = None\n",
    "    log10_rel_step_size = fiducial_log10_rel_step_size[parameter_changed]\n",
    "    fname_base = '/scratch/users/delon/aemulusnu_massfunction/cluster_abundance_fisher_changing_%s_log10rel_step%.4f_cosmo_'%(parameter_changed, log10_rel_step_size)\n",
    "#     fname_base = '/scratch/users/delon/aemulusnu_massfunction.2024-08-15/cluster_abundance_fisher_changing_%s_log10rel_step%.4f_cosmo_'%(parameter_changed, log10_rel_step_size)\n",
    "#     fname_base = '/scratch/users/delon/aemulusnu_massfunction/cluster_abundance_tinker_fisher_changing_%s_log10rel_step%.4f_cosmo_'%(parameter_changed, log10_rel_step_size)\n",
    "\n",
    "    for key in fiducial_cosmology:\n",
    "        ckey = key\n",
    "        if key == '10^9 As':\n",
    "            ckey = '1e9As'\n",
    "        fname_base += '%s_%f_'%(ckey, fiducial_cosmology[key])\n",
    "\n",
    "    fname_base = list(fname_base)\n",
    "\n",
    "    for i,char in enumerate(fname_base):\n",
    "        if(char == '.'):\n",
    "            fname_base[i] = 'p'\n",
    "\n",
    "    fname_base = fname_base[:-1]\n",
    "\n",
    "    fname_base = ''.join(fname_base)\n",
    "\n",
    "    \n",
    "    with open(fname_base, 'rb') as file:\n",
    "        cluster_abundance_pos = pickle.load(file)\n",
    "    with open(fname_base+'_neg', 'rb') as file:\n",
    "        cluster_abundance_neg = pickle.load(file)\n",
    "    STEP_SIZE = np.abs(fiducial_cosmology[parameter_changed]) * 10**log10_rel_step_size\n",
    "    tmp_theory_deriv = (cluster_abundance_pos - cluster_abundance_neg) / (2 * STEP_SIZE)\n",
    "    flattened_theory_deriv = np.zeros((n_z * n_r))\n",
    "    for i in range(n_z):\n",
    "        for a in range(n_r):\n",
    "            flattened_theory_deriv[i * n_r + a] = tmp_theory_deriv[i, a]\n",
    "    dμdθ[parameter_changed] = flattened_theory_deriv\n",
    "    dμdθ_unflat[parameter_changed] = tmp_theory_deriv\n"
   ]
  },
  {
   "cell_type": "code",
   "execution_count": 5,
   "id": "9840fbd7",
   "metadata": {},
   "outputs": [],
   "source": [
    "labels = {\n",
    "    '10^9 As': r'$10^9A_s$',\n",
    "    'ns': r'$n_s$',\n",
    "    'H0': r'$H_0$',\n",
    "    'w0': r'$w_0$',\n",
    "    'ombh2': r'$\\Omega_b h^2$',\n",
    "    'omch2': r'$\\Omega_c h^2$',\n",
    "    'nu_mass_ev': r'$\\sum m_\\nu$',\n",
    "    'sigma8' : r'$\\sigma_8$'\n",
    "}"
   ]
  },
  {
   "cell_type": "code",
   "execution_count": 6,
   "id": "c06fc058",
   "metadata": {},
   "outputs": [
    {
     "name": "stdout",
     "output_type": "stream",
     "text": [
      "['10^9 As', 'ns', 'H0', 'ombh2', 'omch2', 'nu_mass_ev']\n",
      "(3, 3)\n"
     ]
    }
   ],
   "source": [
    "print(varied)\n",
    "\n",
    "DESI_BAO_BBN_thetas_H0_omch2_ombh2_cov = -1\n",
    "with open('DESI-Y1-mnu-chain/DESI_y1_BAO_BBN_thetas_nuCDM_cov.pkl', 'rb') as file:\n",
    "    DESI_BAO_BBN_thetas_H0_omch2_ombh2_cov = pickle.load(file)\n",
    "print(DESI_BAO_BBN_thetas_H0_omch2_ombh2_cov.shape)\n",
    "\n",
    "fisher_DESI_BAO_BBN_thetas = np.linalg.inv(DESI_BAO_BBN_thetas_H0_omch2_ombh2_cov)\n"
   ]
  },
  {
   "cell_type": "code",
   "execution_count": 7,
   "id": "eb52d9c3",
   "metadata": {},
   "outputs": [],
   "source": [
    "fisher_DESI_BAO_BBN_thetas_dict = {}\n",
    "for i,key1 in enumerate([ 'H0', 'ombh2', 'omch2']):\n",
    "    fisher_DESI_BAO_BBN_thetas_dict[key1] = {}\n",
    "    for j, key2 in enumerate([ 'H0', 'ombh2', 'omch2']):\n",
    "        fisher_DESI_BAO_BBN_thetas_dict[key1][key2] = fisher_DESI_BAO_BBN_thetas[i][j]"
   ]
  },
  {
   "cell_type": "code",
   "execution_count": 8,
   "id": "bfd495b0",
   "metadata": {
    "scrolled": true
   },
   "outputs": [
    {
     "name": "stdout",
     "output_type": "stream",
     "text": [
      "0 10^9 As\n",
      "1 ns\n",
      "2 H0\n",
      "3 ombh2\n",
      "4 omch2\n",
      "5 nu_mass_ev\n"
     ]
    }
   ],
   "source": [
    "n_parameters = len(varied)\n",
    "\n",
    "fisher_matrix = np.zeros((n_parameters, n_parameters))\n",
    "\n",
    "# # adding planck prior 1807.06209 table 2\n",
    "# Planck_σ = {\n",
    "#     '10^9 As': 0.029,\n",
    "#     'ns': 0.0038,\n",
    "#     'H0': 0.42,\n",
    "#     'w0': np.inf, #unconstrained by main analysis\n",
    "#     'ombh2':0.00014,\n",
    "#     'omch2':0.00091,\n",
    "#     'nu_mass_ev': np.inf, #unconstrained by main analysis\n",
    "# }\n",
    "\n",
    "# # adding planck prior mnu 1807.06209 table 5\n",
    "Planck_σ = {\n",
    "    '10^9 As': 0.03,\n",
    "    'ns': 0.0043,\n",
    "    'H0': 1.2,\n",
    "    'w0': np.inf, #unconstrained by main analysis\n",
    "    'ombh2':0.00015,\n",
    "    'omch2':0.0013,\n",
    "    'nu_mass_ev': np.inf, #assume nothing\n",
    "}\n",
    "\n",
    "\n",
    "\n",
    "\n",
    "nu_mass_ev_idx = -1\n",
    "for i, θi in enumerate(varied):\n",
    "    print(i, θi)\n",
    "    if(θi == 'nu_mass_ev'):\n",
    "        nu_mass_ev_idx = i\n",
    "    for j, θj in enumerate(varied):\n",
    "        dμl_θi = dμdθ[θi]\n",
    "        dμm_θj = dμdθ[θj]\n",
    "        fisher_matrix[i,j] = np.einsum('l,lm,m', dμl_θi, cov_inv, dμm_θj)\n",
    "        if(θi in fisher_DESI_BAO_BBN_thetas_dict and θj in fisher_DESI_BAO_BBN_thetas_dict[θi]):\n",
    "            fisher_matrix[i,j] += fisher_DESI_BAO_BBN_thetas_dict[θi][θj]\n",
    "\n",
    "#     fisher_matrix[i,i] += 1/Planck_σ[θi]**2"
   ]
  },
  {
   "cell_type": "code",
   "execution_count": 9,
   "id": "c6fa1da6",
   "metadata": {},
   "outputs": [
    {
     "name": "stdout",
     "output_type": "stream",
     "text": [
      "{'10^9 As': 2.1, 'ns': 0.9649, 'H0': 67.36, 'w0': -1, 'ombh2': 0.02237, 'omch2': 0.12, 'nu_mass_ev': 0.06}\n"
     ]
    }
   ],
   "source": [
    "print(fiducial_cosmology)"
   ]
  },
  {
   "cell_type": "code",
   "execution_count": null,
   "id": "226ac935",
   "metadata": {},
   "outputs": [],
   "source": []
  },
  {
   "cell_type": "code",
   "execution_count": null,
   "id": "d4dbbfe2",
   "metadata": {},
   "outputs": [],
   "source": []
  },
  {
   "cell_type": "code",
   "execution_count": 10,
   "id": "9ba4a124",
   "metadata": {},
   "outputs": [],
   "source": [
    "maximized = []\n",
    "# maximized = ['10^9 As', 'ns', 'H0', 'w0', 'ombh2', 'omch2']\n",
    "\n",
    "maximized_idxs = [list(varied).index(c) for c in maximized]\n",
    "\n",
    "for idx in reversed(sorted(maximized_idxs)):\n",
    "    fisher_matrix = np.delete(fisher_matrix, idx, axis=0)  \n",
    "    fisher_matrix = np.delete(fisher_matrix, idx, axis=1) \n",
    "\n",
    "    if(nu_mass_ev_idx >= idx):\n",
    "        nu_mass_ev_idx -= 1"
   ]
  },
  {
   "cell_type": "code",
   "execution_count": null,
   "id": "5d68e61a",
   "metadata": {},
   "outputs": [],
   "source": []
  },
  {
   "cell_type": "code",
   "execution_count": null,
   "id": "c0d518d8",
   "metadata": {},
   "outputs": [],
   "source": []
  },
  {
   "cell_type": "code",
   "execution_count": 11,
   "id": "eba5c03e",
   "metadata": {},
   "outputs": [],
   "source": [
    "from scipy.linalg import cho_solve, cho_factor\n",
    "\n",
    "# Compute the Cholesky decomposition\n",
    "cholesky_factor = cho_factor(fisher_matrix)\n",
    "\n",
    "# Solve for the inverse of the diagonal element\n",
    "e_i = np.zeros_like(fisher_matrix[nu_mass_ev_idx])\n",
    "e_i[nu_mass_ev_idx] = 1\n",
    "\n",
    "inv_diagonal_element = cho_solve(cholesky_factor, e_i)[nu_mass_ev_idx]"
   ]
  },
  {
   "cell_type": "code",
   "execution_count": 12,
   "id": "ecd42d65",
   "metadata": {},
   "outputs": [],
   "source": [
    "n = fisher_matrix.shape[0]\n",
    "inv_fisher_matrix = np.linalg.solve(fisher_matrix, np.eye(n))\n"
   ]
  },
  {
   "cell_type": "code",
   "execution_count": 13,
   "id": "6750ce9f",
   "metadata": {},
   "outputs": [
    {
     "data": {
      "text/plain": [
       "<matplotlib.image.AxesImage at 0x7faeb3db3d00>"
      ]
     },
     "execution_count": 13,
     "metadata": {},
     "output_type": "execute_result"
    },
    {
     "data": {
      "image/png": "[encoded data removed]",
      "text/plain": [
       "<Figure size 432x288 with 1 Axes>"
      ]
     },
     "metadata": {
      "needs_background": "light"
     },
     "output_type": "display_data"
    }
   ],
   "source": [
    "plt.imshow(np.einsum('ij,jk->ik',fisher_matrix, inv_fisher_matrix))"
   ]
  },
  {
   "cell_type": "code",
   "execution_count": 14,
   "id": "114f6e9d",
   "metadata": {},
   "outputs": [
    {
     "name": "stdout",
     "output_type": "stream",
     "text": [
      " parameter\t   σ(marginalized)/fid val\t σ(unmarginalized)/fid val\n",
      "----------------------------------------------------------------------------\n",
      "   10^9 As\t                   3.3e-01\t                   1.6e-03\n",
      "        ns\t                   3.6e-02\t                   1.7e-03\n",
      "        H0\t                   1.2e-02\t                   4.1e-03\n",
      "     ombh2\t                   2.4e-02\t                   4.8e-03\n",
      "     omch2\t                   4.5e-02\t                   1.0e-03\n",
      "nu_mass_ev\t                   1.7e+01\t                   8.5e-02\n"
     ]
    }
   ],
   "source": [
    "print('%10s\\t %25s\\t %25s'%('parameter', 'σ(marginalized)/fid val', 'σ(unmarginalized)/fid val'))\n",
    "print('----------------------------------------------------------------------------')\n",
    "i=0\n",
    "for θi in (varied):\n",
    "    if(θi in maximized):\n",
    "        continue\n",
    "    print('%10s\\t %25.1e\\t %25.1e'%(θi, np.abs(np.sqrt(inv_fisher_matrix[i,i])/fiducial_cosmology[θi]), np.abs(np.sqrt(fisher_matrix[i,i])**(-1)/fiducial_cosmology[θi])))\n",
    "    i += 1"
   ]
  },
  {
   "cell_type": "code",
   "execution_count": null,
   "id": "a5a5e7b8",
   "metadata": {},
   "outputs": [],
   "source": []
  },
  {
   "cell_type": "code",
   "execution_count": 15,
   "id": "01e62855",
   "metadata": {
    "scrolled": true
   },
   "outputs": [
    {
     "name": "stdout",
     "output_type": "stream",
     "text": [
      " parameter\t fid val +/- σ(marginalized)\n",
      "----------------------------------------------------------------------------\n",
      "   10^9 As\t  2.1000 +/- 0.70217\n",
      "        ns\t  0.9649 +/- 0.03460\n",
      "        H0\t 67.3600 +/- 0.83889\n",
      "     ombh2\t  0.0224 +/- 0.00054\n",
      "     omch2\t  0.1200 +/- 0.00535\n",
      "nu_mass_ev\t  0.0600 +/- 1.04276\n"
     ]
    }
   ],
   "source": [
    "print('%10s\\t %25s'%('parameter', 'fid val +/- σ(marginalized)'))\n",
    "print('----------------------------------------------------------------------------')\n",
    "i=0\n",
    "for θi in (varied):\n",
    "    if(θi in maximized):\n",
    "        continue\n",
    "    print('%10s\\t %7.4f +/- %.5f'%(θi, (fiducial_cosmology[θi]),np.sqrt(inv_fisher_matrix[i,i])))\n",
    "    i += 1"
   ]
  },
  {
   "cell_type": "code",
   "execution_count": 16,
   "id": "41cad820",
   "metadata": {},
   "outputs": [],
   "source": [
    "tinker_cov = None\n",
    "with open('tinker_forecast/tinker_fisher.pkl', 'rb') as file:\n",
    "    tinker_cov = pickle.load(file)\n"
   ]
  },
  {
   "cell_type": "code",
   "execution_count": 17,
   "id": "bf759d84",
   "metadata": {},
   "outputs": [],
   "source": [
    "tinker_cov_lowS8 = None\n",
    "with open('tinker_forecast/tinker_fisher_lowS8.pkl', 'rb') as file:\n",
    "    tinker_cov_lowS8 = pickle.load(file)\n"
   ]
  },
  {
   "cell_type": "code",
   "execution_count": 18,
   "id": "4293fd0a",
   "metadata": {},
   "outputs": [],
   "source": [
    "cov_lowS8 = None\n",
    "with open('fisher_lowS8.pkl', 'rb') as file:\n",
    "    cov_lowS8 = pickle.load(file)\n"
   ]
  },
  {
   "cell_type": "code",
   "execution_count": 19,
   "id": "3dc9a2e7",
   "metadata": {},
   "outputs": [],
   "source": [
    "plt.show()\n",
    "plt.rcParams['text.usetex'] = True\n",
    "plt.rcParams['font.family'] = 'serif'\n",
    "plt.rcParams['font.size'] = 5\n",
    "plt.rcParams['text.latex.preamble'] = r'\\usepackage{amsmath}\\usepackage{xcolor}'"
   ]
  },
  {
   "cell_type": "code",
   "execution_count": null,
   "id": "17510233",
   "metadata": {},
   "outputs": [],
   "source": []
  },
  {
   "cell_type": "code",
   "execution_count": 20,
   "id": "5fb9ffa6",
   "metadata": {},
   "outputs": [],
   "source": [
    "param_order = ['10^9 As', 'ns', 'H0','ombh2','omch2','nu_mass_ev']\n",
    "# param_order = [ 'ns', 'H0','ombh2','omch2','nu_mass_ev']"
   ]
  },
  {
   "cell_type": "code",
   "execution_count": 21,
   "id": "a5c47ebe",
   "metadata": {},
   "outputs": [],
   "source": [
    "Ωmh2 =  0.339*fiducial_h**2 # Y3 3x2pt\n",
    "Ωνh2 = 0.06/(93.14) #see astro-ph/0603494\n",
    "#From the BBN seciton of DES Y3 paper\n",
    "Ωbh2 = 2.195/100\n",
    "Ωch2 = Ωmh2-Ωbh2-Ωνh2\n",
    "fiducial_cosmology_lowS8 = {'10^9 As': 1.520813,  #from σ8 for DES Y3 3x2 and convert_sigma8_to_As.ipynb\n",
    "                      'ns': 0.9649,\n",
    "                      'H0': 67.36,\n",
    "                      'w0': -1,\n",
    "                      'ombh2': Ωbh2,\n",
    "                      'omch2': Ωch2,\n",
    "                      'nu_mass_ev': 0.06,}"
   ]
  },
  {
   "cell_type": "code",
   "execution_count": 22,
   "id": "13707273",
   "metadata": {},
   "outputs": [
    {
     "data": {
      "text/plain": [
       "6"
      ]
     },
     "execution_count": 22,
     "metadata": {},
     "output_type": "execute_result"
    }
   ],
   "source": [
    "len(varied)"
   ]
  },
  {
   "cell_type": "code",
   "execution_count": 23,
   "id": "b4a74146",
   "metadata": {},
   "outputs": [
    {
     "name": "stdout",
     "output_type": "stream",
     "text": [
      "(0.0, 16.0)\n"
     ]
    },
    {
     "data": {
      "image/png": "[encoded data removed]",
      "text/plain": [
       "<Figure size 432x432 with 36 Axes>"
      ]
     },
     "metadata": {},
     "output_type": "display_data"
    }
   ],
   "source": [
    "##### lrot=25\n",
    "#https://arxiv.org/pdf/0906.4123.pdf\n",
    "def ellipse_params(curr_cov):\n",
    "    \"\"\"Implements (2-4) of Coe's paper\"\"\"\n",
    "\n",
    "    a2 = [[(curr_cov[a][a] + curr_cov[b][b])/2 \n",
    "          + np.sqrt((curr_cov[a][a]-curr_cov[b][b])**2/4 + curr_cov[a][b]**2) \n",
    "           for b in range(len(curr_cov[0]))]\n",
    "          for a in range(len(curr_cov))]\n",
    "    b2 = [[(curr_cov[a][a] + curr_cov[b][b])/2 \n",
    "          - np.sqrt((curr_cov[a][a]-curr_cov[b][b])**2/4 + curr_cov[a][b]**2) \n",
    "           for b in range(len(curr_cov[0]))]\n",
    "          for a in range(len(curr_cov))]\n",
    "    th = [[1/2*np.arctan(2*curr_cov[a][b]/(curr_cov[a][a] - curr_cov[b][b]))*180/np.pi \n",
    "           if a != b else -100\n",
    "           for b in range(len(curr_cov[0]))]\n",
    "          for a in range(len(curr_cov))]\n",
    "    \n",
    "    #fixes mixed up width and heights. \n",
    "    #a2[i][j] shouldn't equal a2[j][i] (the scales would be all wrong)\n",
    "    #but should equal b2[j][i] since the width becomes the height\n",
    "    #and vice versa. \n",
    "    for i in range(len(curr_cov)):\n",
    "        for j in range(len(curr_cov)):\n",
    "            if(curr_cov[i][i] < curr_cov[j][j]):\n",
    "                a2[i][j], b2[i][j] = b2[i][j], a2[i][j]\n",
    "    return(a2, b2, th)\n",
    "\n",
    "from matplotlib.patches import Ellipse\n",
    "\n",
    "fig, ax = plt.subplots(len(varied),len(varied), figsize=(6,6), sharex = 'col', sharey='row',)\n",
    "for i in range(len(varied)):\n",
    "    for j in range(len(varied)):\n",
    "        ax[i][j].set_box_aspect(1)\n",
    "\n",
    "import matplotlib.cm as cm\n",
    "vlower, vupper = [None]*6, [None]*6\n",
    "# for cov_idx, (cov,color) in enumerate(zip([inv_fisher_matrix ], [ 'black'])):\n",
    "for cov_idx, (cov,color) in enumerate(zip([tinker_cov,\n",
    "                                           tinker_cov_lowS8,\n",
    "                                           inv_fisher_matrix,\n",
    "                                          cov_lowS8], ['none', 'none', 'red', 'blue'])):\n",
    "\n",
    "    # Get a color from the colormap based on the index\n",
    "#     color = 'black'\n",
    "\n",
    "    a2, b2, th = ellipse_params(cov)\n",
    "    #     print(nu_mass, cov[1,1])\n",
    "\n",
    "    fid = [fiducial_cosmology['10^9 As'], \n",
    "           fiducial_cosmology['ns'],\n",
    "           fiducial_cosmology['H0'],\n",
    "           fiducial_cosmology['ombh2'],\n",
    "           fiducial_cosmology['omch2'],\n",
    "           fiducial_cosmology['nu_mass_ev']]\n",
    "    \n",
    "    fid = np.zeros_like(fid)\n",
    "    #Table 1. of Coe\n",
    "    alpha_1 = 1.52\n",
    "    alpha_2 = 2.48\n",
    "    alpha = np.array([alpha_1, alpha_2])\n",
    "#     labels = [r'$10^9A_s$', \n",
    "#               r'$\\Sigma m_\\nu$',]\n",
    "    labels = [r'$10^9A_s$',\n",
    "              r'$n_s$',\n",
    "              r'$H_0\\ \\left[\\frac{\\rm km} {{\\rm s}\\ {\\rm Mpc}} \\right]$',\n",
    "              r'$\\Omega_b h^2$',\n",
    "              r'$\\Omega_c h^2$',\n",
    "              r'$\\sum m_\\nu$ [eV]',]\n",
    "    #make cool elipses\n",
    "    for i in range(len(cov)):\n",
    "        for j in range(i):\n",
    "            wdth = np.sqrt(a2[j][i])*alpha*2\n",
    "            hght = np.sqrt(b2[j][i])*alpha*2\n",
    "\n",
    "            facecolor1 ='none'\n",
    "            facecolor2 ='none'\n",
    "            \n",
    "            alphhh = 1.0\n",
    "            ls = '-'\n",
    "            if(color == 'none'):\n",
    "                alphhh = 0.2\n",
    "                ls='--'\n",
    "                if(cov_idx == 0):\n",
    "                    facecolor1= 'red'\n",
    "                    facecolor2= 'red'\n",
    "                if(cov_idx == 1):\n",
    "                    facecolor1= 'blue'\n",
    "                    facecolor2= 'blue' \n",
    "\n",
    "#             sigma_2_ellipse = Ellipse(xy = (fid[j], fid[i]), \n",
    "#                                         width= wdth[1],\n",
    "#                                         height= hght[1],\n",
    "#                                         angle=th[j][i], ls='--', \n",
    "#                                         edgecolor=color, lw=1, alpha=alphhh,\n",
    "#                                         facecolor=facecolor2)\n",
    "#             ax[i][j].add_artist(sigma_2_ellipse)  \n",
    "\n",
    "            sigma_1_ellipse = Ellipse(xy = (fid[j], fid[i]), \n",
    "                                        width= wdth[0],\n",
    "                                        height= hght[0],\n",
    "                                        angle=th[j][i], ls=ls, \n",
    "                                        edgecolor=color, \n",
    "                                      lw=1, alpha=alphhh,\n",
    "                                        facecolor=facecolor1)\n",
    "            ax[i][j].add_artist(sigma_1_ellipse)\n",
    "\n",
    "            if(cov_idx == 0):\n",
    "                ax[i][j].set_xlim([fid[j]-1*wdth[0], fid[j]+1*wdth[0]])\n",
    "                ax[i][j].set_ylim([fid[i]-1*hght[0], fid[i]+1*hght[0]])\n",
    "\n",
    "            ax[j][i].axis('off')\n",
    "            space = 2\n",
    "            if(j==0):\n",
    "                ax[i][j].set_ylabel(labels[i], fontsize=14)\n",
    "                if(i == 2):\n",
    "#                     print('a')\n",
    "                    ax[i][j].set_ylabel(r'$H_0$', fontsize=14)\n",
    "                if(i == 5):\n",
    "#                     print('c')\n",
    "                    ax[i][j].set_ylabel(r'$\\sum m_\\nu$', fontsize=14)\n",
    "                ax[i][i].get_yaxis().set_label_coords(-0.5,0.5)\n",
    "\n",
    "            if(i==len(cov)-1):\n",
    "                ax[i][j].set_xlabel(labels[j], fontsize=14)\n",
    "                if( j == 2):\n",
    "#                     print('b')\n",
    "                    ax[i][j].set_xlabel(r'$H_0$', fontsize=14)\n",
    "                    \n",
    "#                 ax[i][j].get_xaxis().set_label_coords(0.5,-0.5)\n",
    "#                 ax[i][j].tick_params(axis='x', labelrotation=lrot)\n",
    "                ax[i][j].set_xticks([])\n",
    "    def gauss(mean, sig, x):\n",
    "        return 1/np.sqrt(2*np.pi*sig**2)*np.exp(-(x-mean)**2/(2*sig**2)) \n",
    "    tmp0, tmp1 = ax[0][0].get_ylim()\n",
    "    ax[0][0].set_ylim(0, tmp1*2)\n",
    "for cov_idx, (cov,color) in enumerate(zip([tinker_cov,\n",
    "                                           tinker_cov_lowS8,\n",
    "                                           inv_fisher_matrix,\n",
    "                                          cov_lowS8], ['none', 'none', 'red', 'blue'])):\n",
    "    for i in range(len(cov)):\n",
    "\n",
    "        sig = np.sqrt(cov[i][i])\n",
    "        x = np.linspace(fid[i]-sig*5, fid[i] + sig*5, 10000)        \n",
    "        y = gauss(fid[i], sig,x)\n",
    "        if(vlower[i] == None):\n",
    "            vupper[i] = [np.max(y),-1]\n",
    "            vlower[i] = [0,-1]\n",
    "            vlower[i][1], vupper[i][1] = ax[i][i].get_ylim()\n",
    "\n",
    "        vupper[i] = [max(np.max(y), vupper[i][0]),-1]\n",
    "        vlower[i] = [0,-1]\n",
    "        vlower[i][1], vupper[i][1] = ax[i][i].get_ylim()\n",
    "\n",
    "for cov_idx, (cov,color) in enumerate(zip([tinker_cov,\n",
    "                                           tinker_cov_lowS8,\n",
    "                                           inv_fisher_matrix,\n",
    "                                          cov_lowS8], ['none', 'none', 'red', 'blue'])):\n",
    "    #plot gaussians\n",
    "    for i in range(len(cov)):\n",
    "\n",
    "        sig = np.sqrt(cov[i][i])\n",
    "        x = np.linspace(fid[i]-sig*5, fid[i] + sig*5, 10000)\n",
    "        # we want to scale so that guassian fit in frame \n",
    "        # from what I understand the main thing we want to quantitatively \n",
    "        # preserve is the \"spread\" in x while the \n",
    "        # amplitude of the gaussian we can rescale \n",
    "        \n",
    "        \n",
    "        y = gauss(fid[i], sig,x)\n",
    "        \n",
    "        lower = vlower[i]\n",
    "        upper = vupper[i]\n",
    "        \n",
    "        scale = (upper[1]-lower[1]) * (np.max(y)/upper[0])\n",
    "        \n",
    "        y = lower[1] + .95*scale * y/np.max(y)\n",
    "        if(color == 'none'):\n",
    "            if(cov_idx==0):\n",
    "                color = '#ffbfad'\n",
    "            elif(cov_idx==1):\n",
    "                color = '#babaff'\n",
    "        ax[i][i].plot(x, y, '-', color=color, lw=1)\n",
    "#         print(color)\n",
    "    \n",
    "ax[-1][-1].set_xlabel(r'$\\sum m_\\nu$', fontsize=14)\n",
    "\n",
    "\n",
    "for i in range(len(cov)):\n",
    "    sig_tinker = np.sqrt(tinker_cov[i][i])\n",
    "    sig_aemulus = np.sqrt(inv_fisher_matrix[i][i])\n",
    "    sig_tinker_lowS8 = np.sqrt(tinker_cov_lowS8[i][i])\n",
    "    sig_aemulus_lowS8 = np.sqrt(cov_lowS8[i][i])\n",
    "\n",
    "#     ax[i][i].plot(x, y, '-', color=color)\n",
    "    c_txt_l1 = r'\\underline{%s}'%labels[i] + '\\n'\n",
    "    \n",
    "    if(i in [3]):\n",
    "        #omb h2\n",
    "        c_txt_l2 = r'{%.4f $\\pm\\ \\begin{matrix} %.4f \\\\ %.4f \\end{matrix}$}'%(fiducial_cosmology[param_order[i]], sig_aemulus, sig_tinker)\n",
    "        c_txt_l3 = r'{%.4f $\\pm\\ \\begin{matrix} %.4f \\\\ %.4f \\end{matrix}$}'%(fiducial_cosmology_lowS8[param_order[i]], sig_aemulus_lowS8, sig_tinker_lowS8)\n",
    "\n",
    "    elif(i in [0,1,2]):\n",
    "        c_txt_l2 = r'{%.2f $\\pm\\ \\begin{matrix} %.2f \\\\ %.2f \\end{matrix}$}'%(fiducial_cosmology[param_order[i]], sig_aemulus, sig_tinker)\n",
    "        c_txt_l3 = r'{%.2f $\\pm\\ \\begin{matrix} %.2f \\\\ %.2f \\end{matrix}$}'%(fiducial_cosmology_lowS8[param_order[i]], sig_aemulus_lowS8, sig_tinker_lowS8)\n",
    "    elif(i in [5]):\n",
    "        c_txt_l2 = r'{%.3f $\\pm\\ \\begin{matrix} %.1f \\\\ %.1f \\end{matrix}$}'%(fiducial_cosmology[param_order[i]], sig_aemulus, sig_tinker)\n",
    "        c_txt_l3 = r'{%.3f $\\pm\\ \\begin{matrix} %.1f \\\\ %.1f \\end{matrix}$}'%(fiducial_cosmology_lowS8[param_order[i]], sig_aemulus_lowS8, sig_tinker_lowS8)\n",
    "\n",
    "    else:\n",
    "        c_txt_l2 = r'{%.3f $\\pm\\ \\begin{matrix} %.3f \\\\ %.3f \\end{matrix}$}'%(fiducial_cosmology[param_order[i]], sig_aemulus, sig_tinker)\n",
    "        c_txt_l3 = r'{%.3f $\\pm\\ \\begin{matrix} %.3f \\\\ %.3f \\end{matrix}$}'%(fiducial_cosmology_lowS8[param_order[i]], sig_aemulus_lowS8, sig_tinker_lowS8)\n",
    "    ax[i][i].text(0.5, 1.1,\n",
    "            s=c_txt_l3,\n",
    "            transform=ax[i][i].transAxes,\n",
    "            horizontalalignment='center',\n",
    "            verticalalignment='bottom',\n",
    "                 color='blue')\n",
    "    ax[i][i].text(0.5, 1.4,\n",
    "            s=c_txt_l2,\n",
    "            transform=ax[i][i].transAxes,\n",
    "            horizontalalignment='center',\n",
    "            verticalalignment='bottom',\n",
    "                 color='red')\n",
    "    ax[i][i].text(0.5, 1.55,\n",
    "            s=c_txt_l1,\n",
    "            transform=ax[i][i].transAxes,\n",
    "            horizontalalignment='center',\n",
    "            verticalalignment='bottom')\n",
    "\n",
    "\n",
    "\n",
    "    ax[i][i].set_yticks([])\n",
    "# ax[-1][-1].tick_params(axis='x', labelrotation=lrot)\n",
    "ax[-1][-1].set_xticks([])\n",
    "\n",
    "    \n",
    "\n",
    "meta_txt = r'\\underline{Cosmological Parameter}' + '\\n'+ r'Fiducial Value $\\pm\\ \\begin{matrix}  \\textrm{\\texttt{Aemulus} $\\nu$ (Dark)} \\\\ \\textrm{\\texttt{Tinker08} (Light)}  \\end{matrix}$'  \n",
    "high_txt = r'\\textbf{High} S8 (\\texttt{Planck}) Cosmology'\n",
    "low_txt = r'\\textbf{Low} S8 (\\texttt{DES Y3}) Cosmology'\n",
    "\n",
    "\n",
    "offset_txt = 0.125-0.02\n",
    "offset_txt_x = 0.025-0.02\n",
    "fig.text(0.68+offset_txt_x, .81+offset_txt,\n",
    "            s=meta_txt,\n",
    "            horizontalalignment='center',\n",
    "            verticalalignment='center',\n",
    "         fontsize=11,\n",
    "        bbox=dict(facecolor='none', edgecolor='k', pad=10.0))\n",
    "\n",
    "fig.text(0.875+offset_txt_x, .67+offset_txt,\n",
    "            s=high_txt,\n",
    "            horizontalalignment='right',\n",
    "            verticalalignment='center',\n",
    "         fontsize=11,\n",
    "         color='red',)\n",
    "\n",
    "fig.text(0.875+offset_txt_x, .63+offset_txt,\n",
    "            s=low_txt,\n",
    "            horizontalalignment='right',\n",
    "            verticalalignment='center',\n",
    "         fontsize=11,\n",
    "         color='blue',)\n",
    "\n",
    "fig.text(0.875+offset_txt_x, .71+offset_txt,\n",
    "            s=r'{\\textsf{\\textbf{DESI} 2024 BAO+BBN+$\\theta_s\\*$ Prior}',\n",
    "            horizontalalignment='right',\n",
    "            verticalalignment='center',\n",
    "         fontsize=11,\n",
    "         color='k',)\n",
    "\n",
    "\n",
    "# leg = plt.legend(title=meta_txt, loc='upper left')\n",
    "# leg.get_frame().set_edgecolor('k')\n",
    "# leg.get_frame().set_facecolor('none')\n",
    "# leg._legend_box.align = \"right\"\n",
    "ax[1][1].get_xlim()\n",
    "ax[1][1].set_xlim(-0.1, 0.1)\n",
    "ax[4][4].get_xlim()\n",
    "ax[4][4].set_xlim(-0.016, 0.016)\n",
    "\n",
    "\n",
    "ax[0][0].set_xlim(-0.8, 0.8)\n",
    "print(ax[0][0].get_ylim())\n",
    "\n",
    "# ax[0][0].set_ylim(0, 36)\n",
    "plt.subplots_adjust(bottom=0.05, top=0.9)\n",
    "\n",
    "\n",
    "\n",
    "plt.savefig('DESI BAO+BBN+Theta_s+HMF.pdf')#, bbox_inches='tight')#, backend='pgf')"
   ]
  },
  {
   "cell_type": "code",
   "execution_count": 24,
   "id": "4e07a6f7",
   "metadata": {},
   "outputs": [],
   "source": [
    "\n",
    "# with open('fisher_lowS8.pkl', 'wb') as file:\n",
    "#     pickle.dump(inv_fisher_matrix, file)\n"
   ]
  },
  {
   "cell_type": "code",
   "execution_count": 25,
   "id": "83c70173",
   "metadata": {},
   "outputs": [],
   "source": [
    "\n",
    "# with open('fisher.pkl', 'wb') as file:\n",
    "#     pickle.dump(inv_fisher_matrix, file)\n"
   ]
  },
  {
   "cell_type": "code",
   "execution_count": 26,
   "id": "cec8abf4",
   "metadata": {},
   "outputs": [],
   "source": [
    "\n",
    "# with open('fisher_planck_prior.pkl', 'wb') as file:\n",
    "#     pickle.dump(inv_fisher_matrix, file)\n"
   ]
  },
  {
   "cell_type": "code",
   "execution_count": 27,
   "id": "ab26de38",
   "metadata": {},
   "outputs": [],
   "source": [
    "\n",
    "# with open('fisher_lowS8_planck_prior.pkl', 'wb') as file:\n",
    "#     pickle.dump(inv_fisher_matrix, file)\n"
   ]
  },
  {
   "cell_type": "code",
   "execution_count": null,
   "id": "69806e45",
   "metadata": {},
   "outputs": [],
   "source": []
  }
 ],
 "metadata": {
  "kernelspec": {
   "display_name": "massfunction",
   "language": "python",
   "name": "massfunction"
  },
  "language_info": {
   "codemirror_mode": {
    "name": "ipython",
    "version": 3
   },
   "file_extension": ".py",
   "mimetype": "text/x-python",
   "name": "python",
   "nbconvert_exporter": "python",
   "pygments_lexer": "ipython3",
   "version": "3.9.16"
  }
 },
 "nbformat": 4,
 "nbformat_minor": 5
}
