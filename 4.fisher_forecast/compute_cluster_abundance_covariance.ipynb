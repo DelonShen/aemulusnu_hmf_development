{
 "cells": [
  {
   "cell_type": "code",
   "execution_count": 1,
   "id": "11b1bf67",
   "metadata": {},
   "outputs": [
    {
     "name": "stdout",
     "output_type": "stream",
     "text": [
      "loading emulator from /home/users/delon/aemulusnu_massfunction/aemulusnu_massfunction/emulator.pkl\n"
     ]
    }
   ],
   "source": [
    "from aemulusnu_massfunction.emulator import *\n",
    "from aemulusnu_massfunction.fisher_utils import *"
   ]
  },
  {
   "cell_type": "code",
   "execution_count": 2,
   "id": "fe19575e",
   "metadata": {},
   "outputs": [],
   "source": [
    "z_bin_edges = [0.2, 0.4, 0.6, 0.8, 1.0]\n",
    "richness_bin_edges = [20., 30., 45., 60., 300.]"
   ]
  },
  {
   "cell_type": "code",
   "execution_count": 3,
   "id": "4832c24b",
   "metadata": {},
   "outputs": [
    {
     "name": "stdout",
     "output_type": "stream",
     "text": [
      "AemulusNu_HMF_Emulator\n",
      "redshift bin 1 of 4\n"
     ]
    },
    {
     "name": "stderr",
     "output_type": "stream",
     "text": [
      "100%|██████████| 4/4 [00:55<00:00, 13.77s/it]\n"
     ]
    },
    {
     "name": "stdout",
     "output_type": "stream",
     "text": [
      "redshift bin 2 of 4\n"
     ]
    },
    {
     "name": "stderr",
     "output_type": "stream",
     "text": [
      "100%|██████████| 4/4 [00:44<00:00, 11.12s/it]\n"
     ]
    },
    {
     "name": "stdout",
     "output_type": "stream",
     "text": [
      "redshift bin 3 of 4\n"
     ]
    },
    {
     "name": "stderr",
     "output_type": "stream",
     "text": [
      "100%|██████████| 4/4 [00:42<00:00, 10.70s/it]\n"
     ]
    },
    {
     "name": "stdout",
     "output_type": "stream",
     "text": [
      "redshift bin 4 of 4\n"
     ]
    },
    {
     "name": "stderr",
     "output_type": "stream",
     "text": [
      "100%|██████████| 4/4 [00:47<00:00, 11.87s/it]\n"
     ]
    }
   ],
   "source": [
    "N_fiducial = N_in_z_bins_and_richness_bins(fiducial_cosmology, richness_bin_edges, z_bin_edges)"
   ]
  },
  {
   "cell_type": "code",
   "execution_count": 4,
   "id": "d8085873",
   "metadata": {
    "scrolled": true
   },
   "outputs": [
    {
     "data": {
      "image/png": "[encoded data removed]",
      "text/plain": [
       "<Figure size 432x288 with 2 Axes>"
      ]
     },
     "metadata": {
      "needs_background": "light"
     },
     "output_type": "display_data"
    }
   ],
   "source": [
    "import matplotlib.pyplot as plt\n",
    "\n",
    "plt.imshow(np.log10(N_fiducial), cmap='rainbow', vmin=0, vmax=5)\n",
    "plt.colorbar()\n",
    "plt.xticks([])\n",
    "plt.yticks([])\n",
    "plt.title(r'Fiducial $\\log_{10} N^i_{\\lambda_\\alpha}$')\n",
    "plt.savefig('fiducial_cluster_abundance.pdf')"
   ]
  },
  {
   "cell_type": "code",
   "execution_count": 5,
   "id": "a7391ede",
   "metadata": {},
   "outputs": [],
   "source": [
    "plt.show()\n",
    "plt.rcParams['text.usetex'] = True\n",
    "plt.rcParams['font.size'] = 11\n",
    "plt.rcParams['font.family'] = 'serif'"
   ]
  },
  {
   "cell_type": "code",
   "execution_count": 6,
   "id": "77541130",
   "metadata": {},
   "outputs": [
    {
     "data": {
      "image/png": "[encoded data removed]",
      "text/plain": [
       "<Figure size 288x288 with 2 Axes>"
      ]
     },
     "metadata": {
      "needs_background": "light"
     },
     "output_type": "display_data"
    }
   ],
   "source": [
    "import matplotlib.pyplot as plt\n",
    "plt.rcParams['font.size'] = 11\n",
    "\n",
    "\n",
    "plt.figure( figsize=(4,4))\n",
    "plt.tick_params(\n",
    "    bottom=False,\n",
    "    top=True,\n",
    "labelbottom=False,\n",
    "labeltop=True)\n",
    "plt.gca().xaxis.set_ticks_position('none') \n",
    "plt.gca().yaxis.set_ticks_position('none') \n",
    "\n",
    "\n",
    "# Add ticks for the block divisions\n",
    "tick_positions_z = [0,1,2,3]\n",
    "\n",
    "tick_z_labels = [r'$[%d, %d]$'%(a,b) for a,b in zip(richness_bin_edges, richness_bin_edges[1:])]\n",
    "plt.xticks(tick_positions_z, tick_z_labels, ha='center')\n",
    "\n",
    "tick_z_labels = [r'$[%.1f, %.1f]$'%(a,b) for a,b in zip(z_bin_edges, z_bin_edges[1:])]\n",
    "plt.yticks(tick_positions_z, tick_z_labels, rotation=90, va='center')\n",
    "\n",
    "plt.text(-0.5,-0.67,r'$\\lambda_\\alpha:$', verticalalignment='bottom', horizontalalignment='right')\n",
    "plt.text(-0.67,3.9,r'$z^i:$', rotation=90, verticalalignment='bottom', horizontalalignment='right')\n",
    "\n",
    "plt.imshow(np.log10(N_fiducial), cmap='rainbow', vmin=2, vmax=4.5)\n",
    "plt.colorbar()\n",
    "plt.title(r'Fiducial $\\log_{10} N^i_{\\lambda_\\alpha}$'+'\\n')\n",
    "plt.savefig('fiducial_cluster_abundance.pdf', dpi=600, bbox_inches = \"tight\")"
   ]
  },
  {
   "cell_type": "code",
   "execution_count": 7,
   "id": "16e97b07",
   "metadata": {},
   "outputs": [],
   "source": [
    "cluster_count_cov = np.zeros((len(z_bin_edges) - 1, len(z_bin_edges) - 1, len(richness_bin_edges) - 1, len(richness_bin_edges) - 1))\n"
   ]
  },
  {
   "cell_type": "code",
   "execution_count": 8,
   "id": "256317f8",
   "metadata": {},
   "outputs": [],
   "source": [
    "halo_bias = ccl.halos.HaloBiasTinker10()"
   ]
  },
  {
   "cell_type": "code",
   "execution_count": 9,
   "id": "6775f460",
   "metadata": {},
   "outputs": [
    {
     "data": {
      "text/plain": [
       "1.5810534796231357"
      ]
     },
     "execution_count": 9,
     "metadata": {},
     "output_type": "execute_result"
    }
   ],
   "source": [
    "fiducial_h = fiducial_cosmology['H0']/100\n",
    "halo_bias(fiducial_ccl_cosmo, 1e14 *  fiducial_h, 1) #[Mass] is Msun / h"
   ]
  },
  {
   "cell_type": "code",
   "execution_count": 10,
   "id": "aecfdba7",
   "metadata": {},
   "outputs": [
    {
     "data": {
      "text/plain": [
       "30.064534269753832"
      ]
     },
     "execution_count": 10,
     "metadata": {},
     "output_type": "execute_result"
    }
   ],
   "source": [
    "Ωs_rad**2"
   ]
  },
  {
   "cell_type": "code",
   "execution_count": 11,
   "id": "453b5376",
   "metadata": {},
   "outputs": [],
   "source": [
    "from classy import Class\n",
    "\n",
    "h = fiducial_cosmology['H0']/100\n",
    "cosmo_dict = {\n",
    "    'h': h,\n",
    "    'Omega_b': fiducial_cosmology['ombh2'] / h**2,\n",
    "    'Omega_cdm': fiducial_cosmology['omch2'] / h**2,\n",
    "    'N_ur': 0.00641,\n",
    "    'N_ncdm': 1,\n",
    "    'output': 'mPk mTk',\n",
    "    'z_pk': '0.0,99',\n",
    "    'P_k_max_h/Mpc': 20.,\n",
    "    'm_ncdm': fiducial_cosmology['nu_mass_ev']/3,\n",
    "    'deg_ncdm': 3,\n",
    "    'T_cmb': 2.7255,\n",
    "    'A_s': fiducial_cosmology['10^9 As'] * 10**-9,\n",
    "    'n_s': fiducial_cosmology['ns'],\n",
    "    'Omega_Lambda': 0.0,\n",
    "    'w0_fld': fiducial_cosmology['w0'],\n",
    "    'wa_fld': 0.0,\n",
    "    'cs2_fld': 1.0,\n",
    "    'fluid_equation_of_state': \"CLP\"\n",
    "}\n",
    "\n",
    "#get logsigma spline\n",
    "z = np.linspace(0, 2, 100)\n",
    "\n",
    "pkclass = Class()\n",
    "pkclass.set(cosmo_dict)\n",
    "pkclass.compute()"
   ]
  },
  {
   "cell_type": "code",
   "execution_count": 12,
   "id": "07507483",
   "metadata": {},
   "outputs": [
    {
     "data": {
      "text/plain": [
       "1416.1475046133323"
      ]
     },
     "execution_count": 12,
     "metadata": {},
     "output_type": "execute_result"
    }
   ],
   "source": [
    "pkclass.pk_lin(1e-1, np.array([0.8]))*h**3 "
   ]
  },
  {
   "cell_type": "code",
   "execution_count": 13,
   "id": "2ecf2f33",
   "metadata": {},
   "outputs": [
    {
     "name": "stdout",
     "output_type": "stream",
     "text": [
      "10.0\n"
     ]
    },
    {
     "data": {
      "image/png": "[encoded data removed]",
      "text/plain": [
       "<Figure size 432x288 with 1 Axes>"
      ]
     },
     "metadata": {
      "needs_background": "light"
     },
     "output_type": "display_data"
    }
   ],
   "source": [
    "kt = np.logspace(-3, 1, 100)\n",
    "PK_TEST = [pkclass.pk_lin(k_curr, np.array([0.2])) for k_curr in kt]\n",
    "plt.plot(kt, PK_TEST)\n",
    "plt.xscale('log')\n",
    "plt.yscale('log')\n",
    "print(np.max(kt))"
   ]
  },
  {
   "cell_type": "code",
   "execution_count": 14,
   "id": "4beba5b8",
   "metadata": {},
   "outputs": [],
   "source": [
    "from scipy.interpolate import InterpolatedUnivariateSpline\n",
    "\n",
    "def compute_chi_integrand(z_val):\n",
    "    Ωb =  fiducial_cosmology['ombh2'] / h**2\n",
    "    Ωc =  fiducial_cosmology['omch2'] / h**2\n",
    "    Ez = np.sqrt((Ωb+Ωc)*(1+z_val)**3 + (1-(Ωb+Ωc))) # unitless\n",
    "    return DH/Ez #units of distance h^-1 Mpc\n",
    "def compute_chi(z_val):\n",
    "    chi, _ = quad(compute_chi_integrand, 0, z_val, epsabs=0, epsrel=1e-4)#units of h^-1 Mpc\n",
    "    return chi\n",
    "\n",
    "\n",
    "z_values = np.linspace(0, 2, 500)  # Create an array of z values (adjust range and number of points as needed)\n",
    "chi_values = [compute_chi(z) for z in z_values]\n",
    "chi_spline = InterpolatedUnivariateSpline(z_values, chi_values)"
   ]
  },
  {
   "cell_type": "code",
   "execution_count": 15,
   "id": "d44ca537",
   "metadata": {},
   "outputs": [
    {
     "data": {
      "image/png": "[encoded data removed]",
      "text/plain": [
       "<Figure size 432x288 with 1 Axes>"
      ]
     },
     "metadata": {
      "needs_background": "light"
     },
     "output_type": "display_data"
    }
   ],
   "source": [
    "plt.figure()\n",
    "plt.plot(z_values, chi_spline(z_values), label='Spline of $\\\\chi(z)$')\n",
    "plt.scatter(z_values, chi_values, label=r'$\\chi(z)$', s=1, marker='+', color='k')\n",
    "plt.xlabel('Redshift $z$')\n",
    "plt.ylabel('Comoving Distance $\\\\chi$ [h$^{-1}$ Mpc]')\n",
    "plt.legend(frameon=False)\n",
    "plt.show()\n"
   ]
  },
  {
   "cell_type": "markdown",
   "id": "f7f7e309",
   "metadata": {},
   "source": [
    "$$\\begin{align} \n",
    "{\\rm Cov} (N^i_{\\lambda_\\alpha}, N^j_{\\lambda_\\beta}) &= \\delta_{ij} \\delta_{\\alpha,\\beta} N^i_{\\lambda_\\alpha} + \\Omega_s^2 \\int_{\\textrm{z bin overlap} } dz\\ \\left( \\frac{dV} {dzd\\Omega}  \\right)^2 \\frac{E(z)} {D_H} \\\\\n",
    "&\\times\\left[\\int dM \\frac{ d n } { d M } b_h(M,z) \\int_{\\lambda_{\\alpha,{\\rm min} }}^{\\lambda_{\\alpha,{\\rm max}}} d\\lambda\\ p(\\lambda\\mid M,z)\\right]\\\\\n",
    "&\\times\\left[\\int dM' \\frac{ d n } { d M' } b_h(M',z) \\int_{\\lambda_{\\beta,{\\rm min} }}^{\\lambda_{\\beta,{\\rm max}}} d\\lambda'\\ p(\\lambda'\\mid M',z)\\right]\\\\\n",
    "&\\times \\int \\frac{d^2 k_\\perp}{(2\\pi)^2} P_{\\rm lin}(k_\\perp, z) \\left[\\frac{ 2 j_1(k_\\perp \\chi(z) \\theta_s)}{k_\\perp \\chi(z) \\theta_s} \\right]^2\n",
    "\\end{align} $$\n",
    "see TakadaSpergel13 Eq (31) and Krause+17 Eq (A15) which I believe is missing $\\sigma$ since the units don't work\n",
    "\n",
    "- $\\theta_s=\\sqrt{\\Omega_s / \\pi}$ \n",
    "- $j_1$ is a spherical bessel function\n",
    "- $\\chi(z)$ is computed as $$\\chi(z) = D_H\\int_0^z \\frac{dz'}{E(z')}$$"
   ]
  },
  {
   "cell_type": "code",
   "execution_count": 16,
   "id": "6e3e2562",
   "metadata": {},
   "outputs": [],
   "source": [
    "from scipy.integrate import quad, dblquad\n",
    "from scipy.special import spherical_jn as jn\n",
    "\n",
    "from functools import cache\n",
    "\n",
    "θs = np.sqrt(Ωs_rad / np.pi)\n",
    "    \n",
    "@cache\n",
    "def variance_integral(kperp1, kperp2, z_val):\n",
    "    kperp = np.sqrt(kperp1**2 + kperp2**2) #units of h / Mpc\n",
    "    #kperp*h has units 1 / Mpc\n",
    "    Plin = pkclass.pk_lin(kperp*h, np.array([z_val]))*h**3 #units of Mpc^3/h^3 \n",
    "    chi = chi_spline(z_val)\n",
    "    arg = 2*jn(1, kperp*chi*θs) / (kperp*chi*θs) #unitless\n",
    "    return Plin * arg**2 / (2*np.pi)**2 #units of Mpc^3/h^3 ~ distance^3\n",
    "\n",
    "@cache\n",
    "def inner_integral(lam, M, z_val):\n",
    "    p = cluster_richness_relation(M, lam, z_val)\n",
    "    dn_dM = emulator(fiducial_ccl_cosmo, M/h, redshiftToScale(z_val)) /(h**3 * M * np.log(10)) # h^4 / Mpc^3 Msun\n",
    "\n",
    "    bh = halo_bias(fiducial_ccl_cosmo, M * fiducial_h, 1./(1+z_val))\n",
    "    return p * dn_dM  * bh\n",
    "\n",
    "    \n",
    "\n",
    "MAX_K = 10\n",
    "def outer_integral(z_val, lam_alpha_min, lam_alpha_max, lam_beta_min, lam_beta_max):\n",
    "    integral_M_val, _ = dblquad(inner_integral, M_min, M_max, lam_alpha_min, lam_alpha_max,\n",
    "                             args=(z_val,), \n",
    "                             epsrel=1e-4, epsabs=0)\n",
    "\n",
    "    integral_M_prime_val, _ = dblquad(inner_integral, M_min, M_max, lam_beta_min, lam_beta_max,\n",
    "                             args=(z_val,), \n",
    "                             epsrel=1e-4, epsabs=0)\n",
    "    \n",
    "    d2V_dzdOmega = comoving_volume_elements(z_val, cosmo=fiducial_ccl_cosmo)\n",
    "    h = fiducial_cosmology['H0']/100\n",
    "    Ωb =  fiducial_cosmology['ombh2'] / h**2\n",
    "    Ωc =  fiducial_cosmology['omch2'] / h**2\n",
    "\n",
    "    Ez = np.sqrt((Ωb+Ωc)*(1+z_val)**3 + (1-(Ωb+Ωc))) # unitless\n",
    "    \n",
    "    variance, _ = dblquad(variance_integral, 0, MAX_K, 0, MAX_K, args=(z_val,), epsrel=1e-4, epsabs=0)\n",
    "\n",
    "    return Ωs_rad**2 * integral_M_val * integral_M_prime_val * d2V_dzdOmega**2 * Ez/DH * variance\n",
    "\n",
    "\n",
    "\n",
    "\n",
    "\n"
   ]
  },
  {
   "cell_type": "code",
   "execution_count": 17,
   "id": "8d9a17d9",
   "metadata": {},
   "outputs": [],
   "source": [
    "# test, _ = quad(outer_integral, \n",
    "#                          0.2, 0.4, \n",
    "#                          args=(20, 30, \n",
    "#                                20, 30),\n",
    "#                         epsrel=1e-4, epsabs=0)\n",
    "# print('%.1e'%(test))"
   ]
  },
  {
   "cell_type": "code",
   "execution_count": 18,
   "id": "bce2639e",
   "metadata": {},
   "outputs": [],
   "source": [
    "# all_bin_combos = [[i,j,a,b] for i in range(len(z_bin_edges) - 1) \n",
    "#  for j in range(len(z_bin_edges) - 1) \n",
    "#  for a in range(len(richness_bin_edges) - 1)\n",
    "# for b in range(len(richness_bin_edges) - 1)]\n",
    "\n",
    "\n",
    "# for i,j,a,b in tqdm(all_bin_combos):\n",
    "#     zi_min = z_bin_edges[i]\n",
    "#     zi_max = z_bin_edges[i + 1]\n",
    "#     zj_min = z_bin_edges[j]\n",
    "#     zj_max = z_bin_edges[j + 1]\n",
    "#     #from Eq(6) of Krause+17, it seems like supersample variance only\n",
    "#     #when the redshift bins overlap. so we can ignore when\n",
    "#     #zi != zj\n",
    "#     if(i != j):\n",
    "#         continue\n",
    "#     la_min = richness_bin_edges[a]\n",
    "#     la_max = richness_bin_edges[a + 1]\n",
    "#     lb_min = richness_bin_edges[b]\n",
    "#     lb_max = richness_bin_edges[b + 1]\n",
    "#     result, error = quad(outer_integral, \n",
    "#                          zi_min, zi_max, \n",
    "#                          args=(la_min, la_max, \n",
    "#                                lb_min, lb_max),\n",
    "#                         epsrel=1e-4, epsabs=0)\n",
    "#     cluster_count_cov[i,j,a,b] = result \n",
    "#     if(i == j and a == b): #shot noise\n",
    "#         cluster_count_cov[i,j,a,b] +=  N_fiducial[i][a]\n"
   ]
  },
  {
   "cell_type": "code",
   "execution_count": 24,
   "id": "edbd74be",
   "metadata": {},
   "outputs": [
    {
     "name": "stdout",
     "output_type": "stream",
     "text": [
      "The file /oak/stanford/orgs/kipac/users/delon/aemulusnu_massfunction/fiducial_cluster_abundance_covariance_nu_mass_0.0600.pkl was last modified on: 2024-02-15 01:40:14\n"
     ]
    }
   ],
   "source": [
    "oup_cov_fname = '/oak/stanford/orgs/kipac/users/delon/aemulusnu_massfunction/fiducial_cluster_abundance_covariance_nu_mass_%.4f.pkl'%(fiducial_cosmology['nu_mass_ev'])\n",
    "from datetime import datetime\n",
    "\n",
    "def get_file(file_path):\n",
    "    # Get the last modified time\n",
    "    last_modified_time = os.path.getmtime(file_path)\n",
    "    # Convert it to a human-readable format\n",
    "    human_readable_time = datetime.fromtimestamp(last_modified_time).strftime('%Y-%m-%d %H:%M:%S')\n",
    "    print(f\"The file {file_path} was last modified on: {human_readable_time}\")\n",
    "\n",
    "    with open(file_path, 'rb') as file:\n",
    "        return pickle.load(file)\n",
    "    \n",
    "    \n",
    "cluster_count_cov = get_file(oup_cov_fname)"
   ]
  },
  {
   "cell_type": "code",
   "execution_count": 20,
   "id": "6570a906",
   "metadata": {},
   "outputs": [],
   "source": [
    "# import pickle\n",
    "    \n",
    "# with open('cluster_abundance_fiducial_covariance.pkl', 'wb') as file:\n",
    "#         pickle.dump(cluster_count_cov, file)"
   ]
  },
  {
   "cell_type": "code",
   "execution_count": 21,
   "id": "25978d90",
   "metadata": {},
   "outputs": [],
   "source": [
    "n_z = len(z_bin_edges) - 1\n",
    "n_r = len(richness_bin_edges) - 1\n",
    "cov_matrix_2d = np.zeros((n_z * n_r, n_z * n_r))\n",
    "\n",
    "for i in range(n_z):\n",
    "    for j in range(n_z):\n",
    "        for a in range(n_r):\n",
    "            for b in range(n_r):\n",
    "                row_index = i * n_r + a\n",
    "                col_index = j * n_r + b\n",
    "                cov_matrix_2d[row_index, col_index] = cluster_count_cov[i, j, a, b]\n"
   ]
  },
  {
   "cell_type": "code",
   "execution_count": 22,
   "id": "c1bb9594",
   "metadata": {},
   "outputs": [],
   "source": [
    "plt.rcParams['text.usetex'] = True\n",
    "plt.rcParams['font.size'] = 11\n",
    "plt.rcParams['font.family'] = 'serif'\n"
   ]
  },
  {
   "cell_type": "code",
   "execution_count": 23,
   "id": "05182016",
   "metadata": {},
   "outputs": [
    {
     "name": "stderr",
     "output_type": "stream",
     "text": [
      "/tmp/ipykernel_661/3351192360.py:7: RuntimeWarning: divide by zero encountered in log10\n",
      "  plt.imshow(np.log10(cov_matrix_2d), cmap='rainbow', aspect=1, vmin=-1, vmax=4.5)\n"
     ]
    },
    {
     "data": {
      "image/png": "[encoded data removed]",
      "text/plain": [
       "<Figure size 432x432 with 2 Axes>"
      ]
     },
     "metadata": {
      "needs_background": "light"
     },
     "output_type": "display_data"
    }
   ],
   "source": [
    "import matplotlib.pyplot as plt\n",
    "plt.rcParams['text.usetex'] = True\n",
    "plt.rcParams['font.size'] = 11\n",
    "plt.rcParams['font.family'] = 'serif'\n",
    "\n",
    "plt.figure( figsize=(6,6))\n",
    "plt.imshow(np.log10(cov_matrix_2d), cmap='rainbow', aspect=1, vmin=-1, vmax=4.5)\n",
    "plt.colorbar()\n",
    "plt.xticks([])\n",
    "plt.yticks([])\n",
    "plt.tick_params(\n",
    "    bottom=False,\n",
    "    top=True,\n",
    "labelbottom=False,\n",
    "labeltop=True)\n",
    "plt.gca().xaxis.set_ticks_position('none') \n",
    "plt.gca().yaxis.set_ticks_position('none') \n",
    "\n",
    "\n",
    "# Add ticks for the block divisions\n",
    "tick_positions_z = np.arange(n_r, n_r * n_z+1, n_r) - 2.5\n",
    "\n",
    "tick_z_labels = [r'$z^i:[%.1f, %.1f]$'%(a,b) for a,b in zip(z_bin_edges, z_bin_edges[1:])]\n",
    "plt.xticks(tick_positions_z, tick_z_labels, ha='center')\n",
    "\n",
    "tick_z_labels = [r'$z^j:[%.1f, %.1f]$'%(a,b) for a,b in zip(z_bin_edges, z_bin_edges[1:])]\n",
    "plt.yticks(tick_positions_z, tick_z_labels, rotation=90, va='center')\n",
    "\n",
    "lambda_labels = [r'$\\lambda_\\alpha:[%d, %d]$'%(a,b) for a,b in zip(richness_bin_edges, richness_bin_edges[1:])]\n",
    "lambda_labels_0 = [r'$\\lambda_\\beta:[%d, %d]$'%(a,b) for a,b in zip(richness_bin_edges, richness_bin_edges[1:])]\n",
    "\n",
    "lw=0.5\n",
    "for i,l in enumerate(lambda_labels):\n",
    "    plt.text(3.65 , i,\n",
    "            s=l,\n",
    "            horizontalalignment='left',\n",
    "            verticalalignment='center',\n",
    "           fontsize=8)\n",
    "    plt.text(i , 3.65,\n",
    "            s=lambda_labels_0[i],\n",
    "            horizontalalignment='center',\n",
    "            verticalalignment='top',\n",
    "             rotation=90,\n",
    "           fontsize=8)\n",
    "    plt.axvline(i+0.5, .5, .75, linewidth=lw, linestyle='-', color='k')\n",
    "    plt.axhline(i+0.5, 0.25, 0.5, linewidth=lw, linestyle='-', color='k')\n",
    "\n",
    "    for j in range(n_z):\n",
    "        plt.axvline(i+0.5+n_z*j, 0.75-0.25*j,1-0.25*j, linewidth=lw, linestyle='--', color='k')\n",
    "        plt.axhline(i+0.5+n_z*j, 0+0.25*j,0.25+0.25*j, linewidth=lw, linestyle='--', color='k')\n",
    "\n",
    "for a in tick_positions_z:\n",
    "    plt.axvline(a+2, color='black', linestyle='-', linewidth=lw)\n",
    "    plt.axhline(a+2, color='black', linestyle='-', linewidth=lw)\n",
    "\n",
    "plt.title(r'$\\log_{10}{\\rm Cov}(N^i_{\\lambda_\\alpha} , N^j_{\\lambda_\\beta})$' + '\\n')\n",
    "plt.savefig('cluster_abundance_cov.pdf', dpi=600, bbox_inches = \"tight\")"
   ]
  },
  {
   "cell_type": "code",
   "execution_count": null,
   "id": "e6a63303",
   "metadata": {},
   "outputs": [],
   "source": []
  },
  {
   "cell_type": "code",
   "execution_count": null,
   "id": "3c2e4864",
   "metadata": {},
   "outputs": [],
   "source": [
    "n_z = len(z_bin_edges) - 1\n",
    "n_r = len(richness_bin_edges) - 1\n",
    "cov_matrix_2d_shot_noise_only = np.zeros((n_z * n_r, n_z * n_r))\n",
    "\n",
    "for i in range(n_z):\n",
    "    for j in range(n_z):\n",
    "        for a in range(n_r):\n",
    "            for b in range(n_r):\n",
    "                row_index = i * n_r + a\n",
    "                col_index = j * n_r + b\n",
    "                if(i==j and a==b):\n",
    "                    cov_matrix_2d_shot_noise_only[row_index, col_index] = N_fiducial[i][a]"
   ]
  },
  {
   "cell_type": "code",
   "execution_count": null,
   "id": "96e792fb",
   "metadata": {},
   "outputs": [],
   "source": [
    "all_bin_combos = [[i,j,a,b] for i in range(len(z_bin_edges) - 1) \n",
    " for j in range(len(z_bin_edges) - 1) \n",
    " for a in range(len(richness_bin_edges) - 1)\n",
    "for b in range(len(richness_bin_edges) - 1)]\n",
    "\n",
    "cluster_count_cov_shot_only = np.zeros((len(z_bin_edges) - 1, len(z_bin_edges) - 1, len(richness_bin_edges) - 1, len(richness_bin_edges) - 1))\n",
    "\n",
    "for i,j,a,b in tqdm(all_bin_combos):\n",
    "    if(i == j and a == b): #shot noise\n",
    "        cluster_count_cov_shot_only[i,j,a,b] +=  N_fiducial[i][a]\n"
   ]
  },
  {
   "cell_type": "code",
   "execution_count": null,
   "id": "46995cac",
   "metadata": {},
   "outputs": [],
   "source": [
    "import pickle\n",
    "    \n",
    "with open('cluster_abundance_fiducial_covariance_shot_noise_only.pkl', 'wb') as file:\n",
    "        pickle.dump(cluster_count_cov_shot_only, file)"
   ]
  },
  {
   "cell_type": "code",
   "execution_count": null,
   "id": "3201cc3b",
   "metadata": {},
   "outputs": [],
   "source": [
    "import matplotlib.pyplot as plt\n",
    "plt.rcParams['text.usetex'] = True\n",
    "plt.rcParams['font.size'] = 8\n",
    "plt.rcParams['font.family'] = 'serif'\n",
    "\n",
    "plt.figure( dpi=600)\n",
    "plt.imshow(np.log10(cov_matrix_2d_shot_noise_only), cmap='rainbow', aspect=1, vmin=-1, vmax=5)\n",
    "plt.colorbar()\n",
    "plt.xticks([])\n",
    "plt.yticks([])\n",
    "plt.tick_params(\n",
    "    bottom=False,\n",
    "    top=True,\n",
    "labelbottom=False,\n",
    "labeltop=True)\n",
    "plt.gca().xaxis.set_ticks_position('none') \n",
    "plt.gca().yaxis.set_ticks_position('none') \n",
    "\n",
    "\n",
    "# Add ticks for the block divisions\n",
    "tick_positions_z = np.arange(n_r, n_r * n_z+1, n_r) - 2.5\n",
    "\n",
    "tick_z_labels = [r'$z^i:[%.1f, %.1f]$'%(a,b) for a,b in zip(z_bin_edges, z_bin_edges[1:])]\n",
    "plt.xticks(tick_positions_z, tick_z_labels, ha='center')\n",
    "\n",
    "tick_z_labels = [r'$z^j:[%.1f, %.1f]$'%(a,b) for a,b in zip(z_bin_edges, z_bin_edges[1:])]\n",
    "plt.yticks(tick_positions_z, tick_z_labels, rotation=90, va='center')\n",
    "\n",
    "lambda_labels = [r'$\\lambda_\\alpha:[%d, %d]$'%(a,b) for a,b in zip(richness_bin_edges, richness_bin_edges[1:])]\n",
    "lambda_labels_0 = [r'$\\lambda_\\beta:[%d, %d]$'%(a,b) for a,b in zip(richness_bin_edges, richness_bin_edges[1:])]\n",
    "\n",
    "for i,l in enumerate(lambda_labels):\n",
    "    plt.text(3.65 , i,\n",
    "            s=l,\n",
    "            horizontalalignment='left',\n",
    "            verticalalignment='center',\n",
    "           fontsize=6)\n",
    "    plt.text(i , 3.65,\n",
    "            s=lambda_labels_0[i],\n",
    "            horizontalalignment='center',\n",
    "            verticalalignment='top',\n",
    "             rotation=90,\n",
    "           fontsize=6)\n",
    "    plt.axvline(i+0.5, .75,1, linewidth=0.5, linestyle='--', color='k')\n",
    "    plt.axhline(i+0.5, 0,0.25, linewidth=0.5, linestyle='--', color='k')\n",
    "\n",
    "for a in tick_positions_z:\n",
    "    plt.axvline(a+2, color='black', linestyle='-', linewidth=1)\n",
    "    plt.axhline(a+2, color='black', linestyle='-', linewidth=1)\n",
    "\n",
    "plt.title(r'$\\log_{10}{\\rm Cov}(N^i_{\\lambda_\\alpha} , N^j_{\\lambda_\\beta})$ Shot Noise Only' + '\\n')\n"
   ]
  },
  {
   "cell_type": "code",
   "execution_count": null,
   "id": "34d844eb",
   "metadata": {},
   "outputs": [],
   "source": []
  }
 ],
 "metadata": {
  "kernelspec": {
   "display_name": "massfunction",
   "language": "python",
   "name": "massfunction"
  },
  "language_info": {
   "codemirror_mode": {
    "name": "ipython",
    "version": 3
   },
   "file_extension": ".py",
   "mimetype": "text/x-python",
   "name": "python",
   "nbconvert_exporter": "python",
   "pygments_lexer": "ipython3",
   "version": "3.9.16"
  }
 },
 "nbformat": 4,
 "nbformat_minor": 5
}
