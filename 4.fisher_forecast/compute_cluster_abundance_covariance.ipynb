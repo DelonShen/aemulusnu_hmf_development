{
 "cells": [
  {
   "cell_type": "code",
   "execution_count": 1,
   "id": "11b1bf67",
   "metadata": {},
   "outputs": [],
   "source": [
    "from emulator import *\n",
    "from fisher_utils import *"
   ]
  },
  {
   "cell_type": "code",
   "execution_count": 2,
   "id": "1643a543",
   "metadata": {},
   "outputs": [
    {
     "data": {
      "text/plain": [
       "array([[2.32777096e-13]])"
      ]
     },
     "execution_count": 2,
     "metadata": {},
     "output_type": "execute_result"
    }
   ],
   "source": [
    "fiducial_dndM(1, 3)"
   ]
  },
  {
   "cell_type": "code",
   "execution_count": 3,
   "id": "fe19575e",
   "metadata": {},
   "outputs": [],
   "source": [
    "z_bin_edges = [0.2, 0.4, 0.6, 0.8, 1.0]\n",
    "richness_bin_edges = [20., 30., 45., 60., 300.]"
   ]
  },
  {
   "cell_type": "code",
   "execution_count": 4,
   "id": "4832c24b",
   "metadata": {},
   "outputs": [
    {
     "name": "stderr",
     "output_type": "stream",
     "text": [
      "\r",
      "  0%|          | 0/4 [00:00<?, ?it/s]"
     ]
    },
    {
     "name": "stdout",
     "output_type": "stream",
     "text": [
      "Creating dndM interpolation\n"
     ]
    },
    {
     "name": "stderr",
     "output_type": "stream",
     "text": [
      "\n",
      "  0%|          | 0/25 [00:00<?, ?it/s]\u001b[A\n",
      "  4%|▍         | 1/25 [00:15<06:11, 15.50s/it]\u001b[A\n",
      "  8%|▊         | 2/25 [00:19<03:22,  8.80s/it]\u001b[A\n",
      " 12%|█▏        | 3/25 [00:23<02:26,  6.66s/it]\u001b[A\n",
      " 16%|█▌        | 4/25 [00:27<01:58,  5.64s/it]\u001b[A\n",
      " 20%|██        | 5/25 [00:31<01:42,  5.11s/it]\u001b[A\n",
      " 24%|██▍       | 6/25 [00:36<01:31,  4.80s/it]\u001b[A\n",
      " 28%|██▊       | 7/25 [00:40<01:22,  4.60s/it]\u001b[A\n",
      " 32%|███▏      | 8/25 [00:44<01:15,  4.47s/it]\u001b[A\n",
      " 36%|███▌      | 9/25 [00:48<01:09,  4.37s/it]\u001b[A\n",
      " 40%|████      | 10/25 [00:52<01:05,  4.34s/it]\u001b[A\n",
      " 44%|████▍     | 11/25 [00:57<01:00,  4.29s/it]\u001b[A\n",
      " 48%|████▊     | 12/25 [01:01<00:55,  4.27s/it]\u001b[A\n",
      " 52%|█████▏    | 13/25 [01:05<00:50,  4.25s/it]\u001b[A\n",
      " 56%|█████▌    | 14/25 [01:09<00:46,  4.23s/it]\u001b[A\n",
      " 60%|██████    | 15/25 [01:13<00:42,  4.22s/it]\u001b[A\n",
      " 64%|██████▍   | 16/25 [01:18<00:37,  4.20s/it]\u001b[A\n",
      " 68%|██████▊   | 17/25 [01:22<00:33,  4.21s/it]\u001b[A\n",
      " 72%|███████▏  | 18/25 [01:26<00:29,  4.21s/it]\u001b[A\n",
      " 76%|███████▌  | 19/25 [01:30<00:25,  4.20s/it]\u001b[A\n",
      " 80%|████████  | 20/25 [01:34<00:20,  4.18s/it]\u001b[A\n",
      " 84%|████████▍ | 21/25 [01:38<00:16,  4.16s/it]\u001b[A\n",
      " 88%|████████▊ | 22/25 [01:43<00:12,  4.17s/it]\u001b[A\n",
      " 92%|█████████▏| 23/25 [01:47<00:08,  4.17s/it]\u001b[A\n",
      " 96%|█████████▌| 24/25 [01:51<00:04,  4.17s/it]\u001b[A\n",
      "100%|██████████| 25/25 [01:55<00:00,  4.63s/it]\u001b[A\n",
      "100%|██████████| 4/4 [03:06<00:00, 46.66s/it] \n"
     ]
    }
   ],
   "source": [
    "N_fiducial = N_in_z_bins_and_richness_bins(fiducial_cosmology, richness_bin_edges, z_bin_edges)"
   ]
  },
  {
   "cell_type": "code",
   "execution_count": 5,
   "id": "16e97b07",
   "metadata": {},
   "outputs": [],
   "source": [
    "cluster_count_cov = np.zeros((len(z_bin_edges) - 1, len(z_bin_edges) - 1, len(richness_bin_edges) - 1, len(richness_bin_edges) - 1))\n"
   ]
  },
  {
   "cell_type": "code",
   "execution_count": 6,
   "id": "256317f8",
   "metadata": {},
   "outputs": [],
   "source": [
    "halo_bias = ccl.halos.HaloBiasTinker10(fiducial_ccl_cosmo)"
   ]
  },
  {
   "cell_type": "code",
   "execution_count": 7,
   "id": "6775f460",
   "metadata": {},
   "outputs": [
    {
     "data": {
      "text/plain": [
       "1.5599995119337984"
      ]
     },
     "execution_count": 7,
     "metadata": {},
     "output_type": "execute_result"
    }
   ],
   "source": [
    "fiducial_h = fiducial_cosmology['H0']/100\n",
    "halo_bias.get_halo_bias(fiducial_ccl_cosmo, 1e14 *  fiducial_h, 1) #[Mass] is Msun / h"
   ]
  },
  {
   "cell_type": "code",
   "execution_count": 8,
   "id": "aecfdba7",
   "metadata": {},
   "outputs": [
    {
     "data": {
      "text/plain": [
       "30.064534269753832"
      ]
     },
     "execution_count": 8,
     "metadata": {},
     "output_type": "execute_result"
    }
   ],
   "source": [
    "Ωs_rad**2"
   ]
  },
  {
   "cell_type": "code",
   "execution_count": 44,
   "id": "6e3e2562",
   "metadata": {},
   "outputs": [],
   "source": [
    "from scipy.integrate import quad, dblquad\n",
    "\n",
    "def inner_integral(lam, M, z_val):\n",
    "    p = cluster_richness_relation(M, lam, z_val)\n",
    "    dn_dM = fiducial_dndM(z_val, M)\n",
    "    bh = halo_bias.get_halo_bias(fiducial_ccl_cosmo, M * fiducial_h, 1./(1+z_val))\n",
    "    return p * dn_dM  * bh\n",
    "\n",
    "def outer_integral(z_val, lam_alpha_min, lam_alpha_max, lam_beta_min, lam_beta_max):\n",
    "    integral_M_val, _ = dblquad(inner_integral, M_min, M_max, lam_alpha_min, lam_alpha_max,\n",
    "                             args=(z_val,), \n",
    "                             epsrel=1e-4, epsabs=0)\n",
    "\n",
    "    integral_M_prime_val, _ = dblquad(inner_integral, M_min, M_max, lam_beta_min, lam_beta_max,\n",
    "                             args=(z_val,), \n",
    "                             epsrel=1e-4, epsabs=0)\n",
    "    \n",
    "    d2V_dzdOmega = comoving_volume_elements(z_val, tuple(fiducial_cosmo_vals))\n",
    "    h = fiducial_cosmology['H0']/100\n",
    "    Ωb =  fiducial_cosmology['ombh2'] / h**2\n",
    "    Ωc =  fiducial_cosmology['omch2'] / h**2\n",
    "\n",
    "    Ez = np.sqrt((Ωb+Ωc)*(1+z_val)**3 + (1-(Ωb+Ωc))) # unitless\n",
    "\n",
    "    return Ωs_rad**2 * integral_M_val * integral_M_prime_val * d2V_dzdOmega**2 * Ez/DH\n",
    "\n",
    "\n",
    "\n",
    "\n",
    "\n"
   ]
  },
  {
   "cell_type": "code",
   "execution_count": 45,
   "id": "8d9a17d9",
   "metadata": {},
   "outputs": [
    {
     "name": "stdout",
     "output_type": "stream",
     "text": [
      "1.6e+06\n"
     ]
    }
   ],
   "source": [
    "test, _ = quad(outer_integral, \n",
    "                         0.2, 0.4, \n",
    "                         args=(20, 30, \n",
    "                               20, 30),\n",
    "                        epsrel=1e-4, epsabs=0)\n",
    "print('%.1e'%(test))"
   ]
  },
  {
   "cell_type": "code",
   "execution_count": 15,
   "id": "bce2639e",
   "metadata": {},
   "outputs": [
    {
     "name": "stderr",
     "output_type": "stream",
     "text": [
      "100%|██████████| 256/256 [06:50<00:00,  1.60s/it]\n"
     ]
    }
   ],
   "source": [
    "all_bin_combos = [[i,j,a,b] for i in range(len(z_bin_edges) - 1) \n",
    " for j in range(len(z_bin_edges) - 1) \n",
    " for a in range(len(richness_bin_edges) - 1)\n",
    "for b in range(len(richness_bin_edges) - 1)]\n",
    "\n",
    "\n",
    "for i,j,a,b in tqdm(all_bin_combos):\n",
    "    zi_min = z_bin_edges[i]\n",
    "    zi_max = z_bin_edges[i + 1]\n",
    "    zj_min = z_bin_edges[j]\n",
    "    zj_max = z_bin_edges[j + 1]\n",
    "    #from Eq(6) of Krause+17, it seems like supersample variance only\n",
    "    #when the redshift bins overlap. so we can ignore when\n",
    "    #zi != zj\n",
    "    if(i != j):\n",
    "        continue\n",
    "    la_min = richness_bin_edges[a]\n",
    "    la_max = richness_bin_edges[a + 1]\n",
    "    lb_min = richness_bin_edges[b]\n",
    "    lb_max = richness_bin_edges[b + 1]\n",
    "    result, error = quad(outer_integral, \n",
    "                         zi_min, zi_max, \n",
    "                         args=(la_min, la_max, \n",
    "                               lb_min, lb_max),\n",
    "                        epsrel=1e-4, epsabs=0)\n",
    "    cluster_count_cov[i,j,a,b] = result \n",
    "    if(i == j and a == b): #shot noise\n",
    "        cluster_count_cov[i,j,a,b] +=  N_fiducial[i][a]\n"
   ]
  },
  {
   "cell_type": "code",
   "execution_count": 16,
   "id": "25978d90",
   "metadata": {},
   "outputs": [],
   "source": [
    "n_z = len(z_bin_edges) - 1\n",
    "n_r = len(richness_bin_edges) - 1\n",
    "cov_matrix_2d = np.zeros((n_z * n_r, n_z * n_r))\n",
    "\n",
    "for i in range(n_z):\n",
    "    for j in range(n_z):\n",
    "        for a in range(n_r):\n",
    "            for b in range(n_r):\n",
    "                row_index = i * n_r + a\n",
    "                col_index = j * n_r + b\n",
    "                cov_matrix_2d[row_index, col_index] = cluster_count_cov[i, j, a, b]\n"
   ]
  },
  {
   "cell_type": "code",
   "execution_count": 28,
   "id": "c1bb9594",
   "metadata": {},
   "outputs": [],
   "source": [
    "plt.rcParams['text.usetex'] = True\n",
    "plt.rcParams['font.size'] = 20\n",
    "plt.rcParams['font.family'] = 'serif'\n"
   ]
  },
  {
   "cell_type": "code",
   "execution_count": 29,
   "id": "05182016",
   "metadata": {},
   "outputs": [
    {
     "name": "stderr",
     "output_type": "stream",
     "text": [
      "/tmp/ipykernel_27261/1613254133.py:3: RuntimeWarning: divide by zero encountered in log10\n",
      "  plt.imshow(np.log10(cov_matrix_2d), cmap='rainbow')\n"
     ]
    },
    {
     "data": {
      "image/png": "[encoded data removed]",
      "text/plain": [
       "<Figure size 432x288 with 2 Axes>"
      ]
     },
     "metadata": {
      "needs_background": "light"
     },
     "output_type": "display_data"
    }
   ],
   "source": [
    "import matplotlib.pyplot as plt\n",
    "\n",
    "plt.imshow(np.log10(cov_matrix_2d), cmap='rainbow')\n",
    "plt.colorbar()\n",
    "plt.xticks([])\n",
    "plt.yticks([])\n",
    "plt.title(r'$\\log_{10}{\\rm Cov}(N^i_{\\lambda_\\alpha} , N^j_{\\lambda_\\beta})$')\n",
    "plt.savefig('cluster_abundance_cov.pdf')"
   ]
  },
  {
   "cell_type": "code",
   "execution_count": 27,
   "id": "0f6bb9dd",
   "metadata": {},
   "outputs": [
    {
     "name": "stderr",
     "output_type": "stream",
     "text": [
      "/tmp/ipykernel_27261/1283823288.py:3: RuntimeWarning: divide by zero encountered in log10\n",
      "  plt.imshow(np.log10(np.sqrt(cov_matrix_2d)), cmap='rainbow')\n"
     ]
    },
    {
     "data": {
      "text/plain": [
       "([], [])"
      ]
     },
     "execution_count": 27,
     "metadata": {},
     "output_type": "execute_result"
    },
    {
     "data": {
      "image/png": "[encoded data removed]",
      "text/plain": [
       "<Figure size 432x288 with 2 Axes>"
      ]
     },
     "metadata": {
      "needs_background": "light"
     },
     "output_type": "display_data"
    }
   ],
   "source": [
    "import matplotlib.pyplot as plt\n",
    "\n",
    "plt.imshow(np.log10(np.sqrt(cov_matrix_2d)), cmap='rainbow')\n",
    "plt.colorbar()\n",
    "plt.xticks([])\n",
    "plt.yticks([])\n",
    "# plt.title(r'$\\log_{10}{\\rm Cov}(N^i_{\\lambda_\\alpha} , N^j_{\\lambda_\\beta})$')\n"
   ]
  },
  {
   "cell_type": "code",
   "execution_count": 21,
   "id": "ec2d5f73",
   "metadata": {},
   "outputs": [
    {
     "data": {
      "text/plain": [
       "[<matplotlib.lines.Line2D at 0x7fc7609ddd30>]"
      ]
     },
     "execution_count": 21,
     "metadata": {},
     "output_type": "execute_result"
    },
    {
     "data": {
      "image/png": "[encoded data removed]",
      "text/plain": [
       "<Figure size 432x288 with 1 Axes>"
      ]
     },
     "metadata": {
      "needs_background": "light"
     },
     "output_type": "display_data"
    }
   ],
   "source": [
    "M_numerics = np.linspace(M_min, M_max, 100)\n",
    "plt.plot(M_numerics, halo_bias.get_halo_bias(fiducial_ccl_cosmo, M_numerics *  fiducial_h, 1./(1+0.2))) #[Mass] is Msun / h"
   ]
  },
  {
   "cell_type": "code",
   "execution_count": 22,
   "id": "c8d592a2",
   "metadata": {},
   "outputs": [
    {
     "data": {
      "text/plain": [
       "(8.963540604845908e-06, 1.3531209359172206e-10)"
      ]
     },
     "execution_count": 22,
     "metadata": {},
     "output_type": "execute_result"
    }
   ],
   "source": [
    "from scipy.integrate import dblquad\n",
    "def inner_cluster_count_integrand(lam, M, z_val=0):\n",
    "    p = cluster_richness_relation(M, lam, z_val) # h / Msun\n",
    "\n",
    "    dn_dM = fiducial_dndM(z_val, M) # h^4 / (Mpc^3  Msun)\n",
    "\n",
    "    return p * dn_dM  # h / (Msun)\n",
    "dblquad(inner_cluster_count_integrand, M_min, M_max, 20, 30, epsrel=1e-4, epsabs=0)"
   ]
  },
  {
   "cell_type": "code",
   "execution_count": 23,
   "id": "5eecc8b6",
   "metadata": {},
   "outputs": [
    {
     "data": {
      "text/plain": [
       "(8.963540604845908e-06, 1.3531209359172206e-10)"
      ]
     },
     "execution_count": 23,
     "metadata": {},
     "output_type": "execute_result"
    }
   ],
   "source": [
    "dblquad(inner_integral, M_min, M_max, 20, 30, args=(0.0,), epsrel=1e-4, epsabs=0)"
   ]
  },
  {
   "cell_type": "code",
   "execution_count": 24,
   "id": "6570a906",
   "metadata": {},
   "outputs": [],
   "source": [
    "import pickle\n",
    "    \n",
    "with open('cluster_abundance_fiducial_covariance.pkl', 'wb') as file:\n",
    "        pickle.dump(cluster_count_cov, file)"
   ]
  },
  {
   "cell_type": "code",
   "execution_count": null,
   "id": "f9417407",
   "metadata": {},
   "outputs": [],
   "source": []
  },
  {
   "cell_type": "code",
   "execution_count": 25,
   "id": "76e0f5e7",
   "metadata": {},
   "outputs": [
    {
     "data": {
      "image/png": "[encoded data removed]",
      "text/plain": [
       "<Figure size 432x288 with 2 Axes>"
      ]
     },
     "metadata": {
      "needs_background": "light"
     },
     "output_type": "display_data"
    }
   ],
   "source": [
    "import matplotlib.pyplot as plt\n",
    "\n",
    "plt.imshow((np.linalg.inv(cov_matrix_2d)), cmap='rainbow')\n",
    "plt.colorbar()\n",
    "plt.xticks([])\n",
    "plt.yticks([])\n",
    "plt.title(r'${\\rm Cov}(N^i_{\\lambda_\\alpha} , N^j_{\\lambda_\\beta})^{-1}$')\n",
    "plt.show()"
   ]
  },
  {
   "cell_type": "code",
   "execution_count": 30,
   "id": "d8085873",
   "metadata": {
    "scrolled": true
   },
   "outputs": [
    {
     "data": {
      "image/png": "[encoded data removed]",
      "text/plain": [
       "<Figure size 432x288 with 2 Axes>"
      ]
     },
     "metadata": {
      "needs_background": "light"
     },
     "output_type": "display_data"
    }
   ],
   "source": [
    "import matplotlib.pyplot as plt\n",
    "\n",
    "plt.imshow(np.log10(N_fiducial), cmap='rainbow', vmin=0, vmax=5)\n",
    "plt.colorbar()\n",
    "plt.xticks([])\n",
    "plt.yticks([])\n",
    "plt.title(r'Fiducial $\\log_{10} N^i_{\\lambda_\\alpha}$')\n",
    "plt.savefig('fiducial_cluster_abundance.pdf')"
   ]
  },
  {
   "cell_type": "code",
   "execution_count": 46,
   "id": "3c2e4864",
   "metadata": {},
   "outputs": [],
   "source": [
    "n_z = len(z_bin_edges) - 1\n",
    "n_r = len(richness_bin_edges) - 1\n",
    "cov_matrix_2d_shot_noise_only = np.zeros((n_z * n_r, n_z * n_r))\n",
    "\n",
    "for i in range(n_z):\n",
    "    for j in range(n_z):\n",
    "        for a in range(n_r):\n",
    "            for b in range(n_r):\n",
    "                row_index = i * n_r + a\n",
    "                col_index = j * n_r + b\n",
    "                if(i==j and a==b):\n",
    "                    cov_matrix_2d_shot_noise_only[row_index, col_index] = N_fiducial[i][a]"
   ]
  },
  {
   "cell_type": "code",
   "execution_count": 49,
   "id": "96e792fb",
   "metadata": {},
   "outputs": [
    {
     "name": "stderr",
     "output_type": "stream",
     "text": [
      "100%|██████████| 256/256 [00:00<00:00, 1544952.26it/s]\n"
     ]
    }
   ],
   "source": [
    "all_bin_combos = [[i,j,a,b] for i in range(len(z_bin_edges) - 1) \n",
    " for j in range(len(z_bin_edges) - 1) \n",
    " for a in range(len(richness_bin_edges) - 1)\n",
    "for b in range(len(richness_bin_edges) - 1)]\n",
    "\n",
    "cluster_count_cov_shot_only = np.zeros((len(z_bin_edges) - 1, len(z_bin_edges) - 1, len(richness_bin_edges) - 1, len(richness_bin_edges) - 1))\n",
    "\n",
    "for i,j,a,b in tqdm(all_bin_combos):\n",
    "    if(i == j and a == b): #shot noise\n",
    "        cluster_count_cov_shot_only[i,j,a,b] +=  N_fiducial[i][a]\n"
   ]
  },
  {
   "cell_type": "code",
   "execution_count": 50,
   "id": "46995cac",
   "metadata": {},
   "outputs": [],
   "source": [
    "import pickle\n",
    "    \n",
    "with open('cluster_abundance_fiducial_covariance_shot_noise_only.pkl', 'wb') as file:\n",
    "        pickle.dump(cluster_count_cov_shot_only, file)"
   ]
  },
  {
   "cell_type": "code",
   "execution_count": null,
   "id": "3201cc3b",
   "metadata": {},
   "outputs": [],
   "source": []
  }
 ],
 "metadata": {
  "kernelspec": {
   "display_name": "massfunction",
   "language": "python",
   "name": "massfunction"
  },
  "language_info": {
   "codemirror_mode": {
    "name": "ipython",
    "version": 3
   },
   "file_extension": ".py",
   "mimetype": "text/x-python",
   "name": "python",
   "nbconvert_exporter": "python",
   "pygments_lexer": "ipython3",
   "version": "3.9.16"
  }
 },
 "nbformat": 4,
 "nbformat_minor": 5
}
