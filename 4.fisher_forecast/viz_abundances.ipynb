{
 "cells": [
  {
   "cell_type": "code",
   "execution_count": 1,
   "id": "32545227",
   "metadata": {},
   "outputs": [
    {
     "name": "stdout",
     "output_type": "stream",
     "text": [
      "DES Y3\n",
      "{'10^9 As': 1.520813, 'ns': 0.9649, 'H0': 67.36, 'w0': -1, 'ombh2': 0.021949999999999997, 'omch2': 0.13122263790038222, 'nu_mass_ev': 0.06}\n"
     ]
    }
   ],
   "source": [
    "import pickle\n",
    "from aemulusnu_massfunction.emulator_training import *\n",
    "from aemulusnu_massfunction.fisher_utils import *\n",
    "\n",
    "\n",
    "fiducial_log10_rel_step_size['nu_mass_ev'] = -1.5\n",
    "fiducial_log10_rel_step_size['10^9 As'] = -2.3\n",
    "\n",
    "\n",
    "fiducial_h = 0.6736\n",
    "nu_mass_ev = 0.06\n",
    "#(Plank 2018 table 2. TT,TE,EE+lowE+lensing  + neutrino mass put in by hand)\n",
    "fiducial_cosmology = {'10^9 As':2.1,\n",
    "                      'ns': 0.9649,\n",
    "                      'H0': 67.36,\n",
    "                      'w0': -1,\n",
    "                      'ombh2': 0.02237,\n",
    "                      'omch2': 0.12,\n",
    "                      'nu_mass_ev': nu_mass_ev,}\n",
    "\n",
    "\n",
    "\n",
    "# #(Same as above but put in DES Y3 OmegaM and Sigma8)\n",
    "print('DES Y3')\n",
    "Ωmh2 =  0.339*fiducial_h**2 # Y3 3x2pt\n",
    "Ωνh2 = nu_mass_ev/(93.14) #see astro-ph/0603494\n",
    "#From the BBN seciton of DES Y3 paper\n",
    "Ωbh2 = 2.195/100\n",
    "Ωch2 = Ωmh2-Ωbh2-Ωνh2\n",
    "fiducial_cosmology = {'10^9 As': 1.520813,  #from σ8 for DES Y3 3x2 and convert_sigma8_to_As.ipynb\n",
    "                      'ns': 0.9649,\n",
    "                      'H0': 67.36,\n",
    "                      'w0': -1,\n",
    "                      'ombh2': Ωbh2,\n",
    "                      'omch2': Ωch2,\n",
    "                      'nu_mass_ev': nu_mass_ev,}\n",
    "\n",
    "\n",
    "\n",
    "fiducial_cosmo_vals = get_cosmo_vals(fiducial_cosmology)\n",
    "fiducial_ccl_cosmo = get_ccl_cosmology(tuple(fiducial_cosmo_vals))\n",
    "\n",
    "\n",
    "\n",
    "\n",
    "\n",
    "\n",
    "\n",
    "z_bin_edges = [0.2, 0.4, 0.6, 0.8, 1.0]\n",
    "richness_bin_edges = [20., 30., 45., 60., 300.]\n",
    "\n",
    "\n",
    "\n",
    "print(fiducial_cosmology)\n",
    "\n",
    "\n"
   ]
  },
  {
   "cell_type": "code",
   "execution_count": 2,
   "id": "bef6e49a",
   "metadata": {},
   "outputs": [],
   "source": [
    "# varied = list(fiducial_cosmology.keys())\n",
    "varied = ['10^9 As', 'ns', 'H0', 'ombh2', 'omch2', 'nu_mass_ev']\n"
   ]
  },
  {
   "cell_type": "code",
   "execution_count": 3,
   "id": "67c2171d",
   "metadata": {},
   "outputs": [],
   "source": [
    "z_bin_edges = [0.2, 0.4, 0.6, 0.8, 1.0]\n",
    "richness_bin_edges = [20., 30., 45., 60., 300.]\n",
    "\n",
    "n_z = len(z_bin_edges) - 1\n",
    "n_r = len(richness_bin_edges) - 1\n"
   ]
  },
  {
   "cell_type": "code",
   "execution_count": 4,
   "id": "371b92a9",
   "metadata": {},
   "outputs": [],
   "source": [
    "\n",
    "dμdθ = {}\n",
    "dμdθ_unflat = {}\n",
    "parameter_changed = 'H0'\n",
    "\n",
    "cluster_abundance_tinker_pos = None\n",
    "cluster_abundance_tinker_neg = None\n",
    "log10_rel_step_size = fiducial_log10_rel_step_size[parameter_changed]\n",
    "\n",
    "fname_base = '/scratch/users/delon/aemulusnu_massfunction/cluster_abundance_tinker_fisher_changing_%s_log10rel_step%.4f_cosmo_'%(parameter_changed, log10_rel_step_size)\n",
    "fname_base = '/scratch/users/delon/aemulusnu_massfunction.2024-08-15/cluster_abundance_tinker_fisher_changing_%s_log10rel_step%.4f_cosmo_'%(parameter_changed, log10_rel_step_size)\n",
    "\n",
    "for key in fiducial_cosmology:\n",
    "    ckey = key\n",
    "    if key == '10^9 As':\n",
    "        ckey = '1e9As'\n",
    "    fname_base += '%s_%f_'%(ckey, fiducial_cosmology[key])\n",
    "\n",
    "fname_base = list(fname_base)\n",
    "\n",
    "for i,char in enumerate(fname_base):\n",
    "    if(char == '.'):\n",
    "        fname_base[i] = 'p'\n",
    "\n",
    "fname_base = fname_base[:-1]\n",
    "\n",
    "fname_base = ''.join(fname_base)\n",
    "\n",
    "with open(fname_base, 'rb') as file:\n",
    "    cluster_abundance_tinker_pos = pickle.load(file)\n",
    "with open(fname_base+'_neg', 'rb') as file:\n",
    "    cluster_abundance_tinker_neg = pickle.load(file)\n",
    "h = np.abs(fiducial_cosmology[parameter_changed]) * 10**log10_rel_step_size\n",
    "tmp_theory_deriv = (cluster_abundance_tinker_pos - cluster_abundance_tinker_neg) / (2 * h)\n",
    "flattened_theory_deriv = np.zeros((n_z * n_r))\n",
    "for i in range(n_z):\n",
    "    for a in range(n_r):\n",
    "        flattened_theory_deriv[i * n_r + a] = tmp_theory_deriv[i, a]\n",
    "dμdθ[parameter_changed] = flattened_theory_deriv\n",
    "dμdθ_unflat[parameter_changed] = tmp_theory_deriv"
   ]
  },
  {
   "cell_type": "code",
   "execution_count": 5,
   "id": "dff727aa",
   "metadata": {},
   "outputs": [],
   "source": [
    "dμdθ = {}\n",
    "dμdθ_unflat = {}\n",
    "parameter_changed = 'H0'\n",
    "\n",
    "cluster_abundance_pos = None\n",
    "cluster_abundance_neg = None\n",
    "log10_rel_step_size = fiducial_log10_rel_step_size[parameter_changed]\n",
    "\n",
    "fname_base = '/scratch/users/delon/aemulusnu_massfunction/cluster_abundance_fisher_changing_%s_log10rel_step%.4f_cosmo_'%(parameter_changed, log10_rel_step_size)\n",
    "fname_base = '/scratch/users/delon/aemulusnu_massfunction/cluster_abundance_fisher_changing_%s_log10rel_step%.4f_cosmo_'%(parameter_changed, log10_rel_step_size)\n",
    "\n",
    "for key in fiducial_cosmology:\n",
    "    ckey = key\n",
    "    if key == '10^9 As':\n",
    "        ckey = '1e9As'\n",
    "    fname_base += '%s_%f_'%(ckey, fiducial_cosmology[key])\n",
    "\n",
    "fname_base = list(fname_base)\n",
    "\n",
    "for i,char in enumerate(fname_base):\n",
    "    if(char == '.'):\n",
    "        fname_base[i] = 'p'\n",
    "\n",
    "fname_base = fname_base[:-1]\n",
    "\n",
    "fname_base = ''.join(fname_base)\n",
    "\n",
    "with open(fname_base, 'rb') as file:\n",
    "    cluster_abundance_pos = pickle.load(file)\n",
    "with open(fname_base+'_neg', 'rb') as file:\n",
    "    cluster_abundance_neg = pickle.load(file)\n",
    "h = np.abs(fiducial_cosmology[parameter_changed]) * 10**log10_rel_step_size\n",
    "tmp_theory_deriv = (cluster_abundance_pos - cluster_abundance_neg) / (2 * h)\n",
    "flattened_theory_deriv = np.zeros((n_z * n_r))\n",
    "for i in range(n_z):\n",
    "    for a in range(n_r):\n",
    "        flattened_theory_deriv[i * n_r + a] = tmp_theory_deriv[i, a]\n",
    "dμdθ[parameter_changed] = flattened_theory_deriv\n",
    "dμdθ_unflat[parameter_changed] = tmp_theory_deriv\n"
   ]
  },
  {
   "cell_type": "code",
   "execution_count": 6,
   "id": "0be78c29",
   "metadata": {},
   "outputs": [
    {
     "data": {
      "text/plain": [
       "array([[3.86983682, 3.42390813, 2.82223471, 2.56802205],\n",
       "       [3.93619013, 3.41992678, 2.74034879, 2.38269893],\n",
       "       [3.81022145, 3.21312727, 2.44334262, 1.97632926],\n",
       "       [3.57452891, 2.88913172, 2.01949362, 1.44035904]])"
      ]
     },
     "execution_count": 6,
     "metadata": {},
     "output_type": "execute_result"
    }
   ],
   "source": [
    "np.log10(cluster_abundance_pos)"
   ]
  },
  {
   "cell_type": "code",
   "execution_count": 7,
   "id": "b94fc31a",
   "metadata": {},
   "outputs": [
    {
     "data": {
      "text/plain": [
       "<matplotlib.image.AxesImage at 0x7f2668651070>"
      ]
     },
     "execution_count": 7,
     "metadata": {},
     "output_type": "execute_result"
    },
    {
     "data": {
      "image/png": "[encoded data removed]",
      "text/plain": [
       "<Figure size 432x288 with 1 Axes>"
      ]
     },
     "metadata": {
      "needs_background": "light"
     },
     "output_type": "display_data"
    }
   ],
   "source": [
    "plt.imshow(np.log10(cluster_abundance_pos), vmin=1, vmax=4)"
   ]
  },
  {
   "cell_type": "code",
   "execution_count": 8,
   "id": "eed3a479",
   "metadata": {},
   "outputs": [
    {
     "data": {
      "text/plain": [
       "<matplotlib.image.AxesImage at 0x7f26665b5d00>"
      ]
     },
     "execution_count": 8,
     "metadata": {},
     "output_type": "execute_result"
    },
    {
     "data": {
      "image/png": "[encoded data removed]",
      "text/plain": [
       "<Figure size 432x288 with 1 Axes>"
      ]
     },
     "metadata": {
      "needs_background": "light"
     },
     "output_type": "display_data"
    }
   ],
   "source": [
    "plt.imshow(np.log10(cluster_abundance_tinker_pos), vmin=1, vmax=4)"
   ]
  },
  {
   "cell_type": "code",
   "execution_count": 9,
   "id": "cb83abbb",
   "metadata": {},
   "outputs": [
    {
     "data": {
      "text/plain": [
       "array([[-0.01416284, -0.01792856, -0.01932425, -0.01659737],\n",
       "       [-0.02872781, -0.034687  , -0.0376888 , -0.03642347],\n",
       "       [-0.04822627, -0.05598605, -0.06025139, -0.05987395],\n",
       "       [-0.07081186, -0.07995127, -0.08523909, -0.08547727]])"
      ]
     },
     "execution_count": 9,
     "metadata": {},
     "output_type": "execute_result"
    }
   ],
   "source": [
    "frac_diff = (cluster_abundance_tinker_pos-cluster_abundance_pos)/cluster_abundance_tinker_pos\n",
    "frac_diff"
   ]
  },
  {
   "cell_type": "code",
   "execution_count": 10,
   "id": "6473686f",
   "metadata": {},
   "outputs": [],
   "source": [
    "# array([[-0.01733147, -0.02269284, -0.02629496, -0.02713159],\n",
    "#        [-0.0330418 , -0.0410112 , -0.04674231, -0.04942675],\n",
    "#        [-0.05384995, -0.06404118, -0.07160376, -0.07557862],\n",
    "#        [-0.07779871, -0.08974813, -0.09889341, -0.10385203]])"
   ]
  },
  {
   "cell_type": "code",
   "execution_count": 11,
   "id": "fefd9dae",
   "metadata": {},
   "outputs": [
    {
     "data": {
      "text/plain": [
       "array([[-0.0066811 , -0.00896454, -0.00863647, -0.00340976],\n",
       "       [-0.02140838, -0.0255693 , -0.02645071, -0.02242189],\n",
       "       [-0.04082931, -0.04641644, -0.04811402, -0.04469913],\n",
       "       [-0.06311096, -0.06971343, -0.07198651, -0.06887321]])"
      ]
     },
     "execution_count": 11,
     "metadata": {},
     "output_type": "execute_result"
    }
   ],
   "source": [
    "frac_diff = (cluster_abundance_tinker_neg-cluster_abundance_neg)/cluster_abundance_tinker_neg\n",
    "frac_diff"
   ]
  },
  {
   "cell_type": "code",
   "execution_count": 12,
   "id": "a48ec928",
   "metadata": {},
   "outputs": [],
   "source": [
    "# array([[-0.00979195, -0.01373248, -0.01566892, -0.01405264],\n",
    "#        [-0.02569272, -0.03193529, -0.03562331, -0.03559394],\n",
    "#        [-0.04644575, -0.05455304, -0.05964377, -0.06061627],\n",
    "#        [-0.07010145, -0.0796092 , -0.08582701, -0.08748954]])"
   ]
  }
 ],
 "metadata": {
  "kernelspec": {
   "display_name": "massfunction",
   "language": "python",
   "name": "massfunction"
  },
  "language_info": {
   "codemirror_mode": {
    "name": "ipython",
    "version": 3
   },
   "file_extension": ".py",
   "mimetype": "text/x-python",
   "name": "python",
   "nbconvert_exporter": "python",
   "pygments_lexer": "ipython3",
   "version": "3.9.16"
  }
 },
 "nbformat": 4,
 "nbformat_minor": 5
}
