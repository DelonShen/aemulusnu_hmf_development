{
 "cells": [
  {
   "cell_type": "code",
   "execution_count": 1,
   "id": "5a5d4ecc",
   "metadata": {},
   "outputs": [],
   "source": [
    "import pickle\n",
    "    \n",
    "with open('cluster_abundance_fiducial_covariance_b16.pkl', 'rb') as file:\n",
    "    cluster_count_cov = pickle.load(file)"
   ]
  },
  {
   "cell_type": "code",
   "execution_count": 2,
   "id": "91f6bd3b",
   "metadata": {},
   "outputs": [],
   "source": [
    "# import pickle\n",
    "    \n",
    "# with open('cluster_abundance_fiducial_covariance_shot_noise_only.pkl', 'rb') as file:\n",
    "#     cluster_count_cov = pickle.load(file)"
   ]
  },
  {
   "cell_type": "code",
   "execution_count": null,
   "id": "beb3076a",
   "metadata": {},
   "outputs": [],
   "source": []
  },
  {
   "cell_type": "code",
   "execution_count": 3,
   "id": "67d86fbd",
   "metadata": {},
   "outputs": [],
   "source": [
    "from aemulusnu_massfunction.emulator import *\n",
    "from aemulusnu_massfunction.fisher_utils import *"
   ]
  },
  {
   "cell_type": "code",
   "execution_count": 4,
   "id": "0ccd2a8e",
   "metadata": {},
   "outputs": [],
   "source": [
    "z_bin_edges = [0.2, 0.4, 0.6, 0.8, 1.0]\n",
    "richness_bin_edges = [20., 30., 45., 60., 300.]\n",
    "\n",
    "n_z = len(z_bin_edges) - 1\n",
    "n_r = len(richness_bin_edges) - 1\n",
    "cov_matrix_2d = np.zeros((n_z * n_r, n_z * n_r))\n",
    "\n",
    "for i in range(n_z):\n",
    "    for j in range(n_z):\n",
    "        for a in range(n_r):\n",
    "            for b in range(n_r):\n",
    "                row_index = i * n_r + a\n",
    "                col_index = j * n_r + b\n",
    "                cov_matrix_2d[row_index, col_index] = cluster_count_cov[i, j, a, b]\n"
   ]
  },
  {
   "cell_type": "code",
   "execution_count": 5,
   "id": "9394dd76",
   "metadata": {},
   "outputs": [],
   "source": [
    "chol = np.linalg.cholesky(cov_matrix_2d)\n",
    "chol_inv = np.linalg.inv(chol)\n",
    "cov_inv = chol_inv.T @ chol_inv"
   ]
  },
  {
   "cell_type": "code",
   "execution_count": 6,
   "id": "e4bb8feb",
   "metadata": {},
   "outputs": [],
   "source": [
    "labels = {\n",
    "    '10^9 As': r'10^9A_s',\n",
    "    'ns': r'n_s',\n",
    "    'H0': r'H_0',\n",
    "    'w0': r'w_0',\n",
    "    'ombh2': r'\\Omega_b h^2',\n",
    "    'omch2': r'\\Omega_c h^2',\n",
    "    'nu_mass_ev': r'\\sum m_\\nu',\n",
    "}"
   ]
  },
  {
   "cell_type": "code",
   "execution_count": 7,
   "id": "5680fe7d",
   "metadata": {},
   "outputs": [],
   "source": [
    "plt.rcParams['text.usetex'] = True\n",
    "plt.rcParams['font.size'] = 32\n",
    "plt.rcParams['font.family'] = 'serif'\n"
   ]
  },
  {
   "cell_type": "code",
   "execution_count": 8,
   "id": "abb0fcd2",
   "metadata": {},
   "outputs": [
    {
     "name": "stderr",
     "output_type": "stream",
     "text": [
      "100%|██████████| 7/7 [00:09<00:00,  1.31s/it]\n"
     ]
    }
   ],
   "source": [
    "import os\n",
    "\n",
    "dμdθ_step_size = {}\n",
    "parameter_ranges = {}  # To store the ranges for which files exist\n",
    "\n",
    "for parameter_changed in tqdm(fiducial_cosmology.keys()):\n",
    "    dμdθ_step_size[parameter_changed] = {}\n",
    "    parameter_ranges[parameter_changed] = {'min': None, 'max': None}\n",
    "    for log10_rel_step_size in np.arange(-5, 0, .1):\n",
    "        fname_base = '/oak/stanford/orgs/kipac/users/delon/aemulusnu_massfunction/cluster_abundance_fisher_%s_%.4f' % (\n",
    "            parameter_changed, log10_rel_step_size)\n",
    "\n",
    "        # Check if both files exist\n",
    "        if os.path.exists(fname_base + '_b16') and os.path.exists(fname_base + '_neg' + '_st'):\n",
    "            with open(fname_base + '_b16', 'rb') as file:\n",
    "                cluster_abundance_pos = pickle.load(file)\n",
    "            with open(fname_base + '_neg' + '_b16', 'rb') as file:\n",
    "                cluster_abundance_neg = pickle.load(file)\n",
    "\n",
    "            h = np.abs(fiducial_cosmology[parameter_changed]) * 10**log10_rel_step_size\n",
    "            tmp_theory_deriv = (cluster_abundance_pos - cluster_abundance_neg) / (2 * h)\n",
    "            flattened_theory_deriv = np.zeros((n_z * n_r))\n",
    "            for i in range(n_z):\n",
    "                for a in range(n_r):\n",
    "                    flattened_theory_deriv[i * n_r + a] = tmp_theory_deriv[i, a]\n",
    "            dμdθ_step_size[parameter_changed][np.round(log10_rel_step_size,2)] = flattened_theory_deriv\n",
    "\n",
    "            # Update the ranges\n",
    "            if parameter_ranges[parameter_changed]['min'] is None or log10_rel_step_size < parameter_ranges[parameter_changed]['min']:\n",
    "                parameter_ranges[parameter_changed]['min'] = log10_rel_step_size\n",
    "            if parameter_ranges[parameter_changed]['max'] is None or log10_rel_step_size > parameter_ranges[parameter_changed]['max']:\n",
    "                parameter_ranges[parameter_changed]['max'] = log10_rel_step_size\n"
   ]
  },
  {
   "cell_type": "code",
   "execution_count": 9,
   "id": "adb72750",
   "metadata": {
    "scrolled": true
   },
   "outputs": [
    {
     "name": "stdout",
     "output_type": "stream",
     "text": [
      "For parameter 10^9 As, files exist in the range -4.0 to -0.3.\n",
      "For parameter ns, files exist in the range -4.0 to -0.3.\n",
      "For parameter H0, files exist in the range -4.0 to -0.3.\n",
      "For parameter w0, files exist in the range -4.0 to -0.3.\n",
      "For parameter ombh2, files exist in the range -4.0 to -0.3.\n",
      "For parameter omch2, files exist in the range -4.0 to -0.3.\n",
      "For parameter nu_mass_ev, files exist in the range -4.0 to -0.3.\n"
     ]
    }
   ],
   "source": [
    "log10_rel_step_sizes = {}\n",
    "\n",
    "for parameter, ranges in parameter_ranges.items():\n",
    "    min_range = round(ranges['min'], 3)\n",
    "    max_range = round(ranges['max'], 3)\n",
    "    print(f\"For parameter {parameter}, files exist in the range {min_range} to {max_range}.\")\n",
    "    log10_rel_step_sizes[parameter] = np.arange(min_range, max_range, .01)\n"
   ]
  },
  {
   "cell_type": "code",
   "execution_count": 10,
   "id": "3ae836df",
   "metadata": {},
   "outputs": [],
   "source": [
    "del fiducial_cosmology['nu_mass_ev']"
   ]
  },
  {
   "cell_type": "code",
   "execution_count": 11,
   "id": "580ef41a",
   "metadata": {
    "scrolled": true
   },
   "outputs": [
    {
     "data": {
      "image/png": "[encoded data removed]",
      "text/plain": [
       "<Figure size 864x864 with 6 Axes>"
      ]
     },
     "metadata": {
      "needs_background": "light"
     },
     "output_type": "display_data"
    }
   ],
   "source": [
    "# import matplotlib.pyplot as plt\n",
    "import matplotlib.cm as cm\n",
    "from scipy.linalg import cho_solve, cho_factor\n",
    "plt.rcParams['text.usetex'] = True\n",
    "plt.rcParams['font.size'] = 32\n",
    "plt.rcParams['font.family'] = 'serif'\n",
    "\n",
    "# Determine the number of subplots\n",
    "n_parameters = len(fiducial_cosmology.keys())\n",
    "\n",
    "# Create a figure and an array of subplots with 1 column\n",
    "fig, axs = plt.subplots(n_parameters, 1, figsize=(12, 2 * n_parameters))#, sharex=True)\n",
    "\n",
    "# Create a colormap\n",
    "colormap = cm.rainbow\n",
    "\n",
    "# Iterate over the parameters and the corresponding axes\n",
    "for idx, (parameter_changed, ax) in enumerate(zip(fiducial_cosmology.keys(), axs)):\n",
    "    Fii_inv = []\n",
    "    fiducial_value = None\n",
    "    fiducial_step_size = fiducial_log10_rel_step_size[parameter_changed]\n",
    "    \n",
    "    for log10_rel_step_size in log10_rel_step_sizes[parameter_changed]:\n",
    "        fisher_matrix = np.zeros((n_parameters, n_parameters))\n",
    "        log10_rel_step_size = np.round(log10_rel_step_size, 1)\n",
    "        for i, θi in enumerate(fiducial_cosmology.keys()):\n",
    "            for j, θj in enumerate(fiducial_cosmology.keys()):\n",
    "                dμl_θi = dμdθ_step_size[θi][fiducial_log10_rel_step_size[θi]]\n",
    "                if(all(dμl_θi == 0)):\n",
    "                    print(θi)\n",
    "                dμm_θj = dμdθ_step_size[θj][fiducial_log10_rel_step_size[θj]]\n",
    "                if(θi == parameter_changed): \n",
    "                    dμl_θi = dμdθ_step_size[θi][log10_rel_step_size]\n",
    "                if(θj == parameter_changed): \n",
    "                    dμm_θj = dμdθ_step_size[θj][log10_rel_step_size]\n",
    "                fisher_matrix[i,j] = np.einsum('l,lm,m', dμl_θi, cov_inv, dμm_θj)\n",
    "                \n",
    "        try:\n",
    "            # Compute the Cholesky decomposition\n",
    "            cholesky_factor = cho_factor(fisher_matrix)\n",
    "\n",
    "            # Solve for the inverse of the diagonal element\n",
    "            e_i = np.zeros_like(fisher_matrix[idx])\n",
    "            e_i[idx] = 1\n",
    "            inv_diagonal_element = cho_solve(cholesky_factor, e_i)[idx]\n",
    "\n",
    "            Fii_inv += [inv_diagonal_element]\n",
    "            if np.abs(log10_rel_step_size - fiducial_step_size) < 1e-5:\n",
    "                fiducial_value = inv_diagonal_element\n",
    "\n",
    "        except:\n",
    "            Fii_inv += [np.nan]\n",
    "\n",
    "            \n",
    "            \n",
    "            \n",
    "    # Get a color from the colormap based on the index\n",
    "    color = colormap(float(idx) / n_parameters)\n",
    "\n",
    "    X = 10**(log10_rel_step_sizes[parameter_changed])\n",
    "    X /= 10**fiducial_step_size\n",
    "    \n",
    "    ax.plot(X, ((Fii_inv)), color=color)\n",
    "#     ax.scatter(X, ((Fii_inv)), color=color)\n",
    "\n",
    "    ax.scatter(1, fiducial_value, color=color, marker='x')\n",
    "    ax.axhline(fiducial_value, color=color, linestyle='--')\n",
    "    \n",
    "    fill_x = np.array([10**(-10), 10**10])\n",
    "    fill_y1 = [0.9 * (fiducial_value), 0.9 * (fiducial_value)]\n",
    "    fill_y2 = [1.1 * (fiducial_value), 1.1 * (fiducial_value)]\n",
    "    ax.fill_between(fill_x, fill_y1, fill_y2,  color=color, alpha=0.1)\n",
    "\n",
    "    fill_y1 = [0.99 * (fiducial_value), 0.99 * (fiducial_value)]\n",
    "    fill_y2 = [1.01 * (fiducial_value), 1.01 * (fiducial_value)]\n",
    "    ax.fill_between(fill_x, fill_y1, fill_y2,  color=color, alpha=0.2)\n",
    "\n",
    "    ax.set_xscale('log')\n",
    "#     ax.set_xlim(.01,1.99)\n",
    "    ax.set_xlim(10**(-.9), 10**(.9))\n",
    "    ax.set_xticks([10**(-.5), 10**0, 10**(.5)])\n",
    "    ax.set_xticklabels([r'-1/2',r'0',r'1/2' ])\n",
    "\n",
    "    ax.set_ylim([0.88 * (fiducial_value), 1.12 * (fiducial_value)])\n",
    "\n",
    "    l = labels[parameter_changed]\n",
    "    ax.set_yticks([])\n",
    "    ax.set_ylabel(r'$%s$' % (l))\n",
    "#     ax.axvline(10**-2)\n",
    "axs[0].set_title(r'(Marginalized) ${[F^{-1}]_{\\theta\\theta}}$')\n",
    "\n",
    "s = r'Bands indicates ±10\\% and ±1\\% variation from ${[F^{-1}]_{\\theta\\theta}}$ at fiducial step size'\n",
    "axs[0].text(.99, .90,\n",
    "        s=s,\n",
    "        transform=axs[0].transAxes,\n",
    "        horizontalalignment='right',\n",
    "        verticalalignment='top',\n",
    "       fontsize=16)\n",
    "\n",
    "axs[-1].set_xlabel(r'$\\log_{10}$(Step Size / Fiducial Step Size)')\n",
    "plt.subplots_adjust(wspace=0, hspace=0)\n",
    "plt.savefig('marginalized_convergencee_b16.pdf')"
   ]
  },
  {
   "cell_type": "code",
   "execution_count": 12,
   "id": "0fd178ee",
   "metadata": {},
   "outputs": [
    {
     "data": {
      "image/png": "[encoded data removed]",
      "text/plain": [
       "<Figure size 864x864 with 6 Axes>"
      ]
     },
     "metadata": {
      "needs_background": "light"
     },
     "output_type": "display_data"
    }
   ],
   "source": [
    "# import matplotlib.pyplot as plt\n",
    "import matplotlib.cm as cm\n",
    "from scipy.linalg import cho_solve, cho_factor\n",
    "plt.rcParams['text.usetex'] = True\n",
    "plt.rcParams['font.size'] = 32\n",
    "plt.rcParams['font.family'] = 'serif'\n",
    "\n",
    "# Determine the number of subplots\n",
    "n_parameters = len(fiducial_cosmology.keys())\n",
    "\n",
    "# Create a figure and an array of subplots with 1 column\n",
    "fig, axs = plt.subplots(n_parameters, 1, figsize=(12, 2 * n_parameters))#, sharex=True)\n",
    "\n",
    "# Create a colormap\n",
    "colormap = cm.rainbow\n",
    "\n",
    "# Iterate over the parameters and the corresponding axes\n",
    "for idx, (parameter_changed, ax) in enumerate(zip(fiducial_cosmology.keys(), axs)):\n",
    "    Fii_inv = []\n",
    "    fiducial_value = None\n",
    "    fiducial_step_size = fiducial_log10_rel_step_size[parameter_changed]\n",
    "    \n",
    "    for log10_rel_step_size in log10_rel_step_sizes[parameter_changed]:\n",
    "        fisher_matrix = np.zeros((n_parameters, n_parameters))\n",
    "        log10_rel_step_size = np.round(log10_rel_step_size, 1)\n",
    "        for i, θi in enumerate(fiducial_cosmology.keys()):\n",
    "            for j, θj in enumerate(fiducial_cosmology.keys()):\n",
    "                dμl_θi = dμdθ_step_size[θi][fiducial_log10_rel_step_size[θi]]\n",
    "                dμm_θj = dμdθ_step_size[θj][fiducial_log10_rel_step_size[θj]]\n",
    "                if(θi == parameter_changed): \n",
    "                    dμl_θi = dμdθ_step_size[θi][log10_rel_step_size]\n",
    "                if(θj == parameter_changed): \n",
    "                    dμm_θj = dμdθ_step_size[θj][log10_rel_step_size]\n",
    "                fisher_matrix[i,j] = np.einsum('l,lm,m', dμl_θi, cov_inv, dμm_θj)\n",
    "\n",
    "        inv_diagonal_element = fisher_matrix[idx][idx]**(-1)\n",
    "\n",
    "        Fii_inv += [inv_diagonal_element]\n",
    "        if np.abs(log10_rel_step_size - fiducial_step_size) < 1e-5:\n",
    "            fiducial_value = inv_diagonal_element\n",
    "\n",
    "            \n",
    "            \n",
    "            \n",
    "            \n",
    "    # Get a color from the colormap based on the index\n",
    "    color = colormap(float(idx) / n_parameters)\n",
    "\n",
    "    X = 10**(log10_rel_step_sizes[parameter_changed])\n",
    "    X /= 10**fiducial_step_size\n",
    "    \n",
    "    ax.plot(X, ((Fii_inv)), color=color)\n",
    "#     ax.scatter(X, ((Fii_inv)), color=color)\n",
    "\n",
    "    ax.scatter(1, fiducial_value, color=color, marker='x')\n",
    "    ax.axhline(fiducial_value, color=color, linestyle='--')\n",
    "    \n",
    "    fill_x = np.array([10**(-10), 10**10])\n",
    "    fill_y1 = [0.9 * (fiducial_value), 0.9 * (fiducial_value)]\n",
    "    fill_y2 = [1.1 * (fiducial_value), 1.1 * (fiducial_value)]\n",
    "    ax.fill_between(fill_x, fill_y1, fill_y2,  color=color, alpha=0.1)\n",
    "\n",
    "    fill_y1 = [0.99 * (fiducial_value), 0.99 * (fiducial_value)]\n",
    "    fill_y2 = [1.01 * (fiducial_value), 1.01 * (fiducial_value)]\n",
    "    ax.fill_between(fill_x, fill_y1, fill_y2,  color=color, alpha=0.2)\n",
    "\n",
    "    ax.set_xscale('log')\n",
    "#     ax.set_xlim(.01,1.99)\n",
    "    ax.set_xlim(10**(-.9), 10**(.9))\n",
    "    ax.set_xticks([10**(-.5), 10**0, 10**(.5)])\n",
    "    ax.set_xticklabels([r'-1/2',r'0',r'1/2' ])\n",
    "\n",
    "    ax.set_ylim([0.88 * (fiducial_value), 1.12 * (fiducial_value)])\n",
    "\n",
    "    l = labels[parameter_changed]\n",
    "    ax.set_yticks([])\n",
    "    ax.set_ylabel(r'$%s$' % (l))\n",
    "#     ax.axvline(10**-2)\n",
    "axs[0].set_title(r'(Unmarginalized) ${[F_{\\theta\\theta}]^{-1}}$')\n",
    "\n",
    "s = r'Bands indicates ±10\\% and ±1\\% variation from ${[F_{\\theta\\theta}]^{-1}}$ at fiducial step size'\n",
    "axs[0].text(.99, .90,\n",
    "        s=s,\n",
    "        transform=axs[0].transAxes,\n",
    "        horizontalalignment='right',\n",
    "        verticalalignment='top',\n",
    "       fontsize=16)\n",
    "\n",
    "axs[-1].set_xlabel(r'$\\log_{10}$(Step Size / Fiducial Step Size)')\n",
    "plt.subplots_adjust(wspace=0, hspace=0)\n",
    "plt.savefig('unmarginalized_convergencee_b16.pdf')"
   ]
  },
  {
   "cell_type": "code",
   "execution_count": null,
   "id": "20a313ea",
   "metadata": {},
   "outputs": [],
   "source": []
  },
  {
   "cell_type": "code",
   "execution_count": null,
   "id": "99f962d8",
   "metadata": {},
   "outputs": [],
   "source": []
  },
  {
   "cell_type": "code",
   "execution_count": null,
   "id": "b9403872",
   "metadata": {},
   "outputs": [],
   "source": []
  },
  {
   "cell_type": "code",
   "execution_count": null,
   "id": "79ff78ef",
   "metadata": {},
   "outputs": [],
   "source": []
  }
 ],
 "metadata": {
  "kernelspec": {
   "display_name": "massfunction",
   "language": "python",
   "name": "massfunction"
  },
  "language_info": {
   "codemirror_mode": {
    "name": "ipython",
    "version": 3
   },
   "file_extension": ".py",
   "mimetype": "text/x-python",
   "name": "python",
   "nbconvert_exporter": "python",
   "pygments_lexer": "ipython3",
   "version": "3.9.16"
  }
 },
 "nbformat": 4,
 "nbformat_minor": 5
}
