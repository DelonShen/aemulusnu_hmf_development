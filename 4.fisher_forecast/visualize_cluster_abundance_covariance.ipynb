{
 "cells": [
  {
   "cell_type": "code",
   "execution_count": 3,
   "id": "11b1bf67",
   "metadata": {},
   "outputs": [],
   "source": [
    "import pickle\n",
    "from aemulusnu_massfunction.emulator_training import *\n",
    "from aemulusnu_massfunction.fisher_utils import *\n",
    "\n",
    "fiducial_h = 0.6736\n",
    "\n",
    "\n",
    "# #(Plank 2018 table 2. TT,TE,EE+lowE+lensing  + neutrino mass put in by hand)\n",
    "fiducial_cosmology = {'10^9 As':2.1,\n",
    "                      'ns': 0.9649,\n",
    "                      'H0': 67.36,\n",
    "                      'w0': -1,\n",
    "                      'ombh2': 0.02237,\n",
    "                      'omch2': 0.12,\n",
    "                      'nu_mass_ev': 0.06,}\n",
    "\n",
    "\n",
    "\n",
    "#(Same as above but put in DES Y3 OmegaM and Sigma8)\n",
    "# Ωmh2 =  0.339*fiducial_h**2 # Y3 3x2pt\n",
    "# Ωνh2 = 0.06/(93.14) #see astro-ph/0603494\n",
    "# #From the BBN seciton of DES Y3 paper\n",
    "# Ωbh2 = 2.195/100\n",
    "# Ωch2 = Ωmh2-Ωbh2-Ωνh2\n",
    "# fiducial_cosmology = {'10^9 As': 1.520813,  #from σ8 for DES Y3 3x2 and convert_sigma8_to_As.ipynb\n",
    "#                       'ns': 0.9649,\n",
    "#                       'H0': 67.36,\n",
    "#                       'w0': -1,\n",
    "#                       'ombh2': Ωbh2,\n",
    "#                       'omch2': Ωch2,\n",
    "#                       'nu_mass_ev': 0.06,}\n",
    "\n",
    "fiducial_cosmo_vals = get_cosmo_vals(fiducial_cosmology)\n",
    "fiducial_ccl_cosmo = get_ccl_cosmology(tuple(fiducial_cosmo_vals))\n",
    "\n",
    "oup_cov_fname = 'fiducial_cluster_abundance_covariance_'\n",
    "\n",
    "for key in fiducial_cosmology:\n",
    "    ckey = key\n",
    "    if key == '10^9 As':\n",
    "        ckey = '1e9As'\n",
    "    oup_cov_fname += '%s_%f_'%(ckey, fiducial_cosmology[key])\n",
    "\n",
    "oup_cov_fname = list(oup_cov_fname)\n",
    "\n",
    "for i,char in enumerate(oup_cov_fname):\n",
    "    if(char == '.'):\n",
    "        oup_cov_fname[i] = 'p'\n",
    "\n",
    "oup_cov_fname = oup_cov_fname[:-1]\n",
    "\n",
    "oup_cov_fname = ''.join(oup_cov_fname)\n",
    "oup_cov_fname += '.pkl'\n",
    "\n",
    "with open(oup_cov_fname, 'rb') as file:\n",
    "        cluster_count_cov = pickle.load(file)\n"
   ]
  },
  {
   "cell_type": "code",
   "execution_count": 2,
   "id": "fe19575e",
   "metadata": {},
   "outputs": [],
   "source": [
    "z_bin_edges = [0.2, 0.4, 0.6, 0.8, 1.0]\n",
    "richness_bin_edges = [20., 30., 45., 60., 300.]"
   ]
  },
  {
   "cell_type": "code",
   "execution_count": 4,
   "id": "4832c24b",
   "metadata": {},
   "outputs": [
    {
     "name": "stdout",
     "output_type": "stream",
     "text": [
      "AemulusNu\n",
      "redshift bin 1 of 4\n"
     ]
    },
    {
     "name": "stderr",
     "output_type": "stream",
     "text": [
      "100%|██████████| 4/4 [00:47<00:00, 11.86s/it]\n"
     ]
    },
    {
     "name": "stdout",
     "output_type": "stream",
     "text": [
      "redshift bin 2 of 4\n"
     ]
    },
    {
     "name": "stderr",
     "output_type": "stream",
     "text": [
      "100%|██████████| 4/4 [00:48<00:00, 12.18s/it]\n"
     ]
    },
    {
     "name": "stdout",
     "output_type": "stream",
     "text": [
      "redshift bin 3 of 4\n"
     ]
    },
    {
     "name": "stderr",
     "output_type": "stream",
     "text": [
      "100%|██████████| 4/4 [00:46<00:00, 11.51s/it]\n"
     ]
    },
    {
     "name": "stdout",
     "output_type": "stream",
     "text": [
      "redshift bin 4 of 4\n"
     ]
    },
    {
     "name": "stderr",
     "output_type": "stream",
     "text": [
      "100%|██████████| 4/4 [00:51<00:00, 12.84s/it]\n"
     ]
    }
   ],
   "source": [
    "N_fiducial = N_in_z_bins_and_richness_bins(fiducial_cosmology, richness_bin_edges, z_bin_edges)"
   ]
  },
  {
   "cell_type": "code",
   "execution_count": 5,
   "id": "df40c950",
   "metadata": {},
   "outputs": [],
   "source": [
    "import seaborn as sns"
   ]
  },
  {
   "cell_type": "code",
   "execution_count": 26,
   "id": "d8085873",
   "metadata": {
    "scrolled": true
   },
   "outputs": [
    {
     "data": {
      "image/png": "[encoded data removed]",
      "text/plain": [
       "<Figure size 432x288 with 2 Axes>"
      ]
     },
     "metadata": {
      "needs_background": "light"
     },
     "output_type": "display_data"
    }
   ],
   "source": [
    "import matplotlib.pyplot as plt\n",
    "ccmap = sns.cubehelix_palette(start=8/3, rot=5/9, as_cmap=True, light=0.95,)\n",
    "ccmap = 'viridis'\n",
    "# ccmap = 'rainbow'\n",
    "plt.imshow(np.log10(N_fiducial), cmap=ccmap, vmin=np.min(np.log10(N_fiducial)), vmax=np.max(np.log10(N_fiducial)))\n",
    "plt.colorbar()\n",
    "plt.xticks([])\n",
    "plt.yticks([])\n",
    "plt.title(r'Fiducial $\\log_{10} N^i_{\\lambda_\\alpha}$')\n",
    "plt.savefig('fiducial_cluster_abundance.pdf')"
   ]
  },
  {
   "cell_type": "code",
   "execution_count": 27,
   "id": "a7391ede",
   "metadata": {},
   "outputs": [],
   "source": [
    "plt.show()\n",
    "plt.rcParams['text.usetex'] = True\n",
    "plt.rcParams['font.size'] = 11\n",
    "plt.rcParams['font.family'] = 'serif'"
   ]
  },
  {
   "cell_type": "code",
   "execution_count": 28,
   "id": "77541130",
   "metadata": {},
   "outputs": [
    {
     "data": {
      "image/png": "[encoded data removed]",
      "text/plain": [
       "<Figure size 288x288 with 2 Axes>"
      ]
     },
     "metadata": {
      "needs_background": "light"
     },
     "output_type": "display_data"
    }
   ],
   "source": [
    "import matplotlib.pyplot as plt\n",
    "plt.rcParams['font.size'] = 11\n",
    "\n",
    "\n",
    "plt.figure( figsize=(4,4))\n",
    "plt.tick_params(\n",
    "    bottom=False,\n",
    "    top=True,\n",
    "labelbottom=False,\n",
    "labeltop=True)\n",
    "plt.gca().xaxis.set_ticks_position('none') \n",
    "plt.gca().yaxis.set_ticks_position('none') \n",
    "\n",
    "\n",
    "# Add ticks for the block divisions\n",
    "tick_positions_z = [0,1,2,3]\n",
    "\n",
    "tick_z_labels = [r'$[%d, %d]$'%(a,b) for a,b in zip(richness_bin_edges, richness_bin_edges[1:])]\n",
    "plt.xticks(tick_positions_z, tick_z_labels, ha='center')\n",
    "\n",
    "tick_z_labels = [r'$[%.1f, %.1f]$'%(a,b) for a,b in zip(z_bin_edges, z_bin_edges[1:])]\n",
    "plt.yticks(tick_positions_z, tick_z_labels, rotation=90, va='center')\n",
    "\n",
    "plt.text(-0.5,-0.67,r'$\\lambda_\\alpha:$', verticalalignment='bottom', horizontalalignment='right')\n",
    "plt.text(-0.67,3.9,r'$z^i:$', rotation=90, verticalalignment='bottom', horizontalalignment='right')\n",
    "\n",
    "plt.imshow(np.log10(N_fiducial), cmap=ccmap, vmin=np.min(np.log10(N_fiducial)), vmax=np.max(np.log10(N_fiducial)))\n",
    "plt.colorbar(fraction=0.04)\n",
    "plt.title(r'Fiducial $\\log_{10} N^i_{\\lambda_\\alpha}$'+'\\n')\n",
    "plt.savefig('fiducial_cluster_abundance.pdf', dpi=600, bbox_inches = \"tight\")"
   ]
  },
  {
   "cell_type": "code",
   "execution_count": 9,
   "id": "16e97b07",
   "metadata": {},
   "outputs": [],
   "source": [
    "cluster_count_cov = np.zeros((len(z_bin_edges) - 1, len(z_bin_edges) - 1, len(richness_bin_edges) - 1, len(richness_bin_edges) - 1))\n"
   ]
  },
  {
   "cell_type": "code",
   "execution_count": 10,
   "id": "256317f8",
   "metadata": {},
   "outputs": [],
   "source": [
    "halo_bias = ccl.halos.HaloBiasTinker10()"
   ]
  },
  {
   "cell_type": "code",
   "execution_count": 11,
   "id": "6775f460",
   "metadata": {},
   "outputs": [
    {
     "data": {
      "text/plain": [
       "1.5811452381654467"
      ]
     },
     "execution_count": 11,
     "metadata": {},
     "output_type": "execute_result"
    }
   ],
   "source": [
    "fiducial_h = fiducial_cosmology['H0']/100\n",
    "halo_bias(fiducial_ccl_cosmo, 1e14 *  fiducial_h, 1) #[Mass] is Msun / h"
   ]
  },
  {
   "cell_type": "code",
   "execution_count": 12,
   "id": "aecfdba7",
   "metadata": {},
   "outputs": [
    {
     "data": {
      "text/plain": [
       "30.064534269753832"
      ]
     },
     "execution_count": 12,
     "metadata": {},
     "output_type": "execute_result"
    }
   ],
   "source": [
    "Ωs_rad**2"
   ]
  },
  {
   "cell_type": "code",
   "execution_count": 13,
   "id": "453b5376",
   "metadata": {},
   "outputs": [],
   "source": [
    "from classy import Class\n",
    "\n",
    "h = fiducial_cosmology['H0']/100\n",
    "cosmo_dict = {\n",
    "    'h': h,\n",
    "    'Omega_b': fiducial_cosmology['ombh2'] / h**2,\n",
    "    'Omega_cdm': fiducial_cosmology['omch2'] / h**2,\n",
    "    'N_ur': 0.00641,\n",
    "    'N_ncdm': 1,\n",
    "    'output': 'mPk mTk',\n",
    "    'z_pk': '0.0,99',\n",
    "    'P_k_max_h/Mpc': 20.,\n",
    "    'm_ncdm': fiducial_cosmology['nu_mass_ev']/3,\n",
    "    'deg_ncdm': 3,\n",
    "    'T_cmb': 2.7255,\n",
    "    'A_s': fiducial_cosmology['10^9 As'] * 10**-9,\n",
    "    'n_s': fiducial_cosmology['ns'],\n",
    "    'Omega_Lambda': 0.0,\n",
    "    'w0_fld': fiducial_cosmology['w0'],\n",
    "    'wa_fld': 0.0,\n",
    "    'cs2_fld': 1.0,\n",
    "    'fluid_equation_of_state': \"CLP\"\n",
    "}\n",
    "\n",
    "#get logsigma spline\n",
    "z = np.linspace(0, 2, 100)\n",
    "\n",
    "pkclass = Class()\n",
    "pkclass.set(cosmo_dict)\n",
    "pkclass.compute()"
   ]
  },
  {
   "cell_type": "code",
   "execution_count": 14,
   "id": "07507483",
   "metadata": {},
   "outputs": [
    {
     "name": "stderr",
     "output_type": "stream",
     "text": [
      "/tmp/ipykernel_13893/123349698.py:1: DeprecationWarning: Conversion of an array with ndim > 0 to a scalar is deprecated, and will error in future. Ensure you extract a single element from your array before performing this operation. (Deprecated NumPy 1.25.)\n",
      "  pkclass.pk_lin(1e-1, np.array([0.8]))*h**3\n"
     ]
    },
    {
     "data": {
      "text/plain": [
       "1416.1466363824873"
      ]
     },
     "execution_count": 14,
     "metadata": {},
     "output_type": "execute_result"
    }
   ],
   "source": [
    "pkclass.pk_lin(1e-1, np.array([0.8]))*h**3 "
   ]
  },
  {
   "cell_type": "code",
   "execution_count": 15,
   "id": "2ecf2f33",
   "metadata": {},
   "outputs": [
    {
     "name": "stderr",
     "output_type": "stream",
     "text": [
      "/tmp/ipykernel_13893/3287391961.py:2: DeprecationWarning: Conversion of an array with ndim > 0 to a scalar is deprecated, and will error in future. Ensure you extract a single element from your array before performing this operation. (Deprecated NumPy 1.25.)\n",
      "  PK_TEST = [pkclass.pk_lin(k_curr, np.array([0.2])) for k_curr in kt]\n"
     ]
    },
    {
     "name": "stdout",
     "output_type": "stream",
     "text": [
      "10.0\n"
     ]
    },
    {
     "data": {
      "image/png": "[encoded data removed]",
      "text/plain": [
       "<Figure size 432x288 with 1 Axes>"
      ]
     },
     "metadata": {
      "needs_background": "light"
     },
     "output_type": "display_data"
    }
   ],
   "source": [
    "kt = np.logspace(-3, 1, 100)\n",
    "PK_TEST = [pkclass.pk_lin(k_curr, np.array([0.2])) for k_curr in kt]\n",
    "plt.plot(kt, PK_TEST)\n",
    "plt.xscale('log')\n",
    "plt.yscale('log')\n",
    "print(np.max(kt))"
   ]
  },
  {
   "cell_type": "code",
   "execution_count": 16,
   "id": "224ad7e1",
   "metadata": {},
   "outputs": [],
   "source": [
    "from scipy.integrate import quad"
   ]
  },
  {
   "cell_type": "markdown",
   "id": "f7f7e309",
   "metadata": {},
   "source": [
    "$$\\begin{align} \n",
    "{\\rm Cov} (N^i_{\\lambda_\\alpha}, N^j_{\\lambda_\\beta}) &= \\delta_{ij} \\delta_{\\alpha,\\beta} N^i_{\\lambda_\\alpha} + \\Omega_s^2 \\int_{\\textrm{z bin overlap} } dz\\ \\left( \\frac{dV} {dzd\\Omega}  \\right)^2 \\frac{E(z)} {D_H} \\\\\n",
    "&\\times\\left[\\int dM \\frac{ d n } { d M } b_h(M,z) \\int_{\\lambda_{\\alpha,{\\rm min} }}^{\\lambda_{\\alpha,{\\rm max}}} d\\lambda\\ p(\\lambda\\mid M,z)\\right]\\\\\n",
    "&\\times\\left[\\int dM' \\frac{ d n } { d M' } b_h(M',z) \\int_{\\lambda_{\\beta,{\\rm min} }}^{\\lambda_{\\beta,{\\rm max}}} d\\lambda'\\ p(\\lambda'\\mid M',z)\\right]\\\\\n",
    "&\\times \\int \\frac{d^2 k_\\perp}{(2\\pi)^2} P_{\\rm lin}(k_\\perp, z) \\left[\\frac{ 2 J_1(k_\\perp \\chi(z) \\theta_s)}{k_\\perp \\chi(z) \\theta_s} \\right]^2\n",
    "\\end{align} $$\n",
    "see TakadaSpergel13 Eq (31) and Krause+17 Eq (A15) which I believe is missing $\\sigma$ since the units don't work\n",
    "\n",
    "- $\\theta_s=\\sqrt{\\Omega_s / \\pi}$ \n",
    "- $J_1$ is a bessel function\n",
    "- $\\chi(z)$ is computed as $$\\chi(z) = D_H\\int_0^z \\frac{dz'}{E(z')}$$"
   ]
  },
  {
   "cell_type": "code",
   "execution_count": 17,
   "id": "6e3e2562",
   "metadata": {},
   "outputs": [],
   "source": [
    "from scipy.integrate import quad, dblquad\n",
    "from scipy.special import jv\n",
    "\n",
    "from functools import cache\n",
    "\n",
    "θs = np.sqrt(Ωs_rad / np.pi)\n",
    "    \n",
    "\n"
   ]
  },
  {
   "cell_type": "code",
   "execution_count": 18,
   "id": "edbd74be",
   "metadata": {},
   "outputs": [
    {
     "name": "stdout",
     "output_type": "stream",
     "text": [
      "The file fiducial_cluster_abundance_covariance_1e9As_2p100000_ns_0p964900_H0_67p360000_w0_-1p000000_ombh2_0p022370_omch2_0p120000_nu_mass_ev_0p060000.pkl was last modified on: 2024-08-16 15:21:07\n"
     ]
    }
   ],
   "source": [
    "from datetime import datetime\n",
    "\n",
    "def get_file(file_path):\n",
    "    # Get the last modified time\n",
    "    last_modified_time = os.path.getmtime(file_path)\n",
    "    # Convert it to a human-readable format\n",
    "    human_readable_time = datetime.fromtimestamp(last_modified_time).strftime('%Y-%m-%d %H:%M:%S')\n",
    "    print(f\"The file {file_path} was last modified on: {human_readable_time}\")\n",
    "\n",
    "    with open(file_path, 'rb') as file:\n",
    "        return pickle.load(file)\n",
    "    \n",
    "    \n",
    "cluster_count_cov = get_file(oup_cov_fname)"
   ]
  },
  {
   "cell_type": "code",
   "execution_count": 19,
   "id": "6570a906",
   "metadata": {},
   "outputs": [],
   "source": [
    "# import pickle\n",
    "    \n",
    "# with open('cluster_abundance_fiducial_covariance.pkl', 'wb') as file:\n",
    "#         pickle.dump(cluster_count_cov, file)"
   ]
  },
  {
   "cell_type": "code",
   "execution_count": 20,
   "id": "25978d90",
   "metadata": {},
   "outputs": [],
   "source": [
    "n_z = len(z_bin_edges) - 1\n",
    "n_r = len(richness_bin_edges) - 1\n",
    "cov_matrix_2d = np.zeros((n_z * n_r, n_z * n_r))\n",
    "\n",
    "for i in range(n_z):\n",
    "    for j in range(n_z):\n",
    "        for a in range(n_r):\n",
    "            for b in range(n_r):\n",
    "                row_index = i * n_r + a\n",
    "                col_index = j * n_r + b\n",
    "                cov_matrix_2d[row_index, col_index] = cluster_count_cov[i, j, a, b]\n"
   ]
  },
  {
   "cell_type": "code",
   "execution_count": 21,
   "id": "c1bb9594",
   "metadata": {},
   "outputs": [],
   "source": [
    "plt.rcParams['text.usetex'] = True\n",
    "plt.rcParams['font.size'] = 11\n",
    "plt.rcParams['font.family'] = 'serif'\n"
   ]
  },
  {
   "cell_type": "code",
   "execution_count": 22,
   "id": "cb52f204",
   "metadata": {},
   "outputs": [],
   "source": [
    "import seaborn as sns"
   ]
  },
  {
   "cell_type": "code",
   "execution_count": null,
   "id": "b443fc26",
   "metadata": {},
   "outputs": [],
   "source": []
  },
  {
   "cell_type": "code",
   "execution_count": 23,
   "id": "d3d7c79e",
   "metadata": {},
   "outputs": [
    {
     "data": {
      "text/plain": [
       "array([0.        , 0.33333333, 0.66666667, 1.        , 1.33333333,\n",
       "       1.66666667, 2.        , 2.33333333, 2.66666667, 3.        ])"
      ]
     },
     "execution_count": 23,
     "metadata": {},
     "output_type": "execute_result"
    }
   ],
   "source": [
    "np.linspace(0, 3, 10)"
   ]
  },
  {
   "cell_type": "code",
   "execution_count": 30,
   "id": "05182016",
   "metadata": {},
   "outputs": [
    {
     "name": "stderr",
     "output_type": "stream",
     "text": [
      "/tmp/ipykernel_13893/1220257724.py:11: RuntimeWarning: divide by zero encountered in log10\n",
      "  plt.imshow(np.log10(cov_matrix_2d), cmap=ccmap, aspect=1)#, vmin=-1, vmax=4.5)\n"
     ]
    },
    {
     "data": {
      "image/png": "[encoded data removed]",
      "text/plain": [
       "<Figure size 432x432 with 2 Axes>"
      ]
     },
     "metadata": {
      "needs_background": "light"
     },
     "output_type": "display_data"
    }
   ],
   "source": [
    "import matplotlib.pyplot as plt\n",
    "plt.rcParams['text.usetex'] = True\n",
    "plt.rcParams['font.size'] = 11\n",
    "plt.rcParams['font.family'] = 'serif'\n",
    "\n",
    "plt.figure( figsize=(6,6))\n",
    "\n",
    "ccmap = sns.cubehelix_palette(as_cmap=True)\n",
    "ccmap = sns.cubehelix_palette(start=8/3, rot=5/9, as_cmap=True, light=0.95,)\n",
    "ccmap = 'viridis'\n",
    "plt.imshow(np.log10(cov_matrix_2d), cmap=ccmap, aspect=1)#, vmin=-1, vmax=4.5)\n",
    "plt.xticks([])\n",
    "plt.yticks([])\n",
    "plt.tick_params(\n",
    "    bottom=False,\n",
    "    top=True,\n",
    "labelbottom=False,\n",
    "labeltop=True)\n",
    "plt.gca().xaxis.set_ticks_position('none') \n",
    "plt.gca().yaxis.set_ticks_position('none') \n",
    "\n",
    "\n",
    "# Add ticks for the block divisions\n",
    "tick_positions_z = np.arange(n_r, n_r * n_z+1, n_r) - 2.5\n",
    "\n",
    "tick_z_labels = [r'$z^i:[%.1f, %.1f]$'%(a,b) for a,b in zip(z_bin_edges, z_bin_edges[1:])]\n",
    "plt.xticks(tick_positions_z, tick_z_labels, ha='center')\n",
    "\n",
    "tick_z_labels = [r'$z^j:[%.1f, %.1f]$'%(a,b) for a,b in zip(z_bin_edges, z_bin_edges[1:])]\n",
    "plt.yticks(tick_positions_z, tick_z_labels, rotation=90, va='center')\n",
    "\n",
    "lambda_labels = [r'$\\lambda_\\alpha:[%d, %d]$'%(a,b) for a,b in zip(richness_bin_edges, richness_bin_edges[1:])]\n",
    "lambda_labels_0 = [r'$\\lambda_\\beta:[%d, %d]$'%(a,b) for a,b in zip(richness_bin_edges, richness_bin_edges[1:])]\n",
    "\n",
    "lw=0.5\n",
    "for i,l in enumerate(lambda_labels):\n",
    "    plt.text(3.65 , i,\n",
    "            s=l,\n",
    "            horizontalalignment='left',\n",
    "            verticalalignment='center',)\n",
    "    plt.text(i , 3.65,\n",
    "            s=lambda_labels_0[i],\n",
    "            horizontalalignment='center',\n",
    "            verticalalignment='top',\n",
    "             rotation=90,)\n",
    "    plt.axvline(i+0.5, .5, .75, linewidth=lw, linestyle='-', color='k')\n",
    "    plt.axhline(i+0.5, 0.25, 0.5, linewidth=lw, linestyle='-', color='k')\n",
    "\n",
    "    for j in range(n_z):\n",
    "        plt.axvline(i+0.5+n_z*j, 0.75-0.25*j,1-0.25*j, linewidth=lw, linestyle='--', color='k')\n",
    "        plt.axhline(i+0.5+n_z*j, 0+0.25*j,0.25+0.25*j, linewidth=lw, linestyle='--', color='k')\n",
    "\n",
    "for a in tick_positions_z:\n",
    "    plt.axvline(a+2, color='black', linestyle='-', linewidth=lw)\n",
    "    plt.axhline(a+2, color='black', linestyle='-', linewidth=lw)\n",
    "plt.colorbar(fraction=0.0225)\n",
    "\n",
    "plt.title(r'$\\log_{10}{\\rm Cov}(N^i_{\\lambda_\\alpha} , N^j_{\\lambda_\\beta})$' + '\\n')\n",
    "plt.savefig('cluster_abundance_cov.pdf', dpi=600, bbox_inches = \"tight\")"
   ]
  }
 ],
 "metadata": {
  "kernelspec": {
   "display_name": "massfunction",
   "language": "python",
   "name": "massfunction"
  },
  "language_info": {
   "codemirror_mode": {
    "name": "ipython",
    "version": 3
   },
   "file_extension": ".py",
   "mimetype": "text/x-python",
   "name": "python",
   "nbconvert_exporter": "python",
   "pygments_lexer": "ipython3",
   "version": "3.9.16"
  }
 },
 "nbformat": 4,
 "nbformat_minor": 5
}
