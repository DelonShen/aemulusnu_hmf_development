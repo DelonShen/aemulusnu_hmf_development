{
 "cells": [
  {
   "cell_type": "code",
   "execution_count": 1,
   "id": "aecabedb",
   "metadata": {},
   "outputs": [],
   "source": [
    "import numpy as np\n",
    "from scipy.stats import binned_statistic\n",
    "from tqdm import tqdm, trange\n",
    "import matplotlib.pyplot as plt\n",
    "import os\n",
    "import sys"
   ]
  },
  {
   "cell_type": "code",
   "execution_count": 2,
   "id": "16026426",
   "metadata": {},
   "outputs": [],
   "source": [
    "# box = sys.argv[1]\n",
    "box = 'Box_n50_0_1400'\n",
    "# box = 'Box0_1400'\n",
    "curr_run_fname = '/oak/stanford/orgs/kipac/aemulus/aemulus_nu/%s/'%(box)\n",
    "rockstar_dir = curr_run_fname+'output/rockstar/'\n",
    "\n",
    "f = open(rockstar_dir+'savelist.txt', 'r')\n",
    "savelist = f.read().split()\n",
    "f.close()\n",
    "\n",
    "N_snapshots = len(savelist)"
   ]
  },
  {
   "cell_type": "code",
   "execution_count": 3,
   "id": "b2798f83",
   "metadata": {},
   "outputs": [
    {
     "name": "stdout",
     "output_type": "stream",
     "text": [
      "16\n"
     ]
    }
   ],
   "source": [
    "print(N_snapshots)"
   ]
  },
  {
   "cell_type": "code",
   "execution_count": 14,
   "id": "ae406456",
   "metadata": {},
   "outputs": [
    {
     "name": "stderr",
     "output_type": "stream",
     "text": [
      "1it [00:00,  1.08it/s]"
     ]
    },
    {
     "name": "stdout",
     "output_type": "stream",
     "text": [
      "2948336\n",
      "24436\n",
      "12.870563078396083 13.841140390612114\n",
      "11702.0\n"
     ]
    },
    {
     "name": "stderr",
     "output_type": "stream",
     "text": [
      "\r",
      "2it [00:02,  1.30s/it]"
     ]
    },
    {
     "name": "stdout",
     "output_type": "stream",
     "text": [
      "5062035\n",
      "94907\n",
      "12.870563078396083 14.214075208502809\n",
      "54152.0\n"
     ]
    },
    {
     "name": "stderr",
     "output_type": "stream",
     "text": [
      "\r",
      "3it [00:04,  1.72s/it]"
     ]
    },
    {
     "name": "stdout",
     "output_type": "stream",
     "text": [
      "7044910\n",
      "236747\n",
      "12.870563078396083 14.57022761169757\n",
      "149407.0\n"
     ]
    },
    {
     "name": "stderr",
     "output_type": "stream",
     "text": [
      "\r",
      "4it [00:07,  2.01s/it]"
     ]
    },
    {
     "name": "stdout",
     "output_type": "stream",
     "text": [
      "7844583\n",
      "329177\n",
      "12.870563078396083 14.657314056945244\n",
      "216160.0\n"
     ]
    },
    {
     "name": "stderr",
     "output_type": "stream",
     "text": [
      "\r",
      "5it [00:09,  2.29s/it]"
     ]
    },
    {
     "name": "stdout",
     "output_type": "stream",
     "text": [
      "8961173\n",
      "527157\n",
      "12.870563078396083 14.910592391831072\n",
      "370807.0\n"
     ]
    },
    {
     "name": "stderr",
     "output_type": "stream",
     "text": [
      "\r",
      "6it [00:12,  2.48s/it]"
     ]
    },
    {
     "name": "stdout",
     "output_type": "stream",
     "text": [
      "9141194\n",
      "575116\n",
      "12.870563078396083 14.939619078956698\n",
      "410565.0\n"
     ]
    },
    {
     "name": "stderr",
     "output_type": "stream",
     "text": [
      "\r",
      "7it [00:15,  2.61s/it]"
     ]
    },
    {
     "name": "stdout",
     "output_type": "stream",
     "text": [
      "9287469\n",
      "620788\n",
      "12.870563078396083 14.97744922738234\n",
      "449304.0\n"
     ]
    },
    {
     "name": "stderr",
     "output_type": "stream",
     "text": [
      "\r",
      "8it [00:18,  2.71s/it]"
     ]
    },
    {
     "name": "stdout",
     "output_type": "stream",
     "text": [
      "9400575\n",
      "664463\n",
      "12.870563078396083 15.033303101372574\n",
      "487976.0\n"
     ]
    },
    {
     "name": "stderr",
     "output_type": "stream",
     "text": [
      "\r",
      "9it [00:21,  2.79s/it]"
     ]
    },
    {
     "name": "stdout",
     "output_type": "stream",
     "text": [
      "9485078\n",
      "704966\n",
      "12.870563078396083 15.08639542712425\n",
      "525585.0\n"
     ]
    },
    {
     "name": "stderr",
     "output_type": "stream",
     "text": [
      "\r",
      "10it [00:24,  2.85s/it]"
     ]
    },
    {
     "name": "stdout",
     "output_type": "stream",
     "text": [
      "9543245\n",
      "743066\n",
      "12.870563078396083 15.133443097549097\n",
      "561309.0\n"
     ]
    },
    {
     "name": "stderr",
     "output_type": "stream",
     "text": [
      "\r",
      "11it [00:27,  2.90s/it]"
     ]
    },
    {
     "name": "stdout",
     "output_type": "stream",
     "text": [
      "9581445\n",
      "777675\n",
      "12.870563078396083 15.184379080658596\n",
      "595754.0\n"
     ]
    },
    {
     "name": "stderr",
     "output_type": "stream",
     "text": [
      "\r",
      "12it [00:30,  2.94s/it]"
     ]
    },
    {
     "name": "stdout",
     "output_type": "stream",
     "text": [
      "9598031\n",
      "837544\n",
      "12.870563078396083 15.394819274573399\n",
      "658534.0\n"
     ]
    },
    {
     "name": "stderr",
     "output_type": "stream",
     "text": [
      "\r",
      "13it [00:33,  2.96s/it]"
     ]
    },
    {
     "name": "stdout",
     "output_type": "stream",
     "text": [
      "9560827\n",
      "886068\n",
      "12.870563078396083 15.494850021680094\n",
      "713925.0\n"
     ]
    },
    {
     "name": "stderr",
     "output_type": "stream",
     "text": [
      "\r",
      "14it [00:36,  2.97s/it]"
     ]
    },
    {
     "name": "stdout",
     "output_type": "stream",
     "text": [
      "9488332\n",
      "924122\n",
      "12.870563078396083 15.616937395330238\n",
      "761773.0\n"
     ]
    },
    {
     "name": "stderr",
     "output_type": "stream",
     "text": [
      "\r",
      "15it [00:39,  2.98s/it]"
     ]
    },
    {
     "name": "stdout",
     "output_type": "stream",
     "text": [
      "9398656\n",
      "953199\n",
      "12.870563078396083 15.673822367153049\n",
      "802200.0\n"
     ]
    },
    {
     "name": "stderr",
     "output_type": "stream",
     "text": [
      "16it [00:42,  2.66s/it]"
     ]
    },
    {
     "name": "stdout",
     "output_type": "stream",
     "text": [
      "9347294\n",
      "965200\n",
      "12.870563078396083 15.70123112512726\n",
      "820384.0\n"
     ]
    },
    {
     "name": "stderr",
     "output_type": "stream",
     "text": [
      "\n"
     ]
    }
   ],
   "source": [
    "i=0\n",
    "\n",
    "import pickle\n",
    "\n",
    "NvMs = {}\n",
    "f = open('/oak/stanford/orgs/kipac/users/delon/aemulusnu_massfunction/'+box+'_M200b', 'r')\n",
    "Np_fname = \"/oak/stanford/orgs/kipac/users/delon/aemulusnu_massfunction/\" + box + \"_Np\";\n",
    "f2 = open(Np_fname, 'r')\n",
    "TMP=0\n",
    "gt200idxs = {}\n",
    "for line in tqdm(f):\n",
    "    line2 = f2.readline()\n",
    "#     fig, ax = plt.subplots(nrows=1, ncols=1, figsize=(13,8))\n",
    "\n",
    "    #extract the masses and position of halos for a given snapshot \n",
    "    snapshot_mass = line.strip().split()\n",
    "    snapshot_mass = np.array(snapshot_mass, dtype=np.float64)  \n",
    "    snapshot_Np = line2.strip().split()\n",
    "    snapshot_Np = np.array(snapshot_Np, dtype=np.float64)  \n",
    "    assert(len(snapshot_mass)==len(snapshot_Np))\n",
    "    gt200Np = np.where(snapshot_Np >= 200)\n",
    "    print(len(snapshot_mass))\n",
    "    snapshot_mass = snapshot_mass[gt200Np]\n",
    "    print(len(snapshot_mass))\n",
    "\n",
    "    \n",
    "    #get the volume, redshift, and particle mass in the simulation\n",
    "    vol = -1\n",
    "    BOX_SIZE = -1\n",
    "    a = -1\n",
    "    Mpart = -1\n",
    "    \n",
    "    f_meta = open(rockstar_dir+'out_%d.list'%(i), 'r')\n",
    "\n",
    "    for meta_data in f_meta:\n",
    "        if('#a' in meta_data):\n",
    "            a = eval(meta_data.split()[2])\n",
    "        if('Particle mass' in meta_data):\n",
    "            Mpart = eval(meta_data.split()[2])\n",
    "        if('Box size' in meta_data):\n",
    "            vol = eval(meta_data.split()[2])**3\n",
    "            BOX_SIZE = eval(meta_data.split()[2])\n",
    "            break            \n",
    "    \n",
    "    gt200idxs[a] = gt200Np\n",
    "\n",
    "    nBins = 16\n",
    "    \n",
    "    #we'll only consider halos with more than 200 particles\n",
    "    print(np.log10(200*Mpart), np.log10(np.max(snapshot_mass)))\n",
    "    edges_log10 = np.arange(np.log10(200*Mpart), 1+np.log10(np.max(snapshot_mass)), 0.1)\n",
    "    edges = np.array([10**el10 for el10 in edges_log10])\n",
    "\n",
    "    #get the number count of halos in the mass bins\n",
    "    N, bin_edge, bin_idx = binned_statistic(snapshot_mass, np.ones_like(snapshot_mass), \n",
    "                                            statistic='count', bins=edges)\n",
    "    print(sum(N))\n",
    "    c_i = len(N)-1\n",
    "    while(N[c_i] == 0):\n",
    "        N = N[:c_i]\n",
    "        bin_edge = bin_edge[:(c_i+1)]\n",
    "        c_i -= 1\n",
    "#         print('---')\n",
    "#         print(N)\n",
    "#         print(bin_edge)\n",
    "#         print('---')\n",
    "\n",
    "        \n",
    "    #make large mass bin have at least 20 halos\n",
    "    while(N[c_i] < 20):\n",
    "        N[c_i-1] += N[c_i]\n",
    "        halos_here = np.where(bin_idx==c_i+1)\n",
    "        bin_idx[halos_here] = c_i\n",
    "        N = N[:c_i]\n",
    "        bin_edge = np.delete(bin_edge,c_i)\n",
    "        c_i -= 1\n",
    "#         print('---')\n",
    "#         print(N)\n",
    "#         print(bin_edge)\n",
    "#         print('---')\n",
    "\n",
    "        \n",
    "    M_means = []\n",
    "    correction = np.zeros_like(N)\n",
    "    \n",
    "    for j in range(len(N)):\n",
    "        this_bin = np.where(bin_idx == j+1)\n",
    "        M_means += [np.mean(snapshot_mass[this_bin])]\n",
    "#         print(N[j], len(snapshot_mass[this_bin]))\n",
    "        assert(len(snapshot_mass[this_bin]) == N[j])\n",
    "            \n",
    "    edge_pairs = [[bin_edge[i], bin_edge[i+1]] for i in range(len(bin_edge)-1)]\n",
    "    assert(len(edge_pairs) == len(N))\n",
    "#     ax.bar(x=bin_edge[:-1], height=N, width=np.diff(bin_edge), align='edge', fill=False, label=r'$a=%.2f$'%(a))\n",
    "\n",
    "#     ax.set_title(curr_run_fname.split('/')[-2])\n",
    "#     ax.set_xscale('log')\n",
    "#     ax.set_yscale('log')\n",
    "#     ax.set_xlabel(r'Mass $[h^{-1}M_\\odot]$')\n",
    "#     ax.set_ylabel(r'$N$')\n",
    "#     ax.legend(frameon=False)\n",
    "\n",
    "#     plt.savefig('/oak/stanford/orgs/kipac/users/delon/aemulusnu_massfunction/figures/'+curr_run_fname.split('/')[-2]+'_NvsM_a%.1f.pdf'%(a), bbox_inches='tight')\n",
    "\n",
    "    i+=1\n",
    "    assert(len(edge_pairs) == len(N))\n",
    "    NvMs[a] = {'M':M_means, \n",
    "               'N':N, \n",
    "               'vol':vol, \n",
    "               'Mpart':Mpart, \n",
    "               'edge_pairs':edge_pairs,\n",
    "               'bin_idx':bin_idx,\n",
    "               'corrections':correction}\n",
    "f.close()"
   ]
  },
  {
   "cell_type": "code",
   "execution_count": 11,
   "id": "52adfe64",
   "metadata": {},
   "outputs": [],
   "source": [
    "NvM_fname = '/oak/stanford/orgs/kipac/users/delon/aemulusnu_massfunction/'+curr_run_fname.split('/')[-2]+'_NvsM.pkl'\n",
    "NvM_f = open(NvM_fname, 'wb')\n",
    "pickle.dump(NvMs, NvM_f)\n",
    "NvM_f.close()"
   ]
  },
  {
   "cell_type": "code",
   "execution_count": 12,
   "id": "0282c3d0",
   "metadata": {},
   "outputs": [
    {
     "name": "stderr",
     "output_type": "stream",
     "text": [
      "100%|██████████| 16/16 [03:40<00:00, 13.76s/it]\n"
     ]
    }
   ],
   "source": [
    "jackknife = {}\n",
    "f_pos = open('/oak/stanford/orgs/kipac/users/delon/aemulusnu_massfunction/'+box+'_pos', 'r')\n",
    "for a in tqdm(NvMs):\n",
    "    snapshot_pos  = f_pos.readline().strip().split(',')\n",
    "    snapshot_pos  = [np.array(pos.split(), dtype=np.float32) for pos in snapshot_pos if pos != '']\n",
    "    snapshot_pos  = np.array(snapshot_pos)\n",
    "    \n",
    "    gt200Np = gt200idxs[a]\n",
    "    N = NvMs[a]['N']\n",
    "    vol = NvMs[a]['vol']\n",
    "    bin_idx = NvMs[a]['bin_idx']\n",
    "    correction = NvMs[a]['corrections']\n",
    "    snapshot_pos  = snapshot_pos[gt200Np]\n",
    "    assert(len(bin_idx) == len(snapshot_pos))\n",
    "    #now lets get to spatial jackknife\n",
    "    N_DIVS = 4 #each axis is diided into N_DIVS parts so in total the box\n",
    "               #is divided into N_DIVS**3 boxes\n",
    "\n",
    "    #compute the size of each smaller cube\n",
    "    ϵ = vol*10**(-6)\n",
    "    cube_vol = (vol+ε) / N_DIVS**3 #need ϵ to properly handle halos directly on boundary \n",
    "    cube_size = np.cbrt(cube_vol)\n",
    "    rescale_factor = N_DIVS**3/(N_DIVS**3-1)\n",
    "\n",
    "    #compute the indices of the smaller cube that each point belongs to\n",
    "    cube_indices = (snapshot_pos / cube_size).astype(int)\n",
    "\n",
    "    #cube_indices has assignment of halo to 3d position of a voxel\n",
    "    #ravel_multi_index indexes the voxels in 3D with a single integer\n",
    "    cube_assignment = np.ravel_multi_index(cube_indices.T, (N_DIVS, N_DIVS, N_DIVS), order='F')\n",
    "\n",
    "    jackknife_data = []\n",
    "\n",
    "    for i in range(N_DIVS**3):\n",
    "        current_cube = np.where(cube_assignment == i)\n",
    "        curr_N = np.zeros_like(N)\n",
    "        for halo in bin_idx[current_cube]:\n",
    "            #bin_idx=1 corresponds to first bin \n",
    "            #bin_idx-1 = idx of bin\n",
    "            if(halo==0):\n",
    "                continue\n",
    "            curr_N[halo-1] += 1\n",
    "        #get the histogram if we left out this sub-cube\n",
    "        jackknife_data += [[a-b for (a,b) in zip(N, curr_N)]]\n",
    "\n",
    "    jackknife_mean = np.mean(jackknife_data, axis=0)\n",
    "\n",
    "    jackknife_data = np.array(jackknife_data) - jackknife_mean\n",
    "    jackknife_data *= rescale_factor\n",
    "    jackknife_covariance = np.cov(jackknife_data.T)\n",
    "    \n",
    "    jackknife[a] = [jackknife_data, jackknife_covariance]\n",
    "f_pos.close()"
   ]
  },
  {
   "cell_type": "code",
   "execution_count": 13,
   "id": "23801149",
   "metadata": {},
   "outputs": [],
   "source": [
    "jackknife_covs_fname = '/oak/stanford/orgs/kipac/users/delon/aemulusnu_massfunction/'+curr_run_fname.split('/')[-2]+'_jackknife_covs.pkl'\n",
    "jackknife_covs_f = open(jackknife_covs_fname, 'wb')\n",
    "pickle.dump(jackknife, jackknife_covs_f)\n",
    "jackknife_covs_f.close()"
   ]
  },
  {
   "cell_type": "code",
   "execution_count": null,
   "id": "0627e24b",
   "metadata": {},
   "outputs": [],
   "source": []
  }
 ],
 "metadata": {
  "kernelspec": {
   "display_name": "massfunction",
   "language": "python",
   "name": "massfunction"
  },
  "language_info": {
   "codemirror_mode": {
    "name": "ipython",
    "version": 3
   },
   "file_extension": ".py",
   "mimetype": "text/x-python",
   "name": "python",
   "nbconvert_exporter": "python",
   "pygments_lexer": "ipython3",
   "version": "3.9.16"
  }
 },
 "nbformat": 4,
 "nbformat_minor": 5
}
