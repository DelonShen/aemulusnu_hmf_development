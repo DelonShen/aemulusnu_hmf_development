{
 "cells": [
  {
   "cell_type": "code",
   "execution_count": null,
   "id": "04b20e3c",
   "metadata": {},
   "outputs": [],
   "source": [
    "jackknife = {}\n",
    "f_pos = open('/oak/stanford/orgs/kipac/users/delon/aemulusnu_massfunction/'+box+'_pos', 'r')\n",
    "for a in tqdm(NvMs):\n",
    "    \n",
    "#     gt200Np = gt200idxs[a]\n",
    "    N = NvMs[a]['N']\n",
    "    vol = NvMs[a]['vol']\n",
    "    bin_idx = NvMs[a]['bin_idx']\n",
    "    correction = NvMs[a]['corrections']\n",
    "#     snapshot_pos  = snapshot_pos[gt200Np]\n",
    "    assert(len(bin_idx) == len(snapshot_pos))\n",
    "    #now lets get to spatial jackknife\n",
    "    N_DIVS = 4 #each axis is diided into N_DIVS parts so in total the box\n",
    "               #is divided into N_DIVS**3 boxes\n",
    "\n",
    "    #compute the size of each smaller cube\n",
    "    ϵ = vol*10**(-6)\n",
    "    cube_vol = (vol+ε) / N_DIVS**3 #need ϵ to properly handle halos directly on boundary \n",
    "    cube_size = np.cbrt(cube_vol)\n",
    "    rescale_factor = N_DIVS**3/(N_DIVS**3-1)\n",
    "\n",
    "    #compute the indices of the smaller cube that each point belongs to\n",
    "    cube_indices = (snapshot_pos / cube_size).astype(int)\n",
    "\n",
    "    #cube_indices has assignment of halo to 3d position of a voxel\n",
    "    #ravel_multi_index indexes the voxels in 3D with a single integer\n",
    "    cube_assignment = np.ravel_multi_index(cube_indices.T, (N_DIVS, N_DIVS, N_DIVS), order='F')\n",
    "\n",
    "    jackknife_data = []\n",
    "\n",
    "    for i in range(N_DIVS**3):\n",
    "        current_cube = np.where(cube_assignment == i)\n",
    "        curr_N = np.zeros_like(N)\n",
    "        for halo in bin_idx[current_cube]:\n",
    "            #bin_idx=1 corresponds to first bin \n",
    "            #bin_idx-1 = idx of bin\n",
    "            if(halo==0):\n",
    "                continue\n",
    "            curr_N[halo-1] += 1\n",
    "        #get the histogram if we left out this sub-cube\n",
    "        jackknife_data += [[a-b for (a,b) in zip(N, curr_N)]]\n",
    "\n",
    "    jackknife_mean = np.mean(jackknife_data, axis=0)\n",
    "\n",
    "    jackknife_data = np.array(jackknife_data) - jackknife_mean\n",
    "    jackknife_data *= rescale_factor\n",
    "    jackknife_covariance = np.cov(jackknife_data.T)\n",
    "    \n",
    "    jackknife[a] = [jackknife_data, jackknife_covariance]\n",
    "f_pos.close()\n"
   ]
  }
 ],
 "metadata": {
  "kernelspec": {
   "display_name": "massfunction",
   "language": "python",
   "name": "massfunction"
  },
  "language_info": {
   "codemirror_mode": {
    "name": "ipython",
    "version": 3
   },
   "file_extension": ".py",
   "mimetype": "text/x-python",
   "name": "python",
   "nbconvert_exporter": "python",
   "pygments_lexer": "ipython3",
   "version": "3.9.16"
  }
 },
 "nbformat": 4,
 "nbformat_minor": 5
}
