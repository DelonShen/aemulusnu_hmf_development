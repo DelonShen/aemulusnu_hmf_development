{
 "cells": [
  {
   "cell_type": "code",
   "execution_count": 1,
   "id": "eabe9e4a",
   "metadata": {},
   "outputs": [
    {
     "name": "stdout",
     "output_type": "stream",
     "text": [
      "Creating dndM interpolation\n"
     ]
    },
    {
     "name": "stderr",
     "output_type": "stream",
     "text": [
      "100%|██████████| 25/25 [01:54<00:00,  4.58s/it]\n"
     ]
    }
   ],
   "source": [
    "from emulator import *\n",
    "from fisher_utils import *"
   ]
  },
  {
   "cell_type": "code",
   "execution_count": 2,
   "id": "4406aeff",
   "metadata": {},
   "outputs": [
    {
     "data": {
      "text/plain": [
       "array([[2.32777096e-13]])"
      ]
     },
     "execution_count": 2,
     "metadata": {},
     "output_type": "execute_result"
    }
   ],
   "source": [
    "fiducial_dndM(1, 3)"
   ]
  },
  {
   "cell_type": "code",
   "execution_count": 52,
   "id": "c65fa6e7",
   "metadata": {},
   "outputs": [],
   "source": [
    "z_bin_edges = [0.2, 0.4, 0.6, 0.8, 1.0]\n",
    "richness_bin_edges = [20., 30., 45., 60., 300.]"
   ]
  },
  {
   "cell_type": "code",
   "execution_count": 4,
   "id": "c289f04a",
   "metadata": {},
   "outputs": [
    {
     "name": "stderr",
     "output_type": "stream",
     "text": [
      "100%|██████████| 4/4 [01:09<00:00, 17.43s/it]\n"
     ]
    }
   ],
   "source": [
    "N_fiducial = N_in_z_bins_and_richness_bins(fiducial_cosmology, richness_bin_edges, z_bin_edges)"
   ]
  },
  {
   "cell_type": "code",
   "execution_count": 5,
   "id": "63ce556a",
   "metadata": {},
   "outputs": [],
   "source": [
    "cluster_count_cov = np.zeros((len(z_bin_edges) - 1, len(z_bin_edges) - 1, len(richness_bin_edges) - 1, len(richness_bin_edges) - 1))\n"
   ]
  },
  {
   "cell_type": "code",
   "execution_count": 6,
   "id": "21098980",
   "metadata": {},
   "outputs": [],
   "source": [
    "halo_bias = ccl.halos.HaloBiasTinker10(fiducial_ccl_cosmo)"
   ]
  },
  {
   "cell_type": "code",
   "execution_count": 7,
   "id": "a78cd97e",
   "metadata": {},
   "outputs": [
    {
     "data": {
      "text/plain": [
       "1.5599995119337984"
      ]
     },
     "execution_count": 7,
     "metadata": {},
     "output_type": "execute_result"
    }
   ],
   "source": [
    "fiducial_h = fiducial_cosmology['H0']/100\n",
    "halo_bias.get_halo_bias(fiducial_ccl_cosmo, 1e14 *  fiducial_h, 1) #[Mass] is Msun / h"
   ]
  },
  {
   "cell_type": "code",
   "execution_count": 75,
   "id": "98fb437b",
   "metadata": {},
   "outputs": [],
   "source": [
    "from scipy.integrate import quad, dblquad\n",
    "\n",
    "def inner_integral(lam, M, z_val):\n",
    "    p = cluster_richness_relation(M, lam, z_val)\n",
    "    dn_dM = fiducial_dndM(z_val, M)\n",
    "    bh = halo_bias.get_halo_bias(fiducial_ccl_cosmo, M * fiducial_h, 1./(1+z_val))\n",
    "    return p * dn_dM  * bh\n",
    "\n",
    "def outer_integral(z_val, lam_alpha_min, lam_alpha_max, lam_beta_min, lam_beta_max):\n",
    "    integral_M_val, _ = dblquad(inner_integral, M_min, M_max, lam_alpha_min, lam_alpha_max,\n",
    "                             args=(z_val,), \n",
    "                             epsrel=1e-4, epsabs=0)\n",
    "    \n",
    "    integral_M_prime_val, _ = dblquad(inner_integral, M_min, M_max, lam_beta_min, lam_beta_max,\n",
    "                             args=(z_val,), \n",
    "                             epsrel=1e-4, epsabs=0)\n",
    "    \n",
    "    return Ωs_rad**2 * integral_M_val * integral_M_prime_val * comoving_volume_elements(z_val, tuple(fiducial_cosmo_vals))\n",
    "\n",
    "\n",
    "\n",
    "\n",
    "\n"
   ]
  },
  {
   "cell_type": "code",
   "execution_count": 76,
   "id": "f6ae5373",
   "metadata": {},
   "outputs": [
    {
     "name": "stderr",
     "output_type": "stream",
     "text": [
      "100%|██████████| 256/256 [20:55<00:00,  4.90s/it] \n"
     ]
    }
   ],
   "source": [
    "all_bin_combos = [[i,j,a,b] for i in range(len(z_bin_edges) - 1) \n",
    " for j in range(len(z_bin_edges) - 1) \n",
    " for a in range(len(richness_bin_edges) - 1)\n",
    "for b in range(len(richness_bin_edges) - 1)]\n",
    "\n",
    "\n",
    "for i,j,a,b in tqdm(all_bin_combos):\n",
    "    zi_min = z_bin_edges[i]\n",
    "    zi_max = z_bin_edges[i + 1]\n",
    "    zj_min = z_bin_edges[j]\n",
    "    zj_max = z_bin_edges[j + 1]\n",
    "    #from Eq(6) of Krause+17, it seems like supersample variance only\n",
    "    #when the redshift bins overlap. so we can ignore when\n",
    "    #zi != zj\n",
    "    if(i != j):\n",
    "        continue\n",
    "    la_min = richness_bin_edges[a]\n",
    "    la_max = richness_bin_edges[a + 1]\n",
    "    lb_min = richness_bin_edges[b]\n",
    "    lb_max = richness_bin_edges[b + 1]\n",
    "    result, error = quad(outer_integral, \n",
    "                         zi_min, zi_max, \n",
    "                         args=(la_min, la_max, \n",
    "                               lb_min, lb_max),\n",
    "                        epsrel=1e-4, epsabs=0)\n",
    "    cluster_count_cov[i,j,a,b] = result \n",
    "    if(i == j and a == b): #shot noise\n",
    "        cluster_count_cov[i,j,a,b] +=  N_fiducial[i][a]\n"
   ]
  },
  {
   "cell_type": "code",
   "execution_count": 77,
   "id": "59e1fff0",
   "metadata": {},
   "outputs": [
    {
     "data": {
      "text/plain": [
       "array([[[[1.15773242e+04, 1.32402010e+00, 6.06884350e-01,\n",
       "          9.95395982e-01],\n",
       "         [1.32402010e+00, 6.30451923e+03, 3.84388934e-01,\n",
       "          6.30862346e-01],\n",
       "         [6.06884350e-01, 3.84388934e-01, 2.51646600e+03,\n",
       "          2.89521701e-01],\n",
       "         [9.95395982e-01, 6.30862346e-01, 2.89521701e-01,\n",
       "          3.24320810e+03]],\n",
       "\n",
       "        [[0.00000000e+00, 0.00000000e+00, 0.00000000e+00,\n",
       "          0.00000000e+00],\n",
       "         [0.00000000e+00, 0.00000000e+00, 0.00000000e+00,\n",
       "          0.00000000e+00],\n",
       "         [0.00000000e+00, 0.00000000e+00, 0.00000000e+00,\n",
       "          0.00000000e+00],\n",
       "         [0.00000000e+00, 0.00000000e+00, 0.00000000e+00,\n",
       "          0.00000000e+00]],\n",
       "\n",
       "        [[0.00000000e+00, 0.00000000e+00, 0.00000000e+00,\n",
       "          0.00000000e+00],\n",
       "         [0.00000000e+00, 0.00000000e+00, 0.00000000e+00,\n",
       "          0.00000000e+00],\n",
       "         [0.00000000e+00, 0.00000000e+00, 0.00000000e+00,\n",
       "          0.00000000e+00],\n",
       "         [0.00000000e+00, 0.00000000e+00, 0.00000000e+00,\n",
       "          0.00000000e+00]],\n",
       "\n",
       "        [[0.00000000e+00, 0.00000000e+00, 0.00000000e+00,\n",
       "          0.00000000e+00],\n",
       "         [0.00000000e+00, 0.00000000e+00, 0.00000000e+00,\n",
       "          0.00000000e+00],\n",
       "         [0.00000000e+00, 0.00000000e+00, 0.00000000e+00,\n",
       "          0.00000000e+00],\n",
       "         [0.00000000e+00, 0.00000000e+00, 0.00000000e+00,\n",
       "          0.00000000e+00]]],\n",
       "\n",
       "\n",
       "       [[[0.00000000e+00, 0.00000000e+00, 0.00000000e+00,\n",
       "          0.00000000e+00],\n",
       "         [0.00000000e+00, 0.00000000e+00, 0.00000000e+00,\n",
       "          0.00000000e+00],\n",
       "         [0.00000000e+00, 0.00000000e+00, 0.00000000e+00,\n",
       "          0.00000000e+00],\n",
       "         [0.00000000e+00, 0.00000000e+00, 0.00000000e+00,\n",
       "          0.00000000e+00]],\n",
       "\n",
       "        [[1.86850640e+04, 2.11719470e+00, 9.12020351e-01,\n",
       "          1.29710656e+00],\n",
       "         [2.11719470e+00, 9.57468454e+03, 5.45574116e-01,\n",
       "          7.76576423e-01],\n",
       "         [9.12020351e-01, 5.45574116e-01, 3.58458964e+03,\n",
       "          3.35085216e-01],\n",
       "         [1.29710656e+00, 7.76576423e-01, 3.35085216e-01,\n",
       "          4.06476483e+03]],\n",
       "\n",
       "        [[0.00000000e+00, 0.00000000e+00, 0.00000000e+00,\n",
       "          0.00000000e+00],\n",
       "         [0.00000000e+00, 0.00000000e+00, 0.00000000e+00,\n",
       "          0.00000000e+00],\n",
       "         [0.00000000e+00, 0.00000000e+00, 0.00000000e+00,\n",
       "          0.00000000e+00],\n",
       "         [0.00000000e+00, 0.00000000e+00, 0.00000000e+00,\n",
       "          0.00000000e+00]],\n",
       "\n",
       "        [[0.00000000e+00, 0.00000000e+00, 0.00000000e+00,\n",
       "          0.00000000e+00],\n",
       "         [0.00000000e+00, 0.00000000e+00, 0.00000000e+00,\n",
       "          0.00000000e+00],\n",
       "         [0.00000000e+00, 0.00000000e+00, 0.00000000e+00,\n",
       "          0.00000000e+00],\n",
       "         [0.00000000e+00, 0.00000000e+00, 0.00000000e+00,\n",
       "          0.00000000e+00]]],\n",
       "\n",
       "\n",
       "       [[[0.00000000e+00, 0.00000000e+00, 0.00000000e+00,\n",
       "          0.00000000e+00],\n",
       "         [0.00000000e+00, 0.00000000e+00, 0.00000000e+00,\n",
       "          0.00000000e+00],\n",
       "         [0.00000000e+00, 0.00000000e+00, 0.00000000e+00,\n",
       "          0.00000000e+00],\n",
       "         [0.00000000e+00, 0.00000000e+00, 0.00000000e+00,\n",
       "          0.00000000e+00]],\n",
       "\n",
       "        [[0.00000000e+00, 0.00000000e+00, 0.00000000e+00,\n",
       "          0.00000000e+00],\n",
       "         [0.00000000e+00, 0.00000000e+00, 0.00000000e+00,\n",
       "          0.00000000e+00],\n",
       "         [0.00000000e+00, 0.00000000e+00, 0.00000000e+00,\n",
       "          0.00000000e+00],\n",
       "         [0.00000000e+00, 0.00000000e+00, 0.00000000e+00,\n",
       "          0.00000000e+00]],\n",
       "\n",
       "        [[2.03550644e+04, 2.14549062e+00, 8.59097515e-01,\n",
       "          1.05129352e+00],\n",
       "         [2.14549062e+00, 9.72024806e+03, 4.79828379e-01,\n",
       "          5.87743525e-01],\n",
       "         [8.59097515e-01, 4.79828379e-01, 3.38066342e+03,\n",
       "          2.35824260e-01],\n",
       "         [1.05129352e+00, 5.87743525e-01, 2.35824260e-01,\n",
       "          3.34982104e+03]],\n",
       "\n",
       "        [[0.00000000e+00, 0.00000000e+00, 0.00000000e+00,\n",
       "          0.00000000e+00],\n",
       "         [0.00000000e+00, 0.00000000e+00, 0.00000000e+00,\n",
       "          0.00000000e+00],\n",
       "         [0.00000000e+00, 0.00000000e+00, 0.00000000e+00,\n",
       "          0.00000000e+00],\n",
       "         [0.00000000e+00, 0.00000000e+00, 0.00000000e+00,\n",
       "          0.00000000e+00]]],\n",
       "\n",
       "\n",
       "       [[[0.00000000e+00, 0.00000000e+00, 0.00000000e+00,\n",
       "          0.00000000e+00],\n",
       "         [0.00000000e+00, 0.00000000e+00, 0.00000000e+00,\n",
       "          0.00000000e+00],\n",
       "         [0.00000000e+00, 0.00000000e+00, 0.00000000e+00,\n",
       "          0.00000000e+00],\n",
       "         [0.00000000e+00, 0.00000000e+00, 0.00000000e+00,\n",
       "          0.00000000e+00]],\n",
       "\n",
       "        [[0.00000000e+00, 0.00000000e+00, 0.00000000e+00,\n",
       "          0.00000000e+00],\n",
       "         [0.00000000e+00, 0.00000000e+00, 0.00000000e+00,\n",
       "          0.00000000e+00],\n",
       "         [0.00000000e+00, 0.00000000e+00, 0.00000000e+00,\n",
       "          0.00000000e+00],\n",
       "         [0.00000000e+00, 0.00000000e+00, 0.00000000e+00,\n",
       "          0.00000000e+00]],\n",
       "\n",
       "        [[0.00000000e+00, 0.00000000e+00, 0.00000000e+00,\n",
       "          0.00000000e+00],\n",
       "         [0.00000000e+00, 0.00000000e+00, 0.00000000e+00,\n",
       "          0.00000000e+00],\n",
       "         [0.00000000e+00, 0.00000000e+00, 0.00000000e+00,\n",
       "          0.00000000e+00],\n",
       "         [0.00000000e+00, 0.00000000e+00, 0.00000000e+00,\n",
       "          0.00000000e+00]],\n",
       "\n",
       "        [[1.78379455e+04, 1.62603463e+00, 5.99914978e-01,\n",
       "          6.30576893e-01],\n",
       "         [1.62603463e+00, 7.87496616e+03, 3.09866787e-01,\n",
       "          3.26047630e-01],\n",
       "         [5.99914978e-01, 3.09866787e-01, 2.52491548e+03,\n",
       "          1.20571322e-01],\n",
       "         [6.30576893e-01, 3.26047630e-01, 1.20571322e-01,\n",
       "          2.18177588e+03]]]])"
      ]
     },
     "execution_count": 77,
     "metadata": {},
     "output_type": "execute_result"
    }
   ],
   "source": [
    "cluster_count_cov"
   ]
  },
  {
   "cell_type": "code",
   "execution_count": 78,
   "id": "348703c1",
   "metadata": {},
   "outputs": [],
   "source": [
    "n_z = len(z_bin_edges) - 1\n",
    "n_r = len(richness_bin_edges) - 1\n",
    "cov_matrix_2d = np.zeros((n_z * n_r, n_z * n_r))\n",
    "\n",
    "for i in range(n_z):\n",
    "    for j in range(n_z):\n",
    "        for a in range(n_r):\n",
    "            for b in range(n_r):\n",
    "                row_index = i * n_r + a\n",
    "                col_index = j * n_r + b\n",
    "                cov_matrix_2d[row_index, col_index] = cluster_count_cov[i, j, a, b]\n"
   ]
  },
  {
   "cell_type": "code",
   "execution_count": 92,
   "id": "c4846b0e",
   "metadata": {},
   "outputs": [
    {
     "name": "stderr",
     "output_type": "stream",
     "text": [
      "/tmp/ipykernel_19584/1281945031.py:3: RuntimeWarning: divide by zero encountered in log10\n",
      "  plt.imshow(np.log10(cov_matrix_2d), cmap='rainbow')\n"
     ]
    },
    {
     "data": {
      "image/png": "[encoded data removed]",
      "text/plain": [
       "<Figure size 432x288 with 2 Axes>"
      ]
     },
     "metadata": {
      "needs_background": "light"
     },
     "output_type": "display_data"
    }
   ],
   "source": [
    "import matplotlib.pyplot as plt\n",
    "\n",
    "plt.imshow(np.log10(cov_matrix_2d), cmap='rainbow')\n",
    "plt.colorbar()\n",
    "plt.xticks([])\n",
    "plt.yticks([])\n",
    "plt.title(r'${\\rm Cov}(N^i_{\\lambda_\\alpha} , N^j_{\\lambda_\\beta})$')\n",
    "plt.show()"
   ]
  },
  {
   "cell_type": "code",
   "execution_count": 81,
   "id": "bec2db0d",
   "metadata": {},
   "outputs": [
    {
     "data": {
      "text/plain": [
       "array([  0.68907091,   4.57692662,   6.57230449,   8.27767822,\n",
       "         9.83365539,  11.29460114,  12.68838688,  14.03157026,\n",
       "        15.33493703,  16.60597498,  17.8501348 ,  19.07153003,\n",
       "        20.27335576,  21.4581555 ,  22.62799098,  23.78455954,\n",
       "        24.92927801,  26.06334331,  27.18777718,  28.30345976,\n",
       "        29.41115181,  30.51151453,  31.60513008,  32.69251436,\n",
       "        33.77412697,  34.8503794 ,  35.92164172,  36.98824811,\n",
       "        38.0505015 ,  39.10867745,  40.16302747,  41.2137818 ,\n",
       "        42.26115326,  43.30534731,  44.34655729,  45.38496196,\n",
       "        46.42072694,  47.454006  ,  48.48494218,  49.51366878,\n",
       "        50.54031026,  51.564983  ,  52.58779599,  53.60885146,\n",
       "        54.62824546,  55.64606831,  56.66240507,  57.67733597,\n",
       "        58.69093673,  59.70327894,  60.71443031,  61.72445497,\n",
       "        62.73341375,  63.74136327,  64.74834785,  65.75440455,\n",
       "        66.7595686 ,  67.76387351,  68.76735119,  69.77003208,\n",
       "        70.77194518,  71.7731182 ,  72.7735776 ,  73.77334865,\n",
       "        74.77245555,  75.77092145,  76.76876851,  77.76601797,\n",
       "        78.76269019,  79.75880471,  80.75438027,  81.74943488,\n",
       "        82.74398583,  83.73804974,  84.73164261,  85.72477981,\n",
       "        86.71747616,  87.7097459 ,  88.70160279,  89.69306005,\n",
       "        90.68413045,  91.6748263 ,  92.66515949,  93.65514147,\n",
       "        94.64478333,  95.63409577,  96.62308911,  97.61177335,\n",
       "        98.60015802,  99.58824587, 100.57603041, 101.56350454,\n",
       "       102.55066136, 103.53749405, 104.52399596, 105.51016057,\n",
       "       106.49598149, 107.48145244, 108.46656728, 109.45131997])"
      ]
     },
     "execution_count": 81,
     "metadata": {},
     "output_type": "execute_result"
    }
   ],
   "source": [
    "M_numerics = np.linspace(M_min, M_max, 100)\n",
    "halo_bias.get_halo_bias(fiducial_ccl_cosmo, M_numerics *  fiducial_h, 1./(1+0.2)) #[Mass] is Msun / h"
   ]
  },
  {
   "cell_type": "code",
   "execution_count": 83,
   "id": "b073bece",
   "metadata": {},
   "outputs": [
    {
     "data": {
      "text/plain": [
       "(8.963540604845908e-06, 1.3531209359172206e-10)"
      ]
     },
     "execution_count": 83,
     "metadata": {},
     "output_type": "execute_result"
    }
   ],
   "source": [
    "from scipy.integrate import dblquad\n",
    "def inner_cluster_count_integrand(lam, M, z_val=0):\n",
    "    p = cluster_richness_relation(M, lam, z_val) # h / Msun\n",
    "\n",
    "    dn_dM = fiducial_dndM(z_val, M) # h^4 / (Mpc^3  Msun)\n",
    "\n",
    "    return p * dn_dM  # h / (Msun)\n",
    "dblquad(inner_cluster_count_integrand, M_min, M_max, 20, 30, epsrel=1e-4, epsabs=0)"
   ]
  },
  {
   "cell_type": "code",
   "execution_count": 84,
   "id": "5ba53d83",
   "metadata": {},
   "outputs": [
    {
     "data": {
      "text/plain": [
       "(1.5968564722583244e-05, 2.2851423546713124e-10)"
      ]
     },
     "execution_count": 84,
     "metadata": {},
     "output_type": "execute_result"
    }
   ],
   "source": [
    "dblquad(inner_integral, M_min, M_max, 20, 30, args=(0.0,), epsrel=1e-4, epsabs=0)"
   ]
  },
  {
   "cell_type": "code",
   "execution_count": 86,
   "id": "13c8b551",
   "metadata": {},
   "outputs": [],
   "source": [
    "import pickle\n",
    "    \n",
    "with open('cluster_abundance_fiducial_covariance.pkl', 'wb') as file:\n",
    "        pickle.dump(cluster_count_cov, file)"
   ]
  },
  {
   "cell_type": "code",
   "execution_count": 88,
   "id": "1a203db2",
   "metadata": {},
   "outputs": [
    {
     "data": {
      "text/plain": [
       "array([[ 8.63757505e-05, -1.81359593e-08, -2.08250166e-08,\n",
       "        -2.65048069e-08,  0.00000000e+00,  0.00000000e+00,\n",
       "         0.00000000e+00,  0.00000000e+00,  0.00000000e+00,\n",
       "         0.00000000e+00,  0.00000000e+00,  0.00000000e+00,\n",
       "         0.00000000e+00,  0.00000000e+00,  0.00000000e+00,\n",
       "         0.00000000e+00],\n",
       "       [-1.81359593e-08,  1.58616386e-04, -2.42206516e-08,\n",
       "        -3.08460133e-08,  0.00000000e+00,  0.00000000e+00,\n",
       "         0.00000000e+00,  0.00000000e+00,  0.00000000e+00,\n",
       "         0.00000000e+00,  0.00000000e+00,  0.00000000e+00,\n",
       "         0.00000000e+00,  0.00000000e+00,  0.00000000e+00,\n",
       "         0.00000000e+00],\n",
       "       [-2.08250166e-08, -2.42206516e-08,  3.97382691e-04,\n",
       "        -3.54633130e-08,  0.00000000e+00,  0.00000000e+00,\n",
       "         0.00000000e+00,  0.00000000e+00,  0.00000000e+00,\n",
       "         0.00000000e+00,  0.00000000e+00,  0.00000000e+00,\n",
       "         0.00000000e+00,  0.00000000e+00,  0.00000000e+00,\n",
       "         0.00000000e+00],\n",
       "       [-2.65048069e-08, -3.08460133e-08, -3.54633130e-08,\n",
       "         3.08336692e-04,  0.00000000e+00,  0.00000000e+00,\n",
       "         0.00000000e+00,  0.00000000e+00,  0.00000000e+00,\n",
       "         0.00000000e+00,  0.00000000e+00,  0.00000000e+00,\n",
       "         0.00000000e+00,  0.00000000e+00,  0.00000000e+00,\n",
       "         0.00000000e+00],\n",
       "       [ 0.00000000e+00,  0.00000000e+00,  0.00000000e+00,\n",
       "         0.00000000e+00,  5.35186854e-05, -1.18321172e-08,\n",
       "        -1.36132607e-08, -1.70749577e-08,  0.00000000e+00,\n",
       "         0.00000000e+00,  0.00000000e+00,  0.00000000e+00,\n",
       "         0.00000000e+00,  0.00000000e+00,  0.00000000e+00,\n",
       "         0.00000000e+00],\n",
       "       [ 0.00000000e+00,  0.00000000e+00,  0.00000000e+00,\n",
       "         0.00000000e+00, -1.18321172e-08,  1.04442088e-04,\n",
       "        -1.58911982e-08, -1.99486549e-08,  0.00000000e+00,\n",
       "         0.00000000e+00,  0.00000000e+00,  0.00000000e+00,\n",
       "         0.00000000e+00,  0.00000000e+00,  0.00000000e+00,\n",
       "         0.00000000e+00],\n",
       "       [ 0.00000000e+00,  0.00000000e+00,  0.00000000e+00,\n",
       "         0.00000000e+00, -1.36132607e-08, -1.58911982e-08,\n",
       "         2.78971969e-04, -2.29901083e-08,  0.00000000e+00,\n",
       "         0.00000000e+00,  0.00000000e+00,  0.00000000e+00,\n",
       "         0.00000000e+00,  0.00000000e+00,  0.00000000e+00,\n",
       "         0.00000000e+00],\n",
       "       [ 0.00000000e+00,  0.00000000e+00,  0.00000000e+00,\n",
       "         0.00000000e+00, -1.70749577e-08, -1.99486549e-08,\n",
       "        -2.29901083e-08,  2.46016704e-04,  0.00000000e+00,\n",
       "         0.00000000e+00,  0.00000000e+00,  0.00000000e+00,\n",
       "         0.00000000e+00,  0.00000000e+00,  0.00000000e+00,\n",
       "         0.00000000e+00],\n",
       "       [ 0.00000000e+00,  0.00000000e+00,  0.00000000e+00,\n",
       "         0.00000000e+00,  0.00000000e+00,  0.00000000e+00,\n",
       "         0.00000000e+00,  0.00000000e+00,  4.91278254e-05,\n",
       "        -1.08421347e-08, -1.24817972e-08, -1.54152857e-08,\n",
       "         0.00000000e+00,  0.00000000e+00,  0.00000000e+00,\n",
       "         0.00000000e+00],\n",
       "       [ 0.00000000e+00,  0.00000000e+00,  0.00000000e+00,\n",
       "         0.00000000e+00,  0.00000000e+00,  0.00000000e+00,\n",
       "         0.00000000e+00,  0.00000000e+00, -1.08421347e-08,\n",
       "         1.02878037e-04, -1.45977950e-08, -1.80460564e-08,\n",
       "         0.00000000e+00,  0.00000000e+00,  0.00000000e+00,\n",
       "         0.00000000e+00],\n",
       "       [ 0.00000000e+00,  0.00000000e+00,  0.00000000e+00,\n",
       "         0.00000000e+00,  0.00000000e+00,  0.00000000e+00,\n",
       "         0.00000000e+00,  0.00000000e+00, -1.24817972e-08,\n",
       "        -1.45977950e-08,  2.95799936e-04, -2.08175596e-08,\n",
       "         0.00000000e+00,  0.00000000e+00,  0.00000000e+00,\n",
       "         0.00000000e+00],\n",
       "       [ 0.00000000e+00,  0.00000000e+00,  0.00000000e+00,\n",
       "         0.00000000e+00,  0.00000000e+00,  0.00000000e+00,\n",
       "         0.00000000e+00,  0.00000000e+00, -1.54152857e-08,\n",
       "        -1.80460564e-08, -2.08175596e-08,  2.98523420e-04,\n",
       "         0.00000000e+00,  0.00000000e+00,  0.00000000e+00,\n",
       "         0.00000000e+00],\n",
       "       [ 0.00000000e+00,  0.00000000e+00,  0.00000000e+00,\n",
       "         0.00000000e+00,  0.00000000e+00,  0.00000000e+00,\n",
       "         0.00000000e+00,  0.00000000e+00,  0.00000000e+00,\n",
       "         0.00000000e+00,  0.00000000e+00,  0.00000000e+00,\n",
       "         5.60602696e-05, -1.15742124e-08, -1.33176163e-08,\n",
       "        -1.62000742e-08],\n",
       "       [ 0.00000000e+00,  0.00000000e+00,  0.00000000e+00,\n",
       "         0.00000000e+00,  0.00000000e+00,  0.00000000e+00,\n",
       "         0.00000000e+00,  0.00000000e+00,  0.00000000e+00,\n",
       "         0.00000000e+00,  0.00000000e+00,  0.00000000e+00,\n",
       "        -1.15742124e-08,  1.26984676e-04, -1.55803642e-08,\n",
       "        -1.89725609e-08],\n",
       "       [ 0.00000000e+00,  0.00000000e+00,  0.00000000e+00,\n",
       "         0.00000000e+00,  0.00000000e+00,  0.00000000e+00,\n",
       "         0.00000000e+00,  0.00000000e+00,  0.00000000e+00,\n",
       "         0.00000000e+00,  0.00000000e+00,  0.00000000e+00,\n",
       "        -1.33176163e-08, -1.55803642e-08,  3.96052867e-04,\n",
       "        -2.18808634e-08],\n",
       "       [ 0.00000000e+00,  0.00000000e+00,  0.00000000e+00,\n",
       "         0.00000000e+00,  0.00000000e+00,  0.00000000e+00,\n",
       "         0.00000000e+00,  0.00000000e+00,  0.00000000e+00,\n",
       "         0.00000000e+00,  0.00000000e+00,  0.00000000e+00,\n",
       "        -1.62000742e-08, -1.89725609e-08, -2.18808634e-08,\n",
       "         4.58342229e-04]])"
      ]
     },
     "execution_count": 88,
     "metadata": {},
     "output_type": "execute_result"
    }
   ],
   "source": []
  },
  {
   "cell_type": "code",
   "execution_count": 90,
   "id": "1d0c6629",
   "metadata": {},
   "outputs": [
    {
     "data": {
      "image/png": "[encoded data removed]",
      "text/plain": [
       "<Figure size 432x288 with 2 Axes>"
      ]
     },
     "metadata": {
      "needs_background": "light"
     },
     "output_type": "display_data"
    }
   ],
   "source": [
    "import matplotlib.pyplot as plt\n",
    "\n",
    "plt.imshow((np.linalg.inv(cov_matrix_2d)), cmap='rainbow')\n",
    "plt.colorbar()\n",
    "plt.xticks([])\n",
    "plt.yticks([])\n",
    "plt.title(r'${\\rm Cov}(N^i_{\\lambda_\\alpha} , N^j_{\\lambda_\\beta})$')\n",
    "plt.show()"
   ]
  }
 ],
 "metadata": {
  "kernelspec": {
   "display_name": "massfunction",
   "language": "python",
   "name": "massfunction"
  },
  "language_info": {
   "codemirror_mode": {
    "name": "ipython",
    "version": 3
   },
   "file_extension": ".py",
   "mimetype": "text/x-python",
   "name": "python",
   "nbconvert_exporter": "python",
   "pygments_lexer": "ipython3",
   "version": "3.9.16"
  }
 },
 "nbformat": 4,
 "nbformat_minor": 5
}
