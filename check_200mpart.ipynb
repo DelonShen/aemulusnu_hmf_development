{
 "cells": [
  {
   "cell_type": "code",
   "execution_count": 1,
   "id": "e156a518",
   "metadata": {},
   "outputs": [],
   "source": [
    "Mparts = []"
   ]
  },
  {
   "cell_type": "code",
   "execution_count": 2,
   "id": "f45438a6",
   "metadata": {},
   "outputs": [],
   "source": [
    "boxs = [\"Box0_1400\", \"Box1_1400\", \"Box2_1400\", \"Box3_1400\", \"Box4_1400\", \"Box5_1400\", \"Box6_1400\", \"Box7_1400\", \"Box8_1400\", \"Box9_1400\", \"Box10_1400\", \"Box11_1400\", \"Box12_1400\", \"Box13_1400\", \"Box14_1400\", \"Box15_1400\", \"Box16_1400\", \"Box17_1400\", \"Box18_1400\", \"Box19_1400\", \"Box20_1400\", \"Box21_1400\", \"Box22_1400\", \"Box23_1400\", \"Box24_1400\", \"Box25_1400\", \"Box26_1400\", \"Box27_1400\", \"Box28_1400\", \"Box29_1400\", \"Box30_1400\", \"Box31_1400\", \"Box32_1400\", \"Box33_1400\", \"Box34_1400\", \"Box35_1400\", \"Box36_1400\", \"Box37_1400\", \"Box38_1400\", \"Box39_1400\", \"Box40_1400\", \"Box41_1400\", \"Box42_1400\", \"Box43_1400\", \"Box44_1400\", \"Box45_1400\", \"Box46_1400\", \"Box47_1400\", \"Box48_1400\", \"Box49_1400\", \"Box50_1400\", \"Box51_1400\", \"Box52_1400\", \"Box53_1400\", \"Box54_1400\", \"Box55_1400\", \"Box56_1400\", \"Box57_1400\", \"Box58_1400\", \"Box59_1400\", \"Box60_1400\", \"Box61_1400\", \"Box62_1400\", \"Box63_1400\", \"Box64_1400\", \"Box65_1400\", \"Box66_1400\", \"Box67_1400\", \"Box68_1400\", \"Box69_1400\", \"Box70_1400\", \"Box71_1400\", \"Box72_1400\", \"Box73_1400\", \"Box74_1400\", \"Box75_1400\", \"Box76_1400\", \"Box77_1400\", \"Box78_1400\", \"Box79_1400\", \"Box80_1400\", \"Box81_1400\", \"Box82_1400\", \"Box83_1400\", \"Box84_1400\", \"Box85_1400\", \"Box86_1400\", \"Box87_1400\", \"Box88_1400\", \"Box89_1400\", \"Box90_1400\", \"Box91_1400\", \"Box92_1400\", \"Box93_1400\", \"Box94_1400\", \"Box95_1400\", \"Box96_1400\", \"Box97_1400\", \"Box98_1400\", \"Box99_1400\", \"Box_n50_0_1400\", \"Box_n50_1_1400\", \"Box_n50_2_1400\", \"Box_n50_3_1400\", \"Box_n50_4_1400\", \"Box_n50_5_1400\", \"Box_n50_6_1400\", \"Box_n50_7_1400\", \"Box_n50_8_1400\", \"Box_n50_9_1400\", \"Box_n50_10_1400\", \"Box_n50_11_1400\", \"Box_n50_12_1400\", \"Box_n50_13_1400\", \"Box_n50_14_1400\", \"Box_n50_15_1400\", \"Box_n50_16_1400\", \"Box_n50_17_1400\", \"Box_n50_18_1400\", \"Box_n50_19_1400\", \"Box_n50_20_1400\", \"Box_n50_21_1400\", \"Box_n50_22_1400\", \"Box_n50_23_1400\", \"Box_n50_24_1400\", \"Box_n50_25_1400\", \"Box_n50_26_1400\", \"Box_n50_27_1400\", \"Box_n50_28_1400\", \"Box_n50_29_1400\", \"Box_n50_30_1400\", \"Box_n50_31_1400\", \"Box_n50_32_1400\", \"Box_n50_33_1400\", \"Box_n50_34_1400\", \"Box_n50_35_1400\", \"Box_n50_36_1400\", \"Box_n50_37_1400\", \"Box_n50_38_1400\", \"Box_n50_39_1400\", \"Box_n50_40_1400\", \"Box_n50_41_1400\", \"Box_n50_42_1400\", \"Box_n50_43_1400\", \"Box_n50_44_1400\", \"Box_n50_45_1400\", \"Box_n50_46_1400\", \"Box_n50_47_1400\", \"Box_n50_48_1400\", \"Box_n50_49_1400\"]"
   ]
  },
  {
   "cell_type": "code",
   "execution_count": 3,
   "id": "e7b34287",
   "metadata": {},
   "outputs": [
    {
     "name": "stderr",
     "output_type": "stream",
     "text": [
      "100%|██████████| 150/150 [03:20<00:00,  1.33s/it]\n"
     ]
    }
   ],
   "source": [
    "import numpy as np\n",
    "from scipy.stats import binned_statistic\n",
    "from tqdm import tqdm, trange\n",
    "import matplotlib.pyplot as plt\n",
    "import os\n",
    "import sys\n",
    "\n",
    "# box = sys.argv[1]\n",
    "# box = 'Box_n50_0_1400'\n",
    "# box = 'Box0_1400'\n",
    "for box in tqdm(boxs):\n",
    "    curr_run_fname = '/oak/stanford/orgs/kipac/aemulus/aemulus_nu/%s/'%(box)\n",
    "    rockstar_dir = curr_run_fname+'output/rockstar/'\n",
    "\n",
    "    f = open(rockstar_dir+'savelist.txt', 'r')\n",
    "    savelist = f.read().split()\n",
    "    f.close()\n",
    "\n",
    "    N_snapshots = len(savelist)\n",
    "\n",
    "#     print(N_snapshots)\n",
    "\n",
    "    i=0\n",
    "\n",
    "    import pickle\n",
    "\n",
    "    NvMs = {}\n",
    "    f = open('/oak/stanford/orgs/kipac/users/delon/aemulusnu_massfunction/'+box+'_M200b', 'r')\n",
    "    Np_fname = \"/oak/stanford/orgs/kipac/users/delon/aemulusnu_massfunction/\" + box + \"_Np\";\n",
    "    f2 = open(Np_fname, 'r')\n",
    "    TMP=0\n",
    "    # gt200idxs = {}\n",
    "    for line in f:\n",
    "        line2 = f2.readline()\n",
    "    #     fig, ax = plt.subplots(nrows=1, ncols=1, figsize=(13,8))\n",
    "\n",
    "        #extract the masses and position of halos for a given snapshot \n",
    "        snapshot_mass = line.strip().split()\n",
    "        snapshot_mass = np.array(snapshot_mass, dtype=np.float64)  \n",
    "        snapshot_Np = line2.strip().split()\n",
    "        snapshot_Np = np.array(snapshot_Np, dtype=np.float64)  \n",
    "        assert(len(snapshot_mass)==len(snapshot_Np))\n",
    "    #     gt200Np = np.where(snapshot_Np >= 200)\n",
    "#         print(len(snapshot_mass))\n",
    "#     #     snapshot_mass = snapshot_mass[gt200Np]\n",
    "#         print(len(snapshot_mass))\n",
    "\n",
    "\n",
    "        #get the volume, redshift, and particle mass in the simulation\n",
    "        vol = -1\n",
    "        BOX_SIZE = -1\n",
    "        a = -1\n",
    "        Mpart = -1\n",
    "\n",
    "        f_meta = open(rockstar_dir+'out_%d.list'%(i), 'r')\n",
    "\n",
    "        for meta_data in f_meta:\n",
    "            if('#a' in meta_data):\n",
    "                a = eval(meta_data.split()[2])\n",
    "            if('Particle mass' in meta_data):\n",
    "                Mpart = eval(meta_data.split()[2])\n",
    "            if('Box size' in meta_data):\n",
    "                vol = eval(meta_data.split()[2])**3\n",
    "                BOX_SIZE = eval(meta_data.split()[2])\n",
    "                break            \n",
    "        Mparts += [Mpart]\n",
    "        break"
   ]
  },
  {
   "cell_type": "code",
   "execution_count": 4,
   "id": "5a0fab7b",
   "metadata": {},
   "outputs": [
    {
     "name": "stdout",
     "output_type": "stream",
     "text": [
      "(150,)\n"
     ]
    }
   ],
   "source": [
    "print(np.shape(Mparts))"
   ]
  },
  {
   "cell_type": "code",
   "execution_count": 13,
   "id": "e86ac61c",
   "metadata": {},
   "outputs": [
    {
     "name": "stdout",
     "output_type": "stream",
     "text": [
      "3.77e+12  5.60e+12  7.64e+12  9.68e+12  1.41e+13\n"
     ]
    }
   ],
   "source": [
    "mn = 200*np.mean(Mparts)\n",
    "std = 200*np.std(Mparts)\n",
    "mnn = 200*np.min(Mparts)\n",
    "mx = 200*np.max(Mparts)\n",
    "\n",
    "print('%.2e  %.2e  %.2e  %.2e  %.2e'%(mnn, mn-std, mn, mn+std, mx))"
   ]
  },
  {
   "cell_type": "code",
   "execution_count": 28,
   "id": "61a9a5ab",
   "metadata": {},
   "outputs": [
    {
     "data": {
      "text/plain": [
       "12.882983277881172"
      ]
     },
     "execution_count": 28,
     "metadata": {},
     "output_type": "execute_result"
    }
   ],
   "source": [
    "np.log10(mn)"
   ]
  },
  {
   "cell_type": "code",
   "execution_count": 36,
   "id": "f0a42713",
   "metadata": {},
   "outputs": [
    {
     "name": "stdout",
     "output_type": "stream",
     "text": [
      "12.882983\n",
      "12.900000\n"
     ]
    }
   ],
   "source": [
    "number = np.log10(mn)\n",
    "asdf = np.ceil(number * 10) / 10\n",
    "print('%f'%(np.log10(mn)))\n",
    "print('%f'%(asdf))"
   ]
  }
 ],
 "metadata": {
  "kernelspec": {
   "display_name": "massfunction",
   "language": "python",
   "name": "massfunction"
  },
  "language_info": {
   "codemirror_mode": {
    "name": "ipython",
    "version": 3
   },
   "file_extension": ".py",
   "mimetype": "text/x-python",
   "name": "python",
   "nbconvert_exporter": "python",
   "pygments_lexer": "ipython3",
   "version": "3.9.16"
  }
 },
 "nbformat": 4,
 "nbformat_minor": 5
}
