{
 "cells": [
  {
   "cell_type": "code",
   "execution_count": 1,
   "id": "73c5ef8c",
   "metadata": {},
   "outputs": [],
   "source": [
    "from utils import *\n",
    "from massfunction import *\n",
    "\n",
    "import numpy as np\n",
    "from tqdm import tqdm, trange\n",
    "import matplotlib.pyplot as plt\n",
    "import os\n",
    "import emcee\n",
    "import sys\n",
    "import numpy as np\n",
    "import pickle"
   ]
  },
  {
   "cell_type": "code",
   "execution_count": 2,
   "id": "9a3a819e",
   "metadata": {},
   "outputs": [],
   "source": [
    "cosmos_f = open('data/cosmo_params.pkl', 'rb')\n",
    "cosmo_params = pickle.load(cosmos_f) #cosmo_params is a dict\n",
    "cosmos_f.close()"
   ]
  },
  {
   "cell_type": "code",
   "execution_count": 3,
   "id": "2fe27049",
   "metadata": {},
   "outputs": [
    {
     "ename": "NameError",
     "evalue": "name 'box' is not defined",
     "output_type": "error",
     "traceback": [
      "\u001b[0;31m---------------------------------------------------------------------------\u001b[0m",
      "\u001b[0;31mNameError\u001b[0m                                 Traceback (most recent call last)",
      "\u001b[0;32m/tmp/ipykernel_4659/3074710456.py\u001b[0m in \u001b[0;36m<module>\u001b[0;34m\u001b[0m\n\u001b[0;32m----> 1\u001b[0;31m \u001b[0mcosmo\u001b[0m \u001b[0;34m=\u001b[0m \u001b[0mcosmo_params\u001b[0m\u001b[0;34m[\u001b[0m\u001b[0mbox\u001b[0m\u001b[0;34m]\u001b[0m\u001b[0;34m\u001b[0m\u001b[0;34m\u001b[0m\u001b[0m\n\u001b[0m\u001b[1;32m      2\u001b[0m \u001b[0mmass_function\u001b[0m \u001b[0;34m=\u001b[0m \u001b[0mMassFunction\u001b[0m\u001b[0;34m(\u001b[0m\u001b[0mcosmo\u001b[0m\u001b[0;34m)\u001b[0m\u001b[0;34m\u001b[0m\u001b[0;34m\u001b[0m\u001b[0m\n",
      "\u001b[0;31mNameError\u001b[0m: name 'box' is not defined"
     ]
    }
   ],
   "source": [
    "cosmo = cosmo_params[box]\n",
    "mass_function = MassFunction(cosmo)"
   ]
  },
  {
   "cell_type": "code",
   "execution_count": 4,
   "id": "45e2831b",
   "metadata": {},
   "outputs": [
    {
     "ename": "NameError",
     "evalue": "name 'cosmo' is not defined",
     "output_type": "error",
     "traceback": [
      "\u001b[0;31m---------------------------------------------------------------------------\u001b[0m",
      "\u001b[0;31mNameError\u001b[0m                                 Traceback (most recent call last)",
      "\u001b[0;32m/tmp/ipykernel_4659/3958178498.py\u001b[0m in \u001b[0;36m<module>\u001b[0;34m\u001b[0m\n\u001b[0;32m----> 1\u001b[0;31m \u001b[0mh\u001b[0m \u001b[0;34m=\u001b[0m \u001b[0mcosmo\u001b[0m\u001b[0;34m[\u001b[0m\u001b[0;34m'H0'\u001b[0m\u001b[0;34m]\u001b[0m\u001b[0;34m/\u001b[0m\u001b[0;36m100\u001b[0m\u001b[0;34m\u001b[0m\u001b[0;34m\u001b[0m\u001b[0m\n\u001b[0m\u001b[1;32m      2\u001b[0m \u001b[0;34m\u001b[0m\u001b[0m\n\u001b[1;32m      3\u001b[0m \u001b[0mNvM_fname\u001b[0m \u001b[0;34m=\u001b[0m \u001b[0;34m'/oak/stanford/orgs/kipac/users/delon/aemulusnu_massfunction/'\u001b[0m\u001b[0;34m+\u001b[0m\u001b[0mbox\u001b[0m\u001b[0;34m+\u001b[0m\u001b[0;34m'_NvsM.pkl'\u001b[0m\u001b[0;34m\u001b[0m\u001b[0;34m\u001b[0m\u001b[0m\n\u001b[1;32m      4\u001b[0m \u001b[0mNvM_f\u001b[0m \u001b[0;34m=\u001b[0m \u001b[0mopen\u001b[0m\u001b[0;34m(\u001b[0m\u001b[0mNvM_fname\u001b[0m\u001b[0;34m,\u001b[0m \u001b[0;34m'rb'\u001b[0m\u001b[0;34m)\u001b[0m\u001b[0;34m\u001b[0m\u001b[0;34m\u001b[0m\u001b[0m\n\u001b[1;32m      5\u001b[0m \u001b[0mNvMs\u001b[0m \u001b[0;34m=\u001b[0m \u001b[0mpickle\u001b[0m\u001b[0;34m.\u001b[0m\u001b[0mload\u001b[0m\u001b[0;34m(\u001b[0m\u001b[0mNvM_f\u001b[0m\u001b[0;34m)\u001b[0m \u001b[0;31m#NvMs is a dictionary of dictionaries\u001b[0m\u001b[0;34m\u001b[0m\u001b[0;34m\u001b[0m\u001b[0m\n",
      "\u001b[0;31mNameError\u001b[0m: name 'cosmo' is not defined"
     ]
    }
   ],
   "source": [
    "h = cosmo['H0']/100\n",
    "\n",
    "NvM_fname = '/oak/stanford/orgs/kipac/users/delon/aemulusnu_massfunction/'+box+'_NvsM.pkl'\n",
    "NvM_f = open(NvM_fname, 'rb')\n",
    "NvMs = pickle.load(NvM_f) #NvMs is a dictionary of dictionaries\n",
    "NvM_f.close()"
   ]
  },
  {
   "cell_type": "code",
   "execution_count": null,
   "id": "dec754f6",
   "metadata": {},
   "outputs": [],
   "source": []
  }
 ],
 "metadata": {
  "kernelspec": {
   "display_name": "massfunction",
   "language": "python",
   "name": "massfunction"
  },
  "language_info": {
   "codemirror_mode": {
    "name": "ipython",
    "version": 3
   },
   "file_extension": ".py",
   "mimetype": "text/x-python",
   "name": "python",
   "nbconvert_exporter": "python",
   "pygments_lexer": "ipython3",
   "version": "3.9.16"
  }
 },
 "nbformat": 4,
 "nbformat_minor": 5
}
