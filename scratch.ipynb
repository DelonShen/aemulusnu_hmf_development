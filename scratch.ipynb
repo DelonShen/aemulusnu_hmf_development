{
 "cells": [
  {
   "cell_type": "code",
   "execution_count": 1,
   "id": "bb4d33f4",
   "metadata": {},
   "outputs": [],
   "source": [
    "import numpy as np"
   ]
  },
  {
   "cell_type": "code",
   "execution_count": 3,
   "id": "3aa0284e",
   "metadata": {},
   "outputs": [],
   "source": [
    "space = np.random.rand(1000, 4)"
   ]
  },
  {
   "cell_type": "code",
   "execution_count": 4,
   "id": "69ce5d0b",
   "metadata": {},
   "outputs": [
    {
     "name": "stdout",
     "output_type": "stream",
     "text": [
      "(1000, 4)\n"
     ]
    }
   ],
   "source": [
    "print(np.shape(space))"
   ]
  },
  {
   "cell_type": "code",
   "execution_count": null,
   "id": "312ac071",
   "metadata": {},
   "outputs": [],
   "source": []
  }
 ],
 "metadata": {
  "kernelspec": {
   "display_name": "massfunction",
   "language": "python",
   "name": "massfunction"
  },
  "language_info": {
   "codemirror_mode": {
    "name": "ipython",
    "version": 3
   },
   "file_extension": ".py",
   "mimetype": "text/x-python",
   "name": "python",
   "nbconvert_exporter": "python",
   "pygments_lexer": "ipython3",
   "version": "3.9.16"
  }
 },
 "nbformat": 4,
 "nbformat_minor": 5
}
