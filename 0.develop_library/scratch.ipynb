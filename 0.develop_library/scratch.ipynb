{
 "cells": [
  {
   "cell_type": "code",
   "execution_count": 1,
   "id": "3d673c9b",
   "metadata": {},
   "outputs": [],
   "source": [
    "from classy import Class"
   ]
  },
  {
   "cell_type": "code",
   "execution_count": 2,
   "id": "baf5c832",
   "metadata": {},
   "outputs": [],
   "source": [
    "import pickle"
   ]
  },
  {
   "cell_type": "code",
   "execution_count": 3,
   "id": "c4485f87",
   "metadata": {},
   "outputs": [],
   "source": [
    "from aemulusnu_hmf_lib import massfunction"
   ]
  },
  {
   "cell_type": "code",
   "execution_count": 4,
   "id": "0c06f1f9",
   "metadata": {},
   "outputs": [
    {
     "data": {
      "text/plain": [
       "aemulusnu_hmf_lib.massfunction.cosmology"
      ]
     },
     "execution_count": 4,
     "metadata": {},
     "output_type": "execute_result"
    }
   ],
   "source": [
    "massfunction.cosmology"
   ]
  },
  {
   "cell_type": "code",
   "execution_count": 5,
   "id": "7463c374",
   "metadata": {},
   "outputs": [],
   "source": [
    "cosmos_f = open('../data/cosmo_params.pkl', 'rb')\n",
    "cosmo_params = pickle.load(cosmos_f) #cosmo_params is a dict\n",
    "cosmos_f.close()"
   ]
  },
  {
   "cell_type": "code",
   "execution_count": 6,
   "id": "3ec7639a",
   "metadata": {},
   "outputs": [],
   "source": [
    "curr_cosmology = massfunction.cosmology(cosmo_params['Box_n50_0_1400'])"
   ]
  },
  {
   "cell_type": "code",
   "execution_count": 7,
   "id": "833b64cc",
   "metadata": {},
   "outputs": [
    {
     "data": {
      "text/plain": [
       "3165.83765798705"
      ]
     },
     "execution_count": 7,
     "metadata": {},
     "output_type": "execute_result"
    }
   ],
   "source": [
    "curr_cosmology.Pm(1e-1, 0.0)"
   ]
  },
  {
   "cell_type": "code",
   "execution_count": 8,
   "id": "9e7dd2f0",
   "metadata": {},
   "outputs": [
    {
     "data": {
      "text/plain": [
       "3199.506318337873"
      ]
     },
     "execution_count": 8,
     "metadata": {},
     "output_type": "execute_result"
    }
   ],
   "source": [
    "curr_cosmology.Pcb(1e-1, 0.0)"
   ]
  },
  {
   "cell_type": "code",
   "execution_count": 56,
   "id": "a816c31c",
   "metadata": {},
   "outputs": [
    {
     "data": {
      "text/plain": [
       "dict_keys(['z', 'proper time [Gyr]', 'conf. time [Mpc]', 'H [1/Mpc]', 'comov. dist.', 'ang.diam.dist.', 'lum. dist.', 'comov.snd.hrz.', '(.)rho_g', '(.)rho_b', '(.)rho_cdm', '(.)rho_ncdm[0]', '(.)p_ncdm[0]', '(.)rho_fld', '(.)w_fld', '(.)rho_ur', '(.)rho_crit', '(.)rho_tot', '(.)p_tot', '(.)p_tot_prime', 'gr.fac. D', 'gr.fac. f'])"
      ]
     },
     "execution_count": 56,
     "metadata": {},
     "output_type": "execute_result"
    }
   ],
   "source": [
    "curr_cosmology.pkclass.get_background().keys()"
   ]
  },
  {
   "cell_type": "code",
   "execution_count": 132,
   "id": "c4728884",
   "metadata": {},
   "outputs": [],
   "source": [
    "Omega_m = curr_cosmology.pkclass.get_current_derived_parameters(['Omega_m'])['Omega_m']"
   ]
  },
  {
   "cell_type": "code",
   "execution_count": 78,
   "id": "6c2eaf2a",
   "metadata": {},
   "outputs": [],
   "source": [
    "z_bg = curr_cosmology.pkclass.get_background()['z']\n",
    "H_bg = curr_cosmology.pkclass.get_background()['H [1/Mpc]']"
   ]
  },
  {
   "cell_type": "code",
   "execution_count": 23,
   "id": "57d23646",
   "metadata": {},
   "outputs": [],
   "source": [
    "rho_crit_bg = curr_cosmology.pkclass.get_background()['(.)rho_crit']"
   ]
  },
  {
   "cell_type": "code",
   "execution_count": 32,
   "id": "2f9f02a2",
   "metadata": {},
   "outputs": [],
   "source": [
    "rho_cdm_bg = curr_cosmology.pkclass.get_background()['(.)rho_cdm']\n",
    "rho_b_bg = curr_cosmology.pkclass.get_background()['(.)rho_b']"
   ]
  },
  {
   "cell_type": "code",
   "execution_count": 33,
   "id": "52534ba1",
   "metadata": {},
   "outputs": [],
   "source": [
    "import matplotlib.pyplot as plt"
   ]
  },
  {
   "cell_type": "code",
   "execution_count": 46,
   "id": "de0e239e",
   "metadata": {},
   "outputs": [],
   "source": [
    "a_bg = 1/(1+z_bg)"
   ]
  },
  {
   "cell_type": "code",
   "execution_count": 47,
   "id": "90ed75fe",
   "metadata": {},
   "outputs": [
    {
     "data": {
      "text/plain": [
       "{'ns': 0.97000003,\n",
       " 'H0': 67.0,\n",
       " 'w0': -1.0,\n",
       " 'ombh2': 0.0223,\n",
       " 'omch2': 0.12,\n",
       " 'nu_mass_ev': 0.07071068,\n",
       " '10^9 As': 2.10100315}"
      ]
     },
     "execution_count": 47,
     "metadata": {},
     "output_type": "execute_result"
    }
   ],
   "source": [
    "curr_h = curr_cosmology.cosmology['H0']/100\n",
    "curr_Om_b = curr_cosmology.cosmology['ombh2']/curr_h**2\n",
    "curr_Om_c = curr_cosmology.cosmology['omch2']/curr_h**2\n",
    "\n",
    "curr_cosmology.cosmology"
   ]
  },
  {
   "cell_type": "code",
   "execution_count": 82,
   "id": "8b2d156f",
   "metadata": {},
   "outputs": [
    {
     "data": {
      "text/plain": [
       "[<matplotlib.lines.Line2D at 0x7f69ece803a0>]"
      ]
     },
     "execution_count": 82,
     "metadata": {},
     "output_type": "execute_result"
    },
    {
     "data": {
      "image/png": "[encoded data removed]",
      "text/plain": [
       "<Figure size 432x288 with 1 Axes>"
      ]
     },
     "metadata": {
      "needs_background": "light"
     },
     "output_type": "display_data"
    }
   ],
   "source": [
    "#checking rho_crit(z)\n",
    "plt.plot(z_bg, rho_crit_bg, 'k')\n",
    "plt.plot(z_bg, rho_crit_bg[-1]*(H_bg / H_bg[-1])**2, 'r--')"
   ]
  },
  {
   "cell_type": "code",
   "execution_count": 83,
   "id": "2ef90e07",
   "metadata": {},
   "outputs": [
    {
     "data": {
      "text/plain": [
       "[<matplotlib.lines.Line2D at 0x7f69ecdf6580>]"
      ]
     },
     "execution_count": 83,
     "metadata": {},
     "output_type": "execute_result"
    },
    {
     "data": {
      "image/png": "[encoded data removed]",
      "text/plain": [
       "<Figure size 432x288 with 1 Axes>"
      ]
     },
     "metadata": {
      "needs_background": "light"
     },
     "output_type": "display_data"
    }
   ],
   "source": [
    "#Checking Ob a^(-3) = rho_b / rho_crit_0 \n",
    "plt.plot(z_bg, curr_Om_b * a_bg**(-3),'k')\n",
    "plt.plot(z_bg, rho_b_bg/rho_crit_bg[-1], 'r--', label='')"
   ]
  },
  {
   "cell_type": "code",
   "execution_count": 91,
   "id": "a943632f",
   "metadata": {},
   "outputs": [],
   "source": [
    "Ez = H_bg / H_bg[-1]"
   ]
  },
  {
   "cell_type": "code",
   "execution_count": 102,
   "id": "03320851",
   "metadata": {},
   "outputs": [],
   "source": [
    "#overline{rho}_x = rho_crit(z) Omega_x(z) tinker08 above Eq. 1\n",
    "#and from Tobias's notes e.g. Omega_m(z) = Omega_{m,0}/a**3 H0^2 / H**2"
   ]
  },
  {
   "cell_type": "code",
   "execution_count": 139,
   "id": "b77e13b9",
   "metadata": {},
   "outputs": [
    {
     "data": {
      "text/plain": [
       "[]"
      ]
     },
     "execution_count": 139,
     "metadata": {},
     "output_type": "execute_result"
    },
    {
     "data": {
      "image/png": "[encoded data removed]",
      "text/plain": [
       "<Figure size 432x288 with 1 Axes>"
      ]
     },
     "metadata": {
      "needs_background": "light"
     },
     "output_type": "display_data"
    }
   ],
   "source": [
    "plt.plot(z_bg, (rho_cdm_bg + rho_b_bg), 'k', label='rho cb direct')\n",
    "plt.plot(z_bg, rho_crit_bg * (curr_Om_b + curr_Om_c)*Ez**(-2)*a_bg**(-3) , 'r--', label='rho cb with rho_crit' )\n",
    "\n",
    "# plt.plot(z_bg, rho_crit_bg * (Omega_m)*Ez**(-2)*a_bg**(-3) , 'b--', label='rho m with rho_crit' )\n",
    "plt.legend(frameon=False)\n",
    "plt.loglog()"
   ]
  },
  {
   "cell_type": "code",
   "execution_count": 144,
   "id": "3bc778b1",
   "metadata": {},
   "outputs": [
    {
     "data": {
      "text/plain": [
       "(0.8, 1.2)"
      ]
     },
     "execution_count": 144,
     "metadata": {},
     "output_type": "execute_result"
    },
    {
     "data": {
      "image/png": "[encoded data removed]",
      "text/plain": [
       "<Figure size 432x288 with 1 Axes>"
      ]
     },
     "metadata": {
      "needs_background": "light"
     },
     "output_type": "display_data"
    }
   ],
   "source": [
    "rhocb_direct = (rho_cdm_bg + rho_b_bg)\n",
    "rho_m =  rho_crit_bg * (Omega_m)*Ez**(-2)*a_bg**(-3) \n",
    "plt.plot(z_bg, rhocb_direct/rho_m)\n",
    "plt.xlim(0, 2)\n",
    "plt.ylim(0.8, 1.2)"
   ]
  },
  {
   "cell_type": "code",
   "execution_count": 104,
   "id": "88f43665",
   "metadata": {},
   "outputs": [
    {
     "data": {
      "text/plain": [
       "4.9946861016246935e-08"
      ]
     },
     "execution_count": 104,
     "metadata": {},
     "output_type": "execute_result"
    }
   ],
   "source": [
    "rho_crit_bg[-1] "
   ]
  },
  {
   "cell_type": "code",
   "execution_count": 105,
   "id": "91e64ada",
   "metadata": {},
   "outputs": [],
   "source": [
    "# now the final challenge is figuring out the units of this"
   ]
  },
  {
   "cell_type": "code",
   "execution_count": 107,
   "id": "696973e5",
   "metadata": {},
   "outputs": [],
   "source": [
    "# from slide 9 of https://lesgourg.github.io/class-tour/Padova/CLASS_Padova_Content.pdf\n",
    "# it seems like rho_class = 8 pi G / 3 rho_class\n",
    "# but also it seems like c=1 so really the conversion is like\n",
    "# rho_class = 8 pi (G/c^2) / 3 rho_class"
   ]
  },
  {
   "cell_type": "code",
   "execution_count": 108,
   "id": "5c299148",
   "metadata": {},
   "outputs": [],
   "source": [
    "G_over_c2 = 4.79e-20 #Mpc / Msol"
   ]
  },
  {
   "cell_type": "code",
   "execution_count": 110,
   "id": "9d0d02c1",
   "metadata": {},
   "outputs": [],
   "source": [
    "import numpy as np"
   ]
  },
  {
   "cell_type": "code",
   "execution_count": 116,
   "id": "905bf2cc",
   "metadata": {},
   "outputs": [
    {
     "name": "stdout",
     "output_type": "stream",
     "text": [
      "2.77e+11\n"
     ]
    }
   ],
   "source": [
    "rho_crit_physical = rho_crit_bg[-1] * 3 / (8 * np.pi * G_over_c2) / curr_h / curr_h # h^2 Msol / Mpc^3\n",
    "print('%.2e'%(rho_crit_physical))"
   ]
  },
  {
   "cell_type": "code",
   "execution_count": 120,
   "id": "e5551878",
   "metadata": {},
   "outputs": [],
   "source": [
    "from scipy.interpolate import interp1d\n",
    "\n",
    "f_rho_cb = interp1d(x=z_bg, y = (rho_cdm_bg + rho_b_bg) * conversion)"
   ]
  },
  {
   "cell_type": "code",
   "execution_count": 119,
   "id": "e9f356f0",
   "metadata": {},
   "outputs": [
    {
     "data": {
      "text/plain": [
       "[]"
      ]
     },
     "execution_count": 119,
     "metadata": {},
     "output_type": "execute_result"
    },
    {
     "data": {
      "image/png": "[encoded data removed]",
      "text/plain": [
       "<Figure size 432x288 with 1 Axes>"
      ]
     },
     "metadata": {
      "needs_background": "light"
     },
     "output_type": "display_data"
    }
   ],
   "source": [
    "conversion =  3 / (8 * np.pi * G_over_c2) / curr_h / curr_h\n",
    "plt.plot(z_bg, (rho_cdm_bg + rho_b_bg) * conversion, 'k', label='rho cb direct')\n",
    "plt.plot(z_bg, rho_crit_bg * conversion * (curr_Om_b + curr_Om_c)*Ez**(-2)*a_bg**(-3) , 'r--', label='rho cb with rho_crit' )\n",
    "plt.legend(frameon=False)\n",
    "plt.loglog()"
   ]
  },
  {
   "cell_type": "code",
   "execution_count": 122,
   "id": "a48487f3",
   "metadata": {},
   "outputs": [
    {
     "data": {
      "text/plain": [
       "[]"
      ]
     },
     "execution_count": 122,
     "metadata": {},
     "output_type": "execute_result"
    },
    {
     "data": {
      "image/png": "[encoded data removed]",
      "text/plain": [
       "<Figure size 432x288 with 1 Axes>"
      ]
     },
     "metadata": {
      "needs_background": "light"
     },
     "output_type": "display_data"
    }
   ],
   "source": [
    "conversion =  3 / (8 * np.pi * G_over_c2) / curr_h / curr_h\n",
    "plt.plot(z_bg, (rho_cdm_bg + rho_b_bg) * conversion, 'k', label='rho cb direct')\n",
    "plt.plot(z_bg, f_rho_cb(z_bg) , 'r--', label='f_rho_cb' )\n",
    "plt.legend(frameon=False)\n",
    "plt.loglog()"
   ]
  },
  {
   "cell_type": "code",
   "execution_count": null,
   "id": "cb29013b",
   "metadata": {},
   "outputs": [],
   "source": []
  }
 ],
 "metadata": {
  "kernelspec": {
   "display_name": "massfunction",
   "language": "python",
   "name": "massfunction"
  },
  "language_info": {
   "codemirror_mode": {
    "name": "ipython",
    "version": 3
   },
   "file_extension": ".py",
   "mimetype": "text/x-python",
   "name": "python",
   "nbconvert_exporter": "python",
   "pygments_lexer": "ipython3",
   "version": "3.9.16"
  }
 },
 "nbformat": 4,
 "nbformat_minor": 5
}
