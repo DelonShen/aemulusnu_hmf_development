{
 "cells": [
  {
   "cell_type": "code",
   "execution_count": 1,
   "id": "7d24abdb",
   "metadata": {},
   "outputs": [],
   "source": [
    "from aemulusnu_hmf.emulator import predict_params_full"
   ]
  },
  {
   "cell_type": "code",
   "execution_count": 2,
   "id": "3f6e7d46",
   "metadata": {},
   "outputs": [],
   "source": [
    "import pickle\n",
    "import numpy as np"
   ]
  },
  {
   "cell_type": "code",
   "execution_count": 3,
   "id": "ef2dfbf2",
   "metadata": {},
   "outputs": [],
   "source": [
    "cosmos_f = open('../data/cosmo_params.pkl', 'rb')\n",
    "cosmo_params = pickle.load(cosmos_f) #cosmo_params is a dict\n",
    "cosmos_f.close()"
   ]
  },
  {
   "cell_type": "code",
   "execution_count": 4,
   "id": "343432f3",
   "metadata": {},
   "outputs": [
    {
     "data": {
      "text/plain": [
       "array([ 1.96331446,  0.01337108,  1.11043021, -0.08513964,  0.40331857,\n",
       "        0.20879524,  1.21787705,  0.03729562])"
      ]
     },
     "execution_count": 4,
     "metadata": {},
     "output_type": "execute_result"
    }
   ],
   "source": [
    "predict_params_full(cosmo_params['Box_n50_0_1400'])"
   ]
  },
  {
   "cell_type": "code",
   "execution_count": 5,
   "id": "498105de",
   "metadata": {},
   "outputs": [
    {
     "name": "stdout",
     "output_type": "stream",
     "text": [
      "dict_values([1.9633144591928438, 0.013371081614312441, 1.1104302063384668, -0.08513963644237998, 0.40331857371545266, 0.20879524037303931, 1.217877046382478, 0.03729561838751527])\n"
     ]
    }
   ],
   "source": [
    "with open(\"/oak/stanford/orgs/kipac/users/delon/aemulusnu_massfunction/%s_params.pkl\"%('Box_n50_0_1400'), \"rb\") as f:\n",
    "    MLE_params = pickle.load(f)\n",
    "    print(np.array(MLE_params.values()))"
   ]
  },
  {
   "cell_type": "code",
   "execution_count": 6,
   "id": "d18a0bb6",
   "metadata": {},
   "outputs": [],
   "source": [
    "from aemulusnu_hmf.emulator import dn_dM"
   ]
  },
  {
   "cell_type": "code",
   "execution_count": 20,
   "id": "b460afed",
   "metadata": {},
   "outputs": [],
   "source": [
    "cosmology = {'ns': 0.97,\n",
    " 'H0': 67.0,\n",
    " 'w0': -1.0,\n",
    " 'ombh2': 0.0223,\n",
    " 'omch2': 0.12,\n",
    " 'nu_mass_ev': 0.07,\n",
    " '10^9 As': 2.1}"
   ]
  },
  {
   "cell_type": "code",
   "execution_count": null,
   "id": "4759c539",
   "metadata": {},
   "outputs": [],
   "source": [
    "dn_dM(cosmo_params['Box_n50_0_1400'], 1e14, 1.0)"
   ]
  },
  {
   "cell_type": "code",
   "execution_count": 7,
   "id": "6870c45a",
   "metadata": {},
   "outputs": [
    {
     "name": "stdout",
     "output_type": "stream",
     "text": [
      "initializing cosmology (should only happen once per cosmology)\n"
     ]
    },
    {
     "data": {
      "text/plain": [
       "5.101535613520616e-19"
      ]
     },
     "execution_count": 7,
     "metadata": {},
     "output_type": "execute_result"
    }
   ],
   "source": [
    "dn_dM(cosmo_params['Box_n50_0_1400'], 1e14, 1.0)"
   ]
  },
  {
   "cell_type": "code",
   "execution_count": 8,
   "id": "d3b0aecc",
   "metadata": {},
   "outputs": [],
   "source": [
    "Ms = np.logspace(12, 16, 100)"
   ]
  },
  {
   "cell_type": "code",
   "execution_count": 9,
   "id": "e2fcb737",
   "metadata": {},
   "outputs": [
    {
     "data": {
      "text/plain": [
       "array([4.30776418e-15, 3.61736183e-15, 3.03757653e-15, 2.55066706e-15,\n",
       "       2.14174326e-15, 1.79830659e-15, 1.50986502e-15, 1.26761013e-15,\n",
       "       1.06414629e-15, 8.93263562e-16, 7.49747203e-16, 6.29217847e-16,\n",
       "       5.27997437e-16, 4.42996722e-16, 3.71620846e-16, 3.11690110e-16,\n",
       "       2.61373468e-16, 2.19132695e-16, 1.83675512e-16, 1.53916236e-16,\n",
       "       1.28942728e-16, 1.07988648e-16, 9.04101415e-17, 7.56662662e-17,\n",
       "       6.33025482e-17, 5.29371669e-17, 4.42493510e-17, 3.69696276e-17,\n",
       "       3.08716301e-17, 2.57652146e-17, 2.14906753e-17, 1.79138836e-17,\n",
       "       1.49222033e-17, 1.24210575e-17, 1.03310431e-17, 8.58550634e-18,\n",
       "       7.12850475e-18, 5.91309425e-18, 4.89988974e-18, 4.05585517e-18,\n",
       "       3.35328688e-18, 2.76895904e-18, 2.28340566e-18, 1.88031710e-18,\n",
       "       1.54603310e-18, 1.26911681e-18, 1.03999682e-18, 8.50666598e-19,\n",
       "       6.94431911e-19, 5.65698767e-19, 4.59795316e-19, 3.72822340e-19,\n",
       "       3.01527729e-19, 2.43201153e-19, 1.95585664e-19, 1.56803556e-19,\n",
       "       1.25294172e-19, 9.97617738e-20, 7.91318322e-20, 6.25144165e-20,\n",
       "       4.91735228e-20, 3.85013955e-20, 2.99970382e-20, 2.32482360e-20,\n",
       "       1.79165263e-20, 1.37246385e-20, 1.04460051e-20, 7.89600737e-21,\n",
       "       5.92467386e-21, 4.41059582e-21, 3.25586070e-21, 2.38183760e-21,\n",
       "       1.72567530e-21, 1.23739598e-21, 8.77486921e-22, 6.14908296e-22,\n",
       "       4.25448505e-22, 2.90369797e-22, 1.95296206e-22, 1.29303712e-22,\n",
       "       8.41790215e-23, 5.38188344e-23, 3.37459565e-23, 2.07223890e-23,\n",
       "       1.24426323e-23, 7.29304180e-24, 4.16523928e-24, 2.31341183e-24,\n",
       "       1.24688138e-24, 6.50666391e-25, 3.27923272e-25, 1.59183016e-25,\n",
       "       7.42103093e-26, 3.31207980e-26, 1.41031583e-26, 5.70813770e-27,\n",
       "       2.18715842e-27, 7.89892796e-28, 2.67600970e-28, 8.46034540e-29])"
      ]
     },
     "execution_count": 9,
     "metadata": {},
     "output_type": "execute_result"
    }
   ],
   "source": [
    "dn_dM(cosmo_params['Box_n50_0_1400'], Ms, 1.0)"
   ]
  },
  {
   "cell_type": "code",
   "execution_count": 10,
   "id": "17fd7943",
   "metadata": {},
   "outputs": [],
   "source": [
    "import matplotlib.pyplot as plt"
   ]
  },
  {
   "cell_type": "code",
   "execution_count": 11,
   "id": "ff042e15",
   "metadata": {},
   "outputs": [
    {
     "data": {
      "text/plain": [
       "[]"
      ]
     },
     "execution_count": 11,
     "metadata": {},
     "output_type": "execute_result"
    },
    {
     "data": {
      "image/png": "[encoded data removed]",
      "text/plain": [
       "<Figure size 432x288 with 1 Axes>"
      ]
     },
     "metadata": {
      "needs_background": "light"
     },
     "output_type": "display_data"
    }
   ],
   "source": [
    "plt.plot(Ms, dn_dM(cosmo_params['Box_n50_0_1400'], Ms, 1.0))\n",
    "plt.loglog()"
   ]
  },
  {
   "cell_type": "code",
   "execution_count": 12,
   "id": "7932ea26",
   "metadata": {},
   "outputs": [],
   "source": [
    "from aemulusnu_hmf.emulator import multiplicity_function"
   ]
  },
  {
   "cell_type": "code",
   "execution_count": 18,
   "id": "719b96d8",
   "metadata": {},
   "outputs": [
    {
     "data": {
      "text/plain": [
       "[]"
      ]
     },
     "execution_count": 18,
     "metadata": {},
     "output_type": "execute_result"
    },
    {
     "data": {
      "image/png": "[encoded data removed]",
      "text/plain": [
       "<Figure size 432x288 with 1 Axes>"
      ]
     },
     "metadata": {
      "needs_background": "light"
     },
     "output_type": "display_data"
    }
   ],
   "source": [
    "sigcbs = np.logspace(-0.5, 0.5, 100)\n",
    "for a in [1.0, 0.9, 0.8, 0.7, 0.6, 0.5]:\n",
    "    plt.plot(1/sigcbs, multiplicity_function(cosmo_params['Box_n50_0_1400'], sigcbs, a))\n",
    "plt.loglog()"
   ]
  },
  {
   "cell_type": "code",
   "execution_count": null,
   "id": "a3f8b244",
   "metadata": {},
   "outputs": [],
   "source": []
  }
 ],
 "metadata": {
  "kernelspec": {
   "display_name": "massfunction",
   "language": "python",
   "name": "massfunction"
  },
  "language_info": {
   "codemirror_mode": {
    "name": "ipython",
    "version": 3
   },
   "file_extension": ".py",
   "mimetype": "text/x-python",
   "name": "python",
   "nbconvert_exporter": "python",
   "pygments_lexer": "ipython3",
   "version": "3.9.16"
  }
 },
 "nbformat": 4,
 "nbformat_minor": 5
}
