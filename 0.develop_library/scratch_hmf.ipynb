{
 "cells": [
  {
   "cell_type": "code",
   "execution_count": 1,
   "id": "15dba402",
   "metadata": {},
   "outputs": [],
   "source": [
    "import pyccl as ccl\n",
    "import matplotlib.pyplot as plt"
   ]
  },
  {
   "cell_type": "code",
   "execution_count": 2,
   "id": "be517c31",
   "metadata": {},
   "outputs": [],
   "source": [
    "from aemulusnu_hmf import massfunction as hmf"
   ]
  },
  {
   "cell_type": "code",
   "execution_count": 3,
   "id": "3a592482",
   "metadata": {},
   "outputs": [],
   "source": [
    "fiducial_cosmology = {'10^9 As':2.09681,\n",
    "                      'ns': 0.9652,\n",
    "                      'H0': 67.37,\n",
    "                      'w0': -1,\n",
    "                      'ombh2': 0.02233,\n",
    "                      'omch2': 0.1198,\n",
    "                      'nu_mass_ev': 0.07,} #this line changed\n",
    "h = fiducial_cosmology['H0']/100\n",
    "Ωb =  fiducial_cosmology['ombh2'] / h**2\n",
    "Ωc =  fiducial_cosmology['omch2'] / h**2\n",
    "\n",
    "fiducial_ccl_cosmo = ccl.Cosmology(Omega_c=Ωc,\n",
    "                          Omega_b=Ωb,\n",
    "                          h=h,\n",
    "                          A_s=fiducial_cosmology['10^9 As']*10**(-9),\n",
    "                          n_s=fiducial_cosmology['ns'],\n",
    "                          w0=fiducial_cosmology['w0'],\n",
    "                          m_nu=[fiducial_cosmology['nu_mass_ev']/3, fiducial_cosmology['nu_mass_ev']/3, fiducial_cosmology['nu_mass_ev']/3])\n",
    "\n"
   ]
  },
  {
   "cell_type": "code",
   "execution_count": 4,
   "id": "66ec0edb",
   "metadata": {},
   "outputs": [],
   "source": [
    "import numpy as np"
   ]
  },
  {
   "cell_type": "code",
   "execution_count": 5,
   "id": "0ad996fd",
   "metadata": {},
   "outputs": [],
   "source": [
    "M = np.logspace(13,16, 100)"
   ]
  },
  {
   "cell_type": "code",
   "execution_count": 7,
   "id": "02883c32",
   "metadata": {},
   "outputs": [],
   "source": [
    "import aemulusnu_hmf.massfunction as hmf\n",
    "\n",
    "cosmology = hmf.cosmology(fiducial_cosmology)\n",
    "\n",
    "z = 2\n",
    "sigma_cb = cosmology.sigma_cb(M, z)\n",
    "d_ln_sigma_cb_dM = cosmology.dln_sigma_cb_dM(M, z)\n",
    "rho_cb = cosmology.f_rho_cb(0.0)\n",
    "scale_params = dict(zip(['d','e','f','g'],[2.11383152, 1., 0.52542576, 1.23987508]))\n",
    "f = hmf.f_G(sigma_cb, **scale_params)\n",
    "\n",
    "dn_dM = f * rho_cb/M * (-d_ln_sigma_cb_dM) "
   ]
  },
  {
   "cell_type": "code",
   "execution_count": 8,
   "id": "2ca848ef",
   "metadata": {},
   "outputs": [
    {
     "data": {
      "text/plain": [
       "<matplotlib.legend.Legend at 0x7f447db758b0>"
      ]
     },
     "execution_count": 8,
     "metadata": {},
     "output_type": "execute_result"
    },
    {
     "data": {
      "image/png": "[encoded data removed]",
      "text/plain": [
       "<Figure size 432x288 with 1 Axes>"
      ]
     },
     "metadata": {
      "needs_background": "light"
     },
     "output_type": "display_data"
    }
   ],
   "source": [
    "hmfs = []\n",
    "# Press & Schechter mass function\n",
    "hmfs.append(ccl.halos.MassFuncPress74(mass_def='200m', mass_def_strict=False))\n",
    "\n",
    "# Sheth & Tormen mass function\n",
    "hmfs.append(ccl.halos.MassFuncSheth99(mass_def='200m', mass_def_strict=False))\n",
    "\n",
    "# Tinker 2008 mass function\n",
    "hmfs.append(ccl.halos.MassFuncTinker08(mass_def='200m', mass_def_strict=False))\n",
    "\n",
    "\n",
    "# Bocquet 2016 mass function\n",
    "hmfs.append(ccl.halos.MassFuncBocquet16(mass_def='200m'))\n",
    "\n",
    "# # Bocquet 2020 mass function\n",
    "# hmfs.append(ccl.halos.MassFuncBocquet20(mass_def='200m', mass_def_strict=False))\n",
    "\n",
    "plt.figure()\n",
    "for mf in hmfs:\n",
    "    nm = mf(fiducial_ccl_cosmo, M/h, 1/(1+z))\n",
    "    plt.plot(M, nm/(h**3 * M * np.log(10)), '--', label=mf.name)\n",
    "    \n",
    "plt.plot(M, dn_dM, 'k',label='minimal lib')\n",
    "plt.xscale('log')\n",
    "plt.yscale('log')\n",
    "plt.ylim(1e-36, 1e-12)\n",
    "plt.xlim(1e13, 1e16)\n",
    "plt.ylabel('$dn/dM\\ [h^4/ Mpc^3 Msun]$')\n",
    "plt.legend(frameon=False)"
   ]
  },
  {
   "cell_type": "code",
   "execution_count": 15,
   "id": "893d35dc",
   "metadata": {},
   "outputs": [],
   "source": [
    "rhom_ccl = (ccl.physical_constants.RHO_CRITICAL * fiducial_ccl_cosmo['Omega_m'])"
   ]
  },
  {
   "cell_type": "code",
   "execution_count": 16,
   "id": "29c5592c",
   "metadata": {},
   "outputs": [
    {
     "data": {
      "text/plain": [
       "-0.0009603741334543978"
      ]
     },
     "execution_count": 16,
     "metadata": {},
     "output_type": "execute_result"
    }
   ],
   "source": [
    "(cosmology.rho_m_0-rhom_ccl)/rhom_ccl"
   ]
  }
 ],
 "metadata": {
  "kernelspec": {
   "display_name": "massfunction",
   "language": "python",
   "name": "massfunction"
  },
  "language_info": {
   "codemirror_mode": {
    "name": "ipython",
    "version": 3
   },
   "file_extension": ".py",
   "mimetype": "text/x-python",
   "name": "python",
   "nbconvert_exporter": "python",
   "pygments_lexer": "ipython3",
   "version": "3.9.16"
  }
 },
 "nbformat": 4,
 "nbformat_minor": 5
}
