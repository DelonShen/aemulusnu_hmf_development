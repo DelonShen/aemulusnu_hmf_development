{
 "cells": [
  {
   "cell_type": "code",
   "execution_count": 1,
   "id": "d2850c32",
   "metadata": {},
   "outputs": [],
   "source": [
    "import numpy as np"
   ]
  },
  {
   "cell_type": "code",
   "execution_count": 19,
   "id": "bfac1514",
   "metadata": {},
   "outputs": [],
   "source": [
    "def gen_samples(a,b, n=1000):\n",
    "    return (b-a)* np.random.random_sample(n) + a"
   ]
  },
  {
   "cell_type": "code",
   "execution_count": 3,
   "id": "b09dd9d3",
   "metadata": {},
   "outputs": [],
   "source": [
    "key_ordering = ['10^9 As', 'ns', 'H0', 'w0', 'ombh2', 'omch2', 'nu_mass_ev']\n"
   ]
  },
  {
   "cell_type": "code",
   "execution_count": 4,
   "id": "de8b2d45",
   "metadata": {},
   "outputs": [],
   "source": [
    "#Table 1. of aemulusnu paper\n",
    "bounds = [[1.77, 2.43],\n",
    "         [.93, 1.01],\n",
    "         [59.5, 74.5],\n",
    "         [-1.28, -0.72],\n",
    "         [0.0198, 0.0248],\n",
    "         [0.11, 0.13],\n",
    "         [0.01, 0.5]]"
   ]
  },
  {
   "cell_type": "code",
   "execution_count": 5,
   "id": "2647cd52",
   "metadata": {},
   "outputs": [],
   "source": [
    "random_cosmos = np.array([gen_samples(a,b) for (a,b) in bounds]).T"
   ]
  },
  {
   "cell_type": "code",
   "execution_count": 6,
   "id": "06965cbe",
   "metadata": {},
   "outputs": [],
   "source": [
    "from aemulusnu_massfunction import emulator_training\n"
   ]
  },
  {
   "cell_type": "code",
   "execution_count": 7,
   "id": "3cefd4ae",
   "metadata": {},
   "outputs": [],
   "source": [
    "emulator = emulator_training.MassFuncAemulusNu_GP_emulator_training()"
   ]
  },
  {
   "cell_type": "code",
   "execution_count": 8,
   "id": "711b0a20",
   "metadata": {},
   "outputs": [],
   "source": [
    "import torch"
   ]
  },
  {
   "cell_type": "code",
   "execution_count": 9,
   "id": "757e004d",
   "metadata": {},
   "outputs": [],
   "source": [
    "random_params = []\n",
    "for curr_cosmo_values in random_cosmos:\n",
    "    X = emulator.in_scaler.transform(np.array([curr_cosmo_values]))\n",
    "\n",
    "    if(tuple(curr_cosmo_values) not in emulator.ComputedParams):\n",
    "        with torch.no_grad():#, gpytorch.settings.fast_pred_var():\n",
    "            predictions = emulator.model(torch.from_numpy(X).float())\n",
    "            mean = predictions.mean.numpy()\n",
    "        emulator.ComputedParams[tuple(curr_cosmo_values)] = dict(zip(emulator.param_names, mean[0]))\n",
    "\n",
    "    random_params +=[list(emulator.ComputedParams[tuple(curr_cosmo_values)].values())]\n",
    "random_params = np.array(random_params)"
   ]
  },
  {
   "cell_type": "code",
   "execution_count": 10,
   "id": "c3a8a41b",
   "metadata": {},
   "outputs": [
    {
     "data": {
      "text/plain": [
       "(1000, 8)"
      ]
     },
     "execution_count": 10,
     "metadata": {},
     "output_type": "execute_result"
    }
   ],
   "source": [
    "random_params.shape"
   ]
  },
  {
   "cell_type": "code",
   "execution_count": 12,
   "id": "18f4fbde",
   "metadata": {},
   "outputs": [],
   "source": [
    "np.savetxt('/home/users/delon/aemulusnu_hmf_lib/aemulusnu_hmf/data/random_tier2_output.txt', random_params)"
   ]
  },
  {
   "cell_type": "code",
   "execution_count": 13,
   "id": "e22cb9d3",
   "metadata": {},
   "outputs": [],
   "source": [
    "np.savetxt('/home/users/delon/aemulusnu_hmf_lib/aemulusnu_hmf/data/random_tier2_input.txt', random_cosmos)"
   ]
  },
  {
   "cell_type": "code",
   "execution_count": 14,
   "id": "77a71a81",
   "metadata": {},
   "outputs": [],
   "source": [
    "Ms = np.logspace(12, 16, 1000)"
   ]
  },
  {
   "cell_type": "code",
   "execution_count": 15,
   "id": "0deb2109",
   "metadata": {},
   "outputs": [],
   "source": [
    "from aemulusnu_hmf.massfunction import cosmology"
   ]
  },
  {
   "cell_type": "code",
   "execution_count": 17,
   "id": "623ca7d6",
   "metadata": {},
   "outputs": [],
   "source": [
    "from tqdm import tqdm"
   ]
  },
  {
   "cell_type": "code",
   "execution_count": 20,
   "id": "e93b4de0",
   "metadata": {},
   "outputs": [],
   "source": [
    "random_cosmos = np.array([gen_samples(a,b, n=10) for (a,b) in bounds]).T"
   ]
  },
  {
   "cell_type": "code",
   "execution_count": 21,
   "id": "cbf1877f",
   "metadata": {},
   "outputs": [
    {
     "name": "stderr",
     "output_type": "stream",
     "text": [
      "100%|██████████| 10/10 [04:40<00:00, 28.00s/it]\n"
     ]
    }
   ],
   "source": [
    "random_dn_dM = []\n",
    "for curr_cosmo_values in tqdm(random_cosmos):\n",
    "    curr_cosmology = cosmology(dict(zip(key_ordering, curr_cosmo_values)))\n",
    "    curr_vals = []\n",
    "    for a in np.linspace(0.33, 1, 100):\n",
    "        curr_vals += [emulator(curr_cosmology, Ms, a)]\n",
    "    random_dn_dM += [curr_vals]\n",
    "random_dn_dM = np.array(random_dn_dM)"
   ]
  },
  {
   "cell_type": "code",
   "execution_count": 22,
   "id": "720b6380",
   "metadata": {},
   "outputs": [
    {
     "data": {
      "text/plain": [
       "(10, 100, 1000)"
      ]
     },
     "execution_count": 22,
     "metadata": {},
     "output_type": "execute_result"
    }
   ],
   "source": [
    "random_dn_dM.shape"
   ]
  },
  {
   "cell_type": "code",
   "execution_count": 26,
   "id": "26836428",
   "metadata": {},
   "outputs": [
    {
     "data": {
      "text/plain": [
       "array([[2.25455863e-15, 2.20737154e-15, 2.16114061e-15, ...,\n",
       "        9.57616629e-30, 8.38725082e-30, 7.33979880e-30],\n",
       "       [2.08134021e-15, 2.03904828e-15, 1.99759179e-15, ...,\n",
       "        3.65625534e-29, 3.23998230e-29, 2.86896792e-29],\n",
       "       [1.72340486e-15, 1.68756246e-15, 1.65244319e-15, ...,\n",
       "        2.51152296e-30, 2.19149502e-30, 1.91063612e-30],\n",
       "       ...,\n",
       "       [1.97910409e-15, 1.93782264e-15, 1.89737577e-15, ...,\n",
       "        4.55448031e-29, 4.03834310e-29, 3.57804699e-29],\n",
       "       [2.05886775e-15, 2.01813018e-15, 1.97817932e-15, ...,\n",
       "        1.33117812e-28, 1.18982520e-28, 1.06275072e-28],\n",
       "       [2.53924742e-15, 2.48858204e-15, 2.43890094e-15, ...,\n",
       "        1.02968159e-28, 9.17055891e-29, 8.16165888e-29]])"
      ]
     },
     "execution_count": 26,
     "metadata": {},
     "output_type": "execute_result"
    }
   ],
   "source": [
    "np.reshape(random_dn_dM, (10, 100 * 1000))"
   ]
  },
  {
   "cell_type": "code",
   "execution_count": 27,
   "id": "478e895d",
   "metadata": {
    "scrolled": true
   },
   "outputs": [],
   "source": [
    "np.savetxt('/home/users/delon/aemulusnu_hmf_lib/aemulusnu_hmf/data/random_tier2_dn_dM_output.txt', \n",
    "           np.reshape(random_dn_dM, (10, 100 * 1000)))"
   ]
  },
  {
   "cell_type": "code",
   "execution_count": 28,
   "id": "80bbb147",
   "metadata": {},
   "outputs": [],
   "source": [
    "np.savetxt('/home/users/delon/aemulusnu_hmf_lib/aemulusnu_hmf/data/random_tier2_dn_dM_input.txt', \n",
    "           random_cosmos)"
   ]
  },
  {
   "cell_type": "code",
   "execution_count": null,
   "id": "0ef41239",
   "metadata": {},
   "outputs": [],
   "source": []
  }
 ],
 "metadata": {
  "kernelspec": {
   "display_name": "massfunction",
   "language": "python",
   "name": "massfunction"
  },
  "language_info": {
   "codemirror_mode": {
    "name": "ipython",
    "version": 3
   },
   "file_extension": ".py",
   "mimetype": "text/x-python",
   "name": "python",
   "nbconvert_exporter": "python",
   "pygments_lexer": "ipython3",
   "version": "3.9.16"
  }
 },
 "nbformat": 4,
 "nbformat_minor": 5
}
