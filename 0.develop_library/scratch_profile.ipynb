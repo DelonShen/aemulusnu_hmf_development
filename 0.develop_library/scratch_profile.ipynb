{
 "cells": [
  {
   "cell_type": "code",
   "execution_count": 1,
   "id": "449f2622",
   "metadata": {},
   "outputs": [],
   "source": [
    "import cProfile\n",
    "from aemulusnu_hmf import massfunction as hmf"
   ]
  },
  {
   "cell_type": "code",
   "execution_count": 2,
   "id": "e04576f1",
   "metadata": {},
   "outputs": [],
   "source": [
    "import pickle"
   ]
  },
  {
   "cell_type": "code",
   "execution_count": 3,
   "id": "c66f7545",
   "metadata": {},
   "outputs": [],
   "source": [
    "cosmos_f = open('../data/cosmo_params.pkl', 'rb')\n",
    "cosmo_params = pickle.load(cosmos_f) #cosmo_params is a dict\n",
    "cosmos_f.close()"
   ]
  },
  {
   "cell_type": "code",
   "execution_count": 4,
   "id": "200c848e",
   "metadata": {},
   "outputs": [
    {
     "data": {
      "text/plain": [
       "{'ns': 0.97000003,\n",
       " 'H0': 67.0,\n",
       " 'w0': -1.0,\n",
       " 'ombh2': 0.0223,\n",
       " 'omch2': 0.12,\n",
       " 'nu_mass_ev': 0.07071068,\n",
       " '10^9 As': 2.10100315}"
      ]
     },
     "execution_count": 4,
     "metadata": {},
     "output_type": "execute_result"
    }
   ],
   "source": [
    "cosmo_params['Box_n50_0_1400']"
   ]
  },
  {
   "cell_type": "code",
   "execution_count": 6,
   "id": "0328ca00",
   "metadata": {},
   "outputs": [],
   "source": [
    "# cProfile.run(\"hmf.cosmology(cosmo_params['Box_n50_0_1400'])\")"
   ]
  },
  {
   "cell_type": "code",
   "execution_count": 7,
   "id": "86795277",
   "metadata": {},
   "outputs": [],
   "source": [
    "cosmology = cosmo_params['Box_n50_0_1400']"
   ]
  },
  {
   "cell_type": "code",
   "execution_count": 13,
   "id": "b9826cbc",
   "metadata": {},
   "outputs": [],
   "source": [
    "\n",
    "h = cosmology['H0']/100\n",
    "cosmo_dict = {\n",
    "    'h': h,\n",
    "    'Omega_b': cosmology['ombh2'] / h**2,\n",
    "    'Omega_cdm': cosmology['omch2'] / h**2,\n",
    "    'N_ur': 0.00641,\n",
    "    'N_ncdm': 1,\n",
    "    'output': 'mPk mTk',\n",
    "    'z_pk': '0.0,99',\n",
    "    'P_k_max_h/Mpc': 20.,\n",
    "    'm_ncdm': cosmology['nu_mass_ev']/3,\n",
    "    'deg_ncdm': 3,\n",
    "#     'ncdm_quadrature_strategy': 2,\n",
    "    'T_cmb': 2.7255,\n",
    "    'A_s': cosmology['10^9 As'] * 10**-9,\n",
    "    'n_s': cosmology['ns'],\n",
    "    'Omega_Lambda': 0.0,\n",
    "    'w0_fld': cosmology['w0'],\n",
    "    'wa_fld': 0.0,\n",
    "    'cs2_fld': 1.0,\n",
    "    'fluid_equation_of_state': \"CLP\"\n",
    "}"
   ]
  },
  {
   "cell_type": "code",
   "execution_count": 14,
   "id": "19684d12",
   "metadata": {},
   "outputs": [],
   "source": [
    "from classy import Class"
   ]
  },
  {
   "cell_type": "code",
   "execution_count": 15,
   "id": "38fc3187",
   "metadata": {},
   "outputs": [
    {
     "name": "stdout",
     "output_type": "stream",
     "text": [
      "         3 function calls in 0.577 seconds\n",
      "\n",
      "   Ordered by: standard name\n",
      "\n",
      "   ncalls  tottime  percall  cumtime  percall filename:lineno(function)\n",
      "        1    0.577    0.577    0.577    0.577 <string>:1(<module>)\n",
      "        1    0.000    0.000    0.577    0.577 {built-in method builtins.exec}\n",
      "        1    0.000    0.000    0.000    0.000 {method 'disable' of '_lsprof.Profiler' objects}\n",
      "\n",
      "\n"
     ]
    }
   ],
   "source": [
    "\n",
    "pkclass = Class()\n",
    "pkclass.set(cosmo_dict)\n",
    "\n",
    "cProfile.run(\"pkclass.compute()\")"
   ]
  },
  {
   "cell_type": "code",
   "execution_count": null,
   "id": "6696355c",
   "metadata": {},
   "outputs": [],
   "source": []
  }
 ],
 "metadata": {
  "kernelspec": {
   "display_name": "massfunction",
   "language": "python",
   "name": "massfunction"
  },
  "language_info": {
   "codemirror_mode": {
    "name": "ipython",
    "version": 3
   },
   "file_extension": ".py",
   "mimetype": "text/x-python",
   "name": "python",
   "nbconvert_exporter": "python",
   "pygments_lexer": "ipython3",
   "version": "3.9.16"
  }
 },
 "nbformat": 4,
 "nbformat_minor": 5
}
