{
 "cells": [
  {
   "cell_type": "code",
   "execution_count": 1,
   "id": "f62af5ad",
   "metadata": {},
   "outputs": [
    {
     "data": {
      "text/plain": [
       "PyObject <function load_pickle at 0x7f1b567911f0>"
      ]
     },
     "execution_count": 1,
     "metadata": {},
     "output_type": "execute_result"
    }
   ],
   "source": [
    "using PyCall\n",
    "using NPZ, JLD2\n",
    "\n",
    "py\"\"\"\n",
    "import pickle\n",
    "import numpy as np\n",
    "\n",
    "def load_pickle(fpath):\n",
    "    with open(fpath, \"rb\") as f:\n",
    "        data = pickle.load(f)\n",
    "    return data\n",
    "\"\"\"\n",
    "\n",
    "load_pickle = py\"load_pickle\""
   ]
  },
  {
   "cell_type": "code",
   "execution_count": 2,
   "id": "004b5de2",
   "metadata": {},
   "outputs": [
    {
     "data": {
      "text/plain": [
       "0.59729599"
      ]
     },
     "execution_count": 2,
     "metadata": {},
     "output_type": "execute_result"
    }
   ],
   "source": [
    "cosmo_params = load_pickle(\"cosmo_params.pkl\") # cosmo_params is a dictionary\n",
    "\n",
    "box = \"Box0_1400\"\n",
    "h = cosmo_params[box][\"H0\"]/100"
   ]
  },
  {
   "cell_type": "code",
   "execution_count": 3,
   "id": "5a0b2b86",
   "metadata": {},
   "outputs": [
    {
     "name": "stdout",
     "output_type": "stream",
     "text": [
      "/oak/stanford/orgs/kipac/users/delon/aemulusnu_massfunction/Box0_1400_Pk.pkl"
     ]
    }
   ],
   "source": [
    "print(\"/oak/stanford/orgs/kipac/users/delon/aemulusnu_massfunction/$(box)_Pk.pkl\")"
   ]
  },
  {
   "cell_type": "code",
   "execution_count": 5,
   "id": "107e1e51",
   "metadata": {},
   "outputs": [
    {
     "data": {
      "text/plain": [
       "Dict{Any, Any} with 16 entries:\n",
       "  0.953321 => Dict{Any, Any}(\"vol\"=>1.15762e9, \"Mpart\"=>4.93984e10, \"M\"=>[5.511…\n",
       "  0.620002 => Dict{Any, Any}(\"vol\"=>1.15762e9, \"Mpart\"=>4.93984e10, \"M\"=>[5.431…\n",
       "  0.715608 => Dict{Any, Any}(\"vol\"=>1.15762e9, \"Mpart\"=>4.93984e10, \"M\"=>[5.460…\n",
       "  0.65036  => Dict{Any, Any}(\"vol\"=>1.15762e9, \"Mpart\"=>4.93984e10, \"M\"=>[5.444…\n",
       "  0.403224 => Dict{Any, Any}(\"vol\"=>1.15762e9, \"Mpart\"=>4.93984e10, \"M\"=>[5.285…\n",
       "  0.537169 => Dict{Any, Any}(\"vol\"=>1.15762e9, \"Mpart\"=>4.93984e10, \"M\"=>[5.382…\n",
       "  0.25     => Dict{Any, Any}(\"vol\"=>1.15762e9, \"Mpart\"=>4.93984e10, \"M\"=>[5.160…\n",
       "  1.0      => Dict{Any, Any}(\"vol\"=>1.15762e9, \"Mpart\"=>4.93984e10, \"M\"=>[5.513…\n",
       "  0.366459 => Dict{Any, Any}(\"vol\"=>1.15762e9, \"Mpart\"=>4.93984e10, \"M\"=>[5.258…\n",
       "  0.787402 => Dict{Any, Any}(\"vol\"=>1.15762e9, \"Mpart\"=>4.93984e10, \"M\"=>[5.480…\n",
       "  0.563471 => Dict{Any, Any}(\"vol\"=>1.15762e9, \"Mpart\"=>4.93984e10, \"M\"=>[5.395…\n",
       "  0.302679 => Dict{Any, Any}(\"vol\"=>1.15762e9, \"Mpart\"=>4.93984e10, \"M\"=>[5.196…\n",
       "  0.866399 => Dict{Any, Any}(\"vol\"=>1.15762e9, \"Mpart\"=>4.93984e10, \"M\"=>[5.491…\n",
       "  0.512095 => Dict{Any, Any}(\"vol\"=>1.15762e9, \"Mpart\"=>4.93984e10, \"M\"=>[5.364…\n",
       "  0.591061 => Dict{Any, Any}(\"vol\"=>1.15762e9, \"Mpart\"=>4.93984e10, \"M\"=>[5.415…\n",
       "  0.488191 => Dict{Any, Any}(\"vol\"=>1.15762e9, \"Mpart\"=>4.93984e10, \"M\"=>[5.358…"
      ]
     },
     "execution_count": 5,
     "metadata": {},
     "output_type": "execute_result"
    }
   ],
   "source": [
    "Pk_fname = \"/oak/stanford/orgs/kipac/users/delon/aemulusnu_massfunction/$(box)_Pk.pkl\"\n",
    "Pkz = load_pickle(Pk_fname) # Pkz is a dictionary of functions\n",
    "\n",
    "dndM_fname = \"/oak/stanford/orgs/kipac/users/delon/aemulusnu_massfunction/$(box)_dndM.pkl\"\n",
    "dndMs = load_pickle(dndM_fname) # dndMs is a dictionary of dictionaries\n",
    "\n",
    "NvM_fname = \"/oak/stanford/orgs/kipac/users/delon/aemulusnu_massfunction/$(box)_NvsM.pkl\"\n",
    "NvMs = load_pickle(NvM_fname) # NvMs is a dictionary of dictionaries"
   ]
  },
  {
   "cell_type": "code",
   "execution_count": 29,
   "id": "30c70181",
   "metadata": {},
   "outputs": [
    {
     "data": {
      "text/plain": [
       "Dict{Any, Any} with 16 entries:\n",
       "  0.953321 => 0.0489646\n",
       "  0.620002 => 0.612898\n",
       "  0.715608 => 0.397413\n",
       "  0.302679 => 2.30383\n",
       "  0.65036  => 0.53761\n",
       "  0.403224 => 1.48001\n",
       "  0.866399 => 0.154203\n",
       "  0.537169 => 0.861612\n",
       "  0.25     => 3.0\n",
       "  1.0      => 0.0\n",
       "  0.512095 => 0.952763\n",
       "  0.591061 => 0.691873\n",
       "  0.366459 => 1.72882\n",
       "  0.787402 => 0.269999\n",
       "  0.563471 => 0.774714\n",
       "  0.488191 => 1.04838"
      ]
     },
     "execution_count": 29,
     "metadata": {},
     "output_type": "execute_result"
    }
   ],
   "source": [
    "z_to_a = Dict(zip(sort(collect(keys(Pkz)), rev=true), sort(collect(keys(dndMs)))))\n",
    "a_to_z = Dict(zip(sort(collect(keys(dndMs))), sort(collect(keys(Pkz)), rev=true)))"
   ]
  },
  {
   "cell_type": "code",
   "execution_count": 114,
   "id": "f140b86c",
   "metadata": {},
   "outputs": [
    {
     "name": "stderr",
     "output_type": "stream",
     "text": [
      "\u001b[32m\u001b[1m    Updating\u001b[22m\u001b[39m registry at `~/.julia/registries/General.toml`\n",
      "\u001b[32m\u001b[1m   Resolving\u001b[22m\u001b[39m package versions...\n",
      "\u001b[32m\u001b[1m   Installed\u001b[22m\u001b[39m QuadGK ───────── v2.8.2\n",
      "\u001b[32m\u001b[1m   Installed\u001b[22m\u001b[39m DataStructures ─ v0.18.13\n",
      "\u001b[32m\u001b[1m    Updating\u001b[22m\u001b[39m `~/.julia/environments/v1.8/Project.toml`\n",
      " \u001b[90m [1fd47b50] \u001b[39m\u001b[92m+ QuadGK v2.8.2\u001b[39m\n",
      "\u001b[32m\u001b[1m    Updating\u001b[22m\u001b[39m `~/.julia/environments/v1.8/Manifest.toml`\n",
      " \u001b[90m [864edb3b] \u001b[39m\u001b[92m+ DataStructures v0.18.13\u001b[39m\n",
      " \u001b[90m [1fd47b50] \u001b[39m\u001b[92m+ QuadGK v2.8.2\u001b[39m\n",
      "\u001b[32m\u001b[1mPrecompiling\u001b[22m\u001b[39m project...\n",
      "\u001b[32m  ✓ \u001b[39m\u001b[90mDataStructures\u001b[39m\n",
      "\u001b[32m  ✓ \u001b[39mQuadGK\n",
      "  2 dependencies successfully precompiled in 5 seconds. 40 already precompiled.\n"
     ]
    }
   ],
   "source": [
    "import Pkg; Pkg.add(\"QuadGK\")"
   ]
  },
  {
   "cell_type": "code",
   "execution_count": 122,
   "id": "5cb8f535",
   "metadata": {},
   "outputs": [
    {
     "data": {
      "text/plain": [
       "dsigma2dR (generic function with 1 method)"
      ]
     },
     "execution_count": 122,
     "metadata": {},
     "output_type": "execute_result"
    }
   ],
   "source": [
    "using DoubleExponentialFormulas\n",
    "using QuadGK\n",
    "#stealing from Komatsu \n",
    "function sigma2(pk, R::Real)\n",
    "   function dσ2dk(k)\n",
    "      x = k * R\n",
    "      W = (3 / x) * (sin(x) / x^2 - cos(x) / x)\n",
    "      dσ2dk = W^2 * pk(k) * k^2 / 2 / π^2\n",
    "   end\n",
    "   res, err = quadde(dσ2dk, 0, 20 / R)\n",
    "   return res\n",
    "end\n",
    "\n",
    "function dsigma2dR(pk, R::Real)\n",
    "   function dσ2dRdk(k)\n",
    "      x = k * R\n",
    "      W = (3 / x) * (sin(x) / x^2 - cos(x) / x)\n",
    "      dWdx = (-3 / x) * ((3 / x^2 - 1) * sin(x) / x - 3 * cos(x) / x^2)\n",
    "      dσ2dRdk = 2 * W * dWdx * pk(k) * k^3 / 2 / π^2\n",
    "   end\n",
    "   res, err = quadde(dσ2dRdk, 0, 20 / R)\n",
    "   return res\n",
    "end"
   ]
  },
  {
   "cell_type": "code",
   "execution_count": 123,
   "id": "a0e6c993",
   "metadata": {},
   "outputs": [
    {
     "data": {
      "text/plain": [
       "rhom_a (generic function with 1 method)"
      ]
     },
     "execution_count": 123,
     "metadata": {},
     "output_type": "execute_result"
    }
   ],
   "source": [
    "\n",
    "const G = 4.3009e-9 #km^2 Mpc/ (Msolar  s^2) weird units to make rhom_a good units \n",
    "cosmo_params = load_pickle(\"cosmo_params.pkl\")\n",
    "\n",
    "function M_to_R(M, box, a)\n",
    "    return (M / (4/3 * π * rhom_a(box, a))) ^ (1/3) # h^-1 Mpc  \n",
    "end\n",
    "\n",
    "function R_to_M(R,box, a)\n",
    "    return R ^ 3 * 4/3 * π * rhom_a(box, a)\n",
    "end\n",
    "\n",
    "function dRdM(M, box, a)\n",
    "    return 1/(6^(2/3)* π^(1/3) * M^(2/3) * rhom_a(box, a)^(1/3))\n",
    "end\n",
    "\n",
    "function scaleToRedshift(a)\n",
    "    return 1/a-1\n",
    "end\n",
    "\n",
    "function redshiftToScale(z)\n",
    "    return 1/(1+z)\n",
    "end\n",
    "\n",
    "\n",
    "function logspace(start, stop, n)\n",
    "        oup = (range(log10(start),stop=stop,length=n))\n",
    "        return [10^i for i in oup]\n",
    "end\n",
    "\n",
    "function rhom_a(box, a)\n",
    "    ombh2 = cosmo_params[box][\"ombh2\"]\n",
    "    omch2 = cosmo_params[box][\"omch2\"]\n",
    "    H0 = cosmo_params[box][\"H0\"] #[km s^-1 Mpc-1]\n",
    "    h = H0/100\n",
    "    \n",
    "    Ωm = ombh2/h^2 + omch2/h^2\n",
    "    ΩΛ = 1 - Ωm\n",
    "    ρcrit0 = 3*H0^2/(8*π*G) # h^2 Msol/Mpc^3\n",
    "    \n",
    "    return Ωm*ρcrit0*(Ωm*a^(-3) + ΩΛ) * a^(3) #times a^3 bc rho in comoving(?)\n",
    "end"
   ]
  },
  {
   "cell_type": "code",
   "execution_count": 124,
   "id": "646f6124",
   "metadata": {
    "scrolled": false
   },
   "outputs": [
    {
     "name": "stdout",
     "output_type": "stream",
     "text": [
      "a\n",
      "b\n",
      "c\n",
      "d\n",
      "a\n",
      "b\n"
     ]
    },
    {
     "ename": "LoadError",
     "evalue": "InterruptException:",
     "output_type": "error",
     "traceback": [
      "InterruptException:",
      "",
      "Stacktrace:",
      "  [1] sigatomic_end",
      "    @ ./c.jl:452 [inlined]",
      "  [2] disable_sigint",
      "    @ ./c.jl:475 [inlined]",
      "  [3] __pycall!",
      "    @ ~/.julia/packages/PyCall/twYvK/src/pyfncall.jl:42 [inlined]",
      "  [4] _pycall!(ret::PyObject, o::PyObject, args::Tuple{Float64}, nargs::Int64, kw::Ptr{Nothing})",
      "    @ PyCall ~/.julia/packages/PyCall/twYvK/src/pyfncall.jl:29",
      "  [5] _pycall!",
      "    @ ~/.julia/packages/PyCall/twYvK/src/pyfncall.jl:11 [inlined]",
      "  [6] #_#114",
      "    @ ~/.julia/packages/PyCall/twYvK/src/pyfncall.jl:86 [inlined]",
      "  [7] PyObject",
      "    @ ~/.julia/packages/PyCall/twYvK/src/pyfncall.jl:86 [inlined]",
      "  [8] (::var\"#dσ2dRdk#199\"{PyObject, Float64})(k::Float64)",
      "    @ Main ./In[122]:19",
      "  [9] #18",
      "    @ ~/.julia/packages/DoubleExponentialFormulas/ObEDR/src/quadde.jl:134 [inlined]",
      " [10] (::DoubleExponentialFormulas.var\"#eval#3\"{DoubleExponentialFormulas.var\"#18#22\"{var\"#dσ2dRdk#199\"{PyObject, Float64}, Float64, Float64}})(t::Tuple{Float64, Float64})",
      "    @ DoubleExponentialFormulas ~/.julia/packages/DoubleExponentialFormulas/ObEDR/src/quadts.jl:90",
      " [11] macro expansion",
      "    @ ~/.julia/packages/DoubleExponentialFormulas/ObEDR/src/mapsum.jl:19 [inlined]",
      " [12] macro expansion",
      "    @ ./simdloop.jl:77 [inlined]",
      " [13] mapsum(f::DoubleExponentialFormulas.var\"#eval#3\"{DoubleExponentialFormulas.var\"#18#22\"{var\"#dσ2dRdk#199\"{PyObject, Float64}, Float64, Float64}}, A::Vector{Tuple{Float64, Float64}}, ifirst::Int64, ilast::Int64, blksize::Int64)",
      "    @ DoubleExponentialFormulas ~/.julia/packages/DoubleExponentialFormulas/ObEDR/src/mapsum.jl:17",
      " [14] mapsum (repeats 2 times)",
      "    @ ~/.julia/packages/DoubleExponentialFormulas/ObEDR/src/mapsum.jl:40 [inlined]",
      " [15] (::QuadTS{Float64, 12})(f::DoubleExponentialFormulas.var\"#18#22\"{var\"#dσ2dRdk#199\"{PyObject, Float64}, Float64, Float64}; atol::Float64, rtol::Float64)",
      "    @ DoubleExponentialFormulas ~/.julia/packages/DoubleExponentialFormulas/ObEDR/src/quadts.jl:98",
      " [16] (::QuadDE{Float64, 12})(f::var\"#dσ2dRdk#199\"{PyObject, Float64}, a::Int64, b::Float64; atol::Float64, rtol::Float64)",
      "    @ DoubleExponentialFormulas ~/.julia/packages/DoubleExponentialFormulas/ObEDR/src/quadde.jl:134",
      " [17] (::QuadDE{Float64, 12})(f::Function, a::Int64, b::Float64)",
      "    @ DoubleExponentialFormulas ~/.julia/packages/DoubleExponentialFormulas/ObEDR/src/quadde.jl:96",
      " [18] #quadde#24",
      "    @ ~/.julia/packages/DoubleExponentialFormulas/ObEDR/src/quadde.jl:214 [inlined]",
      " [19] quadde",
      "    @ ~/.julia/packages/DoubleExponentialFormulas/ObEDR/src/quadde.jl:214 [inlined]",
      " [20] dsigma2dR(pk::PyObject, R::Float64)",
      "    @ Main ./In[122]:21",
      " [21] _broadcast_getindex_evalf",
      "    @ ./broadcast.jl:670 [inlined]",
      " [22] _broadcast_getindex",
      "    @ ./broadcast.jl:643 [inlined]",
      " [23] getindex",
      "    @ ./broadcast.jl:597 [inlined]",
      " [24] copyto_nonleaf!(dest::Vector{Array{Float64, 0}}, bc::Base.Broadcast.Broadcasted{Base.Broadcast.DefaultArrayStyle{1}, Tuple{Base.OneTo{Int64}}, typeof(dsigma2dR), Tuple{Base.RefValue{PyObject}, Base.Broadcast.Extruded{Vector{Float64}, Tuple{Bool}, Tuple{Int64}}}}, iter::Base.OneTo{Int64}, state::Int64, count::Int64)",
      "    @ Base.Broadcast ./broadcast.jl:1055",
      " [25] copy",
      "    @ ./broadcast.jl:907 [inlined]",
      " [26] materialize(bc::Base.Broadcast.Broadcasted{Base.Broadcast.DefaultArrayStyle{1}, Nothing, typeof(dsigma2dR), Tuple{Base.RefValue{PyObject}, Vector{Float64}}})",
      "    @ Base.Broadcast ./broadcast.jl:860",
      " [27] top-level scope",
      "    @ In[124]:52"
     ]
    }
   ],
   "source": [
    "data = []\n",
    "N_data = []\n",
    "using Interpolations\n",
    "\n",
    "vol = -1\n",
    "Mpart = -1\n",
    "\n",
    "dlnσinvdMs = Dict()\n",
    "for z in zip(keys(z_to_a))\n",
    "    z = (collect(z)[1])\n",
    "    a = z_to_a[z]\n",
    "    Pk = Pkz[z]\n",
    "    c_data = NvMs[a]\n",
    "\n",
    "    Ms = c_data[\"M\"]\n",
    "    N = c_data[\"N\"]\n",
    "    Ngt10 = findall(N .> 10)\n",
    "    edges = c_data[\"bin_edges\"]\n",
    "\n",
    "    if vol == -1\n",
    "        vol = c_data[\"vol\"]\n",
    "    end\n",
    "    @assert vol == c_data[\"vol\"]\n",
    "\n",
    "    if Mpart == -1\n",
    "        Mpart = c_data[\"Mpart\"]\n",
    "    end\n",
    "    @assert Mpart == c_data[\"Mpart\"]\n",
    "\n",
    "    edge_pairs = [[edges[i], edges[i+1]] for i in 1:length(edges)-1]\n",
    "    edge_pairs = edge_pairs[Ngt10, :]\n",
    "\n",
    "    @assert length(edge_pairs) == length(Ms)\n",
    "    @assert length(N) == length(Ms)\n",
    "\n",
    "    datapoint = Dict()\n",
    "    \n",
    "    for (N_cur, M_cur, edge_pair) in zip(N, Ms, eachrow(edge_pairs))\n",
    "        datapoint[\"a\"] = a\n",
    "        datapoint[\"M\"] = M_cur\n",
    "        datapoint[\"edges\"]  = edge_pair\n",
    "        push!(N_data, N_cur)\n",
    "        push!(data, copy(datapoint))\n",
    "    end\n",
    "\n",
    "    \n",
    "    sM = logspace(log10(100*Mpart), 17, 50)\n",
    "    R  = [M_to_R(m, box, a) for m in sM]\n",
    "    println(\"a\")\n",
    "    sigma2s = collect(Iterators.flatten(sigma2.(Pk,R)))\n",
    "    println(\"b\") \n",
    "    dsigma2dRs = collect(Iterators.flatten(dsigma2dR.(Pk,R)))\n",
    "    dRdMs = collect(Iterators.flatten(dRdM.(sM, box, a)))\n",
    "    println(\"c\") \n",
    "    dlnσinvdM = -1/2* (dsigma2dRs./sigma2s).*dRdMs\n",
    "    println(\"d\") \n",
    "\n",
    "\n",
    "\n",
    "    f_dlnsinvdM_log   = LinearInterpolation(log10.(sM), dlnsinvdM, extrapolation_bc=Periodic())\n",
    "#     f_dlnsinvdM = x -> f_dlnsinvdM_log(log10(x))\n",
    "\n",
    "#     dlnσinvdMs[a] = f_dlnsinvdM\n",
    "\n",
    "#     f_M = logspace(log10(minimum(Ms)), log10(maximum(Ms)-1),100)\n",
    "\n",
    "#         plt.plot(sM, f_dlnsinvdM.(sM))\n",
    "#         plt.plot(sM, dlnsinvdM, \"x\")\n",
    "#         plt.xscale(\"log\")\n",
    "#         plt.yscale(\"log\")\n",
    "\n",
    "#     plt.show()\n",
    "end"
   ]
  },
  {
   "cell_type": "code",
   "execution_count": 125,
   "id": "49b1ed30",
   "metadata": {},
   "outputs": [
    {
     "name": "stderr",
     "output_type": "stream",
     "text": [
      "\u001b[32m\u001b[1m   Resolving\u001b[22m\u001b[39m package versions...\n",
      "\u001b[32m\u001b[1m  No Changes\u001b[22m\u001b[39m to `~/.julia/environments/v1.8/Project.toml`\n",
      "\u001b[32m\u001b[1m  No Changes\u001b[22m\u001b[39m to `~/.julia/environments/v1.8/Manifest.toml`\n"
     ]
    }
   ],
   "source": [
    "using Pkg\n",
    "Pkg.add(\"Interpolations\")"
   ]
  },
  {
   "cell_type": "code",
   "execution_count": 121,
   "id": "9c6b3956",
   "metadata": {},
   "outputs": [
    {
     "data": {
      "text/plain": [
       "3-element Vector{Int64}:\n",
       "  4\n",
       " 10\n",
       " 18"
      ]
     },
     "execution_count": 121,
     "metadata": {},
     "output_type": "execute_result"
    }
   ],
   "source": [
    "vec1 = [1,2,3]\n",
    "vec2 = [4,5,6]\n",
    "vec1.*vec2"
   ]
  }
 ],
 "metadata": {
  "kernelspec": {
   "display_name": "Julia 1.8.4",
   "language": "julia",
   "name": "julia-1.8"
  },
  "language_info": {
   "file_extension": ".jl",
   "mimetype": "application/julia",
   "name": "julia",
   "version": "1.8.4"
  }
 },
 "nbformat": 4,
 "nbformat_minor": 5
}
