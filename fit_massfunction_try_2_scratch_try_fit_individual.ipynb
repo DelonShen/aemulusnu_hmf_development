{
 "cells": [
  {
   "cell_type": "code",
   "execution_count": 1,
   "id": "2be2018a",
   "metadata": {},
   "outputs": [],
   "source": [
    "%load_ext autoreload\n",
    "%autoreload 2"
   ]
  },
  {
   "cell_type": "code",
   "execution_count": 2,
   "id": "271fbe35",
   "metadata": {},
   "outputs": [],
   "source": [
    "from utils import *\n",
    "import numpy as np\n",
    "from scipy.stats import binned_statistic\n",
    "from tqdm import tqdm, trange\n",
    "import seaborn\n",
    "import matplotlib.pyplot as plt\n",
    "import os\n",
    "import emcee"
   ]
  },
  {
   "cell_type": "code",
   "execution_count": 3,
   "id": "c355f443",
   "metadata": {},
   "outputs": [],
   "source": [
    "import numpy as np\n",
    "import pickle\n",
    "\n",
    "cosmos_f = open('cosmo_params.pkl', 'rb')\n",
    "cosmo_params = pickle.load(cosmos_f) #cosmo_params is a dict\n",
    "cosmos_f.close()\n",
    "\n",
    "# box = 'Box0_1400'\n",
    "box = 'Box_n50_0_1400'\n",
    "h = cosmo_params[box]['H0']/100\n",
    "\n",
    "Pk_fname = '/oak/stanford/orgs/kipac/users/delon/aemulusnu_massfunction/'+box+'_Pk.pkl'\n",
    "Pk_f = open(Pk_fname, 'rb')\n",
    "Pkz = pickle.load(Pk_f) #Pkz is a dictonary of functions\n",
    "Pk_f.close()\n",
    "\n",
    "NvM_fname = '/oak/stanford/orgs/kipac/users/delon/aemulusnu_massfunction/'+box+'_NvsM.pkl'\n",
    "NvM_f = open(NvM_fname, 'rb')\n",
    "NvMs = pickle.load(NvM_f) #NvMs is a dictionary of dictionaries\n",
    "NvM_f.close()"
   ]
  },
  {
   "cell_type": "code",
   "execution_count": null,
   "id": "90ea1868",
   "metadata": {},
   "outputs": [],
   "source": []
  },
  {
   "cell_type": "code",
   "execution_count": 4,
   "id": "fe5b3628",
   "metadata": {},
   "outputs": [],
   "source": [
    "#deal with floating point errors\n",
    "a_to_z = dict(zip(NvMs.keys(), Pkz.keys()))\n",
    "z_to_a = dict(zip(Pkz.keys(), NvMs.keys()))"
   ]
  },
  {
   "cell_type": "code",
   "execution_count": 5,
   "id": "1c4420f2",
   "metadata": {},
   "outputs": [
    {
     "data": {
      "text/plain": [
       "{0.25: 3.0,\n",
       " 0.302679: 2.3038301302700224,\n",
       " 0.366459: 1.7288182306888356,\n",
       " 0.403224: 1.4800111104497748,\n",
       " 0.488191: 1.0483786059144884,\n",
       " 0.512095: 0.9527626709887815,\n",
       " 0.537169: 0.8616115226306804,\n",
       " 0.563471: 0.7747142266416549,\n",
       " 0.591061: 0.691872750866662,\n",
       " 0.620002: 0.6128980229096033,\n",
       " 0.65036: 0.5376099391106464,\n",
       " 0.715608: 0.3974131088528914,\n",
       " 0.787402: 0.26999931420037027,\n",
       " 0.866399: 0.15420262488760939,\n",
       " 0.953321: 0.04896461947234987,\n",
       " 1.0: 0.0}"
      ]
     },
     "execution_count": 5,
     "metadata": {},
     "output_type": "execute_result"
    }
   ],
   "source": [
    "a_to_z"
   ]
  },
  {
   "cell_type": "code",
   "execution_count": 19,
   "id": "7e6907de",
   "metadata": {},
   "outputs": [
    {
     "name": "stderr",
     "output_type": "stream",
     "text": [
      "  0%|          | 0/16 [00:00<?, ?it/s]/home/users/delon/aemulusnu_massfunction/utils.py:100: IntegrationWarning: The maximum number of subdivisions (50) has been achieved.\n",
      "  If increasing the limit yields no improvement it is advised to analyze \n",
      "  the integrand in order to determine the difficulties.  If the position of a \n",
      "  local difficulty can be determined (singularity, discontinuity) one will \n",
      "  probably gain from splitting up the interval and calling the integrator \n",
      "  on the subranges.  Perhaps a special-purpose integrator should be used.\n",
      "  res, err = quad(dσ2dRdk, 0, 20 / R)\n",
      "100%|██████████| 16/16 [00:03<00:00,  4.66it/s]\n"
     ]
    },
    {
     "name": "stdout",
     "output_type": "stream",
     "text": [
      "1 1\n",
      "(14,) (14,)\n"
     ]
    },
    {
     "data": {
      "image/png": "[encoded data removed]",
      "text/plain": [
       "<Figure size 432x288 with 1 Axes>"
      ]
     },
     "metadata": {
      "needs_background": "light"
     },
     "output_type": "display_data"
    }
   ],
   "source": [
    "LOOKING_AT = [1.0]\n",
    "from utils import *\n",
    "\n",
    "N_data = {}\n",
    "M_data = {}\n",
    "from scipy.interpolate import interp1d\n",
    "\n",
    "dlnσinvdMs = {}\n",
    "\n",
    "vol = -1\n",
    "Mpart = -1\n",
    "\n",
    "for z in tqdm(Pkz.keys()):\n",
    "    a = z_to_a[z]\n",
    "    if(a not in LOOKING_AT):\n",
    "        continue\n",
    "    Pk = Pkz[z]\n",
    "    c_data = NvMs[a]\n",
    "    \n",
    "    Ms = c_data['M'] #units of h^-1 Msolar\n",
    "    N = c_data['N']\n",
    "    edge_pairs = c_data['edge_pairs']\n",
    "    assert(len(Ms) == len(edge_pairs))\n",
    "    assert(len(Ms) == len(N))\n",
    "    \n",
    "\n",
    "    if(vol==-1):\n",
    "        vol = c_data['vol']\n",
    "    assert(vol == c_data['vol'])\n",
    "\n",
    "    if(Mpart==-1):\n",
    "        Mpart = c_data['Mpart']\n",
    "    assert(Mpart == c_data['Mpart'])\n",
    "\n",
    "    N_data[a] = N\n",
    "    M_data[a] = Ms\n",
    "    \n",
    "    M_numerics = np.logspace(np.log10(100*Mpart), 17, 50) #h^-1 Msolar\n",
    "    \n",
    "    \n",
    "    R = [M_to_R(m, box, a) for m in M_numerics] #h^-1 Mpc\n",
    "    \n",
    "    \n",
    "    sigma2s = [sigma2(Pk, r) for r in R]\n",
    "    sigma = np.sqrt(sigma2s)\n",
    "    lnsigmainv = -np.log(sigma)\n",
    "    dlnsinvdM = np.gradient(lnsigmainv, M_numerics)\n",
    "\n",
    "    dσ2dR = [dsigma2dR(Pk, r) for r in R]\n",
    "    dRdMs = [dRdM(m_c, box, a) for m_c in M_numerics]\n",
    "    dlnσinvdM_2 = -1/2 *np.array([a/b*c for (a,b,c) in zip(dσ2dR, sigma2s, dRdMs)])\n",
    "    \n",
    "    f_dlnsinvdM_log = interp1d(np.log10(M_numerics), dlnsinvdM,kind='cubic')\n",
    "    f_dlnsinvdM = lambda x: f_dlnsinvdM_log(np.log10(x))\n",
    "\n",
    "    dlnσinvdMs[a] = f_dlnsinvdM\n",
    "    \n",
    "    f_M = np.logspace(np.log10(np.min(Ms)), np.log10(np.max(Ms)-1),100)\n",
    "    plt.plot(M_numerics, f_dlnsinvdM(M_numerics))\n",
    "    plt.plot(M_numerics, dlnsinvdM, 'x')\n",
    "    plt.plot(M_numerics, dlnσinvdM_2, 'o')\n",
    "\n",
    "    plt.xscale('log')\n",
    "    plt.yscale('log')\n",
    "print(len(N_data), len(M_data))\n",
    "for a in N_data:\n",
    "    N_data[a] = np.array(N_data[a])\n",
    "    M_data[a] = np.array(M_data[a])\n",
    "    print(N_data[a].shape, M_data[a].shape)"
   ]
  },
  {
   "cell_type": "code",
   "execution_count": 20,
   "id": "f67036b0",
   "metadata": {},
   "outputs": [],
   "source": [
    "from scipy.special import gamma\n",
    "from scipy.optimize import curve_fit\n",
    "from utils import *\n",
    "\n",
    "def p(a, p0, p1):\n",
    "    oup = (p0)+(a-0.5)*(p1)\n",
    "    return oup\n",
    "\n",
    "def B(a, M, σM, d, e, f, g):\n",
    "    oup = e**(d)*g**(-d/2)*gamma(d/2)\n",
    "    oup += g**(-f/2)*gamma(f/2)\n",
    "    oup = 2/oup\n",
    "    return oup\n",
    "    \n",
    "    \n",
    "def f_G(a, M, σM, d, e, f, g):\n",
    "    oup = B(a, M, σM, d, e, f, g)\n",
    "    oup *= ((σM/e)**(-d)+σM**(-f))\n",
    "    oup *= np.exp(-g/σM**2)\n",
    "    return oup\n",
    "\n",
    "def tinker(a, M, \n",
    "           d,e,f,g,\n",
    "           log10=False):    \n",
    "    R = M_to_R(M, box, a) #Mpc/h\n",
    "    σM = np.sqrt(sigma2(Pkz[a_to_z[a]], R))  #\n",
    "    oup = f_G(a, M, σM, d, e, f, g)\n",
    "    oup *= rhom_a(box, a)/M\n",
    "    oup *= dlnσinvdMs[a](M)\n",
    "    if(log10):\n",
    "        oup *= M*np.log(10)\n",
    "    return oup/h**4 #h4 to fix units"
   ]
  },
  {
   "cell_type": "code",
   "execution_count": 21,
   "id": "472ddb1b",
   "metadata": {},
   "outputs": [],
   "source": [
    "from utils import *"
   ]
  },
  {
   "cell_type": "code",
   "execution_count": 22,
   "id": "6d2acd4a",
   "metadata": {},
   "outputs": [
    {
     "name": "stdout",
     "output_type": "stream",
     "text": [
      "[0.25, 0.302679, 0.366459, 0.403224, 0.488191, 0.512095, 0.537169, 0.563471, 0.591061, 0.620002, 0.65036, 0.715608, 0.787402, 0.866399, 0.953321, 1.0]\n"
     ]
    }
   ],
   "source": [
    "a_list = list(NvMs.keys())\n",
    "print(a_list)"
   ]
  },
  {
   "cell_type": "code",
   "execution_count": 23,
   "id": "2b31551b",
   "metadata": {},
   "outputs": [],
   "source": [
    "from scipy.stats import poisson\n",
    "param_names = ['d',\n",
    "               'e',\n",
    "               'f', \n",
    "               'g',]\n",
    "FIXED_VALS = {}"
   ]
  },
  {
   "cell_type": "code",
   "execution_count": 24,
   "id": "06117461",
   "metadata": {},
   "outputs": [],
   "source": [
    "def log_prior(param_values):\n",
    "    #uniform prior\n",
    "    for param in param_values:\n",
    "        if(param< 0 or param>5):\n",
    "            return -np.inf\n",
    "    return 0"
   ]
  },
  {
   "cell_type": "code",
   "execution_count": 25,
   "id": "5696c03c",
   "metadata": {},
   "outputs": [],
   "source": [
    "M_numerics = np.logspace(np.log10(100*Mpart), 17, 50)"
   ]
  },
  {
   "cell_type": "code",
   "execution_count": 26,
   "id": "6302f160",
   "metadata": {},
   "outputs": [],
   "source": [
    "jackknife_covs_fname = '/oak/stanford/orgs/kipac/users/delon/aemulusnu_massfunction/'+box+'_jackknife_covs.pkl'\n",
    "jackknife_covs_f = open(jackknife_covs_fname, 'rb')\n",
    "jackknife = pickle.load(jackknife_covs_f)\n",
    "jackknife_covs_f.close()"
   ]
  },
  {
   "cell_type": "code",
   "execution_count": 27,
   "id": "77281bea",
   "metadata": {},
   "outputs": [],
   "source": [
    "def calculate_inner_product(X, K_X):\n",
    "    \"\"\"\n",
    "    Calculates -1/2 X^T (K_X)^(-1) X.\n",
    "    \n",
    "    Args:\n",
    "        X (np.ndarray): Input array of shape (n,).\n",
    "        K_X (np.ndarray): Input array of shape (n, n).\n",
    "        \n",
    "    Returns:\n",
    "        float: Resulting scalar value.\n",
    "    \"\"\"\n",
    "    # Ensure X and K_X have compatible shapes\n",
    "    assert X.shape[0] == K_X.shape[0], \"Number of rows in X must be equal to the number of rows in K_X\"\n",
    "    assert K_X.shape[0] == K_X.shape[1], \"K_X must be a square matrix\"\n",
    "    \n",
    "    # Calculate (K_X)^(-1)\n",
    "    K_X_inv = np.linalg.inv(K_X)\n",
    "    \n",
    "    # Calculate X^T (K_X)^(-1) X\n",
    "    inner_product = -0.5 * np.dot(np.dot(X.T, K_X_inv), X)\n",
    "    \n",
    "    return inner_product\n",
    "\n",
    "def log_prob(param_values):   \n",
    "    \"\"\"\n",
    "    Calculates the probability of the given tinker parameters \n",
    "    \n",
    "    Args:\n",
    "        param_values (np.ndarray): Input array of shape (number of params).\n",
    "        \n",
    "    Returns:\n",
    "        float: Resulting log probability\n",
    "    \"\"\"\n",
    "\n",
    "    if(log_prior(param_values) == -np.inf):\n",
    "        return -np.inf\n",
    "    \n",
    "    params = dict(zip(param_names, param_values))\n",
    "    tinker_fs = {}\n",
    "    \n",
    "    for a in N_data:\n",
    "        tinker_eval = [tinker(a, M_c,**params,)*vol for M_c in M_numerics]\n",
    "        f_dndlogM = interp1d(M_numerics, tinker_eval, kind='linear', bounds_error=False, fill_value=0.)\n",
    "        tinker_fs[a] = f_dndlogM\n",
    "        \n",
    "    model_vals = {}\n",
    "    for a in N_data:\n",
    "#         if(a_to_z[a] >=2):\n",
    "# #             print(1)\n",
    "#             continue\n",
    "        model_vals[a] = np.array([quad(tinker_fs[a], edge_pair[0], edge_pair[1], epsabs=1e-1)[0]\n",
    "            for edge_pair in NvMs[a]['edge_pairs']\n",
    "        ])\n",
    "    \n",
    "        \n",
    "    log_probs = [calculate_inner_product(model_vals[a]-N_data[a], jackknife[a][1]) for a in model_vals]\n",
    "    if not np.isfinite(np.sum(log_probs)): \n",
    "        return -np.inf\n",
    "    return np.sum(log_probs)"
   ]
  },
  {
   "cell_type": "code",
   "execution_count": 28,
   "id": "b299a1f3",
   "metadata": {},
   "outputs": [],
   "source": [
    "def log_likelihood(param_values):\n",
    "    lp = log_prior(param_values)\n",
    "    if not np.isfinite(lp):\n",
    "        return -1e22\n",
    "    return lp + log_prob(param_values)"
   ]
  },
  {
   "cell_type": "code",
   "execution_count": 29,
   "id": "d230a710",
   "metadata": {},
   "outputs": [],
   "source": [
    "from utils import *\n",
    "guess = np.random.uniform(size=(len(param_names)))\n",
    "while(not np.isfinite(log_likelihood(guess))):\n",
    "    guess = np.random.uniform(size=(len(param_names)))\n",
    "\n",
    "#Start by sampling with a maximum likelihood approach\n",
    "from scipy import optimize as optimize\n",
    "nll = lambda *args: -log_likelihood(*args)\n",
    "result = optimize.minimize(nll, guess)"
   ]
  },
  {
   "cell_type": "code",
   "execution_count": 30,
   "id": "86d5e52e",
   "metadata": {},
   "outputs": [
    {
     "name": "stdout",
     "output_type": "stream",
     "text": [
      "  message: Desired error not necessarily achieved due to precision loss.\n",
      "  success: False\n",
      "   status: 2\n",
      "      fun: 82827.25029575745\n",
      "        x: [ 1.620e+00  4.988e+00  4.759e-02  9.688e-01]\n",
      "      nit: 45\n",
      "      jac: [-1.599e+04 -1.873e+04 -1.375e+06 -5.423e+04]\n",
      " hess_inv: [[ 6.066e-07 -6.508e-06  5.593e-08  2.288e-07]\n",
      "            [-6.508e-06  1.257e-04 -1.332e-06 -1.354e-06]\n",
      "            [ 5.593e-08 -1.332e-06  1.492e-08  5.634e-09]\n",
      "            [ 2.288e-07 -1.354e-06  5.634e-09  1.353e-07]]\n",
      "     nfev: 496\n",
      "     njev: 96\n",
      "[1.61991347 4.98812345 0.04759363 0.96879581]\n"
     ]
    }
   ],
   "source": [
    "print(result)\n",
    "print(result['x'])\n",
    "MLE_params = dict(zip(param_names, result['x']))"
   ]
  },
  {
   "cell_type": "code",
   "execution_count": 31,
   "id": "a3b0e211",
   "metadata": {},
   "outputs": [
    {
     "name": "stderr",
     "output_type": "stream",
     "text": [
      "/home/users/delon/aemulusnu_massfunction/utils.py:65: IntegrationWarning: The maximum number of subdivisions (50) has been achieved.\n",
      "  If increasing the limit yields no improvement it is advised to analyze \n",
      "  the integrand in order to determine the difficulties.  If the position of a \n",
      "  local difficulty can be determined (singularity, discontinuity) one will \n",
      "  probably gain from splitting up the interval and calling the integrator \n",
      "  on the subranges.  Perhaps a special-purpose integrator should be used.\n",
      "  res, err = quad(dσ2dk, 0, 20 / R)\n"
     ]
    },
    {
     "data": {
      "image/png": "[encoded data removed]",
      "text/plain": [
       "<Figure size 936x1152 with 2 Axes>"
      ]
     },
     "metadata": {
      "needs_background": "light"
     },
     "output_type": "display_data"
    }
   ],
   "source": [
    "from scipy.interpolate import interp1d\n",
    "i=0\n",
    "for a in N_data:\n",
    "    z = a_to_z[a]\n",
    "    \n",
    "    fig, axs = plt.subplots(nrows=2, ncols=1, sharex=True, figsize=(13,16))\n",
    "    plt.subplots_adjust(wspace=0, hspace=0)\n",
    "    Pk = Pkz[z]\n",
    "    c_data = NvMs[a]\n",
    "    \n",
    "    Ms = M_data[a]\n",
    "    N = N_data[a]\n",
    "    edge_pairs = c_data['edge_pairs']\n",
    "    \n",
    "    edges = [edge[0] for edge in edge_pairs]\n",
    "    edges += [edge_pairs[-1][1]]\n",
    "\n",
    "\n",
    "\n",
    "    dM = np.array([edges[1]-edges[0] for edges in edge_pairs])\n",
    "    dndM = (N/vol)/dM\n",
    "\n",
    "    tinker_eval = [tinker(a, M_c,**MLE_params) for M_c in Ms]\n",
    "\n",
    "    axs[1].plot(Ms, dndM, 'x-', color='black', label='Data')\n",
    "    axs[1].plot(Ms, tinker_eval, 'o-', color='red', label='Tinker')\n",
    "\n",
    "\n",
    "\n",
    "    tinker_eval = [tinker(a, M_c,**MLE_params,)*vol for M_c in M_numerics]\n",
    "    \n",
    "    f_dndM = interp1d(M_numerics, tinker_eval, kind='linear', bounds_error=False, fill_value=0.)\n",
    "    \n",
    "    tinker_eval = np.array([quad(f_dndM, edge[0],  edge[1])[0] for edge in edge_pairs])\n",
    "\n",
    "    color = plt.colormaps[\"rainbow\"]((i+1)/len(Pkz.keys()))[:-1]\n",
    "\n",
    "    \n",
    "    edge_centers = [np.sqrt(edge[0]*edge[1]) for edge in edge_pairs]\n",
    "    \n",
    "    axs[0].scatter(Ms, N, s=50, marker='x', c='black')\n",
    "    axs[0].scatter(edge_centers, tinker_eval, s=50 , marker='o', c='red')\n",
    "    \n",
    "    axs[0].bar(x=edges[:-1], height=N, width=np.diff(edges), align='edge', fill=False, ec='black', label='Data')\n",
    "    axs[0].bar(x=edges[:-1], height=tinker_eval, width=np.diff(edges), align='edge', fill=False, ec='red', label='Tinker')\n",
    "\n",
    "    axs[0].set_xscale('log')\n",
    "    axs[0].set_yscale('log')\n",
    "    axs[0].legend(frameon=False)\n",
    "    axs[0].set_ylabel('N')\n",
    "\n",
    "    axs[1].set_xscale('log')\n",
    "    axs[1].set_yscale('log')\n",
    "    axs[1].legend(frameon=False)\n",
    "    axs[1].set_ylabel('N')\n",
    "    axs[1].set_xlabel(r'Mass $[h^{-1}M_\\odot]$')\n",
    "    axs[1].set_ylabel(r'$dn/dM\\ [h^4{\\rm Mpc}^{-3}M_\\odot^{-1}]$')\n",
    "    axs[0].set_title('%s, a=%.2f'%(box, a))\n",
    "    i+=1\n",
    "#     plt.savefig('figures/%s_MLFits_a%.2f.pdf'%(box, a), bbox_inches='tight')\n",
    "    plt.show()\n"
   ]
  },
  {
   "cell_type": "markdown",
   "id": "544a65de",
   "metadata": {},
   "source": [
    "nwalkers = 32\n",
    "ndim = len(param_names)\n",
    "\n",
    "initialpos = np.array([result['x'] for _ in range(nwalkers)]) + 1e-4 * np.random.normal(size=(nwalkers, ndim))"
   ]
  },
  {
   "cell_type": "markdown",
   "id": "9233a41e",
   "metadata": {},
   "source": [
    "print(initialpos)"
   ]
  },
  {
   "cell_type": "markdown",
   "id": "7e84ca31",
   "metadata": {},
   "source": [
    "from multiprocessing import Pool\n",
    "\n",
    "sampler = emcee.EnsembleSampler(\n",
    "    nwalkers = nwalkers,\n",
    "    ndim = ndim,\n",
    "    log_prob_fn = log_likelihood,\n",
    "    pool=Pool()\n",
    ")\n",
    "\n",
    "sampler.run_mcmc(initialpos, 1000, progress=True);"
   ]
  },
  {
   "cell_type": "markdown",
   "id": "7c1440fb",
   "metadata": {},
   "source": [
    "fig, axes = plt.subplots(ndim, figsize=(10, 30), sharex=True)\n",
    "samples = sampler.get_chain()\n",
    "labels = param_names\n",
    "\n",
    "for i in range(ndim):\n",
    "    ax = axes[i]\n",
    "    ax.plot(samples[:, :, i], \"k\", alpha=0.3)\n",
    "    ax.set_xlim(0, len(samples))\n",
    "    ax.set_ylabel(labels[i])\n",
    "    ax.yaxis.set_label_coords(-0.1, 0.5)\n",
    "\n",
    "axes[-1].set_xlabel(\"step number\");"
   ]
  },
  {
   "cell_type": "markdown",
   "id": "cfffc266",
   "metadata": {},
   "source": [
    "import corner\n",
    "samples = sampler.chain[:, 500:, :].reshape((-1, ndim))\n",
    "fig = corner.corner(samples, labels=labels)\n"
   ]
  },
  {
   "cell_type": "markdown",
   "id": "00c58d15",
   "metadata": {},
   "source": [
    "params_final = dict(zip(param_names,np.percentile(samples,  50,axis=0)))"
   ]
  },
  {
   "cell_type": "markdown",
   "id": "16ad64ce",
   "metadata": {},
   "source": [
    "print(params_final)"
   ]
  },
  {
   "cell_type": "markdown",
   "id": "662342f3",
   "metadata": {},
   "source": [
    "from scipy.interpolate import interp1d\n",
    "i=0\n",
    "for a in N_data:\n",
    "    z = a_to_z[a]\n",
    "    \n",
    "    fig, axs = plt.subplots(nrows=2, ncols=1, sharex=True, figsize=(13,16))\n",
    "    plt.subplots_adjust(wspace=0, hspace=0)\n",
    "    Pk = Pkz[z]\n",
    "    c_data = NvMs[a]\n",
    "    \n",
    "    Ms = c_data['M']\n",
    "    N = c_data['N']\n",
    "    edge_pairs = c_data['edge_pairs']\n",
    "    \n",
    "    edges = [edge[0] for edge in edge_pairs]\n",
    "    edges += [edge_pairs[-1][1]]\n",
    "\n",
    "\n",
    "\n",
    "    dM = np.array([edges[1]-edges[0] for edges in edge_pairs])\n",
    "    dndM = (N/vol)/dM\n",
    "\n",
    "    tinker_eval = [tinker(a, M_c,**params_final,) for M_c in Ms]\n",
    "\n",
    "    axs[1].plot(Ms, dndM, 'x-', color='black')\n",
    "    axs[1].plot(Ms, tinker_eval, 'o-', color='red')\n",
    "\n",
    "\n",
    "\n",
    "    tinker_eval = [tinker(a, M_c,**params_final,)*vol for M_c in M_numerics]\n",
    "    \n",
    "    f_dndM = interp1d(M_numerics, tinker_eval, kind='linear', bounds_error=False, fill_value=0.)\n",
    "    \n",
    "    tinker_eval = np.array([quad(f_dndM, edge[0],  edge[1])[0] for edge in edge_pairs])\n",
    "\n",
    "    color = plt.colormaps[\"rainbow\"]((i+1)/len(Pkz.keys()))[:-1]\n",
    "\n",
    "    \n",
    "    edge_centers = [np.sqrt(edge[0]*edge[1]) for edge in edge_pairs]\n",
    "    \n",
    "    axs[0].scatter(Ms, N, s=50, marker='x', c='black')\n",
    "    axs[0].scatter(edge_centers, tinker_eval, s=50 , marker='o', c='red')\n",
    "    \n",
    "    axs[0].bar(x=edges[:-1], height=N, width=np.diff(edges), align='edge', fill=False, ec='black', label='Data')\n",
    "    axs[0].bar(x=edges[:-1], height=tinker_eval, width=np.diff(edges), align='edge', fill=False, ec='red', label='Tinker')\n",
    "\n",
    "    axs[0].set_xscale('log')\n",
    "    axs[0].set_yscale('log')\n",
    "    axs[0].legend(frameon=False)\n",
    "    axs[0].set_ylabel('N')\n",
    "\n",
    "    axs[1].set_xscale('log')\n",
    "    axs[1].set_yscale('log')\n",
    "    axs[1].legend(frameon=False)\n",
    "    axs[1].set_ylabel('N')\n",
    "    axs[1].set_xlabel(r'Mass $[h^{-1}M_\\odot]$')\n",
    "    axs[1].set_ylabel(r'$dn/dM\\ [h^4{\\rm Mpc}^{-3}M_\\odot^{-1}]$')\n",
    "    axs[0].set_title('%s, a=%.1f'%(box, a))\n",
    "    i+=1\n",
    "#     plt.savefig('figures/%s_ML+MCMCFits_a%.1f.pdf'%(box, a), bbox_inches='tight')\n",
    "    plt.show()"
   ]
  },
  {
   "cell_type": "code",
   "execution_count": null,
   "id": "37d1f07f",
   "metadata": {},
   "outputs": [],
   "source": []
  }
 ],
 "metadata": {
  "kernelspec": {
   "display_name": "massfunction",
   "language": "python",
   "name": "massfunction"
  },
  "language_info": {
   "codemirror_mode": {
    "name": "ipython",
    "version": 3
   },
   "file_extension": ".py",
   "mimetype": "text/x-python",
   "name": "python",
   "nbconvert_exporter": "python",
   "pygments_lexer": "ipython3",
   "version": "3.9.16"
  }
 },
 "nbformat": 4,
 "nbformat_minor": 5
}
