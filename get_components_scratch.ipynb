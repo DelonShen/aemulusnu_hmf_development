{
 "cells": [
  {
   "cell_type": "code",
   "execution_count": 1,
   "id": "3850a6ba",
   "metadata": {},
   "outputs": [],
   "source": [
    "%load_ext autoreload\n",
    "%autoreload 2"
   ]
  },
  {
   "cell_type": "code",
   "execution_count": 2,
   "id": "dc312567",
   "metadata": {},
   "outputs": [
    {
     "name": "stdout",
     "output_type": "stream",
     "text": [
      "['As', 'ns', 'H0', 'w0', 'ombh2', 'omch2', 'nu_mass_ev', 'sigma']\n",
      "['As', 'ns', 'H0', 'w0', 'ombh2', 'omch2', 'nu_mass_ev', 'sigma']\n"
     ]
    }
   ],
   "source": [
    "import numpy as np\n",
    "\n",
    "boxf = open('boxlist', 'r')\n",
    "\n",
    "f = open('/home/users/delon/aemulus_nu/tier1_cosmos.txt', 'r')\n",
    "\n",
    "cols = f.readline().split()[1:]\n",
    "cols = [col[:-1] for col in cols]\n",
    "print(cols)\n",
    "cosmo_params = {}\n",
    "for line in f:\n",
    "    assert(len(cols) == len(line.strip().split()))\n",
    "    cur_vals = dict(zip(cols, np.array(line.strip().split(), dtype=np.float64)))\n",
    "    cosmo_params[boxf.readline().strip()] = cur_vals\n",
    "f.close()\n",
    "\n",
    "\n",
    "f = open('/home/users/delon/aemulus_nu/tier2_cosmos.txt', 'r')\n",
    "\n",
    "cols = f.readline().split()[1:]\n",
    "cols = [col[:-1] for col in cols]\n",
    "\n",
    "print(cols)\n",
    "for line in f:\n",
    "    assert(len(cols) == len(line.strip().split()))\n",
    "    cur_vals = dict(zip(cols, np.array(line.strip().split(), dtype=np.float64)))\n",
    "    cosmo_params[boxf.readline().strip()] = cur_vals\n",
    "f.close()\n",
    "\n",
    "boxf.close()\n",
    "\n",
    "import pickle\n",
    "\n",
    "oup_f = open('cosmo_params.pkl', 'wb')\n",
    "pickle.dump(cosmo_params, oup_f)\n",
    "oup_f.close()"
   ]
  },
  {
   "cell_type": "code",
   "execution_count": null,
   "id": "241c5645",
   "metadata": {},
   "outputs": [],
   "source": []
  },
  {
   "cell_type": "code",
   "execution_count": null,
   "id": "29566c55",
   "metadata": {},
   "outputs": [],
   "source": []
  },
  {
   "cell_type": "code",
   "execution_count": 3,
   "id": "5884f0ca",
   "metadata": {},
   "outputs": [],
   "source": [
    "G = 4.3009e-9 #km^2 Mpc/ (Msolar  s^2)\n",
    "\n",
    "def rhom_a(box, a):\n",
    "    cosmo_params = pickle.load(open('cosmo_params.pkl', 'rb'))\n",
    "    print(cosmo_params[box])\n",
    "    ombh2 = cosmo_params[box]['ombh2']\n",
    "    omch2 = cosmo_params[box]['omch2']\n",
    "    H0 = cosmo_params[box]['H0'] #[km s^-1 Mpc-1]\n",
    "    h = H0/100\n",
    "    \n",
    "    Ωm = ombh2/h**2 + omch2/h**2\n",
    "    ΩΛ = 1 - Ωm\n",
    "    ρcrit0 = 3*H0**2/(8*np.pi*G) # h^2 Msol/Mpc^3\n",
    "    \n",
    "    return Ωm*ρcrit0*(Ωm*a**(-3) + ΩΛ) \n",
    "    \n",
    "    "
   ]
  },
  {
   "cell_type": "code",
   "execution_count": 4,
   "id": "efe7f35b",
   "metadata": {},
   "outputs": [
    {
     "name": "stdout",
     "output_type": "stream",
     "text": [
      "{'As': 1.47405133, 'ns': 1.0094583, 'H0': 59.729599, 'w0': -1.35573566, 'ombh2': 0.0174071, 'omch2': 0.13311985, 'nu_mass_ev': 0.03654721, 'sigma': 0.78017733}\n"
     ]
    },
    {
     "data": {
      "text/plain": [
       "676991481259.3828"
      ]
     },
     "execution_count": 4,
     "metadata": {},
     "output_type": "execute_result"
    }
   ],
   "source": [
    "rhom_a('Box0_1400', .3)"
   ]
  },
  {
   "cell_type": "code",
   "execution_count": 5,
   "id": "84216540",
   "metadata": {},
   "outputs": [],
   "source": [
    "box = 'Box0_1400'\n",
    "Pk_fname = '/oak/stanford/orgs/kipac/users/delon/aemulusnu_massfunction/'+box+'_Pk.pkl'\n",
    "Pk_f = open(Pk_fname, 'rb')\n",
    "Pkz = pickle.load(Pk_f)\n",
    "Pk_f.close()"
   ]
  },
  {
   "cell_type": "code",
   "execution_count": 31,
   "id": "d897f5c6",
   "metadata": {},
   "outputs": [],
   "source": [
    "from utils import *"
   ]
  },
  {
   "cell_type": "code",
   "execution_count": 65,
   "id": "30fdd30f",
   "metadata": {},
   "outputs": [
    {
     "name": "stderr",
     "output_type": "stream",
     "text": [
      "  0%|          | 0/16 [00:01<?, ?it/s]"
     ]
    },
    {
     "name": "stdout",
     "output_type": "stream",
     "text": [
      "[-2.51675847e-08 -2.18610141e-08 -1.39505296e-08 -8.37922708e-09\n",
      " -4.91519637e-09 -2.86817694e-09 -1.68247083e-09 -9.80881812e-10\n",
      " -5.80880133e-10 -3.34270909e-10 -1.93940047e-10 -1.12192523e-10\n",
      " -6.47569523e-11 -3.72515812e-11 -2.13598393e-11 -1.22076176e-11\n",
      " -6.95089224e-12 -3.94072617e-12 -2.22469697e-12 -1.24993020e-12\n",
      " -6.98585841e-13 -3.88246023e-13 -2.14463085e-13 -1.17678550e-13\n",
      " -6.41241939e-14 -3.46890143e-14 -1.86172723e-14 -9.90903379e-15\n",
      " -6.37142425e-15]\n"
     ]
    },
    {
     "name": "stderr",
     "output_type": "stream",
     "text": [
      "\n"
     ]
    },
    {
     "data": {
      "image/png": "[encoded data removed]",
      "text/plain": [
       "<Figure size 432x288 with 1 Axes>"
      ]
     },
     "metadata": {
      "needs_background": "light"
     },
     "output_type": "display_data"
    }
   ],
   "source": [
    "import numpy as np\n",
    "from scipy.stats import binned_statistic\n",
    "from tqdm import tqdm\n",
    "from numpy import gradient\n",
    "\n",
    "for z in tqdm(Pkz):\n",
    "    a = redshiftToScale(z)\n",
    "    edges = np.logspace(np.log10(.9e11), np.log10(2e17), 30, 10.)\n",
    "    M = np.array([np.sqrt(edges[i]*edges[i+1]) for i in range(len(edges)-1)])\n",
    "    R = [M_to_R(m, box, a) for m in M]\n",
    "    sigma2s = [sigma2(Pkz[z], r) for r in R]\n",
    "    sigma = [np.sqrt(s2) for s2 in sigma2s]\n",
    "    sigmainv = [s**(-1) for s in sigma]\n",
    "\n",
    "    dsinvdM = np.gradient(sigmainv, M)\n",
    "    dlnsinvdM = dsinvdM*sigma\n",
    "    \n",
    "    print(dsigmadM)\n",
    "\n",
    "    plt.plot(M,dlnsinvdM)\n",
    "    plt.yscale('log')\n",
    "    plt.xscale('log')\n",
    "    break\n"
   ]
  },
  {
   "cell_type": "code",
   "execution_count": null,
   "id": "0fe12d8c",
   "metadata": {},
   "outputs": [],
   "source": []
  }
 ],
 "metadata": {
  "kernelspec": {
   "display_name": "massfunction",
   "language": "python",
   "name": "massfunction"
  },
  "language_info": {
   "codemirror_mode": {
    "name": "ipython",
    "version": 3
   },
   "file_extension": ".py",
   "mimetype": "text/x-python",
   "name": "python",
   "nbconvert_exporter": "python",
   "pygments_lexer": "ipython3",
   "version": "3.9.16"
  }
 },
 "nbformat": 4,
 "nbformat_minor": 5
}
